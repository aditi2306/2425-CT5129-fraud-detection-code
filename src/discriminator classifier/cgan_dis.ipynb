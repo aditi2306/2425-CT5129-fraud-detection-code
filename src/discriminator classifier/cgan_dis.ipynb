{
  "cells": [
    {
      "cell_type": "markdown",
      "source": [
        "#CGAN with Discriminator as classifier"
      ],
      "metadata": {
        "id": "EV_UwifxjSks"
      },
      "id": "EV_UwifxjSks"
    },
    {
      "cell_type": "markdown",
      "id": "95b87982",
      "metadata": {
        "id": "95b87982"
      },
      "source": [
        "## Importing Libraries"
      ]
    },
    {
      "cell_type": "code",
      "execution_count": null,
      "id": "cb2d1424",
      "metadata": {
        "id": "cb2d1424"
      },
      "outputs": [],
      "source": [
        "import os\n",
        "import keras\n",
        "import numpy as np\n",
        "import pandas as pd\n",
        "import seaborn as sns\n",
        "import plotly.express as px\n",
        "import plotly.graph_objects as go\n",
        "import matplotlib.pyplot as plt\n",
        "import lightgbm as lgb\n",
        "from sklearn.model_selection import train_test_split\n",
        "from sklearn.preprocessing import QuantileTransformer\n",
        "from sklearn.preprocessing import StandardScaler, MinMaxScaler\n",
        "from tensorflow.keras.layers import Input, Dense, Reshape, Flatten, Dropout, multiply, Concatenate\n",
        "from tensorflow.keras.layers import BatchNormalization, Activation, Embedding, ZeroPadding2D, LeakyReLU\n",
        "from tensorflow.keras.models import Sequential, Model\n",
        "from tensorflow.keras.optimizers import Adam, RMSprop\n",
        "from tensorflow.keras.initializers import RandomNormal\n",
        "import tensorflow.keras.backend as K\n",
        "from sklearn.utils import shuffle\n",
        "from sklearn.metrics import precision_score, recall_score, f1_score,\\\n",
        "                            accuracy_score, balanced_accuracy_score,classification_report,\\\n",
        "                            confusion_matrix,roc_auc_score,average_precision_score\n",
        "from lightgbm import LGBMClassifier"
      ]
    },
    {
      "cell_type": "code",
      "execution_count": null,
      "id": "QgenRhZYJcmv",
      "metadata": {
        "id": "QgenRhZYJcmv"
      },
      "outputs": [],
      "source": [
        "import tensorflow as tf\n",
        "tf.config.run_functions_eagerly(True)\n"
      ]
    },
    {
      "cell_type": "markdown",
      "id": "90a60195",
      "metadata": {
        "id": "90a60195"
      },
      "source": [
        "## EDA"
      ]
    },
    {
      "cell_type": "code",
      "execution_count": null,
      "id": "79bf21d7",
      "metadata": {
        "colab": {
          "base_uri": "https://localhost:8080/"
        },
        "id": "79bf21d7",
        "outputId": "439eda5b-56a2-4fa1-e2d1-dcda140caa19"
      },
      "outputs": [
        {
          "output_type": "stream",
          "name": "stdout",
          "text": [
            "<class 'pandas.core.frame.DataFrame'>\n",
            "RangeIndex: 284807 entries, 0 to 284806\n",
            "Data columns (total 30 columns):\n",
            " #   Column  Non-Null Count   Dtype  \n",
            "---  ------  --------------   -----  \n",
            " 0   V1      284807 non-null  float64\n",
            " 1   V2      284807 non-null  float64\n",
            " 2   V3      284807 non-null  float64\n",
            " 3   V4      284807 non-null  float64\n",
            " 4   V5      284807 non-null  float64\n",
            " 5   V6      284807 non-null  float64\n",
            " 6   V7      284807 non-null  float64\n",
            " 7   V8      284807 non-null  float64\n",
            " 8   V9      284807 non-null  float64\n",
            " 9   V10     284807 non-null  float64\n",
            " 10  V11     284807 non-null  float64\n",
            " 11  V12     284807 non-null  float64\n",
            " 12  V13     284807 non-null  float64\n",
            " 13  V14     284807 non-null  float64\n",
            " 14  V15     284807 non-null  float64\n",
            " 15  V16     284807 non-null  float64\n",
            " 16  V17     284807 non-null  float64\n",
            " 17  V18     284807 non-null  float64\n",
            " 18  V19     284807 non-null  float64\n",
            " 19  V20     284807 non-null  float64\n",
            " 20  V21     284807 non-null  float64\n",
            " 21  V22     284807 non-null  float64\n",
            " 22  V23     284807 non-null  float64\n",
            " 23  V24     284807 non-null  float64\n",
            " 24  V25     284807 non-null  float64\n",
            " 25  V26     284807 non-null  float64\n",
            " 26  V27     284807 non-null  float64\n",
            " 27  V28     284807 non-null  float64\n",
            " 28  Amount  284807 non-null  float64\n",
            " 29  Class   284807 non-null  int64  \n",
            "dtypes: float64(29), int64(1)\n",
            "memory usage: 65.2 MB\n"
          ]
        }
      ],
      "source": [
        "df=pd.read_csv('./creditcard.csv')\n",
        "df=df.drop('Time',axis=1)\n",
        "df.head()\n",
        "df.info()"
      ]
    },
    {
      "cell_type": "markdown",
      "id": "a828e2f8",
      "metadata": {
        "id": "a828e2f8"
      },
      "source": [
        "PCA Transformation: The description of the data says that all the features went through a PCA transformation (Except for time and amount).  \n",
        "Scaling: Keep in mind that in order to implement a PCA transformation features need to be previously scaled."
      ]
    },
    {
      "cell_type": "code",
      "execution_count": null,
      "id": "b13394f3",
      "metadata": {
        "colab": {
          "base_uri": "https://localhost:8080/",
          "height": 349
        },
        "id": "b13394f3",
        "outputId": "7a799681-147b-41fb-bf21-a79440f9d1dc"
      },
      "outputs": [
        {
          "output_type": "execute_result",
          "data": {
            "text/plain": [
              "                 V1            V2            V3            V4            V5  \\\n",
              "count  2.848070e+05  2.848070e+05  2.848070e+05  2.848070e+05  2.848070e+05   \n",
              "mean   1.168375e-15  3.416908e-16 -1.379537e-15  2.074095e-15  9.604066e-16   \n",
              "std    1.958696e+00  1.651309e+00  1.516255e+00  1.415869e+00  1.380247e+00   \n",
              "min   -5.640751e+01 -7.271573e+01 -4.832559e+01 -5.683171e+00 -1.137433e+02   \n",
              "25%   -9.203734e-01 -5.985499e-01 -8.903648e-01 -8.486401e-01 -6.915971e-01   \n",
              "50%    1.810880e-02  6.548556e-02  1.798463e-01 -1.984653e-02 -5.433583e-02   \n",
              "75%    1.315642e+00  8.037239e-01  1.027196e+00  7.433413e-01  6.119264e-01   \n",
              "max    2.454930e+00  2.205773e+01  9.382558e+00  1.687534e+01  3.480167e+01   \n",
              "\n",
              "                 V6            V7            V8            V9           V10  \\\n",
              "count  2.848070e+05  2.848070e+05  2.848070e+05  2.848070e+05  2.848070e+05   \n",
              "mean   1.487313e-15 -5.556467e-16  1.213481e-16 -2.406331e-15  2.239053e-15   \n",
              "std    1.332271e+00  1.237094e+00  1.194353e+00  1.098632e+00  1.088850e+00   \n",
              "min   -2.616051e+01 -4.355724e+01 -7.321672e+01 -1.343407e+01 -2.458826e+01   \n",
              "25%   -7.682956e-01 -5.540759e-01 -2.086297e-01 -6.430976e-01 -5.354257e-01   \n",
              "50%   -2.741871e-01  4.010308e-02  2.235804e-02 -5.142873e-02 -9.291738e-02   \n",
              "75%    3.985649e-01  5.704361e-01  3.273459e-01  5.971390e-01  4.539234e-01   \n",
              "max    7.330163e+01  1.205895e+02  2.000721e+01  1.559499e+01  2.374514e+01   \n",
              "\n",
              "       ...           V21           V22           V23           V24  \\\n",
              "count  ...  2.848070e+05  2.848070e+05  2.848070e+05  2.848070e+05   \n",
              "mean   ...  1.654067e-16 -3.568593e-16  2.578648e-16  4.473266e-15   \n",
              "std    ...  7.345240e-01  7.257016e-01  6.244603e-01  6.056471e-01   \n",
              "min    ... -3.483038e+01 -1.093314e+01 -4.480774e+01 -2.836627e+00   \n",
              "25%    ... -2.283949e-01 -5.423504e-01 -1.618463e-01 -3.545861e-01   \n",
              "50%    ... -2.945017e-02  6.781943e-03 -1.119293e-02  4.097606e-02   \n",
              "75%    ...  1.863772e-01  5.285536e-01  1.476421e-01  4.395266e-01   \n",
              "max    ...  2.720284e+01  1.050309e+01  2.252841e+01  4.584549e+00   \n",
              "\n",
              "                V25           V26           V27           V28         Amount  \\\n",
              "count  2.848070e+05  2.848070e+05  2.848070e+05  2.848070e+05  284807.000000   \n",
              "mean   5.340915e-16  1.683437e-15 -3.660091e-16 -1.227390e-16      88.349619   \n",
              "std    5.212781e-01  4.822270e-01  4.036325e-01  3.300833e-01     250.120109   \n",
              "min   -1.029540e+01 -2.604551e+00 -2.256568e+01 -1.543008e+01       0.000000   \n",
              "25%   -3.171451e-01 -3.269839e-01 -7.083953e-02 -5.295979e-02       5.600000   \n",
              "50%    1.659350e-02 -5.213911e-02  1.342146e-03  1.124383e-02      22.000000   \n",
              "75%    3.507156e-01  2.409522e-01  9.104512e-02  7.827995e-02      77.165000   \n",
              "max    7.519589e+00  3.517346e+00  3.161220e+01  3.384781e+01   25691.160000   \n",
              "\n",
              "               Class  \n",
              "count  284807.000000  \n",
              "mean        0.001727  \n",
              "std         0.041527  \n",
              "min         0.000000  \n",
              "25%         0.000000  \n",
              "50%         0.000000  \n",
              "75%         0.000000  \n",
              "max         1.000000  \n",
              "\n",
              "[8 rows x 30 columns]"
            ],
            "text/html": [
              "\n",
              "  <div id=\"df-a4a1107c-90a7-4f75-8784-ed6d3c6b94bb\" class=\"colab-df-container\">\n",
              "    <div>\n",
              "<style scoped>\n",
              "    .dataframe tbody tr th:only-of-type {\n",
              "        vertical-align: middle;\n",
              "    }\n",
              "\n",
              "    .dataframe tbody tr th {\n",
              "        vertical-align: top;\n",
              "    }\n",
              "\n",
              "    .dataframe thead th {\n",
              "        text-align: right;\n",
              "    }\n",
              "</style>\n",
              "<table border=\"1\" class=\"dataframe\">\n",
              "  <thead>\n",
              "    <tr style=\"text-align: right;\">\n",
              "      <th></th>\n",
              "      <th>V1</th>\n",
              "      <th>V2</th>\n",
              "      <th>V3</th>\n",
              "      <th>V4</th>\n",
              "      <th>V5</th>\n",
              "      <th>V6</th>\n",
              "      <th>V7</th>\n",
              "      <th>V8</th>\n",
              "      <th>V9</th>\n",
              "      <th>V10</th>\n",
              "      <th>...</th>\n",
              "      <th>V21</th>\n",
              "      <th>V22</th>\n",
              "      <th>V23</th>\n",
              "      <th>V24</th>\n",
              "      <th>V25</th>\n",
              "      <th>V26</th>\n",
              "      <th>V27</th>\n",
              "      <th>V28</th>\n",
              "      <th>Amount</th>\n",
              "      <th>Class</th>\n",
              "    </tr>\n",
              "  </thead>\n",
              "  <tbody>\n",
              "    <tr>\n",
              "      <th>count</th>\n",
              "      <td>2.848070e+05</td>\n",
              "      <td>2.848070e+05</td>\n",
              "      <td>2.848070e+05</td>\n",
              "      <td>2.848070e+05</td>\n",
              "      <td>2.848070e+05</td>\n",
              "      <td>2.848070e+05</td>\n",
              "      <td>2.848070e+05</td>\n",
              "      <td>2.848070e+05</td>\n",
              "      <td>2.848070e+05</td>\n",
              "      <td>2.848070e+05</td>\n",
              "      <td>...</td>\n",
              "      <td>2.848070e+05</td>\n",
              "      <td>2.848070e+05</td>\n",
              "      <td>2.848070e+05</td>\n",
              "      <td>2.848070e+05</td>\n",
              "      <td>2.848070e+05</td>\n",
              "      <td>2.848070e+05</td>\n",
              "      <td>2.848070e+05</td>\n",
              "      <td>2.848070e+05</td>\n",
              "      <td>284807.000000</td>\n",
              "      <td>284807.000000</td>\n",
              "    </tr>\n",
              "    <tr>\n",
              "      <th>mean</th>\n",
              "      <td>1.168375e-15</td>\n",
              "      <td>3.416908e-16</td>\n",
              "      <td>-1.379537e-15</td>\n",
              "      <td>2.074095e-15</td>\n",
              "      <td>9.604066e-16</td>\n",
              "      <td>1.487313e-15</td>\n",
              "      <td>-5.556467e-16</td>\n",
              "      <td>1.213481e-16</td>\n",
              "      <td>-2.406331e-15</td>\n",
              "      <td>2.239053e-15</td>\n",
              "      <td>...</td>\n",
              "      <td>1.654067e-16</td>\n",
              "      <td>-3.568593e-16</td>\n",
              "      <td>2.578648e-16</td>\n",
              "      <td>4.473266e-15</td>\n",
              "      <td>5.340915e-16</td>\n",
              "      <td>1.683437e-15</td>\n",
              "      <td>-3.660091e-16</td>\n",
              "      <td>-1.227390e-16</td>\n",
              "      <td>88.349619</td>\n",
              "      <td>0.001727</td>\n",
              "    </tr>\n",
              "    <tr>\n",
              "      <th>std</th>\n",
              "      <td>1.958696e+00</td>\n",
              "      <td>1.651309e+00</td>\n",
              "      <td>1.516255e+00</td>\n",
              "      <td>1.415869e+00</td>\n",
              "      <td>1.380247e+00</td>\n",
              "      <td>1.332271e+00</td>\n",
              "      <td>1.237094e+00</td>\n",
              "      <td>1.194353e+00</td>\n",
              "      <td>1.098632e+00</td>\n",
              "      <td>1.088850e+00</td>\n",
              "      <td>...</td>\n",
              "      <td>7.345240e-01</td>\n",
              "      <td>7.257016e-01</td>\n",
              "      <td>6.244603e-01</td>\n",
              "      <td>6.056471e-01</td>\n",
              "      <td>5.212781e-01</td>\n",
              "      <td>4.822270e-01</td>\n",
              "      <td>4.036325e-01</td>\n",
              "      <td>3.300833e-01</td>\n",
              "      <td>250.120109</td>\n",
              "      <td>0.041527</td>\n",
              "    </tr>\n",
              "    <tr>\n",
              "      <th>min</th>\n",
              "      <td>-5.640751e+01</td>\n",
              "      <td>-7.271573e+01</td>\n",
              "      <td>-4.832559e+01</td>\n",
              "      <td>-5.683171e+00</td>\n",
              "      <td>-1.137433e+02</td>\n",
              "      <td>-2.616051e+01</td>\n",
              "      <td>-4.355724e+01</td>\n",
              "      <td>-7.321672e+01</td>\n",
              "      <td>-1.343407e+01</td>\n",
              "      <td>-2.458826e+01</td>\n",
              "      <td>...</td>\n",
              "      <td>-3.483038e+01</td>\n",
              "      <td>-1.093314e+01</td>\n",
              "      <td>-4.480774e+01</td>\n",
              "      <td>-2.836627e+00</td>\n",
              "      <td>-1.029540e+01</td>\n",
              "      <td>-2.604551e+00</td>\n",
              "      <td>-2.256568e+01</td>\n",
              "      <td>-1.543008e+01</td>\n",
              "      <td>0.000000</td>\n",
              "      <td>0.000000</td>\n",
              "    </tr>\n",
              "    <tr>\n",
              "      <th>25%</th>\n",
              "      <td>-9.203734e-01</td>\n",
              "      <td>-5.985499e-01</td>\n",
              "      <td>-8.903648e-01</td>\n",
              "      <td>-8.486401e-01</td>\n",
              "      <td>-6.915971e-01</td>\n",
              "      <td>-7.682956e-01</td>\n",
              "      <td>-5.540759e-01</td>\n",
              "      <td>-2.086297e-01</td>\n",
              "      <td>-6.430976e-01</td>\n",
              "      <td>-5.354257e-01</td>\n",
              "      <td>...</td>\n",
              "      <td>-2.283949e-01</td>\n",
              "      <td>-5.423504e-01</td>\n",
              "      <td>-1.618463e-01</td>\n",
              "      <td>-3.545861e-01</td>\n",
              "      <td>-3.171451e-01</td>\n",
              "      <td>-3.269839e-01</td>\n",
              "      <td>-7.083953e-02</td>\n",
              "      <td>-5.295979e-02</td>\n",
              "      <td>5.600000</td>\n",
              "      <td>0.000000</td>\n",
              "    </tr>\n",
              "    <tr>\n",
              "      <th>50%</th>\n",
              "      <td>1.810880e-02</td>\n",
              "      <td>6.548556e-02</td>\n",
              "      <td>1.798463e-01</td>\n",
              "      <td>-1.984653e-02</td>\n",
              "      <td>-5.433583e-02</td>\n",
              "      <td>-2.741871e-01</td>\n",
              "      <td>4.010308e-02</td>\n",
              "      <td>2.235804e-02</td>\n",
              "      <td>-5.142873e-02</td>\n",
              "      <td>-9.291738e-02</td>\n",
              "      <td>...</td>\n",
              "      <td>-2.945017e-02</td>\n",
              "      <td>6.781943e-03</td>\n",
              "      <td>-1.119293e-02</td>\n",
              "      <td>4.097606e-02</td>\n",
              "      <td>1.659350e-02</td>\n",
              "      <td>-5.213911e-02</td>\n",
              "      <td>1.342146e-03</td>\n",
              "      <td>1.124383e-02</td>\n",
              "      <td>22.000000</td>\n",
              "      <td>0.000000</td>\n",
              "    </tr>\n",
              "    <tr>\n",
              "      <th>75%</th>\n",
              "      <td>1.315642e+00</td>\n",
              "      <td>8.037239e-01</td>\n",
              "      <td>1.027196e+00</td>\n",
              "      <td>7.433413e-01</td>\n",
              "      <td>6.119264e-01</td>\n",
              "      <td>3.985649e-01</td>\n",
              "      <td>5.704361e-01</td>\n",
              "      <td>3.273459e-01</td>\n",
              "      <td>5.971390e-01</td>\n",
              "      <td>4.539234e-01</td>\n",
              "      <td>...</td>\n",
              "      <td>1.863772e-01</td>\n",
              "      <td>5.285536e-01</td>\n",
              "      <td>1.476421e-01</td>\n",
              "      <td>4.395266e-01</td>\n",
              "      <td>3.507156e-01</td>\n",
              "      <td>2.409522e-01</td>\n",
              "      <td>9.104512e-02</td>\n",
              "      <td>7.827995e-02</td>\n",
              "      <td>77.165000</td>\n",
              "      <td>0.000000</td>\n",
              "    </tr>\n",
              "    <tr>\n",
              "      <th>max</th>\n",
              "      <td>2.454930e+00</td>\n",
              "      <td>2.205773e+01</td>\n",
              "      <td>9.382558e+00</td>\n",
              "      <td>1.687534e+01</td>\n",
              "      <td>3.480167e+01</td>\n",
              "      <td>7.330163e+01</td>\n",
              "      <td>1.205895e+02</td>\n",
              "      <td>2.000721e+01</td>\n",
              "      <td>1.559499e+01</td>\n",
              "      <td>2.374514e+01</td>\n",
              "      <td>...</td>\n",
              "      <td>2.720284e+01</td>\n",
              "      <td>1.050309e+01</td>\n",
              "      <td>2.252841e+01</td>\n",
              "      <td>4.584549e+00</td>\n",
              "      <td>7.519589e+00</td>\n",
              "      <td>3.517346e+00</td>\n",
              "      <td>3.161220e+01</td>\n",
              "      <td>3.384781e+01</td>\n",
              "      <td>25691.160000</td>\n",
              "      <td>1.000000</td>\n",
              "    </tr>\n",
              "  </tbody>\n",
              "</table>\n",
              "<p>8 rows × 30 columns</p>\n",
              "</div>\n",
              "    <div class=\"colab-df-buttons\">\n",
              "\n",
              "  <div class=\"colab-df-container\">\n",
              "    <button class=\"colab-df-convert\" onclick=\"convertToInteractive('df-a4a1107c-90a7-4f75-8784-ed6d3c6b94bb')\"\n",
              "            title=\"Convert this dataframe to an interactive table.\"\n",
              "            style=\"display:none;\">\n",
              "\n",
              "  <svg xmlns=\"http://www.w3.org/2000/svg\" height=\"24px\" viewBox=\"0 -960 960 960\">\n",
              "    <path d=\"M120-120v-720h720v720H120Zm60-500h600v-160H180v160Zm220 220h160v-160H400v160Zm0 220h160v-160H400v160ZM180-400h160v-160H180v160Zm440 0h160v-160H620v160ZM180-180h160v-160H180v160Zm440 0h160v-160H620v160Z\"/>\n",
              "  </svg>\n",
              "    </button>\n",
              "\n",
              "  <style>\n",
              "    .colab-df-container {\n",
              "      display:flex;\n",
              "      gap: 12px;\n",
              "    }\n",
              "\n",
              "    .colab-df-convert {\n",
              "      background-color: #E8F0FE;\n",
              "      border: none;\n",
              "      border-radius: 50%;\n",
              "      cursor: pointer;\n",
              "      display: none;\n",
              "      fill: #1967D2;\n",
              "      height: 32px;\n",
              "      padding: 0 0 0 0;\n",
              "      width: 32px;\n",
              "    }\n",
              "\n",
              "    .colab-df-convert:hover {\n",
              "      background-color: #E2EBFA;\n",
              "      box-shadow: 0px 1px 2px rgba(60, 64, 67, 0.3), 0px 1px 3px 1px rgba(60, 64, 67, 0.15);\n",
              "      fill: #174EA6;\n",
              "    }\n",
              "\n",
              "    .colab-df-buttons div {\n",
              "      margin-bottom: 4px;\n",
              "    }\n",
              "\n",
              "    [theme=dark] .colab-df-convert {\n",
              "      background-color: #3B4455;\n",
              "      fill: #D2E3FC;\n",
              "    }\n",
              "\n",
              "    [theme=dark] .colab-df-convert:hover {\n",
              "      background-color: #434B5C;\n",
              "      box-shadow: 0px 1px 3px 1px rgba(0, 0, 0, 0.15);\n",
              "      filter: drop-shadow(0px 1px 2px rgba(0, 0, 0, 0.3));\n",
              "      fill: #FFFFFF;\n",
              "    }\n",
              "  </style>\n",
              "\n",
              "    <script>\n",
              "      const buttonEl =\n",
              "        document.querySelector('#df-a4a1107c-90a7-4f75-8784-ed6d3c6b94bb button.colab-df-convert');\n",
              "      buttonEl.style.display =\n",
              "        google.colab.kernel.accessAllowed ? 'block' : 'none';\n",
              "\n",
              "      async function convertToInteractive(key) {\n",
              "        const element = document.querySelector('#df-a4a1107c-90a7-4f75-8784-ed6d3c6b94bb');\n",
              "        const dataTable =\n",
              "          await google.colab.kernel.invokeFunction('convertToInteractive',\n",
              "                                                    [key], {});\n",
              "        if (!dataTable) return;\n",
              "\n",
              "        const docLinkHtml = 'Like what you see? Visit the ' +\n",
              "          '<a target=\"_blank\" href=https://colab.research.google.com/notebooks/data_table.ipynb>data table notebook</a>'\n",
              "          + ' to learn more about interactive tables.';\n",
              "        element.innerHTML = '';\n",
              "        dataTable['output_type'] = 'display_data';\n",
              "        await google.colab.output.renderOutput(dataTable, element);\n",
              "        const docLink = document.createElement('div');\n",
              "        docLink.innerHTML = docLinkHtml;\n",
              "        element.appendChild(docLink);\n",
              "      }\n",
              "    </script>\n",
              "  </div>\n",
              "\n",
              "\n",
              "    <div id=\"df-6ea78bcd-e285-4bb0-9b22-90543fc8c5d1\">\n",
              "      <button class=\"colab-df-quickchart\" onclick=\"quickchart('df-6ea78bcd-e285-4bb0-9b22-90543fc8c5d1')\"\n",
              "                title=\"Suggest charts\"\n",
              "                style=\"display:none;\">\n",
              "\n",
              "<svg xmlns=\"http://www.w3.org/2000/svg\" height=\"24px\"viewBox=\"0 0 24 24\"\n",
              "     width=\"24px\">\n",
              "    <g>\n",
              "        <path d=\"M19 3H5c-1.1 0-2 .9-2 2v14c0 1.1.9 2 2 2h14c1.1 0 2-.9 2-2V5c0-1.1-.9-2-2-2zM9 17H7v-7h2v7zm4 0h-2V7h2v10zm4 0h-2v-4h2v4z\"/>\n",
              "    </g>\n",
              "</svg>\n",
              "      </button>\n",
              "\n",
              "<style>\n",
              "  .colab-df-quickchart {\n",
              "      --bg-color: #E8F0FE;\n",
              "      --fill-color: #1967D2;\n",
              "      --hover-bg-color: #E2EBFA;\n",
              "      --hover-fill-color: #174EA6;\n",
              "      --disabled-fill-color: #AAA;\n",
              "      --disabled-bg-color: #DDD;\n",
              "  }\n",
              "\n",
              "  [theme=dark] .colab-df-quickchart {\n",
              "      --bg-color: #3B4455;\n",
              "      --fill-color: #D2E3FC;\n",
              "      --hover-bg-color: #434B5C;\n",
              "      --hover-fill-color: #FFFFFF;\n",
              "      --disabled-bg-color: #3B4455;\n",
              "      --disabled-fill-color: #666;\n",
              "  }\n",
              "\n",
              "  .colab-df-quickchart {\n",
              "    background-color: var(--bg-color);\n",
              "    border: none;\n",
              "    border-radius: 50%;\n",
              "    cursor: pointer;\n",
              "    display: none;\n",
              "    fill: var(--fill-color);\n",
              "    height: 32px;\n",
              "    padding: 0;\n",
              "    width: 32px;\n",
              "  }\n",
              "\n",
              "  .colab-df-quickchart:hover {\n",
              "    background-color: var(--hover-bg-color);\n",
              "    box-shadow: 0 1px 2px rgba(60, 64, 67, 0.3), 0 1px 3px 1px rgba(60, 64, 67, 0.15);\n",
              "    fill: var(--button-hover-fill-color);\n",
              "  }\n",
              "\n",
              "  .colab-df-quickchart-complete:disabled,\n",
              "  .colab-df-quickchart-complete:disabled:hover {\n",
              "    background-color: var(--disabled-bg-color);\n",
              "    fill: var(--disabled-fill-color);\n",
              "    box-shadow: none;\n",
              "  }\n",
              "\n",
              "  .colab-df-spinner {\n",
              "    border: 2px solid var(--fill-color);\n",
              "    border-color: transparent;\n",
              "    border-bottom-color: var(--fill-color);\n",
              "    animation:\n",
              "      spin 1s steps(1) infinite;\n",
              "  }\n",
              "\n",
              "  @keyframes spin {\n",
              "    0% {\n",
              "      border-color: transparent;\n",
              "      border-bottom-color: var(--fill-color);\n",
              "      border-left-color: var(--fill-color);\n",
              "    }\n",
              "    20% {\n",
              "      border-color: transparent;\n",
              "      border-left-color: var(--fill-color);\n",
              "      border-top-color: var(--fill-color);\n",
              "    }\n",
              "    30% {\n",
              "      border-color: transparent;\n",
              "      border-left-color: var(--fill-color);\n",
              "      border-top-color: var(--fill-color);\n",
              "      border-right-color: var(--fill-color);\n",
              "    }\n",
              "    40% {\n",
              "      border-color: transparent;\n",
              "      border-right-color: var(--fill-color);\n",
              "      border-top-color: var(--fill-color);\n",
              "    }\n",
              "    60% {\n",
              "      border-color: transparent;\n",
              "      border-right-color: var(--fill-color);\n",
              "    }\n",
              "    80% {\n",
              "      border-color: transparent;\n",
              "      border-right-color: var(--fill-color);\n",
              "      border-bottom-color: var(--fill-color);\n",
              "    }\n",
              "    90% {\n",
              "      border-color: transparent;\n",
              "      border-bottom-color: var(--fill-color);\n",
              "    }\n",
              "  }\n",
              "</style>\n",
              "\n",
              "      <script>\n",
              "        async function quickchart(key) {\n",
              "          const quickchartButtonEl =\n",
              "            document.querySelector('#' + key + ' button');\n",
              "          quickchartButtonEl.disabled = true;  // To prevent multiple clicks.\n",
              "          quickchartButtonEl.classList.add('colab-df-spinner');\n",
              "          try {\n",
              "            const charts = await google.colab.kernel.invokeFunction(\n",
              "                'suggestCharts', [key], {});\n",
              "          } catch (error) {\n",
              "            console.error('Error during call to suggestCharts:', error);\n",
              "          }\n",
              "          quickchartButtonEl.classList.remove('colab-df-spinner');\n",
              "          quickchartButtonEl.classList.add('colab-df-quickchart-complete');\n",
              "        }\n",
              "        (() => {\n",
              "          let quickchartButtonEl =\n",
              "            document.querySelector('#df-6ea78bcd-e285-4bb0-9b22-90543fc8c5d1 button');\n",
              "          quickchartButtonEl.style.display =\n",
              "            google.colab.kernel.accessAllowed ? 'block' : 'none';\n",
              "        })();\n",
              "      </script>\n",
              "    </div>\n",
              "\n",
              "    </div>\n",
              "  </div>\n"
            ],
            "application/vnd.google.colaboratory.intrinsic+json": {
              "type": "dataframe"
            }
          },
          "metadata": {},
          "execution_count": 7
        }
      ],
      "source": [
        "df.describe()"
      ]
    },
    {
      "cell_type": "code",
      "execution_count": null,
      "id": "306b3e6f",
      "metadata": {
        "colab": {
          "base_uri": "https://localhost:8080/"
        },
        "id": "306b3e6f",
        "outputId": "53578c81-587b-48c5-c487-bef993015468"
      },
      "outputs": [
        {
          "output_type": "stream",
          "name": "stdout",
          "text": [
            "Dataset has 9144 duplicate rows\n"
          ]
        }
      ],
      "source": [
        "# checking for duplicate values\n",
        "print(f\"Dataset has {df.duplicated().sum()} duplicate rows\")\n",
        "# dropping duplicate rows\n",
        "df.drop_duplicates(inplace=True)"
      ]
    },
    {
      "cell_type": "code",
      "execution_count": null,
      "id": "8b2f4c06",
      "metadata": {
        "colab": {
          "base_uri": "https://localhost:8080/"
        },
        "id": "8b2f4c06",
        "outputId": "7bb45965-b1f3-48f1-c116-c0590e13d46a"
      },
      "outputs": [
        {
          "output_type": "stream",
          "name": "stdout",
          "text": [
            "<class 'pandas.core.frame.DataFrame'>\n",
            "Index: 275663 entries, 0 to 284806\n",
            "Data columns (total 30 columns):\n",
            " #   Column  Non-Null Count   Dtype  \n",
            "---  ------  --------------   -----  \n",
            " 0   V1      275663 non-null  float64\n",
            " 1   V2      275663 non-null  float64\n",
            " 2   V3      275663 non-null  float64\n",
            " 3   V4      275663 non-null  float64\n",
            " 4   V5      275663 non-null  float64\n",
            " 5   V6      275663 non-null  float64\n",
            " 6   V7      275663 non-null  float64\n",
            " 7   V8      275663 non-null  float64\n",
            " 8   V9      275663 non-null  float64\n",
            " 9   V10     275663 non-null  float64\n",
            " 10  V11     275663 non-null  float64\n",
            " 11  V12     275663 non-null  float64\n",
            " 12  V13     275663 non-null  float64\n",
            " 13  V14     275663 non-null  float64\n",
            " 14  V15     275663 non-null  float64\n",
            " 15  V16     275663 non-null  float64\n",
            " 16  V17     275663 non-null  float64\n",
            " 17  V18     275663 non-null  float64\n",
            " 18  V19     275663 non-null  float64\n",
            " 19  V20     275663 non-null  float64\n",
            " 20  V21     275663 non-null  float64\n",
            " 21  V22     275663 non-null  float64\n",
            " 22  V23     275663 non-null  float64\n",
            " 23  V24     275663 non-null  float64\n",
            " 24  V25     275663 non-null  float64\n",
            " 25  V26     275663 non-null  float64\n",
            " 26  V27     275663 non-null  float64\n",
            " 27  V28     275663 non-null  float64\n",
            " 28  Amount  275663 non-null  float64\n",
            " 29  Class   275663 non-null  int64  \n",
            "dtypes: float64(29), int64(1)\n",
            "memory usage: 65.2 MB\n"
          ]
        }
      ],
      "source": [
        "df.info()"
      ]
    },
    {
      "cell_type": "markdown",
      "id": "c5128908",
      "metadata": {
        "id": "c5128908"
      },
      "source": [
        "There is no null values"
      ]
    },
    {
      "cell_type": "code",
      "execution_count": null,
      "id": "9d6c996a",
      "metadata": {
        "colab": {
          "base_uri": "https://localhost:8080/"
        },
        "id": "9d6c996a",
        "outputId": "29fbb4c3-6d3f-49ed-8961-029477ceeac9"
      },
      "outputs": [
        {
          "output_type": "stream",
          "name": "stdout",
          "text": [
            "No Frauds 99.83 % of the dataset\n",
            "Frauds 0.17 % of the dataset\n"
          ]
        }
      ],
      "source": [
        "print('No Frauds', round(df['Class'].value_counts()[0]/len(df) * 100,2), '% of the dataset')\n",
        "print('Frauds', round(df['Class'].value_counts()[1]/len(df) * 100,2), '% of the dataset')"
      ]
    },
    {
      "cell_type": "code",
      "execution_count": null,
      "id": "d88ad047",
      "metadata": {
        "colab": {
          "base_uri": "https://localhost:8080/",
          "height": 466
        },
        "id": "d88ad047",
        "outputId": "75b9a9aa-a328-404b-ad21-228fd917d5c4"
      },
      "outputs": [
        {
          "output_type": "execute_result",
          "data": {
            "text/plain": [
              "<Axes: xlabel='Class', ylabel='count'>"
            ]
          },
          "metadata": {},
          "execution_count": 11
        },
        {
          "output_type": "display_data",
          "data": {
            "text/plain": [
              "<Figure size 640x480 with 1 Axes>"
            ],
            "image/png": "[encoded data removed]"
          },
          "metadata": {}
        }
      ],
      "source": [
        "sns.countplot(data=df,x='Class')"
      ]
    },
    {
      "cell_type": "code",
      "execution_count": null,
      "id": "30728ee8",
      "metadata": {
        "colab": {
          "base_uri": "https://localhost:8080/",
          "height": 993
        },
        "id": "30728ee8",
        "outputId": "34562149-810b-49ec-bd83-bc903ca6e1fe"
      },
      "outputs": [
        {
          "output_type": "execute_result",
          "data": {
            "text/plain": [
              "V1        -3.273070\n",
              "V2        -4.653486\n",
              "V3        -2.216730\n",
              "V4         0.681387\n",
              "V5        -2.458790\n",
              "V6         1.867576\n",
              "V7         2.877722\n",
              "V8        -8.292631\n",
              "V9         0.550965\n",
              "V10        1.242165\n",
              "V11        0.347772\n",
              "V12       -2.208171\n",
              "V13        0.061058\n",
              "V14       -1.953613\n",
              "V15       -0.295836\n",
              "V16       -1.048371\n",
              "V17       -3.802987\n",
              "V18       -0.255710\n",
              "V19        0.115957\n",
              "V20       -2.045060\n",
              "V21        2.784302\n",
              "V22       -0.200868\n",
              "V23       -5.805236\n",
              "V24       -0.545636\n",
              "V25       -0.408260\n",
              "V26        0.587603\n",
              "V27       -0.745732\n",
              "V28       11.400938\n",
              "Amount    16.841622\n",
              "dtype: float64"
            ],
            "text/html": [
              "<div>\n",
              "<style scoped>\n",
              "    .dataframe tbody tr th:only-of-type {\n",
              "        vertical-align: middle;\n",
              "    }\n",
              "\n",
              "    .dataframe tbody tr th {\n",
              "        vertical-align: top;\n",
              "    }\n",
              "\n",
              "    .dataframe thead th {\n",
              "        text-align: right;\n",
              "    }\n",
              "</style>\n",
              "<table border=\"1\" class=\"dataframe\">\n",
              "  <thead>\n",
              "    <tr style=\"text-align: right;\">\n",
              "      <th></th>\n",
              "      <th>0</th>\n",
              "    </tr>\n",
              "  </thead>\n",
              "  <tbody>\n",
              "    <tr>\n",
              "      <th>V1</th>\n",
              "      <td>-3.273070</td>\n",
              "    </tr>\n",
              "    <tr>\n",
              "      <th>V2</th>\n",
              "      <td>-4.653486</td>\n",
              "    </tr>\n",
              "    <tr>\n",
              "      <th>V3</th>\n",
              "      <td>-2.216730</td>\n",
              "    </tr>\n",
              "    <tr>\n",
              "      <th>V4</th>\n",
              "      <td>0.681387</td>\n",
              "    </tr>\n",
              "    <tr>\n",
              "      <th>V5</th>\n",
              "      <td>-2.458790</td>\n",
              "    </tr>\n",
              "    <tr>\n",
              "      <th>V6</th>\n",
              "      <td>1.867576</td>\n",
              "    </tr>\n",
              "    <tr>\n",
              "      <th>V7</th>\n",
              "      <td>2.877722</td>\n",
              "    </tr>\n",
              "    <tr>\n",
              "      <th>V8</th>\n",
              "      <td>-8.292631</td>\n",
              "    </tr>\n",
              "    <tr>\n",
              "      <th>V9</th>\n",
              "      <td>0.550965</td>\n",
              "    </tr>\n",
              "    <tr>\n",
              "      <th>V10</th>\n",
              "      <td>1.242165</td>\n",
              "    </tr>\n",
              "    <tr>\n",
              "      <th>V11</th>\n",
              "      <td>0.347772</td>\n",
              "    </tr>\n",
              "    <tr>\n",
              "      <th>V12</th>\n",
              "      <td>-2.208171</td>\n",
              "    </tr>\n",
              "    <tr>\n",
              "      <th>V13</th>\n",
              "      <td>0.061058</td>\n",
              "    </tr>\n",
              "    <tr>\n",
              "      <th>V14</th>\n",
              "      <td>-1.953613</td>\n",
              "    </tr>\n",
              "    <tr>\n",
              "      <th>V15</th>\n",
              "      <td>-0.295836</td>\n",
              "    </tr>\n",
              "    <tr>\n",
              "      <th>V16</th>\n",
              "      <td>-1.048371</td>\n",
              "    </tr>\n",
              "    <tr>\n",
              "      <th>V17</th>\n",
              "      <td>-3.802987</td>\n",
              "    </tr>\n",
              "    <tr>\n",
              "      <th>V18</th>\n",
              "      <td>-0.255710</td>\n",
              "    </tr>\n",
              "    <tr>\n",
              "      <th>V19</th>\n",
              "      <td>0.115957</td>\n",
              "    </tr>\n",
              "    <tr>\n",
              "      <th>V20</th>\n",
              "      <td>-2.045060</td>\n",
              "    </tr>\n",
              "    <tr>\n",
              "      <th>V21</th>\n",
              "      <td>2.784302</td>\n",
              "    </tr>\n",
              "    <tr>\n",
              "      <th>V22</th>\n",
              "      <td>-0.200868</td>\n",
              "    </tr>\n",
              "    <tr>\n",
              "      <th>V23</th>\n",
              "      <td>-5.805236</td>\n",
              "    </tr>\n",
              "    <tr>\n",
              "      <th>V24</th>\n",
              "      <td>-0.545636</td>\n",
              "    </tr>\n",
              "    <tr>\n",
              "      <th>V25</th>\n",
              "      <td>-0.408260</td>\n",
              "    </tr>\n",
              "    <tr>\n",
              "      <th>V26</th>\n",
              "      <td>0.587603</td>\n",
              "    </tr>\n",
              "    <tr>\n",
              "      <th>V27</th>\n",
              "      <td>-0.745732</td>\n",
              "    </tr>\n",
              "    <tr>\n",
              "      <th>V28</th>\n",
              "      <td>11.400938</td>\n",
              "    </tr>\n",
              "    <tr>\n",
              "      <th>Amount</th>\n",
              "      <td>16.841622</td>\n",
              "    </tr>\n",
              "  </tbody>\n",
              "</table>\n",
              "</div><br><label><b>dtype:</b> float64</label>"
            ]
          },
          "metadata": {},
          "execution_count": 12
        }
      ],
      "source": [
        "df.drop('Class',axis=1).skew()"
      ]
    },
    {
      "cell_type": "code",
      "execution_count": null,
      "id": "d74277ea",
      "metadata": {
        "colab": {
          "base_uri": "https://localhost:8080/",
          "height": 467
        },
        "id": "d74277ea",
        "outputId": "7079c1bc-1bef-4550-d155-7df6954320a4"
      },
      "outputs": [
        {
          "output_type": "execute_result",
          "data": {
            "text/plain": [
              "<Axes: xlabel='Amount', ylabel='Density'>"
            ]
          },
          "metadata": {},
          "execution_count": 13
        },
        {
          "output_type": "display_data",
          "data": {
            "text/plain": [
              "<Figure size 640x480 with 1 Axes>"
            ],
            "image/png": "[encoded data removed]"
          },
          "metadata": {}
        }
      ],
      "source": [
        "sns.kdeplot(df['Amount'])"
      ]
    },
    {
      "cell_type": "code",
      "execution_count": null,
      "id": "bd8cb1b8",
      "metadata": {
        "colab": {
          "base_uri": "https://localhost:8080/",
          "height": 466
        },
        "id": "bd8cb1b8",
        "outputId": "e64163d2-8c27-45ec-db92-5f6c0330c652"
      },
      "outputs": [
        {
          "output_type": "execute_result",
          "data": {
            "text/plain": [
              "<Axes: xlabel='Amount', ylabel='Density'>"
            ]
          },
          "metadata": {},
          "execution_count": 14
        },
        {
          "output_type": "display_data",
          "data": {
            "text/plain": [
              "<Figure size 640x480 with 1 Axes>"
            ],
            "image/png": "[encoded data removed]"
          },
          "metadata": {}
        }
      ],
      "source": [
        "df['Amount'] = df['Amount'].apply(lambda x: np.log10(x+1))\n",
        "sns.kdeplot(df['Amount'])"
      ]
    },
    {
      "cell_type": "markdown",
      "id": "284d6f22",
      "metadata": {
        "id": "284d6f22"
      },
      "source": [
        "## Creating a sub sample"
      ]
    },
    {
      "cell_type": "markdown",
      "id": "0a068d5c",
      "metadata": {
        "id": "0a068d5c"
      },
      "source": [
        "What - create a[](http://) df with equal number of fraud and non fraud samples  \n",
        "Why - Although we don't know what the \"V\" features stand for, it will be useful to understand how each of this features influence the target. By having an imbalance dataframe we are not able to see the true correlations between the class and features"
      ]
    },
    {
      "cell_type": "code",
      "execution_count": null,
      "id": "555570b8",
      "metadata": {
        "id": "555570b8"
      },
      "outputs": [],
      "source": [
        "df = df.sample(frac=1)\n",
        "\n",
        "fraud_df = df.loc[df['Class'] == 1]\n",
        "non_fraud_df = df.loc[df['Class'] == 0][:492]\n",
        "\n",
        "subsample = pd.concat([fraud_df, non_fraud_df])\n",
        "new_df = subsample.sample(frac=1, random_state=42)"
      ]
    },
    {
      "cell_type": "markdown",
      "id": "6ece260f",
      "metadata": {
        "id": "6ece260f"
      },
      "source": [
        "### Correlation"
      ]
    },
    {
      "cell_type": "code",
      "execution_count": null,
      "id": "b4be44b5",
      "metadata": {
        "colab": {
          "base_uri": "https://localhost:8080/",
          "height": 542
        },
        "id": "b4be44b5",
        "outputId": "cfb2576c-3862-474e-ccb0-04c45045c057"
      },
      "outputs": [
        {
          "output_type": "display_data",
          "data": {
            "text/html": [
              "<html>\n",
              "<head><meta charset=\"utf-8\" /></head>\n",
              "<body>\n",
              "    <div>            <script src=\"https://cdnjs.cloudflare.com/ajax/libs/mathjax/2.7.5/MathJax.js?config=TeX-AMS-MML_SVG\"></script><script type=\"text/javascript\">if (window.MathJax && window.MathJax.Hub && window.MathJax.Hub.Config) {window.MathJax.Hub.Config({SVG: {font: \"STIX-Web\"}});}</script>                <script type=\"text/javascript\">window.PlotlyConfig = {MathJaxConfig: 'local'};</script>\n",
              "        <script charset=\"utf-8\" src=\"https://cdn.plot.ly/plotly-2.35.2.min.js\"></script>                <div id=\"8c4aab12-62e0-4f0d-bd56-af1fcdd19bc3\" class=\"plotly-graph-div\" style=\"height:525px; width:100%;\"></div>            <script type=\"text/javascript\">                                    window.PLOTLYENV=window.PLOTLYENV || {};                                    if (document.getElementById(\"8c4aab12-62e0-4f0d-bd56-af1fcdd19bc3\")) {                    Plotly.newPlot(                        \"8c4aab12-62e0-4f0d-bd56-af1fcdd19bc3\",                        [{\"coloraxis\":\"coloraxis\",\"name\":\"0\",\"x\":[\"V1\",\"V2\",\"V3\",\"V4\",\"V5\",\"V6\",\"V7\",\"V8\",\"V9\",\"V10\",\"V11\",\"V12\",\"V13\",\"V14\",\"V15\",\"V16\",\"V17\",\"V18\",\"V19\",\"V20\",\"V21\",\"V22\",\"V23\",\"V24\",\"V25\",\"V26\",\"V27\",\"V28\",\"Amount\",\"Class\"],\"y\":[\"V1\",\"V2\",\"V3\",\"V4\",\"V5\",\"V6\",\"V7\",\"V8\",\"V9\",\"V10\",\"V11\",\"V12\",\"V13\",\"V14\",\"V15\",\"V16\",\"V17\",\"V18\",\"V19\",\"V20\",\"V21\",\"V22\",\"V23\",\"V24\",\"V25\",\"V26\",\"V27\",\"V28\",\"Amount\",\"Class\"],\"z\":[[1.0,0.00900205663057268,0.005951870323344334,-0.00004173363772275346,-0.018592931394258785,-0.005788588932603655,-0.006842588291336126,-0.0004903017705974387,-0.007093188184085031,0.00311508043336747,-0.0052383611521321935,-0.005224732658887894,0.00017607397170221346,-0.00016701663809471138,-0.008538155507659373,-0.006376158582724207,-0.0017092604947156313,-0.000037118125851375856,-0.0003657869812605154,0.0031085360485397927,0.006003695030845995,0.0036338595739368886,-0.00750398547386885,-0.009326773224502347,-0.0044461360182961665,-0.0024364231007038017,-0.014628053567675336,-0.003555006941166325,-0.07669206550361735,-0.09471828027403827],[0.00900205663057268,1.0,0.004976420415917233,-0.00409478303282208,0.004654828151539378,0.004290266474645252,0.004866010897475024,0.003742693655932813,0.001115764547423151,0.0027641737994161886,-0.0018084640177489593,0.0014801177085389642,0.00046076961088045845,0.004771739778601204,0.0011762916062600243,0.0026475607161066924,0.0013035840599432088,0.0003630379040185711,0.0011638151899723865,-0.0003388726980985662,-0.003880671951278719,0.0029086740053363216,-0.0036886296217181055,0.0019735168281252366,-0.002836931404197437,-0.00029605968574453266,0.007251624234862233,0.0014575992938975053,-0.4593975292964687,0.08475425481454489],[0.005951870323344334,0.004976420415917233,1.0,-0.000720750612883996,0.011019512449786294,0.014780101443837517,-0.014015590290726234,0.003733210299163411,-0.0028955310476305317,-0.01106445658201421,0.003763268329471316,-0.003365403264207766,-0.0007532888104511578,-0.008208455227591463,0.003323892451776635,0.0003360330653480761,-0.0028131327390715044,-0.0038764479346075006,-0.000827969968805243,-0.004587224438279659,0.0018178562780222895,-0.004202923672142361,0.0021830017967686185,0.009782012846899684,0.00409089826509016,0.0035960608038176,-0.008780490220863002,-0.0024539941230242008,-0.05301909618409782,-0.18577174362070606],[-0.00004173363772275346,-0.00409478303282208,-0.000720750612883996,1.0,0.006710184917377064,0.012534619986163108,0.0008061613152966106,0.004996484520262861,0.0013954678785992837,0.0033663943727185717,-0.004401812026915845,0.0005605366567562152,0.0003324007482058754,0.00533559670244864,0.004045091895456296,0.0017826285626817752,0.0016328679540391726,0.0015686647749631895,0.005018282953491161,0.0011654100961733384,-0.0006225862056653466,0.0015809695312211194,-0.00015475367372614116,0.005759384705327822,0.00017302609596237122,-0.0011052679713745078,0.0025173272107862628,0.000028447013289771167,-0.0006991724135757256,0.13031328765078934],[-0.018592931394258785,0.004654828151539378,0.011019512449786294,0.006710184917377064,1.0,-0.029700785735834196,-0.009106632501579953,-0.0026052875224074692,-0.0007861995616428345,-0.002817740725206697,-0.002965157540390932,-0.0003427722292888492,0.0012005945355470136,0.00517452752529217,-0.007121994543521229,-0.004147091486085944,-0.005421946975850504,-0.0031082166092601168,0.0003505660226590245,-0.0007880754250586652,0.00343922765885184,0.0029714567709645976,-0.0010578383026698108,-0.012633613332770058,-0.004862304415897573,-0.0015684754955836593,-0.00611567943571994,-0.0007109361143901261,-0.28520207300737715,-0.08864223740340701],[-0.005788588932603655,0.004290266474645252,0.014780101443837517,0.012534619986163108,-0.029700785735834196,1.0,0.013087429720545671,-0.012300897072016991,-0.0022898994434729855,-0.002722885639660955,0.0004459549207896954,0.004288005962352013,-0.00013954654889486738,0.00017772529829541736,-0.00936257471109313,-0.0025379738409454585,0.0017467394403829035,0.0007341181373794795,0.0008803306295041261,-0.0018348819521770486,-0.0015842250415122599,0.0023550476524281457,-0.00022080361056575306,-0.02109767327229305,-0.006673263711386061,0.0007018999138726185,-0.0015773843269395005,0.0006170632194787452,0.17594040694236843,-0.044776655795793575],[-0.006842588291336126,0.004866010897475024,-0.014015590290726234,0.0008061613152966106,-0.009106632501579953,0.013087429720545671,1.0,-0.0009866326473795938,-0.0016570505889462106,-0.012245575367022534,0.0017312862293722363,-0.007377770947454779,0.001019065433844208,-0.002006382163905271,0.0021646994570772783,-0.0035533675012725287,-0.0099849597556625,-0.00409212122316606,0.0005896092117488983,-0.0021958273347804824,0.00863473021160318,-0.0017008984979523512,0.003458050788062126,0.005375437011175989,0.0020698078979522723,-0.0004588383679030102,-0.003977219873228745,0.0013292721181324184,0.09665909375065439,-0.17329184536211958],[-0.0004903017705974387,0.003742693655932813,0.003733210299163411,0.004996484520262861,-0.0026052875224074692,-0.012300897072016991,-0.0009866326473795938,1.0,0.0001684599478414688,0.0002385227698407801,0.0051651377768951795,-0.004133687695665093,-0.001341333091920369,-0.009568384289532593,-0.002322346439935789,-0.006868307858294977,-0.006049143384273813,-0.0020921198093682863,0.0008553714180542643,0.0005621589466952096,0.018805553474640985,-0.005181868541497021,0.0064612165073518755,-0.006000318559471376,-0.002826501198408364,-0.0011224898419865208,-0.000108266676695682,0.00020087170096169508,-0.021610377555365264,0.033364384602848275],[-0.007093188184085031,0.001115764547423151,-0.0028955310476305317,0.0013954678785992837,-0.0007861995616428345,-0.0022898994434729855,-0.0016570505889462106,0.0001684599478414688,1.0,-0.004956960977232513,-0.0015831315122645402,0.00022093464914158133,-0.00025906269002486505,-0.005124874206624985,-0.004912272336986143,0.0026803399946647506,-0.0004875404325191277,-0.0009567733050660347,-0.0009356707772171059,0.0006125813121427244,0.001744471383939854,0.0007417622746537949,-0.0017392600161237628,-0.002454091315874041,-0.0003576586860807929,0.005307459170163344,0.00806589093474832,0.0064866687763294765,-0.07379718375060565,-0.09458275894222058],[0.00311508043336747,0.0027641737994161886,-0.01106445658201421,0.0033663943727185717,-0.002817740725206697,-0.002722885639660955,-0.012245575367022534,0.0002385227698407801,-0.004956960977232513,1.0,0.0052113259138135,-0.007394681979456866,0.0008896964509361391,-0.004615922267141035,0.00336601090279754,-0.003637165067540768,-0.0018408332602426799,0.0009112200184281925,0.0003790291088673778,-0.0045061722513229305,0.0023955011018211257,-0.0030120809221212685,0.0017604510466673494,0.0010149187965122885,0.0024991028176015407,-0.0008588947666105192,0.01149535769148781,0.009956260833450156,-0.016495040286124876,-0.2081042038853312],[-0.0052383611521321935,-0.0018084640177489593,0.003763268329471316,-0.004401812026915845,-0.002965157540390932,0.0004459549207896954,0.0017312862293722363,0.0051651377768951795,-0.0015831315122645402,0.0052113259138135,1.0,0.0038569701711923094,0.0013722399585872523,0.010051637591902841,-0.0023817677004228273,0.0010450899175577172,0.00012728508810091658,-0.0017349245158464342,0.0020675542539910223,-0.0002896766792571055,-0.002330819411200263,0.0008035998110591059,-0.0008390469723996328,0.0015836370718236206,-0.0032093521987376535,-0.0020645266678813497,0.0024347043516285303,0.002175865834635563,-0.04305344263458138,0.15126045335714322],[-0.005224732658887894,0.0014801177085389642,-0.003365403264207766,0.0005605366567562152,-0.0003427722292888492,0.004288005962352013,-0.007377770947454779,-0.004133687695665093,0.00022093464914158133,-0.007394681979456866,0.0038569701711923094,1.0,0.002532314364047437,-0.0040605989164580825,0.0017273304728851104,-0.00769227914987993,-0.007394531288473178,-0.0007609712734102715,-0.0017433222825322676,0.002041356080798751,0.004192083404063465,0.0029666544689706358,-0.0011010633955008562,0.0016954532680858842,0.0007319178597714687,-0.002010883823918642,-0.0007758604396771806,-0.00017303047803580272,-0.011033406249319727,-0.25314979499997614],[0.00017607397170221346,0.00046076961088045845,-0.0007532888104511578,0.0003324007482058754,0.0012005945355470136,-0.00013954654889486738,0.001019065433844208,-0.001341333091920369,-0.00025906269002486505,0.0008896964509361391,0.0013722399585872523,0.002532314364047437,1.0,-0.003479566711820727,0.002514568842396116,-0.00220967836505259,-0.0003147036842397199,0.0008394873375494351,0.0010715570383271963,-0.0006206148356032322,0.0011005453910093595,0.00021352603227370873,0.0007110910522849094,-0.0010140681867750615,-0.00005911039298916521,0.0008868780941754804,-0.0014510102497143232,-0.000379750575887706,-0.006205009221444493,-0.003934245314299085],[-0.00016701663809471138,0.004771739778601204,-0.008208455227591463,0.00533559670244864,0.00517452752529217,0.00017772529829541736,-0.002006382163905271,-0.009568384289532593,-0.005124874206624985,-0.004615922267141035,0.010051637591902841,-0.0040605989164580825,-0.003479566711820727,1.0,0.002624483631610439,-0.003320306849978987,0.0009197230024974278,0.0014131471241991631,-0.000751094154864876,0.003683457197060036,0.004710627375381704,-0.0047947905580390075,0.0009289389054848196,0.000331800319294762,0.0020768168575141404,0.0014042703420475682,-0.003828442029279046,-0.003178202426597235,0.021382782639851355,-0.29754977975643476],[-0.008538155507659373,0.0011762916062600243,0.003323892451776635,0.004045091895456296,-0.007121994543521229,-0.00936257471109313,0.0021646994570772783,-0.002322346439935789,-0.004912272336986143,0.00336601090279754,-0.0023817677004228273,0.0017273304728851104,0.002514568842396116,0.002624483631610439,1.0,-0.004916780368499225,-0.000602707280832959,-0.000859014719824273,0.0033865340764304974,0.00037508917068974944,0.0011372992637743702,0.002579003213495921,0.0007269407316842149,-0.008460676558177747,-0.008245117506923331,0.001924152123098756,-0.001472270018201804,0.00015627937832889206,-0.05445302096354232,-0.0028239661450143753],[-0.006376158582724207,0.0026475607161066924,0.0003360330653480761,0.0017826285626817752,-0.004147091486085944,-0.0025379738409454585,-0.0035533675012725287,-0.006868307858294977,0.0026803399946647506,-0.003637165067540768,0.0010450899175577172,-0.00769227914987993,-0.00220967836505259,-0.003320306849978987,-0.004916780368499225,1.0,-0.010046388062466147,-0.009275590059228456,0.00240735943020175,0.00042400545327874915,0.0052671544004991725,0.0032960882528521073,0.0015241836118115991,-0.004436914287114917,-0.002463651216970657,-0.004494645380977163,-0.003527977806909147,-0.00185466659143321,-0.09729387167350757,-0.18822150581931568],[-0.0017092604947156313,0.0013035840599432088,-0.0028131327390715044,0.0016328679540391726,-0.005421946975850504,0.0017467394403829035,-0.0099849597556625,-0.006049143384273813,-0.0004875404325191277,-0.0018408332602426799,0.00012728508810091658,-0.007394531288473178,-0.0003147036842397199,0.0009197230024974278,-0.000602707280832959,-0.010046388062466147,1.0,-0.007602083690617885,0.00793981920328274,0.0012085000319451708,0.004162723774863774,0.0005457665567498387,0.002412041345931591,0.004598973463231404,-0.003343032752915499,-0.0010902404860176796,-0.0035970763985632343,-0.0035868351644628518,0.016922759734357563,-0.31720194703317506],[-0.000037118125851375856,0.0003630379040185711,-0.0038764479346075006,0.0015686647749631895,-0.0031082166092601168,0.0007341181373794795,-0.00409212122316606,-0.0020921198093682863,-0.0009567733050660347,0.0009112200184281925,-0.0017349245158464342,-0.0007609712734102715,0.0008394873375494351,0.0014131471241991631,-0.000859014719824273,-0.009275590059228456,-0.007602083690617885,1.0,0.0003894537185008852,-0.00018506842718458934,0.0006194270891825491,-0.004321380435269438,0.0034875147306728423,-0.0008359690508370495,-0.0052309570068275755,0.0035834783040605872,-0.005176455822270928,-0.0018988674568862255,0.04418650871470507,-0.10644692553081461],[-0.0003657869812605154,0.0011638151899723865,-0.000827969968805243,0.005018282953491161,0.0003505660226590245,0.0008803306295041261,0.0005896092117488983,0.0008553714180542643,-0.0009356707772171059,0.0003790291088673778,0.0020675542539910223,-0.0017433222825322676,0.0010715570383271963,-0.000751094154864876,0.0033865340764304974,0.00240735943020175,0.00793981920328274,0.0003894537185008852,1.0,-0.0008462799424582163,0.000885513432226674,0.0035208642995498245,-0.0003568083569356008,-0.0014100893491832236,0.00046536756445180426,0.000907051599973056,-0.000010973789013424808,0.0008126304744584831,-0.015601526945530438,0.0337841315241551],[0.0031085360485397927,-0.0003388726980985662,-0.004587224438279659,0.0011654100961733384,-0.0007880754250586652,-0.0018348819521770486,-0.0021958273347804824,0.0005621589466952096,0.0006125813121427244,-0.0045061722513229305,-0.0002896766792571055,0.002041356080798751,-0.0006206148356032322,0.003683457197060036,0.00037508917068974944,0.00042400545327874915,0.0012085000319451708,-0.00018506842718458934,-0.0008462799424582163,1.0,0.00439163154317467,-0.0023215318570962698,0.000747605451836205,0.000132300402247075,-1.2698991006315683e-6,-0.0003043709137931078,-0.00009623569420502717,0.0018278487908437654,0.14256805451061927,0.021349134626457315],[0.006003695030845995,-0.003880671951278719,0.0018178562780222895,-0.0006225862056653466,0.00343922765885184,-0.0015842250415122599,0.00863473021160318,0.018805553474640985,0.001744471383939854,0.0023955011018211257,-0.002330819411200263,0.004192083404063465,0.0011005453910093595,0.004710627375381704,0.0011372992637743702,0.0052671544004991725,0.004162723774863774,0.0006194270891825491,0.000885513432226674,0.00439163154317467,1.0,0.0017951267485505375,-0.004335795108936148,0.002943329531566201,-0.0012993410572347502,0.0008275390972013245,-0.005524039706815179,-0.004461160639097364,0.08325734243773045,0.026239135618532684],[0.0036338595739368886,0.0029086740053363216,-0.004202923672142361,0.0015809695312211194,0.0029714567709645976,0.0023550476524281457,-0.0017008984979523512,-0.005181868541497021,0.0007417622746537949,-0.0030120809221212685,0.0008035998110591059,0.0029666544689706358,0.00021352603227370873,-0.0047947905580390075,0.002579003213495921,0.0032960882528521073,0.0005457665567498387,-0.004321380435269438,0.0035208642995498245,-0.0023215318570962698,0.0017951267485505375,1.0,0.006160634816717773,0.0040076314937353245,-0.0023307563307245847,0.004308780678510921,0.0016856153718819236,0.0016703357452038758,0.03546786563373479,0.004612376174770379],[-0.00750398547386885,-0.0036886296217181055,0.0021830017967686185,-0.00015475367372614116,-0.0010578383026698108,-0.00022080361056575306,0.003458050788062126,0.0064612165073518755,-0.0017392600161237628,0.0017604510466673494,-0.0008390469723996328,-0.0011010633955008562,0.0007110910522849094,0.0009289389054848196,0.0007269407316842149,0.0015241836118115991,0.002412041345931591,0.0034875147306728423,-0.0003568083569356008,0.000747605451836205,-0.004335795108936148,0.006160634816717773,1.0,-0.0011911345613579204,0.0036245111360325355,-0.0021047329234190858,-0.0015197357777629891,-0.002719192346928511,-0.025060446233727142,-0.006206025561580434],[-0.009326773224502347,0.0019735168281252366,0.009782012846899684,0.005759384705327822,-0.012633613332770058,-0.02109767327229305,0.005375437011175989,-0.006000318559471376,-0.002454091315874041,0.0010149187965122885,0.0015836370718236206,0.0016954532680858842,-0.0010140681867750615,0.000331800319294762,-0.008460676558177747,-0.004436914287114917,0.004598973463231404,-0.0008359690508370495,-0.0014100893491832236,0.000132300402247075,0.002943329531566201,0.0040076314937353245,-0.0011911345613579204,1.0,-0.007006715089922423,0.0015263545489949968,-0.001315412814964737,0.0000856214258695526,-0.004790119342803769,-0.006831067309310092],[-0.0044461360182961665,-0.002836931404197437,0.00409089826509016,0.00017302609596237122,-0.004862304415897573,-0.006673263711386061,0.0020698078979522723,-0.002826501198408364,-0.0003576586860807929,0.0024991028176015407,-0.0032093521987376535,0.0007319178597714687,-0.00005911039298916521,0.0020768168575141404,-0.008245117506923331,-0.002463651216970657,-0.003343032752915499,-0.0052309570068275755,0.00046536756445180426,-1.2698991006315683e-6,-0.0012993410572347502,-0.0023307563307245847,0.0036245111360325355,-0.007006715089922423,1.0,0.004573576764907846,-0.0019952735762459005,-0.0012281791648254261,0.006831989076374269,0.003592986720025424],[-0.0024364231007038017,-0.00029605968574453266,0.0035960608038176,-0.0011052679713745078,-0.0015684754955836593,0.0007018999138726185,-0.0004588383679030102,-0.0011224898419865208,0.005307459170163344,-0.0008588947666105192,-0.0020645266678813497,-0.002010883823918642,0.0008868780941754804,0.0014042703420475682,0.001924152123098756,-0.004494645380977163,-0.0010902404860176796,0.0035834783040605872,0.000907051599973056,-0.0003043709137931078,0.0008275390972013245,0.004308780678510921,-0.0021047329234190858,0.0015263545489949968,0.004573576764907846,1.0,-0.0009584412161368722,-0.0005696018274223287,-0.01534410497786086,0.004341289204197826],[-0.014628053567675336,0.007251624234862233,-0.008780490220863002,0.0025173272107862628,-0.00611567943571994,-0.0015773843269395005,-0.003977219873228745,-0.000108266676695682,0.00806589093474832,0.01149535769148781,0.0024347043516285303,-0.0007758604396771806,-0.0014510102497143232,-0.003828442029279046,-0.001472270018201804,-0.003527977806909147,-0.0035970763985632343,-0.005176455822270928,-0.000010973789013424808,-0.00009623569420502717,-0.005524039706815179,0.0016856153718819236,-0.0015197357777629891,-0.001315412814964737,-0.0019952735762459005,-0.0009584412161368722,1.0,-0.014434631792927788,-0.04829631949944374,0.021888244417405868],[-0.003555006941166325,0.0014575992938975053,-0.0024539941230242008,0.000028447013289771167,-0.0007109361143901261,0.0006170632194787452,0.0013292721181324184,0.00020087170096169508,0.0064866687763294765,0.009956260833450156,0.002175865834635563,-0.00017303047803580272,-0.000379750575887706,-0.003178202426597235,0.00015627937832889206,-0.00185466659143321,-0.0035868351644628518,-0.0018988674568862255,0.0008126304744584831,0.0018278487908437654,-0.004461160639097364,0.0016703357452038758,-0.002719192346928511,0.0000856214258695526,-0.0012281791648254261,-0.0005696018274223287,-0.014434631792927788,1.0,-0.0034362894740964977,0.009642345399190313],[-0.07669206550361735,-0.4593975292964687,-0.05301909618409782,-0.0006991724135757256,-0.28520207300737715,0.17594040694236843,0.09665909375065439,-0.021610377555365264,-0.07379718375060565,-0.016495040286124876,-0.04305344263458138,-0.011033406249319727,-0.006205009221444493,0.021382782639851355,-0.05445302096354232,-0.09729387167350757,0.016922759734357563,0.04418650871470507,-0.015601526945530438,0.14256805451061927,0.08325734243773045,0.03546786563373479,-0.025060446233727142,-0.004790119342803769,0.006831989076374269,-0.01534410497786086,-0.04829631949944374,-0.0034362894740964977,1.0,-0.009151675909696714],[-0.09471828027403827,0.08475425481454489,-0.18577174362070606,0.13031328765078934,-0.08864223740340701,-0.044776655795793575,-0.17329184536211958,0.033364384602848275,-0.09458275894222058,-0.2081042038853312,0.15126045335714322,-0.25314979499997614,-0.003934245314299085,-0.29754977975643476,-0.0028239661450143753,-0.18822150581931568,-0.31720194703317506,-0.10644692553081461,0.0337841315241551,0.021349134626457315,0.026239135618532684,0.004612376174770379,-0.006206025561580434,-0.006831067309310092,0.003592986720025424,0.004341289204197826,0.021888244417405868,0.009642345399190313,-0.009151675909696714,1.0]],\"type\":\"heatmap\",\"xaxis\":\"x\",\"yaxis\":\"y\",\"hovertemplate\":\"x: %{x}\\u003cbr\\u003ey: %{y}\\u003cbr\\u003ecolor: %{z}\\u003cextra\\u003e\\u003c\\u002fextra\\u003e\"}],                        {\"template\":{\"data\":{\"histogram2dcontour\":[{\"type\":\"histogram2dcontour\",\"colorbar\":{\"outlinewidth\":0,\"ticks\":\"\"},\"colorscale\":[[0.0,\"#0d0887\"],[0.1111111111111111,\"#46039f\"],[0.2222222222222222,\"#7201a8\"],[0.3333333333333333,\"#9c179e\"],[0.4444444444444444,\"#bd3786\"],[0.5555555555555556,\"#d8576b\"],[0.6666666666666666,\"#ed7953\"],[0.7777777777777778,\"#fb9f3a\"],[0.8888888888888888,\"#fdca26\"],[1.0,\"#f0f921\"]]}],\"choropleth\":[{\"type\":\"choropleth\",\"colorbar\":{\"outlinewidth\":0,\"ticks\":\"\"}}],\"histogram2d\":[{\"type\":\"histogram2d\",\"colorbar\":{\"outlinewidth\":0,\"ticks\":\"\"},\"colorscale\":[[0.0,\"#0d0887\"],[0.1111111111111111,\"#46039f\"],[0.2222222222222222,\"#7201a8\"],[0.3333333333333333,\"#9c179e\"],[0.4444444444444444,\"#bd3786\"],[0.5555555555555556,\"#d8576b\"],[0.6666666666666666,\"#ed7953\"],[0.7777777777777778,\"#fb9f3a\"],[0.8888888888888888,\"#fdca26\"],[1.0,\"#f0f921\"]]}],\"heatmap\":[{\"type\":\"heatmap\",\"colorbar\":{\"outlinewidth\":0,\"ticks\":\"\"},\"colorscale\":[[0.0,\"#0d0887\"],[0.1111111111111111,\"#46039f\"],[0.2222222222222222,\"#7201a8\"],[0.3333333333333333,\"#9c179e\"],[0.4444444444444444,\"#bd3786\"],[0.5555555555555556,\"#d8576b\"],[0.6666666666666666,\"#ed7953\"],[0.7777777777777778,\"#fb9f3a\"],[0.8888888888888888,\"#fdca26\"],[1.0,\"#f0f921\"]]}],\"heatmapgl\":[{\"type\":\"heatmapgl\",\"colorbar\":{\"outlinewidth\":0,\"ticks\":\"\"},\"colorscale\":[[0.0,\"#0d0887\"],[0.1111111111111111,\"#46039f\"],[0.2222222222222222,\"#7201a8\"],[0.3333333333333333,\"#9c179e\"],[0.4444444444444444,\"#bd3786\"],[0.5555555555555556,\"#d8576b\"],[0.6666666666666666,\"#ed7953\"],[0.7777777777777778,\"#fb9f3a\"],[0.8888888888888888,\"#fdca26\"],[1.0,\"#f0f921\"]]}],\"contourcarpet\":[{\"type\":\"contourcarpet\",\"colorbar\":{\"outlinewidth\":0,\"ticks\":\"\"}}],\"contour\":[{\"type\":\"contour\",\"colorbar\":{\"outlinewidth\":0,\"ticks\":\"\"},\"colorscale\":[[0.0,\"#0d0887\"],[0.1111111111111111,\"#46039f\"],[0.2222222222222222,\"#7201a8\"],[0.3333333333333333,\"#9c179e\"],[0.4444444444444444,\"#bd3786\"],[0.5555555555555556,\"#d8576b\"],[0.6666666666666666,\"#ed7953\"],[0.7777777777777778,\"#fb9f3a\"],[0.8888888888888888,\"#fdca26\"],[1.0,\"#f0f921\"]]}],\"surface\":[{\"type\":\"surface\",\"colorbar\":{\"outlinewidth\":0,\"ticks\":\"\"},\"colorscale\":[[0.0,\"#0d0887\"],[0.1111111111111111,\"#46039f\"],[0.2222222222222222,\"#7201a8\"],[0.3333333333333333,\"#9c179e\"],[0.4444444444444444,\"#bd3786\"],[0.5555555555555556,\"#d8576b\"],[0.6666666666666666,\"#ed7953\"],[0.7777777777777778,\"#fb9f3a\"],[0.8888888888888888,\"#fdca26\"],[1.0,\"#f0f921\"]]}],\"mesh3d\":[{\"type\":\"mesh3d\",\"colorbar\":{\"outlinewidth\":0,\"ticks\":\"\"}}],\"scatter\":[{\"fillpattern\":{\"fillmode\":\"overlay\",\"size\":10,\"solidity\":0.2},\"type\":\"scatter\"}],\"parcoords\":[{\"type\":\"parcoords\",\"line\":{\"colorbar\":{\"outlinewidth\":0,\"ticks\":\"\"}}}],\"scatterpolargl\":[{\"type\":\"scatterpolargl\",\"marker\":{\"colorbar\":{\"outlinewidth\":0,\"ticks\":\"\"}}}],\"bar\":[{\"error_x\":{\"color\":\"#2a3f5f\"},\"error_y\":{\"color\":\"#2a3f5f\"},\"marker\":{\"line\":{\"color\":\"#E5ECF6\",\"width\":0.5},\"pattern\":{\"fillmode\":\"overlay\",\"size\":10,\"solidity\":0.2}},\"type\":\"bar\"}],\"scattergeo\":[{\"type\":\"scattergeo\",\"marker\":{\"colorbar\":{\"outlinewidth\":0,\"ticks\":\"\"}}}],\"scatterpolar\":[{\"type\":\"scatterpolar\",\"marker\":{\"colorbar\":{\"outlinewidth\":0,\"ticks\":\"\"}}}],\"histogram\":[{\"marker\":{\"pattern\":{\"fillmode\":\"overlay\",\"size\":10,\"solidity\":0.2}},\"type\":\"histogram\"}],\"scattergl\":[{\"type\":\"scattergl\",\"marker\":{\"colorbar\":{\"outlinewidth\":0,\"ticks\":\"\"}}}],\"scatter3d\":[{\"type\":\"scatter3d\",\"line\":{\"colorbar\":{\"outlinewidth\":0,\"ticks\":\"\"}},\"marker\":{\"colorbar\":{\"outlinewidth\":0,\"ticks\":\"\"}}}],\"scattermapbox\":[{\"type\":\"scattermapbox\",\"marker\":{\"colorbar\":{\"outlinewidth\":0,\"ticks\":\"\"}}}],\"scatterternary\":[{\"type\":\"scatterternary\",\"marker\":{\"colorbar\":{\"outlinewidth\":0,\"ticks\":\"\"}}}],\"scattercarpet\":[{\"type\":\"scattercarpet\",\"marker\":{\"colorbar\":{\"outlinewidth\":0,\"ticks\":\"\"}}}],\"carpet\":[{\"aaxis\":{\"endlinecolor\":\"#2a3f5f\",\"gridcolor\":\"white\",\"linecolor\":\"white\",\"minorgridcolor\":\"white\",\"startlinecolor\":\"#2a3f5f\"},\"baxis\":{\"endlinecolor\":\"#2a3f5f\",\"gridcolor\":\"white\",\"linecolor\":\"white\",\"minorgridcolor\":\"white\",\"startlinecolor\":\"#2a3f5f\"},\"type\":\"carpet\"}],\"table\":[{\"cells\":{\"fill\":{\"color\":\"#EBF0F8\"},\"line\":{\"color\":\"white\"}},\"header\":{\"fill\":{\"color\":\"#C8D4E3\"},\"line\":{\"color\":\"white\"}},\"type\":\"table\"}],\"barpolar\":[{\"marker\":{\"line\":{\"color\":\"#E5ECF6\",\"width\":0.5},\"pattern\":{\"fillmode\":\"overlay\",\"size\":10,\"solidity\":0.2}},\"type\":\"barpolar\"}],\"pie\":[{\"automargin\":true,\"type\":\"pie\"}]},\"layout\":{\"autotypenumbers\":\"strict\",\"colorway\":[\"#636efa\",\"#EF553B\",\"#00cc96\",\"#ab63fa\",\"#FFA15A\",\"#19d3f3\",\"#FF6692\",\"#B6E880\",\"#FF97FF\",\"#FECB52\"],\"font\":{\"color\":\"#2a3f5f\"},\"hovermode\":\"closest\",\"hoverlabel\":{\"align\":\"left\"},\"paper_bgcolor\":\"white\",\"plot_bgcolor\":\"#E5ECF6\",\"polar\":{\"bgcolor\":\"#E5ECF6\",\"angularaxis\":{\"gridcolor\":\"white\",\"linecolor\":\"white\",\"ticks\":\"\"},\"radialaxis\":{\"gridcolor\":\"white\",\"linecolor\":\"white\",\"ticks\":\"\"}},\"ternary\":{\"bgcolor\":\"#E5ECF6\",\"aaxis\":{\"gridcolor\":\"white\",\"linecolor\":\"white\",\"ticks\":\"\"},\"baxis\":{\"gridcolor\":\"white\",\"linecolor\":\"white\",\"ticks\":\"\"},\"caxis\":{\"gridcolor\":\"white\",\"linecolor\":\"white\",\"ticks\":\"\"}},\"coloraxis\":{\"colorbar\":{\"outlinewidth\":0,\"ticks\":\"\"}},\"colorscale\":{\"sequential\":[[0.0,\"#0d0887\"],[0.1111111111111111,\"#46039f\"],[0.2222222222222222,\"#7201a8\"],[0.3333333333333333,\"#9c179e\"],[0.4444444444444444,\"#bd3786\"],[0.5555555555555556,\"#d8576b\"],[0.6666666666666666,\"#ed7953\"],[0.7777777777777778,\"#fb9f3a\"],[0.8888888888888888,\"#fdca26\"],[1.0,\"#f0f921\"]],\"sequentialminus\":[[0.0,\"#0d0887\"],[0.1111111111111111,\"#46039f\"],[0.2222222222222222,\"#7201a8\"],[0.3333333333333333,\"#9c179e\"],[0.4444444444444444,\"#bd3786\"],[0.5555555555555556,\"#d8576b\"],[0.6666666666666666,\"#ed7953\"],[0.7777777777777778,\"#fb9f3a\"],[0.8888888888888888,\"#fdca26\"],[1.0,\"#f0f921\"]],\"diverging\":[[0,\"#8e0152\"],[0.1,\"#c51b7d\"],[0.2,\"#de77ae\"],[0.3,\"#f1b6da\"],[0.4,\"#fde0ef\"],[0.5,\"#f7f7f7\"],[0.6,\"#e6f5d0\"],[0.7,\"#b8e186\"],[0.8,\"#7fbc41\"],[0.9,\"#4d9221\"],[1,\"#276419\"]]},\"xaxis\":{\"gridcolor\":\"white\",\"linecolor\":\"white\",\"ticks\":\"\",\"title\":{\"standoff\":15},\"zerolinecolor\":\"white\",\"automargin\":true,\"zerolinewidth\":2},\"yaxis\":{\"gridcolor\":\"white\",\"linecolor\":\"white\",\"ticks\":\"\",\"title\":{\"standoff\":15},\"zerolinecolor\":\"white\",\"automargin\":true,\"zerolinewidth\":2},\"scene\":{\"xaxis\":{\"backgroundcolor\":\"#E5ECF6\",\"gridcolor\":\"white\",\"linecolor\":\"white\",\"showbackground\":true,\"ticks\":\"\",\"zerolinecolor\":\"white\",\"gridwidth\":2},\"yaxis\":{\"backgroundcolor\":\"#E5ECF6\",\"gridcolor\":\"white\",\"linecolor\":\"white\",\"showbackground\":true,\"ticks\":\"\",\"zerolinecolor\":\"white\",\"gridwidth\":2},\"zaxis\":{\"backgroundcolor\":\"#E5ECF6\",\"gridcolor\":\"white\",\"linecolor\":\"white\",\"showbackground\":true,\"ticks\":\"\",\"zerolinecolor\":\"white\",\"gridwidth\":2}},\"shapedefaults\":{\"line\":{\"color\":\"#2a3f5f\"}},\"annotationdefaults\":{\"arrowcolor\":\"#2a3f5f\",\"arrowhead\":0,\"arrowwidth\":1},\"geo\":{\"bgcolor\":\"white\",\"landcolor\":\"#E5ECF6\",\"subunitcolor\":\"white\",\"showland\":true,\"showlakes\":true,\"lakecolor\":\"white\"},\"title\":{\"x\":0.05},\"mapbox\":{\"style\":\"light\"}}},\"xaxis\":{\"anchor\":\"y\",\"domain\":[0.0,1.0]},\"yaxis\":{\"anchor\":\"x\",\"domain\":[0.0,1.0],\"autorange\":\"reversed\"},\"coloraxis\":{\"colorscale\":[[0.0,\"rgb(5,48,97)\"],[0.1,\"rgb(33,102,172)\"],[0.2,\"rgb(67,147,195)\"],[0.3,\"rgb(146,197,222)\"],[0.4,\"rgb(209,229,240)\"],[0.5,\"rgb(247,247,247)\"],[0.6,\"rgb(253,219,199)\"],[0.7,\"rgb(244,165,130)\"],[0.8,\"rgb(214,96,77)\"],[0.9,\"rgb(178,24,43)\"],[1.0,\"rgb(103,0,31)\"]]},\"margin\":{\"t\":60}},                        {\"responsive\": true}                    ).then(function(){\n",
              "                            \n",
              "var gd = document.getElementById('8c4aab12-62e0-4f0d-bd56-af1fcdd19bc3');\n",
              "var x = new MutationObserver(function (mutations, observer) {{\n",
              "        var display = window.getComputedStyle(gd).display;\n",
              "        if (!display || display === 'none') {{\n",
              "            console.log([gd, 'removed!']);\n",
              "            Plotly.purge(gd);\n",
              "            observer.disconnect();\n",
              "        }}\n",
              "}});\n",
              "\n",
              "// Listen for the removal of the full notebook cells\n",
              "var notebookContainer = gd.closest('#notebook-container');\n",
              "if (notebookContainer) {{\n",
              "    x.observe(notebookContainer, {childList: true});\n",
              "}}\n",
              "\n",
              "// Listen for the clearing of the current output cell\n",
              "var outputEl = gd.closest('.output');\n",
              "if (outputEl) {{\n",
              "    x.observe(outputEl, {childList: true});\n",
              "}}\n",
              "\n",
              "                        })                };                            </script>        </div>\n",
              "</body>\n",
              "</html>"
            ]
          },
          "metadata": {}
        }
      ],
      "source": [
        "corr = df.corr()\n",
        "fig=px.imshow(corr, aspect=\"auto\" ,color_continuous_scale='RdBu_r')\n",
        "fig.show()"
      ]
    },
    {
      "cell_type": "code",
      "execution_count": null,
      "id": "3c160557",
      "metadata": {
        "colab": {
          "base_uri": "https://localhost:8080/",
          "height": 542
        },
        "id": "3c160557",
        "outputId": "6ce29875-560b-4b15-a152-3e8739b078e1"
      },
      "outputs": [
        {
          "output_type": "display_data",
          "data": {
            "text/html": [
              "<html>\n",
              "<head><meta charset=\"utf-8\" /></head>\n",
              "<body>\n",
              "    <div>            <script src=\"https://cdnjs.cloudflare.com/ajax/libs/mathjax/2.7.5/MathJax.js?config=TeX-AMS-MML_SVG\"></script><script type=\"text/javascript\">if (window.MathJax && window.MathJax.Hub && window.MathJax.Hub.Config) {window.MathJax.Hub.Config({SVG: {font: \"STIX-Web\"}});}</script>                <script type=\"text/javascript\">window.PlotlyConfig = {MathJaxConfig: 'local'};</script>\n",
              "        <script charset=\"utf-8\" src=\"https://cdn.plot.ly/plotly-2.35.2.min.js\"></script>                <div id=\"531bd4d2-2270-4370-8308-6c3126a95d7e\" class=\"plotly-graph-div\" style=\"height:525px; width:100%;\"></div>            <script type=\"text/javascript\">                                    window.PLOTLYENV=window.PLOTLYENV || {};                                    if (document.getElementById(\"531bd4d2-2270-4370-8308-6c3126a95d7e\")) {                    Plotly.newPlot(                        \"531bd4d2-2270-4370-8308-6c3126a95d7e\",                        [{\"coloraxis\":\"coloraxis\",\"name\":\"0\",\"x\":[\"V1\",\"V2\",\"V3\",\"V4\",\"V5\",\"V6\",\"V7\",\"V8\",\"V9\",\"V10\",\"V11\",\"V12\",\"V13\",\"V14\",\"V15\",\"V16\",\"V17\",\"V18\",\"V19\",\"V20\",\"V21\",\"V22\",\"V23\",\"V24\",\"V25\",\"V26\",\"V27\",\"V28\",\"Amount\",\"Class\"],\"y\":[\"V1\",\"V2\",\"V3\",\"V4\",\"V5\",\"V6\",\"V7\",\"V8\",\"V9\",\"V10\",\"V11\",\"V12\",\"V13\",\"V14\",\"V15\",\"V16\",\"V17\",\"V18\",\"V19\",\"V20\",\"V21\",\"V22\",\"V23\",\"V24\",\"V25\",\"V26\",\"V27\",\"V28\",\"Amount\",\"Class\"],\"z\":[[1.0,-0.8055869969822448,0.8717144393811671,-0.6108319237430949,0.8541143685386402,0.37520875416004595,0.88074136479463,-0.23368445364098564,0.6507200671412446,0.7319151328562977,-0.5190418893180566,0.5923559641173431,-0.062072285425391005,0.4402825879373545,0.07038120676745933,0.6300300354763357,0.6784080251645586,0.6725017463627294,-0.3105275440775441,-0.36431275834058696,0.11488920681746069,-0.10304102572132107,0.009792731672283535,-0.07264505525991258,-0.09253182048034794,0.03413621321033078,0.11603846683316904,0.17895930546040267,-0.04127696085448329,-0.42155511003517115],[-0.8055869969822448,1.0,-0.8665388971406675,0.7012620075826436,-0.8024676551633961,-0.3542423276009059,-0.8353006672177135,0.153328266390187,-0.7125783543095707,-0.7799592891652631,0.6234545485217545,-0.6812747056984271,0.058836854489203914,-0.575270086273715,-0.11970481325166821,-0.627446980334215,-0.6507070172016687,-0.6165050240854076,0.22413176582616665,0.40444685849893297,-0.11019035567294345,0.08468406012371017,0.10300835871223674,0.008697050290003226,0.12593814644969104,0.015767255619685002,-0.08626534468221124,0.02271276088474347,-0.22103181487960294,0.4869170011625087],[0.8717144393811671,-0.8665388971406675,1.0,-0.764017517703373,0.8361053936117069,0.514865029804538,0.8860110992046248,-0.2891669660512456,0.7635875139616448,0.8471859041013715,-0.7142834087610042,0.7568959857082428,-0.058663563738941216,0.6648038936920312,0.10350426287490845,0.7205702465059004,0.7341674404553503,0.6884392887058042,-0.30824061234139144,-0.41078272247674086,0.07587718427414925,-0.07920279481194266,-0.019677654067580076,0.009666394303093384,-0.10417903470387607,-0.039788042093549254,-0.007943424166251897,0.09849884657588347,0.04557273981015414,-0.5677499582608936],[-0.6108319237430949,0.7012620075826436,-0.764017517703373,1.0,-0.5667289683506728,-0.45608189018633527,-0.7156942801410696,0.1451908543845832,-0.7775965975446367,-0.7942435229217597,0.7943716814158632,-0.8293567174926064,0.04007766268335982,-0.7956455033907718,-0.11488989424681677,-0.7153965417919047,-0.6998441454394986,-0.631625097987928,0.2985108758661655,0.34637496849355365,-0.041981504164850844,0.13668196800643365,0.03562060585706126,-0.07239248099199869,-0.013572984205053137,0.1590678652402836,0.0538576739125555,-0.05407465138813729,-0.1870536650405634,0.7102464278508025],[0.8541143685386402,-0.8024676551633961,0.8361053936117069,-0.5667289683506728,1.0,0.31909850348127844,0.8387340642906962,-0.3172370688304851,0.6446442303362752,0.736926544416409,-0.5141540661739769,0.6043118448009046,-0.11741511990937589,0.4271602279239312,0.056081377074958916,0.6793212243654488,0.7394211654468028,0.7368371548801883,-0.4038634792322839,-0.36172926611849116,0.08959442984101575,-0.10639046897335237,-0.07873945098216555,-0.1311556437376403,-0.09856198331274317,0.033897724527222665,0.09902199513148717,0.14985304154896847,-0.17626709325137352,-0.3630613757761469],[0.37520875416004595,-0.3542423276009059,0.514865029804538,-0.45608189018633527,0.31909850348127844,1.0,0.3478013812969217,-0.5361298087820116,0.38955211694759373,0.45392801853159376,-0.5290571111881897,0.5176899712151992,-0.04267983262559429,0.5783751176984757,-0.06636650126924355,0.46546542224770776,0.44660694155790764,0.38219435584185774,-0.19289663802687376,-0.08673861235607538,-0.20795647045222024,0.1605625407645953,0.25156232604306494,0.0029713668954803375,-0.15992642919933356,-0.02675789039349804,-0.24089168391668336,-0.09692320525354255,0.16155600570773565,-0.4471655592588495],[0.88074136479463,-0.8353006672177135,0.8860110992046248,-0.7156942801410696,0.8387340642906962,0.3478013812969217,1.0,-0.05468741674448326,0.7730581641097422,0.8690987243694905,-0.641472336857283,0.7282325043717583,-0.04737646352765945,0.5473404516328556,0.15003496192727242,0.7481602734616757,0.7830441339010031,0.767265004923121,-0.36239904331642403,-0.4743076648563404,0.21165051049048997,-0.23075530531483174,-0.035733117705488565,-0.05921249113408373,0.040797852099245926,-0.008983424091485092,0.15189472802026646,0.14409600322607632,0.10073338181952167,-0.4666128200687086],[-0.23368445364098564,0.153328266390187,-0.2891669660512456,0.1451908543845832,-0.3172370688304851,-0.5361298087820116,-0.05468741674448326,1.0,-0.10121680218737056,-0.10706659256256788,0.23770346021330896,-0.20493924295328111,0.21892164775471926,-0.26648139803190724,0.1657502045774628,-0.25878556345293163,-0.2865231856203791,-0.25791455355142057,0.22598647378451525,-0.18069695539967465,0.39295161028570963,-0.3576701182925496,-0.2935752790611826,0.03198790964507579,0.2953732427124371,0.027849173642814442,0.39303436369013467,0.06798429090278224,0.13708953961401232,0.11428081819087663],[0.6507200671412446,-0.7125783543095707,0.7635875139616448,-0.7775965975446367,0.6446442303362752,0.38955211694759373,0.7730581641097422,-0.10121680218737056,1.0,0.8381666924908968,-0.6930197079047279,0.760075423070889,-0.0017494719269890494,0.6887052229929053,0.09887488763881759,0.7310432758097252,0.7593669738599997,0.701943764623408,-0.31699314466832107,-0.42050584487415726,0.174034581425797,-0.2452395318586597,-0.08252970337396194,0.01452637992750841,-0.024737624856094213,-0.1297099924131806,0.022726414414154687,0.08754358756265924,0.12621828549121564,-0.5615770747207999],[0.7319151328562977,-0.7799592891652631,0.8471859041013715,-0.7942435229217597,0.736926544416409,0.45392801853159376,0.8690987243694905,-0.10706659256256788,0.8381666924908968,1.0,-0.8095218846538504,0.8849021363550253,-0.032269629911785135,0.7718410311429219,0.12731989996572884,0.859511252665362,0.8590603158214535,0.8026147040728774,-0.3985775936930092,-0.43702401320766837,0.12896356184591415,-0.24671006049122476,-0.05419658042314738,-0.0007572006545263545,-0.0017222525633291846,-0.05778355074512352,0.0408821559125278,0.0972542890531428,0.11029998945977205,-0.6327577464137607],[-0.5190418893180566,0.6234545485217545,-0.7142834087610042,0.7943716814158632,-0.5141540661739769,-0.5290571111881897,-0.641472336857283,0.23770346021330896,-0.6930197079047279,-0.8095218846538504,1.0,-0.897109961141987,0.05353470567339747,-0.8841260839237908,-0.043976981208253614,-0.7974838261269135,-0.7664103498395183,-0.6638714743631376,0.3676259438857979,0.24809491674041093,0.12819409866641077,0.052403598990880366,-0.03140087048124177,-0.09194829352816693,0.010408739125529575,0.1656018222310994,0.2286707522035706,0.0374721029322504,-0.1615252711581236,0.6812479508897218],[0.5923559641173431,-0.6812747056984271,0.7568959857082428,-0.8293567174926064,0.6043118448009046,0.5176899712151992,0.7282325043717583,-0.20493924295328111,0.760075423070889,0.8849021363550253,-0.897109961141987,1.0,-0.07751628112609353,0.875170508331865,0.07064914674951106,0.8914968797530245,0.8700010458404493,0.7897185473937203,-0.418046235055502,-0.26736856976138346,-0.08276023120217198,-0.1284839980778613,0.0009009174356310847,0.028758030030945635,0.03041828645239207,-0.11609322047075046,-0.09207460778095287,-0.013926500892673017,0.12828349686828738,-0.6752037324763737],[-0.062072285425391005,0.058836854489203914,-0.058663563738941216,0.04007766268335982,-0.11741511990937589,-0.04267983262559429,-0.04737646352765945,0.21892164775471926,-0.0017494719269890494,-0.032269629911785135,0.05353470567339747,-0.07751628112609353,1.0,0.004314802736171905,-0.06981294054314038,-0.09325228718534606,-0.12081921531047576,-0.12386275973277693,0.13800972533404843,-0.08027833276977818,0.0973604715249507,-0.06519886669493799,-0.04569852256103236,0.042968067360807695,0.007075117986353835,0.06702462722605375,0.028183648385246687,-0.10363827872879414,0.08985790138912429,-0.06848441715893362],[0.4402825879373545,-0.575270086273715,0.6648038936920312,-0.7956455033907718,0.4271602279239312,0.5783751176984757,0.5473404516328556,-0.26648139803190724,0.6887052229929053,0.7718410311429219,-0.8841260839237908,0.875170508331865,0.004314802736171905,1.0,-0.013863324272764049,0.7679100357907317,0.7238648045571329,0.6153150194497511,-0.3351533060244741,-0.18500353629515717,-0.21463639798736278,0.020599454052747178,0.02647015782488172,0.12755842251562624,-0.07387770613701908,-0.15707063111737804,-0.24408478085476631,-0.11960748751234745,0.1889103884611673,-0.7510674619996665],[0.07038120676745933,-0.11970481325166821,0.10350426287490845,-0.11488989424681677,0.056081377074958916,-0.06636650126924355,0.15003496192727242,0.1657502045774628,0.09887488763881759,0.12731989996572884,-0.043976981208253614,0.07064914674951106,-0.06981294054314038,-0.013863324272764049,1.0,-0.012279798350192047,0.018790410139578197,0.015155980865357868,0.22656674220528,-0.15050628568964222,0.1783471434057839,-0.07332998759255498,-0.051717781460903445,0.014623015529017448,-0.040739181778416234,-0.012615486091348282,0.1218581409301417,0.07927822469879615,0.07145508040699662,-0.010609241793541498],[0.6300300354763357,-0.627446980334215,0.7205702465059004,-0.7153965417919047,0.6793212243654488,0.46546542224770776,0.7481602734616757,-0.25878556345293163,0.7310432758097252,0.859511252665362,-0.7974838261269135,0.8914968797530245,-0.09325228718534606,0.7679100357907317,-0.012279798350192047,1.0,0.9489407360285881,0.9021493952996029,-0.6027002767496141,-0.24826028297566555,-0.12643418344137647,-0.16617659984067037,0.011496253787600984,-0.06150501764565326,0.055572734535077634,-0.05104662861060418,-0.08152341095470665,0.004508510840112317,-0.0027409385489614692,-0.5830432296898781],[0.6784080251645586,-0.6507070172016687,0.7341674404553503,-0.6998441454394986,0.7394211654468028,0.44660694155790764,0.7830441339010031,-0.2865231856203791,0.7593669738599997,0.8590603158214535,-0.7664103498395183,0.8700010458404493,-0.12081921531047576,0.7238648045571329,0.018790410139578197,0.9489407360285881,1.0,0.9347128214955109,-0.5714829691639653,-0.2577362904684675,-0.1006046255886177,-0.15739095930543423,0.013507440568368206,-0.08963498301161256,0.031201080537024996,-0.04380732384692537,-0.05476849450109896,0.03941777623311526,-0.027314204112328946,-0.5536639158195696],[0.6725017463627294,-0.6165050240854076,0.6884392887058042,-0.631625097987928,0.7368371548801883,0.38219435584185774,0.767265004923121,-0.25791455355142057,0.701943764623408,0.8026147040728774,-0.6638714743631376,0.7897185473937203,-0.12386275973277693,0.6153150194497511,0.015155980865357868,0.9021493952996029,0.9347128214955109,1.0,-0.5315400920448764,-0.23969967362328812,-0.0583141331595577,-0.16439800470633678,0.03609739846795333,-0.11324128685044728,0.048131354495949706,-0.024181968738707305,-0.006925063902519229,0.07815964163646445,-0.04964317319615134,-0.45967604183767885],[-0.3105275440775441,0.22413176582616665,-0.30824061234139144,0.2985108758661655,-0.4038634792322839,-0.19289663802687376,-0.36239904331642403,0.22598647378451525,-0.31699314466832107,-0.3985775936930092,0.3676259438857979,-0.418046235055502,0.13800972533404843,-0.3351533060244741,0.22656674220528,-0.6027002767496141,-0.5714829691639653,-0.5315400920448764,1.0,0.06662455583158253,0.15033358717109774,0.14790703505919622,0.0031101511975434744,0.08486449008129382,-0.15391711100728017,0.00940492837052573,0.04693973921467091,-0.06790847181859162,0.14644976831588052,0.23579242859970115],[-0.36431275834058696,0.40444685849893297,-0.41078272247674086,0.34637496849355365,-0.36172926611849116,-0.08673861235607538,-0.4743076648563404,-0.18069695539967465,-0.42050584487415726,-0.43702401320766837,0.24809491674041093,-0.26736856976138346,-0.08027833276977818,-0.18500353629515717,-0.15050628568964222,-0.24826028297566555,-0.2577362904684675,-0.23969967362328812,0.06662455583158253,1.0,-0.5204963742497525,0.36653940926276585,0.2516798847977847,-0.019895068797424253,0.04082257180763841,0.042629786248825616,-0.09070254085454997,0.07868065066788119,-0.024773980869123507,0.22498155887618054],[0.11488920681746069,-0.11019035567294345,0.07587718427414925,-0.041981504164850844,0.08959442984101575,-0.20795647045222024,0.21165051049048997,0.39295161028570963,0.174034581425797,0.12896356184591415,0.12819409866641077,-0.08276023120217198,0.0973604715249507,-0.21463639798736278,0.1783471434057839,-0.12643418344137647,-0.1006046255886177,-0.0583141331595577,0.15033358717109774,-0.5204963742497525,1.0,-0.6082935826918385,-0.11630111278294131,0.008664218582148792,0.1424659083149922,0.043980270428647605,0.3922290902385653,0.256371250971826,0.10394499795161906,0.10839038466222406],[-0.10304102572132107,0.08468406012371017,-0.07920279481194266,0.13668196800643365,-0.10639046897335237,0.1605625407645953,-0.23075530531483174,-0.3576701182925496,-0.2452395318586597,-0.24671006049122476,0.052403598990880366,-0.1284839980778613,-0.06519886669493799,0.020599454052747178,-0.07332998759255498,-0.16617659984067037,-0.15739095930543423,-0.16439800470633678,0.14790703505919622,0.36653940926276585,-0.6082935826918385,1.0,0.20764570496256715,0.03545227500477702,-0.28860070710984714,0.06446221413009588,-0.3556555492996121,-0.19444141696107062,-0.04995593448143323,0.048853258196280475],[0.009792731672283535,0.10300835871223674,-0.019677654067580076,0.03562060585706126,-0.07873945098216555,0.25156232604306494,-0.035733117705488565,-0.2935752790611826,-0.08252970337396194,-0.05419658042314738,-0.03140087048124177,0.0009009174356310847,-0.04569852256103236,0.02647015782488172,-0.051717781460903445,0.011496253787600984,0.013507440568368206,0.03609739846795333,0.0031101511975434744,0.2516798847977847,-0.11630111278294131,0.20764570496256715,1.0,-0.007161058168759541,0.05543901867701604,0.05378383642414592,-0.22802494129594872,0.051539512396022225,-0.0744919067571668,-0.018399269718135373],[-0.07264505525991258,0.008697050290003226,0.009666394303093384,-0.07239248099199869,-0.1311556437376403,0.0029713668954803375,-0.05921249113408373,0.03198790964507579,0.01452637992750841,-0.0007572006545263545,-0.09194829352816693,0.028758030030945635,0.042968067360807695,0.12755842251562624,0.014623015529017448,-0.06150501764565326,-0.08963498301161256,-0.11324128685044728,0.08486449008129382,-0.019895068797424253,0.008664218582148792,0.03545227500477702,-0.007161058168759541,1.0,-0.12163743253021665,-0.0688716806987906,-0.18406138147496445,0.012637870165286514,0.11116221793061054,-0.06402801167212462],[-0.09253182048034794,0.12593814644969104,-0.10417903470387607,-0.013572984205053137,-0.09856198331274317,-0.15992642919933356,0.040797852099245926,0.2953732427124371,-0.024737624856094213,-0.0017222525633291846,0.010408739125529575,0.03041828645239207,0.007075117986353835,-0.07387770613701908,-0.040739181778416234,0.055572734535077634,0.031201080537024996,0.048131354495949706,-0.15391711100728017,0.04082257180763841,0.1424659083149922,-0.28860070710984714,0.05543901867701604,-0.12163743253021665,1.0,0.02550733780370648,0.19597674847688948,0.15568962020224775,-0.038107009221921256,0.031178881694150368],[0.03413621321033078,0.015767255619685002,-0.039788042093549254,0.1590678652402836,0.033897724527222665,-0.02675789039349804,-0.008983424091485092,0.027849173642814442,-0.1297099924131806,-0.05778355074512352,0.1656018222310994,-0.11609322047075046,0.06702462722605375,-0.15707063111737804,-0.012615486091348282,-0.05104662861060418,-0.04380732384692537,-0.024181968738707305,0.00940492837052573,0.042629786248825616,0.043980270428647605,0.06446221413009588,0.05378383642414592,-0.0688716806987906,0.02550733780370648,1.0,0.11437217568524675,0.012797015296990155,-0.06181735526803044,0.05595499851690492],[0.11603846683316904,-0.08626534468221124,-0.007943424166251897,0.0538576739125555,0.09902199513148717,-0.24089168391668336,0.15189472802026646,0.39303436369013467,0.022726414414154687,0.0408821559125278,0.2286707522035706,-0.09207460778095287,0.028183648385246687,-0.24408478085476631,0.1218581409301417,-0.08152341095470665,-0.05476849450109896,-0.006925063902519229,0.04693973921467091,-0.09070254085454997,0.3922290902385653,-0.3556555492996121,-0.22802494129594872,-0.18406138147496445,0.19597674847688948,0.11437217568524675,1.0,0.24068559040714405,0.02122484026321337,0.12396423665942448],[0.17895930546040267,0.02271276088474347,0.09849884657588347,-0.05407465138813729,0.14985304154896847,-0.09692320525354255,0.14409600322607632,0.06798429090278224,0.08754358756265924,0.0972542890531428,0.0374721029322504,-0.013926500892673017,-0.10363827872879414,-0.11960748751234745,0.07927822469879615,0.004508510840112317,0.03941777623311526,0.07815964163646445,-0.06790847181859162,0.07868065066788119,0.256371250971826,-0.19444141696107062,0.051539512396022225,0.012637870165286514,0.15568962020224775,0.012797015296990155,0.24068559040714405,1.0,-0.10926848456310344,0.09038000508864827],[-0.04127696085448329,-0.22103181487960294,0.04557273981015414,-0.1870536650405634,-0.17626709325137352,0.16155600570773565,0.10073338181952167,0.13708953961401232,0.12621828549121564,0.11029998945977205,-0.1615252711581236,0.12828349686828738,0.08985790138912429,0.1889103884611673,0.07145508040699662,-0.0027409385489614692,-0.027314204112328946,-0.04964317319615134,0.14644976831588052,-0.024773980869123507,0.10394499795161906,-0.04995593448143323,-0.0744919067571668,0.11116221793061054,-0.038107009221921256,-0.06181735526803044,0.02122484026321337,-0.10926848456310344,1.0,-0.10523572321761485],[-0.42155511003517115,0.4869170011625087,-0.5677499582608936,0.7102464278508025,-0.3630613757761469,-0.4471655592588495,-0.4666128200687086,0.11428081819087663,-0.5615770747207999,-0.6327577464137607,0.6812479508897218,-0.6752037324763737,-0.06848441715893362,-0.7510674619996665,-0.010609241793541498,-0.5830432296898781,-0.5536639158195696,-0.45967604183767885,0.23579242859970115,0.22498155887618054,0.10839038466222406,0.048853258196280475,-0.018399269718135373,-0.06402801167212462,0.031178881694150368,0.05595499851690492,0.12396423665942448,0.09038000508864827,-0.10523572321761485,1.0]],\"type\":\"heatmap\",\"xaxis\":\"x\",\"yaxis\":\"y\",\"hovertemplate\":\"x: %{x}\\u003cbr\\u003ey: %{y}\\u003cbr\\u003ecolor: %{z}\\u003cextra\\u003e\\u003c\\u002fextra\\u003e\"}],                        {\"template\":{\"data\":{\"histogram2dcontour\":[{\"type\":\"histogram2dcontour\",\"colorbar\":{\"outlinewidth\":0,\"ticks\":\"\"},\"colorscale\":[[0.0,\"#0d0887\"],[0.1111111111111111,\"#46039f\"],[0.2222222222222222,\"#7201a8\"],[0.3333333333333333,\"#9c179e\"],[0.4444444444444444,\"#bd3786\"],[0.5555555555555556,\"#d8576b\"],[0.6666666666666666,\"#ed7953\"],[0.7777777777777778,\"#fb9f3a\"],[0.8888888888888888,\"#fdca26\"],[1.0,\"#f0f921\"]]}],\"choropleth\":[{\"type\":\"choropleth\",\"colorbar\":{\"outlinewidth\":0,\"ticks\":\"\"}}],\"histogram2d\":[{\"type\":\"histogram2d\",\"colorbar\":{\"outlinewidth\":0,\"ticks\":\"\"},\"colorscale\":[[0.0,\"#0d0887\"],[0.1111111111111111,\"#46039f\"],[0.2222222222222222,\"#7201a8\"],[0.3333333333333333,\"#9c179e\"],[0.4444444444444444,\"#bd3786\"],[0.5555555555555556,\"#d8576b\"],[0.6666666666666666,\"#ed7953\"],[0.7777777777777778,\"#fb9f3a\"],[0.8888888888888888,\"#fdca26\"],[1.0,\"#f0f921\"]]}],\"heatmap\":[{\"type\":\"heatmap\",\"colorbar\":{\"outlinewidth\":0,\"ticks\":\"\"},\"colorscale\":[[0.0,\"#0d0887\"],[0.1111111111111111,\"#46039f\"],[0.2222222222222222,\"#7201a8\"],[0.3333333333333333,\"#9c179e\"],[0.4444444444444444,\"#bd3786\"],[0.5555555555555556,\"#d8576b\"],[0.6666666666666666,\"#ed7953\"],[0.7777777777777778,\"#fb9f3a\"],[0.8888888888888888,\"#fdca26\"],[1.0,\"#f0f921\"]]}],\"heatmapgl\":[{\"type\":\"heatmapgl\",\"colorbar\":{\"outlinewidth\":0,\"ticks\":\"\"},\"colorscale\":[[0.0,\"#0d0887\"],[0.1111111111111111,\"#46039f\"],[0.2222222222222222,\"#7201a8\"],[0.3333333333333333,\"#9c179e\"],[0.4444444444444444,\"#bd3786\"],[0.5555555555555556,\"#d8576b\"],[0.6666666666666666,\"#ed7953\"],[0.7777777777777778,\"#fb9f3a\"],[0.8888888888888888,\"#fdca26\"],[1.0,\"#f0f921\"]]}],\"contourcarpet\":[{\"type\":\"contourcarpet\",\"colorbar\":{\"outlinewidth\":0,\"ticks\":\"\"}}],\"contour\":[{\"type\":\"contour\",\"colorbar\":{\"outlinewidth\":0,\"ticks\":\"\"},\"colorscale\":[[0.0,\"#0d0887\"],[0.1111111111111111,\"#46039f\"],[0.2222222222222222,\"#7201a8\"],[0.3333333333333333,\"#9c179e\"],[0.4444444444444444,\"#bd3786\"],[0.5555555555555556,\"#d8576b\"],[0.6666666666666666,\"#ed7953\"],[0.7777777777777778,\"#fb9f3a\"],[0.8888888888888888,\"#fdca26\"],[1.0,\"#f0f921\"]]}],\"surface\":[{\"type\":\"surface\",\"colorbar\":{\"outlinewidth\":0,\"ticks\":\"\"},\"colorscale\":[[0.0,\"#0d0887\"],[0.1111111111111111,\"#46039f\"],[0.2222222222222222,\"#7201a8\"],[0.3333333333333333,\"#9c179e\"],[0.4444444444444444,\"#bd3786\"],[0.5555555555555556,\"#d8576b\"],[0.6666666666666666,\"#ed7953\"],[0.7777777777777778,\"#fb9f3a\"],[0.8888888888888888,\"#fdca26\"],[1.0,\"#f0f921\"]]}],\"mesh3d\":[{\"type\":\"mesh3d\",\"colorbar\":{\"outlinewidth\":0,\"ticks\":\"\"}}],\"scatter\":[{\"fillpattern\":{\"fillmode\":\"overlay\",\"size\":10,\"solidity\":0.2},\"type\":\"scatter\"}],\"parcoords\":[{\"type\":\"parcoords\",\"line\":{\"colorbar\":{\"outlinewidth\":0,\"ticks\":\"\"}}}],\"scatterpolargl\":[{\"type\":\"scatterpolargl\",\"marker\":{\"colorbar\":{\"outlinewidth\":0,\"ticks\":\"\"}}}],\"bar\":[{\"error_x\":{\"color\":\"#2a3f5f\"},\"error_y\":{\"color\":\"#2a3f5f\"},\"marker\":{\"line\":{\"color\":\"#E5ECF6\",\"width\":0.5},\"pattern\":{\"fillmode\":\"overlay\",\"size\":10,\"solidity\":0.2}},\"type\":\"bar\"}],\"scattergeo\":[{\"type\":\"scattergeo\",\"marker\":{\"colorbar\":{\"outlinewidth\":0,\"ticks\":\"\"}}}],\"scatterpolar\":[{\"type\":\"scatterpolar\",\"marker\":{\"colorbar\":{\"outlinewidth\":0,\"ticks\":\"\"}}}],\"histogram\":[{\"marker\":{\"pattern\":{\"fillmode\":\"overlay\",\"size\":10,\"solidity\":0.2}},\"type\":\"histogram\"}],\"scattergl\":[{\"type\":\"scattergl\",\"marker\":{\"colorbar\":{\"outlinewidth\":0,\"ticks\":\"\"}}}],\"scatter3d\":[{\"type\":\"scatter3d\",\"line\":{\"colorbar\":{\"outlinewidth\":0,\"ticks\":\"\"}},\"marker\":{\"colorbar\":{\"outlinewidth\":0,\"ticks\":\"\"}}}],\"scattermapbox\":[{\"type\":\"scattermapbox\",\"marker\":{\"colorbar\":{\"outlinewidth\":0,\"ticks\":\"\"}}}],\"scatterternary\":[{\"type\":\"scatterternary\",\"marker\":{\"colorbar\":{\"outlinewidth\":0,\"ticks\":\"\"}}}],\"scattercarpet\":[{\"type\":\"scattercarpet\",\"marker\":{\"colorbar\":{\"outlinewidth\":0,\"ticks\":\"\"}}}],\"carpet\":[{\"aaxis\":{\"endlinecolor\":\"#2a3f5f\",\"gridcolor\":\"white\",\"linecolor\":\"white\",\"minorgridcolor\":\"white\",\"startlinecolor\":\"#2a3f5f\"},\"baxis\":{\"endlinecolor\":\"#2a3f5f\",\"gridcolor\":\"white\",\"linecolor\":\"white\",\"minorgridcolor\":\"white\",\"startlinecolor\":\"#2a3f5f\"},\"type\":\"carpet\"}],\"table\":[{\"cells\":{\"fill\":{\"color\":\"#EBF0F8\"},\"line\":{\"color\":\"white\"}},\"header\":{\"fill\":{\"color\":\"#C8D4E3\"},\"line\":{\"color\":\"white\"}},\"type\":\"table\"}],\"barpolar\":[{\"marker\":{\"line\":{\"color\":\"#E5ECF6\",\"width\":0.5},\"pattern\":{\"fillmode\":\"overlay\",\"size\":10,\"solidity\":0.2}},\"type\":\"barpolar\"}],\"pie\":[{\"automargin\":true,\"type\":\"pie\"}]},\"layout\":{\"autotypenumbers\":\"strict\",\"colorway\":[\"#636efa\",\"#EF553B\",\"#00cc96\",\"#ab63fa\",\"#FFA15A\",\"#19d3f3\",\"#FF6692\",\"#B6E880\",\"#FF97FF\",\"#FECB52\"],\"font\":{\"color\":\"#2a3f5f\"},\"hovermode\":\"closest\",\"hoverlabel\":{\"align\":\"left\"},\"paper_bgcolor\":\"white\",\"plot_bgcolor\":\"#E5ECF6\",\"polar\":{\"bgcolor\":\"#E5ECF6\",\"angularaxis\":{\"gridcolor\":\"white\",\"linecolor\":\"white\",\"ticks\":\"\"},\"radialaxis\":{\"gridcolor\":\"white\",\"linecolor\":\"white\",\"ticks\":\"\"}},\"ternary\":{\"bgcolor\":\"#E5ECF6\",\"aaxis\":{\"gridcolor\":\"white\",\"linecolor\":\"white\",\"ticks\":\"\"},\"baxis\":{\"gridcolor\":\"white\",\"linecolor\":\"white\",\"ticks\":\"\"},\"caxis\":{\"gridcolor\":\"white\",\"linecolor\":\"white\",\"ticks\":\"\"}},\"coloraxis\":{\"colorbar\":{\"outlinewidth\":0,\"ticks\":\"\"}},\"colorscale\":{\"sequential\":[[0.0,\"#0d0887\"],[0.1111111111111111,\"#46039f\"],[0.2222222222222222,\"#7201a8\"],[0.3333333333333333,\"#9c179e\"],[0.4444444444444444,\"#bd3786\"],[0.5555555555555556,\"#d8576b\"],[0.6666666666666666,\"#ed7953\"],[0.7777777777777778,\"#fb9f3a\"],[0.8888888888888888,\"#fdca26\"],[1.0,\"#f0f921\"]],\"sequentialminus\":[[0.0,\"#0d0887\"],[0.1111111111111111,\"#46039f\"],[0.2222222222222222,\"#7201a8\"],[0.3333333333333333,\"#9c179e\"],[0.4444444444444444,\"#bd3786\"],[0.5555555555555556,\"#d8576b\"],[0.6666666666666666,\"#ed7953\"],[0.7777777777777778,\"#fb9f3a\"],[0.8888888888888888,\"#fdca26\"],[1.0,\"#f0f921\"]],\"diverging\":[[0,\"#8e0152\"],[0.1,\"#c51b7d\"],[0.2,\"#de77ae\"],[0.3,\"#f1b6da\"],[0.4,\"#fde0ef\"],[0.5,\"#f7f7f7\"],[0.6,\"#e6f5d0\"],[0.7,\"#b8e186\"],[0.8,\"#7fbc41\"],[0.9,\"#4d9221\"],[1,\"#276419\"]]},\"xaxis\":{\"gridcolor\":\"white\",\"linecolor\":\"white\",\"ticks\":\"\",\"title\":{\"standoff\":15},\"zerolinecolor\":\"white\",\"automargin\":true,\"zerolinewidth\":2},\"yaxis\":{\"gridcolor\":\"white\",\"linecolor\":\"white\",\"ticks\":\"\",\"title\":{\"standoff\":15},\"zerolinecolor\":\"white\",\"automargin\":true,\"zerolinewidth\":2},\"scene\":{\"xaxis\":{\"backgroundcolor\":\"#E5ECF6\",\"gridcolor\":\"white\",\"linecolor\":\"white\",\"showbackground\":true,\"ticks\":\"\",\"zerolinecolor\":\"white\",\"gridwidth\":2},\"yaxis\":{\"backgroundcolor\":\"#E5ECF6\",\"gridcolor\":\"white\",\"linecolor\":\"white\",\"showbackground\":true,\"ticks\":\"\",\"zerolinecolor\":\"white\",\"gridwidth\":2},\"zaxis\":{\"backgroundcolor\":\"#E5ECF6\",\"gridcolor\":\"white\",\"linecolor\":\"white\",\"showbackground\":true,\"ticks\":\"\",\"zerolinecolor\":\"white\",\"gridwidth\":2}},\"shapedefaults\":{\"line\":{\"color\":\"#2a3f5f\"}},\"annotationdefaults\":{\"arrowcolor\":\"#2a3f5f\",\"arrowhead\":0,\"arrowwidth\":1},\"geo\":{\"bgcolor\":\"white\",\"landcolor\":\"#E5ECF6\",\"subunitcolor\":\"white\",\"showland\":true,\"showlakes\":true,\"lakecolor\":\"white\"},\"title\":{\"x\":0.05},\"mapbox\":{\"style\":\"light\"}}},\"xaxis\":{\"anchor\":\"y\",\"domain\":[0.0,1.0]},\"yaxis\":{\"anchor\":\"x\",\"domain\":[0.0,1.0],\"autorange\":\"reversed\"},\"coloraxis\":{\"colorscale\":[[0.0,\"rgb(5,48,97)\"],[0.1,\"rgb(33,102,172)\"],[0.2,\"rgb(67,147,195)\"],[0.3,\"rgb(146,197,222)\"],[0.4,\"rgb(209,229,240)\"],[0.5,\"rgb(247,247,247)\"],[0.6,\"rgb(253,219,199)\"],[0.7,\"rgb(244,165,130)\"],[0.8,\"rgb(214,96,77)\"],[0.9,\"rgb(178,24,43)\"],[1.0,\"rgb(103,0,31)\"]]},\"margin\":{\"t\":60}},                        {\"responsive\": true}                    ).then(function(){\n",
              "                            \n",
              "var gd = document.getElementById('531bd4d2-2270-4370-8308-6c3126a95d7e');\n",
              "var x = new MutationObserver(function (mutations, observer) {{\n",
              "        var display = window.getComputedStyle(gd).display;\n",
              "        if (!display || display === 'none') {{\n",
              "            console.log([gd, 'removed!']);\n",
              "            Plotly.purge(gd);\n",
              "            observer.disconnect();\n",
              "        }}\n",
              "}});\n",
              "\n",
              "// Listen for the removal of the full notebook cells\n",
              "var notebookContainer = gd.closest('#notebook-container');\n",
              "if (notebookContainer) {{\n",
              "    x.observe(notebookContainer, {childList: true});\n",
              "}}\n",
              "\n",
              "// Listen for the clearing of the current output cell\n",
              "var outputEl = gd.closest('.output');\n",
              "if (outputEl) {{\n",
              "    x.observe(outputEl, {childList: true});\n",
              "}}\n",
              "\n",
              "                        })                };                            </script>        </div>\n",
              "</body>\n",
              "</html>"
            ]
          },
          "metadata": {}
        }
      ],
      "source": [
        "corr = new_df.corr()\n",
        "fig=px.imshow(corr, aspect=\"auto\" ,color_continuous_scale='RdBu_r')\n",
        "fig.show()"
      ]
    },
    {
      "cell_type": "markdown",
      "id": "a7c45385",
      "metadata": {
        "id": "a7c45385"
      },
      "source": [
        "Negative Correlations: V17, V14, V12 and V10 are negatively correlated.  \n",
        "Positive Correlations: V2, V4, V11 are positively correlated."
      ]
    },
    {
      "cell_type": "markdown",
      "source": [
        "Note-Used chatgpt to understand the correlations. As the features are anonymised it was difficult to conclude and get relationship and dependency on eachother."
      ],
      "metadata": {
        "id": "YadvXGTyjhhh"
      },
      "id": "YadvXGTyjhhh"
    },
    {
      "cell_type": "code",
      "execution_count": null,
      "id": "Mzekq9GppDUe",
      "metadata": {
        "colab": {
          "base_uri": "https://localhost:8080/"
        },
        "id": "Mzekq9GppDUe",
        "outputId": "acd4551b-90c0-470b-9718-f9a0fca27572"
      },
      "outputs": [
        {
          "output_type": "stream",
          "name": "stdout",
          "text": [
            "Highly Correlated Feature Pairs (|r| > 0.9):\n",
            "V16 ↔ V17: r = 0.95\n",
            "V16 ↔ V18: r = 0.90\n",
            "V17 ↔ V18: r = 0.93\n"
          ]
        }
      ],
      "source": [
        "# Calculate absolute correlation matrix (optional: choose df or new_df)\n",
        "corr_matrix = new_df.corr().abs()\n",
        "\n",
        "# Select upper triangle of correlation matrix to avoid duplicates and self-correlation\n",
        "upper = corr_matrix.where(np.triu(np.ones(corr_matrix.shape), k=1).astype(bool))\n",
        "\n",
        "# Set threshold\n",
        "threshold = 0.9\n",
        "\n",
        "# Find feature pairs with high correlation\n",
        "high_corr_pairs = [(col1, col2, corr_matrix.loc[col1, col2])\n",
        "                   for col1 in upper.columns\n",
        "                   for col2 in upper.columns\n",
        "                   if (upper.loc[col1, col2] > threshold)]\n",
        "\n",
        "# Display results\n",
        "print(\"Highly Correlated Feature Pairs (|r| > 0.9):\")\n",
        "for f1, f2, corr_value in high_corr_pairs:\n",
        "    print(f\"{f1} ↔ {f2}: r = {corr_value:.2f}\")"
      ]
    },
    {
      "cell_type": "markdown",
      "source": [
        "Reference-https://data36.com/correlation-definition-calculation-corr-pandas/"
      ],
      "metadata": {
        "id": "LtWiIXsqjlSc"
      },
      "id": "LtWiIXsqjlSc"
    },
    {
      "cell_type": "markdown",
      "id": "09014a1a",
      "metadata": {
        "id": "09014a1a"
      },
      "source": [
        "### TSNE"
      ]
    },
    {
      "cell_type": "code",
      "execution_count": null,
      "id": "64e561a6",
      "metadata": {
        "id": "64e561a6"
      },
      "outputs": [],
      "source": [
        "from sklearn.manifold import TSNE\n",
        "X = new_df.drop('Class', axis=1)\n",
        "y = new_df['Class']\n",
        "\n",
        "# T-SNE Implementation\n",
        "X_reduced_tsne = TSNE(n_components=2, random_state=42).fit_transform(X.values)"
      ]
    },
    {
      "cell_type": "code",
      "execution_count": null,
      "id": "1b1e39a4",
      "metadata": {
        "colab": {
          "base_uri": "https://localhost:8080/",
          "height": 542
        },
        "id": "1b1e39a4",
        "outputId": "90512261-fa42-4f27-c8c8-fbe58e19cfdc"
      },
      "outputs": [
        {
          "output_type": "display_data",
          "data": {
            "text/html": [
              "<html>\n",
              "<head><meta charset=\"utf-8\" /></head>\n",
              "<body>\n",
              "    <div>            <script src=\"https://cdnjs.cloudflare.com/ajax/libs/mathjax/2.7.5/MathJax.js?config=TeX-AMS-MML_SVG\"></script><script type=\"text/javascript\">if (window.MathJax && window.MathJax.Hub && window.MathJax.Hub.Config) {window.MathJax.Hub.Config({SVG: {font: \"STIX-Web\"}});}</script>                <script type=\"text/javascript\">window.PlotlyConfig = {MathJaxConfig: 'local'};</script>\n",
              "        <script charset=\"utf-8\" src=\"https://cdn.plot.ly/plotly-2.35.2.min.js\"></script>                <div id=\"5bb07bdb-8897-43f8-a221-f71d751f4f35\" class=\"plotly-graph-div\" style=\"height:525px; width:100%;\"></div>            <script type=\"text/javascript\">                                    window.PLOTLYENV=window.PLOTLYENV || {};                                    if (document.getElementById(\"5bb07bdb-8897-43f8-a221-f71d751f4f35\")) {                    Plotly.newPlot(                        \"5bb07bdb-8897-43f8-a221-f71d751f4f35\",                        [{\"hovertemplate\":\"x=%{x}\\u003cbr\\u003ey=%{y}\\u003cbr\\u003ecolor=%{marker.color}\\u003cextra\\u003e\\u003c\\u002fextra\\u003e\",\"legendgroup\":\"\",\"marker\":{\"color\":[0,1,1,1,1,1,1,1,1,1,1,1,1,0,0,1,1,1,1,0,0,0,0,0,0,1,1,1,0,0,0,0,0,1,0,0,0,0,0,0,1,1,1,0,0,1,1,1,0,0,0,1,0,1,1,1,0,0,1,0,0,0,0,1,0,1,0,0,1,0,1,0,1,1,0,0,1,0,1,0,0,0,0,1,0,0,1,0,0,0,1,0,0,0,1,0,1,0,1,0,1,1,1,1,1,0,1,1,0,0,0,1,1,0,0,0,1,0,1,1,0,0,0,0,0,1,0,0,1,0,0,0,0,1,0,1,1,1,0,1,1,1,1,0,1,1,0,1,0,1,1,1,0,0,1,0,0,0,0,1,1,0,1,0,1,0,1,0,1,1,1,0,0,0,0,1,0,1,0,0,1,0,0,0,1,0,0,1,0,1,0,1,1,0,1,1,0,1,0,1,1,0,1,1,1,1,0,1,1,0,0,1,1,1,0,1,0,1,1,1,0,0,0,0,1,0,1,0,0,0,0,1,0,1,1,1,1,1,1,1,0,0,1,0,1,1,1,1,0,0,0,0,1,1,1,0,0,0,0,1,0,1,0,1,1,1,0,1,0,1,1,1,1,0,0,1,1,0,0,0,1,0,0,1,0,0,1,0,0,0,0,0,1,1,0,1,1,1,1,0,1,0,1,1,0,0,0,1,0,0,0,0,0,1,1,1,1,1,0,1,0,1,1,0,1,1,1,1,0,1,1,0,1,1,1,0,1,1,0,1,1,1,1,1,0,1,1,0,0,1,1,0,1,1,1,0,1,0,1,1,1,0,1,0,1,1,1,0,1,1,0,0,0,1,1,0,0,0,1,0,0,0,0,1,0,0,0,1,1,1,0,1,1,1,1,0,1,1,1,1,1,0,1,0,0,1,0,0,0,1,0,0,0,0,0,1,1,0,0,0,1,1,1,1,0,0,1,1,1,1,0,1,1,0,1,1,0,0,0,0,0,0,1,1,1,0,1,1,1,1,0,0,0,0,1,1,1,1,1,0,0,0,1,1,0,0,0,1,1,0,1,0,1,1,0,1,0,0,0,0,1,1,1,1,0,1,0,1,1,1,1,1,0,0,0,0,1,1,0,0,0,1,0,0,1,1,1,0,0,1,0,0,1,0,1,1,1,0,1,1,1,1,0,1,0,0,0,0,1,1,0,0,1,0,0,1,1,1,1,1,0,0,0,1,1,0,1,1,0,1,1,0,1,1,0,1,1,1,0,1,1,0,0,0,1,0,0,1,1,1,0,0,0,0,1,1,0,0,0,1,1,1,1,0,0,1,1,0,1,1,0,0,0,0,0,0,0,1,0,1,0,1,1,0,1,0,0,0,0,0,1,0,0,1,1,0,1,0,1,1,1,0,1,1,0,0,0,1,0,0,0,0,0,0,0,1,0,1,0,0,0,1,1,0,1,1,1,0,0,0,1,1,1,1,0,1,0,0,1,0,1,1,0,1,1,0,0,0,0,0,1,0,1,1,1,0,0,0,0,0,0,1,1,0,0,0,0,1,1,1,1,1,0,0,1,0,1,0,1,1,1,1,1,1,1,1,1,0,0,0,1,0,1,0,0,0,1,0,0,0,0,0,0,0,0,1,0,0,1,0,1,0,1,0,1,0,0,0,1,0,0,1,0,0,1,0,1,0,0,1,1,0,0,0,1,1,1,1,0,0,1,1,0,0,0,0,0,0,0,0,0,0,0,0,1,1,0,1,0,1,0,1,0,0,0,0,0,0,1,0,1,0,0,0,1,0,0,1,1,0,1,0,0,1,1,0,0,0,0,0,0,0,0,1,0,0,0,1,0,1,1,0,1,1,1,0,1,0,0,1,1,1,0,1,0,0,1,1,1,0,1,0,0,0,1,0,1,1,1,0,1,1,0,1,0,1,1,0,0,0,1,0,1,0,1,1,0,0,0,1,1,1,0,0,1,0,0,0,0,1,0,1,1,0,0,0,1,1,1,0,0,1,1,1,1,1,0,1,0,1,1,1,0,1,1,1,0,0,0,0,0,0,0,0,1,0,0,0,0,1,0,0,0,0,0,1,0,0,0,0,1,1,1,1,1,1,1,1,0,1,0,1,0,1,0,1,0,0,1,1,1,1,1,1,1,1,0,1,0,1,1,1,0,1,1],\"coloraxis\":\"coloraxis\",\"symbol\":\"circle\"},\"mode\":\"markers\",\"name\":\"\",\"orientation\":\"v\",\"showlegend\":false,\"x\":[17.838589,-14.000255,-32.536007,-17.653893,-0.984212,-43.0308,-3.8208451,-20.79293,-12.418327,8.831009,-40.36053,-29.30493,-21.132347,24.246502,14.058877,-42.99717,-9.983049,-3.4922678,-35.407364,13.388082,10.200564,29.362541,7.9093857,12.825812,4.790005,-28.503853,-21.09835,-31.267345,31.329075,7.1896663,8.511533,3.626496,20.254904,-24.897247,15.588526,17.442192,33.94993,35.008324,12.5280075,24.936888,-31.390379,-19.477896,-31.438423,12.833538,34.392815,-39.931793,-30.043333,-8.644006,31.603148,30.93099,12.214576,-34.449917,-0.16696247,-22.57179,18.192347,-45.779156,12.568405,23.050581,1.9732738,0.55139524,20.532515,7.09539,22.407316,-3.4635768,28.683512,-38.92415,28.5042,9.37776,-19.004503,14.60212,-28.338127,5.5137196,10.108026,-13.144943,6.958758,17.939434,-39.75245,22.526413,-36.534023,32.405876,8.412017,13.93802,21.173706,-22.834076,33.280907,1.3583194,1.8681415,12.45001,11.487153,-3.4524982,-3.285524,7.0954676,13.343287,11.141448,-23.677917,13.012814,-38.913677,13.01678,-9.097985,9.879853,8.3110895,-44.881203,-20.132921,-32.790955,-42.53677,26.45178,-40.817165,-29.385113,-3.1259499,15.270736,28.334808,-33.761837,-32.518223,6.5483747,13.053159,0.055002775,-11.73494,14.59954,-32.60088,-31.281145,32.89534,13.873239,-3.0532656,4.367779,14.090559,-8.33512,34.636677,17.252577,-25.017399,11.926953,9.902483,7.4246163,10.298176,-27.065992,20.417175,-8.894783,-37.010994,-35.5205,15.722228,-37.148052,-23.540367,-34.78084,-34.04153,15.524662,14.2471075,-32.647137,6.118263,-44.366856,0.7149475,-36.4939,-37.208176,-24.275732,15.595476,1.3932909,27.264944,14.006107,30.032198,10.593041,0.7002276,8.478407,16.384115,24.68474,-37.021503,13.782395,-40.641457,16.804382,-29.483929,-0.07200369,-38.83766,-43.046654,1.333506,32.77698,14.321585,16.173487,10.449961,-23.458447,15.209556,-17.56364,18.77758,11.610819,-38.31541,11.796502,27.822994,15.854108,-19.601698,11.777881,19.903189,-40.638306,6.375044,-18.762518,5.956254,-11.496153,-15.62151,13.555438,-37.393875,-27.68668,15.348258,-38.95902,18.674503,-10.636763,-44.88548,6.3886714,-22.591866,-3.5660455,-11.437027,-21.884356,9.953523,-42.91089,-40.445465,30.38254,9.30284,-34.973408,-39.507618,-10.021535,31.029325,-40.22251,-1.9495324,-31.068567,-34.94447,17.39636,6.40021,3.7136436,26.29141,6.9082932,-1.7227845,13.57279,-0.96255046,18.863789,8.672815,20.796015,7.9757214,-26.78611,23.532051,11.106385,-24.001411,-39.340443,7.487595,-40.21468,-39.080856,-3.5485911,18.22129,8.671427,-12.426158,16.768465,-26.230686,-22.02312,-29.278404,1.0283841,32.175266,21.764921,4.963907,8.454977,-32.83433,-43.51277,7.0130215,19.504423,30.64903,30.070904,33.266953,-37.62694,7.383372,-26.057379,31.367983,-36.22624,-40.783813,-25.86186,18.907862,-30.937292,2.3583608,-44.082176,-37.592712,-30.977896,-6.8919396,31.985334,23.418642,-1.4624623,-26.118393,12.807828,0.8778497,3.524151,-33.759872,17.890772,18.996906,-23.081732,31.381884,6.0428796,6.9232626,31.156818,17.541176,17.133532,0.1541516,-2.161362,8.742629,2.7023363,17.661282,-15.058857,-38.786343,-12.611994,-29.299526,7.6570673,-39.61606,8.290271,-35.24238,-23.842705,3.7054465,12.673857,6.6389275,10.111853,27.886337,21.726196,8.301078,14.241429,20.0047,-24.626673,-29.46974,-0.9803536,-42.334805,-24.596115,19.730072,-3.6215765,6.1853976,-25.568865,-2.678618,15.545651,-23.284502,-10.384213,-42.228664,-39.75038,18.401073,-23.57789,-29.402433,28.91767,-24.554502,-31.527159,-39.067886,5.2102985,-42.505455,-28.383121,17.792368,-9.377833,-33.2388,-18.67425,-34.822918,-40.97244,34.995907,-29.107735,-23.36223,18.362112,3.7962315,-29.803038,6.374918,5.7807918,-10.346826,-22.523043,-40.51971,3.4993436,-40.739124,29.349337,-39.984673,-31.525663,-11.78734,28.113432,-25.806286,33.045177,-20.708897,-32.606956,-25.831976,4.6257343,-35.7039,-40.137936,30.624731,10.4279,27.00497,-17.930866,1.8044363,0.10546767,0.58094716,13.597556,-28.424778,17.55748,12.55769,16.758768,31.22835,-14.354383,31.501612,6.8986936,8.150103,-33.48299,1.0210698,-11.68703,31.703081,-25.19629,-2.463248,-18.628078,6.32247,8.98507,-43.30479,-35.415318,-34.84765,8.440666,-34.04911,8.241935,-27.769997,34.796013,8.587114,-2.2119474,13.979188,19.474346,8.3688545,-31.744804,20.779083,16.459585,17.05726,26.512339,22.207644,-34.98647,-18.818085,17.419458,29.95246,12.214286,-37.127106,-34.825356,-21.057484,-30.103024,33.37564,10.526132,-34.24507,-40.760685,-9.190125,-40.719902,0.87433195,-10.586613,-19.640831,0.49546102,-28.29345,3.968153,31.537998,10.643043,15.398055,33.133728,29.956991,29.474388,-25.061443,-3.6605277,-39.989597,8.475424,-24.554035,-45.6984,-17.597631,-8.0096245,28.679907,16.85633,19.35425,17.21329,1.1616096,-27.62928,27.069683,-22.809399,-36.548782,30.126146,-4.7586994,10.192356,-22.365343,-36.805542,11.283776,28.124655,32.661537,-38.222595,27.84107,5.683151,-41.653744,-2.2341676,-37.0105,-25.136768,1.3844141,-27.761555,31.670097,28.696037,27.93303,5.033165,-20.106375,-22.42434,-29.383884,8.245632,4.3062778,8.866093,14.136942,-35.575363,-34.00505,-34.873554,-20.23166,-10.100444,18.507305,12.6786995,5.500727,9.291495,2.2427778,-32.698685,11.739913,8.612414,32.855114,-40.38134,28.12742,33.837894,-43.35955,-42.720463,-14.187964,13.523628,15.537496,10.365516,29.211512,8.3835535,-34.071545,3.9561853,20.854397,-32.091175,-35.903316,23.27118,-13.5805855,-28.46403,-31.274132,-36.097885,34.48823,-19.496605,17.544712,10.537739,26.45706,9.69916,-35.936108,-37.64938,4.3561354,12.056281,-37.4718,12.592808,-0.18565734,11.081659,-42.64606,-38.257557,-30.41497,-21.37709,11.526244,2.9893432,2.9116216,-33.60367,-17.565166,-2.1031222,-24.025948,-39.384064,34.174572,-33.794376,-28.093912,29.628777,11.99008,4.203059,18.514446,-40.563343,-40.72334,-30.228603,-0.29065478,-7.898403,-34.11833,28.233019,30.00394,9.888052,-45.058434,15.28195,13.2021885,-22.76006,-10.947933,-19.392376,10.082613,5.831722,18.468576,26.946575,-5.4019957,-21.77926,31.817629,24.907446,15.514178,-41.211895,-2.8647897,4.3096547,-38.30458,1.8946522,-6.9474134,-36.527954,12.201314,21.86461,-13.468646,-27.551773,21.402506,12.515707,3.6758106,14.489488,-1.1515666,15.362094,6.5985866,-31.664158,6.654316,-41.804157,20.3943,8.880731,2.5257483,17.253359,12.782708,30.101246,22.849129,29.285923,32.071457,5.995755,-37.573677,11.561041,15.586959,-30.279686,-22.694187,33.618168,28.72665,29.448961,4.209939,-40.194122,-26.0316,6.5881515,-10.461264,-38.677025,1.553719,21.805763,6.1406794,-33.00533,14.303855,21.750574,24.378952,15.55758,28.241785,3.564489,15.9225,-22.760834,31.380028,-19.94355,6.188218,32.162125,11.07606,-30.25416,-13.270019,17.60523,-1.302511,-9.514606,-34.224567,35.00965,8.209718,30.356354,1.9769841,-17.800045,-9.391996,6.2395887,18.190308,-29.86369,13.646841,13.856416,7.861952,-0.8886965,2.1828902,-30.158426,21.42538,-34.16075,-44.413834,7.7059684,11.17204,8.090845,29.64096,15.082237,23.425383,1.2881836,-10.362343,-36.269535,-29.815754,19.954685,10.771111,15.345918,27.267178,20.298615,20.093729,-31.824986,-40.709087,6.688195,17.863863,10.744868,32.831467,-27.826708,-32.031853,-22.514757,-24.838314,-25.0289,20.871502,23.580688,-31.622604,27.779787,-22.36889,31.306755,-39.299778,-21.628633,-29.809923,-26.222452,-25.111696,-35.520386,-26.723448,-36.62354,8.276052,10.511123,28.371387,24.816679,-19.789598,12.640073,9.205933,16.267326,0.8641904,9.022564,-16.446547,32.816147,5.5804715,14.490346,12.60681,25.15627,15.991855,9.178405,11.763187,-32.836906,-0.71583414,33.031876,-33.377464,27.64261,-21.638332,5.127608,-25.750408,19.489656,-8.307778,21.816662,33.095955,15.435899,-38.573853,10.361323,24.576275,7.902062,19.000599,13.820706,-1.1372828,19.947664,-11.518154,10.712133,17.454048,-20.791723,-2.1539323,11.369162,3.601688,-0.039425705,-35.862312,-38.457928,-2.606767,-11.36819,15.412808,8.73368,-32.15338,-26.404095,-7.469598,15.568669,23.941221,11.354853,35.788296,9.779192,19.721004,33.628246,24.860832,8.871878,14.390903,6.0971465,-18.889866,-9.908613,9.460296,-32.00574,27.633825,-43.0579,4.6865416,-24.12231,10.504454,20.359304,-4.137103,3.0260317,3.057067,26.353127,-35.014652,14.177743,-4.237356,11.297918,14.158053,8.297841,-22.79483,3.3122087,14.493532,-1.6727666,-34.55377,5.8771935,-42.589737,0.8578311,12.020291,-43.052776,-41.364502,5.9777555,12.439994,20.466974,9.966588,7.443555,18.949863,19.608831,31.603043,-31.407429,8.611315,16.15219,14.197217,1.403706,19.457434,-35.283955,-36.802326,17.266932,-40.510597,9.327021,-40.757404,30.21007,-8.030126,17.66384,16.672083,-35.56239,-35.00123,2.2499528,10.826742,2.594806,30.250378,34.64556,-37.00271,-29.007322,10.643845,21.739256,-32.489666,19.829012,12.094907,29.57453,-24.682518,4.054654,21.805061,-32.23692,-31.557785,11.596723,-40.659668,7.8468204,14.554042,-45.74887,3.873733,-20.733915,-33.40186,11.713298,12.237981,7.202494,-37.99384,17.63301,-4.1574616,13.157128,-39.638718,-32.027367,26.502691,11.132908,16.192657,-40.692326,4.468523,-11.206222,2.4377842,14.208579,14.080393,20.852028,13.736775,16.502884,0.9213171,-39.19055,12.707109,-35.49554,-12.369136,33.769985,0.5851,29.583637,1.4723675,-21.52969,-23.016542,17.505917,-9.149322,-34.387455,-39.574078,6.981073,-30.22394,-42.876537,14.327087,9.337693,13.557016,4.7762346,-25.497416,-31.569386,13.944384,-36.26683,-40.01804,-41.14262,-2.0482943,6.0248733,28.256502,2.5036044,8.7086735,-3.4108858,9.23081,13.685122,-35.76044,10.429497,30.123325,9.2788725,14.899045,-21.353424,15.139609,29.970726,32.526817,12.418038,-4.250035,-40.958427,14.6648035,8.698897,32.44698,16.179296,-36.675293,-36.50531,-4.289897,-13.263925,-7.7534785,-38.214996,-39.039406,-2.889032,16.135477,-8.540986,14.274837,-32.08456,20.147068,-10.939379,6.892235,-27.702131,21.503513,34.146206,-19.471092,-34.996,-27.479164,-32.316025,-37.983128,0.30038476,-14.229136,-29.012863,18.03557,-29.336369,-0.55442905,-36.7491,-26.26984,-31.42975,19.644876,-43.680702,6.4109354],\"xaxis\":\"x\",\"y\":[13.582359,-32.18208,32.45158,-30.65101,-8.947642,-7.600862,-11.772024,-30.666346,-32.504887,25.56496,15.423347,-22.829119,-17.503885,-1.5508571,-12.823905,-12.697113,-31.21514,5.9481406,-21.852793,-21.255556,9.007541,4.11265,25.301847,13.44785,18.739006,-8.410348,-17.538992,-18.866852,20.65718,16.450583,14.94926,19.635433,-1.705512,-18.034327,18.077806,11.831662,5.6479883,7.741166,25.42213,-1.6009324,30.206694,-23.972822,-18.955296,-3.6651695,7.065397,24.672607,-18.726648,-36.204765,18.96464,11.851472,13.821602,-25.066011,-7.809008,-27.861021,3.4489052,-11.072885,25.274477,2.6065462,-10.14395,8.37311,1.2903818,25.605045,13.417713,-11.955583,23.377754,19.370975,22.103321,-7.332731,-26.371822,2.5992599,-9.082788,10.8547325,22.841805,-2.0943925,-7.020396,-3.3403282,17.969166,12.160642,27.419039,8.916774,12.915609,18.072773,-7.4604845,-28.253107,-5.487228,22.103981,-10.156002,9.298363,14.613082,10.3187895,-12.047857,12.401571,-0.9554009,-19.67168,-26.452387,2.0587275,18.99074,-18.417208,0.9059755,12.415653,-6.5634995,-12.928434,-27.242289,28.803947,-10.961294,-6.4670167,-11.6346245,30.140394,16.651928,-18.307755,20.395294,-12.428081,31.135654,22.532408,11.058213,18.155077,-0.21049604,1.4657341,-22.34611,32.03274,9.624059,0.5908282,1.5261147,15.704995,1.432741,1.441213,9.322659,1.3598738,-19.003487,13.348877,-7.030712,13.025254,-2.0521634,-29.716227,9.405554,-35.376472,-12.066212,-16.819548,18.215248,28.080685,-26.832539,-17.789894,30.504503,3.4376564,22.929749,-20.243622,-6.459715,-9.494682,8.491021,-9.901259,-10.766611,-25.870039,19.739199,24.203264,-8.374282,-0.4993879,5.2661595,19.82739,14.680591,8.479422,10.4937725,-3.6277208,23.022718,20.658384,-4.255008,15.884638,-21.443022,26.791458,27.279509,-10.039499,9.326962,-1.4998026,-20.833591,14.890145,18.105812,-25.175327,-16.116343,-21.227497,-1.1813924,11.157399,27.749464,15.40363,4.2578816,7.732166,-22.787508,-19.00596,-3.6726675,-4.969973,11.797402,-22.24023,6.9735975,-34.71586,-25.490454,-4.2348824,23.193253,-32.685806,14.307745,-10.623652,-5.112456,-33.7894,-12.766976,14.173528,-27.296585,14.203333,-34.35471,-25.992727,23.285807,-9.19542,-10.637712,12.744196,28.44235,-24.139763,17.366667,-36.69452,11.758977,17.957186,17.599743,31.562712,27.695227,-1.7763549,14.834527,16.41809,4.608305,18.565836,-8.456239,1.537378,-8.804623,23.979721,14.931428,-7.56458,8.417812,-26.06267,0.9752465,28.579107,-22.856865,18.976671,4.8487535,17.227749,-10.182118,-9.784573,16.551783,15.175826,-32.500324,-4.583819,-30.028196,-23.758118,-14.652632,4.3874626,-2.578351,-5.964651,28.434078,30.334232,29.393103,-10.872117,-13.440194,-6.6917157,21.991829,-1.0356284,8.69158,22.464128,23.361044,-18.400032,20.65198,29.708214,15.9355345,-17.807882,18.736326,30.80838,23.988619,-13.575823,29.236618,-20.9571,3.1271574,-3.5633748,-0.9476915,-8.24747,-29.302103,4.649272,13.763308,16.726805,31.409157,5.930598,24.021742,-26.138433,10.134785,-4.510978,-6.5167117,23.756144,23.807058,23.776806,18.35078,14.828203,-14.168998,-7.539683,1.419535,-31.954878,-11.057812,-32.986046,29.63511,23.67076,16.256561,17.290882,29.54206,-26.996143,12.40031,-15.327938,16.775728,24.333593,3.446357,-2.523857,0.037272103,0.1652248,3.367549,-28.01423,-21.511084,-11.095604,24.587143,-26.723581,-2.8054152,6.0552454,16.783443,-19.2335,-10.570296,8.044158,-14.466165,-31.043747,-12.607474,18.512812,1.6701552,-22.738789,30.400862,4.081254,-24.548908,-17.578863,17.904669,30.313568,-8.329584,-8.759615,19.172848,-37.10829,30.74989,-27.900751,-13.657424,15.342145,7.901693,-18.212212,-25.506271,1.2279631,18.39198,29.208282,-13.122861,13.275236,-31.92117,-14.057605,-4.582031,28.703655,-11.268855,22.302168,16.640362,31.023972,-33.370033,21.577972,-27.91698,2.8797095,-27.790407,31.57689,-25.928291,13.753401,28.409937,24.841171,3.1234846,-14.059295,21.33,-30.766651,-10.87332,25.709238,25.585325,18.004509,-8.641518,-5.901711,19.834414,2.2782426,12.587968,-32.158306,-2.4584932,10.50267,16.519947,31.717611,-10.735783,-32.42896,-4.116612,-18.961746,-10.615021,-28.003803,-2.9640925,-5.567724,24.591305,-21.883076,29.639025,4.629424,-20.533092,20.927446,-32.97611,9.737653,19.882744,-7.8750863,-12.842061,19.088238,11.815967,-11.0265875,-0.47898272,-21.128323,19.774534,5.9736695,2.953723,-23.838545,-31.20639,15.037959,-2.3891742,-14.961412,22.49806,-22.07056,-30.76385,-22.781837,-4.472996,-17.685318,-23.113958,-9.922432,-35.545467,-4.7758303,4.4275675,-33.850166,-29.62128,14.727536,-21.224375,-11.703272,-2.0606756,-17.73034,-6.7253475,2.7275572,5.1755457,24.745108,-32.355713,-12.333395,-8.803949,-7.463759,-29.508219,-11.329086,-27.172268,-34.259968,23.240797,-19.986809,-4.5673647,-0.14926754,13.129499,-22.847298,-7.207954,-23.020569,-12.827878,-2.0361285,7.50838,5.9858947,-13.9795265,-12.194325,-6.629301,6.211053,3.316396,-14.514243,3.2882524,19.07317,24.577953,18.62443,-12.664486,-25.985172,24.98107,-32.97881,-0.47200474,22.61605,-3.3049576,30.45544,-24.287136,-23.498217,-15.733782,0.039963827,8.559778,-7.7895994,-4.5294137,-23.523737,29.850676,-22.075075,-33.148457,-32.032536,22.28497,-19.592623,29.68559,-14.200586,8.834321,29.523102,1.8150206,19.218727,7.1882267,25.20131,24.067965,9.452798,24.59145,-10.160637,-32.417397,9.426754,-15.269238,6.471621,-2.9136224,29.590822,-11.223299,11.996973,16.454397,-23.935448,-12.695708,11.996554,-35.32208,-8.522679,-20.050917,23.291609,0.43494838,-29.348133,-1.5775243,14.047222,6.1343765,-7.36799,-10.094319,22.79865,15.785707,26.548431,28.101301,-17.956955,25.957905,16.82176,-10.568402,-13.73501,-20.893991,-26.505306,14.904342,18.718763,18.824482,-12.455566,-21.239372,15.438272,-25.506226,24.96402,1.2443062,-12.418383,-26.026438,6.2700043,1.633447,3.9201977,2.4647362,-8.694602,17.275625,-15.986146,18.963488,-34.91971,31.216536,14.116213,21.229988,12.550952,-13.531231,0.26982838,-18.390293,-31.30136,-0.58688366,-31.03697,15.053958,17.318464,0.12162365,21.542835,7.503998,-27.78294,-3.613307,-4.1542234,15.196204,24.468374,-11.656152,4.041192,-13.734895,15.299049,2.615175,23.445454,-20.779362,-5.59092,-35.197628,-29.395319,-2.2542963,27.496983,18.429527,-1.9588462,-6.5987363,-15.968943,12.018617,-10.982924,29.381584,24.09556,-2.9585783,7.88064,-10.737075,6.069973,15.892699,19.408916,18.235523,6.8541446,10.4304285,29.389761,26.060617,13.244793,-6.060554,-25.511654,-28.639393,8.378459,5.9789386,13.543118,3.8868837,24.675707,-27.037485,12.236704,-35.86159,-11.337897,22.539562,0.6349866,-6.858326,32.219944,-3.946008,0.93592966,6.5105805,3.459935,14.088786,10.650811,-5.303695,-23.091644,19.17314,-32.96175,20.398079,3.7264063,-21.123594,-17.051115,-2.1744552,14.360615,-8.160095,-33.739513,24.255693,6.8095384,16.597618,4.034233,-8.549354,-29.330196,-37.100006,9.747951,19.054766,28.848928,10.677973,-19.94755,-8.124354,17.239328,-8.269473,-22.801441,-3.3337522,-19.881273,-9.493752,10.187676,-6.682128,12.1024475,22.707031,1.131959,18.004953,25.84668,-35.89834,-9.914825,29.720171,-4.568501,-0.8680033,12.960363,8.209528,5.5986905,4.401616,-11.874224,-10.947459,22.590872,14.299549,28.990032,-1.4509153,-21.438194,-11.559417,-25.0076,-25.240362,-27.20286,16.449709,-1.3032756,30.72313,11.135277,-13.976922,19.227566,17.002563,-20.976473,29.013191,-30.457434,-17.556692,-9.923135,-24.484882,22.819994,-18.49044,26.093212,21.947144,6.3536572,-24.347305,8.6924715,-13.532869,-1.3115617,16.258762,18.17874,-25.91424,9.788952,11.169861,19.067345,21.86284,-1.1373117,12.28298,18.103992,24.657106,-18.015184,24.109926,7.0272408,-15.291042,-7.983343,-20.97114,28.918344,-23.704609,-5.3911257,-34.10795,12.074587,7.1039214,-16.526031,-12.577116,15.171971,-2.5264401,-8.331537,-5.2986913,-13.07022,-9.118774,3.2998898,-31.171833,18.535915,5.940324,-28.69079,14.755551,-19.611834,20.237452,13.525764,26.870745,-12.140251,-8.452365,-34.509365,-15.686184,-14.508234,-18.86059,-19.810076,1.7835412,-15.263447,-4.1160364,9.6131,8.780959,-20.015196,12.311703,-1.7137817,6.344802,-6.982567,-3.0739932,20.32405,-26.510416,-36.97654,16.666212,-26.822844,-7.506073,-8.832278,13.535849,-31.661572,6.5234127,1.2403232,0.91410583,12.34413,14.484723,5.450271,26.89818,-1.5012304,6.7813106,15.767408,-0.252619,25.09729,-32.374653,5.8935213,-21.283657,-8.562792,-13.042116,6.536277,-8.454874,-5.4361324,-11.74075,-12.510194,15.900898,29.462029,-18.347828,9.364356,0.6490212,16.046339,1.5035595,-6.582417,11.657686,-17.673525,18.08855,-20.386248,-1.0089852,9.8078985,11.622255,28.98613,23.454872,1.1374452,16.497086,-1.9896717,-9.703536,21.736147,-33.990913,5.5182595,-2.5647848,-23.530424,26.872921,-8.139193,-2.1535196,-10.634622,4.2418814,9.059902,29.01388,-20.013266,26.221565,-5.9476457,-22.184793,12.536895,17.095268,6.1512604,-28.444416,11.347765,3.3240585,-22.97276,32.386898,11.188652,-5.274218,4.988831,-3.884062,-11.213266,7.519748,-32.33504,-15.2049055,0.5325413,18.456549,12.333258,-10.544242,9.23702,-11.788272,1.719112,26.08806,-16.25833,18.351229,21.615078,-4.728413,-4.392075,-12.066886,-32.681454,19.480007,-17.904003,11.919337,3.1319878,-15.6457405,-2.4079428,16.357145,-9.6971655,4.165606,23.528393,-32.855705,7.031319,24.325573,13.438744,10.057159,-28.018576,-26.755224,-0.2037801,0.9080366,28.804893,26.100748,-13.444741,-16.489328,24.541985,-13.529431,6.6694756,-4.7272615,22.206377,-29.090073,-27.312387,18.177692,29.104244,15.729039,16.574986,14.871918,7.3393617,-7.176595,15.261164,11.597195,10.312348,-20.328283,-15.70265,25.937613,14.142414,-3.7411618,-21.22861,-19.446367,-26.647238,-19.57681,23.226805,-3.7441368,23.725174,0.47610414,-11.833352,-2.8988574,16.21252,7.820078,-16.889812,24.97821,26.197935,-9.941339,-2.171011,-34.779987,-14.068992,18.395512,-12.463856,-1.3865205,-34.3232,-19.553852,-23.249174,-1.0268534,-0.5744675,-5.272111,-30.335026,-2.54438,-4.9985557,-31.011,30.365461,-27.742594,-26.419962,28.529146,-9.999106,-33.22801,-19.820013,-3.281611,-15.742494,-7.520744,29.261753,-25.787556,-27.492191,19.53379,-13.634318,-3.0586298],\"yaxis\":\"y\",\"type\":\"scatter\"}],                        {\"template\":{\"data\":{\"histogram2dcontour\":[{\"type\":\"histogram2dcontour\",\"colorbar\":{\"outlinewidth\":0,\"ticks\":\"\"},\"colorscale\":[[0.0,\"#0d0887\"],[0.1111111111111111,\"#46039f\"],[0.2222222222222222,\"#7201a8\"],[0.3333333333333333,\"#9c179e\"],[0.4444444444444444,\"#bd3786\"],[0.5555555555555556,\"#d8576b\"],[0.6666666666666666,\"#ed7953\"],[0.7777777777777778,\"#fb9f3a\"],[0.8888888888888888,\"#fdca26\"],[1.0,\"#f0f921\"]]}],\"choropleth\":[{\"type\":\"choropleth\",\"colorbar\":{\"outlinewidth\":0,\"ticks\":\"\"}}],\"histogram2d\":[{\"type\":\"histogram2d\",\"colorbar\":{\"outlinewidth\":0,\"ticks\":\"\"},\"colorscale\":[[0.0,\"#0d0887\"],[0.1111111111111111,\"#46039f\"],[0.2222222222222222,\"#7201a8\"],[0.3333333333333333,\"#9c179e\"],[0.4444444444444444,\"#bd3786\"],[0.5555555555555556,\"#d8576b\"],[0.6666666666666666,\"#ed7953\"],[0.7777777777777778,\"#fb9f3a\"],[0.8888888888888888,\"#fdca26\"],[1.0,\"#f0f921\"]]}],\"heatmap\":[{\"type\":\"heatmap\",\"colorbar\":{\"outlinewidth\":0,\"ticks\":\"\"},\"colorscale\":[[0.0,\"#0d0887\"],[0.1111111111111111,\"#46039f\"],[0.2222222222222222,\"#7201a8\"],[0.3333333333333333,\"#9c179e\"],[0.4444444444444444,\"#bd3786\"],[0.5555555555555556,\"#d8576b\"],[0.6666666666666666,\"#ed7953\"],[0.7777777777777778,\"#fb9f3a\"],[0.8888888888888888,\"#fdca26\"],[1.0,\"#f0f921\"]]}],\"heatmapgl\":[{\"type\":\"heatmapgl\",\"colorbar\":{\"outlinewidth\":0,\"ticks\":\"\"},\"colorscale\":[[0.0,\"#0d0887\"],[0.1111111111111111,\"#46039f\"],[0.2222222222222222,\"#7201a8\"],[0.3333333333333333,\"#9c179e\"],[0.4444444444444444,\"#bd3786\"],[0.5555555555555556,\"#d8576b\"],[0.6666666666666666,\"#ed7953\"],[0.7777777777777778,\"#fb9f3a\"],[0.8888888888888888,\"#fdca26\"],[1.0,\"#f0f921\"]]}],\"contourcarpet\":[{\"type\":\"contourcarpet\",\"colorbar\":{\"outlinewidth\":0,\"ticks\":\"\"}}],\"contour\":[{\"type\":\"contour\",\"colorbar\":{\"outlinewidth\":0,\"ticks\":\"\"},\"colorscale\":[[0.0,\"#0d0887\"],[0.1111111111111111,\"#46039f\"],[0.2222222222222222,\"#7201a8\"],[0.3333333333333333,\"#9c179e\"],[0.4444444444444444,\"#bd3786\"],[0.5555555555555556,\"#d8576b\"],[0.6666666666666666,\"#ed7953\"],[0.7777777777777778,\"#fb9f3a\"],[0.8888888888888888,\"#fdca26\"],[1.0,\"#f0f921\"]]}],\"surface\":[{\"type\":\"surface\",\"colorbar\":{\"outlinewidth\":0,\"ticks\":\"\"},\"colorscale\":[[0.0,\"#0d0887\"],[0.1111111111111111,\"#46039f\"],[0.2222222222222222,\"#7201a8\"],[0.3333333333333333,\"#9c179e\"],[0.4444444444444444,\"#bd3786\"],[0.5555555555555556,\"#d8576b\"],[0.6666666666666666,\"#ed7953\"],[0.7777777777777778,\"#fb9f3a\"],[0.8888888888888888,\"#fdca26\"],[1.0,\"#f0f921\"]]}],\"mesh3d\":[{\"type\":\"mesh3d\",\"colorbar\":{\"outlinewidth\":0,\"ticks\":\"\"}}],\"scatter\":[{\"fillpattern\":{\"fillmode\":\"overlay\",\"size\":10,\"solidity\":0.2},\"type\":\"scatter\"}],\"parcoords\":[{\"type\":\"parcoords\",\"line\":{\"colorbar\":{\"outlinewidth\":0,\"ticks\":\"\"}}}],\"scatterpolargl\":[{\"type\":\"scatterpolargl\",\"marker\":{\"colorbar\":{\"outlinewidth\":0,\"ticks\":\"\"}}}],\"bar\":[{\"error_x\":{\"color\":\"#2a3f5f\"},\"error_y\":{\"color\":\"#2a3f5f\"},\"marker\":{\"line\":{\"color\":\"#E5ECF6\",\"width\":0.5},\"pattern\":{\"fillmode\":\"overlay\",\"size\":10,\"solidity\":0.2}},\"type\":\"bar\"}],\"scattergeo\":[{\"type\":\"scattergeo\",\"marker\":{\"colorbar\":{\"outlinewidth\":0,\"ticks\":\"\"}}}],\"scatterpolar\":[{\"type\":\"scatterpolar\",\"marker\":{\"colorbar\":{\"outlinewidth\":0,\"ticks\":\"\"}}}],\"histogram\":[{\"marker\":{\"pattern\":{\"fillmode\":\"overlay\",\"size\":10,\"solidity\":0.2}},\"type\":\"histogram\"}],\"scattergl\":[{\"type\":\"scattergl\",\"marker\":{\"colorbar\":{\"outlinewidth\":0,\"ticks\":\"\"}}}],\"scatter3d\":[{\"type\":\"scatter3d\",\"line\":{\"colorbar\":{\"outlinewidth\":0,\"ticks\":\"\"}},\"marker\":{\"colorbar\":{\"outlinewidth\":0,\"ticks\":\"\"}}}],\"scattermapbox\":[{\"type\":\"scattermapbox\",\"marker\":{\"colorbar\":{\"outlinewidth\":0,\"ticks\":\"\"}}}],\"scatterternary\":[{\"type\":\"scatterternary\",\"marker\":{\"colorbar\":{\"outlinewidth\":0,\"ticks\":\"\"}}}],\"scattercarpet\":[{\"type\":\"scattercarpet\",\"marker\":{\"colorbar\":{\"outlinewidth\":0,\"ticks\":\"\"}}}],\"carpet\":[{\"aaxis\":{\"endlinecolor\":\"#2a3f5f\",\"gridcolor\":\"white\",\"linecolor\":\"white\",\"minorgridcolor\":\"white\",\"startlinecolor\":\"#2a3f5f\"},\"baxis\":{\"endlinecolor\":\"#2a3f5f\",\"gridcolor\":\"white\",\"linecolor\":\"white\",\"minorgridcolor\":\"white\",\"startlinecolor\":\"#2a3f5f\"},\"type\":\"carpet\"}],\"table\":[{\"cells\":{\"fill\":{\"color\":\"#EBF0F8\"},\"line\":{\"color\":\"white\"}},\"header\":{\"fill\":{\"color\":\"#C8D4E3\"},\"line\":{\"color\":\"white\"}},\"type\":\"table\"}],\"barpolar\":[{\"marker\":{\"line\":{\"color\":\"#E5ECF6\",\"width\":0.5},\"pattern\":{\"fillmode\":\"overlay\",\"size\":10,\"solidity\":0.2}},\"type\":\"barpolar\"}],\"pie\":[{\"automargin\":true,\"type\":\"pie\"}]},\"layout\":{\"autotypenumbers\":\"strict\",\"colorway\":[\"#636efa\",\"#EF553B\",\"#00cc96\",\"#ab63fa\",\"#FFA15A\",\"#19d3f3\",\"#FF6692\",\"#B6E880\",\"#FF97FF\",\"#FECB52\"],\"font\":{\"color\":\"#2a3f5f\"},\"hovermode\":\"closest\",\"hoverlabel\":{\"align\":\"left\"},\"paper_bgcolor\":\"white\",\"plot_bgcolor\":\"#E5ECF6\",\"polar\":{\"bgcolor\":\"#E5ECF6\",\"angularaxis\":{\"gridcolor\":\"white\",\"linecolor\":\"white\",\"ticks\":\"\"},\"radialaxis\":{\"gridcolor\":\"white\",\"linecolor\":\"white\",\"ticks\":\"\"}},\"ternary\":{\"bgcolor\":\"#E5ECF6\",\"aaxis\":{\"gridcolor\":\"white\",\"linecolor\":\"white\",\"ticks\":\"\"},\"baxis\":{\"gridcolor\":\"white\",\"linecolor\":\"white\",\"ticks\":\"\"},\"caxis\":{\"gridcolor\":\"white\",\"linecolor\":\"white\",\"ticks\":\"\"}},\"coloraxis\":{\"colorbar\":{\"outlinewidth\":0,\"ticks\":\"\"}},\"colorscale\":{\"sequential\":[[0.0,\"#0d0887\"],[0.1111111111111111,\"#46039f\"],[0.2222222222222222,\"#7201a8\"],[0.3333333333333333,\"#9c179e\"],[0.4444444444444444,\"#bd3786\"],[0.5555555555555556,\"#d8576b\"],[0.6666666666666666,\"#ed7953\"],[0.7777777777777778,\"#fb9f3a\"],[0.8888888888888888,\"#fdca26\"],[1.0,\"#f0f921\"]],\"sequentialminus\":[[0.0,\"#0d0887\"],[0.1111111111111111,\"#46039f\"],[0.2222222222222222,\"#7201a8\"],[0.3333333333333333,\"#9c179e\"],[0.4444444444444444,\"#bd3786\"],[0.5555555555555556,\"#d8576b\"],[0.6666666666666666,\"#ed7953\"],[0.7777777777777778,\"#fb9f3a\"],[0.8888888888888888,\"#fdca26\"],[1.0,\"#f0f921\"]],\"diverging\":[[0,\"#8e0152\"],[0.1,\"#c51b7d\"],[0.2,\"#de77ae\"],[0.3,\"#f1b6da\"],[0.4,\"#fde0ef\"],[0.5,\"#f7f7f7\"],[0.6,\"#e6f5d0\"],[0.7,\"#b8e186\"],[0.8,\"#7fbc41\"],[0.9,\"#4d9221\"],[1,\"#276419\"]]},\"xaxis\":{\"gridcolor\":\"white\",\"linecolor\":\"white\",\"ticks\":\"\",\"title\":{\"standoff\":15},\"zerolinecolor\":\"white\",\"automargin\":true,\"zerolinewidth\":2},\"yaxis\":{\"gridcolor\":\"white\",\"linecolor\":\"white\",\"ticks\":\"\",\"title\":{\"standoff\":15},\"zerolinecolor\":\"white\",\"automargin\":true,\"zerolinewidth\":2},\"scene\":{\"xaxis\":{\"backgroundcolor\":\"#E5ECF6\",\"gridcolor\":\"white\",\"linecolor\":\"white\",\"showbackground\":true,\"ticks\":\"\",\"zerolinecolor\":\"white\",\"gridwidth\":2},\"yaxis\":{\"backgroundcolor\":\"#E5ECF6\",\"gridcolor\":\"white\",\"linecolor\":\"white\",\"showbackground\":true,\"ticks\":\"\",\"zerolinecolor\":\"white\",\"gridwidth\":2},\"zaxis\":{\"backgroundcolor\":\"#E5ECF6\",\"gridcolor\":\"white\",\"linecolor\":\"white\",\"showbackground\":true,\"ticks\":\"\",\"zerolinecolor\":\"white\",\"gridwidth\":2}},\"shapedefaults\":{\"line\":{\"color\":\"#2a3f5f\"}},\"annotationdefaults\":{\"arrowcolor\":\"#2a3f5f\",\"arrowhead\":0,\"arrowwidth\":1},\"geo\":{\"bgcolor\":\"white\",\"landcolor\":\"#E5ECF6\",\"subunitcolor\":\"white\",\"showland\":true,\"showlakes\":true,\"lakecolor\":\"white\"},\"title\":{\"x\":0.05},\"mapbox\":{\"style\":\"light\"}}},\"xaxis\":{\"anchor\":\"y\",\"domain\":[0.0,1.0],\"title\":{\"text\":\"x\"}},\"yaxis\":{\"anchor\":\"x\",\"domain\":[0.0,1.0],\"title\":{\"text\":\"y\"}},\"coloraxis\":{\"colorbar\":{\"title\":{\"text\":\"color\"}},\"colorscale\":[[0.0,\"#0d0887\"],[0.1111111111111111,\"#46039f\"],[0.2222222222222222,\"#7201a8\"],[0.3333333333333333,\"#9c179e\"],[0.4444444444444444,\"#bd3786\"],[0.5555555555555556,\"#d8576b\"],[0.6666666666666666,\"#ed7953\"],[0.7777777777777778,\"#fb9f3a\"],[0.8888888888888888,\"#fdca26\"],[1.0,\"#f0f921\"]]},\"legend\":{\"tracegroupgap\":0},\"margin\":{\"t\":60}},                        {\"responsive\": true}                    ).then(function(){\n",
              "                            \n",
              "var gd = document.getElementById('5bb07bdb-8897-43f8-a221-f71d751f4f35');\n",
              "var x = new MutationObserver(function (mutations, observer) {{\n",
              "        var display = window.getComputedStyle(gd).display;\n",
              "        if (!display || display === 'none') {{\n",
              "            console.log([gd, 'removed!']);\n",
              "            Plotly.purge(gd);\n",
              "            observer.disconnect();\n",
              "        }}\n",
              "}});\n",
              "\n",
              "// Listen for the removal of the full notebook cells\n",
              "var notebookContainer = gd.closest('#notebook-container');\n",
              "if (notebookContainer) {{\n",
              "    x.observe(notebookContainer, {childList: true});\n",
              "}}\n",
              "\n",
              "// Listen for the clearing of the current output cell\n",
              "var outputEl = gd.closest('.output');\n",
              "if (outputEl) {{\n",
              "    x.observe(outputEl, {childList: true});\n",
              "}}\n",
              "\n",
              "                        })                };                            </script>        </div>\n",
              "</body>\n",
              "</html>"
            ]
          },
          "metadata": {}
        }
      ],
      "source": [
        "fig=px.scatter(x=X_reduced_tsne[:,0], y=X_reduced_tsne[:,1], color=y)\n",
        "fig.show()"
      ]
    },
    {
      "cell_type": "markdown",
      "id": "041e973c",
      "metadata": {
        "id": "041e973c"
      },
      "source": [
        "Although the subsample is pretty small, the t-SNE algorithm is able to detect clusters pretty accurately"
      ]
    },
    {
      "cell_type": "markdown",
      "source": [
        "Reference- https://www.geeksforgeeks.org/machine-learning/difference-between-pca-vs-t-sne/"
      ],
      "metadata": {
        "id": "Oh7Z_XM4jpIU"
      },
      "id": "Oh7Z_XM4jpIU"
    },
    {
      "cell_type": "markdown",
      "source": [
        "Note-ChatGPT was used to help understand the results using WebSearch Feature."
      ],
      "metadata": {
        "id": "DiEr2vRAjqpl"
      },
      "id": "DiEr2vRAjqpl"
    },
    {
      "cell_type": "markdown",
      "id": "85bb3774",
      "metadata": {
        "id": "85bb3774"
      },
      "source": [
        "## Scaling"
      ]
    },
    {
      "cell_type": "code",
      "execution_count": null,
      "id": "7ab1142e",
      "metadata": {
        "colab": {
          "base_uri": "https://localhost:8080/"
        },
        "id": "7ab1142e",
        "outputId": "98a73d2f-b540-4ed8-e607-4f4479453abc"
      },
      "outputs": [
        {
          "output_type": "stream",
          "name": "stdout",
          "text": [
            "(275663, 29) (275663,)\n"
          ]
        }
      ],
      "source": [
        "scaler = StandardScaler()\n",
        "X = scaler.fit_transform(df.drop('Class', axis=1))\n",
        "y = df['Class'].values\n",
        "print(X.shape, y.shape)"
      ]
    },
    {
      "cell_type": "markdown",
      "id": "22e31517",
      "metadata": {
        "id": "22e31517"
      },
      "source": [
        "## Splitting the data"
      ]
    },
    {
      "cell_type": "markdown",
      "id": "6fa74b00",
      "metadata": {
        "id": "6fa74b00"
      },
      "source": [
        "we want to test our models on the original testing set not on the testing set created from GAN. The main goal is to fit the model in the generated data, and test it on the original testing set."
      ]
    },
    {
      "cell_type": "code",
      "execution_count": null,
      "id": "f8303d35",
      "metadata": {
        "id": "f8303d35"
      },
      "outputs": [],
      "source": [
        "X_train, X_test, y_train, y_test = train_test_split(X, y, test_size=0.2, random_state=42, stratify=y)"
      ]
    },
    {
      "cell_type": "markdown",
      "id": "e1beefe0",
      "metadata": {
        "id": "e1beefe0"
      },
      "source": [
        "## Testing baseline model with original data"
      ]
    },
    {
      "cell_type": "markdown",
      "id": "50b98b70",
      "metadata": {
        "id": "50b98b70"
      },
      "source": [
        "## Conditional GAN Architecture"
      ]
    },
    {
      "cell_type": "code",
      "source": [
        "import numpy as np\n",
        "from tensorflow.keras.models import Model, Sequential\n",
        "from tensorflow.keras.layers import Input, Dense, Embedding, Flatten, multiply, LeakyReLU, Dropout, BatchNormalization, GaussianNoise\n",
        "from tensorflow.keras.optimizers import Adam\n",
        "from tensorflow.keras.initializers import RandomNormal\n",
        "from tensorflow.keras.regularizers import l2\n",
        "from sklearn.utils import shuffle\n",
        "\n",
        "class cGAN():\n",
        "    def __init__(self):\n",
        "        self.latent_dim = 32\n",
        "        self.out_shape = 29\n",
        "        self.num_classes = 2\n",
        "\n",
        "        optimizer = Adam(0.0002, 0.5)\n",
        "\n",
        "        self.discriminator = self.build_discriminator()\n",
        "        self.discriminator.compile(loss='binary_crossentropy',\n",
        "                                   optimizer=optimizer,\n",
        "                                   metrics=['accuracy'])\n",
        "\n",
        "        self.generator = self.build_generator()\n",
        "\n",
        "        noise = Input(shape=(self.latent_dim,))\n",
        "        label = Input(shape=(1,))\n",
        "        gen_samples = self.generator([noise, label])\n",
        "\n",
        "        self.discriminator.trainable = False\n",
        "        valid = self.discriminator([gen_samples, label])\n",
        "\n",
        "        self.combined = Model([noise, label], valid)\n",
        "        self.combined.compile(loss='binary_crossentropy',\n",
        "                              optimizer=Adam(0.0002, 0.5),\n",
        "                              metrics=['accuracy'])\n",
        "        self.combined.summary()\n",
        "\n",
        "    def build_generator(self):\n",
        "        init = RandomNormal(mean=0.0, stddev=0.02)\n",
        "        model = Sequential()\n",
        "\n",
        "        model.add(Dense(128, input_dim=self.latent_dim))\n",
        "        model.add(LeakyReLU(alpha=0.2))\n",
        "        model.add(BatchNormalization(momentum=0.8))\n",
        "        model.add(Dropout(0.3))\n",
        "\n",
        "        model.add(Dense(256))\n",
        "        model.add(LeakyReLU(alpha=0.2))\n",
        "        model.add(BatchNormalization(momentum=0.8))\n",
        "        model.add(Dropout(0.3))\n",
        "\n",
        "        model.add(Dense(512))\n",
        "        model.add(LeakyReLU(alpha=0.2))\n",
        "        model.add(BatchNormalization(momentum=0.8))\n",
        "\n",
        "        model.add(Dense(self.out_shape, activation='tanh'))\n",
        "        model.summary()\n",
        "\n",
        "        noise = Input(shape=(self.latent_dim,))\n",
        "        label = Input(shape=(1,), dtype='int32')\n",
        "        label_embedding = Flatten()(Embedding(self.num_classes, self.latent_dim)(label))\n",
        "        model_input = multiply([noise, label_embedding])\n",
        "        gen_sample = model(model_input)\n",
        "\n",
        "        return Model([noise, label], gen_sample, name=\"Generator\")\n",
        "\n",
        "    def build_discriminator(self):\n",
        "        init = RandomNormal(mean=0.0, stddev=0.02)\n",
        "        model = Sequential()\n",
        "\n",
        "        model.add(GaussianNoise(0.1, input_shape=(self.out_shape,)))\n",
        "        model.add(Dense(256, kernel_initializer=init, kernel_regularizer=l2(0.001)))\n",
        "        model.add(LeakyReLU(alpha=0.2))\n",
        "        model.add(Dropout(0.4))\n",
        "\n",
        "        model.add(Dense(1, activation='sigmoid'))\n",
        "        model.summary()\n",
        "\n",
        "        gen_sample = Input(shape=(self.out_shape,))\n",
        "        label = Input(shape=(1,), dtype='int32')\n",
        "        label_embedding = Flatten()(Embedding(self.num_classes, self.out_shape)(label))\n",
        "        model_input = multiply([gen_sample, label_embedding])\n",
        "        validity = model(model_input)\n",
        "\n",
        "        return Model([gen_sample, label], validity, name=\"Discriminator\")\n",
        "\n",
        "    def train(self, X_train, y_train, pos_index, neg_index, epochs, batch_size=32, sample_interval=50):\n",
        "        valid = np.ones((batch_size, 1))\n",
        "        fake = np.zeros((batch_size, 1))\n",
        "\n",
        "        for epoch in range(epochs):\n",
        "            # train Discriminator\n",
        "            idx1 = np.random.choice(pos_index, 8)\n",
        "            idx0 = np.random.choice(neg_index, batch_size - 8)\n",
        "            idx = np.concatenate((idx1, idx0))\n",
        "            samples, labels = X_train[idx], y_train[idx]\n",
        "            samples, labels = shuffle(samples, labels)\n",
        "\n",
        "            noise = np.random.normal(0, 1, (batch_size, self.latent_dim))\n",
        "            gen_samples = self.generator.predict([noise, labels], verbose=0)\n",
        "\n",
        "            valid_smooth = np.random.uniform(low=0.9, high=1.0, size=(batch_size, 1))\n",
        "            fake_smooth = np.random.uniform(low=0.0, high=0.1, size=(batch_size, 1))\n",
        "\n",
        "            if np.random.rand() < 0.05:\n",
        "                valid_smooth, fake_smooth = fake_smooth, valid_smooth\n",
        "\n",
        "            self.discriminator.trainable = True\n",
        "            d_loss_real = self.discriminator.train_on_batch([samples, labels], valid_smooth)\n",
        "            d_loss_fake = self.discriminator.train_on_batch([gen_samples, labels], fake_smooth)\n",
        "            d_loss = 0.5 * np.add(d_loss_real, d_loss_fake)\n",
        "\n",
        "            # train Generator\n",
        "            self.discriminator.trainable = False\n",
        "            sampled_labels = np.random.randint(0, self.num_classes, batch_size).reshape(-1, 1)\n",
        "            noise = np.random.normal(0, 1, (batch_size, self.latent_dim))\n",
        "            g_loss = self.combined.train_on_batch([noise, sampled_labels], valid)\n",
        "\n",
        "\n",
        "            if (epoch + 1) % sample_interval == 0:\n",
        "                print(f\"{epoch + 1} [D loss: {d_loss[0]:.4f}, acc: {100*d_loss[1]:.2f}%] \"\n",
        "                      f\"[G loss: {g_loss[0]:.4f}, acc: {100*g_loss[1]:.2f}%]\")\n",
        "\n",
        "                d_real_pred = self.discriminator.predict([samples[:5], labels[:5]], verbose=0).flatten()\n",
        "                d_fake_pred = self.discriminator.predict([gen_samples[:5], labels[:5]], verbose=0).flatten()\n",
        "                print(\"Disc pred on real:\", np.round(d_real_pred, 2))\n",
        "                print(\"Disc pred on fake:\", np.round(d_fake_pred, 2))\n",
        "\n",
        "            if (epoch + 1) % 100 == 0:\n",
        "                self.save_generated_samples(epoch + 1)\n",
        "\n",
        "    def save_generated_samples(self, epoch):\n",
        "        noise = np.random.normal(0, 1, (5, self.latent_dim))\n",
        "        labels = np.array([[0], [1], [0], [1], [1]])\n",
        "        gen_samples = self.generator.predict([noise, labels])\n",
        "        print(f\"Generated samples at epoch {epoch}:\\n{gen_samples}\")"
      ],
      "metadata": {
        "id": "zL2u47WRNTOr"
      },
      "id": "zL2u47WRNTOr",
      "execution_count": null,
      "outputs": []
    },
    {
      "cell_type": "code",
      "execution_count": null,
      "id": "3d0bbcfd",
      "metadata": {
        "colab": {
          "base_uri": "https://localhost:8080/",
          "height": 1000
        },
        "id": "3d0bbcfd",
        "outputId": "0ce75360-eb0b-4fb8-a988-773130671a4e"
      },
      "outputs": [
        {
          "output_type": "stream",
          "name": "stderr",
          "text": [
            "/usr/local/lib/python3.11/dist-packages/keras/src/layers/regularization/gaussian_noise.py:29: UserWarning:\n",
            "\n",
            "Do not pass an `input_shape`/`input_dim` argument to a layer. When using Sequential models, prefer using an `Input(shape)` object as the first layer in the model instead.\n",
            "\n",
            "/usr/local/lib/python3.11/dist-packages/keras/src/layers/activations/leaky_relu.py:41: UserWarning:\n",
            "\n",
            "Argument `alpha` is deprecated. Use `negative_slope` instead.\n",
            "\n"
          ]
        },
        {
          "output_type": "display_data",
          "data": {
            "text/plain": [
              "\u001b[1mModel: \"sequential\"\u001b[0m\n"
            ],
            "text/html": [
              "<pre style=\"white-space:pre;overflow-x:auto;line-height:normal;font-family:Menlo,'DejaVu Sans Mono',consolas,'Courier New',monospace\"><span style=\"font-weight: bold\">Model: \"sequential\"</span>\n",
              "</pre>\n"
            ]
          },
          "metadata": {}
        },
        {
          "output_type": "display_data",
          "data": {
            "text/plain": [
              "┏━━━━━━━━━━━━━━━━━━━━━━━━━━━━━━━━━┳━━━━━━━━━━━━━━━━━━━━━━━━┳━━━━━━━━━━━━━━━┓\n",
              "┃\u001b[1m \u001b[0m\u001b[1mLayer (type)                   \u001b[0m\u001b[1m \u001b[0m┃\u001b[1m \u001b[0m\u001b[1mOutput Shape          \u001b[0m\u001b[1m \u001b[0m┃\u001b[1m \u001b[0m\u001b[1m      Param #\u001b[0m\u001b[1m \u001b[0m┃\n",
              "┡━━━━━━━━━━━━━━━━━━━━━━━━━━━━━━━━━╇━━━━━━━━━━━━━━━━━━━━━━━━╇━━━━━━━━━━━━━━━┩\n",
              "│ gaussian_noise (\u001b[38;5;33mGaussianNoise\u001b[0m)  │ (\u001b[38;5;45mNone\u001b[0m, \u001b[38;5;34m29\u001b[0m)             │             \u001b[38;5;34m0\u001b[0m │\n",
              "├─────────────────────────────────┼────────────────────────┼───────────────┤\n",
              "│ dense (\u001b[38;5;33mDense\u001b[0m)                   │ (\u001b[38;5;45mNone\u001b[0m, \u001b[38;5;34m256\u001b[0m)            │         \u001b[38;5;34m7,680\u001b[0m │\n",
              "├─────────────────────────────────┼────────────────────────┼───────────────┤\n",
              "│ leaky_re_lu (\u001b[38;5;33mLeakyReLU\u001b[0m)         │ (\u001b[38;5;45mNone\u001b[0m, \u001b[38;5;34m256\u001b[0m)            │             \u001b[38;5;34m0\u001b[0m │\n",
              "├─────────────────────────────────┼────────────────────────┼───────────────┤\n",
              "│ dropout (\u001b[38;5;33mDropout\u001b[0m)               │ (\u001b[38;5;45mNone\u001b[0m, \u001b[38;5;34m256\u001b[0m)            │             \u001b[38;5;34m0\u001b[0m │\n",
              "├─────────────────────────────────┼────────────────────────┼───────────────┤\n",
              "│ dense_1 (\u001b[38;5;33mDense\u001b[0m)                 │ (\u001b[38;5;45mNone\u001b[0m, \u001b[38;5;34m1\u001b[0m)              │           \u001b[38;5;34m257\u001b[0m │\n",
              "└─────────────────────────────────┴────────────────────────┴───────────────┘\n"
            ],
            "text/html": [
              "<pre style=\"white-space:pre;overflow-x:auto;line-height:normal;font-family:Menlo,'DejaVu Sans Mono',consolas,'Courier New',monospace\">┏━━━━━━━━━━━━━━━━━━━━━━━━━━━━━━━━━┳━━━━━━━━━━━━━━━━━━━━━━━━┳━━━━━━━━━━━━━━━┓\n",
              "┃<span style=\"font-weight: bold\"> Layer (type)                    </span>┃<span style=\"font-weight: bold\"> Output Shape           </span>┃<span style=\"font-weight: bold\">       Param # </span>┃\n",
              "┡━━━━━━━━━━━━━━━━━━━━━━━━━━━━━━━━━╇━━━━━━━━━━━━━━━━━━━━━━━━╇━━━━━━━━━━━━━━━┩\n",
              "│ gaussian_noise (<span style=\"color: #0087ff; text-decoration-color: #0087ff\">GaussianNoise</span>)  │ (<span style=\"color: #00d7ff; text-decoration-color: #00d7ff\">None</span>, <span style=\"color: #00af00; text-decoration-color: #00af00\">29</span>)             │             <span style=\"color: #00af00; text-decoration-color: #00af00\">0</span> │\n",
              "├─────────────────────────────────┼────────────────────────┼───────────────┤\n",
              "│ dense (<span style=\"color: #0087ff; text-decoration-color: #0087ff\">Dense</span>)                   │ (<span style=\"color: #00d7ff; text-decoration-color: #00d7ff\">None</span>, <span style=\"color: #00af00; text-decoration-color: #00af00\">256</span>)            │         <span style=\"color: #00af00; text-decoration-color: #00af00\">7,680</span> │\n",
              "├─────────────────────────────────┼────────────────────────┼───────────────┤\n",
              "│ leaky_re_lu (<span style=\"color: #0087ff; text-decoration-color: #0087ff\">LeakyReLU</span>)         │ (<span style=\"color: #00d7ff; text-decoration-color: #00d7ff\">None</span>, <span style=\"color: #00af00; text-decoration-color: #00af00\">256</span>)            │             <span style=\"color: #00af00; text-decoration-color: #00af00\">0</span> │\n",
              "├─────────────────────────────────┼────────────────────────┼───────────────┤\n",
              "│ dropout (<span style=\"color: #0087ff; text-decoration-color: #0087ff\">Dropout</span>)               │ (<span style=\"color: #00d7ff; text-decoration-color: #00d7ff\">None</span>, <span style=\"color: #00af00; text-decoration-color: #00af00\">256</span>)            │             <span style=\"color: #00af00; text-decoration-color: #00af00\">0</span> │\n",
              "├─────────────────────────────────┼────────────────────────┼───────────────┤\n",
              "│ dense_1 (<span style=\"color: #0087ff; text-decoration-color: #0087ff\">Dense</span>)                 │ (<span style=\"color: #00d7ff; text-decoration-color: #00d7ff\">None</span>, <span style=\"color: #00af00; text-decoration-color: #00af00\">1</span>)              │           <span style=\"color: #00af00; text-decoration-color: #00af00\">257</span> │\n",
              "└─────────────────────────────────┴────────────────────────┴───────────────┘\n",
              "</pre>\n"
            ]
          },
          "metadata": {}
        },
        {
          "output_type": "display_data",
          "data": {
            "text/plain": [
              "\u001b[1m Total params: \u001b[0m\u001b[38;5;34m7,937\u001b[0m (31.00 KB)\n"
            ],
            "text/html": [
              "<pre style=\"white-space:pre;overflow-x:auto;line-height:normal;font-family:Menlo,'DejaVu Sans Mono',consolas,'Courier New',monospace\"><span style=\"font-weight: bold\"> Total params: </span><span style=\"color: #00af00; text-decoration-color: #00af00\">7,937</span> (31.00 KB)\n",
              "</pre>\n"
            ]
          },
          "metadata": {}
        },
        {
          "output_type": "display_data",
          "data": {
            "text/plain": [
              "\u001b[1m Trainable params: \u001b[0m\u001b[38;5;34m7,937\u001b[0m (31.00 KB)\n"
            ],
            "text/html": [
              "<pre style=\"white-space:pre;overflow-x:auto;line-height:normal;font-family:Menlo,'DejaVu Sans Mono',consolas,'Courier New',monospace\"><span style=\"font-weight: bold\"> Trainable params: </span><span style=\"color: #00af00; text-decoration-color: #00af00\">7,937</span> (31.00 KB)\n",
              "</pre>\n"
            ]
          },
          "metadata": {}
        },
        {
          "output_type": "display_data",
          "data": {
            "text/plain": [
              "\u001b[1m Non-trainable params: \u001b[0m\u001b[38;5;34m0\u001b[0m (0.00 B)\n"
            ],
            "text/html": [
              "<pre style=\"white-space:pre;overflow-x:auto;line-height:normal;font-family:Menlo,'DejaVu Sans Mono',consolas,'Courier New',monospace\"><span style=\"font-weight: bold\"> Non-trainable params: </span><span style=\"color: #00af00; text-decoration-color: #00af00\">0</span> (0.00 B)\n",
              "</pre>\n"
            ]
          },
          "metadata": {}
        },
        {
          "output_type": "stream",
          "name": "stderr",
          "text": [
            "/usr/local/lib/python3.11/dist-packages/keras/src/layers/core/dense.py:93: UserWarning:\n",
            "\n",
            "Do not pass an `input_shape`/`input_dim` argument to a layer. When using Sequential models, prefer using an `Input(shape)` object as the first layer in the model instead.\n",
            "\n"
          ]
        },
        {
          "output_type": "display_data",
          "data": {
            "text/plain": [
              "\u001b[1mModel: \"sequential_1\"\u001b[0m\n"
            ],
            "text/html": [
              "<pre style=\"white-space:pre;overflow-x:auto;line-height:normal;font-family:Menlo,'DejaVu Sans Mono',consolas,'Courier New',monospace\"><span style=\"font-weight: bold\">Model: \"sequential_1\"</span>\n",
              "</pre>\n"
            ]
          },
          "metadata": {}
        },
        {
          "output_type": "display_data",
          "data": {
            "text/plain": [
              "┏━━━━━━━━━━━━━━━━━━━━━━━━━━━━━━━━━┳━━━━━━━━━━━━━━━━━━━━━━━━┳━━━━━━━━━━━━━━━┓\n",
              "┃\u001b[1m \u001b[0m\u001b[1mLayer (type)                   \u001b[0m\u001b[1m \u001b[0m┃\u001b[1m \u001b[0m\u001b[1mOutput Shape          \u001b[0m\u001b[1m \u001b[0m┃\u001b[1m \u001b[0m\u001b[1m      Param #\u001b[0m\u001b[1m \u001b[0m┃\n",
              "┡━━━━━━━━━━━━━━━━━━━━━━━━━━━━━━━━━╇━━━━━━━━━━━━━━━━━━━━━━━━╇━━━━━━━━━━━━━━━┩\n",
              "│ dense_2 (\u001b[38;5;33mDense\u001b[0m)                 │ (\u001b[38;5;45mNone\u001b[0m, \u001b[38;5;34m128\u001b[0m)            │         \u001b[38;5;34m4,224\u001b[0m │\n",
              "├─────────────────────────────────┼────────────────────────┼───────────────┤\n",
              "│ leaky_re_lu_1 (\u001b[38;5;33mLeakyReLU\u001b[0m)       │ (\u001b[38;5;45mNone\u001b[0m, \u001b[38;5;34m128\u001b[0m)            │             \u001b[38;5;34m0\u001b[0m │\n",
              "├─────────────────────────────────┼────────────────────────┼───────────────┤\n",
              "│ batch_normalization             │ (\u001b[38;5;45mNone\u001b[0m, \u001b[38;5;34m128\u001b[0m)            │           \u001b[38;5;34m512\u001b[0m │\n",
              "│ (\u001b[38;5;33mBatchNormalization\u001b[0m)            │                        │               │\n",
              "├─────────────────────────────────┼────────────────────────┼───────────────┤\n",
              "│ dropout_1 (\u001b[38;5;33mDropout\u001b[0m)             │ (\u001b[38;5;45mNone\u001b[0m, \u001b[38;5;34m128\u001b[0m)            │             \u001b[38;5;34m0\u001b[0m │\n",
              "├─────────────────────────────────┼────────────────────────┼───────────────┤\n",
              "│ dense_3 (\u001b[38;5;33mDense\u001b[0m)                 │ (\u001b[38;5;45mNone\u001b[0m, \u001b[38;5;34m256\u001b[0m)            │        \u001b[38;5;34m33,024\u001b[0m │\n",
              "├─────────────────────────────────┼────────────────────────┼───────────────┤\n",
              "│ leaky_re_lu_2 (\u001b[38;5;33mLeakyReLU\u001b[0m)       │ (\u001b[38;5;45mNone\u001b[0m, \u001b[38;5;34m256\u001b[0m)            │             \u001b[38;5;34m0\u001b[0m │\n",
              "├─────────────────────────────────┼────────────────────────┼───────────────┤\n",
              "│ batch_normalization_1           │ (\u001b[38;5;45mNone\u001b[0m, \u001b[38;5;34m256\u001b[0m)            │         \u001b[38;5;34m1,024\u001b[0m │\n",
              "│ (\u001b[38;5;33mBatchNormalization\u001b[0m)            │                        │               │\n",
              "├─────────────────────────────────┼────────────────────────┼───────────────┤\n",
              "│ dropout_2 (\u001b[38;5;33mDropout\u001b[0m)             │ (\u001b[38;5;45mNone\u001b[0m, \u001b[38;5;34m256\u001b[0m)            │             \u001b[38;5;34m0\u001b[0m │\n",
              "├─────────────────────────────────┼────────────────────────┼───────────────┤\n",
              "│ dense_4 (\u001b[38;5;33mDense\u001b[0m)                 │ (\u001b[38;5;45mNone\u001b[0m, \u001b[38;5;34m512\u001b[0m)            │       \u001b[38;5;34m131,584\u001b[0m │\n",
              "├─────────────────────────────────┼────────────────────────┼───────────────┤\n",
              "│ leaky_re_lu_3 (\u001b[38;5;33mLeakyReLU\u001b[0m)       │ (\u001b[38;5;45mNone\u001b[0m, \u001b[38;5;34m512\u001b[0m)            │             \u001b[38;5;34m0\u001b[0m │\n",
              "├─────────────────────────────────┼────────────────────────┼───────────────┤\n",
              "│ batch_normalization_2           │ (\u001b[38;5;45mNone\u001b[0m, \u001b[38;5;34m512\u001b[0m)            │         \u001b[38;5;34m2,048\u001b[0m │\n",
              "│ (\u001b[38;5;33mBatchNormalization\u001b[0m)            │                        │               │\n",
              "├─────────────────────────────────┼────────────────────────┼───────────────┤\n",
              "│ dense_5 (\u001b[38;5;33mDense\u001b[0m)                 │ (\u001b[38;5;45mNone\u001b[0m, \u001b[38;5;34m29\u001b[0m)             │        \u001b[38;5;34m14,877\u001b[0m │\n",
              "└─────────────────────────────────┴────────────────────────┴───────────────┘\n"
            ],
            "text/html": [
              "<pre style=\"white-space:pre;overflow-x:auto;line-height:normal;font-family:Menlo,'DejaVu Sans Mono',consolas,'Courier New',monospace\">┏━━━━━━━━━━━━━━━━━━━━━━━━━━━━━━━━━┳━━━━━━━━━━━━━━━━━━━━━━━━┳━━━━━━━━━━━━━━━┓\n",
              "┃<span style=\"font-weight: bold\"> Layer (type)                    </span>┃<span style=\"font-weight: bold\"> Output Shape           </span>┃<span style=\"font-weight: bold\">       Param # </span>┃\n",
              "┡━━━━━━━━━━━━━━━━━━━━━━━━━━━━━━━━━╇━━━━━━━━━━━━━━━━━━━━━━━━╇━━━━━━━━━━━━━━━┩\n",
              "│ dense_2 (<span style=\"color: #0087ff; text-decoration-color: #0087ff\">Dense</span>)                 │ (<span style=\"color: #00d7ff; text-decoration-color: #00d7ff\">None</span>, <span style=\"color: #00af00; text-decoration-color: #00af00\">128</span>)            │         <span style=\"color: #00af00; text-decoration-color: #00af00\">4,224</span> │\n",
              "├─────────────────────────────────┼────────────────────────┼───────────────┤\n",
              "│ leaky_re_lu_1 (<span style=\"color: #0087ff; text-decoration-color: #0087ff\">LeakyReLU</span>)       │ (<span style=\"color: #00d7ff; text-decoration-color: #00d7ff\">None</span>, <span style=\"color: #00af00; text-decoration-color: #00af00\">128</span>)            │             <span style=\"color: #00af00; text-decoration-color: #00af00\">0</span> │\n",
              "├─────────────────────────────────┼────────────────────────┼───────────────┤\n",
              "│ batch_normalization             │ (<span style=\"color: #00d7ff; text-decoration-color: #00d7ff\">None</span>, <span style=\"color: #00af00; text-decoration-color: #00af00\">128</span>)            │           <span style=\"color: #00af00; text-decoration-color: #00af00\">512</span> │\n",
              "│ (<span style=\"color: #0087ff; text-decoration-color: #0087ff\">BatchNormalization</span>)            │                        │               │\n",
              "├─────────────────────────────────┼────────────────────────┼───────────────┤\n",
              "│ dropout_1 (<span style=\"color: #0087ff; text-decoration-color: #0087ff\">Dropout</span>)             │ (<span style=\"color: #00d7ff; text-decoration-color: #00d7ff\">None</span>, <span style=\"color: #00af00; text-decoration-color: #00af00\">128</span>)            │             <span style=\"color: #00af00; text-decoration-color: #00af00\">0</span> │\n",
              "├─────────────────────────────────┼────────────────────────┼───────────────┤\n",
              "│ dense_3 (<span style=\"color: #0087ff; text-decoration-color: #0087ff\">Dense</span>)                 │ (<span style=\"color: #00d7ff; text-decoration-color: #00d7ff\">None</span>, <span style=\"color: #00af00; text-decoration-color: #00af00\">256</span>)            │        <span style=\"color: #00af00; text-decoration-color: #00af00\">33,024</span> │\n",
              "├─────────────────────────────────┼────────────────────────┼───────────────┤\n",
              "│ leaky_re_lu_2 (<span style=\"color: #0087ff; text-decoration-color: #0087ff\">LeakyReLU</span>)       │ (<span style=\"color: #00d7ff; text-decoration-color: #00d7ff\">None</span>, <span style=\"color: #00af00; text-decoration-color: #00af00\">256</span>)            │             <span style=\"color: #00af00; text-decoration-color: #00af00\">0</span> │\n",
              "├─────────────────────────────────┼────────────────────────┼───────────────┤\n",
              "│ batch_normalization_1           │ (<span style=\"color: #00d7ff; text-decoration-color: #00d7ff\">None</span>, <span style=\"color: #00af00; text-decoration-color: #00af00\">256</span>)            │         <span style=\"color: #00af00; text-decoration-color: #00af00\">1,024</span> │\n",
              "│ (<span style=\"color: #0087ff; text-decoration-color: #0087ff\">BatchNormalization</span>)            │                        │               │\n",
              "├─────────────────────────────────┼────────────────────────┼───────────────┤\n",
              "│ dropout_2 (<span style=\"color: #0087ff; text-decoration-color: #0087ff\">Dropout</span>)             │ (<span style=\"color: #00d7ff; text-decoration-color: #00d7ff\">None</span>, <span style=\"color: #00af00; text-decoration-color: #00af00\">256</span>)            │             <span style=\"color: #00af00; text-decoration-color: #00af00\">0</span> │\n",
              "├─────────────────────────────────┼────────────────────────┼───────────────┤\n",
              "│ dense_4 (<span style=\"color: #0087ff; text-decoration-color: #0087ff\">Dense</span>)                 │ (<span style=\"color: #00d7ff; text-decoration-color: #00d7ff\">None</span>, <span style=\"color: #00af00; text-decoration-color: #00af00\">512</span>)            │       <span style=\"color: #00af00; text-decoration-color: #00af00\">131,584</span> │\n",
              "├─────────────────────────────────┼────────────────────────┼───────────────┤\n",
              "│ leaky_re_lu_3 (<span style=\"color: #0087ff; text-decoration-color: #0087ff\">LeakyReLU</span>)       │ (<span style=\"color: #00d7ff; text-decoration-color: #00d7ff\">None</span>, <span style=\"color: #00af00; text-decoration-color: #00af00\">512</span>)            │             <span style=\"color: #00af00; text-decoration-color: #00af00\">0</span> │\n",
              "├─────────────────────────────────┼────────────────────────┼───────────────┤\n",
              "│ batch_normalization_2           │ (<span style=\"color: #00d7ff; text-decoration-color: #00d7ff\">None</span>, <span style=\"color: #00af00; text-decoration-color: #00af00\">512</span>)            │         <span style=\"color: #00af00; text-decoration-color: #00af00\">2,048</span> │\n",
              "│ (<span style=\"color: #0087ff; text-decoration-color: #0087ff\">BatchNormalization</span>)            │                        │               │\n",
              "├─────────────────────────────────┼────────────────────────┼───────────────┤\n",
              "│ dense_5 (<span style=\"color: #0087ff; text-decoration-color: #0087ff\">Dense</span>)                 │ (<span style=\"color: #00d7ff; text-decoration-color: #00d7ff\">None</span>, <span style=\"color: #00af00; text-decoration-color: #00af00\">29</span>)             │        <span style=\"color: #00af00; text-decoration-color: #00af00\">14,877</span> │\n",
              "└─────────────────────────────────┴────────────────────────┴───────────────┘\n",
              "</pre>\n"
            ]
          },
          "metadata": {}
        },
        {
          "output_type": "display_data",
          "data": {
            "text/plain": [
              "\u001b[1m Total params: \u001b[0m\u001b[38;5;34m187,293\u001b[0m (731.61 KB)\n"
            ],
            "text/html": [
              "<pre style=\"white-space:pre;overflow-x:auto;line-height:normal;font-family:Menlo,'DejaVu Sans Mono',consolas,'Courier New',monospace\"><span style=\"font-weight: bold\"> Total params: </span><span style=\"color: #00af00; text-decoration-color: #00af00\">187,293</span> (731.61 KB)\n",
              "</pre>\n"
            ]
          },
          "metadata": {}
        },
        {
          "output_type": "display_data",
          "data": {
            "text/plain": [
              "\u001b[1m Trainable params: \u001b[0m\u001b[38;5;34m185,501\u001b[0m (724.61 KB)\n"
            ],
            "text/html": [
              "<pre style=\"white-space:pre;overflow-x:auto;line-height:normal;font-family:Menlo,'DejaVu Sans Mono',consolas,'Courier New',monospace\"><span style=\"font-weight: bold\"> Trainable params: </span><span style=\"color: #00af00; text-decoration-color: #00af00\">185,501</span> (724.61 KB)\n",
              "</pre>\n"
            ]
          },
          "metadata": {}
        },
        {
          "output_type": "display_data",
          "data": {
            "text/plain": [
              "\u001b[1m Non-trainable params: \u001b[0m\u001b[38;5;34m1,792\u001b[0m (7.00 KB)\n"
            ],
            "text/html": [
              "<pre style=\"white-space:pre;overflow-x:auto;line-height:normal;font-family:Menlo,'DejaVu Sans Mono',consolas,'Courier New',monospace\"><span style=\"font-weight: bold\"> Non-trainable params: </span><span style=\"color: #00af00; text-decoration-color: #00af00\">1,792</span> (7.00 KB)\n",
              "</pre>\n"
            ]
          },
          "metadata": {}
        },
        {
          "output_type": "display_data",
          "data": {
            "text/plain": [
              "\u001b[1mModel: \"functional_17\"\u001b[0m\n"
            ],
            "text/html": [
              "<pre style=\"white-space:pre;overflow-x:auto;line-height:normal;font-family:Menlo,'DejaVu Sans Mono',consolas,'Courier New',monospace\"><span style=\"font-weight: bold\">Model: \"functional_17\"</span>\n",
              "</pre>\n"
            ]
          },
          "metadata": {}
        },
        {
          "output_type": "display_data",
          "data": {
            "text/plain": [
              "┏━━━━━━━━━━━━━━━━━━━━━┳━━━━━━━━━━━━━━━━━━━┳━━━━━━━━━━━━┳━━━━━━━━━━━━━━━━━━━┓\n",
              "┃\u001b[1m \u001b[0m\u001b[1mLayer (type)       \u001b[0m\u001b[1m \u001b[0m┃\u001b[1m \u001b[0m\u001b[1mOutput Shape     \u001b[0m\u001b[1m \u001b[0m┃\u001b[1m \u001b[0m\u001b[1m   Param #\u001b[0m\u001b[1m \u001b[0m┃\u001b[1m \u001b[0m\u001b[1mConnected to     \u001b[0m\u001b[1m \u001b[0m┃\n",
              "┡━━━━━━━━━━━━━━━━━━━━━╇━━━━━━━━━━━━━━━━━━━╇━━━━━━━━━━━━╇━━━━━━━━━━━━━━━━━━━┩\n",
              "│ input_layer_6       │ (\u001b[38;5;45mNone\u001b[0m, \u001b[38;5;34m32\u001b[0m)        │          \u001b[38;5;34m0\u001b[0m │ -                 │\n",
              "│ (\u001b[38;5;33mInputLayer\u001b[0m)        │                   │            │                   │\n",
              "├─────────────────────┼───────────────────┼────────────┼───────────────────┤\n",
              "│ input_layer_7       │ (\u001b[38;5;45mNone\u001b[0m, \u001b[38;5;34m1\u001b[0m)         │          \u001b[38;5;34m0\u001b[0m │ -                 │\n",
              "│ (\u001b[38;5;33mInputLayer\u001b[0m)        │                   │            │                   │\n",
              "├─────────────────────┼───────────────────┼────────────┼───────────────────┤\n",
              "│ Generator           │ (\u001b[38;5;45mNone\u001b[0m, \u001b[38;5;34m29\u001b[0m)        │    \u001b[38;5;34m187,357\u001b[0m │ input_layer_6[\u001b[38;5;34m0\u001b[0m]… │\n",
              "│ (\u001b[38;5;33mFunctional\u001b[0m)        │                   │            │ input_layer_7[\u001b[38;5;34m0\u001b[0m]… │\n",
              "├─────────────────────┼───────────────────┼────────────┼───────────────────┤\n",
              "│ Discriminator       │ (\u001b[38;5;45mNone\u001b[0m, \u001b[38;5;34m1\u001b[0m)         │      \u001b[38;5;34m7,995\u001b[0m │ Generator[\u001b[38;5;34m0\u001b[0m][\u001b[38;5;34m0\u001b[0m],  │\n",
              "│ (\u001b[38;5;33mFunctional\u001b[0m)        │                   │            │ input_layer_7[\u001b[38;5;34m0\u001b[0m]… │\n",
              "└─────────────────────┴───────────────────┴────────────┴───────────────────┘\n"
            ],
            "text/html": [
              "<pre style=\"white-space:pre;overflow-x:auto;line-height:normal;font-family:Menlo,'DejaVu Sans Mono',consolas,'Courier New',monospace\">┏━━━━━━━━━━━━━━━━━━━━━┳━━━━━━━━━━━━━━━━━━━┳━━━━━━━━━━━━┳━━━━━━━━━━━━━━━━━━━┓\n",
              "┃<span style=\"font-weight: bold\"> Layer (type)        </span>┃<span style=\"font-weight: bold\"> Output Shape      </span>┃<span style=\"font-weight: bold\">    Param # </span>┃<span style=\"font-weight: bold\"> Connected to      </span>┃\n",
              "┡━━━━━━━━━━━━━━━━━━━━━╇━━━━━━━━━━━━━━━━━━━╇━━━━━━━━━━━━╇━━━━━━━━━━━━━━━━━━━┩\n",
              "│ input_layer_6       │ (<span style=\"color: #00d7ff; text-decoration-color: #00d7ff\">None</span>, <span style=\"color: #00af00; text-decoration-color: #00af00\">32</span>)        │          <span style=\"color: #00af00; text-decoration-color: #00af00\">0</span> │ -                 │\n",
              "│ (<span style=\"color: #0087ff; text-decoration-color: #0087ff\">InputLayer</span>)        │                   │            │                   │\n",
              "├─────────────────────┼───────────────────┼────────────┼───────────────────┤\n",
              "│ input_layer_7       │ (<span style=\"color: #00d7ff; text-decoration-color: #00d7ff\">None</span>, <span style=\"color: #00af00; text-decoration-color: #00af00\">1</span>)         │          <span style=\"color: #00af00; text-decoration-color: #00af00\">0</span> │ -                 │\n",
              "│ (<span style=\"color: #0087ff; text-decoration-color: #0087ff\">InputLayer</span>)        │                   │            │                   │\n",
              "├─────────────────────┼───────────────────┼────────────┼───────────────────┤\n",
              "│ Generator           │ (<span style=\"color: #00d7ff; text-decoration-color: #00d7ff\">None</span>, <span style=\"color: #00af00; text-decoration-color: #00af00\">29</span>)        │    <span style=\"color: #00af00; text-decoration-color: #00af00\">187,357</span> │ input_layer_6[<span style=\"color: #00af00; text-decoration-color: #00af00\">0</span>]… │\n",
              "│ (<span style=\"color: #0087ff; text-decoration-color: #0087ff\">Functional</span>)        │                   │            │ input_layer_7[<span style=\"color: #00af00; text-decoration-color: #00af00\">0</span>]… │\n",
              "├─────────────────────┼───────────────────┼────────────┼───────────────────┤\n",
              "│ Discriminator       │ (<span style=\"color: #00d7ff; text-decoration-color: #00d7ff\">None</span>, <span style=\"color: #00af00; text-decoration-color: #00af00\">1</span>)         │      <span style=\"color: #00af00; text-decoration-color: #00af00\">7,995</span> │ Generator[<span style=\"color: #00af00; text-decoration-color: #00af00\">0</span>][<span style=\"color: #00af00; text-decoration-color: #00af00\">0</span>],  │\n",
              "│ (<span style=\"color: #0087ff; text-decoration-color: #0087ff\">Functional</span>)        │                   │            │ input_layer_7[<span style=\"color: #00af00; text-decoration-color: #00af00\">0</span>]… │\n",
              "└─────────────────────┴───────────────────┴────────────┴───────────────────┘\n",
              "</pre>\n"
            ]
          },
          "metadata": {}
        },
        {
          "output_type": "display_data",
          "data": {
            "text/plain": [
              "\u001b[1m Total params: \u001b[0m\u001b[38;5;34m195,352\u001b[0m (763.09 KB)\n"
            ],
            "text/html": [
              "<pre style=\"white-space:pre;overflow-x:auto;line-height:normal;font-family:Menlo,'DejaVu Sans Mono',consolas,'Courier New',monospace\"><span style=\"font-weight: bold\"> Total params: </span><span style=\"color: #00af00; text-decoration-color: #00af00\">195,352</span> (763.09 KB)\n",
              "</pre>\n"
            ]
          },
          "metadata": {}
        },
        {
          "output_type": "display_data",
          "data": {
            "text/plain": [
              "\u001b[1m Trainable params: \u001b[0m\u001b[38;5;34m185,565\u001b[0m (724.86 KB)\n"
            ],
            "text/html": [
              "<pre style=\"white-space:pre;overflow-x:auto;line-height:normal;font-family:Menlo,'DejaVu Sans Mono',consolas,'Courier New',monospace\"><span style=\"font-weight: bold\"> Trainable params: </span><span style=\"color: #00af00; text-decoration-color: #00af00\">185,565</span> (724.86 KB)\n",
              "</pre>\n"
            ]
          },
          "metadata": {}
        },
        {
          "output_type": "display_data",
          "data": {
            "text/plain": [
              "\u001b[1m Non-trainable params: \u001b[0m\u001b[38;5;34m9,787\u001b[0m (38.23 KB)\n"
            ],
            "text/html": [
              "<pre style=\"white-space:pre;overflow-x:auto;line-height:normal;font-family:Menlo,'DejaVu Sans Mono',consolas,'Courier New',monospace\"><span style=\"font-weight: bold\"> Non-trainable params: </span><span style=\"color: #00af00; text-decoration-color: #00af00\">9,787</span> (38.23 KB)\n",
              "</pre>\n"
            ]
          },
          "metadata": {}
        }
      ],
      "source": [
        "cgan = cGAN()"
      ]
    },
    {
      "cell_type": "markdown",
      "id": "2d2d7879",
      "metadata": {
        "id": "2d2d7879"
      },
      "source": [
        "## Training GAN"
      ]
    },
    {
      "cell_type": "code",
      "execution_count": null,
      "id": "6c286d31",
      "metadata": {
        "id": "6c286d31",
        "colab": {
          "base_uri": "https://localhost:8080/"
        },
        "outputId": "dd8325f2-2545-41aa-dd5b-41b2da57ffb9"
      },
      "outputs": [
        {
          "output_type": "stream",
          "name": "stderr",
          "text": [
            "/usr/local/lib/python3.11/dist-packages/tensorflow/python/data/ops/structured_function.py:258: UserWarning:\n",
            "\n",
            "Even though the `tf.config.experimental_run_functions_eagerly` option is set, this option does not apply to tf.data functions. To force eager execution of tf.data functions, please use `tf.data.experimental.enable_debug_mode()`.\n",
            "\n"
          ]
        },
        {
          "output_type": "stream",
          "name": "stdout",
          "text": [
            "50 [D loss: 0.6911, acc: 0.00%] [G loss: 0.6945, acc: 43.00%]\n",
            "Disc pred on real: [0.5 0.5 0.5 0.5 0.5]\n",
            "Disc pred on fake: [0.5 0.5 0.5 0.5 0.5]\n",
            "100 [D loss: 0.6828, acc: 0.00%] [G loss: 0.6921, acc: 47.97%]\n",
            "Disc pred on real: [0.5  0.49 0.5  0.5  0.5 ]\n",
            "Disc pred on fake: [0.48 0.48 0.48 0.48 0.48]\n",
            "\u001b[1m1/1\u001b[0m \u001b[32m━━━━━━━━━━━━━━━━━━━━\u001b[0m\u001b[37m\u001b[0m \u001b[1m0s\u001b[0m 69ms/step\n",
            "Generated samples at epoch 100:\n",
            "[[-5.1834011e-01 -2.0382386e-01  9.8843002e-01 -2.6274100e-01\n",
            "   9.9122959e-01  9.4451684e-01 -9.6761990e-01  1.7531461e-01\n",
            "  -4.9957028e-01  9.9470133e-01 -9.9982876e-01  9.9897265e-01\n",
            "  -4.1929147e-01  9.9904829e-01  8.0415893e-01  8.4356201e-01\n",
            "  -5.9818067e-02  7.6722443e-01 -4.4737509e-01  4.5625758e-01\n",
            "  -2.7136129e-01  4.7387588e-01 -6.1011285e-01  5.6582481e-01\n",
            "   1.6963549e-01 -9.4430679e-01  9.7348630e-01 -6.7981285e-01\n",
            "   8.7628812e-02]\n",
            " [-8.5352731e-01 -8.8779837e-01  5.0870299e-01 -7.3818225e-01\n",
            "   6.2656152e-01 -9.8554021e-01 -9.8830599e-01  8.7247652e-01\n",
            "  -9.4945627e-01 -9.4942594e-01  9.2501187e-01 -9.4287032e-01\n",
            "   7.2571468e-01 -5.3664511e-01  9.9670947e-01 -2.0766789e-01\n",
            "   8.4313536e-01  9.9251872e-01  6.5174299e-01 -8.2702190e-01\n",
            "   9.2838782e-01  4.4551170e-01 -2.2484513e-01 -8.5861892e-01\n",
            "  -9.8848617e-01 -3.9657730e-01  2.3459122e-01 -9.5254087e-01\n",
            "  -7.2003365e-01]\n",
            " [-6.5890878e-01 -3.8202369e-01  9.8023140e-01 -2.8589812e-01\n",
            "   9.8801458e-01  9.7751755e-01 -9.3807417e-01  3.4692851e-01\n",
            "   6.4172131e-01  9.9531013e-01 -9.9990553e-01  9.9960411e-01\n",
            "  -5.5015373e-01  9.9952865e-01  8.6581004e-01  9.4265217e-01\n",
            "  -1.3513212e-01  5.1684326e-01  8.7692745e-02  5.3300697e-01\n",
            "  -5.0390589e-01  4.9042228e-01  4.1360711e-03  3.9936686e-01\n",
            "   4.8892903e-01 -9.4020170e-01  8.8975000e-01 -8.9885366e-01\n",
            "   4.8960663e-02]\n",
            " [-7.8298324e-01 -5.9110856e-01  4.8884693e-01  8.6448830e-01\n",
            "  -7.6221710e-01 -5.5280679e-01  5.8726174e-01 -9.9448375e-02\n",
            "  -6.6602474e-01 -9.4833529e-01  9.0103555e-01 -5.8443081e-01\n",
            "   7.6091778e-01 -4.3599868e-01  8.1584704e-01 -8.1011361e-01\n",
            "   7.4422133e-01  8.4418923e-01  9.7102925e-02  2.3340923e-01\n",
            "  -7.6274025e-01 -5.3310496e-01  7.4137557e-01 -9.6673840e-01\n",
            "  -6.8850833e-01 -3.0995715e-01  4.2640218e-01  2.9661867e-01\n",
            "   7.7835083e-01]\n",
            " [ 9.9327451e-01  9.8858368e-01 -9.9800444e-01 -4.6714309e-01\n",
            "  -6.6642475e-01 -5.8238715e-01 -1.2466543e-01  6.6192344e-02\n",
            "  -9.4038618e-01 -8.9887887e-01  9.9393159e-01 -9.9991035e-01\n",
            "  -4.2160210e-01 -9.9952990e-01  7.4270642e-01 -7.1487588e-01\n",
            "   9.9075639e-01  7.9867172e-01 -6.1256792e-02  2.1514648e-01\n",
            "   3.4906930e-01  3.1847227e-04 -4.4372094e-01 -1.3655014e-02\n",
            "  -9.9757761e-01  7.5327295e-01  4.9722973e-01 -5.1314229e-01\n",
            "   2.8168073e-01]]\n",
            "150 [D loss: 0.6796, acc: 0.00%] [G loss: 0.6894, acc: 50.83%]\n",
            "Disc pred on real: [0.5  0.7  0.49 0.49 0.51]\n",
            "Disc pred on fake: [0.46 0.53 0.53 0.46 0.46]\n",
            "200 [D loss: 0.6794, acc: 0.00%] [G loss: 0.6866, acc: 54.27%]\n",
            "Disc pred on real: [0.49 0.69 0.49 0.5  0.49]\n",
            "Disc pred on fake: [0.52 0.53 0.51 0.51 0.52]\n",
            "\u001b[1m1/1\u001b[0m \u001b[32m━━━━━━━━━━━━━━━━━━━━\u001b[0m\u001b[37m\u001b[0m \u001b[1m0s\u001b[0m 67ms/step\n",
            "Generated samples at epoch 200:\n",
            "[[-0.5873363   0.35242265 -0.95223457  0.85614055 -0.9621868   0.66216886\n",
            "   0.63805497 -0.7271211  -0.13879283 -0.6448039   0.9818189  -0.97282624\n",
            "  -0.17943226 -0.9718755  -0.28153592 -0.54566306 -0.8688585   0.36544237\n",
            "  -0.8996073   0.6375635  -0.54919803 -0.4890181   0.7041433   0.17696568\n",
            "   0.32470188  0.69229674  0.7219187   0.05369464 -0.08262628]\n",
            " [-0.5691323   0.8533442  -0.95420635  0.97859085  0.13785395 -0.96190584\n",
            "  -0.6937752   0.70084727 -0.06616975 -0.49374998  0.9368354  -0.99412066\n",
            "   0.9795175  -0.9826603  -0.28595582 -0.75072527 -0.94704235  0.91144025\n",
            "   0.7725857   0.99956894 -0.16352321  0.8923522  -0.1278361  -0.34783974\n",
            "  -0.83461905  0.74148613  0.33599967  0.99124444  0.5815287 ]\n",
            " [-0.60637426  0.51136595 -0.8800176   0.22054014 -0.97039133  0.87192965\n",
            "   0.9549321  -0.5222875  -0.49169728 -0.639006    0.9191328  -0.85225564\n",
            "  -0.01197191 -0.9436488   0.27245307 -0.72383946 -0.47559896 -0.10656013\n",
            "   0.27631986  0.8588686  -0.72495204 -0.66991496 -0.2704811  -0.1809553\n",
            "   0.12743214 -0.47228625  0.4780004  -0.72436833 -0.7949918 ]\n",
            " [-0.3511502   0.8691429  -0.9767393   0.6966348  -0.67247283 -0.57141507\n",
            "  -0.9023337  -0.68623924  0.9803993  -0.43218467  0.9064015  -0.848622\n",
            "   0.07397692 -0.9389181   0.9604069  -0.7925615  -0.8236221   0.911889\n",
            "   0.82542604  0.00834418  0.85864127 -0.4386785  -0.7819431   0.8915733\n",
            "   0.6007424   0.6473051   0.45015836  0.593855    0.8094262 ]\n",
            " [-0.897935    0.9030532  -0.99410033  0.8162175  -0.9134275  -0.9835667\n",
            "  -0.6889509   0.7620106  -0.63566035 -0.5402381   0.99956435 -0.9961729\n",
            "   0.9742087  -0.9851531   0.8262383  -0.7418254  -0.94053555  0.38543576\n",
            "   0.72015244  0.9905572   0.6432819   0.2155615  -0.848266    0.38211632\n",
            "   0.36775795  0.5273556  -0.5219177   0.9230897   0.21964657]]\n",
            "250 [D loss: 0.6787, acc: 0.00%] [G loss: 0.6850, acc: 57.19%]\n",
            "Disc pred on real: [0.48 0.49 0.49 0.49 0.49]\n",
            "Disc pred on fake: [0.48 0.51 0.51 0.51 0.51]\n",
            "300 [D loss: 0.6779, acc: 0.00%] [G loss: 0.6847, acc: 57.88%]\n",
            "Disc pred on real: [0.49 0.65 0.48 0.48 0.65]\n",
            "Disc pred on fake: [0.5  0.52 0.5  0.5  0.52]\n",
            "\u001b[1m1/1\u001b[0m \u001b[32m━━━━━━━━━━━━━━━━━━━━\u001b[0m\u001b[37m\u001b[0m \u001b[1m0s\u001b[0m 61ms/step\n",
            "Generated samples at epoch 300:\n",
            "[[-0.251628    0.9683404  -0.9531241   0.9639313   0.6289416  -0.22858275\n",
            "  -0.9644365  -0.47639328 -0.7250073  -0.91117233  0.99692357 -0.9854731\n",
            "  -0.84866613 -0.9680471   0.15774572 -0.86276674 -0.94764316  0.558157\n",
            "  -0.5223235  -0.9003026  -0.7487358  -0.13770881  0.48897532  0.9792638\n",
            "  -0.17433344  0.7111005   0.81133866 -0.7827005  -0.3397151 ]\n",
            " [-0.70630336  0.94880134 -0.9963411   0.9637351  -0.39291808  0.43246737\n",
            "   0.19876075 -0.12290363 -0.82142746 -0.95754623  0.99732804 -0.99445134\n",
            "   0.24638405 -0.99195904  0.05931121 -0.85882604 -0.96862227  0.77714634\n",
            "   0.888973   -0.20341249 -0.32340696  0.9277592  -0.8535849   0.9167695\n",
            "   0.54941523  0.28007993  0.5707541   0.95401967  0.89143306]\n",
            " [ 0.99962574 -1.          1.         -1.          0.99569535  0.9952336\n",
            "   0.99999404 -0.9285083   0.9986714   0.9999709  -1.          1.\n",
            "   0.97908336  1.          0.9997186   0.9999921   1.         -0.99450874\n",
            "  -0.27434853  0.9382267   0.99829745  0.8836657   0.8263326  -0.9999994\n",
            "   0.03201731  0.87826157 -0.99981093  0.9950726   0.9676077 ]\n",
            " [-0.41898134  0.6101769  -0.9915292   0.5998173  -0.5915856  -0.8010681\n",
            "   0.22589548  0.73530763 -0.5632577  -0.87561375  0.95690227 -0.98416936\n",
            "  -0.8691055  -0.95326567 -0.4787841  -0.97665197 -0.9633993  -0.73796344\n",
            "  -0.37884307  0.4277704   0.41769895  0.7296383   0.36145464  0.5850011\n",
            "   0.85064125  0.6284973  -0.865383   -0.27740014  0.87640804]\n",
            " [-0.7765961   0.94526446 -0.97975427  0.72391635  0.5251861   0.09073202\n",
            "  -0.988898    0.32688355 -0.3364066  -0.90974915  0.9827362  -0.98254675\n",
            "   0.10203401 -0.98952484  0.91298044 -0.93962324 -0.9752605  -0.38569474\n",
            "   0.7426747  -0.63848686 -0.9665913  -0.79362357  0.16124983  0.8173564\n",
            "  -0.8777859  -0.82382166  0.9507324   0.03518129 -0.39141488]]\n",
            "350 [D loss: 0.6777, acc: 0.00%] [G loss: 0.6857, acc: 56.90%]\n",
            "Disc pred on real: [0.49 0.48 0.49 0.95 0.48]\n",
            "Disc pred on fake: [0.48 0.49 0.49 0.51 0.48]\n",
            "400 [D loss: 0.6771, acc: 0.00%] [G loss: 0.6872, acc: 55.38%]\n",
            "Disc pred on real: [0.7  0.92 0.69 0.48 0.49]\n",
            "Disc pred on fake: [0.51 0.51 0.51 0.49 0.49]\n",
            "\u001b[1m1/1\u001b[0m \u001b[32m━━━━━━━━━━━━━━━━━━━━\u001b[0m\u001b[37m\u001b[0m \u001b[1m0s\u001b[0m 43ms/step\n",
            "Generated samples at epoch 400:\n",
            "[[-0.38695383  0.3990172  -0.9613007   0.6802025   0.7335191   0.58231974\n",
            "  -0.21467979 -0.91660553 -0.0763735  -0.7563694   0.9957415  -0.99419624\n",
            "   0.8885307  -0.9897689  -0.31019226 -0.64352673 -0.906904   -0.14169203\n",
            "   0.3662945   0.5494461  -0.24641778 -0.3773464   0.39349738  0.92545605\n",
            "  -0.62199235 -0.2560767   0.56231856  0.7866033  -0.91038543]\n",
            " [-0.9280638   0.5276664  -0.99099773  0.94413364  0.29775682 -0.40227476\n",
            "  -0.6205519  -0.259094   -0.860381   -0.98788536  0.96244466 -0.9952614\n",
            "   0.66635203 -0.98908275 -0.44616365 -0.9865031  -0.98603815  0.53500605\n",
            "   0.08042203  0.8380462  -0.14994954 -0.06034465  0.64187455 -0.7546544\n",
            "  -0.93280286 -0.8741297   0.14849016 -0.57946014 -0.94089645]\n",
            " [ 0.95689404 -0.99844116 -0.5801861   0.93304104  0.96597457  0.9998894\n",
            "  -0.7737443  -0.8349144  -0.9655929  -0.8121327   0.8453702  -0.74362284\n",
            "  -0.92996114 -0.7710269  -0.97188777 -0.1863717  -0.67915946  0.23626912\n",
            "   0.6041326  -0.5122612   0.15650885 -0.55840164  0.92403257  0.8765735\n",
            "   0.8660411  -0.78704435  0.9692466  -0.2849683  -0.9367679 ]\n",
            " [-0.40219185  0.24560893 -0.93550473  0.9400143   0.9348531   0.05031879\n",
            "  -0.61346304  0.85193914 -0.62515146 -0.983612    0.9950577  -0.99336547\n",
            "   0.9590717  -0.9895029   0.30423683 -0.9696813  -0.9902089   0.10950183\n",
            "   0.09290649  0.8476486   0.11430607  0.15526612  0.6542262  -0.5335831\n",
            "  -0.95804715 -0.91729885  0.2940535   0.05157259 -0.87641066]\n",
            " [-0.85914904  0.5397728  -0.99841017  0.9894048   0.20294225  0.9537546\n",
            "  -0.997863    0.6220756  -0.72229147 -0.99710274  0.9980609  -0.99362236\n",
            "  -0.80116165 -0.9991788   0.62596023 -0.9904817  -0.9946497   0.8467684\n",
            "   0.93649775  0.15499121  0.8663691  -0.9931028   0.9198467   0.9939341\n",
            "  -0.8781088  -0.700659    0.9949526  -0.88847494  0.6385244 ]]\n",
            "450 [D loss: 0.6759, acc: 0.00%] [G loss: 0.6891, acc: 53.17%]\n",
            "Disc pred on real: [0.48 0.78 0.48 0.48 0.48]\n",
            "Disc pred on fake: [0.48 0.51 0.48 0.48 0.48]\n",
            "500 [D loss: 0.6753, acc: 0.00%] [G loss: 0.6914, acc: 50.64%]\n",
            "Disc pred on real: [0.48 0.47 0.72 0.48 0.48]\n",
            "Disc pred on fake: [0.48 0.48 0.5  0.48 0.48]\n",
            "\u001b[1m1/1\u001b[0m \u001b[32m━━━━━━━━━━━━━━━━━━━━\u001b[0m\u001b[37m\u001b[0m \u001b[1m0s\u001b[0m 50ms/step\n",
            "Generated samples at epoch 500:\n",
            "[[ 0.99918133 -0.999379   -0.5801688   0.9455832   0.99995166  0.9987998\n",
            "  -0.9439965  -0.87884265 -0.98175097 -0.58124745  0.66285825 -0.75295144\n",
            "   0.03623159 -0.7571932  -0.9300102   0.3615124  -0.0425985   0.1775238\n",
            "   0.94166017  0.37059584  0.13248238 -0.02528897 -0.40838858  0.55962235\n",
            "   0.99474925  0.19052927  0.9757171   0.10853449 -0.0109194 ]\n",
            " [-0.3010913   0.62760013 -0.9945431   0.90726733 -0.98940104  0.7367109\n",
            "  -0.9921713   0.08558307  0.46555492 -0.95996577  0.95587325 -0.99601793\n",
            "  -0.7932175  -0.9919172  -0.9773637  -0.9960297  -0.9918097   0.2879576\n",
            "   0.79340535 -0.25593835  0.81462234 -0.815686    0.9894808   0.5775919\n",
            "   0.42881504  0.8128063   0.98620784 -0.64852685 -0.253973  ]\n",
            " [-0.79924196 -0.7073922  -0.90081006 -0.46651685 -0.7248046  -0.9923229\n",
            "   0.42250746  0.07504796  0.62363553  0.06710644  0.86592025 -0.9396648\n",
            "   0.8491186  -0.9433228  -0.28900054 -0.42315885  0.03048001  0.76085806\n",
            "   0.18412557 -0.4790605   0.42517155 -0.4398092  -0.7281469   0.5409562\n",
            "  -0.7880606  -0.83121705  0.06196851 -0.1126881   0.31837294]\n",
            " [-0.8306015   0.34075525 -0.99916875  0.95036036 -0.28253433  0.58770555\n",
            "  -0.990385   -0.5998052  -0.9051685  -0.9898066   0.9982494  -0.9894771\n",
            "  -0.8450433  -0.9973401  -0.69516104 -0.9928597  -0.9897471   0.02705832\n",
            "   0.82553446 -0.30101743 -0.48185134 -0.91094756 -0.7331789   0.33428612\n",
            "   0.90205306  0.723765    0.8933151  -0.8851416   0.35048628]\n",
            " [-0.9954498   0.87644535 -0.99863404  0.99451435 -0.74029917 -0.23775136\n",
            "  -0.99885744  0.97731817 -0.93002874 -0.9991642   0.99501896 -0.9955892\n",
            "   0.60818595 -0.99844676 -0.3007924  -0.99973667 -0.99932176 -0.9528337\n",
            "   0.82713807  0.9902787   0.35774654  0.97758174  0.5340433  -0.9659151\n",
            "   0.6087665   0.99067724 -0.9792117  -0.63429284 -0.04063604]]\n",
            "550 [D loss: 0.6746, acc: 0.00%] [G loss: 0.6942, acc: 47.79%]\n",
            "Disc pred on real: [0.48 0.67 0.48 0.48 0.48]\n",
            "Disc pred on fake: [0.49 0.49 0.48 0.48 0.48]\n",
            "600 [D loss: 0.6731, acc: 0.00%] [G loss: 0.6965, acc: 45.65%]\n",
            "Disc pred on real: [0.48 0.98 0.47 0.47 0.47]\n",
            "Disc pred on fake: [0.47 0.49 0.47 0.48 0.48]\n",
            "\u001b[1m1/1\u001b[0m \u001b[32m━━━━━━━━━━━━━━━━━━━━\u001b[0m\u001b[37m\u001b[0m \u001b[1m0s\u001b[0m 43ms/step\n",
            "Generated samples at epoch 600:\n",
            "[[ 0.9963126  -0.8294243  -0.32811388  0.8464955   0.99999595  0.99927795\n",
            "  -0.8290542  -0.32557487 -0.9796505  -0.7122543  -0.9999867  -0.9167593\n",
            "   0.32901514 -0.79827833  0.9193826   0.20576443  0.41603363 -0.9879023\n",
            "   0.9938173   0.9843158  -0.75171566  0.3185649  -0.8863377   0.4799126\n",
            "   0.99816626  0.40886712 -0.5235065  -0.57647896  0.9991343 ]\n",
            " [-0.9674359   0.8540597  -0.9955248   0.99137986 -0.996647   -0.19601366\n",
            "  -0.985304   -0.4677387  -0.62694633 -0.9862324   0.35460478 -0.99432844\n",
            "   0.1246665  -0.9927039   0.52862847 -0.9962805  -0.99755657  0.7311763\n",
            "  -0.2437555  -0.97416085 -0.82594496 -0.9038007  -0.76258117  0.95870376\n",
            "   0.9348973   0.9633852   0.7797917   0.82964724  0.8509283 ]\n",
            " [ 0.90283483 -0.9849474  -0.91031736  0.7322958   0.8787479   0.9671037\n",
            "  -0.68485975 -0.54611355 -0.22393405 -0.52106875  0.5904775  -0.92734903\n",
            "  -0.24954481 -0.74564284  0.8303851  -0.2973869  -0.6064799  -0.9517381\n",
            "   0.9015597   0.58422077  0.47558287 -0.00638303 -0.877377    0.859656\n",
            "   0.9941224   0.4856397   0.7992008  -0.27886784  0.67218935]\n",
            " [ 0.54127395  0.5890862  -0.983591    0.98605156 -0.8180806   0.6297818\n",
            "  -0.9715824   0.52777374  0.8787597  -0.9824888   0.99323136 -0.99550843\n",
            "   0.7708151  -0.99804914  0.95117    -0.97344565 -0.9978352   0.70043063\n",
            "   0.93932706 -0.30901656  0.06579369 -0.9269732  -0.98543096  0.9555778\n",
            "   0.8831584   0.41050985  0.48373613  0.59667414  0.16245574]\n",
            " [-0.46809202  0.70488656 -0.9997223   0.98268753 -0.7457219  -0.44320056\n",
            "  -0.97212017  0.6595391  -0.9830087  -0.99943477  0.83069474 -0.9992237\n",
            "   0.8381303  -0.99935687  0.9937225  -0.9975991  -0.99786013 -0.990645\n",
            "   0.34145418 -0.80078185 -0.9968356  -0.67863834  0.2243514   0.16874047\n",
            "   0.15712635  0.97655517 -0.8348851  -0.94989824  0.93239915]]\n",
            "650 [D loss: 0.6722, acc: 0.00%] [G loss: 0.6990, acc: 43.48%]\n",
            "Disc pred on real: [0.47 0.48 0.47 0.47 0.59]\n",
            "Disc pred on fake: [0.47 0.47 0.47 0.47 0.49]\n",
            "700 [D loss: 0.6717, acc: 0.00%] [G loss: 0.7016, acc: 41.25%]\n",
            "Disc pred on real: [0.47 0.7  0.47 0.47 0.47]\n",
            "Disc pred on fake: [0.47 0.48 0.47 0.47 0.47]\n",
            "\u001b[1m1/1\u001b[0m \u001b[32m━━━━━━━━━━━━━━━━━━━━\u001b[0m\u001b[37m\u001b[0m \u001b[1m0s\u001b[0m 45ms/step\n",
            "Generated samples at epoch 700:\n",
            "[[ 0.529088   -0.9803048   0.99515086 -0.9054283  -0.9186992  -0.99636155\n",
            "   0.99987334  0.32825878  0.981541    0.99917173 -0.90340513  0.9931404\n",
            "  -0.9530874   0.9909307  -0.926028    0.9989462   0.9999845   0.97935635\n",
            "   0.8773286  -0.9610204   0.9633126  -0.91351056  0.5620189   0.94744533\n",
            "   0.450615    0.96633077  0.82216907 -0.04080176 -0.8803225 ]\n",
            " [-0.5160684   0.616384   -0.99347514  0.5308662  -0.90377796  0.9363025\n",
            "  -0.96104    -0.25378156 -0.55233127 -0.9952012  -0.83459663 -0.9968301\n",
            "   0.36115098 -0.9976645  -0.27820367 -0.984099   -0.9925462  -0.17057359\n",
            "  -0.72150373  0.6347536   0.8733868  -0.21587303 -0.98020697 -0.03308391\n",
            "  -0.7736466  -0.8053447  -0.8915206   0.30268788  0.24090336]\n",
            " [ 0.9409611  -0.99662054  0.99999774 -0.96802783 -0.39604262 -0.9999989\n",
            "   1.          0.00323529  0.9791144   0.9999984  -0.99661374  1.\n",
            "  -0.99085665  0.9999995  -0.74966186  0.99999785  1.          0.99985164\n",
            "   0.21786532 -0.99977434  0.9210298  -0.9800223   0.99804926  0.9636201\n",
            "  -0.1285488   0.982109    0.9997087   0.56454206 -0.91947055]\n",
            " [-0.7894212   0.97384286 -0.9983753  -0.41878715 -0.2959446   0.53476644\n",
            "  -0.9804786   0.80239606 -0.4459235  -0.997345    0.14505377 -0.9992981\n",
            "   0.5902     -0.9992131   0.08748258 -0.9957373  -0.99869514 -0.66162723\n",
            "  -0.25912115 -0.9486118   0.06458015 -0.825887   -0.93816596  0.27475655\n",
            "  -0.41842633 -0.852555    0.31961188 -0.96296585 -0.704027  ]\n",
            " [-0.97164863 -0.19863172 -0.99970347  0.45762062 -0.9907771  -0.8235785\n",
            "  -0.9992916   0.96211797 -0.9983172  -0.9996928   0.9946469  -0.9953419\n",
            "   0.98850906 -0.99957055  0.951027   -0.9967704  -0.999015   -0.9519435\n",
            "   0.52178013  0.6443042  -0.31056756  0.61601776 -0.36969486 -0.60150933\n",
            "  -0.9776479   0.07528462 -0.92252874  0.7059779   0.8343938 ]]\n",
            "750 [D loss: 0.6712, acc: 0.00%] [G loss: 0.7044, acc: 38.87%]\n",
            "Disc pred on real: [0.47 0.47 0.47 0.47 0.47]\n",
            "Disc pred on fake: [0.47 0.47 0.47 0.47 0.47]\n",
            "800 [D loss: 0.6708, acc: 0.00%] [G loss: 0.7073, acc: 36.71%]\n",
            "Disc pred on real: [0.47 0.9  0.47 0.47 0.46]\n",
            "Disc pred on fake: [0.47 0.47 0.47 0.47 0.47]\n",
            "\u001b[1m1/1\u001b[0m \u001b[32m━━━━━━━━━━━━━━━━━━━━\u001b[0m\u001b[37m\u001b[0m \u001b[1m0s\u001b[0m 45ms/step\n",
            "Generated samples at epoch 800:\n",
            "[[ 0.37235817  0.9981345   0.9994515  -0.09088936  0.99999017  0.9993914\n",
            "  -0.76577973  0.99863696 -0.98029476 -0.5568892  -0.999953   -0.8972515\n",
            "   0.96709585 -0.5510389   0.5389154  -0.5164595  -0.5347019   0.8029062\n",
            "   0.9808397   0.8802929  -0.8239724   0.7014718   0.8969111  -0.60757905\n",
            "   0.06502812  0.9685387  -0.91939294 -0.2809749   0.9999904 ]\n",
            " [-0.8831946   0.7758575  -0.9990433   0.6905844  -0.810824    0.26362944\n",
            "  -0.9944654  -0.96965396 -0.7087458  -0.9953059   0.99541605 -0.9970698\n",
            "   0.7800104  -0.999014   -0.07991189 -0.9823124  -0.997204   -0.29647213\n",
            "   0.5246136  -0.1556302   0.99525243  0.79806936 -0.8266403   0.822086\n",
            "  -0.94920254 -0.79511553 -0.32270908 -0.5821552  -0.6169196 ]\n",
            " [ 0.20486884 -0.98843074  0.9013064  -0.9529741  -0.06888547 -0.99619603\n",
            "   0.99961054 -0.56568366  0.99619913  0.995094   -0.8804361   0.8454454\n",
            "  -0.9085165   0.97870576 -0.72654253  0.8206106   0.9996692   0.870171\n",
            "  -0.9769214   0.7181284  -0.60474294  0.9029312  -0.83145076 -0.9125191\n",
            "  -0.9298205  -0.9710258  -0.6522231  -0.43516466 -0.9866748 ]\n",
            " [-0.85854226  0.14023384 -0.9972611   0.26614785 -0.9554368  -0.3968324\n",
            "  -0.9626187   0.05020278 -0.895054   -0.9930233   0.98375267 -0.99320996\n",
            "   0.92402184 -0.9961345   0.8132587  -0.91690826 -0.99825275 -0.8866142\n",
            "   0.04375634 -0.7145251   0.48954102 -0.14319293 -0.6359595  -0.6679206\n",
            "   0.733375    0.67364633  0.30828848  0.54675543 -0.46487185]\n",
            " [-0.9328223   0.9425716  -0.85398805  0.12257309  0.5892643   0.76180613\n",
            "  -0.96146244 -0.85856456 -0.9778063  -0.9964387  -0.30627453 -0.99700004\n",
            "   0.86062336 -0.99990654  0.9964512  -0.9859453  -0.998444   -0.53700787\n",
            "  -0.396222   -0.02441218  0.83596885 -0.5396765  -0.18607521  0.73572075\n",
            "  -0.79982096  0.36211842  0.09550189  0.58586     0.90330124]]\n",
            "850 [D loss: 0.6701, acc: 0.00%] [G loss: 0.7099, acc: 34.78%]\n",
            "Disc pred on real: [0.47 0.47 0.47 0.47 0.88]\n",
            "Disc pred on fake: [0.46 0.46 0.46 0.46 0.48]\n",
            "900 [D loss: 0.6698, acc: 0.00%] [G loss: 0.7123, acc: 33.11%]\n",
            "Disc pred on real: [0.49 0.46 0.47 0.69 0.46]\n",
            "Disc pred on fake: [0.48 0.47 0.46 0.48 0.46]\n",
            "\u001b[1m1/1\u001b[0m \u001b[32m━━━━━━━━━━━━━━━━━━━━\u001b[0m\u001b[37m\u001b[0m \u001b[1m0s\u001b[0m 61ms/step\n",
            "Generated samples at epoch 900:\n",
            "[[ 0.27247673  0.9840031   0.8647614   0.48992026  0.5565086   0.6594032\n",
            "  -0.8941604   0.3595182  -0.95187473 -0.902818    0.99802214 -0.968948\n",
            "   0.9187505  -0.94019884  0.8777906   0.14235114 -0.9899895   0.34621194\n",
            "   0.97682357  0.08994423  0.9453461  -0.867683    0.9542279   0.45574865\n",
            "   0.6346998   0.8436295  -0.93387055  0.63285714  0.83524513]\n",
            " [ 0.94973177  0.24847618  0.9698923   0.9538128  -0.00723415  0.48704925\n",
            "   0.21021776 -0.71182144 -0.59819967 -0.98353386  0.6563073  -0.9780079\n",
            "   0.6638028  -0.9983747  -0.5487956   0.9999985  -0.9799291  -0.84449345\n",
            "   0.8536924   0.49911457  0.94937617 -0.7670593   0.9756009   0.5515537\n",
            "   0.98496425  0.8847419  -0.9722579  -0.69546676  0.06438333]\n",
            " [ 0.3620779  -0.700196   -0.98364687 -0.6947698  -0.63078856 -0.994474\n",
            "   0.85530156 -0.8601357   0.4336785  -0.5259433  -0.39461252 -0.9164228\n",
            "   0.62923414 -0.92817557  0.48148432 -0.8276125   0.02419834 -0.9290427\n",
            "  -0.9818835  -0.4904743   0.6490531   0.10303527  0.26537365  0.4910598\n",
            "  -0.91760373 -0.3923274  -0.96127844 -0.21176812 -0.4163256 ]\n",
            " [ 0.14400798  0.7590559   0.96409774  0.8209531   0.6378758   0.93130934\n",
            "  -0.55318946 -0.08586658 -0.31267017 -0.98983103  0.5407303  -0.97362864\n",
            "   0.82373905 -0.9994255  -0.18243703  0.93659997 -0.993512    0.9148185\n",
            "  -0.08700888 -0.39515224  0.58833754 -0.8818557   0.8622733   0.7456033\n",
            "   0.9528394   0.63035476 -0.87496    -0.4771776   0.6643231 ]\n",
            " [-0.99955183  0.98452467 -0.99992913  0.93250674 -0.87296337 -0.7190721\n",
            "  -0.99858606 -0.7686189  -0.9857216  -0.9997434   0.959732   -0.99916416\n",
            "  -0.5316688  -0.99876255  0.99098307 -1.         -0.999779    0.6889523\n",
            "  -0.95931876 -0.68747157 -0.57246345 -0.7739165   0.12501216  0.23711424\n",
            "  -0.964816   -0.08787631  0.35040465 -0.75967026  0.7825468 ]]\n",
            "950 [D loss: 0.6690, acc: 0.00%] [G loss: 0.7143, acc: 31.74%]\n",
            "Disc pred on real: [0.46 0.47 0.74 0.46 0.46]\n",
            "Disc pred on fake: [0.46 0.46 0.48 0.46 0.47]\n",
            "1000 [D loss: 0.6685, acc: 0.00%] [G loss: 0.7164, acc: 30.33%]\n",
            "Disc pred on real: [0.46 0.46 0.46 0.46 0.67]\n",
            "Disc pred on fake: [0.46 0.46 0.46 0.46 0.47]\n",
            "\u001b[1m1/1\u001b[0m \u001b[32m━━━━━━━━━━━━━━━━━━━━\u001b[0m\u001b[37m\u001b[0m \u001b[1m0s\u001b[0m 47ms/step\n",
            "Generated samples at epoch 1000:\n",
            "[[ 0.5768938   0.12471461  0.5628474   0.7909807  -0.9252712   0.98371917\n",
            "  -0.93401086 -0.701943   -0.93421656 -0.3701169   0.8894389  -0.47353697\n",
            "   0.83645326 -0.83161736 -0.2519355   0.98552984 -0.9472139   0.35004392\n",
            "   0.9894884   0.9753677  -0.61824137 -0.97913706  0.8318937  -0.01977911\n",
            "   0.99015456  0.90189356 -0.87976587  0.6579553   0.9359743 ]\n",
            " [-0.99990445  0.9862372  -0.64815503  0.99984175 -0.97592145 -0.10124707\n",
            "  -0.99983966 -0.88818926 -0.9978867  -0.999589    0.9999667  -0.99729955\n",
            "  -0.921744   -0.9998127  -0.72532165 -0.56212854 -0.9999228   0.8819534\n",
            "   0.6807433   0.37848318  0.5048694   0.5300471   0.99477804  0.43327895\n",
            "   0.40810233 -0.52923405 -0.8314071   0.9485638   0.8643092 ]\n",
            " [ 0.28647673  0.39419806  0.14234641  0.6732279  -0.91731375  0.9696587\n",
            "  -0.58845925 -0.24819875 -0.8729626  -0.7572265   0.8591949  -0.8219668\n",
            "   0.9341177  -0.9283017   0.21136752  0.978686   -0.9551921  -0.4943897\n",
            "   0.98770356  0.96819836 -0.04456877 -0.95427305  0.6043772  -0.8029651\n",
            "   0.97620595  0.7856772  -0.9384649   0.9696668   0.9818098 ]\n",
            " [-0.9236154   0.03929844 -0.5211389   0.9762335  -0.9244461   0.59202296\n",
            "  -0.96321243 -0.6535933  -0.93062323 -0.9895093   0.99099874 -0.9919621\n",
            "   0.78149796 -0.99879855 -0.35085618  0.9618359  -0.9956454   0.67407995\n",
            "   0.4785774   0.9678447   0.8948696  -0.44269568  0.81271124 -0.89944834\n",
            "   0.26781955  0.8259821  -0.84159887  0.33283827  0.3463018 ]\n",
            " [-0.98592585  0.5379334  -0.9916932   0.9967265  -0.944128   -0.7179819\n",
            "  -0.9919858  -0.7077675  -0.983407   -0.9980265   0.9991481  -0.99943155\n",
            "   0.11368013 -0.9998785   0.6068867   0.9731913  -0.9992904  -0.980612\n",
            "   0.26530302  0.9497653   0.89778215  0.96386117  0.9608714  -0.9797579\n",
            "  -0.8390763   0.9178913  -0.99077165 -0.4195251   0.74424773]]\n"
          ]
        }
      ],
      "source": [
        "y_train = y_train.reshape(-1, 1)\n",
        "pos_index = np.where(y_train == 1)[0]\n",
        "neg_index = np.where(y_train == 0)[0]\n",
        "\n",
        "cgan.train(X_train, y_train, pos_index, neg_index, epochs=1000)"
      ]
    },
    {
      "cell_type": "markdown",
      "id": "b6616aa6",
      "metadata": {
        "id": "b6616aa6"
      },
      "source": [
        "## Generating new samples"
      ]
    },
    {
      "cell_type": "code",
      "execution_count": null,
      "id": "e91e5232",
      "metadata": {
        "id": "e91e5232",
        "colab": {
          "base_uri": "https://localhost:8080/"
        },
        "outputId": "64f37341-6ae9-4e0f-b155-4c4a4bc45ed0"
      },
      "outputs": [
        {
          "output_type": "stream",
          "name": "stdout",
          "text": [
            "\u001b[1m7813/7813\u001b[0m \u001b[32m━━━━━━━━━━━━━━━━━━━━\u001b[0m\u001b[37m\u001b[0m \u001b[1m126s\u001b[0m 16ms/step\n",
            "(250000, 29)\n"
          ]
        }
      ],
      "source": [
        "noise = np.random.normal(0, 1, (250000, 32))\n",
        "sampled_labels = np.ones(250000).reshape(-1, 1) #ones in order to only fraud data\n",
        "\n",
        "gen_samples = cgan.generator.predict([noise, sampled_labels])\n",
        "gen_samples = scaler.inverse_transform(gen_samples)\n",
        "print(gen_samples.shape)"
      ]
    },
    {
      "cell_type": "code",
      "execution_count": null,
      "id": "cff881c0",
      "metadata": {
        "id": "cff881c0",
        "colab": {
          "base_uri": "https://localhost:8080/",
          "height": 255
        },
        "outputId": "e2dff2e5-1842-4380-bd6e-d9f2c7a0992b"
      },
      "outputs": [
        {
          "output_type": "execute_result",
          "data": {
            "text/plain": [
              "         V1        V2        V3        V4        V5        V6        V7  \\\n",
              "0 -1.382748 -0.920994  1.437713  1.142813 -1.370926  0.676446 -1.053056   \n",
              "1  0.766757  0.190086  0.654460  1.403139 -1.359686  1.121842  0.823618   \n",
              "2 -1.988948  1.572716 -1.482015  1.413014 -1.382037 -1.284267 -1.231538   \n",
              "3 -1.945275  0.137525 -1.480536  1.419802 -1.385432 -0.868818 -1.114482   \n",
              "4 -1.428612  1.442521  1.480904  1.395652 -1.024183  0.159610 -0.686662   \n",
              "\n",
              "         V8        V9       V10  ...       V20       V21       V22       V23  \\\n",
              "0 -0.799872 -1.102475 -1.082865  ...  0.273542  0.727202 -0.180391  0.622315   \n",
              "1 -1.148636 -0.882165 -1.082174  ...  0.651677  0.697798  0.539523  0.480469   \n",
              "2 -1.146650 -1.101146 -1.083749  ... -0.297546  0.261854  0.616736  0.520884   \n",
              "3 -1.153002 -1.105985 -1.083721  ... -0.743040  0.735155  0.701531  0.615823   \n",
              "4 -1.090681 -1.069508 -1.072652  ...  0.520806  0.717950  0.697703  0.369577   \n",
              "\n",
              "        V24       V25       V26       V27       V28    Amount  \n",
              "0  0.544759  0.337829  0.478707 -0.373926  0.207678  2.022501  \n",
              "1 -0.143268  0.395480  0.459185 -0.395421  0.288562  1.989642  \n",
              "2 -0.421070 -0.288528 -0.384583 -0.396893 -0.228749  0.801918  \n",
              "3  0.595798 -0.524550 -0.482958 -0.201518  0.279568  0.907155  \n",
              "4 -0.087448 -0.184120  0.367561 -0.347412  0.008444  2.078140  \n",
              "\n",
              "[5 rows x 29 columns]"
            ],
            "text/html": [
              "\n",
              "  <div id=\"df-eab44653-13ff-4cc9-9847-010058acdd36\" class=\"colab-df-container\">\n",
              "    <div>\n",
              "<style scoped>\n",
              "    .dataframe tbody tr th:only-of-type {\n",
              "        vertical-align: middle;\n",
              "    }\n",
              "\n",
              "    .dataframe tbody tr th {\n",
              "        vertical-align: top;\n",
              "    }\n",
              "\n",
              "    .dataframe thead th {\n",
              "        text-align: right;\n",
              "    }\n",
              "</style>\n",
              "<table border=\"1\" class=\"dataframe\">\n",
              "  <thead>\n",
              "    <tr style=\"text-align: right;\">\n",
              "      <th></th>\n",
              "      <th>V1</th>\n",
              "      <th>V2</th>\n",
              "      <th>V3</th>\n",
              "      <th>V4</th>\n",
              "      <th>V5</th>\n",
              "      <th>V6</th>\n",
              "      <th>V7</th>\n",
              "      <th>V8</th>\n",
              "      <th>V9</th>\n",
              "      <th>V10</th>\n",
              "      <th>...</th>\n",
              "      <th>V20</th>\n",
              "      <th>V21</th>\n",
              "      <th>V22</th>\n",
              "      <th>V23</th>\n",
              "      <th>V24</th>\n",
              "      <th>V25</th>\n",
              "      <th>V26</th>\n",
              "      <th>V27</th>\n",
              "      <th>V28</th>\n",
              "      <th>Amount</th>\n",
              "    </tr>\n",
              "  </thead>\n",
              "  <tbody>\n",
              "    <tr>\n",
              "      <th>0</th>\n",
              "      <td>-1.382748</td>\n",
              "      <td>-0.920994</td>\n",
              "      <td>1.437713</td>\n",
              "      <td>1.142813</td>\n",
              "      <td>-1.370926</td>\n",
              "      <td>0.676446</td>\n",
              "      <td>-1.053056</td>\n",
              "      <td>-0.799872</td>\n",
              "      <td>-1.102475</td>\n",
              "      <td>-1.082865</td>\n",
              "      <td>...</td>\n",
              "      <td>0.273542</td>\n",
              "      <td>0.727202</td>\n",
              "      <td>-0.180391</td>\n",
              "      <td>0.622315</td>\n",
              "      <td>0.544759</td>\n",
              "      <td>0.337829</td>\n",
              "      <td>0.478707</td>\n",
              "      <td>-0.373926</td>\n",
              "      <td>0.207678</td>\n",
              "      <td>2.022501</td>\n",
              "    </tr>\n",
              "    <tr>\n",
              "      <th>1</th>\n",
              "      <td>0.766757</td>\n",
              "      <td>0.190086</td>\n",
              "      <td>0.654460</td>\n",
              "      <td>1.403139</td>\n",
              "      <td>-1.359686</td>\n",
              "      <td>1.121842</td>\n",
              "      <td>0.823618</td>\n",
              "      <td>-1.148636</td>\n",
              "      <td>-0.882165</td>\n",
              "      <td>-1.082174</td>\n",
              "      <td>...</td>\n",
              "      <td>0.651677</td>\n",
              "      <td>0.697798</td>\n",
              "      <td>0.539523</td>\n",
              "      <td>0.480469</td>\n",
              "      <td>-0.143268</td>\n",
              "      <td>0.395480</td>\n",
              "      <td>0.459185</td>\n",
              "      <td>-0.395421</td>\n",
              "      <td>0.288562</td>\n",
              "      <td>1.989642</td>\n",
              "    </tr>\n",
              "    <tr>\n",
              "      <th>2</th>\n",
              "      <td>-1.988948</td>\n",
              "      <td>1.572716</td>\n",
              "      <td>-1.482015</td>\n",
              "      <td>1.413014</td>\n",
              "      <td>-1.382037</td>\n",
              "      <td>-1.284267</td>\n",
              "      <td>-1.231538</td>\n",
              "      <td>-1.146650</td>\n",
              "      <td>-1.101146</td>\n",
              "      <td>-1.083749</td>\n",
              "      <td>...</td>\n",
              "      <td>-0.297546</td>\n",
              "      <td>0.261854</td>\n",
              "      <td>0.616736</td>\n",
              "      <td>0.520884</td>\n",
              "      <td>-0.421070</td>\n",
              "      <td>-0.288528</td>\n",
              "      <td>-0.384583</td>\n",
              "      <td>-0.396893</td>\n",
              "      <td>-0.228749</td>\n",
              "      <td>0.801918</td>\n",
              "    </tr>\n",
              "    <tr>\n",
              "      <th>3</th>\n",
              "      <td>-1.945275</td>\n",
              "      <td>0.137525</td>\n",
              "      <td>-1.480536</td>\n",
              "      <td>1.419802</td>\n",
              "      <td>-1.385432</td>\n",
              "      <td>-0.868818</td>\n",
              "      <td>-1.114482</td>\n",
              "      <td>-1.153002</td>\n",
              "      <td>-1.105985</td>\n",
              "      <td>-1.083721</td>\n",
              "      <td>...</td>\n",
              "      <td>-0.743040</td>\n",
              "      <td>0.735155</td>\n",
              "      <td>0.701531</td>\n",
              "      <td>0.615823</td>\n",
              "      <td>0.595798</td>\n",
              "      <td>-0.524550</td>\n",
              "      <td>-0.482958</td>\n",
              "      <td>-0.201518</td>\n",
              "      <td>0.279568</td>\n",
              "      <td>0.907155</td>\n",
              "    </tr>\n",
              "    <tr>\n",
              "      <th>4</th>\n",
              "      <td>-1.428612</td>\n",
              "      <td>1.442521</td>\n",
              "      <td>1.480904</td>\n",
              "      <td>1.395652</td>\n",
              "      <td>-1.024183</td>\n",
              "      <td>0.159610</td>\n",
              "      <td>-0.686662</td>\n",
              "      <td>-1.090681</td>\n",
              "      <td>-1.069508</td>\n",
              "      <td>-1.072652</td>\n",
              "      <td>...</td>\n",
              "      <td>0.520806</td>\n",
              "      <td>0.717950</td>\n",
              "      <td>0.697703</td>\n",
              "      <td>0.369577</td>\n",
              "      <td>-0.087448</td>\n",
              "      <td>-0.184120</td>\n",
              "      <td>0.367561</td>\n",
              "      <td>-0.347412</td>\n",
              "      <td>0.008444</td>\n",
              "      <td>2.078140</td>\n",
              "    </tr>\n",
              "  </tbody>\n",
              "</table>\n",
              "<p>5 rows × 29 columns</p>\n",
              "</div>\n",
              "    <div class=\"colab-df-buttons\">\n",
              "\n",
              "  <div class=\"colab-df-container\">\n",
              "    <button class=\"colab-df-convert\" onclick=\"convertToInteractive('df-eab44653-13ff-4cc9-9847-010058acdd36')\"\n",
              "            title=\"Convert this dataframe to an interactive table.\"\n",
              "            style=\"display:none;\">\n",
              "\n",
              "  <svg xmlns=\"http://www.w3.org/2000/svg\" height=\"24px\" viewBox=\"0 -960 960 960\">\n",
              "    <path d=\"M120-120v-720h720v720H120Zm60-500h600v-160H180v160Zm220 220h160v-160H400v160Zm0 220h160v-160H400v160ZM180-400h160v-160H180v160Zm440 0h160v-160H620v160ZM180-180h160v-160H180v160Zm440 0h160v-160H620v160Z\"/>\n",
              "  </svg>\n",
              "    </button>\n",
              "\n",
              "  <style>\n",
              "    .colab-df-container {\n",
              "      display:flex;\n",
              "      gap: 12px;\n",
              "    }\n",
              "\n",
              "    .colab-df-convert {\n",
              "      background-color: #E8F0FE;\n",
              "      border: none;\n",
              "      border-radius: 50%;\n",
              "      cursor: pointer;\n",
              "      display: none;\n",
              "      fill: #1967D2;\n",
              "      height: 32px;\n",
              "      padding: 0 0 0 0;\n",
              "      width: 32px;\n",
              "    }\n",
              "\n",
              "    .colab-df-convert:hover {\n",
              "      background-color: #E2EBFA;\n",
              "      box-shadow: 0px 1px 2px rgba(60, 64, 67, 0.3), 0px 1px 3px 1px rgba(60, 64, 67, 0.15);\n",
              "      fill: #174EA6;\n",
              "    }\n",
              "\n",
              "    .colab-df-buttons div {\n",
              "      margin-bottom: 4px;\n",
              "    }\n",
              "\n",
              "    [theme=dark] .colab-df-convert {\n",
              "      background-color: #3B4455;\n",
              "      fill: #D2E3FC;\n",
              "    }\n",
              "\n",
              "    [theme=dark] .colab-df-convert:hover {\n",
              "      background-color: #434B5C;\n",
              "      box-shadow: 0px 1px 3px 1px rgba(0, 0, 0, 0.15);\n",
              "      filter: drop-shadow(0px 1px 2px rgba(0, 0, 0, 0.3));\n",
              "      fill: #FFFFFF;\n",
              "    }\n",
              "  </style>\n",
              "\n",
              "    <script>\n",
              "      const buttonEl =\n",
              "        document.querySelector('#df-eab44653-13ff-4cc9-9847-010058acdd36 button.colab-df-convert');\n",
              "      buttonEl.style.display =\n",
              "        google.colab.kernel.accessAllowed ? 'block' : 'none';\n",
              "\n",
              "      async function convertToInteractive(key) {\n",
              "        const element = document.querySelector('#df-eab44653-13ff-4cc9-9847-010058acdd36');\n",
              "        const dataTable =\n",
              "          await google.colab.kernel.invokeFunction('convertToInteractive',\n",
              "                                                    [key], {});\n",
              "        if (!dataTable) return;\n",
              "\n",
              "        const docLinkHtml = 'Like what you see? Visit the ' +\n",
              "          '<a target=\"_blank\" href=https://colab.research.google.com/notebooks/data_table.ipynb>data table notebook</a>'\n",
              "          + ' to learn more about interactive tables.';\n",
              "        element.innerHTML = '';\n",
              "        dataTable['output_type'] = 'display_data';\n",
              "        await google.colab.output.renderOutput(dataTable, element);\n",
              "        const docLink = document.createElement('div');\n",
              "        docLink.innerHTML = docLinkHtml;\n",
              "        element.appendChild(docLink);\n",
              "      }\n",
              "    </script>\n",
              "  </div>\n",
              "\n",
              "\n",
              "    <div id=\"df-6fd35918-9db9-487a-b749-52b0c30866cf\">\n",
              "      <button class=\"colab-df-quickchart\" onclick=\"quickchart('df-6fd35918-9db9-487a-b749-52b0c30866cf')\"\n",
              "                title=\"Suggest charts\"\n",
              "                style=\"display:none;\">\n",
              "\n",
              "<svg xmlns=\"http://www.w3.org/2000/svg\" height=\"24px\"viewBox=\"0 0 24 24\"\n",
              "     width=\"24px\">\n",
              "    <g>\n",
              "        <path d=\"M19 3H5c-1.1 0-2 .9-2 2v14c0 1.1.9 2 2 2h14c1.1 0 2-.9 2-2V5c0-1.1-.9-2-2-2zM9 17H7v-7h2v7zm4 0h-2V7h2v10zm4 0h-2v-4h2v4z\"/>\n",
              "    </g>\n",
              "</svg>\n",
              "      </button>\n",
              "\n",
              "<style>\n",
              "  .colab-df-quickchart {\n",
              "      --bg-color: #E8F0FE;\n",
              "      --fill-color: #1967D2;\n",
              "      --hover-bg-color: #E2EBFA;\n",
              "      --hover-fill-color: #174EA6;\n",
              "      --disabled-fill-color: #AAA;\n",
              "      --disabled-bg-color: #DDD;\n",
              "  }\n",
              "\n",
              "  [theme=dark] .colab-df-quickchart {\n",
              "      --bg-color: #3B4455;\n",
              "      --fill-color: #D2E3FC;\n",
              "      --hover-bg-color: #434B5C;\n",
              "      --hover-fill-color: #FFFFFF;\n",
              "      --disabled-bg-color: #3B4455;\n",
              "      --disabled-fill-color: #666;\n",
              "  }\n",
              "\n",
              "  .colab-df-quickchart {\n",
              "    background-color: var(--bg-color);\n",
              "    border: none;\n",
              "    border-radius: 50%;\n",
              "    cursor: pointer;\n",
              "    display: none;\n",
              "    fill: var(--fill-color);\n",
              "    height: 32px;\n",
              "    padding: 0;\n",
              "    width: 32px;\n",
              "  }\n",
              "\n",
              "  .colab-df-quickchart:hover {\n",
              "    background-color: var(--hover-bg-color);\n",
              "    box-shadow: 0 1px 2px rgba(60, 64, 67, 0.3), 0 1px 3px 1px rgba(60, 64, 67, 0.15);\n",
              "    fill: var(--button-hover-fill-color);\n",
              "  }\n",
              "\n",
              "  .colab-df-quickchart-complete:disabled,\n",
              "  .colab-df-quickchart-complete:disabled:hover {\n",
              "    background-color: var(--disabled-bg-color);\n",
              "    fill: var(--disabled-fill-color);\n",
              "    box-shadow: none;\n",
              "  }\n",
              "\n",
              "  .colab-df-spinner {\n",
              "    border: 2px solid var(--fill-color);\n",
              "    border-color: transparent;\n",
              "    border-bottom-color: var(--fill-color);\n",
              "    animation:\n",
              "      spin 1s steps(1) infinite;\n",
              "  }\n",
              "\n",
              "  @keyframes spin {\n",
              "    0% {\n",
              "      border-color: transparent;\n",
              "      border-bottom-color: var(--fill-color);\n",
              "      border-left-color: var(--fill-color);\n",
              "    }\n",
              "    20% {\n",
              "      border-color: transparent;\n",
              "      border-left-color: var(--fill-color);\n",
              "      border-top-color: var(--fill-color);\n",
              "    }\n",
              "    30% {\n",
              "      border-color: transparent;\n",
              "      border-left-color: var(--fill-color);\n",
              "      border-top-color: var(--fill-color);\n",
              "      border-right-color: var(--fill-color);\n",
              "    }\n",
              "    40% {\n",
              "      border-color: transparent;\n",
              "      border-right-color: var(--fill-color);\n",
              "      border-top-color: var(--fill-color);\n",
              "    }\n",
              "    60% {\n",
              "      border-color: transparent;\n",
              "      border-right-color: var(--fill-color);\n",
              "    }\n",
              "    80% {\n",
              "      border-color: transparent;\n",
              "      border-right-color: var(--fill-color);\n",
              "      border-bottom-color: var(--fill-color);\n",
              "    }\n",
              "    90% {\n",
              "      border-color: transparent;\n",
              "      border-bottom-color: var(--fill-color);\n",
              "    }\n",
              "  }\n",
              "</style>\n",
              "\n",
              "      <script>\n",
              "        async function quickchart(key) {\n",
              "          const quickchartButtonEl =\n",
              "            document.querySelector('#' + key + ' button');\n",
              "          quickchartButtonEl.disabled = true;  // To prevent multiple clicks.\n",
              "          quickchartButtonEl.classList.add('colab-df-spinner');\n",
              "          try {\n",
              "            const charts = await google.colab.kernel.invokeFunction(\n",
              "                'suggestCharts', [key], {});\n",
              "          } catch (error) {\n",
              "            console.error('Error during call to suggestCharts:', error);\n",
              "          }\n",
              "          quickchartButtonEl.classList.remove('colab-df-spinner');\n",
              "          quickchartButtonEl.classList.add('colab-df-quickchart-complete');\n",
              "        }\n",
              "        (() => {\n",
              "          let quickchartButtonEl =\n",
              "            document.querySelector('#df-6fd35918-9db9-487a-b749-52b0c30866cf button');\n",
              "          quickchartButtonEl.style.display =\n",
              "            google.colab.kernel.accessAllowed ? 'block' : 'none';\n",
              "        })();\n",
              "      </script>\n",
              "    </div>\n",
              "\n",
              "    </div>\n",
              "  </div>\n"
            ],
            "application/vnd.google.colaboratory.intrinsic+json": {
              "type": "dataframe",
              "variable_name": "gen_df"
            }
          },
          "metadata": {},
          "execution_count": 28
        }
      ],
      "source": [
        "gen_df = pd.DataFrame(data = gen_samples,\n",
        "                      columns = df.drop('Class',axis=1).columns)\n",
        "gen_df.head()"
      ]
    },
    {
      "cell_type": "code",
      "execution_count": null,
      "id": "c94643cc",
      "metadata": {
        "id": "c94643cc",
        "colab": {
          "base_uri": "https://localhost:8080/"
        },
        "outputId": "09782b3a-ca02-4177-b6c5-1efa5325dc10"
      },
      "outputs": [
        {
          "output_type": "execute_result",
          "data": {
            "text/plain": [
              "(470530, 29)"
            ]
          },
          "metadata": {},
          "execution_count": 29
        }
      ],
      "source": [
        "gen_X_train = np.concatenate((X_train, gen_samples), axis=0)\n",
        "gen_X_train.shape"
      ]
    },
    {
      "cell_type": "code",
      "execution_count": null,
      "id": "8ce3f760",
      "metadata": {
        "id": "8ce3f760",
        "colab": {
          "base_uri": "https://localhost:8080/"
        },
        "outputId": "5a3a1fad-8c25-476c-d2e4-424cb9d4fabb"
      },
      "outputs": [
        {
          "output_type": "execute_result",
          "data": {
            "text/plain": [
              "(470530, 1)"
            ]
          },
          "metadata": {},
          "execution_count": 30
        }
      ],
      "source": [
        "gen_y = np.ones((250000, 1))\n",
        "gen_y_train = np.concatenate((y_train, gen_y), axis=0)\n",
        "gen_y_train.shape"
      ]
    },
    {
      "cell_type": "markdown",
      "id": "cb8d8d3a",
      "metadata": {
        "id": "cb8d8d3a"
      },
      "source": [
        "## Testing baseline model with generated data"
      ]
    },
    {
      "cell_type": "code",
      "execution_count": null,
      "id": "f74f7e25",
      "metadata": {
        "colab": {
          "base_uri": "https://localhost:8080/",
          "height": 1000
        },
        "id": "f74f7e25",
        "outputId": "1a047537-0b26-4bbe-f108-da9a5eed5527"
      },
      "outputs": [
        {
          "output_type": "stream",
          "name": "stderr",
          "text": [
            "/usr/local/lib/python3.11/dist-packages/keras/src/layers/regularization/gaussian_noise.py:29: UserWarning:\n",
            "\n",
            "Do not pass an `input_shape`/`input_dim` argument to a layer. When using Sequential models, prefer using an `Input(shape)` object as the first layer in the model instead.\n",
            "\n",
            "/usr/local/lib/python3.11/dist-packages/keras/src/layers/activations/leaky_relu.py:41: UserWarning:\n",
            "\n",
            "Argument `alpha` is deprecated. Use `negative_slope` instead.\n",
            "\n"
          ]
        },
        {
          "output_type": "display_data",
          "data": {
            "text/plain": [
              "\u001b[1mModel: \"sequential_2\"\u001b[0m\n"
            ],
            "text/html": [
              "<pre style=\"white-space:pre;overflow-x:auto;line-height:normal;font-family:Menlo,'DejaVu Sans Mono',consolas,'Courier New',monospace\"><span style=\"font-weight: bold\">Model: \"sequential_2\"</span>\n",
              "</pre>\n"
            ]
          },
          "metadata": {}
        },
        {
          "output_type": "display_data",
          "data": {
            "text/plain": [
              "┏━━━━━━━━━━━━━━━━━━━━━━━━━━━━━━━━━┳━━━━━━━━━━━━━━━━━━━━━━━━┳━━━━━━━━━━━━━━━┓\n",
              "┃\u001b[1m \u001b[0m\u001b[1mLayer (type)                   \u001b[0m\u001b[1m \u001b[0m┃\u001b[1m \u001b[0m\u001b[1mOutput Shape          \u001b[0m\u001b[1m \u001b[0m┃\u001b[1m \u001b[0m\u001b[1m      Param #\u001b[0m\u001b[1m \u001b[0m┃\n",
              "┡━━━━━━━━━━━━━━━━━━━━━━━━━━━━━━━━━╇━━━━━━━━━━━━━━━━━━━━━━━━╇━━━━━━━━━━━━━━━┩\n",
              "│ gaussian_noise_1                │ (\u001b[38;5;45mNone\u001b[0m, \u001b[38;5;34m29\u001b[0m)             │             \u001b[38;5;34m0\u001b[0m │\n",
              "│ (\u001b[38;5;33mGaussianNoise\u001b[0m)                 │                        │               │\n",
              "├─────────────────────────────────┼────────────────────────┼───────────────┤\n",
              "│ dense_6 (\u001b[38;5;33mDense\u001b[0m)                 │ (\u001b[38;5;45mNone\u001b[0m, \u001b[38;5;34m256\u001b[0m)            │         \u001b[38;5;34m7,680\u001b[0m │\n",
              "├─────────────────────────────────┼────────────────────────┼───────────────┤\n",
              "│ leaky_re_lu_4 (\u001b[38;5;33mLeakyReLU\u001b[0m)       │ (\u001b[38;5;45mNone\u001b[0m, \u001b[38;5;34m256\u001b[0m)            │             \u001b[38;5;34m0\u001b[0m │\n",
              "├─────────────────────────────────┼────────────────────────┼───────────────┤\n",
              "│ dropout_3 (\u001b[38;5;33mDropout\u001b[0m)             │ (\u001b[38;5;45mNone\u001b[0m, \u001b[38;5;34m256\u001b[0m)            │             \u001b[38;5;34m0\u001b[0m │\n",
              "├─────────────────────────────────┼────────────────────────┼───────────────┤\n",
              "│ dense_7 (\u001b[38;5;33mDense\u001b[0m)                 │ (\u001b[38;5;45mNone\u001b[0m, \u001b[38;5;34m1\u001b[0m)              │           \u001b[38;5;34m257\u001b[0m │\n",
              "└─────────────────────────────────┴────────────────────────┴───────────────┘\n"
            ],
            "text/html": [
              "<pre style=\"white-space:pre;overflow-x:auto;line-height:normal;font-family:Menlo,'DejaVu Sans Mono',consolas,'Courier New',monospace\">┏━━━━━━━━━━━━━━━━━━━━━━━━━━━━━━━━━┳━━━━━━━━━━━━━━━━━━━━━━━━┳━━━━━━━━━━━━━━━┓\n",
              "┃<span style=\"font-weight: bold\"> Layer (type)                    </span>┃<span style=\"font-weight: bold\"> Output Shape           </span>┃<span style=\"font-weight: bold\">       Param # </span>┃\n",
              "┡━━━━━━━━━━━━━━━━━━━━━━━━━━━━━━━━━╇━━━━━━━━━━━━━━━━━━━━━━━━╇━━━━━━━━━━━━━━━┩\n",
              "│ gaussian_noise_1                │ (<span style=\"color: #00d7ff; text-decoration-color: #00d7ff\">None</span>, <span style=\"color: #00af00; text-decoration-color: #00af00\">29</span>)             │             <span style=\"color: #00af00; text-decoration-color: #00af00\">0</span> │\n",
              "│ (<span style=\"color: #0087ff; text-decoration-color: #0087ff\">GaussianNoise</span>)                 │                        │               │\n",
              "├─────────────────────────────────┼────────────────────────┼───────────────┤\n",
              "│ dense_6 (<span style=\"color: #0087ff; text-decoration-color: #0087ff\">Dense</span>)                 │ (<span style=\"color: #00d7ff; text-decoration-color: #00d7ff\">None</span>, <span style=\"color: #00af00; text-decoration-color: #00af00\">256</span>)            │         <span style=\"color: #00af00; text-decoration-color: #00af00\">7,680</span> │\n",
              "├─────────────────────────────────┼────────────────────────┼───────────────┤\n",
              "│ leaky_re_lu_4 (<span style=\"color: #0087ff; text-decoration-color: #0087ff\">LeakyReLU</span>)       │ (<span style=\"color: #00d7ff; text-decoration-color: #00d7ff\">None</span>, <span style=\"color: #00af00; text-decoration-color: #00af00\">256</span>)            │             <span style=\"color: #00af00; text-decoration-color: #00af00\">0</span> │\n",
              "├─────────────────────────────────┼────────────────────────┼───────────────┤\n",
              "│ dropout_3 (<span style=\"color: #0087ff; text-decoration-color: #0087ff\">Dropout</span>)             │ (<span style=\"color: #00d7ff; text-decoration-color: #00d7ff\">None</span>, <span style=\"color: #00af00; text-decoration-color: #00af00\">256</span>)            │             <span style=\"color: #00af00; text-decoration-color: #00af00\">0</span> │\n",
              "├─────────────────────────────────┼────────────────────────┼───────────────┤\n",
              "│ dense_7 (<span style=\"color: #0087ff; text-decoration-color: #0087ff\">Dense</span>)                 │ (<span style=\"color: #00d7ff; text-decoration-color: #00d7ff\">None</span>, <span style=\"color: #00af00; text-decoration-color: #00af00\">1</span>)              │           <span style=\"color: #00af00; text-decoration-color: #00af00\">257</span> │\n",
              "└─────────────────────────────────┴────────────────────────┴───────────────┘\n",
              "</pre>\n"
            ]
          },
          "metadata": {}
        },
        {
          "output_type": "display_data",
          "data": {
            "text/plain": [
              "\u001b[1m Total params: \u001b[0m\u001b[38;5;34m7,937\u001b[0m (31.00 KB)\n"
            ],
            "text/html": [
              "<pre style=\"white-space:pre;overflow-x:auto;line-height:normal;font-family:Menlo,'DejaVu Sans Mono',consolas,'Courier New',monospace\"><span style=\"font-weight: bold\"> Total params: </span><span style=\"color: #00af00; text-decoration-color: #00af00\">7,937</span> (31.00 KB)\n",
              "</pre>\n"
            ]
          },
          "metadata": {}
        },
        {
          "output_type": "display_data",
          "data": {
            "text/plain": [
              "\u001b[1m Trainable params: \u001b[0m\u001b[38;5;34m7,937\u001b[0m (31.00 KB)\n"
            ],
            "text/html": [
              "<pre style=\"white-space:pre;overflow-x:auto;line-height:normal;font-family:Menlo,'DejaVu Sans Mono',consolas,'Courier New',monospace\"><span style=\"font-weight: bold\"> Trainable params: </span><span style=\"color: #00af00; text-decoration-color: #00af00\">7,937</span> (31.00 KB)\n",
              "</pre>\n"
            ]
          },
          "metadata": {}
        },
        {
          "output_type": "display_data",
          "data": {
            "text/plain": [
              "\u001b[1m Non-trainable params: \u001b[0m\u001b[38;5;34m0\u001b[0m (0.00 B)\n"
            ],
            "text/html": [
              "<pre style=\"white-space:pre;overflow-x:auto;line-height:normal;font-family:Menlo,'DejaVu Sans Mono',consolas,'Courier New',monospace\"><span style=\"font-weight: bold\"> Non-trainable params: </span><span style=\"color: #00af00; text-decoration-color: #00af00\">0</span> (0.00 B)\n",
              "</pre>\n"
            ]
          },
          "metadata": {}
        },
        {
          "output_type": "stream",
          "name": "stderr",
          "text": [
            "/usr/local/lib/python3.11/dist-packages/tensorflow/python/data/ops/structured_function.py:258: UserWarning:\n",
            "\n",
            "Even though the `tf.config.experimental_run_functions_eagerly` option is set, this option does not apply to tf.data functions. To force eager execution of tf.data functions, please use `tf.data.experimental.enable_debug_mode()`.\n",
            "\n"
          ]
        },
        {
          "output_type": "stream",
          "name": "stdout",
          "text": [
            "Epoch 1/50\n",
            "\u001b[1m1655/1655\u001b[0m \u001b[32m━━━━━━━━━━━━━━━━━━━━\u001b[0m\u001b[37m\u001b[0m \u001b[1m110s\u001b[0m 66ms/step - accuracy: 0.9956 - loss: 0.2094 - val_accuracy: 1.0000 - val_loss: 7.0874e-04\n",
            "Epoch 2/50\n",
            "\u001b[1m1655/1655\u001b[0m \u001b[32m━━━━━━━━━━━━━━━━━━━━\u001b[0m\u001b[37m\u001b[0m \u001b[1m141s\u001b[0m 66ms/step - accuracy: 1.0000 - loss: 0.0026 - val_accuracy: 1.0000 - val_loss: 2.1158e-04\n",
            "Epoch 3/50\n",
            "\u001b[1m1655/1655\u001b[0m \u001b[32m━━━━━━━━━━━━━━━━━━━━\u001b[0m\u001b[37m\u001b[0m \u001b[1m143s\u001b[0m 67ms/step - accuracy: 1.0000 - loss: 5.3219e-04 - val_accuracy: 1.0000 - val_loss: 9.3154e-05\n",
            "Epoch 4/50\n",
            "\u001b[1m1655/1655\u001b[0m \u001b[32m━━━━━━━━━━━━━━━━━━━━\u001b[0m\u001b[37m\u001b[0m \u001b[1m140s\u001b[0m 66ms/step - accuracy: 1.0000 - loss: 1.6818e-04 - val_accuracy: 1.0000 - val_loss: 4.1670e-05\n",
            "Epoch 5/50\n",
            "\u001b[1m1655/1655\u001b[0m \u001b[32m━━━━━━━━━━━━━━━━━━━━\u001b[0m\u001b[37m\u001b[0m \u001b[1m146s\u001b[0m 68ms/step - accuracy: 1.0000 - loss: 5.9584e-05 - val_accuracy: 1.0000 - val_loss: 1.7771e-05\n",
            "Epoch 6/50\n",
            "\u001b[1m1655/1655\u001b[0m \u001b[32m━━━━━━━━━━━━━━━━━━━━\u001b[0m\u001b[37m\u001b[0m \u001b[1m136s\u001b[0m 64ms/step - accuracy: 1.0000 - loss: 2.1861e-05 - val_accuracy: 1.0000 - val_loss: 7.0624e-06\n",
            "Epoch 7/50\n",
            "\u001b[1m1655/1655\u001b[0m \u001b[32m━━━━━━━━━━━━━━━━━━━━\u001b[0m\u001b[37m\u001b[0m \u001b[1m144s\u001b[0m 65ms/step - accuracy: 1.0000 - loss: 8.1769e-06 - val_accuracy: 1.0000 - val_loss: 2.7003e-06\n",
            "Epoch 8/50\n",
            "\u001b[1m1655/1655\u001b[0m \u001b[32m━━━━━━━━━━━━━━━━━━━━\u001b[0m\u001b[37m\u001b[0m \u001b[1m105s\u001b[0m 64ms/step - accuracy: 1.0000 - loss: 3.1019e-06 - val_accuracy: 1.0000 - val_loss: 1.0278e-06\n",
            "Epoch 9/50\n",
            "\u001b[1m1655/1655\u001b[0m \u001b[32m━━━━━━━━━━━━━━━━━━━━\u001b[0m\u001b[37m\u001b[0m \u001b[1m105s\u001b[0m 63ms/step - accuracy: 1.0000 - loss: 1.2203e-06 - val_accuracy: 1.0000 - val_loss: 3.9431e-07\n",
            "Epoch 10/50\n",
            "\u001b[1m1655/1655\u001b[0m \u001b[32m━━━━━━━━━━━━━━━━━━━━\u001b[0m\u001b[37m\u001b[0m \u001b[1m148s\u001b[0m 67ms/step - accuracy: 1.0000 - loss: 4.9352e-07 - val_accuracy: 1.0000 - val_loss: 1.5462e-07\n",
            "Epoch 11/50\n",
            "\u001b[1m1655/1655\u001b[0m \u001b[32m━━━━━━━━━━━━━━━━━━━━\u001b[0m\u001b[37m\u001b[0m \u001b[1m107s\u001b[0m 65ms/step - accuracy: 1.0000 - loss: 2.0494e-07 - val_accuracy: 1.0000 - val_loss: 6.2325e-08\n",
            "Epoch 12/50\n",
            "\u001b[1m1655/1655\u001b[0m \u001b[32m━━━━━━━━━━━━━━━━━━━━\u001b[0m\u001b[37m\u001b[0m \u001b[1m105s\u001b[0m 64ms/step - accuracy: 1.0000 - loss: 8.8016e-08 - val_accuracy: 1.0000 - val_loss: 2.6130e-08\n",
            "Epoch 13/50\n",
            "\u001b[1m1655/1655\u001b[0m \u001b[32m━━━━━━━━━━━━━━━━━━━━\u001b[0m\u001b[37m\u001b[0m \u001b[1m106s\u001b[0m 64ms/step - accuracy: 1.0000 - loss: 3.9892e-08 - val_accuracy: 1.0000 - val_loss: 1.1616e-08\n",
            "Epoch 14/50\n",
            "\u001b[1m1655/1655\u001b[0m \u001b[32m━━━━━━━━━━━━━━━━━━━━\u001b[0m\u001b[37m\u001b[0m \u001b[1m149s\u001b[0m 68ms/step - accuracy: 1.0000 - loss: 1.9179e-08 - val_accuracy: 1.0000 - val_loss: 5.6659e-09\n",
            "Epoch 15/50\n",
            "\u001b[1m1655/1655\u001b[0m \u001b[32m━━━━━━━━━━━━━━━━━━━━\u001b[0m\u001b[37m\u001b[0m \u001b[1m107s\u001b[0m 64ms/step - accuracy: 1.0000 - loss: 1.0151e-08 - val_accuracy: 1.0000 - val_loss: 3.0877e-09\n",
            "Epoch 16/50\n",
            "\u001b[1m1655/1655\u001b[0m \u001b[32m━━━━━━━━━━━━━━━━━━━━\u001b[0m\u001b[37m\u001b[0m \u001b[1m143s\u001b[0m 65ms/step - accuracy: 1.0000 - loss: 5.9291e-09 - val_accuracy: 1.0000 - val_loss: 1.8885e-09\n",
            "Epoch 17/50\n",
            "\u001b[1m1655/1655\u001b[0m \u001b[32m━━━━━━━━━━━━━━━━━━━━\u001b[0m\u001b[37m\u001b[0m \u001b[1m107s\u001b[0m 65ms/step - accuracy: 1.0000 - loss: 3.8779e-09 - val_accuracy: 1.0000 - val_loss: 1.2745e-09\n",
            "Epoch 18/50\n",
            "\u001b[1m1655/1655\u001b[0m \u001b[32m━━━━━━━━━━━━━━━━━━━━\u001b[0m\u001b[37m\u001b[0m \u001b[1m106s\u001b[0m 64ms/step - accuracy: 1.0000 - loss: 2.7531e-09 - val_accuracy: 1.0000 - val_loss: 9.2997e-10\n",
            "Epoch 19/50\n",
            "\u001b[1m1655/1655\u001b[0m \u001b[32m━━━━━━━━━━━━━━━━━━━━\u001b[0m\u001b[37m\u001b[0m \u001b[1m106s\u001b[0m 64ms/step - accuracy: 1.0000 - loss: 2.0780e-09 - val_accuracy: 1.0000 - val_loss: 7.2058e-10\n",
            "Epoch 20/50\n",
            "\u001b[1m1655/1655\u001b[0m \u001b[32m━━━━━━━━━━━━━━━━━━━━\u001b[0m\u001b[37m\u001b[0m \u001b[1m145s\u001b[0m 66ms/step - accuracy: 1.0000 - loss: 1.6661e-09 - val_accuracy: 1.0000 - val_loss: 5.8208e-10\n",
            "Epoch 21/50\n",
            "\u001b[1m1655/1655\u001b[0m \u001b[32m━━━━━━━━━━━━━━━━━━━━\u001b[0m\u001b[37m\u001b[0m \u001b[1m142s\u001b[0m 66ms/step - accuracy: 1.0000 - loss: 1.3829e-09 - val_accuracy: 1.0000 - val_loss: 4.8606e-10\n",
            "Epoch 22/50\n",
            "\u001b[1m1655/1655\u001b[0m \u001b[32m━━━━━━━━━━━━━━━━━━━━\u001b[0m\u001b[37m\u001b[0m \u001b[1m110s\u001b[0m 67ms/step - accuracy: 1.0000 - loss: 1.1890e-09 - val_accuracy: 1.0000 - val_loss: 4.1544e-10\n",
            "Epoch 23/50\n",
            "\u001b[1m1655/1655\u001b[0m \u001b[32m━━━━━━━━━━━━━━━━━━━━\u001b[0m\u001b[37m\u001b[0m \u001b[1m138s\u001b[0m 64ms/step - accuracy: 1.0000 - loss: 1.0331e-09 - val_accuracy: 1.0000 - val_loss: 3.6201e-10\n",
            "Epoch 24/50\n",
            "\u001b[1m1655/1655\u001b[0m \u001b[32m━━━━━━━━━━━━━━━━━━━━\u001b[0m\u001b[37m\u001b[0m \u001b[1m147s\u001b[0m 67ms/step - accuracy: 1.0000 - loss: 9.2385e-10 - val_accuracy: 1.0000 - val_loss: 3.1995e-10\n",
            "Epoch 25/50\n",
            "\u001b[1m1655/1655\u001b[0m \u001b[32m━━━━━━━━━━━━━━━━━━━━\u001b[0m\u001b[37m\u001b[0m \u001b[1m110s\u001b[0m 67ms/step - accuracy: 1.0000 - loss: 8.1585e-10 - val_accuracy: 1.0000 - val_loss: 2.8635e-10\n",
            "Epoch 26/50\n",
            "\u001b[1m1655/1655\u001b[0m \u001b[32m━━━━━━━━━━━━━━━━━━━━\u001b[0m\u001b[37m\u001b[0m \u001b[1m138s\u001b[0m 64ms/step - accuracy: 1.0000 - loss: 7.4041e-10 - val_accuracy: 1.0000 - val_loss: 2.5888e-10\n",
            "Epoch 27/50\n",
            "\u001b[1m1655/1655\u001b[0m \u001b[32m━━━━━━━━━━━━━━━━━━━━\u001b[0m\u001b[37m\u001b[0m \u001b[1m109s\u001b[0m 66ms/step - accuracy: 1.0000 - loss: 6.8026e-10 - val_accuracy: 1.0000 - val_loss: 2.3584e-10\n",
            "Epoch 28/50\n",
            "\u001b[1m1655/1655\u001b[0m \u001b[32m━━━━━━━━━━━━━━━━━━━━\u001b[0m\u001b[37m\u001b[0m \u001b[1m144s\u001b[0m 67ms/step - accuracy: 1.0000 - loss: 6.1817e-10 - val_accuracy: 1.0000 - val_loss: 2.1647e-10\n",
            "Epoch 29/50\n",
            "\u001b[1m1655/1655\u001b[0m \u001b[32m━━━━━━━━━━━━━━━━━━━━\u001b[0m\u001b[37m\u001b[0m \u001b[1m142s\u001b[0m 67ms/step - accuracy: 1.0000 - loss: 5.7906e-10 - val_accuracy: 1.0000 - val_loss: 1.9987e-10\n",
            "Epoch 30/50\n",
            "\u001b[1m1655/1655\u001b[0m \u001b[32m━━━━━━━━━━━━━━━━━━━━\u001b[0m\u001b[37m\u001b[0m \u001b[1m137s\u001b[0m 64ms/step - accuracy: 1.0000 - loss: 5.3179e-10 - val_accuracy: 1.0000 - val_loss: 1.8555e-10\n",
            "Epoch 31/50\n",
            "\u001b[1m1655/1655\u001b[0m \u001b[32m━━━━━━━━━━━━━━━━━━━━\u001b[0m\u001b[37m\u001b[0m \u001b[1m106s\u001b[0m 64ms/step - accuracy: 1.0000 - loss: 5.0882e-10 - val_accuracy: 1.0000 - val_loss: 1.7291e-10\n",
            "Epoch 32/50\n",
            "\u001b[1m1655/1655\u001b[0m \u001b[32m━━━━━━━━━━━━━━━━━━━━\u001b[0m\u001b[37m\u001b[0m \u001b[1m145s\u001b[0m 66ms/step - accuracy: 1.0000 - loss: 4.7457e-10 - val_accuracy: 1.0000 - val_loss: 1.6183e-10\n",
            "Epoch 33/50\n",
            "\u001b[1m1655/1655\u001b[0m \u001b[32m━━━━━━━━━━━━━━━━━━━━\u001b[0m\u001b[37m\u001b[0m \u001b[1m140s\u001b[0m 65ms/step - accuracy: 1.0000 - loss: 4.4687e-10 - val_accuracy: 1.0000 - val_loss: 1.5204e-10\n",
            "Epoch 34/50\n",
            "\u001b[1m1655/1655\u001b[0m \u001b[32m━━━━━━━━━━━━━━━━━━━━\u001b[0m\u001b[37m\u001b[0m \u001b[1m149s\u001b[0m 69ms/step - accuracy: 1.0000 - loss: 4.1984e-10 - val_accuracy: 1.0000 - val_loss: 1.4330e-10\n",
            "Epoch 35/50\n",
            "\u001b[1m1655/1655\u001b[0m \u001b[32m━━━━━━━━━━━━━━━━━━━━\u001b[0m\u001b[37m\u001b[0m \u001b[1m135s\u001b[0m 65ms/step - accuracy: 1.0000 - loss: 3.9695e-10 - val_accuracy: 1.0000 - val_loss: 1.3547e-10\n",
            "Epoch 36/50\n",
            "\u001b[1m1655/1655\u001b[0m \u001b[32m━━━━━━━━━━━━━━━━━━━━\u001b[0m\u001b[37m\u001b[0m \u001b[1m106s\u001b[0m 64ms/step - accuracy: 1.0000 - loss: 3.7721e-10 - val_accuracy: 1.0000 - val_loss: 1.2839e-10\n",
            "Epoch 37/50\n",
            "\u001b[1m1655/1655\u001b[0m \u001b[32m━━━━━━━━━━━━━━━━━━━━\u001b[0m\u001b[37m\u001b[0m \u001b[1m140s\u001b[0m 63ms/step - accuracy: 1.0000 - loss: 3.6047e-10 - val_accuracy: 1.0000 - val_loss: 1.2200e-10\n",
            "Epoch 38/50\n",
            "\u001b[1m1655/1655\u001b[0m \u001b[32m━━━━━━━━━━━━━━━━━━━━\u001b[0m\u001b[37m\u001b[0m \u001b[1m108s\u001b[0m 65ms/step - accuracy: 1.0000 - loss: 3.4271e-10 - val_accuracy: 1.0000 - val_loss: 1.1617e-10\n",
            "Epoch 39/50\n",
            "\u001b[1m1655/1655\u001b[0m \u001b[32m━━━━━━━━━━━━━━━━━━━━\u001b[0m\u001b[37m\u001b[0m \u001b[1m106s\u001b[0m 64ms/step - accuracy: 1.0000 - loss: 3.2824e-10 - val_accuracy: 1.0000 - val_loss: 1.1084e-10\n",
            "Epoch 40/50\n",
            "\u001b[1m1655/1655\u001b[0m \u001b[32m━━━━━━━━━━━━━━━━━━━━\u001b[0m\u001b[37m\u001b[0m \u001b[1m142s\u001b[0m 64ms/step - accuracy: 1.0000 - loss: 3.1770e-10 - val_accuracy: 1.0000 - val_loss: 1.0592e-10\n",
            "Epoch 41/50\n",
            "\u001b[1m1655/1655\u001b[0m \u001b[32m━━━━━━━━━━━━━━━━━━━━\u001b[0m\u001b[37m\u001b[0m \u001b[1m108s\u001b[0m 65ms/step - accuracy: 1.0000 - loss: 3.0329e-10 - val_accuracy: 1.0000 - val_loss: 1.0141e-10\n",
            "Epoch 42/50\n",
            "\u001b[1m1655/1655\u001b[0m \u001b[32m━━━━━━━━━━━━━━━━━━━━\u001b[0m\u001b[37m\u001b[0m \u001b[1m142s\u001b[0m 65ms/step - accuracy: 1.0000 - loss: 2.9112e-10 - val_accuracy: 1.0000 - val_loss: 9.7258e-11\n",
            "Epoch 43/50\n",
            "\u001b[1m1655/1655\u001b[0m \u001b[32m━━━━━━━━━━━━━━━━━━━━\u001b[0m\u001b[37m\u001b[0m \u001b[1m140s\u001b[0m 64ms/step - accuracy: 1.0000 - loss: 2.8480e-10 - val_accuracy: 1.0000 - val_loss: 9.3399e-11\n",
            "Epoch 44/50\n",
            "\u001b[1m1655/1655\u001b[0m \u001b[32m━━━━━━━━━━━━━━━━━━━━\u001b[0m\u001b[37m\u001b[0m \u001b[1m141s\u001b[0m 64ms/step - accuracy: 1.0000 - loss: 2.6940e-10 - val_accuracy: 1.0000 - val_loss: 8.9831e-11\n",
            "Epoch 45/50\n",
            "\u001b[1m1655/1655\u001b[0m \u001b[32m━━━━━━━━━━━━━━━━━━━━\u001b[0m\u001b[37m\u001b[0m \u001b[1m143s\u001b[0m 64ms/step - accuracy: 1.0000 - loss: 2.6174e-10 - val_accuracy: 1.0000 - val_loss: 8.6512e-11\n",
            "Epoch 46/50\n",
            "\u001b[1m1655/1655\u001b[0m \u001b[32m━━━━━━━━━━━━━━━━━━━━\u001b[0m\u001b[37m\u001b[0m \u001b[1m109s\u001b[0m 66ms/step - accuracy: 1.0000 - loss: 2.5255e-10 - val_accuracy: 1.0000 - val_loss: 8.3395e-11\n",
            "Epoch 47/50\n",
            "\u001b[1m1655/1655\u001b[0m \u001b[32m━━━━━━━━━━━━━━━━━━━━\u001b[0m\u001b[37m\u001b[0m \u001b[1m140s\u001b[0m 65ms/step - accuracy: 1.0000 - loss: 2.4538e-10 - val_accuracy: 1.0000 - val_loss: 8.0486e-11\n",
            "Epoch 48/50\n",
            "\u001b[1m1655/1655\u001b[0m \u001b[32m━━━━━━━━━━━━━━━━━━━━\u001b[0m\u001b[37m\u001b[0m \u001b[1m141s\u001b[0m 64ms/step - accuracy: 1.0000 - loss: 2.3753e-10 - val_accuracy: 1.0000 - val_loss: 7.7776e-11\n",
            "Epoch 49/50\n",
            "\u001b[1m1655/1655\u001b[0m \u001b[32m━━━━━━━━━━━━━━━━━━━━\u001b[0m\u001b[37m\u001b[0m \u001b[1m107s\u001b[0m 65ms/step - accuracy: 1.0000 - loss: 2.3234e-10 - val_accuracy: 1.0000 - val_loss: 7.5218e-11\n",
            "Epoch 50/50\n",
            "\u001b[1m1655/1655\u001b[0m \u001b[32m━━━━━━━━━━━━━━━━━━━━\u001b[0m\u001b[37m\u001b[0m \u001b[1m107s\u001b[0m 65ms/step - accuracy: 1.0000 - loss: 2.2203e-10 - val_accuracy: 1.0000 - val_loss: 7.2817e-11\n",
            "\u001b[1m216/216\u001b[0m \u001b[32m━━━━━━━━━━━━━━━━━━━━\u001b[0m\u001b[37m\u001b[0m \u001b[1m2s\u001b[0m 8ms/step\n",
            "\u001b[1m216/216\u001b[0m \u001b[32m━━━━━━━━━━━━━━━━━━━━\u001b[0m\u001b[37m\u001b[0m \u001b[1m2s\u001b[0m 8ms/step\n",
            "              precision    recall  f1-score   support\n",
            "\n",
            "           0       1.00      1.00      1.00     55038\n",
            "           1       0.00      0.00      0.00        95\n",
            "\n",
            "    accuracy                           1.00     55133\n",
            "   macro avg       0.50      0.50      0.50     55133\n",
            "weighted avg       1.00      1.00      1.00     55133\n",
            "\n"
          ]
        },
        {
          "output_type": "stream",
          "name": "stderr",
          "text": [
            "/usr/local/lib/python3.11/dist-packages/sklearn/metrics/_classification.py:1565: UndefinedMetricWarning:\n",
            "\n",
            "Precision is ill-defined and being set to 0.0 in labels with no predicted samples. Use `zero_division` parameter to control this behavior.\n",
            "\n",
            "/usr/local/lib/python3.11/dist-packages/sklearn/metrics/_classification.py:1565: UndefinedMetricWarning:\n",
            "\n",
            "Precision is ill-defined and being set to 0.0 in labels with no predicted samples. Use `zero_division` parameter to control this behavior.\n",
            "\n",
            "/usr/local/lib/python3.11/dist-packages/sklearn/metrics/_classification.py:1565: UndefinedMetricWarning:\n",
            "\n",
            "Precision is ill-defined and being set to 0.0 in labels with no predicted samples. Use `zero_division` parameter to control this behavior.\n",
            "\n"
          ]
        },
        {
          "output_type": "display_data",
          "data": {
            "text/plain": [
              "<Figure size 800x600 with 2 Axes>"
            ],
            "image/png": "[encoded data removed]"
          },
          "metadata": {}
        }
      ],
      "source": [
        "import numpy as np\n",
        "from tensorflow.keras.optimizers import Adam\n",
        "from sklearn.metrics import classification_report, confusion_matrix\n",
        "import matplotlib.pyplot as plt\n",
        "import seaborn as sns\n",
        "\n",
        "# re-compile a fresh discriminator\n",
        "disc = cgan.build_discriminator()\n",
        "disc.compile(\n",
        "    loss='binary_crossentropy',\n",
        "    optimizer=Adam(0.0002, 0.5),\n",
        "    metrics=['accuracy']\n",
        ")\n",
        "\n",
        "# fit on your augmented data: X and its true label as the “conditioning”\n",
        "disc.fit(\n",
        "    x=[gen_X_train, gen_y_train],\n",
        "    y=np.ones((gen_X_train.shape[0],1)),\n",
        "    epochs=50,\n",
        "    batch_size=256,\n",
        "    validation_split=0.1\n",
        ")\n",
        "\n",
        "\n",
        "n_test = X_test.shape[0]\n",
        "zeros = np.zeros((n_test,1), dtype=int)\n",
        "ones  = np.ones((n_test,1),  dtype=int)\n",
        "\n",
        "\n",
        "p0 = disc.predict([X_test, zeros], batch_size=256).ravel()\n",
        "p1 = disc.predict([X_test, ones],  batch_size=256).ravel()\n",
        "\n",
        "\n",
        "y_pred = (p1 > p0).astype(int)\n",
        "\n",
        "\n",
        "print(classification_report(y_test, y_pred))\n",
        "\n",
        "cm = confusion_matrix(y_test, y_pred)\n",
        "plt.figure(figsize=(8,6))\n",
        "sns.heatmap(cm, annot=True, fmt=\"d\", cmap=\"Blues\",\n",
        "            xticklabels=[0,1], yticklabels=[0,1])\n",
        "plt.xlabel(\"Predicted\")\n",
        "plt.ylabel(\"True\")\n",
        "plt.title(\"Discriminator as Classifier\")\n",
        "plt.show()\n"
      ]
    },
    {
      "cell_type": "code",
      "source": [
        "from sklearn.metrics import classification_report, confusion_matrix, roc_auc_score\n",
        "\n",
        "y_prob = model.predict_proba(X_test)[:, 1]\n",
        "y_pred = (y_prob >= 0.5).astype(int)\n",
        "\n",
        "roc = roc_auc_score(y_test, y_prob)\n",
        "pr  = average_precision_score(y_test, y_prob)\n",
        "\n",
        "print(f\"\\nROC-AUC: {roc:.4f}\")\n",
        "print(f\"PR-AUC:  {pr:.4f}\\n\")\n",
        "y_pred = model.predict(X_test)\n",
        "y_pred_labels = (y_pred > 0.5).astype(int)\n",
        "\n",
        "print(classification_report(y_test, y_pred_labels, digits=4))\n",
        "print(\"ROC AUC:\", roc_auc_score(y_test, y_pred))\n"
      ],
      "metadata": {
        "id": "Pboslqhqkgqu",
        "colab": {
          "base_uri": "https://localhost:8080/"
        },
        "outputId": "0bf20916-895e-4233-a2b4-e8815417a5b5"
      },
      "id": "Pboslqhqkgqu",
      "execution_count": null,
      "outputs": [
        {
          "output_type": "stream",
          "name": "stderr",
          "text": [
            "/usr/local/lib/python3.11/dist-packages/sklearn/utils/validation.py:2739: UserWarning:\n",
            "\n",
            "X does not have valid feature names, but LGBMClassifier was fitted with feature names\n",
            "\n"
          ]
        },
        {
          "output_type": "stream",
          "name": "stdout",
          "text": [
            "\n",
            "ROC-AUC: 0.6989\n",
            "PR-AUC:  0.2222\n",
            "\n"
          ]
        },
        {
          "output_type": "stream",
          "name": "stderr",
          "text": [
            "/usr/local/lib/python3.11/dist-packages/sklearn/utils/validation.py:2739: UserWarning:\n",
            "\n",
            "X does not have valid feature names, but LGBMClassifier was fitted with feature names\n",
            "\n"
          ]
        },
        {
          "output_type": "stream",
          "name": "stdout",
          "text": [
            "              precision    recall  f1-score   support\n",
            "\n",
            "           0     0.9993    0.9973    0.9983     55038\n",
            "           1     0.2843    0.6105    0.3880        95\n",
            "\n",
            "    accuracy                         0.9967     55133\n",
            "   macro avg     0.6418    0.8039    0.6931     55133\n",
            "weighted avg     0.9981    0.9967    0.9973     55133\n",
            "\n",
            "ROC AUC: 0.8039368015591143\n"
          ]
        }
      ]
    },
    {
      "cell_type": "markdown",
      "source": [
        "The raw discriminator is not suitable as a classifier → it collapsed into predicting only the majority class.\n",
        "\n",
        "However, its feature representations contain useful anomaly signals. Passing them into LightGBM gives decent recall (61%) with a big improvement in ROC-AUC/PR-AUC compared to raw use.\n",
        "\n",
        "This suggests the discriminator should not be used directly, but as a feature extractor feeding supervised models."
      ],
      "metadata": {
        "id": "uuOG8GL7kSJA"
      },
      "id": "uuOG8GL7kSJA"
    },
    {
      "cell_type": "markdown",
      "source": [
        "Discriminator-alone: not viable for classification.\n",
        "\n",
        "Discriminator embeddings + supervised learner: promising, but still weaker than the specialized GAN-RNN/LSTM models and even autoencoder.\n",
        "\n",
        "Best strategy: treat discriminator outputs as features, not final predictions."
      ],
      "metadata": {
        "id": "vF2FdySOkXts"
      },
      "id": "vF2FdySOkXts"
    },
    {
      "cell_type": "markdown",
      "source": [
        "Referneces-[A hybrid deep learning approach with generative adversarial network for credit card fraud detection](https://doi.org/10.3390/technologies12100186), [Improving detection of credit card fraudulent transactions using generative adversarial networks](https://arxiv.org/abs/1907.03355), https://github.com/vishk23/CreditCardFraudDetectionGAN"
      ],
      "metadata": {
        "id": "k5Ap715ckdL0"
      },
      "id": "k5Ap715ckdL0"
    },
    {
      "cell_type": "markdown",
      "source": [
        "Note- ChatGPT used for understanding results and how discriminator can be used.\n",
        "\n",
        "\n"
      ],
      "metadata": {
        "id": "sPbCIQl4y517"
      },
      "id": "sPbCIQl4y517"
    },
    {
      "cell_type": "code",
      "source": [],
      "metadata": {
        "id": "hloaCPn1y6t0"
      },
      "id": "hloaCPn1y6t0",
      "execution_count": null,
      "outputs": []
    }
  ],
  "metadata": {
    "accelerator": "GPU",
    "colab": {
      "gpuType": "T4",
      "provenance": []
    },
    "kaggle": {
      "accelerator": "none",
      "dataSources": [
        {
          "datasetId": 310,
          "sourceId": 23498,
          "sourceType": "datasetVersion"
        }
      ],
      "dockerImageVersionId": 30822,
      "isGpuEnabled": false,
      "isInternetEnabled": true,
      "language": "python",
      "sourceType": "notebook"
    },
    "kernelspec": {
      "display_name": "Python 3",
      "name": "python3"
    },
    "language_info": {
      "codemirror_mode": {
        "name": "ipython",
        "version": 3
      },
      "file_extension": ".py",
      "mimetype": "text/x-python",
      "name": "python",
      "nbconvert_exporter": "python",
      "pygments_lexer": "ipython3",
      "version": "3.10.12"
    },
    "papermill": {
      "default_parameters": {},
      "duration": 1846.66889,
      "end_time": "2024-12-30T03:00:04.367340",
      "environment_variables": {},
      "exception": null,
      "input_path": "__notebook__.ipynb",
      "output_path": "__notebook__.ipynb",
      "parameters": {},
      "start_time": "2024-12-30T02:29:17.698450",
      "version": "2.6.0"
    }
  },
  "nbformat": 4,
  "nbformat_minor": 5
}