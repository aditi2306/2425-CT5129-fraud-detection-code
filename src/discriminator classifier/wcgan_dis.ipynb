{
  "cells": [
    {
      "cell_type": "markdown",
      "source": [
        "#WCGAN with Discriminator as classifier"
      ],
      "metadata": {
        "id": "edskmHdN1sjv"
      },
      "id": "edskmHdN1sjv"
    },
    {
      "cell_type": "markdown",
      "id": "95b87982",
      "metadata": {
        "id": "95b87982"
      },
      "source": [
        "## Importing Libraries"
      ]
    },
    {
      "cell_type": "code",
      "execution_count": null,
      "id": "cb2d1424",
      "metadata": {
        "id": "cb2d1424"
      },
      "outputs": [],
      "source": [
        "import os\n",
        "import keras\n",
        "import numpy as np\n",
        "import pandas as pd\n",
        "import seaborn as sns\n",
        "import plotly.express as px\n",
        "import plotly.graph_objects as go\n",
        "import matplotlib.pyplot as plt\n",
        "import lightgbm as lgb\n",
        "from sklearn.model_selection import train_test_split\n",
        "from sklearn.preprocessing import QuantileTransformer\n",
        "from sklearn.preprocessing import StandardScaler, MinMaxScaler\n",
        "from tensorflow.keras.layers import Input, Dense, Reshape, Flatten, Dropout, multiply, Concatenate\n",
        "from tensorflow.keras.layers import BatchNormalization, Activation, Embedding, ZeroPadding2D, LeakyReLU\n",
        "from tensorflow.keras.models import Sequential, Model\n",
        "from tensorflow.keras.optimizers import Adam, RMSprop\n",
        "from tensorflow.keras.initializers import RandomNormal\n",
        "import tensorflow.keras.backend as K\n",
        "from sklearn.utils import shuffle\n",
        "from sklearn.metrics import precision_score, recall_score, f1_score,\\\n",
        "                            accuracy_score, balanced_accuracy_score,classification_report,\\\n",
        "                            confusion_matrix,roc_auc_score,average_precision_score\n",
        "from lightgbm import LGBMClassifier"
      ]
    },
    {
      "cell_type": "code",
      "execution_count": null,
      "id": "QgenRhZYJcmv",
      "metadata": {
        "id": "QgenRhZYJcmv"
      },
      "outputs": [],
      "source": [
        "import tensorflow as tf\n",
        "tf.config.run_functions_eagerly(True)\n"
      ]
    },
    {
      "cell_type": "markdown",
      "id": "90a60195",
      "metadata": {
        "id": "90a60195"
      },
      "source": [
        "## EDA"
      ]
    },
    {
      "cell_type": "code",
      "execution_count": null,
      "id": "79bf21d7",
      "metadata": {
        "colab": {
          "base_uri": "https://localhost:8080/"
        },
        "id": "79bf21d7",
        "outputId": "c68fac56-dcb9-4eac-b4ba-8206c327d232"
      },
      "outputs": [
        {
          "output_type": "stream",
          "name": "stdout",
          "text": [
            "<class 'pandas.core.frame.DataFrame'>\n",
            "RangeIndex: 284807 entries, 0 to 284806\n",
            "Data columns (total 30 columns):\n",
            " #   Column  Non-Null Count   Dtype  \n",
            "---  ------  --------------   -----  \n",
            " 0   V1      284807 non-null  float64\n",
            " 1   V2      284807 non-null  float64\n",
            " 2   V3      284807 non-null  float64\n",
            " 3   V4      284807 non-null  float64\n",
            " 4   V5      284807 non-null  float64\n",
            " 5   V6      284807 non-null  float64\n",
            " 6   V7      284807 non-null  float64\n",
            " 7   V8      284807 non-null  float64\n",
            " 8   V9      284807 non-null  float64\n",
            " 9   V10     284807 non-null  float64\n",
            " 10  V11     284807 non-null  float64\n",
            " 11  V12     284807 non-null  float64\n",
            " 12  V13     284807 non-null  float64\n",
            " 13  V14     284807 non-null  float64\n",
            " 14  V15     284807 non-null  float64\n",
            " 15  V16     284807 non-null  float64\n",
            " 16  V17     284807 non-null  float64\n",
            " 17  V18     284807 non-null  float64\n",
            " 18  V19     284807 non-null  float64\n",
            " 19  V20     284807 non-null  float64\n",
            " 20  V21     284807 non-null  float64\n",
            " 21  V22     284807 non-null  float64\n",
            " 22  V23     284807 non-null  float64\n",
            " 23  V24     284807 non-null  float64\n",
            " 24  V25     284807 non-null  float64\n",
            " 25  V26     284807 non-null  float64\n",
            " 26  V27     284807 non-null  float64\n",
            " 27  V28     284807 non-null  float64\n",
            " 28  Amount  284807 non-null  float64\n",
            " 29  Class   284807 non-null  int64  \n",
            "dtypes: float64(29), int64(1)\n",
            "memory usage: 65.2 MB\n"
          ]
        }
      ],
      "source": [
        "df=pd.read_csv('./creditcard.csv')\n",
        "df=df.drop('Time',axis=1)\n",
        "df.head()\n",
        "df.info()"
      ]
    },
    {
      "cell_type": "markdown",
      "id": "a828e2f8",
      "metadata": {
        "id": "a828e2f8"
      },
      "source": [
        "PCA Transformation: The description of the data says that all the features went through a PCA transformation (Except for time and amount).  \n",
        "Scaling: Keep in mind that in order to implement a PCA transformation features need to be previously scaled."
      ]
    },
    {
      "cell_type": "code",
      "execution_count": null,
      "id": "b13394f3",
      "metadata": {
        "colab": {
          "base_uri": "https://localhost:8080/",
          "height": 349
        },
        "id": "b13394f3",
        "outputId": "e732f3f2-eb69-4174-c84a-fac3f90d7189"
      },
      "outputs": [
        {
          "output_type": "execute_result",
          "data": {
            "text/plain": [
              "                 V1            V2            V3            V4            V5  \\\n",
              "count  2.848070e+05  2.848070e+05  2.848070e+05  2.848070e+05  2.848070e+05   \n",
              "mean   1.168375e-15  3.416908e-16 -1.379537e-15  2.074095e-15  9.604066e-16   \n",
              "std    1.958696e+00  1.651309e+00  1.516255e+00  1.415869e+00  1.380247e+00   \n",
              "min   -5.640751e+01 -7.271573e+01 -4.832559e+01 -5.683171e+00 -1.137433e+02   \n",
              "25%   -9.203734e-01 -5.985499e-01 -8.903648e-01 -8.486401e-01 -6.915971e-01   \n",
              "50%    1.810880e-02  6.548556e-02  1.798463e-01 -1.984653e-02 -5.433583e-02   \n",
              "75%    1.315642e+00  8.037239e-01  1.027196e+00  7.433413e-01  6.119264e-01   \n",
              "max    2.454930e+00  2.205773e+01  9.382558e+00  1.687534e+01  3.480167e+01   \n",
              "\n",
              "                 V6            V7            V8            V9           V10  \\\n",
              "count  2.848070e+05  2.848070e+05  2.848070e+05  2.848070e+05  2.848070e+05   \n",
              "mean   1.487313e-15 -5.556467e-16  1.213481e-16 -2.406331e-15  2.239053e-15   \n",
              "std    1.332271e+00  1.237094e+00  1.194353e+00  1.098632e+00  1.088850e+00   \n",
              "min   -2.616051e+01 -4.355724e+01 -7.321672e+01 -1.343407e+01 -2.458826e+01   \n",
              "25%   -7.682956e-01 -5.540759e-01 -2.086297e-01 -6.430976e-01 -5.354257e-01   \n",
              "50%   -2.741871e-01  4.010308e-02  2.235804e-02 -5.142873e-02 -9.291738e-02   \n",
              "75%    3.985649e-01  5.704361e-01  3.273459e-01  5.971390e-01  4.539234e-01   \n",
              "max    7.330163e+01  1.205895e+02  2.000721e+01  1.559499e+01  2.374514e+01   \n",
              "\n",
              "       ...           V21           V22           V23           V24  \\\n",
              "count  ...  2.848070e+05  2.848070e+05  2.848070e+05  2.848070e+05   \n",
              "mean   ...  1.654067e-16 -3.568593e-16  2.578648e-16  4.473266e-15   \n",
              "std    ...  7.345240e-01  7.257016e-01  6.244603e-01  6.056471e-01   \n",
              "min    ... -3.483038e+01 -1.093314e+01 -4.480774e+01 -2.836627e+00   \n",
              "25%    ... -2.283949e-01 -5.423504e-01 -1.618463e-01 -3.545861e-01   \n",
              "50%    ... -2.945017e-02  6.781943e-03 -1.119293e-02  4.097606e-02   \n",
              "75%    ...  1.863772e-01  5.285536e-01  1.476421e-01  4.395266e-01   \n",
              "max    ...  2.720284e+01  1.050309e+01  2.252841e+01  4.584549e+00   \n",
              "\n",
              "                V25           V26           V27           V28         Amount  \\\n",
              "count  2.848070e+05  2.848070e+05  2.848070e+05  2.848070e+05  284807.000000   \n",
              "mean   5.340915e-16  1.683437e-15 -3.660091e-16 -1.227390e-16      88.349619   \n",
              "std    5.212781e-01  4.822270e-01  4.036325e-01  3.300833e-01     250.120109   \n",
              "min   -1.029540e+01 -2.604551e+00 -2.256568e+01 -1.543008e+01       0.000000   \n",
              "25%   -3.171451e-01 -3.269839e-01 -7.083953e-02 -5.295979e-02       5.600000   \n",
              "50%    1.659350e-02 -5.213911e-02  1.342146e-03  1.124383e-02      22.000000   \n",
              "75%    3.507156e-01  2.409522e-01  9.104512e-02  7.827995e-02      77.165000   \n",
              "max    7.519589e+00  3.517346e+00  3.161220e+01  3.384781e+01   25691.160000   \n",
              "\n",
              "               Class  \n",
              "count  284807.000000  \n",
              "mean        0.001727  \n",
              "std         0.041527  \n",
              "min         0.000000  \n",
              "25%         0.000000  \n",
              "50%         0.000000  \n",
              "75%         0.000000  \n",
              "max         1.000000  \n",
              "\n",
              "[8 rows x 30 columns]"
            ],
            "text/html": [
              "\n",
              "  <div id=\"df-939af900-f89b-4c9f-882c-0eb497e1988a\" class=\"colab-df-container\">\n",
              "    <div>\n",
              "<style scoped>\n",
              "    .dataframe tbody tr th:only-of-type {\n",
              "        vertical-align: middle;\n",
              "    }\n",
              "\n",
              "    .dataframe tbody tr th {\n",
              "        vertical-align: top;\n",
              "    }\n",
              "\n",
              "    .dataframe thead th {\n",
              "        text-align: right;\n",
              "    }\n",
              "</style>\n",
              "<table border=\"1\" class=\"dataframe\">\n",
              "  <thead>\n",
              "    <tr style=\"text-align: right;\">\n",
              "      <th></th>\n",
              "      <th>V1</th>\n",
              "      <th>V2</th>\n",
              "      <th>V3</th>\n",
              "      <th>V4</th>\n",
              "      <th>V5</th>\n",
              "      <th>V6</th>\n",
              "      <th>V7</th>\n",
              "      <th>V8</th>\n",
              "      <th>V9</th>\n",
              "      <th>V10</th>\n",
              "      <th>...</th>\n",
              "      <th>V21</th>\n",
              "      <th>V22</th>\n",
              "      <th>V23</th>\n",
              "      <th>V24</th>\n",
              "      <th>V25</th>\n",
              "      <th>V26</th>\n",
              "      <th>V27</th>\n",
              "      <th>V28</th>\n",
              "      <th>Amount</th>\n",
              "      <th>Class</th>\n",
              "    </tr>\n",
              "  </thead>\n",
              "  <tbody>\n",
              "    <tr>\n",
              "      <th>count</th>\n",
              "      <td>2.848070e+05</td>\n",
              "      <td>2.848070e+05</td>\n",
              "      <td>2.848070e+05</td>\n",
              "      <td>2.848070e+05</td>\n",
              "      <td>2.848070e+05</td>\n",
              "      <td>2.848070e+05</td>\n",
              "      <td>2.848070e+05</td>\n",
              "      <td>2.848070e+05</td>\n",
              "      <td>2.848070e+05</td>\n",
              "      <td>2.848070e+05</td>\n",
              "      <td>...</td>\n",
              "      <td>2.848070e+05</td>\n",
              "      <td>2.848070e+05</td>\n",
              "      <td>2.848070e+05</td>\n",
              "      <td>2.848070e+05</td>\n",
              "      <td>2.848070e+05</td>\n",
              "      <td>2.848070e+05</td>\n",
              "      <td>2.848070e+05</td>\n",
              "      <td>2.848070e+05</td>\n",
              "      <td>284807.000000</td>\n",
              "      <td>284807.000000</td>\n",
              "    </tr>\n",
              "    <tr>\n",
              "      <th>mean</th>\n",
              "      <td>1.168375e-15</td>\n",
              "      <td>3.416908e-16</td>\n",
              "      <td>-1.379537e-15</td>\n",
              "      <td>2.074095e-15</td>\n",
              "      <td>9.604066e-16</td>\n",
              "      <td>1.487313e-15</td>\n",
              "      <td>-5.556467e-16</td>\n",
              "      <td>1.213481e-16</td>\n",
              "      <td>-2.406331e-15</td>\n",
              "      <td>2.239053e-15</td>\n",
              "      <td>...</td>\n",
              "      <td>1.654067e-16</td>\n",
              "      <td>-3.568593e-16</td>\n",
              "      <td>2.578648e-16</td>\n",
              "      <td>4.473266e-15</td>\n",
              "      <td>5.340915e-16</td>\n",
              "      <td>1.683437e-15</td>\n",
              "      <td>-3.660091e-16</td>\n",
              "      <td>-1.227390e-16</td>\n",
              "      <td>88.349619</td>\n",
              "      <td>0.001727</td>\n",
              "    </tr>\n",
              "    <tr>\n",
              "      <th>std</th>\n",
              "      <td>1.958696e+00</td>\n",
              "      <td>1.651309e+00</td>\n",
              "      <td>1.516255e+00</td>\n",
              "      <td>1.415869e+00</td>\n",
              "      <td>1.380247e+00</td>\n",
              "      <td>1.332271e+00</td>\n",
              "      <td>1.237094e+00</td>\n",
              "      <td>1.194353e+00</td>\n",
              "      <td>1.098632e+00</td>\n",
              "      <td>1.088850e+00</td>\n",
              "      <td>...</td>\n",
              "      <td>7.345240e-01</td>\n",
              "      <td>7.257016e-01</td>\n",
              "      <td>6.244603e-01</td>\n",
              "      <td>6.056471e-01</td>\n",
              "      <td>5.212781e-01</td>\n",
              "      <td>4.822270e-01</td>\n",
              "      <td>4.036325e-01</td>\n",
              "      <td>3.300833e-01</td>\n",
              "      <td>250.120109</td>\n",
              "      <td>0.041527</td>\n",
              "    </tr>\n",
              "    <tr>\n",
              "      <th>min</th>\n",
              "      <td>-5.640751e+01</td>\n",
              "      <td>-7.271573e+01</td>\n",
              "      <td>-4.832559e+01</td>\n",
              "      <td>-5.683171e+00</td>\n",
              "      <td>-1.137433e+02</td>\n",
              "      <td>-2.616051e+01</td>\n",
              "      <td>-4.355724e+01</td>\n",
              "      <td>-7.321672e+01</td>\n",
              "      <td>-1.343407e+01</td>\n",
              "      <td>-2.458826e+01</td>\n",
              "      <td>...</td>\n",
              "      <td>-3.483038e+01</td>\n",
              "      <td>-1.093314e+01</td>\n",
              "      <td>-4.480774e+01</td>\n",
              "      <td>-2.836627e+00</td>\n",
              "      <td>-1.029540e+01</td>\n",
              "      <td>-2.604551e+00</td>\n",
              "      <td>-2.256568e+01</td>\n",
              "      <td>-1.543008e+01</td>\n",
              "      <td>0.000000</td>\n",
              "      <td>0.000000</td>\n",
              "    </tr>\n",
              "    <tr>\n",
              "      <th>25%</th>\n",
              "      <td>-9.203734e-01</td>\n",
              "      <td>-5.985499e-01</td>\n",
              "      <td>-8.903648e-01</td>\n",
              "      <td>-8.486401e-01</td>\n",
              "      <td>-6.915971e-01</td>\n",
              "      <td>-7.682956e-01</td>\n",
              "      <td>-5.540759e-01</td>\n",
              "      <td>-2.086297e-01</td>\n",
              "      <td>-6.430976e-01</td>\n",
              "      <td>-5.354257e-01</td>\n",
              "      <td>...</td>\n",
              "      <td>-2.283949e-01</td>\n",
              "      <td>-5.423504e-01</td>\n",
              "      <td>-1.618463e-01</td>\n",
              "      <td>-3.545861e-01</td>\n",
              "      <td>-3.171451e-01</td>\n",
              "      <td>-3.269839e-01</td>\n",
              "      <td>-7.083953e-02</td>\n",
              "      <td>-5.295979e-02</td>\n",
              "      <td>5.600000</td>\n",
              "      <td>0.000000</td>\n",
              "    </tr>\n",
              "    <tr>\n",
              "      <th>50%</th>\n",
              "      <td>1.810880e-02</td>\n",
              "      <td>6.548556e-02</td>\n",
              "      <td>1.798463e-01</td>\n",
              "      <td>-1.984653e-02</td>\n",
              "      <td>-5.433583e-02</td>\n",
              "      <td>-2.741871e-01</td>\n",
              "      <td>4.010308e-02</td>\n",
              "      <td>2.235804e-02</td>\n",
              "      <td>-5.142873e-02</td>\n",
              "      <td>-9.291738e-02</td>\n",
              "      <td>...</td>\n",
              "      <td>-2.945017e-02</td>\n",
              "      <td>6.781943e-03</td>\n",
              "      <td>-1.119293e-02</td>\n",
              "      <td>4.097606e-02</td>\n",
              "      <td>1.659350e-02</td>\n",
              "      <td>-5.213911e-02</td>\n",
              "      <td>1.342146e-03</td>\n",
              "      <td>1.124383e-02</td>\n",
              "      <td>22.000000</td>\n",
              "      <td>0.000000</td>\n",
              "    </tr>\n",
              "    <tr>\n",
              "      <th>75%</th>\n",
              "      <td>1.315642e+00</td>\n",
              "      <td>8.037239e-01</td>\n",
              "      <td>1.027196e+00</td>\n",
              "      <td>7.433413e-01</td>\n",
              "      <td>6.119264e-01</td>\n",
              "      <td>3.985649e-01</td>\n",
              "      <td>5.704361e-01</td>\n",
              "      <td>3.273459e-01</td>\n",
              "      <td>5.971390e-01</td>\n",
              "      <td>4.539234e-01</td>\n",
              "      <td>...</td>\n",
              "      <td>1.863772e-01</td>\n",
              "      <td>5.285536e-01</td>\n",
              "      <td>1.476421e-01</td>\n",
              "      <td>4.395266e-01</td>\n",
              "      <td>3.507156e-01</td>\n",
              "      <td>2.409522e-01</td>\n",
              "      <td>9.104512e-02</td>\n",
              "      <td>7.827995e-02</td>\n",
              "      <td>77.165000</td>\n",
              "      <td>0.000000</td>\n",
              "    </tr>\n",
              "    <tr>\n",
              "      <th>max</th>\n",
              "      <td>2.454930e+00</td>\n",
              "      <td>2.205773e+01</td>\n",
              "      <td>9.382558e+00</td>\n",
              "      <td>1.687534e+01</td>\n",
              "      <td>3.480167e+01</td>\n",
              "      <td>7.330163e+01</td>\n",
              "      <td>1.205895e+02</td>\n",
              "      <td>2.000721e+01</td>\n",
              "      <td>1.559499e+01</td>\n",
              "      <td>2.374514e+01</td>\n",
              "      <td>...</td>\n",
              "      <td>2.720284e+01</td>\n",
              "      <td>1.050309e+01</td>\n",
              "      <td>2.252841e+01</td>\n",
              "      <td>4.584549e+00</td>\n",
              "      <td>7.519589e+00</td>\n",
              "      <td>3.517346e+00</td>\n",
              "      <td>3.161220e+01</td>\n",
              "      <td>3.384781e+01</td>\n",
              "      <td>25691.160000</td>\n",
              "      <td>1.000000</td>\n",
              "    </tr>\n",
              "  </tbody>\n",
              "</table>\n",
              "<p>8 rows × 30 columns</p>\n",
              "</div>\n",
              "    <div class=\"colab-df-buttons\">\n",
              "\n",
              "  <div class=\"colab-df-container\">\n",
              "    <button class=\"colab-df-convert\" onclick=\"convertToInteractive('df-939af900-f89b-4c9f-882c-0eb497e1988a')\"\n",
              "            title=\"Convert this dataframe to an interactive table.\"\n",
              "            style=\"display:none;\">\n",
              "\n",
              "  <svg xmlns=\"http://www.w3.org/2000/svg\" height=\"24px\" viewBox=\"0 -960 960 960\">\n",
              "    <path d=\"M120-120v-720h720v720H120Zm60-500h600v-160H180v160Zm220 220h160v-160H400v160Zm0 220h160v-160H400v160ZM180-400h160v-160H180v160Zm440 0h160v-160H620v160ZM180-180h160v-160H180v160Zm440 0h160v-160H620v160Z\"/>\n",
              "  </svg>\n",
              "    </button>\n",
              "\n",
              "  <style>\n",
              "    .colab-df-container {\n",
              "      display:flex;\n",
              "      gap: 12px;\n",
              "    }\n",
              "\n",
              "    .colab-df-convert {\n",
              "      background-color: #E8F0FE;\n",
              "      border: none;\n",
              "      border-radius: 50%;\n",
              "      cursor: pointer;\n",
              "      display: none;\n",
              "      fill: #1967D2;\n",
              "      height: 32px;\n",
              "      padding: 0 0 0 0;\n",
              "      width: 32px;\n",
              "    }\n",
              "\n",
              "    .colab-df-convert:hover {\n",
              "      background-color: #E2EBFA;\n",
              "      box-shadow: 0px 1px 2px rgba(60, 64, 67, 0.3), 0px 1px 3px 1px rgba(60, 64, 67, 0.15);\n",
              "      fill: #174EA6;\n",
              "    }\n",
              "\n",
              "    .colab-df-buttons div {\n",
              "      margin-bottom: 4px;\n",
              "    }\n",
              "\n",
              "    [theme=dark] .colab-df-convert {\n",
              "      background-color: #3B4455;\n",
              "      fill: #D2E3FC;\n",
              "    }\n",
              "\n",
              "    [theme=dark] .colab-df-convert:hover {\n",
              "      background-color: #434B5C;\n",
              "      box-shadow: 0px 1px 3px 1px rgba(0, 0, 0, 0.15);\n",
              "      filter: drop-shadow(0px 1px 2px rgba(0, 0, 0, 0.3));\n",
              "      fill: #FFFFFF;\n",
              "    }\n",
              "  </style>\n",
              "\n",
              "    <script>\n",
              "      const buttonEl =\n",
              "        document.querySelector('#df-939af900-f89b-4c9f-882c-0eb497e1988a button.colab-df-convert');\n",
              "      buttonEl.style.display =\n",
              "        google.colab.kernel.accessAllowed ? 'block' : 'none';\n",
              "\n",
              "      async function convertToInteractive(key) {\n",
              "        const element = document.querySelector('#df-939af900-f89b-4c9f-882c-0eb497e1988a');\n",
              "        const dataTable =\n",
              "          await google.colab.kernel.invokeFunction('convertToInteractive',\n",
              "                                                    [key], {});\n",
              "        if (!dataTable) return;\n",
              "\n",
              "        const docLinkHtml = 'Like what you see? Visit the ' +\n",
              "          '<a target=\"_blank\" href=https://colab.research.google.com/notebooks/data_table.ipynb>data table notebook</a>'\n",
              "          + ' to learn more about interactive tables.';\n",
              "        element.innerHTML = '';\n",
              "        dataTable['output_type'] = 'display_data';\n",
              "        await google.colab.output.renderOutput(dataTable, element);\n",
              "        const docLink = document.createElement('div');\n",
              "        docLink.innerHTML = docLinkHtml;\n",
              "        element.appendChild(docLink);\n",
              "      }\n",
              "    </script>\n",
              "  </div>\n",
              "\n",
              "\n",
              "    <div id=\"df-d5e4c1c8-e217-4436-b961-5c3423d44a65\">\n",
              "      <button class=\"colab-df-quickchart\" onclick=\"quickchart('df-d5e4c1c8-e217-4436-b961-5c3423d44a65')\"\n",
              "                title=\"Suggest charts\"\n",
              "                style=\"display:none;\">\n",
              "\n",
              "<svg xmlns=\"http://www.w3.org/2000/svg\" height=\"24px\"viewBox=\"0 0 24 24\"\n",
              "     width=\"24px\">\n",
              "    <g>\n",
              "        <path d=\"M19 3H5c-1.1 0-2 .9-2 2v14c0 1.1.9 2 2 2h14c1.1 0 2-.9 2-2V5c0-1.1-.9-2-2-2zM9 17H7v-7h2v7zm4 0h-2V7h2v10zm4 0h-2v-4h2v4z\"/>\n",
              "    </g>\n",
              "</svg>\n",
              "      </button>\n",
              "\n",
              "<style>\n",
              "  .colab-df-quickchart {\n",
              "      --bg-color: #E8F0FE;\n",
              "      --fill-color: #1967D2;\n",
              "      --hover-bg-color: #E2EBFA;\n",
              "      --hover-fill-color: #174EA6;\n",
              "      --disabled-fill-color: #AAA;\n",
              "      --disabled-bg-color: #DDD;\n",
              "  }\n",
              "\n",
              "  [theme=dark] .colab-df-quickchart {\n",
              "      --bg-color: #3B4455;\n",
              "      --fill-color: #D2E3FC;\n",
              "      --hover-bg-color: #434B5C;\n",
              "      --hover-fill-color: #FFFFFF;\n",
              "      --disabled-bg-color: #3B4455;\n",
              "      --disabled-fill-color: #666;\n",
              "  }\n",
              "\n",
              "  .colab-df-quickchart {\n",
              "    background-color: var(--bg-color);\n",
              "    border: none;\n",
              "    border-radius: 50%;\n",
              "    cursor: pointer;\n",
              "    display: none;\n",
              "    fill: var(--fill-color);\n",
              "    height: 32px;\n",
              "    padding: 0;\n",
              "    width: 32px;\n",
              "  }\n",
              "\n",
              "  .colab-df-quickchart:hover {\n",
              "    background-color: var(--hover-bg-color);\n",
              "    box-shadow: 0 1px 2px rgba(60, 64, 67, 0.3), 0 1px 3px 1px rgba(60, 64, 67, 0.15);\n",
              "    fill: var(--button-hover-fill-color);\n",
              "  }\n",
              "\n",
              "  .colab-df-quickchart-complete:disabled,\n",
              "  .colab-df-quickchart-complete:disabled:hover {\n",
              "    background-color: var(--disabled-bg-color);\n",
              "    fill: var(--disabled-fill-color);\n",
              "    box-shadow: none;\n",
              "  }\n",
              "\n",
              "  .colab-df-spinner {\n",
              "    border: 2px solid var(--fill-color);\n",
              "    border-color: transparent;\n",
              "    border-bottom-color: var(--fill-color);\n",
              "    animation:\n",
              "      spin 1s steps(1) infinite;\n",
              "  }\n",
              "\n",
              "  @keyframes spin {\n",
              "    0% {\n",
              "      border-color: transparent;\n",
              "      border-bottom-color: var(--fill-color);\n",
              "      border-left-color: var(--fill-color);\n",
              "    }\n",
              "    20% {\n",
              "      border-color: transparent;\n",
              "      border-left-color: var(--fill-color);\n",
              "      border-top-color: var(--fill-color);\n",
              "    }\n",
              "    30% {\n",
              "      border-color: transparent;\n",
              "      border-left-color: var(--fill-color);\n",
              "      border-top-color: var(--fill-color);\n",
              "      border-right-color: var(--fill-color);\n",
              "    }\n",
              "    40% {\n",
              "      border-color: transparent;\n",
              "      border-right-color: var(--fill-color);\n",
              "      border-top-color: var(--fill-color);\n",
              "    }\n",
              "    60% {\n",
              "      border-color: transparent;\n",
              "      border-right-color: var(--fill-color);\n",
              "    }\n",
              "    80% {\n",
              "      border-color: transparent;\n",
              "      border-right-color: var(--fill-color);\n",
              "      border-bottom-color: var(--fill-color);\n",
              "    }\n",
              "    90% {\n",
              "      border-color: transparent;\n",
              "      border-bottom-color: var(--fill-color);\n",
              "    }\n",
              "  }\n",
              "</style>\n",
              "\n",
              "      <script>\n",
              "        async function quickchart(key) {\n",
              "          const quickchartButtonEl =\n",
              "            document.querySelector('#' + key + ' button');\n",
              "          quickchartButtonEl.disabled = true;  // To prevent multiple clicks.\n",
              "          quickchartButtonEl.classList.add('colab-df-spinner');\n",
              "          try {\n",
              "            const charts = await google.colab.kernel.invokeFunction(\n",
              "                'suggestCharts', [key], {});\n",
              "          } catch (error) {\n",
              "            console.error('Error during call to suggestCharts:', error);\n",
              "          }\n",
              "          quickchartButtonEl.classList.remove('colab-df-spinner');\n",
              "          quickchartButtonEl.classList.add('colab-df-quickchart-complete');\n",
              "        }\n",
              "        (() => {\n",
              "          let quickchartButtonEl =\n",
              "            document.querySelector('#df-d5e4c1c8-e217-4436-b961-5c3423d44a65 button');\n",
              "          quickchartButtonEl.style.display =\n",
              "            google.colab.kernel.accessAllowed ? 'block' : 'none';\n",
              "        })();\n",
              "      </script>\n",
              "    </div>\n",
              "\n",
              "    </div>\n",
              "  </div>\n"
            ],
            "application/vnd.google.colaboratory.intrinsic+json": {
              "type": "dataframe"
            }
          },
          "metadata": {},
          "execution_count": 4
        }
      ],
      "source": [
        "df.describe()"
      ]
    },
    {
      "cell_type": "code",
      "execution_count": null,
      "id": "306b3e6f",
      "metadata": {
        "colab": {
          "base_uri": "https://localhost:8080/"
        },
        "id": "306b3e6f",
        "outputId": "3bac235c-fb4d-4a02-f4ed-d7b749c8588c"
      },
      "outputs": [
        {
          "output_type": "stream",
          "name": "stdout",
          "text": [
            "Dataset has 9144 duplicate rows\n"
          ]
        }
      ],
      "source": [
        "# checking for duplicate values\n",
        "print(f\"Dataset has {df.duplicated().sum()} duplicate rows\")\n",
        "# dropping duplicate rows\n",
        "df.drop_duplicates(inplace=True)"
      ]
    },
    {
      "cell_type": "code",
      "execution_count": null,
      "id": "8b2f4c06",
      "metadata": {
        "colab": {
          "base_uri": "https://localhost:8080/"
        },
        "id": "8b2f4c06",
        "outputId": "c35914e1-3a01-46f0-bcb1-6370c4ea0638"
      },
      "outputs": [
        {
          "output_type": "stream",
          "name": "stdout",
          "text": [
            "<class 'pandas.core.frame.DataFrame'>\n",
            "Index: 275663 entries, 0 to 284806\n",
            "Data columns (total 30 columns):\n",
            " #   Column  Non-Null Count   Dtype  \n",
            "---  ------  --------------   -----  \n",
            " 0   V1      275663 non-null  float64\n",
            " 1   V2      275663 non-null  float64\n",
            " 2   V3      275663 non-null  float64\n",
            " 3   V4      275663 non-null  float64\n",
            " 4   V5      275663 non-null  float64\n",
            " 5   V6      275663 non-null  float64\n",
            " 6   V7      275663 non-null  float64\n",
            " 7   V8      275663 non-null  float64\n",
            " 8   V9      275663 non-null  float64\n",
            " 9   V10     275663 non-null  float64\n",
            " 10  V11     275663 non-null  float64\n",
            " 11  V12     275663 non-null  float64\n",
            " 12  V13     275663 non-null  float64\n",
            " 13  V14     275663 non-null  float64\n",
            " 14  V15     275663 non-null  float64\n",
            " 15  V16     275663 non-null  float64\n",
            " 16  V17     275663 non-null  float64\n",
            " 17  V18     275663 non-null  float64\n",
            " 18  V19     275663 non-null  float64\n",
            " 19  V20     275663 non-null  float64\n",
            " 20  V21     275663 non-null  float64\n",
            " 21  V22     275663 non-null  float64\n",
            " 22  V23     275663 non-null  float64\n",
            " 23  V24     275663 non-null  float64\n",
            " 24  V25     275663 non-null  float64\n",
            " 25  V26     275663 non-null  float64\n",
            " 26  V27     275663 non-null  float64\n",
            " 27  V28     275663 non-null  float64\n",
            " 28  Amount  275663 non-null  float64\n",
            " 29  Class   275663 non-null  int64  \n",
            "dtypes: float64(29), int64(1)\n",
            "memory usage: 65.2 MB\n"
          ]
        }
      ],
      "source": [
        "df.info()"
      ]
    },
    {
      "cell_type": "markdown",
      "id": "c5128908",
      "metadata": {
        "id": "c5128908"
      },
      "source": [
        "There is no null values"
      ]
    },
    {
      "cell_type": "code",
      "execution_count": null,
      "id": "9d6c996a",
      "metadata": {
        "colab": {
          "base_uri": "https://localhost:8080/"
        },
        "id": "9d6c996a",
        "outputId": "a6cc86e4-1e05-489e-9b51-ca4c85e457ef"
      },
      "outputs": [
        {
          "output_type": "stream",
          "name": "stdout",
          "text": [
            "No Frauds 99.83 % of the dataset\n",
            "Frauds 0.17 % of the dataset\n"
          ]
        }
      ],
      "source": [
        "print('No Frauds', round(df['Class'].value_counts()[0]/len(df) * 100,2), '% of the dataset')\n",
        "print('Frauds', round(df['Class'].value_counts()[1]/len(df) * 100,2), '% of the dataset')"
      ]
    },
    {
      "cell_type": "code",
      "execution_count": null,
      "id": "d88ad047",
      "metadata": {
        "colab": {
          "base_uri": "https://localhost:8080/",
          "height": 466
        },
        "id": "d88ad047",
        "outputId": "137b40f1-b663-4b05-c6f0-9ff64a56e187"
      },
      "outputs": [
        {
          "output_type": "execute_result",
          "data": {
            "text/plain": [
              "<Axes: xlabel='Class', ylabel='count'>"
            ]
          },
          "metadata": {},
          "execution_count": 8
        },
        {
          "output_type": "display_data",
          "data": {
            "text/plain": [
              "<Figure size 640x480 with 1 Axes>"
            ],
            "image/png": "[encoded data removed]"
          },
          "metadata": {}
        }
      ],
      "source": [
        "sns.countplot(data=df,x='Class')"
      ]
    },
    {
      "cell_type": "code",
      "execution_count": null,
      "id": "30728ee8",
      "metadata": {
        "colab": {
          "base_uri": "https://localhost:8080/",
          "height": 993
        },
        "id": "30728ee8",
        "outputId": "3ae49be7-4071-4f0f-ad87-5c6cf7a3223e"
      },
      "outputs": [
        {
          "output_type": "execute_result",
          "data": {
            "text/plain": [
              "V1        -3.273070\n",
              "V2        -4.653486\n",
              "V3        -2.216730\n",
              "V4         0.681387\n",
              "V5        -2.458790\n",
              "V6         1.867576\n",
              "V7         2.877722\n",
              "V8        -8.292631\n",
              "V9         0.550965\n",
              "V10        1.242165\n",
              "V11        0.347772\n",
              "V12       -2.208171\n",
              "V13        0.061058\n",
              "V14       -1.953613\n",
              "V15       -0.295836\n",
              "V16       -1.048371\n",
              "V17       -3.802987\n",
              "V18       -0.255710\n",
              "V19        0.115957\n",
              "V20       -2.045060\n",
              "V21        2.784302\n",
              "V22       -0.200868\n",
              "V23       -5.805236\n",
              "V24       -0.545636\n",
              "V25       -0.408260\n",
              "V26        0.587603\n",
              "V27       -0.745732\n",
              "V28       11.400938\n",
              "Amount    16.841622\n",
              "dtype: float64"
            ],
            "text/html": [
              "<div>\n",
              "<style scoped>\n",
              "    .dataframe tbody tr th:only-of-type {\n",
              "        vertical-align: middle;\n",
              "    }\n",
              "\n",
              "    .dataframe tbody tr th {\n",
              "        vertical-align: top;\n",
              "    }\n",
              "\n",
              "    .dataframe thead th {\n",
              "        text-align: right;\n",
              "    }\n",
              "</style>\n",
              "<table border=\"1\" class=\"dataframe\">\n",
              "  <thead>\n",
              "    <tr style=\"text-align: right;\">\n",
              "      <th></th>\n",
              "      <th>0</th>\n",
              "    </tr>\n",
              "  </thead>\n",
              "  <tbody>\n",
              "    <tr>\n",
              "      <th>V1</th>\n",
              "      <td>-3.273070</td>\n",
              "    </tr>\n",
              "    <tr>\n",
              "      <th>V2</th>\n",
              "      <td>-4.653486</td>\n",
              "    </tr>\n",
              "    <tr>\n",
              "      <th>V3</th>\n",
              "      <td>-2.216730</td>\n",
              "    </tr>\n",
              "    <tr>\n",
              "      <th>V4</th>\n",
              "      <td>0.681387</td>\n",
              "    </tr>\n",
              "    <tr>\n",
              "      <th>V5</th>\n",
              "      <td>-2.458790</td>\n",
              "    </tr>\n",
              "    <tr>\n",
              "      <th>V6</th>\n",
              "      <td>1.867576</td>\n",
              "    </tr>\n",
              "    <tr>\n",
              "      <th>V7</th>\n",
              "      <td>2.877722</td>\n",
              "    </tr>\n",
              "    <tr>\n",
              "      <th>V8</th>\n",
              "      <td>-8.292631</td>\n",
              "    </tr>\n",
              "    <tr>\n",
              "      <th>V9</th>\n",
              "      <td>0.550965</td>\n",
              "    </tr>\n",
              "    <tr>\n",
              "      <th>V10</th>\n",
              "      <td>1.242165</td>\n",
              "    </tr>\n",
              "    <tr>\n",
              "      <th>V11</th>\n",
              "      <td>0.347772</td>\n",
              "    </tr>\n",
              "    <tr>\n",
              "      <th>V12</th>\n",
              "      <td>-2.208171</td>\n",
              "    </tr>\n",
              "    <tr>\n",
              "      <th>V13</th>\n",
              "      <td>0.061058</td>\n",
              "    </tr>\n",
              "    <tr>\n",
              "      <th>V14</th>\n",
              "      <td>-1.953613</td>\n",
              "    </tr>\n",
              "    <tr>\n",
              "      <th>V15</th>\n",
              "      <td>-0.295836</td>\n",
              "    </tr>\n",
              "    <tr>\n",
              "      <th>V16</th>\n",
              "      <td>-1.048371</td>\n",
              "    </tr>\n",
              "    <tr>\n",
              "      <th>V17</th>\n",
              "      <td>-3.802987</td>\n",
              "    </tr>\n",
              "    <tr>\n",
              "      <th>V18</th>\n",
              "      <td>-0.255710</td>\n",
              "    </tr>\n",
              "    <tr>\n",
              "      <th>V19</th>\n",
              "      <td>0.115957</td>\n",
              "    </tr>\n",
              "    <tr>\n",
              "      <th>V20</th>\n",
              "      <td>-2.045060</td>\n",
              "    </tr>\n",
              "    <tr>\n",
              "      <th>V21</th>\n",
              "      <td>2.784302</td>\n",
              "    </tr>\n",
              "    <tr>\n",
              "      <th>V22</th>\n",
              "      <td>-0.200868</td>\n",
              "    </tr>\n",
              "    <tr>\n",
              "      <th>V23</th>\n",
              "      <td>-5.805236</td>\n",
              "    </tr>\n",
              "    <tr>\n",
              "      <th>V24</th>\n",
              "      <td>-0.545636</td>\n",
              "    </tr>\n",
              "    <tr>\n",
              "      <th>V25</th>\n",
              "      <td>-0.408260</td>\n",
              "    </tr>\n",
              "    <tr>\n",
              "      <th>V26</th>\n",
              "      <td>0.587603</td>\n",
              "    </tr>\n",
              "    <tr>\n",
              "      <th>V27</th>\n",
              "      <td>-0.745732</td>\n",
              "    </tr>\n",
              "    <tr>\n",
              "      <th>V28</th>\n",
              "      <td>11.400938</td>\n",
              "    </tr>\n",
              "    <tr>\n",
              "      <th>Amount</th>\n",
              "      <td>16.841622</td>\n",
              "    </tr>\n",
              "  </tbody>\n",
              "</table>\n",
              "</div><br><label><b>dtype:</b> float64</label>"
            ]
          },
          "metadata": {},
          "execution_count": 9
        }
      ],
      "source": [
        "df.drop('Class',axis=1).skew()"
      ]
    },
    {
      "cell_type": "code",
      "execution_count": null,
      "id": "d74277ea",
      "metadata": {
        "colab": {
          "base_uri": "https://localhost:8080/",
          "height": 467
        },
        "id": "d74277ea",
        "outputId": "bb9c12f4-9a9c-42be-e98e-c921b47c7318"
      },
      "outputs": [
        {
          "output_type": "execute_result",
          "data": {
            "text/plain": [
              "<Axes: xlabel='Amount', ylabel='Density'>"
            ]
          },
          "metadata": {},
          "execution_count": 10
        },
        {
          "output_type": "display_data",
          "data": {
            "text/plain": [
              "<Figure size 640x480 with 1 Axes>"
            ],
            "image/png": "[encoded data removed]"
          },
          "metadata": {}
        }
      ],
      "source": [
        "sns.kdeplot(df['Amount'])"
      ]
    },
    {
      "cell_type": "code",
      "execution_count": null,
      "id": "bd8cb1b8",
      "metadata": {
        "colab": {
          "base_uri": "https://localhost:8080/",
          "height": 466
        },
        "id": "bd8cb1b8",
        "outputId": "107c95cf-bd63-4b58-e199-59949df77ff1"
      },
      "outputs": [
        {
          "output_type": "execute_result",
          "data": {
            "text/plain": [
              "<Axes: xlabel='Amount', ylabel='Density'>"
            ]
          },
          "metadata": {},
          "execution_count": 11
        },
        {
          "output_type": "display_data",
          "data": {
            "text/plain": [
              "<Figure size 640x480 with 1 Axes>"
            ],
            "image/png": "[encoded data removed]"
          },
          "metadata": {}
        }
      ],
      "source": [
        "df['Amount'] = df['Amount'].apply(lambda x: np.log10(x+1))\n",
        "sns.kdeplot(df['Amount'])"
      ]
    },
    {
      "cell_type": "markdown",
      "id": "284d6f22",
      "metadata": {
        "id": "284d6f22"
      },
      "source": [
        "## Creating a sub sample"
      ]
    },
    {
      "cell_type": "markdown",
      "id": "0a068d5c",
      "metadata": {
        "id": "0a068d5c"
      },
      "source": [
        "What - create a[](http://) df with equal number of fraud and non fraud samples  \n",
        "Why - Although we don't know what the \"V\" features stand for, it will be useful to understand how each of this features influence the target. By having an imbalance dataframe we are not able to see the true correlations between the class and features"
      ]
    },
    {
      "cell_type": "code",
      "execution_count": null,
      "id": "555570b8",
      "metadata": {
        "id": "555570b8"
      },
      "outputs": [],
      "source": [
        "df = df.sample(frac=1)\n",
        "\n",
        "fraud_df = df.loc[df['Class'] == 1]\n",
        "non_fraud_df = df.loc[df['Class'] == 0][:492]\n",
        "\n",
        "subsample = pd.concat([fraud_df, non_fraud_df])\n",
        "new_df = subsample.sample(frac=1, random_state=42)"
      ]
    },
    {
      "cell_type": "markdown",
      "id": "6ece260f",
      "metadata": {
        "id": "6ece260f"
      },
      "source": [
        "### Correlation"
      ]
    },
    {
      "cell_type": "code",
      "execution_count": null,
      "id": "b4be44b5",
      "metadata": {
        "colab": {
          "base_uri": "https://localhost:8080/",
          "height": 542
        },
        "id": "b4be44b5",
        "outputId": "7e2f942a-f8c9-466b-e356-34cb5be44eae"
      },
      "outputs": [
        {
          "output_type": "display_data",
          "data": {
            "text/html": [
              "<html>\n",
              "<head><meta charset=\"utf-8\" /></head>\n",
              "<body>\n",
              "    <div>            <script src=\"https://cdnjs.cloudflare.com/ajax/libs/mathjax/2.7.5/MathJax.js?config=TeX-AMS-MML_SVG\"></script><script type=\"text/javascript\">if (window.MathJax && window.MathJax.Hub && window.MathJax.Hub.Config) {window.MathJax.Hub.Config({SVG: {font: \"STIX-Web\"}});}</script>                <script type=\"text/javascript\">window.PlotlyConfig = {MathJaxConfig: 'local'};</script>\n",
              "        <script charset=\"utf-8\" src=\"https://cdn.plot.ly/plotly-2.35.2.min.js\"></script>                <div id=\"94a86267-55f2-4632-aabd-e7c4fff12f34\" class=\"plotly-graph-div\" style=\"height:525px; width:100%;\"></div>            <script type=\"text/javascript\">                                    window.PLOTLYENV=window.PLOTLYENV || {};                                    if (document.getElementById(\"94a86267-55f2-4632-aabd-e7c4fff12f34\")) {                    Plotly.newPlot(                        \"94a86267-55f2-4632-aabd-e7c4fff12f34\",                        [{\"coloraxis\":\"coloraxis\",\"name\":\"0\",\"x\":[\"V1\",\"V2\",\"V3\",\"V4\",\"V5\",\"V6\",\"V7\",\"V8\",\"V9\",\"V10\",\"V11\",\"V12\",\"V13\",\"V14\",\"V15\",\"V16\",\"V17\",\"V18\",\"V19\",\"V20\",\"V21\",\"V22\",\"V23\",\"V24\",\"V25\",\"V26\",\"V27\",\"V28\",\"Amount\",\"Class\"],\"y\":[\"V1\",\"V2\",\"V3\",\"V4\",\"V5\",\"V6\",\"V7\",\"V8\",\"V9\",\"V10\",\"V11\",\"V12\",\"V13\",\"V14\",\"V15\",\"V16\",\"V17\",\"V18\",\"V19\",\"V20\",\"V21\",\"V22\",\"V23\",\"V24\",\"V25\",\"V26\",\"V27\",\"V28\",\"Amount\",\"Class\"],\"z\":[[1.0,0.009002056630573305,0.005951870323344242,-0.00004173363772271795,-0.018592931394259132,-0.0057885889326036374,-0.006842588291336207,-0.0004903017705976158,-0.007093188184085082,0.0031150804333675477,-0.005238361152132202,-0.005224732658887973,0.00017607397170216898,-0.00016701663809465893,-0.008538155507659293,-0.006376158582724214,-0.0017092604947157495,-0.000037118125851392146,-0.0003657869812605005,0.003108536048539729,0.006003695030846175,0.00363385957393703,-0.0075039854738690424,-0.009326773224502578,-0.004446136018296115,-0.0024364231007038832,-0.01462805356767594,-0.0035550069411664025,-0.07669206550361699,-0.09471828027403868],[0.009002056630573305,1.0,0.004976420415917124,-0.0040947830328221255,0.004654828151539354,0.004290266474645227,0.004866010897475064,0.003742693655932859,0.0011157645474232283,0.0027641737994162905,-0.0018084640177488517,0.0014801177085390748,0.0004607696108805194,0.004771739778601217,0.0011762916062601208,0.0026475607161066898,0.0013035840599433756,0.00036303790401864415,0.0011638151899724019,-0.0003388726980986184,-0.0038806719512788548,0.0029086740053364613,-0.0036886296217183635,0.0019735168281253828,-0.0028369314041973297,-0.0002960596857444594,0.0072516242348624775,0.0014575992938971624,-0.4593975292964746,0.08475425481454962],[0.005951870323344242,0.004976420415917124,1.0,-0.0007207506128839526,0.011019512449786181,0.014780101443836973,-0.01401559029072551,0.0037332102991635427,-0.0028955310476303873,-0.011064456582014113,0.003763268329471217,-0.0033654032642076873,-0.0007532888104511058,-0.008208455227590904,0.003323892451776669,0.0003360330653481017,-0.0028131327390717217,-0.0038764479346073692,-0.0008279699688052866,-0.004587224438279726,0.0018178562780222618,-0.004202923672142335,0.0021830017967684467,0.00978201284689953,0.004090898265090178,0.003596060803817456,-0.008780490220863236,-0.002453994123024117,-0.05301909618409743,-0.18577174362070328],[-0.00004173363772271795,-0.0040947830328221255,-0.0007207506128839526,1.0,0.006710184917376832,0.01253461998616239,0.0008061613152966061,0.004996484520262591,0.0013954678785993027,0.0033663943727186276,-0.004401812026915662,0.0005605366567562771,0.00033240074820581805,0.0053355967024485,0.004045091895456208,0.0017826285626818198,0.0016328679540392435,0.0015686647749632119,0.00501828295349111,0.0011654100961732614,-0.0006225862056653358,0.0015809695312210285,-0.00015475367372601146,0.005759384705327615,0.00017302609596238027,-0.0011052679713744698,0.0025173272107862047,0.000028447013289857395,-0.0006991724135756969,0.13031328765078892],[-0.018592931394259132,0.004654828151539354,0.011019512449786181,0.006710184917376832,1.0,-0.029700785735833325,-0.009106632501580067,-0.0026052875224072606,-0.0007861995616428796,-0.0028177407252066547,-0.0029651575403909004,-0.00034277222928878975,0.0012005945355470164,0.00517452752529204,-0.0071219945435213,-0.004147091486085972,-0.005421946975850434,-0.003108216609260082,0.0003505660226590792,-0.0007880754250582628,0.0034392276588518073,0.002971456770964675,-0.0010578383026698238,-0.012633613332769895,-0.00486230441589752,-0.0015684754955836017,-0.006115679435720273,-0.0007109361143900168,-0.2852020730073736,-0.08864223740340438],[-0.0057885889326036374,0.004290266474645227,0.014780101443836973,0.01253461998616239,-0.029700785735833325,1.0,0.01308742972054589,-0.012300897072016226,-0.0022898994434728944,-0.0027228856396608356,0.00044595492078974413,0.004288005962351922,-0.000139546548894875,0.00017772529829541167,-0.009362574711093101,-0.0025379738409453717,0.0017467394403829545,0.0007341181373794328,0.0008803306295041582,-0.0018348819521769226,-0.0015842250415122705,0.0023550476524281266,-0.00022080361056575986,-0.02109767327229274,-0.006673263711385937,0.0007018999138726082,-0.0015773843269393645,0.0006170632194787876,0.17594040694236682,-0.04477665579579166],[-0.006842588291336207,0.004866010897475064,-0.01401559029072551,0.0008061613152966061,-0.009106632501580067,0.01308742972054589,1.0,-0.000986632647379492,-0.0016570505889462708,-0.012245575367022702,0.0017312862293721541,-0.007377770947454692,0.0010190654338441416,-0.0020063821639050615,0.002164699457077215,-0.003553367501272705,-0.009984959755663573,-0.004092121223166247,0.0005896092117489801,-0.0021958273347808025,0.008634730211603327,-0.0017008984979523967,0.0034580507880624706,0.00537543701117588,0.002069807897952378,-0.00045883836790303913,-0.003977219873228191,0.001329272118132334,0.09665909375065548,-0.1732918453621204],[-0.0004903017705976158,0.003742693655932859,0.0037332102991635427,0.004996484520262591,-0.0026052875224072606,-0.012300897072016226,-0.000986632647379492,1.0,0.0001684599478413601,0.00023852276984072808,0.005165137776895045,-0.0041336876956651674,-0.0013413330919203144,-0.009568384289532099,-0.0023223464399357435,-0.006868307858294899,-0.00604914338427394,-0.002092119809368413,0.0008553714180542696,0.0005621589466952022,0.018805553474641,-0.005181868541496981,0.006461216507351984,-0.0060003185594712126,-0.0028265011984083465,-0.0011224898419865037,-0.00010826667669547447,0.0002008717009617944,-0.021610377555364952,0.03336438460284705],[-0.007093188184085082,0.0011157645474232283,-0.0028955310476303873,0.0013954678785993027,-0.0007861995616428796,-0.0022898994434728944,-0.0016570505889462708,0.0001684599478413601,1.0,-0.004956960977232968,-0.0015831315122645639,0.00022093464914158957,-0.00025906269002486955,-0.0051248742066249695,-0.0049122723369861695,0.002680339994664919,-0.0004875404325191098,-0.0009567733050660146,-0.0009356707772171745,0.0006125813121429,0.0017444713839399435,0.0007417622746537773,-0.0017392600161237938,-0.0024540913158740893,-0.00035765868608077944,0.005307459170163464,0.008065890934748458,0.006486668776329486,-0.07379718375060465,-0.09458275894222344],[0.0031150804333675477,0.0027641737994162905,-0.011064456582014113,0.0033663943727186276,-0.0028177407252066547,-0.0027228856396608356,-0.012245575367022702,0.00023852276984072808,-0.004956960977232968,1.0,0.005211325913813445,-0.007394681979456791,0.0008896964509362255,-0.0046159222671410555,0.0033660109027975078,-0.0036371650675406856,-0.0018408332602424895,0.0009112200184282367,0.0003790291088673989,-0.0045061722513230155,0.0023955011018211327,-0.0030120809221213895,0.0017604510466673218,0.0010149187965123028,0.00249910281760157,-0.0008588947666105442,0.011495357691488071,0.009956260833449977,-0.016495040286124266,-0.20810420388533496],[-0.005238361152132202,-0.0018084640177488517,0.003763268329471217,-0.004401812026915662,-0.0029651575403909004,0.00044595492078974413,0.0017312862293721541,0.005165137776895045,-0.0015831315122645639,0.005211325913813445,1.0,0.0038569701711923215,0.0013722399585872514,0.01005163759190286,-0.0023817677004227366,0.001045089917557729,0.00012728508810069437,-0.0017349245158464254,0.002067554253991,-0.00028967667925705376,-0.0023308194112002627,0.000803599811059058,-0.0008390469723996711,0.0015836370718236546,-0.0032093521987375923,-0.0020645266678813645,0.002434704351628481,0.0021758658346355455,-0.043053442634582204,0.15126045335713953],[-0.005224732658887973,0.0014801177085390748,-0.0033654032642076873,0.0005605366567562771,-0.00034277222928878975,0.004288005962351922,-0.007377770947454692,-0.0041336876956651674,0.00022093464914158957,-0.007394681979456791,0.0038569701711923215,1.0,0.0025323143640474284,-0.004060598916457885,0.0017273304728852212,-0.007692279149879526,-0.007394531288473136,-0.0007609712734102361,-0.0017433222825323181,0.002041356080798779,0.004192083404063499,0.0029666544689707303,-0.001101063395500874,0.0016954532680858911,0.0007319178597714799,-0.0020108838239186098,-0.0007758604396771144,-0.00017303047803573718,-0.011033406249319333,-0.25314979499998],[0.00017607397170216898,0.0004607696108805194,-0.0007532888104511058,0.00033240074820581805,0.0012005945355470164,-0.000139546548894875,0.0010190654338441416,-0.0013413330919203144,-0.00025906269002486955,0.0008896964509362255,0.0013722399585872514,0.0025323143640474284,1.0,-0.003479566711820786,0.0025145688423963124,-0.0022096783650527247,-0.0003147036842397188,0.0008394873375495422,0.0010715570383272276,-0.0006206148356032574,0.001100545391009347,0.0002135260322736993,0.0007110910522849193,-0.001014068186775126,-0.000059110392989157683,0.000886878094175577,-0.0014510102497142497,-0.00037975057588771657,-0.00620500922144439,-0.003934245314299104],[-0.00016701663809465893,0.004771739778601217,-0.008208455227590904,0.0053355967024485,0.00517452752529204,0.00017772529829541167,-0.0020063821639050615,-0.009568384289532099,-0.0051248742066249695,-0.0046159222671410555,0.01005163759190286,-0.004060598916457885,-0.003479566711820786,1.0,0.0026244836316104358,-0.003320306849978927,0.0009197230024976774,0.00141314712419913,-0.0007510941548648195,0.0036834571970597767,0.00471062737538161,-0.004794790558039026,0.0009289389054848207,0.0003318003192947788,0.0020768168575140823,0.0014042703420475548,-0.00382844202927901,-0.0031782024265971285,0.021382782639850075,-0.2975497797564341],[-0.008538155507659293,0.0011762916062601208,0.003323892451776669,0.004045091895456208,-0.0071219945435213,-0.009362574711093101,0.002164699457077215,-0.0023223464399357435,-0.0049122723369861695,0.0033660109027975078,-0.0023817677004227366,0.0017273304728852212,0.0025145688423963124,0.0026244836316104358,1.0,-0.004916780368499294,-0.0006027072808329339,-0.0008590147198242664,0.003386534076430463,0.00037508917068961836,0.0011372992637743438,0.002579003213495911,0.0007269407316841578,-0.00846067655817773,-0.008245117506923062,0.0019241521230987425,-0.0014722700182018113,0.00015627937832887737,-0.05445302096354137,-0.00282396614501427],[-0.006376158582724214,0.0026475607161066898,0.0003360330653481017,0.0017826285626818198,-0.004147091486085972,-0.0025379738409453717,-0.003553367501272705,-0.006868307858294899,0.002680339994664919,-0.0036371650675406856,0.001045089917557729,-0.007692279149879526,-0.0022096783650527247,-0.003320306849978927,-0.004916780368499294,1.0,-0.010046388062466162,-0.009275590059228555,0.0024073594302017882,0.00042400545327858397,0.005267154400499102,0.0032960882528521407,0.0015241836118116514,-0.004436914287114997,-0.0024636512169707,-0.004494645380977241,-0.00352797780690936,-0.0018546665914331375,-0.09729387167350853,-0.18822150581931657],[-0.0017092604947157495,0.0013035840599433756,-0.0028131327390717217,0.0016328679540392435,-0.005421946975850434,0.0017467394403829545,-0.009984959755663573,-0.00604914338427394,-0.0004875404325191098,-0.0018408332602424895,0.00012728508810069437,-0.007394531288473136,-0.0003147036842397188,0.0009197230024976774,-0.0006027072808329339,-0.010046388062466162,1.0,-0.007602083690618054,0.007939819203282865,0.0012085000319451912,0.0041627237748638815,0.000545766556749872,0.002412041345931664,0.004598973463231402,-0.003343032752915589,-0.0010902404860176928,-0.0035970763985634768,-0.0035868351644627178,0.01692275973435768,-0.31720194703318233],[-0.000037118125851392146,0.00036303790401864415,-0.0038764479346073692,0.0015686647749632119,-0.003108216609260082,0.0007341181373794328,-0.004092121223166247,-0.002092119809368413,-0.0009567733050660146,0.0009112200184282367,-0.0017349245158464254,-0.0007609712734102361,0.0008394873375495422,0.00141314712419913,-0.0008590147198242664,-0.009275590059228555,-0.007602083690618054,1.0,0.00038945371850091566,-0.00018506842718456036,0.000619427089182563,-0.004321380435269436,0.0034875147306727473,-0.0008359690508370424,-0.0052309570068279,0.003583478304060529,-0.005176455822270842,-0.001898867456886252,0.04418650871470446,-0.1064469255308137],[-0.0003657869812605005,0.0011638151899724019,-0.0008279699688052866,0.00501828295349111,0.0003505660226590792,0.0008803306295041582,0.0005896092117489801,0.0008553714180542696,-0.0009356707772171745,0.0003790291088673989,0.002067554253991,-0.0017433222825323181,0.0010715570383272276,-0.0007510941548648195,0.003386534076430463,0.0024073594302017882,0.007939819203282865,0.00038945371850091566,1.0,-0.0008462799424581408,0.0008855134322267428,0.003520864299549967,-0.00035680835693562804,-0.0014100893491832843,0.00046536756445178556,0.0009070515999730368,-0.00001097378901347827,0.0008126304744585073,-0.015601526945530785,0.03378413152415604],[0.003108536048539729,-0.0003388726980986184,-0.004587224438279726,0.0011654100961732614,-0.0007880754250582628,-0.0018348819521769226,-0.0021958273347808025,0.0005621589466952022,0.0006125813121429,-0.0045061722513230155,-0.00028967667925705376,0.002041356080798779,-0.0006206148356032574,0.0036834571970597767,0.00037508917068961836,0.00042400545327858397,0.0012085000319451912,-0.00018506842718456036,-0.0008462799424581408,1.0,0.0043916315431746355,-0.0023215318570962615,0.00074760545183631,0.000132300402247048,-1.2698991008208995e-6,-0.00030437091379311544,-0.0000962356942051223,0.0018278487908437299,0.1425680545106209,0.021349134626456445],[0.006003695030846175,-0.0038806719512788548,0.0018178562780222618,-0.0006225862056653358,0.0034392276588518073,-0.0015842250415122705,0.008634730211603327,0.018805553474641,0.0017444713839399435,0.0023955011018211327,-0.0023308194112002627,0.004192083404063499,0.001100545391009347,0.00471062737538161,0.0011372992637743438,0.005267154400499102,0.0041627237748638815,0.000619427089182563,0.0008855134322267428,0.0043916315431746355,1.0,0.0017951267485506284,-0.004335795108936218,0.0029433295315661667,-0.0012993410572347973,0.0008275390972013009,-0.005524039706815504,-0.004461160639097027,0.08325734243772799,0.026239135618532052],[0.00363385957393703,0.0029086740053364613,-0.004202923672142335,0.0015809695312210285,0.002971456770964675,0.0023550476524281266,-0.0017008984979523967,-0.005181868541496981,0.0007417622746537773,-0.0030120809221213895,0.000803599811059058,0.0029666544689707303,0.0002135260322736993,-0.004794790558039026,0.002579003213495911,0.0032960882528521407,0.000545766556749872,-0.004321380435269436,0.003520864299549967,-0.0023215318570962615,0.0017951267485506284,1.0,0.006160634816717875,0.004007631493735353,-0.0023307563307247013,0.004308780678510995,0.0016856153718819197,0.0016703357452039112,0.03546786563373596,0.004612376174770386],[-0.0075039854738690424,-0.0036886296217183635,0.0021830017967684467,-0.00015475367372601146,-0.0010578383026698238,-0.00022080361056575986,0.0034580507880624706,0.006461216507351984,-0.0017392600161237938,0.0017604510466673218,-0.0008390469723996711,-0.001101063395500874,0.0007110910522849193,0.0009289389054848207,0.0007269407316841578,0.0015241836118116514,0.002412041345931664,0.0034875147306727473,-0.00035680835693562804,0.00074760545183631,-0.004335795108936218,0.006160634816717875,1.0,-0.0011911345613579082,0.0036245111360326517,-0.0021047329234189956,-0.0015197357777631466,-0.002719192346928296,-0.025060446233726285,-0.006206025561580666],[-0.009326773224502578,0.0019735168281253828,0.00978201284689953,0.005759384705327615,-0.012633613332769895,-0.02109767327229274,0.00537543701117588,-0.0060003185594712126,-0.0024540913158740893,0.0010149187965123028,0.0015836370718236546,0.0016954532680858911,-0.001014068186775126,0.0003318003192947788,-0.00846067655817773,-0.004436914287114997,0.004598973463231402,-0.0008359690508370424,-0.0014100893491832843,0.000132300402247048,0.0029433295315661667,0.004007631493735353,-0.0011911345613579082,1.0,-0.007006715089922487,0.001526354548994966,-0.001315412814964761,0.00008562142586959663,-0.004790119342803612,-0.006831067309310169],[-0.004446136018296115,-0.0028369314041973297,0.004090898265090178,0.00017302609596238027,-0.00486230441589752,-0.006673263711385937,0.002069807897952378,-0.0028265011984083465,-0.00035765868608077944,0.00249910281760157,-0.0032093521987375923,0.0007319178597714799,-0.000059110392989157683,0.0020768168575140823,-0.008245117506923062,-0.0024636512169707,-0.003343032752915589,-0.0052309570068279,0.00046536756445178556,-1.2698991008208995e-6,-0.0012993410572347973,-0.0023307563307247013,0.0036245111360326517,-0.007006715089922487,1.0,0.004573576764907854,-0.0019952735762459473,-0.0012281791648253164,0.0068319890763741285,0.003592986720025483],[-0.0024364231007038832,-0.0002960596857444594,0.003596060803817456,-0.0011052679713744698,-0.0015684754955836017,0.0007018999138726082,-0.00045883836790303913,-0.0011224898419865037,0.005307459170163464,-0.0008588947666105442,-0.0020645266678813645,-0.0020108838239186098,0.000886878094175577,0.0014042703420475548,0.0019241521230987425,-0.004494645380977241,-0.0010902404860176928,0.003583478304060529,0.0009070515999730368,-0.00030437091379311544,0.0008275390972013009,0.004308780678510995,-0.0021047329234189956,0.001526354548994966,0.004573576764907854,1.0,-0.0009584412161369508,-0.0005696018274223322,-0.015344104977860325,0.004341289204197786],[-0.01462805356767594,0.0072516242348624775,-0.008780490220863236,0.0025173272107862047,-0.006115679435720273,-0.0015773843269393645,-0.003977219873228191,-0.00010826667669547447,0.008065890934748458,0.011495357691488071,0.002434704351628481,-0.0007758604396771144,-0.0014510102497142497,-0.00382844202927901,-0.0014722700182018113,-0.00352797780690936,-0.0035970763985634768,-0.005176455822270842,-0.00001097378901347827,-0.0000962356942051223,-0.005524039706815504,0.0016856153718819197,-0.0015197357777631466,-0.001315412814964761,-0.0019952735762459473,-0.0009584412161369508,1.0,-0.014434631792927595,-0.048296319499445114,0.02188824441740615],[-0.0035550069411664025,0.0014575992938971624,-0.002453994123024117,0.000028447013289857395,-0.0007109361143900168,0.0006170632194787876,0.001329272118132334,0.0002008717009617944,0.006486668776329486,0.009956260833449977,0.0021758658346355455,-0.00017303047803573718,-0.00037975057588771657,-0.0031782024265971285,0.00015627937832887737,-0.0018546665914331375,-0.0035868351644627178,-0.001898867456886252,0.0008126304744585073,0.0018278487908437299,-0.004461160639097027,0.0016703357452039112,-0.002719192346928296,0.00008562142586959663,-0.0012281791648253164,-0.0005696018274223322,-0.014434631792927595,1.0,-0.0034362894740964135,0.009642345399190148],[-0.07669206550361699,-0.4593975292964746,-0.05301909618409743,-0.0006991724135756969,-0.2852020730073736,0.17594040694236682,0.09665909375065548,-0.021610377555364952,-0.07379718375060465,-0.016495040286124266,-0.043053442634582204,-0.011033406249319333,-0.00620500922144439,0.021382782639850075,-0.05445302096354137,-0.09729387167350853,0.01692275973435768,0.04418650871470446,-0.015601526945530785,0.1425680545106209,0.08325734243772799,0.03546786563373596,-0.025060446233726285,-0.004790119342803612,0.0068319890763741285,-0.015344104977860325,-0.048296319499445114,-0.0034362894740964135,1.0,-0.00915167590969587],[-0.09471828027403868,0.08475425481454962,-0.18577174362070328,0.13031328765078892,-0.08864223740340438,-0.04477665579579166,-0.1732918453621204,0.03336438460284705,-0.09458275894222344,-0.20810420388533496,0.15126045335713953,-0.25314979499998,-0.003934245314299104,-0.2975497797564341,-0.00282396614501427,-0.18822150581931657,-0.31720194703318233,-0.1064469255308137,0.03378413152415604,0.021349134626456445,0.026239135618532052,0.004612376174770386,-0.006206025561580666,-0.006831067309310169,0.003592986720025483,0.004341289204197786,0.02188824441740615,0.009642345399190148,-0.00915167590969587,1.0]],\"type\":\"heatmap\",\"xaxis\":\"x\",\"yaxis\":\"y\",\"hovertemplate\":\"x: %{x}\\u003cbr\\u003ey: %{y}\\u003cbr\\u003ecolor: %{z}\\u003cextra\\u003e\\u003c\\u002fextra\\u003e\"}],                        {\"template\":{\"data\":{\"histogram2dcontour\":[{\"type\":\"histogram2dcontour\",\"colorbar\":{\"outlinewidth\":0,\"ticks\":\"\"},\"colorscale\":[[0.0,\"#0d0887\"],[0.1111111111111111,\"#46039f\"],[0.2222222222222222,\"#7201a8\"],[0.3333333333333333,\"#9c179e\"],[0.4444444444444444,\"#bd3786\"],[0.5555555555555556,\"#d8576b\"],[0.6666666666666666,\"#ed7953\"],[0.7777777777777778,\"#fb9f3a\"],[0.8888888888888888,\"#fdca26\"],[1.0,\"#f0f921\"]]}],\"choropleth\":[{\"type\":\"choropleth\",\"colorbar\":{\"outlinewidth\":0,\"ticks\":\"\"}}],\"histogram2d\":[{\"type\":\"histogram2d\",\"colorbar\":{\"outlinewidth\":0,\"ticks\":\"\"},\"colorscale\":[[0.0,\"#0d0887\"],[0.1111111111111111,\"#46039f\"],[0.2222222222222222,\"#7201a8\"],[0.3333333333333333,\"#9c179e\"],[0.4444444444444444,\"#bd3786\"],[0.5555555555555556,\"#d8576b\"],[0.6666666666666666,\"#ed7953\"],[0.7777777777777778,\"#fb9f3a\"],[0.8888888888888888,\"#fdca26\"],[1.0,\"#f0f921\"]]}],\"heatmap\":[{\"type\":\"heatmap\",\"colorbar\":{\"outlinewidth\":0,\"ticks\":\"\"},\"colorscale\":[[0.0,\"#0d0887\"],[0.1111111111111111,\"#46039f\"],[0.2222222222222222,\"#7201a8\"],[0.3333333333333333,\"#9c179e\"],[0.4444444444444444,\"#bd3786\"],[0.5555555555555556,\"#d8576b\"],[0.6666666666666666,\"#ed7953\"],[0.7777777777777778,\"#fb9f3a\"],[0.8888888888888888,\"#fdca26\"],[1.0,\"#f0f921\"]]}],\"heatmapgl\":[{\"type\":\"heatmapgl\",\"colorbar\":{\"outlinewidth\":0,\"ticks\":\"\"},\"colorscale\":[[0.0,\"#0d0887\"],[0.1111111111111111,\"#46039f\"],[0.2222222222222222,\"#7201a8\"],[0.3333333333333333,\"#9c179e\"],[0.4444444444444444,\"#bd3786\"],[0.5555555555555556,\"#d8576b\"],[0.6666666666666666,\"#ed7953\"],[0.7777777777777778,\"#fb9f3a\"],[0.8888888888888888,\"#fdca26\"],[1.0,\"#f0f921\"]]}],\"contourcarpet\":[{\"type\":\"contourcarpet\",\"colorbar\":{\"outlinewidth\":0,\"ticks\":\"\"}}],\"contour\":[{\"type\":\"contour\",\"colorbar\":{\"outlinewidth\":0,\"ticks\":\"\"},\"colorscale\":[[0.0,\"#0d0887\"],[0.1111111111111111,\"#46039f\"],[0.2222222222222222,\"#7201a8\"],[0.3333333333333333,\"#9c179e\"],[0.4444444444444444,\"#bd3786\"],[0.5555555555555556,\"#d8576b\"],[0.6666666666666666,\"#ed7953\"],[0.7777777777777778,\"#fb9f3a\"],[0.8888888888888888,\"#fdca26\"],[1.0,\"#f0f921\"]]}],\"surface\":[{\"type\":\"surface\",\"colorbar\":{\"outlinewidth\":0,\"ticks\":\"\"},\"colorscale\":[[0.0,\"#0d0887\"],[0.1111111111111111,\"#46039f\"],[0.2222222222222222,\"#7201a8\"],[0.3333333333333333,\"#9c179e\"],[0.4444444444444444,\"#bd3786\"],[0.5555555555555556,\"#d8576b\"],[0.6666666666666666,\"#ed7953\"],[0.7777777777777778,\"#fb9f3a\"],[0.8888888888888888,\"#fdca26\"],[1.0,\"#f0f921\"]]}],\"mesh3d\":[{\"type\":\"mesh3d\",\"colorbar\":{\"outlinewidth\":0,\"ticks\":\"\"}}],\"scatter\":[{\"fillpattern\":{\"fillmode\":\"overlay\",\"size\":10,\"solidity\":0.2},\"type\":\"scatter\"}],\"parcoords\":[{\"type\":\"parcoords\",\"line\":{\"colorbar\":{\"outlinewidth\":0,\"ticks\":\"\"}}}],\"scatterpolargl\":[{\"type\":\"scatterpolargl\",\"marker\":{\"colorbar\":{\"outlinewidth\":0,\"ticks\":\"\"}}}],\"bar\":[{\"error_x\":{\"color\":\"#2a3f5f\"},\"error_y\":{\"color\":\"#2a3f5f\"},\"marker\":{\"line\":{\"color\":\"#E5ECF6\",\"width\":0.5},\"pattern\":{\"fillmode\":\"overlay\",\"size\":10,\"solidity\":0.2}},\"type\":\"bar\"}],\"scattergeo\":[{\"type\":\"scattergeo\",\"marker\":{\"colorbar\":{\"outlinewidth\":0,\"ticks\":\"\"}}}],\"scatterpolar\":[{\"type\":\"scatterpolar\",\"marker\":{\"colorbar\":{\"outlinewidth\":0,\"ticks\":\"\"}}}],\"histogram\":[{\"marker\":{\"pattern\":{\"fillmode\":\"overlay\",\"size\":10,\"solidity\":0.2}},\"type\":\"histogram\"}],\"scattergl\":[{\"type\":\"scattergl\",\"marker\":{\"colorbar\":{\"outlinewidth\":0,\"ticks\":\"\"}}}],\"scatter3d\":[{\"type\":\"scatter3d\",\"line\":{\"colorbar\":{\"outlinewidth\":0,\"ticks\":\"\"}},\"marker\":{\"colorbar\":{\"outlinewidth\":0,\"ticks\":\"\"}}}],\"scattermapbox\":[{\"type\":\"scattermapbox\",\"marker\":{\"colorbar\":{\"outlinewidth\":0,\"ticks\":\"\"}}}],\"scatterternary\":[{\"type\":\"scatterternary\",\"marker\":{\"colorbar\":{\"outlinewidth\":0,\"ticks\":\"\"}}}],\"scattercarpet\":[{\"type\":\"scattercarpet\",\"marker\":{\"colorbar\":{\"outlinewidth\":0,\"ticks\":\"\"}}}],\"carpet\":[{\"aaxis\":{\"endlinecolor\":\"#2a3f5f\",\"gridcolor\":\"white\",\"linecolor\":\"white\",\"minorgridcolor\":\"white\",\"startlinecolor\":\"#2a3f5f\"},\"baxis\":{\"endlinecolor\":\"#2a3f5f\",\"gridcolor\":\"white\",\"linecolor\":\"white\",\"minorgridcolor\":\"white\",\"startlinecolor\":\"#2a3f5f\"},\"type\":\"carpet\"}],\"table\":[{\"cells\":{\"fill\":{\"color\":\"#EBF0F8\"},\"line\":{\"color\":\"white\"}},\"header\":{\"fill\":{\"color\":\"#C8D4E3\"},\"line\":{\"color\":\"white\"}},\"type\":\"table\"}],\"barpolar\":[{\"marker\":{\"line\":{\"color\":\"#E5ECF6\",\"width\":0.5},\"pattern\":{\"fillmode\":\"overlay\",\"size\":10,\"solidity\":0.2}},\"type\":\"barpolar\"}],\"pie\":[{\"automargin\":true,\"type\":\"pie\"}]},\"layout\":{\"autotypenumbers\":\"strict\",\"colorway\":[\"#636efa\",\"#EF553B\",\"#00cc96\",\"#ab63fa\",\"#FFA15A\",\"#19d3f3\",\"#FF6692\",\"#B6E880\",\"#FF97FF\",\"#FECB52\"],\"font\":{\"color\":\"#2a3f5f\"},\"hovermode\":\"closest\",\"hoverlabel\":{\"align\":\"left\"},\"paper_bgcolor\":\"white\",\"plot_bgcolor\":\"#E5ECF6\",\"polar\":{\"bgcolor\":\"#E5ECF6\",\"angularaxis\":{\"gridcolor\":\"white\",\"linecolor\":\"white\",\"ticks\":\"\"},\"radialaxis\":{\"gridcolor\":\"white\",\"linecolor\":\"white\",\"ticks\":\"\"}},\"ternary\":{\"bgcolor\":\"#E5ECF6\",\"aaxis\":{\"gridcolor\":\"white\",\"linecolor\":\"white\",\"ticks\":\"\"},\"baxis\":{\"gridcolor\":\"white\",\"linecolor\":\"white\",\"ticks\":\"\"},\"caxis\":{\"gridcolor\":\"white\",\"linecolor\":\"white\",\"ticks\":\"\"}},\"coloraxis\":{\"colorbar\":{\"outlinewidth\":0,\"ticks\":\"\"}},\"colorscale\":{\"sequential\":[[0.0,\"#0d0887\"],[0.1111111111111111,\"#46039f\"],[0.2222222222222222,\"#7201a8\"],[0.3333333333333333,\"#9c179e\"],[0.4444444444444444,\"#bd3786\"],[0.5555555555555556,\"#d8576b\"],[0.6666666666666666,\"#ed7953\"],[0.7777777777777778,\"#fb9f3a\"],[0.8888888888888888,\"#fdca26\"],[1.0,\"#f0f921\"]],\"sequentialminus\":[[0.0,\"#0d0887\"],[0.1111111111111111,\"#46039f\"],[0.2222222222222222,\"#7201a8\"],[0.3333333333333333,\"#9c179e\"],[0.4444444444444444,\"#bd3786\"],[0.5555555555555556,\"#d8576b\"],[0.6666666666666666,\"#ed7953\"],[0.7777777777777778,\"#fb9f3a\"],[0.8888888888888888,\"#fdca26\"],[1.0,\"#f0f921\"]],\"diverging\":[[0,\"#8e0152\"],[0.1,\"#c51b7d\"],[0.2,\"#de77ae\"],[0.3,\"#f1b6da\"],[0.4,\"#fde0ef\"],[0.5,\"#f7f7f7\"],[0.6,\"#e6f5d0\"],[0.7,\"#b8e186\"],[0.8,\"#7fbc41\"],[0.9,\"#4d9221\"],[1,\"#276419\"]]},\"xaxis\":{\"gridcolor\":\"white\",\"linecolor\":\"white\",\"ticks\":\"\",\"title\":{\"standoff\":15},\"zerolinecolor\":\"white\",\"automargin\":true,\"zerolinewidth\":2},\"yaxis\":{\"gridcolor\":\"white\",\"linecolor\":\"white\",\"ticks\":\"\",\"title\":{\"standoff\":15},\"zerolinecolor\":\"white\",\"automargin\":true,\"zerolinewidth\":2},\"scene\":{\"xaxis\":{\"backgroundcolor\":\"#E5ECF6\",\"gridcolor\":\"white\",\"linecolor\":\"white\",\"showbackground\":true,\"ticks\":\"\",\"zerolinecolor\":\"white\",\"gridwidth\":2},\"yaxis\":{\"backgroundcolor\":\"#E5ECF6\",\"gridcolor\":\"white\",\"linecolor\":\"white\",\"showbackground\":true,\"ticks\":\"\",\"zerolinecolor\":\"white\",\"gridwidth\":2},\"zaxis\":{\"backgroundcolor\":\"#E5ECF6\",\"gridcolor\":\"white\",\"linecolor\":\"white\",\"showbackground\":true,\"ticks\":\"\",\"zerolinecolor\":\"white\",\"gridwidth\":2}},\"shapedefaults\":{\"line\":{\"color\":\"#2a3f5f\"}},\"annotationdefaults\":{\"arrowcolor\":\"#2a3f5f\",\"arrowhead\":0,\"arrowwidth\":1},\"geo\":{\"bgcolor\":\"white\",\"landcolor\":\"#E5ECF6\",\"subunitcolor\":\"white\",\"showland\":true,\"showlakes\":true,\"lakecolor\":\"white\"},\"title\":{\"x\":0.05},\"mapbox\":{\"style\":\"light\"}}},\"xaxis\":{\"anchor\":\"y\",\"domain\":[0.0,1.0]},\"yaxis\":{\"anchor\":\"x\",\"domain\":[0.0,1.0],\"autorange\":\"reversed\"},\"coloraxis\":{\"colorscale\":[[0.0,\"rgb(5,48,97)\"],[0.1,\"rgb(33,102,172)\"],[0.2,\"rgb(67,147,195)\"],[0.3,\"rgb(146,197,222)\"],[0.4,\"rgb(209,229,240)\"],[0.5,\"rgb(247,247,247)\"],[0.6,\"rgb(253,219,199)\"],[0.7,\"rgb(244,165,130)\"],[0.8,\"rgb(214,96,77)\"],[0.9,\"rgb(178,24,43)\"],[1.0,\"rgb(103,0,31)\"]]},\"margin\":{\"t\":60}},                        {\"responsive\": true}                    ).then(function(){\n",
              "                            \n",
              "var gd = document.getElementById('94a86267-55f2-4632-aabd-e7c4fff12f34');\n",
              "var x = new MutationObserver(function (mutations, observer) {{\n",
              "        var display = window.getComputedStyle(gd).display;\n",
              "        if (!display || display === 'none') {{\n",
              "            console.log([gd, 'removed!']);\n",
              "            Plotly.purge(gd);\n",
              "            observer.disconnect();\n",
              "        }}\n",
              "}});\n",
              "\n",
              "// Listen for the removal of the full notebook cells\n",
              "var notebookContainer = gd.closest('#notebook-container');\n",
              "if (notebookContainer) {{\n",
              "    x.observe(notebookContainer, {childList: true});\n",
              "}}\n",
              "\n",
              "// Listen for the clearing of the current output cell\n",
              "var outputEl = gd.closest('.output');\n",
              "if (outputEl) {{\n",
              "    x.observe(outputEl, {childList: true});\n",
              "}}\n",
              "\n",
              "                        })                };                            </script>        </div>\n",
              "</body>\n",
              "</html>"
            ]
          },
          "metadata": {}
        }
      ],
      "source": [
        "corr = df.corr()\n",
        "fig=px.imshow(corr, aspect=\"auto\" ,color_continuous_scale='RdBu_r')\n",
        "fig.show()"
      ]
    },
    {
      "cell_type": "code",
      "execution_count": null,
      "id": "3c160557",
      "metadata": {
        "colab": {
          "base_uri": "https://localhost:8080/",
          "height": 542
        },
        "id": "3c160557",
        "outputId": "20ed3bb9-2454-477b-e457-a97c3b1fb811"
      },
      "outputs": [
        {
          "output_type": "display_data",
          "data": {
            "text/html": [
              "<html>\n",
              "<head><meta charset=\"utf-8\" /></head>\n",
              "<body>\n",
              "    <div>            <script src=\"https://cdnjs.cloudflare.com/ajax/libs/mathjax/2.7.5/MathJax.js?config=TeX-AMS-MML_SVG\"></script><script type=\"text/javascript\">if (window.MathJax && window.MathJax.Hub && window.MathJax.Hub.Config) {window.MathJax.Hub.Config({SVG: {font: \"STIX-Web\"}});}</script>                <script type=\"text/javascript\">window.PlotlyConfig = {MathJaxConfig: 'local'};</script>\n",
              "        <script charset=\"utf-8\" src=\"https://cdn.plot.ly/plotly-2.35.2.min.js\"></script>                <div id=\"2283f425-1bcd-4235-8387-ecaec41241c0\" class=\"plotly-graph-div\" style=\"height:525px; width:100%;\"></div>            <script type=\"text/javascript\">                                    window.PLOTLYENV=window.PLOTLYENV || {};                                    if (document.getElementById(\"2283f425-1bcd-4235-8387-ecaec41241c0\")) {                    Plotly.newPlot(                        \"2283f425-1bcd-4235-8387-ecaec41241c0\",                        [{\"coloraxis\":\"coloraxis\",\"name\":\"0\",\"x\":[\"V1\",\"V2\",\"V3\",\"V4\",\"V5\",\"V6\",\"V7\",\"V8\",\"V9\",\"V10\",\"V11\",\"V12\",\"V13\",\"V14\",\"V15\",\"V16\",\"V17\",\"V18\",\"V19\",\"V20\",\"V21\",\"V22\",\"V23\",\"V24\",\"V25\",\"V26\",\"V27\",\"V28\",\"Amount\",\"Class\"],\"y\":[\"V1\",\"V2\",\"V3\",\"V4\",\"V5\",\"V6\",\"V7\",\"V8\",\"V9\",\"V10\",\"V11\",\"V12\",\"V13\",\"V14\",\"V15\",\"V16\",\"V17\",\"V18\",\"V19\",\"V20\",\"V21\",\"V22\",\"V23\",\"V24\",\"V25\",\"V26\",\"V27\",\"V28\",\"Amount\",\"Class\"],\"z\":[[1.0,-0.793020014788685,0.8662552338559503,-0.5997036679332313,0.859532985534559,0.3654939088680584,0.868490613882858,-0.2330714593486445,0.6425818539106791,0.7242084437397817,-0.5233796013763229,0.5837365554405923,-0.08364272470310327,0.4383992314711783,0.09793539260616597,0.6285424143859009,0.6744671647987466,0.6693175163355348,-0.3256920750574982,-0.35625266787951265,0.11880754740109097,-0.09835091996256279,0.002812965696127677,-0.08387840763833092,-0.10771841289054186,0.019994107379860692,0.10366301895230622,0.160553394719081,-0.04759337872339416,-0.4160862231405123],[-0.793020014788685,1.0,-0.8638174493209129,0.6900151427564418,-0.7779262984052192,-0.3818111622270407,-0.8307332636855139,0.14935421641492808,-0.702164829729284,-0.7687942880574673,0.6226989713123978,-0.6758041170200015,0.07631789411078332,-0.5704727813498881,-0.11159134618748656,-0.6318985233443739,-0.6478161836115063,-0.6029659130074156,0.23922899055362457,0.405493355200149,-0.1135085988772973,0.0740723865833051,0.07071303011554088,0.011151936986595314,0.13854352408522785,0.018676870151871246,-0.08038456224516737,0.037989208343337466,-0.24783480477427927,0.48857740259950216],[0.8662552338559503,-0.8638174493209129,1.0,-0.7652556935232729,0.832560529313273,0.5111299380041746,0.8818652593735957,-0.28925584412297256,0.7550834192299758,0.843104374285087,-0.7170492670332911,0.7587073129479232,-0.10204347022743136,0.6602748349009478,0.09352739582653774,0.7212971673300798,0.7337269238860886,0.6876484221481372,-0.33863958154807894,-0.39670057546821946,0.0673827998164619,-0.06728762059843121,-0.007672777499507944,0.00071575834211929,-0.10388664548502477,-0.03244194258759353,-0.005870898744096088,0.0876312348386693,0.059588164545280965,-0.5676243608127558],[-0.5997036679332313,0.6900151427564418,-0.7652556935232729,1.0,-0.560371579115268,-0.4492760684644021,-0.7128841340294149,0.13813873617900324,-0.7637127675211443,-0.7947070622297099,0.7972666680907009,-0.8341691282769439,0.054755836667976183,-0.8006406925084815,-0.07420716388036916,-0.7253563527455966,-0.7049230016082937,-0.6229106616683651,0.32649974826957,0.3223224271131636,-0.027305488200668863,0.11602696795597825,0.018774725548573044,-0.04495459083919583,-0.017228048375571448,0.155707231660927,0.04968066991526515,-0.044107076699733065,-0.18375162764122605,0.7232519123097766],[0.859532985534559,-0.7779262984052192,0.832560529313273,-0.560371579115268,1.0,0.2924081748565855,0.8216256581481729,-0.314671422720929,0.6395203911839056,0.7258220536585923,-0.5053358766586618,0.5977495454172644,-0.1459912546100826,0.4121076050519365,0.046377138040750554,0.6746702475335187,0.7364374638128112,0.7234341198441706,-0.4127114676401283,-0.35925022103119714,0.08083331765046313,-0.09102127396298534,-0.09554584534808837,-0.1463513703392023,-0.10047503807310901,0.03187818349362918,0.09946452643506622,0.14731351367703532,-0.1790278130783633,-0.34877119309144694],[0.3654939088680584,-0.3818111622270407,0.5111299380041746,-0.4492760684644021,0.2924081748565855,1.0,0.36203284247257284,-0.5227092141952872,0.3854641546802829,0.44429078138152966,-0.5348915467614974,0.52656941719387,-0.11125110174964921,0.5794550853382908,-0.061523733182051135,0.4701923944345928,0.44443166238096715,0.3733576929781465,-0.2274350819852621,-0.05411546764612741,-0.23254583326115544,0.22549262490090163,0.26591748395117903,-0.037915426868473295,-0.15696524209120205,0.023881767310736907,-0.2402239945044125,-0.12883969348998753,0.21145310880791604,-0.4494060181065086],[0.868490613882858,-0.8307332636855139,0.8818652593735957,-0.7128841340294149,0.8216256581481729,0.36203284247257284,1.0,-0.05340605492118233,0.7655541211758401,0.8614664177318359,-0.6414409402150743,0.7267920405929852,-0.06551330277919865,0.5465955214042808,0.14134579361357633,0.7502969981371641,0.7806164333667436,0.7616298009416658,-0.3841093974802609,-0.4509933467866135,0.21082084877115928,-0.21530137206414643,-0.005509398457884167,-0.07112639815398483,0.038390104960297024,0.006530059721167425,0.15362502144760273,0.12540225933319163,0.11577295448501333,-0.4707072085193374],[-0.2330714593486445,0.14935421641492808,-0.28925584412297256,0.13813873617900324,-0.314671422720929,-0.5227092141952872,-0.05340605492118233,1.0,-0.08544013431417609,-0.09715250968351372,0.23723822985884044,-0.20552214493405044,0.24453794575850535,-0.26260491004557623,0.15180027245043426,-0.26021075774694163,-0.2860129228106184,-0.2590352241087058,0.23752310315791322,-0.19677035728570666,0.43045737086015706,-0.3733008725074083,-0.3018365221287518,0.04915045504804867,0.3094199926239843,0.024706103090057777,0.40535907550269296,0.07692008478053218,0.1462733060333198,0.11004571443951973],[0.6425818539106791,-0.702164829729284,0.7550834192299758,-0.7637127675211443,0.6395203911839056,0.3854641546802829,0.7655541211758401,-0.08544013431417609,1.0,0.8361128521319413,-0.6989713352607425,0.7605653724373929,-0.062306471115501506,0.6739746975882901,0.08754210349852083,0.7177362723636326,0.7508555993209268,0.6906862408564186,-0.3525849753979818,-0.39422231625941917,0.16533733381412147,-0.20370809970729886,-0.061836460196548475,-0.005064527963813074,-0.017230629429698368,-0.10562336680693649,0.06055589978872131,0.11244870104589055,0.1159264414669437,-0.546691106555839],[0.7242084437397817,-0.7687942880574673,0.843104374285087,-0.7947070622297099,0.7258220536585923,0.44429078138152966,0.8614664177318359,-0.09715250968351372,0.8361128521319413,1.0,-0.8040845555567775,0.8828924839613896,-0.05275163051836447,0.767283604647801,0.10143453501926089,0.8534257636146478,0.8536940107531041,0.791491962972887,-0.4230167644308989,-0.4019225112884009,0.11573231550496814,-0.2350351798220993,-0.04155437921243609,-0.0069635113111890575,0.021179828360224015,-0.0513474899498096,0.06536361762106252,0.10981083985966927,0.11418763028231256,-0.6287358497623889],[-0.5233796013763229,0.6226989713123978,-0.7170492670332911,0.7972666680907009,-0.5053358766586618,-0.5348915467614974,-0.6414409402150743,0.23723822985884044,-0.6989713352607425,-0.8040845555567775,1.0,-0.8982146622982999,0.08320925183287346,-0.8889413393636463,-0.042131279465834226,-0.8058693229645647,-0.7653199981496138,-0.6627744963804019,0.3922972785379103,0.22059622097091153,0.1437522207008117,0.052440441333044874,-0.04215323554097978,-0.08717302977834916,0.028975762285777123,0.14703779945768208,0.21973933974313897,0.04350873683654245,-0.18167696727559743,0.6793939182488491],[0.5837365554405923,-0.6758041170200015,0.7587073129479232,-0.8341691282769439,0.5977495454172644,0.52656941719387,0.7267920405929852,-0.20552214493405044,0.7605653724373929,0.8828924839613896,-0.8982146622982999,1.0,-0.09517386441308674,0.8822500292255214,0.056778256607432055,0.8933620493860011,0.8702609295089417,0.7856545901968779,-0.4507236401131579,-0.2512752672548716,-0.09492598084322657,-0.1038975130114692,0.012939964324531133,0.025749069955641295,0.03652556676095366,-0.10939548671177723,-0.08850158740639692,-0.025937012035812005,0.14344455196757794,-0.6826828956016244],[-0.08364272470310327,0.07631789411078332,-0.10204347022743136,0.054755836667976183,-0.1459912546100826,-0.11125110174964921,-0.06551330277919865,0.24453794575850535,-0.062306471115501506,-0.05275163051836447,0.08320925183287346,-0.09517386441308674,1.0,-0.03952203934496699,-0.022798395330048092,-0.13109990903954685,-0.15461941223033077,-0.14625785880319503,0.15721088289023988,-0.05279079432684365,0.10955002418038642,-0.06987080281491247,-0.04945253645979865,0.031948406862677206,-0.01771296811818097,0.06563091260967391,0.056526986291389934,-0.10635152427747653,0.08560185865823902,-0.02910694812732822],[0.4383992314711783,-0.5704727813498881,0.6602748349009478,-0.8006406925084815,0.4121076050519365,0.5794550853382908,0.5465955214042808,-0.26260491004557623,0.6739746975882901,0.767283604647801,-0.8889413393636463,0.8822500292255214,-0.03952203934496699,1.0,-0.024749292354620433,0.7719819613600304,0.7221037508187391,0.6084881191760292,-0.3611930742901732,-0.16316452576106089,-0.23443708314323009,0.03909998585741368,0.04182986173193485,0.10767874114514871,-0.07621975638028866,-0.158438545624617,-0.23291520385288741,-0.13646756898636894,0.19477642205033727,-0.746443440760117],[0.09793539260616597,-0.11159134618748656,0.09352739582653774,-0.07420716388036916,0.046377138040750554,-0.061523733182051135,0.14134579361357633,0.15180027245043426,0.08754210349852083,0.10143453501926089,-0.042131279465834226,0.056778256607432055,-0.022798395330048092,-0.024749292354620433,1.0,-0.031796349460489995,-0.0009342326162332657,-0.001978321789904383,0.20591442784364947,-0.12967918055159464,0.18807737169524502,-0.10361032708578094,-0.03992185131124625,0.04146050421030933,-0.011741927721970991,0.015367436378608783,0.13162418858868163,0.08290344001687715,0.07170542922162663,0.012784497476856465],[0.6285424143859009,-0.6318985233443739,0.7212971673300798,-0.7253563527455966,0.6746702475335187,0.4701923944345928,0.7502969981371641,-0.26021075774694163,0.7177362723636326,0.8534257636146478,-0.8058693229645647,0.8933620493860011,-0.13109990903954685,0.7719819613600304,-0.031796349460489995,1.0,0.9492532511589348,0.9021696285614694,-0.6246393844548276,-0.22718043187769654,-0.14225678791275304,-0.13759950875337762,0.023758249002633118,-0.07003610904126942,0.056903781278348595,-0.05150088365749044,-0.07389620104424735,-0.0014736945771019476,0.01002046419217107,-0.5916461750131339],[0.6744671647987466,-0.6478161836115063,0.7337269238860886,-0.7049230016082937,0.7364374638128112,0.44443166238096715,0.7806164333667436,-0.2860129228106184,0.7508555993209268,0.8536940107531041,-0.7653199981496138,0.8702609295089417,-0.15461941223033077,0.7221037508187391,-0.0009342326162332657,0.9492532511589348,1.0,0.9341130225409902,-0.6016294986579889,-0.23685141715618208,-0.11234658045827702,-0.14005864914721913,0.025828184253743232,-0.10018463689176073,0.0385642027084012,-0.038280108740992226,-0.04571442897683276,0.034077685589812536,-0.019774007564790332,-0.5510674203137315],[0.6693175163355348,-0.6029659130074156,0.6876484221481372,-0.6229106616683651,0.7234341198441706,0.3733576929781465,0.7616298009416658,-0.2590352241087058,0.6906862408564186,0.791491962972887,-0.6627744963804019,0.7856545901968779,-0.14625785880319503,0.6084881191760292,-0.001978321789904383,0.9021696285614694,0.9341130225409902,1.0,-0.5581804528546692,-0.2135617663989121,-0.07138261804697427,-0.14599292887389043,0.038740162991329846,-0.13025011465451547,0.05815166328748881,-0.015014978444252354,0.0052172027669402455,0.07833345851691507,-0.04415306631120601,-0.44899868966758993],[-0.3256920750574982,0.23922899055362457,-0.33863958154807894,0.32649974826957,-0.4127114676401283,-0.2274350819852621,-0.3841093974802609,0.23752310315791322,-0.3525849753979818,-0.4230167644308989,0.3922972785379103,-0.4507236401131579,0.15721088289023988,-0.3611930742901732,0.20591442784364947,-0.6246393844548276,-0.6016294986579889,-0.5581804528546692,1.0,0.07671848849048742,0.16727129848223912,0.1394164084692473,0.004792884561532184,0.1094774577905622,-0.16429638498134638,0.03755350720664923,0.05066576377597423,-0.044900737533199876,0.13848871580482758,0.2787148304538141],[-0.35625266787951265,0.405493355200149,-0.39670057546821946,0.3223224271131636,-0.35925022103119714,-0.05411546764612741,-0.4509933467866135,-0.19677035728570666,-0.39422231625941917,-0.4019225112884009,0.22059622097091153,-0.2512752672548716,-0.05279079432684365,-0.16316452576106089,-0.12967918055159464,-0.22718043187769654,-0.23685141715618208,-0.2135617663989121,0.07671848849048742,1.0,-0.4992595059980241,0.3285878169899203,0.2541163375600359,-0.050240170328781954,0.02801837972065417,0.009352204905508133,-0.07032926618590433,0.09647582720047891,-0.037077637313169036,0.19984542393988045],[0.11880754740109097,-0.1135085988772973,0.0673827998164619,-0.027305488200668863,0.08083331765046313,-0.23254583326115544,0.21082084877115928,0.43045737086015706,0.16533733381412147,0.11573231550496814,0.1437522207008117,-0.09492598084322657,0.10955002418038642,-0.23443708314323009,0.18807737169524502,-0.14225678791275304,-0.11234658045827702,-0.07138261804697427,0.16727129848223912,-0.4992595059980241,1.0,-0.5801550083915359,-0.13298230776648093,0.013404205344900109,0.14298805979932888,0.033789383486009184,0.3929395306201596,0.25074460544305516,0.10647197876789466,0.12845371416376816],[-0.09835091996256279,0.0740723865833051,-0.06728762059843121,0.11602696795597825,-0.09102127396298534,0.22549262490090163,-0.21530137206414643,-0.3733008725074083,-0.20370809970729886,-0.2350351798220993,0.052440441333044874,-0.1038975130114692,-0.06987080281491247,0.03909998585741368,-0.10361032708578094,-0.13759950875337762,-0.14005864914721913,-0.14599292887389043,0.1394164084692473,0.3285878169899203,-0.5801550083915359,1.0,0.2383088514876513,0.04206614194668166,-0.25826053005441435,0.05956500568930747,-0.34821888757203157,-0.19960656789467096,-0.050187295713825464,0.021148273166175145],[0.002812965696127677,0.07071303011554088,-0.007672777499507944,0.018774725548573044,-0.09554584534808837,0.26591748395117903,-0.005509398457884167,-0.3018365221287518,-0.061836460196548475,-0.04155437921243609,-0.04215323554097978,0.012939964324531133,-0.04945253645979865,0.04182986173193485,-0.03992185131124625,0.023758249002633118,0.025828184253743232,0.038740162991329846,0.004792884561532184,0.2541163375600359,-0.13298230776648093,0.2383088514876513,1.0,-0.038513343580166295,0.06877688017913411,0.04170154181797142,-0.24497917582088452,0.01872240753205449,-0.04648136840266682,-0.04003539207008935],[-0.08387840763833092,0.011151936986595314,0.00071575834211929,-0.04495459083919583,-0.1463513703392023,-0.037915426868473295,-0.07112639815398483,0.04915045504804867,-0.005064527963813074,-0.0069635113111890575,-0.08717302977834916,0.025749069955641295,0.031948406862677206,0.10767874114514871,0.04146050421030933,-0.07003610904126942,-0.10018463689176073,-0.13025011465451547,0.1094774577905622,-0.050240170328781954,0.013404205344900109,0.04206614194668166,-0.038513343580166295,1.0,-0.0468308050727288,-0.10127413947690768,-0.18701721745829789,-0.022832676274993694,0.10937366094215127,-0.04257001700390669],[-0.10771841289054186,0.13854352408522785,-0.10388664548502477,-0.017228048375571448,-0.10047503807310901,-0.15696524209120205,0.038390104960297024,0.3094199926239843,-0.017230629429698368,0.021179828360224015,0.028975762285777123,0.03652556676095366,-0.01771296811818097,-0.07621975638028866,-0.011741927721970991,0.056903781278348595,0.0385642027084012,0.05815166328748881,-0.16429638498134638,0.02801837972065417,0.14298805979932888,-0.25826053005441435,0.06877688017913411,-0.0468308050727288,1.0,0.037319160277636536,0.1937527867987842,0.166759133563317,-0.040323915880267173,0.026188124064371057],[0.019994107379860692,0.018676870151871246,-0.03244194258759353,0.155707231660927,0.03187818349362918,0.023881767310736907,0.006530059721167425,0.024706103090057777,-0.10562336680693649,-0.0513474899498096,0.14703779945768208,-0.10939548671177723,0.06563091260967391,-0.158438545624617,0.015367436378608783,-0.05150088365749044,-0.038280108740992226,-0.015014978444252354,0.03755350720664923,0.009352204905508133,0.033789383486009184,0.05956500568930747,0.04170154181797142,-0.10127413947690768,0.037319160277636536,1.0,0.09906580666535798,-0.01578203832093679,-0.10202787143617631,0.04822692410081627],[0.10366301895230622,-0.08038456224516737,-0.005870898744096088,0.04968066991526515,0.09946452643506622,-0.2402239945044125,0.15362502144760273,0.40535907550269296,0.06055589978872131,0.06536361762106252,0.21973933974313897,-0.08850158740639692,0.056526986291389934,-0.23291520385288741,0.13162418858868163,-0.07389620104424735,-0.04571442897683276,0.0052172027669402455,0.05066576377597423,-0.07032926618590433,0.3929395306201596,-0.34821888757203157,-0.24497917582088452,-0.18701721745829789,0.1937527867987842,0.09906580666535798,1.0,0.22543292267256254,0.02710581761010719,0.11052035083261959],[0.160553394719081,0.037989208343337466,0.0876312348386693,-0.044107076699733065,0.14731351367703532,-0.12883969348998753,0.12540225933319163,0.07692008478053218,0.11244870104589055,0.10981083985966927,0.04350873683654245,-0.025937012035812005,-0.10635152427747653,-0.13646756898636894,0.08290344001687715,-0.0014736945771019476,0.034077685589812536,0.07833345851691507,-0.044900737533199876,0.09647582720047891,0.25074460544305516,-0.19960656789467096,0.01872240753205449,-0.022832676274993694,0.166759133563317,-0.01578203832093679,0.22543292267256254,1.0,-0.11659022583430814,0.10375113234071366],[-0.04759337872339416,-0.24783480477427927,0.059588164545280965,-0.18375162764122605,-0.1790278130783633,0.21145310880791604,0.11577295448501333,0.1462733060333198,0.1159264414669437,0.11418763028231256,-0.18167696727559743,0.14344455196757794,0.08560185865823902,0.19477642205033727,0.07170542922162663,0.01002046419217107,-0.019774007564790332,-0.04415306631120601,0.13848871580482758,-0.037077637313169036,0.10647197876789466,-0.050187295713825464,-0.04648136840266682,0.10937366094215127,-0.040323915880267173,-0.10202787143617631,0.02710581761010719,-0.11659022583430814,1.0,-0.12066243007352585],[-0.4160862231405123,0.48857740259950216,-0.5676243608127558,0.7232519123097766,-0.34877119309144694,-0.4494060181065086,-0.4707072085193374,0.11004571443951973,-0.546691106555839,-0.6287358497623889,0.6793939182488491,-0.6826828956016244,-0.02910694812732822,-0.746443440760117,0.012784497476856465,-0.5916461750131339,-0.5510674203137315,-0.44899868966758993,0.2787148304538141,0.19984542393988045,0.12845371416376816,0.021148273166175145,-0.04003539207008935,-0.04257001700390669,0.026188124064371057,0.04822692410081627,0.11052035083261959,0.10375113234071366,-0.12066243007352585,1.0]],\"type\":\"heatmap\",\"xaxis\":\"x\",\"yaxis\":\"y\",\"hovertemplate\":\"x: %{x}\\u003cbr\\u003ey: %{y}\\u003cbr\\u003ecolor: %{z}\\u003cextra\\u003e\\u003c\\u002fextra\\u003e\"}],                        {\"template\":{\"data\":{\"histogram2dcontour\":[{\"type\":\"histogram2dcontour\",\"colorbar\":{\"outlinewidth\":0,\"ticks\":\"\"},\"colorscale\":[[0.0,\"#0d0887\"],[0.1111111111111111,\"#46039f\"],[0.2222222222222222,\"#7201a8\"],[0.3333333333333333,\"#9c179e\"],[0.4444444444444444,\"#bd3786\"],[0.5555555555555556,\"#d8576b\"],[0.6666666666666666,\"#ed7953\"],[0.7777777777777778,\"#fb9f3a\"],[0.8888888888888888,\"#fdca26\"],[1.0,\"#f0f921\"]]}],\"choropleth\":[{\"type\":\"choropleth\",\"colorbar\":{\"outlinewidth\":0,\"ticks\":\"\"}}],\"histogram2d\":[{\"type\":\"histogram2d\",\"colorbar\":{\"outlinewidth\":0,\"ticks\":\"\"},\"colorscale\":[[0.0,\"#0d0887\"],[0.1111111111111111,\"#46039f\"],[0.2222222222222222,\"#7201a8\"],[0.3333333333333333,\"#9c179e\"],[0.4444444444444444,\"#bd3786\"],[0.5555555555555556,\"#d8576b\"],[0.6666666666666666,\"#ed7953\"],[0.7777777777777778,\"#fb9f3a\"],[0.8888888888888888,\"#fdca26\"],[1.0,\"#f0f921\"]]}],\"heatmap\":[{\"type\":\"heatmap\",\"colorbar\":{\"outlinewidth\":0,\"ticks\":\"\"},\"colorscale\":[[0.0,\"#0d0887\"],[0.1111111111111111,\"#46039f\"],[0.2222222222222222,\"#7201a8\"],[0.3333333333333333,\"#9c179e\"],[0.4444444444444444,\"#bd3786\"],[0.5555555555555556,\"#d8576b\"],[0.6666666666666666,\"#ed7953\"],[0.7777777777777778,\"#fb9f3a\"],[0.8888888888888888,\"#fdca26\"],[1.0,\"#f0f921\"]]}],\"heatmapgl\":[{\"type\":\"heatmapgl\",\"colorbar\":{\"outlinewidth\":0,\"ticks\":\"\"},\"colorscale\":[[0.0,\"#0d0887\"],[0.1111111111111111,\"#46039f\"],[0.2222222222222222,\"#7201a8\"],[0.3333333333333333,\"#9c179e\"],[0.4444444444444444,\"#bd3786\"],[0.5555555555555556,\"#d8576b\"],[0.6666666666666666,\"#ed7953\"],[0.7777777777777778,\"#fb9f3a\"],[0.8888888888888888,\"#fdca26\"],[1.0,\"#f0f921\"]]}],\"contourcarpet\":[{\"type\":\"contourcarpet\",\"colorbar\":{\"outlinewidth\":0,\"ticks\":\"\"}}],\"contour\":[{\"type\":\"contour\",\"colorbar\":{\"outlinewidth\":0,\"ticks\":\"\"},\"colorscale\":[[0.0,\"#0d0887\"],[0.1111111111111111,\"#46039f\"],[0.2222222222222222,\"#7201a8\"],[0.3333333333333333,\"#9c179e\"],[0.4444444444444444,\"#bd3786\"],[0.5555555555555556,\"#d8576b\"],[0.6666666666666666,\"#ed7953\"],[0.7777777777777778,\"#fb9f3a\"],[0.8888888888888888,\"#fdca26\"],[1.0,\"#f0f921\"]]}],\"surface\":[{\"type\":\"surface\",\"colorbar\":{\"outlinewidth\":0,\"ticks\":\"\"},\"colorscale\":[[0.0,\"#0d0887\"],[0.1111111111111111,\"#46039f\"],[0.2222222222222222,\"#7201a8\"],[0.3333333333333333,\"#9c179e\"],[0.4444444444444444,\"#bd3786\"],[0.5555555555555556,\"#d8576b\"],[0.6666666666666666,\"#ed7953\"],[0.7777777777777778,\"#fb9f3a\"],[0.8888888888888888,\"#fdca26\"],[1.0,\"#f0f921\"]]}],\"mesh3d\":[{\"type\":\"mesh3d\",\"colorbar\":{\"outlinewidth\":0,\"ticks\":\"\"}}],\"scatter\":[{\"fillpattern\":{\"fillmode\":\"overlay\",\"size\":10,\"solidity\":0.2},\"type\":\"scatter\"}],\"parcoords\":[{\"type\":\"parcoords\",\"line\":{\"colorbar\":{\"outlinewidth\":0,\"ticks\":\"\"}}}],\"scatterpolargl\":[{\"type\":\"scatterpolargl\",\"marker\":{\"colorbar\":{\"outlinewidth\":0,\"ticks\":\"\"}}}],\"bar\":[{\"error_x\":{\"color\":\"#2a3f5f\"},\"error_y\":{\"color\":\"#2a3f5f\"},\"marker\":{\"line\":{\"color\":\"#E5ECF6\",\"width\":0.5},\"pattern\":{\"fillmode\":\"overlay\",\"size\":10,\"solidity\":0.2}},\"type\":\"bar\"}],\"scattergeo\":[{\"type\":\"scattergeo\",\"marker\":{\"colorbar\":{\"outlinewidth\":0,\"ticks\":\"\"}}}],\"scatterpolar\":[{\"type\":\"scatterpolar\",\"marker\":{\"colorbar\":{\"outlinewidth\":0,\"ticks\":\"\"}}}],\"histogram\":[{\"marker\":{\"pattern\":{\"fillmode\":\"overlay\",\"size\":10,\"solidity\":0.2}},\"type\":\"histogram\"}],\"scattergl\":[{\"type\":\"scattergl\",\"marker\":{\"colorbar\":{\"outlinewidth\":0,\"ticks\":\"\"}}}],\"scatter3d\":[{\"type\":\"scatter3d\",\"line\":{\"colorbar\":{\"outlinewidth\":0,\"ticks\":\"\"}},\"marker\":{\"colorbar\":{\"outlinewidth\":0,\"ticks\":\"\"}}}],\"scattermapbox\":[{\"type\":\"scattermapbox\",\"marker\":{\"colorbar\":{\"outlinewidth\":0,\"ticks\":\"\"}}}],\"scatterternary\":[{\"type\":\"scatterternary\",\"marker\":{\"colorbar\":{\"outlinewidth\":0,\"ticks\":\"\"}}}],\"scattercarpet\":[{\"type\":\"scattercarpet\",\"marker\":{\"colorbar\":{\"outlinewidth\":0,\"ticks\":\"\"}}}],\"carpet\":[{\"aaxis\":{\"endlinecolor\":\"#2a3f5f\",\"gridcolor\":\"white\",\"linecolor\":\"white\",\"minorgridcolor\":\"white\",\"startlinecolor\":\"#2a3f5f\"},\"baxis\":{\"endlinecolor\":\"#2a3f5f\",\"gridcolor\":\"white\",\"linecolor\":\"white\",\"minorgridcolor\":\"white\",\"startlinecolor\":\"#2a3f5f\"},\"type\":\"carpet\"}],\"table\":[{\"cells\":{\"fill\":{\"color\":\"#EBF0F8\"},\"line\":{\"color\":\"white\"}},\"header\":{\"fill\":{\"color\":\"#C8D4E3\"},\"line\":{\"color\":\"white\"}},\"type\":\"table\"}],\"barpolar\":[{\"marker\":{\"line\":{\"color\":\"#E5ECF6\",\"width\":0.5},\"pattern\":{\"fillmode\":\"overlay\",\"size\":10,\"solidity\":0.2}},\"type\":\"barpolar\"}],\"pie\":[{\"automargin\":true,\"type\":\"pie\"}]},\"layout\":{\"autotypenumbers\":\"strict\",\"colorway\":[\"#636efa\",\"#EF553B\",\"#00cc96\",\"#ab63fa\",\"#FFA15A\",\"#19d3f3\",\"#FF6692\",\"#B6E880\",\"#FF97FF\",\"#FECB52\"],\"font\":{\"color\":\"#2a3f5f\"},\"hovermode\":\"closest\",\"hoverlabel\":{\"align\":\"left\"},\"paper_bgcolor\":\"white\",\"plot_bgcolor\":\"#E5ECF6\",\"polar\":{\"bgcolor\":\"#E5ECF6\",\"angularaxis\":{\"gridcolor\":\"white\",\"linecolor\":\"white\",\"ticks\":\"\"},\"radialaxis\":{\"gridcolor\":\"white\",\"linecolor\":\"white\",\"ticks\":\"\"}},\"ternary\":{\"bgcolor\":\"#E5ECF6\",\"aaxis\":{\"gridcolor\":\"white\",\"linecolor\":\"white\",\"ticks\":\"\"},\"baxis\":{\"gridcolor\":\"white\",\"linecolor\":\"white\",\"ticks\":\"\"},\"caxis\":{\"gridcolor\":\"white\",\"linecolor\":\"white\",\"ticks\":\"\"}},\"coloraxis\":{\"colorbar\":{\"outlinewidth\":0,\"ticks\":\"\"}},\"colorscale\":{\"sequential\":[[0.0,\"#0d0887\"],[0.1111111111111111,\"#46039f\"],[0.2222222222222222,\"#7201a8\"],[0.3333333333333333,\"#9c179e\"],[0.4444444444444444,\"#bd3786\"],[0.5555555555555556,\"#d8576b\"],[0.6666666666666666,\"#ed7953\"],[0.7777777777777778,\"#fb9f3a\"],[0.8888888888888888,\"#fdca26\"],[1.0,\"#f0f921\"]],\"sequentialminus\":[[0.0,\"#0d0887\"],[0.1111111111111111,\"#46039f\"],[0.2222222222222222,\"#7201a8\"],[0.3333333333333333,\"#9c179e\"],[0.4444444444444444,\"#bd3786\"],[0.5555555555555556,\"#d8576b\"],[0.6666666666666666,\"#ed7953\"],[0.7777777777777778,\"#fb9f3a\"],[0.8888888888888888,\"#fdca26\"],[1.0,\"#f0f921\"]],\"diverging\":[[0,\"#8e0152\"],[0.1,\"#c51b7d\"],[0.2,\"#de77ae\"],[0.3,\"#f1b6da\"],[0.4,\"#fde0ef\"],[0.5,\"#f7f7f7\"],[0.6,\"#e6f5d0\"],[0.7,\"#b8e186\"],[0.8,\"#7fbc41\"],[0.9,\"#4d9221\"],[1,\"#276419\"]]},\"xaxis\":{\"gridcolor\":\"white\",\"linecolor\":\"white\",\"ticks\":\"\",\"title\":{\"standoff\":15},\"zerolinecolor\":\"white\",\"automargin\":true,\"zerolinewidth\":2},\"yaxis\":{\"gridcolor\":\"white\",\"linecolor\":\"white\",\"ticks\":\"\",\"title\":{\"standoff\":15},\"zerolinecolor\":\"white\",\"automargin\":true,\"zerolinewidth\":2},\"scene\":{\"xaxis\":{\"backgroundcolor\":\"#E5ECF6\",\"gridcolor\":\"white\",\"linecolor\":\"white\",\"showbackground\":true,\"ticks\":\"\",\"zerolinecolor\":\"white\",\"gridwidth\":2},\"yaxis\":{\"backgroundcolor\":\"#E5ECF6\",\"gridcolor\":\"white\",\"linecolor\":\"white\",\"showbackground\":true,\"ticks\":\"\",\"zerolinecolor\":\"white\",\"gridwidth\":2},\"zaxis\":{\"backgroundcolor\":\"#E5ECF6\",\"gridcolor\":\"white\",\"linecolor\":\"white\",\"showbackground\":true,\"ticks\":\"\",\"zerolinecolor\":\"white\",\"gridwidth\":2}},\"shapedefaults\":{\"line\":{\"color\":\"#2a3f5f\"}},\"annotationdefaults\":{\"arrowcolor\":\"#2a3f5f\",\"arrowhead\":0,\"arrowwidth\":1},\"geo\":{\"bgcolor\":\"white\",\"landcolor\":\"#E5ECF6\",\"subunitcolor\":\"white\",\"showland\":true,\"showlakes\":true,\"lakecolor\":\"white\"},\"title\":{\"x\":0.05},\"mapbox\":{\"style\":\"light\"}}},\"xaxis\":{\"anchor\":\"y\",\"domain\":[0.0,1.0]},\"yaxis\":{\"anchor\":\"x\",\"domain\":[0.0,1.0],\"autorange\":\"reversed\"},\"coloraxis\":{\"colorscale\":[[0.0,\"rgb(5,48,97)\"],[0.1,\"rgb(33,102,172)\"],[0.2,\"rgb(67,147,195)\"],[0.3,\"rgb(146,197,222)\"],[0.4,\"rgb(209,229,240)\"],[0.5,\"rgb(247,247,247)\"],[0.6,\"rgb(253,219,199)\"],[0.7,\"rgb(244,165,130)\"],[0.8,\"rgb(214,96,77)\"],[0.9,\"rgb(178,24,43)\"],[1.0,\"rgb(103,0,31)\"]]},\"margin\":{\"t\":60}},                        {\"responsive\": true}                    ).then(function(){\n",
              "                            \n",
              "var gd = document.getElementById('2283f425-1bcd-4235-8387-ecaec41241c0');\n",
              "var x = new MutationObserver(function (mutations, observer) {{\n",
              "        var display = window.getComputedStyle(gd).display;\n",
              "        if (!display || display === 'none') {{\n",
              "            console.log([gd, 'removed!']);\n",
              "            Plotly.purge(gd);\n",
              "            observer.disconnect();\n",
              "        }}\n",
              "}});\n",
              "\n",
              "// Listen for the removal of the full notebook cells\n",
              "var notebookContainer = gd.closest('#notebook-container');\n",
              "if (notebookContainer) {{\n",
              "    x.observe(notebookContainer, {childList: true});\n",
              "}}\n",
              "\n",
              "// Listen for the clearing of the current output cell\n",
              "var outputEl = gd.closest('.output');\n",
              "if (outputEl) {{\n",
              "    x.observe(outputEl, {childList: true});\n",
              "}}\n",
              "\n",
              "                        })                };                            </script>        </div>\n",
              "</body>\n",
              "</html>"
            ]
          },
          "metadata": {}
        }
      ],
      "source": [
        "corr = new_df.corr()\n",
        "fig=px.imshow(corr, aspect=\"auto\" ,color_continuous_scale='RdBu_r')\n",
        "fig.show()"
      ]
    },
    {
      "cell_type": "markdown",
      "id": "a7c45385",
      "metadata": {
        "id": "a7c45385"
      },
      "source": [
        "Negative Correlations: V17, V14, V12 and V10 are negatively correlated.  \n",
        "Positive Correlations: V2, V4, V11 are positively correlated."
      ]
    },
    {
      "cell_type": "markdown",
      "source": [
        "Note-Used chatgpt to understand the correlations. As the features are anonymised it was difficult to conclude and get relationship and dependency on eachother."
      ],
      "metadata": {
        "id": "wohTACT30gK_"
      },
      "id": "wohTACT30gK_"
    },
    {
      "cell_type": "code",
      "execution_count": null,
      "id": "Mzekq9GppDUe",
      "metadata": {
        "colab": {
          "base_uri": "https://localhost:8080/"
        },
        "id": "Mzekq9GppDUe",
        "outputId": "2609aadb-e591-4968-eaa7-28bf0aacdaa4"
      },
      "outputs": [
        {
          "output_type": "stream",
          "name": "stdout",
          "text": [
            "Highly Correlated Feature Pairs (|r| > 0.9):\n",
            "V16 ↔ V17: r = 0.95\n",
            "V16 ↔ V18: r = 0.90\n",
            "V17 ↔ V18: r = 0.93\n"
          ]
        }
      ],
      "source": [
        "# Calculate absolute correlation matrix (optional: choose df or new_df)\n",
        "corr_matrix = new_df.corr().abs()\n",
        "\n",
        "# Select upper triangle of correlation matrix to avoid duplicates and self-correlation\n",
        "upper = corr_matrix.where(np.triu(np.ones(corr_matrix.shape), k=1).astype(bool))\n",
        "\n",
        "# Set threshold\n",
        "threshold = 0.9\n",
        "\n",
        "# Find feature pairs with high correlation\n",
        "high_corr_pairs = [(col1, col2, corr_matrix.loc[col1, col2])\n",
        "                   for col1 in upper.columns\n",
        "                   for col2 in upper.columns\n",
        "                   if (upper.loc[col1, col2] > threshold)]\n",
        "\n",
        "# Display results\n",
        "print(\"Highly Correlated Feature Pairs (|r| > 0.9):\")\n",
        "for f1, f2, corr_value in high_corr_pairs:\n",
        "    print(f\"{f1} ↔ {f2}: r = {corr_value:.2f}\")"
      ]
    },
    {
      "cell_type": "markdown",
      "id": "09014a1a",
      "metadata": {
        "id": "09014a1a"
      },
      "source": [
        "### TSNE"
      ]
    },
    {
      "cell_type": "code",
      "execution_count": null,
      "id": "64e561a6",
      "metadata": {
        "id": "64e561a6"
      },
      "outputs": [],
      "source": [
        "from sklearn.manifold import TSNE\n",
        "X = new_df.drop('Class', axis=1)\n",
        "y = new_df['Class']\n",
        "\n",
        "# T-SNE Implementation\n",
        "X_reduced_tsne = TSNE(n_components=2, random_state=42).fit_transform(X.values)"
      ]
    },
    {
      "cell_type": "code",
      "execution_count": null,
      "id": "1b1e39a4",
      "metadata": {
        "colab": {
          "base_uri": "https://localhost:8080/",
          "height": 542
        },
        "id": "1b1e39a4",
        "outputId": "b2b15b11-c316-416f-ab0f-743c580eca1f"
      },
      "outputs": [
        {
          "output_type": "display_data",
          "data": {
            "text/html": [
              "<html>\n",
              "<head><meta charset=\"utf-8\" /></head>\n",
              "<body>\n",
              "    <div>            <script src=\"https://cdnjs.cloudflare.com/ajax/libs/mathjax/2.7.5/MathJax.js?config=TeX-AMS-MML_SVG\"></script><script type=\"text/javascript\">if (window.MathJax && window.MathJax.Hub && window.MathJax.Hub.Config) {window.MathJax.Hub.Config({SVG: {font: \"STIX-Web\"}});}</script>                <script type=\"text/javascript\">window.PlotlyConfig = {MathJaxConfig: 'local'};</script>\n",
              "        <script charset=\"utf-8\" src=\"https://cdn.plot.ly/plotly-2.35.2.min.js\"></script>                <div id=\"cc798643-2cbc-4085-b325-78f511c413b4\" class=\"plotly-graph-div\" style=\"height:525px; width:100%;\"></div>            <script type=\"text/javascript\">                                    window.PLOTLYENV=window.PLOTLYENV || {};                                    if (document.getElementById(\"cc798643-2cbc-4085-b325-78f511c413b4\")) {                    Plotly.newPlot(                        \"cc798643-2cbc-4085-b325-78f511c413b4\",                        [{\"hovertemplate\":\"x=%{x}\\u003cbr\\u003ey=%{y}\\u003cbr\\u003ecolor=%{marker.color}\\u003cextra\\u003e\\u003c\\u002fextra\\u003e\",\"legendgroup\":\"\",\"marker\":{\"color\":[0,1,1,1,1,1,1,1,1,1,1,1,1,0,0,1,1,1,1,0,0,0,0,0,0,1,1,1,0,0,0,0,0,1,0,0,0,0,0,0,1,1,1,0,0,1,1,1,0,0,0,1,0,1,1,1,0,0,1,0,0,0,0,1,0,1,0,0,1,0,1,0,1,1,0,0,1,0,1,0,0,0,0,1,0,0,1,0,0,0,1,0,0,0,1,0,1,0,1,0,1,1,1,1,1,0,1,1,0,0,0,1,1,0,0,0,1,0,1,1,0,0,0,0,0,1,0,0,1,0,0,0,0,1,0,1,1,1,0,1,1,1,1,0,1,1,0,1,0,1,1,1,0,0,1,0,0,0,0,1,1,0,1,0,1,0,1,0,1,1,1,0,0,0,0,1,0,1,0,0,1,0,0,0,1,0,0,1,0,1,0,1,1,0,1,1,0,1,0,1,1,0,1,1,1,1,0,1,1,0,0,1,1,1,0,1,0,1,1,1,0,0,0,0,1,0,1,0,0,0,0,1,0,1,1,1,1,1,1,1,0,0,1,0,1,1,1,1,0,0,0,0,1,1,1,0,0,0,0,1,0,1,0,1,1,1,0,1,0,1,1,1,1,0,0,1,1,0,0,0,1,0,0,1,0,0,1,0,0,0,0,0,1,1,0,1,1,1,1,0,1,0,1,1,0,0,0,1,0,0,0,0,0,1,1,1,1,1,0,1,0,1,1,0,1,1,1,1,0,1,1,0,1,1,1,0,1,1,0,1,1,1,1,1,0,1,1,0,0,1,1,0,1,1,1,0,1,0,1,1,1,0,1,0,1,1,1,0,1,1,0,0,0,1,1,0,0,0,1,0,0,0,0,1,0,0,0,1,1,1,0,1,1,1,1,0,1,1,1,1,1,0,1,0,0,1,0,0,0,1,0,0,0,0,0,1,1,0,0,0,1,1,1,1,0,0,1,1,1,1,0,1,1,0,1,1,0,0,0,0,0,0,1,1,1,0,1,1,1,1,0,0,0,0,1,1,1,1,1,0,0,0,1,1,0,0,0,1,1,0,1,0,1,1,0,1,0,0,0,0,1,1,1,1,0,1,0,1,1,1,1,1,0,0,0,0,1,1,0,0,0,1,0,0,1,1,1,0,0,1,0,0,1,0,1,1,1,0,1,1,1,1,0,1,0,0,0,0,1,1,0,0,1,0,0,1,1,1,1,1,0,0,0,1,1,0,1,1,0,1,1,0,1,1,0,1,1,1,0,1,1,0,0,0,1,0,0,1,1,1,0,0,0,0,1,1,0,0,0,1,1,1,1,0,0,1,1,0,1,1,0,0,0,0,0,0,0,1,0,1,0,1,1,0,1,0,0,0,0,0,1,0,0,1,1,0,1,0,1,1,1,0,1,1,0,0,0,1,0,0,0,0,0,0,0,1,0,1,0,0,0,1,1,0,1,1,1,0,0,0,1,1,1,1,0,1,0,0,1,0,1,1,0,1,1,0,0,0,0,0,1,0,1,1,1,0,0,0,0,0,0,1,1,0,0,0,0,1,1,1,1,1,0,0,1,0,1,0,1,1,1,1,1,1,1,1,1,0,0,0,1,0,1,0,0,0,1,0,0,0,0,0,0,0,0,1,0,0,1,0,1,0,1,0,1,0,0,0,1,0,0,1,0,0,1,0,1,0,0,1,1,0,0,0,1,1,1,1,0,0,1,1,0,0,0,0,0,0,0,0,0,0,0,0,1,1,0,1,0,1,0,1,0,0,0,0,0,0,1,0,1,0,0,0,1,0,0,1,1,0,1,0,0,1,1,0,0,0,0,0,0,0,0,1,0,0,0,1,0,1,1,0,1,1,1,0,1,0,0,1,1,1,0,1,0,0,1,1,1,0,1,0,0,0,1,0,1,1,1,0,1,1,0,1,0,1,1,0,0,0,1,0,1,0,1,1,0,0,0,1,1,1,0,0,1,0,0,0,0,1,0,1,1,0,0,0,1,1,1,0,0,1,1,1,1,1,0,1,0,1,1,1,0,1,1,1,0,0,0,0,0,0,0,0,1,0,0,0,0,1,0,0,0,0,0,1,0,0,0,0,1,1,1,1,1,1,1,1,0,1,0,1,0,1,0,1,0,0,1,1,1,1,1,1,1,1,0,1,0,1,1,1,0,1,1],\"coloraxis\":\"coloraxis\",\"symbol\":\"circle\"},\"mode\":\"markers\",\"name\":\"\",\"orientation\":\"v\",\"showlegend\":false,\"x\":[1.6435446,27.008282,-44.444614,2.9880424,-22.288298,-8.783716,-28.285149,-28.51819,-17.721037,16.063627,-25.794325,-39.34672,-23.254473,11.901917,33.267193,-7.099026,-34.126747,-26.503292,-23.126656,31.117504,0.37487423,6.19164,24.757034,25.604156,29.78421,-33.529846,-19.69627,-36.438763,16.230124,20.033764,3.5573964,12.901406,2.2390363,-40.418106,1.6618457,28.05429,11.384017,15.549364,12.2500725,-0.3408832,-22.983154,-3.4528227,-40.178726,15.069839,17.03739,-28.209036,6.1180024,-38.554993,19.357922,23.207048,9.210505,-33.517834,9.026016,-41.118046,-41.047043,-24.84255,9.795594,13.247905,-23.421467,30.580906,16.33785,34.626427,4.0481267,-41.74529,22.130585,-29.556665,31.826944,18.242367,-31.56711,13.933092,-46.034286,11.683353,-28.98297,9.210546,10.980864,14.787902,-14.169741,0.39597777,-17.621485,17.523497,-3.6635933,29.823729,6.6505103,-30.240486,29.927963,2.3149908,-41.13612,4.1037626,20.076317,18.967941,-16.065962,-1.7996627,33.4957,35.41188,-26.152618,0.84646004,-15.962687,13.48799,7.367537,-1.9170862,-16.069635,-31.994131,-41.67251,-0.77307403,-0.5381419,10.360087,-27.658756,-30.138294,15.60644,33.87721,23.030956,-3.141826,-24.953331,26.001188,17.162233,23.54487,-41.539463,22.208267,-3.257277,6.1451187,10.493474,21.76044,31.003721,16.38006,15.805347,-41.699013,32.98732,29.838535,-40.254623,15.343461,0.2034646,5.0334387,15.179588,0.58147657,29.990358,-19.458572,-25.379354,7.487229,4.4596834,-25.511171,-42.977974,-13.147158,-7.172554,23.893984,17.965895,-26.908985,1.5837198,-38.788868,23.476128,-31.236805,-22.175013,-21.086786,34.058975,-3.768008,-44.937237,-2.8856022,-3.2184324,24.992065,4.7760134,-33.63575,-24.5157,17.763147,-39.97052,7.350661,-9.666985,37.367367,-41.039806,21.713707,-34.730366,-25.119432,-9.040533,6.5717516,24.116978,-1.2495878,-4.1338954,-23.21678,2.7752328,-11.443026,-2.2881565,7.0083113,-40.940735,14.28158,17.427143,23.069216,-40.33639,22.669973,5.7983594,-18.63167,10.555774,18.911024,23.194878,-31.139963,-22.17144,18.088142,-28.183426,5.0301585,-8.659921,27.74382,2.254624,-25.709213,-9.353877,7.16455,7.370408,-36.594185,-17.603554,-17.129055,23.794464,-13.087995,7.040318,14.394755,-0.06323314,-25.201616,-27.798096,-10.123335,24.251303,-39.11359,-2.555714,-40.570526,12.134524,-7.977545,20.277876,-1.5056783,-2.321328,17.812317,-17.193716,-4.561253,-37.24592,5.7636485,30.598846,19.515905,-2.3514216,7.1627836,16.99094,-3.9074469,-22.893414,-0.45127058,-41.715847,-9.199124,-21.654003,-33.549484,17.873604,19.956028,-8.810854,15.443129,-41.008606,-24.33073,-33.29302,-23.379906,31.591944,31.811071,12.548651,7.7938547,-33.174145,-0.6564097,-9.989126,33.694508,-2.069501,34.400482,18.795057,-38.07365,28.757114,7.0364547,2.0780396,-19.979816,-38.84331,13.206389,-4.4767156,-42.316227,19.301794,-32.669308,-43.2277,-20.807632,-36.85736,35.449894,-3.3492525,9.174338,-1.2380469,23.827475,22.18863,14.712257,-40.05175,32.75557,8.458221,-9.960451,22.650553,0.3819873,-39.867672,-2.8210464,18.027428,22.104607,7.308372,33.612446,-21.989874,-17.88879,7.980546,19.029375,-39.78418,-41.58036,-41.34664,2.5132225,-25.065474,20.443851,-24.210957,-10.931418,32.67958,32.571503,30.894892,-28.095793,4.516976,25.562134,15.839997,3.1563566,30.32426,-36.879974,-28.861658,-17.125193,-19.403255,-27.805307,0.17247997,2.3013892,24.21595,-33.103127,-19.373425,11.017802,-30.935587,-29.992073,-7.9065022,-46.445103,2.0304663,11.424619,-28.766136,11.387584,-31.331264,-37.850765,-46.496,27.743294,-41.819744,-24.369974,28.868786,-32.23985,-32.882328,-34.736702,12.083143,-41.24174,25.373005,-39.104805,-3.6732576,20.647738,9.416502,-28.334183,-40.600555,10.143538,-18.032621,8.8215065,-2.7559912,0.71282446,-34.906,9.582547,-27.7482,-19.574003,-34.811695,32.72167,-2.2791064,-2.0921512,-39.133167,-9.348022,-41.70458,34.40972,-13.442273,-38.35802,15.917366,32.608498,18.755775,-20.202297,-10.925527,20.819674,15.578141,4.0864367,-18.414986,12.8513975,32.346397,0.013074047,6.2747808,-39.937412,23.124525,25.1825,9.402288,9.191279,-28.137238,-38.64641,32.90604,5.139156,-27.17807,-40.964787,-40.776756,17.270227,-8.514158,-12.180346,-26.630318,-1.3069388,-40.715775,16.974726,2.10084,19.244219,8.862424,-37.486782,14.568945,2.378401,3.5825882,-28.712652,7.6714025,22.108982,2.7394454,16.387968,24.91842,-36.885563,-24.58777,7.2859764,1.2508835,10.68836,-44.88185,-25.546808,-40.065006,-13.712683,11.997183,10.974328,-1.7093978,-9.641903,-39.79279,-33.68699,34.484947,-39.16732,33.879547,28.07326,-27.462341,-40.971252,23.380167,3.31191,24.322386,2.1417243,20.407446,-4.567419,-30.315702,-17.714357,-19.865961,12.186641,-26.672302,-37.01925,-38.551693,-22.942553,8.223928,30.281145,18.32204,14.497634,-31.464043,-40.45774,-19.778343,-23.748898,-36.28136,22.9021,20.156036,12.8579645,6.626665,-23.187347,34.39589,9.109988,21.333323,-29.755966,-33.361275,2.0258873,14.463267,-2.7480416,-2.096665,-35.069023,5.4478226,-27.879297,8.8065605,10.116115,6.7081156,22.815655,-25.755943,-41.402855,6.623412,-25.131624,18.57541,-20.691296,16.621887,-34.964645,-41.131546,-8.960333,11.1956005,-25.034943,5.814812,1.3173652,24.704765,11.3468275,-19.780603,30.472456,30.703865,29.733364,8.386303,19.292677,24.209812,29.561676,-24.300127,-36.99391,-24.314384,-4.708128,24.91132,-25.447952,23.309498,9.343901,-40.742126,4.8418145,5.8382463,-38.735905,-11.07657,11.085103,-33.96468,-30.839094,-1.4359668,-27.947418,18.395252,-37.055107,27.972614,15.521894,0.409436,-9.876319,-34.877087,-24.308268,18.033747,17.501604,-1.5053799,16.76883,15.393073,-13.235512,-33.560867,11.754586,-16.151756,-40.171604,10.501228,30.903625,-9.90319,9.216865,-1.3492149,33.09442,-9.754495,-36.037743,26.436638,-31.065796,-40.480167,22.953506,6.1635175,-22.982204,15.91482,-7.573318,-26.445179,-38.534885,-2.3196447,-40.84315,-23.912453,8.796705,22.04074,22.787342,-37.72872,22.259136,-3.017845,-41.792164,-38.926197,-40.479748,25.684795,23.31835,19.152409,28.883825,-41.50904,-22.595354,-9.926985,3.5611072,16.391066,-40.50344,-9.159934,-21.928556,-31.230782,-1.2785469,31.102789,-22.884066,-36.567684,23.116356,30.70526,-9.812038,7.8729568,21.826824,-2.107225,10.522328,15.761107,9.105296,14.37583,21.432629,9.615349,-33.953934,35.226757,2.5412517,-21.195759,14.721969,-35.403233,4.3439913,24.616158,33.674088,23.314903,28.469963,-30.918781,34.19535,16.011923,-35.30929,-14.847001,21.206501,-11.616776,-1.8589021,-28.181414,-36.500046,-20.639929,17.955717,-9.851397,-23.927382,21.041914,21.26313,10.891885,-27.415865,25.06189,33.62149,27.650873,29.129852,16.69212,7.8265004,-3.747762,-26.87884,25.567717,-11.599,-2.7788618,17.716806,16.80083,-11.590371,5.8902807,9.939841,-26.813753,-19.727898,-28.211954,32.43456,-4.1223154,25.393587,6.543177,-22.177113,-25.942734,-12.0872965,37.31528,-7.5704327,17.604322,18.493544,-26.382246,18.785194,-19.235855,-38.984695,32.972046,-32.508812,-24.309635,6.7904468,34.133648,18.897543,2.6565862,27.217808,-42.70021,-0.20135865,-25.938261,-20.836464,-0.04577489,31.677397,29.341167,0.9058673,14.578011,7.0364194,30.577335,-16.369703,-37.76802,-2.3525002,32.123497,30.124783,3.919522,-30.16207,-38.54688,-1.6566222,-36.586792,-40.650143,23.95905,27.623913,-7.2662487,-7.556266,-38.531208,24.51659,-29.719322,-30.73736,-36.83543,-43.70918,-27.975409,0.085970536,4.732895,-37.086308,-26.163776,22.086031,14.310607,18.0153,-26.173346,19.33112,-28.2101,29.928738,3.1485596,7.386079,-28.705212,17.46231,23.22348,17.731602,16.577705,-9.996219,18.196234,14.306364,8.878487,-35.371014,24.447214,29.754734,-26.652615,8.392234,-10.542818,23.72519,-18.772383,17.077566,-2.5881472,2.6007977,33.19816,-3.34767,-17.814083,26.132673,8.966753,1.2674317,17.178835,32.724255,-32.727493,29.770563,-20.476742,25.25984,4.266454,-33.059124,-34.738823,9.769492,16.522596,4.9567485,-27.56736,4.8108163,-1.2330428,-10.645289,33.077892,15.773716,-36.36899,-22.882408,24.663181,27.691778,10.00554,4.4760375,22.142717,16.504377,28.612446,11.759688,15.540458,9.238845,9.344453,3.5935035,-17.89375,2.3026125,4.4482803,-33.11545,25.117136,-39.36686,1.8503737,4.526991,2.6118298,11.591003,23.91029,20.720392,14.651038,30.857283,7.317986,18.2865,-33.1343,-2.7193131,31.009544,13.386325,-33.569256,12.904059,7.5105987,-37.10646,-35.262135,3.6410797,-23.651316,6.516045,-0.67141175,2.8229475,-10.238189,0.3351955,-3.947842,-1.5313157,2.894719,0.9717951,-2.8529508,-2.1611905,16.107372,-32.2913,13.651287,34.79741,8.634542,-16.865177,4.281627,-40.435337,-9.912897,2.3314877,-2.079041,-39.61923,-37.092773,31.012358,-25.819565,34.615986,15.823883,-39.06997,-43.435375,-37.551083,9.727472,-36.958557,18.503748,9.207223,-29.000088,-31.882793,-41.018127,-1.4626797,-43.038322,30.51653,8.83368,25.519493,-0.9910386,22.166275,-34.91149,2.115527,-34.684265,35.324413,-3.4299624,-16.865732,5.846497,-30.912565,19.011541,-22.00004,-38.63735,22.437712,0.49439007,30.635418,18.44521,14.445712,-21.245176,20.789448,-14.47001,-19.326565,15.2445,2.6649256,13.284346,2.2295613,-32.613865,-16.064072,-1.233053,2.6755466,-16.85156,18.768688,25.319548,15.412441,24.882671,-36.342617,9.015661,2.5042267,-33.10011,-0.7042492,29.515226,4.0942945,-41.16607,-24.31452,-39.000145,5.6239634,17.847538,-24.308416,-41.844994,-7.168954,-26.63526,16.041727,2.379415,-33.34244,32.795006,-8.963604,2.8607025,-22.299065,-7.593397,-26.239214,-2.4649522,-23.951756,7.76461,34.96894,8.711528,2.1101973,2.6713886,0.67878914,1.4514008,19.77921,-36.976074,-0.38363424,23.949984,21.565054,16.703093,-36.98749,32.12196,2.05174,35.92492,4.085155,8.536205,-39.751415,2.4713728,30.698305,19.56064,28.786726,18.241882,-35.092335,-35.13447,-33.153534,18.140535,-45.53016,-21.756538,-39.21993,5.582211,-38.704662,0.9221873,-7.278537,6.995272,-35.184826,13.192249,-43.474148,34.709393,-0.53580105,-26.7762,-2.8629942,9.594366,-39.30681,-36.7822,-31.638506,-20.957748,-27.967003,12.17528,-39.91423,-2.116659,-2.2274754,-22.852356,10.551206,10.032493,-40.638775,-34.702183],\"xaxis\":\"x\",\"y\":[3.1825817,6.488747,24.615925,-7.5984654,-28.808819,-29.519163,-12.920593,-22.078453,-9.197762,-6.8204494,-26.110447,29.110588,-30.937265,0.6476763,-10.546983,-29.873104,-10.792501,-31.587543,-31.313494,1.4644341,0.25843957,8.361623,-3.290105,-2.369787,-2.5728786,29.890112,-29.003956,30.26567,23.787285,18.104551,15.681808,14.480883,16.247122,29.828209,3.9133768,10.49482,14.043361,23.640501,11.78318,21.283743,-30.01231,-12.5670395,-13.624272,-2.7730005,-9.175461,-13.218671,21.352413,30.375795,-0.887821,-7.9318113,24.952219,30.076588,7.677516,19.809063,16.784613,-27.262619,12.384913,0.97661304,-28.822676,14.890062,9.429849,-11.735258,20.958101,-11.387788,-7.4787784,-26.095448,13.103433,-2.164385,-10.541224,3.6741116,24.333609,8.155283,-19.576777,-1.6591278,-12.4956665,10.724683,-32.457172,8.995191,-32.870667,9.104894,5.259918,2.5184402,16.86277,-11.991873,-4.7195015,13.378521,-13.575548,21.16477,1.8720709,-3.058068,-21.370413,11.177443,-7.3217564,-10.213181,-28.687939,7.6602855,-21.897661,14.222859,-9.363548,4.977423,-7.467914,-10.639268,17.339352,4.4581437,12.945567,-2.5024345,-22.768894,-13.206833,-2.636829,-9.563242,17.841578,-12.532,-29.272667,-4.229092,-2.6926508,-0.62303585,18.442186,-2.305724,-10.437955,1.9981658,-12.966182,-1.7182323,1.0443034,23.83291,-3.2118468,16.226372,-12.48428,-1.8530577,16.118599,23.312124,0.9638588,21.588432,-1.8107433,-9.670022,14.740824,-33.419846,-28.570868,-6.937082,8.570432,-20.012495,26.404423,-32.57913,-29.294094,-1.2252026,-10.7428875,-28.283083,13.231323,-10.650342,20.64037,-27.431522,-18.208244,-33.29399,8.383245,3.0285912,24.161236,5.977993,21.840143,11.367774,11.6533575,-23.88795,-28.505846,24.388603,26.843174,11.780279,-33.646244,-11.761985,28.604788,1.2877327,-12.331383,-30.935797,-28.162714,13.291148,-7.0140147,8.523779,6.526179,-25.712818,12.787251,-32.320652,-4.659938,10.912512,18.23934,-14.524455,4.04597,-5.4853053,23.86339,-0.92713875,15.128663,-26.317734,10.118829,-8.770488,-0.37040228,-24.097834,-18.201958,1.8329045,-18.62446,-3.2641354,11.738464,6.3553696,16.022383,-17.316557,-33.63954,11.287882,-9.352557,-8.825429,-9.098464,-26.086329,17.875235,-31.177029,23.142096,9.165911,0.8052781,-34.776176,-35.35828,-34.37604,-5.170846,-12.736427,19.223532,15.808992,16.005938,-30.775803,14.91615,-0.12340655,8.804035,26.770731,-21.926785,19.138428,32.411686,8.647391,1.217659,-8.183347,19.020927,26.611784,24.390724,-10.738017,-34.827534,-11.283912,16.890049,-31.880478,-29.062973,30.584337,26.729433,1.7810731,-29.177057,-2.475659,19.283234,-25.592747,-12.450343,-29.460386,11.20545,-0.2535704,12.357127,23.496304,31.253473,12.474705,-31.308916,-7.6821666,-5.7250814,7.9303403,-3.2539272,29.56212,7.2043624,1.6700717,11.373343,-35.30788,-10.247542,-0.7845484,12.131708,27.674429,-5.6147923,-20.985905,24.959616,-34.758907,-9.781741,-10.45037,21.458332,-1.3254765,-9.569985,18.5594,-2.1029396,-2.871566,28.044794,11.58633,12.679464,-31.235289,-3.610697,11.112992,23.974003,4.4872,7.2227063,4.434042,18.15043,9.199325,-23.66891,-32.96978,14.676761,-9.801771,-13.680244,28.977337,19.488766,4.353044,-31.989206,-0.19071633,-29.611464,-32.856945,7.4050026,11.516239,11.721558,-20.472317,13.454288,17.010899,10.471859,16.879723,14.001955,-9.992582,-20.929962,-26.080969,-26.720728,-35.353596,8.07053,2.117025,8.141953,-12.592073,-33.43544,-15.037981,-13.728179,-13.264094,-30.657904,24.271214,7.045826,7.635714,-23.736456,-15.385834,-27.233551,31.909477,24.258245,4.3483167,-11.1392,-10.807812,16.91907,-13.171931,-13.209172,-14.268768,15.003745,29.711147,-3.0412161,-8.93845,0.061622094,11.502916,4.1279683,-29.96791,17.834696,17.712702,-31.697104,-8.51051,-12.627755,16.20974,-14.671681,11.447086,-35.063564,-29.140804,-12.77445,7.7446637,-11.142618,8.848385,-10.130905,-31.934847,17.969696,-12.866264,-32.469414,-12.645692,1.0390809,-10.475431,-0.8418109,-35.51561,8.832054,10.782564,9.622287,7.50324,-30.002403,-1.6878289,-13.344299,9.170289,7.3540893,29.73192,-8.701144,2.18995,14.756251,-1.6257901,-32.66484,-11.006976,-12.47139,-9.796276,-29.889944,-12.985822,18.713247,-4.220584,-29.965569,-29.477451,-19.688967,11.646965,28.640638,-9.123087,-10.482855,4.0353737,20.683323,32.073257,15.549988,11.209722,12.274344,-23.733902,14.983753,-0.91666204,10.442241,3.5457141,11.170912,-11.297541,-21.513512,5.974845,12.967943,-14.147879,24.630926,-18.317385,25.621534,-4.56164,-0.81942046,-2.1547542,-9.351072,-28.26344,24.182247,-22.836433,7.3482304,-12.556601,5.9682474,10.496667,-32.05868,-12.830474,-10.309757,13.46766,20.305698,5.757747,15.208593,12.161061,-20.46043,-9.193213,-32.138363,0.047207516,-26.896528,-5.177305,-8.464002,-26.228527,23.324448,12.944723,2.896867,-12.403352,-19.565683,17.238262,-17.173811,-27.866125,31.89587,3.9788218,-6.0717506,8.663547,4.6585617,-25.79377,6.730057,-8.273906,-3.9161146,-16.267845,-11.126025,4.8718863,-4.8300295,3.408627,-13.006723,32.78711,15.978607,-12.378521,-9.538124,-7.316033,13.367321,-8.394522,-17.265068,15.589657,-9.372296,-27.88363,25.210691,-26.87648,1.5123872,-11.252759,17.550047,11.05244,16.912167,-30.526804,15.026369,19.042336,1.8119097,24.50634,-31.90068,-0.87970877,8.282984,2.542743,17.96198,4.23655,-7.116345,1.371237,-28.15903,-5.4715977,-10.386146,20.250784,-0.29697132,-29.687124,2.300587,6.6458573,23.33241,10.683193,2.1512558,24.348417,-34.023975,10.7853775,-22.042376,-23.474186,-8.096249,-12.421309,7.93159,-4.6238275,5.6618247,-0.3507783,17.035633,9.172871,-11.53585,-10.273663,0.28728664,23.0178,-8.691748,25.765812,-1.5913259,-32.246723,29.731089,9.340009,-22.907288,23.151379,12.962915,13.599778,8.982462,-10.825499,-9.543321,-10.817099,-28.808037,-9.001527,-2.1193397,-19.04898,-9.574426,-1.3571151,25.603056,-30.529324,5.0220838,11.423021,-28.27725,27.629417,-4.2948303,15.407033,-29.51513,7.041974,-6.73949,-6.170474,30.582926,18.068457,17.870367,-11.276296,30.218151,23.673529,-2.159717,20.676447,-0.9400155,7.754639,18.904835,-26.484324,7.943364,10.912113,25.33212,16.677843,-28.024992,-30.663294,-14.291942,3.8786843,14.131119,-33.76127,30.140888,2.5598345,-0.39843208,-34.457542,17.94792,17.845625,1.7162485,-2.2529955,2.658683,24.212458,-13.1824045,17.308365,-13.72949,-22.051943,-13.355698,-8.089559,-30.576683,-13.151643,31.485298,13.860103,8.942116,12.091839,-3.529691,17.024637,-23.185854,6.6504626,20.915312,31.767439,-5.9540815,-4.9198074,-32.11523,17.271532,-27.96435,29.586477,-30.010286,-1.9857289,-28.543484,-25.418337,-3.6604533,-6.0482383,-14.817135,-19.788868,12.243389,12.191627,16.47434,13.175349,17.410088,26.017712,18.162699,-18.172995,-10.8870535,-32.622917,4.9141603,23.59828,-0.8912767,-32.62269,10.23551,-15.225831,-21.533337,-17.175007,-18.513466,15.461592,21.361965,-11.390236,16.287117,-30.43644,-31.411306,-29.602617,-11.708602,11.367094,24.309954,2.9044337,-22.632347,-2.1388252,-30.7182,29.68442,6.7948213,-10.412088,-10.162531,9.600085,-8.536969,-7.5714254,12.567507,6.345074,25.287085,9.605831,-16.229956,-33.193806,14.456105,7.0985913,13.027333,6.3382363,-13.212469,8.241792,13.981126,-22.79208,31.217165,14.51342,15.562543,14.011278,21.898878,-13.202101,27.652706,-8.818056,-10.700981,29.574982,-1.3634272,9.089687,8.425091,6.9202347,28.449814,-0.3601377,-16.190514,-22.439354,-10.982332,25.41982,-31.770252,12.6555195,0.9282972,-4.49478,-18.23026,-9.129774,-14.222498,23.930735,-30.045244,-2.8744886,-17.228104,13.164671,16.299932,5.973515,-19.58952,-10.634898,-7.8152714,4.745235,16.769382,8.83641,3.9714348,-0.44034368,11.072515,33.125652,-2.9123423,17.037077,-32.346687,23.43723,-32.66415,17.740992,-33.536385,18.608204,-12.677689,21.808918,13.416101,3.063806,-22.987335,20.176327,21.148018,-10.411496,-2.0401895,-11.031061,-20.978153,-0.32788998,-26.406935,-7.1649065,14.619552,30.509085,-13.949315,-14.947375,9.216665,6.1076837,-22.812204,23.21572,-8.819093,-32.047115,-12.059082,-0.48478895,32.30363,-17.480495,20.319094,16.703342,-11.299039,17.303402,4.372127,22.173851,15.40509,20.087297,22.26341,-13.319717,4.157423,12.066596,-29.324003,-8.509849,20.063974,-20.558168,11.935013,27.55589,9.343531,-9.978734,13.904606,-12.900532,0.04931719,17.561937,3.589988,13.796809,25.036875,4.002556,-20.582695,18.095314,11.627141,24.0885,-22.554379,9.7323885,8.378041,-11.853258,-9.870163,3.548598,-28.197514,10.796727,-8.286038,-10.301694,-30.043543,3.2254558,20.131346,14.100184,4.233182,14.785817,-7.248643,1.7234505,2.8003068,-10.448051,14.73946,-12.820416,19.856379,-22.793514,16.840275,-9.578346,-28.291204,18.061796,-11.150328,-10.952041,-4.8026204,7.568932,-22.81715,-11.755909,3.5108972,-7.7492237,25.091753,25.182806,10.196977,31.453167,22.167242,14.969221,-21.889505,-26.225498,26.59672,3.9940135,26.384722,0.70627433,-13.025978,-11.049399,-8.981056,-8.664141,32.33178,-9.883812,-13.9521,-11.907996,1.5008591,-7.303997,12.076627,-22.532658,24.589262,-23.665535,-8.582692,4.0121174,8.6689415,8.204924,-3.3249786,15.369647,-31.38897,-6.128172,-5.5220175,-30.632635,10.468504,6.8698344,-3.1726773,-9.863888,-22.1856,-7.46544,4.4204583,9.525217,-21.436422,21.85864,-11.974649,20.71629,-3.9337778,33.15458,-12.377981,-8.215403,-15.914825,-5.7630105,0.41648018,5.044732,16.13059,-10.498522,-9.29486,14.812232,-0.2767014,-34.126305,28.184912,-29.27845,-32.751766,-6.6221023,8.00458,-13.032173,11.505278,-31.911552,-10.282399,-18.09462,7.623752,-24.065182,-8.130699,-29.129408,8.850915,-10.919352,9.25548,13.581442,6.7776613,17.682325,10.740919,-2.7302225,-11.651053,7.1911135,-1.1125795,-4.7839603,17.440926,-4.991647,-0.592599,4.5555296,-9.989626,13.96613,-14.618088,23.511736,14.786905,10.41259,-9.951257,0.23181471,-9.230759,-10.801223,31.0141,31.004005,-9.355001,24.503155,-29.377354,26.64671,10.264934,31.075163,17.119095,-30.02904,18.21143,-10.356844,-1.27886,24.953537,-11.423643,16.888319,-21.346275,-13.012117,-7.779914,24.072102,32.906456,-26.666245,-26.838863,-24.06835,20.593582,30.298895,3.2637959,-12.233426,-27.74366,17.369282,10.073595,23.01799,31.643402],\"yaxis\":\"y\",\"type\":\"scatter\"}],                        {\"template\":{\"data\":{\"histogram2dcontour\":[{\"type\":\"histogram2dcontour\",\"colorbar\":{\"outlinewidth\":0,\"ticks\":\"\"},\"colorscale\":[[0.0,\"#0d0887\"],[0.1111111111111111,\"#46039f\"],[0.2222222222222222,\"#7201a8\"],[0.3333333333333333,\"#9c179e\"],[0.4444444444444444,\"#bd3786\"],[0.5555555555555556,\"#d8576b\"],[0.6666666666666666,\"#ed7953\"],[0.7777777777777778,\"#fb9f3a\"],[0.8888888888888888,\"#fdca26\"],[1.0,\"#f0f921\"]]}],\"choropleth\":[{\"type\":\"choropleth\",\"colorbar\":{\"outlinewidth\":0,\"ticks\":\"\"}}],\"histogram2d\":[{\"type\":\"histogram2d\",\"colorbar\":{\"outlinewidth\":0,\"ticks\":\"\"},\"colorscale\":[[0.0,\"#0d0887\"],[0.1111111111111111,\"#46039f\"],[0.2222222222222222,\"#7201a8\"],[0.3333333333333333,\"#9c179e\"],[0.4444444444444444,\"#bd3786\"],[0.5555555555555556,\"#d8576b\"],[0.6666666666666666,\"#ed7953\"],[0.7777777777777778,\"#fb9f3a\"],[0.8888888888888888,\"#fdca26\"],[1.0,\"#f0f921\"]]}],\"heatmap\":[{\"type\":\"heatmap\",\"colorbar\":{\"outlinewidth\":0,\"ticks\":\"\"},\"colorscale\":[[0.0,\"#0d0887\"],[0.1111111111111111,\"#46039f\"],[0.2222222222222222,\"#7201a8\"],[0.3333333333333333,\"#9c179e\"],[0.4444444444444444,\"#bd3786\"],[0.5555555555555556,\"#d8576b\"],[0.6666666666666666,\"#ed7953\"],[0.7777777777777778,\"#fb9f3a\"],[0.8888888888888888,\"#fdca26\"],[1.0,\"#f0f921\"]]}],\"heatmapgl\":[{\"type\":\"heatmapgl\",\"colorbar\":{\"outlinewidth\":0,\"ticks\":\"\"},\"colorscale\":[[0.0,\"#0d0887\"],[0.1111111111111111,\"#46039f\"],[0.2222222222222222,\"#7201a8\"],[0.3333333333333333,\"#9c179e\"],[0.4444444444444444,\"#bd3786\"],[0.5555555555555556,\"#d8576b\"],[0.6666666666666666,\"#ed7953\"],[0.7777777777777778,\"#fb9f3a\"],[0.8888888888888888,\"#fdca26\"],[1.0,\"#f0f921\"]]}],\"contourcarpet\":[{\"type\":\"contourcarpet\",\"colorbar\":{\"outlinewidth\":0,\"ticks\":\"\"}}],\"contour\":[{\"type\":\"contour\",\"colorbar\":{\"outlinewidth\":0,\"ticks\":\"\"},\"colorscale\":[[0.0,\"#0d0887\"],[0.1111111111111111,\"#46039f\"],[0.2222222222222222,\"#7201a8\"],[0.3333333333333333,\"#9c179e\"],[0.4444444444444444,\"#bd3786\"],[0.5555555555555556,\"#d8576b\"],[0.6666666666666666,\"#ed7953\"],[0.7777777777777778,\"#fb9f3a\"],[0.8888888888888888,\"#fdca26\"],[1.0,\"#f0f921\"]]}],\"surface\":[{\"type\":\"surface\",\"colorbar\":{\"outlinewidth\":0,\"ticks\":\"\"},\"colorscale\":[[0.0,\"#0d0887\"],[0.1111111111111111,\"#46039f\"],[0.2222222222222222,\"#7201a8\"],[0.3333333333333333,\"#9c179e\"],[0.4444444444444444,\"#bd3786\"],[0.5555555555555556,\"#d8576b\"],[0.6666666666666666,\"#ed7953\"],[0.7777777777777778,\"#fb9f3a\"],[0.8888888888888888,\"#fdca26\"],[1.0,\"#f0f921\"]]}],\"mesh3d\":[{\"type\":\"mesh3d\",\"colorbar\":{\"outlinewidth\":0,\"ticks\":\"\"}}],\"scatter\":[{\"fillpattern\":{\"fillmode\":\"overlay\",\"size\":10,\"solidity\":0.2},\"type\":\"scatter\"}],\"parcoords\":[{\"type\":\"parcoords\",\"line\":{\"colorbar\":{\"outlinewidth\":0,\"ticks\":\"\"}}}],\"scatterpolargl\":[{\"type\":\"scatterpolargl\",\"marker\":{\"colorbar\":{\"outlinewidth\":0,\"ticks\":\"\"}}}],\"bar\":[{\"error_x\":{\"color\":\"#2a3f5f\"},\"error_y\":{\"color\":\"#2a3f5f\"},\"marker\":{\"line\":{\"color\":\"#E5ECF6\",\"width\":0.5},\"pattern\":{\"fillmode\":\"overlay\",\"size\":10,\"solidity\":0.2}},\"type\":\"bar\"}],\"scattergeo\":[{\"type\":\"scattergeo\",\"marker\":{\"colorbar\":{\"outlinewidth\":0,\"ticks\":\"\"}}}],\"scatterpolar\":[{\"type\":\"scatterpolar\",\"marker\":{\"colorbar\":{\"outlinewidth\":0,\"ticks\":\"\"}}}],\"histogram\":[{\"marker\":{\"pattern\":{\"fillmode\":\"overlay\",\"size\":10,\"solidity\":0.2}},\"type\":\"histogram\"}],\"scattergl\":[{\"type\":\"scattergl\",\"marker\":{\"colorbar\":{\"outlinewidth\":0,\"ticks\":\"\"}}}],\"scatter3d\":[{\"type\":\"scatter3d\",\"line\":{\"colorbar\":{\"outlinewidth\":0,\"ticks\":\"\"}},\"marker\":{\"colorbar\":{\"outlinewidth\":0,\"ticks\":\"\"}}}],\"scattermapbox\":[{\"type\":\"scattermapbox\",\"marker\":{\"colorbar\":{\"outlinewidth\":0,\"ticks\":\"\"}}}],\"scatterternary\":[{\"type\":\"scatterternary\",\"marker\":{\"colorbar\":{\"outlinewidth\":0,\"ticks\":\"\"}}}],\"scattercarpet\":[{\"type\":\"scattercarpet\",\"marker\":{\"colorbar\":{\"outlinewidth\":0,\"ticks\":\"\"}}}],\"carpet\":[{\"aaxis\":{\"endlinecolor\":\"#2a3f5f\",\"gridcolor\":\"white\",\"linecolor\":\"white\",\"minorgridcolor\":\"white\",\"startlinecolor\":\"#2a3f5f\"},\"baxis\":{\"endlinecolor\":\"#2a3f5f\",\"gridcolor\":\"white\",\"linecolor\":\"white\",\"minorgridcolor\":\"white\",\"startlinecolor\":\"#2a3f5f\"},\"type\":\"carpet\"}],\"table\":[{\"cells\":{\"fill\":{\"color\":\"#EBF0F8\"},\"line\":{\"color\":\"white\"}},\"header\":{\"fill\":{\"color\":\"#C8D4E3\"},\"line\":{\"color\":\"white\"}},\"type\":\"table\"}],\"barpolar\":[{\"marker\":{\"line\":{\"color\":\"#E5ECF6\",\"width\":0.5},\"pattern\":{\"fillmode\":\"overlay\",\"size\":10,\"solidity\":0.2}},\"type\":\"barpolar\"}],\"pie\":[{\"automargin\":true,\"type\":\"pie\"}]},\"layout\":{\"autotypenumbers\":\"strict\",\"colorway\":[\"#636efa\",\"#EF553B\",\"#00cc96\",\"#ab63fa\",\"#FFA15A\",\"#19d3f3\",\"#FF6692\",\"#B6E880\",\"#FF97FF\",\"#FECB52\"],\"font\":{\"color\":\"#2a3f5f\"},\"hovermode\":\"closest\",\"hoverlabel\":{\"align\":\"left\"},\"paper_bgcolor\":\"white\",\"plot_bgcolor\":\"#E5ECF6\",\"polar\":{\"bgcolor\":\"#E5ECF6\",\"angularaxis\":{\"gridcolor\":\"white\",\"linecolor\":\"white\",\"ticks\":\"\"},\"radialaxis\":{\"gridcolor\":\"white\",\"linecolor\":\"white\",\"ticks\":\"\"}},\"ternary\":{\"bgcolor\":\"#E5ECF6\",\"aaxis\":{\"gridcolor\":\"white\",\"linecolor\":\"white\",\"ticks\":\"\"},\"baxis\":{\"gridcolor\":\"white\",\"linecolor\":\"white\",\"ticks\":\"\"},\"caxis\":{\"gridcolor\":\"white\",\"linecolor\":\"white\",\"ticks\":\"\"}},\"coloraxis\":{\"colorbar\":{\"outlinewidth\":0,\"ticks\":\"\"}},\"colorscale\":{\"sequential\":[[0.0,\"#0d0887\"],[0.1111111111111111,\"#46039f\"],[0.2222222222222222,\"#7201a8\"],[0.3333333333333333,\"#9c179e\"],[0.4444444444444444,\"#bd3786\"],[0.5555555555555556,\"#d8576b\"],[0.6666666666666666,\"#ed7953\"],[0.7777777777777778,\"#fb9f3a\"],[0.8888888888888888,\"#fdca26\"],[1.0,\"#f0f921\"]],\"sequentialminus\":[[0.0,\"#0d0887\"],[0.1111111111111111,\"#46039f\"],[0.2222222222222222,\"#7201a8\"],[0.3333333333333333,\"#9c179e\"],[0.4444444444444444,\"#bd3786\"],[0.5555555555555556,\"#d8576b\"],[0.6666666666666666,\"#ed7953\"],[0.7777777777777778,\"#fb9f3a\"],[0.8888888888888888,\"#fdca26\"],[1.0,\"#f0f921\"]],\"diverging\":[[0,\"#8e0152\"],[0.1,\"#c51b7d\"],[0.2,\"#de77ae\"],[0.3,\"#f1b6da\"],[0.4,\"#fde0ef\"],[0.5,\"#f7f7f7\"],[0.6,\"#e6f5d0\"],[0.7,\"#b8e186\"],[0.8,\"#7fbc41\"],[0.9,\"#4d9221\"],[1,\"#276419\"]]},\"xaxis\":{\"gridcolor\":\"white\",\"linecolor\":\"white\",\"ticks\":\"\",\"title\":{\"standoff\":15},\"zerolinecolor\":\"white\",\"automargin\":true,\"zerolinewidth\":2},\"yaxis\":{\"gridcolor\":\"white\",\"linecolor\":\"white\",\"ticks\":\"\",\"title\":{\"standoff\":15},\"zerolinecolor\":\"white\",\"automargin\":true,\"zerolinewidth\":2},\"scene\":{\"xaxis\":{\"backgroundcolor\":\"#E5ECF6\",\"gridcolor\":\"white\",\"linecolor\":\"white\",\"showbackground\":true,\"ticks\":\"\",\"zerolinecolor\":\"white\",\"gridwidth\":2},\"yaxis\":{\"backgroundcolor\":\"#E5ECF6\",\"gridcolor\":\"white\",\"linecolor\":\"white\",\"showbackground\":true,\"ticks\":\"\",\"zerolinecolor\":\"white\",\"gridwidth\":2},\"zaxis\":{\"backgroundcolor\":\"#E5ECF6\",\"gridcolor\":\"white\",\"linecolor\":\"white\",\"showbackground\":true,\"ticks\":\"\",\"zerolinecolor\":\"white\",\"gridwidth\":2}},\"shapedefaults\":{\"line\":{\"color\":\"#2a3f5f\"}},\"annotationdefaults\":{\"arrowcolor\":\"#2a3f5f\",\"arrowhead\":0,\"arrowwidth\":1},\"geo\":{\"bgcolor\":\"white\",\"landcolor\":\"#E5ECF6\",\"subunitcolor\":\"white\",\"showland\":true,\"showlakes\":true,\"lakecolor\":\"white\"},\"title\":{\"x\":0.05},\"mapbox\":{\"style\":\"light\"}}},\"xaxis\":{\"anchor\":\"y\",\"domain\":[0.0,1.0],\"title\":{\"text\":\"x\"}},\"yaxis\":{\"anchor\":\"x\",\"domain\":[0.0,1.0],\"title\":{\"text\":\"y\"}},\"coloraxis\":{\"colorbar\":{\"title\":{\"text\":\"color\"}},\"colorscale\":[[0.0,\"#0d0887\"],[0.1111111111111111,\"#46039f\"],[0.2222222222222222,\"#7201a8\"],[0.3333333333333333,\"#9c179e\"],[0.4444444444444444,\"#bd3786\"],[0.5555555555555556,\"#d8576b\"],[0.6666666666666666,\"#ed7953\"],[0.7777777777777778,\"#fb9f3a\"],[0.8888888888888888,\"#fdca26\"],[1.0,\"#f0f921\"]]},\"legend\":{\"tracegroupgap\":0},\"margin\":{\"t\":60}},                        {\"responsive\": true}                    ).then(function(){\n",
              "                            \n",
              "var gd = document.getElementById('cc798643-2cbc-4085-b325-78f511c413b4');\n",
              "var x = new MutationObserver(function (mutations, observer) {{\n",
              "        var display = window.getComputedStyle(gd).display;\n",
              "        if (!display || display === 'none') {{\n",
              "            console.log([gd, 'removed!']);\n",
              "            Plotly.purge(gd);\n",
              "            observer.disconnect();\n",
              "        }}\n",
              "}});\n",
              "\n",
              "// Listen for the removal of the full notebook cells\n",
              "var notebookContainer = gd.closest('#notebook-container');\n",
              "if (notebookContainer) {{\n",
              "    x.observe(notebookContainer, {childList: true});\n",
              "}}\n",
              "\n",
              "// Listen for the clearing of the current output cell\n",
              "var outputEl = gd.closest('.output');\n",
              "if (outputEl) {{\n",
              "    x.observe(outputEl, {childList: true});\n",
              "}}\n",
              "\n",
              "                        })                };                            </script>        </div>\n",
              "</body>\n",
              "</html>"
            ]
          },
          "metadata": {}
        }
      ],
      "source": [
        "fig=px.scatter(x=X_reduced_tsne[:,0], y=X_reduced_tsne[:,1], color=y)\n",
        "fig.show()"
      ]
    },
    {
      "cell_type": "markdown",
      "id": "041e973c",
      "metadata": {
        "id": "041e973c"
      },
      "source": [
        "Although the subsample is pretty small, the t-SNE algorithm is able to detect clusters pretty accurately"
      ]
    },
    {
      "cell_type": "markdown",
      "source": [
        "Reference- https://www.geeksforgeeks.org/machine-learning/difference-between-pca-vs-t-sne/\n",
        "\n",
        "Note-ChatGPT was used to help understand the results using WebSearch Feature."
      ],
      "metadata": {
        "id": "osDrI0Ev0joO"
      },
      "id": "osDrI0Ev0joO"
    },
    {
      "cell_type": "markdown",
      "id": "85bb3774",
      "metadata": {
        "id": "85bb3774"
      },
      "source": [
        "## Scaling"
      ]
    },
    {
      "cell_type": "code",
      "execution_count": null,
      "id": "7ab1142e",
      "metadata": {
        "colab": {
          "base_uri": "https://localhost:8080/"
        },
        "id": "7ab1142e",
        "outputId": "59665d99-bb14-4118-bdb4-1b383d5868d6"
      },
      "outputs": [
        {
          "output_type": "stream",
          "name": "stdout",
          "text": [
            "(275663, 29) (275663,)\n"
          ]
        }
      ],
      "source": [
        "scaler = StandardScaler()\n",
        "X = scaler.fit_transform(df.drop('Class', axis=1))\n",
        "y = df['Class'].values\n",
        "print(X.shape, y.shape)"
      ]
    },
    {
      "cell_type": "markdown",
      "id": "22e31517",
      "metadata": {
        "id": "22e31517"
      },
      "source": [
        "## Splitting the data"
      ]
    },
    {
      "cell_type": "markdown",
      "id": "6fa74b00",
      "metadata": {
        "id": "6fa74b00"
      },
      "source": [
        "we want to test our models on the original testing set not on the testing set created from GAN. The main goal is to fit the model in the generated data, and test it on the original testing set."
      ]
    },
    {
      "cell_type": "code",
      "execution_count": null,
      "id": "f8303d35",
      "metadata": {
        "id": "f8303d35"
      },
      "outputs": [],
      "source": [
        "X_train, X_test, y_train, y_test = train_test_split(X, y, test_size=0.2, random_state=42, stratify=y)"
      ]
    },
    {
      "cell_type": "markdown",
      "id": "e1beefe0",
      "metadata": {
        "id": "e1beefe0"
      },
      "source": [
        "## Testing baseline model with original data"
      ]
    },
    {
      "cell_type": "markdown",
      "id": "388b49a9",
      "metadata": {
        "id": "388b49a9"
      },
      "source": [
        "# GAN"
      ]
    },
    {
      "cell_type": "code",
      "execution_count": null,
      "id": "L2BSgrdFfBAr",
      "metadata": {
        "id": "L2BSgrdFfBAr"
      },
      "outputs": [],
      "source": [
        "import numpy as np\n",
        "import tensorflow as tf\n",
        "from tensorflow.keras import Input, Model\n",
        "from tensorflow.keras.layers import Dense, LeakyReLU, BatchNormalization, Concatenate\n",
        "from tensorflow.keras.optimizers import Adam\n",
        "\n",
        "def gradient_penalty(critic, real, fake, cond, gp_weight):\n",
        "    batch_size = tf.shape(real)[0]\n",
        "    alpha = tf.random.uniform([batch_size, 1], 0.0, 1.0)\n",
        "    diff = fake - real\n",
        "    interp = real + alpha * diff\n",
        "\n",
        "    with tf.GradientTape() as gp_tape:\n",
        "        gp_tape.watch(interp)\n",
        "        pred = critic([interp, cond], training=True)\n",
        "    grads = gp_tape.gradient(pred, interp)\n",
        "    norm = tf.sqrt(tf.reduce_sum(tf.square(grads), axis=1) + 1e-12)\n",
        "    gp = tf.reduce_mean((norm - 1.0) ** 2)\n",
        "    return gp_weight * gp\n",
        "\n",
        "class CWGAN_GP:\n",
        "    def __init__(self,\n",
        "                 data_dim=29,\n",
        "                 cond_dim=2,\n",
        "                 latent_dim=100,\n",
        "                 gp_weight=10.0,\n",
        "                 n_critic=5,\n",
        "                 batch_size=64):\n",
        "        self.data_dim   = data_dim\n",
        "        self.cond_dim   = cond_dim\n",
        "        self.latent_dim = latent_dim\n",
        "        self.gp_weight  = gp_weight\n",
        "        self.n_critic   = n_critic\n",
        "        self.batch_size = batch_size\n",
        "\n",
        "        self._build_generator()\n",
        "        self._build_critic()\n",
        "        self.gen_opt  = Adam(1e-4, beta_1=0.0, beta_2=0.9)\n",
        "        self.crit_opt = Adam(1e-4, beta_1=0.0, beta_2=0.9)\n",
        "\n",
        "    def _build_generator(self):\n",
        "        z = Input((self.latent_dim,), name='z')\n",
        "        c = Input((self.cond_dim,), name='c')\n",
        "        x = Concatenate()([z, c])\n",
        "        for units in [256, 512, 512]:\n",
        "            x = Dense(units)(x)\n",
        "            x = LeakyReLU(0.2)(x)\n",
        "            x = BatchNormalization()(x)\n",
        "        out = Dense(self.data_dim, activation='linear')(x)\n",
        "        self.generator = Model([z, c], out, name='generator')\n",
        "\n",
        "    def _build_critic(self):\n",
        "        x_in = Input((self.data_dim,), name='x')\n",
        "        c_in = Input((self.cond_dim,), name='c')\n",
        "        x = Concatenate()([x_in, c_in])\n",
        "        for units in [512, 512, 256]:\n",
        "            x = Dense(units)(x)\n",
        "            x = LeakyReLU(0.2)(x)\n",
        "        out = Dense(1)(x)\n",
        "        self.critic = Model([x_in, c_in], out, name='critic')\n",
        "\n",
        "    def train(self, real_data, real_cond, epochs=10000):\n",
        "\n",
        "        N = real_data.shape[0]\n",
        "\n",
        "        for epoch in range(epochs):\n",
        "\n",
        "            for _ in range(self.n_critic):\n",
        "\n",
        "                idx      = np.random.randint(0, N, self.batch_size)\n",
        "                real_x   = tf.convert_to_tensor(real_data[idx], dtype=tf.float32)\n",
        "                cond_x   = tf.gather(real_cond, idx)\n",
        "\n",
        "                #Sample fake batch\n",
        "                z_noise  = tf.random.normal((self.batch_size, self.latent_dim))\n",
        "                fake_idx = np.random.randint(0, N, self.batch_size)\n",
        "                cond_z   = tf.gather(real_cond, fake_idx)\n",
        "                fake_x   = self.generator([z_noise, cond_z], training=True)\n",
        "\n",
        "                # Compute gradient penalty\n",
        "                gp = gradient_penalty(self.critic, real_x, fake_x, cond_x, self.gp_weight)\n",
        "\n",
        "                # Critic loss: E[fake] − E[real] + GP\n",
        "                with tf.GradientTape() as tape:\n",
        "                    crit_real = self.critic([real_x, cond_x], training=True)\n",
        "                    crit_fake = self.critic([fake_x, cond_z], training=True)\n",
        "                    loss_crit = tf.reduce_mean(crit_fake) - tf.reduce_mean(crit_real) + gp\n",
        "                grads = tape.gradient(loss_crit, self.critic.trainable_variables)\n",
        "                self.crit_opt.apply_gradients(zip(grads, self.critic.trainable_variables))\n",
        "\n",
        "            z_noise  = tf.random.normal((self.batch_size, self.latent_dim))\n",
        "            fake_idx = np.random.randint(0, N, self.batch_size)\n",
        "            cond_z   = tf.gather(real_cond, fake_idx)\n",
        "            with tf.GradientTape() as tape:\n",
        "                fake_x   = self.generator([z_noise, cond_z], training=True)\n",
        "                crit_fake= self.critic([fake_x, cond_z], training=True)\n",
        "                loss_gen = -tf.reduce_mean(crit_fake)\n",
        "            grads = tape.gradient(loss_gen, self.generator.trainable_variables)\n",
        "            self.gen_opt.apply_gradients(zip(grads, self.generator.trainable_variables))\n",
        "\n",
        "            if epoch % 100 == 0:\n",
        "                print(f\"Epoch {epoch:5d} | Critic loss: {loss_crit:.4f} | Gen loss: {loss_gen:.4f}\")\n"
      ]
    },
    {
      "cell_type": "code",
      "source": [
        "\n",
        "cwgan_gp = CWGAN_GP(\n",
        "    data_dim   = X_train.shape[1],\n",
        "    cond_dim   = 2,\n",
        "    latent_dim = 100,\n",
        "    gp_weight  = 10.0,\n",
        "    n_critic   = 5,\n",
        "    batch_size = 64\n",
        ")\n",
        "\n",
        "# One-hot encode your labels\n",
        "y_flat    = tf.reshape(y_train, [-1])\n",
        "y_one_hot = tf.one_hot(tf.cast(y_flat, tf.int32), 2)\n",
        "\n",
        "# Train\n",
        "cwgan_gp.train(X_train, y_one_hot, epochs=1000)\n"
      ],
      "metadata": {
        "colab": {
          "base_uri": "https://localhost:8080/"
        },
        "id": "MGn7sbcifgND",
        "outputId": "6d77a5ff-e4d4-4e4a-c8ee-81cfbc24b1ff"
      },
      "id": "MGn7sbcifgND",
      "execution_count": null,
      "outputs": [
        {
          "output_type": "stream",
          "name": "stdout",
          "text": [
            "Epoch     0 | Critic loss: 6.6229 | Gen loss: 0.3781\n",
            "Epoch   100 | Critic loss: 1332.2219 | Gen loss: 11.0676\n",
            "Epoch   200 | Critic loss: 180738.2500 | Gen loss: 64.1964\n",
            "Epoch   300 | Critic loss: 5019387.5000 | Gen loss: 200.2824\n",
            "Epoch   400 | Critic loss: 76696488.0000 | Gen loss: 423.3099\n",
            "Epoch   500 | Critic loss: 527501792.0000 | Gen loss: 1172.7056\n",
            "Epoch   600 | Critic loss: 2260195840.0000 | Gen loss: 3275.2949\n",
            "Epoch   700 | Critic loss: 8936568832.0000 | Gen loss: 6348.5264\n",
            "Epoch   800 | Critic loss: 26004981760.0000 | Gen loss: 7939.6782\n",
            "Epoch   900 | Critic loss: 72022556672.0000 | Gen loss: 13982.8838\n"
          ]
        }
      ]
    },
    {
      "cell_type": "code",
      "execution_count": null,
      "id": "THxkUZ4LfC1R",
      "metadata": {
        "colab": {
          "base_uri": "https://localhost:8080/"
        },
        "id": "THxkUZ4LfC1R",
        "outputId": "b913f40f-42b0-4be3-cdde-cc72dfeb5dd6"
      },
      "outputs": [
        {
          "output_type": "stream",
          "name": "stdout",
          "text": [
            "Latent dim: 100\n"
          ]
        },
        {
          "output_type": "stream",
          "name": "stderr",
          "text": [
            "/usr/local/lib/python3.11/dist-packages/tensorflow/python/data/ops/structured_function.py:258: UserWarning:\n",
            "\n",
            "Even though the `tf.config.experimental_run_functions_eagerly` option is set, this option does not apply to tf.data functions. To force eager execution of tf.data functions, please use `tf.data.experimental.enable_debug_mode()`.\n",
            "\n"
          ]
        },
        {
          "output_type": "stream",
          "name": "stdout",
          "text": [
            "Raw synthetic shape: (250000, 29)\n",
            "Inverted synthetic shape: (250000, 29)\n",
            "         V1        V2        V3        V4        V5        V6        V7  \\\n",
            "0  1.289235 -1.148664 -0.205801  2.251181 -0.669105  0.358126 -1.313795   \n",
            "1  0.557632  0.515857 -3.363340  0.202368  1.107902  0.472933  1.694939   \n",
            "2 -0.504982 -0.206112  1.022195 -1.604580 -1.356318 -0.567690 -0.118580   \n",
            "3 -0.994784 -0.185515  0.347328 -1.163288 -0.020079 -0.187285  0.034821   \n",
            "4  0.607584 -0.791615 -1.046060 -0.030785 -0.100987 -1.619694  0.320628   \n",
            "\n",
            "         V8        V9       V10  ...       V20       V21       V22       V23  \\\n",
            "0 -0.806915  0.127256  2.315110  ...  0.180372 -0.414485 -0.518947 -0.228791   \n",
            "1 -0.473428 -0.287764  0.251615  ... -0.252732  0.132149  1.065600  0.108428   \n",
            "2  0.012338 -0.350119 -0.031788  ...  0.216997  0.260738  0.739321 -0.086444   \n",
            "3 -0.758313 -1.729015  1.402734  ...  0.385620 -0.120167 -0.605353  0.002721   \n",
            "4 -0.362505  1.388048 -0.640758  ...  0.363337  0.306754  1.451033 -0.242728   \n",
            "\n",
            "        V24       V25       V26       V27       V28    Amount  \n",
            "0 -0.138203 -0.478095 -0.799983 -0.095172 -0.021008  1.983127  \n",
            "1 -0.240384  0.373439 -0.372986 -0.164538 -0.100315  1.513031  \n",
            "2  0.180696  0.014684 -0.340155  0.404164  0.120824  2.193858  \n",
            "3 -1.273688 -0.216748  0.346544  0.156272  0.171532  1.495571  \n",
            "4 -0.541720 -0.010387  0.442434 -0.080332 -0.226955  1.986534  \n",
            "\n",
            "[5 rows x 29 columns]\n",
            "Augmented X shape: (470530, 29)\n",
            "Augmented y shape: (470530, 1)\n"
          ]
        }
      ],
      "source": [
        "import numpy as np\n",
        "import pandas as pd\n",
        "from sklearn.preprocessing import StandardScaler\n",
        "\n",
        "\n",
        "# sanity check: you have a cwgan_gp with latent_dim\n",
        "print(\"Latent dim:\", cwgan_gp.latent_dim)\n",
        "\n",
        "# sample noise for only-fraud synthetic data\n",
        "n_synth = 250_000\n",
        "noise = np.random.normal(0, 1, size=(n_synth, cwgan_gp.latent_dim)).astype(np.float32)\n",
        "\n",
        "\n",
        "c_fake = np.tile(np.array([[1, 0]], dtype=np.float32), (n_synth, 1))\n",
        "\n",
        "gen_samples = cwgan_gp.generator.predict([noise, c_fake], verbose=0)\n",
        "print(\"Raw synthetic shape:\", gen_samples.shape)\n",
        "\n",
        "\n",
        "scaler = StandardScaler().fit(df.drop(\"Class\", axis=1).values)\n",
        "gen_orig = scaler.inverse_transform(gen_samples)\n",
        "print(\"Inverted synthetic shape:\", gen_orig.shape)\n",
        "\n",
        "\n",
        "gen_df = pd.DataFrame(gen_orig, columns=df.drop(\"Class\", axis=1).columns)\n",
        "print(gen_df.head())\n",
        "\n",
        "Append synthetic to real training set\n",
        "\n",
        "gen_X_train = np.vstack([X_train, gen_samples])\n",
        "print(\"Augmented X shape:\", gen_X_train.shape)\n",
        "\n",
        "\n",
        "y_train_col = y_train.reshape(-1,1) if y_train.ndim == 1 else y_train\n",
        "gen_y = np.ones((n_synth,1), dtype='int32')\n",
        "gen_y_train = np.vstack([y_train_col, gen_y])\n",
        "print(\"Augmented y shape:\", gen_y_train.shape)\n"
      ]
    },
    {
      "cell_type": "markdown",
      "id": "lpgBi5NjBMt0",
      "metadata": {
        "id": "lpgBi5NjBMt0"
      },
      "source": [
        "#Training GAN"
      ]
    },
    {
      "cell_type": "markdown",
      "id": "3_ULtneCn9HQ",
      "metadata": {
        "id": "3_ULtneCn9HQ"
      },
      "source": [
        "## Testing baseline model with generated data"
      ]
    },
    {
      "cell_type": "code",
      "execution_count": null,
      "id": "n4maJo8voB08",
      "metadata": {
        "id": "n4maJo8voB08",
        "colab": {
          "base_uri": "https://localhost:8080/",
          "height": 1000
        },
        "outputId": "7d94bb50-9f49-4aac-96f1-12e6931da0c9"
      },
      "outputs": [
        {
          "output_type": "stream",
          "name": "stdout",
          "text": [
            "Epoch 1/50\n"
          ]
        },
        {
          "output_type": "stream",
          "name": "stderr",
          "text": [
            "/usr/local/lib/python3.11/dist-packages/tensorflow/python/data/ops/structured_function.py:258: UserWarning:\n",
            "\n",
            "Even though the `tf.config.experimental_run_functions_eagerly` option is set, this option does not apply to tf.data functions. To force eager execution of tf.data functions, please use `tf.data.experimental.enable_debug_mode()`.\n",
            "\n"
          ]
        },
        {
          "output_type": "stream",
          "name": "stdout",
          "text": [
            "\u001b[1m1655/1655\u001b[0m \u001b[32m━━━━━━━━━━━━━━━━━━━━\u001b[0m\u001b[37m\u001b[0m \u001b[1m143s\u001b[0m 87ms/step - accuracy: 0.9904 - loss: 0.0416 - val_accuracy: 1.0000 - val_loss: 3.7145e-05\n",
            "Epoch 2/50\n",
            "\u001b[1m1655/1655\u001b[0m \u001b[32m━━━━━━━━━━━━━━━━━━━━\u001b[0m\u001b[37m\u001b[0m \u001b[1m201s\u001b[0m 86ms/step - accuracy: 0.9999 - loss: 5.5352e-04 - val_accuracy: 1.0000 - val_loss: 4.3451e-06\n",
            "Epoch 3/50\n",
            "\u001b[1m1655/1655\u001b[0m \u001b[32m━━━━━━━━━━━━━━━━━━━━\u001b[0m\u001b[37m\u001b[0m \u001b[1m142s\u001b[0m 86ms/step - accuracy: 1.0000 - loss: 1.0043e-04 - val_accuracy: 1.0000 - val_loss: 7.3604e-06\n",
            "Epoch 4/50\n",
            "\u001b[1m1655/1655\u001b[0m \u001b[32m━━━━━━━━━━━━━━━━━━━━\u001b[0m\u001b[37m\u001b[0m \u001b[1m141s\u001b[0m 85ms/step - accuracy: 1.0000 - loss: 2.3034e-04 - val_accuracy: 1.0000 - val_loss: 8.8926e-07\n",
            "Epoch 5/50\n",
            "\u001b[1m1655/1655\u001b[0m \u001b[32m━━━━━━━━━━━━━━━━━━━━\u001b[0m\u001b[37m\u001b[0m \u001b[1m141s\u001b[0m 85ms/step - accuracy: 1.0000 - loss: 1.6820e-05 - val_accuracy: 1.0000 - val_loss: 1.4874e-05\n",
            "Epoch 6/50\n",
            "\u001b[1m1655/1655\u001b[0m \u001b[32m━━━━━━━━━━━━━━━━━━━━\u001b[0m\u001b[37m\u001b[0m \u001b[1m142s\u001b[0m 85ms/step - accuracy: 1.0000 - loss: 9.1077e-05 - val_accuracy: 1.0000 - val_loss: 6.3930e-08\n",
            "Epoch 7/50\n",
            "\u001b[1m1655/1655\u001b[0m \u001b[32m━━━━━━━━━━━━━━━━━━━━\u001b[0m\u001b[37m\u001b[0m \u001b[1m143s\u001b[0m 86ms/step - accuracy: 1.0000 - loss: 6.2552e-07 - val_accuracy: 1.0000 - val_loss: 2.1649e-08\n",
            "Epoch 8/50\n",
            "\u001b[1m1655/1655\u001b[0m \u001b[32m━━━━━━━━━━━━━━━━━━━━\u001b[0m\u001b[37m\u001b[0m \u001b[1m200s\u001b[0m 85ms/step - accuracy: 1.0000 - loss: 2.3736e-04 - val_accuracy: 1.0000 - val_loss: 6.2572e-10\n",
            "Epoch 9/50\n",
            "\u001b[1m1655/1655\u001b[0m \u001b[32m━━━━━━━━━━━━━━━━━━━━\u001b[0m\u001b[37m\u001b[0m \u001b[1m142s\u001b[0m 85ms/step - accuracy: 1.0000 - loss: 4.1552e-05 - val_accuracy: 1.0000 - val_loss: 6.4724e-07\n",
            "Epoch 10/50\n",
            "\u001b[1m1655/1655\u001b[0m \u001b[32m━━━━━━━━━━━━━━━━━━━━\u001b[0m\u001b[37m\u001b[0m \u001b[1m143s\u001b[0m 86ms/step - accuracy: 1.0000 - loss: 7.3191e-06 - val_accuracy: 1.0000 - val_loss: 1.2374e-07\n",
            "Epoch 11/50\n",
            "\u001b[1m1655/1655\u001b[0m \u001b[32m━━━━━━━━━━━━━━━━━━━━\u001b[0m\u001b[37m\u001b[0m \u001b[1m201s\u001b[0m 85ms/step - accuracy: 1.0000 - loss: 7.7472e-08 - val_accuracy: 1.0000 - val_loss: 4.1475e-08\n",
            "Epoch 12/50\n",
            "\u001b[1m1655/1655\u001b[0m \u001b[32m━━━━━━━━━━━━━━━━━━━━\u001b[0m\u001b[37m\u001b[0m \u001b[1m141s\u001b[0m 85ms/step - accuracy: 1.0000 - loss: 4.9745e-08 - val_accuracy: 1.0000 - val_loss: 1.7767e-08\n",
            "Epoch 13/50\n",
            "\u001b[1m1655/1655\u001b[0m \u001b[32m━━━━━━━━━━━━━━━━━━━━\u001b[0m\u001b[37m\u001b[0m \u001b[1m142s\u001b[0m 85ms/step - accuracy: 1.0000 - loss: 2.0124e-08 - val_accuracy: 1.0000 - val_loss: 7.5922e-09\n",
            "Epoch 14/50\n",
            "\u001b[1m1655/1655\u001b[0m \u001b[32m━━━━━━━━━━━━━━━━━━━━\u001b[0m\u001b[37m\u001b[0m \u001b[1m141s\u001b[0m 85ms/step - accuracy: 1.0000 - loss: 1.3668e-08 - val_accuracy: 1.0000 - val_loss: 3.6533e-09\n",
            "Epoch 15/50\n",
            "\u001b[1m1655/1655\u001b[0m \u001b[32m━━━━━━━━━━━━━━━━━━━━\u001b[0m\u001b[37m\u001b[0m \u001b[1m144s\u001b[0m 87ms/step - accuracy: 1.0000 - loss: 4.2533e-09 - val_accuracy: 1.0000 - val_loss: 1.8335e-09\n",
            "Epoch 16/50\n",
            "\u001b[1m1655/1655\u001b[0m \u001b[32m━━━━━━━━━━━━━━━━━━━━\u001b[0m\u001b[37m\u001b[0m \u001b[1m142s\u001b[0m 86ms/step - accuracy: 1.0000 - loss: 1.8707e-09 - val_accuracy: 1.0000 - val_loss: 9.7538e-10\n",
            "Epoch 17/50\n",
            "\u001b[1m1655/1655\u001b[0m \u001b[32m━━━━━━━━━━━━━━━━━━━━\u001b[0m\u001b[37m\u001b[0m \u001b[1m202s\u001b[0m 86ms/step - accuracy: 1.0000 - loss: 1.4335e-09 - val_accuracy: 1.0000 - val_loss: 5.2210e-10\n",
            "Epoch 18/50\n",
            "\u001b[1m1655/1655\u001b[0m \u001b[32m━━━━━━━━━━━━━━━━━━━━\u001b[0m\u001b[37m\u001b[0m \u001b[1m202s\u001b[0m 86ms/step - accuracy: 1.0000 - loss: 8.5490e-10 - val_accuracy: 1.0000 - val_loss: 3.1188e-10\n",
            "Epoch 19/50\n",
            "\u001b[1m1655/1655\u001b[0m \u001b[32m━━━━━━━━━━━━━━━━━━━━\u001b[0m\u001b[37m\u001b[0m \u001b[1m202s\u001b[0m 86ms/step - accuracy: 1.0000 - loss: 4.1817e-10 - val_accuracy: 1.0000 - val_loss: 2.0714e-10\n",
            "Epoch 20/50\n",
            "\u001b[1m1655/1655\u001b[0m \u001b[32m━━━━━━━━━━━━━━━━━━━━\u001b[0m\u001b[37m\u001b[0m \u001b[1m142s\u001b[0m 86ms/step - accuracy: 1.0000 - loss: 1.0004e-09 - val_accuracy: 1.0000 - val_loss: 1.3196e-10\n",
            "Epoch 21/50\n",
            "\u001b[1m1655/1655\u001b[0m \u001b[32m━━━━━━━━━━━━━━━━━━━━\u001b[0m\u001b[37m\u001b[0m \u001b[1m201s\u001b[0m 85ms/step - accuracy: 1.0000 - loss: 1.3224e-10 - val_accuracy: 1.0000 - val_loss: 9.7918e-11\n",
            "Epoch 22/50\n",
            "\u001b[1m1655/1655\u001b[0m \u001b[32m━━━━━━━━━━━━━━━━━━━━\u001b[0m\u001b[37m\u001b[0m \u001b[1m142s\u001b[0m 86ms/step - accuracy: 1.0000 - loss: 1.1748e-10 - val_accuracy: 1.0000 - val_loss: 7.6383e-11\n",
            "Epoch 23/50\n",
            "\u001b[1m1655/1655\u001b[0m \u001b[32m━━━━━━━━━━━━━━━━━━━━\u001b[0m\u001b[37m\u001b[0m \u001b[1m142s\u001b[0m 86ms/step - accuracy: 1.0000 - loss: 1.1399e-10 - val_accuracy: 1.0000 - val_loss: 6.2034e-11\n",
            "Epoch 24/50\n",
            "\u001b[1m1655/1655\u001b[0m \u001b[32m━━━━━━━━━━━━━━━━━━━━\u001b[0m\u001b[37m\u001b[0m \u001b[1m201s\u001b[0m 85ms/step - accuracy: 1.0000 - loss: 7.0536e-11 - val_accuracy: 1.0000 - val_loss: 5.2025e-11\n",
            "Epoch 25/50\n",
            "\u001b[1m1655/1655\u001b[0m \u001b[32m━━━━━━━━━━━━━━━━━━━━\u001b[0m\u001b[37m\u001b[0m \u001b[1m142s\u001b[0m 85ms/step - accuracy: 1.0000 - loss: 6.3577e-11 - val_accuracy: 1.0000 - val_loss: 4.4862e-11\n",
            "Epoch 26/50\n",
            "\u001b[1m1655/1655\u001b[0m \u001b[32m━━━━━━━━━━━━━━━━━━━━\u001b[0m\u001b[37m\u001b[0m \u001b[1m142s\u001b[0m 86ms/step - accuracy: 1.0000 - loss: 6.5559e-11 - val_accuracy: 1.0000 - val_loss: 3.9386e-11\n",
            "Epoch 27/50\n",
            "\u001b[1m1655/1655\u001b[0m \u001b[32m━━━━━━━━━━━━━━━━━━━━\u001b[0m\u001b[37m\u001b[0m \u001b[1m140s\u001b[0m 85ms/step - accuracy: 1.0000 - loss: 6.5666e-11 - val_accuracy: 1.0000 - val_loss: 3.5083e-11\n",
            "Epoch 28/50\n",
            "\u001b[1m1655/1655\u001b[0m \u001b[32m━━━━━━━━━━━━━━━━━━━━\u001b[0m\u001b[37m\u001b[0m \u001b[1m141s\u001b[0m 84ms/step - accuracy: 1.0000 - loss: 4.4375e-11 - val_accuracy: 1.0000 - val_loss: 3.1664e-11\n",
            "Epoch 29/50\n",
            "\u001b[1m1655/1655\u001b[0m \u001b[32m━━━━━━━━━━━━━━━━━━━━\u001b[0m\u001b[37m\u001b[0m \u001b[1m141s\u001b[0m 85ms/step - accuracy: 1.0000 - loss: 4.4627e-11 - val_accuracy: 1.0000 - val_loss: 2.8826e-11\n",
            "Epoch 30/50\n",
            "\u001b[1m1655/1655\u001b[0m \u001b[32m━━━━━━━━━━━━━━━━━━━━\u001b[0m\u001b[37m\u001b[0m \u001b[1m140s\u001b[0m 84ms/step - accuracy: 1.0000 - loss: 3.0276e-11 - val_accuracy: 1.0000 - val_loss: 2.6455e-11\n",
            "Epoch 31/50\n",
            "\u001b[1m1655/1655\u001b[0m \u001b[32m━━━━━━━━━━━━━━━━━━━━\u001b[0m\u001b[37m\u001b[0m \u001b[1m143s\u001b[0m 85ms/step - accuracy: 1.0000 - loss: 4.5705e-11 - val_accuracy: 1.0000 - val_loss: 2.4426e-11\n",
            "Epoch 32/50\n",
            "\u001b[1m1655/1655\u001b[0m \u001b[32m━━━━━━━━━━━━━━━━━━━━\u001b[0m\u001b[37m\u001b[0m \u001b[1m140s\u001b[0m 85ms/step - accuracy: 1.0000 - loss: 3.4250e-11 - val_accuracy: 1.0000 - val_loss: 2.2718e-11\n",
            "Epoch 33/50\n",
            "\u001b[1m1655/1655\u001b[0m \u001b[32m━━━━━━━━━━━━━━━━━━━━\u001b[0m\u001b[37m\u001b[0m \u001b[1m143s\u001b[0m 86ms/step - accuracy: 1.0000 - loss: 3.2630e-11 - val_accuracy: 1.0000 - val_loss: 2.1216e-11\n",
            "Epoch 34/50\n",
            "\u001b[1m1655/1655\u001b[0m \u001b[32m━━━━━━━━━━━━━━━━━━━━\u001b[0m\u001b[37m\u001b[0m \u001b[1m142s\u001b[0m 86ms/step - accuracy: 1.0000 - loss: 3.1139e-11 - val_accuracy: 1.0000 - val_loss: 1.9888e-11\n",
            "Epoch 35/50\n",
            "\u001b[1m1655/1655\u001b[0m \u001b[32m━━━━━━━━━━━━━━━━━━━━\u001b[0m\u001b[37m\u001b[0m \u001b[1m203s\u001b[0m 87ms/step - accuracy: 1.0000 - loss: 3.1949e-11 - val_accuracy: 1.0000 - val_loss: 1.8738e-11\n",
            "Epoch 36/50\n",
            "\u001b[1m1655/1655\u001b[0m \u001b[32m━━━━━━━━━━━━━━━━━━━━\u001b[0m\u001b[37m\u001b[0m \u001b[1m141s\u001b[0m 85ms/step - accuracy: 1.0000 - loss: 2.7264e-11 - val_accuracy: 1.0000 - val_loss: 1.7706e-11\n",
            "Epoch 37/50\n",
            "\u001b[1m1655/1655\u001b[0m \u001b[32m━━━━━━━━━━━━━━━━━━━━\u001b[0m\u001b[37m\u001b[0m \u001b[1m142s\u001b[0m 85ms/step - accuracy: 1.0000 - loss: 3.0975e-11 - val_accuracy: 1.0000 - val_loss: 1.6793e-11\n",
            "Epoch 38/50\n",
            "\u001b[1m1655/1655\u001b[0m \u001b[32m━━━━━━━━━━━━━━━━━━━━\u001b[0m\u001b[37m\u001b[0m \u001b[1m142s\u001b[0m 86ms/step - accuracy: 1.0000 - loss: 2.5494e-11 - val_accuracy: 1.0000 - val_loss: 1.5967e-11\n",
            "Epoch 39/50\n",
            "\u001b[1m1655/1655\u001b[0m \u001b[32m━━━━━━━━━━━━━━━━━━━━\u001b[0m\u001b[37m\u001b[0m \u001b[1m143s\u001b[0m 86ms/step - accuracy: 1.0000 - loss: 2.6918e-11 - val_accuracy: 1.0000 - val_loss: 1.5211e-11\n",
            "Epoch 40/50\n",
            "\u001b[1m1655/1655\u001b[0m \u001b[32m━━━━━━━━━━━━━━━━━━━━\u001b[0m\u001b[37m\u001b[0m \u001b[1m201s\u001b[0m 86ms/step - accuracy: 1.0000 - loss: 2.4049e-11 - val_accuracy: 1.0000 - val_loss: 1.4533e-11\n",
            "Epoch 41/50\n",
            "\u001b[1m1655/1655\u001b[0m \u001b[32m━━━━━━━━━━━━━━━━━━━━\u001b[0m\u001b[37m\u001b[0m \u001b[1m142s\u001b[0m 86ms/step - accuracy: 1.0000 - loss: 1.5670e-11 - val_accuracy: 1.0000 - val_loss: 1.3900e-11\n",
            "Epoch 42/50\n",
            "\u001b[1m1655/1655\u001b[0m \u001b[32m━━━━━━━━━━━━━━━━━━━━\u001b[0m\u001b[37m\u001b[0m \u001b[1m141s\u001b[0m 85ms/step - accuracy: 1.0000 - loss: 2.0353e-11 - val_accuracy: 1.0000 - val_loss: 1.3327e-11\n",
            "Epoch 43/50\n",
            "\u001b[1m1655/1655\u001b[0m \u001b[32m━━━━━━━━━━━━━━━━━━━━\u001b[0m\u001b[37m\u001b[0m \u001b[1m142s\u001b[0m 86ms/step - accuracy: 1.0000 - loss: 2.0745e-11 - val_accuracy: 1.0000 - val_loss: 1.2802e-11\n",
            "Epoch 44/50\n",
            "\u001b[1m1655/1655\u001b[0m \u001b[32m━━━━━━━━━━━━━━━━━━━━\u001b[0m\u001b[37m\u001b[0m \u001b[1m201s\u001b[0m 85ms/step - accuracy: 1.0000 - loss: 1.8980e-11 - val_accuracy: 1.0000 - val_loss: 1.2320e-11\n",
            "Epoch 45/50\n",
            "\u001b[1m1655/1655\u001b[0m \u001b[32m━━━━━━━━━━━━━━━━━━━━\u001b[0m\u001b[37m\u001b[0m \u001b[1m142s\u001b[0m 86ms/step - accuracy: 1.0000 - loss: 1.6669e-11 - val_accuracy: 1.0000 - val_loss: 1.1872e-11\n",
            "Epoch 46/50\n",
            "\u001b[1m1655/1655\u001b[0m \u001b[32m━━━━━━━━━━━━━━━━━━━━\u001b[0m\u001b[37m\u001b[0m \u001b[1m143s\u001b[0m 86ms/step - accuracy: 1.0000 - loss: 1.7714e-11 - val_accuracy: 1.0000 - val_loss: 1.1457e-11\n",
            "Epoch 47/50\n",
            "\u001b[1m1655/1655\u001b[0m \u001b[32m━━━━━━━━━━━━━━━━━━━━\u001b[0m\u001b[37m\u001b[0m \u001b[1m201s\u001b[0m 86ms/step - accuracy: 1.0000 - loss: 1.7925e-11 - val_accuracy: 1.0000 - val_loss: 1.1075e-11\n",
            "Epoch 48/50\n",
            "\u001b[1m1655/1655\u001b[0m \u001b[32m━━━━━━━━━━━━━━━━━━━━\u001b[0m\u001b[37m\u001b[0m \u001b[1m142s\u001b[0m 86ms/step - accuracy: 1.0000 - loss: 1.5434e-11 - val_accuracy: 1.0000 - val_loss: 1.0711e-11\n",
            "Epoch 49/50\n",
            "\u001b[1m1655/1655\u001b[0m \u001b[32m━━━━━━━━━━━━━━━━━━━━\u001b[0m\u001b[37m\u001b[0m \u001b[1m203s\u001b[0m 86ms/step - accuracy: 1.0000 - loss: 1.3013e-11 - val_accuracy: 1.0000 - val_loss: 1.0374e-11\n",
            "Epoch 50/50\n",
            "\u001b[1m1655/1655\u001b[0m \u001b[32m━━━━━━━━━━━━━━━━━━━━\u001b[0m\u001b[37m\u001b[0m \u001b[1m143s\u001b[0m 87ms/step - accuracy: 1.0000 - loss: 1.5608e-11 - val_accuracy: 1.0000 - val_loss: 1.0056e-11\n",
            "\u001b[1m1723/1723\u001b[0m \u001b[32m━━━━━━━━━━━━━━━━━━━━\u001b[0m\u001b[37m\u001b[0m \u001b[1m17s\u001b[0m 10ms/step\n",
            "\n",
            "ROC-AUC: 1.0000\n",
            "PR-AUC:  1.0000\n",
            "\n",
            "\u001b[1m  6/216\u001b[0m \u001b[37m━━━━━━━━━━━━━━━━━━━━\u001b[0m \u001b[1m2s\u001b[0m 12ms/step"
          ]
        },
        {
          "output_type": "stream",
          "name": "stderr",
          "text": [
            "/usr/local/lib/python3.11/dist-packages/tensorflow/python/data/ops/structured_function.py:258: UserWarning:\n",
            "\n",
            "Even though the `tf.config.experimental_run_functions_eagerly` option is set, this option does not apply to tf.data functions. To force eager execution of tf.data functions, please use `tf.data.experimental.enable_debug_mode()`.\n",
            "\n"
          ]
        },
        {
          "output_type": "stream",
          "name": "stdout",
          "text": [
            "\u001b[1m216/216\u001b[0m \u001b[32m━━━━━━━━━━━━━━━━━━━━\u001b[0m\u001b[37m\u001b[0m \u001b[1m3s\u001b[0m 13ms/step\n",
            "              precision    recall  f1-score   support\n",
            "\n",
            "           0       1.00      1.00      1.00     55038\n",
            "           1       1.00      1.00      1.00        95\n",
            "\n",
            "    accuracy                           1.00     55133\n",
            "   macro avg       1.00      1.00      1.00     55133\n",
            "weighted avg       1.00      1.00      1.00     55133\n",
            "\n"
          ]
        },
        {
          "output_type": "display_data",
          "data": {
            "text/plain": [
              "<Figure size 600x500 with 2 Axes>"
            ],
            "image/png": "[encoded data removed]"
          },
          "metadata": {}
        }
      ],
      "source": [
        "# 7) Build a fresh discriminator for classification\n",
        "def build_classifier(data_dim, cond_dim):\n",
        "    x_in = Input((data_dim,), name=\"x_in\")\n",
        "    c_in = Input((cond_dim,),    name=\"c_in\")\n",
        "    x = Concatenate()([x_in, c_in])\n",
        "    for units in (512, 512, 256):\n",
        "        x = Dense(units)(x)\n",
        "        x = LeakyReLU(0.2)(x)\n",
        "    out = Dense(1, activation=\"sigmoid\")(x)\n",
        "    return Model([x_in, c_in], out, name=\"clf\")\n",
        "\n",
        "clf = build_classifier(X_train.shape[1], 2)\n",
        "clf.compile(loss=\"binary_crossentropy\",\n",
        "            optimizer=Adam(2e-4, 0.5),\n",
        "            metrics=[\"accuracy\"])\n",
        "\n",
        "# attach conditional inputs for classifier training\n",
        "cond_gen = tf.one_hot(gen_y_train.flatten(), depth=2)\n",
        "\n",
        "clf.fit(\n",
        "    [gen_X_train, cond_gen],\n",
        "    gen_y_train,\n",
        "    epochs=50,\n",
        "    batch_size=256,\n",
        "    validation_split=0.1\n",
        ")\n",
        "\n",
        "\n",
        "# Predict on REAL hold-out + metrics (ROC-AUC & PR-AUC) ---\n",
        "# Need to create conditional inputs for the test set as well\n",
        "cond_test = tf.one_hot(y_test.astype(int), depth=2)\n",
        "y_prob = clf.predict([X_test, cond_test])[:, 0] # Use predict and select the first column (probability of class 1)\n",
        "y_pred = (y_prob >= 0.5).astype(int)\n",
        "\n",
        "roc = roc_auc_score(y_test, y_prob)\n",
        "pr  = average_precision_score(y_test, y_prob)\n",
        "\n",
        "print(f\"\\nROC-AUC: {roc:.4f}\")\n",
        "print(f\"PR-AUC:  {pr:.4f}\\n\")\n",
        "# 9) Evaluate on hold-out set (no synthetic)\n",
        "cond_test = tf.one_hot(y_test.astype(int), depth=2)\n",
        "y_prob = clf.predict([X_test, cond_test], batch_size=256).ravel()\n",
        "y_pred = (y_prob > 0.5).astype(int)\n",
        "\n",
        "print(classification_report(y_test, y_pred))\n",
        "cm = confusion_matrix(y_test, y_pred)\n",
        "plt.figure(figsize=(6,5))\n",
        "sns.heatmap(cm, annot=True, fmt=\"d\", cmap=\"Blues\",\n",
        "            xticklabels=[0,1], yticklabels=[0,1])\n",
        "plt.title(\"Discriminator as Classifier\")\n",
        "plt.xlabel(\"Predicted\")\n",
        "plt.ylabel(\"True\")\n",
        "plt.show()"
      ]
    },
    {
      "cell_type": "markdown",
      "source": [
        "Interpretation\n",
        "\n",
        "The WCGAN discriminator classifier perfectly separated normal vs. anomaly cases on the test set.\n",
        "\n",
        "This is far stronger than earlier GAN/Discriminator baselines, which had good but imperfect trade-offs (e.g., PR-AUC 0.73–0.81, F1 ≈ 0.80–0.84).\n",
        "\n",
        "It suggests the Wasserstein training objective stabilized the discriminator, leading to a model that generalizes very well without collapsing or misclassifying anomalies.\n",
        "\n",
        "However, perfect results can sometimes indicate overfitting or data leakage, so it’s important to verify with cross-validation or an independent dataset."
      ],
      "metadata": {
        "id": "l9ndbml41Q7b"
      },
      "id": "l9ndbml41Q7b"
    },
    {
      "cell_type": "markdown",
      "source": [
        "Conclusion\n",
        "\n",
        "WCGAN + Discriminator as Classifier is the strongest model so far, achieving perfect precision, recall, and F1 on the test set.\n",
        "\n",
        "This approach outperforms VAEGAN, GAN-RNN/LSTM, and Autoencoder baselines, at least on the evaluated test set.\n",
        "\n",
        "Next step should be to stress-test its generalization on unseen or noisier data, to confirm whether performance truly holds outside this evaluation."
      ],
      "metadata": {
        "id": "snJj4P9G1T_j"
      },
      "id": "snJj4P9G1T_j"
    },
    {
      "cell_type": "markdown",
      "source": [
        "Referneces-[A hybrid deep learning approach with generative adversarial network for credit card fraud detection](https://doi.org/10.3390/technologies12100186), [Improving detection of credit card fraudulent transactions using generative adversarial networks](https://arxiv.org/abs/1907.03355),"
      ],
      "metadata": {
        "id": "zVOxU4aw1XeL"
      },
      "id": "zVOxU4aw1XeL"
    },
    {
      "cell_type": "markdown",
      "source": [
        "Note- ChatGPT used for understanding results and how discriminator can be used."
      ],
      "metadata": {
        "id": "XKTlEbgT1iPP"
      },
      "id": "XKTlEbgT1iPP"
    },
    {
      "cell_type": "code",
      "source": [],
      "metadata": {
        "id": "Gzudo0Je1ivL"
      },
      "id": "Gzudo0Je1ivL",
      "execution_count": null,
      "outputs": []
    }
  ],
  "metadata": {
    "accelerator": "GPU",
    "colab": {
      "gpuType": "T4",
      "provenance": []
    },
    "kaggle": {
      "accelerator": "none",
      "dataSources": [
        {
          "datasetId": 310,
          "sourceId": 23498,
          "sourceType": "datasetVersion"
        }
      ],
      "dockerImageVersionId": 30822,
      "isGpuEnabled": false,
      "isInternetEnabled": true,
      "language": "python",
      "sourceType": "notebook"
    },
    "kernelspec": {
      "display_name": "Python 3",
      "name": "python3"
    },
    "language_info": {
      "codemirror_mode": {
        "name": "ipython",
        "version": 3
      },
      "file_extension": ".py",
      "mimetype": "text/x-python",
      "name": "python",
      "nbconvert_exporter": "python",
      "pygments_lexer": "ipython3",
      "version": "3.10.12"
    },
    "papermill": {
      "default_parameters": {},
      "duration": 1846.66889,
      "end_time": "2024-12-30T03:00:04.367340",
      "environment_variables": {},
      "exception": null,
      "input_path": "__notebook__.ipynb",
      "output_path": "__notebook__.ipynb",
      "parameters": {},
      "start_time": "2024-12-30T02:29:17.698450",
      "version": "2.6.0"
    }
  },
  "nbformat": 4,
  "nbformat_minor": 5
}