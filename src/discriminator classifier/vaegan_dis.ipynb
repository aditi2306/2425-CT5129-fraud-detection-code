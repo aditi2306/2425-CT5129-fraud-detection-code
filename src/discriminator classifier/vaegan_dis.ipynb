{
  "cells": [
    {
      "cell_type": "markdown",
      "source": [
        "#VAEGAN with Discriminator as Classifier"
      ],
      "metadata": {
        "id": "QxfK990HxjOo"
      },
      "id": "QxfK990HxjOo"
    },
    {
      "cell_type": "markdown",
      "id": "95b87982",
      "metadata": {
        "id": "95b87982"
      },
      "source": [
        "## Importing Libraries"
      ]
    },
    {
      "cell_type": "code",
      "execution_count": null,
      "id": "cb2d1424",
      "metadata": {
        "id": "cb2d1424"
      },
      "outputs": [],
      "source": [
        "import os\n",
        "import keras\n",
        "import numpy as np\n",
        "import pandas as pd\n",
        "import seaborn as sns\n",
        "import plotly.express as px\n",
        "import plotly.graph_objects as go\n",
        "import matplotlib.pyplot as plt\n",
        "import lightgbm as lgb\n",
        "from sklearn.model_selection import train_test_split\n",
        "from sklearn.preprocessing import QuantileTransformer\n",
        "from sklearn.preprocessing import StandardScaler, MinMaxScaler\n",
        "from tensorflow.keras.layers import Input, Dense, Reshape, Flatten, Dropout, multiply, Concatenate\n",
        "from tensorflow.keras.layers import BatchNormalization, Activation, Embedding, ZeroPadding2D, LeakyReLU\n",
        "from tensorflow.keras.models import Sequential, Model\n",
        "from tensorflow.keras.optimizers import Adam, RMSprop\n",
        "from tensorflow.keras.initializers import RandomNormal\n",
        "import tensorflow.keras.backend as K\n",
        "from sklearn.utils import shuffle\n",
        "from sklearn.metrics import precision_score, recall_score, f1_score,\\\n",
        "                            accuracy_score, balanced_accuracy_score,classification_report,\\\n",
        "                            confusion_matrix,roc_auc_score,average_precision_score\n",
        "from lightgbm import LGBMClassifier"
      ]
    },
    {
      "cell_type": "code",
      "execution_count": null,
      "id": "QgenRhZYJcmv",
      "metadata": {
        "id": "QgenRhZYJcmv"
      },
      "outputs": [],
      "source": [
        "import tensorflow as tf\n",
        "tf.config.run_functions_eagerly(True)\n"
      ]
    },
    {
      "cell_type": "markdown",
      "id": "90a60195",
      "metadata": {
        "id": "90a60195"
      },
      "source": [
        "## EDA"
      ]
    },
    {
      "cell_type": "code",
      "execution_count": null,
      "id": "79bf21d7",
      "metadata": {
        "colab": {
          "base_uri": "https://localhost:8080/"
        },
        "id": "79bf21d7",
        "outputId": "0a98f3fa-d3d5-4855-8f45-32e795059c86"
      },
      "outputs": [
        {
          "output_type": "stream",
          "name": "stdout",
          "text": [
            "<class 'pandas.core.frame.DataFrame'>\n",
            "RangeIndex: 284807 entries, 0 to 284806\n",
            "Data columns (total 30 columns):\n",
            " #   Column  Non-Null Count   Dtype  \n",
            "---  ------  --------------   -----  \n",
            " 0   V1      284807 non-null  float64\n",
            " 1   V2      284807 non-null  float64\n",
            " 2   V3      284807 non-null  float64\n",
            " 3   V4      284807 non-null  float64\n",
            " 4   V5      284807 non-null  float64\n",
            " 5   V6      284807 non-null  float64\n",
            " 6   V7      284807 non-null  float64\n",
            " 7   V8      284807 non-null  float64\n",
            " 8   V9      284807 non-null  float64\n",
            " 9   V10     284807 non-null  float64\n",
            " 10  V11     284807 non-null  float64\n",
            " 11  V12     284807 non-null  float64\n",
            " 12  V13     284807 non-null  float64\n",
            " 13  V14     284807 non-null  float64\n",
            " 14  V15     284807 non-null  float64\n",
            " 15  V16     284807 non-null  float64\n",
            " 16  V17     284807 non-null  float64\n",
            " 17  V18     284807 non-null  float64\n",
            " 18  V19     284807 non-null  float64\n",
            " 19  V20     284807 non-null  float64\n",
            " 20  V21     284807 non-null  float64\n",
            " 21  V22     284807 non-null  float64\n",
            " 22  V23     284807 non-null  float64\n",
            " 23  V24     284807 non-null  float64\n",
            " 24  V25     284807 non-null  float64\n",
            " 25  V26     284807 non-null  float64\n",
            " 26  V27     284807 non-null  float64\n",
            " 27  V28     284807 non-null  float64\n",
            " 28  Amount  284807 non-null  float64\n",
            " 29  Class   284807 non-null  int64  \n",
            "dtypes: float64(29), int64(1)\n",
            "memory usage: 65.2 MB\n"
          ]
        }
      ],
      "source": [
        "df=pd.read_csv('./creditcard.csv')\n",
        "df=df.drop('Time',axis=1)\n",
        "df.head()\n",
        "df.info()"
      ]
    },
    {
      "cell_type": "markdown",
      "id": "a828e2f8",
      "metadata": {
        "id": "a828e2f8"
      },
      "source": [
        "PCA Transformation: The description of the data says that all the features went through a PCA transformation (Except for time and amount).  \n",
        "Scaling: Keep in mind that in order to implement a PCA transformation features need to be previously scaled."
      ]
    },
    {
      "cell_type": "code",
      "execution_count": null,
      "id": "b13394f3",
      "metadata": {
        "colab": {
          "base_uri": "https://localhost:8080/",
          "height": 350
        },
        "id": "b13394f3",
        "outputId": "c30651aa-b41f-4594-eb2e-ad5548746b1c"
      },
      "outputs": [
        {
          "output_type": "execute_result",
          "data": {
            "text/plain": [
              "                 V1            V2            V3            V4            V5  \\\n",
              "count  2.848070e+05  2.848070e+05  2.848070e+05  2.848070e+05  2.848070e+05   \n",
              "mean   1.168375e-15  3.416908e-16 -1.379537e-15  2.074095e-15  9.604066e-16   \n",
              "std    1.958696e+00  1.651309e+00  1.516255e+00  1.415869e+00  1.380247e+00   \n",
              "min   -5.640751e+01 -7.271573e+01 -4.832559e+01 -5.683171e+00 -1.137433e+02   \n",
              "25%   -9.203734e-01 -5.985499e-01 -8.903648e-01 -8.486401e-01 -6.915971e-01   \n",
              "50%    1.810880e-02  6.548556e-02  1.798463e-01 -1.984653e-02 -5.433583e-02   \n",
              "75%    1.315642e+00  8.037239e-01  1.027196e+00  7.433413e-01  6.119264e-01   \n",
              "max    2.454930e+00  2.205773e+01  9.382558e+00  1.687534e+01  3.480167e+01   \n",
              "\n",
              "                 V6            V7            V8            V9           V10  \\\n",
              "count  2.848070e+05  2.848070e+05  2.848070e+05  2.848070e+05  2.848070e+05   \n",
              "mean   1.487313e-15 -5.556467e-16  1.213481e-16 -2.406331e-15  2.239053e-15   \n",
              "std    1.332271e+00  1.237094e+00  1.194353e+00  1.098632e+00  1.088850e+00   \n",
              "min   -2.616051e+01 -4.355724e+01 -7.321672e+01 -1.343407e+01 -2.458826e+01   \n",
              "25%   -7.682956e-01 -5.540759e-01 -2.086297e-01 -6.430976e-01 -5.354257e-01   \n",
              "50%   -2.741871e-01  4.010308e-02  2.235804e-02 -5.142873e-02 -9.291738e-02   \n",
              "75%    3.985649e-01  5.704361e-01  3.273459e-01  5.971390e-01  4.539234e-01   \n",
              "max    7.330163e+01  1.205895e+02  2.000721e+01  1.559499e+01  2.374514e+01   \n",
              "\n",
              "       ...           V21           V22           V23           V24  \\\n",
              "count  ...  2.848070e+05  2.848070e+05  2.848070e+05  2.848070e+05   \n",
              "mean   ...  1.654067e-16 -3.568593e-16  2.578648e-16  4.473266e-15   \n",
              "std    ...  7.345240e-01  7.257016e-01  6.244603e-01  6.056471e-01   \n",
              "min    ... -3.483038e+01 -1.093314e+01 -4.480774e+01 -2.836627e+00   \n",
              "25%    ... -2.283949e-01 -5.423504e-01 -1.618463e-01 -3.545861e-01   \n",
              "50%    ... -2.945017e-02  6.781943e-03 -1.119293e-02  4.097606e-02   \n",
              "75%    ...  1.863772e-01  5.285536e-01  1.476421e-01  4.395266e-01   \n",
              "max    ...  2.720284e+01  1.050309e+01  2.252841e+01  4.584549e+00   \n",
              "\n",
              "                V25           V26           V27           V28         Amount  \\\n",
              "count  2.848070e+05  2.848070e+05  2.848070e+05  2.848070e+05  284807.000000   \n",
              "mean   5.340915e-16  1.683437e-15 -3.660091e-16 -1.227390e-16      88.349619   \n",
              "std    5.212781e-01  4.822270e-01  4.036325e-01  3.300833e-01     250.120109   \n",
              "min   -1.029540e+01 -2.604551e+00 -2.256568e+01 -1.543008e+01       0.000000   \n",
              "25%   -3.171451e-01 -3.269839e-01 -7.083953e-02 -5.295979e-02       5.600000   \n",
              "50%    1.659350e-02 -5.213911e-02  1.342146e-03  1.124383e-02      22.000000   \n",
              "75%    3.507156e-01  2.409522e-01  9.104512e-02  7.827995e-02      77.165000   \n",
              "max    7.519589e+00  3.517346e+00  3.161220e+01  3.384781e+01   25691.160000   \n",
              "\n",
              "               Class  \n",
              "count  284807.000000  \n",
              "mean        0.001727  \n",
              "std         0.041527  \n",
              "min         0.000000  \n",
              "25%         0.000000  \n",
              "50%         0.000000  \n",
              "75%         0.000000  \n",
              "max         1.000000  \n",
              "\n",
              "[8 rows x 30 columns]"
            ],
            "text/html": [
              "\n",
              "  <div id=\"df-0a191d42-f8ca-4019-a3a1-fe6a4dcc92a2\" class=\"colab-df-container\">\n",
              "    <div>\n",
              "<style scoped>\n",
              "    .dataframe tbody tr th:only-of-type {\n",
              "        vertical-align: middle;\n",
              "    }\n",
              "\n",
              "    .dataframe tbody tr th {\n",
              "        vertical-align: top;\n",
              "    }\n",
              "\n",
              "    .dataframe thead th {\n",
              "        text-align: right;\n",
              "    }\n",
              "</style>\n",
              "<table border=\"1\" class=\"dataframe\">\n",
              "  <thead>\n",
              "    <tr style=\"text-align: right;\">\n",
              "      <th></th>\n",
              "      <th>V1</th>\n",
              "      <th>V2</th>\n",
              "      <th>V3</th>\n",
              "      <th>V4</th>\n",
              "      <th>V5</th>\n",
              "      <th>V6</th>\n",
              "      <th>V7</th>\n",
              "      <th>V8</th>\n",
              "      <th>V9</th>\n",
              "      <th>V10</th>\n",
              "      <th>...</th>\n",
              "      <th>V21</th>\n",
              "      <th>V22</th>\n",
              "      <th>V23</th>\n",
              "      <th>V24</th>\n",
              "      <th>V25</th>\n",
              "      <th>V26</th>\n",
              "      <th>V27</th>\n",
              "      <th>V28</th>\n",
              "      <th>Amount</th>\n",
              "      <th>Class</th>\n",
              "    </tr>\n",
              "  </thead>\n",
              "  <tbody>\n",
              "    <tr>\n",
              "      <th>count</th>\n",
              "      <td>2.848070e+05</td>\n",
              "      <td>2.848070e+05</td>\n",
              "      <td>2.848070e+05</td>\n",
              "      <td>2.848070e+05</td>\n",
              "      <td>2.848070e+05</td>\n",
              "      <td>2.848070e+05</td>\n",
              "      <td>2.848070e+05</td>\n",
              "      <td>2.848070e+05</td>\n",
              "      <td>2.848070e+05</td>\n",
              "      <td>2.848070e+05</td>\n",
              "      <td>...</td>\n",
              "      <td>2.848070e+05</td>\n",
              "      <td>2.848070e+05</td>\n",
              "      <td>2.848070e+05</td>\n",
              "      <td>2.848070e+05</td>\n",
              "      <td>2.848070e+05</td>\n",
              "      <td>2.848070e+05</td>\n",
              "      <td>2.848070e+05</td>\n",
              "      <td>2.848070e+05</td>\n",
              "      <td>284807.000000</td>\n",
              "      <td>284807.000000</td>\n",
              "    </tr>\n",
              "    <tr>\n",
              "      <th>mean</th>\n",
              "      <td>1.168375e-15</td>\n",
              "      <td>3.416908e-16</td>\n",
              "      <td>-1.379537e-15</td>\n",
              "      <td>2.074095e-15</td>\n",
              "      <td>9.604066e-16</td>\n",
              "      <td>1.487313e-15</td>\n",
              "      <td>-5.556467e-16</td>\n",
              "      <td>1.213481e-16</td>\n",
              "      <td>-2.406331e-15</td>\n",
              "      <td>2.239053e-15</td>\n",
              "      <td>...</td>\n",
              "      <td>1.654067e-16</td>\n",
              "      <td>-3.568593e-16</td>\n",
              "      <td>2.578648e-16</td>\n",
              "      <td>4.473266e-15</td>\n",
              "      <td>5.340915e-16</td>\n",
              "      <td>1.683437e-15</td>\n",
              "      <td>-3.660091e-16</td>\n",
              "      <td>-1.227390e-16</td>\n",
              "      <td>88.349619</td>\n",
              "      <td>0.001727</td>\n",
              "    </tr>\n",
              "    <tr>\n",
              "      <th>std</th>\n",
              "      <td>1.958696e+00</td>\n",
              "      <td>1.651309e+00</td>\n",
              "      <td>1.516255e+00</td>\n",
              "      <td>1.415869e+00</td>\n",
              "      <td>1.380247e+00</td>\n",
              "      <td>1.332271e+00</td>\n",
              "      <td>1.237094e+00</td>\n",
              "      <td>1.194353e+00</td>\n",
              "      <td>1.098632e+00</td>\n",
              "      <td>1.088850e+00</td>\n",
              "      <td>...</td>\n",
              "      <td>7.345240e-01</td>\n",
              "      <td>7.257016e-01</td>\n",
              "      <td>6.244603e-01</td>\n",
              "      <td>6.056471e-01</td>\n",
              "      <td>5.212781e-01</td>\n",
              "      <td>4.822270e-01</td>\n",
              "      <td>4.036325e-01</td>\n",
              "      <td>3.300833e-01</td>\n",
              "      <td>250.120109</td>\n",
              "      <td>0.041527</td>\n",
              "    </tr>\n",
              "    <tr>\n",
              "      <th>min</th>\n",
              "      <td>-5.640751e+01</td>\n",
              "      <td>-7.271573e+01</td>\n",
              "      <td>-4.832559e+01</td>\n",
              "      <td>-5.683171e+00</td>\n",
              "      <td>-1.137433e+02</td>\n",
              "      <td>-2.616051e+01</td>\n",
              "      <td>-4.355724e+01</td>\n",
              "      <td>-7.321672e+01</td>\n",
              "      <td>-1.343407e+01</td>\n",
              "      <td>-2.458826e+01</td>\n",
              "      <td>...</td>\n",
              "      <td>-3.483038e+01</td>\n",
              "      <td>-1.093314e+01</td>\n",
              "      <td>-4.480774e+01</td>\n",
              "      <td>-2.836627e+00</td>\n",
              "      <td>-1.029540e+01</td>\n",
              "      <td>-2.604551e+00</td>\n",
              "      <td>-2.256568e+01</td>\n",
              "      <td>-1.543008e+01</td>\n",
              "      <td>0.000000</td>\n",
              "      <td>0.000000</td>\n",
              "    </tr>\n",
              "    <tr>\n",
              "      <th>25%</th>\n",
              "      <td>-9.203734e-01</td>\n",
              "      <td>-5.985499e-01</td>\n",
              "      <td>-8.903648e-01</td>\n",
              "      <td>-8.486401e-01</td>\n",
              "      <td>-6.915971e-01</td>\n",
              "      <td>-7.682956e-01</td>\n",
              "      <td>-5.540759e-01</td>\n",
              "      <td>-2.086297e-01</td>\n",
              "      <td>-6.430976e-01</td>\n",
              "      <td>-5.354257e-01</td>\n",
              "      <td>...</td>\n",
              "      <td>-2.283949e-01</td>\n",
              "      <td>-5.423504e-01</td>\n",
              "      <td>-1.618463e-01</td>\n",
              "      <td>-3.545861e-01</td>\n",
              "      <td>-3.171451e-01</td>\n",
              "      <td>-3.269839e-01</td>\n",
              "      <td>-7.083953e-02</td>\n",
              "      <td>-5.295979e-02</td>\n",
              "      <td>5.600000</td>\n",
              "      <td>0.000000</td>\n",
              "    </tr>\n",
              "    <tr>\n",
              "      <th>50%</th>\n",
              "      <td>1.810880e-02</td>\n",
              "      <td>6.548556e-02</td>\n",
              "      <td>1.798463e-01</td>\n",
              "      <td>-1.984653e-02</td>\n",
              "      <td>-5.433583e-02</td>\n",
              "      <td>-2.741871e-01</td>\n",
              "      <td>4.010308e-02</td>\n",
              "      <td>2.235804e-02</td>\n",
              "      <td>-5.142873e-02</td>\n",
              "      <td>-9.291738e-02</td>\n",
              "      <td>...</td>\n",
              "      <td>-2.945017e-02</td>\n",
              "      <td>6.781943e-03</td>\n",
              "      <td>-1.119293e-02</td>\n",
              "      <td>4.097606e-02</td>\n",
              "      <td>1.659350e-02</td>\n",
              "      <td>-5.213911e-02</td>\n",
              "      <td>1.342146e-03</td>\n",
              "      <td>1.124383e-02</td>\n",
              "      <td>22.000000</td>\n",
              "      <td>0.000000</td>\n",
              "    </tr>\n",
              "    <tr>\n",
              "      <th>75%</th>\n",
              "      <td>1.315642e+00</td>\n",
              "      <td>8.037239e-01</td>\n",
              "      <td>1.027196e+00</td>\n",
              "      <td>7.433413e-01</td>\n",
              "      <td>6.119264e-01</td>\n",
              "      <td>3.985649e-01</td>\n",
              "      <td>5.704361e-01</td>\n",
              "      <td>3.273459e-01</td>\n",
              "      <td>5.971390e-01</td>\n",
              "      <td>4.539234e-01</td>\n",
              "      <td>...</td>\n",
              "      <td>1.863772e-01</td>\n",
              "      <td>5.285536e-01</td>\n",
              "      <td>1.476421e-01</td>\n",
              "      <td>4.395266e-01</td>\n",
              "      <td>3.507156e-01</td>\n",
              "      <td>2.409522e-01</td>\n",
              "      <td>9.104512e-02</td>\n",
              "      <td>7.827995e-02</td>\n",
              "      <td>77.165000</td>\n",
              "      <td>0.000000</td>\n",
              "    </tr>\n",
              "    <tr>\n",
              "      <th>max</th>\n",
              "      <td>2.454930e+00</td>\n",
              "      <td>2.205773e+01</td>\n",
              "      <td>9.382558e+00</td>\n",
              "      <td>1.687534e+01</td>\n",
              "      <td>3.480167e+01</td>\n",
              "      <td>7.330163e+01</td>\n",
              "      <td>1.205895e+02</td>\n",
              "      <td>2.000721e+01</td>\n",
              "      <td>1.559499e+01</td>\n",
              "      <td>2.374514e+01</td>\n",
              "      <td>...</td>\n",
              "      <td>2.720284e+01</td>\n",
              "      <td>1.050309e+01</td>\n",
              "      <td>2.252841e+01</td>\n",
              "      <td>4.584549e+00</td>\n",
              "      <td>7.519589e+00</td>\n",
              "      <td>3.517346e+00</td>\n",
              "      <td>3.161220e+01</td>\n",
              "      <td>3.384781e+01</td>\n",
              "      <td>25691.160000</td>\n",
              "      <td>1.000000</td>\n",
              "    </tr>\n",
              "  </tbody>\n",
              "</table>\n",
              "<p>8 rows × 30 columns</p>\n",
              "</div>\n",
              "    <div class=\"colab-df-buttons\">\n",
              "\n",
              "  <div class=\"colab-df-container\">\n",
              "    <button class=\"colab-df-convert\" onclick=\"convertToInteractive('df-0a191d42-f8ca-4019-a3a1-fe6a4dcc92a2')\"\n",
              "            title=\"Convert this dataframe to an interactive table.\"\n",
              "            style=\"display:none;\">\n",
              "\n",
              "  <svg xmlns=\"http://www.w3.org/2000/svg\" height=\"24px\" viewBox=\"0 -960 960 960\">\n",
              "    <path d=\"M120-120v-720h720v720H120Zm60-500h600v-160H180v160Zm220 220h160v-160H400v160Zm0 220h160v-160H400v160ZM180-400h160v-160H180v160Zm440 0h160v-160H620v160ZM180-180h160v-160H180v160Zm440 0h160v-160H620v160Z\"/>\n",
              "  </svg>\n",
              "    </button>\n",
              "\n",
              "  <style>\n",
              "    .colab-df-container {\n",
              "      display:flex;\n",
              "      gap: 12px;\n",
              "    }\n",
              "\n",
              "    .colab-df-convert {\n",
              "      background-color: #E8F0FE;\n",
              "      border: none;\n",
              "      border-radius: 50%;\n",
              "      cursor: pointer;\n",
              "      display: none;\n",
              "      fill: #1967D2;\n",
              "      height: 32px;\n",
              "      padding: 0 0 0 0;\n",
              "      width: 32px;\n",
              "    }\n",
              "\n",
              "    .colab-df-convert:hover {\n",
              "      background-color: #E2EBFA;\n",
              "      box-shadow: 0px 1px 2px rgba(60, 64, 67, 0.3), 0px 1px 3px 1px rgba(60, 64, 67, 0.15);\n",
              "      fill: #174EA6;\n",
              "    }\n",
              "\n",
              "    .colab-df-buttons div {\n",
              "      margin-bottom: 4px;\n",
              "    }\n",
              "\n",
              "    [theme=dark] .colab-df-convert {\n",
              "      background-color: #3B4455;\n",
              "      fill: #D2E3FC;\n",
              "    }\n",
              "\n",
              "    [theme=dark] .colab-df-convert:hover {\n",
              "      background-color: #434B5C;\n",
              "      box-shadow: 0px 1px 3px 1px rgba(0, 0, 0, 0.15);\n",
              "      filter: drop-shadow(0px 1px 2px rgba(0, 0, 0, 0.3));\n",
              "      fill: #FFFFFF;\n",
              "    }\n",
              "  </style>\n",
              "\n",
              "    <script>\n",
              "      const buttonEl =\n",
              "        document.querySelector('#df-0a191d42-f8ca-4019-a3a1-fe6a4dcc92a2 button.colab-df-convert');\n",
              "      buttonEl.style.display =\n",
              "        google.colab.kernel.accessAllowed ? 'block' : 'none';\n",
              "\n",
              "      async function convertToInteractive(key) {\n",
              "        const element = document.querySelector('#df-0a191d42-f8ca-4019-a3a1-fe6a4dcc92a2');\n",
              "        const dataTable =\n",
              "          await google.colab.kernel.invokeFunction('convertToInteractive',\n",
              "                                                    [key], {});\n",
              "        if (!dataTable) return;\n",
              "\n",
              "        const docLinkHtml = 'Like what you see? Visit the ' +\n",
              "          '<a target=\"_blank\" href=https://colab.research.google.com/notebooks/data_table.ipynb>data table notebook</a>'\n",
              "          + ' to learn more about interactive tables.';\n",
              "        element.innerHTML = '';\n",
              "        dataTable['output_type'] = 'display_data';\n",
              "        await google.colab.output.renderOutput(dataTable, element);\n",
              "        const docLink = document.createElement('div');\n",
              "        docLink.innerHTML = docLinkHtml;\n",
              "        element.appendChild(docLink);\n",
              "      }\n",
              "    </script>\n",
              "  </div>\n",
              "\n",
              "\n",
              "    <div id=\"df-e875e6f9-9254-4535-a09f-65e04c7c8337\">\n",
              "      <button class=\"colab-df-quickchart\" onclick=\"quickchart('df-e875e6f9-9254-4535-a09f-65e04c7c8337')\"\n",
              "                title=\"Suggest charts\"\n",
              "                style=\"display:none;\">\n",
              "\n",
              "<svg xmlns=\"http://www.w3.org/2000/svg\" height=\"24px\"viewBox=\"0 0 24 24\"\n",
              "     width=\"24px\">\n",
              "    <g>\n",
              "        <path d=\"M19 3H5c-1.1 0-2 .9-2 2v14c0 1.1.9 2 2 2h14c1.1 0 2-.9 2-2V5c0-1.1-.9-2-2-2zM9 17H7v-7h2v7zm4 0h-2V7h2v10zm4 0h-2v-4h2v4z\"/>\n",
              "    </g>\n",
              "</svg>\n",
              "      </button>\n",
              "\n",
              "<style>\n",
              "  .colab-df-quickchart {\n",
              "      --bg-color: #E8F0FE;\n",
              "      --fill-color: #1967D2;\n",
              "      --hover-bg-color: #E2EBFA;\n",
              "      --hover-fill-color: #174EA6;\n",
              "      --disabled-fill-color: #AAA;\n",
              "      --disabled-bg-color: #DDD;\n",
              "  }\n",
              "\n",
              "  [theme=dark] .colab-df-quickchart {\n",
              "      --bg-color: #3B4455;\n",
              "      --fill-color: #D2E3FC;\n",
              "      --hover-bg-color: #434B5C;\n",
              "      --hover-fill-color: #FFFFFF;\n",
              "      --disabled-bg-color: #3B4455;\n",
              "      --disabled-fill-color: #666;\n",
              "  }\n",
              "\n",
              "  .colab-df-quickchart {\n",
              "    background-color: var(--bg-color);\n",
              "    border: none;\n",
              "    border-radius: 50%;\n",
              "    cursor: pointer;\n",
              "    display: none;\n",
              "    fill: var(--fill-color);\n",
              "    height: 32px;\n",
              "    padding: 0;\n",
              "    width: 32px;\n",
              "  }\n",
              "\n",
              "  .colab-df-quickchart:hover {\n",
              "    background-color: var(--hover-bg-color);\n",
              "    box-shadow: 0 1px 2px rgba(60, 64, 67, 0.3), 0 1px 3px 1px rgba(60, 64, 67, 0.15);\n",
              "    fill: var(--button-hover-fill-color);\n",
              "  }\n",
              "\n",
              "  .colab-df-quickchart-complete:disabled,\n",
              "  .colab-df-quickchart-complete:disabled:hover {\n",
              "    background-color: var(--disabled-bg-color);\n",
              "    fill: var(--disabled-fill-color);\n",
              "    box-shadow: none;\n",
              "  }\n",
              "\n",
              "  .colab-df-spinner {\n",
              "    border: 2px solid var(--fill-color);\n",
              "    border-color: transparent;\n",
              "    border-bottom-color: var(--fill-color);\n",
              "    animation:\n",
              "      spin 1s steps(1) infinite;\n",
              "  }\n",
              "\n",
              "  @keyframes spin {\n",
              "    0% {\n",
              "      border-color: transparent;\n",
              "      border-bottom-color: var(--fill-color);\n",
              "      border-left-color: var(--fill-color);\n",
              "    }\n",
              "    20% {\n",
              "      border-color: transparent;\n",
              "      border-left-color: var(--fill-color);\n",
              "      border-top-color: var(--fill-color);\n",
              "    }\n",
              "    30% {\n",
              "      border-color: transparent;\n",
              "      border-left-color: var(--fill-color);\n",
              "      border-top-color: var(--fill-color);\n",
              "      border-right-color: var(--fill-color);\n",
              "    }\n",
              "    40% {\n",
              "      border-color: transparent;\n",
              "      border-right-color: var(--fill-color);\n",
              "      border-top-color: var(--fill-color);\n",
              "    }\n",
              "    60% {\n",
              "      border-color: transparent;\n",
              "      border-right-color: var(--fill-color);\n",
              "    }\n",
              "    80% {\n",
              "      border-color: transparent;\n",
              "      border-right-color: var(--fill-color);\n",
              "      border-bottom-color: var(--fill-color);\n",
              "    }\n",
              "    90% {\n",
              "      border-color: transparent;\n",
              "      border-bottom-color: var(--fill-color);\n",
              "    }\n",
              "  }\n",
              "</style>\n",
              "\n",
              "      <script>\n",
              "        async function quickchart(key) {\n",
              "          const quickchartButtonEl =\n",
              "            document.querySelector('#' + key + ' button');\n",
              "          quickchartButtonEl.disabled = true;  // To prevent multiple clicks.\n",
              "          quickchartButtonEl.classList.add('colab-df-spinner');\n",
              "          try {\n",
              "            const charts = await google.colab.kernel.invokeFunction(\n",
              "                'suggestCharts', [key], {});\n",
              "          } catch (error) {\n",
              "            console.error('Error during call to suggestCharts:', error);\n",
              "          }\n",
              "          quickchartButtonEl.classList.remove('colab-df-spinner');\n",
              "          quickchartButtonEl.classList.add('colab-df-quickchart-complete');\n",
              "        }\n",
              "        (() => {\n",
              "          let quickchartButtonEl =\n",
              "            document.querySelector('#df-e875e6f9-9254-4535-a09f-65e04c7c8337 button');\n",
              "          quickchartButtonEl.style.display =\n",
              "            google.colab.kernel.accessAllowed ? 'block' : 'none';\n",
              "        })();\n",
              "      </script>\n",
              "    </div>\n",
              "\n",
              "    </div>\n",
              "  </div>\n"
            ],
            "application/vnd.google.colaboratory.intrinsic+json": {
              "type": "dataframe"
            }
          },
          "metadata": {},
          "execution_count": 4
        }
      ],
      "source": [
        "df.describe()"
      ]
    },
    {
      "cell_type": "code",
      "execution_count": null,
      "id": "306b3e6f",
      "metadata": {
        "colab": {
          "base_uri": "https://localhost:8080/"
        },
        "id": "306b3e6f",
        "outputId": "df343fab-e48c-4707-82d0-db0a51377185"
      },
      "outputs": [
        {
          "output_type": "stream",
          "name": "stdout",
          "text": [
            "Dataset has 9144 duplicate rows\n"
          ]
        }
      ],
      "source": [
        "# checking for duplicate values\n",
        "print(f\"Dataset has {df.duplicated().sum()} duplicate rows\")\n",
        "# dropping duplicate rows\n",
        "df.drop_duplicates(inplace=True)"
      ]
    },
    {
      "cell_type": "code",
      "execution_count": null,
      "id": "8b2f4c06",
      "metadata": {
        "colab": {
          "base_uri": "https://localhost:8080/"
        },
        "id": "8b2f4c06",
        "outputId": "8d4ebcd4-5442-461b-80d2-97aa57310de7"
      },
      "outputs": [
        {
          "output_type": "stream",
          "name": "stdout",
          "text": [
            "<class 'pandas.core.frame.DataFrame'>\n",
            "Index: 275663 entries, 0 to 284806\n",
            "Data columns (total 30 columns):\n",
            " #   Column  Non-Null Count   Dtype  \n",
            "---  ------  --------------   -----  \n",
            " 0   V1      275663 non-null  float64\n",
            " 1   V2      275663 non-null  float64\n",
            " 2   V3      275663 non-null  float64\n",
            " 3   V4      275663 non-null  float64\n",
            " 4   V5      275663 non-null  float64\n",
            " 5   V6      275663 non-null  float64\n",
            " 6   V7      275663 non-null  float64\n",
            " 7   V8      275663 non-null  float64\n",
            " 8   V9      275663 non-null  float64\n",
            " 9   V10     275663 non-null  float64\n",
            " 10  V11     275663 non-null  float64\n",
            " 11  V12     275663 non-null  float64\n",
            " 12  V13     275663 non-null  float64\n",
            " 13  V14     275663 non-null  float64\n",
            " 14  V15     275663 non-null  float64\n",
            " 15  V16     275663 non-null  float64\n",
            " 16  V17     275663 non-null  float64\n",
            " 17  V18     275663 non-null  float64\n",
            " 18  V19     275663 non-null  float64\n",
            " 19  V20     275663 non-null  float64\n",
            " 20  V21     275663 non-null  float64\n",
            " 21  V22     275663 non-null  float64\n",
            " 22  V23     275663 non-null  float64\n",
            " 23  V24     275663 non-null  float64\n",
            " 24  V25     275663 non-null  float64\n",
            " 25  V26     275663 non-null  float64\n",
            " 26  V27     275663 non-null  float64\n",
            " 27  V28     275663 non-null  float64\n",
            " 28  Amount  275663 non-null  float64\n",
            " 29  Class   275663 non-null  int64  \n",
            "dtypes: float64(29), int64(1)\n",
            "memory usage: 65.2 MB\n"
          ]
        }
      ],
      "source": [
        "df.info()"
      ]
    },
    {
      "cell_type": "markdown",
      "id": "c5128908",
      "metadata": {
        "id": "c5128908"
      },
      "source": [
        "There is no null values"
      ]
    },
    {
      "cell_type": "code",
      "execution_count": null,
      "id": "9d6c996a",
      "metadata": {
        "colab": {
          "base_uri": "https://localhost:8080/"
        },
        "id": "9d6c996a",
        "outputId": "a016e88b-1382-44dd-cb41-5a9b892f3084"
      },
      "outputs": [
        {
          "output_type": "stream",
          "name": "stdout",
          "text": [
            "No Frauds 99.83 % of the dataset\n",
            "Frauds 0.17 % of the dataset\n"
          ]
        }
      ],
      "source": [
        "print('No Frauds', round(df['Class'].value_counts()[0]/len(df) * 100,2), '% of the dataset')\n",
        "print('Frauds', round(df['Class'].value_counts()[1]/len(df) * 100,2), '% of the dataset')"
      ]
    },
    {
      "cell_type": "code",
      "execution_count": null,
      "id": "d88ad047",
      "metadata": {
        "colab": {
          "base_uri": "https://localhost:8080/",
          "height": 468
        },
        "id": "d88ad047",
        "outputId": "377d6629-adc4-4e80-d18f-2fa48b82b4b5"
      },
      "outputs": [
        {
          "output_type": "execute_result",
          "data": {
            "text/plain": [
              "<Axes: xlabel='Class', ylabel='count'>"
            ]
          },
          "metadata": {},
          "execution_count": 8
        },
        {
          "output_type": "display_data",
          "data": {
            "text/plain": [
              "<Figure size 640x480 with 1 Axes>"
            ],
            "image/png": "[encoded data removed]"
          },
          "metadata": {}
        }
      ],
      "source": [
        "sns.countplot(data=df,x='Class')"
      ]
    },
    {
      "cell_type": "code",
      "execution_count": null,
      "id": "30728ee8",
      "metadata": {
        "colab": {
          "base_uri": "https://localhost:8080/",
          "height": 993
        },
        "id": "30728ee8",
        "outputId": "b497b3e1-abf4-4581-ddf9-bf2439f6f707"
      },
      "outputs": [
        {
          "output_type": "execute_result",
          "data": {
            "text/plain": [
              "V1        -3.273070\n",
              "V2        -4.653486\n",
              "V3        -2.216730\n",
              "V4         0.681387\n",
              "V5        -2.458790\n",
              "V6         1.867576\n",
              "V7         2.877722\n",
              "V8        -8.292631\n",
              "V9         0.550965\n",
              "V10        1.242165\n",
              "V11        0.347772\n",
              "V12       -2.208171\n",
              "V13        0.061058\n",
              "V14       -1.953613\n",
              "V15       -0.295836\n",
              "V16       -1.048371\n",
              "V17       -3.802987\n",
              "V18       -0.255710\n",
              "V19        0.115957\n",
              "V20       -2.045060\n",
              "V21        2.784302\n",
              "V22       -0.200868\n",
              "V23       -5.805236\n",
              "V24       -0.545636\n",
              "V25       -0.408260\n",
              "V26        0.587603\n",
              "V27       -0.745732\n",
              "V28       11.400938\n",
              "Amount    16.841622\n",
              "dtype: float64"
            ],
            "text/html": [
              "<div>\n",
              "<style scoped>\n",
              "    .dataframe tbody tr th:only-of-type {\n",
              "        vertical-align: middle;\n",
              "    }\n",
              "\n",
              "    .dataframe tbody tr th {\n",
              "        vertical-align: top;\n",
              "    }\n",
              "\n",
              "    .dataframe thead th {\n",
              "        text-align: right;\n",
              "    }\n",
              "</style>\n",
              "<table border=\"1\" class=\"dataframe\">\n",
              "  <thead>\n",
              "    <tr style=\"text-align: right;\">\n",
              "      <th></th>\n",
              "      <th>0</th>\n",
              "    </tr>\n",
              "  </thead>\n",
              "  <tbody>\n",
              "    <tr>\n",
              "      <th>V1</th>\n",
              "      <td>-3.273070</td>\n",
              "    </tr>\n",
              "    <tr>\n",
              "      <th>V2</th>\n",
              "      <td>-4.653486</td>\n",
              "    </tr>\n",
              "    <tr>\n",
              "      <th>V3</th>\n",
              "      <td>-2.216730</td>\n",
              "    </tr>\n",
              "    <tr>\n",
              "      <th>V4</th>\n",
              "      <td>0.681387</td>\n",
              "    </tr>\n",
              "    <tr>\n",
              "      <th>V5</th>\n",
              "      <td>-2.458790</td>\n",
              "    </tr>\n",
              "    <tr>\n",
              "      <th>V6</th>\n",
              "      <td>1.867576</td>\n",
              "    </tr>\n",
              "    <tr>\n",
              "      <th>V7</th>\n",
              "      <td>2.877722</td>\n",
              "    </tr>\n",
              "    <tr>\n",
              "      <th>V8</th>\n",
              "      <td>-8.292631</td>\n",
              "    </tr>\n",
              "    <tr>\n",
              "      <th>V9</th>\n",
              "      <td>0.550965</td>\n",
              "    </tr>\n",
              "    <tr>\n",
              "      <th>V10</th>\n",
              "      <td>1.242165</td>\n",
              "    </tr>\n",
              "    <tr>\n",
              "      <th>V11</th>\n",
              "      <td>0.347772</td>\n",
              "    </tr>\n",
              "    <tr>\n",
              "      <th>V12</th>\n",
              "      <td>-2.208171</td>\n",
              "    </tr>\n",
              "    <tr>\n",
              "      <th>V13</th>\n",
              "      <td>0.061058</td>\n",
              "    </tr>\n",
              "    <tr>\n",
              "      <th>V14</th>\n",
              "      <td>-1.953613</td>\n",
              "    </tr>\n",
              "    <tr>\n",
              "      <th>V15</th>\n",
              "      <td>-0.295836</td>\n",
              "    </tr>\n",
              "    <tr>\n",
              "      <th>V16</th>\n",
              "      <td>-1.048371</td>\n",
              "    </tr>\n",
              "    <tr>\n",
              "      <th>V17</th>\n",
              "      <td>-3.802987</td>\n",
              "    </tr>\n",
              "    <tr>\n",
              "      <th>V18</th>\n",
              "      <td>-0.255710</td>\n",
              "    </tr>\n",
              "    <tr>\n",
              "      <th>V19</th>\n",
              "      <td>0.115957</td>\n",
              "    </tr>\n",
              "    <tr>\n",
              "      <th>V20</th>\n",
              "      <td>-2.045060</td>\n",
              "    </tr>\n",
              "    <tr>\n",
              "      <th>V21</th>\n",
              "      <td>2.784302</td>\n",
              "    </tr>\n",
              "    <tr>\n",
              "      <th>V22</th>\n",
              "      <td>-0.200868</td>\n",
              "    </tr>\n",
              "    <tr>\n",
              "      <th>V23</th>\n",
              "      <td>-5.805236</td>\n",
              "    </tr>\n",
              "    <tr>\n",
              "      <th>V24</th>\n",
              "      <td>-0.545636</td>\n",
              "    </tr>\n",
              "    <tr>\n",
              "      <th>V25</th>\n",
              "      <td>-0.408260</td>\n",
              "    </tr>\n",
              "    <tr>\n",
              "      <th>V26</th>\n",
              "      <td>0.587603</td>\n",
              "    </tr>\n",
              "    <tr>\n",
              "      <th>V27</th>\n",
              "      <td>-0.745732</td>\n",
              "    </tr>\n",
              "    <tr>\n",
              "      <th>V28</th>\n",
              "      <td>11.400938</td>\n",
              "    </tr>\n",
              "    <tr>\n",
              "      <th>Amount</th>\n",
              "      <td>16.841622</td>\n",
              "    </tr>\n",
              "  </tbody>\n",
              "</table>\n",
              "</div><br><label><b>dtype:</b> float64</label>"
            ]
          },
          "metadata": {},
          "execution_count": 9
        }
      ],
      "source": [
        "df.drop('Class',axis=1).skew()"
      ]
    },
    {
      "cell_type": "code",
      "execution_count": null,
      "id": "d74277ea",
      "metadata": {
        "colab": {
          "base_uri": "https://localhost:8080/",
          "height": 469
        },
        "id": "d74277ea",
        "outputId": "04545c4c-d025-4a86-c7bf-67f07672cc34"
      },
      "outputs": [
        {
          "output_type": "execute_result",
          "data": {
            "text/plain": [
              "<Axes: xlabel='Amount', ylabel='Density'>"
            ]
          },
          "metadata": {},
          "execution_count": 10
        },
        {
          "output_type": "display_data",
          "data": {
            "text/plain": [
              "<Figure size 640x480 with 1 Axes>"
            ],
            "image/png": "[encoded data removed]"
          },
          "metadata": {}
        }
      ],
      "source": [
        "sns.kdeplot(df['Amount'])"
      ]
    },
    {
      "cell_type": "code",
      "execution_count": null,
      "id": "bd8cb1b8",
      "metadata": {
        "colab": {
          "base_uri": "https://localhost:8080/",
          "height": 468
        },
        "id": "bd8cb1b8",
        "outputId": "1fe99a92-a3bf-43f7-8a77-38f17fa28b83"
      },
      "outputs": [
        {
          "output_type": "execute_result",
          "data": {
            "text/plain": [
              "<Axes: xlabel='Amount', ylabel='Density'>"
            ]
          },
          "metadata": {},
          "execution_count": 11
        },
        {
          "output_type": "display_data",
          "data": {
            "text/plain": [
              "<Figure size 640x480 with 1 Axes>"
            ],
            "image/png": "[encoded data removed]"
          },
          "metadata": {}
        }
      ],
      "source": [
        "df['Amount'] = df['Amount'].apply(lambda x: np.log10(x+1))\n",
        "sns.kdeplot(df['Amount'])"
      ]
    },
    {
      "cell_type": "markdown",
      "id": "284d6f22",
      "metadata": {
        "id": "284d6f22"
      },
      "source": [
        "## Creating a sub sample"
      ]
    },
    {
      "cell_type": "markdown",
      "id": "0a068d5c",
      "metadata": {
        "id": "0a068d5c"
      },
      "source": [
        "What - create a[](http://) df with equal number of fraud and non fraud samples  \n",
        "Why - Although we don't know what the \"V\" features stand for, it will be useful to understand how each of this features influence the target. By having an imbalance dataframe we are not able to see the true correlations between the class and features"
      ]
    },
    {
      "cell_type": "code",
      "execution_count": null,
      "id": "555570b8",
      "metadata": {
        "id": "555570b8"
      },
      "outputs": [],
      "source": [
        "df = df.sample(frac=1)\n",
        "\n",
        "fraud_df = df.loc[df['Class'] == 1]\n",
        "non_fraud_df = df.loc[df['Class'] == 0][:492]\n",
        "\n",
        "subsample = pd.concat([fraud_df, non_fraud_df])\n",
        "new_df = subsample.sample(frac=1, random_state=42)"
      ]
    },
    {
      "cell_type": "markdown",
      "id": "6ece260f",
      "metadata": {
        "id": "6ece260f"
      },
      "source": [
        "### Correlation"
      ]
    },
    {
      "cell_type": "code",
      "execution_count": null,
      "id": "b4be44b5",
      "metadata": {
        "colab": {
          "base_uri": "https://localhost:8080/",
          "height": 542
        },
        "id": "b4be44b5",
        "outputId": "a14e4a06-9d4d-4b2b-f295-1eb580dac296"
      },
      "outputs": [
        {
          "output_type": "display_data",
          "data": {
            "text/html": [
              "<html>\n",
              "<head><meta charset=\"utf-8\" /></head>\n",
              "<body>\n",
              "    <div>            <script src=\"https://cdnjs.cloudflare.com/ajax/libs/mathjax/2.7.5/MathJax.js?config=TeX-AMS-MML_SVG\"></script><script type=\"text/javascript\">if (window.MathJax && window.MathJax.Hub && window.MathJax.Hub.Config) {window.MathJax.Hub.Config({SVG: {font: \"STIX-Web\"}});}</script>                <script type=\"text/javascript\">window.PlotlyConfig = {MathJaxConfig: 'local'};</script>\n",
              "        <script charset=\"utf-8\" src=\"https://cdn.plot.ly/plotly-2.35.2.min.js\"></script>                <div id=\"27a1a88d-8f87-418b-a868-4ce1690f99c5\" class=\"plotly-graph-div\" style=\"height:525px; width:100%;\"></div>            <script type=\"text/javascript\">                                    window.PLOTLYENV=window.PLOTLYENV || {};                                    if (document.getElementById(\"27a1a88d-8f87-418b-a868-4ce1690f99c5\")) {                    Plotly.newPlot(                        \"27a1a88d-8f87-418b-a868-4ce1690f99c5\",                        [{\"coloraxis\":\"coloraxis\",\"name\":\"0\",\"x\":[\"V1\",\"V2\",\"V3\",\"V4\",\"V5\",\"V6\",\"V7\",\"V8\",\"V9\",\"V10\",\"V11\",\"V12\",\"V13\",\"V14\",\"V15\",\"V16\",\"V17\",\"V18\",\"V19\",\"V20\",\"V21\",\"V22\",\"V23\",\"V24\",\"V25\",\"V26\",\"V27\",\"V28\",\"Amount\",\"Class\"],\"y\":[\"V1\",\"V2\",\"V3\",\"V4\",\"V5\",\"V6\",\"V7\",\"V8\",\"V9\",\"V10\",\"V11\",\"V12\",\"V13\",\"V14\",\"V15\",\"V16\",\"V17\",\"V18\",\"V19\",\"V20\",\"V21\",\"V22\",\"V23\",\"V24\",\"V25\",\"V26\",\"V27\",\"V28\",\"Amount\",\"Class\"],\"z\":[[1.0,0.009002056630572875,0.005951870323344244,-0.00004173363772282103,-0.01859293139425874,-0.005788588932603829,-0.006842588291335959,-0.0004903017705975383,-0.0070931881840848345,0.0031150804333673963,-0.0052383611521320764,-0.005224732658888021,0.00017607397170218175,-0.00016701663809472696,-0.008538155507659288,-0.006376158582724174,-0.0017092604947157787,-0.00003711812585139028,-0.0003657869812604687,0.0031085360485397814,0.006003695030846214,0.0036338595739370825,-0.0075039854738689436,-0.009326773224502618,-0.004446136018296387,-0.0024364231007039483,-0.014628053567676042,-0.003555006941166548,-0.07669206550361654,-0.09471828027403774],[0.009002056630572875,1.0,0.0049764204159172655,-0.004094783032822074,0.004654828151539669,0.004290266474645179,0.004866010897475396,0.003742693655932813,0.0011157645474231938,0.002764173799416169,-0.001808464017748931,0.0014801177085390855,0.00046076961088052334,0.004771739778601326,0.0011762916062600924,0.002647560716106664,0.0013035840599433363,0.0003630379040186552,0.0011638151899725003,-0.00033887269809890853,-0.003880671951278841,0.002908674005336396,-0.003688629621718196,0.0019735168281252726,-0.0028369314041973817,-0.00029605968574445557,0.007251624234862554,0.001457599293897635,-0.4593975292964664,0.08475425481454456],[0.005951870323344244,0.0049764204159172655,1.0,-0.0007207506128838977,0.011019512449786717,0.01478010144383707,-0.014015590290725929,0.0037332102991634534,-0.0028955310476305412,-0.011064456582014503,0.0037632683294711753,-0.003365403264207869,-0.0007532888104511421,-0.008208455227591314,0.003323892451776602,0.00033603306534801813,-0.0028131327390714797,-0.0038764479346073476,-0.0008279699688053031,-0.0045872244382793685,0.0018178562780220514,-0.004202923672142282,0.0021830017967685946,0.009782012846899207,0.004090898265090247,0.003596060803817543,-0.008780490220863293,-0.002453994123024246,-0.053019096184097454,-0.18577174362070142],[-0.00004173363772282103,-0.004094783032822074,-0.0007207506128838977,1.0,0.006710184917377093,0.012534619986162543,0.0008061613152966443,0.004996484520262708,0.0013954678785993205,0.0033663943727185014,-0.004401812026915867,0.0005605366567562431,0.0003324007482058597,0.005335596702448468,0.004045091895456188,0.0017826285626817888,0.0016328679540391358,0.0015686647749631798,0.005018282953491054,0.001165410096173372,-0.0006225862056654122,0.0015809695312210589,-0.0001547536737259269,0.005759384705327823,0.00017302609596239014,-0.0011052679713745267,0.0025173272107862515,0.00002844701328975486,-0.0006991724135756788,0.13031328765078992],[-0.01859293139425874,0.004654828151539669,0.011019512449786717,0.006710184917377093,1.0,-0.029700785735833422,-0.009106632501580954,-0.002605287522407457,-0.0007861995616428839,-0.002817740725206721,-0.002965157540390817,-0.0003427722292888498,0.0012005945355469372,0.005174527525292172,-0.0071219945435209925,-0.004147091486085981,-0.005421946975850127,-0.003108216609260088,0.00035056602265901655,-0.0007880754250583358,0.0034392276588517414,0.002971456770964522,-0.0010578383026696734,-0.012633613332770206,-0.004862304415897569,-0.001568475495583591,-0.0061156794357201906,-0.000710936114390154,-0.2852020730073683,-0.08864223740340618],[-0.005788588932603829,0.004290266474645179,0.01478010144383707,0.012534619986162543,-0.029700785735833422,1.0,0.013087429720545872,-0.012300897072016842,-0.002289899443472925,-0.002722885639660914,0.00044595492078969523,0.0042880059623518945,-0.0001395465488949117,0.0001777252982953708,-0.009362574711092942,-0.002537973840945395,0.0017467394403829783,0.0007341181373794658,0.0008803306295041743,-0.0018348819521765574,-0.0015842250415120426,0.002355047652428207,-0.00022080361056576173,-0.021097673272292432,-0.006673263711386091,0.0007018999138726152,-0.0015773843269393636,0.0006170632194786258,0.17594040694236132,-0.04477665579579201],[-0.006842588291335959,0.004866010897475396,-0.014015590290725929,0.0008061613152966443,-0.009106632501580954,0.013087429720545872,1.0,-0.0009866326473794338,-0.001657050588946222,-0.012245575367022784,0.0017312862293720234,-0.007377770947454926,0.0010190654338441958,-0.0020063821639049696,0.002164699457077183,-0.003553367501272672,-0.009984959755662961,-0.004092121223165987,0.000589609211748899,-0.0021958273347801806,0.00863473021160323,-0.0017008984979523017,0.00345805078806221,0.005375437011176015,0.0020698078979522866,-0.0004588383679030301,-0.003977219873227445,0.0013292721181322094,0.09665909375065823,-0.17329184536211922],[-0.0004903017705975383,0.003742693655932813,0.0037332102991634534,0.004996484520262708,-0.002605287522407457,-0.012300897072016842,-0.0009866326473794338,1.0,0.00016845994784139484,0.00023852276984076437,0.005165137776894904,-0.004133687695665245,-0.0013413330919203673,-0.009568384289532071,-0.002322346439935687,-0.006868307858294753,-0.006049143384273699,-0.002092119809368343,0.0008553714180542295,0.0005621589466951595,0.018805553474640937,-0.005181868541496838,0.00646121650735207,-0.006000318559470974,-0.0028265011984083058,-0.0011224898419864968,-0.00010826667669586565,0.000200871700961693,-0.02161037755536489,0.03336438460284796],[-0.0070931881840848345,0.0011157645474231938,-0.0028955310476305412,0.0013954678785993205,-0.0007861995616428839,-0.002289899443472925,-0.001657050588946222,0.00016845994784139484,1.0,-0.0049569609772326575,-0.0015831315122644836,0.00022093464914160594,-0.00025906269002488083,-0.005124874206624788,-0.004912272336986157,0.002680339994664829,-0.00048754043251908984,-0.0009567733050660672,-0.0009356707772171011,0.0006125813121428086,0.0017444713839398398,0.0007417622746537084,-0.0017392600161237038,-0.0024540913158740026,-0.00035765868608076534,0.005307459170163344,0.008065890934748446,0.006486668776329143,-0.07379718375060514,-0.09458275894222071],[0.0031150804333673963,0.002764173799416169,-0.011064456582014503,0.0033663943727185014,-0.002817740725206721,-0.002722885639660914,-0.012245575367022784,0.00023852276984076437,-0.0049569609772326575,1.0,0.00521132591381324,-0.0073946819794569315,0.0008896964509361914,-0.004615922267141189,0.0033660109027974774,-0.003637165067540738,-0.0018408332602424735,0.0009112200184282214,0.0003790291088673736,-0.004506172251322943,0.0023955011018211556,-0.0030120809221214568,0.0017604510466672672,0.0010149187965123156,0.002499102817601574,-0.000858894766610511,0.011495357691488083,0.009956260833450241,-0.016495040286125025,-0.2081042038853361],[-0.0052383611521320764,-0.001808464017748931,0.0037632683294711753,-0.004401812026915867,-0.002965157540390817,0.00044595492078969523,0.0017312862293720234,0.005165137776894904,-0.0015831315122644836,0.00521132591381324,1.0,0.0038569701711921845,0.001372239958587221,0.010051637591902774,-0.00238176770042268,0.0010450899175577886,0.00012728508810077398,-0.0017349245158464251,0.002067554253990966,-0.000289676679257085,-0.0023308194112002115,0.0008035998110590443,-0.0008390469723996085,0.0015836370718235837,-0.0032093521987376855,-0.002064526667881332,0.00243470435162852,0.0021758658346355104,-0.04305344263458073,0.15126045335714067],[-0.005224732658888021,0.0014801177085390855,-0.003365403264207869,0.0005605366567562431,-0.0003427722292888498,0.0042880059623518945,-0.007377770947454926,-0.004133687695665245,0.00022093464914160594,-0.0073946819794569315,0.0038569701711921845,1.0,0.0025323143640474605,-0.0040605989164580365,0.001727330472885163,-0.00769227914987994,-0.007394531288472824,-0.0007609712734102465,-0.0017433222825322873,0.002041356080798728,0.004192083404063553,0.002966654468970819,-0.0011010633955008786,0.001695453268085874,0.0007319178597714437,-0.0020108838239187026,-0.0007758604396771311,-0.00017303047803579114,-0.011033406249319309,-0.2531497949999792],[0.00017607397170218175,0.00046076961088052334,-0.0007532888104511421,0.0003324007482058597,0.0012005945355469372,-0.0001395465488949117,0.0010190654338441958,-0.0013413330919203673,-0.00025906269002488083,0.0008896964509361914,0.001372239958587221,0.0025323143640474605,1.0,-0.003479566711820825,0.0025145688423963,-0.0022096783650526856,-0.0003147036842396992,0.0008394873375494665,0.0010715570383272068,-0.0006206148356032476,0.0011005453910093346,0.00021352603227370732,0.0007110910522849242,-0.0010140681867750934,-0.00005911039298915235,0.0008868780941754948,-0.001451010249714344,-0.00037975057588771294,-0.006205009221444449,-0.00393424531429914],[-0.00016701663809472696,0.004771739778601326,-0.008208455227591314,0.005335596702448468,0.005174527525292172,0.0001777252982953708,-0.0020063821639049696,-0.009568384289532071,-0.005124874206624788,-0.004615922267141189,0.010051637591902774,-0.0040605989164580365,-0.003479566711820825,1.0,0.0026244836316104544,-0.0033203068499790375,0.0009197230024978554,0.001413147124199123,-0.0007510941548649238,0.0036834571970600105,0.004710627375381573,-0.004794790558038918,0.0009289389054848129,0.00033180031929475783,0.002076816857514181,0.0014042703420476272,-0.003828442029278974,-0.0031782024265971606,0.021382782639850165,-0.2975497797564397],[-0.008538155507659288,0.0011762916062600924,0.003323892451776602,0.004045091895456188,-0.0071219945435209925,-0.009362574711092942,0.002164699457077183,-0.002322346439935687,-0.004912272336986157,0.0033660109027974774,-0.00238176770042268,0.001727330472885163,0.0025145688423963,0.0026244836316104544,1.0,-0.004916780368499244,-0.0006027072808328888,-0.0008590147198242637,0.0033865340764306123,0.0003750891706897952,0.0011372992637742932,0.0025790032134958714,0.0007269407316842231,-0.008460676558177657,-0.008245117506923366,0.0019241521230987733,-0.0014722700182018213,0.00015627937832886788,-0.05445302096354349,-0.00282396614501442],[-0.006376158582724174,0.002647560716106664,0.00033603306534801813,0.0017826285626817888,-0.004147091486085981,-0.002537973840945395,-0.003553367501272672,-0.006868307858294753,0.002680339994664829,-0.003637165067540738,0.0010450899175577886,-0.00769227914987994,-0.0022096783650526856,-0.0033203068499790375,-0.004916780368499244,1.0,-0.010046388062465989,-0.009275590059228333,0.002407359430201864,0.00042400545327880943,0.005267154400499136,0.0032960882528521073,0.0015241836118116564,-0.004436914287114932,-0.0024636512169707806,-0.004494645380977388,-0.003527977806909451,-0.0018546665914331956,-0.0972938716735072,-0.18822150581932204],[-0.0017092604947157787,0.0013035840599433363,-0.0028131327390714797,0.0016328679540391358,-0.005421946975850127,0.0017467394403829783,-0.009984959755662961,-0.006049143384273699,-0.00048754043251908984,-0.0018408332602424735,0.00012728508810077398,-0.007394531288472824,-0.0003147036842396992,0.0009197230024978554,-0.0006027072808328888,-0.010046388062465989,1.0,-0.007602083690617971,0.007939819203282655,0.0012085000319452053,0.0041627237748636985,0.0005457665567498511,0.0024120413459315874,0.004598973463231307,-0.003343032752915603,-0.001090240486017688,-0.0035970763985633983,-0.0035868351644627264,0.016922759734357654,-0.31720194703317994],[-0.00003711812585139028,0.0003630379040186552,-0.0038764479346073476,0.0015686647749631798,-0.003108216609260088,0.0007341181373794658,-0.004092121223165987,-0.002092119809368343,-0.0009567733050660672,0.0009112200184282214,-0.0017349245158464251,-0.0007609712734102465,0.0008394873375494665,0.001413147124199123,-0.0008590147198242637,-0.009275590059228333,-0.007602083690617971,1.0,0.0003894537185009103,-0.00018506842718459047,0.0006194270891825535,-0.004321380435269362,0.0034875147306728496,-0.0008359690508370353,-0.005230957006827961,0.0035834783040605716,-0.005176455822270833,-0.0018988674568863018,0.04418650871470485,-0.10644692553081324],[-0.0003657869812604687,0.0011638151899725003,-0.0008279699688053031,0.005018282953491054,0.00035056602265901655,0.0008803306295041743,0.000589609211748899,0.0008553714180542295,-0.0009356707772171011,0.0003790291088673736,0.002067554253990966,-0.0017433222825322873,0.0010715570383272068,-0.0007510941548649238,0.0033865340764306123,0.002407359430201864,0.007939819203282655,0.0003894537185009103,1.0,-0.0008462799424581274,0.000885513432226682,0.0035208642995498344,-0.0003568083569355777,-0.0014100893491832754,0.0004653675644518229,0.0009070515999730979,-0.000010973789013421965,0.0008126304744584675,-0.01560152694553051,0.03378413152415534],[0.0031085360485397814,-0.00033887269809890853,-0.0045872244382793685,0.001165410096173372,-0.0007880754250583358,-0.0018348819521765574,-0.0021958273347801806,0.0005621589466951595,0.0006125813121428086,-0.004506172251322943,-0.000289676679257085,0.002041356080798728,-0.0006206148356032476,0.0036834571970600105,0.0003750891706897952,0.00042400545327880943,0.0012085000319452053,-0.00018506842718459047,-0.0008462799424581274,1.0,0.004391631543174677,-0.0023215318570963235,0.0007476054518360102,0.00013230040224711506,-1.2698991006499748e-6,-0.00030437091379314005,-0.0000962356942057672,0.0018278487908436445,0.14256805451062252,0.021349134626457083],[0.006003695030846214,-0.003880671951278841,0.0018178562780220514,-0.0006225862056654122,0.0034392276588517414,-0.0015842250415120426,0.00863473021160323,0.018805553474640937,0.0017444713839398398,0.0023955011018211556,-0.0023308194112002115,0.004192083404063553,0.0011005453910093346,0.004710627375381573,0.0011372992637742932,0.005267154400499136,0.0041627237748636985,0.0006194270891825535,0.000885513432226682,0.004391631543174677,1.0,0.0017951267485505323,-0.004335795108936198,0.002943329531566114,-0.0012993410572347392,0.0008275390972013166,-0.005524039706815398,-0.0044611606390969425,0.0832573424377294,0.026239135618532805],[0.0036338595739370825,0.002908674005336396,-0.004202923672142282,0.0015809695312210589,0.002971456770964522,0.002355047652428207,-0.0017008984979523017,-0.005181868541496838,0.0007417622746537084,-0.0030120809221214568,0.0008035998110590443,0.002966654468970819,0.00021352603227370732,-0.004794790558038918,0.0025790032134958714,0.0032960882528521073,0.0005457665567498511,-0.004321380435269362,0.0035208642995498344,-0.0023215318570963235,0.0017951267485505323,1.0,0.00616063481671797,0.004007631493735269,-0.002330756330724625,0.00430878067851099,0.0016856153718819904,0.0016703357452038047,0.03546786563373586,0.004612376174770405],[-0.0075039854738689436,-0.003688629621718196,0.0021830017967685946,-0.0001547536737259269,-0.0010578383026696734,-0.00022080361056576173,0.00345805078806221,0.00646121650735207,-0.0017392600161237038,0.0017604510466672672,-0.0008390469723996085,-0.0011010633955008786,0.0007110910522849242,0.0009289389054848129,0.0007269407316842231,0.0015241836118116564,0.0024120413459315874,0.0034875147306728496,-0.0003568083569355777,0.0007476054518360102,-0.004335795108936198,0.00616063481671797,1.0,-0.0011911345613579392,0.0036245111360327033,-0.0021047329234190194,-0.0015197357777630895,-0.0027191923469290506,-0.025060446233726143,-0.006206025561580668],[-0.009326773224502618,0.0019735168281252726,0.009782012846899207,0.005759384705327823,-0.012633613332770206,-0.021097673272292432,0.005375437011176015,-0.006000318559470974,-0.0024540913158740026,0.0010149187965123156,0.0015836370718235837,0.001695453268085874,-0.0010140681867750934,0.00033180031929475783,-0.008460676558177657,-0.004436914287114932,0.004598973463231307,-0.0008359690508370353,-0.0014100893491832754,0.00013230040224711506,0.002943329531566114,0.004007631493735269,-0.0011911345613579392,1.0,-0.00700671508992229,0.0015263545489949063,-0.0013154128149647849,0.00008562142586953152,-0.004790119342803704,-0.006831067309310047],[-0.004446136018296387,-0.0028369314041973817,0.004090898265090247,0.00017302609596239014,-0.004862304415897569,-0.006673263711386091,0.0020698078979522866,-0.0028265011984083058,-0.00035765868608076534,0.002499102817601574,-0.0032093521987376855,0.0007319178597714437,-0.00005911039298915235,0.002076816857514181,-0.008245117506923366,-0.0024636512169707806,-0.003343032752915603,-0.005230957006827961,0.0004653675644518229,-1.2698991006499748e-6,-0.0012993410572347392,-0.002330756330724625,0.0036245111360327033,-0.00700671508992229,1.0,0.004573576764907698,-0.001995273576245995,-0.0012281791648253665,0.0068319890763744884,0.003592986720025385],[-0.0024364231007039483,-0.00029605968574445557,0.003596060803817543,-0.0011052679713745267,-0.001568475495583591,0.0007018999138726152,-0.0004588383679030301,-0.0011224898419864968,0.005307459170163344,-0.000858894766610511,-0.002064526667881332,-0.0020108838239187026,0.0008868780941754948,0.0014042703420476272,0.0019241521230987733,-0.004494645380977388,-0.001090240486017688,0.0035834783040605716,0.0009070515999730979,-0.00030437091379314005,0.0008275390972013166,0.00430878067851099,-0.0021047329234190194,0.0015263545489949063,0.004573576764907698,1.0,-0.0009584412161369307,-0.000569601827422339,-0.015344104977860838,0.004341289204197859],[-0.014628053567676042,0.007251624234862554,-0.008780490220863293,0.0025173272107862515,-0.0061156794357201906,-0.0015773843269393636,-0.003977219873227445,-0.00010826667669586565,0.008065890934748446,0.011495357691488083,0.00243470435162852,-0.0007758604396771311,-0.001451010249714344,-0.003828442029278974,-0.0014722700182018213,-0.003527977806909451,-0.0035970763985633983,-0.005176455822270833,-0.000010973789013421965,-0.0000962356942057672,-0.005524039706815398,0.0016856153718819904,-0.0015197357777630895,-0.0013154128149647849,-0.001995273576245995,-0.0009584412161369307,1.0,-0.014434631792928573,-0.04829631949944564,0.021888244417406083],[-0.003555006941166548,0.001457599293897635,-0.002453994123024246,0.00002844701328975486,-0.000710936114390154,0.0006170632194786258,0.0013292721181322094,0.000200871700961693,0.006486668776329143,0.009956260833450241,0.0021758658346355104,-0.00017303047803579114,-0.00037975057588771294,-0.0031782024265971606,0.00015627937832886788,-0.0018546665914331956,-0.0035868351644627264,-0.0018988674568863018,0.0008126304744584675,0.0018278487908436445,-0.0044611606390969425,0.0016703357452038047,-0.0027191923469290506,0.00008562142586953152,-0.0012281791648253665,-0.000569601827422339,-0.014434631792928573,1.0,-0.003436289474096516,0.009642345399190327],[-0.07669206550361654,-0.4593975292964664,-0.053019096184097454,-0.0006991724135756788,-0.2852020730073683,0.17594040694236132,0.09665909375065823,-0.02161037755536489,-0.07379718375060514,-0.016495040286125025,-0.04305344263458073,-0.011033406249319309,-0.006205009221444449,0.021382782639850165,-0.05445302096354349,-0.0972938716735072,0.016922759734357654,0.04418650871470485,-0.01560152694553051,0.14256805451062252,0.0832573424377294,0.03546786563373586,-0.025060446233726143,-0.004790119342803704,0.0068319890763744884,-0.015344104977860838,-0.04829631949944564,-0.003436289474096516,1.0,-0.009151675909696684],[-0.09471828027403774,0.08475425481454456,-0.18577174362070142,0.13031328765078992,-0.08864223740340618,-0.04477665579579201,-0.17329184536211922,0.03336438460284796,-0.09458275894222071,-0.2081042038853361,0.15126045335714067,-0.2531497949999792,-0.00393424531429914,-0.2975497797564397,-0.00282396614501442,-0.18822150581932204,-0.31720194703317994,-0.10644692553081324,0.03378413152415534,0.021349134626457083,0.026239135618532805,0.004612376174770405,-0.006206025561580668,-0.006831067309310047,0.003592986720025385,0.004341289204197859,0.021888244417406083,0.009642345399190327,-0.009151675909696684,1.0]],\"type\":\"heatmap\",\"xaxis\":\"x\",\"yaxis\":\"y\",\"hovertemplate\":\"x: %{x}\\u003cbr\\u003ey: %{y}\\u003cbr\\u003ecolor: %{z}\\u003cextra\\u003e\\u003c\\u002fextra\\u003e\"}],                        {\"template\":{\"data\":{\"histogram2dcontour\":[{\"type\":\"histogram2dcontour\",\"colorbar\":{\"outlinewidth\":0,\"ticks\":\"\"},\"colorscale\":[[0.0,\"#0d0887\"],[0.1111111111111111,\"#46039f\"],[0.2222222222222222,\"#7201a8\"],[0.3333333333333333,\"#9c179e\"],[0.4444444444444444,\"#bd3786\"],[0.5555555555555556,\"#d8576b\"],[0.6666666666666666,\"#ed7953\"],[0.7777777777777778,\"#fb9f3a\"],[0.8888888888888888,\"#fdca26\"],[1.0,\"#f0f921\"]]}],\"choropleth\":[{\"type\":\"choropleth\",\"colorbar\":{\"outlinewidth\":0,\"ticks\":\"\"}}],\"histogram2d\":[{\"type\":\"histogram2d\",\"colorbar\":{\"outlinewidth\":0,\"ticks\":\"\"},\"colorscale\":[[0.0,\"#0d0887\"],[0.1111111111111111,\"#46039f\"],[0.2222222222222222,\"#7201a8\"],[0.3333333333333333,\"#9c179e\"],[0.4444444444444444,\"#bd3786\"],[0.5555555555555556,\"#d8576b\"],[0.6666666666666666,\"#ed7953\"],[0.7777777777777778,\"#fb9f3a\"],[0.8888888888888888,\"#fdca26\"],[1.0,\"#f0f921\"]]}],\"heatmap\":[{\"type\":\"heatmap\",\"colorbar\":{\"outlinewidth\":0,\"ticks\":\"\"},\"colorscale\":[[0.0,\"#0d0887\"],[0.1111111111111111,\"#46039f\"],[0.2222222222222222,\"#7201a8\"],[0.3333333333333333,\"#9c179e\"],[0.4444444444444444,\"#bd3786\"],[0.5555555555555556,\"#d8576b\"],[0.6666666666666666,\"#ed7953\"],[0.7777777777777778,\"#fb9f3a\"],[0.8888888888888888,\"#fdca26\"],[1.0,\"#f0f921\"]]}],\"heatmapgl\":[{\"type\":\"heatmapgl\",\"colorbar\":{\"outlinewidth\":0,\"ticks\":\"\"},\"colorscale\":[[0.0,\"#0d0887\"],[0.1111111111111111,\"#46039f\"],[0.2222222222222222,\"#7201a8\"],[0.3333333333333333,\"#9c179e\"],[0.4444444444444444,\"#bd3786\"],[0.5555555555555556,\"#d8576b\"],[0.6666666666666666,\"#ed7953\"],[0.7777777777777778,\"#fb9f3a\"],[0.8888888888888888,\"#fdca26\"],[1.0,\"#f0f921\"]]}],\"contourcarpet\":[{\"type\":\"contourcarpet\",\"colorbar\":{\"outlinewidth\":0,\"ticks\":\"\"}}],\"contour\":[{\"type\":\"contour\",\"colorbar\":{\"outlinewidth\":0,\"ticks\":\"\"},\"colorscale\":[[0.0,\"#0d0887\"],[0.1111111111111111,\"#46039f\"],[0.2222222222222222,\"#7201a8\"],[0.3333333333333333,\"#9c179e\"],[0.4444444444444444,\"#bd3786\"],[0.5555555555555556,\"#d8576b\"],[0.6666666666666666,\"#ed7953\"],[0.7777777777777778,\"#fb9f3a\"],[0.8888888888888888,\"#fdca26\"],[1.0,\"#f0f921\"]]}],\"surface\":[{\"type\":\"surface\",\"colorbar\":{\"outlinewidth\":0,\"ticks\":\"\"},\"colorscale\":[[0.0,\"#0d0887\"],[0.1111111111111111,\"#46039f\"],[0.2222222222222222,\"#7201a8\"],[0.3333333333333333,\"#9c179e\"],[0.4444444444444444,\"#bd3786\"],[0.5555555555555556,\"#d8576b\"],[0.6666666666666666,\"#ed7953\"],[0.7777777777777778,\"#fb9f3a\"],[0.8888888888888888,\"#fdca26\"],[1.0,\"#f0f921\"]]}],\"mesh3d\":[{\"type\":\"mesh3d\",\"colorbar\":{\"outlinewidth\":0,\"ticks\":\"\"}}],\"scatter\":[{\"fillpattern\":{\"fillmode\":\"overlay\",\"size\":10,\"solidity\":0.2},\"type\":\"scatter\"}],\"parcoords\":[{\"type\":\"parcoords\",\"line\":{\"colorbar\":{\"outlinewidth\":0,\"ticks\":\"\"}}}],\"scatterpolargl\":[{\"type\":\"scatterpolargl\",\"marker\":{\"colorbar\":{\"outlinewidth\":0,\"ticks\":\"\"}}}],\"bar\":[{\"error_x\":{\"color\":\"#2a3f5f\"},\"error_y\":{\"color\":\"#2a3f5f\"},\"marker\":{\"line\":{\"color\":\"#E5ECF6\",\"width\":0.5},\"pattern\":{\"fillmode\":\"overlay\",\"size\":10,\"solidity\":0.2}},\"type\":\"bar\"}],\"scattergeo\":[{\"type\":\"scattergeo\",\"marker\":{\"colorbar\":{\"outlinewidth\":0,\"ticks\":\"\"}}}],\"scatterpolar\":[{\"type\":\"scatterpolar\",\"marker\":{\"colorbar\":{\"outlinewidth\":0,\"ticks\":\"\"}}}],\"histogram\":[{\"marker\":{\"pattern\":{\"fillmode\":\"overlay\",\"size\":10,\"solidity\":0.2}},\"type\":\"histogram\"}],\"scattergl\":[{\"type\":\"scattergl\",\"marker\":{\"colorbar\":{\"outlinewidth\":0,\"ticks\":\"\"}}}],\"scatter3d\":[{\"type\":\"scatter3d\",\"line\":{\"colorbar\":{\"outlinewidth\":0,\"ticks\":\"\"}},\"marker\":{\"colorbar\":{\"outlinewidth\":0,\"ticks\":\"\"}}}],\"scattermapbox\":[{\"type\":\"scattermapbox\",\"marker\":{\"colorbar\":{\"outlinewidth\":0,\"ticks\":\"\"}}}],\"scatterternary\":[{\"type\":\"scatterternary\",\"marker\":{\"colorbar\":{\"outlinewidth\":0,\"ticks\":\"\"}}}],\"scattercarpet\":[{\"type\":\"scattercarpet\",\"marker\":{\"colorbar\":{\"outlinewidth\":0,\"ticks\":\"\"}}}],\"carpet\":[{\"aaxis\":{\"endlinecolor\":\"#2a3f5f\",\"gridcolor\":\"white\",\"linecolor\":\"white\",\"minorgridcolor\":\"white\",\"startlinecolor\":\"#2a3f5f\"},\"baxis\":{\"endlinecolor\":\"#2a3f5f\",\"gridcolor\":\"white\",\"linecolor\":\"white\",\"minorgridcolor\":\"white\",\"startlinecolor\":\"#2a3f5f\"},\"type\":\"carpet\"}],\"table\":[{\"cells\":{\"fill\":{\"color\":\"#EBF0F8\"},\"line\":{\"color\":\"white\"}},\"header\":{\"fill\":{\"color\":\"#C8D4E3\"},\"line\":{\"color\":\"white\"}},\"type\":\"table\"}],\"barpolar\":[{\"marker\":{\"line\":{\"color\":\"#E5ECF6\",\"width\":0.5},\"pattern\":{\"fillmode\":\"overlay\",\"size\":10,\"solidity\":0.2}},\"type\":\"barpolar\"}],\"pie\":[{\"automargin\":true,\"type\":\"pie\"}]},\"layout\":{\"autotypenumbers\":\"strict\",\"colorway\":[\"#636efa\",\"#EF553B\",\"#00cc96\",\"#ab63fa\",\"#FFA15A\",\"#19d3f3\",\"#FF6692\",\"#B6E880\",\"#FF97FF\",\"#FECB52\"],\"font\":{\"color\":\"#2a3f5f\"},\"hovermode\":\"closest\",\"hoverlabel\":{\"align\":\"left\"},\"paper_bgcolor\":\"white\",\"plot_bgcolor\":\"#E5ECF6\",\"polar\":{\"bgcolor\":\"#E5ECF6\",\"angularaxis\":{\"gridcolor\":\"white\",\"linecolor\":\"white\",\"ticks\":\"\"},\"radialaxis\":{\"gridcolor\":\"white\",\"linecolor\":\"white\",\"ticks\":\"\"}},\"ternary\":{\"bgcolor\":\"#E5ECF6\",\"aaxis\":{\"gridcolor\":\"white\",\"linecolor\":\"white\",\"ticks\":\"\"},\"baxis\":{\"gridcolor\":\"white\",\"linecolor\":\"white\",\"ticks\":\"\"},\"caxis\":{\"gridcolor\":\"white\",\"linecolor\":\"white\",\"ticks\":\"\"}},\"coloraxis\":{\"colorbar\":{\"outlinewidth\":0,\"ticks\":\"\"}},\"colorscale\":{\"sequential\":[[0.0,\"#0d0887\"],[0.1111111111111111,\"#46039f\"],[0.2222222222222222,\"#7201a8\"],[0.3333333333333333,\"#9c179e\"],[0.4444444444444444,\"#bd3786\"],[0.5555555555555556,\"#d8576b\"],[0.6666666666666666,\"#ed7953\"],[0.7777777777777778,\"#fb9f3a\"],[0.8888888888888888,\"#fdca26\"],[1.0,\"#f0f921\"]],\"sequentialminus\":[[0.0,\"#0d0887\"],[0.1111111111111111,\"#46039f\"],[0.2222222222222222,\"#7201a8\"],[0.3333333333333333,\"#9c179e\"],[0.4444444444444444,\"#bd3786\"],[0.5555555555555556,\"#d8576b\"],[0.6666666666666666,\"#ed7953\"],[0.7777777777777778,\"#fb9f3a\"],[0.8888888888888888,\"#fdca26\"],[1.0,\"#f0f921\"]],\"diverging\":[[0,\"#8e0152\"],[0.1,\"#c51b7d\"],[0.2,\"#de77ae\"],[0.3,\"#f1b6da\"],[0.4,\"#fde0ef\"],[0.5,\"#f7f7f7\"],[0.6,\"#e6f5d0\"],[0.7,\"#b8e186\"],[0.8,\"#7fbc41\"],[0.9,\"#4d9221\"],[1,\"#276419\"]]},\"xaxis\":{\"gridcolor\":\"white\",\"linecolor\":\"white\",\"ticks\":\"\",\"title\":{\"standoff\":15},\"zerolinecolor\":\"white\",\"automargin\":true,\"zerolinewidth\":2},\"yaxis\":{\"gridcolor\":\"white\",\"linecolor\":\"white\",\"ticks\":\"\",\"title\":{\"standoff\":15},\"zerolinecolor\":\"white\",\"automargin\":true,\"zerolinewidth\":2},\"scene\":{\"xaxis\":{\"backgroundcolor\":\"#E5ECF6\",\"gridcolor\":\"white\",\"linecolor\":\"white\",\"showbackground\":true,\"ticks\":\"\",\"zerolinecolor\":\"white\",\"gridwidth\":2},\"yaxis\":{\"backgroundcolor\":\"#E5ECF6\",\"gridcolor\":\"white\",\"linecolor\":\"white\",\"showbackground\":true,\"ticks\":\"\",\"zerolinecolor\":\"white\",\"gridwidth\":2},\"zaxis\":{\"backgroundcolor\":\"#E5ECF6\",\"gridcolor\":\"white\",\"linecolor\":\"white\",\"showbackground\":true,\"ticks\":\"\",\"zerolinecolor\":\"white\",\"gridwidth\":2}},\"shapedefaults\":{\"line\":{\"color\":\"#2a3f5f\"}},\"annotationdefaults\":{\"arrowcolor\":\"#2a3f5f\",\"arrowhead\":0,\"arrowwidth\":1},\"geo\":{\"bgcolor\":\"white\",\"landcolor\":\"#E5ECF6\",\"subunitcolor\":\"white\",\"showland\":true,\"showlakes\":true,\"lakecolor\":\"white\"},\"title\":{\"x\":0.05},\"mapbox\":{\"style\":\"light\"}}},\"xaxis\":{\"anchor\":\"y\",\"domain\":[0.0,1.0]},\"yaxis\":{\"anchor\":\"x\",\"domain\":[0.0,1.0],\"autorange\":\"reversed\"},\"coloraxis\":{\"colorscale\":[[0.0,\"rgb(5,48,97)\"],[0.1,\"rgb(33,102,172)\"],[0.2,\"rgb(67,147,195)\"],[0.3,\"rgb(146,197,222)\"],[0.4,\"rgb(209,229,240)\"],[0.5,\"rgb(247,247,247)\"],[0.6,\"rgb(253,219,199)\"],[0.7,\"rgb(244,165,130)\"],[0.8,\"rgb(214,96,77)\"],[0.9,\"rgb(178,24,43)\"],[1.0,\"rgb(103,0,31)\"]]},\"margin\":{\"t\":60}},                        {\"responsive\": true}                    ).then(function(){\n",
              "                            \n",
              "var gd = document.getElementById('27a1a88d-8f87-418b-a868-4ce1690f99c5');\n",
              "var x = new MutationObserver(function (mutations, observer) {{\n",
              "        var display = window.getComputedStyle(gd).display;\n",
              "        if (!display || display === 'none') {{\n",
              "            console.log([gd, 'removed!']);\n",
              "            Plotly.purge(gd);\n",
              "            observer.disconnect();\n",
              "        }}\n",
              "}});\n",
              "\n",
              "// Listen for the removal of the full notebook cells\n",
              "var notebookContainer = gd.closest('#notebook-container');\n",
              "if (notebookContainer) {{\n",
              "    x.observe(notebookContainer, {childList: true});\n",
              "}}\n",
              "\n",
              "// Listen for the clearing of the current output cell\n",
              "var outputEl = gd.closest('.output');\n",
              "if (outputEl) {{\n",
              "    x.observe(outputEl, {childList: true});\n",
              "}}\n",
              "\n",
              "                        })                };                            </script>        </div>\n",
              "</body>\n",
              "</html>"
            ]
          },
          "metadata": {}
        }
      ],
      "source": [
        "corr = df.corr()\n",
        "fig=px.imshow(corr, aspect=\"auto\" ,color_continuous_scale='RdBu_r')\n",
        "fig.show()"
      ]
    },
    {
      "cell_type": "code",
      "execution_count": null,
      "id": "3c160557",
      "metadata": {
        "colab": {
          "base_uri": "https://localhost:8080/",
          "height": 542
        },
        "id": "3c160557",
        "outputId": "76e95e5d-66ed-4aa1-f47f-08d8a3970b70"
      },
      "outputs": [
        {
          "output_type": "display_data",
          "data": {
            "text/html": [
              "<html>\n",
              "<head><meta charset=\"utf-8\" /></head>\n",
              "<body>\n",
              "    <div>            <script src=\"https://cdnjs.cloudflare.com/ajax/libs/mathjax/2.7.5/MathJax.js?config=TeX-AMS-MML_SVG\"></script><script type=\"text/javascript\">if (window.MathJax && window.MathJax.Hub && window.MathJax.Hub.Config) {window.MathJax.Hub.Config({SVG: {font: \"STIX-Web\"}});}</script>                <script type=\"text/javascript\">window.PlotlyConfig = {MathJaxConfig: 'local'};</script>\n",
              "        <script charset=\"utf-8\" src=\"https://cdn.plot.ly/plotly-2.35.2.min.js\"></script>                <div id=\"7a5a13f8-936c-4d5a-8c77-456c2d4fa5e1\" class=\"plotly-graph-div\" style=\"height:525px; width:100%;\"></div>            <script type=\"text/javascript\">                                    window.PLOTLYENV=window.PLOTLYENV || {};                                    if (document.getElementById(\"7a5a13f8-936c-4d5a-8c77-456c2d4fa5e1\")) {                    Plotly.newPlot(                        \"7a5a13f8-936c-4d5a-8c77-456c2d4fa5e1\",                        [{\"coloraxis\":\"coloraxis\",\"name\":\"0\",\"x\":[\"V1\",\"V2\",\"V3\",\"V4\",\"V5\",\"V6\",\"V7\",\"V8\",\"V9\",\"V10\",\"V11\",\"V12\",\"V13\",\"V14\",\"V15\",\"V16\",\"V17\",\"V18\",\"V19\",\"V20\",\"V21\",\"V22\",\"V23\",\"V24\",\"V25\",\"V26\",\"V27\",\"V28\",\"Amount\",\"Class\"],\"y\":[\"V1\",\"V2\",\"V3\",\"V4\",\"V5\",\"V6\",\"V7\",\"V8\",\"V9\",\"V10\",\"V11\",\"V12\",\"V13\",\"V14\",\"V15\",\"V16\",\"V17\",\"V18\",\"V19\",\"V20\",\"V21\",\"V22\",\"V23\",\"V24\",\"V25\",\"V26\",\"V27\",\"V28\",\"Amount\",\"Class\"],\"z\":[[1.0,-0.6847923248922169,0.8624929558005067,-0.6096330941282482,0.8254295478266821,0.3491954037387331,0.8537184545523655,-0.23230625698845145,0.6364767834531045,0.7080117599500014,-0.5046569782092304,0.5710173757533277,-0.09120987192176892,0.42501661967643356,0.07919958987338553,0.6133526142776545,0.6609798299725493,0.660989892434642,-0.30024468090369627,-0.3031394364079605,0.12010308124459436,-0.07926783915325862,0.01568847233175276,-0.07163948580073128,-0.11511711226664252,0.04279712475650396,0.12791403281637864,0.0906423620620188,-0.08618721473676054,-0.40283713307799085],[-0.6847923248922169,1.0,-0.813908744840344,0.613629601276618,-0.7513701362603511,-0.30365267524793904,-0.7883815217791146,0.14283835751380727,-0.6716479603790241,-0.7286132227025739,0.5956432722079614,-0.6508120603311093,0.06258081639174218,-0.5560716326183497,-0.1127600422849545,-0.6095217006251817,-0.6122973560457686,-0.5815930471384341,0.22530777812943784,0.28020159174233017,-0.11887829339657244,0.10703051609665648,0.09919846900258014,-0.0316536171865036,0.13658727628020023,0.010509946682870551,-0.06315763332093044,-0.06085876347120603,-0.23545050008066074,0.471880999568945],[0.8624929558005067,-0.813908744840344,1.0,-0.7603072101825982,0.8360205986102656,0.4767541203732771,0.872098805432975,-0.2894786459886538,0.744711678897867,0.8406655377120543,-0.7122652372925414,0.7567767410386552,-0.10075260666420688,0.6614628955980004,0.09213495473580209,0.7169038456797218,0.7293504075216827,0.68553471271926,-0.3081893930948609,-0.3365314765101016,0.07849861802789972,-0.07007745077957839,0.0013080135884395627,0.04319848146880603,-0.12117592386087946,-0.009813401606040056,-0.0005722185303498345,0.06185243532632372,0.03640837725571942,-0.5608839588513835],[-0.6096330941282482,0.613629601276618,-0.7603072101825982,1.0,-0.5567356735203433,-0.41715208125601205,-0.7056782583682316,0.1410059670499088,-0.7674198699472482,-0.7867752993915317,0.7842157644069111,-0.8245394837542461,0.06912569731518849,-0.790757206528751,-0.10384092040631267,-0.7164125570357013,-0.695979232730023,-0.6246335132021241,0.2972009918078734,0.304830013441573,-0.044517927288626934,0.10916839874924003,0.009619045480791089,-0.07851586466419243,-0.0015639580792981085,0.12055335623182988,0.04934333232284391,-0.022200792290352715,-0.13913934722432342,0.6984958093699223],[0.8254295478266821,-0.7513701362603511,0.8360205986102656,-0.5567356735203433,1.0,0.2545712382253843,0.8069207747500489,-0.31417278187073394,0.6432674615831421,0.7324001003777111,-0.5142833929623656,0.6026636483082778,-0.14452719282386256,0.4217724982386124,0.07056402921275208,0.6815088083078406,0.7335317123065079,0.729996406722856,-0.39568230532567733,-0.31114188888917726,0.08520061461580633,-0.08930557075565015,-0.085000892250885,-0.12580507189737017,-0.11185961356026791,0.05675357353516675,0.10441629651809052,0.09239282478679693,-0.19664496929466524,-0.3625018730138038],[0.3491954037387331,-0.30365267524793904,0.4767541203732771,-0.41715208125601205,0.2545712382253843,1.0,0.35944423785844504,-0.5224952262910355,0.3244909246268178,0.4147459461953349,-0.49208400950799414,0.48783689822986187,-0.09318478862623344,0.5425487029897071,-0.07252214863020515,0.42439469977678274,0.4108027360809221,0.34947351874116894,-0.20143005375581288,-0.028675622748269756,-0.21903652141336535,0.18923340445104953,0.2814120955396031,-0.0007799674281995567,-0.15334291763316477,0.006790536601520614,-0.2547613993976198,-0.021294192670911885,0.177066706945436,-0.4019431737040952],[0.8537184545523655,-0.7883815217791146,0.872098805432975,-0.7056782583682316,0.8069207747500489,0.35944423785844504,1.0,-0.05249436952681121,0.763753696185722,0.8609529358925053,-0.6352451420735997,0.7243560437612283,-0.0649579838676114,0.5441084553511188,0.13870273153426388,0.7491207841357584,0.7779957923426992,0.7646345819815409,-0.3690496088284052,-0.37889656581757236,0.21374108407070402,-0.22297987419363877,-0.007847086389667997,-0.043466546467002425,0.017675335459513025,0.001996811057378085,0.13944244656031202,0.13273405655572026,0.1044575001808008,-0.4681420761984487],[-0.23230625698845145,0.14283835751380727,-0.2894786459886538,0.1410059670499088,-0.31417278187073394,-0.5224952262910355,-0.05249436952681121,1.0,-0.08507203208730034,-0.1011952911934238,0.24778097867938598,-0.21158087773006026,0.24225987591565082,-0.27462365073698275,0.15381991121724753,-0.26494497883455553,-0.2876930998303112,-0.26047026966571885,0.22393879872653072,-0.16858077780635342,0.41621062958750976,-0.3743034509340735,-0.29306316901799195,0.05106395919222408,0.2938529846590273,0.024623310579850583,0.3954798623200267,0.038036167825607294,0.15661712320424093,0.11800047339803194],[0.6364767834531045,-0.6716479603790241,0.744711678897867,-0.7674198699472482,0.6432674615831421,0.3244909246268178,0.763753696185722,-0.08507203208730034,1.0,0.8431387707813958,-0.6985914008079938,0.7691165826330191,-0.04348631405853823,0.6778691484808138,0.11367154699373463,0.7367509570615786,0.7591984726792509,0.6989106711042091,-0.34092859074087956,-0.34825600662862727,0.1692208769251298,-0.23985644537353715,-0.061853690742007035,0.014434238535578299,-0.028828428480248625,-0.12182474250121321,0.028805595367363518,0.07781264861696045,0.08951828579280283,-0.5476626437202625],[0.7080117599500014,-0.7286132227025739,0.8406655377120543,-0.7867752993915317,0.7324001003777111,0.4147459461953349,0.8609529358925053,-0.1011952911934238,0.8431387707813958,1.0,-0.8005614591291679,0.8851301466592006,-0.0599442650702964,0.7673726123158388,0.13100021538110218,0.8602695748298637,0.859798755184651,0.7979528644092979,-0.409189709423919,-0.3502497016474779,0.12255734031751583,-0.2326156905853195,-0.03497493802300044,0.009443887417637749,-0.0020406834316473734,-0.048199123104555514,0.03985750093126029,0.07121592174982558,0.07997413294998833,-0.6278025635234649],[-0.5046569782092304,0.5956432722079614,-0.7122652372925414,0.7842157644069111,-0.5142833929623656,-0.49208400950799414,-0.6352451420735997,0.24778097867938598,-0.6985914008079938,-0.8005614591291679,1.0,-0.8958008845435368,0.0727455052566916,-0.8856190250718045,-0.04487631341403465,-0.7996064678564657,-0.762997731050041,-0.6641833361030639,0.3601658498121908,0.1800230595436711,0.12962361647345694,0.039477131865429706,-0.05235236517596098,-0.13058835068699098,0.03984788425564344,0.13001168253352124,0.22870717364902782,0.034550426250633,-0.1466024354391504,0.6725204554711575],[0.5710173757533277,-0.6508120603311093,0.7567767410386552,-0.8245394837542461,0.6026636483082778,0.48783689822986187,0.7243560437612283,-0.21158087773006026,0.7691165826330191,0.8851301466592006,-0.8958008845435368,1.0,-0.096744066298917,0.8814082177218313,0.0561434508358789,0.895915064045443,0.8713170063278529,0.7903814683668516,-0.43078240468046347,-0.20411466174517498,-0.08833333319700698,-0.11992490824592807,0.01999342951627535,0.05563860690515658,0.004704688698754968,-0.105280111542331,-0.09829957078315955,-0.011860995390598083,0.1068098723282859,-0.6858290656880826],[-0.09120987192176892,0.06258081639174218,-0.10075260666420688,0.06912569731518849,-0.14452719282386256,-0.09318478862623344,-0.0649579838676114,0.24225987591565082,-0.04348631405853823,-0.0599442650702964,0.0727455052566916,-0.096744066298917,1.0,-0.03245243212289801,-0.04943790209717258,-0.1370252327009693,-0.15229309371505562,-0.15571438547947777,0.1824097808057494,-0.07431337954214737,0.10661473443495458,-0.04815963832051561,-0.05844941521743641,0.06475160082577033,0.01905460806188095,0.05824694241080632,0.049742676286877584,-0.057593558958876426,0.08705031657541218,-0.031518188613632016],[0.42501661967643356,-0.5560716326183497,0.6614628955980004,-0.790757206528751,0.4217724982386124,0.5425487029897071,0.5441084553511188,-0.27462365073698275,0.6778691484808138,0.7673726123158388,-0.8856190250718045,0.8814082177218313,-0.03245243212289801,1.0,-0.014241806151582955,0.7714196703785109,0.7204472377138104,0.6074088808577025,-0.3369616401076619,-0.12828207673284364,-0.22321908234295146,0.03778429926106575,0.04595329361458638,0.1541716615759836,-0.10171477984103963,-0.14560608341908501,-0.24319872658467798,-0.09767893075949,0.15987251837628697,-0.7442529099130897],[0.07919958987338553,-0.1127600422849545,0.09213495473580209,-0.10384092040631267,0.07056402921275208,-0.07252214863020515,0.13870273153426388,0.15381991121724753,0.11367154699373463,0.13100021538110218,-0.04487631341403465,0.0561434508358789,-0.04943790209717258,-0.014241806151582955,1.0,-0.005891414993384094,0.024891571563285104,0.013395993727045712,0.18866691872571145,-0.16869208606182587,0.16620917704051635,-0.1255825420546546,-0.04695526415281485,0.0019614314246077322,-0.0015269202443309324,0.016631032238726074,0.11296996111375665,0.08368574236771599,0.07184903059607366,-0.0118333141629361],[0.6133526142776545,-0.6095217006251817,0.7169038456797218,-0.7164125570357013,0.6815088083078406,0.42439469977678274,0.7491207841357584,-0.26494497883455553,0.7367509570615786,0.8602695748298637,-0.7996064678564657,0.895915064045443,-0.1370252327009693,0.7714196703785109,-0.005891414993384094,1.0,0.9521827125545808,0.9064946802120315,-0.6075349137721414,-0.1961768288080325,-0.1318922705657933,-0.14826351995640488,0.027446900001470195,-0.04130204396345576,0.04814481486621939,-0.05297279253060965,-0.08599571110217881,0.019756075184967647,-0.020028610340612457,-0.5903776135502482],[0.6609798299725493,-0.6122973560457686,0.7293504075216827,-0.695979232730023,0.7335317123065079,0.4108027360809221,0.7779957923426992,-0.2876930998303112,0.7591984726792509,0.859798755184651,-0.762997731050041,0.8713170063278529,-0.15229309371505562,0.7204472377138104,0.024891571563285104,0.9521827125545808,1.0,0.9362389185973391,-0.5772894272464334,-0.19172133739112976,-0.10463453115198453,-0.1467619595757483,0.03220689619765104,-0.0832600865321199,0.021040519998067466,-0.029575806010569927,-0.055501148073236015,0.027201616643508002,-0.04544592429870754,-0.5562036409994982],[0.660989892434642,-0.5815930471384341,0.68553471271926,-0.6246335132021241,0.729996406722856,0.34947351874116894,0.7646345819815409,-0.26047026966571885,0.6989106711042091,0.7979528644092979,-0.6641833361030639,0.7903814683668516,-0.15571438547947777,0.6074088808577025,0.013395993727045712,0.9064946802120315,0.9362389185973391,1.0,-0.5411102359516675,-0.15786073477008478,-0.06192392771412851,-0.15472903414705885,0.039655431561637186,-0.1092870286024638,0.04621830726729413,-0.021768079627805414,0.0006185561316187341,0.050766961720515015,-0.06362851302756968,-0.4570531053581336],[-0.30024468090369627,0.22530777812943784,-0.3081893930948609,0.2972009918078734,-0.39568230532567733,-0.20143005375581288,-0.3690496088284052,0.22393879872653072,-0.34092859074087956,-0.409189709423919,0.3601658498121908,-0.43078240468046347,0.1824097808057494,-0.3369616401076619,0.18866691872571145,-0.6075349137721414,-0.5772894272464334,-0.5411102359516675,1.0,0.02118408056723141,0.15065044271268246,0.15610519742271542,0.016209347699908866,0.13720041708137687,-0.1387546159099582,0.05130059321611248,0.056882374838109914,0.0017225401328573547,0.15630513057503578,0.25101844599833495],[-0.3031394364079605,0.28020159174233017,-0.3365314765101016,0.304830013441573,-0.31114188888917726,-0.028675622748269756,-0.37889656581757236,-0.16858077780635342,-0.34825600662862727,-0.3502497016474779,0.1800230595436711,-0.20411466174517498,-0.07431337954214737,-0.12828207673284364,-0.16869208606182587,-0.1961768288080325,-0.19172133739112976,-0.15786073477008478,0.02118408056723141,1.0,-0.3834722721067379,0.2671864996900085,0.14198777744740168,-0.005297909084538393,-0.01702461850663332,-0.021672027619521642,-0.04495111378300877,-0.17768398652899486,0.025137246573722596,0.15857515488426777],[0.12010308124459436,-0.11887829339657244,0.07849861802789972,-0.044517927288626934,0.08520061461580633,-0.21903652141336535,0.21374108407070402,0.41621062958750976,0.1692208769251298,0.12255734031751583,0.12962361647345694,-0.08833333319700698,0.10661473443495458,-0.22321908234295146,0.16620917704051635,-0.1318922705657933,-0.10463453115198453,-0.06192392771412851,0.15065044271268246,-0.3834722721067379,1.0,-0.598685478427302,-0.15767845696570654,0.019893738605418574,0.13264141776243532,0.025469875092588364,0.4024929107361087,0.1619295894455156,0.12405373098322517,0.11427579134654842],[-0.07926783915325862,0.10703051609665648,-0.07007745077957839,0.10916839874924003,-0.08930557075565015,0.18923340445104953,-0.22297987419363877,-0.3743034509340735,-0.23985644537353715,-0.2326156905853195,0.039477131865429706,-0.11992490824592807,-0.04815963832051561,0.03778429926106575,-0.1255825420546546,-0.14826351995640488,-0.1467619595757483,-0.15472903414705885,0.15610519742271542,0.2671864996900085,-0.598685478427302,1.0,0.2376866811712113,-0.0032799237789947508,-0.25102533738763133,0.044885660253456715,-0.32954286663237653,-0.1620605919929249,-0.04384844191074549,0.028692783391630883],[0.01568847233175276,0.09919846900258014,0.0013080135884395627,0.009619045480791089,-0.085000892250885,0.2814120955396031,-0.007847086389667997,-0.29306316901799195,-0.061853690742007035,-0.03497493802300044,-0.05235236517596098,0.01999342951627535,-0.05844941521743641,0.04595329361458638,-0.04695526415281485,0.027446900001470195,0.03220689619765104,0.039655431561637186,0.016209347699908866,0.14198777744740168,-0.15767845696570654,0.2376866811712113,1.0,-0.022646605388460726,0.07747755616974016,0.04188646725229793,-0.23814726699476996,0.038779507611914385,-0.04096308340353423,-0.04881375142064138],[-0.07163948580073128,-0.0316536171865036,0.04319848146880603,-0.07851586466419243,-0.12580507189737017,-0.0007799674281995567,-0.043466546467002425,0.05106395919222408,0.014434238535578299,0.009443887417637749,-0.13058835068699098,0.05563860690515658,0.06475160082577033,0.1541716615759836,0.0019614314246077322,-0.04130204396345576,-0.0832600865321199,-0.1092870286024638,0.13720041708137687,-0.005297909084538393,0.019893738605418574,-0.0032799237789947508,-0.022646605388460726,1.0,-0.07873448650785833,-0.13065109458664728,-0.19420124363725247,0.0015854667460547048,0.13424684574216872,-0.09219092240529247],[-0.11511711226664252,0.13658727628020023,-0.12117592386087946,-0.0015639580792981085,-0.11185961356026791,-0.15334291763316477,0.017675335459513025,0.2938529846590273,-0.028828428480248625,-0.0020406834316473734,0.03984788425564344,0.004704688698754968,0.01905460806188095,-0.10171477984103963,-0.0015269202443309324,0.04814481486621939,0.021040519998067466,0.04621830726729413,-0.1387546159099582,-0.01702461850663332,0.13264141776243532,-0.25102533738763133,0.07747755616974016,-0.07873448650785833,1.0,0.07420407858341284,0.1738241293393606,0.14516558374718264,-0.0470818896396072,0.05694636095447755],[0.04279712475650396,0.010509946682870551,-0.009813401606040056,0.12055335623182988,0.05675357353516675,0.006790536601520614,0.001996811057378085,0.024623310579850583,-0.12182474250121321,-0.048199123104555514,0.13001168253352124,-0.105280111542331,0.05824694241080632,-0.14560608341908501,0.016631032238726074,-0.05297279253060965,-0.029575806010569927,-0.021768079627805414,0.05130059321611248,-0.021672027619521642,0.025469875092588364,0.044885660253456715,0.04188646725229793,-0.13065109458664728,0.07420407858341284,1.0,0.11468191031850221,0.025320740103893596,-0.12139851284893581,0.030751379126969552],[0.12791403281637864,-0.06315763332093044,-0.0005722185303498345,0.04934333232284391,0.10441629651809052,-0.2547613993976198,0.13944244656031202,0.3954798623200267,0.028805595367363518,0.03985750093126029,0.22870717364902782,-0.09829957078315955,0.049742676286877584,-0.24319872658467798,0.11296996111375665,-0.08599571110217881,-0.055501148073236015,0.0006185561316187341,0.056882374838109914,-0.04495111378300877,0.4024929107361087,-0.32954286663237653,-0.23814726699476996,-0.19420124363725247,0.1738241293393606,0.11468191031850221,1.0,0.05600755392168791,0.027511123230097675,0.12559992434129766],[0.0906423620620188,-0.06085876347120603,0.06185243532632372,-0.022200792290352715,0.09239282478679693,-0.021294192670911885,0.13273405655572026,0.038036167825607294,0.07781264861696045,0.07121592174982558,0.034550426250633,-0.011860995390598083,-0.057593558958876426,-0.09767893075949,0.08368574236771599,0.019756075184967647,0.027201616643508002,0.050766961720515015,0.0017225401328573547,-0.17768398652899486,0.1619295894455156,-0.1620605919929249,0.038779507611914385,0.0015854667460547048,0.14516558374718264,0.025320740103893596,0.05600755392168791,1.0,-0.04771922394218983,0.07437925638797302],[-0.08618721473676054,-0.23545050008066074,0.03640837725571942,-0.13913934722432342,-0.19664496929466524,0.177066706945436,0.1044575001808008,0.15661712320424093,0.08951828579280283,0.07997413294998833,-0.1466024354391504,0.1068098723282859,0.08705031657541218,0.15987251837628697,0.07184903059607366,-0.020028610340612457,-0.04544592429870754,-0.06362851302756968,0.15630513057503578,0.025137246573722596,0.12405373098322517,-0.04384844191074549,-0.04096308340353423,0.13424684574216872,-0.0470818896396072,-0.12139851284893581,0.027511123230097675,-0.04771922394218983,1.0,-0.07205786017156103],[-0.40283713307799085,0.471880999568945,-0.5608839588513835,0.6984958093699223,-0.3625018730138038,-0.4019431737040952,-0.4681420761984487,0.11800047339803194,-0.5476626437202625,-0.6278025635234649,0.6725204554711575,-0.6858290656880826,-0.031518188613632016,-0.7442529099130897,-0.0118333141629361,-0.5903776135502482,-0.5562036409994982,-0.4570531053581336,0.25101844599833495,0.15857515488426777,0.11427579134654842,0.028692783391630883,-0.04881375142064138,-0.09219092240529247,0.05694636095447755,0.030751379126969552,0.12559992434129766,0.07437925638797302,-0.07205786017156103,1.0]],\"type\":\"heatmap\",\"xaxis\":\"x\",\"yaxis\":\"y\",\"hovertemplate\":\"x: %{x}\\u003cbr\\u003ey: %{y}\\u003cbr\\u003ecolor: %{z}\\u003cextra\\u003e\\u003c\\u002fextra\\u003e\"}],                        {\"template\":{\"data\":{\"histogram2dcontour\":[{\"type\":\"histogram2dcontour\",\"colorbar\":{\"outlinewidth\":0,\"ticks\":\"\"},\"colorscale\":[[0.0,\"#0d0887\"],[0.1111111111111111,\"#46039f\"],[0.2222222222222222,\"#7201a8\"],[0.3333333333333333,\"#9c179e\"],[0.4444444444444444,\"#bd3786\"],[0.5555555555555556,\"#d8576b\"],[0.6666666666666666,\"#ed7953\"],[0.7777777777777778,\"#fb9f3a\"],[0.8888888888888888,\"#fdca26\"],[1.0,\"#f0f921\"]]}],\"choropleth\":[{\"type\":\"choropleth\",\"colorbar\":{\"outlinewidth\":0,\"ticks\":\"\"}}],\"histogram2d\":[{\"type\":\"histogram2d\",\"colorbar\":{\"outlinewidth\":0,\"ticks\":\"\"},\"colorscale\":[[0.0,\"#0d0887\"],[0.1111111111111111,\"#46039f\"],[0.2222222222222222,\"#7201a8\"],[0.3333333333333333,\"#9c179e\"],[0.4444444444444444,\"#bd3786\"],[0.5555555555555556,\"#d8576b\"],[0.6666666666666666,\"#ed7953\"],[0.7777777777777778,\"#fb9f3a\"],[0.8888888888888888,\"#fdca26\"],[1.0,\"#f0f921\"]]}],\"heatmap\":[{\"type\":\"heatmap\",\"colorbar\":{\"outlinewidth\":0,\"ticks\":\"\"},\"colorscale\":[[0.0,\"#0d0887\"],[0.1111111111111111,\"#46039f\"],[0.2222222222222222,\"#7201a8\"],[0.3333333333333333,\"#9c179e\"],[0.4444444444444444,\"#bd3786\"],[0.5555555555555556,\"#d8576b\"],[0.6666666666666666,\"#ed7953\"],[0.7777777777777778,\"#fb9f3a\"],[0.8888888888888888,\"#fdca26\"],[1.0,\"#f0f921\"]]}],\"heatmapgl\":[{\"type\":\"heatmapgl\",\"colorbar\":{\"outlinewidth\":0,\"ticks\":\"\"},\"colorscale\":[[0.0,\"#0d0887\"],[0.1111111111111111,\"#46039f\"],[0.2222222222222222,\"#7201a8\"],[0.3333333333333333,\"#9c179e\"],[0.4444444444444444,\"#bd3786\"],[0.5555555555555556,\"#d8576b\"],[0.6666666666666666,\"#ed7953\"],[0.7777777777777778,\"#fb9f3a\"],[0.8888888888888888,\"#fdca26\"],[1.0,\"#f0f921\"]]}],\"contourcarpet\":[{\"type\":\"contourcarpet\",\"colorbar\":{\"outlinewidth\":0,\"ticks\":\"\"}}],\"contour\":[{\"type\":\"contour\",\"colorbar\":{\"outlinewidth\":0,\"ticks\":\"\"},\"colorscale\":[[0.0,\"#0d0887\"],[0.1111111111111111,\"#46039f\"],[0.2222222222222222,\"#7201a8\"],[0.3333333333333333,\"#9c179e\"],[0.4444444444444444,\"#bd3786\"],[0.5555555555555556,\"#d8576b\"],[0.6666666666666666,\"#ed7953\"],[0.7777777777777778,\"#fb9f3a\"],[0.8888888888888888,\"#fdca26\"],[1.0,\"#f0f921\"]]}],\"surface\":[{\"type\":\"surface\",\"colorbar\":{\"outlinewidth\":0,\"ticks\":\"\"},\"colorscale\":[[0.0,\"#0d0887\"],[0.1111111111111111,\"#46039f\"],[0.2222222222222222,\"#7201a8\"],[0.3333333333333333,\"#9c179e\"],[0.4444444444444444,\"#bd3786\"],[0.5555555555555556,\"#d8576b\"],[0.6666666666666666,\"#ed7953\"],[0.7777777777777778,\"#fb9f3a\"],[0.8888888888888888,\"#fdca26\"],[1.0,\"#f0f921\"]]}],\"mesh3d\":[{\"type\":\"mesh3d\",\"colorbar\":{\"outlinewidth\":0,\"ticks\":\"\"}}],\"scatter\":[{\"fillpattern\":{\"fillmode\":\"overlay\",\"size\":10,\"solidity\":0.2},\"type\":\"scatter\"}],\"parcoords\":[{\"type\":\"parcoords\",\"line\":{\"colorbar\":{\"outlinewidth\":0,\"ticks\":\"\"}}}],\"scatterpolargl\":[{\"type\":\"scatterpolargl\",\"marker\":{\"colorbar\":{\"outlinewidth\":0,\"ticks\":\"\"}}}],\"bar\":[{\"error_x\":{\"color\":\"#2a3f5f\"},\"error_y\":{\"color\":\"#2a3f5f\"},\"marker\":{\"line\":{\"color\":\"#E5ECF6\",\"width\":0.5},\"pattern\":{\"fillmode\":\"overlay\",\"size\":10,\"solidity\":0.2}},\"type\":\"bar\"}],\"scattergeo\":[{\"type\":\"scattergeo\",\"marker\":{\"colorbar\":{\"outlinewidth\":0,\"ticks\":\"\"}}}],\"scatterpolar\":[{\"type\":\"scatterpolar\",\"marker\":{\"colorbar\":{\"outlinewidth\":0,\"ticks\":\"\"}}}],\"histogram\":[{\"marker\":{\"pattern\":{\"fillmode\":\"overlay\",\"size\":10,\"solidity\":0.2}},\"type\":\"histogram\"}],\"scattergl\":[{\"type\":\"scattergl\",\"marker\":{\"colorbar\":{\"outlinewidth\":0,\"ticks\":\"\"}}}],\"scatter3d\":[{\"type\":\"scatter3d\",\"line\":{\"colorbar\":{\"outlinewidth\":0,\"ticks\":\"\"}},\"marker\":{\"colorbar\":{\"outlinewidth\":0,\"ticks\":\"\"}}}],\"scattermapbox\":[{\"type\":\"scattermapbox\",\"marker\":{\"colorbar\":{\"outlinewidth\":0,\"ticks\":\"\"}}}],\"scatterternary\":[{\"type\":\"scatterternary\",\"marker\":{\"colorbar\":{\"outlinewidth\":0,\"ticks\":\"\"}}}],\"scattercarpet\":[{\"type\":\"scattercarpet\",\"marker\":{\"colorbar\":{\"outlinewidth\":0,\"ticks\":\"\"}}}],\"carpet\":[{\"aaxis\":{\"endlinecolor\":\"#2a3f5f\",\"gridcolor\":\"white\",\"linecolor\":\"white\",\"minorgridcolor\":\"white\",\"startlinecolor\":\"#2a3f5f\"},\"baxis\":{\"endlinecolor\":\"#2a3f5f\",\"gridcolor\":\"white\",\"linecolor\":\"white\",\"minorgridcolor\":\"white\",\"startlinecolor\":\"#2a3f5f\"},\"type\":\"carpet\"}],\"table\":[{\"cells\":{\"fill\":{\"color\":\"#EBF0F8\"},\"line\":{\"color\":\"white\"}},\"header\":{\"fill\":{\"color\":\"#C8D4E3\"},\"line\":{\"color\":\"white\"}},\"type\":\"table\"}],\"barpolar\":[{\"marker\":{\"line\":{\"color\":\"#E5ECF6\",\"width\":0.5},\"pattern\":{\"fillmode\":\"overlay\",\"size\":10,\"solidity\":0.2}},\"type\":\"barpolar\"}],\"pie\":[{\"automargin\":true,\"type\":\"pie\"}]},\"layout\":{\"autotypenumbers\":\"strict\",\"colorway\":[\"#636efa\",\"#EF553B\",\"#00cc96\",\"#ab63fa\",\"#FFA15A\",\"#19d3f3\",\"#FF6692\",\"#B6E880\",\"#FF97FF\",\"#FECB52\"],\"font\":{\"color\":\"#2a3f5f\"},\"hovermode\":\"closest\",\"hoverlabel\":{\"align\":\"left\"},\"paper_bgcolor\":\"white\",\"plot_bgcolor\":\"#E5ECF6\",\"polar\":{\"bgcolor\":\"#E5ECF6\",\"angularaxis\":{\"gridcolor\":\"white\",\"linecolor\":\"white\",\"ticks\":\"\"},\"radialaxis\":{\"gridcolor\":\"white\",\"linecolor\":\"white\",\"ticks\":\"\"}},\"ternary\":{\"bgcolor\":\"#E5ECF6\",\"aaxis\":{\"gridcolor\":\"white\",\"linecolor\":\"white\",\"ticks\":\"\"},\"baxis\":{\"gridcolor\":\"white\",\"linecolor\":\"white\",\"ticks\":\"\"},\"caxis\":{\"gridcolor\":\"white\",\"linecolor\":\"white\",\"ticks\":\"\"}},\"coloraxis\":{\"colorbar\":{\"outlinewidth\":0,\"ticks\":\"\"}},\"colorscale\":{\"sequential\":[[0.0,\"#0d0887\"],[0.1111111111111111,\"#46039f\"],[0.2222222222222222,\"#7201a8\"],[0.3333333333333333,\"#9c179e\"],[0.4444444444444444,\"#bd3786\"],[0.5555555555555556,\"#d8576b\"],[0.6666666666666666,\"#ed7953\"],[0.7777777777777778,\"#fb9f3a\"],[0.8888888888888888,\"#fdca26\"],[1.0,\"#f0f921\"]],\"sequentialminus\":[[0.0,\"#0d0887\"],[0.1111111111111111,\"#46039f\"],[0.2222222222222222,\"#7201a8\"],[0.3333333333333333,\"#9c179e\"],[0.4444444444444444,\"#bd3786\"],[0.5555555555555556,\"#d8576b\"],[0.6666666666666666,\"#ed7953\"],[0.7777777777777778,\"#fb9f3a\"],[0.8888888888888888,\"#fdca26\"],[1.0,\"#f0f921\"]],\"diverging\":[[0,\"#8e0152\"],[0.1,\"#c51b7d\"],[0.2,\"#de77ae\"],[0.3,\"#f1b6da\"],[0.4,\"#fde0ef\"],[0.5,\"#f7f7f7\"],[0.6,\"#e6f5d0\"],[0.7,\"#b8e186\"],[0.8,\"#7fbc41\"],[0.9,\"#4d9221\"],[1,\"#276419\"]]},\"xaxis\":{\"gridcolor\":\"white\",\"linecolor\":\"white\",\"ticks\":\"\",\"title\":{\"standoff\":15},\"zerolinecolor\":\"white\",\"automargin\":true,\"zerolinewidth\":2},\"yaxis\":{\"gridcolor\":\"white\",\"linecolor\":\"white\",\"ticks\":\"\",\"title\":{\"standoff\":15},\"zerolinecolor\":\"white\",\"automargin\":true,\"zerolinewidth\":2},\"scene\":{\"xaxis\":{\"backgroundcolor\":\"#E5ECF6\",\"gridcolor\":\"white\",\"linecolor\":\"white\",\"showbackground\":true,\"ticks\":\"\",\"zerolinecolor\":\"white\",\"gridwidth\":2},\"yaxis\":{\"backgroundcolor\":\"#E5ECF6\",\"gridcolor\":\"white\",\"linecolor\":\"white\",\"showbackground\":true,\"ticks\":\"\",\"zerolinecolor\":\"white\",\"gridwidth\":2},\"zaxis\":{\"backgroundcolor\":\"#E5ECF6\",\"gridcolor\":\"white\",\"linecolor\":\"white\",\"showbackground\":true,\"ticks\":\"\",\"zerolinecolor\":\"white\",\"gridwidth\":2}},\"shapedefaults\":{\"line\":{\"color\":\"#2a3f5f\"}},\"annotationdefaults\":{\"arrowcolor\":\"#2a3f5f\",\"arrowhead\":0,\"arrowwidth\":1},\"geo\":{\"bgcolor\":\"white\",\"landcolor\":\"#E5ECF6\",\"subunitcolor\":\"white\",\"showland\":true,\"showlakes\":true,\"lakecolor\":\"white\"},\"title\":{\"x\":0.05},\"mapbox\":{\"style\":\"light\"}}},\"xaxis\":{\"anchor\":\"y\",\"domain\":[0.0,1.0]},\"yaxis\":{\"anchor\":\"x\",\"domain\":[0.0,1.0],\"autorange\":\"reversed\"},\"coloraxis\":{\"colorscale\":[[0.0,\"rgb(5,48,97)\"],[0.1,\"rgb(33,102,172)\"],[0.2,\"rgb(67,147,195)\"],[0.3,\"rgb(146,197,222)\"],[0.4,\"rgb(209,229,240)\"],[0.5,\"rgb(247,247,247)\"],[0.6,\"rgb(253,219,199)\"],[0.7,\"rgb(244,165,130)\"],[0.8,\"rgb(214,96,77)\"],[0.9,\"rgb(178,24,43)\"],[1.0,\"rgb(103,0,31)\"]]},\"margin\":{\"t\":60}},                        {\"responsive\": true}                    ).then(function(){\n",
              "                            \n",
              "var gd = document.getElementById('7a5a13f8-936c-4d5a-8c77-456c2d4fa5e1');\n",
              "var x = new MutationObserver(function (mutations, observer) {{\n",
              "        var display = window.getComputedStyle(gd).display;\n",
              "        if (!display || display === 'none') {{\n",
              "            console.log([gd, 'removed!']);\n",
              "            Plotly.purge(gd);\n",
              "            observer.disconnect();\n",
              "        }}\n",
              "}});\n",
              "\n",
              "// Listen for the removal of the full notebook cells\n",
              "var notebookContainer = gd.closest('#notebook-container');\n",
              "if (notebookContainer) {{\n",
              "    x.observe(notebookContainer, {childList: true});\n",
              "}}\n",
              "\n",
              "// Listen for the clearing of the current output cell\n",
              "var outputEl = gd.closest('.output');\n",
              "if (outputEl) {{\n",
              "    x.observe(outputEl, {childList: true});\n",
              "}}\n",
              "\n",
              "                        })                };                            </script>        </div>\n",
              "</body>\n",
              "</html>"
            ]
          },
          "metadata": {}
        }
      ],
      "source": [
        "corr = new_df.corr()\n",
        "fig=px.imshow(corr, aspect=\"auto\" ,color_continuous_scale='RdBu_r')\n",
        "fig.show()"
      ]
    },
    {
      "cell_type": "markdown",
      "id": "a7c45385",
      "metadata": {
        "id": "a7c45385"
      },
      "source": [
        "Negative Correlations: V17, V14, V12 and V10 are negatively correlated.  \n",
        "Positive Correlations: V2, V4, V11 are positively correlated."
      ]
    },
    {
      "cell_type": "markdown",
      "source": [
        "Note-Used chatgpt to understand the correlations. As the features are anonymised it was difficult to conclude and get relationship and dependency on eachother."
      ],
      "metadata": {
        "id": "9uD4aM5jxtND"
      },
      "id": "9uD4aM5jxtND"
    },
    {
      "cell_type": "code",
      "execution_count": null,
      "id": "Mzekq9GppDUe",
      "metadata": {
        "colab": {
          "base_uri": "https://localhost:8080/"
        },
        "id": "Mzekq9GppDUe",
        "outputId": "c9d9448a-4282-4fd8-ad88-2c9e84c815f5"
      },
      "outputs": [
        {
          "output_type": "stream",
          "name": "stdout",
          "text": [
            "Highly Correlated Feature Pairs (|r| > 0.9):\n",
            "V16 ↔ V17: r = 0.95\n",
            "V16 ↔ V18: r = 0.91\n",
            "V17 ↔ V18: r = 0.94\n"
          ]
        }
      ],
      "source": [
        "# Calculate absolute correlation matrix (optional: choose df or new_df)\n",
        "corr_matrix = new_df.corr().abs()\n",
        "\n",
        "# Select upper triangle of correlation matrix to avoid duplicates and self-correlation\n",
        "upper = corr_matrix.where(np.triu(np.ones(corr_matrix.shape), k=1).astype(bool))\n",
        "\n",
        "# Set threshold\n",
        "threshold = 0.9\n",
        "\n",
        "# Find feature pairs with high correlation\n",
        "high_corr_pairs = [(col1, col2, corr_matrix.loc[col1, col2])\n",
        "                   for col1 in upper.columns\n",
        "                   for col2 in upper.columns\n",
        "                   if (upper.loc[col1, col2] > threshold)]\n",
        "\n",
        "# Display results\n",
        "print(\"Highly Correlated Feature Pairs (|r| > 0.9):\")\n",
        "for f1, f2, corr_value in high_corr_pairs:\n",
        "    print(f\"{f1} ↔ {f2}: r = {corr_value:.2f}\")"
      ]
    },
    {
      "cell_type": "markdown",
      "id": "09014a1a",
      "metadata": {
        "id": "09014a1a"
      },
      "source": [
        "### TSNE"
      ]
    },
    {
      "cell_type": "code",
      "execution_count": null,
      "id": "64e561a6",
      "metadata": {
        "id": "64e561a6"
      },
      "outputs": [],
      "source": [
        "from sklearn.manifold import TSNE\n",
        "X = new_df.drop('Class', axis=1)\n",
        "y = new_df['Class']\n",
        "\n",
        "# T-SNE Implementation\n",
        "X_reduced_tsne = TSNE(n_components=2, random_state=42).fit_transform(X.values)"
      ]
    },
    {
      "cell_type": "code",
      "execution_count": null,
      "id": "1b1e39a4",
      "metadata": {
        "colab": {
          "base_uri": "https://localhost:8080/",
          "height": 542
        },
        "id": "1b1e39a4",
        "outputId": "acfc3209-190c-4511-9c3f-9b2702d2ef45"
      },
      "outputs": [
        {
          "output_type": "display_data",
          "data": {
            "text/html": [
              "<html>\n",
              "<head><meta charset=\"utf-8\" /></head>\n",
              "<body>\n",
              "    <div>            <script src=\"https://cdnjs.cloudflare.com/ajax/libs/mathjax/2.7.5/MathJax.js?config=TeX-AMS-MML_SVG\"></script><script type=\"text/javascript\">if (window.MathJax && window.MathJax.Hub && window.MathJax.Hub.Config) {window.MathJax.Hub.Config({SVG: {font: \"STIX-Web\"}});}</script>                <script type=\"text/javascript\">window.PlotlyConfig = {MathJaxConfig: 'local'};</script>\n",
              "        <script charset=\"utf-8\" src=\"https://cdn.plot.ly/plotly-2.35.2.min.js\"></script>                <div id=\"f9d4e54f-876b-476f-bcf7-225e156d8742\" class=\"plotly-graph-div\" style=\"height:525px; width:100%;\"></div>            <script type=\"text/javascript\">                                    window.PLOTLYENV=window.PLOTLYENV || {};                                    if (document.getElementById(\"f9d4e54f-876b-476f-bcf7-225e156d8742\")) {                    Plotly.newPlot(                        \"f9d4e54f-876b-476f-bcf7-225e156d8742\",                        [{\"hovertemplate\":\"x=%{x}\\u003cbr\\u003ey=%{y}\\u003cbr\\u003ecolor=%{marker.color}\\u003cextra\\u003e\\u003c\\u002fextra\\u003e\",\"legendgroup\":\"\",\"marker\":{\"color\":[0,1,1,1,1,1,1,1,1,1,1,1,1,0,0,1,1,1,1,0,0,0,0,0,0,1,1,1,0,0,0,0,0,1,0,0,0,0,0,0,1,1,1,0,0,1,1,1,0,0,0,1,0,1,1,1,0,0,1,0,0,0,0,1,0,1,0,0,1,0,1,0,1,1,0,0,1,0,1,0,0,0,0,1,0,0,1,0,0,0,1,0,0,0,1,0,1,0,1,0,1,1,1,1,1,0,1,1,0,0,0,1,1,0,0,0,1,0,1,1,0,0,0,0,0,1,0,0,1,0,0,0,0,1,0,1,1,1,0,1,1,1,1,0,1,1,0,1,0,1,1,1,0,0,1,0,0,0,0,1,1,0,1,0,1,0,1,0,1,1,1,0,0,0,0,1,0,1,0,0,1,0,0,0,1,0,0,1,0,1,0,1,1,0,1,1,0,1,0,1,1,0,1,1,1,1,0,1,1,0,0,1,1,1,0,1,0,1,1,1,0,0,0,0,1,0,1,0,0,0,0,1,0,1,1,1,1,1,1,1,0,0,1,0,1,1,1,1,0,0,0,0,1,1,1,0,0,0,0,1,0,1,0,1,1,1,0,1,0,1,1,1,1,0,0,1,1,0,0,0,1,0,0,1,0,0,1,0,0,0,0,0,1,1,0,1,1,1,1,0,1,0,1,1,0,0,0,1,0,0,0,0,0,1,1,1,1,1,0,1,0,1,1,0,1,1,1,1,0,1,1,0,1,1,1,0,1,1,0,1,1,1,1,1,0,1,1,0,0,1,1,0,1,1,1,0,1,0,1,1,1,0,1,0,1,1,1,0,1,1,0,0,0,1,1,0,0,0,1,0,0,0,0,1,0,0,0,1,1,1,0,1,1,1,1,0,1,1,1,1,1,0,1,0,0,1,0,0,0,1,0,0,0,0,0,1,1,0,0,0,1,1,1,1,0,0,1,1,1,1,0,1,1,0,1,1,0,0,0,0,0,0,1,1,1,0,1,1,1,1,0,0,0,0,1,1,1,1,1,0,0,0,1,1,0,0,0,1,1,0,1,0,1,1,0,1,0,0,0,0,1,1,1,1,0,1,0,1,1,1,1,1,0,0,0,0,1,1,0,0,0,1,0,0,1,1,1,0,0,1,0,0,1,0,1,1,1,0,1,1,1,1,0,1,0,0,0,0,1,1,0,0,1,0,0,1,1,1,1,1,0,0,0,1,1,0,1,1,0,1,1,0,1,1,0,1,1,1,0,1,1,0,0,0,1,0,0,1,1,1,0,0,0,0,1,1,0,0,0,1,1,1,1,0,0,1,1,0,1,1,0,0,0,0,0,0,0,1,0,1,0,1,1,0,1,0,0,0,0,0,1,0,0,1,1,0,1,0,1,1,1,0,1,1,0,0,0,1,0,0,0,0,0,0,0,1,0,1,0,0,0,1,1,0,1,1,1,0,0,0,1,1,1,1,0,1,0,0,1,0,1,1,0,1,1,0,0,0,0,0,1,0,1,1,1,0,0,0,0,0,0,1,1,0,0,0,0,1,1,1,1,1,0,0,1,0,1,0,1,1,1,1,1,1,1,1,1,0,0,0,1,0,1,0,0,0,1,0,0,0,0,0,0,0,0,1,0,0,1,0,1,0,1,0,1,0,0,0,1,0,0,1,0,0,1,0,1,0,0,1,1,0,0,0,1,1,1,1,0,0,1,1,0,0,0,0,0,0,0,0,0,0,0,0,1,1,0,1,0,1,0,1,0,0,0,0,0,0,1,0,1,0,0,0,1,0,0,1,1,0,1,0,0,1,1,0,0,0,0,0,0,0,0,1,0,0,0,1,0,1,1,0,1,1,1,0,1,0,0,1,1,1,0,1,0,0,1,1,1,0,1,0,0,0,1,0,1,1,1,0,1,1,0,1,0,1,1,0,0,0,1,0,1,0,1,1,0,0,0,1,1,1,0,0,1,0,0,0,0,1,0,1,1,0,0,0,1,1,1,0,0,1,1,1,1,1,0,1,0,1,1,1,0,1,1,1,0,0,0,0,0,0,0,0,1,0,0,0,0,1,0,0,0,0,0,1,0,0,0,0,1,1,1,1,1,1,1,1,0,1,0,1,0,1,0,1,0,0,1,1,1,1,1,1,1,1,0,1,0,1,1,1,0,1,1],\"coloraxis\":\"coloraxis\",\"symbol\":\"circle\"},\"mode\":\"markers\",\"name\":\"\",\"orientation\":\"v\",\"showlegend\":false,\"x\":[0.7693293,11.923359,-0.19535753,-21.459093,6.8418226,-38.4252,-35.44112,-41.024403,-29.89803,-0.39783525,-35.17185,-35.009567,10.611064,5.898097,-2.9405584,-41.200523,-13.982333,-36.1305,9.836717,23.43468,33.19211,8.7258625,25.074787,20.558363,34.85928,2.627321,-28.457558,1.9939755,8.689821,-3.2715209,19.753117,6.7650495,24.827942,-33.423424,11.840075,30.222532,4.4630685,32.912895,34.78302,26.611015,-44.175518,-44.23802,-40.306545,21.973505,10.618741,-32.514374,-43.947952,19.67304,27.68206,25.596495,7.741961,11.71824,16.232004,0.16834725,-18.582655,-37.35661,21.057438,14.603743,-19.388922,9.021826,12.564733,25.293318,32.00279,-27.197538,11.336598,-30.03978,6.4791822,26.99631,-44.49979,25.837257,-29.151695,13.309122,-33.44573,-34.957928,-0.80040723,21.113218,6.3407145,18.195646,-31.985731,15.470478,30.0036,28.379198,8.814297,-24.80007,10.093033,13.79392,-19.884516,3.1762657,21.168005,3.3435504,-25.072697,23.446688,4.0249214,17.894526,-47.52703,36.137836,-22.68887,4.5759397,-26.108747,15.53102,-24.104479,-44.701042,-34.277428,-31.088486,-15.365979,17.73966,-36.176567,-48.938557,12.643159,24.930344,4.341956,-38.461426,-36.80947,27.856714,7.2912498,19.34783,-23.840008,24.84109,-32.544147,-35.16329,11.150192,35.28164,32.315044,32.6682,21.694603,-21.738672,1.4898114,23.970541,-30.67153,34.53617,-0.1994507,-5.037034,16.413158,-37.001713,5.228277,-18.008778,15.757075,-48.98734,11.034444,8.270522,7.840992,-38.957256,10.335641,13.738596,-30.04253,-42.752506,34.655853,-47.140347,21.290121,-32.839798,-17.058372,-45.546467,10.79009,8.352625,-35.907326,22.63301,25.027882,28.107485,23.500355,-37.915676,-35.600807,15.277606,-27.202156,32.390816,-36.64152,14.285132,12.764684,1.5475118,-32.63614,-43.419514,-22.606289,27.45402,12.816683,19.305424,6.05592,-33.855247,27.99857,-31.495777,31.651642,26.32935,-15.369534,29.754017,21.372217,33.23669,10.764816,26.450188,25.9169,18.530579,18.448805,-29.111519,27.519352,-24.26256,-33.59262,-3.1950395,1.6168535,17.360085,8.27788,-41.106544,27.551197,-25.292027,8.011919,11.910956,-42.255013,-37.767723,-33.046055,-43.338875,2.6938868,-30.871386,28.705688,-5.262377,6.34531,-25.8697,-18.681126,-42.302284,16.048534,-38.252304,6.698917,-16.013311,-40.62903,-39.971046,3.1450775,37.128258,8.433433,13.883763,-24.510103,22.467918,-44.944267,35.92239,13.032294,19.75968,29.531876,-29.508667,25.174397,-35.22329,11.3899975,-2.8852642,-26.884129,-44.92662,-40.388634,-25.222158,5.7120514,-4.9348288,7.9289017,24.370173,-25.546913,-25.142786,-38.18442,-43.58894,20.704052,26.248676,23.793903,20.678392,-29.341106,-26.899464,-23.674526,1.9449737,20.336023,34.426826,26.819567,-38.424686,14.94573,-22.391369,9.648047,-5.697706,35.115086,4.0932345,20.322086,28.487253,16.059824,-32.549736,-26.334341,-0.37529418,-34.73009,31.306017,14.085385,-38.099037,16.124971,36.22312,0.9976854,11.593502,-23.571535,5.8077984,-0.93514067,-30.888601,1.9376328,11.897161,18.756744,1.598155,-0.13563721,23.064634,19.654377,12.450166,30.13955,-31.765562,21.306984,-34.53807,6.505643,12.592143,-22.031136,34.191845,-41.777256,31.416365,10.368215,1.9903663,2.4385939,34.9215,18.660168,-35.5988,21.5467,4.9803333,28.70854,1.794473,18.146969,-24.86582,-17.19807,-30.69983,26.850029,-24.741095,1.1222211,-46.79226,12.10643,0.6970233,-31.036875,10.353025,-34.703373,-32.743423,0.0045372117,-36.142048,27.252108,-36.12013,-25.892591,8.503286,-25.582302,-46.056705,-35.480145,20.128798,-23.987503,-19.898722,11.997053,-46.91346,-17.95676,-35.72547,-35.082066,-30.749062,10.124303,-33.876064,-35.402878,17.813145,26.752304,2.4436471,-35.64744,10.873286,-40.425156,-31.18983,-39.94668,2.140067,-38.952778,16.08829,-36.252716,-42.61296,4.9311514,16.781328,-29.393654,37.463448,-31.249664,-36.2109,-33.42975,26.427479,-29.446608,-24.237682,23.874138,24.666405,-5.131383,-24.571972,-22.221981,2.7571397,5.041388,7.2408376,-47.561172,14.2818775,23.942036,11.84948,31.821917,-40.399666,18.749407,25.599218,16.989346,-41.36731,-45.246727,-30.143936,34.702694,-33.11484,-49.82238,-37.875744,-45.414562,20.934303,-48.500526,14.473659,-17.205404,18.724564,0.93310034,35.17263,-40.459843,2.8285193,2.0640666,-33.069607,1.740347,26.068419,19.038578,-24.994623,3.8392441,23.98544,5.49509,-0.28120658,23.176054,-31.20072,-39.21979,13.531894,4.499472,9.22874,0.81066227,-39.483257,34.897713,-32.306988,4.1921477,26.246214,-27.042997,-31.559874,-43.330353,20.60503,7.497857,-35.414677,-42.348602,5.8052917,-46.975792,-40.034813,9.442606,23.858103,-1.557648,27.983376,1.4653475,22.084875,-49.894073,18.485897,-39.009518,15.0087185,-40.53495,-23.124086,-33.147587,5.805533,14.904688,31.37135,7.84712,14.458613,-21.75427,-36.546356,-48.54998,-42.92633,-28.023067,22.217316,21.095175,2.2240872,0.5948371,-23.654024,6.150423,23.23154,0.47659224,5.831651,-35.564087,20.041412,-38.49511,12.470702,-44.76915,-45.518803,17.20928,-45.154552,14.658125,17.325436,23.649698,37.199863,-30.539001,-30.840336,-32.042038,-34.45814,-0.20287187,26.666527,27.038282,-45.658913,-38.861004,-3.4560819,-44.435745,12.558399,12.003811,27.359882,35.949684,20.364727,-42.377712,-36.58746,1.2287524,23.683468,9.200197,-18.816185,29.076328,19.624926,-21.487637,-36.26029,-30.487293,24.683035,26.852192,-44.014637,7.296869,16.24638,-34.683014,14.259709,-34.630104,-22.911356,8.712506,27.619326,-27.168995,-21.194357,-22.297771,-47.299416,4.3772717,-47.50567,7.1956463,30.438566,37.243782,17.857388,-25.40908,-35.435833,-1.7667091,11.145436,-45.205097,21.934267,10.320822,9.8536415,-43.067104,-43.03838,-34.08764,-29.786644,25.00925,27.648935,10.679559,-49.736385,-47.370045,-4.8483863,-47.783325,-40.216885,6.598848,5.062298,-38.598003,8.306394,7.269093,8.132051,36.14754,-22.222082,7.785966,-25.929281,30.119045,-29.906736,-20.712297,17.688791,22.603655,24.86391,-21.414253,9.893957,3.6874514,-42.06234,-44.24543,-25.93781,31.790154,36.0086,20.235462,37.336235,-22.613144,-20.579,22.720655,16.71711,8.298873,-44.946297,5.048598,-44.692238,-42.88077,15.103235,25.760672,19.882986,-0.7467217,32.548702,-26.375841,-33.059093,37.978,24.859518,21.608622,3.9451017,36.027565,4.1883345,35.01868,-35.32927,-0.36459908,-36.84937,26.674807,-6.518962,-35.62471,20.17041,-21.938309,10.0550165,12.029631,6.9485035,25.923674,19.072971,-1.1378866,20.144585,23.489506,2.4412365,-26.84616,22.69551,-33.680626,9.272152,-42.761795,5.945021,-42.18524,8.987363,-32.307354,-39.03002,33.703323,32.67598,0.87127143,-33.001396,22.294786,14.201774,31.255854,17.937496,19.427513,29.073292,25.82431,-33.42609,30.84479,-20.01362,23.582214,11.788264,36.905193,-30.423285,-37.31364,17.743721,-43.410397,-35.48501,-46.783054,23.585009,15.878654,9.268936,-29.9005,-43.177704,-38.2715,-32.599422,12.145577,-32.01649,9.039764,26.035986,-42.24449,18.7369,-41.29451,-43.600784,26.588495,-42.63166,-34.056908,14.463207,11.643813,27.144144,18.608797,5.17762,-35.714645,2.6448636,-31.26123,-42.346527,26.708092,21.775858,30.05801,23.961924,2.4224563,10.984073,20.050556,-44.378387,19.635275,21.231434,8.521132,22.21284,25.357548,-1.9553089,2.2663462,-28.223635,-23.699715,-20.796034,13.291302,25.041212,-40.383495,1.5104378,-34.969078,32.376114,-24.781372,-32.447365,-17.991997,-47.111477,-19.940666,-47.775288,6.489148,-29.671886,-30.180172,23.08536,12.770327,37.450943,3.5794456,18.528753,-38.22842,12.032161,19.685162,37.70837,-40.915504,4.3495827,15.179522,16.787893,29.530357,12.637134,4.5107765,33.03151,4.654957,-43.00899,10.316078,27.927757,-33.076855,24.138107,-29.51999,19.466454,-1.5992633,2.50004,-22.633463,32.961494,1.1995529,21.591358,0.346021,5.87083,21.011557,-23.994764,19.968874,10.326574,-35.59765,34.343052,-35.863678,33.250595,7.254058,-40.30766,15.295331,23.630486,13.294068,19.14692,-32.774227,1.4822812,1.6036795,1.8257527,21.281916,18.78394,11.797683,-34.045155,8.923178,11.090445,34.898388,13.582298,-2.445287,9.478466,24.926504,7.9337964,2.5803468,24.070162,27.840904,18.5459,-35.83026,-29.626173,34.69881,8.713456,12.611154,-35.16791,11.242423,-19.999336,5.529085,24.216597,-0.9589098,-1.408335,31.75837,31.786705,-36.142757,17.887749,1.0585239,7.06614,24.836569,27.283163,-30.064367,37.071274,4.901514,-36.364025,-47.98355,26.901438,-45.24694,14.549067,14.9457245,-36.25825,8.340219,19.338942,12.684953,10.004363,11.188559,3.8611355,29.72883,6.548136,5.1247864,-32.273502,4.08157,28.361181,26.052078,-32.085625,25.963984,16.617287,9.417736,24.600967,-38.087524,-38.332947,-30.263838,10.445544,-31.933458,26.487103,11.232848,-30.852482,-24.1114,-41.674896,18.763618,-39.456146,17.201715,16.921185,-34.558475,-48.509224,-42.364536,26.0226,10.368162,36.790035,21.068691,18.463415,-25.773418,21.652332,-20.797073,-37.973362,-32.569546,10.310246,-39.292694,11.81226,22.561352,-32.926155,26.309715,17.938454,-37.147964,36.41046,9.360374,6.4576945,-34.084606,21.166342,-18.618677,13.928806,-40.129604,-30.61186,28.119877,26.147732,36.303738,-25.180796,-34.309467,-45.77601,4.937599,8.391112,-17.764484,18.408852,25.916636,34.72827,24.059835,-24.4985,31.798092,-41.4194,-43.48456,33.658722,17.459892,37.080204,-33.92688,-42.240128,-18.783962,12.456614,16.397831,-29.33972,-35.76856,-38.21843,-31.06515,0.6645102,6.717611,18.615976,13.834109,-31.318304,-30.690245,-31.06365,37.537983,-30.699018,4.864473,-26.940853,6.311405,9.257361,5.4302325,12.317061,21.760265,-3.635507,10.369281,2.3887439,-17.385216,34.890656,14.65698,26.75562,9.846853,14.925556,21.229582,18.105364,14.998082,29.696024,34.25336,-45.47017,18.105925,25.809124,18.756865,22.548494,-37.492336,8.353008,-22.89324,-36.801857,-23.482933,-30.688452,-25.70431,-33.969257,32.704056,4.3987527,-0.63611066,-33.112934,16.559368,-13.551626,-1.2591345,-44.936077,16.256487,5.908509,1.8274404,-33.01939,-45.035908,-0.19941507,-31.488817,7.3604717,-32.54934,-22.574781,23.178019,-37.618217,20.113914,-22.721733,0.76564264,-29.665785,-1.7113577,-31.353392,-24.86604],\"xaxis\":\"x\",\"y\":[12.764773,8.762665,5.7351384,-13.961229,5.64205,28.892189,-25.823391,25.345722,-29.426691,-13.0867815,-29.746326,-30.65381,0.4452186,10.2751465,18.14685,25.610367,-4.0204234,28.346025,7.5933414,-2.890468,3.4248118,14.000819,-0.75619113,-11.562285,6.8424196,-13.907454,-15.014417,29.541393,29.401213,6.8497124,6.0990415,7.3098454,-3.6662939,-14.700207,17.320723,-0.5769353,7.9251637,-3.3280382,8.610603,-3.9715023,16.567425,17.85606,-26.710125,19.591213,15.04301,-11.664744,25.977255,-13.174895,10.959033,-11.6246805,0.18681735,-7.62506,16.533592,-15.44826,-20.227646,26.241194,12.8433485,15.748089,-16.923159,11.875045,-19.902359,-9.5507345,4.4584365,-13.802512,9.392921,-33.546925,14.623586,30.330414,-7.3174677,28.119493,-21.738329,-20.933357,30.754173,30.178518,14.054982,-4.6111903,25.64689,-5.623163,-10.222328,11.509341,15.9967785,1.9895513,9.54013,-16.48264,1.0121803,17.459475,-14.008951,6.901828,4.6943913,5.1396046,-23.591799,28.564157,8.302848,-16.111965,-13.027911,4.632934,-21.576996,23.303526,-22.452934,11.517416,-18.431995,-9.039247,-13.045007,-30.5346,-5.2800236,-11.521517,-19.459105,-8.965412,-5.2171326,4.5779877,13.240355,-11.781001,-19.379562,30.578354,10.005917,6.4337797,-22.599754,-3.8297794,-33.17495,-20.064953,-16.974646,6.382925,16.695395,12.487177,-2.9087214,-14.239657,16.974491,-1.9419938,-32.938007,11.818336,17.888523,2.0378413,-2.05255,29.415886,26.64504,-22.954195,15.3469305,-8.982885,13.983671,0.32999468,-12.55255,-15.66196,-12.782079,-2.435264,27.43139,19.445168,13.25184,-9.155344,-2.7025084,28.67877,-6.4247622,-3.064452,16.797398,15.34998,-12.136178,-14.588711,13.167849,-13.183704,-8.840312,23.438162,-16.659966,17.357206,-22.521492,13.466976,25.833302,19.149,4.2014565,8.901164,-33.16414,17.200598,-16.433956,28.593718,12.804763,-7.361562,10.15283,-18.498182,9.4254,-28.593548,10.896176,28.74769,-5.2785516,16.455595,20.331062,2.8686037,18.746033,-9.473633,-6.7491574,19.609333,-6.602449,-15.990026,-6.1052237,-16.499754,-24.809423,18.167852,-11.584607,21.770914,10.957305,-10.653885,16.384974,-12.970201,5.671251,0.8166073,-12.043422,25.015888,-28.651934,-8.486881,-10.358575,-12.959309,2.1675403,4.5399485,-4.836738,-17.393255,-15.445016,-12.892989,7.9557242,-11.078739,-3.022061,-4.69142,-10.640493,-11.538682,14.472089,4.74793,20.083162,8.55049,-25.759686,-8.153884,-9.407197,-2.7635465,21.456774,3.3813884,29.22529,-13.158892,13.086804,-21.265917,-13.2697115,0.9031327,-23.783287,-9.737193,-26.601843,-20.493462,23.842728,2.492143,-9.375609,13.618266,-15.41038,-17.123978,23.457712,17.94391,0.39431205,29.649773,4.5884495,17.72619,28.759708,-23.858778,-15.24604,17.402027,-0.789101,-1.6881057,-10.94363,26.298939,5.793856,-13.960436,14.108901,1.1557071,-3.1997087,-12.639716,6.898981,9.147405,23.438396,-12.906149,-9.456687,-15.187585,-32.395863,4.26482,9.764173,22.780174,10.082222,6.3165092,13.501985,-7.544188,-22.682577,28.668703,7.417862,-31.546906,7.603303,6.201539,-14.093806,18.081957,8.244706,-8.854284,-6.0083227,-19.517403,18.212475,-11.34616,-15.631812,-32.398872,-11.885533,3.2354136,-16.988213,-3.0953557,19.630615,3.379503,20.91086,29.546122,3.0617034,-5.034305,7.0826235,-32.316338,16.432238,22.670116,4.9970684,5.375865,-0.42936406,-17.663351,-6.5011034,30.335844,5.2608576,-18.879942,11.345389,-11.769878,15.344184,-15.077325,-16.888538,-17.273798,28.448927,-32.22668,-15.3801,-21.062698,-10.862398,-21.035551,-17.148897,23.555824,-14.588282,-11.487491,27.476213,-12.027391,-16.988558,-20.222496,-19.292765,-11.585758,-22.679419,26.668427,-9.418948,29.539778,12.553874,30.728943,-29.538715,-4.6928577,-5.407535,-11.57394,-29.362247,-7.8122983,-11.161316,-16.994516,-27.23136,11.519176,22.551264,12.05976,-31.988604,18.27187,4.030334,2.940792,27.91058,3.8062065,-11.071477,-19.425375,-30.49094,12.958973,-21.648249,-17.262348,1.5244886,-5.13182,1.4966003,-15.291326,-8.662263,11.102709,27.551455,14.695746,-8.254858,5.634862,-13.167278,15.355659,12.067753,25.546848,12.960602,0.5036618,-14.100831,26.011358,-8.198229,-21.635536,9.248604,-14.45373,-11.1924715,29.557264,-3.450399,18.120546,-12.622004,-2.214776,-6.504675,-16.526657,29.81252,5.8908334,26.763584,5.237637,-9.747574,29.972809,13.913053,27.783054,-2.7565868,-21.25774,-4.5259714,6.2035475,10.490352,-11.883772,10.312472,-30.807241,-13.210467,15.679305,28.206608,11.184672,-13.936655,-8.668988,-4.9344306,30.709978,10.390535,-6.9454584,-22.621449,-14.029931,18.359243,17.972555,0.13133645,29.372286,-12.023986,24.005539,-9.530037,-8.769451,3.2197561,13.807348,11.35838,27.933384,13.6842375,20.489182,-11.05317,-7.0765705,23.161448,16.238815,-8.517661,-17.161028,31.091604,-12.345686,10.116728,4.586178,16.993305,14.849935,-23.34077,29.149408,-12.457516,17.652243,-24.73141,-6.772168,0.6935344,3.4023821,-15.908812,-24.953857,15.608935,-11.363269,-9.952422,-11.4754,-17.404753,-12.190536,22.657759,14.41344,16.688768,-3.6859906,-13.98876,-7.157801,19.71393,-3.0976357,-1.5012031,5.743397,-15.461091,30.857115,-10.182106,-31.374638,12.405116,5.757575,31.83222,-2.9311664,28.129684,5.241599,26.15962,3.2689426,17.059902,-9.379933,3.1346302,4.1309986,18.71272,26.819365,12.294202,28.487896,-16.777067,-15.989851,28.129002,-4.682222,-16.80499,-31.97344,-18.213034,29.128998,4.0258956,17.126284,12.366384,14.764765,-26.452236,18.387428,-30.78803,-12.972299,5.40695,-2.1893225,-24.358185,-19.588558,-14.156449,-7.2833414,10.495385,-9.139898,17.99507,15.260443,-0.37603888,8.000122,-18.523596,-21.057644,0.27549952,9.427044,-8.427426,-13.459426,-16.701096,-12.486477,19.077599,25.227373,-21.656029,-33.150352,27.39495,-10.934038,0.59446365,-11.29707,-7.437902,2.456568,-10.103631,-26.83146,12.387586,7.4097004,23.300705,16.693584,-9.888142,25.076801,3.0328605,-8.649446,-9.539215,-19.832832,-0.34764758,-29.061422,-19.762758,-8.311952,13.224407,4.3833904,-17.945759,9.060742,23.496168,19.072704,18.467295,-19.386599,5.8013725,-1.7658288,5.431629,3.761259,-21.390556,-16.750305,-7.9666705,17.344044,20.050783,-10.131541,-12.339061,17.34335,-9.703695,-3.2710736,-11.220805,19.416502,-15.282967,11.766047,-9.456009,-19.674253,-4.775411,31.09193,-13.403058,-4.6015563,4.9674134,13.306711,-3.9638908,-9.883879,17.990217,23.33417,-5.489006,5.352114,-24.38501,-13.386021,-15.629218,18.40743,5.773455,-4.7515926,12.979232,-1.4971966,-13.45813,-0.9360034,14.97384,-11.334563,-19.091146,-4.4210935,-13.911847,10.856353,25.69549,-11.445707,-8.791746,17.1842,-15.175744,-15.75089,12.455626,16.094713,7.175533,-28.793571,-10.068147,11.600297,-1.6061554,10.989665,2.61148,27.916662,0.65517884,-19.461592,4.6071763,-11.772899,29.671724,-17.30761,-1.6155313,-18.16536,29.208263,-3.6082656,25.871552,23.823286,-9.93564,-7.0761523,-1.2834507,10.744066,28.17682,-8.936941,-12.896869,-12.903355,-17.707567,31.57782,17.776678,10.771041,-12.4029255,13.238633,25.394636,18.94728,27.328066,-10.7235365,-15.847188,-1.8387022,-19.40364,-1.6565245,5.015204,21.702238,26.642664,11.149855,-31.837307,25.444073,-0.68731326,-10.053945,18.280529,-6.5603185,-9.874898,10.224281,-11.403846,26.144775,-14.842635,3.4638271,20.800737,-10.294361,29.89636,0.20486853,-12.009347,-24.847916,-19.357805,-19.315449,4.616075,1.1629249,26.753767,5.400428,29.40387,13.110718,-19.566391,-16.431643,-22.949638,-12.951277,-16.70015,-7.9245353,-12.060963,-18.053555,27.285337,-11.816619,-17.775866,3.748585,2.0754268,-0.9656133,-16.208677,4.956691,-4.9891744,-4.000373,-10.82524,14.2577095,16.180683,-0.48650986,28.840782,12.931195,14.738884,2.9195836,23.044603,-9.413484,-7.702104,-11.721604,-9.32452,0.03939922,-28.442408,-2.9623885,0.26066872,-8.811092,-17.7346,10.754725,6.8416867,-15.299362,8.253683,-5.17023,14.351744,-19.172365,-15.3328085,16.424648,28.843098,10.676996,-25.428555,10.540669,23.540867,-8.556094,-8.799259,-11.584067,-18.247402,-2.8625207,-18.511982,-11.986296,-12.033599,-11.229509,-15.5914,-4.7742777,-13.431762,-11.626753,12.408224,11.178255,-1.8353273,14.547644,18.100964,3.9331222,-1.4955566,9.518171,7.1820703,-13.245037,-5.0684266,-7.335186,-32.46601,-32.017822,-1.1837252,-8.770384,-18.451363,-24.660566,-16.971582,-11.778323,10.058538,-5.771551,12.361243,17.967154,12.170582,15.074529,-30.128061,-5.9095197,-13.996309,12.983744,-0.7540426,-10.858789,27.670046,2.070363,28.161922,29.771822,-6.6511188,30.96406,17.164846,-19.851887,12.020582,-29.895605,5.9888754,-7.7351604,-5.111794,9.756917,-8.023497,8.39605,17.351181,17.011591,13.864124,30.27261,8.266791,-11.220379,-8.682689,-16.491743,29.317842,22.775719,23.093117,-9.101863,-13.070077,-15.51208,-29.119478,11.388322,-31.179998,30.73462,-8.146482,-33.131382,-20.912281,20.023169,-6.7882614,27.783623,11.296252,16.413424,-26.153097,-13.284085,-10.369646,-13.569471,-12.811658,-2.7418857,-1.086404,14.349387,-22.459608,-7.681844,-15.601999,28.350777,-32.154034,-17.209562,22.737013,20.072138,-10.519861,-32.045696,28.708773,21.73126,27.499744,2.807914,2.441485,29.011187,29.349434,-11.743767,-18.945026,19.182907,-26.950747,-15.333806,4.8779254,-7.654618,-1.9244753,-14.640515,-25.46024,-3.309798,12.223995,15.402032,-16.005402,-2.291463,-5.2882643,7.0544953,-3.9562678,-25.700089,5.5178905,-9.251678,-7.978539,-3.4486356,16.118284,4.6355157,-18.804989,19.803661,-16.859142,10.937005,9.133388,28.459795,-29.721205,-12.922904,-20.137491,-10.784354,14.953351,-13.977104,13.536002,29.921148,-30.840801,31.294373,-3.4927075,-30.845432,18.192554,-15.184491,-3.875137,16.65269,25.814497,11.485142,-6.076219,6.5908575,15.854443,8.686816,-18.421549,-2.530439,-19.863352,-0.8571958,14.905543,-8.489377,-8.141357,16.551828,10.099516,13.656661,-2.4065962,-3.9949486,-16.209991,30.545353,-11.658584,-4.3228,23.188427,-12.681036,-13.174977,-19.422142,-16.03075,-21.657656,-17.746761,30.00444,16.092474,27.76667,17.93885,27.969208,12.478407,-3.6911254,14.534849,17.940037,-1.1606781,25.80317,29.583538,28.58145,-10.378478,-15.811063,29.625177,-5.116079,31.461813,-23.199457,10.264123,28.29279,-14.427415,-10.260159,-11.637364,-16.083357,1.789064,29.049196,-15.832959],\"yaxis\":\"y\",\"type\":\"scatter\"}],                        {\"template\":{\"data\":{\"histogram2dcontour\":[{\"type\":\"histogram2dcontour\",\"colorbar\":{\"outlinewidth\":0,\"ticks\":\"\"},\"colorscale\":[[0.0,\"#0d0887\"],[0.1111111111111111,\"#46039f\"],[0.2222222222222222,\"#7201a8\"],[0.3333333333333333,\"#9c179e\"],[0.4444444444444444,\"#bd3786\"],[0.5555555555555556,\"#d8576b\"],[0.6666666666666666,\"#ed7953\"],[0.7777777777777778,\"#fb9f3a\"],[0.8888888888888888,\"#fdca26\"],[1.0,\"#f0f921\"]]}],\"choropleth\":[{\"type\":\"choropleth\",\"colorbar\":{\"outlinewidth\":0,\"ticks\":\"\"}}],\"histogram2d\":[{\"type\":\"histogram2d\",\"colorbar\":{\"outlinewidth\":0,\"ticks\":\"\"},\"colorscale\":[[0.0,\"#0d0887\"],[0.1111111111111111,\"#46039f\"],[0.2222222222222222,\"#7201a8\"],[0.3333333333333333,\"#9c179e\"],[0.4444444444444444,\"#bd3786\"],[0.5555555555555556,\"#d8576b\"],[0.6666666666666666,\"#ed7953\"],[0.7777777777777778,\"#fb9f3a\"],[0.8888888888888888,\"#fdca26\"],[1.0,\"#f0f921\"]]}],\"heatmap\":[{\"type\":\"heatmap\",\"colorbar\":{\"outlinewidth\":0,\"ticks\":\"\"},\"colorscale\":[[0.0,\"#0d0887\"],[0.1111111111111111,\"#46039f\"],[0.2222222222222222,\"#7201a8\"],[0.3333333333333333,\"#9c179e\"],[0.4444444444444444,\"#bd3786\"],[0.5555555555555556,\"#d8576b\"],[0.6666666666666666,\"#ed7953\"],[0.7777777777777778,\"#fb9f3a\"],[0.8888888888888888,\"#fdca26\"],[1.0,\"#f0f921\"]]}],\"heatmapgl\":[{\"type\":\"heatmapgl\",\"colorbar\":{\"outlinewidth\":0,\"ticks\":\"\"},\"colorscale\":[[0.0,\"#0d0887\"],[0.1111111111111111,\"#46039f\"],[0.2222222222222222,\"#7201a8\"],[0.3333333333333333,\"#9c179e\"],[0.4444444444444444,\"#bd3786\"],[0.5555555555555556,\"#d8576b\"],[0.6666666666666666,\"#ed7953\"],[0.7777777777777778,\"#fb9f3a\"],[0.8888888888888888,\"#fdca26\"],[1.0,\"#f0f921\"]]}],\"contourcarpet\":[{\"type\":\"contourcarpet\",\"colorbar\":{\"outlinewidth\":0,\"ticks\":\"\"}}],\"contour\":[{\"type\":\"contour\",\"colorbar\":{\"outlinewidth\":0,\"ticks\":\"\"},\"colorscale\":[[0.0,\"#0d0887\"],[0.1111111111111111,\"#46039f\"],[0.2222222222222222,\"#7201a8\"],[0.3333333333333333,\"#9c179e\"],[0.4444444444444444,\"#bd3786\"],[0.5555555555555556,\"#d8576b\"],[0.6666666666666666,\"#ed7953\"],[0.7777777777777778,\"#fb9f3a\"],[0.8888888888888888,\"#fdca26\"],[1.0,\"#f0f921\"]]}],\"surface\":[{\"type\":\"surface\",\"colorbar\":{\"outlinewidth\":0,\"ticks\":\"\"},\"colorscale\":[[0.0,\"#0d0887\"],[0.1111111111111111,\"#46039f\"],[0.2222222222222222,\"#7201a8\"],[0.3333333333333333,\"#9c179e\"],[0.4444444444444444,\"#bd3786\"],[0.5555555555555556,\"#d8576b\"],[0.6666666666666666,\"#ed7953\"],[0.7777777777777778,\"#fb9f3a\"],[0.8888888888888888,\"#fdca26\"],[1.0,\"#f0f921\"]]}],\"mesh3d\":[{\"type\":\"mesh3d\",\"colorbar\":{\"outlinewidth\":0,\"ticks\":\"\"}}],\"scatter\":[{\"fillpattern\":{\"fillmode\":\"overlay\",\"size\":10,\"solidity\":0.2},\"type\":\"scatter\"}],\"parcoords\":[{\"type\":\"parcoords\",\"line\":{\"colorbar\":{\"outlinewidth\":0,\"ticks\":\"\"}}}],\"scatterpolargl\":[{\"type\":\"scatterpolargl\",\"marker\":{\"colorbar\":{\"outlinewidth\":0,\"ticks\":\"\"}}}],\"bar\":[{\"error_x\":{\"color\":\"#2a3f5f\"},\"error_y\":{\"color\":\"#2a3f5f\"},\"marker\":{\"line\":{\"color\":\"#E5ECF6\",\"width\":0.5},\"pattern\":{\"fillmode\":\"overlay\",\"size\":10,\"solidity\":0.2}},\"type\":\"bar\"}],\"scattergeo\":[{\"type\":\"scattergeo\",\"marker\":{\"colorbar\":{\"outlinewidth\":0,\"ticks\":\"\"}}}],\"scatterpolar\":[{\"type\":\"scatterpolar\",\"marker\":{\"colorbar\":{\"outlinewidth\":0,\"ticks\":\"\"}}}],\"histogram\":[{\"marker\":{\"pattern\":{\"fillmode\":\"overlay\",\"size\":10,\"solidity\":0.2}},\"type\":\"histogram\"}],\"scattergl\":[{\"type\":\"scattergl\",\"marker\":{\"colorbar\":{\"outlinewidth\":0,\"ticks\":\"\"}}}],\"scatter3d\":[{\"type\":\"scatter3d\",\"line\":{\"colorbar\":{\"outlinewidth\":0,\"ticks\":\"\"}},\"marker\":{\"colorbar\":{\"outlinewidth\":0,\"ticks\":\"\"}}}],\"scattermapbox\":[{\"type\":\"scattermapbox\",\"marker\":{\"colorbar\":{\"outlinewidth\":0,\"ticks\":\"\"}}}],\"scatterternary\":[{\"type\":\"scatterternary\",\"marker\":{\"colorbar\":{\"outlinewidth\":0,\"ticks\":\"\"}}}],\"scattercarpet\":[{\"type\":\"scattercarpet\",\"marker\":{\"colorbar\":{\"outlinewidth\":0,\"ticks\":\"\"}}}],\"carpet\":[{\"aaxis\":{\"endlinecolor\":\"#2a3f5f\",\"gridcolor\":\"white\",\"linecolor\":\"white\",\"minorgridcolor\":\"white\",\"startlinecolor\":\"#2a3f5f\"},\"baxis\":{\"endlinecolor\":\"#2a3f5f\",\"gridcolor\":\"white\",\"linecolor\":\"white\",\"minorgridcolor\":\"white\",\"startlinecolor\":\"#2a3f5f\"},\"type\":\"carpet\"}],\"table\":[{\"cells\":{\"fill\":{\"color\":\"#EBF0F8\"},\"line\":{\"color\":\"white\"}},\"header\":{\"fill\":{\"color\":\"#C8D4E3\"},\"line\":{\"color\":\"white\"}},\"type\":\"table\"}],\"barpolar\":[{\"marker\":{\"line\":{\"color\":\"#E5ECF6\",\"width\":0.5},\"pattern\":{\"fillmode\":\"overlay\",\"size\":10,\"solidity\":0.2}},\"type\":\"barpolar\"}],\"pie\":[{\"automargin\":true,\"type\":\"pie\"}]},\"layout\":{\"autotypenumbers\":\"strict\",\"colorway\":[\"#636efa\",\"#EF553B\",\"#00cc96\",\"#ab63fa\",\"#FFA15A\",\"#19d3f3\",\"#FF6692\",\"#B6E880\",\"#FF97FF\",\"#FECB52\"],\"font\":{\"color\":\"#2a3f5f\"},\"hovermode\":\"closest\",\"hoverlabel\":{\"align\":\"left\"},\"paper_bgcolor\":\"white\",\"plot_bgcolor\":\"#E5ECF6\",\"polar\":{\"bgcolor\":\"#E5ECF6\",\"angularaxis\":{\"gridcolor\":\"white\",\"linecolor\":\"white\",\"ticks\":\"\"},\"radialaxis\":{\"gridcolor\":\"white\",\"linecolor\":\"white\",\"ticks\":\"\"}},\"ternary\":{\"bgcolor\":\"#E5ECF6\",\"aaxis\":{\"gridcolor\":\"white\",\"linecolor\":\"white\",\"ticks\":\"\"},\"baxis\":{\"gridcolor\":\"white\",\"linecolor\":\"white\",\"ticks\":\"\"},\"caxis\":{\"gridcolor\":\"white\",\"linecolor\":\"white\",\"ticks\":\"\"}},\"coloraxis\":{\"colorbar\":{\"outlinewidth\":0,\"ticks\":\"\"}},\"colorscale\":{\"sequential\":[[0.0,\"#0d0887\"],[0.1111111111111111,\"#46039f\"],[0.2222222222222222,\"#7201a8\"],[0.3333333333333333,\"#9c179e\"],[0.4444444444444444,\"#bd3786\"],[0.5555555555555556,\"#d8576b\"],[0.6666666666666666,\"#ed7953\"],[0.7777777777777778,\"#fb9f3a\"],[0.8888888888888888,\"#fdca26\"],[1.0,\"#f0f921\"]],\"sequentialminus\":[[0.0,\"#0d0887\"],[0.1111111111111111,\"#46039f\"],[0.2222222222222222,\"#7201a8\"],[0.3333333333333333,\"#9c179e\"],[0.4444444444444444,\"#bd3786\"],[0.5555555555555556,\"#d8576b\"],[0.6666666666666666,\"#ed7953\"],[0.7777777777777778,\"#fb9f3a\"],[0.8888888888888888,\"#fdca26\"],[1.0,\"#f0f921\"]],\"diverging\":[[0,\"#8e0152\"],[0.1,\"#c51b7d\"],[0.2,\"#de77ae\"],[0.3,\"#f1b6da\"],[0.4,\"#fde0ef\"],[0.5,\"#f7f7f7\"],[0.6,\"#e6f5d0\"],[0.7,\"#b8e186\"],[0.8,\"#7fbc41\"],[0.9,\"#4d9221\"],[1,\"#276419\"]]},\"xaxis\":{\"gridcolor\":\"white\",\"linecolor\":\"white\",\"ticks\":\"\",\"title\":{\"standoff\":15},\"zerolinecolor\":\"white\",\"automargin\":true,\"zerolinewidth\":2},\"yaxis\":{\"gridcolor\":\"white\",\"linecolor\":\"white\",\"ticks\":\"\",\"title\":{\"standoff\":15},\"zerolinecolor\":\"white\",\"automargin\":true,\"zerolinewidth\":2},\"scene\":{\"xaxis\":{\"backgroundcolor\":\"#E5ECF6\",\"gridcolor\":\"white\",\"linecolor\":\"white\",\"showbackground\":true,\"ticks\":\"\",\"zerolinecolor\":\"white\",\"gridwidth\":2},\"yaxis\":{\"backgroundcolor\":\"#E5ECF6\",\"gridcolor\":\"white\",\"linecolor\":\"white\",\"showbackground\":true,\"ticks\":\"\",\"zerolinecolor\":\"white\",\"gridwidth\":2},\"zaxis\":{\"backgroundcolor\":\"#E5ECF6\",\"gridcolor\":\"white\",\"linecolor\":\"white\",\"showbackground\":true,\"ticks\":\"\",\"zerolinecolor\":\"white\",\"gridwidth\":2}},\"shapedefaults\":{\"line\":{\"color\":\"#2a3f5f\"}},\"annotationdefaults\":{\"arrowcolor\":\"#2a3f5f\",\"arrowhead\":0,\"arrowwidth\":1},\"geo\":{\"bgcolor\":\"white\",\"landcolor\":\"#E5ECF6\",\"subunitcolor\":\"white\",\"showland\":true,\"showlakes\":true,\"lakecolor\":\"white\"},\"title\":{\"x\":0.05},\"mapbox\":{\"style\":\"light\"}}},\"xaxis\":{\"anchor\":\"y\",\"domain\":[0.0,1.0],\"title\":{\"text\":\"x\"}},\"yaxis\":{\"anchor\":\"x\",\"domain\":[0.0,1.0],\"title\":{\"text\":\"y\"}},\"coloraxis\":{\"colorbar\":{\"title\":{\"text\":\"color\"}},\"colorscale\":[[0.0,\"#0d0887\"],[0.1111111111111111,\"#46039f\"],[0.2222222222222222,\"#7201a8\"],[0.3333333333333333,\"#9c179e\"],[0.4444444444444444,\"#bd3786\"],[0.5555555555555556,\"#d8576b\"],[0.6666666666666666,\"#ed7953\"],[0.7777777777777778,\"#fb9f3a\"],[0.8888888888888888,\"#fdca26\"],[1.0,\"#f0f921\"]]},\"legend\":{\"tracegroupgap\":0},\"margin\":{\"t\":60}},                        {\"responsive\": true}                    ).then(function(){\n",
              "                            \n",
              "var gd = document.getElementById('f9d4e54f-876b-476f-bcf7-225e156d8742');\n",
              "var x = new MutationObserver(function (mutations, observer) {{\n",
              "        var display = window.getComputedStyle(gd).display;\n",
              "        if (!display || display === 'none') {{\n",
              "            console.log([gd, 'removed!']);\n",
              "            Plotly.purge(gd);\n",
              "            observer.disconnect();\n",
              "        }}\n",
              "}});\n",
              "\n",
              "// Listen for the removal of the full notebook cells\n",
              "var notebookContainer = gd.closest('#notebook-container');\n",
              "if (notebookContainer) {{\n",
              "    x.observe(notebookContainer, {childList: true});\n",
              "}}\n",
              "\n",
              "// Listen for the clearing of the current output cell\n",
              "var outputEl = gd.closest('.output');\n",
              "if (outputEl) {{\n",
              "    x.observe(outputEl, {childList: true});\n",
              "}}\n",
              "\n",
              "                        })                };                            </script>        </div>\n",
              "</body>\n",
              "</html>"
            ]
          },
          "metadata": {}
        }
      ],
      "source": [
        "fig=px.scatter(x=X_reduced_tsne[:,0], y=X_reduced_tsne[:,1], color=y)\n",
        "fig.show()"
      ]
    },
    {
      "cell_type": "markdown",
      "id": "041e973c",
      "metadata": {
        "id": "041e973c"
      },
      "source": [
        "Although the subsample is pretty small, the t-SNE algorithm is able to detect clusters pretty accurately"
      ]
    },
    {
      "cell_type": "markdown",
      "source": [
        "Reference- https://www.geeksforgeeks.org/machine-learning/difference-between-pca-vs-t-sne/\n",
        "\n",
        "Note-ChatGPT was used to help understand the results using WebSearch Feature."
      ],
      "metadata": {
        "id": "hZu9iYsrxwez"
      },
      "id": "hZu9iYsrxwez"
    },
    {
      "cell_type": "markdown",
      "id": "85bb3774",
      "metadata": {
        "id": "85bb3774"
      },
      "source": [
        "## Scaling"
      ]
    },
    {
      "cell_type": "code",
      "execution_count": null,
      "id": "7ab1142e",
      "metadata": {
        "colab": {
          "base_uri": "https://localhost:8080/"
        },
        "id": "7ab1142e",
        "outputId": "ef6a9114-bcd9-4558-f3e7-2fd459b06bf3"
      },
      "outputs": [
        {
          "output_type": "stream",
          "name": "stdout",
          "text": [
            "(275663, 29) (275663,)\n"
          ]
        }
      ],
      "source": [
        "scaler = StandardScaler()\n",
        "X = scaler.fit_transform(df.drop('Class', axis=1))\n",
        "y = df['Class'].values\n",
        "print(X.shape, y.shape)"
      ]
    },
    {
      "cell_type": "markdown",
      "id": "22e31517",
      "metadata": {
        "id": "22e31517"
      },
      "source": [
        "## Splitting the data"
      ]
    },
    {
      "cell_type": "markdown",
      "id": "6fa74b00",
      "metadata": {
        "id": "6fa74b00"
      },
      "source": [
        "we want to test our models on the original testing set not on the testing set created from GAN. The main goal is to fit the model in the generated data, and test it on the original testing set."
      ]
    },
    {
      "cell_type": "code",
      "execution_count": null,
      "id": "f8303d35",
      "metadata": {
        "id": "f8303d35"
      },
      "outputs": [],
      "source": [
        "X_train, X_test, y_train, y_test = train_test_split(X, y, test_size=0.2, random_state=42, stratify=y)"
      ]
    },
    {
      "cell_type": "markdown",
      "id": "e1beefe0",
      "metadata": {
        "id": "e1beefe0"
      },
      "source": [
        "## Testing baseline model with original data"
      ]
    },
    {
      "cell_type": "markdown",
      "id": "lpgBi5NjBMt0",
      "metadata": {
        "id": "lpgBi5NjBMt0"
      },
      "source": [
        "#Training GAN"
      ]
    },
    {
      "cell_type": "markdown",
      "id": "C8Ie3u_SBS3X",
      "metadata": {
        "id": "C8Ie3u_SBS3X"
      },
      "source": [
        "#Generating new samples"
      ]
    },
    {
      "cell_type": "code",
      "metadata": {
        "colab": {
          "base_uri": "https://localhost:8080/"
        },
        "id": "MwKKq8Pgn_ZD",
        "outputId": "b5d3ca7c-54b6-4b4d-c55e-3084e6dcfba7"
      },
      "source": [
        "import tensorflow as tf\n",
        "from tensorflow.keras import layers, models, losses, optimizers\n",
        "import numpy as np\n",
        "\n",
        "# ------------------------------------------------------------\n",
        "# Custom VAE Model\n",
        "# ------------------------------------------------------------\n",
        "class VAE(tf.keras.Model):\n",
        "    def __init__(self, encoder, decoder, input_dim, **kwargs):\n",
        "        super().__init__(**kwargs)\n",
        "        self.encoder = encoder\n",
        "        self.decoder = decoder\n",
        "        self.input_dim = input_dim\n",
        "        self.total_loss_tracker = tf.keras.metrics.Mean(name=\"loss\")\n",
        "        self.reconstruction_loss_tracker = tf.keras.metrics.Mean(\n",
        "            name=\"reconstruction_loss\"\n",
        "        )\n",
        "        self.kl_loss_tracker = tf.keras.metrics.Mean(name=\"kl_loss\")\n",
        "\n",
        "    @property\n",
        "    def metrics(self):\n",
        "        return [\n",
        "            self.total_loss_tracker,\n",
        "            self.reconstruction_loss_tracker,\n",
        "            self.kl_loss_tracker,\n",
        "        ]\n",
        "\n",
        "    def call(self, inputs):\n",
        "        z_mean, z_log_var, z = self.encoder(inputs)\n",
        "        reconstruction = self.decoder(z)\n",
        "        return reconstruction\n",
        "\n",
        "    def train_step(self, data):\n",
        "        x = data\n",
        "\n",
        "        with tf.GradientTape() as tape:\n",
        "            z_mean, z_log_var, z = self.encoder(x)\n",
        "            reconstruction = self.decoder(z)\n",
        "            reconstruction_loss = tf.reduce_mean(\n",
        "                losses.mse(x, reconstruction) * self.input_dim\n",
        "            )\n",
        "            kl_loss = -0.5 * tf.reduce_mean(\n",
        "                1 + z_log_var - tf.square(z_mean) - tf.exp(z_log_var)\n",
        "            )\n",
        "            total_vae_loss = reconstruction_loss + kl_loss\n",
        "\n",
        "        grads = tape.gradient(total_vae_loss, self.trainable_variables)\n",
        "        self.optimizer.apply_gradients(zip(grads, self.trainable_variables))\n",
        "\n",
        "        self.total_loss_tracker.update_state(total_vae_loss)\n",
        "        self.reconstruction_loss_tracker.update_state(reconstruction_loss)\n",
        "        self.kl_loss_tracker.update_state(kl_loss)\n",
        "\n",
        "        return {\n",
        "            \"loss\": self.total_loss_tracker.result(),\n",
        "            \"reconstruction_loss\": self.reconstruction_loss_tracker.result(),\n",
        "            \"kl_loss\": self.kl_loss_tracker.result(),\n",
        "        }\n",
        "\n",
        "# ------------------------------------------------------------\n",
        "# VAE implementation:\n",
        "# ------------------------------------------------------------\n",
        "latent_dim = 16\n",
        "input_dim = X_train.shape[1]\n",
        "\n",
        "\n",
        "encoder_inputs = layers.Input(shape=(input_dim,))\n",
        "x = layers.Dense(64, activation='relu')(encoder_inputs)\n",
        "x = layers.Dense(32, activation='relu')(x)\n",
        "z_mean = layers.Dense(latent_dim, name='z_mean')(x)\n",
        "z_log_var = layers.Dense(latent_dim, name='z_log_var')(x)\n",
        "\n",
        "\n",
        "def sampling(args):\n",
        "    z_mean, z_log_var = args\n",
        "    eps = tf.random.normal(shape=(tf.shape(z_mean)[0], latent_dim))\n",
        "    return z_mean + tf.exp(0.5 * z_log_var) * eps\n",
        "\n",
        "z = layers.Lambda(sampling, name='z')([z_mean, z_log_var])\n",
        "\n",
        "encoder = models.Model(encoder_inputs, [z_mean, z_log_var, z], name='encoder')\n",
        "\n",
        "decoder_inputs = layers.Input(shape=(latent_dim,))\n",
        "d = layers.Dense(32, activation='relu')(decoder_inputs)\n",
        "d = layers.Dense(64, activation='relu')(d)\n",
        "decoder_outputs = layers.Dense(input_dim, activation='linear')(d)\n",
        "decoder = models.Model(decoder_inputs, decoder_outputs, name='decoder')\n",
        "\n",
        "# VAE model\n",
        "vae = VAE(encoder, decoder, input_dim)\n",
        "\n",
        "\n",
        "vae.compile(optimizer=optimizers.Adam(1e-3), loss='mse', metrics=[\n",
        "    vae.total_loss_tracker,\n",
        "    vae.reconstruction_loss_tracker,\n",
        "    vae.kl_loss_tracker,\n",
        "])\n",
        "\n",
        "\n",
        "fraud_samples = X_train[y_train == 1]\n",
        "\n",
        "print(\"Training VAE...\")\n",
        "\n",
        "vae.fit(fraud_samples, epochs=50, batch_size=256, verbose=0)\n",
        "print(\"VAE Training complete.\")\n",
        "\n",
        "def vae_generate(n_samples):\n",
        "    z_rand = np.random.normal(size=(n_samples, latent_dim))\n",
        "    return decoder.predict(z_rand)\n",
        "\n",
        "# ------------------------------------------------------------\n",
        "# 2. VAE‑GAN implementation (simplified):\n",
        "# ------------------------------------------------------------\n",
        "# Encoder and decoder as above\n",
        "# Discriminator for VAE‑GAN\n",
        "def build_vae_gan_discriminator(input_dim):\n",
        "    d_in = layers.Input(shape=(input_dim,))\n",
        "    x = layers.Dense(128, activation='relu')(d_in)\n",
        "    x = layers.Dense(64, activation='relu')(x)\n",
        "    d_out = layers.Dense(1, activation='sigmoid')(x)\n",
        "    return models.Model(d_in, d_out, name='vae_gan_discriminator')\n",
        "\n",
        "discriminator = build_vae_gan_discriminator(input_dim)\n",
        "discriminator.compile(optimizer=optimizers.Adam(1e-4),\n",
        "                      loss='binary_crossentropy')\n",
        "\n",
        "\n",
        "\n",
        "# Adversarial loop - Corrected VAE-GAN training\n",
        "batch_size = 256\n",
        "epochs_vae_gan = 50\n",
        "print(\"Training VAE-GAN...\")\n",
        "for epoch in range(epochs_vae_gan):\n",
        "    # ---------------------\n",
        "    # Train Discriminator\n",
        "    # ---------------------\n",
        "    # Sample real fraud data\n",
        "    idx = np.random.randint(0, fraud_samples.shape[0], batch_size)\n",
        "    real_samples = fraud_samples[idx]\n",
        "\n",
        "    # Generate fake samples from VAE (using the current decoder)\n",
        "    noise = np.random.normal(size=(batch_size, latent_dim))\n",
        "    fake_samples = decoder(noise, training=False)\n",
        "\n",
        "    # Train discriminator on real and fake samples\n",
        "    d_loss_real = discriminator.train_on_batch(real_samples, np.ones((batch_size, 1)))\n",
        "    d_loss_fake = discriminator.train_on_batch(fake_samples, np.zeros((batch_size, 1)))\n",
        "    d_loss = 0.5 * np.add(d_loss_real, d_loss_fake)\n",
        "\n",
        "    # ---------------------\n",
        "    # Train Generator (Decoder)\n",
        "    # ---------------------\n",
        "    # Generate fake samples to train the generator\n",
        "    noise = np.random.normal(size=(batch_size, latent_dim))\n",
        "    valid_y = np.ones((batch_size, 1)) # Generator aims to fool the discriminator\n",
        "\n",
        "    # Train the decoder (generator) using the discriminator's feedback\n",
        "    with tf.GradientTape() as tape:\n",
        "        gen_samples = decoder(noise, training=True)\n",
        "        validity = discriminator(gen_samples, training=False) # Discriminator is not trained here\n",
        "        g_loss = losses.binary_crossentropy(tf.ones_like(validity), validity)\n",
        "\n",
        "    grads = tape.gradient(g_loss, decoder.trainable_variables)\n",
        "    optimizers.Adam(1e-4).apply_gradients(zip(grads, decoder.trainable_variables))\n",
        "\n",
        "    # Print the progress\n",
        "    if (epoch + 1) % 10 == 0:\n",
        "        print(f\"Epoch {epoch+1}/{epochs_vae_gan} [D loss: {d_loss:.4f}] [G loss: {tf.reduce_mean(g_loss):.4f}]\")\n",
        "\n",
        "print(\"VAE-GAN Training complete.\")\n",
        "\n",
        "\n",
        "# After training, use the VAE‑GAN decoder to generate synthetic fraud samples\n",
        "vae_gan_samples = vae_generate(250000)\n",
        "print(f\"Generated {len(vae_gan_samples)} synthetic fraud samples.\")"
      ],
      "id": "MwKKq8Pgn_ZD",
      "execution_count": null,
      "outputs": [
        {
          "output_type": "stream",
          "name": "stdout",
          "text": [
            "Training VAE...\n"
          ]
        },
        {
          "output_type": "stream",
          "name": "stderr",
          "text": [
            "/usr/local/lib/python3.12/dist-packages/tensorflow/python/data/ops/structured_function.py:258: UserWarning:\n",
            "\n",
            "Even though the `tf.config.experimental_run_functions_eagerly` option is set, this option does not apply to tf.data functions. To force eager execution of tf.data functions, please use `tf.data.experimental.enable_debug_mode()`.\n",
            "\n"
          ]
        },
        {
          "output_type": "stream",
          "name": "stdout",
          "text": [
            "VAE Training complete.\n",
            "Training VAE-GAN...\n",
            "Epoch 10/50 [D loss: 0.6668] [G loss: 0.6048]\n",
            "Epoch 20/50 [D loss: 0.6301] [G loss: 0.5696]\n",
            "Epoch 30/50 [D loss: 0.6089] [G loss: 0.5461]\n",
            "Epoch 40/50 [D loss: 0.5959] [G loss: 0.5426]\n",
            "Epoch 50/50 [D loss: 0.5854] [G loss: 0.5458]\n",
            "VAE-GAN Training complete.\n",
            "\u001b[1m7813/7813\u001b[0m \u001b[32m━━━━━━━━━━━━━━━━━━━━\u001b[0m\u001b[37m\u001b[0m \u001b[1m34s\u001b[0m 4ms/step\n",
            "Generated 250000 synthetic fraud samples.\n"
          ]
        }
      ]
    },
    {
      "cell_type": "code",
      "source": [
        "# ============================================\n",
        "# Use VAE-GAN Discriminator as Fraud Classifier\n",
        "# ============================================\n",
        "import numpy as np\n",
        "from sklearn.metrics import (\n",
        "    roc_auc_score, average_precision_score, f1_score,\n",
        "    precision_recall_curve, classification_report, confusion_matrix\n",
        ")\n",
        "import matplotlib.pyplot as plt\n",
        "import seaborn as sns\n",
        "import tensorflow as tf\n",
        "from tensorflow.keras import callbacks\n",
        "\n",
        "# Helper: evaluate predictions at best-F1 threshold\n",
        "def evaluate_probs(y_true, y_prob, title=\"Discriminator-as-Classifier\"):\n",
        "    # Choose threshold maximizing F1 on PR curve\n",
        "    precision, recall, thresholds = precision_recall_curve(y_true, y_prob)\n",
        "    f1s = 2 * precision[:-1] * recall[:-1] / (precision[:-1] + recall[:-1] + 1e-12)\n",
        "    best_idx = np.argmax(f1s)\n",
        "    best_thr = thresholds[best_idx] if thresholds.size else 0.5\n",
        "\n",
        "    y_pred = (y_prob >= best_thr).astype(int)\n",
        "    roc  = roc_auc_score(y_true, y_prob)\n",
        "    pr   = average_precision_score(y_true, y_prob)\n",
        "    f1   = f1_score(y_true, y_pred)\n",
        "\n",
        "    print(f\"\\n== {title} ==\")\n",
        "    print(f\"ROC-AUC: {roc:.4f} | PR-AUC: {pr:.4f} | F1@best: {f1:.4f} (thr={best_thr:.4f})\\n\")\n",
        "    print(\"Classification Report:\")\n",
        "    print(classification_report(y_true, y_pred, digits=4))\n",
        "\n",
        "    cm = confusion_matrix(y_true, y_pred)\n",
        "    plt.figure(figsize=(5.5, 4.5))\n",
        "    sns.heatmap(cm, annot=True, fmt=\"d\", cmap=\"Blues\")\n",
        "    plt.xlabel(\"Predicted\")\n",
        "    plt.ylabel(\"True\")\n",
        "    plt.title(f\"Confusion Matrix — {title}\")\n",
        "    plt.tight_layout()\n",
        "    plt.show()\n",
        "\n",
        "    return {\"roc_auc\": roc, \"pr_auc\": pr, \"f1\": f1, \"threshold\": float(best_thr)}\n",
        "\n",
        "# -------------------------------\n",
        "# Option A: Zero-shot use\n",
        "# -------------------------------\n",
        "print(\"\\nScoring test set with the trained discriminator (zero-shot)...\")\n",
        "y_prob_zeroshot = discriminator.predict(X_test, batch_size=1024, verbose=0).ravel()\n",
        "metrics_zeroshot = evaluate_probs(y_test, y_prob_zeroshot, title=\"Discriminator (Zero-shot)\")\n",
        "\n",
        "# -------------------------------\n",
        "# Option B: Fine-tune on labels\n",
        "# -------------------------------\n",
        "# Recompile discriminator for supervised fine-tuning\n",
        "print(\"\\nFine-tuning discriminator on labeled real data...\")\n",
        "# Class weighting to handle imbalance\n",
        "pos = int(np.sum(y_train))\n",
        "neg = int(len(y_train) - pos)\n",
        "class_weight = {0: 1.0, 1: (neg / max(pos, 1))}\n",
        "\n",
        "discriminator.compile(\n",
        "    optimizer=tf.keras.optimizers.Adam(1e-4),\n",
        "    loss=\"binary_crossentropy\",\n",
        "    metrics=[\n",
        "        tf.keras.metrics.AUC(name=\"aucroc\", curve=\"ROC\"),\n",
        "        tf.keras.metrics.AUC(name=\"aucpr\", curve=\"PR\"),\n",
        "        tf.keras.metrics.Precision(name=\"precision\"),\n",
        "        tf.keras.metrics.Recall(name=\"recall\"),\n",
        "    ],\n",
        ")\n",
        "\n",
        "early_stop = callbacks.EarlyStopping(\n",
        "    monitor=\"val_aucpr\", mode=\"max\", patience=10, restore_best_weights=True\n",
        ")\n",
        "\n",
        "history = discriminator.fit(\n",
        "    X_train, y_train,\n",
        "    validation_data=(X_test, y_test),\n",
        "    epochs=100,\n",
        "    batch_size=1024,\n",
        "    class_weight=class_weight,\n",
        "    callbacks=[early_stop],\n",
        "    verbose=0,\n",
        ")\n",
        "\n",
        "print(\"Fine-tuning complete. Evaluating on test set...\")\n",
        "y_prob_ft = discriminator.predict(X_test, batch_size=1024, verbose=0).ravel()\n",
        "metrics_ft = evaluate_probs(y_test, y_prob_ft, title=\"Discriminator (Fine-tuned)\")\n",
        "\n",
        "# Optional: quick training curves\n",
        "plt.figure(figsize=(6.5,4.5))\n",
        "plt.plot(history.history[\"aucpr\"], label=\"train aucpr\")\n",
        "plt.plot(history.history[\"val_aucpr\"], label=\"val aucpr\")\n",
        "plt.xlabel(\"Epoch\")\n",
        "plt.ylabel(\"AUC-PR\")\n",
        "plt.title(\"Discriminator Fine-tuning — AUC-PR\")\n",
        "plt.legend()\n",
        "plt.tight_layout()\n",
        "plt.show()\n"
      ],
      "metadata": {
        "colab": {
          "base_uri": "https://localhost:8080/",
          "height": 1000
        },
        "id": "m9hogkrYPIH_",
        "outputId": "e4aa66aa-6e51-48c0-a83d-8e28931b0d0d"
      },
      "id": "m9hogkrYPIH_",
      "execution_count": null,
      "outputs": [
        {
          "output_type": "stream",
          "name": "stdout",
          "text": [
            "\n",
            "Scoring test set with the trained discriminator (zero-shot)...\n",
            "\n",
            "== Discriminator (Zero-shot) ==\n",
            "ROC-AUC: 0.9442 | PR-AUC: 0.1258 | F1@best: 0.2397 (thr=0.9273)\n",
            "\n",
            "Classification Report:\n",
            "              precision    recall  f1-score   support\n",
            "\n",
            "           0     0.9990    0.9967    0.9978     55038\n",
            "           1     0.1712    0.4000    0.2397        95\n",
            "\n",
            "    accuracy                         0.9956     55133\n",
            "   macro avg     0.5851    0.6983    0.6188     55133\n",
            "weighted avg     0.9975    0.9956    0.9965     55133\n",
            "\n"
          ]
        },
        {
          "output_type": "display_data",
          "data": {
            "text/plain": [
              "<Figure size 550x450 with 2 Axes>"
            ],
            "image/png": "[encoded data removed]"
          },
          "metadata": {}
        },
        {
          "output_type": "stream",
          "name": "stdout",
          "text": [
            "\n",
            "Fine-tuning discriminator on labeled real data...\n"
          ]
        },
        {
          "output_type": "stream",
          "name": "stderr",
          "text": [
            "/usr/local/lib/python3.12/dist-packages/tensorflow/python/data/ops/structured_function.py:258: UserWarning:\n",
            "\n",
            "Even though the `tf.config.experimental_run_functions_eagerly` option is set, this option does not apply to tf.data functions. To force eager execution of tf.data functions, please use `tf.data.experimental.enable_debug_mode()`.\n",
            "\n"
          ]
        },
        {
          "output_type": "stream",
          "name": "stdout",
          "text": [
            "Fine-tuning complete. Evaluating on test set...\n",
            "\n",
            "== Discriminator (Fine-tuned) ==\n",
            "ROC-AUC: 0.9688 | PR-AUC: 0.7303 | F1@best: 0.8342 (thr=0.9860)\n",
            "\n",
            "Classification Report:\n",
            "              precision    recall  f1-score   support\n",
            "\n",
            "           0     0.9997    0.9997    0.9997     55038\n",
            "           1     0.8478    0.8211    0.8342        95\n",
            "\n",
            "    accuracy                         0.9994     55133\n",
            "   macro avg     0.9238    0.9104    0.9170     55133\n",
            "weighted avg     0.9994    0.9994    0.9994     55133\n",
            "\n"
          ]
        },
        {
          "output_type": "display_data",
          "data": {
            "text/plain": [
              "<Figure size 550x450 with 2 Axes>"
            ],
            "image/png": "[encoded data removed]"
          },
          "metadata": {}
        },
        {
          "output_type": "display_data",
          "data": {
            "text/plain": [
              "<Figure size 650x450 with 1 Axes>"
            ],
            "image/png": "[encoded data removed]"
          },
          "metadata": {}
        }
      ]
    },
    {
      "cell_type": "markdown",
      "source": [
        "Interpretations\n",
        "\n",
        "Zero-shot discriminator (trained only on synthetic VAEGAN samples, no real labels) performs poorly in PR-AUC (0.13) and F1 (0.24). It recognizes anomalies better than random but is far too weak for practical use.\n",
        "\n",
        "Fine-tuned discriminator (further trained on labeled real data) shows a dramatic improvement:\n",
        "\n",
        "PR-AUC jumps to 0.73 (competitive with GAN-RNN/LSTM and Autoencoder baselines).\n",
        "\n",
        "High precision (0.85) and recall (0.82) lead to a strong F1 of 0.83.\n",
        "\n",
        "This makes it a viable anomaly detector, almost matching the recurrent GANs in minority detection quality."
      ],
      "metadata": {
        "id": "kAdU-xnvyYMX"
      },
      "id": "kAdU-xnvyYMX"
    },
    {
      "cell_type": "markdown",
      "source": [
        "Conclusion\n",
        "\n",
        "VAEGAN discriminator without fine-tuning is not effective for anomaly detection.\n",
        "\n",
        "Fine-tuning the discriminator on real labeled data transforms it into a powerful classifier, achieving strong ROC-AUC (0.969) and PR-AUC (0.73), with a well-balanced precision–recall trade-off.\n",
        "\n",
        "In practice:\n",
        "\n",
        "Use fine-tuned discriminator when labels are available.\n",
        "\n",
        "Use GAN-RNN/LSTM if sequential modeling is important.\n",
        "\n",
        "Use Autoencoder if you need unsupervised detection with solid PR-AUC."
      ],
      "metadata": {
        "id": "LA831uz5ycKv"
      },
      "id": "LA831uz5ycKv"
    },
    {
      "cell_type": "markdown",
      "source": [
        "Referneces-[A hybrid deep learning approach with generative adversarial network for credit card fraud detection](https://doi.org/10.3390/technologies12100186), [Improving detection of credit card fraudulent transactions using generative adversarial networks](https://arxiv.org/abs/1907.03355), [Generative adversarial networks-based novel approach for fraud detection for the European Cardholders 2013 dataset](https://doi.org/10.1109/ACCESS.2023.3320072), https://medium.com/data-science/fraud-detection-with-generative-adversarial-nets-gans-26bea360870d"
      ],
      "metadata": {
        "id": "T9zWki4RwC5o"
      },
      "id": "T9zWki4RwC5o"
    },
    {
      "cell_type": "markdown",
      "source": [
        "Note- ChatGPT used for understanding results and how discriminator can be used."
      ],
      "metadata": {
        "id": "MCHGXUkiwGxb"
      },
      "id": "MCHGXUkiwGxb"
    }
  ],
  "metadata": {
    "accelerator": "GPU",
    "colab": {
      "gpuType": "T4",
      "provenance": []
    },
    "kaggle": {
      "accelerator": "none",
      "dataSources": [
        {
          "datasetId": 310,
          "sourceId": 23498,
          "sourceType": "datasetVersion"
        }
      ],
      "dockerImageVersionId": 30822,
      "isGpuEnabled": false,
      "isInternetEnabled": true,
      "language": "python",
      "sourceType": "notebook"
    },
    "kernelspec": {
      "display_name": "Python 3",
      "name": "python3"
    },
    "language_info": {
      "codemirror_mode": {
        "name": "ipython",
        "version": 3
      },
      "file_extension": ".py",
      "mimetype": "text/x-python",
      "name": "python",
      "nbconvert_exporter": "python",
      "pygments_lexer": "ipython3",
      "version": "3.10.12"
    },
    "papermill": {
      "default_parameters": {},
      "duration": 1846.66889,
      "end_time": "2024-12-30T03:00:04.367340",
      "environment_variables": {},
      "exception": null,
      "input_path": "__notebook__.ipynb",
      "output_path": "__notebook__.ipynb",
      "parameters": {},
      "start_time": "2024-12-30T02:29:17.698450",
      "version": "2.6.0"
    }
  },
  "nbformat": 4,
  "nbformat_minor": 5
}