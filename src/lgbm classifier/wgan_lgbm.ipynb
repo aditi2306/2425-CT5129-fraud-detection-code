{
  "cells": [
    {
      "cell_type": "markdown",
      "source": [
        "#WGAN with LGBM as classifier"
      ],
      "metadata": {
        "id": "Y6Fo9WzDW3Ss"
      },
      "id": "Y6Fo9WzDW3Ss"
    },
    {
      "cell_type": "markdown",
      "id": "95b87982",
      "metadata": {
        "id": "95b87982"
      },
      "source": [
        "## Importing Libraries"
      ]
    },
    {
      "cell_type": "code",
      "execution_count": null,
      "id": "cb2d1424",
      "metadata": {
        "id": "cb2d1424"
      },
      "outputs": [],
      "source": [
        "import os\n",
        "import keras\n",
        "import numpy as np\n",
        "import pandas as pd\n",
        "import seaborn as sns\n",
        "import plotly.express as px\n",
        "import plotly.graph_objects as go\n",
        "import matplotlib.pyplot as plt\n",
        "import lightgbm as lgb\n",
        "from sklearn.model_selection import train_test_split\n",
        "from sklearn.preprocessing import QuantileTransformer\n",
        "from sklearn.preprocessing import StandardScaler, MinMaxScaler\n",
        "from tensorflow.keras.layers import Input, Dense, Reshape, Flatten, Dropout, multiply, Concatenate\n",
        "from tensorflow.keras.layers import BatchNormalization, Activation, Embedding, ZeroPadding2D, LeakyReLU\n",
        "from tensorflow.keras.models import Sequential, Model\n",
        "from tensorflow.keras.optimizers import Adam, RMSprop\n",
        "from tensorflow.keras.initializers import RandomNormal\n",
        "import tensorflow.keras.backend as K\n",
        "from sklearn.utils import shuffle\n",
        "from sklearn.metrics import precision_score, recall_score, f1_score,\\\n",
        "                            accuracy_score, balanced_accuracy_score,classification_report,\\\n",
        "                            confusion_matrix"
      ]
    },
    {
      "cell_type": "code",
      "execution_count": null,
      "id": "QgenRhZYJcmv",
      "metadata": {
        "id": "QgenRhZYJcmv"
      },
      "outputs": [],
      "source": [
        "import tensorflow as tf\n",
        "tf.config.run_functions_eagerly(True)\n"
      ]
    },
    {
      "cell_type": "markdown",
      "id": "90a60195",
      "metadata": {
        "id": "90a60195"
      },
      "source": [
        "## EDA"
      ]
    },
    {
      "cell_type": "code",
      "execution_count": null,
      "id": "79bf21d7",
      "metadata": {
        "colab": {
          "base_uri": "https://localhost:8080/"
        },
        "id": "79bf21d7",
        "outputId": "83407c5c-e57d-43a5-f691-c77dbb68c05b"
      },
      "outputs": [
        {
          "output_type": "stream",
          "name": "stdout",
          "text": [
            "<class 'pandas.core.frame.DataFrame'>\n",
            "RangeIndex: 284807 entries, 0 to 284806\n",
            "Data columns (total 30 columns):\n",
            " #   Column  Non-Null Count   Dtype  \n",
            "---  ------  --------------   -----  \n",
            " 0   V1      284807 non-null  float64\n",
            " 1   V2      284807 non-null  float64\n",
            " 2   V3      284807 non-null  float64\n",
            " 3   V4      284807 non-null  float64\n",
            " 4   V5      284807 non-null  float64\n",
            " 5   V6      284807 non-null  float64\n",
            " 6   V7      284807 non-null  float64\n",
            " 7   V8      284807 non-null  float64\n",
            " 8   V9      284807 non-null  float64\n",
            " 9   V10     284807 non-null  float64\n",
            " 10  V11     284807 non-null  float64\n",
            " 11  V12     284807 non-null  float64\n",
            " 12  V13     284807 non-null  float64\n",
            " 13  V14     284807 non-null  float64\n",
            " 14  V15     284807 non-null  float64\n",
            " 15  V16     284807 non-null  float64\n",
            " 16  V17     284807 non-null  float64\n",
            " 17  V18     284807 non-null  float64\n",
            " 18  V19     284807 non-null  float64\n",
            " 19  V20     284807 non-null  float64\n",
            " 20  V21     284807 non-null  float64\n",
            " 21  V22     284807 non-null  float64\n",
            " 22  V23     284807 non-null  float64\n",
            " 23  V24     284807 non-null  float64\n",
            " 24  V25     284807 non-null  float64\n",
            " 25  V26     284807 non-null  float64\n",
            " 26  V27     284807 non-null  float64\n",
            " 27  V28     284807 non-null  float64\n",
            " 28  Amount  284807 non-null  float64\n",
            " 29  Class   284807 non-null  int64  \n",
            "dtypes: float64(29), int64(1)\n",
            "memory usage: 65.2 MB\n"
          ]
        }
      ],
      "source": [
        "df=pd.read_csv('./creditcard.csv')\n",
        "df=df.drop('Time',axis=1)\n",
        "df.head()\n",
        "df.info()"
      ]
    },
    {
      "cell_type": "markdown",
      "id": "a828e2f8",
      "metadata": {
        "id": "a828e2f8"
      },
      "source": [
        "PCA Transformation: The description of the data says that all the features went through a PCA transformation (Except for time and amount).  \n",
        "Scaling: Keep in mind that in order to implement a PCA transformation features need to be previously scaled."
      ]
    },
    {
      "cell_type": "code",
      "execution_count": null,
      "id": "b13394f3",
      "metadata": {
        "colab": {
          "base_uri": "https://localhost:8080/",
          "height": 350
        },
        "id": "b13394f3",
        "outputId": "68c8c281-c441-42dc-95aa-35e92ec60b09"
      },
      "outputs": [
        {
          "output_type": "execute_result",
          "data": {
            "text/plain": [
              "                 V1            V2            V3            V4            V5  \\\n",
              "count  2.848070e+05  2.848070e+05  2.848070e+05  2.848070e+05  2.848070e+05   \n",
              "mean   1.168375e-15  3.416908e-16 -1.379537e-15  2.074095e-15  9.604066e-16   \n",
              "std    1.958696e+00  1.651309e+00  1.516255e+00  1.415869e+00  1.380247e+00   \n",
              "min   -5.640751e+01 -7.271573e+01 -4.832559e+01 -5.683171e+00 -1.137433e+02   \n",
              "25%   -9.203734e-01 -5.985499e-01 -8.903648e-01 -8.486401e-01 -6.915971e-01   \n",
              "50%    1.810880e-02  6.548556e-02  1.798463e-01 -1.984653e-02 -5.433583e-02   \n",
              "75%    1.315642e+00  8.037239e-01  1.027196e+00  7.433413e-01  6.119264e-01   \n",
              "max    2.454930e+00  2.205773e+01  9.382558e+00  1.687534e+01  3.480167e+01   \n",
              "\n",
              "                 V6            V7            V8            V9           V10  \\\n",
              "count  2.848070e+05  2.848070e+05  2.848070e+05  2.848070e+05  2.848070e+05   \n",
              "mean   1.487313e-15 -5.556467e-16  1.213481e-16 -2.406331e-15  2.239053e-15   \n",
              "std    1.332271e+00  1.237094e+00  1.194353e+00  1.098632e+00  1.088850e+00   \n",
              "min   -2.616051e+01 -4.355724e+01 -7.321672e+01 -1.343407e+01 -2.458826e+01   \n",
              "25%   -7.682956e-01 -5.540759e-01 -2.086297e-01 -6.430976e-01 -5.354257e-01   \n",
              "50%   -2.741871e-01  4.010308e-02  2.235804e-02 -5.142873e-02 -9.291738e-02   \n",
              "75%    3.985649e-01  5.704361e-01  3.273459e-01  5.971390e-01  4.539234e-01   \n",
              "max    7.330163e+01  1.205895e+02  2.000721e+01  1.559499e+01  2.374514e+01   \n",
              "\n",
              "       ...           V21           V22           V23           V24  \\\n",
              "count  ...  2.848070e+05  2.848070e+05  2.848070e+05  2.848070e+05   \n",
              "mean   ...  1.654067e-16 -3.568593e-16  2.578648e-16  4.473266e-15   \n",
              "std    ...  7.345240e-01  7.257016e-01  6.244603e-01  6.056471e-01   \n",
              "min    ... -3.483038e+01 -1.093314e+01 -4.480774e+01 -2.836627e+00   \n",
              "25%    ... -2.283949e-01 -5.423504e-01 -1.618463e-01 -3.545861e-01   \n",
              "50%    ... -2.945017e-02  6.781943e-03 -1.119293e-02  4.097606e-02   \n",
              "75%    ...  1.863772e-01  5.285536e-01  1.476421e-01  4.395266e-01   \n",
              "max    ...  2.720284e+01  1.050309e+01  2.252841e+01  4.584549e+00   \n",
              "\n",
              "                V25           V26           V27           V28         Amount  \\\n",
              "count  2.848070e+05  2.848070e+05  2.848070e+05  2.848070e+05  284807.000000   \n",
              "mean   5.340915e-16  1.683437e-15 -3.660091e-16 -1.227390e-16      88.349619   \n",
              "std    5.212781e-01  4.822270e-01  4.036325e-01  3.300833e-01     250.120109   \n",
              "min   -1.029540e+01 -2.604551e+00 -2.256568e+01 -1.543008e+01       0.000000   \n",
              "25%   -3.171451e-01 -3.269839e-01 -7.083953e-02 -5.295979e-02       5.600000   \n",
              "50%    1.659350e-02 -5.213911e-02  1.342146e-03  1.124383e-02      22.000000   \n",
              "75%    3.507156e-01  2.409522e-01  9.104512e-02  7.827995e-02      77.165000   \n",
              "max    7.519589e+00  3.517346e+00  3.161220e+01  3.384781e+01   25691.160000   \n",
              "\n",
              "               Class  \n",
              "count  284807.000000  \n",
              "mean        0.001727  \n",
              "std         0.041527  \n",
              "min         0.000000  \n",
              "25%         0.000000  \n",
              "50%         0.000000  \n",
              "75%         0.000000  \n",
              "max         1.000000  \n",
              "\n",
              "[8 rows x 30 columns]"
            ],
            "text/html": [
              "\n",
              "  <div id=\"df-24947eff-0d46-40e9-a50b-cdf5a902b6cc\" class=\"colab-df-container\">\n",
              "    <div>\n",
              "<style scoped>\n",
              "    .dataframe tbody tr th:only-of-type {\n",
              "        vertical-align: middle;\n",
              "    }\n",
              "\n",
              "    .dataframe tbody tr th {\n",
              "        vertical-align: top;\n",
              "    }\n",
              "\n",
              "    .dataframe thead th {\n",
              "        text-align: right;\n",
              "    }\n",
              "</style>\n",
              "<table border=\"1\" class=\"dataframe\">\n",
              "  <thead>\n",
              "    <tr style=\"text-align: right;\">\n",
              "      <th></th>\n",
              "      <th>V1</th>\n",
              "      <th>V2</th>\n",
              "      <th>V3</th>\n",
              "      <th>V4</th>\n",
              "      <th>V5</th>\n",
              "      <th>V6</th>\n",
              "      <th>V7</th>\n",
              "      <th>V8</th>\n",
              "      <th>V9</th>\n",
              "      <th>V10</th>\n",
              "      <th>...</th>\n",
              "      <th>V21</th>\n",
              "      <th>V22</th>\n",
              "      <th>V23</th>\n",
              "      <th>V24</th>\n",
              "      <th>V25</th>\n",
              "      <th>V26</th>\n",
              "      <th>V27</th>\n",
              "      <th>V28</th>\n",
              "      <th>Amount</th>\n",
              "      <th>Class</th>\n",
              "    </tr>\n",
              "  </thead>\n",
              "  <tbody>\n",
              "    <tr>\n",
              "      <th>count</th>\n",
              "      <td>2.848070e+05</td>\n",
              "      <td>2.848070e+05</td>\n",
              "      <td>2.848070e+05</td>\n",
              "      <td>2.848070e+05</td>\n",
              "      <td>2.848070e+05</td>\n",
              "      <td>2.848070e+05</td>\n",
              "      <td>2.848070e+05</td>\n",
              "      <td>2.848070e+05</td>\n",
              "      <td>2.848070e+05</td>\n",
              "      <td>2.848070e+05</td>\n",
              "      <td>...</td>\n",
              "      <td>2.848070e+05</td>\n",
              "      <td>2.848070e+05</td>\n",
              "      <td>2.848070e+05</td>\n",
              "      <td>2.848070e+05</td>\n",
              "      <td>2.848070e+05</td>\n",
              "      <td>2.848070e+05</td>\n",
              "      <td>2.848070e+05</td>\n",
              "      <td>2.848070e+05</td>\n",
              "      <td>284807.000000</td>\n",
              "      <td>284807.000000</td>\n",
              "    </tr>\n",
              "    <tr>\n",
              "      <th>mean</th>\n",
              "      <td>1.168375e-15</td>\n",
              "      <td>3.416908e-16</td>\n",
              "      <td>-1.379537e-15</td>\n",
              "      <td>2.074095e-15</td>\n",
              "      <td>9.604066e-16</td>\n",
              "      <td>1.487313e-15</td>\n",
              "      <td>-5.556467e-16</td>\n",
              "      <td>1.213481e-16</td>\n",
              "      <td>-2.406331e-15</td>\n",
              "      <td>2.239053e-15</td>\n",
              "      <td>...</td>\n",
              "      <td>1.654067e-16</td>\n",
              "      <td>-3.568593e-16</td>\n",
              "      <td>2.578648e-16</td>\n",
              "      <td>4.473266e-15</td>\n",
              "      <td>5.340915e-16</td>\n",
              "      <td>1.683437e-15</td>\n",
              "      <td>-3.660091e-16</td>\n",
              "      <td>-1.227390e-16</td>\n",
              "      <td>88.349619</td>\n",
              "      <td>0.001727</td>\n",
              "    </tr>\n",
              "    <tr>\n",
              "      <th>std</th>\n",
              "      <td>1.958696e+00</td>\n",
              "      <td>1.651309e+00</td>\n",
              "      <td>1.516255e+00</td>\n",
              "      <td>1.415869e+00</td>\n",
              "      <td>1.380247e+00</td>\n",
              "      <td>1.332271e+00</td>\n",
              "      <td>1.237094e+00</td>\n",
              "      <td>1.194353e+00</td>\n",
              "      <td>1.098632e+00</td>\n",
              "      <td>1.088850e+00</td>\n",
              "      <td>...</td>\n",
              "      <td>7.345240e-01</td>\n",
              "      <td>7.257016e-01</td>\n",
              "      <td>6.244603e-01</td>\n",
              "      <td>6.056471e-01</td>\n",
              "      <td>5.212781e-01</td>\n",
              "      <td>4.822270e-01</td>\n",
              "      <td>4.036325e-01</td>\n",
              "      <td>3.300833e-01</td>\n",
              "      <td>250.120109</td>\n",
              "      <td>0.041527</td>\n",
              "    </tr>\n",
              "    <tr>\n",
              "      <th>min</th>\n",
              "      <td>-5.640751e+01</td>\n",
              "      <td>-7.271573e+01</td>\n",
              "      <td>-4.832559e+01</td>\n",
              "      <td>-5.683171e+00</td>\n",
              "      <td>-1.137433e+02</td>\n",
              "      <td>-2.616051e+01</td>\n",
              "      <td>-4.355724e+01</td>\n",
              "      <td>-7.321672e+01</td>\n",
              "      <td>-1.343407e+01</td>\n",
              "      <td>-2.458826e+01</td>\n",
              "      <td>...</td>\n",
              "      <td>-3.483038e+01</td>\n",
              "      <td>-1.093314e+01</td>\n",
              "      <td>-4.480774e+01</td>\n",
              "      <td>-2.836627e+00</td>\n",
              "      <td>-1.029540e+01</td>\n",
              "      <td>-2.604551e+00</td>\n",
              "      <td>-2.256568e+01</td>\n",
              "      <td>-1.543008e+01</td>\n",
              "      <td>0.000000</td>\n",
              "      <td>0.000000</td>\n",
              "    </tr>\n",
              "    <tr>\n",
              "      <th>25%</th>\n",
              "      <td>-9.203734e-01</td>\n",
              "      <td>-5.985499e-01</td>\n",
              "      <td>-8.903648e-01</td>\n",
              "      <td>-8.486401e-01</td>\n",
              "      <td>-6.915971e-01</td>\n",
              "      <td>-7.682956e-01</td>\n",
              "      <td>-5.540759e-01</td>\n",
              "      <td>-2.086297e-01</td>\n",
              "      <td>-6.430976e-01</td>\n",
              "      <td>-5.354257e-01</td>\n",
              "      <td>...</td>\n",
              "      <td>-2.283949e-01</td>\n",
              "      <td>-5.423504e-01</td>\n",
              "      <td>-1.618463e-01</td>\n",
              "      <td>-3.545861e-01</td>\n",
              "      <td>-3.171451e-01</td>\n",
              "      <td>-3.269839e-01</td>\n",
              "      <td>-7.083953e-02</td>\n",
              "      <td>-5.295979e-02</td>\n",
              "      <td>5.600000</td>\n",
              "      <td>0.000000</td>\n",
              "    </tr>\n",
              "    <tr>\n",
              "      <th>50%</th>\n",
              "      <td>1.810880e-02</td>\n",
              "      <td>6.548556e-02</td>\n",
              "      <td>1.798463e-01</td>\n",
              "      <td>-1.984653e-02</td>\n",
              "      <td>-5.433583e-02</td>\n",
              "      <td>-2.741871e-01</td>\n",
              "      <td>4.010308e-02</td>\n",
              "      <td>2.235804e-02</td>\n",
              "      <td>-5.142873e-02</td>\n",
              "      <td>-9.291738e-02</td>\n",
              "      <td>...</td>\n",
              "      <td>-2.945017e-02</td>\n",
              "      <td>6.781943e-03</td>\n",
              "      <td>-1.119293e-02</td>\n",
              "      <td>4.097606e-02</td>\n",
              "      <td>1.659350e-02</td>\n",
              "      <td>-5.213911e-02</td>\n",
              "      <td>1.342146e-03</td>\n",
              "      <td>1.124383e-02</td>\n",
              "      <td>22.000000</td>\n",
              "      <td>0.000000</td>\n",
              "    </tr>\n",
              "    <tr>\n",
              "      <th>75%</th>\n",
              "      <td>1.315642e+00</td>\n",
              "      <td>8.037239e-01</td>\n",
              "      <td>1.027196e+00</td>\n",
              "      <td>7.433413e-01</td>\n",
              "      <td>6.119264e-01</td>\n",
              "      <td>3.985649e-01</td>\n",
              "      <td>5.704361e-01</td>\n",
              "      <td>3.273459e-01</td>\n",
              "      <td>5.971390e-01</td>\n",
              "      <td>4.539234e-01</td>\n",
              "      <td>...</td>\n",
              "      <td>1.863772e-01</td>\n",
              "      <td>5.285536e-01</td>\n",
              "      <td>1.476421e-01</td>\n",
              "      <td>4.395266e-01</td>\n",
              "      <td>3.507156e-01</td>\n",
              "      <td>2.409522e-01</td>\n",
              "      <td>9.104512e-02</td>\n",
              "      <td>7.827995e-02</td>\n",
              "      <td>77.165000</td>\n",
              "      <td>0.000000</td>\n",
              "    </tr>\n",
              "    <tr>\n",
              "      <th>max</th>\n",
              "      <td>2.454930e+00</td>\n",
              "      <td>2.205773e+01</td>\n",
              "      <td>9.382558e+00</td>\n",
              "      <td>1.687534e+01</td>\n",
              "      <td>3.480167e+01</td>\n",
              "      <td>7.330163e+01</td>\n",
              "      <td>1.205895e+02</td>\n",
              "      <td>2.000721e+01</td>\n",
              "      <td>1.559499e+01</td>\n",
              "      <td>2.374514e+01</td>\n",
              "      <td>...</td>\n",
              "      <td>2.720284e+01</td>\n",
              "      <td>1.050309e+01</td>\n",
              "      <td>2.252841e+01</td>\n",
              "      <td>4.584549e+00</td>\n",
              "      <td>7.519589e+00</td>\n",
              "      <td>3.517346e+00</td>\n",
              "      <td>3.161220e+01</td>\n",
              "      <td>3.384781e+01</td>\n",
              "      <td>25691.160000</td>\n",
              "      <td>1.000000</td>\n",
              "    </tr>\n",
              "  </tbody>\n",
              "</table>\n",
              "<p>8 rows × 30 columns</p>\n",
              "</div>\n",
              "    <div class=\"colab-df-buttons\">\n",
              "\n",
              "  <div class=\"colab-df-container\">\n",
              "    <button class=\"colab-df-convert\" onclick=\"convertToInteractive('df-24947eff-0d46-40e9-a50b-cdf5a902b6cc')\"\n",
              "            title=\"Convert this dataframe to an interactive table.\"\n",
              "            style=\"display:none;\">\n",
              "\n",
              "  <svg xmlns=\"http://www.w3.org/2000/svg\" height=\"24px\" viewBox=\"0 -960 960 960\">\n",
              "    <path d=\"M120-120v-720h720v720H120Zm60-500h600v-160H180v160Zm220 220h160v-160H400v160Zm0 220h160v-160H400v160ZM180-400h160v-160H180v160Zm440 0h160v-160H620v160ZM180-180h160v-160H180v160Zm440 0h160v-160H620v160Z\"/>\n",
              "  </svg>\n",
              "    </button>\n",
              "\n",
              "  <style>\n",
              "    .colab-df-container {\n",
              "      display:flex;\n",
              "      gap: 12px;\n",
              "    }\n",
              "\n",
              "    .colab-df-convert {\n",
              "      background-color: #E8F0FE;\n",
              "      border: none;\n",
              "      border-radius: 50%;\n",
              "      cursor: pointer;\n",
              "      display: none;\n",
              "      fill: #1967D2;\n",
              "      height: 32px;\n",
              "      padding: 0 0 0 0;\n",
              "      width: 32px;\n",
              "    }\n",
              "\n",
              "    .colab-df-convert:hover {\n",
              "      background-color: #E2EBFA;\n",
              "      box-shadow: 0px 1px 2px rgba(60, 64, 67, 0.3), 0px 1px 3px 1px rgba(60, 64, 67, 0.15);\n",
              "      fill: #174EA6;\n",
              "    }\n",
              "\n",
              "    .colab-df-buttons div {\n",
              "      margin-bottom: 4px;\n",
              "    }\n",
              "\n",
              "    [theme=dark] .colab-df-convert {\n",
              "      background-color: #3B4455;\n",
              "      fill: #D2E3FC;\n",
              "    }\n",
              "\n",
              "    [theme=dark] .colab-df-convert:hover {\n",
              "      background-color: #434B5C;\n",
              "      box-shadow: 0px 1px 3px 1px rgba(0, 0, 0, 0.15);\n",
              "      filter: drop-shadow(0px 1px 2px rgba(0, 0, 0, 0.3));\n",
              "      fill: #FFFFFF;\n",
              "    }\n",
              "  </style>\n",
              "\n",
              "    <script>\n",
              "      const buttonEl =\n",
              "        document.querySelector('#df-24947eff-0d46-40e9-a50b-cdf5a902b6cc button.colab-df-convert');\n",
              "      buttonEl.style.display =\n",
              "        google.colab.kernel.accessAllowed ? 'block' : 'none';\n",
              "\n",
              "      async function convertToInteractive(key) {\n",
              "        const element = document.querySelector('#df-24947eff-0d46-40e9-a50b-cdf5a902b6cc');\n",
              "        const dataTable =\n",
              "          await google.colab.kernel.invokeFunction('convertToInteractive',\n",
              "                                                    [key], {});\n",
              "        if (!dataTable) return;\n",
              "\n",
              "        const docLinkHtml = 'Like what you see? Visit the ' +\n",
              "          '<a target=\"_blank\" href=https://colab.research.google.com/notebooks/data_table.ipynb>data table notebook</a>'\n",
              "          + ' to learn more about interactive tables.';\n",
              "        element.innerHTML = '';\n",
              "        dataTable['output_type'] = 'display_data';\n",
              "        await google.colab.output.renderOutput(dataTable, element);\n",
              "        const docLink = document.createElement('div');\n",
              "        docLink.innerHTML = docLinkHtml;\n",
              "        element.appendChild(docLink);\n",
              "      }\n",
              "    </script>\n",
              "  </div>\n",
              "\n",
              "\n",
              "    <div id=\"df-9eae78b8-237a-4d9b-a7ab-4be7d9d74dc5\">\n",
              "      <button class=\"colab-df-quickchart\" onclick=\"quickchart('df-9eae78b8-237a-4d9b-a7ab-4be7d9d74dc5')\"\n",
              "                title=\"Suggest charts\"\n",
              "                style=\"display:none;\">\n",
              "\n",
              "<svg xmlns=\"http://www.w3.org/2000/svg\" height=\"24px\"viewBox=\"0 0 24 24\"\n",
              "     width=\"24px\">\n",
              "    <g>\n",
              "        <path d=\"M19 3H5c-1.1 0-2 .9-2 2v14c0 1.1.9 2 2 2h14c1.1 0 2-.9 2-2V5c0-1.1-.9-2-2-2zM9 17H7v-7h2v7zm4 0h-2V7h2v10zm4 0h-2v-4h2v4z\"/>\n",
              "    </g>\n",
              "</svg>\n",
              "      </button>\n",
              "\n",
              "<style>\n",
              "  .colab-df-quickchart {\n",
              "      --bg-color: #E8F0FE;\n",
              "      --fill-color: #1967D2;\n",
              "      --hover-bg-color: #E2EBFA;\n",
              "      --hover-fill-color: #174EA6;\n",
              "      --disabled-fill-color: #AAA;\n",
              "      --disabled-bg-color: #DDD;\n",
              "  }\n",
              "\n",
              "  [theme=dark] .colab-df-quickchart {\n",
              "      --bg-color: #3B4455;\n",
              "      --fill-color: #D2E3FC;\n",
              "      --hover-bg-color: #434B5C;\n",
              "      --hover-fill-color: #FFFFFF;\n",
              "      --disabled-bg-color: #3B4455;\n",
              "      --disabled-fill-color: #666;\n",
              "  }\n",
              "\n",
              "  .colab-df-quickchart {\n",
              "    background-color: var(--bg-color);\n",
              "    border: none;\n",
              "    border-radius: 50%;\n",
              "    cursor: pointer;\n",
              "    display: none;\n",
              "    fill: var(--fill-color);\n",
              "    height: 32px;\n",
              "    padding: 0;\n",
              "    width: 32px;\n",
              "  }\n",
              "\n",
              "  .colab-df-quickchart:hover {\n",
              "    background-color: var(--hover-bg-color);\n",
              "    box-shadow: 0 1px 2px rgba(60, 64, 67, 0.3), 0 1px 3px 1px rgba(60, 64, 67, 0.15);\n",
              "    fill: var(--button-hover-fill-color);\n",
              "  }\n",
              "\n",
              "  .colab-df-quickchart-complete:disabled,\n",
              "  .colab-df-quickchart-complete:disabled:hover {\n",
              "    background-color: var(--disabled-bg-color);\n",
              "    fill: var(--disabled-fill-color);\n",
              "    box-shadow: none;\n",
              "  }\n",
              "\n",
              "  .colab-df-spinner {\n",
              "    border: 2px solid var(--fill-color);\n",
              "    border-color: transparent;\n",
              "    border-bottom-color: var(--fill-color);\n",
              "    animation:\n",
              "      spin 1s steps(1) infinite;\n",
              "  }\n",
              "\n",
              "  @keyframes spin {\n",
              "    0% {\n",
              "      border-color: transparent;\n",
              "      border-bottom-color: var(--fill-color);\n",
              "      border-left-color: var(--fill-color);\n",
              "    }\n",
              "    20% {\n",
              "      border-color: transparent;\n",
              "      border-left-color: var(--fill-color);\n",
              "      border-top-color: var(--fill-color);\n",
              "    }\n",
              "    30% {\n",
              "      border-color: transparent;\n",
              "      border-left-color: var(--fill-color);\n",
              "      border-top-color: var(--fill-color);\n",
              "      border-right-color: var(--fill-color);\n",
              "    }\n",
              "    40% {\n",
              "      border-color: transparent;\n",
              "      border-right-color: var(--fill-color);\n",
              "      border-top-color: var(--fill-color);\n",
              "    }\n",
              "    60% {\n",
              "      border-color: transparent;\n",
              "      border-right-color: var(--fill-color);\n",
              "    }\n",
              "    80% {\n",
              "      border-color: transparent;\n",
              "      border-right-color: var(--fill-color);\n",
              "      border-bottom-color: var(--fill-color);\n",
              "    }\n",
              "    90% {\n",
              "      border-color: transparent;\n",
              "      border-bottom-color: var(--fill-color);\n",
              "    }\n",
              "  }\n",
              "</style>\n",
              "\n",
              "      <script>\n",
              "        async function quickchart(key) {\n",
              "          const quickchartButtonEl =\n",
              "            document.querySelector('#' + key + ' button');\n",
              "          quickchartButtonEl.disabled = true;  // To prevent multiple clicks.\n",
              "          quickchartButtonEl.classList.add('colab-df-spinner');\n",
              "          try {\n",
              "            const charts = await google.colab.kernel.invokeFunction(\n",
              "                'suggestCharts', [key], {});\n",
              "          } catch (error) {\n",
              "            console.error('Error during call to suggestCharts:', error);\n",
              "          }\n",
              "          quickchartButtonEl.classList.remove('colab-df-spinner');\n",
              "          quickchartButtonEl.classList.add('colab-df-quickchart-complete');\n",
              "        }\n",
              "        (() => {\n",
              "          let quickchartButtonEl =\n",
              "            document.querySelector('#df-9eae78b8-237a-4d9b-a7ab-4be7d9d74dc5 button');\n",
              "          quickchartButtonEl.style.display =\n",
              "            google.colab.kernel.accessAllowed ? 'block' : 'none';\n",
              "        })();\n",
              "      </script>\n",
              "    </div>\n",
              "\n",
              "    </div>\n",
              "  </div>\n"
            ],
            "application/vnd.google.colaboratory.intrinsic+json": {
              "type": "dataframe"
            }
          },
          "metadata": {},
          "execution_count": 5
        }
      ],
      "source": [
        "df.describe()"
      ]
    },
    {
      "cell_type": "code",
      "execution_count": null,
      "id": "306b3e6f",
      "metadata": {
        "colab": {
          "base_uri": "https://localhost:8080/"
        },
        "id": "306b3e6f",
        "outputId": "c6bf2a2d-69ed-421f-d94c-b01336b875bc"
      },
      "outputs": [
        {
          "output_type": "stream",
          "name": "stdout",
          "text": [
            "Dataset has 9144 duplicate rows\n"
          ]
        }
      ],
      "source": [
        "# checking for duplicate values\n",
        "print(f\"Dataset has {df.duplicated().sum()} duplicate rows\")\n",
        "# dropping duplicate rows\n",
        "df.drop_duplicates(inplace=True)"
      ]
    },
    {
      "cell_type": "code",
      "execution_count": null,
      "id": "8b2f4c06",
      "metadata": {
        "colab": {
          "base_uri": "https://localhost:8080/"
        },
        "id": "8b2f4c06",
        "outputId": "ce569525-6ec2-42d7-dc07-3b1ec612e744"
      },
      "outputs": [
        {
          "output_type": "stream",
          "name": "stdout",
          "text": [
            "<class 'pandas.core.frame.DataFrame'>\n",
            "Index: 275663 entries, 0 to 284806\n",
            "Data columns (total 30 columns):\n",
            " #   Column  Non-Null Count   Dtype  \n",
            "---  ------  --------------   -----  \n",
            " 0   V1      275663 non-null  float64\n",
            " 1   V2      275663 non-null  float64\n",
            " 2   V3      275663 non-null  float64\n",
            " 3   V4      275663 non-null  float64\n",
            " 4   V5      275663 non-null  float64\n",
            " 5   V6      275663 non-null  float64\n",
            " 6   V7      275663 non-null  float64\n",
            " 7   V8      275663 non-null  float64\n",
            " 8   V9      275663 non-null  float64\n",
            " 9   V10     275663 non-null  float64\n",
            " 10  V11     275663 non-null  float64\n",
            " 11  V12     275663 non-null  float64\n",
            " 12  V13     275663 non-null  float64\n",
            " 13  V14     275663 non-null  float64\n",
            " 14  V15     275663 non-null  float64\n",
            " 15  V16     275663 non-null  float64\n",
            " 16  V17     275663 non-null  float64\n",
            " 17  V18     275663 non-null  float64\n",
            " 18  V19     275663 non-null  float64\n",
            " 19  V20     275663 non-null  float64\n",
            " 20  V21     275663 non-null  float64\n",
            " 21  V22     275663 non-null  float64\n",
            " 22  V23     275663 non-null  float64\n",
            " 23  V24     275663 non-null  float64\n",
            " 24  V25     275663 non-null  float64\n",
            " 25  V26     275663 non-null  float64\n",
            " 26  V27     275663 non-null  float64\n",
            " 27  V28     275663 non-null  float64\n",
            " 28  Amount  275663 non-null  float64\n",
            " 29  Class   275663 non-null  int64  \n",
            "dtypes: float64(29), int64(1)\n",
            "memory usage: 65.2 MB\n"
          ]
        }
      ],
      "source": [
        "df.info()"
      ]
    },
    {
      "cell_type": "markdown",
      "id": "c5128908",
      "metadata": {
        "id": "c5128908"
      },
      "source": [
        "There is no null values"
      ]
    },
    {
      "cell_type": "code",
      "execution_count": null,
      "id": "9d6c996a",
      "metadata": {
        "colab": {
          "base_uri": "https://localhost:8080/"
        },
        "id": "9d6c996a",
        "outputId": "dca9210b-8a93-4874-ef52-3070cd90378b"
      },
      "outputs": [
        {
          "output_type": "stream",
          "name": "stdout",
          "text": [
            "No Frauds 99.83 % of the dataset\n",
            "Frauds 0.17 % of the dataset\n"
          ]
        }
      ],
      "source": [
        "print('No Frauds', round(df['Class'].value_counts()[0]/len(df) * 100,2), '% of the dataset')\n",
        "print('Frauds', round(df['Class'].value_counts()[1]/len(df) * 100,2), '% of the dataset')"
      ]
    },
    {
      "cell_type": "code",
      "execution_count": null,
      "id": "d88ad047",
      "metadata": {
        "colab": {
          "base_uri": "https://localhost:8080/",
          "height": 466
        },
        "id": "d88ad047",
        "outputId": "403ff7c5-6ae3-4513-8a85-08bae69957cf"
      },
      "outputs": [
        {
          "output_type": "execute_result",
          "data": {
            "text/plain": [
              "<Axes: xlabel='Class', ylabel='count'>"
            ]
          },
          "metadata": {},
          "execution_count": 9
        },
        {
          "output_type": "display_data",
          "data": {
            "text/plain": [
              "<Figure size 640x480 with 1 Axes>"
            ],
            "image/png": "[encoded data removed]"
          },
          "metadata": {}
        }
      ],
      "source": [
        "sns.countplot(data=df,x='Class')"
      ]
    },
    {
      "cell_type": "code",
      "execution_count": null,
      "id": "30728ee8",
      "metadata": {
        "colab": {
          "base_uri": "https://localhost:8080/",
          "height": 994
        },
        "id": "30728ee8",
        "outputId": "b08a9822-1c8d-45c5-9a29-e4c02e4f265d"
      },
      "outputs": [
        {
          "output_type": "execute_result",
          "data": {
            "text/plain": [
              "V1        -3.273070\n",
              "V2        -4.653486\n",
              "V3        -2.216730\n",
              "V4         0.681387\n",
              "V5        -2.458790\n",
              "V6         1.867576\n",
              "V7         2.877722\n",
              "V8        -8.292631\n",
              "V9         0.550965\n",
              "V10        1.242165\n",
              "V11        0.347772\n",
              "V12       -2.208171\n",
              "V13        0.061058\n",
              "V14       -1.953613\n",
              "V15       -0.295836\n",
              "V16       -1.048371\n",
              "V17       -3.802987\n",
              "V18       -0.255710\n",
              "V19        0.115957\n",
              "V20       -2.045060\n",
              "V21        2.784302\n",
              "V22       -0.200868\n",
              "V23       -5.805236\n",
              "V24       -0.545636\n",
              "V25       -0.408260\n",
              "V26        0.587603\n",
              "V27       -0.745732\n",
              "V28       11.400938\n",
              "Amount    16.841622\n",
              "dtype: float64"
            ],
            "text/html": [
              "<div>\n",
              "<style scoped>\n",
              "    .dataframe tbody tr th:only-of-type {\n",
              "        vertical-align: middle;\n",
              "    }\n",
              "\n",
              "    .dataframe tbody tr th {\n",
              "        vertical-align: top;\n",
              "    }\n",
              "\n",
              "    .dataframe thead th {\n",
              "        text-align: right;\n",
              "    }\n",
              "</style>\n",
              "<table border=\"1\" class=\"dataframe\">\n",
              "  <thead>\n",
              "    <tr style=\"text-align: right;\">\n",
              "      <th></th>\n",
              "      <th>0</th>\n",
              "    </tr>\n",
              "  </thead>\n",
              "  <tbody>\n",
              "    <tr>\n",
              "      <th>V1</th>\n",
              "      <td>-3.273070</td>\n",
              "    </tr>\n",
              "    <tr>\n",
              "      <th>V2</th>\n",
              "      <td>-4.653486</td>\n",
              "    </tr>\n",
              "    <tr>\n",
              "      <th>V3</th>\n",
              "      <td>-2.216730</td>\n",
              "    </tr>\n",
              "    <tr>\n",
              "      <th>V4</th>\n",
              "      <td>0.681387</td>\n",
              "    </tr>\n",
              "    <tr>\n",
              "      <th>V5</th>\n",
              "      <td>-2.458790</td>\n",
              "    </tr>\n",
              "    <tr>\n",
              "      <th>V6</th>\n",
              "      <td>1.867576</td>\n",
              "    </tr>\n",
              "    <tr>\n",
              "      <th>V7</th>\n",
              "      <td>2.877722</td>\n",
              "    </tr>\n",
              "    <tr>\n",
              "      <th>V8</th>\n",
              "      <td>-8.292631</td>\n",
              "    </tr>\n",
              "    <tr>\n",
              "      <th>V9</th>\n",
              "      <td>0.550965</td>\n",
              "    </tr>\n",
              "    <tr>\n",
              "      <th>V10</th>\n",
              "      <td>1.242165</td>\n",
              "    </tr>\n",
              "    <tr>\n",
              "      <th>V11</th>\n",
              "      <td>0.347772</td>\n",
              "    </tr>\n",
              "    <tr>\n",
              "      <th>V12</th>\n",
              "      <td>-2.208171</td>\n",
              "    </tr>\n",
              "    <tr>\n",
              "      <th>V13</th>\n",
              "      <td>0.061058</td>\n",
              "    </tr>\n",
              "    <tr>\n",
              "      <th>V14</th>\n",
              "      <td>-1.953613</td>\n",
              "    </tr>\n",
              "    <tr>\n",
              "      <th>V15</th>\n",
              "      <td>-0.295836</td>\n",
              "    </tr>\n",
              "    <tr>\n",
              "      <th>V16</th>\n",
              "      <td>-1.048371</td>\n",
              "    </tr>\n",
              "    <tr>\n",
              "      <th>V17</th>\n",
              "      <td>-3.802987</td>\n",
              "    </tr>\n",
              "    <tr>\n",
              "      <th>V18</th>\n",
              "      <td>-0.255710</td>\n",
              "    </tr>\n",
              "    <tr>\n",
              "      <th>V19</th>\n",
              "      <td>0.115957</td>\n",
              "    </tr>\n",
              "    <tr>\n",
              "      <th>V20</th>\n",
              "      <td>-2.045060</td>\n",
              "    </tr>\n",
              "    <tr>\n",
              "      <th>V21</th>\n",
              "      <td>2.784302</td>\n",
              "    </tr>\n",
              "    <tr>\n",
              "      <th>V22</th>\n",
              "      <td>-0.200868</td>\n",
              "    </tr>\n",
              "    <tr>\n",
              "      <th>V23</th>\n",
              "      <td>-5.805236</td>\n",
              "    </tr>\n",
              "    <tr>\n",
              "      <th>V24</th>\n",
              "      <td>-0.545636</td>\n",
              "    </tr>\n",
              "    <tr>\n",
              "      <th>V25</th>\n",
              "      <td>-0.408260</td>\n",
              "    </tr>\n",
              "    <tr>\n",
              "      <th>V26</th>\n",
              "      <td>0.587603</td>\n",
              "    </tr>\n",
              "    <tr>\n",
              "      <th>V27</th>\n",
              "      <td>-0.745732</td>\n",
              "    </tr>\n",
              "    <tr>\n",
              "      <th>V28</th>\n",
              "      <td>11.400938</td>\n",
              "    </tr>\n",
              "    <tr>\n",
              "      <th>Amount</th>\n",
              "      <td>16.841622</td>\n",
              "    </tr>\n",
              "  </tbody>\n",
              "</table>\n",
              "</div><br><label><b>dtype:</b> float64</label>"
            ]
          },
          "metadata": {},
          "execution_count": 10
        }
      ],
      "source": [
        "df.drop('Class',axis=1).skew()"
      ]
    },
    {
      "cell_type": "code",
      "execution_count": null,
      "id": "d74277ea",
      "metadata": {
        "colab": {
          "base_uri": "https://localhost:8080/",
          "height": 467
        },
        "id": "d74277ea",
        "outputId": "289a5c2b-d0fb-4821-abec-b56ad7f9f328"
      },
      "outputs": [
        {
          "output_type": "execute_result",
          "data": {
            "text/plain": [
              "<Axes: xlabel='Amount', ylabel='Density'>"
            ]
          },
          "metadata": {},
          "execution_count": 11
        },
        {
          "output_type": "display_data",
          "data": {
            "text/plain": [
              "<Figure size 640x480 with 1 Axes>"
            ],
            "image/png": "[encoded data removed]"
          },
          "metadata": {}
        }
      ],
      "source": [
        "sns.kdeplot(df['Amount'])"
      ]
    },
    {
      "cell_type": "code",
      "execution_count": null,
      "id": "bd8cb1b8",
      "metadata": {
        "colab": {
          "base_uri": "https://localhost:8080/",
          "height": 466
        },
        "id": "bd8cb1b8",
        "outputId": "0d58c016-4e4d-401c-ca52-4bc58395eb1c"
      },
      "outputs": [
        {
          "output_type": "execute_result",
          "data": {
            "text/plain": [
              "<Axes: xlabel='Amount', ylabel='Density'>"
            ]
          },
          "metadata": {},
          "execution_count": 12
        },
        {
          "output_type": "display_data",
          "data": {
            "text/plain": [
              "<Figure size 640x480 with 1 Axes>"
            ],
            "image/png": "[encoded data removed]"
          },
          "metadata": {}
        }
      ],
      "source": [
        "df['Amount'] = df['Amount'].apply(lambda x: np.log10(x+1))\n",
        "sns.kdeplot(df['Amount'])"
      ]
    },
    {
      "cell_type": "markdown",
      "id": "284d6f22",
      "metadata": {
        "id": "284d6f22"
      },
      "source": [
        "## Creating a sub sample"
      ]
    },
    {
      "cell_type": "markdown",
      "id": "0a068d5c",
      "metadata": {
        "id": "0a068d5c"
      },
      "source": [
        "What - create a[](http://) df with equal number of fraud and non fraud samples  \n",
        "Why - Although we don't know what the \"V\" features stand for, it will be useful to understand how each of this features influence the target. By having an imbalance dataframe we are not able to see the true correlations between the class and features"
      ]
    },
    {
      "cell_type": "code",
      "execution_count": null,
      "id": "555570b8",
      "metadata": {
        "id": "555570b8"
      },
      "outputs": [],
      "source": [
        "df = df.sample(frac=1)\n",
        "\n",
        "fraud_df = df.loc[df['Class'] == 1]\n",
        "non_fraud_df = df.loc[df['Class'] == 0][:492]\n",
        "\n",
        "subsample = pd.concat([fraud_df, non_fraud_df])\n",
        "new_df = subsample.sample(frac=1, random_state=42)"
      ]
    },
    {
      "cell_type": "markdown",
      "id": "6ece260f",
      "metadata": {
        "id": "6ece260f"
      },
      "source": [
        "### Correlation"
      ]
    },
    {
      "cell_type": "code",
      "execution_count": null,
      "id": "b4be44b5",
      "metadata": {
        "colab": {
          "base_uri": "https://localhost:8080/",
          "height": 542
        },
        "id": "b4be44b5",
        "outputId": "1d228226-e0aa-471c-bfc7-ff548c6b9582"
      },
      "outputs": [
        {
          "output_type": "display_data",
          "data": {
            "text/html": [
              "<html>\n",
              "<head><meta charset=\"utf-8\" /></head>\n",
              "<body>\n",
              "    <div>            <script src=\"https://cdnjs.cloudflare.com/ajax/libs/mathjax/2.7.5/MathJax.js?config=TeX-AMS-MML_SVG\"></script><script type=\"text/javascript\">if (window.MathJax && window.MathJax.Hub && window.MathJax.Hub.Config) {window.MathJax.Hub.Config({SVG: {font: \"STIX-Web\"}});}</script>                <script type=\"text/javascript\">window.PlotlyConfig = {MathJaxConfig: 'local'};</script>\n",
              "        <script charset=\"utf-8\" src=\"https://cdn.plot.ly/plotly-2.35.2.min.js\"></script>                <div id=\"53091f5c-5463-44ee-8b51-7a7fc3849216\" class=\"plotly-graph-div\" style=\"height:525px; width:100%;\"></div>            <script type=\"text/javascript\">                                    window.PLOTLYENV=window.PLOTLYENV || {};                                    if (document.getElementById(\"53091f5c-5463-44ee-8b51-7a7fc3849216\")) {                    Plotly.newPlot(                        \"53091f5c-5463-44ee-8b51-7a7fc3849216\",                        [{\"coloraxis\":\"coloraxis\",\"name\":\"0\",\"x\":[\"V1\",\"V2\",\"V3\",\"V4\",\"V5\",\"V6\",\"V7\",\"V8\",\"V9\",\"V10\",\"V11\",\"V12\",\"V13\",\"V14\",\"V15\",\"V16\",\"V17\",\"V18\",\"V19\",\"V20\",\"V21\",\"V22\",\"V23\",\"V24\",\"V25\",\"V26\",\"V27\",\"V28\",\"Amount\",\"Class\"],\"y\":[\"V1\",\"V2\",\"V3\",\"V4\",\"V5\",\"V6\",\"V7\",\"V8\",\"V9\",\"V10\",\"V11\",\"V12\",\"V13\",\"V14\",\"V15\",\"V16\",\"V17\",\"V18\",\"V19\",\"V20\",\"V21\",\"V22\",\"V23\",\"V24\",\"V25\",\"V26\",\"V27\",\"V28\",\"Amount\",\"Class\"],\"z\":[[1.0,0.009002056630572545,0.005951870323344401,-0.00004173363772274779,-0.018592931394258473,-0.005788588932603622,-0.00684258829133607,-0.0004903017705976514,-0.007093188184084947,0.003115080433367426,-0.005238361152132097,-0.00522473265888786,0.00017607397170221474,-0.00016701663809473731,-0.008538155507659573,-0.006376158582724226,-0.0017092604947156823,-0.000037118125851330347,-0.0003657869812605344,0.00310853604853978,0.00600369503084623,0.003633859573936984,-0.007503985473868938,-0.009326773224502604,-0.00444613601829616,-0.002436423100703887,-0.014628053567676092,-0.003555006941166677,-0.07669206550361518,-0.0947182802740388],[0.009002056630572545,1.0,0.0049764204159175335,-0.00409478303282193,0.004654828151539649,0.004290266474645296,0.004866010897474983,0.003742693655932802,0.0011157645474232027,0.0027641737994163734,-0.0018084640177490328,0.0014801177085390675,0.0004607696108804429,0.00477173977860128,0.0011762916062601743,0.0026475607161065735,0.0013035840599432101,0.00036303790401863895,0.0011638151899724433,-0.00033887269809842774,-0.0038806719512789025,0.0029086740053363967,-0.0036886296217180986,0.0019735168281253585,-0.0028369314041972876,-0.0002960596857444676,0.007251624234862452,0.0014575992938978884,-0.45939752929647554,0.0847542548145464],[0.005951870323344401,0.0049764204159175335,1.0,-0.0007207506128839204,0.011019512449786448,0.014780101443837101,-0.01401559029072601,0.0037332102991636637,-0.0028955310476306397,-0.011064456582014024,0.003763268329471234,-0.0033654032642075654,-0.0007532888104511789,-0.008208455227591465,0.0033238924517765374,0.00033603306534791064,-0.0028131327390717004,-0.0038764479346072227,-0.0008279699688053037,-0.004587224438279665,0.001817856278022255,-0.004202923672142364,0.002183001796768546,0.009782012846899609,0.00409089826509037,0.003596060803817575,-0.008780490220863227,-0.002453994123024381,-0.053019096184096365,-0.18577174362070523],[-0.00004173363772274779,-0.00409478303282193,-0.0007207506128839204,1.0,0.0067101849173773365,0.012534619986162199,0.0008061613152964739,0.004996484520262636,0.0013954678785992073,0.003366394372718441,-0.004401812026915811,0.0005605366567563344,0.0003324007482058719,0.005335596702448652,0.0040450918954562124,0.0017826285626818116,0.0016328679540392708,0.0015686647749630518,0.005018282953490877,0.0011654100961733377,-0.0006225862056653796,0.001580969531220983,-0.00015475367372599815,0.005759384705327866,0.00017302609596239724,-0.0011052679713744755,0.0025173272107862276,0.000028447013289844472,-0.0006991724135757331,0.13031328765078767],[-0.018592931394258473,0.004654828151539649,0.011019512449786448,0.0067101849173773365,1.0,-0.02970078573583312,-0.00910663250158034,-0.0026052875224071704,-0.0007861995616428391,-0.0028177407252066113,-0.002965157540390895,-0.00034277222928875853,0.0012005945355470398,0.005174527525292259,-0.007121994543521175,-0.004147091486085937,-0.005421946975850599,-0.003108216609259918,0.0003505660226590892,-0.0007880754250582507,0.003439227658851933,0.002971456770964536,-0.0010578383026698013,-0.012633613332770079,-0.004862304415897445,-0.001568475495583611,-0.00611567943572026,-0.0007109361143902242,-0.2852020730073748,-0.08864223740340448],[-0.005788588932603622,0.004290266474645296,0.014780101443837101,0.012534619986162199,-0.02970078573583312,1.0,0.013087429720545633,-0.012300897072016564,-0.002289899443472992,-0.0027228856396609006,0.000445954920789717,0.0042880059623518285,-0.00013954654889488142,0.00017772529829543512,-0.009362574711093027,-0.00253797384094515,0.0017467394403829209,0.0007341181373794411,0.0008803306295041027,-0.0018348819521772594,-0.0015842250415121595,0.002355047652428103,-0.0002208036105657777,-0.02109767327229262,-0.0066732637113854874,0.000701899913872657,-0.0015773843269396444,0.0006170632194785834,0.1759404069423609,-0.04477665579579228],[-0.00684258829133607,0.004866010897474983,-0.01401559029072601,0.0008061613152964739,-0.00910663250158034,0.013087429720545633,1.0,-0.0009866326473793115,-0.0016570505889460586,-0.012245575367022867,0.0017312862293721442,-0.0073777709474546925,0.001019065433844198,-0.00200638216390505,0.002164699457077275,-0.0035533675012728266,-0.009984959755663093,-0.004092121223165877,0.0005896092117488854,-0.002195827334779802,0.00863473021160289,-0.0017008984979524076,0.003458050788061949,0.005375437011175877,0.002069807897952418,-0.000458838367903039,-0.0039772198732289515,0.0013292721181326693,0.09665909375065408,-0.17329184536211983],[-0.0004903017705976514,0.003742693655932802,0.0037332102991636637,0.004996484520262636,-0.0026052875224071704,-0.012300897072016564,-0.0009866326473793115,1.0,0.00016845994784141336,0.00023852276984056255,0.005165137776894999,-0.0041336876956652585,-0.0013413330919203857,-0.009568384289532293,-0.002322346439935685,-0.006868307858294777,-0.00604914338427397,-0.0020921198093683136,0.0008553714180541992,0.0005621589466952287,0.01880555347464142,-0.005181868541497011,0.006461216507352117,-0.006000318559470825,-0.002826501198408391,-0.0011224898419865351,-0.00010826667669565166,0.00020087170096169565,-0.021610377555365524,0.03336438460284824],[-0.007093188184084947,0.0011157645474232027,-0.0028955310476306397,0.0013954678785992073,-0.0007861995616428391,-0.002289899443472992,-0.0016570505889460586,0.00016845994784141336,1.0,-0.004956960977232592,-0.0015831315122645617,0.00022093464914149378,-0.0002590626900248756,-0.005124874206624845,-0.004912272336986106,0.0026803399946648005,-0.0004875404325190588,-0.0009567733050660707,-0.0009356707772170365,0.0006125813121428112,0.0017444713839399133,0.0007417622746538134,-0.001739260016123741,-0.0024540913158739817,-0.0003576586860807672,0.005307459170163517,0.008065890934748634,0.006486668776329401,-0.07379718375060197,-0.09458275894222173],[0.003115080433367426,0.0027641737994163734,-0.011064456582014024,0.003366394372718441,-0.0028177407252066113,-0.0027228856396609006,-0.012245575367022867,0.00023852276984056255,-0.004956960977232592,1.0,0.00521132591381335,-0.007394681979456942,0.0008896964509361424,-0.004615922267140997,0.0033660109027974674,-0.00363716506754068,-0.0018408332602425203,0.0009112200184281939,0.00037902910886743543,-0.004506172251323113,0.002395501101821202,-0.003012080922121306,0.0017604510466673016,0.0010149187965122573,0.002499102817601494,-0.0008588947666105404,0.011495357691488147,0.009956260833450283,-0.016495040286124214,-0.20810420388533507],[-0.005238361152132097,-0.0018084640177490328,0.003763268329471234,-0.004401812026915811,-0.002965157540390895,0.000445954920789717,0.0017312862293721442,0.005165137776894999,-0.0015831315122645617,0.00521132591381335,1.0,0.0038569701711925275,0.0013722399585872163,0.010051637591902434,-0.0023817677004227306,0.0010450899175577886,0.00012728508810095336,-0.0017349245158464197,0.0020675542539909204,-0.0002896766792570807,-0.0023308194112002705,0.0008035998110590896,-0.000839046972399684,0.0015836370718236164,-0.0032093521987375364,-0.002064526667881368,0.0024347043516285147,0.0021758658346354644,-0.04305344263458032,0.15126045335714222],[-0.00522473265888786,0.0014801177085390675,-0.0033654032642075654,0.0005605366567563344,-0.00034277222928875853,0.0042880059623518285,-0.0073777709474546925,-0.0041336876956652585,0.00022093464914149378,-0.007394681979456942,0.0038569701711925275,1.0,0.002532314364047478,-0.004060598916457902,0.0017273304728851603,-0.00769227914987979,-0.007394531288473332,-0.0007609712734102358,-0.0017433222825322808,0.0020413560807988097,0.0041920834040635405,0.002966654468970723,-0.0011010633955008545,0.0016954532680858658,0.0007319178597714636,-0.00201088382391858,-0.0007758604396771375,-0.0001730304780358422,-0.011033406249319566,-0.25314979499998214],[0.00017607397170221474,0.0004607696108804429,-0.0007532888104511789,0.0003324007482058719,0.0012005945355470398,-0.00013954654889488142,0.001019065433844198,-0.0013413330919203857,-0.0002590626900248756,0.0008896964509361424,0.0013722399585872163,0.002532314364047478,1.0,-0.0034795667118206744,0.002514568842396229,-0.0022096783650526457,-0.0003147036842397409,0.0008394873375494754,0.001071557038327193,-0.0006206148356032088,0.0011005453910092988,0.0002135260322736898,0.0007110910522849193,-0.0010140681867751053,-0.000059110392989139415,0.0008868780941754959,-0.0014510102497143028,-0.00037975057588769055,-0.006205009221444238,-0.003934245314299071],[-0.00016701663809473731,0.00477173977860128,-0.008208455227591465,0.005335596702448652,0.005174527525292259,0.00017772529829543512,-0.00200638216390505,-0.009568384289532293,-0.005124874206624845,-0.004615922267140997,0.010051637591902434,-0.004060598916457902,-0.0034795667118206744,1.0,0.002624483631610549,-0.0033203068499791325,0.0009197230024973308,0.0014131471241991523,-0.0007510941548647705,0.0036834571970601193,0.00471062737538165,-0.004794790558039072,0.0009289389054848204,0.00033180031929476797,0.0020768168575141695,0.0014042703420475784,-0.0038284420292790554,-0.0031782024265970825,0.021382782639851067,-0.2975497797564535],[-0.008538155507659573,0.0011762916062601743,0.0033238924517765374,0.0040450918954562124,-0.007121994543521175,-0.009362574711093027,0.002164699457077275,-0.002322346439935685,-0.004912272336986106,0.0033660109027974674,-0.0023817677004227306,0.0017273304728851603,0.002514568842396229,0.002624483631610549,1.0,-0.0049167803684992155,-0.0006027072808328922,-0.0008590147198242398,0.0033865340764305824,0.00037508917068983233,0.001137299263774391,0.00257900321349591,0.0007269407316842074,-0.008460676558177652,-0.008245117506922976,0.0019241521230987967,-0.0014722700182017905,0.00015627937832887867,-0.05445302096354163,-0.0028239661450143497],[-0.006376158582724226,0.0026475607161065735,0.00033603306534791064,0.0017826285626818116,-0.004147091486085937,-0.00253797384094515,-0.0035533675012728266,-0.006868307858294777,0.0026803399946648005,-0.00363716506754068,0.0010450899175577886,-0.00769227914987979,-0.0022096783650526457,-0.0033203068499791325,-0.0049167803684992155,1.0,-0.010046388062466414,-0.009275590059228178,0.002407359430201615,0.0004240054532788011,0.005267154400499189,0.003296088252852073,0.0015241836118114905,-0.004436914287114969,-0.0024636512169706496,-0.004494645380977317,-0.0035279778069093855,-0.0018546665914331354,-0.09729387167350627,-0.1882215058193164],[-0.0017092604947156823,0.0013035840599432101,-0.0028131327390717004,0.0016328679540392708,-0.005421946975850599,0.0017467394403829209,-0.009984959755663093,-0.00604914338427397,-0.0004875404325190588,-0.0018408332602425203,0.00012728508810095336,-0.007394531288473332,-0.0003147036842397409,0.0009197230024973308,-0.0006027072808328922,-0.010046388062466414,1.0,-0.007602083690617812,0.007939819203282855,0.0012085000319452463,0.004162723774863684,0.0005457665567498576,0.002412041345931686,0.004598973463231411,-0.0033430327529155,-0.0010902404860177108,-0.0035970763985635422,-0.003586835164462782,0.016922759734357445,-0.31720194703318305],[-0.000037118125851330347,0.00036303790401863895,-0.0038764479346072227,0.0015686647749630518,-0.003108216609259918,0.0007341181373794411,-0.004092121223165877,-0.0020921198093683136,-0.0009567733050660707,0.0009112200184281939,-0.0017349245158464197,-0.0007609712734102358,0.0008394873375494754,0.0014131471241991523,-0.0008590147198242398,-0.009275590059228178,-0.007602083690617812,1.0,0.0003894537185009075,-0.00018506842718458982,0.0006194270891825678,-0.004321380435269518,0.003487514730672672,-0.0008359690508370363,-0.0052309570068276665,0.00358347830406056,-0.005176455822270734,-0.0018988674568861837,0.0441865087147037,-0.10644692553081293],[-0.0003657869812605344,0.0011638151899724433,-0.0008279699688053037,0.005018282953490877,0.0003505660226590892,0.0008803306295041027,0.0005896092117488854,0.0008553714180541992,-0.0009356707772170365,0.00037902910886743543,0.0020675542539909204,-0.0017433222825322808,0.001071557038327193,-0.0007510941548647705,0.0033865340764305824,0.002407359430201615,0.007939819203282855,0.0003894537185009075,1.0,-0.0008462799424581418,0.0008855134322266981,0.0035208642995498444,-0.0003568083569355373,-0.0014100893491833107,0.0004653675644517886,0.0009070515999730337,-0.000010973789013417678,0.0008126304744584763,-0.015601526945530438,0.0337841315241556],[0.00310853604853978,-0.00033887269809842774,-0.004587224438279665,0.0011654100961733377,-0.0007880754250582507,-0.0018348819521772594,-0.002195827334779802,0.0005621589466952287,0.0006125813121428112,-0.004506172251323113,-0.0002896766792570807,0.0020413560807988097,-0.0006206148356032088,0.0036834571970601193,0.00037508917068983233,0.0004240054532788011,0.0012085000319452463,-0.00018506842718458982,-0.0008462799424581418,1.0,0.004391631543174919,-0.00232153185709634,0.000747605451836324,0.00013230040224703106,-1.2698991007310797e-6,-0.00030437091379312996,-0.00009623569420517784,0.0018278487908436841,0.1425680545106231,0.021349134626457895],[0.00600369503084623,-0.0038806719512789025,0.001817856278022255,-0.0006225862056653796,0.003439227658851933,-0.0015842250415121595,0.00863473021160289,0.01880555347464142,0.0017444713839399133,0.002395501101821202,-0.0023308194112002705,0.0041920834040635405,0.0011005453910092988,0.00471062737538165,0.001137299263774391,0.005267154400499189,0.004162723774863684,0.0006194270891825678,0.0008855134322266981,0.004391631543174919,1.0,0.0017951267485505538,-0.0043357951089362835,0.002943329531566183,-0.0012993410572347429,0.0008275390972013011,-0.005524039706815527,-0.004461160639097417,0.08325734243773053,0.026239135618532815],[0.003633859573936984,0.0029086740053363967,-0.004202923672142364,0.001580969531220983,0.002971456770964536,0.002355047652428103,-0.0017008984979524076,-0.005181868541497011,0.0007417622746538134,-0.003012080922121306,0.0008035998110590896,0.002966654468970723,0.0002135260322736898,-0.004794790558039072,0.00257900321349591,0.003296088252852073,0.0005457665567498576,-0.004321380435269518,0.0035208642995498444,-0.00232153185709634,0.0017951267485505538,1.0,0.00616063481671794,0.004007631493735369,-0.002330756330724644,0.004308780678511068,0.0016856153718819318,0.0016703357452039736,0.035467865633736446,0.004612376174770526],[-0.007503985473868938,-0.0036886296217180986,0.002183001796768546,-0.00015475367372599815,-0.0010578383026698013,-0.0002208036105657777,0.003458050788061949,0.006461216507352117,-0.001739260016123741,0.0017604510466673016,-0.000839046972399684,-0.0011010633955008545,0.0007110910522849193,0.0009289389054848204,0.0007269407316842074,0.0015241836118114905,0.002412041345931686,0.003487514730672672,-0.0003568083569355373,0.000747605451836324,-0.0043357951089362835,0.00616063481671794,1.0,-0.0011911345613579755,0.00362451113603261,-0.0021047329234190073,-0.0015197357777630841,-0.0027191923469285528,-0.02506044623372637,-0.006206025561580694],[-0.009326773224502604,0.0019735168281253585,0.009782012846899609,0.005759384705327866,-0.012633613332770079,-0.02109767327229262,0.005375437011175877,-0.006000318559470825,-0.0024540913158739817,0.0010149187965122573,0.0015836370718236164,0.0016954532680858658,-0.0010140681867751053,0.00033180031929476797,-0.008460676558177652,-0.004436914287114969,0.004598973463231411,-0.0008359690508370363,-0.0014100893491833107,0.00013230040224703106,0.002943329531566183,0.004007631493735369,-0.0011911345613579755,1.0,-0.007006715089922295,0.0015263545489949794,-0.0013154128149647272,0.00008562142586952436,-0.004790119342803636,-0.00683106730931031],[-0.00444613601829616,-0.0028369314041972876,0.00409089826509037,0.00017302609596239724,-0.004862304415897445,-0.0066732637113854874,0.002069807897952418,-0.002826501198408391,-0.0003576586860807672,0.002499102817601494,-0.0032093521987375364,0.0007319178597714636,-0.000059110392989139415,0.0020768168575141695,-0.008245117506922976,-0.0024636512169706496,-0.0033430327529155,-0.0052309570068276665,0.0004653675644517886,-1.2698991007310797e-6,-0.0012993410572347429,-0.002330756330724644,0.00362451113603261,-0.007006715089922295,1.0,0.004573576764907883,-0.0019952735762459053,-0.0012281791648253025,0.006831989076374246,0.003592986720025449],[-0.002436423100703887,-0.0002960596857444676,0.003596060803817575,-0.0011052679713744755,-0.001568475495583611,0.000701899913872657,-0.000458838367903039,-0.0011224898419865351,0.005307459170163517,-0.0008588947666105404,-0.002064526667881368,-0.00201088382391858,0.0008868780941754959,0.0014042703420475784,0.0019241521230987967,-0.004494645380977317,-0.0010902404860177108,0.00358347830406056,0.0009070515999730337,-0.00030437091379312996,0.0008275390972013011,0.004308780678511068,-0.0021047329234190073,0.0015263545489949794,0.004573576764907883,1.0,-0.0009584412161369937,-0.0005696018274223293,-0.015344104977860882,0.004341289204197934],[-0.014628053567676092,0.007251624234862452,-0.008780490220863227,0.0025173272107862276,-0.00611567943572026,-0.0015773843269396444,-0.0039772198732289515,-0.00010826667669565166,0.008065890934748634,0.011495357691488147,0.0024347043516285147,-0.0007758604396771375,-0.0014510102497143028,-0.0038284420292790554,-0.0014722700182017905,-0.0035279778069093855,-0.0035970763985635422,-0.005176455822270734,-0.000010973789013417678,-0.00009623569420517784,-0.005524039706815527,0.0016856153718819318,-0.0015197357777630841,-0.0013154128149647272,-0.0019952735762459053,-0.0009584412161369937,1.0,-0.014434631792928303,-0.04829631949944511,0.021888244417407145],[-0.003555006941166677,0.0014575992938978884,-0.002453994123024381,0.000028447013289844472,-0.0007109361143902242,0.0006170632194785834,0.0013292721181326693,0.00020087170096169565,0.006486668776329401,0.009956260833450283,0.0021758658346354644,-0.0001730304780358422,-0.00037975057588769055,-0.0031782024265970825,0.00015627937832887867,-0.0018546665914331354,-0.003586835164462782,-0.0018988674568861837,0.0008126304744584763,0.0018278487908436841,-0.004461160639097417,0.0016703357452039736,-0.0027191923469285528,0.00008562142586952436,-0.0012281791648253025,-0.0005696018274223293,-0.014434631792928303,1.0,-0.0034362894740963498,0.009642345399190523],[-0.07669206550361518,-0.45939752929647554,-0.053019096184096365,-0.0006991724135757331,-0.2852020730073748,0.1759404069423609,0.09665909375065408,-0.021610377555365524,-0.07379718375060197,-0.016495040286124214,-0.04305344263458032,-0.011033406249319566,-0.006205009221444238,0.021382782639851067,-0.05445302096354163,-0.09729387167350627,0.016922759734357445,0.0441865087147037,-0.015601526945530438,0.1425680545106231,0.08325734243773053,0.035467865633736446,-0.02506044623372637,-0.004790119342803636,0.006831989076374246,-0.015344104977860882,-0.04829631949944511,-0.0034362894740963498,1.0,-0.009151675909696202],[-0.0947182802740388,0.0847542548145464,-0.18577174362070523,0.13031328765078767,-0.08864223740340448,-0.04477665579579228,-0.17329184536211983,0.03336438460284824,-0.09458275894222173,-0.20810420388533507,0.15126045335714222,-0.25314979499998214,-0.003934245314299071,-0.2975497797564535,-0.0028239661450143497,-0.1882215058193164,-0.31720194703318305,-0.10644692553081293,0.0337841315241556,0.021349134626457895,0.026239135618532815,0.004612376174770526,-0.006206025561580694,-0.00683106730931031,0.003592986720025449,0.004341289204197934,0.021888244417407145,0.009642345399190523,-0.009151675909696202,1.0]],\"type\":\"heatmap\",\"xaxis\":\"x\",\"yaxis\":\"y\",\"hovertemplate\":\"x: %{x}\\u003cbr\\u003ey: %{y}\\u003cbr\\u003ecolor: %{z}\\u003cextra\\u003e\\u003c\\u002fextra\\u003e\"}],                        {\"template\":{\"data\":{\"histogram2dcontour\":[{\"type\":\"histogram2dcontour\",\"colorbar\":{\"outlinewidth\":0,\"ticks\":\"\"},\"colorscale\":[[0.0,\"#0d0887\"],[0.1111111111111111,\"#46039f\"],[0.2222222222222222,\"#7201a8\"],[0.3333333333333333,\"#9c179e\"],[0.4444444444444444,\"#bd3786\"],[0.5555555555555556,\"#d8576b\"],[0.6666666666666666,\"#ed7953\"],[0.7777777777777778,\"#fb9f3a\"],[0.8888888888888888,\"#fdca26\"],[1.0,\"#f0f921\"]]}],\"choropleth\":[{\"type\":\"choropleth\",\"colorbar\":{\"outlinewidth\":0,\"ticks\":\"\"}}],\"histogram2d\":[{\"type\":\"histogram2d\",\"colorbar\":{\"outlinewidth\":0,\"ticks\":\"\"},\"colorscale\":[[0.0,\"#0d0887\"],[0.1111111111111111,\"#46039f\"],[0.2222222222222222,\"#7201a8\"],[0.3333333333333333,\"#9c179e\"],[0.4444444444444444,\"#bd3786\"],[0.5555555555555556,\"#d8576b\"],[0.6666666666666666,\"#ed7953\"],[0.7777777777777778,\"#fb9f3a\"],[0.8888888888888888,\"#fdca26\"],[1.0,\"#f0f921\"]]}],\"heatmap\":[{\"type\":\"heatmap\",\"colorbar\":{\"outlinewidth\":0,\"ticks\":\"\"},\"colorscale\":[[0.0,\"#0d0887\"],[0.1111111111111111,\"#46039f\"],[0.2222222222222222,\"#7201a8\"],[0.3333333333333333,\"#9c179e\"],[0.4444444444444444,\"#bd3786\"],[0.5555555555555556,\"#d8576b\"],[0.6666666666666666,\"#ed7953\"],[0.7777777777777778,\"#fb9f3a\"],[0.8888888888888888,\"#fdca26\"],[1.0,\"#f0f921\"]]}],\"heatmapgl\":[{\"type\":\"heatmapgl\",\"colorbar\":{\"outlinewidth\":0,\"ticks\":\"\"},\"colorscale\":[[0.0,\"#0d0887\"],[0.1111111111111111,\"#46039f\"],[0.2222222222222222,\"#7201a8\"],[0.3333333333333333,\"#9c179e\"],[0.4444444444444444,\"#bd3786\"],[0.5555555555555556,\"#d8576b\"],[0.6666666666666666,\"#ed7953\"],[0.7777777777777778,\"#fb9f3a\"],[0.8888888888888888,\"#fdca26\"],[1.0,\"#f0f921\"]]}],\"contourcarpet\":[{\"type\":\"contourcarpet\",\"colorbar\":{\"outlinewidth\":0,\"ticks\":\"\"}}],\"contour\":[{\"type\":\"contour\",\"colorbar\":{\"outlinewidth\":0,\"ticks\":\"\"},\"colorscale\":[[0.0,\"#0d0887\"],[0.1111111111111111,\"#46039f\"],[0.2222222222222222,\"#7201a8\"],[0.3333333333333333,\"#9c179e\"],[0.4444444444444444,\"#bd3786\"],[0.5555555555555556,\"#d8576b\"],[0.6666666666666666,\"#ed7953\"],[0.7777777777777778,\"#fb9f3a\"],[0.8888888888888888,\"#fdca26\"],[1.0,\"#f0f921\"]]}],\"surface\":[{\"type\":\"surface\",\"colorbar\":{\"outlinewidth\":0,\"ticks\":\"\"},\"colorscale\":[[0.0,\"#0d0887\"],[0.1111111111111111,\"#46039f\"],[0.2222222222222222,\"#7201a8\"],[0.3333333333333333,\"#9c179e\"],[0.4444444444444444,\"#bd3786\"],[0.5555555555555556,\"#d8576b\"],[0.6666666666666666,\"#ed7953\"],[0.7777777777777778,\"#fb9f3a\"],[0.8888888888888888,\"#fdca26\"],[1.0,\"#f0f921\"]]}],\"mesh3d\":[{\"type\":\"mesh3d\",\"colorbar\":{\"outlinewidth\":0,\"ticks\":\"\"}}],\"scatter\":[{\"fillpattern\":{\"fillmode\":\"overlay\",\"size\":10,\"solidity\":0.2},\"type\":\"scatter\"}],\"parcoords\":[{\"type\":\"parcoords\",\"line\":{\"colorbar\":{\"outlinewidth\":0,\"ticks\":\"\"}}}],\"scatterpolargl\":[{\"type\":\"scatterpolargl\",\"marker\":{\"colorbar\":{\"outlinewidth\":0,\"ticks\":\"\"}}}],\"bar\":[{\"error_x\":{\"color\":\"#2a3f5f\"},\"error_y\":{\"color\":\"#2a3f5f\"},\"marker\":{\"line\":{\"color\":\"#E5ECF6\",\"width\":0.5},\"pattern\":{\"fillmode\":\"overlay\",\"size\":10,\"solidity\":0.2}},\"type\":\"bar\"}],\"scattergeo\":[{\"type\":\"scattergeo\",\"marker\":{\"colorbar\":{\"outlinewidth\":0,\"ticks\":\"\"}}}],\"scatterpolar\":[{\"type\":\"scatterpolar\",\"marker\":{\"colorbar\":{\"outlinewidth\":0,\"ticks\":\"\"}}}],\"histogram\":[{\"marker\":{\"pattern\":{\"fillmode\":\"overlay\",\"size\":10,\"solidity\":0.2}},\"type\":\"histogram\"}],\"scattergl\":[{\"type\":\"scattergl\",\"marker\":{\"colorbar\":{\"outlinewidth\":0,\"ticks\":\"\"}}}],\"scatter3d\":[{\"type\":\"scatter3d\",\"line\":{\"colorbar\":{\"outlinewidth\":0,\"ticks\":\"\"}},\"marker\":{\"colorbar\":{\"outlinewidth\":0,\"ticks\":\"\"}}}],\"scattermapbox\":[{\"type\":\"scattermapbox\",\"marker\":{\"colorbar\":{\"outlinewidth\":0,\"ticks\":\"\"}}}],\"scatterternary\":[{\"type\":\"scatterternary\",\"marker\":{\"colorbar\":{\"outlinewidth\":0,\"ticks\":\"\"}}}],\"scattercarpet\":[{\"type\":\"scattercarpet\",\"marker\":{\"colorbar\":{\"outlinewidth\":0,\"ticks\":\"\"}}}],\"carpet\":[{\"aaxis\":{\"endlinecolor\":\"#2a3f5f\",\"gridcolor\":\"white\",\"linecolor\":\"white\",\"minorgridcolor\":\"white\",\"startlinecolor\":\"#2a3f5f\"},\"baxis\":{\"endlinecolor\":\"#2a3f5f\",\"gridcolor\":\"white\",\"linecolor\":\"white\",\"minorgridcolor\":\"white\",\"startlinecolor\":\"#2a3f5f\"},\"type\":\"carpet\"}],\"table\":[{\"cells\":{\"fill\":{\"color\":\"#EBF0F8\"},\"line\":{\"color\":\"white\"}},\"header\":{\"fill\":{\"color\":\"#C8D4E3\"},\"line\":{\"color\":\"white\"}},\"type\":\"table\"}],\"barpolar\":[{\"marker\":{\"line\":{\"color\":\"#E5ECF6\",\"width\":0.5},\"pattern\":{\"fillmode\":\"overlay\",\"size\":10,\"solidity\":0.2}},\"type\":\"barpolar\"}],\"pie\":[{\"automargin\":true,\"type\":\"pie\"}]},\"layout\":{\"autotypenumbers\":\"strict\",\"colorway\":[\"#636efa\",\"#EF553B\",\"#00cc96\",\"#ab63fa\",\"#FFA15A\",\"#19d3f3\",\"#FF6692\",\"#B6E880\",\"#FF97FF\",\"#FECB52\"],\"font\":{\"color\":\"#2a3f5f\"},\"hovermode\":\"closest\",\"hoverlabel\":{\"align\":\"left\"},\"paper_bgcolor\":\"white\",\"plot_bgcolor\":\"#E5ECF6\",\"polar\":{\"bgcolor\":\"#E5ECF6\",\"angularaxis\":{\"gridcolor\":\"white\",\"linecolor\":\"white\",\"ticks\":\"\"},\"radialaxis\":{\"gridcolor\":\"white\",\"linecolor\":\"white\",\"ticks\":\"\"}},\"ternary\":{\"bgcolor\":\"#E5ECF6\",\"aaxis\":{\"gridcolor\":\"white\",\"linecolor\":\"white\",\"ticks\":\"\"},\"baxis\":{\"gridcolor\":\"white\",\"linecolor\":\"white\",\"ticks\":\"\"},\"caxis\":{\"gridcolor\":\"white\",\"linecolor\":\"white\",\"ticks\":\"\"}},\"coloraxis\":{\"colorbar\":{\"outlinewidth\":0,\"ticks\":\"\"}},\"colorscale\":{\"sequential\":[[0.0,\"#0d0887\"],[0.1111111111111111,\"#46039f\"],[0.2222222222222222,\"#7201a8\"],[0.3333333333333333,\"#9c179e\"],[0.4444444444444444,\"#bd3786\"],[0.5555555555555556,\"#d8576b\"],[0.6666666666666666,\"#ed7953\"],[0.7777777777777778,\"#fb9f3a\"],[0.8888888888888888,\"#fdca26\"],[1.0,\"#f0f921\"]],\"sequentialminus\":[[0.0,\"#0d0887\"],[0.1111111111111111,\"#46039f\"],[0.2222222222222222,\"#7201a8\"],[0.3333333333333333,\"#9c179e\"],[0.4444444444444444,\"#bd3786\"],[0.5555555555555556,\"#d8576b\"],[0.6666666666666666,\"#ed7953\"],[0.7777777777777778,\"#fb9f3a\"],[0.8888888888888888,\"#fdca26\"],[1.0,\"#f0f921\"]],\"diverging\":[[0,\"#8e0152\"],[0.1,\"#c51b7d\"],[0.2,\"#de77ae\"],[0.3,\"#f1b6da\"],[0.4,\"#fde0ef\"],[0.5,\"#f7f7f7\"],[0.6,\"#e6f5d0\"],[0.7,\"#b8e186\"],[0.8,\"#7fbc41\"],[0.9,\"#4d9221\"],[1,\"#276419\"]]},\"xaxis\":{\"gridcolor\":\"white\",\"linecolor\":\"white\",\"ticks\":\"\",\"title\":{\"standoff\":15},\"zerolinecolor\":\"white\",\"automargin\":true,\"zerolinewidth\":2},\"yaxis\":{\"gridcolor\":\"white\",\"linecolor\":\"white\",\"ticks\":\"\",\"title\":{\"standoff\":15},\"zerolinecolor\":\"white\",\"automargin\":true,\"zerolinewidth\":2},\"scene\":{\"xaxis\":{\"backgroundcolor\":\"#E5ECF6\",\"gridcolor\":\"white\",\"linecolor\":\"white\",\"showbackground\":true,\"ticks\":\"\",\"zerolinecolor\":\"white\",\"gridwidth\":2},\"yaxis\":{\"backgroundcolor\":\"#E5ECF6\",\"gridcolor\":\"white\",\"linecolor\":\"white\",\"showbackground\":true,\"ticks\":\"\",\"zerolinecolor\":\"white\",\"gridwidth\":2},\"zaxis\":{\"backgroundcolor\":\"#E5ECF6\",\"gridcolor\":\"white\",\"linecolor\":\"white\",\"showbackground\":true,\"ticks\":\"\",\"zerolinecolor\":\"white\",\"gridwidth\":2}},\"shapedefaults\":{\"line\":{\"color\":\"#2a3f5f\"}},\"annotationdefaults\":{\"arrowcolor\":\"#2a3f5f\",\"arrowhead\":0,\"arrowwidth\":1},\"geo\":{\"bgcolor\":\"white\",\"landcolor\":\"#E5ECF6\",\"subunitcolor\":\"white\",\"showland\":true,\"showlakes\":true,\"lakecolor\":\"white\"},\"title\":{\"x\":0.05},\"mapbox\":{\"style\":\"light\"}}},\"xaxis\":{\"anchor\":\"y\",\"domain\":[0.0,1.0]},\"yaxis\":{\"anchor\":\"x\",\"domain\":[0.0,1.0],\"autorange\":\"reversed\"},\"coloraxis\":{\"colorscale\":[[0.0,\"rgb(5,48,97)\"],[0.1,\"rgb(33,102,172)\"],[0.2,\"rgb(67,147,195)\"],[0.3,\"rgb(146,197,222)\"],[0.4,\"rgb(209,229,240)\"],[0.5,\"rgb(247,247,247)\"],[0.6,\"rgb(253,219,199)\"],[0.7,\"rgb(244,165,130)\"],[0.8,\"rgb(214,96,77)\"],[0.9,\"rgb(178,24,43)\"],[1.0,\"rgb(103,0,31)\"]]},\"margin\":{\"t\":60}},                        {\"responsive\": true}                    ).then(function(){\n",
              "                            \n",
              "var gd = document.getElementById('53091f5c-5463-44ee-8b51-7a7fc3849216');\n",
              "var x = new MutationObserver(function (mutations, observer) {{\n",
              "        var display = window.getComputedStyle(gd).display;\n",
              "        if (!display || display === 'none') {{\n",
              "            console.log([gd, 'removed!']);\n",
              "            Plotly.purge(gd);\n",
              "            observer.disconnect();\n",
              "        }}\n",
              "}});\n",
              "\n",
              "// Listen for the removal of the full notebook cells\n",
              "var notebookContainer = gd.closest('#notebook-container');\n",
              "if (notebookContainer) {{\n",
              "    x.observe(notebookContainer, {childList: true});\n",
              "}}\n",
              "\n",
              "// Listen for the clearing of the current output cell\n",
              "var outputEl = gd.closest('.output');\n",
              "if (outputEl) {{\n",
              "    x.observe(outputEl, {childList: true});\n",
              "}}\n",
              "\n",
              "                        })                };                            </script>        </div>\n",
              "</body>\n",
              "</html>"
            ]
          },
          "metadata": {}
        }
      ],
      "source": [
        "corr = df.corr()\n",
        "fig=px.imshow(corr, aspect=\"auto\" ,color_continuous_scale='RdBu_r')\n",
        "fig.show()"
      ]
    },
    {
      "cell_type": "code",
      "execution_count": null,
      "id": "3c160557",
      "metadata": {
        "colab": {
          "base_uri": "https://localhost:8080/",
          "height": 542
        },
        "id": "3c160557",
        "outputId": "02f3c01f-d93f-45f5-82c2-511d35800018"
      },
      "outputs": [
        {
          "output_type": "display_data",
          "data": {
            "text/html": [
              "<html>\n",
              "<head><meta charset=\"utf-8\" /></head>\n",
              "<body>\n",
              "    <div>            <script src=\"https://cdnjs.cloudflare.com/ajax/libs/mathjax/2.7.5/MathJax.js?config=TeX-AMS-MML_SVG\"></script><script type=\"text/javascript\">if (window.MathJax && window.MathJax.Hub && window.MathJax.Hub.Config) {window.MathJax.Hub.Config({SVG: {font: \"STIX-Web\"}});}</script>                <script type=\"text/javascript\">window.PlotlyConfig = {MathJaxConfig: 'local'};</script>\n",
              "        <script charset=\"utf-8\" src=\"https://cdn.plot.ly/plotly-2.35.2.min.js\"></script>                <div id=\"0ae4f681-d0bb-44d0-8470-c4a20295402a\" class=\"plotly-graph-div\" style=\"height:525px; width:100%;\"></div>            <script type=\"text/javascript\">                                    window.PLOTLYENV=window.PLOTLYENV || {};                                    if (document.getElementById(\"0ae4f681-d0bb-44d0-8470-c4a20295402a\")) {                    Plotly.newPlot(                        \"0ae4f681-d0bb-44d0-8470-c4a20295402a\",                        [{\"coloraxis\":\"coloraxis\",\"name\":\"0\",\"x\":[\"V1\",\"V2\",\"V3\",\"V4\",\"V5\",\"V6\",\"V7\",\"V8\",\"V9\",\"V10\",\"V11\",\"V12\",\"V13\",\"V14\",\"V15\",\"V16\",\"V17\",\"V18\",\"V19\",\"V20\",\"V21\",\"V22\",\"V23\",\"V24\",\"V25\",\"V26\",\"V27\",\"V28\",\"Amount\",\"Class\"],\"y\":[\"V1\",\"V2\",\"V3\",\"V4\",\"V5\",\"V6\",\"V7\",\"V8\",\"V9\",\"V10\",\"V11\",\"V12\",\"V13\",\"V14\",\"V15\",\"V16\",\"V17\",\"V18\",\"V19\",\"V20\",\"V21\",\"V22\",\"V23\",\"V24\",\"V25\",\"V26\",\"V27\",\"V28\",\"Amount\",\"Class\"],\"z\":[[1.0,-0.7818293335094145,0.8752931232817142,-0.5932927770774414,0.8617169586031755,0.3532945748735391,0.8710763468361642,-0.2181441775340542,0.645288377600857,0.714819177597783,-0.51149642842754,0.5763596118502061,-0.10080524667723542,0.42035545623648946,0.08634266446627505,0.6171361095654091,0.6617621602467181,0.6623614604559104,-0.3074823822162565,-0.312825926486002,0.13665917556612056,-0.12192619716344769,-0.007707309113674912,-0.057209507284073494,-0.10137141493451578,0.04003689009749641,0.09392222250076014,0.19614681801404424,-0.05056693486796238,-0.4141523367062393],[-0.7818293335094145,1.0,-0.8589368614715793,0.685322389225885,-0.7832528985016404,-0.3637869516436521,-0.8361465829357149,0.1602434721039744,-0.7101493572036959,-0.7616198345613916,0.6219638571347772,-0.6802295547633672,0.10581671728427294,-0.5766386424362534,-0.151044812084738,-0.6257051695413484,-0.6474600546126542,-0.6142193321609926,0.22454934798181042,0.36489295964037677,-0.09950215454219458,0.08590968536500067,0.06016113440903095,-0.014062747244487795,0.11027790147592698,0.00012767342933278023,-0.07972850015182975,0.027780490031754593,-0.22372559418123394,0.4856784989370911],[0.8752931232817142,-0.8589368614715793,1.0,-0.7624390946606983,0.8438780240179147,0.486390028477863,0.8856139321925147,-0.28400665208061915,0.7495045050526583,0.8380767884834159,-0.7106389358163596,0.7510376769734813,-0.1150335104296788,0.6511940779526519,0.1252630878654674,0.7132973208038361,0.7231324801253749,0.6897773743723576,-0.3144950838813805,-0.37032514119234616,0.07738392437522199,-0.09815514360491184,-0.00608628461992098,0.04194866052770884,-0.10613317159873731,-0.02407178631131631,-0.010290227731614077,0.1126641300813994,0.03523824827365349,-0.5560643392235533],[-0.5932927770774414,0.685322389225885,-0.7624390946606983,1.0,-0.5580594189911101,-0.43718703057243513,-0.7137553922779414,0.1321890899669159,-0.7936310754938043,-0.7802316043125698,0.7944752423568582,-0.8289166715125629,0.08905358792419789,-0.7917133536229595,-0.12766764291346286,-0.7092946885127746,-0.6953641981314997,-0.6377098386374063,0.295702834092003,0.2962654308162889,-0.03942988346906931,0.15368118947465825,0.01413464862364204,-0.11411959030266858,-0.028605317443919417,0.1340604963944952,0.06413606620897243,-0.0781089991967109,-0.18690301257526215,0.7050305639195465],[0.8617169586031755,-0.7832528985016404,0.8438780240179147,-0.5580594189911101,1.0,0.32144593946064876,0.841057823086926,-0.3134877657119121,0.6430779310378022,0.7373484481068904,-0.5102811884559448,0.5978937183778223,-0.1641702534893865,0.41331120434433766,0.0672364381323203,0.6777328142783301,0.7340876116791899,0.7350039523844677,-0.39542161817559784,-0.3322038559656013,0.08360009193653821,-0.11211030548143681,-0.06868830191769017,-0.11310876129405091,-0.10807926628809772,0.046162832093793606,0.09703646888000356,0.14703303436658452,-0.17568958712089794,-0.3595329803708445],[0.3532945748735391,-0.3637869516436521,0.486390028477863,-0.43718703057243513,0.32144593946064876,1.0,0.33749757189564517,-0.5160052194614977,0.3793086580499485,0.4416031269288774,-0.5166147351460766,0.5066054591462668,-0.09631556969386454,0.5599233390155175,-0.029377746219273273,0.4481540548053172,0.4241825444441921,0.37503256589204537,-0.21833136094675187,-0.04490341692943084,-0.2288397168407055,0.17449258292493747,0.25239922657417135,0.023776487179316373,-0.14518866083315699,-0.020932810706069126,-0.2384183846208146,-0.06665743897315936,0.1726009972351339,-0.42650256329024433],[0.8710763468361642,-0.8361465829357149,0.8856139321925147,-0.7137553922779414,0.841057823086926,0.33749757189564517,1.0,-0.05215626420049408,0.7739089066192847,0.8662559576865984,-0.6428234000264406,0.7266191822753889,-0.08570491889111499,0.5443952932906057,0.1589114306252899,0.7489081332890497,0.7792460824512386,0.7656569269455803,-0.3623065284058478,-0.4145248467030563,0.21632832583168676,-0.23321885217208635,-0.012786536560150923,-0.03833036331463272,0.027822782978365247,0.009735738199128357,0.13540638045880737,0.1466763851829587,0.10715610217990881,-0.4721348784169075],[-0.2181441775340542,0.1602434721039744,-0.28400665208061915,0.1321890899669159,-0.3134877657119121,-0.5160052194614977,-0.05215626420049408,1.0,-0.09284895691436484,-0.10453676592153971,0.24192029769609247,-0.20859909786828273,0.2630466371435458,-0.2682591613879819,0.14516449694944983,-0.2576428869349149,-0.28527027286893786,-0.2560905794506303,0.221806632824569,-0.1750356441436147,0.4231640209555018,-0.37475971068714364,-0.31619117995923746,0.03966886995944195,0.2882793280680628,0.014116640207027015,0.36475009534309183,0.09873820695971301,0.1499232016845539,0.11240554949052971],[0.645288377600857,-0.7101493572036959,0.7495045050526583,-0.7936310754938043,0.6430779310378022,0.3793086580499485,0.7739089066192847,-0.09284895691436484,1.0,0.8433301994213163,-0.7052309103842321,0.7764336586262391,-0.05876033367194132,0.6874713376464081,0.12380972512980423,0.7285303820459933,0.7577562802109115,0.7130454411277751,-0.3332222270544236,-0.3713147873701259,0.16283954143476023,-0.2604436408676707,-0.0525027581345566,0.05470321670781631,-0.010827917426058653,-0.1407773857998294,0.03934504550092571,0.10755243300847535,0.13005528291634055,-0.5580512296098342],[0.714819177597783,-0.7616198345613916,0.8380767884834159,-0.7802316043125698,0.7373484481068904,0.4416031269288774,0.8662559576865984,-0.10453676592153971,0.8433301994213163,1.0,-0.8008459502535766,0.8786076855790979,-0.07935264174215054,0.7624159993389361,0.13565888028082213,0.8510913208080315,0.850836108604925,0.800153386111821,-0.416033501630276,-0.3961668979786525,0.11912293985294736,-0.24726344212523987,-0.03506498617108551,0.026003581128297055,0.005740757287348298,-0.04072235304166727,0.03927986916839918,0.10818296002028545,0.09141532258337791,-0.6240966926598729],[-0.51149642842754,0.6219638571347772,-0.7106389358163596,0.7944752423568582,-0.5102811884559448,-0.5166147351460766,-0.6428234000264406,0.24192029769609247,-0.7052309103842321,-0.8008459502535766,1.0,-0.8956527585241849,0.10138067358079182,-0.8934839261223512,-0.07060208952000273,-0.8012479693236865,-0.7659797010429811,-0.6677135196015765,0.3848776342054038,0.22687454065589022,0.14489570030977056,0.07328281754722094,-0.0620157898060798,-0.14934004292995806,0.03700107493098615,0.1426152839666273,0.21807968822611384,0.050250630287875346,-0.16742003598251917,0.6867403756209208],[0.5763596118502061,-0.6802295547633672,0.7510376769734813,-0.8289166715125629,0.5978937183778223,0.5066054591462668,0.7266191822753889,-0.20859909786828273,0.7764336586262391,0.8786076855790979,-0.8956527585241849,1.0,-0.09840350413172975,0.8852026713615924,0.07735345309669736,0.8972474800335892,0.8712685908686629,0.794049408620462,-0.43343476401698156,-0.2418849625144339,-0.10055611957943615,-0.1358700299985686,0.023794756221322745,0.08662632180518896,0.03069935420361952,-0.11497470829186282,-0.0890351340596788,-0.031971226002000905,0.12979394459851398,-0.6861028210386285],[-0.10080524667723542,0.10581671728427294,-0.1150335104296788,0.08905358792419789,-0.1641702534893865,-0.09631556969386454,-0.08570491889111499,0.2630466371435458,-0.05876033367194132,-0.07935264174215054,0.10138067358079182,-0.09840350413172975,1.0,-0.05601274359673253,-0.04152668526308493,-0.14618549172964182,-0.16077069117244594,-0.14761120920708587,0.16389586296507036,-0.07149152235963421,0.10882896930723364,-0.06601618510614168,-0.05211172549129495,0.03924377414667958,0.014374625429951148,0.025940681338121913,0.059123094369400137,-0.07486385226407767,0.06420756531378048,-0.00890824124866686],[0.42035545623648946,-0.5766386424362534,0.6511940779526519,-0.7917133536229595,0.41331120434433766,0.5599233390155175,0.5443952932906057,-0.2682591613879819,0.6874713376464081,0.7624159993389361,-0.8934839261223512,0.8852026713615924,-0.05601274359673253,1.0,0.02171395178967989,0.7708314479150679,0.7246472732490522,0.6130989207958976,-0.34561891148139945,-0.16647264574123727,-0.2396591540624974,0.009178202290614784,0.05388091583494535,0.16914198300945982,-0.07719972082526692,-0.14992033961511536,-0.2271721156698009,-0.1339606230587116,0.18434752294792392,-0.7453992088250985],[0.08634266446627505,-0.151044812084738,0.1252630878654674,-0.12766764291346286,0.0672364381323203,-0.029377746219273273,0.1589114306252899,0.14516449694944983,0.12380972512980423,0.13565888028082213,-0.07060208952000273,0.07735345309669736,-0.04152668526308493,0.02171395178967989,1.0,0.014591283547716901,0.03867975503817612,0.018745948857838916,0.2259933206280813,-0.15855009908183565,0.163758721928801,-0.09777339118105405,-0.06188517378492223,0.015084400597519419,-0.037078338253762305,0.023420344556745416,0.11109165341295663,0.04974297509223495,0.0856532068088077,-0.04330240521391135],[0.6171361095654091,-0.6257051695413484,0.7132973208038361,-0.7092946885127746,0.6777328142783301,0.4481540548053172,0.7489081332890497,-0.2576428869349149,0.7285303820459933,0.8510913208080315,-0.8012479693236865,0.8972474800335892,-0.14618549172964182,0.7708314479150679,0.014591283547716901,1.0,0.951817691124096,0.9059562326465098,-0.622783684297494,-0.22415514799129307,-0.14627270902009032,-0.16719874920614466,0.03866157750965233,-0.0205919692911385,0.05431569163252004,-0.05165455649102931,-0.06455995823761175,-0.021289815625155282,-0.0011051235947887085,-0.5869069036454009],[0.6617621602467181,-0.6474600546126542,0.7231324801253749,-0.6953641981314997,0.7340876116791899,0.4241825444441921,0.7792460824512386,-0.28527027286893786,0.7577562802109115,0.850836108604925,-0.7659797010429811,0.8712685908686629,-0.16077069117244594,0.7246472732490522,0.03867975503817612,0.951817691124096,1.0,0.9397176493670604,-0.5825002024832763,-0.23647969924272577,-0.11413103938037118,-0.1641076885410892,0.030736840906721803,-0.05899635149263576,0.038517689085679215,-0.03801329256209202,-0.04892231418739785,0.01977884039229162,-0.03021718261708917,-0.5526861839122085],[0.6623614604559104,-0.6142193321609926,0.6897773743723576,-0.6377098386374063,0.7350039523844677,0.37503256589204537,0.7656569269455803,-0.2560905794506303,0.7130454411277751,0.800153386111821,-0.6677135196015765,0.794049408620462,-0.14761120920708587,0.6130989207958976,0.018745948857838916,0.9059562326465098,0.9397176493670604,1.0,-0.5604350805832904,-0.21533541528876837,-0.06937207988181292,-0.16606754887126926,0.04524774851657983,-0.09028171631441693,0.0655638380728897,-0.02017259563840763,-0.005978051310473022,0.0714258869560363,-0.04467646332508649,-0.46301359969235883],[-0.3074823822162565,0.22454934798181042,-0.3144950838813805,0.295702834092003,-0.39542161817559784,-0.21833136094675187,-0.3623065284058478,0.221806632824569,-0.3332222270544236,-0.416033501630276,0.3848776342054038,-0.43343476401698156,0.16389586296507036,-0.34561891148139945,0.2259933206280813,-0.622783684297494,-0.5825002024832763,-0.5604350805832904,1.0,0.06930488670612474,0.15443525452786533,0.13058597259641466,0.005067149047234433,0.10417216241546229,-0.12640008505004216,0.046208273289008034,0.0636884775424546,-0.036621066656148636,0.14788680827890918,0.2566394602080426],[-0.312825926486002,0.36489295964037677,-0.37032514119234616,0.2962654308162889,-0.3322038559656013,-0.04490341692943084,-0.4145248467030563,-0.1750356441436147,-0.3713147873701259,-0.3961668979786525,0.22687454065589022,-0.2418849625144339,-0.07149152235963421,-0.16647264574123727,-0.15855009908183565,-0.22415514799129307,-0.23647969924272577,-0.21533541528876837,0.06930488670612474,1.0,-0.43082313606453376,0.3264865572583558,0.2084604387841077,-0.0293734620190439,0.03348666975311453,0.02178276889296347,-0.07778069815134447,0.11173699163952876,0.025494602832199894,0.19115198257324512],[0.13665917556612056,-0.09950215454219458,0.07738392437522199,-0.03942988346906931,0.08360009193653821,-0.2288397168407055,0.21632832583168676,0.4231640209555018,0.16283954143476023,0.11912293985294736,0.14489570030977056,-0.10055611957943615,0.10882896930723364,-0.2396591540624974,0.163758721928801,-0.14627270902009032,-0.11413103938037118,-0.06937207988181292,0.15443525452786533,-0.43082313606453376,1.0,-0.5780855851409019,-0.14656286663314488,-0.0063709606577233785,0.14006039368988918,0.034340534579264566,0.3526355577806519,0.2968028932449021,0.1250675306113697,0.12771949807278313],[-0.12192619716344769,0.08590968536500067,-0.09815514360491184,0.15368118947465825,-0.11211030548143681,0.17449258292493747,-0.23321885217208635,-0.37475971068714364,-0.2604436408676707,-0.24726344212523987,0.07328281754722094,-0.1358700299985686,-0.06601618510614168,0.009178202290614784,-0.09777339118105405,-0.16719874920614466,-0.1641076885410892,-0.16606754887126926,0.13058597259641466,0.3264865572583558,-0.5780855851409019,1.0,0.24031175441206823,0.027880616147622026,-0.24805935679719243,0.06369548131030572,-0.3113085165674678,-0.19464807626415617,-0.04766746185587493,0.06556873604824476],[-0.007707309113674912,0.06016113440903095,-0.00608628461992098,0.01413464862364204,-0.06868830191769017,0.25239922657417135,-0.012786536560150923,-0.31619117995923746,-0.0525027581345566,-0.03506498617108551,-0.0620157898060798,0.023794756221322745,-0.05211172549129495,0.05388091583494535,-0.06188517378492223,0.03866157750965233,0.030736840906721803,0.04524774851657983,0.005067149047234433,0.2084604387841077,-0.14656286663314488,0.24031175441206823,1.0,-0.0015805926096880952,0.06991725368031271,0.03192984416235747,-0.2114720725887247,-0.02582071419026962,-0.05524423217366942,-0.05287248984274631],[-0.057209507284073494,-0.014062747244487795,0.04194866052770884,-0.11411959030266858,-0.11310876129405091,0.023776487179316373,-0.03833036331463272,0.03966886995944195,0.05470321670781631,0.026003581128297055,-0.14934004292995806,0.08662632180518896,0.03924377414667958,0.16914198300945982,0.015084400597519419,-0.0205919692911385,-0.05899635149263576,-0.09028171631441693,0.10417216241546229,-0.0293734620190439,-0.0063709606577233785,0.027880616147622026,-0.0015805926096880952,1.0,-0.10294878253643595,-0.1045701868128831,-0.14483060410047385,-0.07979215991251688,0.07611869505413679,-0.12171399375438018],[-0.10137141493451578,0.11027790147592698,-0.10613317159873731,-0.028605317443919417,-0.10807926628809772,-0.14518866083315699,0.027822782978365247,0.2882793280680628,-0.010827917426058653,0.005740757287348298,0.03700107493098615,0.03069935420361952,0.014374625429951148,-0.07719972082526692,-0.037078338253762305,0.05431569163252004,0.038517689085679215,0.0655638380728897,-0.12640008505004216,0.03348666975311453,0.14006039368988918,-0.24805935679719243,0.06991725368031271,-0.10294878253643595,1.0,0.0331382993510712,0.20572282933559655,0.11748741496814971,0.006061563527622729,0.030088107470997792],[0.04003689009749641,0.00012767342933278023,-0.02407178631131631,0.1340604963944952,0.046162832093793606,-0.020932810706069126,0.009735738199128357,0.014116640207027015,-0.1407773857998294,-0.04072235304166727,0.1426152839666273,-0.11497470829186282,0.025940681338121913,-0.14992033961511536,0.023420344556745416,-0.05165455649102931,-0.03801329256209202,-0.02017259563840763,0.046208273289008034,0.02178276889296347,0.034340534579264566,0.06369548131030572,0.03192984416235747,-0.1045701868128831,0.0331382993510712,1.0,0.1344390547577593,-0.005251441674207652,-0.08188807357024802,0.039794913996424076],[0.09392222250076014,-0.07972850015182975,-0.010290227731614077,0.06413606620897243,0.09703646888000356,-0.2384183846208146,0.13540638045880737,0.36475009534309183,0.03934504550092571,0.03927986916839918,0.21807968822611384,-0.0890351340596788,0.059123094369400137,-0.2271721156698009,0.11109165341295663,-0.06455995823761175,-0.04892231418739785,-0.005978051310473022,0.0636884775424546,-0.07778069815134447,0.3526355577806519,-0.3113085165674678,-0.2114720725887247,-0.14483060410047385,0.20572282933559655,0.1344390547577593,1.0,0.011468751254133878,0.009279138669868927,0.11702011930640314],[0.19614681801404424,0.027780490031754593,0.1126641300813994,-0.0781089991967109,0.14703303436658452,-0.06665743897315936,0.1466763851829587,0.09873820695971301,0.10755243300847535,0.10818296002028545,0.050250630287875346,-0.031971226002000905,-0.07486385226407767,-0.1339606230587116,0.04974297509223495,-0.021289815625155282,0.01977884039229162,0.0714258869560363,-0.036621066656148636,0.11173699163952876,0.2968028932449021,-0.19464807626415617,-0.02582071419026962,-0.07979215991251688,0.11748741496814971,-0.005251441674207652,0.011468751254133878,1.0,-0.039574973255375456,0.07376848822126808],[-0.05056693486796238,-0.22372559418123394,0.03523824827365349,-0.18690301257526215,-0.17568958712089794,0.1726009972351339,0.10715610217990881,0.1499232016845539,0.13005528291634055,0.09141532258337791,-0.16742003598251917,0.12979394459851398,0.06420756531378048,0.18434752294792392,0.0856532068088077,-0.0011051235947887085,-0.03021718261708917,-0.04467646332508649,0.14788680827890918,0.025494602832199894,0.1250675306113697,-0.04766746185587493,-0.05524423217366942,0.07611869505413679,0.006061563527622729,-0.08188807357024802,0.009279138669868927,-0.039574973255375456,1.0,-0.10027841591956964],[-0.4141523367062393,0.4856784989370911,-0.5560643392235533,0.7050305639195465,-0.3595329803708445,-0.42650256329024433,-0.4721348784169075,0.11240554949052971,-0.5580512296098342,-0.6240966926598729,0.6867403756209208,-0.6861028210386285,-0.00890824124866686,-0.7453992088250985,-0.04330240521391135,-0.5869069036454009,-0.5526861839122085,-0.46301359969235883,0.2566394602080426,0.19115198257324512,0.12771949807278313,0.06556873604824476,-0.05287248984274631,-0.12171399375438018,0.030088107470997792,0.039794913996424076,0.11702011930640314,0.07376848822126808,-0.10027841591956964,1.0]],\"type\":\"heatmap\",\"xaxis\":\"x\",\"yaxis\":\"y\",\"hovertemplate\":\"x: %{x}\\u003cbr\\u003ey: %{y}\\u003cbr\\u003ecolor: %{z}\\u003cextra\\u003e\\u003c\\u002fextra\\u003e\"}],                        {\"template\":{\"data\":{\"histogram2dcontour\":[{\"type\":\"histogram2dcontour\",\"colorbar\":{\"outlinewidth\":0,\"ticks\":\"\"},\"colorscale\":[[0.0,\"#0d0887\"],[0.1111111111111111,\"#46039f\"],[0.2222222222222222,\"#7201a8\"],[0.3333333333333333,\"#9c179e\"],[0.4444444444444444,\"#bd3786\"],[0.5555555555555556,\"#d8576b\"],[0.6666666666666666,\"#ed7953\"],[0.7777777777777778,\"#fb9f3a\"],[0.8888888888888888,\"#fdca26\"],[1.0,\"#f0f921\"]]}],\"choropleth\":[{\"type\":\"choropleth\",\"colorbar\":{\"outlinewidth\":0,\"ticks\":\"\"}}],\"histogram2d\":[{\"type\":\"histogram2d\",\"colorbar\":{\"outlinewidth\":0,\"ticks\":\"\"},\"colorscale\":[[0.0,\"#0d0887\"],[0.1111111111111111,\"#46039f\"],[0.2222222222222222,\"#7201a8\"],[0.3333333333333333,\"#9c179e\"],[0.4444444444444444,\"#bd3786\"],[0.5555555555555556,\"#d8576b\"],[0.6666666666666666,\"#ed7953\"],[0.7777777777777778,\"#fb9f3a\"],[0.8888888888888888,\"#fdca26\"],[1.0,\"#f0f921\"]]}],\"heatmap\":[{\"type\":\"heatmap\",\"colorbar\":{\"outlinewidth\":0,\"ticks\":\"\"},\"colorscale\":[[0.0,\"#0d0887\"],[0.1111111111111111,\"#46039f\"],[0.2222222222222222,\"#7201a8\"],[0.3333333333333333,\"#9c179e\"],[0.4444444444444444,\"#bd3786\"],[0.5555555555555556,\"#d8576b\"],[0.6666666666666666,\"#ed7953\"],[0.7777777777777778,\"#fb9f3a\"],[0.8888888888888888,\"#fdca26\"],[1.0,\"#f0f921\"]]}],\"heatmapgl\":[{\"type\":\"heatmapgl\",\"colorbar\":{\"outlinewidth\":0,\"ticks\":\"\"},\"colorscale\":[[0.0,\"#0d0887\"],[0.1111111111111111,\"#46039f\"],[0.2222222222222222,\"#7201a8\"],[0.3333333333333333,\"#9c179e\"],[0.4444444444444444,\"#bd3786\"],[0.5555555555555556,\"#d8576b\"],[0.6666666666666666,\"#ed7953\"],[0.7777777777777778,\"#fb9f3a\"],[0.8888888888888888,\"#fdca26\"],[1.0,\"#f0f921\"]]}],\"contourcarpet\":[{\"type\":\"contourcarpet\",\"colorbar\":{\"outlinewidth\":0,\"ticks\":\"\"}}],\"contour\":[{\"type\":\"contour\",\"colorbar\":{\"outlinewidth\":0,\"ticks\":\"\"},\"colorscale\":[[0.0,\"#0d0887\"],[0.1111111111111111,\"#46039f\"],[0.2222222222222222,\"#7201a8\"],[0.3333333333333333,\"#9c179e\"],[0.4444444444444444,\"#bd3786\"],[0.5555555555555556,\"#d8576b\"],[0.6666666666666666,\"#ed7953\"],[0.7777777777777778,\"#fb9f3a\"],[0.8888888888888888,\"#fdca26\"],[1.0,\"#f0f921\"]]}],\"surface\":[{\"type\":\"surface\",\"colorbar\":{\"outlinewidth\":0,\"ticks\":\"\"},\"colorscale\":[[0.0,\"#0d0887\"],[0.1111111111111111,\"#46039f\"],[0.2222222222222222,\"#7201a8\"],[0.3333333333333333,\"#9c179e\"],[0.4444444444444444,\"#bd3786\"],[0.5555555555555556,\"#d8576b\"],[0.6666666666666666,\"#ed7953\"],[0.7777777777777778,\"#fb9f3a\"],[0.8888888888888888,\"#fdca26\"],[1.0,\"#f0f921\"]]}],\"mesh3d\":[{\"type\":\"mesh3d\",\"colorbar\":{\"outlinewidth\":0,\"ticks\":\"\"}}],\"scatter\":[{\"fillpattern\":{\"fillmode\":\"overlay\",\"size\":10,\"solidity\":0.2},\"type\":\"scatter\"}],\"parcoords\":[{\"type\":\"parcoords\",\"line\":{\"colorbar\":{\"outlinewidth\":0,\"ticks\":\"\"}}}],\"scatterpolargl\":[{\"type\":\"scatterpolargl\",\"marker\":{\"colorbar\":{\"outlinewidth\":0,\"ticks\":\"\"}}}],\"bar\":[{\"error_x\":{\"color\":\"#2a3f5f\"},\"error_y\":{\"color\":\"#2a3f5f\"},\"marker\":{\"line\":{\"color\":\"#E5ECF6\",\"width\":0.5},\"pattern\":{\"fillmode\":\"overlay\",\"size\":10,\"solidity\":0.2}},\"type\":\"bar\"}],\"scattergeo\":[{\"type\":\"scattergeo\",\"marker\":{\"colorbar\":{\"outlinewidth\":0,\"ticks\":\"\"}}}],\"scatterpolar\":[{\"type\":\"scatterpolar\",\"marker\":{\"colorbar\":{\"outlinewidth\":0,\"ticks\":\"\"}}}],\"histogram\":[{\"marker\":{\"pattern\":{\"fillmode\":\"overlay\",\"size\":10,\"solidity\":0.2}},\"type\":\"histogram\"}],\"scattergl\":[{\"type\":\"scattergl\",\"marker\":{\"colorbar\":{\"outlinewidth\":0,\"ticks\":\"\"}}}],\"scatter3d\":[{\"type\":\"scatter3d\",\"line\":{\"colorbar\":{\"outlinewidth\":0,\"ticks\":\"\"}},\"marker\":{\"colorbar\":{\"outlinewidth\":0,\"ticks\":\"\"}}}],\"scattermapbox\":[{\"type\":\"scattermapbox\",\"marker\":{\"colorbar\":{\"outlinewidth\":0,\"ticks\":\"\"}}}],\"scatterternary\":[{\"type\":\"scatterternary\",\"marker\":{\"colorbar\":{\"outlinewidth\":0,\"ticks\":\"\"}}}],\"scattercarpet\":[{\"type\":\"scattercarpet\",\"marker\":{\"colorbar\":{\"outlinewidth\":0,\"ticks\":\"\"}}}],\"carpet\":[{\"aaxis\":{\"endlinecolor\":\"#2a3f5f\",\"gridcolor\":\"white\",\"linecolor\":\"white\",\"minorgridcolor\":\"white\",\"startlinecolor\":\"#2a3f5f\"},\"baxis\":{\"endlinecolor\":\"#2a3f5f\",\"gridcolor\":\"white\",\"linecolor\":\"white\",\"minorgridcolor\":\"white\",\"startlinecolor\":\"#2a3f5f\"},\"type\":\"carpet\"}],\"table\":[{\"cells\":{\"fill\":{\"color\":\"#EBF0F8\"},\"line\":{\"color\":\"white\"}},\"header\":{\"fill\":{\"color\":\"#C8D4E3\"},\"line\":{\"color\":\"white\"}},\"type\":\"table\"}],\"barpolar\":[{\"marker\":{\"line\":{\"color\":\"#E5ECF6\",\"width\":0.5},\"pattern\":{\"fillmode\":\"overlay\",\"size\":10,\"solidity\":0.2}},\"type\":\"barpolar\"}],\"pie\":[{\"automargin\":true,\"type\":\"pie\"}]},\"layout\":{\"autotypenumbers\":\"strict\",\"colorway\":[\"#636efa\",\"#EF553B\",\"#00cc96\",\"#ab63fa\",\"#FFA15A\",\"#19d3f3\",\"#FF6692\",\"#B6E880\",\"#FF97FF\",\"#FECB52\"],\"font\":{\"color\":\"#2a3f5f\"},\"hovermode\":\"closest\",\"hoverlabel\":{\"align\":\"left\"},\"paper_bgcolor\":\"white\",\"plot_bgcolor\":\"#E5ECF6\",\"polar\":{\"bgcolor\":\"#E5ECF6\",\"angularaxis\":{\"gridcolor\":\"white\",\"linecolor\":\"white\",\"ticks\":\"\"},\"radialaxis\":{\"gridcolor\":\"white\",\"linecolor\":\"white\",\"ticks\":\"\"}},\"ternary\":{\"bgcolor\":\"#E5ECF6\",\"aaxis\":{\"gridcolor\":\"white\",\"linecolor\":\"white\",\"ticks\":\"\"},\"baxis\":{\"gridcolor\":\"white\",\"linecolor\":\"white\",\"ticks\":\"\"},\"caxis\":{\"gridcolor\":\"white\",\"linecolor\":\"white\",\"ticks\":\"\"}},\"coloraxis\":{\"colorbar\":{\"outlinewidth\":0,\"ticks\":\"\"}},\"colorscale\":{\"sequential\":[[0.0,\"#0d0887\"],[0.1111111111111111,\"#46039f\"],[0.2222222222222222,\"#7201a8\"],[0.3333333333333333,\"#9c179e\"],[0.4444444444444444,\"#bd3786\"],[0.5555555555555556,\"#d8576b\"],[0.6666666666666666,\"#ed7953\"],[0.7777777777777778,\"#fb9f3a\"],[0.8888888888888888,\"#fdca26\"],[1.0,\"#f0f921\"]],\"sequentialminus\":[[0.0,\"#0d0887\"],[0.1111111111111111,\"#46039f\"],[0.2222222222222222,\"#7201a8\"],[0.3333333333333333,\"#9c179e\"],[0.4444444444444444,\"#bd3786\"],[0.5555555555555556,\"#d8576b\"],[0.6666666666666666,\"#ed7953\"],[0.7777777777777778,\"#fb9f3a\"],[0.8888888888888888,\"#fdca26\"],[1.0,\"#f0f921\"]],\"diverging\":[[0,\"#8e0152\"],[0.1,\"#c51b7d\"],[0.2,\"#de77ae\"],[0.3,\"#f1b6da\"],[0.4,\"#fde0ef\"],[0.5,\"#f7f7f7\"],[0.6,\"#e6f5d0\"],[0.7,\"#b8e186\"],[0.8,\"#7fbc41\"],[0.9,\"#4d9221\"],[1,\"#276419\"]]},\"xaxis\":{\"gridcolor\":\"white\",\"linecolor\":\"white\",\"ticks\":\"\",\"title\":{\"standoff\":15},\"zerolinecolor\":\"white\",\"automargin\":true,\"zerolinewidth\":2},\"yaxis\":{\"gridcolor\":\"white\",\"linecolor\":\"white\",\"ticks\":\"\",\"title\":{\"standoff\":15},\"zerolinecolor\":\"white\",\"automargin\":true,\"zerolinewidth\":2},\"scene\":{\"xaxis\":{\"backgroundcolor\":\"#E5ECF6\",\"gridcolor\":\"white\",\"linecolor\":\"white\",\"showbackground\":true,\"ticks\":\"\",\"zerolinecolor\":\"white\",\"gridwidth\":2},\"yaxis\":{\"backgroundcolor\":\"#E5ECF6\",\"gridcolor\":\"white\",\"linecolor\":\"white\",\"showbackground\":true,\"ticks\":\"\",\"zerolinecolor\":\"white\",\"gridwidth\":2},\"zaxis\":{\"backgroundcolor\":\"#E5ECF6\",\"gridcolor\":\"white\",\"linecolor\":\"white\",\"showbackground\":true,\"ticks\":\"\",\"zerolinecolor\":\"white\",\"gridwidth\":2}},\"shapedefaults\":{\"line\":{\"color\":\"#2a3f5f\"}},\"annotationdefaults\":{\"arrowcolor\":\"#2a3f5f\",\"arrowhead\":0,\"arrowwidth\":1},\"geo\":{\"bgcolor\":\"white\",\"landcolor\":\"#E5ECF6\",\"subunitcolor\":\"white\",\"showland\":true,\"showlakes\":true,\"lakecolor\":\"white\"},\"title\":{\"x\":0.05},\"mapbox\":{\"style\":\"light\"}}},\"xaxis\":{\"anchor\":\"y\",\"domain\":[0.0,1.0]},\"yaxis\":{\"anchor\":\"x\",\"domain\":[0.0,1.0],\"autorange\":\"reversed\"},\"coloraxis\":{\"colorscale\":[[0.0,\"rgb(5,48,97)\"],[0.1,\"rgb(33,102,172)\"],[0.2,\"rgb(67,147,195)\"],[0.3,\"rgb(146,197,222)\"],[0.4,\"rgb(209,229,240)\"],[0.5,\"rgb(247,247,247)\"],[0.6,\"rgb(253,219,199)\"],[0.7,\"rgb(244,165,130)\"],[0.8,\"rgb(214,96,77)\"],[0.9,\"rgb(178,24,43)\"],[1.0,\"rgb(103,0,31)\"]]},\"margin\":{\"t\":60}},                        {\"responsive\": true}                    ).then(function(){\n",
              "                            \n",
              "var gd = document.getElementById('0ae4f681-d0bb-44d0-8470-c4a20295402a');\n",
              "var x = new MutationObserver(function (mutations, observer) {{\n",
              "        var display = window.getComputedStyle(gd).display;\n",
              "        if (!display || display === 'none') {{\n",
              "            console.log([gd, 'removed!']);\n",
              "            Plotly.purge(gd);\n",
              "            observer.disconnect();\n",
              "        }}\n",
              "}});\n",
              "\n",
              "// Listen for the removal of the full notebook cells\n",
              "var notebookContainer = gd.closest('#notebook-container');\n",
              "if (notebookContainer) {{\n",
              "    x.observe(notebookContainer, {childList: true});\n",
              "}}\n",
              "\n",
              "// Listen for the clearing of the current output cell\n",
              "var outputEl = gd.closest('.output');\n",
              "if (outputEl) {{\n",
              "    x.observe(outputEl, {childList: true});\n",
              "}}\n",
              "\n",
              "                        })                };                            </script>        </div>\n",
              "</body>\n",
              "</html>"
            ]
          },
          "metadata": {}
        }
      ],
      "source": [
        "corr = new_df.corr()\n",
        "fig=px.imshow(corr, aspect=\"auto\" ,color_continuous_scale='RdBu_r')\n",
        "fig.show()"
      ]
    },
    {
      "cell_type": "markdown",
      "id": "a7c45385",
      "metadata": {
        "id": "a7c45385"
      },
      "source": [
        "Negative Correlations: V17, V14, V12 and V10 are negatively correlated.  \n",
        "Positive Correlations: V2, V4, V11 are positively correlated."
      ]
    },
    {
      "cell_type": "markdown",
      "source": [
        "Note-Used chatgpt to understand the correlations. As the features are anonymised it was difficult to conclude and get relationship and dependency on eachother."
      ],
      "metadata": {
        "id": "HfKsG6Kc_Tp9"
      },
      "id": "HfKsG6Kc_Tp9"
    },
    {
      "cell_type": "code",
      "execution_count": null,
      "id": "Mzekq9GppDUe",
      "metadata": {
        "colab": {
          "base_uri": "https://localhost:8080/"
        },
        "id": "Mzekq9GppDUe",
        "outputId": "f64f367e-1974-40f5-a33b-dd0caf6de8e6"
      },
      "outputs": [
        {
          "output_type": "stream",
          "name": "stdout",
          "text": [
            "Highly Correlated Feature Pairs (|r| > 0.9):\n",
            "V16 ↔ V17: r = 0.95\n",
            "V16 ↔ V18: r = 0.91\n",
            "V17 ↔ V18: r = 0.94\n"
          ]
        }
      ],
      "source": [
        "# Calculate absolute correlation matrix (optional: choose df or new_df)\n",
        "corr_matrix = new_df.corr().abs()\n",
        "\n",
        "# Select upper triangle of correlation matrix to avoid duplicates and self-correlation\n",
        "upper = corr_matrix.where(np.triu(np.ones(corr_matrix.shape), k=1).astype(bool))\n",
        "\n",
        "# Set threshold\n",
        "threshold = 0.9\n",
        "\n",
        "# Find feature pairs with high correlation\n",
        "high_corr_pairs = [(col1, col2, corr_matrix.loc[col1, col2])\n",
        "                   for col1 in upper.columns\n",
        "                   for col2 in upper.columns\n",
        "                   if (upper.loc[col1, col2] > threshold)]\n",
        "\n",
        "# Display results\n",
        "print(\"Highly Correlated Feature Pairs (|r| > 0.9):\")\n",
        "for f1, f2, corr_value in high_corr_pairs:\n",
        "    print(f\"{f1} ↔ {f2}: r = {corr_value:.2f}\")"
      ]
    },
    {
      "cell_type": "markdown",
      "id": "09014a1a",
      "metadata": {
        "id": "09014a1a"
      },
      "source": [
        "### TSNE"
      ]
    },
    {
      "cell_type": "code",
      "execution_count": null,
      "id": "64e561a6",
      "metadata": {
        "id": "64e561a6"
      },
      "outputs": [],
      "source": [
        "from sklearn.manifold import TSNE\n",
        "X = new_df.drop('Class', axis=1)\n",
        "y = new_df['Class']\n",
        "\n",
        "# T-SNE Implementation\n",
        "X_reduced_tsne = TSNE(n_components=2, random_state=42).fit_transform(X.values)"
      ]
    },
    {
      "cell_type": "code",
      "execution_count": null,
      "id": "1b1e39a4",
      "metadata": {
        "colab": {
          "base_uri": "https://localhost:8080/",
          "height": 542
        },
        "id": "1b1e39a4",
        "outputId": "9bd6bdb7-d7cf-4d9e-8df9-031b2df00a58"
      },
      "outputs": [
        {
          "output_type": "display_data",
          "data": {
            "text/html": [
              "<html>\n",
              "<head><meta charset=\"utf-8\" /></head>\n",
              "<body>\n",
              "    <div>            <script src=\"https://cdnjs.cloudflare.com/ajax/libs/mathjax/2.7.5/MathJax.js?config=TeX-AMS-MML_SVG\"></script><script type=\"text/javascript\">if (window.MathJax && window.MathJax.Hub && window.MathJax.Hub.Config) {window.MathJax.Hub.Config({SVG: {font: \"STIX-Web\"}});}</script>                <script type=\"text/javascript\">window.PlotlyConfig = {MathJaxConfig: 'local'};</script>\n",
              "        <script charset=\"utf-8\" src=\"https://cdn.plot.ly/plotly-2.35.2.min.js\"></script>                <div id=\"23444590-9011-4ff4-844d-5445936e3985\" class=\"plotly-graph-div\" style=\"height:525px; width:100%;\"></div>            <script type=\"text/javascript\">                                    window.PLOTLYENV=window.PLOTLYENV || {};                                    if (document.getElementById(\"23444590-9011-4ff4-844d-5445936e3985\")) {                    Plotly.newPlot(                        \"23444590-9011-4ff4-844d-5445936e3985\",                        [{\"hovertemplate\":\"x=%{x}\\u003cbr\\u003ey=%{y}\\u003cbr\\u003ecolor=%{marker.color}\\u003cextra\\u003e\\u003c\\u002fextra\\u003e\",\"legendgroup\":\"\",\"marker\":{\"color\":[0,1,1,1,1,1,1,1,1,1,1,1,1,0,0,1,1,1,1,0,0,0,0,0,0,1,1,1,0,0,0,0,0,1,0,0,0,0,0,0,1,1,1,0,0,1,1,1,0,0,0,1,0,1,1,1,0,0,1,0,0,0,0,1,0,1,0,0,1,0,1,0,1,1,0,0,1,0,1,0,0,0,0,1,0,0,1,0,0,0,1,0,0,0,1,0,1,0,1,0,1,1,1,1,1,0,1,1,0,0,0,1,1,0,0,0,1,0,1,1,0,0,0,0,0,1,0,0,1,0,0,0,0,1,0,1,1,1,0,1,1,1,1,0,1,1,0,1,0,1,1,1,0,0,1,0,0,0,0,1,1,0,1,0,1,0,1,0,1,1,1,0,0,0,0,1,0,1,0,0,1,0,0,0,1,0,0,1,0,1,0,1,1,0,1,1,0,1,0,1,1,0,1,1,1,1,0,1,1,0,0,1,1,1,0,1,0,1,1,1,0,0,0,0,1,0,1,0,0,0,0,1,0,1,1,1,1,1,1,1,0,0,1,0,1,1,1,1,0,0,0,0,1,1,1,0,0,0,0,1,0,1,0,1,1,1,0,1,0,1,1,1,1,0,0,1,1,0,0,0,1,0,0,1,0,0,1,0,0,0,0,0,1,1,0,1,1,1,1,0,1,0,1,1,0,0,0,1,0,0,0,0,0,1,1,1,1,1,0,1,0,1,1,0,1,1,1,1,0,1,1,0,1,1,1,0,1,1,0,1,1,1,1,1,0,1,1,0,0,1,1,0,1,1,1,0,1,0,1,1,1,0,1,0,1,1,1,0,1,1,0,0,0,1,1,0,0,0,1,0,0,0,0,1,0,0,0,1,1,1,0,1,1,1,1,0,1,1,1,1,1,0,1,0,0,1,0,0,0,1,0,0,0,0,0,1,1,0,0,0,1,1,1,1,0,0,1,1,1,1,0,1,1,0,1,1,0,0,0,0,0,0,1,1,1,0,1,1,1,1,0,0,0,0,1,1,1,1,1,0,0,0,1,1,0,0,0,1,1,0,1,0,1,1,0,1,0,0,0,0,1,1,1,1,0,1,0,1,1,1,1,1,0,0,0,0,1,1,0,0,0,1,0,0,1,1,1,0,0,1,0,0,1,0,1,1,1,0,1,1,1,1,0,1,0,0,0,0,1,1,0,0,1,0,0,1,1,1,1,1,0,0,0,1,1,0,1,1,0,1,1,0,1,1,0,1,1,1,0,1,1,0,0,0,1,0,0,1,1,1,0,0,0,0,1,1,0,0,0,1,1,1,1,0,0,1,1,0,1,1,0,0,0,0,0,0,0,1,0,1,0,1,1,0,1,0,0,0,0,0,1,0,0,1,1,0,1,0,1,1,1,0,1,1,0,0,0,1,0,0,0,0,0,0,0,1,0,1,0,0,0,1,1,0,1,1,1,0,0,0,1,1,1,1,0,1,0,0,1,0,1,1,0,1,1,0,0,0,0,0,1,0,1,1,1,0,0,0,0,0,0,1,1,0,0,0,0,1,1,1,1,1,0,0,1,0,1,0,1,1,1,1,1,1,1,1,1,0,0,0,1,0,1,0,0,0,1,0,0,0,0,0,0,0,0,1,0,0,1,0,1,0,1,0,1,0,0,0,1,0,0,1,0,0,1,0,1,0,0,1,1,0,0,0,1,1,1,1,0,0,1,1,0,0,0,0,0,0,0,0,0,0,0,0,1,1,0,1,0,1,0,1,0,0,0,0,0,0,1,0,1,0,0,0,1,0,0,1,1,0,1,0,0,1,1,0,0,0,0,0,0,0,0,1,0,0,0,1,0,1,1,0,1,1,1,0,1,0,0,1,1,1,0,1,0,0,1,1,1,0,1,0,0,0,1,0,1,1,1,0,1,1,0,1,0,1,1,0,0,0,1,0,1,0,1,1,0,0,0,1,1,1,0,0,1,0,0,0,0,1,0,1,1,0,0,0,1,1,1,0,0,1,1,1,1,1,0,1,0,1,1,1,0,1,1,1,0,0,0,0,0,0,0,0,1,0,0,0,0,1,0,0,0,0,0,1,0,0,0,0,1,1,1,1,1,1,1,1,0,1,0,1,0,1,0,1,0,0,1,1,1,1,1,1,1,1,0,1,0,1,1,1,0,1,1],\"coloraxis\":\"coloraxis\",\"symbol\":\"circle\"},\"mode\":\"markers\",\"name\":\"\",\"orientation\":\"v\",\"showlegend\":false,\"x\":[6.251238,-32.546307,-21.014011,-33.13694,-29.827997,-19.677576,-26.728523,12.743254,-40.39812,-32.380096,-36.62441,-39.63926,-34.819878,19.237492,6.22518,-30.368746,-27.661417,-15.078739,-23.236876,37.60831,10.111838,30.155567,7.7868934,8.811112,7.9160333,-38.010197,-24.41576,-3.0770876,18.361763,13.952063,8.491915,6.3721447,20.008133,-44.707645,17.345703,39.76349,38.66409,7.233725,31.809414,32.30966,-32.208908,-26.172777,-29.515856,14.6844015,32.29644,-41.674168,-32.202763,-44.059757,31.249203,21.608059,8.584175,-9.4660225,37.936142,-23.09392,-32.36341,-21.495537,21.49748,9.034434,-16.673431,12.4391165,13.018937,10.726887,15.061968,-26.906845,21.47607,-27.273218,31.544865,10.641733,-38.440628,12.662209,-25.156168,38.475883,-43.3118,-21.40437,11.522376,15.366476,-35.91694,28.988508,-36.281628,25.858458,29.779371,11.399878,12.244369,-30.456188,17.856333,10.687913,2.0057757,13.091724,16.324942,20.612877,19.160805,30.694252,22.497723,24.580023,-36.141773,17.97182,-0.96155804,6.333903,9.7944975,16.263815,-34.512997,-32.3364,-20.111334,-31.04075,-27.685661,5.579243,5.797068,-27.823711,17.35612,10.303555,5.1585984,-18.596352,-25.909197,16.082653,1.9636195,1.2350913,-17.910307,25.799067,-36.79553,-33.196976,22.517002,16.9576,11.622925,22.6629,16.027206,-19.289116,14.008454,-6.4579554,-32.147057,-6.459644,11.401309,9.322959,13.356643,-20.556889,13.520338,-24.024761,-3.8469558,-7.064215,19.110987,-37.126244,-40.8084,-35.233765,-28.461813,16.065626,-26.7679,-26.770735,0.15733348,-19.789345,37.61904,-0.9614905,-42.702374,-17.433046,4.5260186,24.121971,3.644313,26.133745,15.465459,9.973317,4.9609346,8.579797,-29.68889,31.081865,-39.605972,17.443089,-5.5969734,21.507473,-34.90595,13.948343,-26.778688,17.466293,7.0797577,18.470013,14.201237,26.249178,36.365776,-16.531687,3.37863,-37.02198,18.410614,22.901817,-32.99216,14.582482,31.088058,15.101743,-9.419728,18.184958,22.031416,-39.23513,19.024046,1.0291133,12.015037,-15.997014,-31.183025,17.549353,-37.11776,-28.160378,6.621759,-41.534103,9.4020405,-28.47045,-9.629285,24.011435,-39.053143,9.414908,-18.898617,-38.479546,7.7279058,30.023073,-43.88637,25.703293,15.841844,-32.37791,-23.471037,-7.810009,12.529433,-33.600014,20.224445,-41.882256,-31.40024,-27.93264,35.918304,5.622624,10.831081,14.270783,-33.750004,12.525962,-7.434825,27.153908,11.695978,20.628464,21.614662,-29.921524,12.312831,-16.970467,-29.526886,3.7883961,17.239105,-31.566996,-31.85114,-31.855455,11.612597,19.939034,-26.741144,31.628479,-23.009556,-28.218567,0.48546925,1.0033392,18.78533,28.602987,27.12698,14.675895,-32.237984,-19.216879,-33.1243,19.760567,1.7479491,11.445029,10.987034,-30.212112,30.57858,-35.81652,12.060771,-13.661908,-33.530098,-31.391436,4.627025,-20.782196,10.207253,-30.766201,-36.34436,-28.040543,-44.660694,15.765406,12.971631,-10.239038,18.904272,27.161402,26.9472,6.007156,-31.311049,19.614542,21.093555,-24.5156,18.189201,2.801508,3.6154256,9.359776,13.859033,10.778137,9.868497,7.6326094,-33.76733,-23.452044,20.437756,-38.933598,-1.0330344,-6.593472,-30.228294,36.709778,-18.539753,39.879333,-35.509377,-41.988735,25.871193,6.7378407,-6.096223,-20.729633,16.748737,29.790794,7.811504,9.99288,9.218085,-35.428795,-33.157413,-30.012342,-10.835123,-21.064583,15.314194,6.5341635,25.346287,-28.804514,-13.654059,10.158295,-30.823166,-32.248783,-19.43119,-34.7863,19.45466,-31.085274,-24.230242,25.448713,-4.728765,-32.452496,-36.520687,5.392254,-22.03634,-37.18637,2.0073082,-21.150055,-4.009868,-20.614416,-35.928284,-16.613865,18.636532,-32.89026,-32.21493,14.893503,10.080293,-36.35524,-35.90936,-1.215255,-22.660095,2.5658975,-38.586823,7.6099086,-30.906645,3.248365,-18.448124,-37.576473,6.3763523,18.595737,-30.244194,30.12933,3.8614,-31.902723,-27.479206,16.631357,-28.561516,-29.780722,16.94134,11.026005,12.376551,-35.520073,-35.81574,17.114378,39.979256,30.887003,-18.345854,12.873422,22.617836,25.313225,15.048027,-32.89101,14.549319,26.752516,16.392258,-28.289099,-3.1246328,-26.630621,1.4210781,-37.2821,9.263421,-20.030416,-42.22109,9.748124,-16.1508,-22.766493,-39.595398,-36.02422,-28.485868,37.60006,-37.49905,12.175988,10.406373,-12.352455,13.878911,15.8773,29.8885,-35.60775,39.89318,13.574315,14.650568,10.313739,7.627627,-1.3764145,-28.9979,8.6136465,13.885312,10.774709,-38.956036,-38.61699,5.086442,-37.542023,17.001656,6.995984,-31.541613,-29.587046,-28.139523,-16.4039,22.142735,-39.289604,5.6902323,3.7635396,20.660189,-21.42675,27.503918,16.917448,38.37308,13.96635,9.410656,12.030159,-29.365303,-34.219585,-8.30526,11.602247,-14.840291,-30.192123,2.6559517,-17.238987,30.636822,31.217817,9.490874,6.0400662,-31.447687,-20.381105,-34.19894,4.144825,-30.974869,18.222225,6.0573683,9.767174,-28.606468,-33.288815,14.507296,13.957819,24.26948,5.8719687,-38.495724,20.19578,13.470942,30.931734,-32.06725,-27.332672,3.858014,-7.732458,15.742567,9.853218,33.91056,6.9964104,-35.891914,-17.011724,-37.199368,1.8678305,30.116674,-34.507805,15.115857,-37.922478,-28.472124,-38.45672,4.3162804,-29.745419,16.245491,15.245234,23.34093,32.843956,9.4858,-20.38687,36.98265,14.744664,10.141348,-19.009682,14.980038,28.557644,-41.422356,-39.252094,-39.892952,16.038898,19.075802,-31.81628,21.002155,15.4060755,-39.733646,39.047558,-34.436462,-36.666515,-28.29006,1.3239406,18.956264,-43.26511,-10.068388,-37.8146,24.231913,-19.903656,35.677094,12.523544,6.8786654,15.078584,-32.77107,-16.913017,30.834017,15.591385,-3.1514153,16.719868,-3.755499,-6.4435754,-28.206333,-35.896606,-21.63935,-21.601145,14.971294,16.287024,6.685225,-36.138798,-37.04404,23.360474,6.138218,-28.9097,16.137188,-0.17575759,-30.01302,34.009644,-20.725636,-33.109856,12.119182,-20.820297,-30.11919,3.0416114,40.902374,-27.198679,-34.50188,11.242694,12.948496,4.5274334,-28.439919,9.520685,13.327038,-30.18104,-42.16577,-37.62028,3.3431678,20.253105,16.886168,15.140918,-31.0979,-9.288737,31.150866,15.128043,16.337786,-22.275084,-37.166645,-24.428053,-8.429324,9.153477,36.814083,-36.829453,-3.8630095,16.609873,-27.815287,-36.903244,38.822994,8.597594,15.0982485,16.954329,7.0222406,21.770117,25.86532,-19.888542,18.898106,-42.53187,11.899089,-26.834036,-7.671962,10.2149935,-35.16444,31.219975,10.335478,7.713718,4.2605987,18.45915,-33.291325,30.240076,21.465279,-40.074074,-35.689415,5.3031693,-32.879883,14.527018,-32.680332,-18.320522,-28.1649,15.091763,-6.8084373,-33.56544,29.128181,36.83336,40.265724,-32.7189,18.901884,8.38187,17.294193,18.280724,5.5334606,12.367312,33.124493,-27.250378,14.266903,-28.214811,22.790993,37.938248,4.384429,-33.89642,-31.815248,19.742132,6.2619686,-8.763993,-25.740273,28.755884,15.909444,9.752945,-8.570668,-35.928593,-41.702404,-32.567707,39.475628,-28.313112,10.883307,19.491785,4.9370785,20.08494,-7.5985184,-37.055058,30.232214,-31.587133,-29.369377,18.593887,18.082748,15.150946,11.923625,29.337385,-35.03844,13.757041,-19.788435,3.8767161,-12.359253,20.478464,39.01245,8.218916,24.271662,8.453285,13.546931,-23.735777,-38.089466,30.593647,18.82034,6.837633,20.231,3.9592364,6.768403,-19.802326,-18.783052,-43.9011,36.333878,9.237115,-26.126314,10.734889,-19.258133,10.29181,-33.550594,-21.649965,-8.922356,-44.73576,-31.931156,-17.80946,-34.909218,-39.926987,-28.308886,38.559265,22.80963,11.4748335,3.3803475,-3.4220304,30.628397,9.641717,6.1824617,6.6702538,12.112618,14.138653,4.6435604,24.929459,13.027283,31.971134,17.59753,15.045657,20.177738,-20.63956,22.5809,13.142257,-22.877777,12.830304,-36.53115,24.733494,-20.98311,11.7160635,22.334648,17.754889,12.087002,21.517252,-10.166242,13.9672,18.81305,-20.118866,16.642433,18.35851,-19.086983,13.397094,-24.700146,9.497344,14.576915,-35.28705,-32.09113,16.558947,18.141005,11.928685,-36.743896,-38.80865,-24.576021,-21.576117,7.843917,14.605436,-20.72829,-36.906586,19.538546,12.495133,17.019506,9.379918,12.37613,16.969824,9.576996,-6.6017337,17.118664,14.999257,11.634654,7.4092145,-25.363987,-4.007463,18.266937,-12.226125,9.117153,-33.195488,-5.062,-43.101875,32.248905,14.965429,6.0271363,11.720858,3.9402072,16.30136,-37.433346,30.972427,-37.867577,6.2386518,23.846933,19.905704,-41.299152,16.543455,22.498405,-23.902832,-38.411526,7.819668,-34.352203,15.27383,11.78226,-36.029625,-28.207586,8.638591,35.317223,17.84574,19.94512,5.204395,8.788977,19.563774,15.035856,-28.746805,26.36037,31.733355,6.012972,-20.29423,8.826947,-30.304813,-16.2296,30.784153,-13.989888,-10.235786,-30.977163,13.368568,2.754748,27.093586,-5.94405,-37.178734,-28.134533,-28.944395,20.49393,-37.855568,17.903996,31.838913,-41.394455,-20.554878,12.032123,16.798962,-36.48634,16.8302,15.421809,35.497528,-30.448107,40.842716,-38.553707,-36.08669,-40.858944,7.3283186,-19.083189,-6.735586,14.197132,-32.183178,14.796642,-8.22409,-31.399721,4.5423517,5.280763,27.28967,-35.51097,10.943973,10.590417,20.485062,-9.744036,-30.184797,29.641088,13.538978,24.977419,-36.37553,-4.1342173,3.4060655,11.4596815,31.809893,9.512154,29.940517,22.92845,9.939777,31.425024,-31.996305,21.339563,-29.71295,-37.906067,18.596033,14.843928,16.953442,20.408726,-36.842678,-35.138355,17.074354,11.8689,28.333035,4.043745,25.711966,-33.954903,-21.2734,16.18727,-38.3861,4.983636,-30.372715,-27.577997,12.402885,37.88543,-8.512398,-35.16483,-30.146128,9.936927,11.69384,31.555593,16.68237,6.536694,19.617992,6.0534244,7.130585,23.723091,15.497075,28.658497,14.04067,24.612734,-34.639225,19.054348,39.48755,26.436792,31.644938,24.91468,-3.655445,19.132288,12.529131,30.32974,31.92424,-34.530907,8.729398,-16.77155,-33.353657,-13.989309,-32.323364,-25.33212,-39.313667,38.96012,-24.194479,35.743095,-36.60601,11.409198,-37.34706,1.7820629,-30.09793,23.910606,31.481157,-20.006168,-31.170265,-28.639029,-29.369444,-37.759777,-34.992462,-35.768692,-41.804874,31.958483,-3.8235893,13.106417,-39.32359,-21.07546,-36.995422,14.200202,-41.731438,-23.069698],\"xaxis\":\"x\",\"y\":[7.07267,-27.379444,-12.632686,29.382318,-17.358759,-23.564674,-20.730791,7.451006,26.153404,-31.550766,20.389675,-9.644786,24.810553,13.617337,-14.630847,-33.889988,-35.308167,-20.91588,-15.967909,23.267725,-10.893186,-8.1555,23.113604,29.271927,7.1208835,-11.621834,-11.403004,-3.9963167,25.96984,24.706999,3.3914552,-4.940469,18.166367,-11.0412035,14.507052,20.955214,23.238176,4.7661133,-2.8740788,-0.8983314,-26.432598,-18.52575,34.014824,-1.3279008,-1.0310289,-10.2495,-27.780313,-13.281202,8.673196,-5.108282,12.969372,-3.1476963,19.2364,-25.42357,-21.996294,-14.989801,-11.779614,20.67436,-19.124487,1.2455682,15.399408,-2.267244,-2.7654057,-23.048788,17.630518,-31.215889,6.610277,-12.08004,-4.8711143,-3.2172668,-27.002522,20.488077,-9.189898,-25.125238,10.784813,13.237673,-16.91357,-7.4921203,17.803917,3.9713254,-8.264515,-4.0344934,8.1704445,-14.314562,-5.595205,19.787502,2.9664984,22.764278,12.663297,6.2245264,7.9623194,-0.87921214,24.487373,16.71783,21.324123,-5.382798,10.597183,1.4542379,15.793185,-17.17205,27.343525,32.269394,-21.5884,31.957165,32.27707,8.148496,13.561106,32.98663,-11.047957,-9.736893,0.8218709,-19.086292,-24.042196,-6.039015,14.49187,3.6352654,-20.876368,11.195735,19.308264,26.104654,-0.5377874,-17.289032,-0.69139373,16.537725,16.339306,-21.111242,26.291903,-0.4058965,-34.067753,9.188824,-9.483279,-12.444762,3.4133644,-17.106459,18.354176,-24.428837,-3.5055242,-1.7109393,-12.912234,27.043673,26.112888,31.299538,-14.243296,-3.926711,-20.02889,-19.992636,4.1624722,-19.896341,21.985905,14.651064,-13.284609,-21.67893,-8.594727,3.4859543,-8.226122,-0.5928647,-16.98318,25.978546,-5.404428,15.850378,-15.61781,6.4477105,-10.54144,19.71859,-3.5162053,-11.782687,-18.766937,20.851736,-17.437702,8.179537,3.703563,19.217855,15.913715,6.610794,16.352774,-19.576078,-9.562795,18.61134,2.85854,-2.9267228,-33.943882,-4.9573097,8.646325,17.719872,-5.2671523,12.024123,20.950184,26.370745,2.1217496,0.05959672,19.279505,-22.91594,-12.357013,-7.9928546,-27.986088,32.3006,0.9186108,-10.551891,18.038357,-18.529282,-5.5796576,-0.1775048,-14.870595,16.92506,-26.039902,-13.397051,22.620584,-8.163897,-12.7147255,3.7031212,15.869069,32.895763,-15.823612,9.013082,7.6909595,31.411417,15.480704,-8.557603,-23.62091,-18.504784,22.566666,0.99821025,11.449132,26.45616,25.809568,20.443253,-2.4250035,3.876571,14.428185,6.211373,-4.5618753,33.470123,0.2288352,-23.958838,-17.105213,-8.474626,8.679577,33.119164,34.06198,-33.142216,21.054379,-14.44323,-17.613054,4.782388,-20.145256,-19.644804,-0.3253553,0.0801288,-6.5769734,12.147483,-0.26793313,-3.0011926,-23.459324,-18.420885,29.360617,20.348854,3.7036855,-8.746047,-3.9373374,-30.672995,-6.598142,31.396435,-4.0454264,-24.787497,31.920404,34.545692,-10.961142,-19.5289,-13.512145,-32.381283,19.625053,-16.459646,-11.14919,18.097704,-9.372976,8.027851,3.5257149,6.0767703,-1.4235077,25.913788,-22.501717,17.29646,8.130624,-26.491117,15.388666,2.1603007,6.6606607,11.123944,-12.324351,13.131804,26.025236,-10.575528,28.379925,-15.802389,-12.153499,-8.709633,-3.0511405,9.731186,-21.108612,22.481617,-20.100367,19.434772,28.317354,-9.724798,4.0964923,-10.036918,-1.0584478,-26.55345,10.804785,-7.282303,5.9098654,-9.536204,-3.1245177,-19.025873,32.068565,34.79856,8.526935,-18.400356,-11.587076,-5.1159844,-5.0441694,-33.75105,-24.784845,-11.492939,-16.043139,-32.40276,-23.886366,-19.453415,-12.290965,31.296957,-26.056366,-4.2310495,-4.3857503,33.584812,-14.683027,-10.072409,-23.002657,17.431995,17.17229,-18.111181,-4.3659315,-26.62086,21.583925,-18.276875,17.665716,-21.92379,-23.438015,17.006319,13.5976715,18.783098,21.04841,10.927449,-28.70367,0.68105406,-9.300627,8.158796,33.55933,14.778285,-20.686913,17.821503,3.759895,13.190125,-34.041553,5.74098,-12.156701,-19.23683,-35.083218,24.82829,-13.787705,32.69209,-17.35203,26.49244,15.382071,-12.704699,-12.531798,-2.865564,20.151024,-0.769464,-21.756298,-4.4074764,21.02247,0.22113633,-0.619125,-31.451569,-4.188306,-0.6180871,-3.7262983,-13.052037,-4.085377,-23.515978,4.941337,19.266113,16.065245,-16.828169,-11.994823,9.397909,-19.847294,-28.582327,-9.427224,-16.755579,-32.587635,21.931421,28.118347,-2.836706,-10.120561,7.2030845,21.204784,28.399261,-6.951219,30.323792,20.42189,13.485582,23.790379,-2.6334317,-10.041709,-3.369837,-12.107341,17.717194,14.087301,-1.0472851,-15.297798,-5.6814365,15.847268,18.469215,-3.4448018,4.915913,-28.43947,-15.691102,31.639673,-24.308886,-12.00026,-14.589057,9.043361,-10.110702,-5.4982066,-23.429028,-7.4064426,-10.392623,19.177538,14.403981,-10.42577,-12.316106,33.28715,25.3241,-4.0568776,24.165663,-23.786016,-34.928253,13.483578,-21.395803,-7.06982,-7.0939093,24.584234,21.31348,-12.810602,-16.254555,25.888626,-9.126484,34.803867,15.428534,5.3126707,22.393377,-32.802692,32.75443,-12.129508,10.660092,-6.043506,23.164326,-5.2281337,-10.828247,-0.5356661,5.3024254,26.954813,-31.516853,-12.211989,-1.8351094,-7.536564,23.01923,-1.726314,1.4269089,19.310726,-18.04097,-16.844992,14.536961,-2.112424,31.992197,-19.24783,-11.883918,-35.035255,-5.0393925,20.681376,-21.745277,-17.154186,13.0429125,12.086053,-0.7446106,-4.026665,-23.909288,23.94333,5.4661098,16.5145,-21.654318,-8.982622,-5.6721764,-12.090062,-10.347205,26.283358,-7.734017,26.858423,-19.938578,10.478818,-12.295901,-10.819178,22.240133,25.825064,17.57084,-13.090545,3.9531803,2.260614,-9.185521,-5.0204124,26.827309,-6.0060363,-27.372011,21.747494,20.974,21.329218,22.041334,-15.03615,-24.223532,-0.74088573,28.213032,-1.0942899,16.295784,3.5354717,-4.449225,-32.866875,20.439978,-28.415318,-17.554916,15.572342,-10.63027,25.758062,30.674578,-13.784679,21.052109,-5.0716414,-17.765757,9.905716,9.733973,33.184406,-1.6815435,-19.381653,30.156916,17.360786,-21.790096,-34.931835,-3.8147888,22.03594,-15.695385,28.564676,-4.8261185,20.267778,17.750154,-33.512627,6.4063754,17.018656,-30.80918,-12.175554,26.697279,-11.568805,-10.849135,-7.017481,23.388788,-27.563095,-5.357628,-7.858933,20.920176,1.2678082,-26.737103,-13.581132,-11.386888,8.786526,-8.045597,21.229982,29.374962,-1.5271319,14.306532,32.74933,18.088675,22.396637,11.390474,-0.6762125,18.89,-3.6897926,-5.7265096,-0.8458011,-22.10359,26.183592,-10.483182,-10.964027,-30.653027,-1.8741691,-9.936644,-15.316616,-1.679454,-2.8657193,22.448757,8.098674,21.048681,-31.777039,-5.4940643,-7.068607,-11.310881,-15.781677,7.812276,-21.959408,-11.782185,31.27043,-16.44992,31.486551,11.148969,-2.0742633,-33.566143,10.724047,21.498882,19.892807,-31.188608,20.607325,24.782036,13.214712,23.938105,-11.563548,-5.97094,-1.1683295,-34.025494,-0.26159534,-32.87208,15.663806,20.03529,17.556955,30.814709,-26.741106,3.3006537,3.8208156,-5.0573134,-18.626781,9.810646,12.69233,9.50298,-1.981957,19.999674,-9.848825,-31.350655,19.676409,-34.84374,-5.711749,14.1755705,11.349169,-4.8198547,-2.1837673,-28.078215,-5.525429,-23.445694,-21.959002,-2.0366952,-1.2764382,-19.185822,-4.188873,10.759479,25.270254,15.9336815,-19.284174,-10.033655,7.200596,-3.234018,20.760553,12.093722,17.855568,19.221811,23.345339,-21.510857,27.148275,5.8578115,23.157858,4.9952655,-4.594953,22.197546,15.175882,-21.003414,-25.90799,-12.560882,21.5597,-3.7553535,-23.863604,19.788742,-21.859629,-8.79874,-33.579178,-19.690521,-5.8100004,-10.910051,-32.575745,-22.356634,25.477203,-11.113155,-23.708347,23.952116,17.177933,14.54541,20.532406,-3.5107987,-9.500405,22.452936,1.779512,18.246641,3.9936368,15.568722,22.124758,-1.0443568,-9.459136,4.9979153,10.415725,-3.06282,18.840668,-22.069366,17.718552,0.8202791,-25.49857,-4.35716,-14.040866,3.4214087,-24.625921,-3.513111,17.062717,25.659058,13.267465,-7.5703435,-3.2006562,28.381805,-4.400087,-23.236303,-9.713843,-13.2540045,-27.772034,-7.6559,-18.458702,21.090107,-3.753326,30.36104,33.733967,1.4520402,12.324422,24.2285,-13.511701,26.351807,-11.444431,-23.818045,-10.698966,27.803371,-21.531168,20.00056,3.7759647,-5.0465026,-7.244633,-9.424613,-12.155486,19.845514,25.80051,-0.6938111,7.333037,20.524872,22.327961,21.709475,-11.699654,-3.5529523,-1.53269,7.248501,-0.07973932,-34.020203,-4.1307373,-13.239857,-7.086212,10.897934,-8.965299,-4.4470105,15.5947895,17.39512,28.1359,-9.876557,-10.724453,-14.608477,0.46566054,-14.185057,-8.114074,9.917481,24.448988,-24.6896,-4.745762,-11.120037,25.158,-16.979025,-4.6614766,-16.790922,-19.672667,13.443448,21.861244,-8.149386,15.863994,-11.207585,29.84264,12.768607,15.158168,-30.631596,6.8374653,-6.1319413,-8.78583,-25.253265,29.027437,-24.00056,-21.283817,5.53297,-18.88712,8.025315,33.9589,-13.533009,20.352686,4.650873,-1.4627769,-27.894186,31.819622,-21.164175,18.315357,26.701723,-7.9565425,-2.888021,-8.229227,-22.85556,4.0834665,14.506703,20.818527,23.774563,18.553278,20.727564,-18.475048,22.370014,-5.3957763,18.513874,26.103304,25.769848,-23.112965,-2.1166174,-11.682707,-16.00875,11.747743,-1.3839887,-28.187662,-8.529873,8.57076,-1.027705,-19.135916,11.146231,16.519573,-4.637573,-5.0510106,-16.779758,11.153913,6.8846607,17.083563,29.88914,-1.7893673,12.63099,12.4995,0.32099664,22.155132,-1.4250703,-2.4971318,-9.919709,8.771815,-34.09079,8.172238,34.463245,-11.150978,13.227129,17.384377,-10.023143,9.047814,-28.414106,24.824518,-10.14874,12.348689,-9.525845,0.78027666,6.152942,29.28716,-17.140701,24.241522,-12.419803,-9.653981,-27.014435,-31.262808,11.647968,22.604202,-4.01351,-12.912865,-20.846308,19.106329,9.777076,-6.7956204,24.511835,8.0229435,3.5436323,13.098928,1.4566805,-1.0010406,16.459549,9.861078,-7.4889803,16.923914,29.762625,17.80174,23.359344,-2.278255,4.3860645,4.583738,4.282075,-4.666453,21.970871,-9.228777,2.0531123,31.424006,20.36384,-19.273958,-31.597162,-18.895966,-22.018421,-27.117615,25.914467,20.800997,-26.002956,19.95115,-11.617729,1.3649966,-12.419538,17.33887,-33.984566,0.13800694,3.4828386,-20.365572,31.84178,-14.758083,-33.12039,-10.207377,31.506212,-12.470501,-8.904092,0.55834514,-1.3984985,15.796909,-14.382242,-12.6185255,-28.17144,17.566776,-7.362539,-21.59284],\"yaxis\":\"y\",\"type\":\"scatter\"}],                        {\"template\":{\"data\":{\"histogram2dcontour\":[{\"type\":\"histogram2dcontour\",\"colorbar\":{\"outlinewidth\":0,\"ticks\":\"\"},\"colorscale\":[[0.0,\"#0d0887\"],[0.1111111111111111,\"#46039f\"],[0.2222222222222222,\"#7201a8\"],[0.3333333333333333,\"#9c179e\"],[0.4444444444444444,\"#bd3786\"],[0.5555555555555556,\"#d8576b\"],[0.6666666666666666,\"#ed7953\"],[0.7777777777777778,\"#fb9f3a\"],[0.8888888888888888,\"#fdca26\"],[1.0,\"#f0f921\"]]}],\"choropleth\":[{\"type\":\"choropleth\",\"colorbar\":{\"outlinewidth\":0,\"ticks\":\"\"}}],\"histogram2d\":[{\"type\":\"histogram2d\",\"colorbar\":{\"outlinewidth\":0,\"ticks\":\"\"},\"colorscale\":[[0.0,\"#0d0887\"],[0.1111111111111111,\"#46039f\"],[0.2222222222222222,\"#7201a8\"],[0.3333333333333333,\"#9c179e\"],[0.4444444444444444,\"#bd3786\"],[0.5555555555555556,\"#d8576b\"],[0.6666666666666666,\"#ed7953\"],[0.7777777777777778,\"#fb9f3a\"],[0.8888888888888888,\"#fdca26\"],[1.0,\"#f0f921\"]]}],\"heatmap\":[{\"type\":\"heatmap\",\"colorbar\":{\"outlinewidth\":0,\"ticks\":\"\"},\"colorscale\":[[0.0,\"#0d0887\"],[0.1111111111111111,\"#46039f\"],[0.2222222222222222,\"#7201a8\"],[0.3333333333333333,\"#9c179e\"],[0.4444444444444444,\"#bd3786\"],[0.5555555555555556,\"#d8576b\"],[0.6666666666666666,\"#ed7953\"],[0.7777777777777778,\"#fb9f3a\"],[0.8888888888888888,\"#fdca26\"],[1.0,\"#f0f921\"]]}],\"heatmapgl\":[{\"type\":\"heatmapgl\",\"colorbar\":{\"outlinewidth\":0,\"ticks\":\"\"},\"colorscale\":[[0.0,\"#0d0887\"],[0.1111111111111111,\"#46039f\"],[0.2222222222222222,\"#7201a8\"],[0.3333333333333333,\"#9c179e\"],[0.4444444444444444,\"#bd3786\"],[0.5555555555555556,\"#d8576b\"],[0.6666666666666666,\"#ed7953\"],[0.7777777777777778,\"#fb9f3a\"],[0.8888888888888888,\"#fdca26\"],[1.0,\"#f0f921\"]]}],\"contourcarpet\":[{\"type\":\"contourcarpet\",\"colorbar\":{\"outlinewidth\":0,\"ticks\":\"\"}}],\"contour\":[{\"type\":\"contour\",\"colorbar\":{\"outlinewidth\":0,\"ticks\":\"\"},\"colorscale\":[[0.0,\"#0d0887\"],[0.1111111111111111,\"#46039f\"],[0.2222222222222222,\"#7201a8\"],[0.3333333333333333,\"#9c179e\"],[0.4444444444444444,\"#bd3786\"],[0.5555555555555556,\"#d8576b\"],[0.6666666666666666,\"#ed7953\"],[0.7777777777777778,\"#fb9f3a\"],[0.8888888888888888,\"#fdca26\"],[1.0,\"#f0f921\"]]}],\"surface\":[{\"type\":\"surface\",\"colorbar\":{\"outlinewidth\":0,\"ticks\":\"\"},\"colorscale\":[[0.0,\"#0d0887\"],[0.1111111111111111,\"#46039f\"],[0.2222222222222222,\"#7201a8\"],[0.3333333333333333,\"#9c179e\"],[0.4444444444444444,\"#bd3786\"],[0.5555555555555556,\"#d8576b\"],[0.6666666666666666,\"#ed7953\"],[0.7777777777777778,\"#fb9f3a\"],[0.8888888888888888,\"#fdca26\"],[1.0,\"#f0f921\"]]}],\"mesh3d\":[{\"type\":\"mesh3d\",\"colorbar\":{\"outlinewidth\":0,\"ticks\":\"\"}}],\"scatter\":[{\"fillpattern\":{\"fillmode\":\"overlay\",\"size\":10,\"solidity\":0.2},\"type\":\"scatter\"}],\"parcoords\":[{\"type\":\"parcoords\",\"line\":{\"colorbar\":{\"outlinewidth\":0,\"ticks\":\"\"}}}],\"scatterpolargl\":[{\"type\":\"scatterpolargl\",\"marker\":{\"colorbar\":{\"outlinewidth\":0,\"ticks\":\"\"}}}],\"bar\":[{\"error_x\":{\"color\":\"#2a3f5f\"},\"error_y\":{\"color\":\"#2a3f5f\"},\"marker\":{\"line\":{\"color\":\"#E5ECF6\",\"width\":0.5},\"pattern\":{\"fillmode\":\"overlay\",\"size\":10,\"solidity\":0.2}},\"type\":\"bar\"}],\"scattergeo\":[{\"type\":\"scattergeo\",\"marker\":{\"colorbar\":{\"outlinewidth\":0,\"ticks\":\"\"}}}],\"scatterpolar\":[{\"type\":\"scatterpolar\",\"marker\":{\"colorbar\":{\"outlinewidth\":0,\"ticks\":\"\"}}}],\"histogram\":[{\"marker\":{\"pattern\":{\"fillmode\":\"overlay\",\"size\":10,\"solidity\":0.2}},\"type\":\"histogram\"}],\"scattergl\":[{\"type\":\"scattergl\",\"marker\":{\"colorbar\":{\"outlinewidth\":0,\"ticks\":\"\"}}}],\"scatter3d\":[{\"type\":\"scatter3d\",\"line\":{\"colorbar\":{\"outlinewidth\":0,\"ticks\":\"\"}},\"marker\":{\"colorbar\":{\"outlinewidth\":0,\"ticks\":\"\"}}}],\"scattermapbox\":[{\"type\":\"scattermapbox\",\"marker\":{\"colorbar\":{\"outlinewidth\":0,\"ticks\":\"\"}}}],\"scatterternary\":[{\"type\":\"scatterternary\",\"marker\":{\"colorbar\":{\"outlinewidth\":0,\"ticks\":\"\"}}}],\"scattercarpet\":[{\"type\":\"scattercarpet\",\"marker\":{\"colorbar\":{\"outlinewidth\":0,\"ticks\":\"\"}}}],\"carpet\":[{\"aaxis\":{\"endlinecolor\":\"#2a3f5f\",\"gridcolor\":\"white\",\"linecolor\":\"white\",\"minorgridcolor\":\"white\",\"startlinecolor\":\"#2a3f5f\"},\"baxis\":{\"endlinecolor\":\"#2a3f5f\",\"gridcolor\":\"white\",\"linecolor\":\"white\",\"minorgridcolor\":\"white\",\"startlinecolor\":\"#2a3f5f\"},\"type\":\"carpet\"}],\"table\":[{\"cells\":{\"fill\":{\"color\":\"#EBF0F8\"},\"line\":{\"color\":\"white\"}},\"header\":{\"fill\":{\"color\":\"#C8D4E3\"},\"line\":{\"color\":\"white\"}},\"type\":\"table\"}],\"barpolar\":[{\"marker\":{\"line\":{\"color\":\"#E5ECF6\",\"width\":0.5},\"pattern\":{\"fillmode\":\"overlay\",\"size\":10,\"solidity\":0.2}},\"type\":\"barpolar\"}],\"pie\":[{\"automargin\":true,\"type\":\"pie\"}]},\"layout\":{\"autotypenumbers\":\"strict\",\"colorway\":[\"#636efa\",\"#EF553B\",\"#00cc96\",\"#ab63fa\",\"#FFA15A\",\"#19d3f3\",\"#FF6692\",\"#B6E880\",\"#FF97FF\",\"#FECB52\"],\"font\":{\"color\":\"#2a3f5f\"},\"hovermode\":\"closest\",\"hoverlabel\":{\"align\":\"left\"},\"paper_bgcolor\":\"white\",\"plot_bgcolor\":\"#E5ECF6\",\"polar\":{\"bgcolor\":\"#E5ECF6\",\"angularaxis\":{\"gridcolor\":\"white\",\"linecolor\":\"white\",\"ticks\":\"\"},\"radialaxis\":{\"gridcolor\":\"white\",\"linecolor\":\"white\",\"ticks\":\"\"}},\"ternary\":{\"bgcolor\":\"#E5ECF6\",\"aaxis\":{\"gridcolor\":\"white\",\"linecolor\":\"white\",\"ticks\":\"\"},\"baxis\":{\"gridcolor\":\"white\",\"linecolor\":\"white\",\"ticks\":\"\"},\"caxis\":{\"gridcolor\":\"white\",\"linecolor\":\"white\",\"ticks\":\"\"}},\"coloraxis\":{\"colorbar\":{\"outlinewidth\":0,\"ticks\":\"\"}},\"colorscale\":{\"sequential\":[[0.0,\"#0d0887\"],[0.1111111111111111,\"#46039f\"],[0.2222222222222222,\"#7201a8\"],[0.3333333333333333,\"#9c179e\"],[0.4444444444444444,\"#bd3786\"],[0.5555555555555556,\"#d8576b\"],[0.6666666666666666,\"#ed7953\"],[0.7777777777777778,\"#fb9f3a\"],[0.8888888888888888,\"#fdca26\"],[1.0,\"#f0f921\"]],\"sequentialminus\":[[0.0,\"#0d0887\"],[0.1111111111111111,\"#46039f\"],[0.2222222222222222,\"#7201a8\"],[0.3333333333333333,\"#9c179e\"],[0.4444444444444444,\"#bd3786\"],[0.5555555555555556,\"#d8576b\"],[0.6666666666666666,\"#ed7953\"],[0.7777777777777778,\"#fb9f3a\"],[0.8888888888888888,\"#fdca26\"],[1.0,\"#f0f921\"]],\"diverging\":[[0,\"#8e0152\"],[0.1,\"#c51b7d\"],[0.2,\"#de77ae\"],[0.3,\"#f1b6da\"],[0.4,\"#fde0ef\"],[0.5,\"#f7f7f7\"],[0.6,\"#e6f5d0\"],[0.7,\"#b8e186\"],[0.8,\"#7fbc41\"],[0.9,\"#4d9221\"],[1,\"#276419\"]]},\"xaxis\":{\"gridcolor\":\"white\",\"linecolor\":\"white\",\"ticks\":\"\",\"title\":{\"standoff\":15},\"zerolinecolor\":\"white\",\"automargin\":true,\"zerolinewidth\":2},\"yaxis\":{\"gridcolor\":\"white\",\"linecolor\":\"white\",\"ticks\":\"\",\"title\":{\"standoff\":15},\"zerolinecolor\":\"white\",\"automargin\":true,\"zerolinewidth\":2},\"scene\":{\"xaxis\":{\"backgroundcolor\":\"#E5ECF6\",\"gridcolor\":\"white\",\"linecolor\":\"white\",\"showbackground\":true,\"ticks\":\"\",\"zerolinecolor\":\"white\",\"gridwidth\":2},\"yaxis\":{\"backgroundcolor\":\"#E5ECF6\",\"gridcolor\":\"white\",\"linecolor\":\"white\",\"showbackground\":true,\"ticks\":\"\",\"zerolinecolor\":\"white\",\"gridwidth\":2},\"zaxis\":{\"backgroundcolor\":\"#E5ECF6\",\"gridcolor\":\"white\",\"linecolor\":\"white\",\"showbackground\":true,\"ticks\":\"\",\"zerolinecolor\":\"white\",\"gridwidth\":2}},\"shapedefaults\":{\"line\":{\"color\":\"#2a3f5f\"}},\"annotationdefaults\":{\"arrowcolor\":\"#2a3f5f\",\"arrowhead\":0,\"arrowwidth\":1},\"geo\":{\"bgcolor\":\"white\",\"landcolor\":\"#E5ECF6\",\"subunitcolor\":\"white\",\"showland\":true,\"showlakes\":true,\"lakecolor\":\"white\"},\"title\":{\"x\":0.05},\"mapbox\":{\"style\":\"light\"}}},\"xaxis\":{\"anchor\":\"y\",\"domain\":[0.0,1.0],\"title\":{\"text\":\"x\"}},\"yaxis\":{\"anchor\":\"x\",\"domain\":[0.0,1.0],\"title\":{\"text\":\"y\"}},\"coloraxis\":{\"colorbar\":{\"title\":{\"text\":\"color\"}},\"colorscale\":[[0.0,\"#0d0887\"],[0.1111111111111111,\"#46039f\"],[0.2222222222222222,\"#7201a8\"],[0.3333333333333333,\"#9c179e\"],[0.4444444444444444,\"#bd3786\"],[0.5555555555555556,\"#d8576b\"],[0.6666666666666666,\"#ed7953\"],[0.7777777777777778,\"#fb9f3a\"],[0.8888888888888888,\"#fdca26\"],[1.0,\"#f0f921\"]]},\"legend\":{\"tracegroupgap\":0},\"margin\":{\"t\":60}},                        {\"responsive\": true}                    ).then(function(){\n",
              "                            \n",
              "var gd = document.getElementById('23444590-9011-4ff4-844d-5445936e3985');\n",
              "var x = new MutationObserver(function (mutations, observer) {{\n",
              "        var display = window.getComputedStyle(gd).display;\n",
              "        if (!display || display === 'none') {{\n",
              "            console.log([gd, 'removed!']);\n",
              "            Plotly.purge(gd);\n",
              "            observer.disconnect();\n",
              "        }}\n",
              "}});\n",
              "\n",
              "// Listen for the removal of the full notebook cells\n",
              "var notebookContainer = gd.closest('#notebook-container');\n",
              "if (notebookContainer) {{\n",
              "    x.observe(notebookContainer, {childList: true});\n",
              "}}\n",
              "\n",
              "// Listen for the clearing of the current output cell\n",
              "var outputEl = gd.closest('.output');\n",
              "if (outputEl) {{\n",
              "    x.observe(outputEl, {childList: true});\n",
              "}}\n",
              "\n",
              "                        })                };                            </script>        </div>\n",
              "</body>\n",
              "</html>"
            ]
          },
          "metadata": {}
        }
      ],
      "source": [
        "fig=px.scatter(x=X_reduced_tsne[:,0], y=X_reduced_tsne[:,1], color=y)\n",
        "fig.show()"
      ]
    },
    {
      "cell_type": "markdown",
      "id": "041e973c",
      "metadata": {
        "id": "041e973c"
      },
      "source": [
        "Although the subsample is pretty small, the t-SNE algorithm is able to detect clusters pretty accurately"
      ]
    },
    {
      "cell_type": "markdown",
      "source": [
        "Reference- https://www.geeksforgeeks.org/machine-learning/difference-between-pca-vs-t-sne/\n",
        "\n",
        "Note-ChatGPT was used to help understand the results using WebSearch Feature."
      ],
      "metadata": {
        "id": "G6REKjww_Xtm"
      },
      "id": "G6REKjww_Xtm"
    },
    {
      "cell_type": "markdown",
      "id": "85bb3774",
      "metadata": {
        "id": "85bb3774"
      },
      "source": [
        "## Scaling"
      ]
    },
    {
      "cell_type": "code",
      "execution_count": null,
      "id": "7ab1142e",
      "metadata": {
        "colab": {
          "base_uri": "https://localhost:8080/"
        },
        "id": "7ab1142e",
        "outputId": "d59ee2d3-4ff5-4b48-9ac3-40da2535cd5e"
      },
      "outputs": [
        {
          "output_type": "stream",
          "name": "stdout",
          "text": [
            "(275663, 29) (275663,)\n"
          ]
        }
      ],
      "source": [
        "scaler = StandardScaler()\n",
        "X = scaler.fit_transform(df.drop('Class', axis=1))\n",
        "y = df['Class'].values\n",
        "print(X.shape, y.shape)"
      ]
    },
    {
      "cell_type": "markdown",
      "id": "22e31517",
      "metadata": {
        "id": "22e31517"
      },
      "source": [
        "## Splitting the data"
      ]
    },
    {
      "cell_type": "markdown",
      "id": "6fa74b00",
      "metadata": {
        "id": "6fa74b00"
      },
      "source": [
        "we want to test our models on the original testing set not on the testing set created from GAN. The main goal is to fit the model in the generated data, and test it on the original testing set."
      ]
    },
    {
      "cell_type": "code",
      "execution_count": null,
      "id": "f8303d35",
      "metadata": {
        "id": "f8303d35"
      },
      "outputs": [],
      "source": [
        "X_train, X_test, y_train, y_test = train_test_split(X, y, test_size=0.2, random_state=42, stratify=y)"
      ]
    },
    {
      "cell_type": "markdown",
      "id": "e1beefe0",
      "metadata": {
        "id": "e1beefe0"
      },
      "source": [
        "## Testing baseline model with original data"
      ]
    },
    {
      "cell_type": "code",
      "execution_count": null,
      "id": "IR6UBtvnLx2I",
      "metadata": {
        "id": "IR6UBtvnLx2I"
      },
      "outputs": [],
      "source": [
        "\n",
        "def wasserstein_loss(y_true, y_pred):\n",
        "      return K.mean(y_true * y_pred)\n",
        "\n",
        "import tensorflow as tf\n",
        "from tensorflow.keras.models import Model\n",
        "from tensorflow.keras.layers import Input, Dense, LeakyReLU, Dropout, Flatten\n",
        "from tensorflow.keras.optimizers import RMSprop\n",
        "from tensorflow.keras.initializers import RandomNormal\n",
        "import numpy as np\n",
        "\n",
        "class WGAN:\n",
        "    def __init__(self):\n",
        "        self.latent_dim = 32\n",
        "        self.out_shape = 29\n",
        "        self.n_critic = 5  # Train discriminator more than generator\n",
        "        self.clip_value = 0.01  # weight clipping range\n",
        "        self.batch_size = 64\n",
        "\n",
        "        self.critic = self.build_critic()\n",
        "        self.critic.compile(loss=wasserstein_loss,\n",
        "                            optimizer=RMSprop(learning_rate=0.00005))\n",
        "\n",
        "        self.generator = self.build_generator()\n",
        "\n",
        "        # Combined model\n",
        "        z = Input(shape=(self.latent_dim,))\n",
        "        fake_sample = self.generator(z)\n",
        "        self.critic.trainable = False\n",
        "        valid = self.critic(fake_sample)\n",
        "\n",
        "        self.combined = Model(z, valid)\n",
        "        self.combined.compile(loss=wasserstein_loss, optimizer=RMSprop(learning_rate=0.00005))\n",
        "\n",
        "    def build_generator(self):\n",
        "        model = tf.keras.Sequential()\n",
        "        model.add(Dense(128, input_dim=self.latent_dim))\n",
        "        model.add(LeakyReLU(0.2))\n",
        "        model.add(Dense(256))\n",
        "        model.add(LeakyReLU(0.2))\n",
        "        model.add(Dense(512))\n",
        "        model.add(LeakyReLU(0.2))\n",
        "        model.add(Dense(self.out_shape, activation='tanh'))\n",
        "\n",
        "        z = Input(shape=(self.latent_dim,))\n",
        "        gen_sample = model(z)\n",
        "        return Model(z, gen_sample)\n",
        "\n",
        "\n",
        "\n",
        "    def build_critic(self):\n",
        "        model = tf.keras.Sequential()\n",
        "        model.add(Dense(512, input_dim=self.out_shape))\n",
        "        model.add(LeakyReLU(0.2))\n",
        "        model.add(Dropout(0.4))\n",
        "        model.add(Dense(256))\n",
        "        model.add(LeakyReLU(0.2))\n",
        "        model.add(Dense(1))  # No activation\n",
        "\n",
        "        sample = Input(shape=(self.out_shape,))\n",
        "        validity = model(sample)\n",
        "        return Model(sample, validity)\n",
        "\n",
        "    def train(self, X_train, epochs=10000, batch_size=64, sample_interval=500):\n",
        "        real = -np.ones((batch_size, 1))\n",
        "        fake = np.ones((batch_size, 1))\n",
        "\n",
        "        for epoch in range(epochs):\n",
        "            for _ in range(self.n_critic):\n",
        "                idx = np.random.randint(0, X_train.shape[0], batch_size)\n",
        "                real_samples = X_train[idx]\n",
        "\n",
        "                noise = np.random.normal(0, 1, (batch_size, self.latent_dim))\n",
        "                gen_samples = self.generator.predict(noise, verbose=0)\n",
        "\n",
        "                d_loss_real = self.critic.train_on_batch(real_samples, real)\n",
        "                d_loss_fake = self.critic.train_on_batch(gen_samples, fake)\n",
        "                d_loss = 0.5 * np.add(d_loss_real, d_loss_fake)\n",
        "\n",
        "                # Clip weights\n",
        "                for l in self.critic.layers:\n",
        "                    weights = l.get_weights()\n",
        "                    weights = [np.clip(w, -self.clip_value, self.clip_value) for w in weights]\n",
        "                    l.set_weights(weights)\n",
        "\n",
        "            noise = np.random.normal(0, 1, (batch_size, self.latent_dim))\n",
        "            g_loss = self.combined.train_on_batch(noise, real)\n",
        "\n",
        "            if (epoch + 1) % sample_interval == 0:\n",
        "                print(f\"{epoch+1} [D loss: {d_loss:.4f}] [G loss: {g_loss:.4f}]\")\n"
      ]
    },
    {
      "cell_type": "code",
      "source": [
        "import numpy as np\n",
        "import pandas as pd\n",
        "from lightgbm import LGBMClassifier\n",
        "from sklearn.metrics import classification_report, confusion_matrix\n",
        "import matplotlib.pyplot as plt\n",
        "import seaborn as sns\n",
        "\n",
        "\n",
        "wgan = WGAN()"
      ],
      "metadata": {
        "id": "s8jECRHEJuDv",
        "colab": {
          "base_uri": "https://localhost:8080/"
        },
        "outputId": "912b6ed9-3b85-486d-e973-65cc0d190fcd"
      },
      "id": "s8jECRHEJuDv",
      "execution_count": null,
      "outputs": [
        {
          "output_type": "stream",
          "name": "stderr",
          "text": [
            "/usr/local/lib/python3.11/dist-packages/keras/src/layers/core/dense.py:93: UserWarning:\n",
            "\n",
            "Do not pass an `input_shape`/`input_dim` argument to a layer. When using Sequential models, prefer using an `Input(shape)` object as the first layer in the model instead.\n",
            "\n"
          ]
        }
      ]
    },
    {
      "cell_type": "code",
      "execution_count": null,
      "id": "bZMno1XJU86z",
      "metadata": {
        "colab": {
          "base_uri": "https://localhost:8080/"
        },
        "collapsed": true,
        "id": "bZMno1XJU86z",
        "outputId": "729546a9-90c5-45f1-d92b-1b79bb219a73"
      },
      "outputs": [
        {
          "output_type": "stream",
          "name": "stderr",
          "text": [
            "/usr/local/lib/python3.11/dist-packages/tensorflow/python/data/ops/structured_function.py:258: UserWarning:\n",
            "\n",
            "Even though the `tf.config.experimental_run_functions_eagerly` option is set, this option does not apply to tf.data functions. To force eager execution of tf.data functions, please use `tf.data.experimental.enable_debug_mode()`.\n",
            "\n",
            "/usr/local/lib/python3.11/dist-packages/keras/src/backend/tensorflow/trainer.py:83: UserWarning:\n",
            "\n",
            "The model does not have any trainable weights.\n",
            "\n"
          ]
        },
        {
          "output_type": "stream",
          "name": "stdout",
          "text": [
            "500 [D loss: -0.0002] [G loss: -0.0002]\n",
            "1000 [D loss: -0.0001] [G loss: -0.0003]\n",
            "1500 [D loss: -0.0000] [G loss: -0.0005]\n",
            "2000 [D loss: 0.0001] [G loss: -0.0006]\n",
            "2500 [D loss: 0.0002] [G loss: -0.0008]\n",
            "3000 [D loss: 0.0003] [G loss: -0.0010]\n",
            "3500 [D loss: 0.0003] [G loss: -0.0012]\n",
            "4000 [D loss: 0.0004] [G loss: -0.0013]\n",
            "4500 [D loss: 0.0005] [G loss: -0.0014]\n",
            "5000 [D loss: 0.0005] [G loss: -0.0015]\n",
            "5500 [D loss: 0.0006] [G loss: -0.0016]\n",
            "6000 [D loss: 0.0006] [G loss: -0.0017]\n",
            "6500 [D loss: 0.0007] [G loss: -0.0018]\n",
            "7000 [D loss: 0.0007] [G loss: -0.0019]\n",
            "7500 [D loss: 0.0007] [G loss: -0.0020]\n",
            "8000 [D loss: 0.0008] [G loss: -0.0020]\n",
            "8500 [D loss: 0.0008] [G loss: -0.0021]\n",
            "9000 [D loss: 0.0008] [G loss: -0.0021]\n",
            "9500 [D loss: 0.0008] [G loss: -0.0022]\n",
            "10000 [D loss: 0.0009] [G loss: -0.0022]\n"
          ]
        }
      ],
      "source": [
        "\n",
        "wgan.train(X_train, epochs=10000, batch_size=64, sample_interval=500)\n",
        "\n",
        "\n"
      ]
    },
    {
      "cell_type": "code",
      "source": [
        "\n",
        "n_synth = 250_000\n",
        "noise = np.random.normal(0, 1, (n_synth, wgan.latent_dim))\n",
        "gen_samples = wgan.generator.predict(noise, verbose=0)\n",
        "\n",
        "\n",
        "gen_samples = scaler.inverse_transform(gen_samples)\n",
        "print(\"Synthetic shape:\", gen_samples.shape)\n",
        "\n",
        "\n",
        "gen_df = pd.DataFrame(gen_samples, columns=df.drop('Class', axis=1).columns)\n",
        "print(gen_df.head())\n",
        "\n",
        "Augment training features\n",
        "gen_X_train = np.vstack([X_train, gen_samples])\n",
        "print(\"Augmented X_train shape:\", gen_X_train.shape)\n"
      ],
      "metadata": {
        "id": "NDZln6t_yusN",
        "colab": {
          "base_uri": "https://localhost:8080/"
        },
        "outputId": "6003711a-8bdd-44d9-f8f8-eb26777a0639"
      },
      "id": "NDZln6t_yusN",
      "execution_count": null,
      "outputs": [
        {
          "output_type": "stream",
          "name": "stdout",
          "text": [
            "Synthetic shape: (250000, 29)\n",
            "         V1        V2        V3        V4        V5        V6        V7  \\\n",
            "0 -1.973362  1.659215  1.529405  1.413776 -1.376336 -1.320428  1.237779   \n",
            "1 -1.957725  1.649713  1.523334  1.415670 -1.380825 -1.322769  1.243316   \n",
            "2 -1.919607  1.654529  1.522689  1.405747 -1.365448 -1.305021  1.223640   \n",
            "3 -1.965381  1.643877  1.524567  1.405385 -1.369148 -1.309291  1.227917   \n",
            "4 -1.849460  1.633281  1.503705  1.375708 -1.343155 -1.271835  1.196254   \n",
            "\n",
            "         V8        V9       V10  ...       V20       V21       V22       V23  \\\n",
            "0 -1.191085 -0.058905 -1.081204  ... -0.775187  0.661034 -0.717811  0.624026   \n",
            "1 -1.190245 -0.023812 -1.072137  ... -0.775429  0.671798 -0.716964  0.618697   \n",
            "2 -1.186462 -0.334726 -1.078061  ... -0.771820  0.628673 -0.714340  0.611654   \n",
            "3 -1.183773 -0.754603 -1.075876  ... -0.772662  0.647044 -0.718306  0.604439   \n",
            "4 -1.160789 -0.315258 -1.066017  ... -0.772062  0.629043 -0.702778  0.565781   \n",
            "\n",
            "        V24       V25       V26       V27       V28    Amount  \n",
            "0 -0.600126 -0.526920 -0.477902 -0.391969  0.329270  2.099883  \n",
            "1 -0.604332 -0.526335 -0.465440 -0.388163  0.329518  2.093127  \n",
            "2 -0.588197 -0.521998 -0.471416 -0.388354  0.318595  2.077583  \n",
            "3 -0.589719 -0.518360 -0.467290 -0.390555  0.322084  2.089797  \n",
            "4 -0.583381 -0.503746 -0.454883 -0.380532  0.297151  2.048733  \n",
            "\n",
            "[5 rows x 29 columns]\n",
            "Augmented X_train shape: (470530, 29)\n"
          ]
        }
      ]
    },
    {
      "cell_type": "code",
      "execution_count": null,
      "id": "-RrFc5CArlb6",
      "metadata": {
        "id": "-RrFc5CArlb6",
        "colab": {
          "base_uri": "https://localhost:8080/",
          "height": 1000
        },
        "outputId": "06320ab1-3695-4b87-8b5a-b2461067baee"
      },
      "outputs": [
        {
          "output_type": "stream",
          "name": "stdout",
          "text": [
            "Augmented y_train shape: (470530, 1)\n",
            "[LightGBM] [Info] Number of positive: 250378, number of negative: 220152\n",
            "[LightGBM] [Info] Auto-choosing col-wise multi-threading, the overhead of testing was 0.165714 seconds.\n",
            "You can set `force_col_wise=true` to remove the overhead.\n",
            "[LightGBM] [Info] Total Bins 7395\n",
            "[LightGBM] [Info] Number of data points in the train set: 470530, number of used features: 29\n",
            "[LightGBM] [Info] [binary:BoostFromScore]: pavg=0.532119 -> initscore=0.128654\n",
            "[LightGBM] [Info] Start training from score 0.128654\n"
          ]
        },
        {
          "output_type": "stream",
          "name": "stderr",
          "text": [
            "/usr/local/lib/python3.11/dist-packages/sklearn/utils/validation.py:2739: UserWarning:\n",
            "\n",
            "X does not have valid feature names, but LGBMClassifier was fitted with feature names\n",
            "\n"
          ]
        },
        {
          "output_type": "stream",
          "name": "stdout",
          "text": [
            "\n",
            "ROC-AUC: 0.9889\n",
            "PR-AUC:  0.8016\n",
            "\n"
          ]
        },
        {
          "output_type": "stream",
          "name": "stderr",
          "text": [
            "/usr/local/lib/python3.11/dist-packages/sklearn/utils/validation.py:2739: UserWarning:\n",
            "\n",
            "X does not have valid feature names, but LGBMClassifier was fitted with feature names\n",
            "\n"
          ]
        },
        {
          "output_type": "stream",
          "name": "stdout",
          "text": [
            "\n",
            "Classification Report:\n",
            "               precision    recall  f1-score   support\n",
            "\n",
            "           0       1.00      1.00      1.00     55038\n",
            "           1       0.96      0.73      0.83        95\n",
            "\n",
            "    accuracy                           1.00     55133\n",
            "   macro avg       0.98      0.86      0.91     55133\n",
            "weighted avg       1.00      1.00      1.00     55133\n",
            "\n",
            "Confusion Matrix:\n",
            " [[55035     3]\n",
            " [   26    69]]\n"
          ]
        },
        {
          "output_type": "display_data",
          "data": {
            "text/plain": [
              "<Figure size 640x480 with 2 Axes>"
            ],
            "image/png": "[encoded data removed]"
          },
          "metadata": {}
        }
      ],
      "source": [
        "# 7) Augment training labels: Generated fraud data → label 1\n",
        "gen_y = np.ones((n_synth, 1), dtype='int32')\n",
        "y_train = y_train.reshape(-1, 1)  # Ensure y_train has shape (n, 1)\n",
        "gen_y_train = np.vstack([y_train, gen_y])\n",
        "print(\"Augmented y_train shape:\", gen_y_train.shape)\n",
        "\n",
        "# 8) Train a classifier on augmented dataset\n",
        "clf = LGBMClassifier()\n",
        "clf.fit(gen_X_train, gen_y_train.ravel())\n",
        "\n",
        "# Predict on REAL hold-out + metrics (ROC-AUC & PR-AUC) ---\n",
        "y_prob = clf.predict_proba(X_test)[:, 1]\n",
        "y_pred = (y_prob >= 0.5).astype(int)\n",
        "\n",
        "roc = roc_auc_score(y_test, y_prob)\n",
        "pr  = average_precision_score(y_test, y_prob)\n",
        "\n",
        "print(f\"\\nROC-AUC: {roc:.4f}\")\n",
        "print(f\"PR-AUC:  {pr:.4f}\\n\")\n",
        "\n",
        "# 9) Predict and evaluate on test set\n",
        "y_pred = clf.predict(X_test)\n",
        "print(\"\\nClassification Report:\\n\", classification_report(y_test, y_pred))\n",
        "print(\"Confusion Matrix:\\n\", confusion_matrix(y_test, y_pred))\n",
        "\n",
        "# 10) Optional: Plot confusion matrix\n",
        "sns.heatmap(confusion_matrix(y_test, y_pred), annot=True, fmt='d', cmap='Blues')\n",
        "plt.xlabel('Predicted')\n",
        "plt.ylabel('Actual')\n",
        "plt.title('Confusion Matrix - LGBM on WGAN-Augmented Data')\n",
        "plt.show()\n"
      ]
    },
    {
      "cell_type": "markdown",
      "source": [
        "Interpretation\n",
        "\n",
        "Excellent performance overall:\n",
        "\n",
        "Very high ROC-AUC (0.989) and PR-AUC (0.802) → strong separation and effective under imbalance.\n",
        "\n",
        "High precision (0.96) → very few false positives.\n",
        "\n",
        "Moderate recall (0.73) → it misses some anomalies but still catches most.\n",
        "\n",
        "Compared to CGAN + LGBM (ROC-AUC 0.9766, PR-AUC 0.8478, Recall 0.79), this variant trades a little recall for higher precision.\n",
        "\n",
        "The F1 score (0.83) is strong and balanced, showing good minority class detection quality."
      ],
      "metadata": {
        "id": "7Jf7H89Y_9P-"
      },
      "id": "7Jf7H89Y_9P-"
    },
    {
      "cell_type": "markdown",
      "source": [
        "Conclusion\n",
        "\n",
        "WGAN-Augmented + LGBM is a top-performing setup, nearly matching the best models (Autoencoder, GAN-RNN/LSTM, CGAN + LGBM).\n",
        "\n",
        "Its high precision makes it attractive where false positives are costly, though recall is slightly lower than CGAN + LGBM.\n",
        "\n",
        "Overall, this approach proves that WGAN-augmented data can greatly improve LGBM anomaly detection, outperforming plain LGBM and most unsupervised baselines."
      ],
      "metadata": {
        "id": "IjXANAZm_6rF"
      },
      "id": "IjXANAZm_6rF"
    },
    {
      "cell_type": "markdown",
      "source": [
        "Referneces-[A hybrid deep learning approach with generative adversarial network for credit card fraud detection](https://doi.org/10.3390/technologies12100186), [Improving detection of credit card fraudulent transactions using generative adversarial networks](https://arxiv.org/abs/1907.03355),https://www.kaggle.com/code/shiratorizawa/wcgan"
      ],
      "metadata": {
        "id": "NEfx1NwU_zz-"
      },
      "id": "NEfx1NwU_zz-"
    },
    {
      "cell_type": "markdown",
      "source": [
        "\n",
        "\n",
        "Note- ChatGPT used for understanding results ."
      ],
      "metadata": {
        "id": "q4wCtouK_1uF"
      },
      "id": "q4wCtouK_1uF"
    },
    {
      "cell_type": "code",
      "source": [],
      "metadata": {
        "id": "YDvxBNr37s78"
      },
      "id": "YDvxBNr37s78",
      "execution_count": null,
      "outputs": []
    }
  ],
  "metadata": {
    "accelerator": "GPU",
    "colab": {
      "gpuType": "T4",
      "provenance": []
    },
    "kaggle": {
      "accelerator": "none",
      "dataSources": [
        {
          "datasetId": 310,
          "sourceId": 23498,
          "sourceType": "datasetVersion"
        }
      ],
      "dockerImageVersionId": 30822,
      "isGpuEnabled": false,
      "isInternetEnabled": true,
      "language": "python",
      "sourceType": "notebook"
    },
    "kernelspec": {
      "display_name": "Python 3",
      "name": "python3"
    },
    "language_info": {
      "codemirror_mode": {
        "name": "ipython",
        "version": 3
      },
      "file_extension": ".py",
      "mimetype": "text/x-python",
      "name": "python",
      "nbconvert_exporter": "python",
      "pygments_lexer": "ipython3",
      "version": "3.10.12"
    },
    "papermill": {
      "default_parameters": {},
      "duration": 1846.66889,
      "end_time": "2024-12-30T03:00:04.367340",
      "environment_variables": {},
      "exception": null,
      "input_path": "__notebook__.ipynb",
      "output_path": "__notebook__.ipynb",
      "parameters": {},
      "start_time": "2024-12-30T02:29:17.698450",
      "version": "2.6.0"
    }
  },
  "nbformat": 4,
  "nbformat_minor": 5
}