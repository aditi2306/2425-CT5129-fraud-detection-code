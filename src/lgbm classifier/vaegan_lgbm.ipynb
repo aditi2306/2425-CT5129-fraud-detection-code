{
  "cells": [
    {
      "cell_type": "markdown",
      "source": [
        "#VAEGAN with lgbm classifier"
      ],
      "metadata": {
        "id": "dbmSuG9hTZ_E"
      },
      "id": "dbmSuG9hTZ_E"
    },
    {
      "cell_type": "markdown",
      "id": "95b87982",
      "metadata": {
        "id": "95b87982"
      },
      "source": [
        "## Importing Libraries"
      ]
    },
    {
      "cell_type": "code",
      "execution_count": null,
      "id": "cb2d1424",
      "metadata": {
        "id": "cb2d1424"
      },
      "outputs": [],
      "source": [
        "import os\n",
        "import keras\n",
        "import numpy as np\n",
        "import pandas as pd\n",
        "import seaborn as sns\n",
        "import plotly.express as px\n",
        "import plotly.graph_objects as go\n",
        "import matplotlib.pyplot as plt\n",
        "import lightgbm as lgb\n",
        "from sklearn.model_selection import train_test_split\n",
        "from sklearn.preprocessing import QuantileTransformer\n",
        "from sklearn.preprocessing import StandardScaler, MinMaxScaler\n",
        "from tensorflow.keras.layers import Input, Dense, Reshape, Flatten, Dropout, multiply, Concatenate\n",
        "from tensorflow.keras.layers import BatchNormalization, Activation, Embedding, ZeroPadding2D, LeakyReLU\n",
        "from tensorflow.keras.models import Sequential, Model\n",
        "from tensorflow.keras.optimizers import Adam, RMSprop\n",
        "from tensorflow.keras.initializers import RandomNormal\n",
        "import tensorflow.keras.backend as K\n",
        "from sklearn.utils import shuffle\n",
        "from sklearn.metrics import precision_score, recall_score, f1_score,\\\n",
        "                            accuracy_score, balanced_accuracy_score,classification_report,\\\n",
        "                            confusion_matrix,roc_auc_score,average_precision_score\n",
        "from lightgbm import LGBMClassifier"
      ]
    },
    {
      "cell_type": "code",
      "execution_count": null,
      "id": "QgenRhZYJcmv",
      "metadata": {
        "id": "QgenRhZYJcmv"
      },
      "outputs": [],
      "source": [
        "import tensorflow as tf\n",
        "tf.config.run_functions_eagerly(True)\n"
      ]
    },
    {
      "cell_type": "markdown",
      "id": "90a60195",
      "metadata": {
        "id": "90a60195"
      },
      "source": [
        "## EDA"
      ]
    },
    {
      "cell_type": "code",
      "execution_count": null,
      "id": "79bf21d7",
      "metadata": {
        "colab": {
          "base_uri": "https://localhost:8080/"
        },
        "id": "79bf21d7",
        "outputId": "59047247-a6ce-494f-b1e4-33a4a96a8b83"
      },
      "outputs": [
        {
          "output_type": "stream",
          "name": "stdout",
          "text": [
            "<class 'pandas.core.frame.DataFrame'>\n",
            "RangeIndex: 284807 entries, 0 to 284806\n",
            "Data columns (total 30 columns):\n",
            " #   Column  Non-Null Count   Dtype  \n",
            "---  ------  --------------   -----  \n",
            " 0   V1      284807 non-null  float64\n",
            " 1   V2      284807 non-null  float64\n",
            " 2   V3      284807 non-null  float64\n",
            " 3   V4      284807 non-null  float64\n",
            " 4   V5      284807 non-null  float64\n",
            " 5   V6      284807 non-null  float64\n",
            " 6   V7      284807 non-null  float64\n",
            " 7   V8      284807 non-null  float64\n",
            " 8   V9      284807 non-null  float64\n",
            " 9   V10     284807 non-null  float64\n",
            " 10  V11     284807 non-null  float64\n",
            " 11  V12     284807 non-null  float64\n",
            " 12  V13     284807 non-null  float64\n",
            " 13  V14     284807 non-null  float64\n",
            " 14  V15     284807 non-null  float64\n",
            " 15  V16     284807 non-null  float64\n",
            " 16  V17     284807 non-null  float64\n",
            " 17  V18     284807 non-null  float64\n",
            " 18  V19     284807 non-null  float64\n",
            " 19  V20     284807 non-null  float64\n",
            " 20  V21     284807 non-null  float64\n",
            " 21  V22     284807 non-null  float64\n",
            " 22  V23     284807 non-null  float64\n",
            " 23  V24     284807 non-null  float64\n",
            " 24  V25     284807 non-null  float64\n",
            " 25  V26     284807 non-null  float64\n",
            " 26  V27     284807 non-null  float64\n",
            " 27  V28     284807 non-null  float64\n",
            " 28  Amount  284807 non-null  float64\n",
            " 29  Class   284807 non-null  int64  \n",
            "dtypes: float64(29), int64(1)\n",
            "memory usage: 65.2 MB\n"
          ]
        }
      ],
      "source": [
        "df=pd.read_csv('./creditcard.csv')\n",
        "df=df.drop('Time',axis=1)\n",
        "df.head()\n",
        "df.info()"
      ]
    },
    {
      "cell_type": "markdown",
      "id": "a828e2f8",
      "metadata": {
        "id": "a828e2f8"
      },
      "source": [
        "PCA Transformation: The description of the data says that all the features went through a PCA transformation (Except for time and amount).  \n",
        "Scaling: Keep in mind that in order to implement a PCA transformation features need to be previously scaled."
      ]
    },
    {
      "cell_type": "code",
      "execution_count": null,
      "id": "b13394f3",
      "metadata": {
        "colab": {
          "base_uri": "https://localhost:8080/",
          "height": 349
        },
        "id": "b13394f3",
        "outputId": "ebb5f12e-a4ac-4f0f-95d1-dfd237d11c8e"
      },
      "outputs": [
        {
          "output_type": "execute_result",
          "data": {
            "text/plain": [
              "                 V1            V2            V3            V4            V5  \\\n",
              "count  2.848070e+05  2.848070e+05  2.848070e+05  2.848070e+05  2.848070e+05   \n",
              "mean   1.168375e-15  3.416908e-16 -1.379537e-15  2.074095e-15  9.604066e-16   \n",
              "std    1.958696e+00  1.651309e+00  1.516255e+00  1.415869e+00  1.380247e+00   \n",
              "min   -5.640751e+01 -7.271573e+01 -4.832559e+01 -5.683171e+00 -1.137433e+02   \n",
              "25%   -9.203734e-01 -5.985499e-01 -8.903648e-01 -8.486401e-01 -6.915971e-01   \n",
              "50%    1.810880e-02  6.548556e-02  1.798463e-01 -1.984653e-02 -5.433583e-02   \n",
              "75%    1.315642e+00  8.037239e-01  1.027196e+00  7.433413e-01  6.119264e-01   \n",
              "max    2.454930e+00  2.205773e+01  9.382558e+00  1.687534e+01  3.480167e+01   \n",
              "\n",
              "                 V6            V7            V8            V9           V10  \\\n",
              "count  2.848070e+05  2.848070e+05  2.848070e+05  2.848070e+05  2.848070e+05   \n",
              "mean   1.487313e-15 -5.556467e-16  1.213481e-16 -2.406331e-15  2.239053e-15   \n",
              "std    1.332271e+00  1.237094e+00  1.194353e+00  1.098632e+00  1.088850e+00   \n",
              "min   -2.616051e+01 -4.355724e+01 -7.321672e+01 -1.343407e+01 -2.458826e+01   \n",
              "25%   -7.682956e-01 -5.540759e-01 -2.086297e-01 -6.430976e-01 -5.354257e-01   \n",
              "50%   -2.741871e-01  4.010308e-02  2.235804e-02 -5.142873e-02 -9.291738e-02   \n",
              "75%    3.985649e-01  5.704361e-01  3.273459e-01  5.971390e-01  4.539234e-01   \n",
              "max    7.330163e+01  1.205895e+02  2.000721e+01  1.559499e+01  2.374514e+01   \n",
              "\n",
              "       ...           V21           V22           V23           V24  \\\n",
              "count  ...  2.848070e+05  2.848070e+05  2.848070e+05  2.848070e+05   \n",
              "mean   ...  1.654067e-16 -3.568593e-16  2.578648e-16  4.473266e-15   \n",
              "std    ...  7.345240e-01  7.257016e-01  6.244603e-01  6.056471e-01   \n",
              "min    ... -3.483038e+01 -1.093314e+01 -4.480774e+01 -2.836627e+00   \n",
              "25%    ... -2.283949e-01 -5.423504e-01 -1.618463e-01 -3.545861e-01   \n",
              "50%    ... -2.945017e-02  6.781943e-03 -1.119293e-02  4.097606e-02   \n",
              "75%    ...  1.863772e-01  5.285536e-01  1.476421e-01  4.395266e-01   \n",
              "max    ...  2.720284e+01  1.050309e+01  2.252841e+01  4.584549e+00   \n",
              "\n",
              "                V25           V26           V27           V28         Amount  \\\n",
              "count  2.848070e+05  2.848070e+05  2.848070e+05  2.848070e+05  284807.000000   \n",
              "mean   5.340915e-16  1.683437e-15 -3.660091e-16 -1.227390e-16      88.349619   \n",
              "std    5.212781e-01  4.822270e-01  4.036325e-01  3.300833e-01     250.120109   \n",
              "min   -1.029540e+01 -2.604551e+00 -2.256568e+01 -1.543008e+01       0.000000   \n",
              "25%   -3.171451e-01 -3.269839e-01 -7.083953e-02 -5.295979e-02       5.600000   \n",
              "50%    1.659350e-02 -5.213911e-02  1.342146e-03  1.124383e-02      22.000000   \n",
              "75%    3.507156e-01  2.409522e-01  9.104512e-02  7.827995e-02      77.165000   \n",
              "max    7.519589e+00  3.517346e+00  3.161220e+01  3.384781e+01   25691.160000   \n",
              "\n",
              "               Class  \n",
              "count  284807.000000  \n",
              "mean        0.001727  \n",
              "std         0.041527  \n",
              "min         0.000000  \n",
              "25%         0.000000  \n",
              "50%         0.000000  \n",
              "75%         0.000000  \n",
              "max         1.000000  \n",
              "\n",
              "[8 rows x 30 columns]"
            ],
            "text/html": [
              "\n",
              "  <div id=\"df-569851c9-28c4-48b0-b144-f3104a90e46d\" class=\"colab-df-container\">\n",
              "    <div>\n",
              "<style scoped>\n",
              "    .dataframe tbody tr th:only-of-type {\n",
              "        vertical-align: middle;\n",
              "    }\n",
              "\n",
              "    .dataframe tbody tr th {\n",
              "        vertical-align: top;\n",
              "    }\n",
              "\n",
              "    .dataframe thead th {\n",
              "        text-align: right;\n",
              "    }\n",
              "</style>\n",
              "<table border=\"1\" class=\"dataframe\">\n",
              "  <thead>\n",
              "    <tr style=\"text-align: right;\">\n",
              "      <th></th>\n",
              "      <th>V1</th>\n",
              "      <th>V2</th>\n",
              "      <th>V3</th>\n",
              "      <th>V4</th>\n",
              "      <th>V5</th>\n",
              "      <th>V6</th>\n",
              "      <th>V7</th>\n",
              "      <th>V8</th>\n",
              "      <th>V9</th>\n",
              "      <th>V10</th>\n",
              "      <th>...</th>\n",
              "      <th>V21</th>\n",
              "      <th>V22</th>\n",
              "      <th>V23</th>\n",
              "      <th>V24</th>\n",
              "      <th>V25</th>\n",
              "      <th>V26</th>\n",
              "      <th>V27</th>\n",
              "      <th>V28</th>\n",
              "      <th>Amount</th>\n",
              "      <th>Class</th>\n",
              "    </tr>\n",
              "  </thead>\n",
              "  <tbody>\n",
              "    <tr>\n",
              "      <th>count</th>\n",
              "      <td>2.848070e+05</td>\n",
              "      <td>2.848070e+05</td>\n",
              "      <td>2.848070e+05</td>\n",
              "      <td>2.848070e+05</td>\n",
              "      <td>2.848070e+05</td>\n",
              "      <td>2.848070e+05</td>\n",
              "      <td>2.848070e+05</td>\n",
              "      <td>2.848070e+05</td>\n",
              "      <td>2.848070e+05</td>\n",
              "      <td>2.848070e+05</td>\n",
              "      <td>...</td>\n",
              "      <td>2.848070e+05</td>\n",
              "      <td>2.848070e+05</td>\n",
              "      <td>2.848070e+05</td>\n",
              "      <td>2.848070e+05</td>\n",
              "      <td>2.848070e+05</td>\n",
              "      <td>2.848070e+05</td>\n",
              "      <td>2.848070e+05</td>\n",
              "      <td>2.848070e+05</td>\n",
              "      <td>284807.000000</td>\n",
              "      <td>284807.000000</td>\n",
              "    </tr>\n",
              "    <tr>\n",
              "      <th>mean</th>\n",
              "      <td>1.168375e-15</td>\n",
              "      <td>3.416908e-16</td>\n",
              "      <td>-1.379537e-15</td>\n",
              "      <td>2.074095e-15</td>\n",
              "      <td>9.604066e-16</td>\n",
              "      <td>1.487313e-15</td>\n",
              "      <td>-5.556467e-16</td>\n",
              "      <td>1.213481e-16</td>\n",
              "      <td>-2.406331e-15</td>\n",
              "      <td>2.239053e-15</td>\n",
              "      <td>...</td>\n",
              "      <td>1.654067e-16</td>\n",
              "      <td>-3.568593e-16</td>\n",
              "      <td>2.578648e-16</td>\n",
              "      <td>4.473266e-15</td>\n",
              "      <td>5.340915e-16</td>\n",
              "      <td>1.683437e-15</td>\n",
              "      <td>-3.660091e-16</td>\n",
              "      <td>-1.227390e-16</td>\n",
              "      <td>88.349619</td>\n",
              "      <td>0.001727</td>\n",
              "    </tr>\n",
              "    <tr>\n",
              "      <th>std</th>\n",
              "      <td>1.958696e+00</td>\n",
              "      <td>1.651309e+00</td>\n",
              "      <td>1.516255e+00</td>\n",
              "      <td>1.415869e+00</td>\n",
              "      <td>1.380247e+00</td>\n",
              "      <td>1.332271e+00</td>\n",
              "      <td>1.237094e+00</td>\n",
              "      <td>1.194353e+00</td>\n",
              "      <td>1.098632e+00</td>\n",
              "      <td>1.088850e+00</td>\n",
              "      <td>...</td>\n",
              "      <td>7.345240e-01</td>\n",
              "      <td>7.257016e-01</td>\n",
              "      <td>6.244603e-01</td>\n",
              "      <td>6.056471e-01</td>\n",
              "      <td>5.212781e-01</td>\n",
              "      <td>4.822270e-01</td>\n",
              "      <td>4.036325e-01</td>\n",
              "      <td>3.300833e-01</td>\n",
              "      <td>250.120109</td>\n",
              "      <td>0.041527</td>\n",
              "    </tr>\n",
              "    <tr>\n",
              "      <th>min</th>\n",
              "      <td>-5.640751e+01</td>\n",
              "      <td>-7.271573e+01</td>\n",
              "      <td>-4.832559e+01</td>\n",
              "      <td>-5.683171e+00</td>\n",
              "      <td>-1.137433e+02</td>\n",
              "      <td>-2.616051e+01</td>\n",
              "      <td>-4.355724e+01</td>\n",
              "      <td>-7.321672e+01</td>\n",
              "      <td>-1.343407e+01</td>\n",
              "      <td>-2.458826e+01</td>\n",
              "      <td>...</td>\n",
              "      <td>-3.483038e+01</td>\n",
              "      <td>-1.093314e+01</td>\n",
              "      <td>-4.480774e+01</td>\n",
              "      <td>-2.836627e+00</td>\n",
              "      <td>-1.029540e+01</td>\n",
              "      <td>-2.604551e+00</td>\n",
              "      <td>-2.256568e+01</td>\n",
              "      <td>-1.543008e+01</td>\n",
              "      <td>0.000000</td>\n",
              "      <td>0.000000</td>\n",
              "    </tr>\n",
              "    <tr>\n",
              "      <th>25%</th>\n",
              "      <td>-9.203734e-01</td>\n",
              "      <td>-5.985499e-01</td>\n",
              "      <td>-8.903648e-01</td>\n",
              "      <td>-8.486401e-01</td>\n",
              "      <td>-6.915971e-01</td>\n",
              "      <td>-7.682956e-01</td>\n",
              "      <td>-5.540759e-01</td>\n",
              "      <td>-2.086297e-01</td>\n",
              "      <td>-6.430976e-01</td>\n",
              "      <td>-5.354257e-01</td>\n",
              "      <td>...</td>\n",
              "      <td>-2.283949e-01</td>\n",
              "      <td>-5.423504e-01</td>\n",
              "      <td>-1.618463e-01</td>\n",
              "      <td>-3.545861e-01</td>\n",
              "      <td>-3.171451e-01</td>\n",
              "      <td>-3.269839e-01</td>\n",
              "      <td>-7.083953e-02</td>\n",
              "      <td>-5.295979e-02</td>\n",
              "      <td>5.600000</td>\n",
              "      <td>0.000000</td>\n",
              "    </tr>\n",
              "    <tr>\n",
              "      <th>50%</th>\n",
              "      <td>1.810880e-02</td>\n",
              "      <td>6.548556e-02</td>\n",
              "      <td>1.798463e-01</td>\n",
              "      <td>-1.984653e-02</td>\n",
              "      <td>-5.433583e-02</td>\n",
              "      <td>-2.741871e-01</td>\n",
              "      <td>4.010308e-02</td>\n",
              "      <td>2.235804e-02</td>\n",
              "      <td>-5.142873e-02</td>\n",
              "      <td>-9.291738e-02</td>\n",
              "      <td>...</td>\n",
              "      <td>-2.945017e-02</td>\n",
              "      <td>6.781943e-03</td>\n",
              "      <td>-1.119293e-02</td>\n",
              "      <td>4.097606e-02</td>\n",
              "      <td>1.659350e-02</td>\n",
              "      <td>-5.213911e-02</td>\n",
              "      <td>1.342146e-03</td>\n",
              "      <td>1.124383e-02</td>\n",
              "      <td>22.000000</td>\n",
              "      <td>0.000000</td>\n",
              "    </tr>\n",
              "    <tr>\n",
              "      <th>75%</th>\n",
              "      <td>1.315642e+00</td>\n",
              "      <td>8.037239e-01</td>\n",
              "      <td>1.027196e+00</td>\n",
              "      <td>7.433413e-01</td>\n",
              "      <td>6.119264e-01</td>\n",
              "      <td>3.985649e-01</td>\n",
              "      <td>5.704361e-01</td>\n",
              "      <td>3.273459e-01</td>\n",
              "      <td>5.971390e-01</td>\n",
              "      <td>4.539234e-01</td>\n",
              "      <td>...</td>\n",
              "      <td>1.863772e-01</td>\n",
              "      <td>5.285536e-01</td>\n",
              "      <td>1.476421e-01</td>\n",
              "      <td>4.395266e-01</td>\n",
              "      <td>3.507156e-01</td>\n",
              "      <td>2.409522e-01</td>\n",
              "      <td>9.104512e-02</td>\n",
              "      <td>7.827995e-02</td>\n",
              "      <td>77.165000</td>\n",
              "      <td>0.000000</td>\n",
              "    </tr>\n",
              "    <tr>\n",
              "      <th>max</th>\n",
              "      <td>2.454930e+00</td>\n",
              "      <td>2.205773e+01</td>\n",
              "      <td>9.382558e+00</td>\n",
              "      <td>1.687534e+01</td>\n",
              "      <td>3.480167e+01</td>\n",
              "      <td>7.330163e+01</td>\n",
              "      <td>1.205895e+02</td>\n",
              "      <td>2.000721e+01</td>\n",
              "      <td>1.559499e+01</td>\n",
              "      <td>2.374514e+01</td>\n",
              "      <td>...</td>\n",
              "      <td>2.720284e+01</td>\n",
              "      <td>1.050309e+01</td>\n",
              "      <td>2.252841e+01</td>\n",
              "      <td>4.584549e+00</td>\n",
              "      <td>7.519589e+00</td>\n",
              "      <td>3.517346e+00</td>\n",
              "      <td>3.161220e+01</td>\n",
              "      <td>3.384781e+01</td>\n",
              "      <td>25691.160000</td>\n",
              "      <td>1.000000</td>\n",
              "    </tr>\n",
              "  </tbody>\n",
              "</table>\n",
              "<p>8 rows × 30 columns</p>\n",
              "</div>\n",
              "    <div class=\"colab-df-buttons\">\n",
              "\n",
              "  <div class=\"colab-df-container\">\n",
              "    <button class=\"colab-df-convert\" onclick=\"convertToInteractive('df-569851c9-28c4-48b0-b144-f3104a90e46d')\"\n",
              "            title=\"Convert this dataframe to an interactive table.\"\n",
              "            style=\"display:none;\">\n",
              "\n",
              "  <svg xmlns=\"http://www.w3.org/2000/svg\" height=\"24px\" viewBox=\"0 -960 960 960\">\n",
              "    <path d=\"M120-120v-720h720v720H120Zm60-500h600v-160H180v160Zm220 220h160v-160H400v160Zm0 220h160v-160H400v160ZM180-400h160v-160H180v160Zm440 0h160v-160H620v160ZM180-180h160v-160H180v160Zm440 0h160v-160H620v160Z\"/>\n",
              "  </svg>\n",
              "    </button>\n",
              "\n",
              "  <style>\n",
              "    .colab-df-container {\n",
              "      display:flex;\n",
              "      gap: 12px;\n",
              "    }\n",
              "\n",
              "    .colab-df-convert {\n",
              "      background-color: #E8F0FE;\n",
              "      border: none;\n",
              "      border-radius: 50%;\n",
              "      cursor: pointer;\n",
              "      display: none;\n",
              "      fill: #1967D2;\n",
              "      height: 32px;\n",
              "      padding: 0 0 0 0;\n",
              "      width: 32px;\n",
              "    }\n",
              "\n",
              "    .colab-df-convert:hover {\n",
              "      background-color: #E2EBFA;\n",
              "      box-shadow: 0px 1px 2px rgba(60, 64, 67, 0.3), 0px 1px 3px 1px rgba(60, 64, 67, 0.15);\n",
              "      fill: #174EA6;\n",
              "    }\n",
              "\n",
              "    .colab-df-buttons div {\n",
              "      margin-bottom: 4px;\n",
              "    }\n",
              "\n",
              "    [theme=dark] .colab-df-convert {\n",
              "      background-color: #3B4455;\n",
              "      fill: #D2E3FC;\n",
              "    }\n",
              "\n",
              "    [theme=dark] .colab-df-convert:hover {\n",
              "      background-color: #434B5C;\n",
              "      box-shadow: 0px 1px 3px 1px rgba(0, 0, 0, 0.15);\n",
              "      filter: drop-shadow(0px 1px 2px rgba(0, 0, 0, 0.3));\n",
              "      fill: #FFFFFF;\n",
              "    }\n",
              "  </style>\n",
              "\n",
              "    <script>\n",
              "      const buttonEl =\n",
              "        document.querySelector('#df-569851c9-28c4-48b0-b144-f3104a90e46d button.colab-df-convert');\n",
              "      buttonEl.style.display =\n",
              "        google.colab.kernel.accessAllowed ? 'block' : 'none';\n",
              "\n",
              "      async function convertToInteractive(key) {\n",
              "        const element = document.querySelector('#df-569851c9-28c4-48b0-b144-f3104a90e46d');\n",
              "        const dataTable =\n",
              "          await google.colab.kernel.invokeFunction('convertToInteractive',\n",
              "                                                    [key], {});\n",
              "        if (!dataTable) return;\n",
              "\n",
              "        const docLinkHtml = 'Like what you see? Visit the ' +\n",
              "          '<a target=\"_blank\" href=https://colab.research.google.com/notebooks/data_table.ipynb>data table notebook</a>'\n",
              "          + ' to learn more about interactive tables.';\n",
              "        element.innerHTML = '';\n",
              "        dataTable['output_type'] = 'display_data';\n",
              "        await google.colab.output.renderOutput(dataTable, element);\n",
              "        const docLink = document.createElement('div');\n",
              "        docLink.innerHTML = docLinkHtml;\n",
              "        element.appendChild(docLink);\n",
              "      }\n",
              "    </script>\n",
              "  </div>\n",
              "\n",
              "\n",
              "    <div id=\"df-865f24d1-d161-4e14-97f7-4271a1bed272\">\n",
              "      <button class=\"colab-df-quickchart\" onclick=\"quickchart('df-865f24d1-d161-4e14-97f7-4271a1bed272')\"\n",
              "                title=\"Suggest charts\"\n",
              "                style=\"display:none;\">\n",
              "\n",
              "<svg xmlns=\"http://www.w3.org/2000/svg\" height=\"24px\"viewBox=\"0 0 24 24\"\n",
              "     width=\"24px\">\n",
              "    <g>\n",
              "        <path d=\"M19 3H5c-1.1 0-2 .9-2 2v14c0 1.1.9 2 2 2h14c1.1 0 2-.9 2-2V5c0-1.1-.9-2-2-2zM9 17H7v-7h2v7zm4 0h-2V7h2v10zm4 0h-2v-4h2v4z\"/>\n",
              "    </g>\n",
              "</svg>\n",
              "      </button>\n",
              "\n",
              "<style>\n",
              "  .colab-df-quickchart {\n",
              "      --bg-color: #E8F0FE;\n",
              "      --fill-color: #1967D2;\n",
              "      --hover-bg-color: #E2EBFA;\n",
              "      --hover-fill-color: #174EA6;\n",
              "      --disabled-fill-color: #AAA;\n",
              "      --disabled-bg-color: #DDD;\n",
              "  }\n",
              "\n",
              "  [theme=dark] .colab-df-quickchart {\n",
              "      --bg-color: #3B4455;\n",
              "      --fill-color: #D2E3FC;\n",
              "      --hover-bg-color: #434B5C;\n",
              "      --hover-fill-color: #FFFFFF;\n",
              "      --disabled-bg-color: #3B4455;\n",
              "      --disabled-fill-color: #666;\n",
              "  }\n",
              "\n",
              "  .colab-df-quickchart {\n",
              "    background-color: var(--bg-color);\n",
              "    border: none;\n",
              "    border-radius: 50%;\n",
              "    cursor: pointer;\n",
              "    display: none;\n",
              "    fill: var(--fill-color);\n",
              "    height: 32px;\n",
              "    padding: 0;\n",
              "    width: 32px;\n",
              "  }\n",
              "\n",
              "  .colab-df-quickchart:hover {\n",
              "    background-color: var(--hover-bg-color);\n",
              "    box-shadow: 0 1px 2px rgba(60, 64, 67, 0.3), 0 1px 3px 1px rgba(60, 64, 67, 0.15);\n",
              "    fill: var(--button-hover-fill-color);\n",
              "  }\n",
              "\n",
              "  .colab-df-quickchart-complete:disabled,\n",
              "  .colab-df-quickchart-complete:disabled:hover {\n",
              "    background-color: var(--disabled-bg-color);\n",
              "    fill: var(--disabled-fill-color);\n",
              "    box-shadow: none;\n",
              "  }\n",
              "\n",
              "  .colab-df-spinner {\n",
              "    border: 2px solid var(--fill-color);\n",
              "    border-color: transparent;\n",
              "    border-bottom-color: var(--fill-color);\n",
              "    animation:\n",
              "      spin 1s steps(1) infinite;\n",
              "  }\n",
              "\n",
              "  @keyframes spin {\n",
              "    0% {\n",
              "      border-color: transparent;\n",
              "      border-bottom-color: var(--fill-color);\n",
              "      border-left-color: var(--fill-color);\n",
              "    }\n",
              "    20% {\n",
              "      border-color: transparent;\n",
              "      border-left-color: var(--fill-color);\n",
              "      border-top-color: var(--fill-color);\n",
              "    }\n",
              "    30% {\n",
              "      border-color: transparent;\n",
              "      border-left-color: var(--fill-color);\n",
              "      border-top-color: var(--fill-color);\n",
              "      border-right-color: var(--fill-color);\n",
              "    }\n",
              "    40% {\n",
              "      border-color: transparent;\n",
              "      border-right-color: var(--fill-color);\n",
              "      border-top-color: var(--fill-color);\n",
              "    }\n",
              "    60% {\n",
              "      border-color: transparent;\n",
              "      border-right-color: var(--fill-color);\n",
              "    }\n",
              "    80% {\n",
              "      border-color: transparent;\n",
              "      border-right-color: var(--fill-color);\n",
              "      border-bottom-color: var(--fill-color);\n",
              "    }\n",
              "    90% {\n",
              "      border-color: transparent;\n",
              "      border-bottom-color: var(--fill-color);\n",
              "    }\n",
              "  }\n",
              "</style>\n",
              "\n",
              "      <script>\n",
              "        async function quickchart(key) {\n",
              "          const quickchartButtonEl =\n",
              "            document.querySelector('#' + key + ' button');\n",
              "          quickchartButtonEl.disabled = true;  // To prevent multiple clicks.\n",
              "          quickchartButtonEl.classList.add('colab-df-spinner');\n",
              "          try {\n",
              "            const charts = await google.colab.kernel.invokeFunction(\n",
              "                'suggestCharts', [key], {});\n",
              "          } catch (error) {\n",
              "            console.error('Error during call to suggestCharts:', error);\n",
              "          }\n",
              "          quickchartButtonEl.classList.remove('colab-df-spinner');\n",
              "          quickchartButtonEl.classList.add('colab-df-quickchart-complete');\n",
              "        }\n",
              "        (() => {\n",
              "          let quickchartButtonEl =\n",
              "            document.querySelector('#df-865f24d1-d161-4e14-97f7-4271a1bed272 button');\n",
              "          quickchartButtonEl.style.display =\n",
              "            google.colab.kernel.accessAllowed ? 'block' : 'none';\n",
              "        })();\n",
              "      </script>\n",
              "    </div>\n",
              "\n",
              "    </div>\n",
              "  </div>\n"
            ],
            "application/vnd.google.colaboratory.intrinsic+json": {
              "type": "dataframe"
            }
          },
          "metadata": {},
          "execution_count": 4
        }
      ],
      "source": [
        "df.describe()"
      ]
    },
    {
      "cell_type": "code",
      "execution_count": null,
      "id": "306b3e6f",
      "metadata": {
        "colab": {
          "base_uri": "https://localhost:8080/"
        },
        "id": "306b3e6f",
        "outputId": "0924b57b-ddfe-4b5a-b6bc-53a93e2567ac"
      },
      "outputs": [
        {
          "output_type": "stream",
          "name": "stdout",
          "text": [
            "Dataset has 9144 duplicate rows\n"
          ]
        }
      ],
      "source": [
        "# checking for duplicate values\n",
        "print(f\"Dataset has {df.duplicated().sum()} duplicate rows\")\n",
        "# dropping duplicate rows\n",
        "df.drop_duplicates(inplace=True)"
      ]
    },
    {
      "cell_type": "code",
      "execution_count": null,
      "id": "8b2f4c06",
      "metadata": {
        "colab": {
          "base_uri": "https://localhost:8080/"
        },
        "id": "8b2f4c06",
        "outputId": "1e41c5a7-e32d-4ac0-f7c9-196d212562d6"
      },
      "outputs": [
        {
          "output_type": "stream",
          "name": "stdout",
          "text": [
            "<class 'pandas.core.frame.DataFrame'>\n",
            "Index: 275663 entries, 0 to 284806\n",
            "Data columns (total 30 columns):\n",
            " #   Column  Non-Null Count   Dtype  \n",
            "---  ------  --------------   -----  \n",
            " 0   V1      275663 non-null  float64\n",
            " 1   V2      275663 non-null  float64\n",
            " 2   V3      275663 non-null  float64\n",
            " 3   V4      275663 non-null  float64\n",
            " 4   V5      275663 non-null  float64\n",
            " 5   V6      275663 non-null  float64\n",
            " 6   V7      275663 non-null  float64\n",
            " 7   V8      275663 non-null  float64\n",
            " 8   V9      275663 non-null  float64\n",
            " 9   V10     275663 non-null  float64\n",
            " 10  V11     275663 non-null  float64\n",
            " 11  V12     275663 non-null  float64\n",
            " 12  V13     275663 non-null  float64\n",
            " 13  V14     275663 non-null  float64\n",
            " 14  V15     275663 non-null  float64\n",
            " 15  V16     275663 non-null  float64\n",
            " 16  V17     275663 non-null  float64\n",
            " 17  V18     275663 non-null  float64\n",
            " 18  V19     275663 non-null  float64\n",
            " 19  V20     275663 non-null  float64\n",
            " 20  V21     275663 non-null  float64\n",
            " 21  V22     275663 non-null  float64\n",
            " 22  V23     275663 non-null  float64\n",
            " 23  V24     275663 non-null  float64\n",
            " 24  V25     275663 non-null  float64\n",
            " 25  V26     275663 non-null  float64\n",
            " 26  V27     275663 non-null  float64\n",
            " 27  V28     275663 non-null  float64\n",
            " 28  Amount  275663 non-null  float64\n",
            " 29  Class   275663 non-null  int64  \n",
            "dtypes: float64(29), int64(1)\n",
            "memory usage: 65.2 MB\n"
          ]
        }
      ],
      "source": [
        "df.info()"
      ]
    },
    {
      "cell_type": "markdown",
      "id": "c5128908",
      "metadata": {
        "id": "c5128908"
      },
      "source": [
        "There is no null values"
      ]
    },
    {
      "cell_type": "code",
      "execution_count": null,
      "id": "9d6c996a",
      "metadata": {
        "colab": {
          "base_uri": "https://localhost:8080/"
        },
        "id": "9d6c996a",
        "outputId": "725de928-ae22-4950-f443-4855bc96e36d"
      },
      "outputs": [
        {
          "output_type": "stream",
          "name": "stdout",
          "text": [
            "No Frauds 99.83 % of the dataset\n",
            "Frauds 0.17 % of the dataset\n"
          ]
        }
      ],
      "source": [
        "print('No Frauds', round(df['Class'].value_counts()[0]/len(df) * 100,2), '% of the dataset')\n",
        "print('Frauds', round(df['Class'].value_counts()[1]/len(df) * 100,2), '% of the dataset')"
      ]
    },
    {
      "cell_type": "code",
      "execution_count": null,
      "id": "d88ad047",
      "metadata": {
        "colab": {
          "base_uri": "https://localhost:8080/",
          "height": 467
        },
        "id": "d88ad047",
        "outputId": "fc234a83-1834-4609-97b3-8529b9d987fb"
      },
      "outputs": [
        {
          "output_type": "execute_result",
          "data": {
            "text/plain": [
              "<Axes: xlabel='Class', ylabel='count'>"
            ]
          },
          "metadata": {},
          "execution_count": 8
        },
        {
          "output_type": "display_data",
          "data": {
            "text/plain": [
              "<Figure size 640x480 with 1 Axes>"
            ],
            "image/png": "[encoded data removed]"
          },
          "metadata": {}
        }
      ],
      "source": [
        "sns.countplot(data=df,x='Class')"
      ]
    },
    {
      "cell_type": "code",
      "execution_count": null,
      "id": "30728ee8",
      "metadata": {
        "colab": {
          "base_uri": "https://localhost:8080/",
          "height": 993
        },
        "id": "30728ee8",
        "outputId": "79457b61-2608-47e9-a710-491e41acbdc5"
      },
      "outputs": [
        {
          "output_type": "execute_result",
          "data": {
            "text/plain": [
              "V1        -3.273070\n",
              "V2        -4.653486\n",
              "V3        -2.216730\n",
              "V4         0.681387\n",
              "V5        -2.458790\n",
              "V6         1.867576\n",
              "V7         2.877722\n",
              "V8        -8.292631\n",
              "V9         0.550965\n",
              "V10        1.242165\n",
              "V11        0.347772\n",
              "V12       -2.208171\n",
              "V13        0.061058\n",
              "V14       -1.953613\n",
              "V15       -0.295836\n",
              "V16       -1.048371\n",
              "V17       -3.802987\n",
              "V18       -0.255710\n",
              "V19        0.115957\n",
              "V20       -2.045060\n",
              "V21        2.784302\n",
              "V22       -0.200868\n",
              "V23       -5.805236\n",
              "V24       -0.545636\n",
              "V25       -0.408260\n",
              "V26        0.587603\n",
              "V27       -0.745732\n",
              "V28       11.400938\n",
              "Amount    16.841622\n",
              "dtype: float64"
            ],
            "text/html": [
              "<div>\n",
              "<style scoped>\n",
              "    .dataframe tbody tr th:only-of-type {\n",
              "        vertical-align: middle;\n",
              "    }\n",
              "\n",
              "    .dataframe tbody tr th {\n",
              "        vertical-align: top;\n",
              "    }\n",
              "\n",
              "    .dataframe thead th {\n",
              "        text-align: right;\n",
              "    }\n",
              "</style>\n",
              "<table border=\"1\" class=\"dataframe\">\n",
              "  <thead>\n",
              "    <tr style=\"text-align: right;\">\n",
              "      <th></th>\n",
              "      <th>0</th>\n",
              "    </tr>\n",
              "  </thead>\n",
              "  <tbody>\n",
              "    <tr>\n",
              "      <th>V1</th>\n",
              "      <td>-3.273070</td>\n",
              "    </tr>\n",
              "    <tr>\n",
              "      <th>V2</th>\n",
              "      <td>-4.653486</td>\n",
              "    </tr>\n",
              "    <tr>\n",
              "      <th>V3</th>\n",
              "      <td>-2.216730</td>\n",
              "    </tr>\n",
              "    <tr>\n",
              "      <th>V4</th>\n",
              "      <td>0.681387</td>\n",
              "    </tr>\n",
              "    <tr>\n",
              "      <th>V5</th>\n",
              "      <td>-2.458790</td>\n",
              "    </tr>\n",
              "    <tr>\n",
              "      <th>V6</th>\n",
              "      <td>1.867576</td>\n",
              "    </tr>\n",
              "    <tr>\n",
              "      <th>V7</th>\n",
              "      <td>2.877722</td>\n",
              "    </tr>\n",
              "    <tr>\n",
              "      <th>V8</th>\n",
              "      <td>-8.292631</td>\n",
              "    </tr>\n",
              "    <tr>\n",
              "      <th>V9</th>\n",
              "      <td>0.550965</td>\n",
              "    </tr>\n",
              "    <tr>\n",
              "      <th>V10</th>\n",
              "      <td>1.242165</td>\n",
              "    </tr>\n",
              "    <tr>\n",
              "      <th>V11</th>\n",
              "      <td>0.347772</td>\n",
              "    </tr>\n",
              "    <tr>\n",
              "      <th>V12</th>\n",
              "      <td>-2.208171</td>\n",
              "    </tr>\n",
              "    <tr>\n",
              "      <th>V13</th>\n",
              "      <td>0.061058</td>\n",
              "    </tr>\n",
              "    <tr>\n",
              "      <th>V14</th>\n",
              "      <td>-1.953613</td>\n",
              "    </tr>\n",
              "    <tr>\n",
              "      <th>V15</th>\n",
              "      <td>-0.295836</td>\n",
              "    </tr>\n",
              "    <tr>\n",
              "      <th>V16</th>\n",
              "      <td>-1.048371</td>\n",
              "    </tr>\n",
              "    <tr>\n",
              "      <th>V17</th>\n",
              "      <td>-3.802987</td>\n",
              "    </tr>\n",
              "    <tr>\n",
              "      <th>V18</th>\n",
              "      <td>-0.255710</td>\n",
              "    </tr>\n",
              "    <tr>\n",
              "      <th>V19</th>\n",
              "      <td>0.115957</td>\n",
              "    </tr>\n",
              "    <tr>\n",
              "      <th>V20</th>\n",
              "      <td>-2.045060</td>\n",
              "    </tr>\n",
              "    <tr>\n",
              "      <th>V21</th>\n",
              "      <td>2.784302</td>\n",
              "    </tr>\n",
              "    <tr>\n",
              "      <th>V22</th>\n",
              "      <td>-0.200868</td>\n",
              "    </tr>\n",
              "    <tr>\n",
              "      <th>V23</th>\n",
              "      <td>-5.805236</td>\n",
              "    </tr>\n",
              "    <tr>\n",
              "      <th>V24</th>\n",
              "      <td>-0.545636</td>\n",
              "    </tr>\n",
              "    <tr>\n",
              "      <th>V25</th>\n",
              "      <td>-0.408260</td>\n",
              "    </tr>\n",
              "    <tr>\n",
              "      <th>V26</th>\n",
              "      <td>0.587603</td>\n",
              "    </tr>\n",
              "    <tr>\n",
              "      <th>V27</th>\n",
              "      <td>-0.745732</td>\n",
              "    </tr>\n",
              "    <tr>\n",
              "      <th>V28</th>\n",
              "      <td>11.400938</td>\n",
              "    </tr>\n",
              "    <tr>\n",
              "      <th>Amount</th>\n",
              "      <td>16.841622</td>\n",
              "    </tr>\n",
              "  </tbody>\n",
              "</table>\n",
              "</div><br><label><b>dtype:</b> float64</label>"
            ]
          },
          "metadata": {},
          "execution_count": 9
        }
      ],
      "source": [
        "df.drop('Class',axis=1).skew()"
      ]
    },
    {
      "cell_type": "code",
      "execution_count": null,
      "id": "d74277ea",
      "metadata": {
        "colab": {
          "base_uri": "https://localhost:8080/",
          "height": 468
        },
        "id": "d74277ea",
        "outputId": "e496e562-2d0f-4cf1-b2b8-d364c49a88ec"
      },
      "outputs": [
        {
          "output_type": "execute_result",
          "data": {
            "text/plain": [
              "<Axes: xlabel='Amount', ylabel='Density'>"
            ]
          },
          "metadata": {},
          "execution_count": 10
        },
        {
          "output_type": "display_data",
          "data": {
            "text/plain": [
              "<Figure size 640x480 with 1 Axes>"
            ],
            "image/png": "[encoded data removed]"
          },
          "metadata": {}
        }
      ],
      "source": [
        "sns.kdeplot(df['Amount'])"
      ]
    },
    {
      "cell_type": "code",
      "execution_count": null,
      "id": "bd8cb1b8",
      "metadata": {
        "colab": {
          "base_uri": "https://localhost:8080/",
          "height": 467
        },
        "id": "bd8cb1b8",
        "outputId": "0f32df5d-b242-40c3-813b-742202f107fa"
      },
      "outputs": [
        {
          "output_type": "execute_result",
          "data": {
            "text/plain": [
              "<Axes: xlabel='Amount', ylabel='Density'>"
            ]
          },
          "metadata": {},
          "execution_count": 11
        },
        {
          "output_type": "display_data",
          "data": {
            "text/plain": [
              "<Figure size 640x480 with 1 Axes>"
            ],
            "image/png": "[encoded data removed]"
          },
          "metadata": {}
        }
      ],
      "source": [
        "df['Amount'] = df['Amount'].apply(lambda x: np.log10(x+1))\n",
        "sns.kdeplot(df['Amount'])"
      ]
    },
    {
      "cell_type": "markdown",
      "id": "284d6f22",
      "metadata": {
        "id": "284d6f22"
      },
      "source": [
        "## Creating a sub sample"
      ]
    },
    {
      "cell_type": "markdown",
      "id": "0a068d5c",
      "metadata": {
        "id": "0a068d5c"
      },
      "source": [
        "What - create a[](http://) df with equal number of fraud and non fraud samples  \n",
        "Why - Although we don't know what the \"V\" features stand for, it will be useful to understand how each of this features influence the target. By having an imbalance dataframe we are not able to see the true correlations between the class and features"
      ]
    },
    {
      "cell_type": "code",
      "execution_count": null,
      "id": "555570b8",
      "metadata": {
        "id": "555570b8"
      },
      "outputs": [],
      "source": [
        "df = df.sample(frac=1)\n",
        "\n",
        "fraud_df = df.loc[df['Class'] == 1]\n",
        "non_fraud_df = df.loc[df['Class'] == 0][:492]\n",
        "\n",
        "subsample = pd.concat([fraud_df, non_fraud_df])\n",
        "new_df = subsample.sample(frac=1, random_state=42)"
      ]
    },
    {
      "cell_type": "markdown",
      "id": "6ece260f",
      "metadata": {
        "id": "6ece260f"
      },
      "source": [
        "### Correlation"
      ]
    },
    {
      "cell_type": "code",
      "execution_count": null,
      "id": "b4be44b5",
      "metadata": {
        "colab": {
          "base_uri": "https://localhost:8080/",
          "height": 542
        },
        "id": "b4be44b5",
        "outputId": "4022d79e-b128-4fe3-8270-469a5829a7d0"
      },
      "outputs": [
        {
          "output_type": "display_data",
          "data": {
            "text/html": [
              "<html>\n",
              "<head><meta charset=\"utf-8\" /></head>\n",
              "<body>\n",
              "    <div>            <script src=\"https://cdnjs.cloudflare.com/ajax/libs/mathjax/2.7.5/MathJax.js?config=TeX-AMS-MML_SVG\"></script><script type=\"text/javascript\">if (window.MathJax && window.MathJax.Hub && window.MathJax.Hub.Config) {window.MathJax.Hub.Config({SVG: {font: \"STIX-Web\"}});}</script>                <script type=\"text/javascript\">window.PlotlyConfig = {MathJaxConfig: 'local'};</script>\n",
              "        <script charset=\"utf-8\" src=\"https://cdn.plot.ly/plotly-2.35.2.min.js\"></script>                <div id=\"8673148c-a579-44ed-b119-3bf299fe63f2\" class=\"plotly-graph-div\" style=\"height:525px; width:100%;\"></div>            <script type=\"text/javascript\">                                    window.PLOTLYENV=window.PLOTLYENV || {};                                    if (document.getElementById(\"8673148c-a579-44ed-b119-3bf299fe63f2\")) {                    Plotly.newPlot(                        \"8673148c-a579-44ed-b119-3bf299fe63f2\",                        [{\"coloraxis\":\"coloraxis\",\"name\":\"0\",\"x\":[\"V1\",\"V2\",\"V3\",\"V4\",\"V5\",\"V6\",\"V7\",\"V8\",\"V9\",\"V10\",\"V11\",\"V12\",\"V13\",\"V14\",\"V15\",\"V16\",\"V17\",\"V18\",\"V19\",\"V20\",\"V21\",\"V22\",\"V23\",\"V24\",\"V25\",\"V26\",\"V27\",\"V28\",\"Amount\",\"Class\"],\"y\":[\"V1\",\"V2\",\"V3\",\"V4\",\"V5\",\"V6\",\"V7\",\"V8\",\"V9\",\"V10\",\"V11\",\"V12\",\"V13\",\"V14\",\"V15\",\"V16\",\"V17\",\"V18\",\"V19\",\"V20\",\"V21\",\"V22\",\"V23\",\"V24\",\"V25\",\"V26\",\"V27\",\"V28\",\"Amount\",\"Class\"],\"z\":[[1.0,0.009002056630572552,0.0059518703233443675,-0.00004173363772274759,-0.018592931394259063,-0.005788588932603642,-0.00684258829133587,-0.0004903017705976801,-0.007093188184084857,0.0031150804333672393,-0.0052383611521321025,-0.005224732658887953,0.0001760739717021506,-0.0001670166380947349,-0.008538155507659321,-0.006376158582724127,-0.0017092604947157649,-0.0000371181258513341,-0.00036578698126049457,0.0031085360485396995,0.006003695030846162,0.003633859573936934,-0.00750398547386893,-0.009326773224502285,-0.0044461360182961075,-0.00243642310070378,-0.014628053567675901,-0.0035550069411663314,-0.0766920655036151,-0.09471828027403736],[0.009002056630572552,1.0,0.004976420415917277,-0.004094783032821985,0.004654828151539708,0.004290266474645284,0.0048660108974751155,0.003742693655932851,0.0011157645474232274,0.002764173799416105,-0.0018084640177490154,0.0014801177085390115,0.00046076961088042305,0.004771739778601282,0.0011762916062601312,0.002647560716106611,0.0013035840599433127,0.0003630379040185772,0.001163815189972372,-0.00033887269809867163,-0.00388067195127907,0.002908674005336351,-0.0036886296217177555,0.0019735168281252713,-0.0028369314041973583,-0.00029605968574446175,0.0072516242348623,0.0014575992938971032,-0.459397529296474,0.08475425481454127],[0.0059518703233443675,0.004976420415917277,1.0,-0.0007207506128839239,0.011019512449786802,0.014780101443837696,-0.014015590290725789,0.003733210299163456,-0.002895531047630527,-0.011064456582014185,0.0037632683294713154,-0.0033654032642078083,-0.0007532888104511889,-0.00820845522759143,0.003323892451776453,0.0003360330653480164,-0.0028131327390716575,-0.003876447934607474,-0.0008279699688052567,-0.004587224438279828,0.0018178562780223674,-0.0042029236721423295,0.002183001796768559,0.009782012846899375,0.004090898265090228,0.0035960608038174543,-0.008780490220863222,-0.002453994123024258,-0.05301909618409635,-0.18577174362070756],[-0.00004173363772274759,-0.004094783032821985,-0.0007207506128839239,1.0,0.006710184917376801,0.01253461998616231,0.000806161315296614,0.00499648452026252,0.001395467878599272,0.0033663943727184472,-0.0044018120269157975,0.0005605366567562282,0.00033240074820584673,0.005335596702448443,0.0040450918954561856,0.0017826285626817478,0.0016328679540391522,0.0015686647749631121,0.0050182829534909995,0.0011654100961733208,-0.0006225862056654516,0.001580969531221012,-0.00015475367372595197,0.0057593847053276255,0.00017302609596240171,-0.0011052679713744711,0.002517327210786248,0.000028447013289826136,-0.0006991724135757454,0.13031328765078837],[-0.018592931394259063,0.004654828151539708,0.011019512449786802,0.006710184917376801,1.0,-0.02970078573583441,-0.009106632501580659,-0.002605287522407411,-0.0007861995616428798,-0.0028177407252065554,-0.0029651575403908713,-0.0003427722292888171,0.0012005945355469739,0.005174527525292276,-0.007121994543521295,-0.004147091486086108,-0.005421946975850622,-0.0031082166092601363,0.00035056602265911164,-0.0007880754250585148,0.003439227658851811,0.00297145677096455,-0.0010578383026698319,-0.012633613332770056,-0.0048623044158973795,-0.001568475495583545,-0.006115679435720049,-0.0007109361143901926,-0.2852020730073758,-0.08864223740340493],[-0.005788588932603642,0.004290266474645284,0.014780101443837696,0.01253461998616231,-0.02970078573583441,1.0,0.013087429720546096,-0.01230089707201718,-0.002289899443472941,-0.002722885639660902,0.0004459549207897318,0.00428800596235196,-0.00013954654889489272,0.0001777252982954333,-0.009362574711093252,-0.002537973840945391,0.0017467394403830067,0.0007341181373794367,0.0008803306295041608,-0.0018348819521769933,-0.001584225041512201,0.0023550476524281713,-0.00022080361056581201,-0.021097673272292634,-0.006673263711386126,0.0007018999138726289,-0.0015773843269395686,0.0006170632194791249,0.17594040694236818,-0.04477665579579339],[-0.00684258829133587,0.0048660108974751155,-0.014015590290725789,0.000806161315296614,-0.009106632501580659,0.013087429720546096,1.0,-0.0009866326473795253,-0.0016570505889461817,-0.012245575367022353,0.0017312862293722248,-0.0073777709474549084,0.001019065433844192,-0.0020063821639050823,0.0021646994570772202,-0.0035533675012726115,-0.009984959755663417,-0.004092121223165957,0.000589609211748857,-0.002195827334780467,0.00863473021160338,-0.0017008984979524002,0.003458050788062163,0.005375437011175968,0.0020698078979523235,-0.00045883836790297484,-0.0039772198732282655,0.0013292721181324665,0.09665909375065186,-0.17329184536212014],[-0.0004903017705976801,0.003742693655932851,0.003733210299163456,0.00499648452026252,-0.002605287522407411,-0.01230089707201718,-0.0009866326473795253,1.0,0.00016845994784145494,0.00023852276984080308,0.005165137776894826,-0.0041336876956652065,-0.0013413330919203532,-0.009568384289532168,-0.0023223464399356854,-0.006868307858295026,-0.006049143384274041,-0.0020921198093682824,0.0008553714180542005,0.0005621589466949844,0.018805553474641037,-0.0051818685414968665,0.006461216507351803,-0.006000318559471001,-0.002826501198408388,-0.0011224898419865,-0.00010826667669567584,0.00020087170096166174,-0.02161037755536489,0.03336438460284757],[-0.007093188184084857,0.0011157645474232274,-0.002895531047630527,0.001395467878599272,-0.0007861995616428798,-0.002289899443472941,-0.0016570505889461817,0.00016845994784145494,1.0,-0.004956960977232558,-0.0015831315122645268,0.00022093464914161781,-0.00025906269002485985,-0.005124874206624838,-0.004912272336986217,0.00268033999466487,-0.0004875404325191708,-0.0009567733050660257,-0.000935670777217137,0.0006125813121428056,0.0017444713839398914,0.0007417622746537385,-0.0017392600161237174,-0.0024540913158739622,-0.00035765868608078285,0.005307459170163487,0.00806589093474838,0.00648666877632941,-0.07379718375060328,-0.0945827589422217],[0.0031150804333672393,0.002764173799416105,-0.011064456582014185,0.0033663943727184472,-0.0028177407252065554,-0.002722885639660902,-0.012245575367022353,0.00023852276984080308,-0.004956960977232558,1.0,0.005211325913813342,-0.007394681979456708,0.0008896964509361553,-0.004615922267140841,0.003366010902797438,-0.003637165067540666,-0.001840833260242735,0.0009112200184282019,0.00037902910886738285,-0.004506172251322992,0.002395501101821248,-0.003012080922121262,0.001760451046667226,0.0010149187965123006,0.002499102817601436,-0.0008588947666105023,0.0114953576914879,0.009956260833450088,-0.01649504028612393,-0.20810420388533304],[-0.0052383611521321025,-0.0018084640177490154,0.0037632683294713154,-0.0044018120269157975,-0.0029651575403908713,0.0004459549207897318,0.0017312862293722248,0.005165137776894826,-0.0015831315122645268,0.005211325913813342,1.0,0.0038569701711922626,0.0013722399585872377,0.010051637591902739,-0.002381767700422724,0.0010450899175577495,0.00012728508810078392,-0.0017349245158463581,0.0020675542539909724,-0.00028967667925709,-0.0023308194112002262,0.0008035998110591257,-0.0008390469723996306,0.0015836370718235607,-0.0032093521987376023,-0.0020645266678812526,0.0024347043516284427,0.0021758658346355372,-0.043053442634581454,0.151260453357146],[-0.005224732658887953,0.0014801177085390115,-0.0033654032642078083,0.0005605366567562282,-0.0003427722292888171,0.00428800596235196,-0.0073777709474549084,-0.0041336876956652065,0.00022093464914161781,-0.007394681979456708,0.0038569701711922626,1.0,0.002532314364047468,-0.004060598916457975,0.0017273304728851776,-0.007692279149879978,-0.007394531288473262,-0.000760971273410233,-0.0017433222825323203,0.002041356080798756,0.004192083404063456,0.0029666544689707294,-0.0011010633955008619,0.0016954532680858627,0.0007319178597714595,-0.0020108838239186475,-0.000775860439677036,-0.00017303047803582828,-0.011033406249319524,-0.25314979499998075],[0.0001760739717021506,0.00046076961088042305,-0.0007532888104511889,0.00033240074820584673,0.0012005945355469739,-0.00013954654889489272,0.001019065433844192,-0.0013413330919203532,-0.00025906269002485985,0.0008896964509361553,0.0013722399585872377,0.002532314364047468,1.0,-0.0034795667118208843,0.002514568842396264,-0.002209678365052683,-0.000314703684239731,0.0008394873375494497,0.0010715570383271849,-0.0006206148356032571,0.0011005453910093211,0.00021352603227367653,0.0007110910522849539,-0.0010140681867750864,-0.000059110392989156416,0.0008868780941754711,-0.0014510102497142558,-0.00037975057588766307,-0.006205009221444251,-0.003934245314299029],[-0.0001670166380947349,0.004771739778601282,-0.00820845522759143,0.005335596702448443,0.005174527525292276,0.0001777252982954333,-0.0020063821639050823,-0.009568384289532168,-0.005124874206624838,-0.004615922267140841,0.010051637591902739,-0.004060598916457975,-0.0034795667118208843,1.0,0.002624483631610468,-0.003320306849979081,0.000919723002497594,0.0014131471241991542,-0.0007510941548648456,0.0036834571970601184,0.00471062737538153,-0.004794790558038911,0.0009289389054847754,0.00033180031929478114,0.0020768168575141526,0.0014042703420476393,-0.003828442029278951,-0.003178202426597214,0.021382782639850162,-0.29754977975643976],[-0.008538155507659321,0.0011762916062601312,0.003323892451776453,0.0040450918954561856,-0.007121994543521295,-0.009362574711093252,0.0021646994570772202,-0.0023223464399356854,-0.004912272336986217,0.003366010902797438,-0.002381767700422724,0.0017273304728851776,0.002514568842396264,0.002624483631610468,1.0,-0.004916780368499128,-0.0006027072808329712,-0.0008590147198242463,0.0033865340764305052,0.0003750891706897996,0.0011372992637743353,0.0025790032134958224,0.000726940731684196,-0.008460676558177744,-0.008245117506923104,0.0019241521230987332,-0.0014722700182017965,0.00015627937832891754,-0.05445302096354142,-0.0028239661450144087],[-0.006376158582724127,0.002647560716106611,0.0003360330653480164,0.0017826285626817478,-0.004147091486086108,-0.002537973840945391,-0.0035533675012726115,-0.006868307858295026,0.00268033999466487,-0.003637165067540666,0.0010450899175577495,-0.007692279149879978,-0.002209678365052683,-0.003320306849979081,-0.004916780368499128,1.0,-0.01004638806246627,-0.009275590059228072,0.0024073594302017106,0.0004240054532787526,0.00526715440049933,0.0032960882528521155,0.0015241836118115282,-0.004436914287115126,-0.00246365121697066,-0.004494645380977295,-0.00352797780690919,-0.001854666591433147,-0.09729387167350496,-0.18822150581932034],[-0.0017092604947157649,0.0013035840599433127,-0.0028131327390716575,0.0016328679540391522,-0.005421946975850622,0.0017467394403830067,-0.009984959755663417,-0.006049143384274041,-0.0004875404325191708,-0.001840833260242735,0.00012728508810078392,-0.007394531288473262,-0.000314703684239731,0.000919723002497594,-0.0006027072808329712,-0.01004638806246627,1.0,-0.007602083690618034,0.007939819203283103,0.0012085000319452237,0.0041627237748639,0.0005457665567498799,0.002412041345931677,0.004598973463231372,-0.0033430327529156015,-0.0010902404860177357,-0.003597076398563477,-0.0035868351644629043,0.01692275973435774,-0.3172019470331905],[-0.0000371181258513341,0.0003630379040185772,-0.003876447934607474,0.0015686647749631121,-0.0031082166092601363,0.0007341181373794367,-0.004092121223165957,-0.0020921198093682824,-0.0009567733050660257,0.0009112200184282019,-0.0017349245158463581,-0.000760971273410233,0.0008394873375494497,0.0014131471241991542,-0.0008590147198242463,-0.009275590059228072,-0.007602083690618034,1.0,0.00038945371850095654,-0.0001850684271845318,0.0006194270891825372,-0.0043213804352692006,0.003487514730672622,-0.0008359690508370041,-0.005230957006827496,0.0035834783040603886,-0.005176455822270682,-0.0018988674568861837,0.04418650871470279,-0.10644692553081163],[-0.00036578698126049457,0.001163815189972372,-0.0008279699688052567,0.0050182829534909995,0.00035056602265911164,0.0008803306295041608,0.000589609211748857,0.0008553714180542005,-0.000935670777217137,0.00037902910886738285,0.0020675542539909724,-0.0017433222825323203,0.0010715570383271849,-0.0007510941548648456,0.0033865340764305052,0.0024073594302017106,0.007939819203283103,0.00038945371850095654,1.0,-0.0008462799424581603,0.0008855134322266081,0.0035208642995499446,-0.00035680835693559313,-0.0014100893491833112,0.0004653675644518485,0.0009070515999730728,-0.000010973789013417781,0.0008126304744584729,-0.015601526945530455,0.033784131524155575],[0.0031085360485396995,-0.00033887269809867163,-0.004587224438279828,0.0011654100961733208,-0.0007880754250585148,-0.0018348819521769933,-0.002195827334780467,0.0005621589466949844,0.0006125813121428056,-0.004506172251322992,-0.00028967667925709,0.002041356080798756,-0.0006206148356032571,0.0036834571970601184,0.0003750891706897996,0.0004240054532787526,0.0012085000319452237,-0.0001850684271845318,-0.0008462799424581603,1.0,0.004391631543174923,-0.0023215318570962823,0.0007476054518365487,0.00013230040224707066,-1.2698991007211327e-6,-0.0003043709137931011,-0.00009623569420531924,0.0018278487908438897,0.14256805451061938,0.021349134626456562],[0.006003695030846162,-0.00388067195127907,0.0018178562780223674,-0.0006225862056654516,0.003439227658851811,-0.001584225041512201,0.00863473021160338,0.018805553474641037,0.0017444713839398914,0.002395501101821248,-0.0023308194112002262,0.004192083404063456,0.0011005453910093211,0.00471062737538153,0.0011372992637743353,0.00526715440049933,0.0041627237748639,0.0006194270891825372,0.0008855134322266081,0.004391631543174923,1.0,0.001795126748550701,-0.004335795108936067,0.002943329531566051,-0.00129934105723472,0.0008275390972012974,-0.005524039706815339,-0.004461160639097292,0.08325734243772985,0.026239135618532663],[0.003633859573936934,0.002908674005336351,-0.0042029236721423295,0.001580969531221012,0.00297145677096455,0.0023550476524281713,-0.0017008984979524002,-0.0051818685414968665,0.0007417622746537385,-0.003012080922121262,0.0008035998110591257,0.0029666544689707294,0.00021352603227367653,-0.004794790558038911,0.0025790032134958224,0.0032960882528521155,0.0005457665567498799,-0.0043213804352692006,0.0035208642995499446,-0.0023215318570962823,0.001795126748550701,1.0,0.0061606348167178825,0.0040076314937352595,-0.0023307563307247287,0.004308780678510877,0.0016856153718818683,0.001670335745203797,0.03546786563373461,0.004612376174770388],[-0.00750398547386893,-0.0036886296217177555,0.002183001796768559,-0.00015475367372595197,-0.0010578383026698319,-0.00022080361056581201,0.003458050788062163,0.006461216507351803,-0.0017392600161237174,0.001760451046667226,-0.0008390469723996306,-0.0011010633955008619,0.0007110910522849539,0.0009289389054847754,0.000726940731684196,0.0015241836118115282,0.002412041345931677,0.003487514730672622,-0.00035680835693559313,0.0007476054518365487,-0.004335795108936067,0.0061606348167178825,1.0,-0.0011911345613579345,0.0036245111360324977,-0.0021047329234189943,-0.0015197357777633452,-0.0027191923469282956,-0.02506044623372666,-0.006206025561580572],[-0.009326773224502285,0.0019735168281252713,0.009782012846899375,0.0057593847053276255,-0.012633613332770056,-0.021097673272292634,0.005375437011175968,-0.006000318559471001,-0.0024540913158739622,0.0010149187965123006,0.0015836370718235607,0.0016954532680858627,-0.0010140681867750864,0.00033180031929478114,-0.008460676558177744,-0.004436914287115126,0.004598973463231372,-0.0008359690508370041,-0.0014100893491833112,0.00013230040224707066,0.002943329531566051,0.0040076314937352595,-0.0011911345613579345,1.0,-0.007006715089922064,0.001526354548994929,-0.0013154128149647794,0.00008562142586950872,-0.004790119342803639,-0.00683106730931025],[-0.0044461360182961075,-0.0028369314041973583,0.004090898265090228,0.00017302609596240171,-0.0048623044158973795,-0.006673263711386126,0.0020698078979523235,-0.002826501198408388,-0.00035765868608078285,0.002499102817601436,-0.0032093521987376023,0.0007319178597714595,-0.000059110392989156416,0.0020768168575141526,-0.008245117506923104,-0.00246365121697066,-0.0033430327529156015,-0.005230957006827496,0.0004653675644518485,-1.2698991007211327e-6,-0.00129934105723472,-0.0023307563307247287,0.0036245111360324977,-0.007006715089922064,1.0,0.004573576764907859,-0.0019952735762457713,-0.0012281791648254025,0.006831989076374207,0.00359298672002541],[-0.00243642310070378,-0.00029605968574446175,0.0035960608038174543,-0.0011052679713744711,-0.001568475495583545,0.0007018999138726289,-0.00045883836790297484,-0.0011224898419865,0.005307459170163487,-0.0008588947666105023,-0.0020645266678812526,-0.0020108838239186475,0.0008868780941754711,0.0014042703420476393,0.0019241521230987332,-0.004494645380977295,-0.0010902404860177357,0.0035834783040603886,0.0009070515999730728,-0.0003043709137931011,0.0008275390972012974,0.004308780678510877,-0.0021047329234189943,0.001526354548994929,0.004573576764907859,1.0,-0.000958441216136895,-0.0005696018274223196,-0.015344104977860354,0.004341289204197728],[-0.014628053567675901,0.0072516242348623,-0.008780490220863222,0.002517327210786248,-0.006115679435720049,-0.0015773843269395686,-0.0039772198732282655,-0.00010826667669567584,0.00806589093474838,0.0114953576914879,0.0024347043516284427,-0.000775860439677036,-0.0014510102497142558,-0.003828442029278951,-0.0014722700182017965,-0.00352797780690919,-0.003597076398563477,-0.005176455822270682,-0.000010973789013417781,-0.00009623569420531924,-0.005524039706815339,0.0016856153718818683,-0.0015197357777633452,-0.0013154128149647794,-0.0019952735762457713,-0.000958441216136895,1.0,-0.014434631792928112,-0.04829631949944443,0.021888244417405483],[-0.0035550069411663314,0.0014575992938971032,-0.002453994123024258,0.000028447013289826136,-0.0007109361143901926,0.0006170632194791249,0.0013292721181324665,0.00020087170096166174,0.00648666877632941,0.009956260833450088,0.0021758658346355372,-0.00017303047803582828,-0.00037975057588766307,-0.003178202426597214,0.00015627937832891754,-0.001854666591433147,-0.0035868351644629043,-0.0018988674568861837,0.0008126304744584729,0.0018278487908438897,-0.004461160639097292,0.001670335745203797,-0.0027191923469282956,0.00008562142586950872,-0.0012281791648254025,-0.0005696018274223196,-0.014434631792928112,1.0,-0.003436289474096389,0.009642345399190315],[-0.0766920655036151,-0.459397529296474,-0.05301909618409635,-0.0006991724135757454,-0.2852020730073758,0.17594040694236818,0.09665909375065186,-0.02161037755536489,-0.07379718375060328,-0.01649504028612393,-0.043053442634581454,-0.011033406249319524,-0.006205009221444251,0.021382782639850162,-0.05445302096354142,-0.09729387167350496,0.01692275973435774,0.04418650871470279,-0.015601526945530455,0.14256805451061938,0.08325734243772985,0.03546786563373461,-0.02506044623372666,-0.004790119342803639,0.006831989076374207,-0.015344104977860354,-0.04829631949944443,-0.003436289474096389,1.0,-0.00915167590969623],[-0.09471828027403736,0.08475425481454127,-0.18577174362070756,0.13031328765078837,-0.08864223740340493,-0.04477665579579339,-0.17329184536212014,0.03336438460284757,-0.0945827589422217,-0.20810420388533304,0.151260453357146,-0.25314979499998075,-0.003934245314299029,-0.29754977975643976,-0.0028239661450144087,-0.18822150581932034,-0.3172019470331905,-0.10644692553081163,0.033784131524155575,0.021349134626456562,0.026239135618532663,0.004612376174770388,-0.006206025561580572,-0.00683106730931025,0.00359298672002541,0.004341289204197728,0.021888244417405483,0.009642345399190315,-0.00915167590969623,1.0]],\"type\":\"heatmap\",\"xaxis\":\"x\",\"yaxis\":\"y\",\"hovertemplate\":\"x: %{x}\\u003cbr\\u003ey: %{y}\\u003cbr\\u003ecolor: %{z}\\u003cextra\\u003e\\u003c\\u002fextra\\u003e\"}],                        {\"template\":{\"data\":{\"histogram2dcontour\":[{\"type\":\"histogram2dcontour\",\"colorbar\":{\"outlinewidth\":0,\"ticks\":\"\"},\"colorscale\":[[0.0,\"#0d0887\"],[0.1111111111111111,\"#46039f\"],[0.2222222222222222,\"#7201a8\"],[0.3333333333333333,\"#9c179e\"],[0.4444444444444444,\"#bd3786\"],[0.5555555555555556,\"#d8576b\"],[0.6666666666666666,\"#ed7953\"],[0.7777777777777778,\"#fb9f3a\"],[0.8888888888888888,\"#fdca26\"],[1.0,\"#f0f921\"]]}],\"choropleth\":[{\"type\":\"choropleth\",\"colorbar\":{\"outlinewidth\":0,\"ticks\":\"\"}}],\"histogram2d\":[{\"type\":\"histogram2d\",\"colorbar\":{\"outlinewidth\":0,\"ticks\":\"\"},\"colorscale\":[[0.0,\"#0d0887\"],[0.1111111111111111,\"#46039f\"],[0.2222222222222222,\"#7201a8\"],[0.3333333333333333,\"#9c179e\"],[0.4444444444444444,\"#bd3786\"],[0.5555555555555556,\"#d8576b\"],[0.6666666666666666,\"#ed7953\"],[0.7777777777777778,\"#fb9f3a\"],[0.8888888888888888,\"#fdca26\"],[1.0,\"#f0f921\"]]}],\"heatmap\":[{\"type\":\"heatmap\",\"colorbar\":{\"outlinewidth\":0,\"ticks\":\"\"},\"colorscale\":[[0.0,\"#0d0887\"],[0.1111111111111111,\"#46039f\"],[0.2222222222222222,\"#7201a8\"],[0.3333333333333333,\"#9c179e\"],[0.4444444444444444,\"#bd3786\"],[0.5555555555555556,\"#d8576b\"],[0.6666666666666666,\"#ed7953\"],[0.7777777777777778,\"#fb9f3a\"],[0.8888888888888888,\"#fdca26\"],[1.0,\"#f0f921\"]]}],\"heatmapgl\":[{\"type\":\"heatmapgl\",\"colorbar\":{\"outlinewidth\":0,\"ticks\":\"\"},\"colorscale\":[[0.0,\"#0d0887\"],[0.1111111111111111,\"#46039f\"],[0.2222222222222222,\"#7201a8\"],[0.3333333333333333,\"#9c179e\"],[0.4444444444444444,\"#bd3786\"],[0.5555555555555556,\"#d8576b\"],[0.6666666666666666,\"#ed7953\"],[0.7777777777777778,\"#fb9f3a\"],[0.8888888888888888,\"#fdca26\"],[1.0,\"#f0f921\"]]}],\"contourcarpet\":[{\"type\":\"contourcarpet\",\"colorbar\":{\"outlinewidth\":0,\"ticks\":\"\"}}],\"contour\":[{\"type\":\"contour\",\"colorbar\":{\"outlinewidth\":0,\"ticks\":\"\"},\"colorscale\":[[0.0,\"#0d0887\"],[0.1111111111111111,\"#46039f\"],[0.2222222222222222,\"#7201a8\"],[0.3333333333333333,\"#9c179e\"],[0.4444444444444444,\"#bd3786\"],[0.5555555555555556,\"#d8576b\"],[0.6666666666666666,\"#ed7953\"],[0.7777777777777778,\"#fb9f3a\"],[0.8888888888888888,\"#fdca26\"],[1.0,\"#f0f921\"]]}],\"surface\":[{\"type\":\"surface\",\"colorbar\":{\"outlinewidth\":0,\"ticks\":\"\"},\"colorscale\":[[0.0,\"#0d0887\"],[0.1111111111111111,\"#46039f\"],[0.2222222222222222,\"#7201a8\"],[0.3333333333333333,\"#9c179e\"],[0.4444444444444444,\"#bd3786\"],[0.5555555555555556,\"#d8576b\"],[0.6666666666666666,\"#ed7953\"],[0.7777777777777778,\"#fb9f3a\"],[0.8888888888888888,\"#fdca26\"],[1.0,\"#f0f921\"]]}],\"mesh3d\":[{\"type\":\"mesh3d\",\"colorbar\":{\"outlinewidth\":0,\"ticks\":\"\"}}],\"scatter\":[{\"fillpattern\":{\"fillmode\":\"overlay\",\"size\":10,\"solidity\":0.2},\"type\":\"scatter\"}],\"parcoords\":[{\"type\":\"parcoords\",\"line\":{\"colorbar\":{\"outlinewidth\":0,\"ticks\":\"\"}}}],\"scatterpolargl\":[{\"type\":\"scatterpolargl\",\"marker\":{\"colorbar\":{\"outlinewidth\":0,\"ticks\":\"\"}}}],\"bar\":[{\"error_x\":{\"color\":\"#2a3f5f\"},\"error_y\":{\"color\":\"#2a3f5f\"},\"marker\":{\"line\":{\"color\":\"#E5ECF6\",\"width\":0.5},\"pattern\":{\"fillmode\":\"overlay\",\"size\":10,\"solidity\":0.2}},\"type\":\"bar\"}],\"scattergeo\":[{\"type\":\"scattergeo\",\"marker\":{\"colorbar\":{\"outlinewidth\":0,\"ticks\":\"\"}}}],\"scatterpolar\":[{\"type\":\"scatterpolar\",\"marker\":{\"colorbar\":{\"outlinewidth\":0,\"ticks\":\"\"}}}],\"histogram\":[{\"marker\":{\"pattern\":{\"fillmode\":\"overlay\",\"size\":10,\"solidity\":0.2}},\"type\":\"histogram\"}],\"scattergl\":[{\"type\":\"scattergl\",\"marker\":{\"colorbar\":{\"outlinewidth\":0,\"ticks\":\"\"}}}],\"scatter3d\":[{\"type\":\"scatter3d\",\"line\":{\"colorbar\":{\"outlinewidth\":0,\"ticks\":\"\"}},\"marker\":{\"colorbar\":{\"outlinewidth\":0,\"ticks\":\"\"}}}],\"scattermapbox\":[{\"type\":\"scattermapbox\",\"marker\":{\"colorbar\":{\"outlinewidth\":0,\"ticks\":\"\"}}}],\"scatterternary\":[{\"type\":\"scatterternary\",\"marker\":{\"colorbar\":{\"outlinewidth\":0,\"ticks\":\"\"}}}],\"scattercarpet\":[{\"type\":\"scattercarpet\",\"marker\":{\"colorbar\":{\"outlinewidth\":0,\"ticks\":\"\"}}}],\"carpet\":[{\"aaxis\":{\"endlinecolor\":\"#2a3f5f\",\"gridcolor\":\"white\",\"linecolor\":\"white\",\"minorgridcolor\":\"white\",\"startlinecolor\":\"#2a3f5f\"},\"baxis\":{\"endlinecolor\":\"#2a3f5f\",\"gridcolor\":\"white\",\"linecolor\":\"white\",\"minorgridcolor\":\"white\",\"startlinecolor\":\"#2a3f5f\"},\"type\":\"carpet\"}],\"table\":[{\"cells\":{\"fill\":{\"color\":\"#EBF0F8\"},\"line\":{\"color\":\"white\"}},\"header\":{\"fill\":{\"color\":\"#C8D4E3\"},\"line\":{\"color\":\"white\"}},\"type\":\"table\"}],\"barpolar\":[{\"marker\":{\"line\":{\"color\":\"#E5ECF6\",\"width\":0.5},\"pattern\":{\"fillmode\":\"overlay\",\"size\":10,\"solidity\":0.2}},\"type\":\"barpolar\"}],\"pie\":[{\"automargin\":true,\"type\":\"pie\"}]},\"layout\":{\"autotypenumbers\":\"strict\",\"colorway\":[\"#636efa\",\"#EF553B\",\"#00cc96\",\"#ab63fa\",\"#FFA15A\",\"#19d3f3\",\"#FF6692\",\"#B6E880\",\"#FF97FF\",\"#FECB52\"],\"font\":{\"color\":\"#2a3f5f\"},\"hovermode\":\"closest\",\"hoverlabel\":{\"align\":\"left\"},\"paper_bgcolor\":\"white\",\"plot_bgcolor\":\"#E5ECF6\",\"polar\":{\"bgcolor\":\"#E5ECF6\",\"angularaxis\":{\"gridcolor\":\"white\",\"linecolor\":\"white\",\"ticks\":\"\"},\"radialaxis\":{\"gridcolor\":\"white\",\"linecolor\":\"white\",\"ticks\":\"\"}},\"ternary\":{\"bgcolor\":\"#E5ECF6\",\"aaxis\":{\"gridcolor\":\"white\",\"linecolor\":\"white\",\"ticks\":\"\"},\"baxis\":{\"gridcolor\":\"white\",\"linecolor\":\"white\",\"ticks\":\"\"},\"caxis\":{\"gridcolor\":\"white\",\"linecolor\":\"white\",\"ticks\":\"\"}},\"coloraxis\":{\"colorbar\":{\"outlinewidth\":0,\"ticks\":\"\"}},\"colorscale\":{\"sequential\":[[0.0,\"#0d0887\"],[0.1111111111111111,\"#46039f\"],[0.2222222222222222,\"#7201a8\"],[0.3333333333333333,\"#9c179e\"],[0.4444444444444444,\"#bd3786\"],[0.5555555555555556,\"#d8576b\"],[0.6666666666666666,\"#ed7953\"],[0.7777777777777778,\"#fb9f3a\"],[0.8888888888888888,\"#fdca26\"],[1.0,\"#f0f921\"]],\"sequentialminus\":[[0.0,\"#0d0887\"],[0.1111111111111111,\"#46039f\"],[0.2222222222222222,\"#7201a8\"],[0.3333333333333333,\"#9c179e\"],[0.4444444444444444,\"#bd3786\"],[0.5555555555555556,\"#d8576b\"],[0.6666666666666666,\"#ed7953\"],[0.7777777777777778,\"#fb9f3a\"],[0.8888888888888888,\"#fdca26\"],[1.0,\"#f0f921\"]],\"diverging\":[[0,\"#8e0152\"],[0.1,\"#c51b7d\"],[0.2,\"#de77ae\"],[0.3,\"#f1b6da\"],[0.4,\"#fde0ef\"],[0.5,\"#f7f7f7\"],[0.6,\"#e6f5d0\"],[0.7,\"#b8e186\"],[0.8,\"#7fbc41\"],[0.9,\"#4d9221\"],[1,\"#276419\"]]},\"xaxis\":{\"gridcolor\":\"white\",\"linecolor\":\"white\",\"ticks\":\"\",\"title\":{\"standoff\":15},\"zerolinecolor\":\"white\",\"automargin\":true,\"zerolinewidth\":2},\"yaxis\":{\"gridcolor\":\"white\",\"linecolor\":\"white\",\"ticks\":\"\",\"title\":{\"standoff\":15},\"zerolinecolor\":\"white\",\"automargin\":true,\"zerolinewidth\":2},\"scene\":{\"xaxis\":{\"backgroundcolor\":\"#E5ECF6\",\"gridcolor\":\"white\",\"linecolor\":\"white\",\"showbackground\":true,\"ticks\":\"\",\"zerolinecolor\":\"white\",\"gridwidth\":2},\"yaxis\":{\"backgroundcolor\":\"#E5ECF6\",\"gridcolor\":\"white\",\"linecolor\":\"white\",\"showbackground\":true,\"ticks\":\"\",\"zerolinecolor\":\"white\",\"gridwidth\":2},\"zaxis\":{\"backgroundcolor\":\"#E5ECF6\",\"gridcolor\":\"white\",\"linecolor\":\"white\",\"showbackground\":true,\"ticks\":\"\",\"zerolinecolor\":\"white\",\"gridwidth\":2}},\"shapedefaults\":{\"line\":{\"color\":\"#2a3f5f\"}},\"annotationdefaults\":{\"arrowcolor\":\"#2a3f5f\",\"arrowhead\":0,\"arrowwidth\":1},\"geo\":{\"bgcolor\":\"white\",\"landcolor\":\"#E5ECF6\",\"subunitcolor\":\"white\",\"showland\":true,\"showlakes\":true,\"lakecolor\":\"white\"},\"title\":{\"x\":0.05},\"mapbox\":{\"style\":\"light\"}}},\"xaxis\":{\"anchor\":\"y\",\"domain\":[0.0,1.0]},\"yaxis\":{\"anchor\":\"x\",\"domain\":[0.0,1.0],\"autorange\":\"reversed\"},\"coloraxis\":{\"colorscale\":[[0.0,\"rgb(5,48,97)\"],[0.1,\"rgb(33,102,172)\"],[0.2,\"rgb(67,147,195)\"],[0.3,\"rgb(146,197,222)\"],[0.4,\"rgb(209,229,240)\"],[0.5,\"rgb(247,247,247)\"],[0.6,\"rgb(253,219,199)\"],[0.7,\"rgb(244,165,130)\"],[0.8,\"rgb(214,96,77)\"],[0.9,\"rgb(178,24,43)\"],[1.0,\"rgb(103,0,31)\"]]},\"margin\":{\"t\":60}},                        {\"responsive\": true}                    ).then(function(){\n",
              "                            \n",
              "var gd = document.getElementById('8673148c-a579-44ed-b119-3bf299fe63f2');\n",
              "var x = new MutationObserver(function (mutations, observer) {{\n",
              "        var display = window.getComputedStyle(gd).display;\n",
              "        if (!display || display === 'none') {{\n",
              "            console.log([gd, 'removed!']);\n",
              "            Plotly.purge(gd);\n",
              "            observer.disconnect();\n",
              "        }}\n",
              "}});\n",
              "\n",
              "// Listen for the removal of the full notebook cells\n",
              "var notebookContainer = gd.closest('#notebook-container');\n",
              "if (notebookContainer) {{\n",
              "    x.observe(notebookContainer, {childList: true});\n",
              "}}\n",
              "\n",
              "// Listen for the clearing of the current output cell\n",
              "var outputEl = gd.closest('.output');\n",
              "if (outputEl) {{\n",
              "    x.observe(outputEl, {childList: true});\n",
              "}}\n",
              "\n",
              "                        })                };                            </script>        </div>\n",
              "</body>\n",
              "</html>"
            ]
          },
          "metadata": {}
        }
      ],
      "source": [
        "corr = df.corr()\n",
        "fig=px.imshow(corr, aspect=\"auto\" ,color_continuous_scale='RdBu_r')\n",
        "fig.show()"
      ]
    },
    {
      "cell_type": "code",
      "execution_count": null,
      "id": "3c160557",
      "metadata": {
        "colab": {
          "base_uri": "https://localhost:8080/",
          "height": 542
        },
        "id": "3c160557",
        "outputId": "1cc8dcab-e206-4d2a-e183-f17aabf79472"
      },
      "outputs": [
        {
          "output_type": "display_data",
          "data": {
            "text/html": [
              "<html>\n",
              "<head><meta charset=\"utf-8\" /></head>\n",
              "<body>\n",
              "    <div>            <script src=\"https://cdnjs.cloudflare.com/ajax/libs/mathjax/2.7.5/MathJax.js?config=TeX-AMS-MML_SVG\"></script><script type=\"text/javascript\">if (window.MathJax && window.MathJax.Hub && window.MathJax.Hub.Config) {window.MathJax.Hub.Config({SVG: {font: \"STIX-Web\"}});}</script>                <script type=\"text/javascript\">window.PlotlyConfig = {MathJaxConfig: 'local'};</script>\n",
              "        <script charset=\"utf-8\" src=\"https://cdn.plot.ly/plotly-2.35.2.min.js\"></script>                <div id=\"03522170-2437-45a9-90d4-f2ee321ba469\" class=\"plotly-graph-div\" style=\"height:525px; width:100%;\"></div>            <script type=\"text/javascript\">                                    window.PLOTLYENV=window.PLOTLYENV || {};                                    if (document.getElementById(\"03522170-2437-45a9-90d4-f2ee321ba469\")) {                    Plotly.newPlot(                        \"03522170-2437-45a9-90d4-f2ee321ba469\",                        [{\"coloraxis\":\"coloraxis\",\"name\":\"0\",\"x\":[\"V1\",\"V2\",\"V3\",\"V4\",\"V5\",\"V6\",\"V7\",\"V8\",\"V9\",\"V10\",\"V11\",\"V12\",\"V13\",\"V14\",\"V15\",\"V16\",\"V17\",\"V18\",\"V19\",\"V20\",\"V21\",\"V22\",\"V23\",\"V24\",\"V25\",\"V26\",\"V27\",\"V28\",\"Amount\",\"Class\"],\"y\":[\"V1\",\"V2\",\"V3\",\"V4\",\"V5\",\"V6\",\"V7\",\"V8\",\"V9\",\"V10\",\"V11\",\"V12\",\"V13\",\"V14\",\"V15\",\"V16\",\"V17\",\"V18\",\"V19\",\"V20\",\"V21\",\"V22\",\"V23\",\"V24\",\"V25\",\"V26\",\"V27\",\"V28\",\"Amount\",\"Class\"],\"z\":[[1.0,-0.765688699318182,0.8671299892068035,-0.5974278322279226,0.8346140696923832,0.3624225433480604,0.8681230670981406,-0.2304956052930376,0.6346749426749979,0.7168933622638879,-0.5209337222051802,0.5842622397364977,-0.10057235176807026,0.43453124594455794,0.0896752092053787,0.6229463766701533,0.6725073487251301,0.6715931775648208,-0.3332545991589335,-0.35753603859218963,0.10508582013341852,-0.07518192250796898,0.007145793516190698,-0.05704211057547207,-0.10763348555936779,0.02778100717506218,0.10296064474760903,0.17868899775398894,-0.07316366530240888,-0.41280975160807315],[-0.765688699318182,1.0,-0.8495235714117106,0.6566021192170272,-0.7903173965125646,-0.3340237499966808,-0.8046291573531458,0.1465808205827322,-0.6796817051737775,-0.7510854055063462,0.6176582781558065,-0.6696798328210875,0.08238615142431764,-0.5695916809915814,-0.14994551779720666,-0.6163323171158738,-0.6360072909813865,-0.6093486667542046,0.23928182034093115,0.365004784165481,-0.11233630869987812,0.09647670837406055,0.0801941435991611,-0.008794544470780152,0.13170515144181075,-0.007064462639332401,-0.09243987950000725,0.0434681549174051,-0.21636058319826118,0.4750728259764806],[0.8671299892068035,-0.8495235714117106,1.0,-0.7587179526886252,0.8361001556904776,0.483694240938296,0.8800074130360424,-0.2899889890706399,0.7500373578161359,0.8417902670627143,-0.7197095500774547,0.7564397555498497,-0.09360517481981505,0.66247328184461,0.12848069635152673,0.7279289373080752,0.7330509928484505,0.7003430299370509,-0.34747571964671253,-0.37967635253901233,0.07069769391545495,-0.07700073308704608,-0.00674376740267661,0.023534232330225134,-0.11386881825985115,-0.00990205780130399,-0.010388572824264681,0.09075401491932389,0.02458190338853183,-0.5618546699052415],[-0.5974278322279226,0.6566021192170272,-0.7587179526886252,1.0,-0.5395348026422987,-0.4305570216145316,-0.7072645979366418,0.14456850134983965,-0.7798698733691714,-0.7840269320508555,0.7857808578323023,-0.8250523950685671,0.07908317208659814,-0.7865965690908417,-0.10089863187570702,-0.7127520821517734,-0.6981852753922201,-0.6450380100445561,0.3275940520985892,0.30751290659304426,-0.0449383430291823,0.13164838245402566,0.019050336404720394,-0.09032344871767062,0.005175310543373104,0.11275636314862124,0.05546533456507409,-0.03583415217466499,-0.16755860418739965,0.6982479324513886],[0.8346140696923832,-0.7903173965125646,0.8361001556904776,-0.5395348026422987,1.0,0.2698844794692851,0.8116222074924648,-0.30830229049641444,0.6349796444769498,0.7303696276281659,-0.5181381862730424,0.6020003049566534,-0.13869471786065457,0.42371262860313513,0.06895628487178425,0.6750769661158169,0.7350366712407885,0.7327483840320442,-0.404008298694237,-0.3040055725733981,0.08270980173553759,-0.10626054654377214,-0.06369976415930052,-0.12356150245505143,-0.11064278914019114,0.062146804141599184,0.09256859027555664,0.13497144968718336,-0.1886785268376191,-0.36258857068628825],[0.3624225433480604,-0.3340237499966808,0.483694240938296,-0.4305570216145316,0.2698844794692851,1.0,0.3536745009697224,-0.5225617061906783,0.34175120406229054,0.42665440819651135,-0.5112631451263163,0.49304324837977526,-0.08969483646016911,0.5506734781834296,-0.07219063731012221,0.44159303204022055,0.4168652137282756,0.36091684195615065,-0.22422885195380116,-0.09375811496277661,-0.21863411649956038,0.19564289324478196,0.24583273705526582,-0.02068834785445069,-0.15931512431812034,0.010240924710068398,-0.2349032340824142,-0.08804049913124784,0.19879867444611826,-0.41184522101744336],[0.8681230670981406,-0.8046291573531458,0.8800074130360424,-0.7072645979366418,0.8116222074924648,0.3536745009697224,1.0,-0.059337760843900106,0.7643899553611108,0.8598974760306372,-0.6452744902258577,0.7249913734057403,-0.07012738273137281,0.545516560378355,0.14663010022125936,0.7490117646431087,0.7803056618163959,0.7660893772606271,-0.39465672133644,-0.451885924527968,0.2003211934008691,-0.20917028467293858,-0.029376118987533367,-0.04261777718430104,0.03397891409968181,0.009233323931908366,0.15387604718442108,0.11967190888692786,0.09767074562971041,-0.47146205848344896],[-0.2304956052930376,0.1465808205827322,-0.2899889890706399,0.14456850134983965,-0.30830229049641444,-0.5225617061906783,-0.059337760843900106,1.0,-0.09441429431096435,-0.10783404634880667,0.24944333709948038,-0.2112507285273886,0.24900965542469908,-0.27171361764110147,0.15146371209859533,-0.25800042002929485,-0.29298543312025643,-0.26454886138729805,0.22811739281587876,-0.17109929684764652,0.38757498676843144,-0.3577840219578573,-0.3056601752126643,0.04095347131561571,0.2940323641717371,0.011193180764594633,0.389312321629365,0.07095870049004475,0.14376930648132483,0.11997713695706114],[0.6346749426749979,-0.6796817051737775,0.7500373578161359,-0.7798698733691714,0.6349796444769498,0.34175120406229054,0.7643899553611108,-0.09441429431096435,1.0,0.8430256260245711,-0.694592494008686,0.7582259937781778,-0.03041029724690635,0.6686582898829849,0.11385786852981672,0.7278441615031906,0.750537055034483,0.7098933822753483,-0.3522683884830964,-0.35878563230166716,0.16926281197489434,-0.24626822490764566,-0.0631711154681271,0.010474709328257397,-0.014344773481542181,-0.10512598424884408,0.05651008492349052,0.07822975952158985,0.08905025527684839,-0.5413817238947943],[0.7168933622638879,-0.7510854055063462,0.8417902670627143,-0.7840269320508555,0.7303696276281659,0.42665440819651135,0.8598974760306372,-0.10783404634880667,0.8430256260245711,1.0,-0.8070522611959827,0.8785356693401477,-0.07639307063753828,0.7679908195014015,0.1265646738597434,0.851300898674693,0.8528267218797558,0.8043893747393833,-0.4415636282267398,-0.38355519533599297,0.11806500760971149,-0.24317429843557667,-0.03819967038621497,0.014518658162984487,0.009870324457137874,-0.02731066952337216,0.047658026240498974,0.07712933615423273,0.0718474311893289,-0.6341913325895304],[-0.5209337222051802,0.6176582781558065,-0.7197095500774547,0.7857808578323023,-0.5181381862730424,-0.5112631451263163,-0.6452744902258577,0.24944333709948038,-0.694592494008686,-0.8070522611959827,1.0,-0.8978692892720589,0.08821214056525041,-0.8938856430434847,-0.060763652226951285,-0.8066670551884979,-0.7683507055098907,-0.6770035762000148,0.40742044337862254,0.23061804031093974,0.12483739879285392,0.04580919956811129,-0.05451863009563237,-0.13300897808053383,0.0194865090070619,0.13517109322205384,0.22584499804431254,0.04518130815441116,-0.15450694555656816,0.6836099347617035],[0.5842622397364977,-0.6696798328210875,0.7564397555498497,-0.8250523950685671,0.6020003049566534,0.49304324837977526,0.7249913734057403,-0.2112507285273886,0.7582259937781778,0.8785356693401477,-0.8978692892720589,1.0,-0.1007915715758649,0.8803992195819483,0.08290508003947543,0.8954806841041552,0.8713783894628612,0.8009000396771023,-0.4605858745989746,-0.24641543633697827,-0.07992026144635478,-0.12764237966600914,0.01546202623940731,0.07263439776069203,0.014919256276240894,-0.10160404826831379,-0.09650896528191444,-0.03363086124863044,0.10672714934893367,-0.6799659606952552],[-0.10057235176807026,0.08238615142431764,-0.09360517481981505,0.07908317208659814,-0.13869471786065457,-0.08969483646016911,-0.07012738273137281,0.24900965542469908,-0.03041029724690635,-0.07639307063753828,0.08821214056525041,-0.1007915715758649,1.0,-0.05687771766287168,-0.006149616049610842,-0.13182301417926373,-0.14773405055768546,-0.13986615702614982,0.1563791378216473,-0.029656498960585195,0.10917052738760784,-0.017538347338815024,-0.05260350804414581,0.010497435094933257,-0.04080646604246287,0.018435537696886956,0.07871272089465899,-0.060994846238223106,0.07405432606332107,-0.0176291716832772],[0.43453124594455794,-0.5695916809915814,0.66247328184461,-0.7865965690908417,0.42371262860313513,0.5506734781834296,0.545516560378355,-0.27171361764110147,0.6686582898829849,0.7679908195014015,-0.8938856430434847,0.8803992195819483,-0.05687771766287168,1.0,-0.006521666941805271,0.7711042400103357,0.7209752875858513,0.6201210621081057,-0.37598883447634024,-0.17050611940344224,-0.21607290009970948,0.029205415252260607,0.04350899788279605,0.14613318776820539,-0.0820909681532012,-0.12104128300636824,-0.241522276553385,-0.1316387614507606,0.16229875358434667,-0.7468701745155366],[0.0896752092053787,-0.14994551779720666,0.12848069635152673,-0.10089863187570702,0.06895628487178425,-0.07219063731012221,0.14663010022125936,0.15146371209859533,0.11385786852981672,0.1265646738597434,-0.060763652226951285,0.08290508003947543,-0.006149616049610842,-0.006521666941805271,1.0,-0.007420458312307857,0.03360302690668198,0.01131569998556656,0.23326820447333918,-0.11256537625095524,0.18373239711630576,-0.08035101354152115,-0.041027611226810104,-0.01157354004695071,-0.033577073810520865,0.006086206873714609,0.1394922255703866,0.08966919458183203,0.07994673263203536,-0.026631545933671487],[0.6229463766701533,-0.6163323171158738,0.7279289373080752,-0.7127520821517734,0.6750769661158169,0.44159303204022055,0.7490117646431087,-0.25800042002929485,0.7278441615031906,0.851300898674693,-0.8066670551884979,0.8954806841041552,-0.13182301417926373,0.7711042400103357,-0.007420458312307857,1.0,0.9503659379096667,0.9073736388080851,-0.6332782342633414,-0.22762467265234435,-0.13142276677762169,-0.15639215674000861,0.029913887651291042,-0.036954361640567646,0.04630181441054792,-0.0337333059856837,-0.07948900532389865,-0.013908981731753305,-0.024411029812274665,-0.5915378381147732],[0.6725073487251301,-0.6360072909813865,0.7330509928484505,-0.6981852753922201,0.7350366712407885,0.4168652137282756,0.7803056618163959,-0.29298543312025643,0.750537055034483,0.8528267218797558,-0.7683507055098907,0.8713783894628612,-0.14773405055768546,0.7209752875858513,0.03360302690668198,0.9503659379096667,1.0,0.9439683190213272,-0.6088873903094877,-0.23404302230329882,-0.09976410305425652,-0.15129850493100805,0.02555701610081137,-0.06540376716669932,0.028208249501870165,-0.02760220488141048,-0.05237145902633271,0.03334053414760097,-0.04171415164270357,-0.5500412882629256],[0.6715931775648208,-0.6093486667542046,0.7003430299370509,-0.6450380100445561,0.7327483840320442,0.36091684195615065,0.7660893772606271,-0.26454886138729805,0.7098933822753483,0.8043893747393833,-0.6770035762000148,0.8009000396771023,-0.13986615702614982,0.6201210621081057,0.01131569998556656,0.9073736388080851,0.9439683190213272,1.0,-0.5630152488094026,-0.21358094765478997,-0.0614907010790362,-0.15454240119428886,0.04264508375570809,-0.10776053559371093,0.04317813837614166,-0.008787151202627498,0.0001074660770983734,0.07471023248706299,-0.06040004071231404,-0.47268805190220164],[-0.3332545991589335,0.23928182034093115,-0.34747571964671253,0.3275940520985892,-0.404008298694237,-0.22422885195380116,-0.39465672133644,0.22811739281587876,-0.3522683884830964,-0.4415636282267398,0.40742044337862254,-0.4605858745989746,0.1563791378216473,-0.37598883447634024,0.23326820447333918,-0.6332782342633414,-0.6088873903094877,-0.5630152488094026,1.0,0.07336170869411578,0.1656237498809767,0.143019126312818,0.004283143891915039,0.10440159029912761,-0.16356639420367697,0.038540136338007056,0.06496393067344823,-0.025108067543731908,0.1212372851304212,0.30170807540214106],[-0.35753603859218963,0.365004784165481,-0.37967635253901233,0.30751290659304426,-0.3040055725733981,-0.09375811496277661,-0.451885924527968,-0.17109929684764652,-0.35878563230166716,-0.38355519533599297,0.23061804031093974,-0.24641543633697827,-0.029656498960585195,-0.17050611940344224,-0.11256537625095524,-0.22762467265234435,-0.23404302230329882,-0.21358094765478997,0.07336170869411578,1.0,-0.5167859074822126,0.3652486332147203,0.2277762058139811,-0.023031895532876205,0.06818931106049561,0.0038720384755492414,-0.08959900619314991,0.08436085028255007,-0.026624923100716465,0.19476394912326658],[0.10508582013341852,-0.11233630869987812,0.07069769391545495,-0.0449383430291823,0.08270980173553759,-0.21863411649956038,0.2003211934008691,0.38757498676843144,0.16926281197489434,0.11806500760971149,0.12483739879285392,-0.07992026144635478,0.10917052738760784,-0.21607290009970948,0.18373239711630576,-0.13142276677762169,-0.09976410305425652,-0.0614907010790362,0.1656237498809767,-0.5167859074822126,1.0,-0.6209366664672944,-0.1288445068637473,-0.0026740185320257744,0.13771721188339467,0.03200767538142935,0.37691049681284144,0.23638378022850381,0.10165498263731795,0.1121254844259181],[-0.07518192250796898,0.09647670837406055,-0.07700073308704608,0.13164838245402566,-0.10626054654377214,0.19564289324478196,-0.20917028467293858,-0.3577840219578573,-0.24626822490764566,-0.24317429843557667,0.04580919956811129,-0.12764237966600914,-0.017538347338815024,0.029205415252260607,-0.08035101354152115,-0.15639215674000861,-0.15129850493100805,-0.15454240119428886,0.143019126312818,0.3652486332147203,-0.6209366664672944,1.0,0.2171444626310764,0.06014672398380972,-0.2654887019931972,0.01395729693846749,-0.34384791938444936,-0.15932390401142416,-0.0049418417961290765,0.036785276909149775],[0.007145793516190698,0.0801941435991611,-0.00674376740267661,0.019050336404720394,-0.06369976415930052,0.24583273705526582,-0.029376118987533367,-0.3056601752126643,-0.0631711154681271,-0.03819967038621497,-0.05451863009563237,0.01546202623940731,-0.05260350804414581,0.04350899788279605,-0.041027611226810104,0.029913887651291042,0.02555701610081137,0.04264508375570809,0.004283143891915039,0.2277762058139811,-0.1288445068637473,0.2171444626310764,1.0,0.014319892706560793,0.06659985761502892,0.02912121196273035,-0.23876423530054103,0.0586943861886013,-0.06992588165207432,-0.04168112443282605],[-0.05704211057547207,-0.008794544470780152,0.023534232330225134,-0.09032344871767062,-0.12356150245505143,-0.02068834785445069,-0.04261777718430104,0.04095347131561571,0.010474709328257397,0.014518658162984487,-0.13300897808053383,0.07263439776069203,0.010497435094933257,0.14613318776820539,-0.01157354004695071,-0.036954361640567646,-0.06540376716669932,-0.10776053559371093,0.10440159029912761,-0.023031895532876205,-0.0026740185320257744,0.06014672398380972,0.014319892706560793,1.0,-0.05940117487633949,-0.13417330340599729,-0.1765207414338535,-0.027854542347201833,0.10635640450189068,-0.10050562623794457],[-0.10763348555936779,0.13170515144181075,-0.11386881825985115,0.005175310543373104,-0.11064278914019114,-0.15931512431812034,0.03397891409968181,0.2940323641717371,-0.014344773481542181,0.009870324457137874,0.0194865090070619,0.014919256276240894,-0.04080646604246287,-0.0820909681532012,-0.033577073810520865,0.04630181441054792,0.028208249501870165,0.04317813837614166,-0.16356639420367697,0.06818931106049561,0.13771721188339467,-0.2654887019931972,0.06659985761502892,-0.05940117487633949,1.0,0.02639151555584238,0.20148372422948413,0.1596348191258034,-0.01477536006243173,0.04189285973199347],[0.02778100717506218,-0.007064462639332401,-0.00990205780130399,0.11275636314862124,0.062146804141599184,0.010240924710068398,0.009233323931908366,0.011193180764594633,-0.10512598424884408,-0.02731066952337216,0.13517109322205384,-0.10160404826831379,0.018435537696886956,-0.12104128300636824,0.006086206873714609,-0.0337333059856837,-0.02760220488141048,-0.008787151202627498,0.038540136338007056,0.0038720384755492414,0.03200767538142935,0.01395729693846749,0.02912121196273035,-0.13417330340599729,0.02639151555584238,1.0,0.10150863886805564,-0.02192270277109759,-0.0619634466694043,0.01762902588200925],[0.10296064474760903,-0.09243987950000725,-0.010388572824264681,0.05546533456507409,0.09256859027555664,-0.2349032340824142,0.15387604718442108,0.389312321629365,0.05651008492349052,0.047658026240498974,0.22584499804431254,-0.09650896528191444,0.07871272089465899,-0.241522276553385,0.1394922255703866,-0.07948900532389865,-0.05237145902633271,0.0001074660770983734,0.06496393067344823,-0.08959900619314991,0.37691049681284144,-0.34384791938444936,-0.23876423530054103,-0.1765207414338535,0.20148372422948413,0.10150863886805564,1.0,0.18886430277298497,0.03436391925329866,0.12025018185012354],[0.17868899775398894,0.0434681549174051,0.09075401491932389,-0.03583415217466499,0.13497144968718336,-0.08804049913124784,0.11967190888692786,0.07095870049004475,0.07822975952158985,0.07712933615423273,0.04518130815441116,-0.03363086124863044,-0.060994846238223106,-0.1316387614507606,0.08966919458183203,-0.013908981731753305,0.03334053414760097,0.07471023248706299,-0.025108067543731908,0.08436085028255007,0.23638378022850381,-0.15932390401142416,0.0586943861886013,-0.027854542347201833,0.1596348191258034,-0.02192270277109759,0.18886430277298497,1.0,-0.09721088564665305,0.10554002465872526],[-0.07316366530240888,-0.21636058319826118,0.02458190338853183,-0.16755860418739965,-0.1886785268376191,0.19879867444611826,0.09767074562971041,0.14376930648132483,0.08905025527684839,0.0718474311893289,-0.15450694555656816,0.10672714934893367,0.07405432606332107,0.16229875358434667,0.07994673263203536,-0.024411029812274665,-0.04171415164270357,-0.06040004071231404,0.1212372851304212,-0.026624923100716465,0.10165498263731795,-0.0049418417961290765,-0.06992588165207432,0.10635640450189068,-0.01477536006243173,-0.0619634466694043,0.03436391925329866,-0.09721088564665305,1.0,-0.07328193339410143],[-0.41280975160807315,0.4750728259764806,-0.5618546699052415,0.6982479324513886,-0.36258857068628825,-0.41184522101744336,-0.47146205848344896,0.11997713695706114,-0.5413817238947943,-0.6341913325895304,0.6836099347617035,-0.6799659606952552,-0.0176291716832772,-0.7468701745155366,-0.026631545933671487,-0.5915378381147732,-0.5500412882629256,-0.47268805190220164,0.30170807540214106,0.19476394912326658,0.1121254844259181,0.036785276909149775,-0.04168112443282605,-0.10050562623794457,0.04189285973199347,0.01762902588200925,0.12025018185012354,0.10554002465872526,-0.07328193339410143,1.0]],\"type\":\"heatmap\",\"xaxis\":\"x\",\"yaxis\":\"y\",\"hovertemplate\":\"x: %{x}\\u003cbr\\u003ey: %{y}\\u003cbr\\u003ecolor: %{z}\\u003cextra\\u003e\\u003c\\u002fextra\\u003e\"}],                        {\"template\":{\"data\":{\"histogram2dcontour\":[{\"type\":\"histogram2dcontour\",\"colorbar\":{\"outlinewidth\":0,\"ticks\":\"\"},\"colorscale\":[[0.0,\"#0d0887\"],[0.1111111111111111,\"#46039f\"],[0.2222222222222222,\"#7201a8\"],[0.3333333333333333,\"#9c179e\"],[0.4444444444444444,\"#bd3786\"],[0.5555555555555556,\"#d8576b\"],[0.6666666666666666,\"#ed7953\"],[0.7777777777777778,\"#fb9f3a\"],[0.8888888888888888,\"#fdca26\"],[1.0,\"#f0f921\"]]}],\"choropleth\":[{\"type\":\"choropleth\",\"colorbar\":{\"outlinewidth\":0,\"ticks\":\"\"}}],\"histogram2d\":[{\"type\":\"histogram2d\",\"colorbar\":{\"outlinewidth\":0,\"ticks\":\"\"},\"colorscale\":[[0.0,\"#0d0887\"],[0.1111111111111111,\"#46039f\"],[0.2222222222222222,\"#7201a8\"],[0.3333333333333333,\"#9c179e\"],[0.4444444444444444,\"#bd3786\"],[0.5555555555555556,\"#d8576b\"],[0.6666666666666666,\"#ed7953\"],[0.7777777777777778,\"#fb9f3a\"],[0.8888888888888888,\"#fdca26\"],[1.0,\"#f0f921\"]]}],\"heatmap\":[{\"type\":\"heatmap\",\"colorbar\":{\"outlinewidth\":0,\"ticks\":\"\"},\"colorscale\":[[0.0,\"#0d0887\"],[0.1111111111111111,\"#46039f\"],[0.2222222222222222,\"#7201a8\"],[0.3333333333333333,\"#9c179e\"],[0.4444444444444444,\"#bd3786\"],[0.5555555555555556,\"#d8576b\"],[0.6666666666666666,\"#ed7953\"],[0.7777777777777778,\"#fb9f3a\"],[0.8888888888888888,\"#fdca26\"],[1.0,\"#f0f921\"]]}],\"heatmapgl\":[{\"type\":\"heatmapgl\",\"colorbar\":{\"outlinewidth\":0,\"ticks\":\"\"},\"colorscale\":[[0.0,\"#0d0887\"],[0.1111111111111111,\"#46039f\"],[0.2222222222222222,\"#7201a8\"],[0.3333333333333333,\"#9c179e\"],[0.4444444444444444,\"#bd3786\"],[0.5555555555555556,\"#d8576b\"],[0.6666666666666666,\"#ed7953\"],[0.7777777777777778,\"#fb9f3a\"],[0.8888888888888888,\"#fdca26\"],[1.0,\"#f0f921\"]]}],\"contourcarpet\":[{\"type\":\"contourcarpet\",\"colorbar\":{\"outlinewidth\":0,\"ticks\":\"\"}}],\"contour\":[{\"type\":\"contour\",\"colorbar\":{\"outlinewidth\":0,\"ticks\":\"\"},\"colorscale\":[[0.0,\"#0d0887\"],[0.1111111111111111,\"#46039f\"],[0.2222222222222222,\"#7201a8\"],[0.3333333333333333,\"#9c179e\"],[0.4444444444444444,\"#bd3786\"],[0.5555555555555556,\"#d8576b\"],[0.6666666666666666,\"#ed7953\"],[0.7777777777777778,\"#fb9f3a\"],[0.8888888888888888,\"#fdca26\"],[1.0,\"#f0f921\"]]}],\"surface\":[{\"type\":\"surface\",\"colorbar\":{\"outlinewidth\":0,\"ticks\":\"\"},\"colorscale\":[[0.0,\"#0d0887\"],[0.1111111111111111,\"#46039f\"],[0.2222222222222222,\"#7201a8\"],[0.3333333333333333,\"#9c179e\"],[0.4444444444444444,\"#bd3786\"],[0.5555555555555556,\"#d8576b\"],[0.6666666666666666,\"#ed7953\"],[0.7777777777777778,\"#fb9f3a\"],[0.8888888888888888,\"#fdca26\"],[1.0,\"#f0f921\"]]}],\"mesh3d\":[{\"type\":\"mesh3d\",\"colorbar\":{\"outlinewidth\":0,\"ticks\":\"\"}}],\"scatter\":[{\"fillpattern\":{\"fillmode\":\"overlay\",\"size\":10,\"solidity\":0.2},\"type\":\"scatter\"}],\"parcoords\":[{\"type\":\"parcoords\",\"line\":{\"colorbar\":{\"outlinewidth\":0,\"ticks\":\"\"}}}],\"scatterpolargl\":[{\"type\":\"scatterpolargl\",\"marker\":{\"colorbar\":{\"outlinewidth\":0,\"ticks\":\"\"}}}],\"bar\":[{\"error_x\":{\"color\":\"#2a3f5f\"},\"error_y\":{\"color\":\"#2a3f5f\"},\"marker\":{\"line\":{\"color\":\"#E5ECF6\",\"width\":0.5},\"pattern\":{\"fillmode\":\"overlay\",\"size\":10,\"solidity\":0.2}},\"type\":\"bar\"}],\"scattergeo\":[{\"type\":\"scattergeo\",\"marker\":{\"colorbar\":{\"outlinewidth\":0,\"ticks\":\"\"}}}],\"scatterpolar\":[{\"type\":\"scatterpolar\",\"marker\":{\"colorbar\":{\"outlinewidth\":0,\"ticks\":\"\"}}}],\"histogram\":[{\"marker\":{\"pattern\":{\"fillmode\":\"overlay\",\"size\":10,\"solidity\":0.2}},\"type\":\"histogram\"}],\"scattergl\":[{\"type\":\"scattergl\",\"marker\":{\"colorbar\":{\"outlinewidth\":0,\"ticks\":\"\"}}}],\"scatter3d\":[{\"type\":\"scatter3d\",\"line\":{\"colorbar\":{\"outlinewidth\":0,\"ticks\":\"\"}},\"marker\":{\"colorbar\":{\"outlinewidth\":0,\"ticks\":\"\"}}}],\"scattermapbox\":[{\"type\":\"scattermapbox\",\"marker\":{\"colorbar\":{\"outlinewidth\":0,\"ticks\":\"\"}}}],\"scatterternary\":[{\"type\":\"scatterternary\",\"marker\":{\"colorbar\":{\"outlinewidth\":0,\"ticks\":\"\"}}}],\"scattercarpet\":[{\"type\":\"scattercarpet\",\"marker\":{\"colorbar\":{\"outlinewidth\":0,\"ticks\":\"\"}}}],\"carpet\":[{\"aaxis\":{\"endlinecolor\":\"#2a3f5f\",\"gridcolor\":\"white\",\"linecolor\":\"white\",\"minorgridcolor\":\"white\",\"startlinecolor\":\"#2a3f5f\"},\"baxis\":{\"endlinecolor\":\"#2a3f5f\",\"gridcolor\":\"white\",\"linecolor\":\"white\",\"minorgridcolor\":\"white\",\"startlinecolor\":\"#2a3f5f\"},\"type\":\"carpet\"}],\"table\":[{\"cells\":{\"fill\":{\"color\":\"#EBF0F8\"},\"line\":{\"color\":\"white\"}},\"header\":{\"fill\":{\"color\":\"#C8D4E3\"},\"line\":{\"color\":\"white\"}},\"type\":\"table\"}],\"barpolar\":[{\"marker\":{\"line\":{\"color\":\"#E5ECF6\",\"width\":0.5},\"pattern\":{\"fillmode\":\"overlay\",\"size\":10,\"solidity\":0.2}},\"type\":\"barpolar\"}],\"pie\":[{\"automargin\":true,\"type\":\"pie\"}]},\"layout\":{\"autotypenumbers\":\"strict\",\"colorway\":[\"#636efa\",\"#EF553B\",\"#00cc96\",\"#ab63fa\",\"#FFA15A\",\"#19d3f3\",\"#FF6692\",\"#B6E880\",\"#FF97FF\",\"#FECB52\"],\"font\":{\"color\":\"#2a3f5f\"},\"hovermode\":\"closest\",\"hoverlabel\":{\"align\":\"left\"},\"paper_bgcolor\":\"white\",\"plot_bgcolor\":\"#E5ECF6\",\"polar\":{\"bgcolor\":\"#E5ECF6\",\"angularaxis\":{\"gridcolor\":\"white\",\"linecolor\":\"white\",\"ticks\":\"\"},\"radialaxis\":{\"gridcolor\":\"white\",\"linecolor\":\"white\",\"ticks\":\"\"}},\"ternary\":{\"bgcolor\":\"#E5ECF6\",\"aaxis\":{\"gridcolor\":\"white\",\"linecolor\":\"white\",\"ticks\":\"\"},\"baxis\":{\"gridcolor\":\"white\",\"linecolor\":\"white\",\"ticks\":\"\"},\"caxis\":{\"gridcolor\":\"white\",\"linecolor\":\"white\",\"ticks\":\"\"}},\"coloraxis\":{\"colorbar\":{\"outlinewidth\":0,\"ticks\":\"\"}},\"colorscale\":{\"sequential\":[[0.0,\"#0d0887\"],[0.1111111111111111,\"#46039f\"],[0.2222222222222222,\"#7201a8\"],[0.3333333333333333,\"#9c179e\"],[0.4444444444444444,\"#bd3786\"],[0.5555555555555556,\"#d8576b\"],[0.6666666666666666,\"#ed7953\"],[0.7777777777777778,\"#fb9f3a\"],[0.8888888888888888,\"#fdca26\"],[1.0,\"#f0f921\"]],\"sequentialminus\":[[0.0,\"#0d0887\"],[0.1111111111111111,\"#46039f\"],[0.2222222222222222,\"#7201a8\"],[0.3333333333333333,\"#9c179e\"],[0.4444444444444444,\"#bd3786\"],[0.5555555555555556,\"#d8576b\"],[0.6666666666666666,\"#ed7953\"],[0.7777777777777778,\"#fb9f3a\"],[0.8888888888888888,\"#fdca26\"],[1.0,\"#f0f921\"]],\"diverging\":[[0,\"#8e0152\"],[0.1,\"#c51b7d\"],[0.2,\"#de77ae\"],[0.3,\"#f1b6da\"],[0.4,\"#fde0ef\"],[0.5,\"#f7f7f7\"],[0.6,\"#e6f5d0\"],[0.7,\"#b8e186\"],[0.8,\"#7fbc41\"],[0.9,\"#4d9221\"],[1,\"#276419\"]]},\"xaxis\":{\"gridcolor\":\"white\",\"linecolor\":\"white\",\"ticks\":\"\",\"title\":{\"standoff\":15},\"zerolinecolor\":\"white\",\"automargin\":true,\"zerolinewidth\":2},\"yaxis\":{\"gridcolor\":\"white\",\"linecolor\":\"white\",\"ticks\":\"\",\"title\":{\"standoff\":15},\"zerolinecolor\":\"white\",\"automargin\":true,\"zerolinewidth\":2},\"scene\":{\"xaxis\":{\"backgroundcolor\":\"#E5ECF6\",\"gridcolor\":\"white\",\"linecolor\":\"white\",\"showbackground\":true,\"ticks\":\"\",\"zerolinecolor\":\"white\",\"gridwidth\":2},\"yaxis\":{\"backgroundcolor\":\"#E5ECF6\",\"gridcolor\":\"white\",\"linecolor\":\"white\",\"showbackground\":true,\"ticks\":\"\",\"zerolinecolor\":\"white\",\"gridwidth\":2},\"zaxis\":{\"backgroundcolor\":\"#E5ECF6\",\"gridcolor\":\"white\",\"linecolor\":\"white\",\"showbackground\":true,\"ticks\":\"\",\"zerolinecolor\":\"white\",\"gridwidth\":2}},\"shapedefaults\":{\"line\":{\"color\":\"#2a3f5f\"}},\"annotationdefaults\":{\"arrowcolor\":\"#2a3f5f\",\"arrowhead\":0,\"arrowwidth\":1},\"geo\":{\"bgcolor\":\"white\",\"landcolor\":\"#E5ECF6\",\"subunitcolor\":\"white\",\"showland\":true,\"showlakes\":true,\"lakecolor\":\"white\"},\"title\":{\"x\":0.05},\"mapbox\":{\"style\":\"light\"}}},\"xaxis\":{\"anchor\":\"y\",\"domain\":[0.0,1.0]},\"yaxis\":{\"anchor\":\"x\",\"domain\":[0.0,1.0],\"autorange\":\"reversed\"},\"coloraxis\":{\"colorscale\":[[0.0,\"rgb(5,48,97)\"],[0.1,\"rgb(33,102,172)\"],[0.2,\"rgb(67,147,195)\"],[0.3,\"rgb(146,197,222)\"],[0.4,\"rgb(209,229,240)\"],[0.5,\"rgb(247,247,247)\"],[0.6,\"rgb(253,219,199)\"],[0.7,\"rgb(244,165,130)\"],[0.8,\"rgb(214,96,77)\"],[0.9,\"rgb(178,24,43)\"],[1.0,\"rgb(103,0,31)\"]]},\"margin\":{\"t\":60}},                        {\"responsive\": true}                    ).then(function(){\n",
              "                            \n",
              "var gd = document.getElementById('03522170-2437-45a9-90d4-f2ee321ba469');\n",
              "var x = new MutationObserver(function (mutations, observer) {{\n",
              "        var display = window.getComputedStyle(gd).display;\n",
              "        if (!display || display === 'none') {{\n",
              "            console.log([gd, 'removed!']);\n",
              "            Plotly.purge(gd);\n",
              "            observer.disconnect();\n",
              "        }}\n",
              "}});\n",
              "\n",
              "// Listen for the removal of the full notebook cells\n",
              "var notebookContainer = gd.closest('#notebook-container');\n",
              "if (notebookContainer) {{\n",
              "    x.observe(notebookContainer, {childList: true});\n",
              "}}\n",
              "\n",
              "// Listen for the clearing of the current output cell\n",
              "var outputEl = gd.closest('.output');\n",
              "if (outputEl) {{\n",
              "    x.observe(outputEl, {childList: true});\n",
              "}}\n",
              "\n",
              "                        })                };                            </script>        </div>\n",
              "</body>\n",
              "</html>"
            ]
          },
          "metadata": {}
        }
      ],
      "source": [
        "corr = new_df.corr()\n",
        "fig=px.imshow(corr, aspect=\"auto\" ,color_continuous_scale='RdBu_r')\n",
        "fig.show()"
      ]
    },
    {
      "cell_type": "markdown",
      "id": "a7c45385",
      "metadata": {
        "id": "a7c45385"
      },
      "source": [
        "Negative Correlations: V17, V14, V12 and V10 are negatively correlated.  \n",
        "Positive Correlations: V2, V4, V11 are positively correlated."
      ]
    },
    {
      "cell_type": "markdown",
      "source": [
        "Note-Used chatgpt to understand the correlations. As the features are anonymised it was difficult to conclude and get relationship and dependency on eachother."
      ],
      "metadata": {
        "id": "xEwtNfT99Z3T"
      },
      "id": "xEwtNfT99Z3T"
    },
    {
      "cell_type": "code",
      "execution_count": null,
      "id": "Mzekq9GppDUe",
      "metadata": {
        "colab": {
          "base_uri": "https://localhost:8080/"
        },
        "id": "Mzekq9GppDUe",
        "outputId": "730feb90-a599-48f4-9760-e71aea686484"
      },
      "outputs": [
        {
          "output_type": "stream",
          "name": "stdout",
          "text": [
            "Highly Correlated Feature Pairs (|r| > 0.9):\n",
            "V16 ↔ V17: r = 0.95\n",
            "V16 ↔ V18: r = 0.91\n",
            "V17 ↔ V18: r = 0.94\n"
          ]
        }
      ],
      "source": [
        "# Calculate absolute correlation matrix (optional: choose df or new_df)\n",
        "corr_matrix = new_df.corr().abs()\n",
        "\n",
        "# Select upper triangle of correlation matrix to avoid duplicates and self-correlation\n",
        "upper = corr_matrix.where(np.triu(np.ones(corr_matrix.shape), k=1).astype(bool))\n",
        "\n",
        "# Set threshold\n",
        "threshold = 0.9\n",
        "\n",
        "# Find feature pairs with high correlation\n",
        "high_corr_pairs = [(col1, col2, corr_matrix.loc[col1, col2])\n",
        "                   for col1 in upper.columns\n",
        "                   for col2 in upper.columns\n",
        "                   if (upper.loc[col1, col2] > threshold)]\n",
        "\n",
        "# Display results\n",
        "print(\"Highly Correlated Feature Pairs (|r| > 0.9):\")\n",
        "for f1, f2, corr_value in high_corr_pairs:\n",
        "    print(f\"{f1} ↔ {f2}: r = {corr_value:.2f}\")"
      ]
    },
    {
      "cell_type": "markdown",
      "id": "09014a1a",
      "metadata": {
        "id": "09014a1a"
      },
      "source": [
        "### TSNE"
      ]
    },
    {
      "cell_type": "code",
      "execution_count": null,
      "id": "64e561a6",
      "metadata": {
        "id": "64e561a6"
      },
      "outputs": [],
      "source": [
        "from sklearn.manifold import TSNE\n",
        "X = new_df.drop('Class', axis=1)\n",
        "y = new_df['Class']\n",
        "\n",
        "# T-SNE Implementation\n",
        "X_reduced_tsne = TSNE(n_components=2, random_state=42).fit_transform(X.values)"
      ]
    },
    {
      "cell_type": "code",
      "execution_count": null,
      "id": "1b1e39a4",
      "metadata": {
        "colab": {
          "base_uri": "https://localhost:8080/",
          "height": 542
        },
        "id": "1b1e39a4",
        "outputId": "dd26629d-59e6-4901-da64-880daf011cf2"
      },
      "outputs": [
        {
          "output_type": "display_data",
          "data": {
            "text/html": [
              "<html>\n",
              "<head><meta charset=\"utf-8\" /></head>\n",
              "<body>\n",
              "    <div>            <script src=\"https://cdnjs.cloudflare.com/ajax/libs/mathjax/2.7.5/MathJax.js?config=TeX-AMS-MML_SVG\"></script><script type=\"text/javascript\">if (window.MathJax && window.MathJax.Hub && window.MathJax.Hub.Config) {window.MathJax.Hub.Config({SVG: {font: \"STIX-Web\"}});}</script>                <script type=\"text/javascript\">window.PlotlyConfig = {MathJaxConfig: 'local'};</script>\n",
              "        <script charset=\"utf-8\" src=\"https://cdn.plot.ly/plotly-2.35.2.min.js\"></script>                <div id=\"93052566-bc7d-40e6-9d11-212e5f194e0a\" class=\"plotly-graph-div\" style=\"height:525px; width:100%;\"></div>            <script type=\"text/javascript\">                                    window.PLOTLYENV=window.PLOTLYENV || {};                                    if (document.getElementById(\"93052566-bc7d-40e6-9d11-212e5f194e0a\")) {                    Plotly.newPlot(                        \"93052566-bc7d-40e6-9d11-212e5f194e0a\",                        [{\"hovertemplate\":\"x=%{x}\\u003cbr\\u003ey=%{y}\\u003cbr\\u003ecolor=%{marker.color}\\u003cextra\\u003e\\u003c\\u002fextra\\u003e\",\"legendgroup\":\"\",\"marker\":{\"color\":[0,1,1,1,1,1,1,1,1,1,1,1,1,0,0,1,1,1,1,0,0,0,0,0,0,1,1,1,0,0,0,0,0,1,0,0,0,0,0,0,1,1,1,0,0,1,1,1,0,0,0,1,0,1,1,1,0,0,1,0,0,0,0,1,0,1,0,0,1,0,1,0,1,1,0,0,1,0,1,0,0,0,0,1,0,0,1,0,0,0,1,0,0,0,1,0,1,0,1,0,1,1,1,1,1,0,1,1,0,0,0,1,1,0,0,0,1,0,1,1,0,0,0,0,0,1,0,0,1,0,0,0,0,1,0,1,1,1,0,1,1,1,1,0,1,1,0,1,0,1,1,1,0,0,1,0,0,0,0,1,1,0,1,0,1,0,1,0,1,1,1,0,0,0,0,1,0,1,0,0,1,0,0,0,1,0,0,1,0,1,0,1,1,0,1,1,0,1,0,1,1,0,1,1,1,1,0,1,1,0,0,1,1,1,0,1,0,1,1,1,0,0,0,0,1,0,1,0,0,0,0,1,0,1,1,1,1,1,1,1,0,0,1,0,1,1,1,1,0,0,0,0,1,1,1,0,0,0,0,1,0,1,0,1,1,1,0,1,0,1,1,1,1,0,0,1,1,0,0,0,1,0,0,1,0,0,1,0,0,0,0,0,1,1,0,1,1,1,1,0,1,0,1,1,0,0,0,1,0,0,0,0,0,1,1,1,1,1,0,1,0,1,1,0,1,1,1,1,0,1,1,0,1,1,1,0,1,1,0,1,1,1,1,1,0,1,1,0,0,1,1,0,1,1,1,0,1,0,1,1,1,0,1,0,1,1,1,0,1,1,0,0,0,1,1,0,0,0,1,0,0,0,0,1,0,0,0,1,1,1,0,1,1,1,1,0,1,1,1,1,1,0,1,0,0,1,0,0,0,1,0,0,0,0,0,1,1,0,0,0,1,1,1,1,0,0,1,1,1,1,0,1,1,0,1,1,0,0,0,0,0,0,1,1,1,0,1,1,1,1,0,0,0,0,1,1,1,1,1,0,0,0,1,1,0,0,0,1,1,0,1,0,1,1,0,1,0,0,0,0,1,1,1,1,0,1,0,1,1,1,1,1,0,0,0,0,1,1,0,0,0,1,0,0,1,1,1,0,0,1,0,0,1,0,1,1,1,0,1,1,1,1,0,1,0,0,0,0,1,1,0,0,1,0,0,1,1,1,1,1,0,0,0,1,1,0,1,1,0,1,1,0,1,1,0,1,1,1,0,1,1,0,0,0,1,0,0,1,1,1,0,0,0,0,1,1,0,0,0,1,1,1,1,0,0,1,1,0,1,1,0,0,0,0,0,0,0,1,0,1,0,1,1,0,1,0,0,0,0,0,1,0,0,1,1,0,1,0,1,1,1,0,1,1,0,0,0,1,0,0,0,0,0,0,0,1,0,1,0,0,0,1,1,0,1,1,1,0,0,0,1,1,1,1,0,1,0,0,1,0,1,1,0,1,1,0,0,0,0,0,1,0,1,1,1,0,0,0,0,0,0,1,1,0,0,0,0,1,1,1,1,1,0,0,1,0,1,0,1,1,1,1,1,1,1,1,1,0,0,0,1,0,1,0,0,0,1,0,0,0,0,0,0,0,0,1,0,0,1,0,1,0,1,0,1,0,0,0,1,0,0,1,0,0,1,0,1,0,0,1,1,0,0,0,1,1,1,1,0,0,1,1,0,0,0,0,0,0,0,0,0,0,0,0,1,1,0,1,0,1,0,1,0,0,0,0,0,0,1,0,1,0,0,0,1,0,0,1,1,0,1,0,0,1,1,0,0,0,0,0,0,0,0,1,0,0,0,1,0,1,1,0,1,1,1,0,1,0,0,1,1,1,0,1,0,0,1,1,1,0,1,0,0,0,1,0,1,1,1,0,1,1,0,1,0,1,1,0,0,0,1,0,1,0,1,1,0,0,0,1,1,1,0,0,1,0,0,0,0,1,0,1,1,0,0,0,1,1,1,0,0,1,1,1,1,1,0,1,0,1,1,1,0,1,1,1,0,0,0,0,0,0,0,0,1,0,0,0,0,1,0,0,0,0,0,1,0,0,0,0,1,1,1,1,1,1,1,1,0,1,0,1,0,1,0,1,0,0,1,1,1,1,1,1,1,1,0,1,0,1,1,1,0,1,1],\"coloraxis\":\"coloraxis\",\"symbol\":\"circle\"},\"mode\":\"markers\",\"name\":\"\",\"orientation\":\"v\",\"showlegend\":false,\"x\":[33.840763,-38.735046,-29.41802,11.889755,-38.06857,-30.76165,-20.122198,-30.086153,-34.558502,21.647318,-34.036854,-46.4039,-47.65025,19.137964,31.648684,-13.279506,-36.240654,-25.384207,42.152813,6.0516415,29.176891,5.1294274,-4.2201266,43.182457,-1.9962475,-11.545019,-19.69406,-28.068213,7.405237,31.276434,19.306849,40.69025,7.8476186,-45.449482,36.51126,8.935004,5.9385543,29.18307,16.506084,-1.7549273,-42.063656,10.461935,13.497807,6.5886054,-4.6011415,-17.488716,16.544106,-25.996275,30.3464,25.980509,17.351372,2.5482473,36.188408,-36.858204,-11.628392,-47.840088,-0.26612416,19.70473,-47.04296,23.211454,42.04562,8.623996,20.246319,-15.701504,40.922363,-22.227707,6.2472825,10.867807,-36.258854,22.575176,12.905893,29.718575,13.9303,-42.94389,19.911043,-1.0874,-48.179752,5.9740133,-22.177507,13.664614,14.193166,10.250376,28.586056,-31.884283,24.29236,12.938897,-37.224846,13.995178,-5.110903,9.923767,23.414846,-1.8067223,26.931116,-0.52378386,-50.274494,4.2650948,10.9321,-4.0139494,-30.506268,38.748074,-26.6542,-33.746693,-50.47077,10.273417,24.78982,8.366024,-23.219095,10.7888,37.072826,29.254108,19.012192,-38.22346,-36.197086,-1.0436903,23.500082,10.641821,-12.342544,-7.4407706,-14.161008,-44.398594,30.108988,21.773457,32.447163,31.5549,24.170887,24.915838,8.8196745,20.550695,-27.905998,10.099209,-1.2214342,19.055237,-11.911896,-24.228909,31.731602,-2.148102,-31.77149,14.152601,1.8551124,-15.227092,-20.643244,-49.86854,-23.71092,29.88253,-43.42057,13.212028,24.193975,-28.925255,33.31341,-42.63436,12.738751,-18.130356,-8.9774275,10.457065,-11.570437,23.92745,20.200512,40.696877,2.291498,-22.223425,-33.85926,32.876396,-12.535217,32.207268,10.294958,36.89966,-36.867126,7.579671,-20.930271,-9.062153,-12.168383,-3.5071266,3.1332054,5.95583,7.741513,-9.949695,28.806007,-16.629335,37.989487,1.3932533,-49.628277,15.179864,19.775827,41.199265,27.30999,19.515156,-8.583292,-14.066293,30.92242,-34.67172,0.081129596,-25.792162,-50.199112,17.576347,-23.587366,-27.77103,18.861717,-10.962149,27.556839,19.62641,-40.161972,17.156275,-11.51316,11.807841,-48.881,-45.841858,38.995094,-22.432463,-51.49241,28.132189,6.389056,24.608139,-27.990465,-39.070717,-1.674285,15.326601,40.83887,-22.976015,-41.203415,-49.872234,29.8822,10.376879,1.399418,-7.0101376,-30.105932,5.611728,-49.385517,30.55275,27.609104,1.6063547,0.8275749,-34.009617,3.38382,-24.328875,-49.08202,14.113253,-50.40633,-39.073204,-34.206783,13.446034,2.3411548,40.56653,14.384766,37.08569,13.526189,-39.07095,4.931335,-14.066832,22.23525,-2.6561825,12.425931,30.230005,-24.568033,-39.36695,-30.515312,-1.15906,10.675741,33.399803,23.48221,-29.079334,9.188855,-29.57558,33.018578,-40.937134,11.269886,-25.735962,8.061678,-44.81099,6.5757103,26.436033,-12.660359,-27.082006,-32.322525,19.38233,26.066164,-38.722927,-20.440567,-8.124891,10.132045,27.645462,10.496118,14.294156,-0.513811,-28.230606,32.115696,20.948475,-3.5290303,34.541107,-4.385659,-1.1674485,36.155495,-3.7142618,-14.956326,-15.573863,16.90714,-31.260015,-18.483456,-49.46462,-37.03674,5.6109653,-28.585363,19.123741,4.884866,-27.683384,11.662896,25.912218,0.31109765,-25.607529,20.232079,18.135485,20.517794,26.221968,2.3709874,-42.251846,-25.088594,-27.579184,9.996085,10.764916,-0.9203939,-29.408827,34.275917,-46.47365,-16.933723,9.085073,-16.60271,-38.731865,-25.373613,-32.189796,16.031214,-20.36482,-50.516613,17.258337,26.145813,-25.064192,-16.069202,31.796247,-49.412537,-45.78445,3.3063564,-30.734787,-35.94203,-21.435408,-25.8749,-9.062104,27.822489,-25.28197,-16.881165,6.5597534,8.42106,-40.18185,-24.04862,26.426699,-53.169136,13.153745,-47.291603,14.199269,-48.697277,3.023766,-12.58174,-33.772377,-20.00981,16.500137,-39.264698,27.997831,-49.006664,-29.488283,-33.672703,31.756308,-36.195557,15.079371,10.60506,21.699572,16.416918,-50.084476,-40.210285,11.705446,2.8904476,5.38551,-14.401892,26.864626,31.374847,1.1785334,3.9296966,-49.046284,30.08761,18.771051,34.201694,-25.080505,-14.843764,12.440978,20.421978,-29.718624,7.5055795,-21.236055,-35.598633,11.432319,-22.15688,-48.768024,-36.392586,-17.479141,5.961301,21.537727,16.470919,-0.016400326,-0.68124896,-25.929564,34.47412,7.2211185,32.953827,-32.687164,4.606161,26.013931,12.02217,31.495293,30.791042,-13.396668,-38.364845,5.9155426,16.60055,2.501313,-24.967808,-25.154297,12.72538,-47.405155,31.450521,11.366024,-49.74362,-29.680515,-41.126213,15.214737,29.695066,-44.96399,-23.168743,1.7343297,-29.517723,-47.278046,23.057594,26.743828,7.197124,8.794497,-4.6386747,29.216995,-28.636568,-47.61769,15.179737,2.1619897,-14.51289,-47.984447,-48.76309,-45.81958,27.80622,12.448503,-4.076244,15.458635,-25.722992,-29.246254,-22.18035,9.740057,-49.487617,28.443419,2.2450318,23.325567,-8.715357,-52.623714,-4.5279803,18.332209,-1.0026144,-44.749123,-18.88382,37.513428,1.0848753,11.912845,-40.034767,11.325498,6.400985,-8.702107,4.43881,38.19275,-11.309899,41.9212,-29.215233,-29.18782,25.894958,-41.755966,6.6966186,-29.584642,-1.0734825,-52.08205,-26.32154,-15.502059,-38.21894,11.952737,6.8528957,2.0439818,16.504242,8.453227,-44.060112,-36.344257,38.720524,8.388415,21.841986,-50.84169,-6.272433,36.63498,-38.726517,-17.880692,-22.506348,-4.1331606,4.4413877,-37.45777,19.686047,19.29447,-16.866337,42.497936,-50.617035,-38.651886,-17.069712,7.431085,-19.959274,41.7149,-23.091234,-8.687841,22.079285,-16.38988,4.451455,4.038057,21.929821,19.381983,-38.73212,-16.565607,16.797827,10.0368,-1.5599672,3.3722093,9.276992,-27.164743,-51.946766,-31.545372,-20.62553,-26.205542,8.298024,31.10158,15.368193,-39.34771,-17.838482,-5.293375,-11.165971,-48.171215,18.3176,9.645532,-16.477434,8.067411,16.044487,-44.953583,4.4208703,11.610829,-43.369648,-12.050138,8.7873,-27.171919,14.336367,29.968435,29.400562,-0.17780066,-23.048216,30.19191,43.406975,-14.228314,-50.63847,14.323618,5.186388,38.664707,1.1673717,2.2984667,-32.41532,3.1421623,2.0134158,5.8794255,-1.4112201,-42.41392,-30.10944,-29.666338,-12.212751,35.46806,31.533041,13.047687,-40.00146,8.832885,-46.567524,20.479898,6.298158,5.8642783,25.993359,19.75661,-2.2866154,-8.756392,11.326329,-27.731853,-1.9120692,-26.068598,30.056282,-13.425491,-40.23293,26.876785,12.414779,24.14969,-1.5425712,-6.645085,22.617548,31.406897,-49.591064,27.548048,19.33831,18.729303,-12.5598345,36.166836,-34.075127,12.069506,-21.482956,-27.02814,-15.35815,-4.090188,-15.313458,-13.966816,30.84422,8.009047,0.95763206,-33.67121,8.197886,9.974007,33.2992,6.1101394,25.727165,17.579638,20.438112,-23.838034,-4.833668,9.841361,33.031364,25.010597,27.148863,-10.933125,-47.779415,-7.1451583,-30.545229,-42.540966,-30.816038,42.001755,8.3564825,10.286899,-33.76387,-22.721594,-40.77409,-16.213167,23.74819,-31.06708,26.749207,8.83323,-42.46442,25.580769,-28.273912,-23.112118,19.218561,-25.660145,-18.149706,1.6654334,26.375317,10.00422,42.349396,27.638744,-53.614697,26.318886,12.0381975,-31.277464,-28.452532,11.946126,-0.29111162,36.328125,33.99624,-2.5006282,2.1091127,12.326277,-20.03297,35.25781,8.602165,20.892883,28.512264,2.4344952,4.2712474,19.468546,-34.16982,-23.494394,21.337942,27.244926,-39.469196,13.7312,-31.081852,18.701576,-14.266052,10.659074,-46.9232,-36.418354,-28.901695,-24.73549,11.878628,-19.884481,-17.53191,-5.571917,0.9592543,37.077805,-16.087496,32.931427,-33.43505,1.9212502,22.403187,25.944817,-29.476196,25.914608,27.678692,15.704617,10.836792,12.884706,20.941467,30.530191,31.136797,-14.167762,25.315668,12.900423,-40.06604,-0.2228033,-29.502523,24.247196,11.682279,12.218324,-16.41832,15.364569,11.614223,8.897245,-16.260708,11.659699,27.56073,-48.742756,40.37504,29.973263,-16.71857,-4.219701,-41.532475,4.6053777,36.36448,12.144545,-22.552633,25.71185,43.51102,-9.204781,-44.96642,-46.70212,5.883252,-25.302916,12.388038,21.591051,-16.145555,-45.928783,26.53182,15.867667,12.749786,1.1938187,-1.3305496,33.721363,8.648407,30.36701,27.803469,5.018076,10.648808,1.1056503,-40.565296,-26.153095,31.71793,-24.58665,3.8056638,12.0695505,-0.7739074,-25.849236,6.773498,7.877975,28.537664,2.210039,-5.601608,4.8862624,-16.606148,0.37664098,9.807681,-3.6315284,-2.5982857,14.279063,-46.40759,-7.3011384,21.166935,-44.362835,-17.011015,-4.3463945,-34.431248,21.126448,10.19008,11.927096,-10.87141,38.656708,30.895039,33.171284,0.9920454,31.352625,-2.431282,-8.481238,20.206306,-43.495365,32.01192,28.985792,3.5276394,-45.84844,-1.9641175,-49.672245,-38.928402,40.409874,8.006718,12.573594,-22.951326,13.548716,-14.523473,17.050022,6.0692043,11.860929,-12.739418,-38.322433,0.7385486,-27.794859,8.23016,28.544807,-47.18962,-22.129976,-24.343803,18.070808,-30.731724,13.109179,23.446587,34.202724,-25.669416,28.655703,10.978091,-12.024798,-41.755505,35.251514,-28.977938,-14.619602,5.728725,-14.271223,11.489353,-15.233449,-49.82231,-0.23348196,18.674086,32.519527,1.222029,-3.12422,10.514185,30.753725,-11.277568,25.537254,23.07532,34.24387,1.3699048,10.34897,12.624965,-12.576356,25.989893,11.237819,-40.809917,26.672894,20.42209,0.32561442,0.061572988,-14.844987,31.954103,5.6257286,-13.090118,38.814144,2.982062,15.379489,-46.89871,16.315414,-28.612682,12.510793,-1.8207105,-13.70248,-17.19536,-12.5057,3.0661635,-3.4605262,15.934142,10.276873,37.630363,-36.96102,-38.409237,-27.687037,10.536505,-29.214828,-23.887653,-30.599989,22.302944,37.14459,3.7232552,5.6953893,1.5853103,20.63673,3.3792355,7.557699,29.913832,32.226418,30.144875,24.429012,11.69563,-46.93242,24.513742,26.072025,32.14701,9.785334,13.182026,-19.018847,-4.581909,35.838085,5.209276,-4.695466,-53.673138,-18.323372,-41.26373,-17.352882,2.2037706,-18.673265,-44.48503,-27.678133,15.459618,-23.978075,43.433567,-14.028031,10.038062,-18.969667,26.800133,-29.875843,1.1361277,6.1053543,-34.144344,-24.242188,-18.89078,-16.54269,-34.286434,-50.38811,-27.154238,-37.181946,37.56722,-20.704227,1.7961848,-38.486668,-16.812183,-40.347305,9.418982,-27.467878,-15.486393],\"xaxis\":\"x\",\"y\":[3.4417472,-13.754486,-31.50538,-20.040892,-15.469736,-38.27174,-30.208477,-35.624435,-14.2812605,-5.5365934,-16.592606,25.388138,22.180487,24.241795,-7.611253,1.437188,-15.7904625,-37.763485,4.807786,13.6435375,-3.4898145,22.07895,21.396263,2.9171176,12.428545,8.425152,-15.657889,-27.566767,8.771713,21.016157,2.3877351,4.6319027,-6.088172,24.38419,9.005705,10.5442295,24.141668,-3.563169,22.833355,11.873756,27.727995,-9.190627,-14.81841,-5.3712115,17.955763,-34.05543,10.811611,-39.91545,10.114303,-8.904383,12.244023,8.779371,-1.9438047,-9.554564,-20.665833,18.455204,13.296244,25.438637,18.813774,3.092436,3.4455333,12.282048,2.3745847,-28.535923,2.6139953,-25.236498,-6.612512,3.638831,-12.829361,-0.5663118,-2.8985598,20.362137,14.65783,26.993988,-4.002364,20.644543,18.568655,11.510305,-22.604437,-4.3873277,18.578531,1.8207479,-8.61904,-17.094826,-0.81026924,19.430666,-8.905797,-5.3122888,9.433229,21.358183,0.10235979,8.790237,10.285557,20.465641,12.999188,-3.132616,-7.515982,4.0320826,-38.189728,8.098593,-37.803635,-18.745483,20.947586,-17.916473,-10.908476,-8.054731,-16.323935,-9.998516,-0.5642413,-4.926503,0.8785794,-15.0435,-15.069631,8.44097,-3.2752526,16.829987,-26.305145,15.180508,-1.3379406,26.270864,-5.2463374,-1.0270151,-7.3044896,-5.786369,-3.5825033,-9.799812,14.171123,-1.6911216,-31.828377,12.116687,3.5177658,-0.3770185,2.2231565,-36.194378,9.398239,4.8078065,-14.432928,-12.197798,-3.3927758,-24.830648,-26.925718,12.346813,-35.668266,5.982489,26.200552,-21.448027,0.9917469,-27.19461,18.261501,27.32099,24.090927,-32.04546,16.530455,10.33497,-30.836327,6.0647492,2.7168174,2.0921974,-7.8531775,-22.455242,-32.187473,-7.5312014,0.6917146,-7.332424,-21.15838,-2.4927666,-9.015464,-6.759226,-23.373394,-24.579575,-25.847042,7.385335,13.906429,25.699955,17.04826,-29.043463,-4.983276,-26.00257,5.522935,25.19795,21.201862,-3.9310725,3.6618133,4.038793,-11.154618,21.215656,6.3757477,-23.508394,-4.201136,-13.765735,14.466773,-39.775578,20.91036,-0.96361625,-28.945248,-39.61349,3.5346837,-25.680618,1.3663429,-4.6547313,-14.361449,25.940733,2.3304486,8.320441,12.958715,21.844355,7.1882586,-29.296717,20.754354,2.6454554,11.923174,-10.913797,-36.83782,-18.474882,6.5481353,3.523388,4.6231484,-25.350546,-16.475765,13.792031,-7.6315465,2.8747382,25.171137,7.2399845,-22.040379,-2.571483,11.8089285,20.846636,22.402407,-3.1521394,16.512136,-31.89246,-0.7630261,-36.540897,14.889016,-15.383923,21.173342,-12.153825,-31.514143,-14.96083,-6.619627,3.905525,-12.624878,-0.45968568,-16.124317,-15.560066,22.99164,-22.48123,-3.1817958,9.659654,16.735132,12.336662,-39.132412,23.94102,-18.841133,6.3034973,13.563989,5.8034105,0.1976734,-31.965017,19.694782,-18.611609,19.074696,25.980505,-18.011541,-16.023705,16.018166,25.4724,-5.7463455,9.587343,-29.060938,-31.346642,-16.773909,5.748689,-1.7349365,25.3007,-26.641024,15.786692,12.635604,-3.2776556,-9.256535,18.608404,6.390615,-27.3327,6.8900867,23.10496,3.4640975,-0.6350125,12.173791,3.6216354,7.259749,20.118752,-30.479845,-25.74273,-0.2771892,-17.246975,-27.580326,14.37877,-8.6430025,-2.0604079,-30.879074,0.2108182,20.772778,-39.63105,8.418335,5.3928404,-2.3176255,-26.198204,-3.665864,20.055595,4.950426,-6.2390485,12.552407,24.953836,-20.433332,-22.920639,-19.079773,-18.437092,16.214905,-18.79362,4.6673417,19.230526,-29.355495,12.155234,-23.19976,24.46992,-37.758663,-16.565619,-0.6045637,-32.1497,12.418607,-0.35123995,-10.135475,-18.082024,-25.470207,9.183093,11.267722,25.770172,9.424905,-21.384506,-14.719933,-32.554943,-22.354805,-24.583153,0.0072225495,-19.190847,-17.955498,23.1762,13.394742,26.714031,-22.073895,-8.772759,20.779432,15.527248,24.239965,-4.262745,14.536345,15.747952,-26.968683,-16.2535,-31.616655,11.002042,24.678373,-8.76785,12.289927,-38.480778,-17.917347,18.10865,-15.404278,12.663717,6.6424994,-1.2513239,-3.1660767,11.696934,-14.373595,-2.5243108,6.5747805,20.400415,-26.199278,-7.5583196,3.1639729,16.730406,18.465994,13.983925,11.9067955,24.83194,-0.105990894,-21.352087,-30.306475,-21.512653,22.971111,-17.535583,22.910221,-32.42705,-12.972468,14.620651,-29.439846,13.648253,-14.072082,-29.859993,25.9048,16.21491,-3.1730723,13.227157,3.8607483,-25.94802,-0.43466243,11.343742,21.046915,-15.121872,10.271816,5.5748396,26.400398,19.01453,-4.6159415,-22.088783,-14.669981,15.625016,0.002134863,12.468014,-40.17591,-25.07167,-20.809107,18.595762,-7.4234376,17.501478,22.377123,-35.540066,-16.585552,3.3684602,0.623543,22.739101,-21.184433,-2.368559,-18.641176,25.44447,3.0816739,7.309344,-7.3734145,19.238302,20.264301,19.533234,-25.608335,19.265509,13.098901,14.906178,-21.268356,19.038853,23.534168,22.831026,2.1374843,25.803087,12.158429,7.4571176,-38.391376,-36.916847,-20.346626,-18.441374,12.872061,-4.9286466,6.596939,5.8618536,-30.104069,20.862299,4.7891135,15.968116,15.185504,23.55423,-14.892552,6.2768984,9.283153,12.180416,-17.82487,-18.121471,6.372217,-30.09972,21.33049,7.6897364,2.955268,2.0086172,-25.473932,-37.51938,10.084447,26.55895,21.914766,-36.70576,16.656248,20.323385,-25.24741,-26.561941,-17.294441,-14.049033,17.860405,-4.263888,22.947384,14.803972,24.573757,-16.030228,6.019925,8.251784,16.021885,11.714456,16.185335,7.2652407,25.013119,-28.552145,-17.4594,7.724604,13.206441,-17.069284,24.594053,23.10398,-27.760494,2.4501307,11.288034,-18.43397,-27.216866,-6.630659,-30.385485,5.322246,-29.092417,5.9878073,15.905078,-33.610424,12.297174,-4.090707,0.8400439,11.225726,-14.633167,-31.361101,11.861739,8.8684435,11.171003,11.2435,4.400637,-35.124256,20.864117,-14.485004,-26.97031,-24.957512,15.887461,17.813164,-4.14534,24.154615,-28.129873,20.87804,-26.23759,23.961353,2.7443058,20.106157,-27.8542,8.868749,13.107507,22.710419,10.902605,-7.188496,26.949,-26.040426,8.266132,-19.460546,-14.547507,-2.40117,-1.3973888,8.718497,-25.396452,-2.5587773,4.8604994,-21.666132,21.536598,-14.440412,16.179333,6.5100603,-6.612255,13.689043,-16.413378,3.1600497,12.859041,14.057424,11.01833,24.841917,-21.316895,-38.4275,-24.383741,-1.1665695,2.88618,-18.585217,-17.99217,4.385325,22.20326,13.948225,11.509426,10.633768,-1.856469,22.822853,6.586535,16.205555,-2.2379565,-26.457876,11.92963,-16.447342,10.184429,-24.703512,25.905636,-4.8178773,-3.1404808,1.0024154,8.166566,15.548908,2.0099306,21.09479,13.413662,-2.1937256,5.75694,14.766793,-32.12146,7.312333,-31.76377,4.043139,-23.396713,-28.144361,-32.088394,20.82531,-27.841925,-20.70735,20.225733,20.37374,22.856546,-18.26767,4.060139,14.008614,-5.954688,11.396672,0.27708074,25.655733,-1.8529974,-19.898987,19.938383,2.1411448,9.665045,-9.780939,10.852201,3.0336258,24.739857,14.820407,-35.924145,26.258457,-21.469893,1.9224292,14.246189,4.522028,-17.888685,-18.579655,26.271873,-26.402912,-2.8922257,-37.71997,7.544638,-16.965582,24.236921,-9.727166,-32.452854,-23.948166,24.843235,-37.370716,-23.86845,17.992546,-9.362488,-7.891371,2.4298024,-7.284945,20.836485,-8.056934,-21.660498,-14.713883,-32.71715,14.397212,5.277083,7.226523,0.12029383,5.6575065,5.7699285,-16.561773,-31.688759,19.598772,-16.549444,0.77639526,-6.640491,-6.484904,19.23483,-5.1977777,-15.511126,-18.669672,-0.50656384,3.0281491,23.7803,-4.6006,-37.70393,15.43785,-1.46338,-20.484137,19.444723,-13.844916,-27.178066,-21.18083,-22.02177,-23.135183,-34.056576,15.279668,7.3898644,5.3385324,-24.660654,21.38694,-14.6566,12.522091,-3.154186,-11.470489,-16.879906,2.7920587,0.06764976,23.387285,11.976148,10.084441,0.6488936,19.967112,-4.881045,-25.208778,-3.3191824,25.78056,-18.649178,13.167256,-35.789696,6.0170965,-13.290837,17.196472,-23.546335,3.760278,19.45141,-16.944017,-31.456348,10.302178,-0.59577376,15.137436,1.451027,5.9269423,-24.22157,9.382356,27.885178,-2.7241287,8.639843,-14.371671,-17.41494,-2.7507062,5.0614552,15.737706,24.922146,25.13825,3.310051,-40.488125,18.187517,0.13255975,-29.813,25.15338,4.0030203,-2.1231544,4.4732423,-3.7734764,6.7662325,4.5773945,9.043306,19.762312,7.9668665,25.150879,7.145271,12.03,27.631504,-38.582634,17.992395,-36.17718,10.949212,-19.869877,15.928049,-37.611206,12.4199295,-7.400281,-4.8005657,-3.9337912,19.631395,16.349232,-21.598024,3.651348,22.762587,11.416843,9.641128,-5.723079,23.462399,6.7150216,1.0419909,25.492735,-26.54861,8.642293,-14.739393,23.057964,4.6598163,-2.7053604,-28.374155,8.208182,-5.3144774,5.369911,22.871626,17.23993,12.610796,13.582623,14.296971,25.534695,18.25422,1.9244859,-3.6894367,19.423565,13.409487,22.383615,-13.404826,0.36522478,24.809286,-21.422604,-23.87736,-15.395884,-22.912182,19.623692,13.276889,-13.956975,-30.718893,-17.105778,-2.720986,-38.4552,13.721235,22.376707,19.424469,-18.524572,-23.237146,20.076944,-14.635461,23.523857,-2.455639,3.6461554,-35.403778,22.113272,-17.678347,-29.130386,27.008646,19.66456,-30.52499,-32.363064,26.661064,-1.4694283,3.8914325,-26.496853,10.850704,18.307436,23.601492,21.855022,7.764091,15.68592,-18.209856,-6.5858817,-23.420153,3.8858182,-4.0700746,4.269216,-6.3955317,-17.823896,-21.944462,-29.510122,0.6239414,19.547802,25.392632,4.546894,15.680138,15.58105,10.592064,-25.472507,-4.2992992,15.313874,-23.781334,7.1570325,-0.7247737,-0.34296942,20.98242,9.841902,-25.648209,10.102338,22.5141,-25.054121,-25.80928,0.75452393,7.754117,-11.65345,-1.8487506,0.68409115,7.6900353,-9.254843,-12.810537,-23.660358,14.880445,-25.431787,-19.894217,-35.686134,-1.03268,5.42579,12.064049,20.256079,20.410837,-1.2377228,10.658555,10.542131,5.9105287,21.153866,21.809639,-8.9678955,16.835045,24.215988,-2.792799,1.6559348,-6.110949,9.316361,-4.2864046,-15.011403,12.21921,-1.3619814,7.6391025,6.057465,20.835342,-22.58757,-16.33208,-25.995312,7.941979,-30.724817,20.034178,-38.673122,23.515879,-23.387264,5.043821,-26.787252,17.203972,-30.636322,11.317824,-35.313683,14.1380825,5.126081,-31.633318,-27.556,-14.885559,-28.204214,-15.220161,10.813291,-35.272312,-8.53066,6.2354164,-20.952066,15.196156,-12.954954,-17.977903,27.232592,14.781904,-38.633923,-23.603624],\"yaxis\":\"y\",\"type\":\"scatter\"}],                        {\"template\":{\"data\":{\"histogram2dcontour\":[{\"type\":\"histogram2dcontour\",\"colorbar\":{\"outlinewidth\":0,\"ticks\":\"\"},\"colorscale\":[[0.0,\"#0d0887\"],[0.1111111111111111,\"#46039f\"],[0.2222222222222222,\"#7201a8\"],[0.3333333333333333,\"#9c179e\"],[0.4444444444444444,\"#bd3786\"],[0.5555555555555556,\"#d8576b\"],[0.6666666666666666,\"#ed7953\"],[0.7777777777777778,\"#fb9f3a\"],[0.8888888888888888,\"#fdca26\"],[1.0,\"#f0f921\"]]}],\"choropleth\":[{\"type\":\"choropleth\",\"colorbar\":{\"outlinewidth\":0,\"ticks\":\"\"}}],\"histogram2d\":[{\"type\":\"histogram2d\",\"colorbar\":{\"outlinewidth\":0,\"ticks\":\"\"},\"colorscale\":[[0.0,\"#0d0887\"],[0.1111111111111111,\"#46039f\"],[0.2222222222222222,\"#7201a8\"],[0.3333333333333333,\"#9c179e\"],[0.4444444444444444,\"#bd3786\"],[0.5555555555555556,\"#d8576b\"],[0.6666666666666666,\"#ed7953\"],[0.7777777777777778,\"#fb9f3a\"],[0.8888888888888888,\"#fdca26\"],[1.0,\"#f0f921\"]]}],\"heatmap\":[{\"type\":\"heatmap\",\"colorbar\":{\"outlinewidth\":0,\"ticks\":\"\"},\"colorscale\":[[0.0,\"#0d0887\"],[0.1111111111111111,\"#46039f\"],[0.2222222222222222,\"#7201a8\"],[0.3333333333333333,\"#9c179e\"],[0.4444444444444444,\"#bd3786\"],[0.5555555555555556,\"#d8576b\"],[0.6666666666666666,\"#ed7953\"],[0.7777777777777778,\"#fb9f3a\"],[0.8888888888888888,\"#fdca26\"],[1.0,\"#f0f921\"]]}],\"heatmapgl\":[{\"type\":\"heatmapgl\",\"colorbar\":{\"outlinewidth\":0,\"ticks\":\"\"},\"colorscale\":[[0.0,\"#0d0887\"],[0.1111111111111111,\"#46039f\"],[0.2222222222222222,\"#7201a8\"],[0.3333333333333333,\"#9c179e\"],[0.4444444444444444,\"#bd3786\"],[0.5555555555555556,\"#d8576b\"],[0.6666666666666666,\"#ed7953\"],[0.7777777777777778,\"#fb9f3a\"],[0.8888888888888888,\"#fdca26\"],[1.0,\"#f0f921\"]]}],\"contourcarpet\":[{\"type\":\"contourcarpet\",\"colorbar\":{\"outlinewidth\":0,\"ticks\":\"\"}}],\"contour\":[{\"type\":\"contour\",\"colorbar\":{\"outlinewidth\":0,\"ticks\":\"\"},\"colorscale\":[[0.0,\"#0d0887\"],[0.1111111111111111,\"#46039f\"],[0.2222222222222222,\"#7201a8\"],[0.3333333333333333,\"#9c179e\"],[0.4444444444444444,\"#bd3786\"],[0.5555555555555556,\"#d8576b\"],[0.6666666666666666,\"#ed7953\"],[0.7777777777777778,\"#fb9f3a\"],[0.8888888888888888,\"#fdca26\"],[1.0,\"#f0f921\"]]}],\"surface\":[{\"type\":\"surface\",\"colorbar\":{\"outlinewidth\":0,\"ticks\":\"\"},\"colorscale\":[[0.0,\"#0d0887\"],[0.1111111111111111,\"#46039f\"],[0.2222222222222222,\"#7201a8\"],[0.3333333333333333,\"#9c179e\"],[0.4444444444444444,\"#bd3786\"],[0.5555555555555556,\"#d8576b\"],[0.6666666666666666,\"#ed7953\"],[0.7777777777777778,\"#fb9f3a\"],[0.8888888888888888,\"#fdca26\"],[1.0,\"#f0f921\"]]}],\"mesh3d\":[{\"type\":\"mesh3d\",\"colorbar\":{\"outlinewidth\":0,\"ticks\":\"\"}}],\"scatter\":[{\"fillpattern\":{\"fillmode\":\"overlay\",\"size\":10,\"solidity\":0.2},\"type\":\"scatter\"}],\"parcoords\":[{\"type\":\"parcoords\",\"line\":{\"colorbar\":{\"outlinewidth\":0,\"ticks\":\"\"}}}],\"scatterpolargl\":[{\"type\":\"scatterpolargl\",\"marker\":{\"colorbar\":{\"outlinewidth\":0,\"ticks\":\"\"}}}],\"bar\":[{\"error_x\":{\"color\":\"#2a3f5f\"},\"error_y\":{\"color\":\"#2a3f5f\"},\"marker\":{\"line\":{\"color\":\"#E5ECF6\",\"width\":0.5},\"pattern\":{\"fillmode\":\"overlay\",\"size\":10,\"solidity\":0.2}},\"type\":\"bar\"}],\"scattergeo\":[{\"type\":\"scattergeo\",\"marker\":{\"colorbar\":{\"outlinewidth\":0,\"ticks\":\"\"}}}],\"scatterpolar\":[{\"type\":\"scatterpolar\",\"marker\":{\"colorbar\":{\"outlinewidth\":0,\"ticks\":\"\"}}}],\"histogram\":[{\"marker\":{\"pattern\":{\"fillmode\":\"overlay\",\"size\":10,\"solidity\":0.2}},\"type\":\"histogram\"}],\"scattergl\":[{\"type\":\"scattergl\",\"marker\":{\"colorbar\":{\"outlinewidth\":0,\"ticks\":\"\"}}}],\"scatter3d\":[{\"type\":\"scatter3d\",\"line\":{\"colorbar\":{\"outlinewidth\":0,\"ticks\":\"\"}},\"marker\":{\"colorbar\":{\"outlinewidth\":0,\"ticks\":\"\"}}}],\"scattermapbox\":[{\"type\":\"scattermapbox\",\"marker\":{\"colorbar\":{\"outlinewidth\":0,\"ticks\":\"\"}}}],\"scatterternary\":[{\"type\":\"scatterternary\",\"marker\":{\"colorbar\":{\"outlinewidth\":0,\"ticks\":\"\"}}}],\"scattercarpet\":[{\"type\":\"scattercarpet\",\"marker\":{\"colorbar\":{\"outlinewidth\":0,\"ticks\":\"\"}}}],\"carpet\":[{\"aaxis\":{\"endlinecolor\":\"#2a3f5f\",\"gridcolor\":\"white\",\"linecolor\":\"white\",\"minorgridcolor\":\"white\",\"startlinecolor\":\"#2a3f5f\"},\"baxis\":{\"endlinecolor\":\"#2a3f5f\",\"gridcolor\":\"white\",\"linecolor\":\"white\",\"minorgridcolor\":\"white\",\"startlinecolor\":\"#2a3f5f\"},\"type\":\"carpet\"}],\"table\":[{\"cells\":{\"fill\":{\"color\":\"#EBF0F8\"},\"line\":{\"color\":\"white\"}},\"header\":{\"fill\":{\"color\":\"#C8D4E3\"},\"line\":{\"color\":\"white\"}},\"type\":\"table\"}],\"barpolar\":[{\"marker\":{\"line\":{\"color\":\"#E5ECF6\",\"width\":0.5},\"pattern\":{\"fillmode\":\"overlay\",\"size\":10,\"solidity\":0.2}},\"type\":\"barpolar\"}],\"pie\":[{\"automargin\":true,\"type\":\"pie\"}]},\"layout\":{\"autotypenumbers\":\"strict\",\"colorway\":[\"#636efa\",\"#EF553B\",\"#00cc96\",\"#ab63fa\",\"#FFA15A\",\"#19d3f3\",\"#FF6692\",\"#B6E880\",\"#FF97FF\",\"#FECB52\"],\"font\":{\"color\":\"#2a3f5f\"},\"hovermode\":\"closest\",\"hoverlabel\":{\"align\":\"left\"},\"paper_bgcolor\":\"white\",\"plot_bgcolor\":\"#E5ECF6\",\"polar\":{\"bgcolor\":\"#E5ECF6\",\"angularaxis\":{\"gridcolor\":\"white\",\"linecolor\":\"white\",\"ticks\":\"\"},\"radialaxis\":{\"gridcolor\":\"white\",\"linecolor\":\"white\",\"ticks\":\"\"}},\"ternary\":{\"bgcolor\":\"#E5ECF6\",\"aaxis\":{\"gridcolor\":\"white\",\"linecolor\":\"white\",\"ticks\":\"\"},\"baxis\":{\"gridcolor\":\"white\",\"linecolor\":\"white\",\"ticks\":\"\"},\"caxis\":{\"gridcolor\":\"white\",\"linecolor\":\"white\",\"ticks\":\"\"}},\"coloraxis\":{\"colorbar\":{\"outlinewidth\":0,\"ticks\":\"\"}},\"colorscale\":{\"sequential\":[[0.0,\"#0d0887\"],[0.1111111111111111,\"#46039f\"],[0.2222222222222222,\"#7201a8\"],[0.3333333333333333,\"#9c179e\"],[0.4444444444444444,\"#bd3786\"],[0.5555555555555556,\"#d8576b\"],[0.6666666666666666,\"#ed7953\"],[0.7777777777777778,\"#fb9f3a\"],[0.8888888888888888,\"#fdca26\"],[1.0,\"#f0f921\"]],\"sequentialminus\":[[0.0,\"#0d0887\"],[0.1111111111111111,\"#46039f\"],[0.2222222222222222,\"#7201a8\"],[0.3333333333333333,\"#9c179e\"],[0.4444444444444444,\"#bd3786\"],[0.5555555555555556,\"#d8576b\"],[0.6666666666666666,\"#ed7953\"],[0.7777777777777778,\"#fb9f3a\"],[0.8888888888888888,\"#fdca26\"],[1.0,\"#f0f921\"]],\"diverging\":[[0,\"#8e0152\"],[0.1,\"#c51b7d\"],[0.2,\"#de77ae\"],[0.3,\"#f1b6da\"],[0.4,\"#fde0ef\"],[0.5,\"#f7f7f7\"],[0.6,\"#e6f5d0\"],[0.7,\"#b8e186\"],[0.8,\"#7fbc41\"],[0.9,\"#4d9221\"],[1,\"#276419\"]]},\"xaxis\":{\"gridcolor\":\"white\",\"linecolor\":\"white\",\"ticks\":\"\",\"title\":{\"standoff\":15},\"zerolinecolor\":\"white\",\"automargin\":true,\"zerolinewidth\":2},\"yaxis\":{\"gridcolor\":\"white\",\"linecolor\":\"white\",\"ticks\":\"\",\"title\":{\"standoff\":15},\"zerolinecolor\":\"white\",\"automargin\":true,\"zerolinewidth\":2},\"scene\":{\"xaxis\":{\"backgroundcolor\":\"#E5ECF6\",\"gridcolor\":\"white\",\"linecolor\":\"white\",\"showbackground\":true,\"ticks\":\"\",\"zerolinecolor\":\"white\",\"gridwidth\":2},\"yaxis\":{\"backgroundcolor\":\"#E5ECF6\",\"gridcolor\":\"white\",\"linecolor\":\"white\",\"showbackground\":true,\"ticks\":\"\",\"zerolinecolor\":\"white\",\"gridwidth\":2},\"zaxis\":{\"backgroundcolor\":\"#E5ECF6\",\"gridcolor\":\"white\",\"linecolor\":\"white\",\"showbackground\":true,\"ticks\":\"\",\"zerolinecolor\":\"white\",\"gridwidth\":2}},\"shapedefaults\":{\"line\":{\"color\":\"#2a3f5f\"}},\"annotationdefaults\":{\"arrowcolor\":\"#2a3f5f\",\"arrowhead\":0,\"arrowwidth\":1},\"geo\":{\"bgcolor\":\"white\",\"landcolor\":\"#E5ECF6\",\"subunitcolor\":\"white\",\"showland\":true,\"showlakes\":true,\"lakecolor\":\"white\"},\"title\":{\"x\":0.05},\"mapbox\":{\"style\":\"light\"}}},\"xaxis\":{\"anchor\":\"y\",\"domain\":[0.0,1.0],\"title\":{\"text\":\"x\"}},\"yaxis\":{\"anchor\":\"x\",\"domain\":[0.0,1.0],\"title\":{\"text\":\"y\"}},\"coloraxis\":{\"colorbar\":{\"title\":{\"text\":\"color\"}},\"colorscale\":[[0.0,\"#0d0887\"],[0.1111111111111111,\"#46039f\"],[0.2222222222222222,\"#7201a8\"],[0.3333333333333333,\"#9c179e\"],[0.4444444444444444,\"#bd3786\"],[0.5555555555555556,\"#d8576b\"],[0.6666666666666666,\"#ed7953\"],[0.7777777777777778,\"#fb9f3a\"],[0.8888888888888888,\"#fdca26\"],[1.0,\"#f0f921\"]]},\"legend\":{\"tracegroupgap\":0},\"margin\":{\"t\":60}},                        {\"responsive\": true}                    ).then(function(){\n",
              "                            \n",
              "var gd = document.getElementById('93052566-bc7d-40e6-9d11-212e5f194e0a');\n",
              "var x = new MutationObserver(function (mutations, observer) {{\n",
              "        var display = window.getComputedStyle(gd).display;\n",
              "        if (!display || display === 'none') {{\n",
              "            console.log([gd, 'removed!']);\n",
              "            Plotly.purge(gd);\n",
              "            observer.disconnect();\n",
              "        }}\n",
              "}});\n",
              "\n",
              "// Listen for the removal of the full notebook cells\n",
              "var notebookContainer = gd.closest('#notebook-container');\n",
              "if (notebookContainer) {{\n",
              "    x.observe(notebookContainer, {childList: true});\n",
              "}}\n",
              "\n",
              "// Listen for the clearing of the current output cell\n",
              "var outputEl = gd.closest('.output');\n",
              "if (outputEl) {{\n",
              "    x.observe(outputEl, {childList: true});\n",
              "}}\n",
              "\n",
              "                        })                };                            </script>        </div>\n",
              "</body>\n",
              "</html>"
            ]
          },
          "metadata": {}
        }
      ],
      "source": [
        "fig=px.scatter(x=X_reduced_tsne[:,0], y=X_reduced_tsne[:,1], color=y)\n",
        "fig.show()"
      ]
    },
    {
      "cell_type": "markdown",
      "id": "041e973c",
      "metadata": {
        "id": "041e973c"
      },
      "source": [
        "Although the subsample is pretty small, the t-SNE algorithm is able to detect clusters pretty accurately"
      ]
    },
    {
      "cell_type": "markdown",
      "source": [
        "Reference- https://www.geeksforgeeks.org/machine-learning/difference-between-pca-vs-t-sne/\n",
        "\n",
        "Note-ChatGPT was used to help understand the results using WebSearch Feature."
      ],
      "metadata": {
        "id": "LBqbHuwq9dGl"
      },
      "id": "LBqbHuwq9dGl"
    },
    {
      "cell_type": "markdown",
      "id": "85bb3774",
      "metadata": {
        "id": "85bb3774"
      },
      "source": [
        "## Scaling"
      ]
    },
    {
      "cell_type": "code",
      "execution_count": null,
      "id": "7ab1142e",
      "metadata": {
        "colab": {
          "base_uri": "https://localhost:8080/"
        },
        "id": "7ab1142e",
        "outputId": "ca2dda3d-5545-4852-d626-68f0d1d4aec2"
      },
      "outputs": [
        {
          "output_type": "stream",
          "name": "stdout",
          "text": [
            "(275663, 29) (275663,)\n"
          ]
        }
      ],
      "source": [
        "scaler = StandardScaler()\n",
        "X = scaler.fit_transform(df.drop('Class', axis=1))\n",
        "y = df['Class'].values\n",
        "print(X.shape, y.shape)"
      ]
    },
    {
      "cell_type": "markdown",
      "id": "22e31517",
      "metadata": {
        "id": "22e31517"
      },
      "source": [
        "## Splitting the data"
      ]
    },
    {
      "cell_type": "markdown",
      "id": "6fa74b00",
      "metadata": {
        "id": "6fa74b00"
      },
      "source": [
        "we want to test our models on the original testing set not on the testing set created from GAN. The main goal is to fit the model in the generated data, and test it on the original testing set."
      ]
    },
    {
      "cell_type": "code",
      "execution_count": null,
      "id": "f8303d35",
      "metadata": {
        "id": "f8303d35"
      },
      "outputs": [],
      "source": [
        "X_train, X_test, y_train, y_test = train_test_split(X, y, test_size=0.2, random_state=42, stratify=y)"
      ]
    },
    {
      "cell_type": "markdown",
      "id": "e1beefe0",
      "metadata": {
        "id": "e1beefe0"
      },
      "source": [
        "## Testing baseline model with original data"
      ]
    },
    {
      "cell_type": "markdown",
      "id": "lpgBi5NjBMt0",
      "metadata": {
        "id": "lpgBi5NjBMt0"
      },
      "source": [
        "#Training GAN"
      ]
    },
    {
      "cell_type": "markdown",
      "id": "C8Ie3u_SBS3X",
      "metadata": {
        "id": "C8Ie3u_SBS3X"
      },
      "source": [
        "#Generating new samples"
      ]
    },
    {
      "cell_type": "code",
      "metadata": {
        "colab": {
          "base_uri": "https://localhost:8080/"
        },
        "id": "MwKKq8Pgn_ZD",
        "outputId": "fdb4a66d-ee8e-4c2e-a1f2-f856cacc260b"
      },
      "source": [
        "import tensorflow as tf\n",
        "from tensorflow.keras import layers, models, losses, optimizers\n",
        "import numpy as np\n",
        "\n",
        "# ------------------------------------------------------------\n",
        "# Custom VAE Model\n",
        "# ------------------------------------------------------------\n",
        "class VAE(tf.keras.Model):\n",
        "    def __init__(self, encoder, decoder, input_dim, **kwargs):\n",
        "        super().__init__(**kwargs)\n",
        "        self.encoder = encoder\n",
        "        self.decoder = decoder\n",
        "        self.input_dim = input_dim\n",
        "        self.total_loss_tracker = tf.keras.metrics.Mean(name=\"loss\")\n",
        "        self.reconstruction_loss_tracker = tf.keras.metrics.Mean(\n",
        "            name=\"reconstruction_loss\"\n",
        "        )\n",
        "        self.kl_loss_tracker = tf.keras.metrics.Mean(name=\"kl_loss\")\n",
        "\n",
        "    @property\n",
        "    def metrics(self):\n",
        "        return [\n",
        "            self.total_loss_tracker,\n",
        "            self.reconstruction_loss_tracker,\n",
        "            self.kl_loss_tracker,\n",
        "        ]\n",
        "\n",
        "    def call(self, inputs):\n",
        "        z_mean, z_log_var, z = self.encoder(inputs)\n",
        "        reconstruction = self.decoder(z)\n",
        "        return reconstruction\n",
        "\n",
        "    def train_step(self, data):\n",
        "        x = data\n",
        "\n",
        "        with tf.GradientTape() as tape:\n",
        "            z_mean, z_log_var, z = self.encoder(x)\n",
        "            reconstruction = self.decoder(z)\n",
        "            reconstruction_loss = tf.reduce_mean(\n",
        "                losses.mse(x, reconstruction) * self.input_dim\n",
        "            )\n",
        "            kl_loss = -0.5 * tf.reduce_mean(\n",
        "                1 + z_log_var - tf.square(z_mean) - tf.exp(z_log_var)\n",
        "            )\n",
        "            total_vae_loss = reconstruction_loss + kl_loss\n",
        "\n",
        "        grads = tape.gradient(total_vae_loss, self.trainable_variables)\n",
        "        self.optimizer.apply_gradients(zip(grads, self.trainable_variables))\n",
        "\n",
        "        self.total_loss_tracker.update_state(total_vae_loss)\n",
        "        self.reconstruction_loss_tracker.update_state(reconstruction_loss)\n",
        "        self.kl_loss_tracker.update_state(kl_loss)\n",
        "\n",
        "        return {\n",
        "            \"loss\": self.total_loss_tracker.result(),\n",
        "            \"reconstruction_loss\": self.reconstruction_loss_tracker.result(),\n",
        "            \"kl_loss\": self.kl_loss_tracker.result(),\n",
        "        }\n",
        "\n",
        "# ------------------------------------------------------------\n",
        "# VAE implementation:\n",
        "# ------------------------------------------------------------\n",
        "latent_dim = 16\n",
        "input_dim = X_train.shape[1]\n",
        "\n",
        "\n",
        "encoder_inputs = layers.Input(shape=(input_dim,))\n",
        "x = layers.Dense(64, activation='relu')(encoder_inputs)\n",
        "x = layers.Dense(32, activation='relu')(x)\n",
        "z_mean = layers.Dense(latent_dim, name='z_mean')(x)\n",
        "z_log_var = layers.Dense(latent_dim, name='z_log_var')(x)\n",
        "\n",
        "\n",
        "def sampling(args):\n",
        "    z_mean, z_log_var = args\n",
        "    eps = tf.random.normal(shape=(tf.shape(z_mean)[0], latent_dim))\n",
        "    return z_mean + tf.exp(0.5 * z_log_var) * eps\n",
        "\n",
        "z = layers.Lambda(sampling, name='z')([z_mean, z_log_var])\n",
        "\n",
        "encoder = models.Model(encoder_inputs, [z_mean, z_log_var, z], name='encoder')\n",
        "\n",
        "decoder_inputs = layers.Input(shape=(latent_dim,))\n",
        "d = layers.Dense(32, activation='relu')(decoder_inputs)\n",
        "d = layers.Dense(64, activation='relu')(d)\n",
        "decoder_outputs = layers.Dense(input_dim, activation='linear')(d)\n",
        "decoder = models.Model(decoder_inputs, decoder_outputs, name='decoder')\n",
        "\n",
        "# VAE model\n",
        "vae = VAE(encoder, decoder, input_dim)\n",
        "\n",
        "\n",
        "vae.compile(optimizer=optimizers.Adam(1e-3), loss='mse', metrics=[\n",
        "    vae.total_loss_tracker,\n",
        "    vae.reconstruction_loss_tracker,\n",
        "    vae.kl_loss_tracker,\n",
        "])\n",
        "\n",
        "\n",
        "fraud_samples = X_train[y_train == 1]\n",
        "\n",
        "print(\"Training VAE...\")\n",
        "\n",
        "vae.fit(fraud_samples, epochs=50, batch_size=256, verbose=0)\n",
        "print(\"VAE Training complete.\")\n",
        "\n",
        "def vae_generate(n_samples):\n",
        "    z_rand = np.random.normal(size=(n_samples, latent_dim))\n",
        "    return decoder.predict(z_rand)\n",
        "\n",
        "# ------------------------------------------------------------\n",
        "# 2. VAE‑GAN implementation (simplified):\n",
        "# ------------------------------------------------------------\n",
        "# Encoder and decoder as above\n",
        "# Discriminator for VAE‑GAN\n",
        "def build_vae_gan_discriminator(input_dim):\n",
        "    d_in = layers.Input(shape=(input_dim,))\n",
        "    x = layers.Dense(128, activation='relu')(d_in)\n",
        "    x = layers.Dense(64, activation='relu')(x)\n",
        "    d_out = layers.Dense(1, activation='sigmoid')(x)\n",
        "    return models.Model(d_in, d_out, name='vae_gan_discriminator')\n",
        "\n",
        "discriminator = build_vae_gan_discriminator(input_dim)\n",
        "discriminator.compile(optimizer=optimizers.Adam(1e-4),\n",
        "                      loss='binary_crossentropy')\n",
        "\n",
        "\n",
        "\n",
        "# Adversarial loop - Corrected VAE-GAN training\n",
        "batch_size = 256\n",
        "epochs_vae_gan = 50\n",
        "print(\"Training VAE-GAN...\")\n",
        "for epoch in range(epochs_vae_gan):\n",
        "    # ---------------------\n",
        "    # Train Discriminator\n",
        "    # ---------------------\n",
        "    # Sample real fraud data\n",
        "    idx = np.random.randint(0, fraud_samples.shape[0], batch_size)\n",
        "    real_samples = fraud_samples[idx]\n",
        "\n",
        "    # Generate fake samples from VAE (using the current decoder)\n",
        "    noise = np.random.normal(size=(batch_size, latent_dim))\n",
        "    fake_samples = decoder(noise, training=False)\n",
        "\n",
        "    # Train discriminator on real and fake samples\n",
        "    d_loss_real = discriminator.train_on_batch(real_samples, np.ones((batch_size, 1)))\n",
        "    d_loss_fake = discriminator.train_on_batch(fake_samples, np.zeros((batch_size, 1)))\n",
        "    d_loss = 0.5 * np.add(d_loss_real, d_loss_fake)\n",
        "\n",
        "    # ---------------------\n",
        "    # Train Generator (Decoder)\n",
        "    # ---------------------\n",
        "    # Generate fake samples to train the generator\n",
        "    noise = np.random.normal(size=(batch_size, latent_dim))\n",
        "    valid_y = np.ones((batch_size, 1)) # Generator aims to fool the discriminator\n",
        "\n",
        "    # Train the decoder (generator) using the discriminator's feedback\n",
        "    with tf.GradientTape() as tape:\n",
        "        gen_samples = decoder(noise, training=True)\n",
        "        validity = discriminator(gen_samples, training=False) # Discriminator is not trained here\n",
        "        g_loss = losses.binary_crossentropy(tf.ones_like(validity), validity)\n",
        "\n",
        "    grads = tape.gradient(g_loss, decoder.trainable_variables)\n",
        "    optimizers.Adam(1e-4).apply_gradients(zip(grads, decoder.trainable_variables))\n",
        "\n",
        "    # Print the progress\n",
        "    if (epoch + 1) % 10 == 0:\n",
        "        print(f\"Epoch {epoch+1}/{epochs_vae_gan} [D loss: {d_loss:.4f}] [G loss: {tf.reduce_mean(g_loss):.4f}]\")\n",
        "\n",
        "print(\"VAE-GAN Training complete.\")\n",
        "\n",
        "\n",
        "# After training, use the VAE‑GAN decoder to generate synthetic fraud samples\n",
        "vae_gan_samples = vae_generate(250000)\n",
        "print(f\"Generated {len(vae_gan_samples)} synthetic fraud samples.\")"
      ],
      "id": "MwKKq8Pgn_ZD",
      "execution_count": null,
      "outputs": [
        {
          "output_type": "stream",
          "name": "stdout",
          "text": [
            "Training VAE...\n"
          ]
        },
        {
          "output_type": "stream",
          "name": "stderr",
          "text": [
            "/usr/local/lib/python3.11/dist-packages/tensorflow/python/data/ops/structured_function.py:258: UserWarning:\n",
            "\n",
            "Even though the `tf.config.experimental_run_functions_eagerly` option is set, this option does not apply to tf.data functions. To force eager execution of tf.data functions, please use `tf.data.experimental.enable_debug_mode()`.\n",
            "\n"
          ]
        },
        {
          "output_type": "stream",
          "name": "stdout",
          "text": [
            "VAE Training complete.\n",
            "Training VAE-GAN...\n",
            "Epoch 10/50 [D loss: 0.5385] [G loss: 0.4947]\n",
            "Epoch 20/50 [D loss: 0.5407] [G loss: 0.5158]\n",
            "Epoch 30/50 [D loss: 0.5373] [G loss: 0.5287]\n",
            "Epoch 40/50 [D loss: 0.5320] [G loss: 0.5501]\n",
            "Epoch 50/50 [D loss: 0.5256] [G loss: 0.5650]\n",
            "VAE-GAN Training complete.\n",
            "\u001b[1m7813/7813\u001b[0m \u001b[32m━━━━━━━━━━━━━━━━━━━━\u001b[0m\u001b[37m\u001b[0m \u001b[1m35s\u001b[0m 4ms/step\n",
            "Generated 250000 synthetic fraud samples.\n"
          ]
        }
      ]
    },
    {
      "cell_type": "code",
      "metadata": {
        "colab": {
          "base_uri": "https://localhost:8080/",
          "height": 990
        },
        "id": "0aea569e",
        "outputId": "13c8729a-5c55-41e3-b84d-5a3c7fb02884"
      },
      "source": [
        "from sklearn.metrics import RocCurveDisplay, PrecisionRecallDisplay\n",
        "\n",
        "# 1) Build augmented train set\n",
        "aug_X_train = np.vstack([X_train, vae_gan_samples])\n",
        "aug_y_train = np.hstack([y_train, np.ones(len(vae_gan_samples), dtype=y_train.dtype)]) # Ensure dtype consistency\n",
        "\n",
        "# 2) Train classifier\n",
        "clf = lgb.LGBMClassifier(\n",
        "    n_estimators=300,\n",
        "    learning_rate=0.05,\n",
        "    max_depth=-1,\n",
        "    subsample=0.9,\n",
        "    colsample_bytree=0.9,\n",
        "    random_state=42\n",
        ")\n",
        "print(\"Training LightGBM classifier...\")\n",
        "clf.fit(aug_X_train, aug_y_train)\n",
        "print(\"LightGBM classifier training complete.\")\n",
        "\n",
        "# 3) Predict on REAL hold-out test\n",
        "y_pred = clf.predict(X_test)\n",
        "# Probabilities for positive class needed for ROC/PR AUC\n",
        "y_prob = clf.predict_proba(X_test)[:, 1]\n",
        "\n",
        "# 4) Metrics\n",
        "roc = roc_auc_score(y_test, y_prob)\n",
        "pr  = average_precision_score(y_test, y_prob)\n",
        "\n",
        "print(\"\\nVAE‑GAN oversampling classification report:\\n\",\n",
        "      classification_report(y_test, y_pred, digits=4))\n",
        "print(\"Confusion Matrix:\\n\", confusion_matrix(y_test, y_pred))\n",
        "print(f\"\\nROC‑AUC: {roc:.4f}\")\n",
        "print(f\"PR‑AUC:  {pr:.4f}\")\n",
        "\n",
        "# 5) (Optional) Plot ROC and PR curves\n",
        "fig, ax = plt.subplots(1, 2, figsize=(10,4))\n",
        "RocCurveDisplay.from_predictions(y_test, y_prob, ax=ax[0])\n",
        "ax[0].set_title(\"ROC Curve\")\n",
        "\n",
        "PrecisionRecallDisplay.from_predictions(y_test, y_prob, ax=ax[1])\n",
        "ax[1].set_title(\"Precision–Recall Curve\")\n",
        "plt.tight_layout()\n",
        "plt.show()"
      ],
      "id": "0aea569e",
      "execution_count": null,
      "outputs": [
        {
          "output_type": "stream",
          "name": "stdout",
          "text": [
            "Training LightGBM classifier...\n",
            "[LightGBM] [Info] Number of positive: 250378, number of negative: 220152\n",
            "[LightGBM] [Info] Auto-choosing col-wise multi-threading, the overhead of testing was 0.374193 seconds.\n",
            "You can set `force_col_wise=true` to remove the overhead.\n",
            "[LightGBM] [Info] Total Bins 7395\n",
            "[LightGBM] [Info] Number of data points in the train set: 470530, number of used features: 29\n",
            "[LightGBM] [Info] [binary:BoostFromScore]: pavg=0.532119 -> initscore=0.128654\n",
            "[LightGBM] [Info] Start training from score 0.128654\n",
            "LightGBM classifier training complete.\n"
          ]
        },
        {
          "output_type": "stream",
          "name": "stderr",
          "text": [
            "/usr/local/lib/python3.11/dist-packages/sklearn/utils/validation.py:2739: UserWarning:\n",
            "\n",
            "X does not have valid feature names, but LGBMClassifier was fitted with feature names\n",
            "\n",
            "/usr/local/lib/python3.11/dist-packages/sklearn/utils/validation.py:2739: UserWarning:\n",
            "\n",
            "X does not have valid feature names, but LGBMClassifier was fitted with feature names\n",
            "\n"
          ]
        },
        {
          "output_type": "stream",
          "name": "stdout",
          "text": [
            "\n",
            "VAE‑GAN oversampling classification report:\n",
            "               precision    recall  f1-score   support\n",
            "\n",
            "           0     0.9996    0.9998    0.9997     55038\n",
            "           1     0.8902    0.7684    0.8249        95\n",
            "\n",
            "    accuracy                         0.9994     55133\n",
            "   macro avg     0.9449    0.8841    0.9123     55133\n",
            "weighted avg     0.9994    0.9994    0.9994     55133\n",
            "\n",
            "Confusion Matrix:\n",
            " [[55029     9]\n",
            " [   22    73]]\n",
            "\n",
            "ROC‑AUC: 0.9721\n",
            "PR‑AUC:  0.8188\n"
          ]
        },
        {
          "output_type": "display_data",
          "data": {
            "text/plain": [
              "<Figure size 1000x400 with 2 Axes>"
            ],
            "image/png": "[encoded data removed]"
          },
          "metadata": {}
        }
      ]
    },
    {
      "cell_type": "markdown",
      "metadata": {
        "id": "89850c66"
      },
      "source": [
        "\n",
        "\n",
        "*   A VAE-GAN model was successfully trained to generate synthetic fraud samples. The key issues encountered during VAE-GAN training, including `NameError`, `ValueError`, and `NotImplementedError`, were resolved by relocating function definitions, implementing a custom Keras `Model` with an overridden `train_step` and `call` method, and removing `validation_split` during the `.fit()` call.\n",
        "*   An augmented training dataset was created by combining the original training data with 250,000 synthetic fraud samples generated by the trained VAE-GAN.\n",
        "*   A LightGBM classifier trained on the augmented dataset achieved a ROC AUC of 0.9721 and a PR AUC of 0.8188 on the real, untouched test set. The classification report showed a precision of 0.8913 and a recall of 0.6209 for the fraudulent class.\n",
        "\n",
        "\n",
        "*   The VAE-GAN successfully generated synthetic samples that improved the detection of the minority fraud class, as evidenced by the strong ROC AUC and PR AUC scores.\n",
        "*   Investigate the trade-off between precision and recall for the fraud class based on the plotted Precision-Recall curve and consider adjusting the model's prediction threshold if needed to better balance these metrics for the specific application requirements.\n"
      ],
      "id": "89850c66"
    },
    {
      "cell_type": "markdown",
      "source": [
        "Referneces-[A hybrid deep learning approach with generative adversarial network for credit card fraud detection](https://doi.org/10.3390/technologies12100186), [Improving detection of credit card fraudulent transactions using generative adversarial networks](https://arxiv.org/abs/1907.03355), [Generative adversarial networks-based novel approach for fraud detection for the European Cardholders 2013 dataset](https://doi.org/10.1109/ACCESS.2023.3320072), https://medium.com/data-science/fraud-detection-with-generative-adversarial-nets-gans-26bea360870d"
      ],
      "metadata": {
        "id": "MkbEZKtz-BQd"
      },
      "id": "MkbEZKtz-BQd"
    },
    {
      "cell_type": "markdown",
      "source": [
        "Note- ChatGPT used for understanding results and how VAEGAN is different and can be used."
      ],
      "metadata": {
        "id": "DpP2ULMG-DIN"
      },
      "id": "DpP2ULMG-DIN"
    },
    {
      "cell_type": "code",
      "source": [],
      "metadata": {
        "id": "IY2bxoSI9xqC"
      },
      "id": "IY2bxoSI9xqC",
      "execution_count": null,
      "outputs": []
    }
  ],
  "metadata": {
    "accelerator": "GPU",
    "colab": {
      "gpuType": "T4",
      "provenance": []
    },
    "kaggle": {
      "accelerator": "none",
      "dataSources": [
        {
          "datasetId": 310,
          "sourceId": 23498,
          "sourceType": "datasetVersion"
        }
      ],
      "dockerImageVersionId": 30822,
      "isGpuEnabled": false,
      "isInternetEnabled": true,
      "language": "python",
      "sourceType": "notebook"
    },
    "kernelspec": {
      "display_name": "Python 3",
      "name": "python3"
    },
    "language_info": {
      "codemirror_mode": {
        "name": "ipython",
        "version": 3
      },
      "file_extension": ".py",
      "mimetype": "text/x-python",
      "name": "python",
      "nbconvert_exporter": "python",
      "pygments_lexer": "ipython3",
      "version": "3.10.12"
    },
    "papermill": {
      "default_parameters": {},
      "duration": 1846.66889,
      "end_time": "2024-12-30T03:00:04.367340",
      "environment_variables": {},
      "exception": null,
      "input_path": "__notebook__.ipynb",
      "output_path": "__notebook__.ipynb",
      "parameters": {},
      "start_time": "2024-12-30T02:29:17.698450",
      "version": "2.6.0"
    }
  },
  "nbformat": 4,
  "nbformat_minor": 5
}