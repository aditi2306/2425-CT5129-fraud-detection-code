{
  "cells": [
    {
      "cell_type": "markdown",
      "source": [
        "#CTGAN with LGBM classifiwer with different data sizes"
      ],
      "metadata": {
        "id": "FNov8RVeYQbx"
      },
      "id": "FNov8RVeYQbx"
    },
    {
      "cell_type": "code",
      "source": [
        "# 1) Install CTGAN\n",
        "!pip install ctgan"
      ],
      "metadata": {
        "colab": {
          "base_uri": "https://localhost:8080/"
        },
        "id": "rTNhgH6Xohza",
        "outputId": "77911806-bbc0-44f2-8c9e-1098a6e06257"
      },
      "id": "rTNhgH6Xohza",
      "execution_count": null,
      "outputs": [
        {
          "output_type": "stream",
          "name": "stdout",
          "text": [
            "Collecting ctgan\n",
            "  Downloading ctgan-0.11.0-py3-none-any.whl.metadata (10 kB)\n",
            "Requirement already satisfied: numpy>=1.26.0 in /usr/local/lib/python3.12/dist-packages (from ctgan) (2.0.2)\n",
            "Requirement already satisfied: pandas>=2.1.1 in /usr/local/lib/python3.12/dist-packages (from ctgan) (2.2.2)\n",
            "Requirement already satisfied: torch>=2.2.0 in /usr/local/lib/python3.12/dist-packages (from ctgan) (2.8.0+cu126)\n",
            "Requirement already satisfied: tqdm<5,>=4.29 in /usr/local/lib/python3.12/dist-packages (from ctgan) (4.67.1)\n",
            "Collecting rdt>=1.14.0 (from ctgan)\n",
            "  Downloading rdt-1.18.0-py3-none-any.whl.metadata (10 kB)\n",
            "Requirement already satisfied: python-dateutil>=2.8.2 in /usr/local/lib/python3.12/dist-packages (from pandas>=2.1.1->ctgan) (2.9.0.post0)\n",
            "Requirement already satisfied: pytz>=2020.1 in /usr/local/lib/python3.12/dist-packages (from pandas>=2.1.1->ctgan) (2025.2)\n",
            "Requirement already satisfied: tzdata>=2022.7 in /usr/local/lib/python3.12/dist-packages (from pandas>=2.1.1->ctgan) (2025.2)\n",
            "Requirement already satisfied: scipy>=1.12.0 in /usr/local/lib/python3.12/dist-packages (from rdt>=1.14.0->ctgan) (1.16.1)\n",
            "Requirement already satisfied: scikit-learn>=1.3.1 in /usr/local/lib/python3.12/dist-packages (from rdt>=1.14.0->ctgan) (1.6.1)\n",
            "Collecting Faker>=17 (from rdt>=1.14.0->ctgan)\n",
            "  Downloading faker-37.5.3-py3-none-any.whl.metadata (15 kB)\n",
            "Requirement already satisfied: filelock in /usr/local/lib/python3.12/dist-packages (from torch>=2.2.0->ctgan) (3.19.1)\n",
            "Requirement already satisfied: typing-extensions>=4.10.0 in /usr/local/lib/python3.12/dist-packages (from torch>=2.2.0->ctgan) (4.14.1)\n",
            "Requirement already satisfied: setuptools in /usr/local/lib/python3.12/dist-packages (from torch>=2.2.0->ctgan) (75.2.0)\n",
            "Requirement already satisfied: sympy>=1.13.3 in /usr/local/lib/python3.12/dist-packages (from torch>=2.2.0->ctgan) (1.13.3)\n",
            "Requirement already satisfied: networkx in /usr/local/lib/python3.12/dist-packages (from torch>=2.2.0->ctgan) (3.5)\n",
            "Requirement already satisfied: jinja2 in /usr/local/lib/python3.12/dist-packages (from torch>=2.2.0->ctgan) (3.1.6)\n",
            "Requirement already satisfied: fsspec in /usr/local/lib/python3.12/dist-packages (from torch>=2.2.0->ctgan) (2025.3.0)\n",
            "Requirement already satisfied: nvidia-cuda-nvrtc-cu12==12.6.77 in /usr/local/lib/python3.12/dist-packages (from torch>=2.2.0->ctgan) (12.6.77)\n",
            "Requirement already satisfied: nvidia-cuda-runtime-cu12==12.6.77 in /usr/local/lib/python3.12/dist-packages (from torch>=2.2.0->ctgan) (12.6.77)\n",
            "Requirement already satisfied: nvidia-cuda-cupti-cu12==12.6.80 in /usr/local/lib/python3.12/dist-packages (from torch>=2.2.0->ctgan) (12.6.80)\n",
            "Requirement already satisfied: nvidia-cudnn-cu12==9.10.2.21 in /usr/local/lib/python3.12/dist-packages (from torch>=2.2.0->ctgan) (9.10.2.21)\n",
            "Requirement already satisfied: nvidia-cublas-cu12==12.6.4.1 in /usr/local/lib/python3.12/dist-packages (from torch>=2.2.0->ctgan) (12.6.4.1)\n",
            "Requirement already satisfied: nvidia-cufft-cu12==11.3.0.4 in /usr/local/lib/python3.12/dist-packages (from torch>=2.2.0->ctgan) (11.3.0.4)\n",
            "Requirement already satisfied: nvidia-curand-cu12==10.3.7.77 in /usr/local/lib/python3.12/dist-packages (from torch>=2.2.0->ctgan) (10.3.7.77)\n",
            "Requirement already satisfied: nvidia-cusolver-cu12==11.7.1.2 in /usr/local/lib/python3.12/dist-packages (from torch>=2.2.0->ctgan) (11.7.1.2)\n",
            "Requirement already satisfied: nvidia-cusparse-cu12==12.5.4.2 in /usr/local/lib/python3.12/dist-packages (from torch>=2.2.0->ctgan) (12.5.4.2)\n",
            "Requirement already satisfied: nvidia-cusparselt-cu12==0.7.1 in /usr/local/lib/python3.12/dist-packages (from torch>=2.2.0->ctgan) (0.7.1)\n",
            "Requirement already satisfied: nvidia-nccl-cu12==2.27.3 in /usr/local/lib/python3.12/dist-packages (from torch>=2.2.0->ctgan) (2.27.3)\n",
            "Requirement already satisfied: nvidia-nvtx-cu12==12.6.77 in /usr/local/lib/python3.12/dist-packages (from torch>=2.2.0->ctgan) (12.6.77)\n",
            "Requirement already satisfied: nvidia-nvjitlink-cu12==12.6.85 in /usr/local/lib/python3.12/dist-packages (from torch>=2.2.0->ctgan) (12.6.85)\n",
            "Requirement already satisfied: nvidia-cufile-cu12==1.11.1.6 in /usr/local/lib/python3.12/dist-packages (from torch>=2.2.0->ctgan) (1.11.1.6)\n",
            "Requirement already satisfied: triton==3.4.0 in /usr/local/lib/python3.12/dist-packages (from torch>=2.2.0->ctgan) (3.4.0)\n",
            "Requirement already satisfied: six>=1.5 in /usr/local/lib/python3.12/dist-packages (from python-dateutil>=2.8.2->pandas>=2.1.1->ctgan) (1.17.0)\n",
            "Requirement already satisfied: joblib>=1.2.0 in /usr/local/lib/python3.12/dist-packages (from scikit-learn>=1.3.1->rdt>=1.14.0->ctgan) (1.5.1)\n",
            "Requirement already satisfied: threadpoolctl>=3.1.0 in /usr/local/lib/python3.12/dist-packages (from scikit-learn>=1.3.1->rdt>=1.14.0->ctgan) (3.6.0)\n",
            "Requirement already satisfied: mpmath<1.4,>=1.1.0 in /usr/local/lib/python3.12/dist-packages (from sympy>=1.13.3->torch>=2.2.0->ctgan) (1.3.0)\n",
            "Requirement already satisfied: MarkupSafe>=2.0 in /usr/local/lib/python3.12/dist-packages (from jinja2->torch>=2.2.0->ctgan) (3.0.2)\n",
            "Downloading ctgan-0.11.0-py3-none-any.whl (24 kB)\n",
            "Downloading rdt-1.18.0-py3-none-any.whl (74 kB)\n",
            "\u001b[2K   \u001b[90m━━━━━━━━━━━━━━━━━━━━━━━━━━━━━━━━━━━━━━━━\u001b[0m \u001b[32m74.2/74.2 kB\u001b[0m \u001b[31m5.1 MB/s\u001b[0m eta \u001b[36m0:00:00\u001b[0m\n",
            "\u001b[?25hDownloading faker-37.5.3-py3-none-any.whl (1.9 MB)\n",
            "\u001b[2K   \u001b[90m━━━━━━━━━━━━━━━━━━━━━━━━━━━━━━━━━━━━━━━━\u001b[0m \u001b[32m1.9/1.9 MB\u001b[0m \u001b[31m43.4 MB/s\u001b[0m eta \u001b[36m0:00:00\u001b[0m\n",
            "\u001b[?25hInstalling collected packages: Faker, rdt, ctgan\n",
            "Successfully installed Faker-37.5.3 ctgan-0.11.0 rdt-1.18.0\n"
          ]
        }
      ]
    },
    {
      "cell_type": "code",
      "source": [
        "\n",
        "import numpy as np\n",
        "import pandas as pd\n",
        "from ctgan import CTGAN\n",
        "from sklearn.model_selection import train_test_split\n",
        "from sklearn.preprocessing import StandardScaler\n",
        "from sklearn.ensemble import RandomForestClassifier\n",
        "from sklearn.metrics import (\n",
        "    classification_report,\n",
        "    confusion_matrix,\n",
        "    roc_auc_score,\n",
        "    average_precision_score,\n",
        "    f1_score # Added f1_score\n",
        ")\n",
        "import matplotlib.pyplot as plt\n",
        "import seaborn as sns\n",
        "from tqdm import tqdm # Added tqdm\n",
        "\n",
        "df = pd.read_csv(\"creditcard.csv\")\n",
        "X = df.drop(\"Class\", axis=1)\n",
        "y = df[\"Class\"].values\n",
        "X_train, X_test, y_train, y_test = train_test_split(\n",
        "    X, y, stratify=y, test_size=0.2, random_state=42\n",
        ")\n",
        "\n",
        "\n",
        "scaler = StandardScaler().fit(X_train)\n",
        "X_train_scaled = pd.DataFrame(scaler.transform(X_train), columns=X_train.columns)\n",
        "X_test_scaled  = pd.DataFrame(scaler.transform(X_test),  columns=X_test.columns)"
      ],
      "metadata": {
        "id": "rHOvFEF4Zm-B"
      },
      "id": "rHOvFEF4Zm-B",
      "execution_count": null,
      "outputs": []
    },
    {
      "cell_type": "code",
      "source": [
        "from lightgbm import LGBMClassifier\n",
        "from sklearn.metrics import f1_score\n",
        "from lightgbm import early_stopping\n",
        "\n",
        "def experiment_1_scaling_ctgan(X_train_scaled, y_train, X_test_scaled, y_test, scaler,\n",
        "                               n_synth=25000, epochs=300):\n",
        "\n",
        "    results = []\n",
        "    sizes = [0.01, 0.05, 0.1, 0.5, 1.0]\n",
        "\n",
        "    fraud_data = X_train_scaled[y_train == 1].reset_index(drop=True)\n",
        "    nonfraud_data = X_train_scaled[y_train == 0].reset_index(drop=True)\n",
        "\n",
        "    for frac in tqdm(sizes, desc=\"CTGAN Experiment Loop\"):\n",
        "\n",
        "        sample_size = int(len(fraud_data) * frac)\n",
        "        fraud_subset = fraud_data.iloc[:sample_size, :].copy()\n",
        "\n",
        "\n",
        "        ctgan = CTGAN(\n",
        "            embedding_dim=128,\n",
        "            generator_dim=(256, 256),\n",
        "            discriminator_dim=(256, 256),\n",
        "            generator_lr=2e-4,\n",
        "            generator_decay=1e-6,\n",
        "            discriminator_lr=2e-4,\n",
        "            discriminator_decay=1e-6,\n",
        "            batch_size=500,\n",
        "            epochs=epochs,\n",
        "            pac=10,\n",
        "            verbose=False\n",
        "        )\n",
        "        ctgan.fit(fraud_subset)\n",
        "\n",
        "        # Generate synthetic frauds\n",
        "        syn_fraud = ctgan.sample(n_synth)\n",
        "\n",
        "        X_aug = pd.concat([X_train_scaled, syn_fraud], ignore_index=True)\n",
        "        y_aug = np.concatenate([y_train, np.ones(n_synth, dtype=int)])\n",
        "\n",
        "\n",
        "        pos = y_aug.sum()\n",
        "        neg = len(y_aug) - pos\n",
        "        scale_pos_weight = (neg / pos) if pos > 0 else 1.0\n",
        "\n",
        "        clf = LGBMClassifier(\n",
        "            n_estimators=200,\n",
        "            learning_rate=0.05,\n",
        "            num_leaves=64,\n",
        "            max_depth=-1,\n",
        "            subsample=0.8,\n",
        "            colsample_bytree=0.8,\n",
        "            reg_lambda=1.0,\n",
        "            random_state=42,\n",
        "            n_jobs=-1,\n",
        "            scale_pos_weight=scale_pos_weight\n",
        "        )\n",
        "\n",
        "        # Early stopping on the hold-out set (AUC-PR is 'aucpr' in LightGBM)\n",
        "        clf.fit(\n",
        "            X_aug, y_aug,\n",
        "            eval_set=[(X_test_scaled, y_test)],\n",
        "            eval_metric='aucpr',\n",
        "            callbacks=[early_stopping(stopping_rounds=50, verbose=False)]\n",
        "        )\n",
        "\n",
        "\n",
        "        y_prob = clf.predict_proba(X_test_scaled, num_iteration=clf.best_iteration_)[:, 1]\n",
        "        y_pred = (y_prob >= 0.5).astype(int)\n",
        "\n",
        "        roc = roc_auc_score(y_test, y_prob)\n",
        "        pr  = average_precision_score(y_test, y_prob)\n",
        "        f1  = f1_score(y_test, y_pred)\n",
        "\n",
        "        results.append((int(frac * 100), roc, pr, f1))\n",
        "        print(f\"{int(frac*100)}% fraud used → ROC-AUC: {roc:.4f} | PR-AUC: {pr:.4f} | F1: {f1:.4f}\")\n",
        "\n",
        "    return results"
      ],
      "metadata": {
        "id": "6_j3b3ZJWmmA"
      },
      "id": "6_j3b3ZJWmmA",
      "execution_count": null,
      "outputs": []
    },
    {
      "cell_type": "code",
      "source": [
        "def plot_experiment_1(results):\n",
        "    import matplotlib.pyplot as plt\n",
        "    x = [r[0] for r in results]\n",
        "    roc = [r[1] for r in results]\n",
        "    pr = [r[2] for r in results]\n",
        "    f1 = [r[3] for r in results]\n",
        "\n",
        "    plt.figure(figsize=(10, 6))\n",
        "    plt.plot(x, roc, label=\"ROC-AUC\", marker='o')\n",
        "    plt.plot(x, pr, label=\"PR-AUC\", marker='s')\n",
        "    plt.plot(x, f1, label=\"F1-score\", marker='^')\n",
        "    plt.xlabel(\"Fraud Training Set Size (%)\")\n",
        "    plt.ylabel(\"Score\")\n",
        "    plt.title(\"Experiment 1: CTGAN Performance vs Training Size\")\n",
        "    plt.grid(True)\n",
        "    plt.legend()\n",
        "    plt.show()\n"
      ],
      "metadata": {
        "id": "CX84RJcz0Uha"
      },
      "id": "CX84RJcz0Uha",
      "execution_count": null,
      "outputs": []
    },
    {
      "cell_type": "code",
      "source": [
        "results_ctgan = experiment_1_scaling_ctgan(X_train_scaled, y_train, X_test_scaled, y_test, scaler)\n",
        "plot_experiment_1(results_ctgan)\n"
      ],
      "metadata": {
        "colab": {
          "base_uri": "https://localhost:8080/",
          "height": 1000
        },
        "id": "HK2AGVOdWACW",
        "outputId": "92e433ac-0885-4b8d-8314-75e1e65b2a60"
      },
      "id": "HK2AGVOdWACW",
      "execution_count": null,
      "outputs": [
        {
          "output_type": "stream",
          "name": "stderr",
          "text": [
            "\rCTGAN Experiment Loop:   0%|          | 0/5 [00:00<?, ?it/s]"
          ]
        },
        {
          "output_type": "stream",
          "name": "stdout",
          "text": [
            "[LightGBM] [Info] Number of positive: 25394, number of negative: 227451\n",
            "[LightGBM] [Info] Auto-choosing col-wise multi-threading, the overhead of testing was 0.069296 seconds.\n",
            "You can set `force_col_wise=true` to remove the overhead.\n",
            "[LightGBM] [Info] Total Bins 7650\n",
            "[LightGBM] [Info] Number of data points in the train set: 252845, number of used features: 30\n",
            "[LightGBM] [Info] [binary:BoostFromScore]: pavg=0.100433 -> initscore=-2.192422\n",
            "[LightGBM] [Info] Start training from score -2.192422\n"
          ]
        },
        {
          "output_type": "stream",
          "name": "stderr",
          "text": [
            "\rCTGAN Experiment Loop:  20%|██        | 1/5 [00:22<01:29, 22.40s/it]"
          ]
        },
        {
          "output_type": "stream",
          "name": "stdout",
          "text": [
            "1% fraud used → ROC-AUC: 0.9757 | PR-AUC: 0.8807 | F1: 0.8901\n",
            "[LightGBM] [Info] Number of positive: 25394, number of negative: 227451\n",
            "[LightGBM] [Info] Auto-choosing col-wise multi-threading, the overhead of testing was 0.067338 seconds.\n",
            "You can set `force_col_wise=true` to remove the overhead.\n",
            "[LightGBM] [Info] Total Bins 7650\n",
            "[LightGBM] [Info] Number of data points in the train set: 252845, number of used features: 30\n",
            "[LightGBM] [Info] [binary:BoostFromScore]: pavg=0.100433 -> initscore=-2.192422\n",
            "[LightGBM] [Info] Start training from score -2.192422\n"
          ]
        },
        {
          "output_type": "stream",
          "name": "stderr",
          "text": [
            "\rCTGAN Experiment Loop:  40%|████      | 2/5 [00:46<01:10, 23.35s/it]"
          ]
        },
        {
          "output_type": "stream",
          "name": "stdout",
          "text": [
            "5% fraud used → ROC-AUC: 0.9730 | PR-AUC: 0.8715 | F1: 0.8601\n",
            "[LightGBM] [Info] Number of positive: 25394, number of negative: 227451\n",
            "[LightGBM] [Info] Auto-choosing col-wise multi-threading, the overhead of testing was 0.069348 seconds.\n",
            "You can set `force_col_wise=true` to remove the overhead.\n",
            "[LightGBM] [Info] Total Bins 7650\n",
            "[LightGBM] [Info] Number of data points in the train set: 252845, number of used features: 30\n",
            "[LightGBM] [Info] [binary:BoostFromScore]: pavg=0.100433 -> initscore=-2.192422\n",
            "[LightGBM] [Info] Start training from score -2.192422\n"
          ]
        },
        {
          "output_type": "stream",
          "name": "stderr",
          "text": [
            "\rCTGAN Experiment Loop:  60%|██████    | 3/5 [01:11<00:48, 24.32s/it]"
          ]
        },
        {
          "output_type": "stream",
          "name": "stdout",
          "text": [
            "10% fraud used → ROC-AUC: 0.9719 | PR-AUC: 0.8692 | F1: 0.8276\n",
            "[LightGBM] [Info] Number of positive: 25394, number of negative: 227451\n",
            "[LightGBM] [Info] Auto-choosing col-wise multi-threading, the overhead of testing was 0.148335 seconds.\n",
            "You can set `force_col_wise=true` to remove the overhead.\n",
            "[LightGBM] [Info] Total Bins 7650\n",
            "[LightGBM] [Info] Number of data points in the train set: 252845, number of used features: 30\n",
            "[LightGBM] [Info] [binary:BoostFromScore]: pavg=0.100433 -> initscore=-2.192422\n",
            "[LightGBM] [Info] Start training from score -2.192422\n"
          ]
        },
        {
          "output_type": "stream",
          "name": "stderr",
          "text": [
            "\rCTGAN Experiment Loop:  80%|████████  | 4/5 [01:39<00:25, 25.43s/it]"
          ]
        },
        {
          "output_type": "stream",
          "name": "stdout",
          "text": [
            "50% fraud used → ROC-AUC: 0.9783 | PR-AUC: 0.8754 | F1: 0.8513\n",
            "[LightGBM] [Info] Number of positive: 25394, number of negative: 227451\n",
            "[LightGBM] [Info] Auto-choosing col-wise multi-threading, the overhead of testing was 0.065543 seconds.\n",
            "You can set `force_col_wise=true` to remove the overhead.\n",
            "[LightGBM] [Info] Total Bins 7650\n",
            "[LightGBM] [Info] Number of data points in the train set: 252845, number of used features: 30\n",
            "[LightGBM] [Info] [binary:BoostFromScore]: pavg=0.100433 -> initscore=-2.192422\n",
            "[LightGBM] [Info] Start training from score -2.192422\n"
          ]
        },
        {
          "output_type": "stream",
          "name": "stderr",
          "text": [
            "CTGAN Experiment Loop: 100%|██████████| 5/5 [02:06<00:00, 25.36s/it]"
          ]
        },
        {
          "output_type": "stream",
          "name": "stdout",
          "text": [
            "100% fraud used → ROC-AUC: 0.9742 | PR-AUC: 0.8755 | F1: 0.8384\n"
          ]
        },
        {
          "output_type": "stream",
          "name": "stderr",
          "text": [
            "\n"
          ]
        },
        {
          "output_type": "display_data",
          "data": {
            "text/plain": [
              "<Figure size 1000x600 with 1 Axes>"
            ],
            "image/png": "[encoded data removed]"
          },
          "metadata": {}
        }
      ]
    },
    {
      "cell_type": "markdown",
      "source": [
        "Strength: Very high ROC-AUC (0.97–0.98) with minimal variability → robust and reliable detection ability.\n",
        "\n",
        "Weakness: F1-score fluctuates, especially at low-to-mid training sizes, reflecting sensitivity in fraud recall.\n",
        "\n",
        "Best Performance: At higher training sizes (≥80–100%), where PR-AUC (~0.88) and F1 (~0.84–0.85) are more stable.\n",
        "\n",
        "Overall: CTGAN + LGBM is an excellent framework for fraud detection, with slightly stronger PR-AUC and F1 stability than CGAN+LGBM, making it well-suited for imbalanced data tasks when enough fraud samples are available."
      ],
      "metadata": {
        "id": "zdDWuVFNR4ER"
      },
      "id": "zdDWuVFNR4ER"
    },
    {
      "cell_type": "markdown",
      "source": [
        "Referneces-[A hybrid deep learning approach with generative adversarial network for credit card fraud detection](https://doi.org/10.3390/technologies12100186), [Improving detection of credit card fraudulent transactions using generative adversarial networks](https://arxiv.org/abs/1907.03355), [Predicting credit card fraud using conditional generative adversarial network](https://norma.ncirl.ie/6114/), https://www.kaggle.com/datasets/gauravduttakiit/credit-card-fraud-detection-gan"
      ],
      "metadata": {
        "id": "lApCYhD7Rtvh"
      },
      "id": "lApCYhD7Rtvh"
    },
    {
      "cell_type": "markdown",
      "source": [
        "Note- ChatGPT used for understanding results ."
      ],
      "metadata": {
        "id": "pYAzlpi_Rvpl"
      },
      "id": "pYAzlpi_Rvpl"
    },
    {
      "cell_type": "code",
      "source": [],
      "metadata": {
        "id": "g2F3-_0ARuUr"
      },
      "id": "g2F3-_0ARuUr",
      "execution_count": null,
      "outputs": []
    }
  ],
  "metadata": {
    "accelerator": "GPU",
    "colab": {
      "gpuType": "T4",
      "provenance": []
    },
    "kaggle": {
      "accelerator": "none",
      "dataSources": [
        {
          "datasetId": 310,
          "sourceId": 23498,
          "sourceType": "datasetVersion"
        }
      ],
      "dockerImageVersionId": 30822,
      "isGpuEnabled": false,
      "isInternetEnabled": true,
      "language": "python",
      "sourceType": "notebook"
    },
    "kernelspec": {
      "display_name": "Python 3",
      "name": "python3"
    },
    "language_info": {
      "codemirror_mode": {
        "name": "ipython",
        "version": 3
      },
      "file_extension": ".py",
      "mimetype": "text/x-python",
      "name": "python",
      "nbconvert_exporter": "python",
      "pygments_lexer": "ipython3",
      "version": "3.10.12"
    },
    "papermill": {
      "default_parameters": {},
      "duration": 1846.66889,
      "end_time": "2024-12-30T03:00:04.367340",
      "environment_variables": {},
      "exception": null,
      "input_path": "__notebook__.ipynb",
      "output_path": "__notebook__.ipynb",
      "parameters": {},
      "start_time": "2024-12-30T02:29:17.698450",
      "version": "2.6.0"
    }
  },
  "nbformat": 4,
  "nbformat_minor": 5
}