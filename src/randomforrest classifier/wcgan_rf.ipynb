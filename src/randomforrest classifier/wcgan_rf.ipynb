{
  "cells": [
    {
      "cell_type": "markdown",
      "source": [
        "#WCGAN with RF as classifier"
      ],
      "metadata": {
        "id": "LIBmlFa8_9pX"
      },
      "id": "LIBmlFa8_9pX"
    },
    {
      "cell_type": "markdown",
      "id": "95b87982",
      "metadata": {
        "id": "95b87982"
      },
      "source": [
        "## Importing Libraries"
      ]
    },
    {
      "cell_type": "code",
      "execution_count": null,
      "id": "cb2d1424",
      "metadata": {
        "id": "cb2d1424"
      },
      "outputs": [],
      "source": [
        "import os\n",
        "import keras\n",
        "import numpy as np\n",
        "import pandas as pd\n",
        "import seaborn as sns\n",
        "import plotly.express as px\n",
        "import plotly.graph_objects as go\n",
        "import matplotlib.pyplot as plt\n",
        "import lightgbm as lgb\n",
        "from sklearn.model_selection import train_test_split\n",
        "from sklearn.preprocessing import QuantileTransformer\n",
        "from sklearn.preprocessing import StandardScaler, MinMaxScaler\n",
        "from tensorflow.keras.layers import Input, Dense, Reshape, Flatten, Dropout, multiply, Concatenate\n",
        "from tensorflow.keras.layers import BatchNormalization, Activation, Embedding, ZeroPadding2D, LeakyReLU\n",
        "from tensorflow.keras.models import Sequential, Model\n",
        "from tensorflow.keras.optimizers import Adam, RMSprop\n",
        "from tensorflow.keras.initializers import RandomNormal\n",
        "import tensorflow.keras.backend as K\n",
        "from sklearn.utils import shuffle\n",
        "from sklearn.metrics import precision_score, recall_score, f1_score,\\\n",
        "                            accuracy_score, balanced_accuracy_score,classification_report,\\\n",
        "                            confusion_matrix"
      ]
    },
    {
      "cell_type": "code",
      "execution_count": null,
      "id": "QgenRhZYJcmv",
      "metadata": {
        "id": "QgenRhZYJcmv"
      },
      "outputs": [],
      "source": [
        "import tensorflow as tf\n",
        "tf.config.run_functions_eagerly(True)\n"
      ]
    },
    {
      "cell_type": "markdown",
      "id": "90a60195",
      "metadata": {
        "id": "90a60195"
      },
      "source": [
        "## EDA"
      ]
    },
    {
      "cell_type": "code",
      "execution_count": null,
      "id": "79bf21d7",
      "metadata": {
        "colab": {
          "base_uri": "https://localhost:8080/"
        },
        "id": "79bf21d7",
        "outputId": "e6c7e9dc-669a-4d17-9f2a-b8e9ad2ca74f"
      },
      "outputs": [
        {
          "output_type": "stream",
          "name": "stdout",
          "text": [
            "<class 'pandas.core.frame.DataFrame'>\n",
            "RangeIndex: 284807 entries, 0 to 284806\n",
            "Data columns (total 30 columns):\n",
            " #   Column  Non-Null Count   Dtype  \n",
            "---  ------  --------------   -----  \n",
            " 0   V1      284807 non-null  float64\n",
            " 1   V2      284807 non-null  float64\n",
            " 2   V3      284807 non-null  float64\n",
            " 3   V4      284807 non-null  float64\n",
            " 4   V5      284807 non-null  float64\n",
            " 5   V6      284807 non-null  float64\n",
            " 6   V7      284807 non-null  float64\n",
            " 7   V8      284807 non-null  float64\n",
            " 8   V9      284807 non-null  float64\n",
            " 9   V10     284807 non-null  float64\n",
            " 10  V11     284807 non-null  float64\n",
            " 11  V12     284807 non-null  float64\n",
            " 12  V13     284807 non-null  float64\n",
            " 13  V14     284807 non-null  float64\n",
            " 14  V15     284807 non-null  float64\n",
            " 15  V16     284807 non-null  float64\n",
            " 16  V17     284807 non-null  float64\n",
            " 17  V18     284807 non-null  float64\n",
            " 18  V19     284807 non-null  float64\n",
            " 19  V20     284807 non-null  float64\n",
            " 20  V21     284807 non-null  float64\n",
            " 21  V22     284807 non-null  float64\n",
            " 22  V23     284807 non-null  float64\n",
            " 23  V24     284807 non-null  float64\n",
            " 24  V25     284807 non-null  float64\n",
            " 25  V26     284807 non-null  float64\n",
            " 26  V27     284807 non-null  float64\n",
            " 27  V28     284807 non-null  float64\n",
            " 28  Amount  284807 non-null  float64\n",
            " 29  Class   284807 non-null  int64  \n",
            "dtypes: float64(29), int64(1)\n",
            "memory usage: 65.2 MB\n"
          ]
        }
      ],
      "source": [
        "df=pd.read_csv('./creditcard.csv')\n",
        "df=df.drop('Time',axis=1)\n",
        "df.head()\n",
        "df.info()"
      ]
    },
    {
      "cell_type": "markdown",
      "id": "a828e2f8",
      "metadata": {
        "id": "a828e2f8"
      },
      "source": [
        "PCA Transformation: The description of the data says that all the features went through a PCA transformation (Except for time and amount).  \n",
        "Scaling: Keep in mind that in order to implement a PCA transformation features need to be previously scaled."
      ]
    },
    {
      "cell_type": "code",
      "execution_count": null,
      "id": "b13394f3",
      "metadata": {
        "colab": {
          "base_uri": "https://localhost:8080/",
          "height": 350
        },
        "id": "b13394f3",
        "outputId": "9c6308bd-2e34-4915-efc2-637d6df3be77"
      },
      "outputs": [
        {
          "output_type": "execute_result",
          "data": {
            "text/plain": [
              "                 V1            V2            V3            V4            V5  \\\n",
              "count  2.848070e+05  2.848070e+05  2.848070e+05  2.848070e+05  2.848070e+05   \n",
              "mean   1.168375e-15  3.416908e-16 -1.379537e-15  2.074095e-15  9.604066e-16   \n",
              "std    1.958696e+00  1.651309e+00  1.516255e+00  1.415869e+00  1.380247e+00   \n",
              "min   -5.640751e+01 -7.271573e+01 -4.832559e+01 -5.683171e+00 -1.137433e+02   \n",
              "25%   -9.203734e-01 -5.985499e-01 -8.903648e-01 -8.486401e-01 -6.915971e-01   \n",
              "50%    1.810880e-02  6.548556e-02  1.798463e-01 -1.984653e-02 -5.433583e-02   \n",
              "75%    1.315642e+00  8.037239e-01  1.027196e+00  7.433413e-01  6.119264e-01   \n",
              "max    2.454930e+00  2.205773e+01  9.382558e+00  1.687534e+01  3.480167e+01   \n",
              "\n",
              "                 V6            V7            V8            V9           V10  \\\n",
              "count  2.848070e+05  2.848070e+05  2.848070e+05  2.848070e+05  2.848070e+05   \n",
              "mean   1.487313e-15 -5.556467e-16  1.213481e-16 -2.406331e-15  2.239053e-15   \n",
              "std    1.332271e+00  1.237094e+00  1.194353e+00  1.098632e+00  1.088850e+00   \n",
              "min   -2.616051e+01 -4.355724e+01 -7.321672e+01 -1.343407e+01 -2.458826e+01   \n",
              "25%   -7.682956e-01 -5.540759e-01 -2.086297e-01 -6.430976e-01 -5.354257e-01   \n",
              "50%   -2.741871e-01  4.010308e-02  2.235804e-02 -5.142873e-02 -9.291738e-02   \n",
              "75%    3.985649e-01  5.704361e-01  3.273459e-01  5.971390e-01  4.539234e-01   \n",
              "max    7.330163e+01  1.205895e+02  2.000721e+01  1.559499e+01  2.374514e+01   \n",
              "\n",
              "       ...           V21           V22           V23           V24  \\\n",
              "count  ...  2.848070e+05  2.848070e+05  2.848070e+05  2.848070e+05   \n",
              "mean   ...  1.654067e-16 -3.568593e-16  2.578648e-16  4.473266e-15   \n",
              "std    ...  7.345240e-01  7.257016e-01  6.244603e-01  6.056471e-01   \n",
              "min    ... -3.483038e+01 -1.093314e+01 -4.480774e+01 -2.836627e+00   \n",
              "25%    ... -2.283949e-01 -5.423504e-01 -1.618463e-01 -3.545861e-01   \n",
              "50%    ... -2.945017e-02  6.781943e-03 -1.119293e-02  4.097606e-02   \n",
              "75%    ...  1.863772e-01  5.285536e-01  1.476421e-01  4.395266e-01   \n",
              "max    ...  2.720284e+01  1.050309e+01  2.252841e+01  4.584549e+00   \n",
              "\n",
              "                V25           V26           V27           V28         Amount  \\\n",
              "count  2.848070e+05  2.848070e+05  2.848070e+05  2.848070e+05  284807.000000   \n",
              "mean   5.340915e-16  1.683437e-15 -3.660091e-16 -1.227390e-16      88.349619   \n",
              "std    5.212781e-01  4.822270e-01  4.036325e-01  3.300833e-01     250.120109   \n",
              "min   -1.029540e+01 -2.604551e+00 -2.256568e+01 -1.543008e+01       0.000000   \n",
              "25%   -3.171451e-01 -3.269839e-01 -7.083953e-02 -5.295979e-02       5.600000   \n",
              "50%    1.659350e-02 -5.213911e-02  1.342146e-03  1.124383e-02      22.000000   \n",
              "75%    3.507156e-01  2.409522e-01  9.104512e-02  7.827995e-02      77.165000   \n",
              "max    7.519589e+00  3.517346e+00  3.161220e+01  3.384781e+01   25691.160000   \n",
              "\n",
              "               Class  \n",
              "count  284807.000000  \n",
              "mean        0.001727  \n",
              "std         0.041527  \n",
              "min         0.000000  \n",
              "25%         0.000000  \n",
              "50%         0.000000  \n",
              "75%         0.000000  \n",
              "max         1.000000  \n",
              "\n",
              "[8 rows x 30 columns]"
            ],
            "text/html": [
              "\n",
              "  <div id=\"df-d0ba9d3a-9ef6-45e6-a962-ed7f0b8c37aa\" class=\"colab-df-container\">\n",
              "    <div>\n",
              "<style scoped>\n",
              "    .dataframe tbody tr th:only-of-type {\n",
              "        vertical-align: middle;\n",
              "    }\n",
              "\n",
              "    .dataframe tbody tr th {\n",
              "        vertical-align: top;\n",
              "    }\n",
              "\n",
              "    .dataframe thead th {\n",
              "        text-align: right;\n",
              "    }\n",
              "</style>\n",
              "<table border=\"1\" class=\"dataframe\">\n",
              "  <thead>\n",
              "    <tr style=\"text-align: right;\">\n",
              "      <th></th>\n",
              "      <th>V1</th>\n",
              "      <th>V2</th>\n",
              "      <th>V3</th>\n",
              "      <th>V4</th>\n",
              "      <th>V5</th>\n",
              "      <th>V6</th>\n",
              "      <th>V7</th>\n",
              "      <th>V8</th>\n",
              "      <th>V9</th>\n",
              "      <th>V10</th>\n",
              "      <th>...</th>\n",
              "      <th>V21</th>\n",
              "      <th>V22</th>\n",
              "      <th>V23</th>\n",
              "      <th>V24</th>\n",
              "      <th>V25</th>\n",
              "      <th>V26</th>\n",
              "      <th>V27</th>\n",
              "      <th>V28</th>\n",
              "      <th>Amount</th>\n",
              "      <th>Class</th>\n",
              "    </tr>\n",
              "  </thead>\n",
              "  <tbody>\n",
              "    <tr>\n",
              "      <th>count</th>\n",
              "      <td>2.848070e+05</td>\n",
              "      <td>2.848070e+05</td>\n",
              "      <td>2.848070e+05</td>\n",
              "      <td>2.848070e+05</td>\n",
              "      <td>2.848070e+05</td>\n",
              "      <td>2.848070e+05</td>\n",
              "      <td>2.848070e+05</td>\n",
              "      <td>2.848070e+05</td>\n",
              "      <td>2.848070e+05</td>\n",
              "      <td>2.848070e+05</td>\n",
              "      <td>...</td>\n",
              "      <td>2.848070e+05</td>\n",
              "      <td>2.848070e+05</td>\n",
              "      <td>2.848070e+05</td>\n",
              "      <td>2.848070e+05</td>\n",
              "      <td>2.848070e+05</td>\n",
              "      <td>2.848070e+05</td>\n",
              "      <td>2.848070e+05</td>\n",
              "      <td>2.848070e+05</td>\n",
              "      <td>284807.000000</td>\n",
              "      <td>284807.000000</td>\n",
              "    </tr>\n",
              "    <tr>\n",
              "      <th>mean</th>\n",
              "      <td>1.168375e-15</td>\n",
              "      <td>3.416908e-16</td>\n",
              "      <td>-1.379537e-15</td>\n",
              "      <td>2.074095e-15</td>\n",
              "      <td>9.604066e-16</td>\n",
              "      <td>1.487313e-15</td>\n",
              "      <td>-5.556467e-16</td>\n",
              "      <td>1.213481e-16</td>\n",
              "      <td>-2.406331e-15</td>\n",
              "      <td>2.239053e-15</td>\n",
              "      <td>...</td>\n",
              "      <td>1.654067e-16</td>\n",
              "      <td>-3.568593e-16</td>\n",
              "      <td>2.578648e-16</td>\n",
              "      <td>4.473266e-15</td>\n",
              "      <td>5.340915e-16</td>\n",
              "      <td>1.683437e-15</td>\n",
              "      <td>-3.660091e-16</td>\n",
              "      <td>-1.227390e-16</td>\n",
              "      <td>88.349619</td>\n",
              "      <td>0.001727</td>\n",
              "    </tr>\n",
              "    <tr>\n",
              "      <th>std</th>\n",
              "      <td>1.958696e+00</td>\n",
              "      <td>1.651309e+00</td>\n",
              "      <td>1.516255e+00</td>\n",
              "      <td>1.415869e+00</td>\n",
              "      <td>1.380247e+00</td>\n",
              "      <td>1.332271e+00</td>\n",
              "      <td>1.237094e+00</td>\n",
              "      <td>1.194353e+00</td>\n",
              "      <td>1.098632e+00</td>\n",
              "      <td>1.088850e+00</td>\n",
              "      <td>...</td>\n",
              "      <td>7.345240e-01</td>\n",
              "      <td>7.257016e-01</td>\n",
              "      <td>6.244603e-01</td>\n",
              "      <td>6.056471e-01</td>\n",
              "      <td>5.212781e-01</td>\n",
              "      <td>4.822270e-01</td>\n",
              "      <td>4.036325e-01</td>\n",
              "      <td>3.300833e-01</td>\n",
              "      <td>250.120109</td>\n",
              "      <td>0.041527</td>\n",
              "    </tr>\n",
              "    <tr>\n",
              "      <th>min</th>\n",
              "      <td>-5.640751e+01</td>\n",
              "      <td>-7.271573e+01</td>\n",
              "      <td>-4.832559e+01</td>\n",
              "      <td>-5.683171e+00</td>\n",
              "      <td>-1.137433e+02</td>\n",
              "      <td>-2.616051e+01</td>\n",
              "      <td>-4.355724e+01</td>\n",
              "      <td>-7.321672e+01</td>\n",
              "      <td>-1.343407e+01</td>\n",
              "      <td>-2.458826e+01</td>\n",
              "      <td>...</td>\n",
              "      <td>-3.483038e+01</td>\n",
              "      <td>-1.093314e+01</td>\n",
              "      <td>-4.480774e+01</td>\n",
              "      <td>-2.836627e+00</td>\n",
              "      <td>-1.029540e+01</td>\n",
              "      <td>-2.604551e+00</td>\n",
              "      <td>-2.256568e+01</td>\n",
              "      <td>-1.543008e+01</td>\n",
              "      <td>0.000000</td>\n",
              "      <td>0.000000</td>\n",
              "    </tr>\n",
              "    <tr>\n",
              "      <th>25%</th>\n",
              "      <td>-9.203734e-01</td>\n",
              "      <td>-5.985499e-01</td>\n",
              "      <td>-8.903648e-01</td>\n",
              "      <td>-8.486401e-01</td>\n",
              "      <td>-6.915971e-01</td>\n",
              "      <td>-7.682956e-01</td>\n",
              "      <td>-5.540759e-01</td>\n",
              "      <td>-2.086297e-01</td>\n",
              "      <td>-6.430976e-01</td>\n",
              "      <td>-5.354257e-01</td>\n",
              "      <td>...</td>\n",
              "      <td>-2.283949e-01</td>\n",
              "      <td>-5.423504e-01</td>\n",
              "      <td>-1.618463e-01</td>\n",
              "      <td>-3.545861e-01</td>\n",
              "      <td>-3.171451e-01</td>\n",
              "      <td>-3.269839e-01</td>\n",
              "      <td>-7.083953e-02</td>\n",
              "      <td>-5.295979e-02</td>\n",
              "      <td>5.600000</td>\n",
              "      <td>0.000000</td>\n",
              "    </tr>\n",
              "    <tr>\n",
              "      <th>50%</th>\n",
              "      <td>1.810880e-02</td>\n",
              "      <td>6.548556e-02</td>\n",
              "      <td>1.798463e-01</td>\n",
              "      <td>-1.984653e-02</td>\n",
              "      <td>-5.433583e-02</td>\n",
              "      <td>-2.741871e-01</td>\n",
              "      <td>4.010308e-02</td>\n",
              "      <td>2.235804e-02</td>\n",
              "      <td>-5.142873e-02</td>\n",
              "      <td>-9.291738e-02</td>\n",
              "      <td>...</td>\n",
              "      <td>-2.945017e-02</td>\n",
              "      <td>6.781943e-03</td>\n",
              "      <td>-1.119293e-02</td>\n",
              "      <td>4.097606e-02</td>\n",
              "      <td>1.659350e-02</td>\n",
              "      <td>-5.213911e-02</td>\n",
              "      <td>1.342146e-03</td>\n",
              "      <td>1.124383e-02</td>\n",
              "      <td>22.000000</td>\n",
              "      <td>0.000000</td>\n",
              "    </tr>\n",
              "    <tr>\n",
              "      <th>75%</th>\n",
              "      <td>1.315642e+00</td>\n",
              "      <td>8.037239e-01</td>\n",
              "      <td>1.027196e+00</td>\n",
              "      <td>7.433413e-01</td>\n",
              "      <td>6.119264e-01</td>\n",
              "      <td>3.985649e-01</td>\n",
              "      <td>5.704361e-01</td>\n",
              "      <td>3.273459e-01</td>\n",
              "      <td>5.971390e-01</td>\n",
              "      <td>4.539234e-01</td>\n",
              "      <td>...</td>\n",
              "      <td>1.863772e-01</td>\n",
              "      <td>5.285536e-01</td>\n",
              "      <td>1.476421e-01</td>\n",
              "      <td>4.395266e-01</td>\n",
              "      <td>3.507156e-01</td>\n",
              "      <td>2.409522e-01</td>\n",
              "      <td>9.104512e-02</td>\n",
              "      <td>7.827995e-02</td>\n",
              "      <td>77.165000</td>\n",
              "      <td>0.000000</td>\n",
              "    </tr>\n",
              "    <tr>\n",
              "      <th>max</th>\n",
              "      <td>2.454930e+00</td>\n",
              "      <td>2.205773e+01</td>\n",
              "      <td>9.382558e+00</td>\n",
              "      <td>1.687534e+01</td>\n",
              "      <td>3.480167e+01</td>\n",
              "      <td>7.330163e+01</td>\n",
              "      <td>1.205895e+02</td>\n",
              "      <td>2.000721e+01</td>\n",
              "      <td>1.559499e+01</td>\n",
              "      <td>2.374514e+01</td>\n",
              "      <td>...</td>\n",
              "      <td>2.720284e+01</td>\n",
              "      <td>1.050309e+01</td>\n",
              "      <td>2.252841e+01</td>\n",
              "      <td>4.584549e+00</td>\n",
              "      <td>7.519589e+00</td>\n",
              "      <td>3.517346e+00</td>\n",
              "      <td>3.161220e+01</td>\n",
              "      <td>3.384781e+01</td>\n",
              "      <td>25691.160000</td>\n",
              "      <td>1.000000</td>\n",
              "    </tr>\n",
              "  </tbody>\n",
              "</table>\n",
              "<p>8 rows × 30 columns</p>\n",
              "</div>\n",
              "    <div class=\"colab-df-buttons\">\n",
              "\n",
              "  <div class=\"colab-df-container\">\n",
              "    <button class=\"colab-df-convert\" onclick=\"convertToInteractive('df-d0ba9d3a-9ef6-45e6-a962-ed7f0b8c37aa')\"\n",
              "            title=\"Convert this dataframe to an interactive table.\"\n",
              "            style=\"display:none;\">\n",
              "\n",
              "  <svg xmlns=\"http://www.w3.org/2000/svg\" height=\"24px\" viewBox=\"0 -960 960 960\">\n",
              "    <path d=\"M120-120v-720h720v720H120Zm60-500h600v-160H180v160Zm220 220h160v-160H400v160Zm0 220h160v-160H400v160ZM180-400h160v-160H180v160Zm440 0h160v-160H620v160ZM180-180h160v-160H180v160Zm440 0h160v-160H620v160Z\"/>\n",
              "  </svg>\n",
              "    </button>\n",
              "\n",
              "  <style>\n",
              "    .colab-df-container {\n",
              "      display:flex;\n",
              "      gap: 12px;\n",
              "    }\n",
              "\n",
              "    .colab-df-convert {\n",
              "      background-color: #E8F0FE;\n",
              "      border: none;\n",
              "      border-radius: 50%;\n",
              "      cursor: pointer;\n",
              "      display: none;\n",
              "      fill: #1967D2;\n",
              "      height: 32px;\n",
              "      padding: 0 0 0 0;\n",
              "      width: 32px;\n",
              "    }\n",
              "\n",
              "    .colab-df-convert:hover {\n",
              "      background-color: #E2EBFA;\n",
              "      box-shadow: 0px 1px 2px rgba(60, 64, 67, 0.3), 0px 1px 3px 1px rgba(60, 64, 67, 0.15);\n",
              "      fill: #174EA6;\n",
              "    }\n",
              "\n",
              "    .colab-df-buttons div {\n",
              "      margin-bottom: 4px;\n",
              "    }\n",
              "\n",
              "    [theme=dark] .colab-df-convert {\n",
              "      background-color: #3B4455;\n",
              "      fill: #D2E3FC;\n",
              "    }\n",
              "\n",
              "    [theme=dark] .colab-df-convert:hover {\n",
              "      background-color: #434B5C;\n",
              "      box-shadow: 0px 1px 3px 1px rgba(0, 0, 0, 0.15);\n",
              "      filter: drop-shadow(0px 1px 2px rgba(0, 0, 0, 0.3));\n",
              "      fill: #FFFFFF;\n",
              "    }\n",
              "  </style>\n",
              "\n",
              "    <script>\n",
              "      const buttonEl =\n",
              "        document.querySelector('#df-d0ba9d3a-9ef6-45e6-a962-ed7f0b8c37aa button.colab-df-convert');\n",
              "      buttonEl.style.display =\n",
              "        google.colab.kernel.accessAllowed ? 'block' : 'none';\n",
              "\n",
              "      async function convertToInteractive(key) {\n",
              "        const element = document.querySelector('#df-d0ba9d3a-9ef6-45e6-a962-ed7f0b8c37aa');\n",
              "        const dataTable =\n",
              "          await google.colab.kernel.invokeFunction('convertToInteractive',\n",
              "                                                    [key], {});\n",
              "        if (!dataTable) return;\n",
              "\n",
              "        const docLinkHtml = 'Like what you see? Visit the ' +\n",
              "          '<a target=\"_blank\" href=https://colab.research.google.com/notebooks/data_table.ipynb>data table notebook</a>'\n",
              "          + ' to learn more about interactive tables.';\n",
              "        element.innerHTML = '';\n",
              "        dataTable['output_type'] = 'display_data';\n",
              "        await google.colab.output.renderOutput(dataTable, element);\n",
              "        const docLink = document.createElement('div');\n",
              "        docLink.innerHTML = docLinkHtml;\n",
              "        element.appendChild(docLink);\n",
              "      }\n",
              "    </script>\n",
              "  </div>\n",
              "\n",
              "\n",
              "    <div id=\"df-5c1aa3c0-bd4e-470c-a4ad-69aba7fac398\">\n",
              "      <button class=\"colab-df-quickchart\" onclick=\"quickchart('df-5c1aa3c0-bd4e-470c-a4ad-69aba7fac398')\"\n",
              "                title=\"Suggest charts\"\n",
              "                style=\"display:none;\">\n",
              "\n",
              "<svg xmlns=\"http://www.w3.org/2000/svg\" height=\"24px\"viewBox=\"0 0 24 24\"\n",
              "     width=\"24px\">\n",
              "    <g>\n",
              "        <path d=\"M19 3H5c-1.1 0-2 .9-2 2v14c0 1.1.9 2 2 2h14c1.1 0 2-.9 2-2V5c0-1.1-.9-2-2-2zM9 17H7v-7h2v7zm4 0h-2V7h2v10zm4 0h-2v-4h2v4z\"/>\n",
              "    </g>\n",
              "</svg>\n",
              "      </button>\n",
              "\n",
              "<style>\n",
              "  .colab-df-quickchart {\n",
              "      --bg-color: #E8F0FE;\n",
              "      --fill-color: #1967D2;\n",
              "      --hover-bg-color: #E2EBFA;\n",
              "      --hover-fill-color: #174EA6;\n",
              "      --disabled-fill-color: #AAA;\n",
              "      --disabled-bg-color: #DDD;\n",
              "  }\n",
              "\n",
              "  [theme=dark] .colab-df-quickchart {\n",
              "      --bg-color: #3B4455;\n",
              "      --fill-color: #D2E3FC;\n",
              "      --hover-bg-color: #434B5C;\n",
              "      --hover-fill-color: #FFFFFF;\n",
              "      --disabled-bg-color: #3B4455;\n",
              "      --disabled-fill-color: #666;\n",
              "  }\n",
              "\n",
              "  .colab-df-quickchart {\n",
              "    background-color: var(--bg-color);\n",
              "    border: none;\n",
              "    border-radius: 50%;\n",
              "    cursor: pointer;\n",
              "    display: none;\n",
              "    fill: var(--fill-color);\n",
              "    height: 32px;\n",
              "    padding: 0;\n",
              "    width: 32px;\n",
              "  }\n",
              "\n",
              "  .colab-df-quickchart:hover {\n",
              "    background-color: var(--hover-bg-color);\n",
              "    box-shadow: 0 1px 2px rgba(60, 64, 67, 0.3), 0 1px 3px 1px rgba(60, 64, 67, 0.15);\n",
              "    fill: var(--button-hover-fill-color);\n",
              "  }\n",
              "\n",
              "  .colab-df-quickchart-complete:disabled,\n",
              "  .colab-df-quickchart-complete:disabled:hover {\n",
              "    background-color: var(--disabled-bg-color);\n",
              "    fill: var(--disabled-fill-color);\n",
              "    box-shadow: none;\n",
              "  }\n",
              "\n",
              "  .colab-df-spinner {\n",
              "    border: 2px solid var(--fill-color);\n",
              "    border-color: transparent;\n",
              "    border-bottom-color: var(--fill-color);\n",
              "    animation:\n",
              "      spin 1s steps(1) infinite;\n",
              "  }\n",
              "\n",
              "  @keyframes spin {\n",
              "    0% {\n",
              "      border-color: transparent;\n",
              "      border-bottom-color: var(--fill-color);\n",
              "      border-left-color: var(--fill-color);\n",
              "    }\n",
              "    20% {\n",
              "      border-color: transparent;\n",
              "      border-left-color: var(--fill-color);\n",
              "      border-top-color: var(--fill-color);\n",
              "    }\n",
              "    30% {\n",
              "      border-color: transparent;\n",
              "      border-left-color: var(--fill-color);\n",
              "      border-top-color: var(--fill-color);\n",
              "      border-right-color: var(--fill-color);\n",
              "    }\n",
              "    40% {\n",
              "      border-color: transparent;\n",
              "      border-right-color: var(--fill-color);\n",
              "      border-top-color: var(--fill-color);\n",
              "    }\n",
              "    60% {\n",
              "      border-color: transparent;\n",
              "      border-right-color: var(--fill-color);\n",
              "    }\n",
              "    80% {\n",
              "      border-color: transparent;\n",
              "      border-right-color: var(--fill-color);\n",
              "      border-bottom-color: var(--fill-color);\n",
              "    }\n",
              "    90% {\n",
              "      border-color: transparent;\n",
              "      border-bottom-color: var(--fill-color);\n",
              "    }\n",
              "  }\n",
              "</style>\n",
              "\n",
              "      <script>\n",
              "        async function quickchart(key) {\n",
              "          const quickchartButtonEl =\n",
              "            document.querySelector('#' + key + ' button');\n",
              "          quickchartButtonEl.disabled = true;  // To prevent multiple clicks.\n",
              "          quickchartButtonEl.classList.add('colab-df-spinner');\n",
              "          try {\n",
              "            const charts = await google.colab.kernel.invokeFunction(\n",
              "                'suggestCharts', [key], {});\n",
              "          } catch (error) {\n",
              "            console.error('Error during call to suggestCharts:', error);\n",
              "          }\n",
              "          quickchartButtonEl.classList.remove('colab-df-spinner');\n",
              "          quickchartButtonEl.classList.add('colab-df-quickchart-complete');\n",
              "        }\n",
              "        (() => {\n",
              "          let quickchartButtonEl =\n",
              "            document.querySelector('#df-5c1aa3c0-bd4e-470c-a4ad-69aba7fac398 button');\n",
              "          quickchartButtonEl.style.display =\n",
              "            google.colab.kernel.accessAllowed ? 'block' : 'none';\n",
              "        })();\n",
              "      </script>\n",
              "    </div>\n",
              "\n",
              "    </div>\n",
              "  </div>\n"
            ],
            "application/vnd.google.colaboratory.intrinsic+json": {
              "type": "dataframe"
            }
          },
          "metadata": {},
          "execution_count": 4
        }
      ],
      "source": [
        "df.describe()"
      ]
    },
    {
      "cell_type": "code",
      "execution_count": null,
      "id": "306b3e6f",
      "metadata": {
        "colab": {
          "base_uri": "https://localhost:8080/"
        },
        "id": "306b3e6f",
        "outputId": "d70de974-6751-4c9c-a2a6-13eab800c33d"
      },
      "outputs": [
        {
          "output_type": "stream",
          "name": "stdout",
          "text": [
            "Dataset has 9144 duplicate rows\n"
          ]
        }
      ],
      "source": [
        "# checking for duplicate values\n",
        "print(f\"Dataset has {df.duplicated().sum()} duplicate rows\")\n",
        "# dropping duplicate rows\n",
        "df.drop_duplicates(inplace=True)"
      ]
    },
    {
      "cell_type": "code",
      "execution_count": null,
      "id": "8b2f4c06",
      "metadata": {
        "colab": {
          "base_uri": "https://localhost:8080/"
        },
        "id": "8b2f4c06",
        "outputId": "9ed9c55f-e8ef-4d5b-f1cf-b363b5c5bdbd"
      },
      "outputs": [
        {
          "output_type": "stream",
          "name": "stdout",
          "text": [
            "<class 'pandas.core.frame.DataFrame'>\n",
            "Index: 275663 entries, 0 to 284806\n",
            "Data columns (total 30 columns):\n",
            " #   Column  Non-Null Count   Dtype  \n",
            "---  ------  --------------   -----  \n",
            " 0   V1      275663 non-null  float64\n",
            " 1   V2      275663 non-null  float64\n",
            " 2   V3      275663 non-null  float64\n",
            " 3   V4      275663 non-null  float64\n",
            " 4   V5      275663 non-null  float64\n",
            " 5   V6      275663 non-null  float64\n",
            " 6   V7      275663 non-null  float64\n",
            " 7   V8      275663 non-null  float64\n",
            " 8   V9      275663 non-null  float64\n",
            " 9   V10     275663 non-null  float64\n",
            " 10  V11     275663 non-null  float64\n",
            " 11  V12     275663 non-null  float64\n",
            " 12  V13     275663 non-null  float64\n",
            " 13  V14     275663 non-null  float64\n",
            " 14  V15     275663 non-null  float64\n",
            " 15  V16     275663 non-null  float64\n",
            " 16  V17     275663 non-null  float64\n",
            " 17  V18     275663 non-null  float64\n",
            " 18  V19     275663 non-null  float64\n",
            " 19  V20     275663 non-null  float64\n",
            " 20  V21     275663 non-null  float64\n",
            " 21  V22     275663 non-null  float64\n",
            " 22  V23     275663 non-null  float64\n",
            " 23  V24     275663 non-null  float64\n",
            " 24  V25     275663 non-null  float64\n",
            " 25  V26     275663 non-null  float64\n",
            " 26  V27     275663 non-null  float64\n",
            " 27  V28     275663 non-null  float64\n",
            " 28  Amount  275663 non-null  float64\n",
            " 29  Class   275663 non-null  int64  \n",
            "dtypes: float64(29), int64(1)\n",
            "memory usage: 65.2 MB\n"
          ]
        }
      ],
      "source": [
        "df.info()"
      ]
    },
    {
      "cell_type": "markdown",
      "id": "c5128908",
      "metadata": {
        "id": "c5128908"
      },
      "source": [
        "There is no null values"
      ]
    },
    {
      "cell_type": "code",
      "execution_count": null,
      "id": "9d6c996a",
      "metadata": {
        "colab": {
          "base_uri": "https://localhost:8080/"
        },
        "id": "9d6c996a",
        "outputId": "160852d6-6f42-4693-f63b-e263023aa9eb"
      },
      "outputs": [
        {
          "output_type": "stream",
          "name": "stdout",
          "text": [
            "No Frauds 99.83 % of the dataset\n",
            "Frauds 0.17 % of the dataset\n"
          ]
        }
      ],
      "source": [
        "print('No Frauds', round(df['Class'].value_counts()[0]/len(df) * 100,2), '% of the dataset')\n",
        "print('Frauds', round(df['Class'].value_counts()[1]/len(df) * 100,2), '% of the dataset')"
      ]
    },
    {
      "cell_type": "code",
      "execution_count": null,
      "id": "d88ad047",
      "metadata": {
        "colab": {
          "base_uri": "https://localhost:8080/",
          "height": 468
        },
        "id": "d88ad047",
        "outputId": "50cacf77-df5d-44fd-df24-86fcf28113cd"
      },
      "outputs": [
        {
          "output_type": "execute_result",
          "data": {
            "text/plain": [
              "<Axes: xlabel='Class', ylabel='count'>"
            ]
          },
          "metadata": {},
          "execution_count": 8
        },
        {
          "output_type": "display_data",
          "data": {
            "text/plain": [
              "<Figure size 640x480 with 1 Axes>"
            ],
            "image/png": "[encoded data removed]"
          },
          "metadata": {}
        }
      ],
      "source": [
        "sns.countplot(data=df,x='Class')"
      ]
    },
    {
      "cell_type": "code",
      "execution_count": null,
      "id": "30728ee8",
      "metadata": {
        "colab": {
          "base_uri": "https://localhost:8080/",
          "height": 993
        },
        "id": "30728ee8",
        "outputId": "7a34b280-08f1-4886-e06d-cc8050f6b605"
      },
      "outputs": [
        {
          "output_type": "execute_result",
          "data": {
            "text/plain": [
              "V1        -3.273070\n",
              "V2        -4.653486\n",
              "V3        -2.216730\n",
              "V4         0.681387\n",
              "V5        -2.458790\n",
              "V6         1.867576\n",
              "V7         2.877722\n",
              "V8        -8.292631\n",
              "V9         0.550965\n",
              "V10        1.242165\n",
              "V11        0.347772\n",
              "V12       -2.208171\n",
              "V13        0.061058\n",
              "V14       -1.953613\n",
              "V15       -0.295836\n",
              "V16       -1.048371\n",
              "V17       -3.802987\n",
              "V18       -0.255710\n",
              "V19        0.115957\n",
              "V20       -2.045060\n",
              "V21        2.784302\n",
              "V22       -0.200868\n",
              "V23       -5.805236\n",
              "V24       -0.545636\n",
              "V25       -0.408260\n",
              "V26        0.587603\n",
              "V27       -0.745732\n",
              "V28       11.400938\n",
              "Amount    16.841622\n",
              "dtype: float64"
            ],
            "text/html": [
              "<div>\n",
              "<style scoped>\n",
              "    .dataframe tbody tr th:only-of-type {\n",
              "        vertical-align: middle;\n",
              "    }\n",
              "\n",
              "    .dataframe tbody tr th {\n",
              "        vertical-align: top;\n",
              "    }\n",
              "\n",
              "    .dataframe thead th {\n",
              "        text-align: right;\n",
              "    }\n",
              "</style>\n",
              "<table border=\"1\" class=\"dataframe\">\n",
              "  <thead>\n",
              "    <tr style=\"text-align: right;\">\n",
              "      <th></th>\n",
              "      <th>0</th>\n",
              "    </tr>\n",
              "  </thead>\n",
              "  <tbody>\n",
              "    <tr>\n",
              "      <th>V1</th>\n",
              "      <td>-3.273070</td>\n",
              "    </tr>\n",
              "    <tr>\n",
              "      <th>V2</th>\n",
              "      <td>-4.653486</td>\n",
              "    </tr>\n",
              "    <tr>\n",
              "      <th>V3</th>\n",
              "      <td>-2.216730</td>\n",
              "    </tr>\n",
              "    <tr>\n",
              "      <th>V4</th>\n",
              "      <td>0.681387</td>\n",
              "    </tr>\n",
              "    <tr>\n",
              "      <th>V5</th>\n",
              "      <td>-2.458790</td>\n",
              "    </tr>\n",
              "    <tr>\n",
              "      <th>V6</th>\n",
              "      <td>1.867576</td>\n",
              "    </tr>\n",
              "    <tr>\n",
              "      <th>V7</th>\n",
              "      <td>2.877722</td>\n",
              "    </tr>\n",
              "    <tr>\n",
              "      <th>V8</th>\n",
              "      <td>-8.292631</td>\n",
              "    </tr>\n",
              "    <tr>\n",
              "      <th>V9</th>\n",
              "      <td>0.550965</td>\n",
              "    </tr>\n",
              "    <tr>\n",
              "      <th>V10</th>\n",
              "      <td>1.242165</td>\n",
              "    </tr>\n",
              "    <tr>\n",
              "      <th>V11</th>\n",
              "      <td>0.347772</td>\n",
              "    </tr>\n",
              "    <tr>\n",
              "      <th>V12</th>\n",
              "      <td>-2.208171</td>\n",
              "    </tr>\n",
              "    <tr>\n",
              "      <th>V13</th>\n",
              "      <td>0.061058</td>\n",
              "    </tr>\n",
              "    <tr>\n",
              "      <th>V14</th>\n",
              "      <td>-1.953613</td>\n",
              "    </tr>\n",
              "    <tr>\n",
              "      <th>V15</th>\n",
              "      <td>-0.295836</td>\n",
              "    </tr>\n",
              "    <tr>\n",
              "      <th>V16</th>\n",
              "      <td>-1.048371</td>\n",
              "    </tr>\n",
              "    <tr>\n",
              "      <th>V17</th>\n",
              "      <td>-3.802987</td>\n",
              "    </tr>\n",
              "    <tr>\n",
              "      <th>V18</th>\n",
              "      <td>-0.255710</td>\n",
              "    </tr>\n",
              "    <tr>\n",
              "      <th>V19</th>\n",
              "      <td>0.115957</td>\n",
              "    </tr>\n",
              "    <tr>\n",
              "      <th>V20</th>\n",
              "      <td>-2.045060</td>\n",
              "    </tr>\n",
              "    <tr>\n",
              "      <th>V21</th>\n",
              "      <td>2.784302</td>\n",
              "    </tr>\n",
              "    <tr>\n",
              "      <th>V22</th>\n",
              "      <td>-0.200868</td>\n",
              "    </tr>\n",
              "    <tr>\n",
              "      <th>V23</th>\n",
              "      <td>-5.805236</td>\n",
              "    </tr>\n",
              "    <tr>\n",
              "      <th>V24</th>\n",
              "      <td>-0.545636</td>\n",
              "    </tr>\n",
              "    <tr>\n",
              "      <th>V25</th>\n",
              "      <td>-0.408260</td>\n",
              "    </tr>\n",
              "    <tr>\n",
              "      <th>V26</th>\n",
              "      <td>0.587603</td>\n",
              "    </tr>\n",
              "    <tr>\n",
              "      <th>V27</th>\n",
              "      <td>-0.745732</td>\n",
              "    </tr>\n",
              "    <tr>\n",
              "      <th>V28</th>\n",
              "      <td>11.400938</td>\n",
              "    </tr>\n",
              "    <tr>\n",
              "      <th>Amount</th>\n",
              "      <td>16.841622</td>\n",
              "    </tr>\n",
              "  </tbody>\n",
              "</table>\n",
              "</div><br><label><b>dtype:</b> float64</label>"
            ]
          },
          "metadata": {},
          "execution_count": 9
        }
      ],
      "source": [
        "df.drop('Class',axis=1).skew()"
      ]
    },
    {
      "cell_type": "code",
      "execution_count": null,
      "id": "d74277ea",
      "metadata": {
        "colab": {
          "base_uri": "https://localhost:8080/",
          "height": 469
        },
        "id": "d74277ea",
        "outputId": "331b0664-b63d-4312-e1f0-d109a8a28161"
      },
      "outputs": [
        {
          "output_type": "execute_result",
          "data": {
            "text/plain": [
              "<Axes: xlabel='Amount', ylabel='Density'>"
            ]
          },
          "metadata": {},
          "execution_count": 10
        },
        {
          "output_type": "display_data",
          "data": {
            "text/plain": [
              "<Figure size 640x480 with 1 Axes>"
            ],
            "image/png": "[encoded data removed]"
          },
          "metadata": {}
        }
      ],
      "source": [
        "sns.kdeplot(df['Amount'])"
      ]
    },
    {
      "cell_type": "code",
      "execution_count": null,
      "id": "bd8cb1b8",
      "metadata": {
        "colab": {
          "base_uri": "https://localhost:8080/",
          "height": 468
        },
        "id": "bd8cb1b8",
        "outputId": "4984c1b3-053b-4b4e-c992-d1fa6f2ce734"
      },
      "outputs": [
        {
          "output_type": "execute_result",
          "data": {
            "text/plain": [
              "<Axes: xlabel='Amount', ylabel='Density'>"
            ]
          },
          "metadata": {},
          "execution_count": 11
        },
        {
          "output_type": "display_data",
          "data": {
            "text/plain": [
              "<Figure size 640x480 with 1 Axes>"
            ],
            "image/png": "[encoded data removed]"
          },
          "metadata": {}
        }
      ],
      "source": [
        "df['Amount'] = df['Amount'].apply(lambda x: np.log10(x+1))\n",
        "sns.kdeplot(df['Amount'])"
      ]
    },
    {
      "cell_type": "markdown",
      "id": "284d6f22",
      "metadata": {
        "id": "284d6f22"
      },
      "source": [
        "## Creating a sub sample"
      ]
    },
    {
      "cell_type": "markdown",
      "id": "0a068d5c",
      "metadata": {
        "id": "0a068d5c"
      },
      "source": [
        "What - create a[](http://) df with equal number of fraud and non fraud samples  \n",
        "Why - Although we don't know what the \"V\" features stand for, it will be useful to understand how each of this features influence the target. By having an imbalance dataframe we are not able to see the true correlations between the class and features"
      ]
    },
    {
      "cell_type": "code",
      "execution_count": null,
      "id": "555570b8",
      "metadata": {
        "id": "555570b8"
      },
      "outputs": [],
      "source": [
        "df = df.sample(frac=1)\n",
        "\n",
        "fraud_df = df.loc[df['Class'] == 1]\n",
        "non_fraud_df = df.loc[df['Class'] == 0][:492]\n",
        "\n",
        "subsample = pd.concat([fraud_df, non_fraud_df])\n",
        "new_df = subsample.sample(frac=1, random_state=42)"
      ]
    },
    {
      "cell_type": "markdown",
      "id": "6ece260f",
      "metadata": {
        "id": "6ece260f"
      },
      "source": [
        "### Correlation"
      ]
    },
    {
      "cell_type": "code",
      "execution_count": null,
      "id": "b4be44b5",
      "metadata": {
        "colab": {
          "base_uri": "https://localhost:8080/",
          "height": 542
        },
        "id": "b4be44b5",
        "outputId": "314cde23-d4e2-47bc-9f32-516ca38d7825"
      },
      "outputs": [
        {
          "output_type": "display_data",
          "data": {
            "text/html": [
              "<html>\n",
              "<head><meta charset=\"utf-8\" /></head>\n",
              "<body>\n",
              "    <div>            <script src=\"https://cdnjs.cloudflare.com/ajax/libs/mathjax/2.7.5/MathJax.js?config=TeX-AMS-MML_SVG\"></script><script type=\"text/javascript\">if (window.MathJax && window.MathJax.Hub && window.MathJax.Hub.Config) {window.MathJax.Hub.Config({SVG: {font: \"STIX-Web\"}});}</script>                <script type=\"text/javascript\">window.PlotlyConfig = {MathJaxConfig: 'local'};</script>\n",
              "        <script charset=\"utf-8\" src=\"https://cdn.plot.ly/plotly-2.35.2.min.js\"></script>                <div id=\"3801139c-b78d-4a62-ba4d-180782bbf032\" class=\"plotly-graph-div\" style=\"height:525px; width:100%;\"></div>            <script type=\"text/javascript\">                                    window.PLOTLYENV=window.PLOTLYENV || {};                                    if (document.getElementById(\"3801139c-b78d-4a62-ba4d-180782bbf032\")) {                    Plotly.newPlot(                        \"3801139c-b78d-4a62-ba4d-180782bbf032\",                        [{\"coloraxis\":\"coloraxis\",\"name\":\"0\",\"x\":[\"V1\",\"V2\",\"V3\",\"V4\",\"V5\",\"V6\",\"V7\",\"V8\",\"V9\",\"V10\",\"V11\",\"V12\",\"V13\",\"V14\",\"V15\",\"V16\",\"V17\",\"V18\",\"V19\",\"V20\",\"V21\",\"V22\",\"V23\",\"V24\",\"V25\",\"V26\",\"V27\",\"V28\",\"Amount\",\"Class\"],\"y\":[\"V1\",\"V2\",\"V3\",\"V4\",\"V5\",\"V6\",\"V7\",\"V8\",\"V9\",\"V10\",\"V11\",\"V12\",\"V13\",\"V14\",\"V15\",\"V16\",\"V17\",\"V18\",\"V19\",\"V20\",\"V21\",\"V22\",\"V23\",\"V24\",\"V25\",\"V26\",\"V27\",\"V28\",\"Amount\",\"Class\"],\"z\":[[1.0,0.009002056630572623,0.005951870323344194,-0.00004173363772266896,-0.018592931394258456,-0.005788588932603603,-0.006842588291335856,-0.0004903017705976319,-0.007093188184084825,0.0031150804333672593,-0.005238361152132169,-0.005224732658887908,0.00017607397170227968,-0.00016701663809464844,-0.008538155507659316,-0.006376158582724143,-0.001709260494715649,-0.00003711812585137038,-0.00036578698126053436,0.003108536048539705,0.006003695030846091,0.0036338595739370087,-0.007503985473868642,-0.00932677322450231,-0.0044461360182959835,-0.0024364231007038832,-0.014628053567675575,-0.0035550069411662876,-0.07669206550361135,-0.09471828027403749],[0.009002056630572623,1.0,0.004976420415917271,-0.004094783032822057,0.00465482815153956,0.0042902664746452684,0.004866010897475124,0.0037426936559328892,0.0011157645474231576,0.002764173799416153,-0.0018084640177489534,0.0014801177085389955,0.00046076961088045053,0.004771739778601284,0.0011762916062599872,0.00264756071610664,0.001303584059943293,0.00036303790401859406,0.0011638151899724055,-0.0003388726980984908,-0.0038806719512786973,0.002908674005336367,-0.003688629621718089,0.0019735168281252457,-0.002836931404197434,-0.00029605968574443963,0.007251624234862287,0.001457599293897816,-0.45939752929646666,0.08475425481454273],[0.005951870323344194,0.004976420415917271,1.0,-0.0007207506128839266,0.011019512449786457,0.014780101443837486,-0.014015590290725952,0.003733210299163555,-0.002895531047630538,-0.011064456582014484,0.003763268329471294,-0.0033654032642077177,-0.0007532888104511881,-0.008208455227591307,0.0033238924517765703,0.0003360330653480204,-0.002813132739071354,-0.003876447934607484,-0.0008279699688052927,-0.004587224438279632,0.001817856278022313,-0.004202923672142508,0.002183001796768641,0.009782012846899536,0.004090898265090202,0.0035960608038175163,-0.008780490220863168,-0.0024539941230242663,-0.05301909618409726,-0.1857717436207062],[-0.00004173363772266896,-0.004094783032822057,-0.0007207506128839266,1.0,0.006710184917376808,0.012534619986162652,0.0008061613152963595,0.004996484520262582,0.0013954678785992494,0.0033663943727185205,-0.004401812026915656,0.0005605366567563156,0.00033240074820585676,0.005335596702448548,0.0040450918954562,0.0017826285626817528,0.0016328679540391928,0.0015686647749632054,0.005018282953491178,0.0011654100961732815,-0.0006225862056653524,0.0015809695312209936,-0.00015475367372598658,0.005759384705327702,0.00017302609596235536,-0.0011052679713744607,0.0025173272107861704,0.000028447013289808426,-0.0006991724135757298,0.13031328765078862],[-0.018592931394258456,0.00465482815153956,0.011019512449786457,0.006710184917376808,1.0,-0.029700785735834036,-0.009106632501580498,-0.0026052875224071943,-0.0007861995616427925,-0.002817740725206556,-0.0029651575403910053,-0.00034277222928877837,0.0012005945355470149,0.005174527525292075,-0.007121994543521118,-0.004147091486085878,-0.005421946975850287,-0.0031082166092601185,0.0003505660226590358,-0.000788075425058691,0.0034392276588518437,0.002971456770964472,-0.0010578383026697033,-0.012633613332769843,-0.004862304415897338,-0.0015684754955835533,-0.006115679435719662,-0.0007109361143902038,-0.2852020730073674,-0.08864223740340522],[-0.005788588932603603,0.0042902664746452684,0.014780101443837486,0.012534619986162652,-0.029700785735834036,1.0,0.013087429720546115,-0.012300897072017291,-0.0022898994434729604,-0.0027228856396609162,0.0004459549207897223,0.004288005962352081,-0.00013954654889488104,0.00017772529829543647,-0.009362574711093502,-0.0025379738409453604,0.0017467394403830926,0.0007341181373794108,0.0008803306295040819,-0.0018348819521771867,-0.0015842250415122132,0.002355047652428194,-0.00022080361056575564,-0.021097673272292804,-0.00667326371138595,0.0007018999138726194,-0.0015773843269395727,0.0006170632194784613,0.17594040694236762,-0.0447766557957931],[-0.006842588291335856,0.004866010897475124,-0.014015590290725952,0.0008061613152963595,-0.009106632501580498,0.013087429720546115,1.0,-0.000986632647379161,-0.0016570505889462568,-0.012245575367022378,0.001731286229372109,-0.007377770947454575,0.001019065433844147,-0.0020063821639050507,0.0021646994570772484,-0.0035533675012725265,-0.009984959755663065,-0.004092121223166058,0.000589609211748868,-0.0021958273347808146,0.008634730211603159,-0.0017008984979522718,0.003458050788062192,0.005375437011175856,0.002069807897952431,-0.0004588383679030572,-0.003977219873228725,0.0013292721181321933,0.0966590937506558,-0.17329184536211342],[-0.0004903017705976319,0.0037426936559328892,0.003733210299163555,0.004996484520262582,-0.0026052875224071943,-0.012300897072017291,-0.000986632647379161,1.0,0.00016845994784137077,0.00023852276984071542,0.00516513777689509,-0.004133687695665058,-0.0013413330919203577,-0.00956838428953237,-0.002322346439935747,-0.006868307858294836,-0.006049143384273872,-0.002092119809368301,0.0008553714180542234,0.0005621589466950628,0.018805553474641173,-0.005181868541497126,0.006461216507351982,-0.0060003185594709576,-0.002826501198408363,-0.0011224898419865323,-0.00010826667669563194,0.00020087170096175894,-0.021610377555364848,0.03336438460284679],[-0.007093188184084825,0.0011157645474231576,-0.002895531047630538,0.0013954678785992494,-0.0007861995616427925,-0.0022898994434729604,-0.0016570505889462568,0.00016845994784137077,1.0,-0.004956960977232563,-0.0015831315122645196,0.0002209346491415593,-0.00025906269002485833,-0.005124874206624827,-0.004912272336986101,0.002680339994664816,-0.00048754043251912366,-0.0009567733050660407,-0.0009356707772171116,0.0006125813121428912,0.0017444713839398216,0.0007417622746537951,-0.0017392600161237801,-0.00245409131587392,-0.0003576586860807851,0.005307459170163399,0.008065890934748394,0.006486668776329345,-0.07379718375060178,-0.09458275894222144],[0.0031150804333672593,0.002764173799416153,-0.011064456582014484,0.0033663943727185205,-0.002817740725206556,-0.0027228856396609162,-0.012245575367022378,0.00023852276984071542,-0.004956960977232563,1.0,0.005211325913813474,-0.007394681979456613,0.0008896964509361607,-0.004615922267141051,0.0033660109027974254,-0.003637165067540807,-0.001840833260242387,0.0009112200184281791,0.00037902910886735216,-0.0045061722513230675,0.0023955011018211353,-0.0030120809221212243,0.0017604510466672778,0.0010149187965122583,0.002499102817601523,-0.0008588947666105397,0.011495357691487493,0.009956260833450081,-0.016495040286124203,-0.20810420388532708],[-0.005238361152132169,-0.0018084640177489534,0.003763268329471294,-0.004401812026915656,-0.0029651575403910053,0.0004459549207897223,0.001731286229372109,0.00516513777689509,-0.0015831315122645196,0.005211325913813474,1.0,0.00385697017119234,0.0013722399585871987,0.01005163759190296,-0.002381767700422723,0.0010450899175576778,0.00012728508810062997,-0.0017349245158464327,0.0020675542539910327,-0.00028967667925706693,-0.0023308194112002575,0.0008035998110590813,-0.000839046972399649,0.001583637071823603,-0.003209352198737649,-0.0020645266678813415,0.002434704351628466,0.0021758658346355294,-0.043053442634581586,0.1512604533571451],[-0.005224732658887908,0.0014801177085389955,-0.0033654032642077177,0.0005605366567563156,-0.00034277222928877837,0.004288005962352081,-0.007377770947454575,-0.004133687695665058,0.0002209346491415593,-0.007394681979456613,0.00385697017119234,1.0,0.002532314364047399,-0.004060598916457758,0.0017273304728850848,-0.007692279149879744,-0.00739453128847329,-0.000760971273410325,-0.0017433222825323118,0.0020413560807986614,0.004192083404063448,0.0029666544689706076,-0.001101063395500862,0.001695453268085826,0.0007319178597714864,-0.002010883823918505,-0.0007758604396770812,-0.00017303047803577756,-0.011033406249319196,-0.2531497949999768],[0.00017607397170227968,0.00046076961088045053,-0.0007532888104511881,0.00033240074820585676,0.0012005945355470149,-0.00013954654889488104,0.001019065433844147,-0.0013413330919203577,-0.00025906269002485833,0.0008896964509361607,0.0013722399585871987,0.002532314364047399,1.0,-0.0034795667118208144,0.0025145688423962556,-0.002209678365052753,-0.0003147036842396823,0.0008394873375494816,0.0010715570383271497,-0.0006206148356032202,0.0011005453910093365,0.00021352603227367577,0.0007110910522849325,-0.001014068186775,-0.000059110392989181814,0.0008868780941754665,-0.001451010249714255,-0.00037975057588762566,-0.006205009221444243,-0.003934245314299155],[-0.00016701663809464844,0.004771739778601284,-0.008208455227591307,0.005335596702448548,0.005174527525292075,0.00017772529829543647,-0.0020063821639050507,-0.00956838428953237,-0.005124874206624827,-0.004615922267141051,0.01005163759190296,-0.004060598916457758,-0.0034795667118208144,1.0,0.0026244836316104835,-0.003320306849979281,0.0009197230024978403,0.0014131471241992178,-0.0007510941548648426,0.0036834571970600144,0.004710627375381662,-0.004794790558038956,0.0009289389054848848,0.0003318003192948146,0.0020768168575141465,0.0014042703420475947,-0.0038284420292789647,-0.003178202426597147,0.0213827826398505,-0.2975497797564411],[-0.008538155507659316,0.0011762916062599872,0.0033238924517765703,0.0040450918954562,-0.007121994543521118,-0.009362574711093502,0.0021646994570772484,-0.002322346439935747,-0.004912272336986101,0.0033660109027974254,-0.002381767700422723,0.0017273304728850848,0.0025145688423962556,0.0026244836316104835,1.0,-0.004916780368499369,-0.0006027072808328889,-0.0008590147198242799,0.0033865340764306267,0.0003750891706897096,0.0011372992637744058,0.002579003213495879,0.0007269407316842064,-0.008460676558177546,-0.008245117506923184,0.0019241521230987785,-0.001472270018201845,0.00015627937832876182,-0.054453020963542466,-0.002823966145014306],[-0.006376158582724143,0.00264756071610664,0.0003360330653480204,0.0017826285626817528,-0.004147091486085878,-0.0025379738409453604,-0.0035533675012725265,-0.006868307858294836,0.002680339994664816,-0.003637165067540807,0.0010450899175576778,-0.007692279149879744,-0.002209678365052753,-0.003320306849979281,-0.004916780368499369,1.0,-0.010046388062466008,-0.009275590059228315,0.0024073594302017097,0.00042400545327878384,0.005267154400499287,0.003296088252852067,0.001524183611811624,-0.004436914287114801,-0.002463651216970698,-0.004494645380977467,-0.0035279778069092953,-0.0018546665914332093,-0.0972938716735071,-0.18822150581931651],[-0.001709260494715649,0.001303584059943293,-0.002813132739071354,0.0016328679540391928,-0.005421946975850287,0.0017467394403830926,-0.009984959755663065,-0.006049143384273872,-0.00048754043251912366,-0.001840833260242387,0.00012728508810062997,-0.00739453128847329,-0.0003147036842396823,0.0009197230024978403,-0.0006027072808328889,-0.010046388062466008,1.0,-0.007602083690617776,0.007939819203282796,0.001208500031945206,0.0041627237748637505,0.00054576655674988,0.0024120413459315917,0.004598973463231331,-0.003343032752915538,-0.0010902404860176484,-0.0035970763985634672,-0.0035868351644627386,0.0169227597343579,-0.31720194703317933],[-0.00003711812585137038,0.00036303790401859406,-0.003876447934607484,0.0015686647749632054,-0.0031082166092601185,0.0007341181373794108,-0.004092121223166058,-0.002092119809368301,-0.0009567733050660407,0.0009112200184281791,-0.0017349245158464327,-0.000760971273410325,0.0008394873375494816,0.0014131471241992178,-0.0008590147198242799,-0.009275590059228315,-0.007602083690617776,1.0,0.0003894537185008957,-0.0001850684271845723,0.000619427089182575,-0.004321380435269376,0.0034875147306729143,-0.0008359690508370396,-0.005230957006827706,0.003583478304060611,-0.005176455822270925,-0.0018988674568862095,0.04418650871470498,-0.10644692553080894],[-0.00036578698126053436,0.0011638151899724055,-0.0008279699688052927,0.005018282953491178,0.0003505660226590358,0.0008803306295040819,0.000589609211748868,0.0008553714180542234,-0.0009356707772171116,0.00037902910886735216,0.0020675542539910327,-0.0017433222825323118,0.0010715570383271497,-0.0007510941548648426,0.0033865340764306267,0.0024073594302017097,0.007939819203282796,0.0003894537185008957,1.0,-0.0008462799424581661,0.0008855134322267979,0.0035208642995499134,-0.00035680835693553605,-0.0014100893491833058,0.00046536756445178,0.0009070515999730584,-0.000010973789013485784,0.0008126304744584845,-0.015601526945530388,0.033784131524155284],[0.003108536048539705,-0.0003388726980984908,-0.004587224438279632,0.0011654100961732815,-0.000788075425058691,-0.0018348819521771867,-0.0021958273347808146,0.0005621589466950628,0.0006125813121428912,-0.0045061722513230675,-0.00028967667925706693,0.0020413560807986614,-0.0006206148356032202,0.0036834571970600144,0.0003750891706897096,0.00042400545327878384,0.001208500031945206,-0.0001850684271845723,-0.0008462799424581661,1.0,0.004391631543174549,-0.0023215318570963283,0.0007476054518368432,0.00013230040224708738,-1.2698991005467433e-6,-0.0003043709137929583,-0.00009623569420508109,0.0018278487908435677,0.14256805451061846,0.021349134626457347],[0.006003695030846091,-0.0038806719512786973,0.001817856278022313,-0.0006225862056653524,0.0034392276588518437,-0.0015842250415122132,0.008634730211603159,0.018805553474641173,0.0017444713839398216,0.0023955011018211353,-0.0023308194112002575,0.004192083404063448,0.0011005453910093365,0.004710627375381662,0.0011372992637744058,0.005267154400499287,0.0041627237748637505,0.000619427089182575,0.0008855134322267979,0.004391631543174549,1.0,0.001795126748550561,-0.004335795108936212,0.0029433295315660388,-0.0012993410572347867,0.0008275390972012924,-0.00552403970681532,-0.004461160639097326,0.08325734243773072,0.026239135618532434],[0.0036338595739370087,0.002908674005336367,-0.004202923672142508,0.0015809695312209936,0.002971456770964472,0.002355047652428194,-0.0017008984979522718,-0.005181868541497126,0.0007417622746537951,-0.0030120809221212243,0.0008035998110590813,0.0029666544689706076,0.00021352603227367577,-0.004794790558038956,0.002579003213495879,0.003296088252852067,0.00054576655674988,-0.004321380435269376,0.0035208642995499134,-0.0023215318570963283,0.001795126748550561,1.0,0.006160634816717974,0.004007631493735214,-0.002330756330724716,0.00430878067851104,0.0016856153718819752,0.001670335745203937,0.03546786563373512,0.0046123761747704755],[-0.007503985473868642,-0.003688629621718089,0.002183001796768641,-0.00015475367372598658,-0.0010578383026697033,-0.00022080361056575564,0.003458050788062192,0.006461216507351982,-0.0017392600161237801,0.0017604510466672778,-0.000839046972399649,-0.001101063395500862,0.0007110910522849325,0.0009289389054848848,0.0007269407316842064,0.001524183611811624,0.0024120413459315917,0.0034875147306729143,-0.00035680835693553605,0.0007476054518368432,-0.004335795108936212,0.006160634816717974,1.0,-0.0011911345613579286,0.0036245111360324873,-0.0021047329234189886,-0.0015197357777626947,-0.002719192346928559,-0.025060446233725987,-0.006206025561580571],[-0.00932677322450231,0.0019735168281252457,0.009782012846899536,0.005759384705327702,-0.012633613332769843,-0.021097673272292804,0.005375437011175856,-0.0060003185594709576,-0.00245409131587392,0.0010149187965122583,0.001583637071823603,0.001695453268085826,-0.001014068186775,0.0003318003192948146,-0.008460676558177546,-0.004436914287114801,0.004598973463231331,-0.0008359690508370396,-0.0014100893491833058,0.00013230040224708738,0.0029433295315660388,0.004007631493735214,-0.0011911345613579286,1.0,-0.007006715089922408,0.001526354548994932,-0.0013154128149647638,0.00008562142586951782,-0.004790119342803605,-0.00683106730931],[-0.0044461360182959835,-0.002836931404197434,0.004090898265090202,0.00017302609596235536,-0.004862304415897338,-0.00667326371138595,0.002069807897952431,-0.002826501198408363,-0.0003576586860807851,0.002499102817601523,-0.003209352198737649,0.0007319178597714864,-0.000059110392989181814,0.0020768168575141465,-0.008245117506923184,-0.002463651216970698,-0.003343032752915538,-0.005230957006827706,0.00046536756445178,-1.2698991005467433e-6,-0.0012993410572347867,-0.002330756330724716,0.0036245111360324873,-0.007006715089922408,1.0,0.004573576764907837,-0.001995273576245902,-0.001228179164825325,0.006831989076374179,0.003592986720025346],[-0.0024364231007038832,-0.00029605968574443963,0.0035960608038175163,-0.0011052679713744607,-0.0015684754955835533,0.0007018999138726194,-0.0004588383679030572,-0.0011224898419865323,0.005307459170163399,-0.0008588947666105397,-0.0020645266678813415,-0.002010883823918505,0.0008868780941754665,0.0014042703420475947,0.0019241521230987785,-0.004494645380977467,-0.0010902404860176484,0.003583478304060611,0.0009070515999730584,-0.0003043709137929583,0.0008275390972012924,0.00430878067851104,-0.0021047329234189886,0.001526354548994932,0.004573576764907837,1.0,-0.0009584412161369517,-0.0005696018274223026,-0.015344104977860814,0.004341289204197779],[-0.014628053567675575,0.007251624234862287,-0.008780490220863168,0.0025173272107861704,-0.006115679435719662,-0.0015773843269395727,-0.003977219873228725,-0.00010826667669563194,0.008065890934748394,0.011495357691487493,0.002434704351628466,-0.0007758604396770812,-0.001451010249714255,-0.0038284420292789647,-0.001472270018201845,-0.0035279778069092953,-0.0035970763985634672,-0.005176455822270925,-0.000010973789013485784,-0.00009623569420508109,-0.00552403970681532,0.0016856153718819752,-0.0015197357777626947,-0.0013154128149647638,-0.001995273576245902,-0.0009584412161369517,1.0,-0.014434631792927905,-0.04829631949944503,0.021888244417406024],[-0.0035550069411662876,0.001457599293897816,-0.0024539941230242663,0.000028447013289808426,-0.0007109361143902038,0.0006170632194784613,0.0013292721181321933,0.00020087170096175894,0.006486668776329345,0.009956260833450081,0.0021758658346355294,-0.00017303047803577756,-0.00037975057588762566,-0.003178202426597147,0.00015627937832876182,-0.0018546665914332093,-0.0035868351644627386,-0.0018988674568862095,0.0008126304744584845,0.0018278487908435677,-0.004461160639097326,0.001670335745203937,-0.002719192346928559,0.00008562142586951782,-0.001228179164825325,-0.0005696018274223026,-0.014434631792927905,1.0,-0.0034362894740965337,0.009642345399190363],[-0.07669206550361135,-0.45939752929646666,-0.05301909618409726,-0.0006991724135757298,-0.2852020730073674,0.17594040694236762,0.0966590937506558,-0.021610377555364848,-0.07379718375060178,-0.016495040286124203,-0.043053442634581586,-0.011033406249319196,-0.006205009221444243,0.0213827826398505,-0.054453020963542466,-0.0972938716735071,0.0169227597343579,0.04418650871470498,-0.015601526945530388,0.14256805451061846,0.08325734243773072,0.03546786563373512,-0.025060446233725987,-0.004790119342803605,0.006831989076374179,-0.015344104977860814,-0.04829631949944503,-0.0034362894740965337,1.0,-0.009151675909696401],[-0.09471828027403749,0.08475425481454273,-0.1857717436207062,0.13031328765078862,-0.08864223740340522,-0.0447766557957931,-0.17329184536211342,0.03336438460284679,-0.09458275894222144,-0.20810420388532708,0.1512604533571451,-0.2531497949999768,-0.003934245314299155,-0.2975497797564411,-0.002823966145014306,-0.18822150581931651,-0.31720194703317933,-0.10644692553080894,0.033784131524155284,0.021349134626457347,0.026239135618532434,0.0046123761747704755,-0.006206025561580571,-0.00683106730931,0.003592986720025346,0.004341289204197779,0.021888244417406024,0.009642345399190363,-0.009151675909696401,1.0]],\"type\":\"heatmap\",\"xaxis\":\"x\",\"yaxis\":\"y\",\"hovertemplate\":\"x: %{x}\\u003cbr\\u003ey: %{y}\\u003cbr\\u003ecolor: %{z}\\u003cextra\\u003e\\u003c\\u002fextra\\u003e\"}],                        {\"template\":{\"data\":{\"histogram2dcontour\":[{\"type\":\"histogram2dcontour\",\"colorbar\":{\"outlinewidth\":0,\"ticks\":\"\"},\"colorscale\":[[0.0,\"#0d0887\"],[0.1111111111111111,\"#46039f\"],[0.2222222222222222,\"#7201a8\"],[0.3333333333333333,\"#9c179e\"],[0.4444444444444444,\"#bd3786\"],[0.5555555555555556,\"#d8576b\"],[0.6666666666666666,\"#ed7953\"],[0.7777777777777778,\"#fb9f3a\"],[0.8888888888888888,\"#fdca26\"],[1.0,\"#f0f921\"]]}],\"choropleth\":[{\"type\":\"choropleth\",\"colorbar\":{\"outlinewidth\":0,\"ticks\":\"\"}}],\"histogram2d\":[{\"type\":\"histogram2d\",\"colorbar\":{\"outlinewidth\":0,\"ticks\":\"\"},\"colorscale\":[[0.0,\"#0d0887\"],[0.1111111111111111,\"#46039f\"],[0.2222222222222222,\"#7201a8\"],[0.3333333333333333,\"#9c179e\"],[0.4444444444444444,\"#bd3786\"],[0.5555555555555556,\"#d8576b\"],[0.6666666666666666,\"#ed7953\"],[0.7777777777777778,\"#fb9f3a\"],[0.8888888888888888,\"#fdca26\"],[1.0,\"#f0f921\"]]}],\"heatmap\":[{\"type\":\"heatmap\",\"colorbar\":{\"outlinewidth\":0,\"ticks\":\"\"},\"colorscale\":[[0.0,\"#0d0887\"],[0.1111111111111111,\"#46039f\"],[0.2222222222222222,\"#7201a8\"],[0.3333333333333333,\"#9c179e\"],[0.4444444444444444,\"#bd3786\"],[0.5555555555555556,\"#d8576b\"],[0.6666666666666666,\"#ed7953\"],[0.7777777777777778,\"#fb9f3a\"],[0.8888888888888888,\"#fdca26\"],[1.0,\"#f0f921\"]]}],\"heatmapgl\":[{\"type\":\"heatmapgl\",\"colorbar\":{\"outlinewidth\":0,\"ticks\":\"\"},\"colorscale\":[[0.0,\"#0d0887\"],[0.1111111111111111,\"#46039f\"],[0.2222222222222222,\"#7201a8\"],[0.3333333333333333,\"#9c179e\"],[0.4444444444444444,\"#bd3786\"],[0.5555555555555556,\"#d8576b\"],[0.6666666666666666,\"#ed7953\"],[0.7777777777777778,\"#fb9f3a\"],[0.8888888888888888,\"#fdca26\"],[1.0,\"#f0f921\"]]}],\"contourcarpet\":[{\"type\":\"contourcarpet\",\"colorbar\":{\"outlinewidth\":0,\"ticks\":\"\"}}],\"contour\":[{\"type\":\"contour\",\"colorbar\":{\"outlinewidth\":0,\"ticks\":\"\"},\"colorscale\":[[0.0,\"#0d0887\"],[0.1111111111111111,\"#46039f\"],[0.2222222222222222,\"#7201a8\"],[0.3333333333333333,\"#9c179e\"],[0.4444444444444444,\"#bd3786\"],[0.5555555555555556,\"#d8576b\"],[0.6666666666666666,\"#ed7953\"],[0.7777777777777778,\"#fb9f3a\"],[0.8888888888888888,\"#fdca26\"],[1.0,\"#f0f921\"]]}],\"surface\":[{\"type\":\"surface\",\"colorbar\":{\"outlinewidth\":0,\"ticks\":\"\"},\"colorscale\":[[0.0,\"#0d0887\"],[0.1111111111111111,\"#46039f\"],[0.2222222222222222,\"#7201a8\"],[0.3333333333333333,\"#9c179e\"],[0.4444444444444444,\"#bd3786\"],[0.5555555555555556,\"#d8576b\"],[0.6666666666666666,\"#ed7953\"],[0.7777777777777778,\"#fb9f3a\"],[0.8888888888888888,\"#fdca26\"],[1.0,\"#f0f921\"]]}],\"mesh3d\":[{\"type\":\"mesh3d\",\"colorbar\":{\"outlinewidth\":0,\"ticks\":\"\"}}],\"scatter\":[{\"fillpattern\":{\"fillmode\":\"overlay\",\"size\":10,\"solidity\":0.2},\"type\":\"scatter\"}],\"parcoords\":[{\"type\":\"parcoords\",\"line\":{\"colorbar\":{\"outlinewidth\":0,\"ticks\":\"\"}}}],\"scatterpolargl\":[{\"type\":\"scatterpolargl\",\"marker\":{\"colorbar\":{\"outlinewidth\":0,\"ticks\":\"\"}}}],\"bar\":[{\"error_x\":{\"color\":\"#2a3f5f\"},\"error_y\":{\"color\":\"#2a3f5f\"},\"marker\":{\"line\":{\"color\":\"#E5ECF6\",\"width\":0.5},\"pattern\":{\"fillmode\":\"overlay\",\"size\":10,\"solidity\":0.2}},\"type\":\"bar\"}],\"scattergeo\":[{\"type\":\"scattergeo\",\"marker\":{\"colorbar\":{\"outlinewidth\":0,\"ticks\":\"\"}}}],\"scatterpolar\":[{\"type\":\"scatterpolar\",\"marker\":{\"colorbar\":{\"outlinewidth\":0,\"ticks\":\"\"}}}],\"histogram\":[{\"marker\":{\"pattern\":{\"fillmode\":\"overlay\",\"size\":10,\"solidity\":0.2}},\"type\":\"histogram\"}],\"scattergl\":[{\"type\":\"scattergl\",\"marker\":{\"colorbar\":{\"outlinewidth\":0,\"ticks\":\"\"}}}],\"scatter3d\":[{\"type\":\"scatter3d\",\"line\":{\"colorbar\":{\"outlinewidth\":0,\"ticks\":\"\"}},\"marker\":{\"colorbar\":{\"outlinewidth\":0,\"ticks\":\"\"}}}],\"scattermapbox\":[{\"type\":\"scattermapbox\",\"marker\":{\"colorbar\":{\"outlinewidth\":0,\"ticks\":\"\"}}}],\"scatterternary\":[{\"type\":\"scatterternary\",\"marker\":{\"colorbar\":{\"outlinewidth\":0,\"ticks\":\"\"}}}],\"scattercarpet\":[{\"type\":\"scattercarpet\",\"marker\":{\"colorbar\":{\"outlinewidth\":0,\"ticks\":\"\"}}}],\"carpet\":[{\"aaxis\":{\"endlinecolor\":\"#2a3f5f\",\"gridcolor\":\"white\",\"linecolor\":\"white\",\"minorgridcolor\":\"white\",\"startlinecolor\":\"#2a3f5f\"},\"baxis\":{\"endlinecolor\":\"#2a3f5f\",\"gridcolor\":\"white\",\"linecolor\":\"white\",\"minorgridcolor\":\"white\",\"startlinecolor\":\"#2a3f5f\"},\"type\":\"carpet\"}],\"table\":[{\"cells\":{\"fill\":{\"color\":\"#EBF0F8\"},\"line\":{\"color\":\"white\"}},\"header\":{\"fill\":{\"color\":\"#C8D4E3\"},\"line\":{\"color\":\"white\"}},\"type\":\"table\"}],\"barpolar\":[{\"marker\":{\"line\":{\"color\":\"#E5ECF6\",\"width\":0.5},\"pattern\":{\"fillmode\":\"overlay\",\"size\":10,\"solidity\":0.2}},\"type\":\"barpolar\"}],\"pie\":[{\"automargin\":true,\"type\":\"pie\"}]},\"layout\":{\"autotypenumbers\":\"strict\",\"colorway\":[\"#636efa\",\"#EF553B\",\"#00cc96\",\"#ab63fa\",\"#FFA15A\",\"#19d3f3\",\"#FF6692\",\"#B6E880\",\"#FF97FF\",\"#FECB52\"],\"font\":{\"color\":\"#2a3f5f\"},\"hovermode\":\"closest\",\"hoverlabel\":{\"align\":\"left\"},\"paper_bgcolor\":\"white\",\"plot_bgcolor\":\"#E5ECF6\",\"polar\":{\"bgcolor\":\"#E5ECF6\",\"angularaxis\":{\"gridcolor\":\"white\",\"linecolor\":\"white\",\"ticks\":\"\"},\"radialaxis\":{\"gridcolor\":\"white\",\"linecolor\":\"white\",\"ticks\":\"\"}},\"ternary\":{\"bgcolor\":\"#E5ECF6\",\"aaxis\":{\"gridcolor\":\"white\",\"linecolor\":\"white\",\"ticks\":\"\"},\"baxis\":{\"gridcolor\":\"white\",\"linecolor\":\"white\",\"ticks\":\"\"},\"caxis\":{\"gridcolor\":\"white\",\"linecolor\":\"white\",\"ticks\":\"\"}},\"coloraxis\":{\"colorbar\":{\"outlinewidth\":0,\"ticks\":\"\"}},\"colorscale\":{\"sequential\":[[0.0,\"#0d0887\"],[0.1111111111111111,\"#46039f\"],[0.2222222222222222,\"#7201a8\"],[0.3333333333333333,\"#9c179e\"],[0.4444444444444444,\"#bd3786\"],[0.5555555555555556,\"#d8576b\"],[0.6666666666666666,\"#ed7953\"],[0.7777777777777778,\"#fb9f3a\"],[0.8888888888888888,\"#fdca26\"],[1.0,\"#f0f921\"]],\"sequentialminus\":[[0.0,\"#0d0887\"],[0.1111111111111111,\"#46039f\"],[0.2222222222222222,\"#7201a8\"],[0.3333333333333333,\"#9c179e\"],[0.4444444444444444,\"#bd3786\"],[0.5555555555555556,\"#d8576b\"],[0.6666666666666666,\"#ed7953\"],[0.7777777777777778,\"#fb9f3a\"],[0.8888888888888888,\"#fdca26\"],[1.0,\"#f0f921\"]],\"diverging\":[[0,\"#8e0152\"],[0.1,\"#c51b7d\"],[0.2,\"#de77ae\"],[0.3,\"#f1b6da\"],[0.4,\"#fde0ef\"],[0.5,\"#f7f7f7\"],[0.6,\"#e6f5d0\"],[0.7,\"#b8e186\"],[0.8,\"#7fbc41\"],[0.9,\"#4d9221\"],[1,\"#276419\"]]},\"xaxis\":{\"gridcolor\":\"white\",\"linecolor\":\"white\",\"ticks\":\"\",\"title\":{\"standoff\":15},\"zerolinecolor\":\"white\",\"automargin\":true,\"zerolinewidth\":2},\"yaxis\":{\"gridcolor\":\"white\",\"linecolor\":\"white\",\"ticks\":\"\",\"title\":{\"standoff\":15},\"zerolinecolor\":\"white\",\"automargin\":true,\"zerolinewidth\":2},\"scene\":{\"xaxis\":{\"backgroundcolor\":\"#E5ECF6\",\"gridcolor\":\"white\",\"linecolor\":\"white\",\"showbackground\":true,\"ticks\":\"\",\"zerolinecolor\":\"white\",\"gridwidth\":2},\"yaxis\":{\"backgroundcolor\":\"#E5ECF6\",\"gridcolor\":\"white\",\"linecolor\":\"white\",\"showbackground\":true,\"ticks\":\"\",\"zerolinecolor\":\"white\",\"gridwidth\":2},\"zaxis\":{\"backgroundcolor\":\"#E5ECF6\",\"gridcolor\":\"white\",\"linecolor\":\"white\",\"showbackground\":true,\"ticks\":\"\",\"zerolinecolor\":\"white\",\"gridwidth\":2}},\"shapedefaults\":{\"line\":{\"color\":\"#2a3f5f\"}},\"annotationdefaults\":{\"arrowcolor\":\"#2a3f5f\",\"arrowhead\":0,\"arrowwidth\":1},\"geo\":{\"bgcolor\":\"white\",\"landcolor\":\"#E5ECF6\",\"subunitcolor\":\"white\",\"showland\":true,\"showlakes\":true,\"lakecolor\":\"white\"},\"title\":{\"x\":0.05},\"mapbox\":{\"style\":\"light\"}}},\"xaxis\":{\"anchor\":\"y\",\"domain\":[0.0,1.0]},\"yaxis\":{\"anchor\":\"x\",\"domain\":[0.0,1.0],\"autorange\":\"reversed\"},\"coloraxis\":{\"colorscale\":[[0.0,\"rgb(5,48,97)\"],[0.1,\"rgb(33,102,172)\"],[0.2,\"rgb(67,147,195)\"],[0.3,\"rgb(146,197,222)\"],[0.4,\"rgb(209,229,240)\"],[0.5,\"rgb(247,247,247)\"],[0.6,\"rgb(253,219,199)\"],[0.7,\"rgb(244,165,130)\"],[0.8,\"rgb(214,96,77)\"],[0.9,\"rgb(178,24,43)\"],[1.0,\"rgb(103,0,31)\"]]},\"margin\":{\"t\":60}},                        {\"responsive\": true}                    ).then(function(){\n",
              "                            \n",
              "var gd = document.getElementById('3801139c-b78d-4a62-ba4d-180782bbf032');\n",
              "var x = new MutationObserver(function (mutations, observer) {{\n",
              "        var display = window.getComputedStyle(gd).display;\n",
              "        if (!display || display === 'none') {{\n",
              "            console.log([gd, 'removed!']);\n",
              "            Plotly.purge(gd);\n",
              "            observer.disconnect();\n",
              "        }}\n",
              "}});\n",
              "\n",
              "// Listen for the removal of the full notebook cells\n",
              "var notebookContainer = gd.closest('#notebook-container');\n",
              "if (notebookContainer) {{\n",
              "    x.observe(notebookContainer, {childList: true});\n",
              "}}\n",
              "\n",
              "// Listen for the clearing of the current output cell\n",
              "var outputEl = gd.closest('.output');\n",
              "if (outputEl) {{\n",
              "    x.observe(outputEl, {childList: true});\n",
              "}}\n",
              "\n",
              "                        })                };                            </script>        </div>\n",
              "</body>\n",
              "</html>"
            ]
          },
          "metadata": {}
        }
      ],
      "source": [
        "corr = df.corr()\n",
        "fig=px.imshow(corr, aspect=\"auto\" ,color_continuous_scale='RdBu_r')\n",
        "fig.show()"
      ]
    },
    {
      "cell_type": "code",
      "execution_count": null,
      "id": "3c160557",
      "metadata": {
        "colab": {
          "base_uri": "https://localhost:8080/",
          "height": 542
        },
        "id": "3c160557",
        "outputId": "b2b7c4af-4ecb-4a1b-d72b-c5f0699d2e2c"
      },
      "outputs": [
        {
          "output_type": "display_data",
          "data": {
            "text/html": [
              "<html>\n",
              "<head><meta charset=\"utf-8\" /></head>\n",
              "<body>\n",
              "    <div>            <script src=\"https://cdnjs.cloudflare.com/ajax/libs/mathjax/2.7.5/MathJax.js?config=TeX-AMS-MML_SVG\"></script><script type=\"text/javascript\">if (window.MathJax && window.MathJax.Hub && window.MathJax.Hub.Config) {window.MathJax.Hub.Config({SVG: {font: \"STIX-Web\"}});}</script>                <script type=\"text/javascript\">window.PlotlyConfig = {MathJaxConfig: 'local'};</script>\n",
              "        <script charset=\"utf-8\" src=\"https://cdn.plot.ly/plotly-2.35.2.min.js\"></script>                <div id=\"cd17d3dd-a901-497b-ae90-919813bda493\" class=\"plotly-graph-div\" style=\"height:525px; width:100%;\"></div>            <script type=\"text/javascript\">                                    window.PLOTLYENV=window.PLOTLYENV || {};                                    if (document.getElementById(\"cd17d3dd-a901-497b-ae90-919813bda493\")) {                    Plotly.newPlot(                        \"cd17d3dd-a901-497b-ae90-919813bda493\",                        [{\"coloraxis\":\"coloraxis\",\"name\":\"0\",\"x\":[\"V1\",\"V2\",\"V3\",\"V4\",\"V5\",\"V6\",\"V7\",\"V8\",\"V9\",\"V10\",\"V11\",\"V12\",\"V13\",\"V14\",\"V15\",\"V16\",\"V17\",\"V18\",\"V19\",\"V20\",\"V21\",\"V22\",\"V23\",\"V24\",\"V25\",\"V26\",\"V27\",\"V28\",\"Amount\",\"Class\"],\"y\":[\"V1\",\"V2\",\"V3\",\"V4\",\"V5\",\"V6\",\"V7\",\"V8\",\"V9\",\"V10\",\"V11\",\"V12\",\"V13\",\"V14\",\"V15\",\"V16\",\"V17\",\"V18\",\"V19\",\"V20\",\"V21\",\"V22\",\"V23\",\"V24\",\"V25\",\"V26\",\"V27\",\"V28\",\"Amount\",\"Class\"],\"z\":[[1.0,-0.770743921335793,0.8728586310103094,-0.6185790238718684,0.8555406638537133,0.3648145111470738,0.8759227130514967,-0.23620938832874533,0.6709978817574447,0.7441198908714441,-0.5284671408080779,0.6002163445803304,-0.08945351499057067,0.4501021510703996,0.09312429813699737,0.6371407010054424,0.6845752970435701,0.6756131303106815,-0.31877991142768103,-0.3665135687910892,0.11293595632735963,-0.0962454035866158,0.007634439155552568,-0.08713892594524965,-0.0821088069780943,0.00821097391234309,0.1067257161394334,0.1817793828452585,-0.05572997845316703,-0.4347375514812531],[-0.770743921335793,1.0,-0.8523591431506935,0.6815232896677473,-0.7835421066327645,-0.34000852834173245,-0.8259928664584101,0.15052591213107608,-0.7264922215599242,-0.7773569034223349,0.6262584172831275,-0.6849667777523415,0.07212258376963722,-0.5799659561484279,-0.14190060243639915,-0.6323600449873568,-0.6485447139760917,-0.6197103158222397,0.23166969598774767,0.33700811294678396,-0.11681748193995199,0.09452530232399263,0.07815005377469617,-0.02947057260279653,0.12362626731613684,0.05628470551538593,-0.0911070580243083,0.041070914878119376,-0.24382214945507238,0.4983094762266412],[0.8728586310103094,-0.8523591431506935,1.0,-0.7647262752417019,0.8400573407007607,0.49355458007299113,0.8842974187353837,-0.29309652616355764,0.7673408233282715,0.8517802315527719,-0.720361315025718,0.7585767545469716,-0.08506157760464518,0.6625633315281367,0.10768880653492591,0.723083113800999,0.7363617628276855,0.6976319678407418,-0.3217821439663446,-0.3978735802134044,0.06972292342799814,-0.07941698941388182,0.005485172190071508,0.048298875644614284,-0.09402503361419698,-0.06396706534795032,-0.0014540585544988434,0.09919033903379887,0.04803005887582349,-0.5669528038817403],[-0.6185790238718684,0.6815232896677473,-0.7647262752417019,1.0,-0.5603125990603831,-0.4387985695755585,-0.7195314086983764,0.14653798407738078,-0.7872471565948446,-0.7901880068452463,0.7861388860117068,-0.8329751557309112,0.06809223227794126,-0.7932900349233087,-0.11313198163801348,-0.7144611990893972,-0.6984067194291901,-0.6261934442130256,0.2951111720571187,0.3387982211466857,-0.04537899723084483,0.1435213046986946,0.010231042548731327,-0.09585558280171509,-0.035661632582414296,0.1858838948553768,0.050822654038507456,-0.047235112946986894,-0.18574904912150175,0.7008877399351876],[0.8555406638537133,-0.7835421066327645,0.8400573407007607,-0.5603125990603831,1.0,0.3013707818543867,0.8346095832924185,-0.31706863905210697,0.6480540309583992,0.7433226861169207,-0.5203530097051977,0.6059080534417984,-0.1319026656278991,0.4270768098465738,0.06538829437537996,0.6862981197378497,0.7426272725491404,0.7406627529855956,-0.4075855144021237,-0.3387860321147715,0.08475645043406535,-0.11373433570698062,-0.07187771799165234,-0.1276563445796619,-0.09369201563044893,0.033503752417026404,0.10491325127901487,0.14164995769321556,-0.1623764172608534,-0.36143996265276085],[0.3648145111470738,-0.34000852834173245,0.49355458007299113,-0.4387985695755585,0.3013707818543867,1.0,0.3551072901774578,-0.5195922957699021,0.3701060065683955,0.4445592636478098,-0.5234543456169176,0.5020105135097467,-0.0746282384613893,0.5570075932268045,-0.08608602261169677,0.4529569087982363,0.42856302044927475,0.36611385672468044,-0.20718846848970365,-0.06962476605597828,-0.2276402710887656,0.17569165553209334,0.26436251125092997,0.04217237752561267,-0.16770101616082367,-0.0375320031066622,-0.22997582284736198,-0.08215393518241511,0.19257307271072807,-0.4304948353136001],[0.8759227130514967,-0.8259928664584101,0.8842974187353837,-0.7195314086983764,0.8346095832924185,0.3551072901774578,1.0,-0.05910018258637701,0.7780206734246162,0.8745335585235989,-0.647111621772781,0.7302899881303864,-0.06042734110596585,0.5524579730357124,0.14534290445624973,0.7522523774372164,0.7842722498779263,0.7677195323083885,-0.3744918572042978,-0.45773369004658404,0.20800281949296742,-0.23579364023451346,-0.021203790881506458,-0.04338885125931999,0.046417704359748096,-0.0349465147092865,0.15576122559895322,0.14093553901779332,0.1247334409187131,-0.4763779043343184],[-0.23620938832874533,0.15052591213107608,-0.29309652616355764,0.14653798407738078,-0.31706863905210697,-0.5195922957699021,-0.05910018258637701,1.0,-0.09645032593294486,-0.10774763133257557,0.24782384483150946,-0.21275201770337446,0.2347978851695774,-0.27269445989303,0.15256554286964222,-0.26705867700603636,-0.29295508832526407,-0.2637501574260547,0.23128238157667452,-0.18662288319622192,0.4192004661213076,-0.3689479920354805,-0.3119410135866478,0.04772924910690763,0.29661596124169726,0.023738854325322883,0.4104521240362248,0.0720754261005055,0.14208286994013233,0.11983377307593905],[0.6709978817574447,-0.7264922215599242,0.7673408233282715,-0.7872471565948446,0.6480540309583992,0.3701060065683955,0.7780206734246162,-0.09645032593294486,1.0,0.8450532899316415,-0.708717341257784,0.7755386394262782,-0.03727195350154151,0.6922276531437463,0.10255859472687277,0.7403022235844414,0.7634148272112076,0.7170007548930388,-0.32383762245812664,-0.40450183465061823,0.17335467320134942,-0.23700058124031476,-0.06288296953566706,0.042011988837544104,-0.004009924204502881,-0.1692635672592214,0.05108548439160511,0.10269877024121794,0.13651565177572061,-0.5583228662455474],[0.7441198908714441,-0.7773569034223349,0.8517802315527719,-0.7901880068452463,0.7433226861169207,0.4445592636478098,0.8745335585235989,-0.10774763133257557,0.8450532899316415,1.0,-0.8119254449514733,0.8880261949388851,-0.05998475445722147,0.7747178142866047,0.12013621917122078,0.8627239695235617,0.8612405129098628,0.802785246759653,-0.41283627275745916,-0.41982057317141935,0.12192164049578662,-0.24650677509542943,-0.032984375960975476,0.030751231693872436,0.008522700718896216,-0.08283027585131504,0.05414682013496464,0.10016937097842424,0.12240727111448682,-0.6308525842921171],[-0.5284671408080779,0.6262584172831275,-0.720361315025718,0.7861388860117068,-0.5203530097051977,-0.5234543456169176,-0.647111621772781,0.24782384483150946,-0.708717341257784,-0.8119254449514733,1.0,-0.8978420240922299,0.0694765265946645,-0.8899295816286692,-0.05814994702280017,-0.801399210848288,-0.7668379558823527,-0.6686484657479349,0.3835182340526195,0.22325692748727313,0.13670120791963375,0.052918653421759575,-0.053106869611853104,-0.13002803245685804,0.013753931590850749,0.18763448349527329,0.23109662150144336,0.03536513103146195,-0.17976084248716687,0.6822939871849207],[0.6002163445803304,-0.6849667777523415,0.7585767545469716,-0.8329751557309112,0.6059080534417984,0.5020105135097467,0.7302899881303864,-0.21275201770337446,0.7755386394262782,0.8880261949388851,-0.8978420240922299,1.0,-0.09444403480937916,0.8827188674702128,0.07990278246006202,0.8939595037935387,0.8693545468576376,0.7937616272739589,-0.4279154612347972,-0.24488756577782683,-0.08976436058240106,-0.1313817720727197,0.018829561333211176,0.05856376055461203,0.044543523570265385,-0.15215891127139983,-0.09152637702139342,-0.019372625492383385,0.14259008293338638,-0.6818966359948095],[-0.08945351499057067,0.07212258376963722,-0.08506157760464518,0.06809223227794126,-0.1319026656278991,-0.0746282384613893,-0.06042734110596585,0.2347978851695774,-0.03727195350154151,-0.05998475445722147,0.0694765265946645,-0.09444403480937916,1.0,-0.029312399272620145,-0.03739382511020533,-0.1294658724893647,-0.14126496937085062,-0.14553130638108716,0.12417463826373719,-0.07102362286928282,0.10942603993973096,-0.0502386629243604,-0.04419933930276498,0.04909380196451506,-0.017921440657039173,0.05192810302688765,0.058359496826190446,-0.10888512327681013,0.060769045664910454,-0.039424317505416404],[0.4501021510703996,-0.5799659561484279,0.6625633315281367,-0.7932900349233087,0.4270768098465738,0.5570075932268045,0.5524579730357124,-0.27269445989303,0.6922276531437463,0.7747178142866047,-0.8899295816286692,0.8827188674702128,-0.029312399272620145,1.0,-0.001409118274429761,0.7686195261657673,0.7245195307562928,0.6126451864589972,-0.34507941806203546,-0.16005058602283892,-0.2260660024975961,0.023778586058275385,0.04331172703059608,0.15860800817415097,-0.06053119438053441,-0.20530907339969057,-0.2422113144364148,-0.13813251994832706,0.19988773343118008,-0.7495567247220065],[0.09312429813699737,-0.14190060243639915,0.10768880653492591,-0.11313198163801348,0.06538829437537996,-0.08608602261169677,0.14534290445624973,0.15256554286964222,0.10255859472687277,0.12013621917122078,-0.05814994702280017,0.07990278246006202,-0.03739382511020533,-0.001409118274429761,1.0,-0.0055413113171451775,0.023556248461331593,0.010392395401943151,0.19699486049143675,-0.10951708091545105,0.19145116187032243,-0.07514365285118349,-0.06705308390347672,0.015385150894024676,-0.019738891736460294,0.06282778610638999,0.13635435520969955,0.07383399685268041,0.0662778726493671,-0.020477063815102937],[0.6371407010054424,-0.6323600449873568,0.723083113800999,-0.7144611990893972,0.6862981197378497,0.4529569087982363,0.7522523774372164,-0.26705867700603636,0.7403022235844414,0.8627239695235617,-0.801399210848288,0.8939595037935387,-0.1294658724893647,0.7686195261657673,-0.0055413113171451775,1.0,0.9514811647972193,0.898135615843469,-0.6075109796030305,-0.2246540614522944,-0.13163667547347283,-0.15995175824435445,0.02542845925734108,-0.03130555785552475,0.07132841938482562,-0.08533774915028956,-0.0733463578898725,0.004215716310589744,0.007508083708434558,-0.5854144868137098],[0.6845752970435701,-0.6485447139760917,0.7363617628276855,-0.6984067194291901,0.7426272725491404,0.42856302044927475,0.7842722498779263,-0.29295508832526407,0.7634148272112076,0.8612405129098628,-0.7668379558823527,0.8693545468576376,-0.14126496937085062,0.7245195307562928,0.023556248461331593,0.9514811647972193,1.0,0.938040758392838,-0.5794935600009077,-0.23616525400872806,-0.10576297096416101,-0.1548993117495422,0.030536535669335747,-0.06156361824226565,0.04768623894088975,-0.07048581617894577,-0.04933452913034169,0.03970673141032914,-0.014555274125411657,-0.5501022775491844],[0.6756131303106815,-0.6197103158222397,0.6976319678407418,-0.6261934442130256,0.7406627529855956,0.36611385672468044,0.7677195323083885,-0.2637501574260547,0.7170007548930388,0.802785246759653,-0.6686484657479349,0.7937616272739589,-0.14553130638108716,0.6126451864589972,0.010392395401943151,0.898135615843469,0.938040758392838,1.0,-0.5572294758897657,-0.21729519577847575,-0.072840264854394,-0.17513252416346983,0.04679804553979454,-0.09269588989695689,0.07339801682855532,-0.061771393055018234,0.0009562191336235069,0.08621900520874703,-0.02269388016682314,-0.45616294748032493],[-0.31877991142768103,0.23166969598774767,-0.3217821439663446,0.2951111720571187,-0.4075855144021237,-0.20718846848970365,-0.3744918572042978,0.23128238157667452,-0.32383762245812664,-0.41283627275745916,0.3835182340526195,-0.4279154612347972,0.12417463826373719,-0.34507941806203546,0.19699486049143675,-0.6075109796030305,-0.5794935600009077,-0.5572294758897657,1.0,0.08891891964945352,0.15435671505200738,0.1391906993099207,0.017264552573008518,0.1146293366445284,-0.16616294930288844,0.08070898498660845,0.053673767244562694,-0.03384571372859334,0.13161673898381304,0.2607702979402646],[-0.3665135687910892,0.33700811294678396,-0.3978735802134044,0.3387982211466857,-0.3387860321147715,-0.06962476605597828,-0.45773369004658404,-0.18662288319622192,-0.40450183465061823,-0.41982057317141935,0.22325692748727313,-0.24488756577782683,-0.07102362286928282,-0.16005058602283892,-0.10951708091545105,-0.2246540614522944,-0.23616525400872806,-0.21729519577847575,0.08891891964945352,1.0,-0.4805470283403798,0.3255362764702707,0.17713887055449182,-0.029941860156110334,0.025732550808352402,0.032252030829864255,-0.11447300126167737,0.08975420984295684,0.00473846981021946,0.20021165702474156],[0.11293595632735963,-0.11681748193995199,0.06972292342799814,-0.04537899723084483,0.08475645043406535,-0.2276402710887656,0.20800281949296742,0.4192004661213076,0.17335467320134942,0.12192164049578662,0.13670120791963375,-0.08976436058240106,0.10942603993973096,-0.2260660024975961,0.19145116187032243,-0.13163667547347283,-0.10576297096416101,-0.072840264854394,0.15435671505200738,-0.4805470283403798,1.0,-0.5891906445987132,-0.15013486459520226,0.02011836161204223,0.14360828811420623,0.03522442074367428,0.4015042692796569,0.26476613644494024,0.10928975570251909,0.11944416296780945],[-0.0962454035866158,0.09452530232399263,-0.07941698941388182,0.1435213046986946,-0.11373433570698062,0.17569165553209334,-0.23579364023451346,-0.3689479920354805,-0.23700058124031476,-0.24650677509542943,0.052918653421759575,-0.1313817720727197,-0.0502386629243604,0.023778586058275385,-0.07514365285118349,-0.15995175824435445,-0.1548993117495422,-0.17513252416346983,0.1391906993099207,0.3255362764702707,-0.5891906445987132,1.0,0.2314680529309312,0.06618441370075247,-0.264292504560479,0.004982080440782971,-0.3468532116438771,-0.1994140145248463,-0.03172296063007448,0.04798626584620152],[0.007634439155552568,0.07815005377469617,0.005485172190071508,0.010231042548731327,-0.07187771799165234,0.26436251125092997,-0.021203790881506458,-0.3119410135866478,-0.06288296953566706,-0.032984375960975476,-0.053106869611853104,0.018829561333211176,-0.04419933930276498,0.04331172703059608,-0.06705308390347672,0.02542845925734108,0.030536535669335747,0.04679804553979454,0.017264552573008518,0.17713887055449182,-0.15013486459520226,0.2314680529309312,1.0,-0.003341051208124164,0.055172114093116856,0.04226521134345295,-0.2343456401156057,0.011739565769709068,-0.05274144633437433,-0.04814445139089456],[-0.08713892594524965,-0.02947057260279653,0.048298875644614284,-0.09585558280171509,-0.1276563445796619,0.04217237752561267,-0.04338885125931999,0.04772924910690763,0.042011988837544104,0.030751231693872436,-0.13002803245685804,0.05856376055461203,0.04909380196451506,0.15860800817415097,0.015385150894024676,-0.03130555785552475,-0.06156361824226565,-0.09269588989695689,0.1146293366445284,-0.029941860156110334,0.02011836161204223,0.06618441370075247,-0.003341051208124164,1.0,-0.05589336459331539,-0.11739559606650565,-0.18361264810360176,-0.011278476472252358,0.1309953207439473,-0.10713532798402327],[-0.0821088069780943,0.12362626731613684,-0.09402503361419698,-0.035661632582414296,-0.09369201563044893,-0.16770101616082367,0.046417704359748096,0.29661596124169726,-0.004009924204502881,0.008522700718896216,0.013753931590850749,0.044543523570265385,-0.017921440657039173,-0.06053119438053441,-0.019738891736460294,0.07132841938482562,0.04768623894088975,0.07339801682855532,-0.16616294930288844,0.025732550808352402,0.14360828811420623,-0.264292504560479,0.055172114093116856,-0.05589336459331539,1.0,0.05264256440444761,0.18537822788020644,0.15732807036124674,-0.044759266195204574,0.009588372604384726],[0.00821097391234309,0.05628470551538593,-0.06396706534795032,0.1858838948553768,0.033503752417026404,-0.0375320031066622,-0.0349465147092865,0.023738854325322883,-0.1692635672592214,-0.08283027585131504,0.18763448349527329,-0.15215891127139983,0.05192810302688765,-0.20530907339969057,0.06282778610638999,-0.08533774915028956,-0.07048581617894577,-0.061771393055018234,0.08070898498660845,0.032252030829864255,0.03522442074367428,0.004982080440782971,0.04226521134345295,-0.11739559606650565,0.05264256440444761,1.0,0.1390670581922129,0.016215102120573893,-0.14545274055804777,0.10478759901857312],[0.1067257161394334,-0.0911070580243083,-0.0014540585544988434,0.050822654038507456,0.10491325127901487,-0.22997582284736198,0.15576122559895322,0.4104521240362248,0.05108548439160511,0.05414682013496464,0.23109662150144336,-0.09152637702139342,0.058359496826190446,-0.2422113144364148,0.13635435520969955,-0.0733463578898725,-0.04933452913034169,0.0009562191336235069,0.053673767244562694,-0.11447300126167737,0.4015042692796569,-0.3468532116438771,-0.2343456401156057,-0.18361264810360176,0.18537822788020644,0.1390670581922129,1.0,0.1962226721914284,0.02843224051059207,0.11588791364760968],[0.1817793828452585,0.041070914878119376,0.09919033903379887,-0.047235112946986894,0.14164995769321556,-0.08215393518241511,0.14093553901779332,0.0720754261005055,0.10269877024121794,0.10016937097842424,0.03536513103146195,-0.019372625492383385,-0.10888512327681013,-0.13813251994832706,0.07383399685268041,0.004215716310589744,0.03970673141032914,0.08621900520874703,-0.03384571372859334,0.08975420984295684,0.26476613644494024,-0.1994140145248463,0.011739565769709068,-0.011278476472252358,0.15732807036124674,0.016215102120573893,0.1962226721914284,1.0,-0.10832312949635339,0.09988327815745393],[-0.05572997845316703,-0.24382214945507238,0.04803005887582349,-0.18574904912150175,-0.1623764172608534,0.19257307271072807,0.1247334409187131,0.14208286994013233,0.13651565177572061,0.12240727111448682,-0.17976084248716687,0.14259008293338638,0.060769045664910454,0.19988773343118008,0.0662778726493671,0.007508083708434558,-0.014555274125411657,-0.02269388016682314,0.13161673898381304,0.00473846981021946,0.10928975570251909,-0.03172296063007448,-0.05274144633437433,0.1309953207439473,-0.044759266195204574,-0.14545274055804777,0.02843224051059207,-0.10832312949635339,1.0,-0.12623716410824315],[-0.4347375514812531,0.4983094762266412,-0.5669528038817403,0.7008877399351876,-0.36143996265276085,-0.4304948353136001,-0.4763779043343184,0.11983377307593905,-0.5583228662455474,-0.6308525842921171,0.6822939871849207,-0.6818966359948095,-0.039424317505416404,-0.7495567247220065,-0.020477063815102937,-0.5854144868137098,-0.5501022775491844,-0.45616294748032493,0.2607702979402646,0.20021165702474156,0.11944416296780945,0.04798626584620152,-0.04814445139089456,-0.10713532798402327,0.009588372604384726,0.10478759901857312,0.11588791364760968,0.09988327815745393,-0.12623716410824315,1.0]],\"type\":\"heatmap\",\"xaxis\":\"x\",\"yaxis\":\"y\",\"hovertemplate\":\"x: %{x}\\u003cbr\\u003ey: %{y}\\u003cbr\\u003ecolor: %{z}\\u003cextra\\u003e\\u003c\\u002fextra\\u003e\"}],                        {\"template\":{\"data\":{\"histogram2dcontour\":[{\"type\":\"histogram2dcontour\",\"colorbar\":{\"outlinewidth\":0,\"ticks\":\"\"},\"colorscale\":[[0.0,\"#0d0887\"],[0.1111111111111111,\"#46039f\"],[0.2222222222222222,\"#7201a8\"],[0.3333333333333333,\"#9c179e\"],[0.4444444444444444,\"#bd3786\"],[0.5555555555555556,\"#d8576b\"],[0.6666666666666666,\"#ed7953\"],[0.7777777777777778,\"#fb9f3a\"],[0.8888888888888888,\"#fdca26\"],[1.0,\"#f0f921\"]]}],\"choropleth\":[{\"type\":\"choropleth\",\"colorbar\":{\"outlinewidth\":0,\"ticks\":\"\"}}],\"histogram2d\":[{\"type\":\"histogram2d\",\"colorbar\":{\"outlinewidth\":0,\"ticks\":\"\"},\"colorscale\":[[0.0,\"#0d0887\"],[0.1111111111111111,\"#46039f\"],[0.2222222222222222,\"#7201a8\"],[0.3333333333333333,\"#9c179e\"],[0.4444444444444444,\"#bd3786\"],[0.5555555555555556,\"#d8576b\"],[0.6666666666666666,\"#ed7953\"],[0.7777777777777778,\"#fb9f3a\"],[0.8888888888888888,\"#fdca26\"],[1.0,\"#f0f921\"]]}],\"heatmap\":[{\"type\":\"heatmap\",\"colorbar\":{\"outlinewidth\":0,\"ticks\":\"\"},\"colorscale\":[[0.0,\"#0d0887\"],[0.1111111111111111,\"#46039f\"],[0.2222222222222222,\"#7201a8\"],[0.3333333333333333,\"#9c179e\"],[0.4444444444444444,\"#bd3786\"],[0.5555555555555556,\"#d8576b\"],[0.6666666666666666,\"#ed7953\"],[0.7777777777777778,\"#fb9f3a\"],[0.8888888888888888,\"#fdca26\"],[1.0,\"#f0f921\"]]}],\"heatmapgl\":[{\"type\":\"heatmapgl\",\"colorbar\":{\"outlinewidth\":0,\"ticks\":\"\"},\"colorscale\":[[0.0,\"#0d0887\"],[0.1111111111111111,\"#46039f\"],[0.2222222222222222,\"#7201a8\"],[0.3333333333333333,\"#9c179e\"],[0.4444444444444444,\"#bd3786\"],[0.5555555555555556,\"#d8576b\"],[0.6666666666666666,\"#ed7953\"],[0.7777777777777778,\"#fb9f3a\"],[0.8888888888888888,\"#fdca26\"],[1.0,\"#f0f921\"]]}],\"contourcarpet\":[{\"type\":\"contourcarpet\",\"colorbar\":{\"outlinewidth\":0,\"ticks\":\"\"}}],\"contour\":[{\"type\":\"contour\",\"colorbar\":{\"outlinewidth\":0,\"ticks\":\"\"},\"colorscale\":[[0.0,\"#0d0887\"],[0.1111111111111111,\"#46039f\"],[0.2222222222222222,\"#7201a8\"],[0.3333333333333333,\"#9c179e\"],[0.4444444444444444,\"#bd3786\"],[0.5555555555555556,\"#d8576b\"],[0.6666666666666666,\"#ed7953\"],[0.7777777777777778,\"#fb9f3a\"],[0.8888888888888888,\"#fdca26\"],[1.0,\"#f0f921\"]]}],\"surface\":[{\"type\":\"surface\",\"colorbar\":{\"outlinewidth\":0,\"ticks\":\"\"},\"colorscale\":[[0.0,\"#0d0887\"],[0.1111111111111111,\"#46039f\"],[0.2222222222222222,\"#7201a8\"],[0.3333333333333333,\"#9c179e\"],[0.4444444444444444,\"#bd3786\"],[0.5555555555555556,\"#d8576b\"],[0.6666666666666666,\"#ed7953\"],[0.7777777777777778,\"#fb9f3a\"],[0.8888888888888888,\"#fdca26\"],[1.0,\"#f0f921\"]]}],\"mesh3d\":[{\"type\":\"mesh3d\",\"colorbar\":{\"outlinewidth\":0,\"ticks\":\"\"}}],\"scatter\":[{\"fillpattern\":{\"fillmode\":\"overlay\",\"size\":10,\"solidity\":0.2},\"type\":\"scatter\"}],\"parcoords\":[{\"type\":\"parcoords\",\"line\":{\"colorbar\":{\"outlinewidth\":0,\"ticks\":\"\"}}}],\"scatterpolargl\":[{\"type\":\"scatterpolargl\",\"marker\":{\"colorbar\":{\"outlinewidth\":0,\"ticks\":\"\"}}}],\"bar\":[{\"error_x\":{\"color\":\"#2a3f5f\"},\"error_y\":{\"color\":\"#2a3f5f\"},\"marker\":{\"line\":{\"color\":\"#E5ECF6\",\"width\":0.5},\"pattern\":{\"fillmode\":\"overlay\",\"size\":10,\"solidity\":0.2}},\"type\":\"bar\"}],\"scattergeo\":[{\"type\":\"scattergeo\",\"marker\":{\"colorbar\":{\"outlinewidth\":0,\"ticks\":\"\"}}}],\"scatterpolar\":[{\"type\":\"scatterpolar\",\"marker\":{\"colorbar\":{\"outlinewidth\":0,\"ticks\":\"\"}}}],\"histogram\":[{\"marker\":{\"pattern\":{\"fillmode\":\"overlay\",\"size\":10,\"solidity\":0.2}},\"type\":\"histogram\"}],\"scattergl\":[{\"type\":\"scattergl\",\"marker\":{\"colorbar\":{\"outlinewidth\":0,\"ticks\":\"\"}}}],\"scatter3d\":[{\"type\":\"scatter3d\",\"line\":{\"colorbar\":{\"outlinewidth\":0,\"ticks\":\"\"}},\"marker\":{\"colorbar\":{\"outlinewidth\":0,\"ticks\":\"\"}}}],\"scattermapbox\":[{\"type\":\"scattermapbox\",\"marker\":{\"colorbar\":{\"outlinewidth\":0,\"ticks\":\"\"}}}],\"scatterternary\":[{\"type\":\"scatterternary\",\"marker\":{\"colorbar\":{\"outlinewidth\":0,\"ticks\":\"\"}}}],\"scattercarpet\":[{\"type\":\"scattercarpet\",\"marker\":{\"colorbar\":{\"outlinewidth\":0,\"ticks\":\"\"}}}],\"carpet\":[{\"aaxis\":{\"endlinecolor\":\"#2a3f5f\",\"gridcolor\":\"white\",\"linecolor\":\"white\",\"minorgridcolor\":\"white\",\"startlinecolor\":\"#2a3f5f\"},\"baxis\":{\"endlinecolor\":\"#2a3f5f\",\"gridcolor\":\"white\",\"linecolor\":\"white\",\"minorgridcolor\":\"white\",\"startlinecolor\":\"#2a3f5f\"},\"type\":\"carpet\"}],\"table\":[{\"cells\":{\"fill\":{\"color\":\"#EBF0F8\"},\"line\":{\"color\":\"white\"}},\"header\":{\"fill\":{\"color\":\"#C8D4E3\"},\"line\":{\"color\":\"white\"}},\"type\":\"table\"}],\"barpolar\":[{\"marker\":{\"line\":{\"color\":\"#E5ECF6\",\"width\":0.5},\"pattern\":{\"fillmode\":\"overlay\",\"size\":10,\"solidity\":0.2}},\"type\":\"barpolar\"}],\"pie\":[{\"automargin\":true,\"type\":\"pie\"}]},\"layout\":{\"autotypenumbers\":\"strict\",\"colorway\":[\"#636efa\",\"#EF553B\",\"#00cc96\",\"#ab63fa\",\"#FFA15A\",\"#19d3f3\",\"#FF6692\",\"#B6E880\",\"#FF97FF\",\"#FECB52\"],\"font\":{\"color\":\"#2a3f5f\"},\"hovermode\":\"closest\",\"hoverlabel\":{\"align\":\"left\"},\"paper_bgcolor\":\"white\",\"plot_bgcolor\":\"#E5ECF6\",\"polar\":{\"bgcolor\":\"#E5ECF6\",\"angularaxis\":{\"gridcolor\":\"white\",\"linecolor\":\"white\",\"ticks\":\"\"},\"radialaxis\":{\"gridcolor\":\"white\",\"linecolor\":\"white\",\"ticks\":\"\"}},\"ternary\":{\"bgcolor\":\"#E5ECF6\",\"aaxis\":{\"gridcolor\":\"white\",\"linecolor\":\"white\",\"ticks\":\"\"},\"baxis\":{\"gridcolor\":\"white\",\"linecolor\":\"white\",\"ticks\":\"\"},\"caxis\":{\"gridcolor\":\"white\",\"linecolor\":\"white\",\"ticks\":\"\"}},\"coloraxis\":{\"colorbar\":{\"outlinewidth\":0,\"ticks\":\"\"}},\"colorscale\":{\"sequential\":[[0.0,\"#0d0887\"],[0.1111111111111111,\"#46039f\"],[0.2222222222222222,\"#7201a8\"],[0.3333333333333333,\"#9c179e\"],[0.4444444444444444,\"#bd3786\"],[0.5555555555555556,\"#d8576b\"],[0.6666666666666666,\"#ed7953\"],[0.7777777777777778,\"#fb9f3a\"],[0.8888888888888888,\"#fdca26\"],[1.0,\"#f0f921\"]],\"sequentialminus\":[[0.0,\"#0d0887\"],[0.1111111111111111,\"#46039f\"],[0.2222222222222222,\"#7201a8\"],[0.3333333333333333,\"#9c179e\"],[0.4444444444444444,\"#bd3786\"],[0.5555555555555556,\"#d8576b\"],[0.6666666666666666,\"#ed7953\"],[0.7777777777777778,\"#fb9f3a\"],[0.8888888888888888,\"#fdca26\"],[1.0,\"#f0f921\"]],\"diverging\":[[0,\"#8e0152\"],[0.1,\"#c51b7d\"],[0.2,\"#de77ae\"],[0.3,\"#f1b6da\"],[0.4,\"#fde0ef\"],[0.5,\"#f7f7f7\"],[0.6,\"#e6f5d0\"],[0.7,\"#b8e186\"],[0.8,\"#7fbc41\"],[0.9,\"#4d9221\"],[1,\"#276419\"]]},\"xaxis\":{\"gridcolor\":\"white\",\"linecolor\":\"white\",\"ticks\":\"\",\"title\":{\"standoff\":15},\"zerolinecolor\":\"white\",\"automargin\":true,\"zerolinewidth\":2},\"yaxis\":{\"gridcolor\":\"white\",\"linecolor\":\"white\",\"ticks\":\"\",\"title\":{\"standoff\":15},\"zerolinecolor\":\"white\",\"automargin\":true,\"zerolinewidth\":2},\"scene\":{\"xaxis\":{\"backgroundcolor\":\"#E5ECF6\",\"gridcolor\":\"white\",\"linecolor\":\"white\",\"showbackground\":true,\"ticks\":\"\",\"zerolinecolor\":\"white\",\"gridwidth\":2},\"yaxis\":{\"backgroundcolor\":\"#E5ECF6\",\"gridcolor\":\"white\",\"linecolor\":\"white\",\"showbackground\":true,\"ticks\":\"\",\"zerolinecolor\":\"white\",\"gridwidth\":2},\"zaxis\":{\"backgroundcolor\":\"#E5ECF6\",\"gridcolor\":\"white\",\"linecolor\":\"white\",\"showbackground\":true,\"ticks\":\"\",\"zerolinecolor\":\"white\",\"gridwidth\":2}},\"shapedefaults\":{\"line\":{\"color\":\"#2a3f5f\"}},\"annotationdefaults\":{\"arrowcolor\":\"#2a3f5f\",\"arrowhead\":0,\"arrowwidth\":1},\"geo\":{\"bgcolor\":\"white\",\"landcolor\":\"#E5ECF6\",\"subunitcolor\":\"white\",\"showland\":true,\"showlakes\":true,\"lakecolor\":\"white\"},\"title\":{\"x\":0.05},\"mapbox\":{\"style\":\"light\"}}},\"xaxis\":{\"anchor\":\"y\",\"domain\":[0.0,1.0]},\"yaxis\":{\"anchor\":\"x\",\"domain\":[0.0,1.0],\"autorange\":\"reversed\"},\"coloraxis\":{\"colorscale\":[[0.0,\"rgb(5,48,97)\"],[0.1,\"rgb(33,102,172)\"],[0.2,\"rgb(67,147,195)\"],[0.3,\"rgb(146,197,222)\"],[0.4,\"rgb(209,229,240)\"],[0.5,\"rgb(247,247,247)\"],[0.6,\"rgb(253,219,199)\"],[0.7,\"rgb(244,165,130)\"],[0.8,\"rgb(214,96,77)\"],[0.9,\"rgb(178,24,43)\"],[1.0,\"rgb(103,0,31)\"]]},\"margin\":{\"t\":60}},                        {\"responsive\": true}                    ).then(function(){\n",
              "                            \n",
              "var gd = document.getElementById('cd17d3dd-a901-497b-ae90-919813bda493');\n",
              "var x = new MutationObserver(function (mutations, observer) {{\n",
              "        var display = window.getComputedStyle(gd).display;\n",
              "        if (!display || display === 'none') {{\n",
              "            console.log([gd, 'removed!']);\n",
              "            Plotly.purge(gd);\n",
              "            observer.disconnect();\n",
              "        }}\n",
              "}});\n",
              "\n",
              "// Listen for the removal of the full notebook cells\n",
              "var notebookContainer = gd.closest('#notebook-container');\n",
              "if (notebookContainer) {{\n",
              "    x.observe(notebookContainer, {childList: true});\n",
              "}}\n",
              "\n",
              "// Listen for the clearing of the current output cell\n",
              "var outputEl = gd.closest('.output');\n",
              "if (outputEl) {{\n",
              "    x.observe(outputEl, {childList: true});\n",
              "}}\n",
              "\n",
              "                        })                };                            </script>        </div>\n",
              "</body>\n",
              "</html>"
            ]
          },
          "metadata": {}
        }
      ],
      "source": [
        "corr = new_df.corr()\n",
        "fig=px.imshow(corr, aspect=\"auto\" ,color_continuous_scale='RdBu_r')\n",
        "fig.show()"
      ]
    },
    {
      "cell_type": "markdown",
      "source": [
        "Negative Correlations: V17, V14, V12 and V10 are negatively correlated.\n",
        "Positive Correlations: V2, V4, V11 are positively correlated.\n",
        "\n",
        "Note-Used chatgpt to understand the correlations. As the features are anonymised it was difficult to conclude and get relationship and dependency on eachother."
      ],
      "metadata": {
        "id": "wUU1brbxAF6r"
      },
      "id": "wUU1brbxAF6r"
    },
    {
      "cell_type": "markdown",
      "id": "a7c45385",
      "metadata": {
        "id": "a7c45385"
      },
      "source": [
        "Negative Correlations: V17, V14, V12 and V10 are negatively correlated.  \n",
        "Positive Correlations: V2, V4, V11 are positively correlated."
      ]
    },
    {
      "cell_type": "code",
      "execution_count": null,
      "id": "Mzekq9GppDUe",
      "metadata": {
        "colab": {
          "base_uri": "https://localhost:8080/"
        },
        "id": "Mzekq9GppDUe",
        "outputId": "6f9fdf17-ec84-4ecb-b077-9af7bad89e7e"
      },
      "outputs": [
        {
          "output_type": "stream",
          "name": "stdout",
          "text": [
            "Highly Correlated Feature Pairs (|r| > 0.9):\n",
            "V16 ↔ V17: r = 0.95\n",
            "V17 ↔ V18: r = 0.94\n"
          ]
        }
      ],
      "source": [
        "# Calculate absolute correlation matrix (optional: choose df or new_df)\n",
        "corr_matrix = new_df.corr().abs()\n",
        "\n",
        "# Select upper triangle of correlation matrix to avoid duplicates and self-correlation\n",
        "upper = corr_matrix.where(np.triu(np.ones(corr_matrix.shape), k=1).astype(bool))\n",
        "\n",
        "# Set threshold\n",
        "threshold = 0.9\n",
        "\n",
        "# Find feature pairs with high correlation\n",
        "high_corr_pairs = [(col1, col2, corr_matrix.loc[col1, col2])\n",
        "                   for col1 in upper.columns\n",
        "                   for col2 in upper.columns\n",
        "                   if (upper.loc[col1, col2] > threshold)]\n",
        "\n",
        "# Display results\n",
        "print(\"Highly Correlated Feature Pairs (|r| > 0.9):\")\n",
        "for f1, f2, corr_value in high_corr_pairs:\n",
        "    print(f\"{f1} ↔ {f2}: r = {corr_value:.2f}\")"
      ]
    },
    {
      "cell_type": "markdown",
      "id": "09014a1a",
      "metadata": {
        "id": "09014a1a"
      },
      "source": [
        "### TSNE"
      ]
    },
    {
      "cell_type": "code",
      "execution_count": null,
      "id": "64e561a6",
      "metadata": {
        "id": "64e561a6"
      },
      "outputs": [],
      "source": [
        "from sklearn.manifold import TSNE\n",
        "X = new_df.drop('Class', axis=1)\n",
        "y = new_df['Class']\n",
        "\n",
        "# T-SNE Implementation\n",
        "X_reduced_tsne = TSNE(n_components=2, random_state=42).fit_transform(X.values)"
      ]
    },
    {
      "cell_type": "code",
      "execution_count": null,
      "id": "1b1e39a4",
      "metadata": {
        "colab": {
          "base_uri": "https://localhost:8080/",
          "height": 542
        },
        "id": "1b1e39a4",
        "outputId": "a6a416ff-06e1-44cf-f531-f811b4ff9264"
      },
      "outputs": [
        {
          "output_type": "display_data",
          "data": {
            "text/html": [
              "<html>\n",
              "<head><meta charset=\"utf-8\" /></head>\n",
              "<body>\n",
              "    <div>            <script src=\"https://cdnjs.cloudflare.com/ajax/libs/mathjax/2.7.5/MathJax.js?config=TeX-AMS-MML_SVG\"></script><script type=\"text/javascript\">if (window.MathJax && window.MathJax.Hub && window.MathJax.Hub.Config) {window.MathJax.Hub.Config({SVG: {font: \"STIX-Web\"}});}</script>                <script type=\"text/javascript\">window.PlotlyConfig = {MathJaxConfig: 'local'};</script>\n",
              "        <script charset=\"utf-8\" src=\"https://cdn.plot.ly/plotly-2.35.2.min.js\"></script>                <div id=\"133e4bb3-110d-4dac-ac8e-adcd315866e0\" class=\"plotly-graph-div\" style=\"height:525px; width:100%;\"></div>            <script type=\"text/javascript\">                                    window.PLOTLYENV=window.PLOTLYENV || {};                                    if (document.getElementById(\"133e4bb3-110d-4dac-ac8e-adcd315866e0\")) {                    Plotly.newPlot(                        \"133e4bb3-110d-4dac-ac8e-adcd315866e0\",                        [{\"hovertemplate\":\"x=%{x}\\u003cbr\\u003ey=%{y}\\u003cbr\\u003ecolor=%{marker.color}\\u003cextra\\u003e\\u003c\\u002fextra\\u003e\",\"legendgroup\":\"\",\"marker\":{\"color\":[0,1,1,1,1,1,1,1,1,1,1,1,1,0,0,1,1,1,1,0,0,0,0,0,0,1,1,1,0,0,0,0,0,1,0,0,0,0,0,0,1,1,1,0,0,1,1,1,0,0,0,1,0,1,1,1,0,0,1,0,0,0,0,1,0,1,0,0,1,0,1,0,1,1,0,0,1,0,1,0,0,0,0,1,0,0,1,0,0,0,1,0,0,0,1,0,1,0,1,0,1,1,1,1,1,0,1,1,0,0,0,1,1,0,0,0,1,0,1,1,0,0,0,0,0,1,0,0,1,0,0,0,0,1,0,1,1,1,0,1,1,1,1,0,1,1,0,1,0,1,1,1,0,0,1,0,0,0,0,1,1,0,1,0,1,0,1,0,1,1,1,0,0,0,0,1,0,1,0,0,1,0,0,0,1,0,0,1,0,1,0,1,1,0,1,1,0,1,0,1,1,0,1,1,1,1,0,1,1,0,0,1,1,1,0,1,0,1,1,1,0,0,0,0,1,0,1,0,0,0,0,1,0,1,1,1,1,1,1,1,0,0,1,0,1,1,1,1,0,0,0,0,1,1,1,0,0,0,0,1,0,1,0,1,1,1,0,1,0,1,1,1,1,0,0,1,1,0,0,0,1,0,0,1,0,0,1,0,0,0,0,0,1,1,0,1,1,1,1,0,1,0,1,1,0,0,0,1,0,0,0,0,0,1,1,1,1,1,0,1,0,1,1,0,1,1,1,1,0,1,1,0,1,1,1,0,1,1,0,1,1,1,1,1,0,1,1,0,0,1,1,0,1,1,1,0,1,0,1,1,1,0,1,0,1,1,1,0,1,1,0,0,0,1,1,0,0,0,1,0,0,0,0,1,0,0,0,1,1,1,0,1,1,1,1,0,1,1,1,1,1,0,1,0,0,1,0,0,0,1,0,0,0,0,0,1,1,0,0,0,1,1,1,1,0,0,1,1,1,1,0,1,1,0,1,1,0,0,0,0,0,0,1,1,1,0,1,1,1,1,0,0,0,0,1,1,1,1,1,0,0,0,1,1,0,0,0,1,1,0,1,0,1,1,0,1,0,0,0,0,1,1,1,1,0,1,0,1,1,1,1,1,0,0,0,0,1,1,0,0,0,1,0,0,1,1,1,0,0,1,0,0,1,0,1,1,1,0,1,1,1,1,0,1,0,0,0,0,1,1,0,0,1,0,0,1,1,1,1,1,0,0,0,1,1,0,1,1,0,1,1,0,1,1,0,1,1,1,0,1,1,0,0,0,1,0,0,1,1,1,0,0,0,0,1,1,0,0,0,1,1,1,1,0,0,1,1,0,1,1,0,0,0,0,0,0,0,1,0,1,0,1,1,0,1,0,0,0,0,0,1,0,0,1,1,0,1,0,1,1,1,0,1,1,0,0,0,1,0,0,0,0,0,0,0,1,0,1,0,0,0,1,1,0,1,1,1,0,0,0,1,1,1,1,0,1,0,0,1,0,1,1,0,1,1,0,0,0,0,0,1,0,1,1,1,0,0,0,0,0,0,1,1,0,0,0,0,1,1,1,1,1,0,0,1,0,1,0,1,1,1,1,1,1,1,1,1,0,0,0,1,0,1,0,0,0,1,0,0,0,0,0,0,0,0,1,0,0,1,0,1,0,1,0,1,0,0,0,1,0,0,1,0,0,1,0,1,0,0,1,1,0,0,0,1,1,1,1,0,0,1,1,0,0,0,0,0,0,0,0,0,0,0,0,1,1,0,1,0,1,0,1,0,0,0,0,0,0,1,0,1,0,0,0,1,0,0,1,1,0,1,0,0,1,1,0,0,0,0,0,0,0,0,1,0,0,0,1,0,1,1,0,1,1,1,0,1,0,0,1,1,1,0,1,0,0,1,1,1,0,1,0,0,0,1,0,1,1,1,0,1,1,0,1,0,1,1,0,0,0,1,0,1,0,1,1,0,0,0,1,1,1,0,0,1,0,0,0,0,1,0,1,1,0,0,0,1,1,1,0,0,1,1,1,1,1,0,1,0,1,1,1,0,1,1,1,0,0,0,0,0,0,0,0,1,0,0,0,0,1,0,0,0,0,0,1,0,0,0,0,1,1,1,1,1,1,1,1,0,1,0,1,0,1,0,1,0,0,1,1,1,1,1,1,1,1,0,1,0,1,1,1,0,1,1],\"coloraxis\":\"coloraxis\",\"symbol\":\"circle\"},\"mode\":\"markers\",\"name\":\"\",\"orientation\":\"v\",\"showlegend\":false,\"x\":[23.521864,-37.672718,-34.84088,-25.382406,-33.08399,-31.765038,-26.059877,-34.40634,-25.095713,-7.647423,-12.5647745,-11.579473,-20.435144,35.797585,18.367529,-19.977089,3.083305,-35.001144,-41.85189,21.443777,-1.3396301,20.635489,12.7852545,34.879513,23.03531,-35.81057,-25.581089,-25.17987,22.140636,10.777489,6.800983,15.909414,9.820224,-19.491741,7.06506,30.671888,30.181154,19.274538,24.564512,6.221361,-40.187237,-36.515278,-24.399258,17.471178,22.429722,-17.995043,19.794119,-28.01772,28.057796,11.371961,18.55812,-40.91025,13.345125,-38.42183,-35.111416,-22.946045,35.177593,28.490393,-27.772303,6.232852,10.875162,28.407955,7.7274866,-38.007046,22.059061,17.352037,-1.8662812,15.367434,-7.934045,-3.3556914,-38.996693,29.138916,-1.779732,-16.870289,28.973671,3.781241,6.101572,19.971266,-28.551722,22.405817,19.857666,14.903313,-1.9553578,-29.363968,26.239508,17.194607,-7.5882173,22.734255,13.526863,22.407234,-40.344627,17.257072,10.785607,22.289732,-41.596966,29.68888,-35.441013,9.256454,-27.573784,10.063765,-8.762007,-16.847063,-27.12434,-27.037312,-40.754787,27.886118,-10.207191,-26.512772,16.823261,32.67178,24.458038,-15.388413,-37.031242,9.975825,17.007751,24.064228,-32.844067,15.661775,-31.401922,-15.972144,17.272297,32.551308,11.101835,16.196028,8.517238,-23.176716,10.463278,14.593386,22.414532,22.462042,26.012693,28.546438,9.865543,-34.798264,33.09544,-21.509693,-13.858805,-34.360565,31.459719,-23.93529,-4.54884,-14.083242,36.82154,24.209665,-12.993994,-37.10805,22.205687,-28.57818,13.358553,-13.730308,1.6645238,-5.432249,10.938419,-0.07467714,-23.3376,-0.12464327,11.843227,14.527593,26.902683,-35.587116,-27.156174,1.2080157,-41.20995,30.597198,-40.27452,9.646124,-32.27942,12.786435,-23.470047,-4.7947993,-35.791077,2.2639003,23.912012,15.868206,30.447493,-18.92029,0.6348358,-22.716686,17.58033,34.61638,-40.940495,14.131027,14.317924,17.788094,-39.487118,23.51525,17.26901,-35.79468,15.0121765,-36.820343,21.92722,-21.932932,-14.91674,-1.7958754,-12.9125,0.6706254,0.7032482,-25.362013,-2.3882916,-13.781839,-21.769627,4.9429526,-12.21935,-35.176655,-26.000492,0.124366276,14.306725,-18.647284,-38.010414,18.49619,33.222958,-39.244686,-35.493225,-35.18295,29.451517,-23.723799,11.228761,-27.4786,-23.157047,-34.5148,2.3879066,15.935028,12.398081,32.252193,-19.523434,33.051273,-10.812224,16.473564,22.846106,22.535395,13.194399,2.961905,24.260141,-23.892052,-14.621055,-33.588303,20.234774,-19.388317,3.8329773,-6.840541,20.487059,0.3356782,-37.38551,0.1520278,-25.42737,25.918472,-35.968666,-29.408989,22.042461,9.661465,16.865341,14.00876,-16.149946,-39.209545,-36.903736,15.353751,17.779982,17.112892,26.123262,-32.60817,15.065173,-39.9389,12.954472,-36.735634,-33.33556,-27.70628,32.771458,6.2174244,13.0407715,-39.41239,-5.254061,-39.238026,-28.711702,4.0759144,32.27592,-13.106786,-38.003178,15.238988,19.05627,14.909558,-22.61087,24.628014,19.521816,-14.945932,0.77701145,15.35567,-38.1401,5.4351406,7.6553183,32.823635,30.856256,17.055252,-15.727505,-14.560656,10.490341,-36.27097,-25.792143,-3.0690625,-32.862663,7.082693,-17.533102,14.534822,17.892683,-37.930584,10.343383,32.431244,4.9359107,-31.564137,4.273717,19.416643,16.269163,23.773317,16.553366,-35.456543,-31.546064,-6.8613687,5.919379,-25.076033,28.578287,-15.750023,33.29273,-15.060442,-29.46703,-3.148634,-40.75085,-14.559065,-37.40225,-38.63834,16.62234,-13.271812,-17.309744,32.261925,-13.030047,-28.639277,-42.253803,4.1312943,-28.905636,4.600894,33.24561,-33.90547,-8.753319,7.4422927,3.274325,-19.835041,28.820196,-29.455997,-38.45366,31.993921,12.92776,-35.71662,-35.45002,28.000824,-28.654957,-33.856514,-3.0704772,27.248526,-37.89983,23.736166,22.22609,-37.430954,-28.870453,9.671386,-37.62209,30.835913,6.7091675,-36.547894,-32.310074,-2.017992,-20.556133,0.6146466,27.203562,21.49406,19.566992,-27.121088,-18.846825,13.074369,8.136275,-4.5157285,-40.671833,9.143976,22.264154,12.31463,18.776274,-34.851597,14.277015,16.668394,10.465932,-16.328451,-27.509089,1.8947235,24.298695,-22.64675,-13.977586,6.0812693,-15.926809,20.726564,-25.616472,-18.384398,-7.7865095,-20.172647,-40.51859,10.664075,-27.395157,19.562984,17.374363,-10.961067,19.742468,10.942257,9.977592,5.5314155,21.557766,9.669855,9.116501,18.878628,17.996109,-40.659733,-14.034618,4.8165116,19.214418,9.88112,-40.23257,-37.108025,-23.140121,-37.01535,8.231523,11.21967,8.3074465,9.213354,9.292099,11.1656275,10.224993,-7.6147943,-32.72605,12.178652,-34.225296,-26.722551,13.324201,14.969329,4.1915565,11.939713,1.2084657,21.019562,-28.73076,9.110333,-14.688781,16.889038,-32.14142,-33.182686,-28.914568,-35.61014,28.542656,28.570957,16.016973,15.264542,-35.55618,-32.2982,-26.165163,-17.486702,17.146067,32.29282,17.360304,28.837692,-36.557148,15.058934,23.190548,8.679477,12.869001,-33.65675,7.332774,34.506382,-12.57427,11.082828,-32.402096,-27.249113,5.8181915,-35.98936,13.479564,18.995747,5.651366,11.487984,-37.673153,-12.347083,-23.007896,-32.685707,9.23366,-39.951954,32.522762,-18.584122,7.7824855,-2.9647098,-39.222527,-22.60019,34.212265,15.845792,-1.5498847,22.955547,4.2618976,-42.969204,20.815165,11.987397,11.007224,-21.519424,12.940079,16.639545,-11.049106,-24.186579,-22.32584,15.474966,34.265953,-41.653133,33.66105,12.342672,-12.104586,12.3372135,-18.169037,-13.394887,-15.739191,8.803843,-15.659215,-17.864826,8.981466,-28.057919,17.902136,-16.689106,1.9120758,15.268346,14.698332,23.691442,23.448076,-14.895942,12.63437,12.002735,-29.082981,33.042667,25.952642,-28.42227,-32.086555,-23.649359,6.246703,-39.253986,14.904734,17.017855,14.641306,-34.431625,8.250775,27.18742,-24.786123,-32.41575,8.060165,-31.574549,34.898026,10.938756,-7.697024,-38.491886,-7.175012,-23.283745,-18.108574,-38.516373,4.548241,-26.255566,-15.478121,-2.2994153,11.493934,22.426888,-35.886272,28.225428,6.8467813,-9.388911,-40.569714,-23.134605,32.826984,21.563059,-2.972826,28.138172,-18.526718,-23.503283,10.424265,20.069942,10.9309,17.631762,-32.765285,-14.490804,-31.304884,9.269353,24.177193,-31.024107,-38.472218,10.549589,-26.805971,-36.358395,21.831282,-2.941165,20.510963,34.430367,5.6708994,24.130829,19.567379,-38.846416,5.8463993,-6.933878,9.752091,10.530172,-22.591831,21.264334,-40.045174,22.933037,29.48422,8.542081,23.423445,4.535056,-25.481241,12.846219,21.603992,-15.83704,-19.59862,14.362952,-33.78252,31.652792,-14.536512,-2.5424936,-36.493847,16.952429,-30.615866,-33.421288,10.7610855,24.34502,10.611892,-16.928226,10.563261,33.861366,34.449394,16.227118,-0.16102684,8.479124,13.45671,-13.094607,16.213192,-38.177742,6.794227,32.616226,4.91368,-13.628371,-26.347267,19.42714,-13.186415,10.345817,-28.452536,23.166235,18.799568,20.265743,-3.776694,-15.702188,-25.241888,-31.34939,13.3502655,-25.159807,2.6129215,21.254076,-42.90385,17.041664,-26.380398,-20.782623,32.417545,-31.27644,-29.35468,10.453022,10.306744,17.18822,12.950338,12.35697,-17.242687,0.15353827,-15.425845,14.345186,-10.5208,12.801626,12.772306,15.42482,13.981348,12.879897,2.7513726,-26.630548,-38.488544,15.47486,8.178594,16.649908,31.393631,-15.913541,-15.633562,-28.2126,1.5273994,-11.506787,12.215706,10.797865,-21.646664,29.49675,-22.244144,19.044308,-28.613184,-28.234606,-6.775974,-16.728514,-10.496632,-38.7841,-11.374043,-1.523151,-28.495096,10.140926,13.157466,30.504457,-12.7820835,16.973297,-14.298889,9.219698,20.809254,10.209002,-25.231138,8.1341715,28.341312,16.385109,9.851795,10.9098425,4.9406424,7.2155714,28.922134,-10.49586,13.189153,19.44095,-40.6857,13.861143,-13.0518,30.019196,-13.996671,11.638128,-35.670258,11.222344,0.7719396,2.2975361,-37.214214,14.916094,-1.8291869,-28.674772,16.588852,31.639545,-28.014486,7.234356,-39.380905,32.66722,5.789916,-13.135225,-20.454937,-9.597175,18.2806,28.12669,-38.203922,-22.379148,-37.031693,-38.853977,12.638261,9.140232,-32.18486,-27.26918,27.879843,16.512321,23.471027,14.721118,11.500255,19.475578,8.564773,15.48668,28.57786,31.369457,23.018114,14.159099,-16.17298,-27.81233,27.484076,-33.254826,19.690819,-22.338703,17.762646,-12.099932,24.148796,22.60232,15.516873,24.02236,36.47032,5.5742116,-29.016182,34.074886,-29.397831,7.4115257,13.209398,15.708881,-25.377062,20.580826,5.6863236,-13.547898,-33.765476,12.399565,-16.614273,12.203768,29.670317,-25.412746,-11.583477,12.849095,15.222568,8.089187,12.351757,-3.9936407,2.5616596,12.074547,14.153104,-42.822464,28.246956,21.721333,33.53825,-14.870661,17.89765,-13.360486,-36.28286,19.45783,-17.93336,-37.35253,-37.99413,6.7204256,-38.839798,15.288069,6.151543,5.449885,8.211527,-26.960554,28.734148,-37.63164,16.438496,29.644598,-10.616595,-26.172325,-12.068447,33.54097,-38.25918,10.6113405,30.561771,13.553175,-30.730183,15.247536,-7.0034795,-31.038889,-33.602062,20.4318,-27.856611,-26.701939,14.911384,-32.41183,9.06254,-23.66101,-36.887287,28.04603,13.172434,19.984562,-42.060966,13.120066,-23.524475,18.382528,-10.93619,-11.377478,31.717535,18.472923,9.972927,-32.28589,-34.08936,-24.771223,-2.2447908,17.546116,-12.346883,15.542549,8.310231,14.833664,21.636711,-38.255573,11.2473755,-17.80616,-31.194109,33.54101,12.979218,2.833906,-7.7460384,-19.550966,-39.257923,12.689868,18.115763,34.541973,-8.534188,10.736401,-24.620495,-15.58457,9.148539,-34.07475,31.780834,-11.108488,-23.594976,-39.329685,20.286934,-17.833372,-42.107456,-14.523279,10.393218,28.257181,-4.169518,-2.1999288,-0.33590913,12.859816,29.810886,12.28756,12.500928,14.400608,23.081057,32.10462,14.392795,-34.34462,-0.52804095,29.900696,9.976693,8.789591,23.6196,14.926741,32.395367,12.742097,10.176838,11.619027,-18.586922,-24.791159,-28.06256,-38.18779,-36.46768,-14.172239,-22.021587,-35.91258,-3.6919115,-21.704212,11.363365,-25.178942,17.913528,-16.378895,7.610418,12.349213,16.1465,16.120289,14.9175205,-35.764416,-26.9336,-27.900023,-41.602325,-29.03343,-42.314342,-31.514635,17.67666,-41.33063,14.868646,-34.59746,-34.33851,-36.214554,35.607307,8.600829,-28.419163],\"xaxis\":\"x\",\"y\":[-0.75966215,26.510204,28.052197,-38.502186,-15.883149,-18.751162,-36.37269,28.720428,-17.648123,-0.37327996,-2.2007196,-26.971876,-23.542692,2.5215995,10.167177,-19.951033,12.436334,25.009647,22.79593,26.997,3.7388566,17.448227,11.979357,2.2502108,-11.033334,23.994715,-18.582071,-18.105217,-4.5032945,1.1040255,5.620379,21.119196,14.084631,-29.79572,-2.4193215,25.951445,25.878,17.123827,14.112866,17.378584,-17.25163,27.924362,-27.695436,19.733177,9.180396,-31.981262,-2.615839,-32.070282,9.751698,19.861002,-9.083978,-17.785242,25.934404,16.0903,22.515429,-27.215687,2.9943433,3.300673,-30.969654,-11.358777,11.096413,25.34773,2.677607,-16.728954,-9.125069,8.0431185,3.294675,22.899551,-0.60810685,13.085805,23.344942,24.143118,1.7487348,-31.85276,24.473791,21.139847,-5.881008,-15.539437,-35.923298,19.971458,24.844156,8.068826,9.416457,28.580494,-14.512145,-6.894084,-2.1825337,-8.69533,19.90487,9.468162,-16.883572,-6.959129,14.41994,-8.900629,-20.808773,0.8771845,-19.706726,-2.887038,-36.786346,-7.9848113,-26.627607,-27.389633,-37.52614,-22.708826,22.56687,22.430037,-25.970776,-19.552532,15.689035,2.873452,-0.9621621,-25.40469,17.654121,-5.142467,18.67041,3.0276062,-32.992146,-13.159061,-19.918255,-22.436426,-11.844752,-2.0994198,11.136665,14.7301035,24.062464,-23.994907,0.9337534,19.249931,17.64707,12.89615,-14.514163,7.2348976,12.539175,28.587105,1.1600286,-15.007477,-3.1084392,26.025278,0.82149774,-19.463139,-1.5534091,-29.441185,4.831127,3.5556884,-24.284481,15.858219,20.747646,-23.652819,16.207933,-23.881615,12.861991,14.622375,-7.56011,3.4576097,-37.458393,7.482386,1.7262132,-12.717904,7.016156,22.566814,-32.36565,21.965803,-14.520115,26.590118,-20.50695,8.006854,28.703152,19.24479,-38.94571,14.7714,28.665455,8.533105,3.135881,24.16534,24.836092,-24.91648,4.369363,-39.314972,-13.467707,3.8492649,-15.69643,22.6303,8.502688,19.428778,23.816673,-6.3973417,-5.6329083,28.09385,-2.2323165,24.957048,-0.9357076,-34.46404,-26.89965,6.9160047,-3.1902373,1.2282794,15.520774,-25.396324,8.398722,-3.6600296,-28.024588,-4.2749295,-26.782618,25.910326,-20.904789,21.240702,-4.101818,-17.091494,16.880428,-16.066513,24.149551,-11.417901,-19.383133,27.468925,27.363075,-37.677887,-12.410551,-20.49996,-23.954882,22.734245,19.961905,-11.776359,-2.0099537,25.362104,-29.85534,10.688274,-0.33612806,-13.484767,-6.916101,-12.612605,-4.6849313,12.577394,-8.054985,-34.59571,-27.179026,28.966204,2.1829786,-28.468464,4.86359,14.249692,-15.443803,7.7992053,16.170372,4.8527865,-16.977793,-14.4744625,22.372332,29.084106,8.555474,-0.42392018,26.975752,16.207762,-25.514965,23.485802,-15.609331,-9.008384,-12.302079,18.741188,-9.933447,-33.265537,-3.3032725,-19.377085,26.664888,-16.070673,23.575596,-35.63843,0.22421557,20.055336,-5.2688656,-11.251563,-2.3948717,-19.083029,-27.706339,11.829019,5.398116,-21.90449,14.220451,-14.176684,-10.328996,20.459578,-39.014378,-7.7742167,-15.950324,-21.920956,22.330986,20.821032,25.998955,10.923876,0.942257,3.3467638,8.751023,-14.198048,-24.914064,-13.967517,-5.040995,28.166845,-26.182232,5.2927566,29.87108,-2.3982835,-23.814487,-0.78515553,8.765717,16.560587,-3.5417032,-2.643003,17.529999,-19.787722,16.73146,-8.541123,-7.876332,-6.5276084,-5.8587623,22.125948,-22.554213,14.2451935,15.650971,-38.22626,-2.5613203,-21.294016,24.20739,-24.209112,-26.202478,5.357336,-16.008007,-13.967202,14.949314,15.526569,-1.2496964,-1.2812221,-26.661743,-3.4871645,-3.930211,-38.09292,22.764027,4.9736204,29.037947,-4.180262,2.8028667,27.943726,-26.624151,-12.503894,17.724247,-30.27986,6.718353,-26.23895,13.995803,8.444395,22.36682,-17.812622,-20.163862,3.3389528,-38.08019,-15.845085,1.1424071,2.0824413,-15.006702,1.2552769,12.5523405,27.305574,-26.261131,13.075593,14.362481,26.001165,-6.6089654,-16.484085,28.003006,7.649694,-30.768969,13.279442,8.15296,-0.94294155,-2.9687855,-38.440086,-26.129305,22.136225,-12.906526,-1.3200876,-20.576982,24.42388,2.4950082,3.9836357,10.338252,-16.61514,-11.537546,-1.5317667,-7.2853346,-25.003408,-35.837044,23.593973,-14.837244,-35.118412,-29.296911,-10.8448105,-23.6564,24.632196,-21.889835,-29.077858,-2.9402924,-23.207651,-15.089326,12.858161,-18.404821,17.312708,19.840244,-1.1384254,1.4606725,1.0819385,18.78597,5.6134,18.194462,-8.065702,-2.434307,21.137238,-12.877782,-16.852333,-24.948551,5.3803215,22.319647,26.230087,23.010963,28.06104,-36.77353,17.014421,-1.2578065,26.12092,-12.373522,19.997242,2.5088334,-6.129239,-3.9250379,-0.23004276,31.328924,14.766804,-18.047384,-28.157267,24.988993,-2.309707,19.400839,15.762805,8.095279,-4.546186,-27.729492,21.19391,-24.641674,25.211748,-22.84465,30.823286,-26.228243,-16.29368,3.2137861,-1.795227,26.194233,20.317522,-19.369377,30.727772,-21.083069,-20.635544,10.740604,8.262971,-14.347191,1.5170418,26.988453,-15.601386,3.7254739,-1.8337655,0.72695655,29.591467,-12.485374,-0.13453105,-32.08627,-12.999527,28.571238,-36.965015,18.56431,21.525255,-4.623541,-5.628512,-5.3958316,-5.96402,17.441147,-22.319595,-22.16561,-33.17256,-0.80662894,-17.572666,-1.2855688,-17.111814,25.25855,1.0914543,-11.902481,-22.1767,8.928564,11.984042,16.13805,14.857704,18.407125,-18.712837,3.6635675,16.524666,1.0452789,-15.000296,17.719765,15.368023,-23.189396,-37.224678,-15.633563,-4.448578,6.3387756,-20.042763,9.165899,-2.3756688,-27.020039,17.485615,-29.139622,-3.4829104,-23.071024,13.047477,-27.300995,-32.143078,-12.770587,-35.74199,15.690614,-22.670023,12.8176565,-7.422169,-1.4699184,-6.5581474,-13.289622,-24.956194,-10.123047,-5.0069475,-20.343695,7.179217,-10.083752,-16.65005,-22.747492,-21.221617,5.5063767,23.346281,16.724709,28.326696,18.104605,-17.906693,19.10931,2.1605372,-20.27311,-20.213009,16.42147,-18.09111,0.45102295,23.570044,14.153686,-14.932977,-2.0662315,-24.7073,-20.325377,-15.927698,17.717834,-31.071297,-28.688951,8.265616,15.926507,12.90762,26.39169,1.3116503,4.6638145,-2.3676279,-15.228442,-36.76597,9.364049,9.528888,14.344081,4.482643,-21.478817,-36.732235,17.130894,19.517529,6.7456026,7.290076,-33.080738,-26.260664,31.597803,10.97724,2.5749946,29.462193,-16.137558,15.299167,-21.120613,-16.92102,2.6280777,13.959442,26.522583,6.1282825,10.921297,-14.659554,5.8972735,24.769474,-10.523142,-2.7749932,22.303717,27.648438,-27.61343,-11.93088,-19.212961,15.767281,25.279785,14.350787,10.260012,-4.205959,-16.943903,3.016892,18.364058,-19.635132,-26.212444,-2.6237364,-18.397064,22.90945,-13.956443,15.764662,21.735592,-0.20286176,30.07187,30.480274,-11.481666,14.001539,17.225475,-23.032242,3.99575,2.7937973,3.7559762,-9.965231,3.5675254,9.162476,-9.814066,-31.669186,19.236261,-17.397995,-12.583822,-1.2074745,21.933285,-20.70477,-16.169685,-5.3062606,-20.868038,24.494783,-24.298708,9.155979,16.880976,25.508884,0.4620625,-30.089245,-37.35527,-23.20446,-1.356158,-37.372334,22.792938,13.653432,-18.836855,27.843628,-19.627138,-30.85547,-0.40637806,29.98017,28.393507,15.719167,10.482347,23.743574,-1.631605,-6.465909,-30.184475,7.715477,-26.609013,8.4285145,-0.9415544,14.9229555,-11.915455,-8.507882,26.66524,20.708624,21.870731,-25.090473,23.675587,-10.192976,16.735313,8.282775,-3.4368355,-26.278631,-30.172281,-30.711254,20.063547,-25.445303,-10.657924,26.739164,-15.1046505,25.233116,-38.020535,-5.6033497,-21.112333,-38.5276,-0.06674217,-26.9832,-20.825289,24.781435,-0.56586885,1.0346439,-36.106045,16.824968,23.533516,23.277782,-22.15655,-4.1658983,-23.65774,24.509552,3.1696286,3.7970712,-38.310875,13.133285,-1.0225406,-12.866976,9.698403,23.493784,22.362394,13.404402,24.9875,-20.830824,21.542547,-15.916024,23.030775,16.603777,-21.732407,24.206459,-1.2339145,1.358022,21.79203,19.765852,4.3303914,14.348462,16.807741,-10.973155,7.1454926,-17.097422,22.76348,1.390843,-38.446648,1.5692967,-10.928139,8.747956,7.910234,-24.561125,-23.517784,-0.12350417,-10.63549,4.705421,-17.084242,-35.376484,18.19438,14.3809,-10.068708,10.065182,30.322014,-32.644962,24.018396,25.883688,-0.595706,17.201544,-3.8042881,-8.439782,10.5356045,23.107891,7.844034,24.231646,-10.897197,22.455626,-28.121553,-26.733952,7.6452928,-18.623684,-4.7157893,-35.063026,-6.952564,-0.16825612,-15.151553,-7.4675684,14.303703,1.5447513,2.5726054,5.640467,29.52535,3.046758,28.23231,-1.6599798,24.904049,22.496576,-34.735477,2.8048568,7.0688066,-3.3594468,30.289883,2.216566,-28.653742,11.831458,22.179953,-34.598305,0.13443422,23.835176,20.158955,18.434528,-5.700104,4.4957023,22.19016,21.942165,16.1492,-18.926895,0.9329345,0.7300874,4.9904604,-30.92548,22.375425,-25.298645,22.097582,3.959956,-22.320059,17.955252,15.69194,-6.4504476,14.926203,-13.499609,10.471559,6.1050735,20.481363,-38.471317,26.695107,15.363393,-0.6689447,21.839825,-0.9990811,-25.999033,-23.797506,25.220905,-17.983648,-4.564954,0.5105498,25.354267,30.827282,-10.446677,-2.7678473,31.252413,-16.010733,19.306398,-27.857388,-25.353636,-0.124354586,-33.50082,-12.886748,-39.187725,26.947319,9.349404,-3.1268682,-8.329953,-16.710236,-3.2438884,-36.468662,8.896587,-2.9682772,-0.6987727,9.579498,21.769388,18.873457,31.60318,-17.995953,-23.782043,2.7036266,-12.098434,-2.3145607,-4.4833813,-1.9072146,1.6447966,2.603206,14.862731,-5.189093,-22.651844,30.274479,8.279469,14.208049,20.106352,-2.1991916,-28.212074,-11.608618,18.637205,-6.862863,2.2603238,-2.7276797,8.432791,-22.60625,-24.241999,2.613291,-15.830926,22.90941,-0.46672636,-21.402617,-11.055058,24.643744,-21.130863,-16.724495,-23.066465,-5.134992,4.458718,4.4880004,0.82724184,22.333818,-12.0371,8.521376,-10.642935,25.24514,-8.395768,1.3425956,2.9452548,11.052319,26.003176,7.3091674,24.858221,-4.1215158,-1.3894304,12.433758,10.929278,-0.45472935,-3.6947927,9.423289,1.510909,-22.085218,-23.749275,-27.68421,-17.77342,21.434565,-3.0274622,-27.88226,-18.146942,5.877623,-21.291006,14.489838,-22.656097,14.936248,-25.221048,0.9744368,13.321918,-13.014522,-7.889451,10.332272,25.201515,-31.726017,-35.48104,-20.193575,29.774544,22.747164,-19.809813,10.625242,22.952606,1.6365016,29.431585,26.820215,-17.185862,5.8018866,18.604912,-31.706657],\"yaxis\":\"y\",\"type\":\"scatter\"}],                        {\"template\":{\"data\":{\"histogram2dcontour\":[{\"type\":\"histogram2dcontour\",\"colorbar\":{\"outlinewidth\":0,\"ticks\":\"\"},\"colorscale\":[[0.0,\"#0d0887\"],[0.1111111111111111,\"#46039f\"],[0.2222222222222222,\"#7201a8\"],[0.3333333333333333,\"#9c179e\"],[0.4444444444444444,\"#bd3786\"],[0.5555555555555556,\"#d8576b\"],[0.6666666666666666,\"#ed7953\"],[0.7777777777777778,\"#fb9f3a\"],[0.8888888888888888,\"#fdca26\"],[1.0,\"#f0f921\"]]}],\"choropleth\":[{\"type\":\"choropleth\",\"colorbar\":{\"outlinewidth\":0,\"ticks\":\"\"}}],\"histogram2d\":[{\"type\":\"histogram2d\",\"colorbar\":{\"outlinewidth\":0,\"ticks\":\"\"},\"colorscale\":[[0.0,\"#0d0887\"],[0.1111111111111111,\"#46039f\"],[0.2222222222222222,\"#7201a8\"],[0.3333333333333333,\"#9c179e\"],[0.4444444444444444,\"#bd3786\"],[0.5555555555555556,\"#d8576b\"],[0.6666666666666666,\"#ed7953\"],[0.7777777777777778,\"#fb9f3a\"],[0.8888888888888888,\"#fdca26\"],[1.0,\"#f0f921\"]]}],\"heatmap\":[{\"type\":\"heatmap\",\"colorbar\":{\"outlinewidth\":0,\"ticks\":\"\"},\"colorscale\":[[0.0,\"#0d0887\"],[0.1111111111111111,\"#46039f\"],[0.2222222222222222,\"#7201a8\"],[0.3333333333333333,\"#9c179e\"],[0.4444444444444444,\"#bd3786\"],[0.5555555555555556,\"#d8576b\"],[0.6666666666666666,\"#ed7953\"],[0.7777777777777778,\"#fb9f3a\"],[0.8888888888888888,\"#fdca26\"],[1.0,\"#f0f921\"]]}],\"heatmapgl\":[{\"type\":\"heatmapgl\",\"colorbar\":{\"outlinewidth\":0,\"ticks\":\"\"},\"colorscale\":[[0.0,\"#0d0887\"],[0.1111111111111111,\"#46039f\"],[0.2222222222222222,\"#7201a8\"],[0.3333333333333333,\"#9c179e\"],[0.4444444444444444,\"#bd3786\"],[0.5555555555555556,\"#d8576b\"],[0.6666666666666666,\"#ed7953\"],[0.7777777777777778,\"#fb9f3a\"],[0.8888888888888888,\"#fdca26\"],[1.0,\"#f0f921\"]]}],\"contourcarpet\":[{\"type\":\"contourcarpet\",\"colorbar\":{\"outlinewidth\":0,\"ticks\":\"\"}}],\"contour\":[{\"type\":\"contour\",\"colorbar\":{\"outlinewidth\":0,\"ticks\":\"\"},\"colorscale\":[[0.0,\"#0d0887\"],[0.1111111111111111,\"#46039f\"],[0.2222222222222222,\"#7201a8\"],[0.3333333333333333,\"#9c179e\"],[0.4444444444444444,\"#bd3786\"],[0.5555555555555556,\"#d8576b\"],[0.6666666666666666,\"#ed7953\"],[0.7777777777777778,\"#fb9f3a\"],[0.8888888888888888,\"#fdca26\"],[1.0,\"#f0f921\"]]}],\"surface\":[{\"type\":\"surface\",\"colorbar\":{\"outlinewidth\":0,\"ticks\":\"\"},\"colorscale\":[[0.0,\"#0d0887\"],[0.1111111111111111,\"#46039f\"],[0.2222222222222222,\"#7201a8\"],[0.3333333333333333,\"#9c179e\"],[0.4444444444444444,\"#bd3786\"],[0.5555555555555556,\"#d8576b\"],[0.6666666666666666,\"#ed7953\"],[0.7777777777777778,\"#fb9f3a\"],[0.8888888888888888,\"#fdca26\"],[1.0,\"#f0f921\"]]}],\"mesh3d\":[{\"type\":\"mesh3d\",\"colorbar\":{\"outlinewidth\":0,\"ticks\":\"\"}}],\"scatter\":[{\"fillpattern\":{\"fillmode\":\"overlay\",\"size\":10,\"solidity\":0.2},\"type\":\"scatter\"}],\"parcoords\":[{\"type\":\"parcoords\",\"line\":{\"colorbar\":{\"outlinewidth\":0,\"ticks\":\"\"}}}],\"scatterpolargl\":[{\"type\":\"scatterpolargl\",\"marker\":{\"colorbar\":{\"outlinewidth\":0,\"ticks\":\"\"}}}],\"bar\":[{\"error_x\":{\"color\":\"#2a3f5f\"},\"error_y\":{\"color\":\"#2a3f5f\"},\"marker\":{\"line\":{\"color\":\"#E5ECF6\",\"width\":0.5},\"pattern\":{\"fillmode\":\"overlay\",\"size\":10,\"solidity\":0.2}},\"type\":\"bar\"}],\"scattergeo\":[{\"type\":\"scattergeo\",\"marker\":{\"colorbar\":{\"outlinewidth\":0,\"ticks\":\"\"}}}],\"scatterpolar\":[{\"type\":\"scatterpolar\",\"marker\":{\"colorbar\":{\"outlinewidth\":0,\"ticks\":\"\"}}}],\"histogram\":[{\"marker\":{\"pattern\":{\"fillmode\":\"overlay\",\"size\":10,\"solidity\":0.2}},\"type\":\"histogram\"}],\"scattergl\":[{\"type\":\"scattergl\",\"marker\":{\"colorbar\":{\"outlinewidth\":0,\"ticks\":\"\"}}}],\"scatter3d\":[{\"type\":\"scatter3d\",\"line\":{\"colorbar\":{\"outlinewidth\":0,\"ticks\":\"\"}},\"marker\":{\"colorbar\":{\"outlinewidth\":0,\"ticks\":\"\"}}}],\"scattermapbox\":[{\"type\":\"scattermapbox\",\"marker\":{\"colorbar\":{\"outlinewidth\":0,\"ticks\":\"\"}}}],\"scatterternary\":[{\"type\":\"scatterternary\",\"marker\":{\"colorbar\":{\"outlinewidth\":0,\"ticks\":\"\"}}}],\"scattercarpet\":[{\"type\":\"scattercarpet\",\"marker\":{\"colorbar\":{\"outlinewidth\":0,\"ticks\":\"\"}}}],\"carpet\":[{\"aaxis\":{\"endlinecolor\":\"#2a3f5f\",\"gridcolor\":\"white\",\"linecolor\":\"white\",\"minorgridcolor\":\"white\",\"startlinecolor\":\"#2a3f5f\"},\"baxis\":{\"endlinecolor\":\"#2a3f5f\",\"gridcolor\":\"white\",\"linecolor\":\"white\",\"minorgridcolor\":\"white\",\"startlinecolor\":\"#2a3f5f\"},\"type\":\"carpet\"}],\"table\":[{\"cells\":{\"fill\":{\"color\":\"#EBF0F8\"},\"line\":{\"color\":\"white\"}},\"header\":{\"fill\":{\"color\":\"#C8D4E3\"},\"line\":{\"color\":\"white\"}},\"type\":\"table\"}],\"barpolar\":[{\"marker\":{\"line\":{\"color\":\"#E5ECF6\",\"width\":0.5},\"pattern\":{\"fillmode\":\"overlay\",\"size\":10,\"solidity\":0.2}},\"type\":\"barpolar\"}],\"pie\":[{\"automargin\":true,\"type\":\"pie\"}]},\"layout\":{\"autotypenumbers\":\"strict\",\"colorway\":[\"#636efa\",\"#EF553B\",\"#00cc96\",\"#ab63fa\",\"#FFA15A\",\"#19d3f3\",\"#FF6692\",\"#B6E880\",\"#FF97FF\",\"#FECB52\"],\"font\":{\"color\":\"#2a3f5f\"},\"hovermode\":\"closest\",\"hoverlabel\":{\"align\":\"left\"},\"paper_bgcolor\":\"white\",\"plot_bgcolor\":\"#E5ECF6\",\"polar\":{\"bgcolor\":\"#E5ECF6\",\"angularaxis\":{\"gridcolor\":\"white\",\"linecolor\":\"white\",\"ticks\":\"\"},\"radialaxis\":{\"gridcolor\":\"white\",\"linecolor\":\"white\",\"ticks\":\"\"}},\"ternary\":{\"bgcolor\":\"#E5ECF6\",\"aaxis\":{\"gridcolor\":\"white\",\"linecolor\":\"white\",\"ticks\":\"\"},\"baxis\":{\"gridcolor\":\"white\",\"linecolor\":\"white\",\"ticks\":\"\"},\"caxis\":{\"gridcolor\":\"white\",\"linecolor\":\"white\",\"ticks\":\"\"}},\"coloraxis\":{\"colorbar\":{\"outlinewidth\":0,\"ticks\":\"\"}},\"colorscale\":{\"sequential\":[[0.0,\"#0d0887\"],[0.1111111111111111,\"#46039f\"],[0.2222222222222222,\"#7201a8\"],[0.3333333333333333,\"#9c179e\"],[0.4444444444444444,\"#bd3786\"],[0.5555555555555556,\"#d8576b\"],[0.6666666666666666,\"#ed7953\"],[0.7777777777777778,\"#fb9f3a\"],[0.8888888888888888,\"#fdca26\"],[1.0,\"#f0f921\"]],\"sequentialminus\":[[0.0,\"#0d0887\"],[0.1111111111111111,\"#46039f\"],[0.2222222222222222,\"#7201a8\"],[0.3333333333333333,\"#9c179e\"],[0.4444444444444444,\"#bd3786\"],[0.5555555555555556,\"#d8576b\"],[0.6666666666666666,\"#ed7953\"],[0.7777777777777778,\"#fb9f3a\"],[0.8888888888888888,\"#fdca26\"],[1.0,\"#f0f921\"]],\"diverging\":[[0,\"#8e0152\"],[0.1,\"#c51b7d\"],[0.2,\"#de77ae\"],[0.3,\"#f1b6da\"],[0.4,\"#fde0ef\"],[0.5,\"#f7f7f7\"],[0.6,\"#e6f5d0\"],[0.7,\"#b8e186\"],[0.8,\"#7fbc41\"],[0.9,\"#4d9221\"],[1,\"#276419\"]]},\"xaxis\":{\"gridcolor\":\"white\",\"linecolor\":\"white\",\"ticks\":\"\",\"title\":{\"standoff\":15},\"zerolinecolor\":\"white\",\"automargin\":true,\"zerolinewidth\":2},\"yaxis\":{\"gridcolor\":\"white\",\"linecolor\":\"white\",\"ticks\":\"\",\"title\":{\"standoff\":15},\"zerolinecolor\":\"white\",\"automargin\":true,\"zerolinewidth\":2},\"scene\":{\"xaxis\":{\"backgroundcolor\":\"#E5ECF6\",\"gridcolor\":\"white\",\"linecolor\":\"white\",\"showbackground\":true,\"ticks\":\"\",\"zerolinecolor\":\"white\",\"gridwidth\":2},\"yaxis\":{\"backgroundcolor\":\"#E5ECF6\",\"gridcolor\":\"white\",\"linecolor\":\"white\",\"showbackground\":true,\"ticks\":\"\",\"zerolinecolor\":\"white\",\"gridwidth\":2},\"zaxis\":{\"backgroundcolor\":\"#E5ECF6\",\"gridcolor\":\"white\",\"linecolor\":\"white\",\"showbackground\":true,\"ticks\":\"\",\"zerolinecolor\":\"white\",\"gridwidth\":2}},\"shapedefaults\":{\"line\":{\"color\":\"#2a3f5f\"}},\"annotationdefaults\":{\"arrowcolor\":\"#2a3f5f\",\"arrowhead\":0,\"arrowwidth\":1},\"geo\":{\"bgcolor\":\"white\",\"landcolor\":\"#E5ECF6\",\"subunitcolor\":\"white\",\"showland\":true,\"showlakes\":true,\"lakecolor\":\"white\"},\"title\":{\"x\":0.05},\"mapbox\":{\"style\":\"light\"}}},\"xaxis\":{\"anchor\":\"y\",\"domain\":[0.0,1.0],\"title\":{\"text\":\"x\"}},\"yaxis\":{\"anchor\":\"x\",\"domain\":[0.0,1.0],\"title\":{\"text\":\"y\"}},\"coloraxis\":{\"colorbar\":{\"title\":{\"text\":\"color\"}},\"colorscale\":[[0.0,\"#0d0887\"],[0.1111111111111111,\"#46039f\"],[0.2222222222222222,\"#7201a8\"],[0.3333333333333333,\"#9c179e\"],[0.4444444444444444,\"#bd3786\"],[0.5555555555555556,\"#d8576b\"],[0.6666666666666666,\"#ed7953\"],[0.7777777777777778,\"#fb9f3a\"],[0.8888888888888888,\"#fdca26\"],[1.0,\"#f0f921\"]]},\"legend\":{\"tracegroupgap\":0},\"margin\":{\"t\":60}},                        {\"responsive\": true}                    ).then(function(){\n",
              "                            \n",
              "var gd = document.getElementById('133e4bb3-110d-4dac-ac8e-adcd315866e0');\n",
              "var x = new MutationObserver(function (mutations, observer) {{\n",
              "        var display = window.getComputedStyle(gd).display;\n",
              "        if (!display || display === 'none') {{\n",
              "            console.log([gd, 'removed!']);\n",
              "            Plotly.purge(gd);\n",
              "            observer.disconnect();\n",
              "        }}\n",
              "}});\n",
              "\n",
              "// Listen for the removal of the full notebook cells\n",
              "var notebookContainer = gd.closest('#notebook-container');\n",
              "if (notebookContainer) {{\n",
              "    x.observe(notebookContainer, {childList: true});\n",
              "}}\n",
              "\n",
              "// Listen for the clearing of the current output cell\n",
              "var outputEl = gd.closest('.output');\n",
              "if (outputEl) {{\n",
              "    x.observe(outputEl, {childList: true});\n",
              "}}\n",
              "\n",
              "                        })                };                            </script>        </div>\n",
              "</body>\n",
              "</html>"
            ]
          },
          "metadata": {}
        }
      ],
      "source": [
        "fig=px.scatter(x=X_reduced_tsne[:,0], y=X_reduced_tsne[:,1], color=y)\n",
        "fig.show()"
      ]
    },
    {
      "cell_type": "markdown",
      "id": "041e973c",
      "metadata": {
        "id": "041e973c"
      },
      "source": [
        "Although the subsample is pretty small, the t-SNE algorithm is able to detect clusters pretty accurately"
      ]
    },
    {
      "cell_type": "markdown",
      "source": [
        "Reference- https://www.geeksforgeeks.org/machine-learning/difference-between-pca-vs-t-sne/\n",
        "\n",
        "Note-ChatGPT was used to help understand the results using WebSearch Feature."
      ],
      "metadata": {
        "id": "qR8pOxu_AIOo"
      },
      "id": "qR8pOxu_AIOo"
    },
    {
      "cell_type": "markdown",
      "id": "85bb3774",
      "metadata": {
        "id": "85bb3774"
      },
      "source": [
        "## Scaling"
      ]
    },
    {
      "cell_type": "code",
      "execution_count": null,
      "id": "7ab1142e",
      "metadata": {
        "colab": {
          "base_uri": "https://localhost:8080/"
        },
        "id": "7ab1142e",
        "outputId": "74f6d3fa-c7e5-4e74-d8d0-bbbb1fd184fb"
      },
      "outputs": [
        {
          "output_type": "stream",
          "name": "stdout",
          "text": [
            "(275663, 29) (275663,)\n"
          ]
        }
      ],
      "source": [
        "scaler = StandardScaler()\n",
        "X = scaler.fit_transform(df.drop('Class', axis=1))\n",
        "y = df['Class'].values\n",
        "print(X.shape, y.shape)"
      ]
    },
    {
      "cell_type": "markdown",
      "id": "22e31517",
      "metadata": {
        "id": "22e31517"
      },
      "source": [
        "## Splitting the data"
      ]
    },
    {
      "cell_type": "code",
      "execution_count": null,
      "id": "f8303d35",
      "metadata": {
        "id": "f8303d35"
      },
      "outputs": [],
      "source": [
        "X_train, X_test, y_train, y_test = train_test_split(X, y, test_size=0.2, random_state=42, stratify=y)"
      ]
    },
    {
      "cell_type": "markdown",
      "id": "e1beefe0",
      "metadata": {
        "id": "e1beefe0"
      },
      "source": [
        "## Testing baseline model with original data"
      ]
    },
    {
      "cell_type": "markdown",
      "id": "388b49a9",
      "metadata": {
        "id": "388b49a9"
      },
      "source": [
        "# WCGAN"
      ]
    },
    {
      "cell_type": "code",
      "execution_count": null,
      "id": "L2BSgrdFfBAr",
      "metadata": {
        "id": "L2BSgrdFfBAr"
      },
      "outputs": [],
      "source": [
        "import numpy as np\n",
        "import tensorflow as tf\n",
        "from tensorflow.keras import Input, Model\n",
        "from tensorflow.keras.layers import Dense, LeakyReLU, BatchNormalization, Concatenate\n",
        "from tensorflow.keras.optimizers import Adam\n",
        "\n",
        "def gradient_penalty(critic, real, fake, cond, gp_weight):\n",
        "    # real, fake, cond are tf.Tensors of shape (batch, dim)\n",
        "    batch_size = tf.shape(real)[0]\n",
        "    alpha = tf.random.uniform([batch_size, 1], 0.0, 1.0)\n",
        "    diff = fake - real\n",
        "    interp = real + alpha * diff\n",
        "\n",
        "    with tf.GradientTape() as gp_tape:\n",
        "        gp_tape.watch(interp)\n",
        "        pred = critic([interp, cond], training=True)\n",
        "    grads = gp_tape.gradient(pred, interp)\n",
        "    norm = tf.sqrt(tf.reduce_sum(tf.square(grads), axis=1) + 1e-12)\n",
        "    gp = tf.reduce_mean((norm - 1.0) ** 2)\n",
        "    return gp_weight * gp\n",
        "\n",
        "class CWGAN_GP:\n",
        "    def __init__(self,\n",
        "                 data_dim=29,\n",
        "                 cond_dim=2,\n",
        "                 latent_dim=100,\n",
        "                 gp_weight=10.0,\n",
        "                 n_critic=5,\n",
        "                 batch_size=64):\n",
        "        self.data_dim   = data_dim\n",
        "        self.cond_dim   = cond_dim\n",
        "        self.latent_dim = latent_dim\n",
        "        self.gp_weight  = gp_weight\n",
        "        self.n_critic   = n_critic\n",
        "        self.batch_size = batch_size\n",
        "\n",
        "        self._build_generator()\n",
        "        self._build_critic()\n",
        "        self.gen_opt  = Adam(1e-4, beta_1=0.0, beta_2=0.9)\n",
        "        self.crit_opt = Adam(1e-4, beta_1=0.0, beta_2=0.9)\n",
        "\n",
        "    def _build_generator(self):\n",
        "        z = Input((self.latent_dim,), name='z')\n",
        "        c = Input((self.cond_dim,), name='c')\n",
        "        x = Concatenate()([z, c])\n",
        "        for units in [256, 512, 512]:\n",
        "            x = Dense(units)(x)\n",
        "            x = LeakyReLU(0.2)(x)\n",
        "            x = BatchNormalization()(x)\n",
        "        out = Dense(self.data_dim, activation='linear')(x)\n",
        "        self.generator = Model([z, c], out, name='generator')\n",
        "\n",
        "    def _build_critic(self):\n",
        "        x_in = Input((self.data_dim,), name='x')\n",
        "        c_in = Input((self.cond_dim,), name='c')\n",
        "        x = Concatenate()([x_in, c_in])\n",
        "        for units in [512, 512, 256]:\n",
        "            x = Dense(units)(x)\n",
        "            x = LeakyReLU(0.2)(x)\n",
        "        out = Dense(1)(x)\n",
        "        self.critic = Model([x_in, c_in], out, name='critic')\n",
        "\n",
        "    def train(self, real_data, real_cond, epochs=10000):\n",
        "        # real_data: np.array shape (N, data_dim)\n",
        "        # real_cond: tf.Tensor shape (N, cond_dim), one-hot\n",
        "        N = real_data.shape[0]\n",
        "\n",
        "        for epoch in range(epochs):\n",
        "            # --- Train critic ---\n",
        "            for _ in range(self.n_critic):\n",
        "                # 1) Sample real batch\n",
        "                idx      = np.random.randint(0, N, self.batch_size)\n",
        "                real_x   = tf.convert_to_tensor(real_data[idx], dtype=tf.float32)\n",
        "                cond_x   = tf.gather(real_cond, idx)\n",
        "\n",
        "                # 2) Sample fake batch\n",
        "                z_noise  = tf.random.normal((self.batch_size, self.latent_dim))\n",
        "                fake_idx = np.random.randint(0, N, self.batch_size)\n",
        "                cond_z   = tf.gather(real_cond, fake_idx)\n",
        "                fake_x   = self.generator([z_noise, cond_z], training=True)\n",
        "\n",
        "                # 3) Compute gradient penalty\n",
        "                gp = gradient_penalty(self.critic, real_x, fake_x, cond_x, self.gp_weight)\n",
        "\n",
        "                # 4) Critic loss: E[fake] − E[real] + GP\n",
        "                with tf.GradientTape() as tape:\n",
        "                    crit_real = self.critic([real_x, cond_x], training=True)\n",
        "                    crit_fake = self.critic([fake_x, cond_z], training=True)\n",
        "                    loss_crit = tf.reduce_mean(crit_fake) - tf.reduce_mean(crit_real) + gp\n",
        "                grads = tape.gradient(loss_crit, self.critic.trainable_variables)\n",
        "                self.crit_opt.apply_gradients(zip(grads, self.critic.trainable_variables))\n",
        "\n",
        "            # --- Train generator ---\n",
        "            z_noise  = tf.random.normal((self.batch_size, self.latent_dim))\n",
        "            fake_idx = np.random.randint(0, N, self.batch_size)\n",
        "            cond_z   = tf.gather(real_cond, fake_idx)\n",
        "            with tf.GradientTape() as tape:\n",
        "                fake_x   = self.generator([z_noise, cond_z], training=True)\n",
        "                crit_fake= self.critic([fake_x, cond_z], training=True)\n",
        "                loss_gen = -tf.reduce_mean(crit_fake)\n",
        "            grads = tape.gradient(loss_gen, self.generator.trainable_variables)\n",
        "            self.gen_opt.apply_gradients(zip(grads, self.generator.trainable_variables))\n",
        "\n",
        "            if epoch % 100 == 0:\n",
        "                print(f\"Epoch {epoch:5d} | Critic loss: {loss_crit:.4f} | Gen loss: {loss_gen:.4f}\")\n"
      ]
    },
    {
      "cell_type": "code",
      "source": [
        "# 1) Instantiate\n",
        "cwgan_gp = CWGAN_GP(\n",
        "    data_dim   = X_train.shape[1],\n",
        "    cond_dim   = 2,                # e.g. [fraud, non-fraud]\n",
        "    latent_dim = 100,\n",
        "    gp_weight  = 10.0,\n",
        "    n_critic   = 5,\n",
        "    batch_size = 64\n",
        ")\n",
        "\n",
        "# 2) One-hot encode your labels\n",
        "y_flat    = tf.reshape(y_train, [-1])              # (N,)\n",
        "y_one_hot = tf.one_hot(tf.cast(y_flat, tf.int32), 2)  # shape (N,2)\n",
        "\n",
        "# 3) Train\n",
        "cwgan_gp.train(X_train, y_one_hot, epochs=1000)\n"
      ],
      "metadata": {
        "colab": {
          "base_uri": "https://localhost:8080/"
        },
        "id": "MGn7sbcifgND",
        "outputId": "953294ec-377e-41ff-eb3d-4045699dae20"
      },
      "id": "MGn7sbcifgND",
      "execution_count": null,
      "outputs": [
        {
          "output_type": "stream",
          "name": "stdout",
          "text": [
            "Epoch     0 | Critic loss: 6.1090 | Gen loss: 0.5685\n",
            "Epoch   100 | Critic loss: 1397.5780 | Gen loss: 9.2581\n",
            "Epoch   200 | Critic loss: 192012.7812 | Gen loss: 70.1896\n",
            "Epoch   300 | Critic loss: 6241431.0000 | Gen loss: 252.6554\n",
            "Epoch   400 | Critic loss: 62133612.0000 | Gen loss: 699.1234\n",
            "Epoch   500 | Critic loss: 438016192.0000 | Gen loss: 1655.2098\n",
            "Epoch   600 | Critic loss: 1936973056.0000 | Gen loss: 3388.1790\n",
            "Epoch   700 | Critic loss: 7145311232.0000 | Gen loss: 5287.6743\n",
            "Epoch   800 | Critic loss: 17574144000.0000 | Gen loss: 9920.8896\n",
            "Epoch   900 | Critic loss: 44732395520.0000 | Gen loss: 15000.6953\n"
          ]
        }
      ]
    },
    {
      "cell_type": "code",
      "execution_count": null,
      "id": "THxkUZ4LfC1R",
      "metadata": {
        "colab": {
          "base_uri": "https://localhost:8080/"
        },
        "id": "THxkUZ4LfC1R",
        "outputId": "ca18a52e-59ec-45c6-9efa-54075fbc1561"
      },
      "outputs": [
        {
          "output_type": "stream",
          "name": "stdout",
          "text": [
            "Latent dim: 100\n"
          ]
        },
        {
          "output_type": "stream",
          "name": "stderr",
          "text": [
            "/usr/local/lib/python3.11/dist-packages/tensorflow/python/data/ops/structured_function.py:258: UserWarning:\n",
            "\n",
            "Even though the `tf.config.experimental_run_functions_eagerly` option is set, this option does not apply to tf.data functions. To force eager execution of tf.data functions, please use `tf.data.experimental.enable_debug_mode()`.\n",
            "\n"
          ]
        },
        {
          "output_type": "stream",
          "name": "stdout",
          "text": [
            "Raw synthetic shape: (250000, 29)\n",
            "Inverted synthetic shape: (250000, 29)\n",
            "         V1        V2        V3        V4        V5        V6        V7  \\\n",
            "0 -0.253715  0.171205 -0.904867 -0.617750 -0.257462 -0.060043  0.148036   \n",
            "1  1.161654 -0.722195  1.134040  0.657625 -1.935358 -0.142218 -1.115209   \n",
            "2 -0.489882 -0.567270  1.032928  0.149828 -0.343240 -0.454798 -0.174313   \n",
            "3 -0.505557  1.023301  0.411002 -0.220463  0.855230 -0.081947  1.558898   \n",
            "4 -0.484908 -0.059251  2.310823  1.175227 -0.310981 -0.567261  0.565086   \n",
            "\n",
            "         V8        V9       V10  ...       V20       V21       V22       V23  \\\n",
            "0  0.564103 -0.805281 -0.703481  ...  0.463993  0.709997  0.458090  0.445238   \n",
            "1  0.296135  0.227779 -0.338042  ...  0.200486 -0.212152  0.030896  0.123221   \n",
            "2  0.611664  0.413410 -1.643420  ... -0.747628 -0.330829 -0.512740  0.111497   \n",
            "3 -0.430036 -0.336923 -0.470161  ...  0.297713 -0.253042 -0.518143 -0.191629   \n",
            "4 -0.338656  0.412040 -0.305642  ...  0.383768 -0.326787 -0.714101  0.012599   \n",
            "\n",
            "        V24       V25       V26       V27       V28    Amount  \n",
            "0 -0.352606 -0.902959  0.142766  0.606141  0.391328  0.803846  \n",
            "1 -0.213284  0.497684 -0.051303  0.110637  0.024613  2.418317  \n",
            "2  0.513363 -0.057275  0.124942  0.047297  0.275059  1.617812  \n",
            "3 -0.223264  0.287628  0.214372 -0.366325 -0.056321  1.549479  \n",
            "4 -0.181329  0.737116 -0.037416 -0.181389 -0.063256  1.306520  \n",
            "\n",
            "[5 rows x 29 columns]\n",
            "Augmented X shape: (470530, 29)\n",
            "Augmented y shape: (470530, 1)\n"
          ]
        }
      ],
      "source": [
        "import numpy as np\n",
        "import pandas as pd\n",
        "from sklearn.preprocessing import StandardScaler\n",
        "\n",
        "# — assume you’ve already:\n",
        "#    • loaded df = pd.read_csv(\"creditcard.csv\")\n",
        "#    • split & scaled: X_train, X_test, y_train, y_test\n",
        "#    • instantiated & trained your CWGAN_GP as `cwgan_gp`\n",
        "\n",
        "# 0) sanity check: you have a cwgan_gp with latent_dim\n",
        "print(\"Latent dim:\", cwgan_gp.latent_dim)\n",
        "\n",
        "# 1) Sample noise for only-fraud synthetic data\n",
        "n_synth = 250_000\n",
        "noise = np.random.normal(0, 1, size=(n_synth, cwgan_gp.latent_dim)).astype(np.float32)\n",
        "\n",
        "# 2) Build a fraud condition vector [1,0] repeated\n",
        "#    (your cond_dim was 2: [fraud, non-fraud])\n",
        "c_fake = np.tile(np.array([[1, 0]], dtype=np.float32), (n_synth, 1))\n",
        "\n",
        "# 3) Generate synthetic samples\n",
        "gen_samples = cwgan_gp.generator.predict([noise, c_fake], verbose=0)\n",
        "print(\"Raw synthetic shape:\", gen_samples.shape)\n",
        "\n",
        "# 4) Invert your scaler to get back to original feature space\n",
        "#    (assuming you used StandardScaler to scale X_train→X_scaled)\n",
        "scaler = StandardScaler().fit(df.drop(\"Class\", axis=1).values)\n",
        "gen_orig = scaler.inverse_transform(gen_samples)\n",
        "print(\"Inverted synthetic shape:\", gen_orig.shape)\n",
        "\n",
        "# 5) (Optional) Inspect as DataFrame\n",
        "gen_df = pd.DataFrame(gen_orig, columns=df.drop(\"Class\", axis=1).columns)\n",
        "print(gen_df.head())\n",
        "\n",
        "# 6) Append synthetic to real training set\n",
        "#    Note: X_train was scaled; if you want to train a classifier on scaled data,\n",
        "#    stack `gen_samples` directly instead of `gen_orig`.\n",
        "gen_X_train = np.vstack([X_train, gen_samples])\n",
        "print(\"Augmented X shape:\", gen_X_train.shape)\n",
        "\n",
        "# 7) Create corresponding labels (all 1s for fraud) and append\n",
        "#    y_train should be shape (n_samples,) or (n_samples,1)\n",
        "y_train_col = y_train.reshape(-1,1) if y_train.ndim == 1 else y_train\n",
        "gen_y = np.ones((n_synth,1), dtype='int32')\n",
        "gen_y_train = np.vstack([y_train_col, gen_y])\n",
        "print(\"Augmented y shape:\", gen_y_train.shape)\n"
      ]
    },
    {
      "cell_type": "markdown",
      "id": "lpgBi5NjBMt0",
      "metadata": {
        "id": "lpgBi5NjBMt0"
      },
      "source": [
        "#Training GAN"
      ]
    },
    {
      "cell_type": "markdown",
      "id": "3_ULtneCn9HQ",
      "metadata": {
        "id": "3_ULtneCn9HQ"
      },
      "source": [
        "## Testing baseline model with generated data"
      ]
    },
    {
      "cell_type": "code",
      "source": [
        "from sklearn.decomposition import PCA\n",
        "import matplotlib.pyplot as plt\n",
        "\n",
        "# 1️⃣ Take only fraud data from real set for comparison\n",
        "real_fraud = X_train[y_train.ravel() == 1]\n",
        "\n",
        "# 2️⃣ Combine real & generated for projection\n",
        "combined_data = np.vstack([real_fraud, gen_samples])\n",
        "labels = np.array([0] * len(real_fraud) + [1] * len(gen_samples))  # 0=Real, 1=Generated\n",
        "\n",
        "# 3️⃣ Apply PCA to 2 components\n",
        "pca = PCA(n_components=2, random_state=42)\n",
        "proj = pca.fit_transform(combined_data)\n",
        "\n",
        "# 4️⃣ Scatter plot\n",
        "plt.figure(figsize=(8,6))\n",
        "plt.scatter(proj[labels==0, 0], proj[labels==0, 1],\n",
        "            alpha=0.5, label='Real Fraud', s=15)\n",
        "plt.scatter(proj[labels==1, 0], proj[labels==1, 1],\n",
        "            alpha=0.5, label='GAN-Generated Fraud', s=15)\n",
        "plt.xlabel(\"PCA Component 1\")\n",
        "plt.ylabel(\"PCA Component 2\")\n",
        "plt.title(\"Real vs GAN-Generated Fraud Samples (PCA Projection)\")\n",
        "plt.legend()\n",
        "plt.show()\n"
      ],
      "metadata": {
        "colab": {
          "base_uri": "https://localhost:8080/",
          "height": 564
        },
        "id": "lnR-8JOfFfG7",
        "outputId": "1abef5a4-2758-46b2-f9e3-c5e56731df39"
      },
      "id": "lnR-8JOfFfG7",
      "execution_count": null,
      "outputs": [
        {
          "output_type": "display_data",
          "data": {
            "text/plain": [
              "<Figure size 800x600 with 1 Axes>"
            ],
            "image/png": "[encoded data removed]"
          },
          "metadata": {}
        }
      ]
    },
    {
      "cell_type": "markdown",
      "source": [
        "\n",
        "Note- ChatGPT used for understanding results and how discriminator can be used.\n",
        "\n",
        "Reference-https://medium.com/the-research-nest/exploring-gans-to-generate-synthetic-data-ca48f8a4b518"
      ],
      "metadata": {
        "id": "PVc8HttbApiz"
      },
      "id": "PVc8HttbApiz"
    },
    {
      "cell_type": "markdown",
      "source": [
        "Interpretation:\n",
        "\n",
        "The WCGAN-generated fraud samples form a very dense, spherical distribution that covers a wide PCA region.\n",
        "\n",
        "Compared to vanilla GANs, the distribution is more stable and less noisy, thanks to the Wasserstein loss with gradient penalty, which improves convergence and reduces mode collapse.\n",
        "\n",
        "However, the generated data appear too uniformly spread—suggesting that while WCGAN maintains diversity, it may sometimes generate overly “generic” fraud points rather than perfectly mimicking the nuanced distribution of real fraud."
      ],
      "metadata": {
        "id": "z5MuMlbZAxnE"
      },
      "id": "z5MuMlbZAxnE"
    },
    {
      "cell_type": "markdown",
      "source": [
        "Conclusion:\n",
        "\n",
        "Strengths: WCGAN produces stable and diverse synthetic fraud samples, avoiding the collapse issues seen in plain GANs.\n",
        "\n",
        "Weaknesses: The spread suggests some loss of realism, as real fraud cases tend to cluster in more structured subspaces.\n",
        "\n",
        "Implication for classification: This explains why WCGAN + LGBM gave balanced recall and precision—the classifier benefits from the broad coverage of synthetic fraud, even if the fine-grained structure is slightly off."
      ],
      "metadata": {
        "id": "-C95xY64A1Cy"
      },
      "id": "-C95xY64A1Cy"
    },
    {
      "cell_type": "code",
      "source": [
        "# 1) Imports\n",
        "import numpy as np\n",
        "import pandas as pd\n",
        "from sklearn.ensemble import RandomForestClassifier\n",
        "from sklearn.metrics import (\n",
        "    classification_report,\n",
        "    confusion_matrix,\n",
        "    roc_auc_score,\n",
        "    average_precision_score\n",
        ")\n",
        "import matplotlib.pyplot as plt\n",
        "import seaborn as sns\n",
        "\n",
        "# 2) Assume you already have:\n",
        "#    gen_X_train: np.ndarray or pd.DataFrame, shape (N_train, n_features)\n",
        "#    gen_y_train: np.ndarray,        shape (N_train,) or (N_train,1)\n",
        "#    X_test_scaled: pd.DataFrame,    shape (N_test,  n_features)\n",
        "#    y_test:       np.ndarray,       shape (N_test,)\n",
        "#\n",
        "# If your gen_y_train is (N_train,1), flatten it:\n",
        "gen_y_train = gen_y_train.ravel()\n",
        "\n",
        "# 3) Instantiate and train RandomForest\n",
        "rf = RandomForestClassifier(\n",
        "    n_estimators=100,\n",
        "    max_depth=None,\n",
        "    min_samples_leaf=5,\n",
        "    random_state=42,\n",
        "    n_jobs=-1\n",
        ")\n",
        "rf.fit(gen_X_train, gen_y_train)\n",
        "\n",
        "# 4) Predict & probability scores on hold-out\n",
        "y_pred = rf.predict(X_test)\n",
        "y_prob = rf.predict_proba(X_test)[:,1]\n",
        "\n",
        "# 5) Compute metrics\n",
        "roc  = roc_auc_score(y_test, y_prob)\n",
        "pr   = average_precision_score(y_test, y_prob)\n",
        "\n",
        "print(f\"ROC-AUC: {roc:.4f}\")\n",
        "print(f\"PR-AUC:  {pr:.4f}\\n\")\n",
        "\n",
        "print(\"Classification Report:\")\n",
        "print(classification_report(y_test, y_pred, digits=4))\n",
        "\n",
        "# 6) Plot confusion matrix\n",
        "cm = confusion_matrix(y_test, y_pred)\n",
        "plt.figure(figsize=(6,5))\n",
        "sns.heatmap(cm, annot=True, fmt=\"d\", cmap=\"Blues\",\n",
        "            xticklabels=rf.classes_, yticklabels=rf.classes_)\n",
        "plt.xlabel(\"Predicted\")\n",
        "plt.ylabel(\"True\")\n",
        "plt.title(\"Confusion Matrix: Random Forest on WCGAN-Augmented Data\")\n",
        "plt.show()"
      ],
      "metadata": {
        "colab": {
          "base_uri": "https://localhost:8080/",
          "height": 732
        },
        "id": "ByxVMlzXsMmZ",
        "outputId": "4f381e24-88e5-4f1a-9924-ae832eabb464"
      },
      "id": "ByxVMlzXsMmZ",
      "execution_count": null,
      "outputs": [
        {
          "output_type": "stream",
          "name": "stdout",
          "text": [
            "ROC-AUC: 0.9527\n",
            "PR-AUC:  0.3290\n",
            "\n",
            "Classification Report:\n",
            "              precision    recall  f1-score   support\n",
            "\n",
            "           0     0.9996    0.9708    0.9850     55038\n",
            "           1     0.0429    0.7579    0.0812        95\n",
            "\n",
            "    accuracy                         0.9705     55133\n",
            "   macro avg     0.5212    0.8644    0.5331     55133\n",
            "weighted avg     0.9979    0.9705    0.9834     55133\n",
            "\n"
          ]
        },
        {
          "output_type": "display_data",
          "data": {
            "text/plain": [
              "<Figure size 600x500 with 2 Axes>"
            ],
            "image/png": "[encoded data removed]"
          },
          "metadata": {}
        }
      ]
    },
    {
      "cell_type": "markdown",
      "source": [
        "ROC-AUC: 0.9527 → Indicates strong overall discrimination ability between fraud and non-fraud.\n",
        "\n",
        "PR-AUC: 0.3290 → Relatively low, suggesting that precision is weak when dealing with highly imbalanced data (too many false positives compared to true positives).\n",
        "\n",
        "Fraud (Class 1):\n",
        "\n",
        "Precision = 0.0429 → Very poor, meaning only ~4% of predicted frauds are actually fraud.\n",
        "\n",
        "Recall = 0.7579 → High, meaning the model catches ~76% of fraud cases.\n",
        "\n",
        "F1 = 0.0812 → Very low due to precision–recall imbalance.\n",
        "\n",
        "Non-Fraud (Class 0):\n",
        "\n",
        "Precision = 0.9996, Recall = 0.9708 → Excellent at classifying legitimate transactions, with very few false alarms."
      ],
      "metadata": {
        "id": "hXpYbvrTBDW7"
      },
      "id": "hXpYbvrTBDW7"
    },
    {
      "cell_type": "markdown",
      "source": [
        "Conclusion:\n",
        "\n",
        "Strength: WCGAN + RF shows excellent recall for fraud detection (75%), making it effective when the goal is to minimize missed fraud cases (high sensitivity).\n",
        "\n",
        "Weakness: Very low precision (4%), meaning it generates too many false alarms — problematic in real-world applications where false positives are costly.\n",
        "\n",
        "Trade-off: This combination favors catching as many frauds as possible, even at the expense of overwhelming investigators with false alerts.\n",
        "\n",
        "Implication: Useful in scenarios where recall is prioritized (e.g., pre-screening transactions before further checks). However, for practical deployment, this setup needs post-filtering or hybrid methods to balance precision and recall."
      ],
      "metadata": {
        "id": "tOEujFr7BF7o"
      },
      "id": "tOEujFr7BF7o"
    },
    {
      "cell_type": "markdown",
      "source": [
        "Referneces-[A hybrid deep learning approach with generative adversarial network for credit card fraud detection](https://doi.org/10.3390/technologies12100186), [Improving detection of credit card fraudulent transactions using generative adversarial networks](https://arxiv.org/abs/1907.03355),https://www.kaggle.com/code/shiratorizawa/wcgan, https://www.kaggle.com/code/gauravduttakiit/cc-fraud-detection-gan-random-forest-classifier/data"
      ],
      "metadata": {
        "id": "6l8Tl2DMAebm"
      },
      "id": "6l8Tl2DMAebm"
    },
    {
      "cell_type": "markdown",
      "source": [
        "Note- ChatGPT used for understanding results and on error in the main wcgan model based on the gradient penalty and how it used."
      ],
      "metadata": {
        "id": "AL0f-ZhMAmFf"
      },
      "id": "AL0f-ZhMAmFf"
    }
  ],
  "metadata": {
    "accelerator": "GPU",
    "colab": {
      "gpuType": "T4",
      "provenance": []
    },
    "kaggle": {
      "accelerator": "none",
      "dataSources": [
        {
          "datasetId": 310,
          "sourceId": 23498,
          "sourceType": "datasetVersion"
        }
      ],
      "dockerImageVersionId": 30822,
      "isGpuEnabled": false,
      "isInternetEnabled": true,
      "language": "python",
      "sourceType": "notebook"
    },
    "kernelspec": {
      "display_name": "Python 3",
      "name": "python3"
    },
    "language_info": {
      "codemirror_mode": {
        "name": "ipython",
        "version": 3
      },
      "file_extension": ".py",
      "mimetype": "text/x-python",
      "name": "python",
      "nbconvert_exporter": "python",
      "pygments_lexer": "ipython3",
      "version": "3.10.12"
    },
    "papermill": {
      "default_parameters": {},
      "duration": 1846.66889,
      "end_time": "2024-12-30T03:00:04.367340",
      "environment_variables": {},
      "exception": null,
      "input_path": "__notebook__.ipynb",
      "output_path": "__notebook__.ipynb",
      "parameters": {},
      "start_time": "2024-12-30T02:29:17.698450",
      "version": "2.6.0"
    }
  },
  "nbformat": 4,
  "nbformat_minor": 5
}