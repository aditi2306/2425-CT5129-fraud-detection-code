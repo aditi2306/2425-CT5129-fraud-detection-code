{
  "cells": [
    {
      "cell_type": "markdown",
      "source": [
        "#VAEGAN with RF as classifier"
      ],
      "metadata": {
        "id": "AZ0YJALn_s0b"
      },
      "id": "AZ0YJALn_s0b"
    },
    {
      "cell_type": "markdown",
      "id": "95b87982",
      "metadata": {
        "id": "95b87982"
      },
      "source": [
        "## Importing Libraries"
      ]
    },
    {
      "cell_type": "code",
      "execution_count": null,
      "id": "cb2d1424",
      "metadata": {
        "id": "cb2d1424"
      },
      "outputs": [],
      "source": [
        "import os\n",
        "import keras\n",
        "import numpy as np\n",
        "import pandas as pd\n",
        "import seaborn as sns\n",
        "import plotly.express as px\n",
        "import plotly.graph_objects as go\n",
        "import matplotlib.pyplot as plt\n",
        "import lightgbm as lgb\n",
        "from sklearn.model_selection import train_test_split\n",
        "from sklearn.preprocessing import QuantileTransformer\n",
        "from sklearn.preprocessing import StandardScaler, MinMaxScaler\n",
        "from tensorflow.keras.layers import Input, Dense, Reshape, Flatten, Dropout, multiply, Concatenate\n",
        "from tensorflow.keras.layers import BatchNormalization, Activation, Embedding, ZeroPadding2D, LeakyReLU\n",
        "from tensorflow.keras.models import Sequential, Model\n",
        "from tensorflow.keras.optimizers import Adam, RMSprop\n",
        "from tensorflow.keras.initializers import RandomNormal\n",
        "import tensorflow.keras.backend as K\n",
        "from sklearn.utils import shuffle\n",
        "from sklearn.metrics import precision_score, recall_score, f1_score,\\\n",
        "                            accuracy_score, balanced_accuracy_score,classification_report,\\\n",
        "                            confusion_matrix,roc_auc_score,average_precision_score\n",
        "from lightgbm import LGBMClassifier"
      ]
    },
    {
      "cell_type": "code",
      "execution_count": null,
      "id": "QgenRhZYJcmv",
      "metadata": {
        "id": "QgenRhZYJcmv"
      },
      "outputs": [],
      "source": [
        "import tensorflow as tf\n",
        "tf.config.run_functions_eagerly(True)\n"
      ]
    },
    {
      "cell_type": "markdown",
      "id": "90a60195",
      "metadata": {
        "id": "90a60195"
      },
      "source": [
        "## EDA"
      ]
    },
    {
      "cell_type": "code",
      "execution_count": null,
      "id": "79bf21d7",
      "metadata": {
        "colab": {
          "base_uri": "https://localhost:8080/"
        },
        "id": "79bf21d7",
        "outputId": "21082a5f-3e9f-48ae-c611-eb74b26fe9d4"
      },
      "outputs": [
        {
          "output_type": "stream",
          "name": "stdout",
          "text": [
            "<class 'pandas.core.frame.DataFrame'>\n",
            "RangeIndex: 284807 entries, 0 to 284806\n",
            "Data columns (total 30 columns):\n",
            " #   Column  Non-Null Count   Dtype  \n",
            "---  ------  --------------   -----  \n",
            " 0   V1      284807 non-null  float64\n",
            " 1   V2      284807 non-null  float64\n",
            " 2   V3      284807 non-null  float64\n",
            " 3   V4      284807 non-null  float64\n",
            " 4   V5      284807 non-null  float64\n",
            " 5   V6      284807 non-null  float64\n",
            " 6   V7      284807 non-null  float64\n",
            " 7   V8      284807 non-null  float64\n",
            " 8   V9      284807 non-null  float64\n",
            " 9   V10     284807 non-null  float64\n",
            " 10  V11     284807 non-null  float64\n",
            " 11  V12     284807 non-null  float64\n",
            " 12  V13     284807 non-null  float64\n",
            " 13  V14     284807 non-null  float64\n",
            " 14  V15     284807 non-null  float64\n",
            " 15  V16     284807 non-null  float64\n",
            " 16  V17     284807 non-null  float64\n",
            " 17  V18     284807 non-null  float64\n",
            " 18  V19     284807 non-null  float64\n",
            " 19  V20     284807 non-null  float64\n",
            " 20  V21     284807 non-null  float64\n",
            " 21  V22     284807 non-null  float64\n",
            " 22  V23     284807 non-null  float64\n",
            " 23  V24     284807 non-null  float64\n",
            " 24  V25     284807 non-null  float64\n",
            " 25  V26     284807 non-null  float64\n",
            " 26  V27     284807 non-null  float64\n",
            " 27  V28     284807 non-null  float64\n",
            " 28  Amount  284807 non-null  float64\n",
            " 29  Class   284807 non-null  int64  \n",
            "dtypes: float64(29), int64(1)\n",
            "memory usage: 65.2 MB\n"
          ]
        }
      ],
      "source": [
        "df=pd.read_csv('./creditcard.csv')\n",
        "df=df.drop('Time',axis=1)\n",
        "df.head()\n",
        "df.info()"
      ]
    },
    {
      "cell_type": "markdown",
      "id": "a828e2f8",
      "metadata": {
        "id": "a828e2f8"
      },
      "source": [
        "PCA Transformation: The description of the data says that all the features went through a PCA transformation (Except for time and amount).  \n",
        "Scaling: Keep in mind that in order to implement a PCA transformation features need to be previously scaled."
      ]
    },
    {
      "cell_type": "code",
      "execution_count": null,
      "id": "b13394f3",
      "metadata": {
        "colab": {
          "base_uri": "https://localhost:8080/",
          "height": 350
        },
        "id": "b13394f3",
        "outputId": "a9b69444-0973-4e1d-c2b2-9aa9526fd1d6"
      },
      "outputs": [
        {
          "output_type": "execute_result",
          "data": {
            "text/plain": [
              "                 V1            V2            V3            V4            V5  \\\n",
              "count  2.848070e+05  2.848070e+05  2.848070e+05  2.848070e+05  2.848070e+05   \n",
              "mean   1.168375e-15  3.416908e-16 -1.379537e-15  2.074095e-15  9.604066e-16   \n",
              "std    1.958696e+00  1.651309e+00  1.516255e+00  1.415869e+00  1.380247e+00   \n",
              "min   -5.640751e+01 -7.271573e+01 -4.832559e+01 -5.683171e+00 -1.137433e+02   \n",
              "25%   -9.203734e-01 -5.985499e-01 -8.903648e-01 -8.486401e-01 -6.915971e-01   \n",
              "50%    1.810880e-02  6.548556e-02  1.798463e-01 -1.984653e-02 -5.433583e-02   \n",
              "75%    1.315642e+00  8.037239e-01  1.027196e+00  7.433413e-01  6.119264e-01   \n",
              "max    2.454930e+00  2.205773e+01  9.382558e+00  1.687534e+01  3.480167e+01   \n",
              "\n",
              "                 V6            V7            V8            V9           V10  \\\n",
              "count  2.848070e+05  2.848070e+05  2.848070e+05  2.848070e+05  2.848070e+05   \n",
              "mean   1.487313e-15 -5.556467e-16  1.213481e-16 -2.406331e-15  2.239053e-15   \n",
              "std    1.332271e+00  1.237094e+00  1.194353e+00  1.098632e+00  1.088850e+00   \n",
              "min   -2.616051e+01 -4.355724e+01 -7.321672e+01 -1.343407e+01 -2.458826e+01   \n",
              "25%   -7.682956e-01 -5.540759e-01 -2.086297e-01 -6.430976e-01 -5.354257e-01   \n",
              "50%   -2.741871e-01  4.010308e-02  2.235804e-02 -5.142873e-02 -9.291738e-02   \n",
              "75%    3.985649e-01  5.704361e-01  3.273459e-01  5.971390e-01  4.539234e-01   \n",
              "max    7.330163e+01  1.205895e+02  2.000721e+01  1.559499e+01  2.374514e+01   \n",
              "\n",
              "       ...           V21           V22           V23           V24  \\\n",
              "count  ...  2.848070e+05  2.848070e+05  2.848070e+05  2.848070e+05   \n",
              "mean   ...  1.654067e-16 -3.568593e-16  2.578648e-16  4.473266e-15   \n",
              "std    ...  7.345240e-01  7.257016e-01  6.244603e-01  6.056471e-01   \n",
              "min    ... -3.483038e+01 -1.093314e+01 -4.480774e+01 -2.836627e+00   \n",
              "25%    ... -2.283949e-01 -5.423504e-01 -1.618463e-01 -3.545861e-01   \n",
              "50%    ... -2.945017e-02  6.781943e-03 -1.119293e-02  4.097606e-02   \n",
              "75%    ...  1.863772e-01  5.285536e-01  1.476421e-01  4.395266e-01   \n",
              "max    ...  2.720284e+01  1.050309e+01  2.252841e+01  4.584549e+00   \n",
              "\n",
              "                V25           V26           V27           V28         Amount  \\\n",
              "count  2.848070e+05  2.848070e+05  2.848070e+05  2.848070e+05  284807.000000   \n",
              "mean   5.340915e-16  1.683437e-15 -3.660091e-16 -1.227390e-16      88.349619   \n",
              "std    5.212781e-01  4.822270e-01  4.036325e-01  3.300833e-01     250.120109   \n",
              "min   -1.029540e+01 -2.604551e+00 -2.256568e+01 -1.543008e+01       0.000000   \n",
              "25%   -3.171451e-01 -3.269839e-01 -7.083953e-02 -5.295979e-02       5.600000   \n",
              "50%    1.659350e-02 -5.213911e-02  1.342146e-03  1.124383e-02      22.000000   \n",
              "75%    3.507156e-01  2.409522e-01  9.104512e-02  7.827995e-02      77.165000   \n",
              "max    7.519589e+00  3.517346e+00  3.161220e+01  3.384781e+01   25691.160000   \n",
              "\n",
              "               Class  \n",
              "count  284807.000000  \n",
              "mean        0.001727  \n",
              "std         0.041527  \n",
              "min         0.000000  \n",
              "25%         0.000000  \n",
              "50%         0.000000  \n",
              "75%         0.000000  \n",
              "max         1.000000  \n",
              "\n",
              "[8 rows x 30 columns]"
            ],
            "text/html": [
              "\n",
              "  <div id=\"df-3c8831b7-6809-464a-b38b-a65f62949dec\" class=\"colab-df-container\">\n",
              "    <div>\n",
              "<style scoped>\n",
              "    .dataframe tbody tr th:only-of-type {\n",
              "        vertical-align: middle;\n",
              "    }\n",
              "\n",
              "    .dataframe tbody tr th {\n",
              "        vertical-align: top;\n",
              "    }\n",
              "\n",
              "    .dataframe thead th {\n",
              "        text-align: right;\n",
              "    }\n",
              "</style>\n",
              "<table border=\"1\" class=\"dataframe\">\n",
              "  <thead>\n",
              "    <tr style=\"text-align: right;\">\n",
              "      <th></th>\n",
              "      <th>V1</th>\n",
              "      <th>V2</th>\n",
              "      <th>V3</th>\n",
              "      <th>V4</th>\n",
              "      <th>V5</th>\n",
              "      <th>V6</th>\n",
              "      <th>V7</th>\n",
              "      <th>V8</th>\n",
              "      <th>V9</th>\n",
              "      <th>V10</th>\n",
              "      <th>...</th>\n",
              "      <th>V21</th>\n",
              "      <th>V22</th>\n",
              "      <th>V23</th>\n",
              "      <th>V24</th>\n",
              "      <th>V25</th>\n",
              "      <th>V26</th>\n",
              "      <th>V27</th>\n",
              "      <th>V28</th>\n",
              "      <th>Amount</th>\n",
              "      <th>Class</th>\n",
              "    </tr>\n",
              "  </thead>\n",
              "  <tbody>\n",
              "    <tr>\n",
              "      <th>count</th>\n",
              "      <td>2.848070e+05</td>\n",
              "      <td>2.848070e+05</td>\n",
              "      <td>2.848070e+05</td>\n",
              "      <td>2.848070e+05</td>\n",
              "      <td>2.848070e+05</td>\n",
              "      <td>2.848070e+05</td>\n",
              "      <td>2.848070e+05</td>\n",
              "      <td>2.848070e+05</td>\n",
              "      <td>2.848070e+05</td>\n",
              "      <td>2.848070e+05</td>\n",
              "      <td>...</td>\n",
              "      <td>2.848070e+05</td>\n",
              "      <td>2.848070e+05</td>\n",
              "      <td>2.848070e+05</td>\n",
              "      <td>2.848070e+05</td>\n",
              "      <td>2.848070e+05</td>\n",
              "      <td>2.848070e+05</td>\n",
              "      <td>2.848070e+05</td>\n",
              "      <td>2.848070e+05</td>\n",
              "      <td>284807.000000</td>\n",
              "      <td>284807.000000</td>\n",
              "    </tr>\n",
              "    <tr>\n",
              "      <th>mean</th>\n",
              "      <td>1.168375e-15</td>\n",
              "      <td>3.416908e-16</td>\n",
              "      <td>-1.379537e-15</td>\n",
              "      <td>2.074095e-15</td>\n",
              "      <td>9.604066e-16</td>\n",
              "      <td>1.487313e-15</td>\n",
              "      <td>-5.556467e-16</td>\n",
              "      <td>1.213481e-16</td>\n",
              "      <td>-2.406331e-15</td>\n",
              "      <td>2.239053e-15</td>\n",
              "      <td>...</td>\n",
              "      <td>1.654067e-16</td>\n",
              "      <td>-3.568593e-16</td>\n",
              "      <td>2.578648e-16</td>\n",
              "      <td>4.473266e-15</td>\n",
              "      <td>5.340915e-16</td>\n",
              "      <td>1.683437e-15</td>\n",
              "      <td>-3.660091e-16</td>\n",
              "      <td>-1.227390e-16</td>\n",
              "      <td>88.349619</td>\n",
              "      <td>0.001727</td>\n",
              "    </tr>\n",
              "    <tr>\n",
              "      <th>std</th>\n",
              "      <td>1.958696e+00</td>\n",
              "      <td>1.651309e+00</td>\n",
              "      <td>1.516255e+00</td>\n",
              "      <td>1.415869e+00</td>\n",
              "      <td>1.380247e+00</td>\n",
              "      <td>1.332271e+00</td>\n",
              "      <td>1.237094e+00</td>\n",
              "      <td>1.194353e+00</td>\n",
              "      <td>1.098632e+00</td>\n",
              "      <td>1.088850e+00</td>\n",
              "      <td>...</td>\n",
              "      <td>7.345240e-01</td>\n",
              "      <td>7.257016e-01</td>\n",
              "      <td>6.244603e-01</td>\n",
              "      <td>6.056471e-01</td>\n",
              "      <td>5.212781e-01</td>\n",
              "      <td>4.822270e-01</td>\n",
              "      <td>4.036325e-01</td>\n",
              "      <td>3.300833e-01</td>\n",
              "      <td>250.120109</td>\n",
              "      <td>0.041527</td>\n",
              "    </tr>\n",
              "    <tr>\n",
              "      <th>min</th>\n",
              "      <td>-5.640751e+01</td>\n",
              "      <td>-7.271573e+01</td>\n",
              "      <td>-4.832559e+01</td>\n",
              "      <td>-5.683171e+00</td>\n",
              "      <td>-1.137433e+02</td>\n",
              "      <td>-2.616051e+01</td>\n",
              "      <td>-4.355724e+01</td>\n",
              "      <td>-7.321672e+01</td>\n",
              "      <td>-1.343407e+01</td>\n",
              "      <td>-2.458826e+01</td>\n",
              "      <td>...</td>\n",
              "      <td>-3.483038e+01</td>\n",
              "      <td>-1.093314e+01</td>\n",
              "      <td>-4.480774e+01</td>\n",
              "      <td>-2.836627e+00</td>\n",
              "      <td>-1.029540e+01</td>\n",
              "      <td>-2.604551e+00</td>\n",
              "      <td>-2.256568e+01</td>\n",
              "      <td>-1.543008e+01</td>\n",
              "      <td>0.000000</td>\n",
              "      <td>0.000000</td>\n",
              "    </tr>\n",
              "    <tr>\n",
              "      <th>25%</th>\n",
              "      <td>-9.203734e-01</td>\n",
              "      <td>-5.985499e-01</td>\n",
              "      <td>-8.903648e-01</td>\n",
              "      <td>-8.486401e-01</td>\n",
              "      <td>-6.915971e-01</td>\n",
              "      <td>-7.682956e-01</td>\n",
              "      <td>-5.540759e-01</td>\n",
              "      <td>-2.086297e-01</td>\n",
              "      <td>-6.430976e-01</td>\n",
              "      <td>-5.354257e-01</td>\n",
              "      <td>...</td>\n",
              "      <td>-2.283949e-01</td>\n",
              "      <td>-5.423504e-01</td>\n",
              "      <td>-1.618463e-01</td>\n",
              "      <td>-3.545861e-01</td>\n",
              "      <td>-3.171451e-01</td>\n",
              "      <td>-3.269839e-01</td>\n",
              "      <td>-7.083953e-02</td>\n",
              "      <td>-5.295979e-02</td>\n",
              "      <td>5.600000</td>\n",
              "      <td>0.000000</td>\n",
              "    </tr>\n",
              "    <tr>\n",
              "      <th>50%</th>\n",
              "      <td>1.810880e-02</td>\n",
              "      <td>6.548556e-02</td>\n",
              "      <td>1.798463e-01</td>\n",
              "      <td>-1.984653e-02</td>\n",
              "      <td>-5.433583e-02</td>\n",
              "      <td>-2.741871e-01</td>\n",
              "      <td>4.010308e-02</td>\n",
              "      <td>2.235804e-02</td>\n",
              "      <td>-5.142873e-02</td>\n",
              "      <td>-9.291738e-02</td>\n",
              "      <td>...</td>\n",
              "      <td>-2.945017e-02</td>\n",
              "      <td>6.781943e-03</td>\n",
              "      <td>-1.119293e-02</td>\n",
              "      <td>4.097606e-02</td>\n",
              "      <td>1.659350e-02</td>\n",
              "      <td>-5.213911e-02</td>\n",
              "      <td>1.342146e-03</td>\n",
              "      <td>1.124383e-02</td>\n",
              "      <td>22.000000</td>\n",
              "      <td>0.000000</td>\n",
              "    </tr>\n",
              "    <tr>\n",
              "      <th>75%</th>\n",
              "      <td>1.315642e+00</td>\n",
              "      <td>8.037239e-01</td>\n",
              "      <td>1.027196e+00</td>\n",
              "      <td>7.433413e-01</td>\n",
              "      <td>6.119264e-01</td>\n",
              "      <td>3.985649e-01</td>\n",
              "      <td>5.704361e-01</td>\n",
              "      <td>3.273459e-01</td>\n",
              "      <td>5.971390e-01</td>\n",
              "      <td>4.539234e-01</td>\n",
              "      <td>...</td>\n",
              "      <td>1.863772e-01</td>\n",
              "      <td>5.285536e-01</td>\n",
              "      <td>1.476421e-01</td>\n",
              "      <td>4.395266e-01</td>\n",
              "      <td>3.507156e-01</td>\n",
              "      <td>2.409522e-01</td>\n",
              "      <td>9.104512e-02</td>\n",
              "      <td>7.827995e-02</td>\n",
              "      <td>77.165000</td>\n",
              "      <td>0.000000</td>\n",
              "    </tr>\n",
              "    <tr>\n",
              "      <th>max</th>\n",
              "      <td>2.454930e+00</td>\n",
              "      <td>2.205773e+01</td>\n",
              "      <td>9.382558e+00</td>\n",
              "      <td>1.687534e+01</td>\n",
              "      <td>3.480167e+01</td>\n",
              "      <td>7.330163e+01</td>\n",
              "      <td>1.205895e+02</td>\n",
              "      <td>2.000721e+01</td>\n",
              "      <td>1.559499e+01</td>\n",
              "      <td>2.374514e+01</td>\n",
              "      <td>...</td>\n",
              "      <td>2.720284e+01</td>\n",
              "      <td>1.050309e+01</td>\n",
              "      <td>2.252841e+01</td>\n",
              "      <td>4.584549e+00</td>\n",
              "      <td>7.519589e+00</td>\n",
              "      <td>3.517346e+00</td>\n",
              "      <td>3.161220e+01</td>\n",
              "      <td>3.384781e+01</td>\n",
              "      <td>25691.160000</td>\n",
              "      <td>1.000000</td>\n",
              "    </tr>\n",
              "  </tbody>\n",
              "</table>\n",
              "<p>8 rows × 30 columns</p>\n",
              "</div>\n",
              "    <div class=\"colab-df-buttons\">\n",
              "\n",
              "  <div class=\"colab-df-container\">\n",
              "    <button class=\"colab-df-convert\" onclick=\"convertToInteractive('df-3c8831b7-6809-464a-b38b-a65f62949dec')\"\n",
              "            title=\"Convert this dataframe to an interactive table.\"\n",
              "            style=\"display:none;\">\n",
              "\n",
              "  <svg xmlns=\"http://www.w3.org/2000/svg\" height=\"24px\" viewBox=\"0 -960 960 960\">\n",
              "    <path d=\"M120-120v-720h720v720H120Zm60-500h600v-160H180v160Zm220 220h160v-160H400v160Zm0 220h160v-160H400v160ZM180-400h160v-160H180v160Zm440 0h160v-160H620v160ZM180-180h160v-160H180v160Zm440 0h160v-160H620v160Z\"/>\n",
              "  </svg>\n",
              "    </button>\n",
              "\n",
              "  <style>\n",
              "    .colab-df-container {\n",
              "      display:flex;\n",
              "      gap: 12px;\n",
              "    }\n",
              "\n",
              "    .colab-df-convert {\n",
              "      background-color: #E8F0FE;\n",
              "      border: none;\n",
              "      border-radius: 50%;\n",
              "      cursor: pointer;\n",
              "      display: none;\n",
              "      fill: #1967D2;\n",
              "      height: 32px;\n",
              "      padding: 0 0 0 0;\n",
              "      width: 32px;\n",
              "    }\n",
              "\n",
              "    .colab-df-convert:hover {\n",
              "      background-color: #E2EBFA;\n",
              "      box-shadow: 0px 1px 2px rgba(60, 64, 67, 0.3), 0px 1px 3px 1px rgba(60, 64, 67, 0.15);\n",
              "      fill: #174EA6;\n",
              "    }\n",
              "\n",
              "    .colab-df-buttons div {\n",
              "      margin-bottom: 4px;\n",
              "    }\n",
              "\n",
              "    [theme=dark] .colab-df-convert {\n",
              "      background-color: #3B4455;\n",
              "      fill: #D2E3FC;\n",
              "    }\n",
              "\n",
              "    [theme=dark] .colab-df-convert:hover {\n",
              "      background-color: #434B5C;\n",
              "      box-shadow: 0px 1px 3px 1px rgba(0, 0, 0, 0.15);\n",
              "      filter: drop-shadow(0px 1px 2px rgba(0, 0, 0, 0.3));\n",
              "      fill: #FFFFFF;\n",
              "    }\n",
              "  </style>\n",
              "\n",
              "    <script>\n",
              "      const buttonEl =\n",
              "        document.querySelector('#df-3c8831b7-6809-464a-b38b-a65f62949dec button.colab-df-convert');\n",
              "      buttonEl.style.display =\n",
              "        google.colab.kernel.accessAllowed ? 'block' : 'none';\n",
              "\n",
              "      async function convertToInteractive(key) {\n",
              "        const element = document.querySelector('#df-3c8831b7-6809-464a-b38b-a65f62949dec');\n",
              "        const dataTable =\n",
              "          await google.colab.kernel.invokeFunction('convertToInteractive',\n",
              "                                                    [key], {});\n",
              "        if (!dataTable) return;\n",
              "\n",
              "        const docLinkHtml = 'Like what you see? Visit the ' +\n",
              "          '<a target=\"_blank\" href=https://colab.research.google.com/notebooks/data_table.ipynb>data table notebook</a>'\n",
              "          + ' to learn more about interactive tables.';\n",
              "        element.innerHTML = '';\n",
              "        dataTable['output_type'] = 'display_data';\n",
              "        await google.colab.output.renderOutput(dataTable, element);\n",
              "        const docLink = document.createElement('div');\n",
              "        docLink.innerHTML = docLinkHtml;\n",
              "        element.appendChild(docLink);\n",
              "      }\n",
              "    </script>\n",
              "  </div>\n",
              "\n",
              "\n",
              "    <div id=\"df-7bdf39a1-7ff4-471d-ab5e-0a6236f21fc8\">\n",
              "      <button class=\"colab-df-quickchart\" onclick=\"quickchart('df-7bdf39a1-7ff4-471d-ab5e-0a6236f21fc8')\"\n",
              "                title=\"Suggest charts\"\n",
              "                style=\"display:none;\">\n",
              "\n",
              "<svg xmlns=\"http://www.w3.org/2000/svg\" height=\"24px\"viewBox=\"0 0 24 24\"\n",
              "     width=\"24px\">\n",
              "    <g>\n",
              "        <path d=\"M19 3H5c-1.1 0-2 .9-2 2v14c0 1.1.9 2 2 2h14c1.1 0 2-.9 2-2V5c0-1.1-.9-2-2-2zM9 17H7v-7h2v7zm4 0h-2V7h2v10zm4 0h-2v-4h2v4z\"/>\n",
              "    </g>\n",
              "</svg>\n",
              "      </button>\n",
              "\n",
              "<style>\n",
              "  .colab-df-quickchart {\n",
              "      --bg-color: #E8F0FE;\n",
              "      --fill-color: #1967D2;\n",
              "      --hover-bg-color: #E2EBFA;\n",
              "      --hover-fill-color: #174EA6;\n",
              "      --disabled-fill-color: #AAA;\n",
              "      --disabled-bg-color: #DDD;\n",
              "  }\n",
              "\n",
              "  [theme=dark] .colab-df-quickchart {\n",
              "      --bg-color: #3B4455;\n",
              "      --fill-color: #D2E3FC;\n",
              "      --hover-bg-color: #434B5C;\n",
              "      --hover-fill-color: #FFFFFF;\n",
              "      --disabled-bg-color: #3B4455;\n",
              "      --disabled-fill-color: #666;\n",
              "  }\n",
              "\n",
              "  .colab-df-quickchart {\n",
              "    background-color: var(--bg-color);\n",
              "    border: none;\n",
              "    border-radius: 50%;\n",
              "    cursor: pointer;\n",
              "    display: none;\n",
              "    fill: var(--fill-color);\n",
              "    height: 32px;\n",
              "    padding: 0;\n",
              "    width: 32px;\n",
              "  }\n",
              "\n",
              "  .colab-df-quickchart:hover {\n",
              "    background-color: var(--hover-bg-color);\n",
              "    box-shadow: 0 1px 2px rgba(60, 64, 67, 0.3), 0 1px 3px 1px rgba(60, 64, 67, 0.15);\n",
              "    fill: var(--button-hover-fill-color);\n",
              "  }\n",
              "\n",
              "  .colab-df-quickchart-complete:disabled,\n",
              "  .colab-df-quickchart-complete:disabled:hover {\n",
              "    background-color: var(--disabled-bg-color);\n",
              "    fill: var(--disabled-fill-color);\n",
              "    box-shadow: none;\n",
              "  }\n",
              "\n",
              "  .colab-df-spinner {\n",
              "    border: 2px solid var(--fill-color);\n",
              "    border-color: transparent;\n",
              "    border-bottom-color: var(--fill-color);\n",
              "    animation:\n",
              "      spin 1s steps(1) infinite;\n",
              "  }\n",
              "\n",
              "  @keyframes spin {\n",
              "    0% {\n",
              "      border-color: transparent;\n",
              "      border-bottom-color: var(--fill-color);\n",
              "      border-left-color: var(--fill-color);\n",
              "    }\n",
              "    20% {\n",
              "      border-color: transparent;\n",
              "      border-left-color: var(--fill-color);\n",
              "      border-top-color: var(--fill-color);\n",
              "    }\n",
              "    30% {\n",
              "      border-color: transparent;\n",
              "      border-left-color: var(--fill-color);\n",
              "      border-top-color: var(--fill-color);\n",
              "      border-right-color: var(--fill-color);\n",
              "    }\n",
              "    40% {\n",
              "      border-color: transparent;\n",
              "      border-right-color: var(--fill-color);\n",
              "      border-top-color: var(--fill-color);\n",
              "    }\n",
              "    60% {\n",
              "      border-color: transparent;\n",
              "      border-right-color: var(--fill-color);\n",
              "    }\n",
              "    80% {\n",
              "      border-color: transparent;\n",
              "      border-right-color: var(--fill-color);\n",
              "      border-bottom-color: var(--fill-color);\n",
              "    }\n",
              "    90% {\n",
              "      border-color: transparent;\n",
              "      border-bottom-color: var(--fill-color);\n",
              "    }\n",
              "  }\n",
              "</style>\n",
              "\n",
              "      <script>\n",
              "        async function quickchart(key) {\n",
              "          const quickchartButtonEl =\n",
              "            document.querySelector('#' + key + ' button');\n",
              "          quickchartButtonEl.disabled = true;  // To prevent multiple clicks.\n",
              "          quickchartButtonEl.classList.add('colab-df-spinner');\n",
              "          try {\n",
              "            const charts = await google.colab.kernel.invokeFunction(\n",
              "                'suggestCharts', [key], {});\n",
              "          } catch (error) {\n",
              "            console.error('Error during call to suggestCharts:', error);\n",
              "          }\n",
              "          quickchartButtonEl.classList.remove('colab-df-spinner');\n",
              "          quickchartButtonEl.classList.add('colab-df-quickchart-complete');\n",
              "        }\n",
              "        (() => {\n",
              "          let quickchartButtonEl =\n",
              "            document.querySelector('#df-7bdf39a1-7ff4-471d-ab5e-0a6236f21fc8 button');\n",
              "          quickchartButtonEl.style.display =\n",
              "            google.colab.kernel.accessAllowed ? 'block' : 'none';\n",
              "        })();\n",
              "      </script>\n",
              "    </div>\n",
              "\n",
              "    </div>\n",
              "  </div>\n"
            ],
            "application/vnd.google.colaboratory.intrinsic+json": {
              "type": "dataframe"
            }
          },
          "metadata": {},
          "execution_count": 4
        }
      ],
      "source": [
        "df.describe()"
      ]
    },
    {
      "cell_type": "code",
      "execution_count": null,
      "id": "306b3e6f",
      "metadata": {
        "colab": {
          "base_uri": "https://localhost:8080/"
        },
        "id": "306b3e6f",
        "outputId": "01c82f8d-1d76-4b14-e83a-bd581fb28879"
      },
      "outputs": [
        {
          "output_type": "stream",
          "name": "stdout",
          "text": [
            "Dataset has 9144 duplicate rows\n"
          ]
        }
      ],
      "source": [
        "# checking for duplicate values\n",
        "print(f\"Dataset has {df.duplicated().sum()} duplicate rows\")\n",
        "# dropping duplicate rows\n",
        "df.drop_duplicates(inplace=True)"
      ]
    },
    {
      "cell_type": "code",
      "execution_count": null,
      "id": "8b2f4c06",
      "metadata": {
        "colab": {
          "base_uri": "https://localhost:8080/"
        },
        "id": "8b2f4c06",
        "outputId": "6bbadd93-ec89-457b-f7b1-fa0c7154e52a"
      },
      "outputs": [
        {
          "output_type": "stream",
          "name": "stdout",
          "text": [
            "<class 'pandas.core.frame.DataFrame'>\n",
            "Index: 275663 entries, 0 to 284806\n",
            "Data columns (total 30 columns):\n",
            " #   Column  Non-Null Count   Dtype  \n",
            "---  ------  --------------   -----  \n",
            " 0   V1      275663 non-null  float64\n",
            " 1   V2      275663 non-null  float64\n",
            " 2   V3      275663 non-null  float64\n",
            " 3   V4      275663 non-null  float64\n",
            " 4   V5      275663 non-null  float64\n",
            " 5   V6      275663 non-null  float64\n",
            " 6   V7      275663 non-null  float64\n",
            " 7   V8      275663 non-null  float64\n",
            " 8   V9      275663 non-null  float64\n",
            " 9   V10     275663 non-null  float64\n",
            " 10  V11     275663 non-null  float64\n",
            " 11  V12     275663 non-null  float64\n",
            " 12  V13     275663 non-null  float64\n",
            " 13  V14     275663 non-null  float64\n",
            " 14  V15     275663 non-null  float64\n",
            " 15  V16     275663 non-null  float64\n",
            " 16  V17     275663 non-null  float64\n",
            " 17  V18     275663 non-null  float64\n",
            " 18  V19     275663 non-null  float64\n",
            " 19  V20     275663 non-null  float64\n",
            " 20  V21     275663 non-null  float64\n",
            " 21  V22     275663 non-null  float64\n",
            " 22  V23     275663 non-null  float64\n",
            " 23  V24     275663 non-null  float64\n",
            " 24  V25     275663 non-null  float64\n",
            " 25  V26     275663 non-null  float64\n",
            " 26  V27     275663 non-null  float64\n",
            " 27  V28     275663 non-null  float64\n",
            " 28  Amount  275663 non-null  float64\n",
            " 29  Class   275663 non-null  int64  \n",
            "dtypes: float64(29), int64(1)\n",
            "memory usage: 65.2 MB\n"
          ]
        }
      ],
      "source": [
        "df.info()"
      ]
    },
    {
      "cell_type": "markdown",
      "id": "c5128908",
      "metadata": {
        "id": "c5128908"
      },
      "source": [
        "There is no null values"
      ]
    },
    {
      "cell_type": "code",
      "execution_count": null,
      "id": "9d6c996a",
      "metadata": {
        "colab": {
          "base_uri": "https://localhost:8080/"
        },
        "id": "9d6c996a",
        "outputId": "11e4e26b-92c0-4149-db7e-a8722619c0c3"
      },
      "outputs": [
        {
          "output_type": "stream",
          "name": "stdout",
          "text": [
            "No Frauds 99.83 % of the dataset\n",
            "Frauds 0.17 % of the dataset\n"
          ]
        }
      ],
      "source": [
        "print('No Frauds', round(df['Class'].value_counts()[0]/len(df) * 100,2), '% of the dataset')\n",
        "print('Frauds', round(df['Class'].value_counts()[1]/len(df) * 100,2), '% of the dataset')"
      ]
    },
    {
      "cell_type": "code",
      "execution_count": null,
      "id": "d88ad047",
      "metadata": {
        "colab": {
          "base_uri": "https://localhost:8080/",
          "height": 468
        },
        "id": "d88ad047",
        "outputId": "35f9613d-448d-4025-e0e4-11aed72084e2"
      },
      "outputs": [
        {
          "output_type": "execute_result",
          "data": {
            "text/plain": [
              "<Axes: xlabel='Class', ylabel='count'>"
            ]
          },
          "metadata": {},
          "execution_count": 8
        },
        {
          "output_type": "display_data",
          "data": {
            "text/plain": [
              "<Figure size 640x480 with 1 Axes>"
            ],
            "image/png": "[encoded data removed]"
          },
          "metadata": {}
        }
      ],
      "source": [
        "sns.countplot(data=df,x='Class')"
      ]
    },
    {
      "cell_type": "code",
      "execution_count": null,
      "id": "30728ee8",
      "metadata": {
        "colab": {
          "base_uri": "https://localhost:8080/",
          "height": 993
        },
        "id": "30728ee8",
        "outputId": "ac5c8258-4588-4004-9819-f400efbf6af0"
      },
      "outputs": [
        {
          "output_type": "execute_result",
          "data": {
            "text/plain": [
              "V1        -3.273070\n",
              "V2        -4.653486\n",
              "V3        -2.216730\n",
              "V4         0.681387\n",
              "V5        -2.458790\n",
              "V6         1.867576\n",
              "V7         2.877722\n",
              "V8        -8.292631\n",
              "V9         0.550965\n",
              "V10        1.242165\n",
              "V11        0.347772\n",
              "V12       -2.208171\n",
              "V13        0.061058\n",
              "V14       -1.953613\n",
              "V15       -0.295836\n",
              "V16       -1.048371\n",
              "V17       -3.802987\n",
              "V18       -0.255710\n",
              "V19        0.115957\n",
              "V20       -2.045060\n",
              "V21        2.784302\n",
              "V22       -0.200868\n",
              "V23       -5.805236\n",
              "V24       -0.545636\n",
              "V25       -0.408260\n",
              "V26        0.587603\n",
              "V27       -0.745732\n",
              "V28       11.400938\n",
              "Amount    16.841622\n",
              "dtype: float64"
            ],
            "text/html": [
              "<div>\n",
              "<style scoped>\n",
              "    .dataframe tbody tr th:only-of-type {\n",
              "        vertical-align: middle;\n",
              "    }\n",
              "\n",
              "    .dataframe tbody tr th {\n",
              "        vertical-align: top;\n",
              "    }\n",
              "\n",
              "    .dataframe thead th {\n",
              "        text-align: right;\n",
              "    }\n",
              "</style>\n",
              "<table border=\"1\" class=\"dataframe\">\n",
              "  <thead>\n",
              "    <tr style=\"text-align: right;\">\n",
              "      <th></th>\n",
              "      <th>0</th>\n",
              "    </tr>\n",
              "  </thead>\n",
              "  <tbody>\n",
              "    <tr>\n",
              "      <th>V1</th>\n",
              "      <td>-3.273070</td>\n",
              "    </tr>\n",
              "    <tr>\n",
              "      <th>V2</th>\n",
              "      <td>-4.653486</td>\n",
              "    </tr>\n",
              "    <tr>\n",
              "      <th>V3</th>\n",
              "      <td>-2.216730</td>\n",
              "    </tr>\n",
              "    <tr>\n",
              "      <th>V4</th>\n",
              "      <td>0.681387</td>\n",
              "    </tr>\n",
              "    <tr>\n",
              "      <th>V5</th>\n",
              "      <td>-2.458790</td>\n",
              "    </tr>\n",
              "    <tr>\n",
              "      <th>V6</th>\n",
              "      <td>1.867576</td>\n",
              "    </tr>\n",
              "    <tr>\n",
              "      <th>V7</th>\n",
              "      <td>2.877722</td>\n",
              "    </tr>\n",
              "    <tr>\n",
              "      <th>V8</th>\n",
              "      <td>-8.292631</td>\n",
              "    </tr>\n",
              "    <tr>\n",
              "      <th>V9</th>\n",
              "      <td>0.550965</td>\n",
              "    </tr>\n",
              "    <tr>\n",
              "      <th>V10</th>\n",
              "      <td>1.242165</td>\n",
              "    </tr>\n",
              "    <tr>\n",
              "      <th>V11</th>\n",
              "      <td>0.347772</td>\n",
              "    </tr>\n",
              "    <tr>\n",
              "      <th>V12</th>\n",
              "      <td>-2.208171</td>\n",
              "    </tr>\n",
              "    <tr>\n",
              "      <th>V13</th>\n",
              "      <td>0.061058</td>\n",
              "    </tr>\n",
              "    <tr>\n",
              "      <th>V14</th>\n",
              "      <td>-1.953613</td>\n",
              "    </tr>\n",
              "    <tr>\n",
              "      <th>V15</th>\n",
              "      <td>-0.295836</td>\n",
              "    </tr>\n",
              "    <tr>\n",
              "      <th>V16</th>\n",
              "      <td>-1.048371</td>\n",
              "    </tr>\n",
              "    <tr>\n",
              "      <th>V17</th>\n",
              "      <td>-3.802987</td>\n",
              "    </tr>\n",
              "    <tr>\n",
              "      <th>V18</th>\n",
              "      <td>-0.255710</td>\n",
              "    </tr>\n",
              "    <tr>\n",
              "      <th>V19</th>\n",
              "      <td>0.115957</td>\n",
              "    </tr>\n",
              "    <tr>\n",
              "      <th>V20</th>\n",
              "      <td>-2.045060</td>\n",
              "    </tr>\n",
              "    <tr>\n",
              "      <th>V21</th>\n",
              "      <td>2.784302</td>\n",
              "    </tr>\n",
              "    <tr>\n",
              "      <th>V22</th>\n",
              "      <td>-0.200868</td>\n",
              "    </tr>\n",
              "    <tr>\n",
              "      <th>V23</th>\n",
              "      <td>-5.805236</td>\n",
              "    </tr>\n",
              "    <tr>\n",
              "      <th>V24</th>\n",
              "      <td>-0.545636</td>\n",
              "    </tr>\n",
              "    <tr>\n",
              "      <th>V25</th>\n",
              "      <td>-0.408260</td>\n",
              "    </tr>\n",
              "    <tr>\n",
              "      <th>V26</th>\n",
              "      <td>0.587603</td>\n",
              "    </tr>\n",
              "    <tr>\n",
              "      <th>V27</th>\n",
              "      <td>-0.745732</td>\n",
              "    </tr>\n",
              "    <tr>\n",
              "      <th>V28</th>\n",
              "      <td>11.400938</td>\n",
              "    </tr>\n",
              "    <tr>\n",
              "      <th>Amount</th>\n",
              "      <td>16.841622</td>\n",
              "    </tr>\n",
              "  </tbody>\n",
              "</table>\n",
              "</div><br><label><b>dtype:</b> float64</label>"
            ]
          },
          "metadata": {},
          "execution_count": 9
        }
      ],
      "source": [
        "df.drop('Class',axis=1).skew()"
      ]
    },
    {
      "cell_type": "code",
      "execution_count": null,
      "id": "d74277ea",
      "metadata": {
        "colab": {
          "base_uri": "https://localhost:8080/",
          "height": 469
        },
        "id": "d74277ea",
        "outputId": "a796376b-8afa-4bbf-d155-3246e98211ec"
      },
      "outputs": [
        {
          "output_type": "execute_result",
          "data": {
            "text/plain": [
              "<Axes: xlabel='Amount', ylabel='Density'>"
            ]
          },
          "metadata": {},
          "execution_count": 10
        },
        {
          "output_type": "display_data",
          "data": {
            "text/plain": [
              "<Figure size 640x480 with 1 Axes>"
            ],
            "image/png": "[encoded data removed]"
          },
          "metadata": {}
        }
      ],
      "source": [
        "sns.kdeplot(df['Amount'])"
      ]
    },
    {
      "cell_type": "code",
      "execution_count": null,
      "id": "bd8cb1b8",
      "metadata": {
        "colab": {
          "base_uri": "https://localhost:8080/",
          "height": 468
        },
        "id": "bd8cb1b8",
        "outputId": "80f3be4f-dfb9-4c88-d72d-3bb4f33f26ca"
      },
      "outputs": [
        {
          "output_type": "execute_result",
          "data": {
            "text/plain": [
              "<Axes: xlabel='Amount', ylabel='Density'>"
            ]
          },
          "metadata": {},
          "execution_count": 11
        },
        {
          "output_type": "display_data",
          "data": {
            "text/plain": [
              "<Figure size 640x480 with 1 Axes>"
            ],
            "image/png": "[encoded data removed]"
          },
          "metadata": {}
        }
      ],
      "source": [
        "df['Amount'] = df['Amount'].apply(lambda x: np.log10(x+1))\n",
        "sns.kdeplot(df['Amount'])"
      ]
    },
    {
      "cell_type": "markdown",
      "id": "284d6f22",
      "metadata": {
        "id": "284d6f22"
      },
      "source": [
        "## Creating a sub sample"
      ]
    },
    {
      "cell_type": "markdown",
      "id": "0a068d5c",
      "metadata": {
        "id": "0a068d5c"
      },
      "source": [
        "What - create a[](http://) df with equal number of fraud and non fraud samples  \n",
        "Why - Although we don't know what the \"V\" features stand for, it will be useful to understand how each of this features influence the target. By having an imbalance dataframe we are not able to see the true correlations between the class and features"
      ]
    },
    {
      "cell_type": "code",
      "execution_count": null,
      "id": "555570b8",
      "metadata": {
        "id": "555570b8"
      },
      "outputs": [],
      "source": [
        "df = df.sample(frac=1)\n",
        "\n",
        "fraud_df = df.loc[df['Class'] == 1]\n",
        "non_fraud_df = df.loc[df['Class'] == 0][:492]\n",
        "\n",
        "subsample = pd.concat([fraud_df, non_fraud_df])\n",
        "new_df = subsample.sample(frac=1, random_state=42)"
      ]
    },
    {
      "cell_type": "markdown",
      "id": "6ece260f",
      "metadata": {
        "id": "6ece260f"
      },
      "source": [
        "### Correlation"
      ]
    },
    {
      "cell_type": "code",
      "execution_count": null,
      "id": "b4be44b5",
      "metadata": {
        "colab": {
          "base_uri": "https://localhost:8080/",
          "height": 542
        },
        "id": "b4be44b5",
        "outputId": "a7db2d12-276d-4c04-e66f-315220ef1431"
      },
      "outputs": [
        {
          "output_type": "display_data",
          "data": {
            "text/html": [
              "<html>\n",
              "<head><meta charset=\"utf-8\" /></head>\n",
              "<body>\n",
              "    <div>            <script src=\"https://cdnjs.cloudflare.com/ajax/libs/mathjax/2.7.5/MathJax.js?config=TeX-AMS-MML_SVG\"></script><script type=\"text/javascript\">if (window.MathJax && window.MathJax.Hub && window.MathJax.Hub.Config) {window.MathJax.Hub.Config({SVG: {font: \"STIX-Web\"}});}</script>                <script type=\"text/javascript\">window.PlotlyConfig = {MathJaxConfig: 'local'};</script>\n",
              "        <script charset=\"utf-8\" src=\"https://cdn.plot.ly/plotly-2.35.2.min.js\"></script>                <div id=\"ebb7fe74-53b3-4fc9-94e3-f61524e22a55\" class=\"plotly-graph-div\" style=\"height:525px; width:100%;\"></div>            <script type=\"text/javascript\">                                    window.PLOTLYENV=window.PLOTLYENV || {};                                    if (document.getElementById(\"ebb7fe74-53b3-4fc9-94e3-f61524e22a55\")) {                    Plotly.newPlot(                        \"ebb7fe74-53b3-4fc9-94e3-f61524e22a55\",                        [{\"coloraxis\":\"coloraxis\",\"name\":\"0\",\"x\":[\"V1\",\"V2\",\"V3\",\"V4\",\"V5\",\"V6\",\"V7\",\"V8\",\"V9\",\"V10\",\"V11\",\"V12\",\"V13\",\"V14\",\"V15\",\"V16\",\"V17\",\"V18\",\"V19\",\"V20\",\"V21\",\"V22\",\"V23\",\"V24\",\"V25\",\"V26\",\"V27\",\"V28\",\"Amount\",\"Class\"],\"y\":[\"V1\",\"V2\",\"V3\",\"V4\",\"V5\",\"V6\",\"V7\",\"V8\",\"V9\",\"V10\",\"V11\",\"V12\",\"V13\",\"V14\",\"V15\",\"V16\",\"V17\",\"V18\",\"V19\",\"V20\",\"V21\",\"V22\",\"V23\",\"V24\",\"V25\",\"V26\",\"V27\",\"V28\",\"Amount\",\"Class\"],\"z\":[[1.0,0.00900205663057262,0.005951870323344033,-0.000041733637722734356,-0.01859293139425907,-0.005788588932603764,-0.006842588291336085,-0.0004903017705977122,-0.0070931881840848926,0.003115080433367509,-0.005238361152132325,-0.005224732658888031,0.0001760739717021782,-0.00016701663809466657,-0.008538155507659413,-0.006376158582724069,-0.0017092604947157382,-0.000037118125851305755,-0.0003657869812604976,0.0031085360485396843,0.006003695030846173,0.003633859573936966,-0.007503985473868793,-0.009326773224502545,-0.004446136018296258,-0.002436423100703944,-0.01462805356767577,-0.003555006941166289,-0.07669206550361626,-0.09471828027403947],[0.00900205663057262,1.0,0.0049764204159172,-0.004094783032821949,0.004654828151539453,0.004290266474645298,0.00486601089747489,0.00374269365593283,0.00111576454742321,0.002764173799416159,-0.0018084640177489593,0.0014801177085391056,0.0004607696108804994,0.0047717397786012535,0.0011762916062600973,0.00264756071610652,0.0013035840599432858,0.00036303790401857075,0.0011638151899723696,-0.0003388726980987929,-0.0038806719512786674,0.0029086740053364873,-0.003688629621718302,0.0019735168281252644,-0.0028369314041973618,-0.0002960596857444356,0.007251624234862317,0.0014575992938977895,-0.45939752929647615,0.08475425481454603],[0.005951870323344033,0.0049764204159172,1.0,-0.0007207506128839672,0.011019512449786589,0.014780101443837667,-0.014015590290726122,0.0037332102991635345,-0.002895531047630375,-0.011064456582014279,0.0037632683294713046,-0.0033654032642078573,-0.0007532888104511632,-0.008208455227591489,0.0033238924517765838,0.00033603306534797216,-0.002813132739071534,-0.0038764479346074417,-0.000827969968805235,-0.0045872244382795385,0.001817856278022294,-0.004202923672142303,0.002183001796768577,0.009782012846899493,0.004090898265090292,0.0035960608038175293,-0.008780490220862925,-0.0024539941230242116,-0.05301909618409625,-0.18577174362070917],[-0.000041733637722734356,-0.004094783032821949,-0.0007207506128839672,1.0,0.006710184917376875,0.012534619986162688,0.0008061613152965535,0.004996484520262695,0.0013954678785992065,0.0033663943727184524,-0.004401812026915816,0.0005605366567561992,0.0003324007482058605,0.005335596702448536,0.004045091895456104,0.0017826285626816993,0.0016328679540392162,0.0015686647749631184,0.005018282953490903,0.001165410096173323,-0.000622586205665397,0.0015809695312210097,-0.00015475367372595105,0.005759384705327697,0.0001730260959624181,-0.001105267971374482,0.002517327210786208,0.00002844701328975086,-0.0006991724135756911,0.13031328765078726],[-0.01859293139425907,0.004654828151539453,0.011019512449786589,0.006710184917376875,1.0,-0.029700785735834036,-0.009106632501580383,-0.002605287522407256,-0.0007861995616427939,-0.0028177407252065233,-0.00296515754039091,-0.00034277222928884396,0.0012005945355469927,0.00517452752529221,-0.007121994543520996,-0.004147091486085956,-0.005421946975850393,-0.003108216609260074,0.00035056602265911256,-0.0007880754250585862,0.003439227658851692,0.0029714567709645235,-0.0010578383026700149,-0.012633613332770174,-0.004862304415897489,-0.0015684754955835785,-0.006115679435719414,-0.0007109361143902876,-0.2852020730073767,-0.08864223740340851],[-0.005788588932603764,0.004290266474645298,0.014780101443837667,0.012534619986162688,-0.029700785735834036,1.0,0.013087429720545843,-0.012300897072017267,-0.002289899443472947,-0.0027228856396609687,0.00044595492078972743,0.0042880059623520254,-0.00013954654889491029,0.00017772529829539733,-0.009362574711093483,-0.002537973840945318,0.0017467394403829096,0.0007341181373793957,0.000880330629504102,-0.001834881952177165,-0.0015842250415121653,0.0023550476524281856,-0.00022080361056576341,-0.021097673272292984,-0.006673263711386155,0.000701899913872604,-0.0015773843269394389,0.0006170632194786855,0.17594040694236954,-0.04477665579579362],[-0.006842588291336085,0.00486601089747489,-0.014015590290726122,0.0008061613152965535,-0.009106632501580383,0.013087429720545843,1.0,-0.0009866326473792807,-0.0016570505889462734,-0.012245575367022955,0.001731286229372147,-0.007377770947454799,0.0010190654338441817,-0.002006382163905123,0.002164699457077221,-0.0035533675012724432,-0.009984959755663068,-0.0040921212231659525,0.0005896092117488781,-0.002195827334780802,0.008634730211603178,-0.0017008984979524214,0.003458050788062188,0.005375437011175862,0.0020698078979524566,-0.00045883836790302205,-0.0039772198732283106,0.001329272118132089,0.09665909375065372,-0.1732918453621176],[-0.0004903017705977122,0.00374269365593283,0.0037332102991635345,0.004996484520262695,-0.002605287522407256,-0.012300897072017267,-0.0009866326473792807,1.0,0.00016845994784150175,0.00023852276984076028,0.00516513777689526,-0.004133687695665372,-0.0013413330919203432,-0.009568384289532227,-0.0023223464399357227,-0.006868307858294954,-0.006049143384273972,-0.0020921198093682408,0.0008553714180542493,0.000562158946695156,0.018805553474640708,-0.005181868541496965,0.006461216507352207,-0.006000318559470978,-0.0028265011984084207,-0.0011224898419865137,-0.00010826667669572369,0.00020087170096160013,-0.021610377555364844,0.03336438460284851],[-0.0070931881840848926,0.00111576454742321,-0.002895531047630375,0.0013954678785992065,-0.0007861995616427939,-0.002289899443472947,-0.0016570505889462734,0.00016845994784150175,1.0,-0.004956960977232545,-0.001583131512264491,0.00022093464914161624,-0.0002590626900248553,-0.005124874206624964,-0.0049122723369860845,0.0026803399946647584,-0.00048754043251908897,-0.0009567733050659993,-0.0009356707772170742,0.0006125813121427941,0.0017444713839397713,0.0007417622746537275,-0.001739260016123748,-0.002454091315873998,-0.00035765868608078757,0.005307459170163417,0.008065890934748323,0.006486668776329384,-0.07379718375060164,-0.0945827589422191],[0.003115080433367509,0.002764173799416159,-0.011064456582014279,0.0033663943727184524,-0.0028177407252065233,-0.0027228856396609687,-0.012245575367022955,0.00023852276984076028,-0.004956960977232545,1.0,0.005211325913813459,-0.0073946819794569905,0.0008896964509361636,-0.0046159222671410425,0.003366010902797509,-0.0036371650675406696,-0.0018408332602425873,0.0009112200184282374,0.0003790291088673917,-0.004506172251323063,0.0023955011018210303,-0.003012080922121245,0.001760451046667392,0.001014918796512274,0.002499102817601568,-0.0008588947666104895,0.011495357691487415,0.009956260833450416,-0.016495040286124703,-0.2081042038853395],[-0.005238361152132325,-0.0018084640177489593,0.0037632683294713046,-0.004401812026915816,-0.00296515754039091,0.00044595492078972743,0.001731286229372147,0.00516513777689526,-0.001583131512264491,0.005211325913813459,1.0,0.0038569701711923437,0.001372239958587199,0.010051637591902677,-0.0023817677004228503,0.0010450899175578135,0.00012728508810071543,-0.001734924515846455,0.002067554253990911,-0.0002896766792570365,-0.0023308194112001746,0.0008035998110590761,-0.0008390469723996764,0.0015836370718236652,-0.0032093521987376803,-0.002064526667881293,0.0024347043516284176,0.002175865834635574,-0.043053442634581544,0.15126045335714344],[-0.005224732658888031,0.0014801177085391056,-0.0033654032642078573,0.0005605366567561992,-0.00034277222928884396,0.0042880059623520254,-0.007377770947454799,-0.004133687695665372,0.00022093464914161624,-0.0073946819794569905,0.0038569701711923437,1.0,0.0025323143640474228,-0.004060598916457961,0.0017273304728851319,-0.007692279149879874,-0.0073945312884731865,-0.0007609712734102242,-0.0017433222825323337,0.0020413560807987607,0.004192083404063449,0.002966654468970743,-0.0011010633955008883,0.0016954532680858716,0.0007319178597714807,-0.0020108838239185794,-0.0007758604396770995,-0.00017303047803577637,-0.011033406249319528,-0.25314979499997725],[0.0001760739717021782,0.0004607696108804994,-0.0007532888104511632,0.0003324007482058605,0.0012005945355469927,-0.00013954654889491029,0.0010190654338441817,-0.0013413330919203432,-0.0002590626900248553,0.0008896964509361636,0.001372239958587199,0.0025323143640474228,1.0,-0.0034795667118207407,0.002514568842396282,-0.0022096783650526796,-0.00031470368423970363,0.000839487337549448,0.001071557038327143,-0.0006206148356032,0.0011005453910092912,0.0002135260322736809,0.0007110910522848692,-0.001014068186775065,-0.000059110392989169596,0.0008868780941754937,-0.001451010249714212,-0.0003797505758876968,-0.006205009221444219,-0.003934245314299097],[-0.00016701663809466657,0.0047717397786012535,-0.008208455227591489,0.005335596702448536,0.00517452752529221,0.00017772529829539733,-0.002006382163905123,-0.009568384289532227,-0.005124874206624964,-0.0046159222671410425,0.010051637591902677,-0.004060598916457961,-0.0034795667118207407,1.0,0.0026244836316104115,-0.0033203068499789877,0.0009197230024976628,0.0014131471241990952,-0.0007510941548648496,0.003683457197060052,0.004710627375381534,-0.0047947905580390145,0.0009289389054848785,0.0003318003192947971,0.0020768168575141673,0.0014042703420475745,-0.003828442029278945,-0.0031782024265970387,0.02138278263985064,-0.297549779756451],[-0.008538155507659413,0.0011762916062600973,0.0033238924517765838,0.004045091895456104,-0.007121994543520996,-0.009362574711093483,0.002164699457077221,-0.0023223464399357227,-0.0049122723369860845,0.003366010902797509,-0.0023817677004228503,0.0017273304728851319,0.002514568842396282,0.0026244836316104115,1.0,-0.004916780368499144,-0.0006027072808329181,-0.0008590147198242856,0.0033865340764305603,0.0003750891706897235,0.001137299263774333,0.0025790032134959204,0.0007269407316841764,-0.008460676558177714,-0.008245117506923286,0.0019241521230987325,-0.0014722700182018334,0.00015627937832891643,-0.05445302096354223,-0.0028239661450144404],[-0.006376158582724069,0.00264756071610652,0.00033603306534797216,0.0017826285626816993,-0.004147091486085956,-0.002537973840945318,-0.0035533675012724432,-0.006868307858294954,0.0026803399946647584,-0.0036371650675406696,0.0010450899175578135,-0.007692279149879874,-0.0022096783650526796,-0.0033203068499789877,-0.004916780368499144,1.0,-0.01004638806246589,-0.009275590059228258,0.0024073594302017874,0.00042400545327878764,0.0052671544004990545,0.0032960882528520444,0.0015241836118114903,-0.004436914287114896,-0.002463651216970671,-0.00449464538097735,-0.003527977806909306,-0.0018546665914331263,-0.09729387167350809,-0.18822150581931638],[-0.0017092604947157382,0.0013035840599432858,-0.002813132739071534,0.0016328679540392162,-0.005421946975850393,0.0017467394403829096,-0.009984959755663068,-0.006049143384273972,-0.00048754043251908897,-0.0018408332602425873,0.00012728508810071543,-0.0073945312884731865,-0.00031470368423970363,0.0009197230024976628,-0.0006027072808329181,-0.01004638806246589,1.0,-0.007602083690617674,0.007939819203282699,0.001208500031945204,0.004162723774863729,0.000545766556749845,0.00241204134593164,0.00459897346323131,-0.0033430327529155833,-0.0010902404860176971,-0.003597076398563299,-0.003586835164462875,0.01692275973435774,-0.31720194703318794],[-0.000037118125851305755,0.00036303790401857075,-0.0038764479346074417,0.0015686647749631184,-0.003108216609260074,0.0007341181373793957,-0.0040921212231659525,-0.0020921198093682408,-0.0009567733050659993,0.0009112200184282374,-0.001734924515846455,-0.0007609712734102242,0.000839487337549448,0.0014131471241990952,-0.0008590147198242856,-0.009275590059228258,-0.007602083690617674,1.0,0.00038945371850088243,-0.00018506842718459576,0.0006194270891825684,-0.004321380435269429,0.0034875147306727525,-0.0008359690508370676,-0.0052309570068277385,0.00358347830406053,-0.005176455822270706,-0.001898867456886153,0.04418650871470498,-0.10644692553081354],[-0.0003657869812604976,0.0011638151899723696,-0.000827969968805235,0.005018282953490903,0.00035056602265911256,0.000880330629504102,0.0005896092117488781,0.0008553714180542493,-0.0009356707772170742,0.0003790291088673917,0.002067554253990911,-0.0017433222825323337,0.001071557038327143,-0.0007510941548648496,0.0033865340764305603,0.0024073594302017874,0.007939819203282699,0.00038945371850088243,1.0,-0.0008462799424582121,0.0008855134322266346,0.003520864299550012,-0.0003568083569355841,-0.0014100893491833311,0.00046536756445182627,0.000907051599973074,-0.000010973789013431962,0.000812630474458452,-0.015601526945530238,0.03378413152415577],[0.0031085360485396843,-0.0003388726980987929,-0.0045872244382795385,0.001165410096173323,-0.0007880754250585862,-0.001834881952177165,-0.002195827334780802,0.000562158946695156,0.0006125813121427941,-0.004506172251323063,-0.0002896766792570365,0.0020413560807987607,-0.0006206148356032,0.003683457197060052,0.0003750891706897235,0.00042400545327878764,0.001208500031945204,-0.00018506842718459576,-0.0008462799424582121,1.0,0.004391631543174648,-0.002321531857096323,0.0007476054518365552,0.00013230040224704797,-1.269899100635141e-6,-0.0003043709137930574,-0.00009623569420509588,0.0018278487908440753,0.14256805451062168,0.021349134626457145],[0.006003695030846173,-0.0038806719512786674,0.001817856278022294,-0.000622586205665397,0.003439227658851692,-0.0015842250415121653,0.008634730211603178,0.018805553474640708,0.0017444713839397713,0.0023955011018210303,-0.0023308194112001746,0.004192083404063449,0.0011005453910092912,0.004710627375381534,0.001137299263774333,0.0052671544004990545,0.004162723774863729,0.0006194270891825684,0.0008855134322266346,0.004391631543174648,1.0,0.0017951267485504633,-0.0043357951089361526,0.0029433295315661762,-0.001299341057234771,0.0008275390972012817,-0.005524039706815122,-0.004461160639097522,0.08325734243772932,0.02623913561853311],[0.003633859573936966,0.0029086740053364873,-0.004202923672142303,0.0015809695312210097,0.0029714567709645235,0.0023550476524281856,-0.0017008984979524214,-0.005181868541496965,0.0007417622746537275,-0.003012080922121245,0.0008035998110590761,0.002966654468970743,0.0002135260322736809,-0.0047947905580390145,0.0025790032134959204,0.0032960882528520444,0.000545766556749845,-0.004321380435269429,0.003520864299550012,-0.002321531857096323,0.0017951267485504633,1.0,0.0061606348167178955,0.004007631493735392,-0.0023307563307247135,0.004308780678510987,0.0016856153718818893,0.0016703357452039387,0.035467865633735336,0.004612376174770524],[-0.007503985473868793,-0.003688629621718302,0.002183001796768577,-0.00015475367372595105,-0.0010578383026700149,-0.00022080361056576341,0.003458050788062188,0.006461216507352207,-0.001739260016123748,0.001760451046667392,-0.0008390469723996764,-0.0011010633955008883,0.0007110910522848692,0.0009289389054848785,0.0007269407316841764,0.0015241836118114903,0.00241204134593164,0.0034875147306727525,-0.0003568083569355841,0.0007476054518365552,-0.0043357951089361526,0.0061606348167178955,1.0,-0.0011911345613579644,0.0036245111360326526,-0.0021047329234189995,-0.0015197357777627233,-0.002719192346928476,-0.02506044623372635,-0.006206025561580703],[-0.009326773224502545,0.0019735168281252644,0.009782012846899493,0.005759384705327697,-0.012633613332770174,-0.021097673272292984,0.005375437011175862,-0.006000318559470978,-0.002454091315873998,0.001014918796512274,0.0015836370718236652,0.0016954532680858716,-0.001014068186775065,0.0003318003192947971,-0.008460676558177714,-0.004436914287114896,0.00459897346323131,-0.0008359690508370676,-0.0014100893491833311,0.00013230040224704797,0.0029433295315661762,0.004007631493735392,-0.0011911345613579644,1.0,-0.0070067150899225,0.001526354548994962,-0.0013154128149647725,0.00008562142586948994,-0.004790119342803767,-0.006831067309310166],[-0.004446136018296258,-0.0028369314041973618,0.004090898265090292,0.0001730260959624181,-0.004862304415897489,-0.006673263711386155,0.0020698078979524566,-0.0028265011984084207,-0.00035765868608078757,0.002499102817601568,-0.0032093521987376803,0.0007319178597714807,-0.000059110392989169596,0.0020768168575141673,-0.008245117506923286,-0.002463651216970671,-0.0033430327529155833,-0.0052309570068277385,0.00046536756445182627,-1.269899100635141e-6,-0.001299341057234771,-0.0023307563307247135,0.0036245111360326526,-0.0070067150899225,1.0,0.004573576764908088,-0.0019952735762458406,-0.0012281791648253628,0.006831989076374264,0.0035929867200256674],[-0.002436423100703944,-0.0002960596857444356,0.0035960608038175293,-0.001105267971374482,-0.0015684754955835785,0.000701899913872604,-0.00045883836790302205,-0.0011224898419865137,0.005307459170163417,-0.0008588947666104895,-0.002064526667881293,-0.0020108838239185794,0.0008868780941754937,0.0014042703420475745,0.0019241521230987325,-0.00449464538097735,-0.0010902404860176971,0.00358347830406053,0.000907051599973074,-0.0003043709137930574,0.0008275390972012817,0.004308780678510987,-0.0021047329234189995,0.001526354548994962,0.004573576764908088,1.0,-0.000958441216136912,-0.000569601827422334,-0.015344104977860842,0.004341289204198009],[-0.01462805356767577,0.007251624234862317,-0.008780490220862925,0.002517327210786208,-0.006115679435719414,-0.0015773843269394389,-0.0039772198732283106,-0.00010826667669572369,0.008065890934748323,0.011495357691487415,0.0024347043516284176,-0.0007758604396770995,-0.001451010249714212,-0.003828442029278945,-0.0014722700182018334,-0.003527977806909306,-0.003597076398563299,-0.005176455822270706,-0.000010973789013431962,-0.00009623569420509588,-0.005524039706815122,0.0016856153718818893,-0.0015197357777627233,-0.0013154128149647725,-0.0019952735762458406,-0.000958441216136912,1.0,-0.014434631792927616,-0.04829631949944458,0.021888244417406565],[-0.003555006941166289,0.0014575992938977895,-0.0024539941230242116,0.00002844701328975086,-0.0007109361143902876,0.0006170632194786855,0.001329272118132089,0.00020087170096160013,0.006486668776329384,0.009956260833450416,0.002175865834635574,-0.00017303047803577637,-0.0003797505758876968,-0.0031782024265970387,0.00015627937832891643,-0.0018546665914331263,-0.003586835164462875,-0.001898867456886153,0.000812630474458452,0.0018278487908440753,-0.004461160639097522,0.0016703357452039387,-0.002719192346928476,0.00008562142586948994,-0.0012281791648253628,-0.000569601827422334,-0.014434631792927616,1.0,-0.0034362894740964387,0.009642345399190419],[-0.07669206550361626,-0.45939752929647615,-0.05301909618409625,-0.0006991724135756911,-0.2852020730073767,0.17594040694236954,0.09665909375065372,-0.021610377555364844,-0.07379718375060164,-0.016495040286124703,-0.043053442634581544,-0.011033406249319528,-0.006205009221444219,0.02138278263985064,-0.05445302096354223,-0.09729387167350809,0.01692275973435774,0.04418650871470498,-0.015601526945530238,0.14256805451062168,0.08325734243772932,0.035467865633735336,-0.02506044623372635,-0.004790119342803767,0.006831989076374264,-0.015344104977860842,-0.04829631949944458,-0.0034362894740964387,1.0,-0.009151675909696582],[-0.09471828027403947,0.08475425481454603,-0.18577174362070917,0.13031328765078726,-0.08864223740340851,-0.04477665579579362,-0.1732918453621176,0.03336438460284851,-0.0945827589422191,-0.2081042038853395,0.15126045335714344,-0.25314979499997725,-0.003934245314299097,-0.297549779756451,-0.0028239661450144404,-0.18822150581931638,-0.31720194703318794,-0.10644692553081354,0.03378413152415577,0.021349134626457145,0.02623913561853311,0.004612376174770524,-0.006206025561580703,-0.006831067309310166,0.0035929867200256674,0.004341289204198009,0.021888244417406565,0.009642345399190419,-0.009151675909696582,1.0]],\"type\":\"heatmap\",\"xaxis\":\"x\",\"yaxis\":\"y\",\"hovertemplate\":\"x: %{x}\\u003cbr\\u003ey: %{y}\\u003cbr\\u003ecolor: %{z}\\u003cextra\\u003e\\u003c\\u002fextra\\u003e\"}],                        {\"template\":{\"data\":{\"histogram2dcontour\":[{\"type\":\"histogram2dcontour\",\"colorbar\":{\"outlinewidth\":0,\"ticks\":\"\"},\"colorscale\":[[0.0,\"#0d0887\"],[0.1111111111111111,\"#46039f\"],[0.2222222222222222,\"#7201a8\"],[0.3333333333333333,\"#9c179e\"],[0.4444444444444444,\"#bd3786\"],[0.5555555555555556,\"#d8576b\"],[0.6666666666666666,\"#ed7953\"],[0.7777777777777778,\"#fb9f3a\"],[0.8888888888888888,\"#fdca26\"],[1.0,\"#f0f921\"]]}],\"choropleth\":[{\"type\":\"choropleth\",\"colorbar\":{\"outlinewidth\":0,\"ticks\":\"\"}}],\"histogram2d\":[{\"type\":\"histogram2d\",\"colorbar\":{\"outlinewidth\":0,\"ticks\":\"\"},\"colorscale\":[[0.0,\"#0d0887\"],[0.1111111111111111,\"#46039f\"],[0.2222222222222222,\"#7201a8\"],[0.3333333333333333,\"#9c179e\"],[0.4444444444444444,\"#bd3786\"],[0.5555555555555556,\"#d8576b\"],[0.6666666666666666,\"#ed7953\"],[0.7777777777777778,\"#fb9f3a\"],[0.8888888888888888,\"#fdca26\"],[1.0,\"#f0f921\"]]}],\"heatmap\":[{\"type\":\"heatmap\",\"colorbar\":{\"outlinewidth\":0,\"ticks\":\"\"},\"colorscale\":[[0.0,\"#0d0887\"],[0.1111111111111111,\"#46039f\"],[0.2222222222222222,\"#7201a8\"],[0.3333333333333333,\"#9c179e\"],[0.4444444444444444,\"#bd3786\"],[0.5555555555555556,\"#d8576b\"],[0.6666666666666666,\"#ed7953\"],[0.7777777777777778,\"#fb9f3a\"],[0.8888888888888888,\"#fdca26\"],[1.0,\"#f0f921\"]]}],\"heatmapgl\":[{\"type\":\"heatmapgl\",\"colorbar\":{\"outlinewidth\":0,\"ticks\":\"\"},\"colorscale\":[[0.0,\"#0d0887\"],[0.1111111111111111,\"#46039f\"],[0.2222222222222222,\"#7201a8\"],[0.3333333333333333,\"#9c179e\"],[0.4444444444444444,\"#bd3786\"],[0.5555555555555556,\"#d8576b\"],[0.6666666666666666,\"#ed7953\"],[0.7777777777777778,\"#fb9f3a\"],[0.8888888888888888,\"#fdca26\"],[1.0,\"#f0f921\"]]}],\"contourcarpet\":[{\"type\":\"contourcarpet\",\"colorbar\":{\"outlinewidth\":0,\"ticks\":\"\"}}],\"contour\":[{\"type\":\"contour\",\"colorbar\":{\"outlinewidth\":0,\"ticks\":\"\"},\"colorscale\":[[0.0,\"#0d0887\"],[0.1111111111111111,\"#46039f\"],[0.2222222222222222,\"#7201a8\"],[0.3333333333333333,\"#9c179e\"],[0.4444444444444444,\"#bd3786\"],[0.5555555555555556,\"#d8576b\"],[0.6666666666666666,\"#ed7953\"],[0.7777777777777778,\"#fb9f3a\"],[0.8888888888888888,\"#fdca26\"],[1.0,\"#f0f921\"]]}],\"surface\":[{\"type\":\"surface\",\"colorbar\":{\"outlinewidth\":0,\"ticks\":\"\"},\"colorscale\":[[0.0,\"#0d0887\"],[0.1111111111111111,\"#46039f\"],[0.2222222222222222,\"#7201a8\"],[0.3333333333333333,\"#9c179e\"],[0.4444444444444444,\"#bd3786\"],[0.5555555555555556,\"#d8576b\"],[0.6666666666666666,\"#ed7953\"],[0.7777777777777778,\"#fb9f3a\"],[0.8888888888888888,\"#fdca26\"],[1.0,\"#f0f921\"]]}],\"mesh3d\":[{\"type\":\"mesh3d\",\"colorbar\":{\"outlinewidth\":0,\"ticks\":\"\"}}],\"scatter\":[{\"fillpattern\":{\"fillmode\":\"overlay\",\"size\":10,\"solidity\":0.2},\"type\":\"scatter\"}],\"parcoords\":[{\"type\":\"parcoords\",\"line\":{\"colorbar\":{\"outlinewidth\":0,\"ticks\":\"\"}}}],\"scatterpolargl\":[{\"type\":\"scatterpolargl\",\"marker\":{\"colorbar\":{\"outlinewidth\":0,\"ticks\":\"\"}}}],\"bar\":[{\"error_x\":{\"color\":\"#2a3f5f\"},\"error_y\":{\"color\":\"#2a3f5f\"},\"marker\":{\"line\":{\"color\":\"#E5ECF6\",\"width\":0.5},\"pattern\":{\"fillmode\":\"overlay\",\"size\":10,\"solidity\":0.2}},\"type\":\"bar\"}],\"scattergeo\":[{\"type\":\"scattergeo\",\"marker\":{\"colorbar\":{\"outlinewidth\":0,\"ticks\":\"\"}}}],\"scatterpolar\":[{\"type\":\"scatterpolar\",\"marker\":{\"colorbar\":{\"outlinewidth\":0,\"ticks\":\"\"}}}],\"histogram\":[{\"marker\":{\"pattern\":{\"fillmode\":\"overlay\",\"size\":10,\"solidity\":0.2}},\"type\":\"histogram\"}],\"scattergl\":[{\"type\":\"scattergl\",\"marker\":{\"colorbar\":{\"outlinewidth\":0,\"ticks\":\"\"}}}],\"scatter3d\":[{\"type\":\"scatter3d\",\"line\":{\"colorbar\":{\"outlinewidth\":0,\"ticks\":\"\"}},\"marker\":{\"colorbar\":{\"outlinewidth\":0,\"ticks\":\"\"}}}],\"scattermapbox\":[{\"type\":\"scattermapbox\",\"marker\":{\"colorbar\":{\"outlinewidth\":0,\"ticks\":\"\"}}}],\"scatterternary\":[{\"type\":\"scatterternary\",\"marker\":{\"colorbar\":{\"outlinewidth\":0,\"ticks\":\"\"}}}],\"scattercarpet\":[{\"type\":\"scattercarpet\",\"marker\":{\"colorbar\":{\"outlinewidth\":0,\"ticks\":\"\"}}}],\"carpet\":[{\"aaxis\":{\"endlinecolor\":\"#2a3f5f\",\"gridcolor\":\"white\",\"linecolor\":\"white\",\"minorgridcolor\":\"white\",\"startlinecolor\":\"#2a3f5f\"},\"baxis\":{\"endlinecolor\":\"#2a3f5f\",\"gridcolor\":\"white\",\"linecolor\":\"white\",\"minorgridcolor\":\"white\",\"startlinecolor\":\"#2a3f5f\"},\"type\":\"carpet\"}],\"table\":[{\"cells\":{\"fill\":{\"color\":\"#EBF0F8\"},\"line\":{\"color\":\"white\"}},\"header\":{\"fill\":{\"color\":\"#C8D4E3\"},\"line\":{\"color\":\"white\"}},\"type\":\"table\"}],\"barpolar\":[{\"marker\":{\"line\":{\"color\":\"#E5ECF6\",\"width\":0.5},\"pattern\":{\"fillmode\":\"overlay\",\"size\":10,\"solidity\":0.2}},\"type\":\"barpolar\"}],\"pie\":[{\"automargin\":true,\"type\":\"pie\"}]},\"layout\":{\"autotypenumbers\":\"strict\",\"colorway\":[\"#636efa\",\"#EF553B\",\"#00cc96\",\"#ab63fa\",\"#FFA15A\",\"#19d3f3\",\"#FF6692\",\"#B6E880\",\"#FF97FF\",\"#FECB52\"],\"font\":{\"color\":\"#2a3f5f\"},\"hovermode\":\"closest\",\"hoverlabel\":{\"align\":\"left\"},\"paper_bgcolor\":\"white\",\"plot_bgcolor\":\"#E5ECF6\",\"polar\":{\"bgcolor\":\"#E5ECF6\",\"angularaxis\":{\"gridcolor\":\"white\",\"linecolor\":\"white\",\"ticks\":\"\"},\"radialaxis\":{\"gridcolor\":\"white\",\"linecolor\":\"white\",\"ticks\":\"\"}},\"ternary\":{\"bgcolor\":\"#E5ECF6\",\"aaxis\":{\"gridcolor\":\"white\",\"linecolor\":\"white\",\"ticks\":\"\"},\"baxis\":{\"gridcolor\":\"white\",\"linecolor\":\"white\",\"ticks\":\"\"},\"caxis\":{\"gridcolor\":\"white\",\"linecolor\":\"white\",\"ticks\":\"\"}},\"coloraxis\":{\"colorbar\":{\"outlinewidth\":0,\"ticks\":\"\"}},\"colorscale\":{\"sequential\":[[0.0,\"#0d0887\"],[0.1111111111111111,\"#46039f\"],[0.2222222222222222,\"#7201a8\"],[0.3333333333333333,\"#9c179e\"],[0.4444444444444444,\"#bd3786\"],[0.5555555555555556,\"#d8576b\"],[0.6666666666666666,\"#ed7953\"],[0.7777777777777778,\"#fb9f3a\"],[0.8888888888888888,\"#fdca26\"],[1.0,\"#f0f921\"]],\"sequentialminus\":[[0.0,\"#0d0887\"],[0.1111111111111111,\"#46039f\"],[0.2222222222222222,\"#7201a8\"],[0.3333333333333333,\"#9c179e\"],[0.4444444444444444,\"#bd3786\"],[0.5555555555555556,\"#d8576b\"],[0.6666666666666666,\"#ed7953\"],[0.7777777777777778,\"#fb9f3a\"],[0.8888888888888888,\"#fdca26\"],[1.0,\"#f0f921\"]],\"diverging\":[[0,\"#8e0152\"],[0.1,\"#c51b7d\"],[0.2,\"#de77ae\"],[0.3,\"#f1b6da\"],[0.4,\"#fde0ef\"],[0.5,\"#f7f7f7\"],[0.6,\"#e6f5d0\"],[0.7,\"#b8e186\"],[0.8,\"#7fbc41\"],[0.9,\"#4d9221\"],[1,\"#276419\"]]},\"xaxis\":{\"gridcolor\":\"white\",\"linecolor\":\"white\",\"ticks\":\"\",\"title\":{\"standoff\":15},\"zerolinecolor\":\"white\",\"automargin\":true,\"zerolinewidth\":2},\"yaxis\":{\"gridcolor\":\"white\",\"linecolor\":\"white\",\"ticks\":\"\",\"title\":{\"standoff\":15},\"zerolinecolor\":\"white\",\"automargin\":true,\"zerolinewidth\":2},\"scene\":{\"xaxis\":{\"backgroundcolor\":\"#E5ECF6\",\"gridcolor\":\"white\",\"linecolor\":\"white\",\"showbackground\":true,\"ticks\":\"\",\"zerolinecolor\":\"white\",\"gridwidth\":2},\"yaxis\":{\"backgroundcolor\":\"#E5ECF6\",\"gridcolor\":\"white\",\"linecolor\":\"white\",\"showbackground\":true,\"ticks\":\"\",\"zerolinecolor\":\"white\",\"gridwidth\":2},\"zaxis\":{\"backgroundcolor\":\"#E5ECF6\",\"gridcolor\":\"white\",\"linecolor\":\"white\",\"showbackground\":true,\"ticks\":\"\",\"zerolinecolor\":\"white\",\"gridwidth\":2}},\"shapedefaults\":{\"line\":{\"color\":\"#2a3f5f\"}},\"annotationdefaults\":{\"arrowcolor\":\"#2a3f5f\",\"arrowhead\":0,\"arrowwidth\":1},\"geo\":{\"bgcolor\":\"white\",\"landcolor\":\"#E5ECF6\",\"subunitcolor\":\"white\",\"showland\":true,\"showlakes\":true,\"lakecolor\":\"white\"},\"title\":{\"x\":0.05},\"mapbox\":{\"style\":\"light\"}}},\"xaxis\":{\"anchor\":\"y\",\"domain\":[0.0,1.0]},\"yaxis\":{\"anchor\":\"x\",\"domain\":[0.0,1.0],\"autorange\":\"reversed\"},\"coloraxis\":{\"colorscale\":[[0.0,\"rgb(5,48,97)\"],[0.1,\"rgb(33,102,172)\"],[0.2,\"rgb(67,147,195)\"],[0.3,\"rgb(146,197,222)\"],[0.4,\"rgb(209,229,240)\"],[0.5,\"rgb(247,247,247)\"],[0.6,\"rgb(253,219,199)\"],[0.7,\"rgb(244,165,130)\"],[0.8,\"rgb(214,96,77)\"],[0.9,\"rgb(178,24,43)\"],[1.0,\"rgb(103,0,31)\"]]},\"margin\":{\"t\":60}},                        {\"responsive\": true}                    ).then(function(){\n",
              "                            \n",
              "var gd = document.getElementById('ebb7fe74-53b3-4fc9-94e3-f61524e22a55');\n",
              "var x = new MutationObserver(function (mutations, observer) {{\n",
              "        var display = window.getComputedStyle(gd).display;\n",
              "        if (!display || display === 'none') {{\n",
              "            console.log([gd, 'removed!']);\n",
              "            Plotly.purge(gd);\n",
              "            observer.disconnect();\n",
              "        }}\n",
              "}});\n",
              "\n",
              "// Listen for the removal of the full notebook cells\n",
              "var notebookContainer = gd.closest('#notebook-container');\n",
              "if (notebookContainer) {{\n",
              "    x.observe(notebookContainer, {childList: true});\n",
              "}}\n",
              "\n",
              "// Listen for the clearing of the current output cell\n",
              "var outputEl = gd.closest('.output');\n",
              "if (outputEl) {{\n",
              "    x.observe(outputEl, {childList: true});\n",
              "}}\n",
              "\n",
              "                        })                };                            </script>        </div>\n",
              "</body>\n",
              "</html>"
            ]
          },
          "metadata": {}
        }
      ],
      "source": [
        "corr = df.corr()\n",
        "fig=px.imshow(corr, aspect=\"auto\" ,color_continuous_scale='RdBu_r')\n",
        "fig.show()"
      ]
    },
    {
      "cell_type": "code",
      "execution_count": null,
      "id": "3c160557",
      "metadata": {
        "colab": {
          "base_uri": "https://localhost:8080/",
          "height": 542
        },
        "id": "3c160557",
        "outputId": "be3024e1-fb6f-4cf6-cc53-9221621d272b"
      },
      "outputs": [
        {
          "output_type": "display_data",
          "data": {
            "text/html": [
              "<html>\n",
              "<head><meta charset=\"utf-8\" /></head>\n",
              "<body>\n",
              "    <div>            <script src=\"https://cdnjs.cloudflare.com/ajax/libs/mathjax/2.7.5/MathJax.js?config=TeX-AMS-MML_SVG\"></script><script type=\"text/javascript\">if (window.MathJax && window.MathJax.Hub && window.MathJax.Hub.Config) {window.MathJax.Hub.Config({SVG: {font: \"STIX-Web\"}});}</script>                <script type=\"text/javascript\">window.PlotlyConfig = {MathJaxConfig: 'local'};</script>\n",
              "        <script charset=\"utf-8\" src=\"https://cdn.plot.ly/plotly-2.35.2.min.js\"></script>                <div id=\"1fae32ee-0b8c-405d-9963-31281aabec21\" class=\"plotly-graph-div\" style=\"height:525px; width:100%;\"></div>            <script type=\"text/javascript\">                                    window.PLOTLYENV=window.PLOTLYENV || {};                                    if (document.getElementById(\"1fae32ee-0b8c-405d-9963-31281aabec21\")) {                    Plotly.newPlot(                        \"1fae32ee-0b8c-405d-9963-31281aabec21\",                        [{\"coloraxis\":\"coloraxis\",\"name\":\"0\",\"x\":[\"V1\",\"V2\",\"V3\",\"V4\",\"V5\",\"V6\",\"V7\",\"V8\",\"V9\",\"V10\",\"V11\",\"V12\",\"V13\",\"V14\",\"V15\",\"V16\",\"V17\",\"V18\",\"V19\",\"V20\",\"V21\",\"V22\",\"V23\",\"V24\",\"V25\",\"V26\",\"V27\",\"V28\",\"Amount\",\"Class\"],\"y\":[\"V1\",\"V2\",\"V3\",\"V4\",\"V5\",\"V6\",\"V7\",\"V8\",\"V9\",\"V10\",\"V11\",\"V12\",\"V13\",\"V14\",\"V15\",\"V16\",\"V17\",\"V18\",\"V19\",\"V20\",\"V21\",\"V22\",\"V23\",\"V24\",\"V25\",\"V26\",\"V27\",\"V28\",\"Amount\",\"Class\"],\"z\":[[1.0,-0.8162095983439752,0.876766512107063,-0.6088076872954266,0.8556052638196325,0.36690113759462856,0.8819472353705948,-0.23794777364554665,0.653177526963676,0.7288982796605661,-0.5287006681004237,0.594581079667605,-0.07228549185264758,0.44303207705416064,0.10617861565534494,0.634144064110568,0.681985353853805,0.6788946526941921,-0.3081530681295238,-0.38335408515301145,0.11883568239035047,-0.0805243204876353,0.0010817167963996256,-0.051008274785143776,-0.11042991510017836,0.046540593929372105,0.10934586700421418,0.17593603142895042,-0.03836489322543656,-0.4229386290279849],[-0.8162095983439752,1.0,-0.871814009932491,0.6854168582962481,-0.800608020158389,-0.3432106139384868,-0.8346008163402413,0.1520194569949665,-0.7040127481681104,-0.7692935785843652,0.6282357487050981,-0.6815221943857558,0.06247439874456826,-0.5759603371752452,-0.14606562741720844,-0.6281557512207565,-0.649241888142833,-0.6256783946466385,0.22481143990149818,0.3877609854811568,-0.1212794394031091,0.078752074960932,0.0789817557802512,0.00047599438400249466,0.1392710798010168,0.011373826768203024,-0.08691820025591486,0.011388791015961183,-0.22045958123457077,0.4828871736925752],[0.876766512107063,-0.871814009932491,1.0,-0.7665595076936573,0.8423443872846258,0.49698932378875865,0.8883669004144048,-0.2937332750492548,0.7550241345899844,0.8451842820922356,-0.7187739401524722,0.7639105142606206,-0.08526429850971635,0.6668628534223878,0.13423588679167398,0.725507154399831,0.7355756348717325,0.6989254322346858,-0.3095708077959611,-0.3939998390920804,0.07496820160150382,-0.07317016339049481,-0.00286931531153584,0.04520254231555709,-0.12296597862117796,-0.030676409629693965,-0.010782631929025135,0.09269351565574688,0.046414487960277744,-0.5731492508065246],[-0.6088076872954266,0.6854168582962481,-0.7665595076936573,1.0,-0.5714708431912162,-0.44188094619976787,-0.7214622108671604,0.150438106332844,-0.7861990843181201,-0.7971837708866385,0.7916184237653486,-0.8396090151490376,0.04267427885778196,-0.8039994270057291,-0.12563521054271967,-0.7240115015920647,-0.7042304778894998,-0.6394542223736315,0.30696044730446076,0.31394593264645143,-0.03252038308116244,0.12886793682062853,0.014643359073811405,-0.12815713039713336,-0.00443300921830525,0.13247907029583178,0.05656863530811684,-0.03851589271239981,-0.1821884419742898,0.7175335470278746],[0.8556052638196325,-0.800608020158389,0.8423443872846258,-0.5714708431912162,1.0,0.3198316149115062,0.8426409970134066,-0.3175589732702934,0.6388199138703861,0.7380592132249238,-0.5202885527068872,0.6072581493098549,-0.14040945160410098,0.43140437819570837,0.0683018380832018,0.6889740095701916,0.7440110207386171,0.7408259986477315,-0.3959077317348461,-0.33927556843857215,0.07912591079521825,-0.10169659131637718,-0.071425467177731,-0.11856289606486098,-0.11102960405554109,0.058875216955971164,0.09599967505015351,0.14414522471036245,-0.1757197155022074,-0.3718129650773904],[0.36690113759462856,-0.3432106139384868,0.49698932378875865,-0.44188094619976787,0.3198316149115062,1.0,0.3433012832977876,-0.5263680981059261,0.37294222958644374,0.43649068350923453,-0.5212559095974816,0.5052857849354123,-0.07742400908355215,0.5728422613331382,-0.04905258188834096,0.4499312285423738,0.43033479730743845,0.3755624972026749,-0.20363460541611902,-0.048202340750115966,-0.22997865725997144,0.20965250883916542,0.25847371381886514,0.017794345595417246,-0.1844051486090394,-0.016401562609177446,-0.23655442113730296,-0.09334932384383866,0.1886581846982143,-0.42987293049827147],[0.8819472353705948,-0.8346008163402413,0.8883669004144048,-0.7214622108671604,0.8426409970134066,0.3433012832977876,1.0,-0.055964873425185545,0.7727857686182579,0.8703272751972836,-0.6413690706513338,0.732054633725253,-0.059804961373396616,0.5507229833664081,0.17346133321563548,0.7542497636435562,0.7849978468555574,0.7692677120318011,-0.35781918280594904,-0.4677794348318887,0.21400579875267073,-0.22744685230847828,-0.025945498839283064,-0.03877895484206881,0.020006403860399265,0.00961491098633422,0.15300971270321762,0.13631809454273275,0.0985513177569785,-0.4732392577909493],[-0.23794777364554665,0.1520194569949665,-0.2937332750492548,0.150438106332844,-0.3175589732702934,-0.5263680981059261,-0.055964873425185545,1.0,-0.09025274466446243,-0.10594607840317032,0.24418192973856312,-0.21340229448071873,0.24299179309549038,-0.27221191725040234,0.14248203469362364,-0.2643280795619717,-0.2910666723805832,-0.2655073380082207,0.2275772811480943,-0.1955951711684673,0.41234698305589784,-0.37340642787561357,-0.3120628794879925,0.031342969502452946,0.29791205541817345,0.023697514069506476,0.41214424078051026,0.08306125947507571,0.1463632265618673,0.12040968444403745],[0.653177526963676,-0.7040127481681104,0.7550241345899844,-0.7861990843181201,0.6388199138703861,0.37294222958644374,0.7727857686182579,-0.09025274466446243,1.0,0.8409846081391041,-0.7003059640407719,0.7653344023163766,-0.03910487293658091,0.6800894122685573,0.12438191176408309,0.736312626159979,0.7518682251100574,0.7112350034431987,-0.3418260352255901,-0.3695706162278233,0.17224114487614178,-0.23977890056915938,-0.06907176254319602,0.05535062171629971,-0.022964433324943315,-0.1317920653855512,0.048726193414960095,0.09319786089135526,0.12947308708748959,-0.5501327592868323],[0.7288982796605661,-0.7692935785843652,0.8451842820922356,-0.7971837708866385,0.7380592132249238,0.43649068350923453,0.8703272751972836,-0.10594607840317032,0.8409846081391041,1.0,-0.8039963928915775,0.8851450622651845,-0.04434762666327793,0.7702443072101686,0.15006467898238288,0.8537775407245579,0.8556077384373315,0.799227755769957,-0.40692360495664726,-0.4012935325471861,0.1257357512766568,-0.23517638320586298,-0.03669344921460818,0.03418795866492602,-0.0052634935944876225,-0.030189548411518493,0.04980854681444957,0.08530719418230452,0.10424269048414762,-0.6302254956986856],[-0.5287006681004237,0.6282357487050981,-0.7187739401524722,0.7916184237653486,-0.5202885527068872,-0.5212559095974816,-0.6413690706513338,0.24418192973856312,-0.7003059640407719,-0.8039963928915775,1.0,-0.9007127151426584,0.06615797744281435,-0.8846504721966139,-0.06990398809476452,-0.7957858266583336,-0.7660650700247515,-0.6693947242936101,0.36688580499308837,0.22145970398156414,0.13381270083052982,0.04275540481412779,-0.053584180820634264,-0.14525522652621017,0.03929252230001149,0.14536765582236277,0.23164950389920594,0.033371979346674956,-0.17433586884842617,0.6778284287803915],[0.594581079667605,-0.6815221943857558,0.7639105142606206,-0.8396090151490376,0.6072581493098549,0.5052857849354123,0.732054633725253,-0.21340229448071873,0.7653344023163766,0.8851450622651845,-0.9007127151426584,1.0,-0.08487254171611111,0.8846267150100555,0.08409426951640414,0.8968457118324958,0.8713072728430865,0.7977204022224609,-0.42637298381183936,-0.23971932708503854,-0.08958521472619892,-0.11665358675787142,0.018619892369706827,0.0846795653589079,0.015179582872690237,-0.10520688457557584,-0.09610712891038835,-0.020438132600198985,0.13767751421585453,-0.6848215761393989],[-0.07228549185264758,0.06247439874456826,-0.08526429850971635,0.04267427885778196,-0.14040945160410098,-0.07742400908355215,-0.059804961373396616,0.24299179309549038,-0.03910487293658091,-0.04434762666327793,0.06615797744281435,-0.08487254171611111,1.0,-0.01835007381095171,-0.028711058055921324,-0.12412470474105408,-0.13780975514521018,-0.14549115551105501,0.16716069015629959,-0.07067994966524231,0.1080899115264751,-0.05028772330100515,-0.05331604166774119,0.02584537754918399,0.026305199221009695,0.033114549634731864,0.05773333804823466,-0.10998755575063297,0.08454653665390711,-0.04962822690182919],[0.44303207705416064,-0.5759603371752452,0.6668628534223878,-0.8039994270057291,0.43140437819570837,0.5728422613331382,0.5507229833664081,-0.27221191725040234,0.6800894122685573,0.7702443072101686,-0.8846504721966139,0.8846267150100555,-0.01835007381095171,1.0,0.02350281537626537,0.7692094986923957,0.7232830076927378,0.6165192447761214,-0.3319069317884152,-0.15067037093455915,-0.23000066234834238,0.03679648971916568,0.04567152699377324,0.17451142510121612,-0.09088572577057075,-0.1414075201578159,-0.24283771200734822,-0.12609537087819686,0.19462825669030787,-0.7463759455158534],[0.10617861565534494,-0.14606562741720844,0.13423588679167398,-0.12563521054271967,0.0683018380832018,-0.04905258188834096,0.17346133321563548,0.14248203469362364,0.12438191176408309,0.15006467898238288,-0.06990398809476452,0.08409426951640414,-0.028711058055921324,0.02350281537626537,1.0,0.016157751142972725,0.041031692611890894,0.03031255508662063,0.20683799736628958,-0.150045470333005,0.18800929579359726,-0.08671088953745033,-0.05173297728164897,0.04449053538885277,-0.05847321392603354,-0.004796691691538222,0.13511545602368177,0.07504030492423971,0.08924505266492679,-0.05199750214724304],[0.634144064110568,-0.6281557512207565,0.725507154399831,-0.7240115015920647,0.6889740095701916,0.4499312285423738,0.7542497636435562,-0.2643280795619717,0.736312626159979,0.8537775407245579,-0.7957858266583336,0.8968457118324958,-0.12412470474105408,0.7692094986923957,0.016157751142972725,1.0,0.9503333773020384,0.9032948540920734,-0.6074872999654947,-0.2119787859042036,-0.13616480844858755,-0.14562427464075528,0.029193311621194512,-0.013421754213920405,0.0494347030432215,-0.053632944868390466,-0.07737530880440219,0.004822283571193519,-0.010981818795493387,-0.5808940769460308],[0.681985353853805,-0.649241888142833,0.7355756348717325,-0.7042304778894998,0.7440110207386171,0.43033479730743845,0.7849978468555574,-0.2910666723805832,0.7518682251100574,0.8556077384373315,-0.7660650700247515,0.8713072728430865,-0.13780975514521018,0.7232830076927378,0.041031692611890894,0.9503333773020384,1.0,0.9381222192255811,-0.5695204459215191,-0.2325146596486167,-0.1065922165283974,-0.14430507387915245,0.027455174919640737,-0.05480578394793254,0.025379916688975226,-0.02235024326905879,-0.052418923161900804,0.04078972596486893,-0.028364298290741788,-0.5507512019347583],[0.6788946526941921,-0.6256783946466385,0.6989254322346858,-0.6394542223736315,0.7408259986477315,0.3755624972026749,0.7692677120318011,-0.2655073380082207,0.7112350034431987,0.799227755769957,-0.6693947242936101,0.7977204022224609,-0.14549115551105501,0.6165192447761214,0.03031255508662063,0.9032948540920734,0.9381222192255811,1.0,-0.5400604696935349,-0.21352548488748524,-0.06957098370435068,-0.14977396121699407,0.037891903272948425,-0.08033708649155233,0.05153294444073348,-0.012423670229877662,-0.008570408026761178,0.07852044038149583,-0.028000761414061062,-0.46614707258469656],[-0.3081530681295238,0.22481143990149818,-0.3095708077959611,0.30696044730446076,-0.3959077317348461,-0.20363460541611902,-0.35781918280594904,0.2275772811480943,-0.3418260352255901,-0.40692360495664726,0.36688580499308837,-0.42637298381183936,0.16716069015629959,-0.3319069317884152,0.20683799736628958,-0.6074872999654947,-0.5695204459215191,-0.5400604696935349,1.0,0.06966447319703395,0.15652827375134964,0.15087182952015382,0.006708523687379882,0.09937362221987692,-0.1514126812905044,0.06759345737245975,0.06031954699478078,-0.01575674356870447,0.14412424587244999,0.24203153665802835],[-0.38335408515301145,0.3877609854811568,-0.3939998390920804,0.31394593264645143,-0.33927556843857215,-0.048202340750115966,-0.4677794348318887,-0.1955951711684673,-0.3695706162278233,-0.4012935325471861,0.22145970398156414,-0.23971932708503854,-0.07067994966524231,-0.15067037093455915,-0.150045470333005,-0.2119787859042036,-0.2325146596486167,-0.21352548488748524,0.06966447319703395,1.0,-0.5357720741337374,0.359471377580318,0.2407534845245952,-0.04392676446065394,0.0720012638325207,0.00705931019902937,-0.09538254926924446,0.08959109703973146,-0.03187374088572501,0.18003733341650022],[0.11883568239035047,-0.1212794394031091,0.07496820160150382,-0.03252038308116244,0.07912591079521825,-0.22997865725997144,0.21400579875267073,0.41234698305589784,0.17224114487614178,0.1257357512766568,0.13381270083052982,-0.08958521472619892,0.1080899115264751,-0.23000066234834238,0.18800929579359726,-0.13616480844858755,-0.1065922165283974,-0.06957098370435068,0.15652827375134964,-0.5357720741337374,1.0,-0.5865849037819784,-0.13906090921346564,-0.0043125842095422225,0.13652519333003027,0.02178271876921305,0.3849376299477416,0.23509188378427454,0.11681053606481336,0.1182103066674065],[-0.0805243204876353,0.078752074960932,-0.07317016339049481,0.12886793682062853,-0.10169659131637718,0.20965250883916542,-0.22744685230847828,-0.37340642787561357,-0.23977890056915938,-0.23517638320586298,0.04275540481412779,-0.11665358675787142,-0.05028772330100515,0.03679648971916568,-0.08671088953745033,-0.14562427464075528,-0.14430507387915245,-0.14977396121699407,0.15087182952015382,0.359471377580318,-0.5865849037819784,1.0,0.20801115669286205,0.051339087255415174,-0.2574043232906834,0.029612531627867766,-0.3359846515003667,-0.17391954430599538,-0.02316909631454108,0.029327157729890876],[0.0010817167963996256,0.0789817557802512,-0.00286931531153584,0.014643359073811405,-0.071425467177731,0.25847371381886514,-0.025945498839283064,-0.3120628794879925,-0.06907176254319602,-0.03669344921460818,-0.053584180820634264,0.018619892369706827,-0.05331604166774119,0.04567152699377324,-0.05173297728164897,0.029193311621194512,0.027455174919640737,0.037891903272948425,0.006708523687379882,0.2407534845245952,-0.13906090921346564,0.20801115669286205,1.0,-0.006271298801973121,0.049521593244264556,0.05416541295965195,-0.23847169069126403,0.021426002211264863,-0.05344259354438792,-0.04420353065164898],[-0.051008274785143776,0.00047599438400249466,0.04520254231555709,-0.12815713039713336,-0.11856289606486098,0.017794345595417246,-0.03877895484206881,0.031342969502452946,0.05535062171629971,0.03418795866492602,-0.14525522652621017,0.0846795653589079,0.02584537754918399,0.17451142510121612,0.04449053538885277,-0.013421754213920405,-0.05480578394793254,-0.08033708649155233,0.09937362221987692,-0.04392676446065394,-0.0043125842095422225,0.051339087255415174,-0.006271298801973121,1.0,-0.02492552469218495,-0.0804075935897539,-0.18606188239810165,-0.0019489142980417754,0.09530582996663285,-0.12787030753386386],[-0.11042991510017836,0.1392710798010168,-0.12296597862117796,-0.00443300921830525,-0.11102960405554109,-0.1844051486090394,0.020006403860399265,0.29791205541817345,-0.022964433324943315,-0.0052634935944876225,0.03929252230001149,0.015179582872690237,0.026305199221009695,-0.09088572577057075,-0.05847321392603354,0.0494347030432215,0.025379916688975226,0.05153294444073348,-0.1514126812905044,0.0720012638325207,0.13652519333003027,-0.2574043232906834,0.049521593244264556,-0.02492552469218495,1.0,0.08516430684010612,0.19073860045375995,0.14923827792900354,-0.03614682443478919,0.05098600639427375],[0.046540593929372105,0.011373826768203024,-0.030676409629693965,0.13247907029583178,0.058875216955971164,-0.016401562609177446,0.00961491098633422,0.023697514069506476,-0.1317920653855512,-0.030189548411518493,0.14536765582236277,-0.10520688457557584,0.033114549634731864,-0.1414075201578159,-0.004796691691538222,-0.053632944868390466,-0.02235024326905879,-0.012423670229877662,0.06759345737245975,0.00705931019902937,0.02178271876921305,0.029612531627867766,0.05416541295965195,-0.0804075935897539,0.08516430684010612,1.0,0.14181255354368072,0.00969854337346272,-0.09495959867733483,0.026983887162335986],[0.10934586700421418,-0.08691820025591486,-0.010782631929025135,0.05656863530811684,0.09599967505015351,-0.23655442113730296,0.15300971270321762,0.41214424078051026,0.048726193414960095,0.04980854681444957,0.23164950389920594,-0.09610712891038835,0.05773333804823466,-0.24283771200734822,0.13511545602368177,-0.07737530880440219,-0.052418923161900804,-0.008570408026761178,0.06031954699478078,-0.09538254926924446,0.3849376299477416,-0.3359846515003667,-0.23847169069126403,-0.18606188239810165,0.19073860045375995,0.14181255354368072,1.0,0.25304927374975666,0.023292295166018214,0.12217235977751847],[0.17593603142895042,0.011388791015961183,0.09269351565574688,-0.03851589271239981,0.14414522471036245,-0.09334932384383866,0.13631809454273275,0.08306125947507571,0.09319786089135526,0.08530719418230452,0.033371979346674956,-0.020438132600198985,-0.10998755575063297,-0.12609537087819686,0.07504030492423971,0.004822283571193519,0.04078972596486893,0.07852044038149583,-0.01575674356870447,0.08959109703973146,0.23509188378427454,-0.17391954430599538,0.021426002211264863,-0.0019489142980417754,0.14923827792900354,0.00969854337346272,0.25304927374975666,1.0,-0.1117030029677063,0.0965108012661402],[-0.03836489322543656,-0.22045958123457077,0.046414487960277744,-0.1821884419742898,-0.1757197155022074,0.1886581846982143,0.0985513177569785,0.1463632265618673,0.12947308708748959,0.10424269048414762,-0.17433586884842617,0.13767751421585453,0.08454653665390711,0.19462825669030787,0.08924505266492679,-0.010981818795493387,-0.028364298290741788,-0.028000761414061062,0.14412424587244999,-0.03187374088572501,0.11681053606481336,-0.02316909631454108,-0.05344259354438792,0.09530582996663285,-0.03614682443478919,-0.09495959867733483,0.023292295166018214,-0.1117030029677063,1.0,-0.1073930053058938],[-0.4229386290279849,0.4828871736925752,-0.5731492508065246,0.7175335470278746,-0.3718129650773904,-0.42987293049827147,-0.4732392577909493,0.12040968444403745,-0.5501327592868323,-0.6302254956986856,0.6778284287803915,-0.6848215761393989,-0.04962822690182919,-0.7463759455158534,-0.05199750214724304,-0.5808940769460308,-0.5507512019347583,-0.46614707258469656,0.24203153665802835,0.18003733341650022,0.1182103066674065,0.029327157729890876,-0.04420353065164898,-0.12787030753386386,0.05098600639427375,0.026983887162335986,0.12217235977751847,0.0965108012661402,-0.1073930053058938,1.0]],\"type\":\"heatmap\",\"xaxis\":\"x\",\"yaxis\":\"y\",\"hovertemplate\":\"x: %{x}\\u003cbr\\u003ey: %{y}\\u003cbr\\u003ecolor: %{z}\\u003cextra\\u003e\\u003c\\u002fextra\\u003e\"}],                        {\"template\":{\"data\":{\"histogram2dcontour\":[{\"type\":\"histogram2dcontour\",\"colorbar\":{\"outlinewidth\":0,\"ticks\":\"\"},\"colorscale\":[[0.0,\"#0d0887\"],[0.1111111111111111,\"#46039f\"],[0.2222222222222222,\"#7201a8\"],[0.3333333333333333,\"#9c179e\"],[0.4444444444444444,\"#bd3786\"],[0.5555555555555556,\"#d8576b\"],[0.6666666666666666,\"#ed7953\"],[0.7777777777777778,\"#fb9f3a\"],[0.8888888888888888,\"#fdca26\"],[1.0,\"#f0f921\"]]}],\"choropleth\":[{\"type\":\"choropleth\",\"colorbar\":{\"outlinewidth\":0,\"ticks\":\"\"}}],\"histogram2d\":[{\"type\":\"histogram2d\",\"colorbar\":{\"outlinewidth\":0,\"ticks\":\"\"},\"colorscale\":[[0.0,\"#0d0887\"],[0.1111111111111111,\"#46039f\"],[0.2222222222222222,\"#7201a8\"],[0.3333333333333333,\"#9c179e\"],[0.4444444444444444,\"#bd3786\"],[0.5555555555555556,\"#d8576b\"],[0.6666666666666666,\"#ed7953\"],[0.7777777777777778,\"#fb9f3a\"],[0.8888888888888888,\"#fdca26\"],[1.0,\"#f0f921\"]]}],\"heatmap\":[{\"type\":\"heatmap\",\"colorbar\":{\"outlinewidth\":0,\"ticks\":\"\"},\"colorscale\":[[0.0,\"#0d0887\"],[0.1111111111111111,\"#46039f\"],[0.2222222222222222,\"#7201a8\"],[0.3333333333333333,\"#9c179e\"],[0.4444444444444444,\"#bd3786\"],[0.5555555555555556,\"#d8576b\"],[0.6666666666666666,\"#ed7953\"],[0.7777777777777778,\"#fb9f3a\"],[0.8888888888888888,\"#fdca26\"],[1.0,\"#f0f921\"]]}],\"heatmapgl\":[{\"type\":\"heatmapgl\",\"colorbar\":{\"outlinewidth\":0,\"ticks\":\"\"},\"colorscale\":[[0.0,\"#0d0887\"],[0.1111111111111111,\"#46039f\"],[0.2222222222222222,\"#7201a8\"],[0.3333333333333333,\"#9c179e\"],[0.4444444444444444,\"#bd3786\"],[0.5555555555555556,\"#d8576b\"],[0.6666666666666666,\"#ed7953\"],[0.7777777777777778,\"#fb9f3a\"],[0.8888888888888888,\"#fdca26\"],[1.0,\"#f0f921\"]]}],\"contourcarpet\":[{\"type\":\"contourcarpet\",\"colorbar\":{\"outlinewidth\":0,\"ticks\":\"\"}}],\"contour\":[{\"type\":\"contour\",\"colorbar\":{\"outlinewidth\":0,\"ticks\":\"\"},\"colorscale\":[[0.0,\"#0d0887\"],[0.1111111111111111,\"#46039f\"],[0.2222222222222222,\"#7201a8\"],[0.3333333333333333,\"#9c179e\"],[0.4444444444444444,\"#bd3786\"],[0.5555555555555556,\"#d8576b\"],[0.6666666666666666,\"#ed7953\"],[0.7777777777777778,\"#fb9f3a\"],[0.8888888888888888,\"#fdca26\"],[1.0,\"#f0f921\"]]}],\"surface\":[{\"type\":\"surface\",\"colorbar\":{\"outlinewidth\":0,\"ticks\":\"\"},\"colorscale\":[[0.0,\"#0d0887\"],[0.1111111111111111,\"#46039f\"],[0.2222222222222222,\"#7201a8\"],[0.3333333333333333,\"#9c179e\"],[0.4444444444444444,\"#bd3786\"],[0.5555555555555556,\"#d8576b\"],[0.6666666666666666,\"#ed7953\"],[0.7777777777777778,\"#fb9f3a\"],[0.8888888888888888,\"#fdca26\"],[1.0,\"#f0f921\"]]}],\"mesh3d\":[{\"type\":\"mesh3d\",\"colorbar\":{\"outlinewidth\":0,\"ticks\":\"\"}}],\"scatter\":[{\"fillpattern\":{\"fillmode\":\"overlay\",\"size\":10,\"solidity\":0.2},\"type\":\"scatter\"}],\"parcoords\":[{\"type\":\"parcoords\",\"line\":{\"colorbar\":{\"outlinewidth\":0,\"ticks\":\"\"}}}],\"scatterpolargl\":[{\"type\":\"scatterpolargl\",\"marker\":{\"colorbar\":{\"outlinewidth\":0,\"ticks\":\"\"}}}],\"bar\":[{\"error_x\":{\"color\":\"#2a3f5f\"},\"error_y\":{\"color\":\"#2a3f5f\"},\"marker\":{\"line\":{\"color\":\"#E5ECF6\",\"width\":0.5},\"pattern\":{\"fillmode\":\"overlay\",\"size\":10,\"solidity\":0.2}},\"type\":\"bar\"}],\"scattergeo\":[{\"type\":\"scattergeo\",\"marker\":{\"colorbar\":{\"outlinewidth\":0,\"ticks\":\"\"}}}],\"scatterpolar\":[{\"type\":\"scatterpolar\",\"marker\":{\"colorbar\":{\"outlinewidth\":0,\"ticks\":\"\"}}}],\"histogram\":[{\"marker\":{\"pattern\":{\"fillmode\":\"overlay\",\"size\":10,\"solidity\":0.2}},\"type\":\"histogram\"}],\"scattergl\":[{\"type\":\"scattergl\",\"marker\":{\"colorbar\":{\"outlinewidth\":0,\"ticks\":\"\"}}}],\"scatter3d\":[{\"type\":\"scatter3d\",\"line\":{\"colorbar\":{\"outlinewidth\":0,\"ticks\":\"\"}},\"marker\":{\"colorbar\":{\"outlinewidth\":0,\"ticks\":\"\"}}}],\"scattermapbox\":[{\"type\":\"scattermapbox\",\"marker\":{\"colorbar\":{\"outlinewidth\":0,\"ticks\":\"\"}}}],\"scatterternary\":[{\"type\":\"scatterternary\",\"marker\":{\"colorbar\":{\"outlinewidth\":0,\"ticks\":\"\"}}}],\"scattercarpet\":[{\"type\":\"scattercarpet\",\"marker\":{\"colorbar\":{\"outlinewidth\":0,\"ticks\":\"\"}}}],\"carpet\":[{\"aaxis\":{\"endlinecolor\":\"#2a3f5f\",\"gridcolor\":\"white\",\"linecolor\":\"white\",\"minorgridcolor\":\"white\",\"startlinecolor\":\"#2a3f5f\"},\"baxis\":{\"endlinecolor\":\"#2a3f5f\",\"gridcolor\":\"white\",\"linecolor\":\"white\",\"minorgridcolor\":\"white\",\"startlinecolor\":\"#2a3f5f\"},\"type\":\"carpet\"}],\"table\":[{\"cells\":{\"fill\":{\"color\":\"#EBF0F8\"},\"line\":{\"color\":\"white\"}},\"header\":{\"fill\":{\"color\":\"#C8D4E3\"},\"line\":{\"color\":\"white\"}},\"type\":\"table\"}],\"barpolar\":[{\"marker\":{\"line\":{\"color\":\"#E5ECF6\",\"width\":0.5},\"pattern\":{\"fillmode\":\"overlay\",\"size\":10,\"solidity\":0.2}},\"type\":\"barpolar\"}],\"pie\":[{\"automargin\":true,\"type\":\"pie\"}]},\"layout\":{\"autotypenumbers\":\"strict\",\"colorway\":[\"#636efa\",\"#EF553B\",\"#00cc96\",\"#ab63fa\",\"#FFA15A\",\"#19d3f3\",\"#FF6692\",\"#B6E880\",\"#FF97FF\",\"#FECB52\"],\"font\":{\"color\":\"#2a3f5f\"},\"hovermode\":\"closest\",\"hoverlabel\":{\"align\":\"left\"},\"paper_bgcolor\":\"white\",\"plot_bgcolor\":\"#E5ECF6\",\"polar\":{\"bgcolor\":\"#E5ECF6\",\"angularaxis\":{\"gridcolor\":\"white\",\"linecolor\":\"white\",\"ticks\":\"\"},\"radialaxis\":{\"gridcolor\":\"white\",\"linecolor\":\"white\",\"ticks\":\"\"}},\"ternary\":{\"bgcolor\":\"#E5ECF6\",\"aaxis\":{\"gridcolor\":\"white\",\"linecolor\":\"white\",\"ticks\":\"\"},\"baxis\":{\"gridcolor\":\"white\",\"linecolor\":\"white\",\"ticks\":\"\"},\"caxis\":{\"gridcolor\":\"white\",\"linecolor\":\"white\",\"ticks\":\"\"}},\"coloraxis\":{\"colorbar\":{\"outlinewidth\":0,\"ticks\":\"\"}},\"colorscale\":{\"sequential\":[[0.0,\"#0d0887\"],[0.1111111111111111,\"#46039f\"],[0.2222222222222222,\"#7201a8\"],[0.3333333333333333,\"#9c179e\"],[0.4444444444444444,\"#bd3786\"],[0.5555555555555556,\"#d8576b\"],[0.6666666666666666,\"#ed7953\"],[0.7777777777777778,\"#fb9f3a\"],[0.8888888888888888,\"#fdca26\"],[1.0,\"#f0f921\"]],\"sequentialminus\":[[0.0,\"#0d0887\"],[0.1111111111111111,\"#46039f\"],[0.2222222222222222,\"#7201a8\"],[0.3333333333333333,\"#9c179e\"],[0.4444444444444444,\"#bd3786\"],[0.5555555555555556,\"#d8576b\"],[0.6666666666666666,\"#ed7953\"],[0.7777777777777778,\"#fb9f3a\"],[0.8888888888888888,\"#fdca26\"],[1.0,\"#f0f921\"]],\"diverging\":[[0,\"#8e0152\"],[0.1,\"#c51b7d\"],[0.2,\"#de77ae\"],[0.3,\"#f1b6da\"],[0.4,\"#fde0ef\"],[0.5,\"#f7f7f7\"],[0.6,\"#e6f5d0\"],[0.7,\"#b8e186\"],[0.8,\"#7fbc41\"],[0.9,\"#4d9221\"],[1,\"#276419\"]]},\"xaxis\":{\"gridcolor\":\"white\",\"linecolor\":\"white\",\"ticks\":\"\",\"title\":{\"standoff\":15},\"zerolinecolor\":\"white\",\"automargin\":true,\"zerolinewidth\":2},\"yaxis\":{\"gridcolor\":\"white\",\"linecolor\":\"white\",\"ticks\":\"\",\"title\":{\"standoff\":15},\"zerolinecolor\":\"white\",\"automargin\":true,\"zerolinewidth\":2},\"scene\":{\"xaxis\":{\"backgroundcolor\":\"#E5ECF6\",\"gridcolor\":\"white\",\"linecolor\":\"white\",\"showbackground\":true,\"ticks\":\"\",\"zerolinecolor\":\"white\",\"gridwidth\":2},\"yaxis\":{\"backgroundcolor\":\"#E5ECF6\",\"gridcolor\":\"white\",\"linecolor\":\"white\",\"showbackground\":true,\"ticks\":\"\",\"zerolinecolor\":\"white\",\"gridwidth\":2},\"zaxis\":{\"backgroundcolor\":\"#E5ECF6\",\"gridcolor\":\"white\",\"linecolor\":\"white\",\"showbackground\":true,\"ticks\":\"\",\"zerolinecolor\":\"white\",\"gridwidth\":2}},\"shapedefaults\":{\"line\":{\"color\":\"#2a3f5f\"}},\"annotationdefaults\":{\"arrowcolor\":\"#2a3f5f\",\"arrowhead\":0,\"arrowwidth\":1},\"geo\":{\"bgcolor\":\"white\",\"landcolor\":\"#E5ECF6\",\"subunitcolor\":\"white\",\"showland\":true,\"showlakes\":true,\"lakecolor\":\"white\"},\"title\":{\"x\":0.05},\"mapbox\":{\"style\":\"light\"}}},\"xaxis\":{\"anchor\":\"y\",\"domain\":[0.0,1.0]},\"yaxis\":{\"anchor\":\"x\",\"domain\":[0.0,1.0],\"autorange\":\"reversed\"},\"coloraxis\":{\"colorscale\":[[0.0,\"rgb(5,48,97)\"],[0.1,\"rgb(33,102,172)\"],[0.2,\"rgb(67,147,195)\"],[0.3,\"rgb(146,197,222)\"],[0.4,\"rgb(209,229,240)\"],[0.5,\"rgb(247,247,247)\"],[0.6,\"rgb(253,219,199)\"],[0.7,\"rgb(244,165,130)\"],[0.8,\"rgb(214,96,77)\"],[0.9,\"rgb(178,24,43)\"],[1.0,\"rgb(103,0,31)\"]]},\"margin\":{\"t\":60}},                        {\"responsive\": true}                    ).then(function(){\n",
              "                            \n",
              "var gd = document.getElementById('1fae32ee-0b8c-405d-9963-31281aabec21');\n",
              "var x = new MutationObserver(function (mutations, observer) {{\n",
              "        var display = window.getComputedStyle(gd).display;\n",
              "        if (!display || display === 'none') {{\n",
              "            console.log([gd, 'removed!']);\n",
              "            Plotly.purge(gd);\n",
              "            observer.disconnect();\n",
              "        }}\n",
              "}});\n",
              "\n",
              "// Listen for the removal of the full notebook cells\n",
              "var notebookContainer = gd.closest('#notebook-container');\n",
              "if (notebookContainer) {{\n",
              "    x.observe(notebookContainer, {childList: true});\n",
              "}}\n",
              "\n",
              "// Listen for the clearing of the current output cell\n",
              "var outputEl = gd.closest('.output');\n",
              "if (outputEl) {{\n",
              "    x.observe(outputEl, {childList: true});\n",
              "}}\n",
              "\n",
              "                        })                };                            </script>        </div>\n",
              "</body>\n",
              "</html>"
            ]
          },
          "metadata": {}
        }
      ],
      "source": [
        "corr = new_df.corr()\n",
        "fig=px.imshow(corr, aspect=\"auto\" ,color_continuous_scale='RdBu_r')\n",
        "fig.show()"
      ]
    },
    {
      "cell_type": "markdown",
      "id": "a7c45385",
      "metadata": {
        "id": "a7c45385"
      },
      "source": [
        "Negative Correlations: V17, V14, V12 and V10 are negatively correlated.  \n",
        "Positive Correlations: V2, V4, V11 are positively correlated."
      ]
    },
    {
      "cell_type": "markdown",
      "source": [
        "Note-Used chatgpt to understand the correlations. As the features are anonymised it was difficult to conclude and get relationship and dependency on eachother."
      ],
      "metadata": {
        "id": "Ekmq-pSw9i_d"
      },
      "id": "Ekmq-pSw9i_d"
    },
    {
      "cell_type": "code",
      "execution_count": null,
      "id": "Mzekq9GppDUe",
      "metadata": {
        "colab": {
          "base_uri": "https://localhost:8080/"
        },
        "id": "Mzekq9GppDUe",
        "outputId": "40411f6b-5c56-4bc4-f104-752fb7590f93"
      },
      "outputs": [
        {
          "output_type": "stream",
          "name": "stdout",
          "text": [
            "Highly Correlated Feature Pairs (|r| > 0.9):\n",
            "V11 ↔ V12: r = 0.90\n",
            "V16 ↔ V17: r = 0.95\n",
            "V16 ↔ V18: r = 0.90\n",
            "V17 ↔ V18: r = 0.94\n"
          ]
        }
      ],
      "source": [
        "# Calculate absolute correlation matrix (optional: choose df or new_df)\n",
        "corr_matrix = new_df.corr().abs()\n",
        "\n",
        "# Select upper triangle of correlation matrix to avoid duplicates and self-correlation\n",
        "upper = corr_matrix.where(np.triu(np.ones(corr_matrix.shape), k=1).astype(bool))\n",
        "\n",
        "# Set threshold\n",
        "threshold = 0.9\n",
        "\n",
        "# Find feature pairs with high correlation\n",
        "high_corr_pairs = [(col1, col2, corr_matrix.loc[col1, col2])\n",
        "                   for col1 in upper.columns\n",
        "                   for col2 in upper.columns\n",
        "                   if (upper.loc[col1, col2] > threshold)]\n",
        "\n",
        "# Display results\n",
        "print(\"Highly Correlated Feature Pairs (|r| > 0.9):\")\n",
        "for f1, f2, corr_value in high_corr_pairs:\n",
        "    print(f\"{f1} ↔ {f2}: r = {corr_value:.2f}\")"
      ]
    },
    {
      "cell_type": "markdown",
      "id": "09014a1a",
      "metadata": {
        "id": "09014a1a"
      },
      "source": [
        "### TSNE"
      ]
    },
    {
      "cell_type": "code",
      "execution_count": null,
      "id": "64e561a6",
      "metadata": {
        "id": "64e561a6"
      },
      "outputs": [],
      "source": [
        "from sklearn.manifold import TSNE\n",
        "X = new_df.drop('Class', axis=1)\n",
        "y = new_df['Class']\n",
        "\n",
        "# T-SNE Implementation\n",
        "X_reduced_tsne = TSNE(n_components=2, random_state=42).fit_transform(X.values)"
      ]
    },
    {
      "cell_type": "code",
      "execution_count": null,
      "id": "1b1e39a4",
      "metadata": {
        "colab": {
          "base_uri": "https://localhost:8080/",
          "height": 542
        },
        "id": "1b1e39a4",
        "outputId": "5d2f4a9a-d8d9-4984-f28e-03c97b43595b"
      },
      "outputs": [
        {
          "output_type": "display_data",
          "data": {
            "text/html": [
              "<html>\n",
              "<head><meta charset=\"utf-8\" /></head>\n",
              "<body>\n",
              "    <div>            <script src=\"https://cdnjs.cloudflare.com/ajax/libs/mathjax/2.7.5/MathJax.js?config=TeX-AMS-MML_SVG\"></script><script type=\"text/javascript\">if (window.MathJax && window.MathJax.Hub && window.MathJax.Hub.Config) {window.MathJax.Hub.Config({SVG: {font: \"STIX-Web\"}});}</script>                <script type=\"text/javascript\">window.PlotlyConfig = {MathJaxConfig: 'local'};</script>\n",
              "        <script charset=\"utf-8\" src=\"https://cdn.plot.ly/plotly-2.35.2.min.js\"></script>                <div id=\"18c75907-9a43-4a4b-a764-ff126f73b55c\" class=\"plotly-graph-div\" style=\"height:525px; width:100%;\"></div>            <script type=\"text/javascript\">                                    window.PLOTLYENV=window.PLOTLYENV || {};                                    if (document.getElementById(\"18c75907-9a43-4a4b-a764-ff126f73b55c\")) {                    Plotly.newPlot(                        \"18c75907-9a43-4a4b-a764-ff126f73b55c\",                        [{\"hovertemplate\":\"x=%{x}\\u003cbr\\u003ey=%{y}\\u003cbr\\u003ecolor=%{marker.color}\\u003cextra\\u003e\\u003c\\u002fextra\\u003e\",\"legendgroup\":\"\",\"marker\":{\"color\":[0,1,1,1,1,1,1,1,1,1,1,1,1,0,0,1,1,1,1,0,0,0,0,0,0,1,1,1,0,0,0,0,0,1,0,0,0,0,0,0,1,1,1,0,0,1,1,1,0,0,0,1,0,1,1,1,0,0,1,0,0,0,0,1,0,1,0,0,1,0,1,0,1,1,0,0,1,0,1,0,0,0,0,1,0,0,1,0,0,0,1,0,0,0,1,0,1,0,1,0,1,1,1,1,1,0,1,1,0,0,0,1,1,0,0,0,1,0,1,1,0,0,0,0,0,1,0,0,1,0,0,0,0,1,0,1,1,1,0,1,1,1,1,0,1,1,0,1,0,1,1,1,0,0,1,0,0,0,0,1,1,0,1,0,1,0,1,0,1,1,1,0,0,0,0,1,0,1,0,0,1,0,0,0,1,0,0,1,0,1,0,1,1,0,1,1,0,1,0,1,1,0,1,1,1,1,0,1,1,0,0,1,1,1,0,1,0,1,1,1,0,0,0,0,1,0,1,0,0,0,0,1,0,1,1,1,1,1,1,1,0,0,1,0,1,1,1,1,0,0,0,0,1,1,1,0,0,0,0,1,0,1,0,1,1,1,0,1,0,1,1,1,1,0,0,1,1,0,0,0,1,0,0,1,0,0,1,0,0,0,0,0,1,1,0,1,1,1,1,0,1,0,1,1,0,0,0,1,0,0,0,0,0,1,1,1,1,1,0,1,0,1,1,0,1,1,1,1,0,1,1,0,1,1,1,0,1,1,0,1,1,1,1,1,0,1,1,0,0,1,1,0,1,1,1,0,1,0,1,1,1,0,1,0,1,1,1,0,1,1,0,0,0,1,1,0,0,0,1,0,0,0,0,1,0,0,0,1,1,1,0,1,1,1,1,0,1,1,1,1,1,0,1,0,0,1,0,0,0,1,0,0,0,0,0,1,1,0,0,0,1,1,1,1,0,0,1,1,1,1,0,1,1,0,1,1,0,0,0,0,0,0,1,1,1,0,1,1,1,1,0,0,0,0,1,1,1,1,1,0,0,0,1,1,0,0,0,1,1,0,1,0,1,1,0,1,0,0,0,0,1,1,1,1,0,1,0,1,1,1,1,1,0,0,0,0,1,1,0,0,0,1,0,0,1,1,1,0,0,1,0,0,1,0,1,1,1,0,1,1,1,1,0,1,0,0,0,0,1,1,0,0,1,0,0,1,1,1,1,1,0,0,0,1,1,0,1,1,0,1,1,0,1,1,0,1,1,1,0,1,1,0,0,0,1,0,0,1,1,1,0,0,0,0,1,1,0,0,0,1,1,1,1,0,0,1,1,0,1,1,0,0,0,0,0,0,0,1,0,1,0,1,1,0,1,0,0,0,0,0,1,0,0,1,1,0,1,0,1,1,1,0,1,1,0,0,0,1,0,0,0,0,0,0,0,1,0,1,0,0,0,1,1,0,1,1,1,0,0,0,1,1,1,1,0,1,0,0,1,0,1,1,0,1,1,0,0,0,0,0,1,0,1,1,1,0,0,0,0,0,0,1,1,0,0,0,0,1,1,1,1,1,0,0,1,0,1,0,1,1,1,1,1,1,1,1,1,0,0,0,1,0,1,0,0,0,1,0,0,0,0,0,0,0,0,1,0,0,1,0,1,0,1,0,1,0,0,0,1,0,0,1,0,0,1,0,1,0,0,1,1,0,0,0,1,1,1,1,0,0,1,1,0,0,0,0,0,0,0,0,0,0,0,0,1,1,0,1,0,1,0,1,0,0,0,0,0,0,1,0,1,0,0,0,1,0,0,1,1,0,1,0,0,1,1,0,0,0,0,0,0,0,0,1,0,0,0,1,0,1,1,0,1,1,1,0,1,0,0,1,1,1,0,1,0,0,1,1,1,0,1,0,0,0,1,0,1,1,1,0,1,1,0,1,0,1,1,0,0,0,1,0,1,0,1,1,0,0,0,1,1,1,0,0,1,0,0,0,0,1,0,1,1,0,0,0,1,1,1,0,0,1,1,1,1,1,0,1,0,1,1,1,0,1,1,1,0,0,0,0,0,0,0,0,1,0,0,0,0,1,0,0,0,0,0,1,0,0,0,0,1,1,1,1,1,1,1,1,0,1,0,1,0,1,0,1,0,0,1,1,1,1,1,1,1,1,0,1,0,1,1,1,0,1,1],\"coloraxis\":\"coloraxis\",\"symbol\":\"circle\"},\"mode\":\"markers\",\"name\":\"\",\"orientation\":\"v\",\"showlegend\":false,\"x\":[10.618158,0.20419753,16.927956,0.5700489,-0.5464607,-0.044394158,-44.85182,-31.892857,-10.365699,-30.931452,-34.679886,-20.815931,6.9187136,21.42974,23.139095,4.064555,-10.12004,-24.092634,-20.408607,28.99622,17.939627,19.94533,-5.6427894,14.406564,18.3887,7.5037026,-45.434692,27.015045,17.771338,17.84899,9.812188,-1.6348063,-0.029723609,12.916859,6.7804604,21.91203,-2.0848083,-2.9240017,1.4682139,11.141709,-25.32796,-18.994894,14.226123,19.528467,14.100937,-42.676178,-46.930527,-39.756077,18.550694,-1.9176424,0.90111905,-31.060247,4.5440865,-16.985071,-27.28552,-26.99538,25.281143,16.59659,-22.503391,16.908081,15.972019,21.154907,1.9642094,-9.96035,2.4166791,-37.62707,17.740606,-2.9143224,-8.583103,23.957731,-22.414707,-5.4203105,-17.872026,-20.858582,5.966132,21.310354,12.822042,19.283571,-13.571967,4.207072,-2.421923,12.800101,8.055099,-22.31296,18.261189,17.802639,-44.230858,-2.8079314,32.266857,10.022924,-25.061642,9.812071,6.532287,14.1680155,-22.080473,10.189607,11.087789,-4.5402055,-45.801636,34.94145,-31.003435,-30.556555,-45.50455,-20.432787,-20.800596,2.0817454,-43.28305,-8.847817,-5.2398167,3.965723,27.267473,14.165961,-39.405853,0.23912455,18.764671,7.5297713,-27.2478,14.093592,-24.775688,-0.28335297,-2.482898,-6.5815797,25.900398,26.126152,-5.2104425,-43.848606,8.299124,34.61631,-21.976198,21.187689,5.6203003,17.632736,1.900638,-45.28665,8.06847,11.787705,-27.414934,-45.70066,16.255169,-37.482735,15.338605,-45.884495,-26.133604,18.773064,-33.222282,-10.656643,34.686775,-32.6922,7.875191,-0.44297692,-30.92514,-11.032649,26.259836,32.53551,10.205746,17.097864,25.508934,18.641401,14.841367,-26.957552,-1.129108,-3.7782118,-44.564854,20.386635,-20.867949,4.889248,-43.572136,16.793013,-23.250687,-28.423037,-11.2525425,20.990767,23.99924,21.281773,34.1462,-47.664852,7.2363806,1.7672905,15.594168,14.441074,-15.862381,18.646336,5.001863,24.377851,-25.525854,8.457942,19.643919,-25.84898,10.955042,-22.921768,3.1340227,-28.013548,-40.799725,-5.4052415,-28.6001,-6.741107,-0.5914437,-38.94147,23.99252,2.1548119,11.584725,3.9554007,-12.699283,-29.65707,-50.74662,3.3609655,-6.581147,-25.089415,0.6644078,9.747537,31.26708,-36.219753,-37.8048,-27.239815,10.108137,-29.635681,21.947556,-36.85966,-31.537872,-45.173313,5.2784925,11.236596,14.149356,15.303394,-22.513947,34.0062,-45.699585,16.254942,7.327796,-2.051334,7.057352,10.365964,33.07738,-10.80726,4.934584,-36.20035,-28.007092,12.846572,4.067307,-0.22032617,7.10396,27.626213,-42.046326,10.51303,-20.44593,-24.965015,-50.329254,-28.237408,11.267743,12.66864,27.642506,35.801666,-28.660336,-20.345013,-24.36332,13.449412,4.1861734,2.8836248,19.663267,-34.836834,19.126549,-29.949797,4.9510527,-10.061752,-31.861832,-41.90407,-1.3411853,-25.00458,15.517812,-32.384785,-32.432247,-25.299852,-25.785887,13.16722,7.8212194,-36.799606,-8.376734,18.10546,27.703152,33.032307,-8.632549,7.724872,1.5497742,-25.234797,34.47652,7.233926,-37.635574,18.6483,14.574763,24.864546,15.625474,20.819256,-26.844357,2.5201926,23.111523,0.12155936,-19.047564,0.5053141,3.9207783,15.858272,-28.858854,20.448433,-36.672485,-27.335989,18.037636,17.452774,16.980625,-10.069265,9.0420885,18.007244,33.043602,16.9099,17.372383,-16.215742,-2.7096264,-30.152464,-29.549376,4.3073144,34.25252,-21.758938,18.541513,-24.589066,-29.105112,34.78298,-41.615753,1.1539578,-44.981956,-24.702396,31.9444,13.246533,1.0788821,28.601303,-25.733833,-39.576702,-31.782637,15.271123,10.059901,-25.13068,34.782722,-11.371136,-43.15227,-28.59617,-32.738987,-1.4116297,22.131798,-20.810432,-15.988237,30.436457,18.982388,-32.09278,-32.97685,8.275135,-32.275627,7.891642,-23.518658,15.1336155,-27.814463,16.995522,-46.874706,-9.051731,-25.411867,23.954138,3.520466,35.28792,-32.648655,-9.997167,-32.089863,6.5618353,-44.39069,-14.626867,6.5250416,22.84188,24.553768,-26.323734,27.540247,-3.3377156,12.925042,23.220898,-44.419937,5.737426,6.2617273,17.656435,8.052542,-40.634705,19.778406,20.795403,3.8122149,-33.06745,-43.124874,-45.201706,21.265846,-29.625938,-29.37936,-0.8078215,-23.08898,2.775842,-19.136415,-18.406918,-45.469658,-26.825686,-8.657588,20.571333,-8.87187,27.428411,19.489199,8.75994,18.262953,14.680865,16.303473,-26.962933,18.43198,5.1314645,16.119032,30.18526,17.712126,-18.945919,4.1491594,26.283083,18.14367,0.07006532,-16.713507,-29.802498,-20.5581,-47.851494,27.964506,9.146042,-26.245182,-4.555256,-24.405144,-24.018929,7.3471875,-42.98347,-15.295506,5.62171,-43.816677,-8.624857,33.126087,-5.6502395,15.898717,21.124794,9.952492,15.634993,-11.259677,-23.561867,-8.749899,-0.118738115,-45.104305,-27.890793,-11.074822,-28.050045,19.697172,2.6913655,-4.4692564,-2.0157166,-28.93687,-0.96344554,-31.295828,-27.093716,-44.782104,13.577672,18.605185,21.496347,-45.2305,12.276616,33.384098,15.364811,-4.705369,-25.535166,-29.55538,20.597172,-26.090336,6.4382324,-9.1784725,-11.088386,27.49916,-28.357008,15.43063,-5.0985723,18.744864,14.056401,-45.612553,-25.318743,-9.959176,-44.326157,1.9246747,-45.866585,10.817287,-37.341084,6.2794614,-10.428393,-46.19705,-38.014095,2.2371078,5.5191956,-8.435108,4.1752725,-46.788754,-34.71309,10.875894,0.104314014,28.190798,26.137417,17.93439,2.0722723,-33.62796,9.773248,-0.5271695,5.603338,17.149277,-29.236734,-1.634433,21.78785,-34.00581,21.321478,4.5750012,-48.718014,-28.601343,23.52939,-18.814785,-32.443207,-42.21688,-47.486004,13.344552,-33.816143,19.024496,23.304302,17.192347,-2.6136956,-17.106638,-25.747469,-0.10394161,20.545952,-42.040054,-3.5644684,17.237885,-40.24657,-30.98479,24.142862,-21.990593,-26.860214,16.822803,25.159187,10.504875,-45.30775,-12.894173,17.321728,3.4637213,-14.991464,-0.1719134,-38.148346,-22.6174,-1.8664385,-24.03934,-39.73045,7.7655687,-42.21071,-1.7102104,-27.435165,-1.8394936,-13.017076,-41.347588,33.095173,7.6934867,20.21032,-8.278446,8.418605,3.558892,-26.563873,-30.558601,-33.604767,-2.7208316,32.886806,9.412205,27.055162,-37.813152,-47.7206,18.605228,6.824677,18.151684,-37.080624,-44.096985,-25.718494,26.799932,29.459305,21.015587,-45.105152,4.599698,24.425379,-44.458733,6.790515,17.301722,7.5873623,-0.7591545,25.414806,13.767418,23.170578,-3.3396842,-30.295067,16.25612,-15.921466,33.71778,-21.566763,13.135559,15.698207,-22.766336,31.766882,5.7159815,-0.9921309,17.750055,7.641966,-41.642277,26.798378,-2.4350245,-28.3584,0.22921552,13.118784,-12.592907,11.367792,4.432489,5.7789826,-7.075753,13.151264,12.973014,-25.799376,16.584093,8.6253195,0.8579843,-29.01584,32.296078,22.783594,19.858917,34.155766,13.261344,27.914284,27.959463,-0.43589634,33.47334,0.48585287,21.092758,15.237628,7.1236944,-26.697563,-29.570364,31.705877,-26.141811,-39.95566,-30.134949,16.595615,14.604507,25.46897,-22.28091,-21.971369,-24.803099,-21.074146,20.701233,-24.48507,27.984182,16.4211,-46.537426,4.2088103,-31.186161,-26.665112,18.322706,-36.75434,-27.59351,3.8753817,17.192188,9.193055,16.08404,0.5893845,-15.991681,21.669724,2.0150738,-31.130213,-22.803621,13.619063,10.767018,0.6160046,8.434213,-2.9954686,13.091355,-46.719612,-8.50323,10.082091,9.806497,22.338621,11.067463,-32.115902,-34.337177,-22.993994,-24.48475,-49.158035,14.932902,6.7596173,-44.899178,9.975445,-45.232685,17.94455,-30.234715,-20.748095,-27.160908,-30.923975,-29.288576,-23.793964,-31.54363,-36.184208,-4.176887,16.857967,-4.6401114,16.441422,-42.198822,29.516445,-16.887686,17.779266,-0.2806387,4.090155,-38.18073,31.829607,24.18718,11.465899,6.2015886,31.146482,-0.06704244,-4.098009,20.771175,-30.15849,13.365565,28.241922,-31.61249,16.925018,-28.571133,1.4257553,-21.441084,24.824839,-31.004826,11.451613,7.344674,20.061707,-30.785837,29.240591,18.687786,-45.884422,18.37765,4.5797944,0.036681928,8.782674,12.7962675,-2.871289,3.9543612,-38.299446,8.964245,32.16227,17.907644,17.720957,-30.755486,-14.707946,9.564397,-21.854939,-5.6534214,7.1291747,-18.466908,-43.58689,0.6890335,9.909573,16.054844,7.725992,29.047346,21.699928,-6.2312627,-2.7181053,22.768036,3.932859,26.827295,19.445734,7.9127183,-29.93504,32.290813,-26.711649,20.628227,10.270063,7.364904,-35.569584,23.82165,27.527712,25.453714,23.948101,16.420021,6.0333753,-27.199945,10.289037,-25.319738,2.0301914,9.692021,20.534842,-34.21123,32.72359,17.269402,-46.23972,-28.704866,29.622787,-43.017345,17.51158,6.9537215,-20.040325,-50.797726,-5.1584272,15.024966,1.8536997,13.918054,18.966654,7.281583,17.302378,21.929592,-37.7151,11.869347,25.064756,6.89,-32.136124,13.946208,28.855152,-24.443745,27.412386,-15.99448,-29.214838,-30.272318,22.296715,-9.470615,27.204227,2.125034,-24.033989,-30.1254,-33.17862,32.419567,-40.692818,28.752462,-0.31858855,-31.721708,4.9715858,-19.82907,20.039455,-46.333958,-2.168616,21.103895,5.8962717,-33.624847,3.3915246,5.191758,-49.26574,-18.970734,-4.5234146,-16.36074,-39.105305,34.658497,-21.638409,32.628307,-21.290327,6.4402723,30.029427,19.209476,17.369953,-11.0669775,23.913157,-11.082574,34.893665,-12.585205,-16.979193,30.44667,21.139406,24.673004,-24.377605,-10.839616,-20.544199,18.967384,4.4956217,-26.247665,32.62274,10.117357,2.6798325,17.638586,-8.586939,34.13372,-1.0423744,-39.12087,0.92549634,-5.5067263,5.307915,-22.309252,23.185612,14.063393,15.253832,20.872776,-26.997297,-0.8288657,-29.76557,-32.389957,-45.194107,10.740894,-43.898006,8.194263,-28.95114,9.59202,-20.227629,32.993603,0.94636625,-22.308443,21.557323,35.692043,8.334224,14.009443,21.65331,-2.9917192,-0.58672345,11.3851,4.876296,-21.799742,23.497435,5.281886,21.180965,18.697823,17.034754,30.685394,14.331288,20.99419,8.397947,3.4641135,-16.21448,18.67053,15.787849,31.08124,19.753675,-8.931036,-32.022182,-46.247673,-20.672094,-19.064837,-17.749603,-1.1234703,2.5800169,9.5329685,-12.761609,3.545565,-39.84346,8.761245,-25.884138,30.376225,-20.64595,12.197965,8.96212,-32.394386,-46.92346,-23.989138,-49.811016,-23.743793,-14.351958,13.129892,-31.03774,22.640654,-18.980022,-0.37046465,-9.063983,-37.927387,-27.254713,14.215314,4.2485185,1.1000093],\"xaxis\":\"x\",\"y\":[14.78393,-13.733236,-4.832325,-10.069378,4.52296,2.5315845,26.958609,-10.6958685,-29.365269,-9.445425,-11.405373,-20.800198,7.962615,-10.798634,-5.420479,-8.280733,-25.206182,-31.913036,-31.33262,7.3675437,21.146645,-20.023108,1.118069,34.413376,2.7197337,-7.8646445,15.709399,-9.490155,16.650671,9.735158,10.293265,11.329205,18.060198,11.8267975,15.956887,3.9816682,19.421753,7.76567,13.577523,-10.446803,-35.049805,-25.5662,8.286355,-2.6769905,32.6849,26.592323,24.852541,26.429823,-10.087776,16.850092,13.343494,-29.613161,14.272637,-12.34338,-34.10049,-15.700955,7.2870398,1.2436813,-38.93597,33.836285,34.045135,-16.270359,6.7681947,-27.632156,9.850912,28.857618,-8.77476,11.061187,-26.160105,11.567925,-30.60708,11.628492,-31.299406,-30.367203,1.1612611,-13.609283,4.75274,-19.594746,-29.922577,4.22395,18.670847,18.08441,21.735647,-20.003334,18.545883,18.867714,23.418118,17.041525,5.125811,0.21898793,-17.00349,11.495698,10.167481,30.853163,-31.598314,17.857473,12.8566265,8.852701,14.572833,-2.3041823,-21.75704,-18.978903,13.872826,-32.92559,-20.782248,7.7442584,21.8886,-27.681225,3.480292,14.167749,5.0390997,-9.738638,29.74326,12.228697,-8.384082,3.5078077,-24.846287,-10.138692,-26.199009,-13.397973,13.830369,1.3643723,4.3489122,4.717114,11.230398,27.322994,23.515697,7.262458,-29.340302,-17.051155,11.500013,32.586124,10.947229,26.25252,6.7155657,-10.89717,-31.06071,15.11679,-2.4120567,-6.289392,0.47637022,13.7091465,-33.317623,31.034986,-12.779383,-24.262764,5.0511084,-12.745426,12.947744,-13.376708,-8.649521,-29.05158,7.5918655,9.229003,-1.0322344,15.722319,3.6759582,4.7024093,32.52257,-21.924196,-13.370187,17.913822,21.930887,18.171358,-21.426811,10.697129,27.505215,-1.9596909,-31.22215,-12.175785,-24.917786,-15.243288,16.685156,-7.721599,-1.146638,23.723486,21.056921,-11.833343,13.675419,32.315937,-23.563568,1.4018544,12.298915,-5.521816,-35.576233,1.3413817,18.691328,-24.00745,8.571105,-36.65733,12.774255,-15.84549,27.695673,1.134291,-22.062082,0.30127946,17.62297,29.919794,16.691248,16.66156,-7.171294,9.374774,-26.782349,-21.762024,23.245817,2.225311,7.608379,-36.15231,-10.040261,11.746346,-1.2980196,26.738377,-6.1152062,-26.38116,14.766659,-7.846413,-0.031572815,26.069529,-20.671143,16.791994,24.117859,19.583775,-8.838665,29.312782,-38.94746,4.322204,16.211931,24.906895,3.4037075,19.463991,8.587783,-1.6992395,0.6850684,-24.184744,-10.376126,27.223803,-12.3372555,-9.696816,-8.165179,-9.898104,1.0750129,-8.234756,25.77687,7.2316027,-14.578298,-30.029633,23.287073,-34.351044,21.293947,-9.914985,-8.516205,-1.655919,-11.888204,-22.556435,-25.356237,33.660175,18.11874,23.825094,1.4022065,-9.168898,-6.5894423,-13.839251,5.033352,-30.537619,-5.903213,22.398989,14.520167,-20.246372,31.062504,-28.804926,-9.178113,-31.662573,-25.154667,11.728923,13.360392,26.21623,-25.14474,34.128017,-6.9030952,-0.7084463,-24.45966,10.522314,14.291356,-34.050346,-0.66180575,6.4905505,28.11251,19.172966,12.673174,-3.910288,-8.6663685,-4.494702,-34.36172,22.25121,-1.7957993,-12.9952545,-32.39178,-9.754135,-8.618911,-2.4953556,-11.818667,-10.245227,26.88071,-24.731571,5.7863793,-8.81217,-3.4593325,-29.046215,9.427916,-19.846218,9.713161,-1.6751304,32.86334,-18.416634,10.107377,-32.471992,-6.890138,-10.698137,7.429322,-26.210445,-17.17996,-16.441706,-29.741362,7.812723,28.352932,-9.674081,21.81572,-16.50145,0.52887607,8.452303,-9.195068,14.478483,-21.780422,27.097542,-12.730295,27.625294,6.5491343,-31.051254,1.302422,-24.689417,24.178131,-22.083662,-11.059347,-1.9660411,-18.305475,-30.325974,-10.738038,13.301668,-8.800309,-34.044132,-11.369361,17.615232,-12.778886,-7.5279975,-22.442673,12.937738,-20.321632,-7.5572433,24.874447,-30.500608,-33.606636,12.715524,-10.801733,6.4233007,-8.94866,-25.553381,-34.042305,18.720924,27.598503,-24.510904,8.66233,0.23299608,9.73509,-31.058388,7.724278,17.4449,2.2257383,-1.0355662,26.46504,8.699656,1.0874103,18.833597,23.57038,28.991121,-6.3928933,-0.82289934,3.6650057,-8.88154,27.327003,14.618506,-10.821181,-8.25575,-32.730556,3.6044054,-23.01723,8.003251,-32.4266,-28.267078,21.12133,-23.180897,-29.523478,-5.0836663,6.1583233,5.2243705,-5.6690583,-5.9052444,-2.7534134,31.830559,-10.822044,-15.706874,-11.322478,14.3564005,-3.4638474,-0.8841447,33.76461,-34.844814,-10.069896,5.5100913,8.682794,12.073075,-10.2982855,-25.299248,-33.09994,24.102543,6.335851,21.437202,-31.962255,10.29448,-31.301905,-30.202137,20.155739,27.87519,-24.534977,7.012694,24.547562,-24.477205,1.474435,18.963623,-9.874174,-16.102064,12.552997,31.87156,-28.96477,-31.193317,-30.445627,3.2631364,16.320711,-35.566452,-29.40563,-23.422407,-17.026468,4.2752204,0.9690303,12.806129,-32.01628,7.898767,-15.041098,-29.034077,21.202122,17.242413,2.876431,12.17463,17.718727,-7.501544,0.21271977,31.81584,18.975197,-37.631237,-35.42573,-20.94794,-32.648293,3.148563,-27.909678,-24.63041,0.45275477,-36.577274,30.941103,18.924973,-2.291849,13.701602,17.274487,-31.543306,-27.552082,21.950861,13.785479,16.725243,10.383288,-6.399128,-2.2509525,-28.49317,16.120506,29.724773,22.933321,7.456946,3.358064,11.187901,14.437773,-9.072487,-3.1615477,1.5190947,-7.349045,-9.179069,-10.26396,16.971516,-7.176865,13.679558,-13.752404,16.773079,-3.598458,-20.141073,14.496106,1.0655591,-8.687611,-7.363152,22.123787,23.390581,-30.132362,-4.4040966,-34.54771,-10.964277,25.00503,23.534454,14.630283,-10.901215,31.231375,-4.5797296,7.5630546,14.868893,-18.86804,-36.690266,-6.7194185,-19.460373,27.580732,8.514184,-8.656425,29.077728,-21.81933,0.098182276,-34.665096,-15.845199,-3.1703384,-3.5515537,7.6939287,21.563595,-29.711935,-8.819196,20.45946,-23.151741,11.916315,28.387041,-31.926613,13.002594,-23.484241,26.999937,14.411307,24.982265,-11.636904,-21.320427,9.746414,-28.225065,26.75527,1.5315751,12.13289,0.023826994,-24.943632,13.207106,3.4811888,-31.755316,-22.821276,-10.902341,7.6535068,0.26141843,10.769239,9.421583,29.331385,23.606184,17.887733,0.43575704,30.635176,-6.5304537,26.413761,-30.876722,7.5700397,7.740912,-2.3466897,15.421505,24.768345,-9.636283,21.41145,-9.368279,10.948665,11.760077,9.735768,6.085137,-2.7728503,1.0241392,11.407773,-6.979495,31.30053,-25.05865,6.1464334,-27.091236,17.277662,30.404184,-38.798576,12.135062,23.59437,3.308092,2.1000538,16.311176,27.639395,-7.7324815,6.1351047,-26.77884,-11.926508,8.524123,-29.7473,-7.1409073,-7.698552,-5.6666903,-0.06648958,-1.4515746,5.4722824,-23.615713,1.1756306,4.81424,1.2053894,-32.60929,6.0707326,-1.1985962,-2.1702983,6.2962275,18.957653,-4.939238,-1.3414067,-9.287044,5.3801026,-9.441109,-21.308117,27.322378,22.897207,-14.533145,-14.552796,4.8408647,-34.543995,29.362053,-7.008569,-2.5083888,31.535841,6.9239907,-20.019106,-25.762466,-36.45894,-14.633878,14.250854,-17.279816,6.5205092,-10.856935,15.160153,4.414666,-14.972586,-31.120575,-0.25771907,26.390127,-32.189404,12.594887,32.690224,10.635944,-7.416213,13.507458,-10.755766,-16.961622,23.16906,-13.522961,-35.6741,14.479914,-2.8472288,10.651179,10.469089,5.636759,32.033672,13.870597,3.4893954,15.924923,16.117065,0.16507806,14.287028,-10.816608,-8.588733,-23.381567,-34.72309,23.467838,30.936966,3.2567167,24.57006,22.906672,17.389465,-7.2530527,-33.133038,-14.625997,-32.239887,-12.460128,-23.815714,-22.454351,-12.859854,27.470835,1.7380866,-1.2531681,14.482578,-4.0359545,27.075275,7.7413855,-12.212092,-18.10532,12.57829,9.777368,27.594877,12.152661,-0.029811213,10.461268,16.313456,0.85457826,-8.413033,19.462818,-10.652428,-22.417295,-2.9397545,-9.065384,-6.0223937,0.7777823,-16.27064,8.369056,-24.275028,-9.408349,-19.12473,-2.769112,4.637228,-16.913595,-15.640841,6.750181,-4.9974456,25.89608,1.3985378,11.540775,-11.91314,16.123108,-9.926854,10.915995,11.652556,28.117153,-5.5163355,6.0774236,9.023503,-5.449264,-8.719611,-23.610857,3.636856,-21.632185,11.868153,13.42478,-32.230824,25.69541,-7.706532,15.98187,-3.7170148,13.3754015,-0.18688065,12.280211,10.139679,5.9659147,-1.2643715,7.0722327,6.8991885,-20.036339,-7.5183306,-12.516731,-1.5468637,-32.921757,-20.336826,-1.6624808,21.999489,-8.899727,-4.122073,-7.0270896,6.833053,11.299808,7.7306895,22.196815,-33.577824,10.692943,-32.195652,17.48371,1.0003364,1.1890393,-11.93344,0.013225337,20.529016,15.485317,-29.981497,-1.6844025,25.058132,-18.119091,14.9955015,-29.626694,23.23627,8.302254,6.2438793,10.064204,-11.087193,-19.667614,6.238758,7.629986,13.541091,-6.3024592,17.233463,11.55366,6.561817,-14.2455435,14.000386,-0.12647077,-25.41407,4.9617743,-23.08672,-32.92512,-30.244059,-9.8729315,-25.749895,9.324264,10.008134,-29.546644,-14.250649,-8.586346,0.3888758,28.313093,7.304933,8.342487,-5.9564295,-10.336691,-34.448853,-21.29032,13.516383,5.928598,-6.3053875,10.158862,-7.124674,8.8403635,1.6701084,23.006578,-30.669588,14.292961,-18.48291,28.65545,-1.0079504,-26.845587,4.4475846,-35.53036,-9.795017,-0.05520969,18.918312,-6.180525,-29.401287,12.710561,-25.15045,-1.1678202,-26.859009,-12.33654,13.519454,-6.842319,-6.2415037,-20.527805,-26.602304,-14.59586,2.5501008,11.719048,-37.00357,-4.4786334,17.826447,15.470119,30.375576,-26.014004,5.4106917,-11.368219,29.076864,6.709628,10.673766,12.965091,-20.562595,10.250781,-11.043619,26.304546,-7.630958,-25.898453,-13.284187,-13.998604,-8.128553,21.075655,6.551815,21.789131,17.15624,-14.71198,3.5835524,-31.536924,6.2119465,19.25566,-20.602964,-18.938293,-1.7215188,15.334669,10.986555,13.940724,11.024859,-5.3882427,19.54191,16.94338,-29.343859,15.421088,24.129236,5.86177,-4.757096,20.58801,13.028909,-8.223822,-6.444506,11.343367,20.325169,-18.421618,-0.41176036,-11.031405,6.532364,-17.083876,-29.648365,-16.89488,14.394255,-21.603756,-28.669964,-31.069939,5.2037706,-10.533913,13.214756,-29.449873,8.257294,28.35417,14.682804,-25.259485,-1.2285008,-14.611146,-3.2157087,14.328294,-28.797974,23.742764,-32.38477,23.421581,-32.634613,-24.49848,5.6044736,-15.286159,-4.754079,-25.596107,11.950934,-27.784548,-6.0681796,-22.122734,-11.461501,-10.02987,-9.278921],\"yaxis\":\"y\",\"type\":\"scatter\"}],                        {\"template\":{\"data\":{\"histogram2dcontour\":[{\"type\":\"histogram2dcontour\",\"colorbar\":{\"outlinewidth\":0,\"ticks\":\"\"},\"colorscale\":[[0.0,\"#0d0887\"],[0.1111111111111111,\"#46039f\"],[0.2222222222222222,\"#7201a8\"],[0.3333333333333333,\"#9c179e\"],[0.4444444444444444,\"#bd3786\"],[0.5555555555555556,\"#d8576b\"],[0.6666666666666666,\"#ed7953\"],[0.7777777777777778,\"#fb9f3a\"],[0.8888888888888888,\"#fdca26\"],[1.0,\"#f0f921\"]]}],\"choropleth\":[{\"type\":\"choropleth\",\"colorbar\":{\"outlinewidth\":0,\"ticks\":\"\"}}],\"histogram2d\":[{\"type\":\"histogram2d\",\"colorbar\":{\"outlinewidth\":0,\"ticks\":\"\"},\"colorscale\":[[0.0,\"#0d0887\"],[0.1111111111111111,\"#46039f\"],[0.2222222222222222,\"#7201a8\"],[0.3333333333333333,\"#9c179e\"],[0.4444444444444444,\"#bd3786\"],[0.5555555555555556,\"#d8576b\"],[0.6666666666666666,\"#ed7953\"],[0.7777777777777778,\"#fb9f3a\"],[0.8888888888888888,\"#fdca26\"],[1.0,\"#f0f921\"]]}],\"heatmap\":[{\"type\":\"heatmap\",\"colorbar\":{\"outlinewidth\":0,\"ticks\":\"\"},\"colorscale\":[[0.0,\"#0d0887\"],[0.1111111111111111,\"#46039f\"],[0.2222222222222222,\"#7201a8\"],[0.3333333333333333,\"#9c179e\"],[0.4444444444444444,\"#bd3786\"],[0.5555555555555556,\"#d8576b\"],[0.6666666666666666,\"#ed7953\"],[0.7777777777777778,\"#fb9f3a\"],[0.8888888888888888,\"#fdca26\"],[1.0,\"#f0f921\"]]}],\"heatmapgl\":[{\"type\":\"heatmapgl\",\"colorbar\":{\"outlinewidth\":0,\"ticks\":\"\"},\"colorscale\":[[0.0,\"#0d0887\"],[0.1111111111111111,\"#46039f\"],[0.2222222222222222,\"#7201a8\"],[0.3333333333333333,\"#9c179e\"],[0.4444444444444444,\"#bd3786\"],[0.5555555555555556,\"#d8576b\"],[0.6666666666666666,\"#ed7953\"],[0.7777777777777778,\"#fb9f3a\"],[0.8888888888888888,\"#fdca26\"],[1.0,\"#f0f921\"]]}],\"contourcarpet\":[{\"type\":\"contourcarpet\",\"colorbar\":{\"outlinewidth\":0,\"ticks\":\"\"}}],\"contour\":[{\"type\":\"contour\",\"colorbar\":{\"outlinewidth\":0,\"ticks\":\"\"},\"colorscale\":[[0.0,\"#0d0887\"],[0.1111111111111111,\"#46039f\"],[0.2222222222222222,\"#7201a8\"],[0.3333333333333333,\"#9c179e\"],[0.4444444444444444,\"#bd3786\"],[0.5555555555555556,\"#d8576b\"],[0.6666666666666666,\"#ed7953\"],[0.7777777777777778,\"#fb9f3a\"],[0.8888888888888888,\"#fdca26\"],[1.0,\"#f0f921\"]]}],\"surface\":[{\"type\":\"surface\",\"colorbar\":{\"outlinewidth\":0,\"ticks\":\"\"},\"colorscale\":[[0.0,\"#0d0887\"],[0.1111111111111111,\"#46039f\"],[0.2222222222222222,\"#7201a8\"],[0.3333333333333333,\"#9c179e\"],[0.4444444444444444,\"#bd3786\"],[0.5555555555555556,\"#d8576b\"],[0.6666666666666666,\"#ed7953\"],[0.7777777777777778,\"#fb9f3a\"],[0.8888888888888888,\"#fdca26\"],[1.0,\"#f0f921\"]]}],\"mesh3d\":[{\"type\":\"mesh3d\",\"colorbar\":{\"outlinewidth\":0,\"ticks\":\"\"}}],\"scatter\":[{\"fillpattern\":{\"fillmode\":\"overlay\",\"size\":10,\"solidity\":0.2},\"type\":\"scatter\"}],\"parcoords\":[{\"type\":\"parcoords\",\"line\":{\"colorbar\":{\"outlinewidth\":0,\"ticks\":\"\"}}}],\"scatterpolargl\":[{\"type\":\"scatterpolargl\",\"marker\":{\"colorbar\":{\"outlinewidth\":0,\"ticks\":\"\"}}}],\"bar\":[{\"error_x\":{\"color\":\"#2a3f5f\"},\"error_y\":{\"color\":\"#2a3f5f\"},\"marker\":{\"line\":{\"color\":\"#E5ECF6\",\"width\":0.5},\"pattern\":{\"fillmode\":\"overlay\",\"size\":10,\"solidity\":0.2}},\"type\":\"bar\"}],\"scattergeo\":[{\"type\":\"scattergeo\",\"marker\":{\"colorbar\":{\"outlinewidth\":0,\"ticks\":\"\"}}}],\"scatterpolar\":[{\"type\":\"scatterpolar\",\"marker\":{\"colorbar\":{\"outlinewidth\":0,\"ticks\":\"\"}}}],\"histogram\":[{\"marker\":{\"pattern\":{\"fillmode\":\"overlay\",\"size\":10,\"solidity\":0.2}},\"type\":\"histogram\"}],\"scattergl\":[{\"type\":\"scattergl\",\"marker\":{\"colorbar\":{\"outlinewidth\":0,\"ticks\":\"\"}}}],\"scatter3d\":[{\"type\":\"scatter3d\",\"line\":{\"colorbar\":{\"outlinewidth\":0,\"ticks\":\"\"}},\"marker\":{\"colorbar\":{\"outlinewidth\":0,\"ticks\":\"\"}}}],\"scattermapbox\":[{\"type\":\"scattermapbox\",\"marker\":{\"colorbar\":{\"outlinewidth\":0,\"ticks\":\"\"}}}],\"scatterternary\":[{\"type\":\"scatterternary\",\"marker\":{\"colorbar\":{\"outlinewidth\":0,\"ticks\":\"\"}}}],\"scattercarpet\":[{\"type\":\"scattercarpet\",\"marker\":{\"colorbar\":{\"outlinewidth\":0,\"ticks\":\"\"}}}],\"carpet\":[{\"aaxis\":{\"endlinecolor\":\"#2a3f5f\",\"gridcolor\":\"white\",\"linecolor\":\"white\",\"minorgridcolor\":\"white\",\"startlinecolor\":\"#2a3f5f\"},\"baxis\":{\"endlinecolor\":\"#2a3f5f\",\"gridcolor\":\"white\",\"linecolor\":\"white\",\"minorgridcolor\":\"white\",\"startlinecolor\":\"#2a3f5f\"},\"type\":\"carpet\"}],\"table\":[{\"cells\":{\"fill\":{\"color\":\"#EBF0F8\"},\"line\":{\"color\":\"white\"}},\"header\":{\"fill\":{\"color\":\"#C8D4E3\"},\"line\":{\"color\":\"white\"}},\"type\":\"table\"}],\"barpolar\":[{\"marker\":{\"line\":{\"color\":\"#E5ECF6\",\"width\":0.5},\"pattern\":{\"fillmode\":\"overlay\",\"size\":10,\"solidity\":0.2}},\"type\":\"barpolar\"}],\"pie\":[{\"automargin\":true,\"type\":\"pie\"}]},\"layout\":{\"autotypenumbers\":\"strict\",\"colorway\":[\"#636efa\",\"#EF553B\",\"#00cc96\",\"#ab63fa\",\"#FFA15A\",\"#19d3f3\",\"#FF6692\",\"#B6E880\",\"#FF97FF\",\"#FECB52\"],\"font\":{\"color\":\"#2a3f5f\"},\"hovermode\":\"closest\",\"hoverlabel\":{\"align\":\"left\"},\"paper_bgcolor\":\"white\",\"plot_bgcolor\":\"#E5ECF6\",\"polar\":{\"bgcolor\":\"#E5ECF6\",\"angularaxis\":{\"gridcolor\":\"white\",\"linecolor\":\"white\",\"ticks\":\"\"},\"radialaxis\":{\"gridcolor\":\"white\",\"linecolor\":\"white\",\"ticks\":\"\"}},\"ternary\":{\"bgcolor\":\"#E5ECF6\",\"aaxis\":{\"gridcolor\":\"white\",\"linecolor\":\"white\",\"ticks\":\"\"},\"baxis\":{\"gridcolor\":\"white\",\"linecolor\":\"white\",\"ticks\":\"\"},\"caxis\":{\"gridcolor\":\"white\",\"linecolor\":\"white\",\"ticks\":\"\"}},\"coloraxis\":{\"colorbar\":{\"outlinewidth\":0,\"ticks\":\"\"}},\"colorscale\":{\"sequential\":[[0.0,\"#0d0887\"],[0.1111111111111111,\"#46039f\"],[0.2222222222222222,\"#7201a8\"],[0.3333333333333333,\"#9c179e\"],[0.4444444444444444,\"#bd3786\"],[0.5555555555555556,\"#d8576b\"],[0.6666666666666666,\"#ed7953\"],[0.7777777777777778,\"#fb9f3a\"],[0.8888888888888888,\"#fdca26\"],[1.0,\"#f0f921\"]],\"sequentialminus\":[[0.0,\"#0d0887\"],[0.1111111111111111,\"#46039f\"],[0.2222222222222222,\"#7201a8\"],[0.3333333333333333,\"#9c179e\"],[0.4444444444444444,\"#bd3786\"],[0.5555555555555556,\"#d8576b\"],[0.6666666666666666,\"#ed7953\"],[0.7777777777777778,\"#fb9f3a\"],[0.8888888888888888,\"#fdca26\"],[1.0,\"#f0f921\"]],\"diverging\":[[0,\"#8e0152\"],[0.1,\"#c51b7d\"],[0.2,\"#de77ae\"],[0.3,\"#f1b6da\"],[0.4,\"#fde0ef\"],[0.5,\"#f7f7f7\"],[0.6,\"#e6f5d0\"],[0.7,\"#b8e186\"],[0.8,\"#7fbc41\"],[0.9,\"#4d9221\"],[1,\"#276419\"]]},\"xaxis\":{\"gridcolor\":\"white\",\"linecolor\":\"white\",\"ticks\":\"\",\"title\":{\"standoff\":15},\"zerolinecolor\":\"white\",\"automargin\":true,\"zerolinewidth\":2},\"yaxis\":{\"gridcolor\":\"white\",\"linecolor\":\"white\",\"ticks\":\"\",\"title\":{\"standoff\":15},\"zerolinecolor\":\"white\",\"automargin\":true,\"zerolinewidth\":2},\"scene\":{\"xaxis\":{\"backgroundcolor\":\"#E5ECF6\",\"gridcolor\":\"white\",\"linecolor\":\"white\",\"showbackground\":true,\"ticks\":\"\",\"zerolinecolor\":\"white\",\"gridwidth\":2},\"yaxis\":{\"backgroundcolor\":\"#E5ECF6\",\"gridcolor\":\"white\",\"linecolor\":\"white\",\"showbackground\":true,\"ticks\":\"\",\"zerolinecolor\":\"white\",\"gridwidth\":2},\"zaxis\":{\"backgroundcolor\":\"#E5ECF6\",\"gridcolor\":\"white\",\"linecolor\":\"white\",\"showbackground\":true,\"ticks\":\"\",\"zerolinecolor\":\"white\",\"gridwidth\":2}},\"shapedefaults\":{\"line\":{\"color\":\"#2a3f5f\"}},\"annotationdefaults\":{\"arrowcolor\":\"#2a3f5f\",\"arrowhead\":0,\"arrowwidth\":1},\"geo\":{\"bgcolor\":\"white\",\"landcolor\":\"#E5ECF6\",\"subunitcolor\":\"white\",\"showland\":true,\"showlakes\":true,\"lakecolor\":\"white\"},\"title\":{\"x\":0.05},\"mapbox\":{\"style\":\"light\"}}},\"xaxis\":{\"anchor\":\"y\",\"domain\":[0.0,1.0],\"title\":{\"text\":\"x\"}},\"yaxis\":{\"anchor\":\"x\",\"domain\":[0.0,1.0],\"title\":{\"text\":\"y\"}},\"coloraxis\":{\"colorbar\":{\"title\":{\"text\":\"color\"}},\"colorscale\":[[0.0,\"#0d0887\"],[0.1111111111111111,\"#46039f\"],[0.2222222222222222,\"#7201a8\"],[0.3333333333333333,\"#9c179e\"],[0.4444444444444444,\"#bd3786\"],[0.5555555555555556,\"#d8576b\"],[0.6666666666666666,\"#ed7953\"],[0.7777777777777778,\"#fb9f3a\"],[0.8888888888888888,\"#fdca26\"],[1.0,\"#f0f921\"]]},\"legend\":{\"tracegroupgap\":0},\"margin\":{\"t\":60}},                        {\"responsive\": true}                    ).then(function(){\n",
              "                            \n",
              "var gd = document.getElementById('18c75907-9a43-4a4b-a764-ff126f73b55c');\n",
              "var x = new MutationObserver(function (mutations, observer) {{\n",
              "        var display = window.getComputedStyle(gd).display;\n",
              "        if (!display || display === 'none') {{\n",
              "            console.log([gd, 'removed!']);\n",
              "            Plotly.purge(gd);\n",
              "            observer.disconnect();\n",
              "        }}\n",
              "}});\n",
              "\n",
              "// Listen for the removal of the full notebook cells\n",
              "var notebookContainer = gd.closest('#notebook-container');\n",
              "if (notebookContainer) {{\n",
              "    x.observe(notebookContainer, {childList: true});\n",
              "}}\n",
              "\n",
              "// Listen for the clearing of the current output cell\n",
              "var outputEl = gd.closest('.output');\n",
              "if (outputEl) {{\n",
              "    x.observe(outputEl, {childList: true});\n",
              "}}\n",
              "\n",
              "                        })                };                            </script>        </div>\n",
              "</body>\n",
              "</html>"
            ]
          },
          "metadata": {}
        }
      ],
      "source": [
        "fig=px.scatter(x=X_reduced_tsne[:,0], y=X_reduced_tsne[:,1], color=y)\n",
        "fig.show()"
      ]
    },
    {
      "cell_type": "markdown",
      "id": "041e973c",
      "metadata": {
        "id": "041e973c"
      },
      "source": [
        "Although the subsample is pretty small, the t-SNE algorithm is able to detect clusters pretty accurately"
      ]
    },
    {
      "cell_type": "markdown",
      "source": [
        "Reference- https://www.geeksforgeeks.org/machine-learning/difference-between-pca-vs-t-sne/\n",
        "\n",
        "Note-ChatGPT was used to help understand the results using WebSearch Feature."
      ],
      "metadata": {
        "id": "N3FyT2MV9mc3"
      },
      "id": "N3FyT2MV9mc3"
    },
    {
      "cell_type": "markdown",
      "id": "85bb3774",
      "metadata": {
        "id": "85bb3774"
      },
      "source": [
        "## Scaling"
      ]
    },
    {
      "cell_type": "code",
      "execution_count": null,
      "id": "7ab1142e",
      "metadata": {
        "colab": {
          "base_uri": "https://localhost:8080/"
        },
        "id": "7ab1142e",
        "outputId": "71d53caa-acae-4cbb-b49d-4e1a90ba2c7b"
      },
      "outputs": [
        {
          "output_type": "stream",
          "name": "stdout",
          "text": [
            "(275663, 29) (275663,)\n"
          ]
        }
      ],
      "source": [
        "scaler = StandardScaler()\n",
        "X = scaler.fit_transform(df.drop('Class', axis=1))\n",
        "y = df['Class'].values\n",
        "print(X.shape, y.shape)"
      ]
    },
    {
      "cell_type": "markdown",
      "id": "22e31517",
      "metadata": {
        "id": "22e31517"
      },
      "source": [
        "## Splitting the data"
      ]
    },
    {
      "cell_type": "markdown",
      "id": "6fa74b00",
      "metadata": {
        "id": "6fa74b00"
      },
      "source": [
        "we want to test our models on the original testing set not on the testing set created from GAN. The main goal is to fit the model in the generated data, and test it on the original testing set."
      ]
    },
    {
      "cell_type": "code",
      "execution_count": null,
      "id": "f8303d35",
      "metadata": {
        "id": "f8303d35"
      },
      "outputs": [],
      "source": [
        "X_train, X_test, y_train, y_test = train_test_split(X, y, test_size=0.2, random_state=42, stratify=y)"
      ]
    },
    {
      "cell_type": "markdown",
      "id": "e1beefe0",
      "metadata": {
        "id": "e1beefe0"
      },
      "source": [
        "## Testing baseline model with original data"
      ]
    },
    {
      "cell_type": "markdown",
      "id": "lpgBi5NjBMt0",
      "metadata": {
        "id": "lpgBi5NjBMt0"
      },
      "source": [
        "#Training GAN"
      ]
    },
    {
      "cell_type": "markdown",
      "id": "C8Ie3u_SBS3X",
      "metadata": {
        "id": "C8Ie3u_SBS3X"
      },
      "source": [
        "#Generating new samples"
      ]
    },
    {
      "cell_type": "code",
      "metadata": {
        "colab": {
          "base_uri": "https://localhost:8080/"
        },
        "id": "MwKKq8Pgn_ZD",
        "outputId": "1b67527b-fe7a-4946-f6b2-bbcb072c04dc"
      },
      "source": [
        "import tensorflow as tf\n",
        "from tensorflow.keras import layers, models, losses, optimizers\n",
        "import numpy as np\n",
        "\n",
        "# ------------------------------------------------------------\n",
        "# Custom VAE Model\n",
        "# ------------------------------------------------------------\n",
        "class VAE(tf.keras.Model):\n",
        "    def __init__(self, encoder, decoder, input_dim, **kwargs):\n",
        "        super().__init__(**kwargs)\n",
        "        self.encoder = encoder\n",
        "        self.decoder = decoder\n",
        "        self.input_dim = input_dim\n",
        "        self.total_loss_tracker = tf.keras.metrics.Mean(name=\"loss\")\n",
        "        self.reconstruction_loss_tracker = tf.keras.metrics.Mean(\n",
        "            name=\"reconstruction_loss\"\n",
        "        )\n",
        "        self.kl_loss_tracker = tf.keras.metrics.Mean(name=\"kl_loss\")\n",
        "\n",
        "    @property\n",
        "    def metrics(self):\n",
        "        return [\n",
        "            self.total_loss_tracker,\n",
        "            self.reconstruction_loss_tracker,\n",
        "            self.kl_loss_tracker,\n",
        "        ]\n",
        "\n",
        "    def call(self, inputs):\n",
        "        z_mean, z_log_var, z = self.encoder(inputs)\n",
        "        reconstruction = self.decoder(z)\n",
        "        return reconstruction\n",
        "\n",
        "    def train_step(self, data):\n",
        "        x = data\n",
        "\n",
        "        with tf.GradientTape() as tape:\n",
        "            z_mean, z_log_var, z = self.encoder(x)\n",
        "            reconstruction = self.decoder(z)\n",
        "            reconstruction_loss = tf.reduce_mean(\n",
        "                losses.mse(x, reconstruction) * self.input_dim\n",
        "            )\n",
        "            kl_loss = -0.5 * tf.reduce_mean(\n",
        "                1 + z_log_var - tf.square(z_mean) - tf.exp(z_log_var)\n",
        "            )\n",
        "            total_vae_loss = reconstruction_loss + kl_loss\n",
        "\n",
        "        grads = tape.gradient(total_vae_loss, self.trainable_variables)\n",
        "        self.optimizer.apply_gradients(zip(grads, self.trainable_variables))\n",
        "\n",
        "        self.total_loss_tracker.update_state(total_vae_loss)\n",
        "        self.reconstruction_loss_tracker.update_state(reconstruction_loss)\n",
        "        self.kl_loss_tracker.update_state(kl_loss)\n",
        "\n",
        "        return {\n",
        "            \"loss\": self.total_loss_tracker.result(),\n",
        "            \"reconstruction_loss\": self.reconstruction_loss_tracker.result(),\n",
        "            \"kl_loss\": self.kl_loss_tracker.result(),\n",
        "        }\n",
        "\n",
        "# ------------------------------------------------------------\n",
        "# VAE implementation:\n",
        "# ------------------------------------------------------------\n",
        "latent_dim = 16\n",
        "input_dim = X_train.shape[1]\n",
        "\n",
        "\n",
        "encoder_inputs = layers.Input(shape=(input_dim,))\n",
        "x = layers.Dense(64, activation='relu')(encoder_inputs)\n",
        "x = layers.Dense(32, activation='relu')(x)\n",
        "z_mean = layers.Dense(latent_dim, name='z_mean')(x)\n",
        "z_log_var = layers.Dense(latent_dim, name='z_log_var')(x)\n",
        "\n",
        "def sampling(args):\n",
        "    z_mean, z_log_var = args\n",
        "    eps = tf.random.normal(shape=(tf.shape(z_mean)[0], latent_dim))\n",
        "    return z_mean + tf.exp(0.5 * z_log_var) * eps\n",
        "\n",
        "z = layers.Lambda(sampling, name='z')([z_mean, z_log_var])\n",
        "\n",
        "encoder = models.Model(encoder_inputs, [z_mean, z_log_var, z], name='encoder')\n",
        "\n",
        "decoder_inputs = layers.Input(shape=(latent_dim,))\n",
        "d = layers.Dense(32, activation='relu')(decoder_inputs)\n",
        "d = layers.Dense(64, activation='relu')(d)\n",
        "decoder_outputs = layers.Dense(input_dim, activation='linear')(d)\n",
        "decoder = models.Model(decoder_inputs, decoder_outputs, name='decoder')\n",
        "\n",
        "# VAE model\n",
        "vae = VAE(encoder, decoder, input_dim)\n",
        "\n",
        "\n",
        "vae.compile(optimizer=optimizers.Adam(1e-3), loss='mse', metrics=[\n",
        "    vae.total_loss_tracker,\n",
        "    vae.reconstruction_loss_tracker,\n",
        "    vae.kl_loss_tracker,\n",
        "])\n",
        "\n",
        "\n",
        "fraud_samples = X_train[y_train == 1]\n",
        "\n",
        "print(\"Training VAE...\")\n",
        "# Removed validation_split\n",
        "vae.fit(fraud_samples, epochs=50, batch_size=256, verbose=0)\n",
        "print(\"VAE Training complete.\")\n",
        "\n",
        "# Generate synthetic fraud samples by sampling latent space and decoding\n",
        "def vae_generate(n_samples):\n",
        "    z_rand = np.random.normal(size=(n_samples, latent_dim))\n",
        "    return decoder.predict(z_rand)\n",
        "\n",
        "# ------------------------------------------------------------\n",
        "# 2. VAE‑GAN implementation (simplified):\n",
        "# ------------------------------------------------------------\n",
        "# Encoder and decoder as above\n",
        "\n",
        "def build_vae_gan_discriminator(input_dim):\n",
        "    d_in = layers.Input(shape=(input_dim,))\n",
        "    x = layers.Dense(128, activation='relu')(d_in)\n",
        "    x = layers.Dense(64, activation='relu')(x)\n",
        "    d_out = layers.Dense(1, activation='sigmoid')(x)\n",
        "    return models.Model(d_in, d_out, name='vae_gan_discriminator')\n",
        "\n",
        "discriminator = build_vae_gan_discriminator(input_dim)\n",
        "discriminator.compile(optimizer=optimizers.Adam(1e-4),\n",
        "                      loss='binary_crossentropy')\n",
        "\n",
        "# Combined VAE‑GAN model\n",
        "\n",
        "\n",
        "# Adversarial loop - Corrected VAE-GAN training\n",
        "batch_size = 256\n",
        "epochs_vae_gan = 50\n",
        "print(\"Training VAE-GAN...\")\n",
        "for epoch in range(epochs_vae_gan):\n",
        "    # ---------------------\n",
        "    # Train Discriminator\n",
        "    # ---------------------\n",
        "\n",
        "    idx = np.random.randint(0, fraud_samples.shape[0], batch_size)\n",
        "    real_samples = fraud_samples[idx]\n",
        "\n",
        "    noise = np.random.normal(size=(batch_size, latent_dim))\n",
        "    fake_samples = decoder(noise, training=False)\n",
        "\n",
        "    # Train discriminator on real and fake samples\n",
        "    d_loss_real = discriminator.train_on_batch(real_samples, np.ones((batch_size, 1)))\n",
        "    d_loss_fake = discriminator.train_on_batch(fake_samples, np.zeros((batch_size, 1)))\n",
        "    d_loss = 0.5 * np.add(d_loss_real, d_loss_fake)\n",
        "\n",
        "    # ---------------------\n",
        "    # Train Generator (Decoder)\n",
        "    # ---------------------\n",
        "\n",
        "    noise = np.random.normal(size=(batch_size, latent_dim))\n",
        "    valid_y = np.ones((batch_size, 1))\n",
        "\n",
        "\n",
        "    with tf.GradientTape() as tape:\n",
        "        gen_samples = decoder(noise, training=True)\n",
        "        validity = discriminator(gen_samples, training=False) # Discriminator is not trained here\n",
        "        g_loss = losses.binary_crossentropy(tf.ones_like(validity), validity)\n",
        "\n",
        "    grads = tape.gradient(g_loss, decoder.trainable_variables)\n",
        "    optimizers.Adam(1e-4).apply_gradients(zip(grads, decoder.trainable_variables))\n",
        "\n",
        "\n",
        "    if (epoch + 1) % 10 == 0:\n",
        "        print(f\"Epoch {epoch+1}/{epochs_vae_gan} [D loss: {d_loss:.4f}] [G loss: {tf.reduce_mean(g_loss):.4f}]\")\n",
        "\n",
        "print(\"VAE-GAN Training complete.\")\n",
        "\n",
        "\n",
        "#  generate synthetic fraud samples\n",
        "vae_gan_samples = vae_generate(250000)\n",
        "print(f\"Generated {len(vae_gan_samples)} synthetic fraud samples.\")"
      ],
      "id": "MwKKq8Pgn_ZD",
      "execution_count": null,
      "outputs": [
        {
          "output_type": "stream",
          "name": "stdout",
          "text": [
            "Training VAE...\n"
          ]
        },
        {
          "output_type": "stream",
          "name": "stderr",
          "text": [
            "/usr/local/lib/python3.12/dist-packages/tensorflow/python/data/ops/structured_function.py:258: UserWarning:\n",
            "\n",
            "Even though the `tf.config.experimental_run_functions_eagerly` option is set, this option does not apply to tf.data functions. To force eager execution of tf.data functions, please use `tf.data.experimental.enable_debug_mode()`.\n",
            "\n"
          ]
        },
        {
          "output_type": "stream",
          "name": "stdout",
          "text": [
            "VAE Training complete.\n",
            "Training VAE-GAN...\n",
            "Epoch 10/50 [D loss: 0.7401] [G loss: 0.6387]\n",
            "Epoch 20/50 [D loss: 0.6729] [G loss: 0.5750]\n",
            "Epoch 30/50 [D loss: 0.6391] [G loss: 0.5450]\n",
            "Epoch 40/50 [D loss: 0.6195] [G loss: 0.5250]\n",
            "Epoch 50/50 [D loss: 0.6054] [G loss: 0.5293]\n",
            "VAE-GAN Training complete.\n",
            "\u001b[1m7813/7813\u001b[0m \u001b[32m━━━━━━━━━━━━━━━━━━━━\u001b[0m\u001b[37m\u001b[0m \u001b[1m35s\u001b[0m 5ms/step\n",
            "Generated 250000 synthetic fraud samples.\n"
          ]
        }
      ]
    },
    {
      "cell_type": "code",
      "source": [
        "# ============================================\n",
        "# PCA: Real Fraud vs VAE-GAN Generated Fraud\n",
        "# ============================================\n",
        "from sklearn.decomposition import PCA\n",
        "from sklearn.preprocessing import StandardScaler\n",
        "import matplotlib.pyplot as plt\n",
        "\n",
        "\n",
        "real_fraud = X_train[y_train.ravel() == 1]\n",
        "\n",
        "\n",
        "n_plot = min(len(real_fraud), 20000)  # keep it light for PCA viz\n",
        "z_rand = np.random.normal(size=(n_plot, latent_dim))\n",
        "gen_samples = decoder(z_rand, training=False)\n",
        "\n",
        "gen_samples = gen_samples.numpy() if hasattr(gen_samples, \"numpy\") else gen_samples\n",
        "\n",
        "\n",
        "n = min(len(real_fraud), len(gen_samples))\n",
        "if len(real_fraud) > n:\n",
        "    idx_rf = np.random.choice(len(real_fraud), n, replace=False)\n",
        "    real_fraud_bal = real_fraud[idx_rf]\n",
        "else:\n",
        "    real_fraud_bal = real_fraud\n",
        "\n",
        "if len(gen_samples) > n:\n",
        "    idx_gf = np.random.choice(len(gen_samples), n, replace=False)\n",
        "    gen_samples_bal = gen_samples[idx_gf]\n",
        "else:\n",
        "    gen_samples_bal = gen_samples\n",
        "\n",
        "#combine for PCA (optional: standardize first — usually helps)\n",
        "combined_data = np.vstack([real_fraud_bal, gen_samples_bal])\n",
        "labels = np.array([0]*len(real_fraud_bal) + [1]*len(gen_samples_bal))  # 0=Real, 1=Generated\n",
        "\n",
        "use_scaler = True\n",
        "if use_scaler:\n",
        "    scaler = StandardScaler()\n",
        "    combined_data = scaler.fit_transform(combined_data)\n",
        "\n",
        "# PCA to 2D\n",
        "pca = PCA(n_components=2, random_state=42)\n",
        "proj = pca.fit_transform(combined_data)\n",
        "expl_var = pca.explained_variance_ratio_\n",
        "\n",
        "\n",
        "plt.figure(figsize=(8, 6))\n",
        "plt.scatter(proj[labels == 0, 0], proj[labels == 0, 1],\n",
        "            alpha=0.5, s=15, label='Real Fraud')\n",
        "plt.scatter(proj[labels == 1, 0], proj[labels == 1, 1],\n",
        "            alpha=0.5, s=15, label='GAN-Generated Fraud')\n",
        "plt.xlabel(f\"PCA Component 1 ({expl_var[0]*100:.1f}% var)\")\n",
        "plt.ylabel(f\"PCA Component 2 ({expl_var[1]*100:.1f}% var)\")\n",
        "plt.title(\"Real vs VAE-GAN Generated Fraud (PCA Projection)\")\n",
        "plt.legend()\n",
        "plt.tight_layout()\n",
        "plt.show()\n"
      ],
      "metadata": {
        "colab": {
          "base_uri": "https://localhost:8080/",
          "height": 607
        },
        "id": "xHdpkz0tAcqj",
        "outputId": "91ff4583-6ccd-4844-84b2-08f8ebd9cdb5"
      },
      "id": "xHdpkz0tAcqj",
      "execution_count": null,
      "outputs": [
        {
          "output_type": "display_data",
          "data": {
            "text/plain": [
              "<Figure size 800x600 with 1 Axes>"
            ],
            "image/png": "[encoded data removed]"
          },
          "metadata": {}
        }
      ]
    },
    {
      "cell_type": "markdown",
      "source": [
        "The PCA confirms that VAE-GAN generated fraud samples resemble real fraud more closely than plain GAN outputs, while avoiding the excessive collapse seen in standard GANs.\n",
        "This explains why, in classification, VAE-GAN + Random Forest achieved stronger recall and precision:\n",
        "\n",
        "Fraud samples generated are diverse enough to improve learning,\n",
        "\n",
        "But also structured enough to avoid noisy oversampling."
      ],
      "metadata": {
        "id": "hxpqFkxq_hs2"
      },
      "id": "hxpqFkxq_hs2"
    },
    {
      "cell_type": "markdown",
      "source": [
        "Note- ChatGPT used for understanding results and how discriminator can be used.\n",
        "\n",
        "Reference-https://medium.com/the-research-nest/exploring-gans-to-generate-synthetic-data-ca48f8a4b518\n",
        "\n"
      ],
      "metadata": {
        "id": "89bHDeMx_bc3"
      },
      "id": "89bHDeMx_bc3"
    },
    {
      "cell_type": "markdown",
      "metadata": {
        "id": "e1bb9f3f"
      },
      "source": [
        "## Train and evaluate classifier\n",
        "\n",
        "### Subtask:\n",
        "Build the augmented training dataset by combining the original training data with the synthetic fraud samples generated by the VAE-GAN. Then, train a LightGBM classifier on this augmented dataset and evaluate its performance on the real, untouched test set.\n"
      ],
      "id": "e1bb9f3f"
    },
    {
      "cell_type": "markdown",
      "metadata": {
        "id": "2f211c2b"
      },
      "source": [
        "**Reasoning**:\n",
        "Build the augmented training dataset, train the LightGBM classifier, evaluate its performance, and print the results and plots as requested in the instructions.\n",
        "\n"
      ],
      "id": "2f211c2b"
    },
    {
      "cell_type": "code",
      "metadata": {
        "colab": {
          "base_uri": "https://localhost:8080/",
          "height": 646
        },
        "id": "0aea569e",
        "outputId": "543fb9b1-cfee-4137-f556-a63504e84372"
      },
      "source": [
        "from sklearn.ensemble import RandomForestClassifier\n",
        "from sklearn.metrics import (\n",
        "    roc_auc_score,\n",
        "    average_precision_score,\n",
        "    classification_report,\n",
        "    confusion_matrix,\n",
        "    RocCurveDisplay,\n",
        "    PrecisionRecallDisplay\n",
        ")\n",
        "import matplotlib.pyplot as plt\n",
        "import numpy as np\n",
        "\n",
        "\n",
        "aug_X_train = np.vstack([X_train, vae_gan_samples])\n",
        "aug_y_train = np.hstack([y_train, np.ones(len(vae_gan_samples), dtype=y_train.dtype)])  # Keep dtype consistent\n",
        "\n",
        "\n",
        "clf = RandomForestClassifier(\n",
        "    n_estimators=300,\n",
        "    max_depth=None,\n",
        "    min_samples_leaf=5,\n",
        "    random_state=42,\n",
        "    n_jobs=-1\n",
        ")\n",
        "print(\"Training Random Forest classifier...\")\n",
        "clf.fit(aug_X_train, aug_y_train)\n",
        "print(\"Random Forest classifier training complete.\")\n",
        "\n",
        "# predict on REAL hold-out test\n",
        "y_pred = clf.predict(X_test)\n",
        "y_prob = clf.predict_proba(X_test)[:, 1]  # Needed for ROC/PR\n",
        "\n",
        "\n",
        "roc = roc_auc_score(y_test, y_prob)\n",
        "pr  = average_precision_score(y_test, y_prob)\n",
        "\n",
        "print(\"\\nVAE‑GAN oversampling classification report:\\n\",\n",
        "      classification_report(y_test, y_pred, digits=4))\n",
        "print(\"Confusion Matrix:\\n\", confusion_matrix(y_test, y_pred))\n",
        "print(f\"\\nROC‑AUC: {roc:.4f}\")\n",
        "print(f\"PR‑AUC:  {pr:.4f}\")\n",
        "\n",
        "# Plot ROC and PR curves\n",
        "fig, ax = plt.subplots(1, 2, figsize=(10, 4))\n",
        "RocCurveDisplay.from_predictions(y_test, y_prob, ax=ax[0])\n",
        "ax[0].set_title(\"ROC Curve\")\n",
        "\n",
        "PrecisionRecallDisplay.from_predictions(y_test, y_prob, ax=ax[1])\n",
        "ax[1].set_title(\"Precision–Recall Curve\")\n",
        "plt.tight_layout()\n",
        "plt.show()\n"
      ],
      "id": "0aea569e",
      "execution_count": null,
      "outputs": [
        {
          "output_type": "stream",
          "name": "stdout",
          "text": [
            "Training Random Forest classifier...\n",
            "Random Forest classifier training complete.\n",
            "\n",
            "VAE‑GAN oversampling classification report:\n",
            "               precision    recall  f1-score   support\n",
            "\n",
            "           0     0.9996    0.9998    0.9997     55038\n",
            "           1     0.8810    0.7789    0.8268        95\n",
            "\n",
            "    accuracy                         0.9994     55133\n",
            "   macro avg     0.9403    0.8894    0.9133     55133\n",
            "weighted avg     0.9994    0.9994    0.9994     55133\n",
            "\n",
            "Confusion Matrix:\n",
            " [[55028    10]\n",
            " [   21    74]]\n",
            "\n",
            "ROC‑AUC: 0.9732\n",
            "PR‑AUC:  0.8201\n"
          ]
        },
        {
          "output_type": "display_data",
          "data": {
            "text/plain": [
              "<Figure size 1000x400 with 2 Axes>"
            ],
            "image/png": "[encoded data removed]"
          },
          "metadata": {}
        }
      ]
    },
    {
      "cell_type": "markdown",
      "source": [
        "\n",
        "Note- ChatGPT used for understanding results and how VAEGAN is different and can be used."
      ],
      "metadata": {
        "id": "PFiEOtEW-V8T"
      },
      "id": "PFiEOtEW-V8T"
    },
    {
      "cell_type": "markdown",
      "source": [
        "Referneces-[A hybrid deep learning approach with generative adversarial network for credit card fraud detection](https://doi.org/10.3390/technologies12100186), [Improving detection of credit card fraudulent transactions using generative adversarial networks](https://arxiv.org/abs/1907.03355), [Generative adversarial networks-based novel approach for fraud detection for the European Cardholders 2013 dataset](https://doi.org/10.1109/ACCESS.2023.3320072), https://medium.com/data-science/fraud-detection-with-generative-adversarial-nets-gans-26bea360870d\n",
        ",https://www.kaggle.com/code/gauravduttakiit/cc-fraud-detection-gan-random-forest-classifier/data"
      ],
      "metadata": {
        "id": "wnhtT3aG-6lC"
      },
      "id": "wnhtT3aG-6lC"
    },
    {
      "cell_type": "markdown",
      "source": [
        "The VAE-GAN oversampling + Random Forest pipeline yields highly reliable performance, with a good balance between precision and recall on the minority (fraud) class.\n",
        "Compared to plain GAN + RF, the VAE-GAN’s latent space structure improves representation of fraud samples, leading to higher fraud detection recall and a better trade-off between catching frauds and avoiding false alarms."
      ],
      "metadata": {
        "id": "blsJCbXz_nb7"
      },
      "id": "blsJCbXz_nb7"
    },
    {
      "cell_type": "code",
      "source": [],
      "metadata": {
        "id": "lvUH6YBI-Wds"
      },
      "id": "lvUH6YBI-Wds",
      "execution_count": null,
      "outputs": []
    }
  ],
  "metadata": {
    "accelerator": "GPU",
    "colab": {
      "gpuType": "T4",
      "provenance": []
    },
    "kaggle": {
      "accelerator": "none",
      "dataSources": [
        {
          "datasetId": 310,
          "sourceId": 23498,
          "sourceType": "datasetVersion"
        }
      ],
      "dockerImageVersionId": 30822,
      "isGpuEnabled": false,
      "isInternetEnabled": true,
      "language": "python",
      "sourceType": "notebook"
    },
    "kernelspec": {
      "display_name": "Python 3",
      "name": "python3"
    },
    "language_info": {
      "codemirror_mode": {
        "name": "ipython",
        "version": 3
      },
      "file_extension": ".py",
      "mimetype": "text/x-python",
      "name": "python",
      "nbconvert_exporter": "python",
      "pygments_lexer": "ipython3",
      "version": "3.10.12"
    },
    "papermill": {
      "default_parameters": {},
      "duration": 1846.66889,
      "end_time": "2024-12-30T03:00:04.367340",
      "environment_variables": {},
      "exception": null,
      "input_path": "__notebook__.ipynb",
      "output_path": "__notebook__.ipynb",
      "parameters": {},
      "start_time": "2024-12-30T02:29:17.698450",
      "version": "2.6.0"
    }
  },
  "nbformat": 4,
  "nbformat_minor": 5
}