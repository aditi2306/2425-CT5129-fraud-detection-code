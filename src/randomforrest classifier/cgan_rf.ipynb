{
  "cells": [
    {
      "cell_type": "markdown",
      "source": [
        "#CGAN with RF as classifier"
      ],
      "metadata": {
        "id": "B08Wd9stze-h"
      },
      "id": "B08Wd9stze-h"
    },
    {
      "cell_type": "markdown",
      "id": "95b87982",
      "metadata": {
        "id": "95b87982"
      },
      "source": [
        "## Importing Libraries"
      ]
    },
    {
      "cell_type": "code",
      "execution_count": null,
      "id": "cb2d1424",
      "metadata": {
        "id": "cb2d1424"
      },
      "outputs": [],
      "source": [
        "import os\n",
        "import keras\n",
        "import numpy as np\n",
        "import pandas as pd\n",
        "import seaborn as sns\n",
        "import plotly.express as px\n",
        "import plotly.graph_objects as go\n",
        "import matplotlib.pyplot as plt\n",
        "import lightgbm as lgb\n",
        "from sklearn.model_selection import train_test_split\n",
        "from sklearn.preprocessing import QuantileTransformer\n",
        "from sklearn.preprocessing import StandardScaler, MinMaxScaler\n",
        "from tensorflow.keras.layers import Input, Dense, Reshape, Flatten, Dropout, multiply, Concatenate\n",
        "from tensorflow.keras.layers import BatchNormalization, Activation, Embedding, ZeroPadding2D, LeakyReLU\n",
        "from tensorflow.keras.models import Sequential, Model\n",
        "from tensorflow.keras.optimizers import Adam, RMSprop\n",
        "from tensorflow.keras.initializers import RandomNormal\n",
        "import tensorflow.keras.backend as K\n",
        "from sklearn.utils import shuffle\n",
        "from sklearn.metrics import precision_score, recall_score, f1_score,\\\n",
        "                            accuracy_score, balanced_accuracy_score,classification_report,\\\n",
        "                            confusion_matrix"
      ]
    },
    {
      "cell_type": "code",
      "execution_count": null,
      "id": "QgenRhZYJcmv",
      "metadata": {
        "id": "QgenRhZYJcmv"
      },
      "outputs": [],
      "source": [
        "import tensorflow as tf\n",
        "tf.config.run_functions_eagerly(True)\n"
      ]
    },
    {
      "cell_type": "markdown",
      "id": "90a60195",
      "metadata": {
        "id": "90a60195"
      },
      "source": [
        "## EDA"
      ]
    },
    {
      "cell_type": "code",
      "execution_count": null,
      "id": "79bf21d7",
      "metadata": {
        "colab": {
          "base_uri": "https://localhost:8080/"
        },
        "id": "79bf21d7",
        "outputId": "192034b3-7fac-4ec2-be4f-7d9ce028224a"
      },
      "outputs": [
        {
          "output_type": "stream",
          "name": "stdout",
          "text": [
            "<class 'pandas.core.frame.DataFrame'>\n",
            "RangeIndex: 284807 entries, 0 to 284806\n",
            "Data columns (total 30 columns):\n",
            " #   Column  Non-Null Count   Dtype  \n",
            "---  ------  --------------   -----  \n",
            " 0   V1      284807 non-null  float64\n",
            " 1   V2      284807 non-null  float64\n",
            " 2   V3      284807 non-null  float64\n",
            " 3   V4      284807 non-null  float64\n",
            " 4   V5      284807 non-null  float64\n",
            " 5   V6      284807 non-null  float64\n",
            " 6   V7      284807 non-null  float64\n",
            " 7   V8      284807 non-null  float64\n",
            " 8   V9      284807 non-null  float64\n",
            " 9   V10     284807 non-null  float64\n",
            " 10  V11     284807 non-null  float64\n",
            " 11  V12     284807 non-null  float64\n",
            " 12  V13     284807 non-null  float64\n",
            " 13  V14     284807 non-null  float64\n",
            " 14  V15     284807 non-null  float64\n",
            " 15  V16     284807 non-null  float64\n",
            " 16  V17     284807 non-null  float64\n",
            " 17  V18     284807 non-null  float64\n",
            " 18  V19     284807 non-null  float64\n",
            " 19  V20     284807 non-null  float64\n",
            " 20  V21     284807 non-null  float64\n",
            " 21  V22     284807 non-null  float64\n",
            " 22  V23     284807 non-null  float64\n",
            " 23  V24     284807 non-null  float64\n",
            " 24  V25     284807 non-null  float64\n",
            " 25  V26     284807 non-null  float64\n",
            " 26  V27     284807 non-null  float64\n",
            " 27  V28     284807 non-null  float64\n",
            " 28  Amount  284807 non-null  float64\n",
            " 29  Class   284807 non-null  int64  \n",
            "dtypes: float64(29), int64(1)\n",
            "memory usage: 65.2 MB\n"
          ]
        }
      ],
      "source": [
        "df=pd.read_csv('./creditcard.csv')\n",
        "df=df.drop('Time',axis=1)\n",
        "df.head()\n",
        "df.info()"
      ]
    },
    {
      "cell_type": "markdown",
      "id": "a828e2f8",
      "metadata": {
        "id": "a828e2f8"
      },
      "source": [
        "PCA Transformation: The description of the data says that all the features went through a PCA transformation (Except for time and amount).  \n",
        "Scaling: Keep in mind that in order to implement a PCA transformation features need to be previously scaled."
      ]
    },
    {
      "cell_type": "code",
      "execution_count": null,
      "id": "b13394f3",
      "metadata": {
        "colab": {
          "base_uri": "https://localhost:8080/",
          "height": 349
        },
        "id": "b13394f3",
        "outputId": "fc396135-57ce-4ab3-a847-92e30f722926"
      },
      "outputs": [
        {
          "output_type": "execute_result",
          "data": {
            "text/plain": [
              "                 V1            V2            V3            V4            V5  \\\n",
              "count  2.848070e+05  2.848070e+05  2.848070e+05  2.848070e+05  2.848070e+05   \n",
              "mean   1.168375e-15  3.416908e-16 -1.379537e-15  2.074095e-15  9.604066e-16   \n",
              "std    1.958696e+00  1.651309e+00  1.516255e+00  1.415869e+00  1.380247e+00   \n",
              "min   -5.640751e+01 -7.271573e+01 -4.832559e+01 -5.683171e+00 -1.137433e+02   \n",
              "25%   -9.203734e-01 -5.985499e-01 -8.903648e-01 -8.486401e-01 -6.915971e-01   \n",
              "50%    1.810880e-02  6.548556e-02  1.798463e-01 -1.984653e-02 -5.433583e-02   \n",
              "75%    1.315642e+00  8.037239e-01  1.027196e+00  7.433413e-01  6.119264e-01   \n",
              "max    2.454930e+00  2.205773e+01  9.382558e+00  1.687534e+01  3.480167e+01   \n",
              "\n",
              "                 V6            V7            V8            V9           V10  \\\n",
              "count  2.848070e+05  2.848070e+05  2.848070e+05  2.848070e+05  2.848070e+05   \n",
              "mean   1.487313e-15 -5.556467e-16  1.213481e-16 -2.406331e-15  2.239053e-15   \n",
              "std    1.332271e+00  1.237094e+00  1.194353e+00  1.098632e+00  1.088850e+00   \n",
              "min   -2.616051e+01 -4.355724e+01 -7.321672e+01 -1.343407e+01 -2.458826e+01   \n",
              "25%   -7.682956e-01 -5.540759e-01 -2.086297e-01 -6.430976e-01 -5.354257e-01   \n",
              "50%   -2.741871e-01  4.010308e-02  2.235804e-02 -5.142873e-02 -9.291738e-02   \n",
              "75%    3.985649e-01  5.704361e-01  3.273459e-01  5.971390e-01  4.539234e-01   \n",
              "max    7.330163e+01  1.205895e+02  2.000721e+01  1.559499e+01  2.374514e+01   \n",
              "\n",
              "       ...           V21           V22           V23           V24  \\\n",
              "count  ...  2.848070e+05  2.848070e+05  2.848070e+05  2.848070e+05   \n",
              "mean   ...  1.654067e-16 -3.568593e-16  2.578648e-16  4.473266e-15   \n",
              "std    ...  7.345240e-01  7.257016e-01  6.244603e-01  6.056471e-01   \n",
              "min    ... -3.483038e+01 -1.093314e+01 -4.480774e+01 -2.836627e+00   \n",
              "25%    ... -2.283949e-01 -5.423504e-01 -1.618463e-01 -3.545861e-01   \n",
              "50%    ... -2.945017e-02  6.781943e-03 -1.119293e-02  4.097606e-02   \n",
              "75%    ...  1.863772e-01  5.285536e-01  1.476421e-01  4.395266e-01   \n",
              "max    ...  2.720284e+01  1.050309e+01  2.252841e+01  4.584549e+00   \n",
              "\n",
              "                V25           V26           V27           V28         Amount  \\\n",
              "count  2.848070e+05  2.848070e+05  2.848070e+05  2.848070e+05  284807.000000   \n",
              "mean   5.340915e-16  1.683437e-15 -3.660091e-16 -1.227390e-16      88.349619   \n",
              "std    5.212781e-01  4.822270e-01  4.036325e-01  3.300833e-01     250.120109   \n",
              "min   -1.029540e+01 -2.604551e+00 -2.256568e+01 -1.543008e+01       0.000000   \n",
              "25%   -3.171451e-01 -3.269839e-01 -7.083953e-02 -5.295979e-02       5.600000   \n",
              "50%    1.659350e-02 -5.213911e-02  1.342146e-03  1.124383e-02      22.000000   \n",
              "75%    3.507156e-01  2.409522e-01  9.104512e-02  7.827995e-02      77.165000   \n",
              "max    7.519589e+00  3.517346e+00  3.161220e+01  3.384781e+01   25691.160000   \n",
              "\n",
              "               Class  \n",
              "count  284807.000000  \n",
              "mean        0.001727  \n",
              "std         0.041527  \n",
              "min         0.000000  \n",
              "25%         0.000000  \n",
              "50%         0.000000  \n",
              "75%         0.000000  \n",
              "max         1.000000  \n",
              "\n",
              "[8 rows x 30 columns]"
            ],
            "text/html": [
              "\n",
              "  <div id=\"df-c82cb6da-b3ea-4b67-8129-5aa58399f81d\" class=\"colab-df-container\">\n",
              "    <div>\n",
              "<style scoped>\n",
              "    .dataframe tbody tr th:only-of-type {\n",
              "        vertical-align: middle;\n",
              "    }\n",
              "\n",
              "    .dataframe tbody tr th {\n",
              "        vertical-align: top;\n",
              "    }\n",
              "\n",
              "    .dataframe thead th {\n",
              "        text-align: right;\n",
              "    }\n",
              "</style>\n",
              "<table border=\"1\" class=\"dataframe\">\n",
              "  <thead>\n",
              "    <tr style=\"text-align: right;\">\n",
              "      <th></th>\n",
              "      <th>V1</th>\n",
              "      <th>V2</th>\n",
              "      <th>V3</th>\n",
              "      <th>V4</th>\n",
              "      <th>V5</th>\n",
              "      <th>V6</th>\n",
              "      <th>V7</th>\n",
              "      <th>V8</th>\n",
              "      <th>V9</th>\n",
              "      <th>V10</th>\n",
              "      <th>...</th>\n",
              "      <th>V21</th>\n",
              "      <th>V22</th>\n",
              "      <th>V23</th>\n",
              "      <th>V24</th>\n",
              "      <th>V25</th>\n",
              "      <th>V26</th>\n",
              "      <th>V27</th>\n",
              "      <th>V28</th>\n",
              "      <th>Amount</th>\n",
              "      <th>Class</th>\n",
              "    </tr>\n",
              "  </thead>\n",
              "  <tbody>\n",
              "    <tr>\n",
              "      <th>count</th>\n",
              "      <td>2.848070e+05</td>\n",
              "      <td>2.848070e+05</td>\n",
              "      <td>2.848070e+05</td>\n",
              "      <td>2.848070e+05</td>\n",
              "      <td>2.848070e+05</td>\n",
              "      <td>2.848070e+05</td>\n",
              "      <td>2.848070e+05</td>\n",
              "      <td>2.848070e+05</td>\n",
              "      <td>2.848070e+05</td>\n",
              "      <td>2.848070e+05</td>\n",
              "      <td>...</td>\n",
              "      <td>2.848070e+05</td>\n",
              "      <td>2.848070e+05</td>\n",
              "      <td>2.848070e+05</td>\n",
              "      <td>2.848070e+05</td>\n",
              "      <td>2.848070e+05</td>\n",
              "      <td>2.848070e+05</td>\n",
              "      <td>2.848070e+05</td>\n",
              "      <td>2.848070e+05</td>\n",
              "      <td>284807.000000</td>\n",
              "      <td>284807.000000</td>\n",
              "    </tr>\n",
              "    <tr>\n",
              "      <th>mean</th>\n",
              "      <td>1.168375e-15</td>\n",
              "      <td>3.416908e-16</td>\n",
              "      <td>-1.379537e-15</td>\n",
              "      <td>2.074095e-15</td>\n",
              "      <td>9.604066e-16</td>\n",
              "      <td>1.487313e-15</td>\n",
              "      <td>-5.556467e-16</td>\n",
              "      <td>1.213481e-16</td>\n",
              "      <td>-2.406331e-15</td>\n",
              "      <td>2.239053e-15</td>\n",
              "      <td>...</td>\n",
              "      <td>1.654067e-16</td>\n",
              "      <td>-3.568593e-16</td>\n",
              "      <td>2.578648e-16</td>\n",
              "      <td>4.473266e-15</td>\n",
              "      <td>5.340915e-16</td>\n",
              "      <td>1.683437e-15</td>\n",
              "      <td>-3.660091e-16</td>\n",
              "      <td>-1.227390e-16</td>\n",
              "      <td>88.349619</td>\n",
              "      <td>0.001727</td>\n",
              "    </tr>\n",
              "    <tr>\n",
              "      <th>std</th>\n",
              "      <td>1.958696e+00</td>\n",
              "      <td>1.651309e+00</td>\n",
              "      <td>1.516255e+00</td>\n",
              "      <td>1.415869e+00</td>\n",
              "      <td>1.380247e+00</td>\n",
              "      <td>1.332271e+00</td>\n",
              "      <td>1.237094e+00</td>\n",
              "      <td>1.194353e+00</td>\n",
              "      <td>1.098632e+00</td>\n",
              "      <td>1.088850e+00</td>\n",
              "      <td>...</td>\n",
              "      <td>7.345240e-01</td>\n",
              "      <td>7.257016e-01</td>\n",
              "      <td>6.244603e-01</td>\n",
              "      <td>6.056471e-01</td>\n",
              "      <td>5.212781e-01</td>\n",
              "      <td>4.822270e-01</td>\n",
              "      <td>4.036325e-01</td>\n",
              "      <td>3.300833e-01</td>\n",
              "      <td>250.120109</td>\n",
              "      <td>0.041527</td>\n",
              "    </tr>\n",
              "    <tr>\n",
              "      <th>min</th>\n",
              "      <td>-5.640751e+01</td>\n",
              "      <td>-7.271573e+01</td>\n",
              "      <td>-4.832559e+01</td>\n",
              "      <td>-5.683171e+00</td>\n",
              "      <td>-1.137433e+02</td>\n",
              "      <td>-2.616051e+01</td>\n",
              "      <td>-4.355724e+01</td>\n",
              "      <td>-7.321672e+01</td>\n",
              "      <td>-1.343407e+01</td>\n",
              "      <td>-2.458826e+01</td>\n",
              "      <td>...</td>\n",
              "      <td>-3.483038e+01</td>\n",
              "      <td>-1.093314e+01</td>\n",
              "      <td>-4.480774e+01</td>\n",
              "      <td>-2.836627e+00</td>\n",
              "      <td>-1.029540e+01</td>\n",
              "      <td>-2.604551e+00</td>\n",
              "      <td>-2.256568e+01</td>\n",
              "      <td>-1.543008e+01</td>\n",
              "      <td>0.000000</td>\n",
              "      <td>0.000000</td>\n",
              "    </tr>\n",
              "    <tr>\n",
              "      <th>25%</th>\n",
              "      <td>-9.203734e-01</td>\n",
              "      <td>-5.985499e-01</td>\n",
              "      <td>-8.903648e-01</td>\n",
              "      <td>-8.486401e-01</td>\n",
              "      <td>-6.915971e-01</td>\n",
              "      <td>-7.682956e-01</td>\n",
              "      <td>-5.540759e-01</td>\n",
              "      <td>-2.086297e-01</td>\n",
              "      <td>-6.430976e-01</td>\n",
              "      <td>-5.354257e-01</td>\n",
              "      <td>...</td>\n",
              "      <td>-2.283949e-01</td>\n",
              "      <td>-5.423504e-01</td>\n",
              "      <td>-1.618463e-01</td>\n",
              "      <td>-3.545861e-01</td>\n",
              "      <td>-3.171451e-01</td>\n",
              "      <td>-3.269839e-01</td>\n",
              "      <td>-7.083953e-02</td>\n",
              "      <td>-5.295979e-02</td>\n",
              "      <td>5.600000</td>\n",
              "      <td>0.000000</td>\n",
              "    </tr>\n",
              "    <tr>\n",
              "      <th>50%</th>\n",
              "      <td>1.810880e-02</td>\n",
              "      <td>6.548556e-02</td>\n",
              "      <td>1.798463e-01</td>\n",
              "      <td>-1.984653e-02</td>\n",
              "      <td>-5.433583e-02</td>\n",
              "      <td>-2.741871e-01</td>\n",
              "      <td>4.010308e-02</td>\n",
              "      <td>2.235804e-02</td>\n",
              "      <td>-5.142873e-02</td>\n",
              "      <td>-9.291738e-02</td>\n",
              "      <td>...</td>\n",
              "      <td>-2.945017e-02</td>\n",
              "      <td>6.781943e-03</td>\n",
              "      <td>-1.119293e-02</td>\n",
              "      <td>4.097606e-02</td>\n",
              "      <td>1.659350e-02</td>\n",
              "      <td>-5.213911e-02</td>\n",
              "      <td>1.342146e-03</td>\n",
              "      <td>1.124383e-02</td>\n",
              "      <td>22.000000</td>\n",
              "      <td>0.000000</td>\n",
              "    </tr>\n",
              "    <tr>\n",
              "      <th>75%</th>\n",
              "      <td>1.315642e+00</td>\n",
              "      <td>8.037239e-01</td>\n",
              "      <td>1.027196e+00</td>\n",
              "      <td>7.433413e-01</td>\n",
              "      <td>6.119264e-01</td>\n",
              "      <td>3.985649e-01</td>\n",
              "      <td>5.704361e-01</td>\n",
              "      <td>3.273459e-01</td>\n",
              "      <td>5.971390e-01</td>\n",
              "      <td>4.539234e-01</td>\n",
              "      <td>...</td>\n",
              "      <td>1.863772e-01</td>\n",
              "      <td>5.285536e-01</td>\n",
              "      <td>1.476421e-01</td>\n",
              "      <td>4.395266e-01</td>\n",
              "      <td>3.507156e-01</td>\n",
              "      <td>2.409522e-01</td>\n",
              "      <td>9.104512e-02</td>\n",
              "      <td>7.827995e-02</td>\n",
              "      <td>77.165000</td>\n",
              "      <td>0.000000</td>\n",
              "    </tr>\n",
              "    <tr>\n",
              "      <th>max</th>\n",
              "      <td>2.454930e+00</td>\n",
              "      <td>2.205773e+01</td>\n",
              "      <td>9.382558e+00</td>\n",
              "      <td>1.687534e+01</td>\n",
              "      <td>3.480167e+01</td>\n",
              "      <td>7.330163e+01</td>\n",
              "      <td>1.205895e+02</td>\n",
              "      <td>2.000721e+01</td>\n",
              "      <td>1.559499e+01</td>\n",
              "      <td>2.374514e+01</td>\n",
              "      <td>...</td>\n",
              "      <td>2.720284e+01</td>\n",
              "      <td>1.050309e+01</td>\n",
              "      <td>2.252841e+01</td>\n",
              "      <td>4.584549e+00</td>\n",
              "      <td>7.519589e+00</td>\n",
              "      <td>3.517346e+00</td>\n",
              "      <td>3.161220e+01</td>\n",
              "      <td>3.384781e+01</td>\n",
              "      <td>25691.160000</td>\n",
              "      <td>1.000000</td>\n",
              "    </tr>\n",
              "  </tbody>\n",
              "</table>\n",
              "<p>8 rows × 30 columns</p>\n",
              "</div>\n",
              "    <div class=\"colab-df-buttons\">\n",
              "\n",
              "  <div class=\"colab-df-container\">\n",
              "    <button class=\"colab-df-convert\" onclick=\"convertToInteractive('df-c82cb6da-b3ea-4b67-8129-5aa58399f81d')\"\n",
              "            title=\"Convert this dataframe to an interactive table.\"\n",
              "            style=\"display:none;\">\n",
              "\n",
              "  <svg xmlns=\"http://www.w3.org/2000/svg\" height=\"24px\" viewBox=\"0 -960 960 960\">\n",
              "    <path d=\"M120-120v-720h720v720H120Zm60-500h600v-160H180v160Zm220 220h160v-160H400v160Zm0 220h160v-160H400v160ZM180-400h160v-160H180v160Zm440 0h160v-160H620v160ZM180-180h160v-160H180v160Zm440 0h160v-160H620v160Z\"/>\n",
              "  </svg>\n",
              "    </button>\n",
              "\n",
              "  <style>\n",
              "    .colab-df-container {\n",
              "      display:flex;\n",
              "      gap: 12px;\n",
              "    }\n",
              "\n",
              "    .colab-df-convert {\n",
              "      background-color: #E8F0FE;\n",
              "      border: none;\n",
              "      border-radius: 50%;\n",
              "      cursor: pointer;\n",
              "      display: none;\n",
              "      fill: #1967D2;\n",
              "      height: 32px;\n",
              "      padding: 0 0 0 0;\n",
              "      width: 32px;\n",
              "    }\n",
              "\n",
              "    .colab-df-convert:hover {\n",
              "      background-color: #E2EBFA;\n",
              "      box-shadow: 0px 1px 2px rgba(60, 64, 67, 0.3), 0px 1px 3px 1px rgba(60, 64, 67, 0.15);\n",
              "      fill: #174EA6;\n",
              "    }\n",
              "\n",
              "    .colab-df-buttons div {\n",
              "      margin-bottom: 4px;\n",
              "    }\n",
              "\n",
              "    [theme=dark] .colab-df-convert {\n",
              "      background-color: #3B4455;\n",
              "      fill: #D2E3FC;\n",
              "    }\n",
              "\n",
              "    [theme=dark] .colab-df-convert:hover {\n",
              "      background-color: #434B5C;\n",
              "      box-shadow: 0px 1px 3px 1px rgba(0, 0, 0, 0.15);\n",
              "      filter: drop-shadow(0px 1px 2px rgba(0, 0, 0, 0.3));\n",
              "      fill: #FFFFFF;\n",
              "    }\n",
              "  </style>\n",
              "\n",
              "    <script>\n",
              "      const buttonEl =\n",
              "        document.querySelector('#df-c82cb6da-b3ea-4b67-8129-5aa58399f81d button.colab-df-convert');\n",
              "      buttonEl.style.display =\n",
              "        google.colab.kernel.accessAllowed ? 'block' : 'none';\n",
              "\n",
              "      async function convertToInteractive(key) {\n",
              "        const element = document.querySelector('#df-c82cb6da-b3ea-4b67-8129-5aa58399f81d');\n",
              "        const dataTable =\n",
              "          await google.colab.kernel.invokeFunction('convertToInteractive',\n",
              "                                                    [key], {});\n",
              "        if (!dataTable) return;\n",
              "\n",
              "        const docLinkHtml = 'Like what you see? Visit the ' +\n",
              "          '<a target=\"_blank\" href=https://colab.research.google.com/notebooks/data_table.ipynb>data table notebook</a>'\n",
              "          + ' to learn more about interactive tables.';\n",
              "        element.innerHTML = '';\n",
              "        dataTable['output_type'] = 'display_data';\n",
              "        await google.colab.output.renderOutput(dataTable, element);\n",
              "        const docLink = document.createElement('div');\n",
              "        docLink.innerHTML = docLinkHtml;\n",
              "        element.appendChild(docLink);\n",
              "      }\n",
              "    </script>\n",
              "  </div>\n",
              "\n",
              "\n",
              "    <div id=\"df-c3bf1322-1457-46ee-b744-6de43ed8620e\">\n",
              "      <button class=\"colab-df-quickchart\" onclick=\"quickchart('df-c3bf1322-1457-46ee-b744-6de43ed8620e')\"\n",
              "                title=\"Suggest charts\"\n",
              "                style=\"display:none;\">\n",
              "\n",
              "<svg xmlns=\"http://www.w3.org/2000/svg\" height=\"24px\"viewBox=\"0 0 24 24\"\n",
              "     width=\"24px\">\n",
              "    <g>\n",
              "        <path d=\"M19 3H5c-1.1 0-2 .9-2 2v14c0 1.1.9 2 2 2h14c1.1 0 2-.9 2-2V5c0-1.1-.9-2-2-2zM9 17H7v-7h2v7zm4 0h-2V7h2v10zm4 0h-2v-4h2v4z\"/>\n",
              "    </g>\n",
              "</svg>\n",
              "      </button>\n",
              "\n",
              "<style>\n",
              "  .colab-df-quickchart {\n",
              "      --bg-color: #E8F0FE;\n",
              "      --fill-color: #1967D2;\n",
              "      --hover-bg-color: #E2EBFA;\n",
              "      --hover-fill-color: #174EA6;\n",
              "      --disabled-fill-color: #AAA;\n",
              "      --disabled-bg-color: #DDD;\n",
              "  }\n",
              "\n",
              "  [theme=dark] .colab-df-quickchart {\n",
              "      --bg-color: #3B4455;\n",
              "      --fill-color: #D2E3FC;\n",
              "      --hover-bg-color: #434B5C;\n",
              "      --hover-fill-color: #FFFFFF;\n",
              "      --disabled-bg-color: #3B4455;\n",
              "      --disabled-fill-color: #666;\n",
              "  }\n",
              "\n",
              "  .colab-df-quickchart {\n",
              "    background-color: var(--bg-color);\n",
              "    border: none;\n",
              "    border-radius: 50%;\n",
              "    cursor: pointer;\n",
              "    display: none;\n",
              "    fill: var(--fill-color);\n",
              "    height: 32px;\n",
              "    padding: 0;\n",
              "    width: 32px;\n",
              "  }\n",
              "\n",
              "  .colab-df-quickchart:hover {\n",
              "    background-color: var(--hover-bg-color);\n",
              "    box-shadow: 0 1px 2px rgba(60, 64, 67, 0.3), 0 1px 3px 1px rgba(60, 64, 67, 0.15);\n",
              "    fill: var(--button-hover-fill-color);\n",
              "  }\n",
              "\n",
              "  .colab-df-quickchart-complete:disabled,\n",
              "  .colab-df-quickchart-complete:disabled:hover {\n",
              "    background-color: var(--disabled-bg-color);\n",
              "    fill: var(--disabled-fill-color);\n",
              "    box-shadow: none;\n",
              "  }\n",
              "\n",
              "  .colab-df-spinner {\n",
              "    border: 2px solid var(--fill-color);\n",
              "    border-color: transparent;\n",
              "    border-bottom-color: var(--fill-color);\n",
              "    animation:\n",
              "      spin 1s steps(1) infinite;\n",
              "  }\n",
              "\n",
              "  @keyframes spin {\n",
              "    0% {\n",
              "      border-color: transparent;\n",
              "      border-bottom-color: var(--fill-color);\n",
              "      border-left-color: var(--fill-color);\n",
              "    }\n",
              "    20% {\n",
              "      border-color: transparent;\n",
              "      border-left-color: var(--fill-color);\n",
              "      border-top-color: var(--fill-color);\n",
              "    }\n",
              "    30% {\n",
              "      border-color: transparent;\n",
              "      border-left-color: var(--fill-color);\n",
              "      border-top-color: var(--fill-color);\n",
              "      border-right-color: var(--fill-color);\n",
              "    }\n",
              "    40% {\n",
              "      border-color: transparent;\n",
              "      border-right-color: var(--fill-color);\n",
              "      border-top-color: var(--fill-color);\n",
              "    }\n",
              "    60% {\n",
              "      border-color: transparent;\n",
              "      border-right-color: var(--fill-color);\n",
              "    }\n",
              "    80% {\n",
              "      border-color: transparent;\n",
              "      border-right-color: var(--fill-color);\n",
              "      border-bottom-color: var(--fill-color);\n",
              "    }\n",
              "    90% {\n",
              "      border-color: transparent;\n",
              "      border-bottom-color: var(--fill-color);\n",
              "    }\n",
              "  }\n",
              "</style>\n",
              "\n",
              "      <script>\n",
              "        async function quickchart(key) {\n",
              "          const quickchartButtonEl =\n",
              "            document.querySelector('#' + key + ' button');\n",
              "          quickchartButtonEl.disabled = true;  // To prevent multiple clicks.\n",
              "          quickchartButtonEl.classList.add('colab-df-spinner');\n",
              "          try {\n",
              "            const charts = await google.colab.kernel.invokeFunction(\n",
              "                'suggestCharts', [key], {});\n",
              "          } catch (error) {\n",
              "            console.error('Error during call to suggestCharts:', error);\n",
              "          }\n",
              "          quickchartButtonEl.classList.remove('colab-df-spinner');\n",
              "          quickchartButtonEl.classList.add('colab-df-quickchart-complete');\n",
              "        }\n",
              "        (() => {\n",
              "          let quickchartButtonEl =\n",
              "            document.querySelector('#df-c3bf1322-1457-46ee-b744-6de43ed8620e button');\n",
              "          quickchartButtonEl.style.display =\n",
              "            google.colab.kernel.accessAllowed ? 'block' : 'none';\n",
              "        })();\n",
              "      </script>\n",
              "    </div>\n",
              "\n",
              "    </div>\n",
              "  </div>\n"
            ],
            "application/vnd.google.colaboratory.intrinsic+json": {
              "type": "dataframe"
            }
          },
          "metadata": {},
          "execution_count": 4
        }
      ],
      "source": [
        "df.describe()"
      ]
    },
    {
      "cell_type": "code",
      "execution_count": null,
      "id": "306b3e6f",
      "metadata": {
        "colab": {
          "base_uri": "https://localhost:8080/"
        },
        "id": "306b3e6f",
        "outputId": "56cdb9b4-09fb-4607-848e-38bb10c4de8e"
      },
      "outputs": [
        {
          "output_type": "stream",
          "name": "stdout",
          "text": [
            "Dataset has 9144 duplicate rows\n"
          ]
        }
      ],
      "source": [
        "# checking for duplicate values\n",
        "print(f\"Dataset has {df.duplicated().sum()} duplicate rows\")\n",
        "# dropping duplicate rows\n",
        "df.drop_duplicates(inplace=True)"
      ]
    },
    {
      "cell_type": "code",
      "execution_count": null,
      "id": "8b2f4c06",
      "metadata": {
        "colab": {
          "base_uri": "https://localhost:8080/"
        },
        "id": "8b2f4c06",
        "outputId": "b0ec6424-ec14-4612-c65a-2046f73180fc"
      },
      "outputs": [
        {
          "output_type": "stream",
          "name": "stdout",
          "text": [
            "<class 'pandas.core.frame.DataFrame'>\n",
            "Index: 275663 entries, 0 to 284806\n",
            "Data columns (total 30 columns):\n",
            " #   Column  Non-Null Count   Dtype  \n",
            "---  ------  --------------   -----  \n",
            " 0   V1      275663 non-null  float64\n",
            " 1   V2      275663 non-null  float64\n",
            " 2   V3      275663 non-null  float64\n",
            " 3   V4      275663 non-null  float64\n",
            " 4   V5      275663 non-null  float64\n",
            " 5   V6      275663 non-null  float64\n",
            " 6   V7      275663 non-null  float64\n",
            " 7   V8      275663 non-null  float64\n",
            " 8   V9      275663 non-null  float64\n",
            " 9   V10     275663 non-null  float64\n",
            " 10  V11     275663 non-null  float64\n",
            " 11  V12     275663 non-null  float64\n",
            " 12  V13     275663 non-null  float64\n",
            " 13  V14     275663 non-null  float64\n",
            " 14  V15     275663 non-null  float64\n",
            " 15  V16     275663 non-null  float64\n",
            " 16  V17     275663 non-null  float64\n",
            " 17  V18     275663 non-null  float64\n",
            " 18  V19     275663 non-null  float64\n",
            " 19  V20     275663 non-null  float64\n",
            " 20  V21     275663 non-null  float64\n",
            " 21  V22     275663 non-null  float64\n",
            " 22  V23     275663 non-null  float64\n",
            " 23  V24     275663 non-null  float64\n",
            " 24  V25     275663 non-null  float64\n",
            " 25  V26     275663 non-null  float64\n",
            " 26  V27     275663 non-null  float64\n",
            " 27  V28     275663 non-null  float64\n",
            " 28  Amount  275663 non-null  float64\n",
            " 29  Class   275663 non-null  int64  \n",
            "dtypes: float64(29), int64(1)\n",
            "memory usage: 65.2 MB\n"
          ]
        }
      ],
      "source": [
        "df.info()"
      ]
    },
    {
      "cell_type": "markdown",
      "id": "c5128908",
      "metadata": {
        "id": "c5128908"
      },
      "source": [
        "There is no null values"
      ]
    },
    {
      "cell_type": "code",
      "execution_count": null,
      "id": "9d6c996a",
      "metadata": {
        "colab": {
          "base_uri": "https://localhost:8080/"
        },
        "id": "9d6c996a",
        "outputId": "5bddd236-c08b-46ac-a96e-21113990f0f1"
      },
      "outputs": [
        {
          "output_type": "stream",
          "name": "stdout",
          "text": [
            "No Frauds 99.83 % of the dataset\n",
            "Frauds 0.17 % of the dataset\n"
          ]
        }
      ],
      "source": [
        "print('No Frauds', round(df['Class'].value_counts()[0]/len(df) * 100,2), '% of the dataset')\n",
        "print('Frauds', round(df['Class'].value_counts()[1]/len(df) * 100,2), '% of the dataset')"
      ]
    },
    {
      "cell_type": "code",
      "execution_count": null,
      "id": "d88ad047",
      "metadata": {
        "colab": {
          "base_uri": "https://localhost:8080/",
          "height": 467
        },
        "id": "d88ad047",
        "outputId": "d5571487-496d-416e-b525-e835844bd118"
      },
      "outputs": [
        {
          "output_type": "execute_result",
          "data": {
            "text/plain": [
              "<Axes: xlabel='Class', ylabel='count'>"
            ]
          },
          "metadata": {},
          "execution_count": 8
        },
        {
          "output_type": "display_data",
          "data": {
            "text/plain": [
              "<Figure size 640x480 with 1 Axes>"
            ],
            "image/png": "[encoded data removed]"
          },
          "metadata": {}
        }
      ],
      "source": [
        "sns.countplot(data=df,x='Class')"
      ]
    },
    {
      "cell_type": "code",
      "execution_count": null,
      "id": "30728ee8",
      "metadata": {
        "colab": {
          "base_uri": "https://localhost:8080/",
          "height": 993
        },
        "id": "30728ee8",
        "outputId": "18b1cd3b-e5a4-433a-fc07-60ee218fe817"
      },
      "outputs": [
        {
          "output_type": "execute_result",
          "data": {
            "text/plain": [
              "V1        -3.273070\n",
              "V2        -4.653486\n",
              "V3        -2.216730\n",
              "V4         0.681387\n",
              "V5        -2.458790\n",
              "V6         1.867576\n",
              "V7         2.877722\n",
              "V8        -8.292631\n",
              "V9         0.550965\n",
              "V10        1.242165\n",
              "V11        0.347772\n",
              "V12       -2.208171\n",
              "V13        0.061058\n",
              "V14       -1.953613\n",
              "V15       -0.295836\n",
              "V16       -1.048371\n",
              "V17       -3.802987\n",
              "V18       -0.255710\n",
              "V19        0.115957\n",
              "V20       -2.045060\n",
              "V21        2.784302\n",
              "V22       -0.200868\n",
              "V23       -5.805236\n",
              "V24       -0.545636\n",
              "V25       -0.408260\n",
              "V26        0.587603\n",
              "V27       -0.745732\n",
              "V28       11.400938\n",
              "Amount    16.841622\n",
              "dtype: float64"
            ],
            "text/html": [
              "<div>\n",
              "<style scoped>\n",
              "    .dataframe tbody tr th:only-of-type {\n",
              "        vertical-align: middle;\n",
              "    }\n",
              "\n",
              "    .dataframe tbody tr th {\n",
              "        vertical-align: top;\n",
              "    }\n",
              "\n",
              "    .dataframe thead th {\n",
              "        text-align: right;\n",
              "    }\n",
              "</style>\n",
              "<table border=\"1\" class=\"dataframe\">\n",
              "  <thead>\n",
              "    <tr style=\"text-align: right;\">\n",
              "      <th></th>\n",
              "      <th>0</th>\n",
              "    </tr>\n",
              "  </thead>\n",
              "  <tbody>\n",
              "    <tr>\n",
              "      <th>V1</th>\n",
              "      <td>-3.273070</td>\n",
              "    </tr>\n",
              "    <tr>\n",
              "      <th>V2</th>\n",
              "      <td>-4.653486</td>\n",
              "    </tr>\n",
              "    <tr>\n",
              "      <th>V3</th>\n",
              "      <td>-2.216730</td>\n",
              "    </tr>\n",
              "    <tr>\n",
              "      <th>V4</th>\n",
              "      <td>0.681387</td>\n",
              "    </tr>\n",
              "    <tr>\n",
              "      <th>V5</th>\n",
              "      <td>-2.458790</td>\n",
              "    </tr>\n",
              "    <tr>\n",
              "      <th>V6</th>\n",
              "      <td>1.867576</td>\n",
              "    </tr>\n",
              "    <tr>\n",
              "      <th>V7</th>\n",
              "      <td>2.877722</td>\n",
              "    </tr>\n",
              "    <tr>\n",
              "      <th>V8</th>\n",
              "      <td>-8.292631</td>\n",
              "    </tr>\n",
              "    <tr>\n",
              "      <th>V9</th>\n",
              "      <td>0.550965</td>\n",
              "    </tr>\n",
              "    <tr>\n",
              "      <th>V10</th>\n",
              "      <td>1.242165</td>\n",
              "    </tr>\n",
              "    <tr>\n",
              "      <th>V11</th>\n",
              "      <td>0.347772</td>\n",
              "    </tr>\n",
              "    <tr>\n",
              "      <th>V12</th>\n",
              "      <td>-2.208171</td>\n",
              "    </tr>\n",
              "    <tr>\n",
              "      <th>V13</th>\n",
              "      <td>0.061058</td>\n",
              "    </tr>\n",
              "    <tr>\n",
              "      <th>V14</th>\n",
              "      <td>-1.953613</td>\n",
              "    </tr>\n",
              "    <tr>\n",
              "      <th>V15</th>\n",
              "      <td>-0.295836</td>\n",
              "    </tr>\n",
              "    <tr>\n",
              "      <th>V16</th>\n",
              "      <td>-1.048371</td>\n",
              "    </tr>\n",
              "    <tr>\n",
              "      <th>V17</th>\n",
              "      <td>-3.802987</td>\n",
              "    </tr>\n",
              "    <tr>\n",
              "      <th>V18</th>\n",
              "      <td>-0.255710</td>\n",
              "    </tr>\n",
              "    <tr>\n",
              "      <th>V19</th>\n",
              "      <td>0.115957</td>\n",
              "    </tr>\n",
              "    <tr>\n",
              "      <th>V20</th>\n",
              "      <td>-2.045060</td>\n",
              "    </tr>\n",
              "    <tr>\n",
              "      <th>V21</th>\n",
              "      <td>2.784302</td>\n",
              "    </tr>\n",
              "    <tr>\n",
              "      <th>V22</th>\n",
              "      <td>-0.200868</td>\n",
              "    </tr>\n",
              "    <tr>\n",
              "      <th>V23</th>\n",
              "      <td>-5.805236</td>\n",
              "    </tr>\n",
              "    <tr>\n",
              "      <th>V24</th>\n",
              "      <td>-0.545636</td>\n",
              "    </tr>\n",
              "    <tr>\n",
              "      <th>V25</th>\n",
              "      <td>-0.408260</td>\n",
              "    </tr>\n",
              "    <tr>\n",
              "      <th>V26</th>\n",
              "      <td>0.587603</td>\n",
              "    </tr>\n",
              "    <tr>\n",
              "      <th>V27</th>\n",
              "      <td>-0.745732</td>\n",
              "    </tr>\n",
              "    <tr>\n",
              "      <th>V28</th>\n",
              "      <td>11.400938</td>\n",
              "    </tr>\n",
              "    <tr>\n",
              "      <th>Amount</th>\n",
              "      <td>16.841622</td>\n",
              "    </tr>\n",
              "  </tbody>\n",
              "</table>\n",
              "</div><br><label><b>dtype:</b> float64</label>"
            ]
          },
          "metadata": {},
          "execution_count": 9
        }
      ],
      "source": [
        "df.drop('Class',axis=1).skew()"
      ]
    },
    {
      "cell_type": "code",
      "execution_count": null,
      "id": "d74277ea",
      "metadata": {
        "colab": {
          "base_uri": "https://localhost:8080/",
          "height": 468
        },
        "id": "d74277ea",
        "outputId": "ab04b0e0-b17e-4988-f4f5-cedc96d8c25f"
      },
      "outputs": [
        {
          "output_type": "execute_result",
          "data": {
            "text/plain": [
              "<Axes: xlabel='Amount', ylabel='Density'>"
            ]
          },
          "metadata": {},
          "execution_count": 10
        },
        {
          "output_type": "display_data",
          "data": {
            "text/plain": [
              "<Figure size 640x480 with 1 Axes>"
            ],
            "image/png": "[encoded data removed]"
          },
          "metadata": {}
        }
      ],
      "source": [
        "sns.kdeplot(df['Amount'])"
      ]
    },
    {
      "cell_type": "code",
      "execution_count": null,
      "id": "bd8cb1b8",
      "metadata": {
        "colab": {
          "base_uri": "https://localhost:8080/",
          "height": 467
        },
        "id": "bd8cb1b8",
        "outputId": "f8f3db88-1f64-4965-db7c-74bc87664140"
      },
      "outputs": [
        {
          "output_type": "execute_result",
          "data": {
            "text/plain": [
              "<Axes: xlabel='Amount', ylabel='Density'>"
            ]
          },
          "metadata": {},
          "execution_count": 11
        },
        {
          "output_type": "display_data",
          "data": {
            "text/plain": [
              "<Figure size 640x480 with 1 Axes>"
            ],
            "image/png": "[encoded data removed]"
          },
          "metadata": {}
        }
      ],
      "source": [
        "df['Amount'] = df['Amount'].apply(lambda x: np.log10(x+1))\n",
        "sns.kdeplot(df['Amount'])"
      ]
    },
    {
      "cell_type": "markdown",
      "id": "284d6f22",
      "metadata": {
        "id": "284d6f22"
      },
      "source": [
        "## Creating a sub sample"
      ]
    },
    {
      "cell_type": "markdown",
      "id": "0a068d5c",
      "metadata": {
        "id": "0a068d5c"
      },
      "source": [
        "What - create a[](http://) df with equal number of fraud and non fraud samples  \n",
        "Why - Although we don't know what the \"V\" features stand for, it will be useful to understand how each of this features influence the target. By having an imbalance dataframe we are not able to see the true correlations between the class and features"
      ]
    },
    {
      "cell_type": "code",
      "execution_count": null,
      "id": "555570b8",
      "metadata": {
        "id": "555570b8"
      },
      "outputs": [],
      "source": [
        "df = df.sample(frac=1)\n",
        "\n",
        "fraud_df = df.loc[df['Class'] == 1]\n",
        "non_fraud_df = df.loc[df['Class'] == 0][:492]\n",
        "\n",
        "subsample = pd.concat([fraud_df, non_fraud_df])\n",
        "new_df = subsample.sample(frac=1, random_state=42)"
      ]
    },
    {
      "cell_type": "markdown",
      "id": "6ece260f",
      "metadata": {
        "id": "6ece260f"
      },
      "source": [
        "### Correlation"
      ]
    },
    {
      "cell_type": "code",
      "execution_count": null,
      "id": "b4be44b5",
      "metadata": {
        "colab": {
          "base_uri": "https://localhost:8080/",
          "height": 542
        },
        "id": "b4be44b5",
        "outputId": "591b65d5-02b5-4299-bc5b-c45dc16c879e"
      },
      "outputs": [
        {
          "output_type": "display_data",
          "data": {
            "text/html": [
              "<html>\n",
              "<head><meta charset=\"utf-8\" /></head>\n",
              "<body>\n",
              "    <div>            <script src=\"https://cdnjs.cloudflare.com/ajax/libs/mathjax/2.7.5/MathJax.js?config=TeX-AMS-MML_SVG\"></script><script type=\"text/javascript\">if (window.MathJax && window.MathJax.Hub && window.MathJax.Hub.Config) {window.MathJax.Hub.Config({SVG: {font: \"STIX-Web\"}});}</script>                <script type=\"text/javascript\">window.PlotlyConfig = {MathJaxConfig: 'local'};</script>\n",
              "        <script charset=\"utf-8\" src=\"https://cdn.plot.ly/plotly-2.35.2.min.js\"></script>                <div id=\"76818525-b00d-4e4a-9d81-103b41d1ead8\" class=\"plotly-graph-div\" style=\"height:525px; width:100%;\"></div>            <script type=\"text/javascript\">                                    window.PLOTLYENV=window.PLOTLYENV || {};                                    if (document.getElementById(\"76818525-b00d-4e4a-9d81-103b41d1ead8\")) {                    Plotly.newPlot(                        \"76818525-b00d-4e4a-9d81-103b41d1ead8\",                        [{\"coloraxis\":\"coloraxis\",\"name\":\"0\",\"x\":[\"V1\",\"V2\",\"V3\",\"V4\",\"V5\",\"V6\",\"V7\",\"V8\",\"V9\",\"V10\",\"V11\",\"V12\",\"V13\",\"V14\",\"V15\",\"V16\",\"V17\",\"V18\",\"V19\",\"V20\",\"V21\",\"V22\",\"V23\",\"V24\",\"V25\",\"V26\",\"V27\",\"V28\",\"Amount\",\"Class\"],\"y\":[\"V1\",\"V2\",\"V3\",\"V4\",\"V5\",\"V6\",\"V7\",\"V8\",\"V9\",\"V10\",\"V11\",\"V12\",\"V13\",\"V14\",\"V15\",\"V16\",\"V17\",\"V18\",\"V19\",\"V20\",\"V21\",\"V22\",\"V23\",\"V24\",\"V25\",\"V26\",\"V27\",\"V28\",\"Amount\",\"Class\"],\"z\":[[1.0,0.009002056630572684,0.0059518703233443606,-0.000041733637722791175,-0.018592931394258785,-0.005788588932603655,-0.006842588291336208,-0.000490301770597795,-0.007093188184085013,0.0031150804333675485,-0.005238361152132138,-0.005224732658887843,0.00017607397170217855,-0.00016701663809468113,-0.008538155507659581,-0.006376158582724151,-0.001709260494715688,-0.00003711812585140008,-0.0003657869812605753,0.0031085360485396925,0.006003695030846205,0.003633859573936916,-0.007503985473869008,-0.009326773224502403,-0.004446136018296162,-0.0024364231007038676,-0.014628053567676153,-0.003555006941166611,-0.0766920655036157,-0.09471828027403738],[0.009002056630572684,1.0,0.004976420415917343,-0.00409478303282207,0.00465482815153946,0.0042902664746452025,0.004866010897475121,0.00374269365593284,0.0011157645474232337,0.002764173799416231,-0.0018084640177489105,0.0014801177085390592,0.0004607696108804758,0.004771739778601263,0.0011762916062601561,0.0026475607161065267,0.0013035840599432045,0.0003630379040186344,0.0011638151899724261,-0.00033887269809826956,-0.0038806719512788097,0.0029086740053363806,-0.0036886296217180955,0.0019735168281253585,-0.00283693140419737,-0.0002960596857444858,0.007251624234862376,0.0014575992938973944,-0.4593975292964732,0.08475425481454264],[0.0059518703233443606,0.004976420415917343,1.0,-0.000720750612883941,0.01101951244978658,0.01478010144383746,-0.014015590290726394,0.0037332102991634026,-0.002895531047630497,-0.011064456582014414,0.0037632683294713106,-0.0033654032642077593,-0.0007532888104512085,-0.008208455227591597,0.003323892451776748,0.0003360330653480297,-0.0028131327390716787,-0.003876447934607444,-0.0008279699688052576,-0.004587224438279812,0.0018178562780224818,-0.00420292367214235,0.0021830017967685317,0.009782012846899469,0.00409089826509027,0.003596060803817546,-0.008780490220863158,-0.002453994123024223,-0.053019096184097836,-0.18577174362070828],[-0.000041733637722791175,-0.00409478303282207,-0.000720750612883941,1.0,0.0067101849173769774,0.012534619986162433,0.0008061613152966288,0.004996484520262557,0.0013954678785992253,0.0033663943727185643,-0.0044018120269158165,0.0005605366567562517,0.00033240074820588673,0.005335596702448623,0.004045091895456254,0.0017826285626817227,0.0016328679540392277,0.0015686647749632143,0.005018282953491116,0.0011654100961731478,-0.0006225862056654195,0.001580969531221008,-0.00015475367372599834,0.005759384705327633,0.00017302609596240573,-0.0011052679713745032,0.0025173272107862858,0.00002844701328977867,-0.0006991724135755862,0.13031328765078812],[-0.018592931394258785,0.00465482815153946,0.01101951244978658,0.0067101849173769774,1.0,-0.02970078573583313,-0.009106632501580274,-0.0026052875224074207,-0.0007861995616428562,-0.0028177407252066525,-0.0029651575403909264,-0.0003427722292887207,0.0012005945355469995,0.005174527525292164,-0.00712199454352107,-0.00414709148608603,-0.005421946975850465,-0.0031082166092601935,0.00035056602265918645,-0.0007880754250586549,0.003439227658851709,0.002971456770964505,-0.0010578383026697501,-0.012633613332769812,-0.004862304415897462,-0.0015684754955835527,-0.006115679435720172,-0.0007109361143898466,-0.28520207300737294,-0.08864223740340285],[-0.005788588932603655,0.0042902664746452025,0.01478010144383746,0.012534619986162433,-0.02970078573583313,1.0,0.013087429720545465,-0.012300897072016748,-0.0022898994434729443,-0.002722885639660948,0.0004459549207897056,0.004288005962351886,-0.00013954654889489844,0.00017772529829536177,-0.009362574711093094,-0.0025379738409454095,0.0017467394403830293,0.0007341181373793265,0.0008803306295041058,-0.0018348819521767552,-0.0015842250415121723,0.0023550476524281526,-0.0002208036105658206,-0.021097673272292578,-0.006673263711385966,0.0007018999138726109,-0.001577384326939529,0.0006170632194785443,0.1759404069423634,-0.04477665579579295],[-0.006842588291336208,0.004866010897475121,-0.014015590290726394,0.0008061613152966288,-0.009106632501580274,0.013087429720545465,1.0,-0.0009866326473795361,-0.0016570505889461895,-0.012245575367022553,0.0017312862293721832,-0.007377770947454979,0.0010190654338441735,-0.0020063821639051457,0.0021646994570772593,-0.0035533675012726744,-0.009984959755663316,-0.004092121223166175,0.0005896092117489674,-0.002195827334780782,0.008634730211603693,-0.0017008984979523713,0.003458050788062016,0.005375437011175814,0.0020698078979524007,-0.0004588383679030439,-0.003977219873227714,0.0013292721181323817,0.09665909375065408,-0.1732918453621179],[-0.000490301770597795,0.00374269365593284,0.0037332102991634026,0.004996484520262557,-0.0026052875224074207,-0.012300897072016748,-0.0009866326473795361,1.0,0.00016845994784139034,0.0002385227698406901,0.00516513777689496,-0.0041336876956654155,-0.0013413330919203822,-0.009568384289532541,-0.002322346439935792,-0.006868307858295145,-0.006049143384274093,-0.0020921198093682997,0.0008553714180541738,0.000562158946695232,0.018805553474640992,-0.005181868541496995,0.006461216507352102,-0.006000318559470905,-0.0028265011984084116,-0.0011224898419865187,-0.00010826667669588139,0.00020087170096170977,-0.021610377555364307,0.03336438460284838],[-0.007093188184085013,0.0011157645474232337,-0.002895531047630497,0.0013954678785992253,-0.0007861995616428562,-0.0022898994434729443,-0.0016570505889461895,0.00016845994784139034,1.0,-0.004956960977232564,-0.0015831315122644975,0.0002209346491416052,-0.0002590626900248753,-0.005124874206624924,-0.004912272336986207,0.002680339994664847,-0.0004875404325192065,-0.0009567733050660582,-0.0009356707772171138,0.0006125813121427885,0.0017444713839398363,0.0007417622746537376,-0.0017392600161236823,-0.002454091315873971,-0.00035765868608074843,0.005307459170163281,0.008065890934748327,0.0064866687763293265,-0.0737971837506002,-0.09458275894221857],[0.0031150804333675485,0.002764173799416231,-0.011064456582014414,0.0033663943727185643,-0.0028177407252066525,-0.002722885639660948,-0.012245575367022553,0.0002385227698406901,-0.004956960977232564,1.0,0.005211325913813399,-0.007394681979457052,0.000889696450936159,-0.00461592226714102,0.0033660109027975663,-0.0036371650675407776,-0.0018408332602425253,0.00091122001842814,0.00037902910886738697,-0.004506172251323186,0.0023955011018209622,-0.0030120809221212907,0.0017604510466672804,0.0010149187965122599,0.0024991028176015615,-0.0008588947666105164,0.01149535769148809,0.009956260833449953,-0.016495040286124415,-0.20810420388533005],[-0.005238361152132138,-0.0018084640177489105,0.0037632683294713106,-0.0044018120269158165,-0.0029651575403909264,0.0004459549207897056,0.0017312862293721832,0.00516513777689496,-0.0015831315122644975,0.005211325913813399,1.0,0.003856970171192324,0.0013722399585871794,0.010051637591902897,-0.0023817677004227935,0.0010450899175577584,0.0001272850881007939,-0.001734924515846384,0.002067554253990932,-0.00028967667925693645,-0.002330819411200217,0.000803599811059059,-0.0008390469723996701,0.0015836370718235607,-0.003209352198737598,-0.0020645266678813302,0.0024347043516285715,0.0021758658346355767,-0.043053442634581156,0.1512604533571412],[-0.005224732658887843,0.0014801177085390592,-0.0033654032642077593,0.0005605366567562517,-0.0003427722292887207,0.004288005962351886,-0.007377770947454979,-0.0041336876956654155,0.0002209346491416052,-0.007394681979457052,0.003856970171192324,1.0,0.0025323143640474553,-0.004060598916458072,0.0017273304728851234,-0.007692279149879778,-0.007394531288473231,-0.0007609712734102964,-0.0017433222825322813,0.002041356080798775,0.004192083404063521,0.002966654468970583,-0.0011010633955009254,0.001695453268085846,0.0007319178597714919,-0.0020108838239185863,-0.0007758604396770883,-0.0001730304780357432,-0.011033406249319085,-0.2531497949999811],[0.00017607397170217855,0.0004607696108804758,-0.0007532888104512085,0.00033240074820588673,0.0012005945355469995,-0.00013954654889489844,0.0010190654338441735,-0.0013413330919203822,-0.0002590626900248753,0.000889696450936159,0.0013722399585871794,0.0025323143640474553,1.0,-0.0034795667118208504,0.0025145688423963354,-0.0022096783650526444,-0.0003147036842397231,0.0008394873375494517,0.0010715570383272026,-0.000620614835603232,0.001100545391009355,0.00021352603227366436,0.000711091052284873,-0.0010140681867750988,-0.00005911039298914361,0.000886878094175462,-0.0014510102497142868,-0.00037975057588772226,-0.006205009221444046,-0.003934245314299033],[-0.00016701663809468113,0.004771739778601263,-0.008208455227591597,0.005335596702448623,0.005174527525292164,0.00017772529829536177,-0.0020063821639051457,-0.009568384289532541,-0.005124874206624924,-0.00461592226714102,0.010051637591902897,-0.004060598916458072,-0.0034795667118208504,1.0,0.0026244836316105164,-0.0033203068499791026,0.0009197230024978103,0.0014131471241991865,-0.0007510941548649061,0.00368345719706008,0.004710627375381756,-0.004794790558038955,0.0009289389054848398,0.00033180031929476477,0.0020768168575141556,0.0014042703420475593,-0.0038284420292789088,-0.003178202426597245,0.021382782639850544,-0.29754977975644487],[-0.008538155507659581,0.0011762916062601561,0.003323892451776748,0.004045091895456254,-0.00712199454352107,-0.009362574711093094,0.0021646994570772593,-0.002322346439935792,-0.004912272336986207,0.0033660109027975663,-0.0023817677004227935,0.0017273304728851234,0.0025145688423963354,0.0026244836316105164,1.0,-0.004916780368499176,-0.0006027072808329384,-0.0008590147198242739,0.003386534076430595,0.0003750891706897031,0.0011372992637743702,0.0025790032134958437,0.0007269407316841855,-0.008460676558177721,-0.00824511750692336,0.001924152123098761,-0.001472270018201835,0.00015627937832889054,-0.054453020963542514,-0.0028239661450144516],[-0.006376158582724151,0.0026475607161065267,0.0003360330653480297,0.0017826285626817227,-0.00414709148608603,-0.0025379738409454095,-0.0035533675012726744,-0.006868307858295145,0.002680339994664847,-0.0036371650675407776,0.0010450899175577584,-0.007692279149879778,-0.0022096783650526444,-0.0033203068499791026,-0.004916780368499176,1.0,-0.010046388062466369,-0.009275590059228511,0.0024073594302016716,0.0004240054532787862,0.005267154400499139,0.0032960882528520375,0.001524183611811649,-0.004436914287114963,-0.002463651216970743,-0.004494645380977258,-0.003527977806909279,-0.0018546665914332206,-0.09729387167350916,-0.18822150581931546],[-0.001709260494715688,0.0013035840599432045,-0.0028131327390716787,0.0016328679540392277,-0.005421946975850465,0.0017467394403830293,-0.009984959755663316,-0.006049143384274093,-0.0004875404325192065,-0.0018408332602425253,0.0001272850881007939,-0.007394531288473231,-0.0003147036842397231,0.0009197230024978103,-0.0006027072808329384,-0.010046388062466369,1.0,-0.007602083690617773,0.007939819203283098,0.0012085000319452003,0.00416272377486379,0.0005457665567498955,0.002412041345931676,0.004598973463231437,-0.0033430327529157156,-0.0010902404860177227,-0.0035970763985634256,-0.0035868351644627854,0.016922759734357362,-0.31720194703318083],[-0.00003711812585140008,0.0003630379040186344,-0.003876447934607444,0.0015686647749632143,-0.0031082166092601935,0.0007341181373793265,-0.004092121223166175,-0.0020921198093682997,-0.0009567733050660582,0.00091122001842814,-0.001734924515846384,-0.0007609712734102964,0.0008394873375494517,0.0014131471241991865,-0.0008590147198242739,-0.009275590059228511,-0.007602083690617773,1.0,0.00038945371850088883,-0.0001850684271845984,0.0006194270891826338,-0.0043213804352694755,0.0034875147306728397,-0.000835969050837051,-0.005230957006827722,0.0035834783040604723,-0.005176455822270886,-0.001898867456886156,0.04418650871470434,-0.10644692553081249],[-0.0003657869812605753,0.0011638151899724261,-0.0008279699688052576,0.005018282953491116,0.00035056602265918645,0.0008803306295041058,0.0005896092117489674,0.0008553714180541738,-0.0009356707772171138,0.00037902910886738697,0.002067554253990932,-0.0017433222825322813,0.0010715570383272026,-0.0007510941548649061,0.003386534076430595,0.0024073594302016716,0.007939819203283098,0.00038945371850088883,1.0,-0.0008462799424581521,0.0008855134322267469,0.0035208642995498618,-0.0003568083569356015,-0.0014100893491833238,0.0004653675644517989,0.0009070515999730183,-0.000010973789013439714,0.0008126304744584533,-0.015601526945530129,0.03378413152415573],[0.0031085360485396925,-0.00033887269809826956,-0.004587224438279812,0.0011654100961731478,-0.0007880754250586549,-0.0018348819521767552,-0.002195827334780782,0.000562158946695232,0.0006125813121427885,-0.004506172251323186,-0.00028967667925693645,0.002041356080798775,-0.000620614835603232,0.00368345719706008,0.0003750891706897031,0.0004240054532787862,0.0012085000319452003,-0.0001850684271845984,-0.0008462799424581521,1.0,0.004391631543174585,-0.0023215318570962424,0.0007476054518365398,0.00013230040224709245,-1.2698991007416536e-6,-0.0003043709137930972,-0.00009623569420501388,0.0018278487908436128,0.1425680545106193,0.0213491346264567],[0.006003695030846205,-0.0038806719512788097,0.0018178562780224818,-0.0006225862056654195,0.003439227658851709,-0.0015842250415121723,0.008634730211603693,0.018805553474640992,0.0017444713839398363,0.0023955011018209622,-0.002330819411200217,0.004192083404063521,0.001100545391009355,0.004710627375381756,0.0011372992637743702,0.005267154400499139,0.00416272377486379,0.0006194270891826338,0.0008855134322267469,0.004391631543174585,1.0,0.0017951267485505956,-0.0043357951089362246,0.00294332953156615,-0.0012993410572347843,0.0008275390972012686,-0.005524039706815443,-0.004461160639097591,0.08325734243773045,0.026239135618532416],[0.003633859573936916,0.0029086740053363806,-0.00420292367214235,0.001580969531221008,0.002971456770964505,0.0023550476524281526,-0.0017008984979523713,-0.005181868541496995,0.0007417622746537376,-0.0030120809221212907,0.000803599811059059,0.002966654468970583,0.00021352603227366436,-0.004794790558038955,0.0025790032134958437,0.0032960882528520375,0.0005457665567498955,-0.0043213804352694755,0.0035208642995498618,-0.0023215318570962424,0.0017951267485505956,1.0,0.0061606348167176864,0.00400763149373518,-0.0023307563307247607,0.004308780678510952,0.001685615371881886,0.0016703357452038763,0.035467865633734746,0.004612376174770269],[-0.007503985473869008,-0.0036886296217180955,0.0021830017967685317,-0.00015475367372599834,-0.0010578383026697501,-0.0002208036105658206,0.003458050788062016,0.006461216507352102,-0.0017392600161236823,0.0017604510466672804,-0.0008390469723996701,-0.0011010633955009254,0.000711091052284873,0.0009289389054848398,0.0007269407316841855,0.001524183611811649,0.002412041345931676,0.0034875147306728397,-0.0003568083569356015,0.0007476054518365398,-0.0043357951089362246,0.0061606348167176864,1.0,-0.0011911345613579401,0.003624511136032562,-0.0021047329234189682,-0.0015197357777629017,-0.002719192346928581,-0.025060446233726354,-0.006206025561580646],[-0.009326773224502403,0.0019735168281253585,0.009782012846899469,0.005759384705327633,-0.012633613332769812,-0.021097673272292578,0.005375437011175814,-0.006000318559470905,-0.002454091315873971,0.0010149187965122599,0.0015836370718235607,0.001695453268085846,-0.0010140681867750988,0.00033180031929476477,-0.008460676558177721,-0.004436914287114963,0.004598973463231437,-0.000835969050837051,-0.0014100893491833238,0.00013230040224709245,0.00294332953156615,0.00400763149373518,-0.0011911345613579401,1.0,-0.007006715089922208,0.0015263545489949141,-0.0013154128149647502,0.00008562142586950414,-0.00479011934280354,-0.006831067309310116],[-0.004446136018296162,-0.00283693140419737,0.00409089826509027,0.00017302609596240573,-0.004862304415897462,-0.006673263711385966,0.0020698078979524007,-0.0028265011984084116,-0.00035765868608074843,0.0024991028176015615,-0.003209352198737598,0.0007319178597714919,-0.00005911039298914361,0.0020768168575141556,-0.00824511750692336,-0.002463651216970743,-0.0033430327529157156,-0.005230957006827722,0.0004653675644517989,-1.2698991007416536e-6,-0.0012993410572347843,-0.0023307563307247607,0.003624511136032562,-0.007006715089922208,1.0,0.004573576764907812,-0.0019952735762459005,-0.001228179164825361,0.006831989076374335,0.0035929867200254055],[-0.0024364231007038676,-0.0002960596857444858,0.003596060803817546,-0.0011052679713745032,-0.0015684754955835527,0.0007018999138726109,-0.0004588383679030439,-0.0011224898419865187,0.005307459170163281,-0.0008588947666105164,-0.0020645266678813302,-0.0020108838239185863,0.000886878094175462,0.0014042703420475593,0.001924152123098761,-0.004494645380977258,-0.0010902404860177227,0.0035834783040604723,0.0009070515999730183,-0.0003043709137930972,0.0008275390972012686,0.004308780678510952,-0.0021047329234189682,0.0015263545489949141,0.004573576764907812,1.0,-0.0009584412161369015,-0.000569601827422336,-0.01534410497786031,0.0043412892041978296],[-0.014628053567676153,0.007251624234862376,-0.008780490220863158,0.0025173272107862858,-0.006115679435720172,-0.001577384326939529,-0.003977219873227714,-0.00010826667669588139,0.008065890934748327,0.01149535769148809,0.0024347043516285715,-0.0007758604396770883,-0.0014510102497142868,-0.0038284420292789088,-0.001472270018201835,-0.003527977806909279,-0.0035970763985634256,-0.005176455822270886,-0.000010973789013439714,-0.00009623569420501388,-0.005524039706815443,0.001685615371881886,-0.0015197357777629017,-0.0013154128149647502,-0.0019952735762459005,-0.0009584412161369015,1.0,-0.01443463179292902,-0.048296319499444344,0.021888244417406506],[-0.003555006941166611,0.0014575992938973944,-0.002453994123024223,0.00002844701328977867,-0.0007109361143898466,0.0006170632194785443,0.0013292721181323817,0.00020087170096170977,0.0064866687763293265,0.009956260833449953,0.0021758658346355767,-0.0001730304780357432,-0.00037975057588772226,-0.003178202426597245,0.00015627937832889054,-0.0018546665914332206,-0.0035868351644627854,-0.001898867456886156,0.0008126304744584533,0.0018278487908436128,-0.004461160639097591,0.0016703357452038763,-0.002719192346928581,0.00008562142586950414,-0.001228179164825361,-0.000569601827422336,-0.01443463179292902,1.0,-0.0034362894740962613,0.00964234539918996],[-0.0766920655036157,-0.4593975292964732,-0.053019096184097836,-0.0006991724135755862,-0.28520207300737294,0.1759404069423634,0.09665909375065408,-0.021610377555364307,-0.0737971837506002,-0.016495040286124415,-0.043053442634581156,-0.011033406249319085,-0.006205009221444046,0.021382782639850544,-0.054453020963542514,-0.09729387167350916,0.016922759734357362,0.04418650871470434,-0.015601526945530129,0.1425680545106193,0.08325734243773045,0.035467865633734746,-0.025060446233726354,-0.00479011934280354,0.006831989076374335,-0.01534410497786031,-0.048296319499444344,-0.0034362894740962613,1.0,-0.009151675909696115],[-0.09471828027403738,0.08475425481454264,-0.18577174362070828,0.13031328765078812,-0.08864223740340285,-0.04477665579579295,-0.1732918453621179,0.03336438460284838,-0.09458275894221857,-0.20810420388533005,0.1512604533571412,-0.2531497949999811,-0.003934245314299033,-0.29754977975644487,-0.0028239661450144516,-0.18822150581931546,-0.31720194703318083,-0.10644692553081249,0.03378413152415573,0.0213491346264567,0.026239135618532416,0.004612376174770269,-0.006206025561580646,-0.006831067309310116,0.0035929867200254055,0.0043412892041978296,0.021888244417406506,0.00964234539918996,-0.009151675909696115,1.0]],\"type\":\"heatmap\",\"xaxis\":\"x\",\"yaxis\":\"y\",\"hovertemplate\":\"x: %{x}\\u003cbr\\u003ey: %{y}\\u003cbr\\u003ecolor: %{z}\\u003cextra\\u003e\\u003c\\u002fextra\\u003e\"}],                        {\"template\":{\"data\":{\"histogram2dcontour\":[{\"type\":\"histogram2dcontour\",\"colorbar\":{\"outlinewidth\":0,\"ticks\":\"\"},\"colorscale\":[[0.0,\"#0d0887\"],[0.1111111111111111,\"#46039f\"],[0.2222222222222222,\"#7201a8\"],[0.3333333333333333,\"#9c179e\"],[0.4444444444444444,\"#bd3786\"],[0.5555555555555556,\"#d8576b\"],[0.6666666666666666,\"#ed7953\"],[0.7777777777777778,\"#fb9f3a\"],[0.8888888888888888,\"#fdca26\"],[1.0,\"#f0f921\"]]}],\"choropleth\":[{\"type\":\"choropleth\",\"colorbar\":{\"outlinewidth\":0,\"ticks\":\"\"}}],\"histogram2d\":[{\"type\":\"histogram2d\",\"colorbar\":{\"outlinewidth\":0,\"ticks\":\"\"},\"colorscale\":[[0.0,\"#0d0887\"],[0.1111111111111111,\"#46039f\"],[0.2222222222222222,\"#7201a8\"],[0.3333333333333333,\"#9c179e\"],[0.4444444444444444,\"#bd3786\"],[0.5555555555555556,\"#d8576b\"],[0.6666666666666666,\"#ed7953\"],[0.7777777777777778,\"#fb9f3a\"],[0.8888888888888888,\"#fdca26\"],[1.0,\"#f0f921\"]]}],\"heatmap\":[{\"type\":\"heatmap\",\"colorbar\":{\"outlinewidth\":0,\"ticks\":\"\"},\"colorscale\":[[0.0,\"#0d0887\"],[0.1111111111111111,\"#46039f\"],[0.2222222222222222,\"#7201a8\"],[0.3333333333333333,\"#9c179e\"],[0.4444444444444444,\"#bd3786\"],[0.5555555555555556,\"#d8576b\"],[0.6666666666666666,\"#ed7953\"],[0.7777777777777778,\"#fb9f3a\"],[0.8888888888888888,\"#fdca26\"],[1.0,\"#f0f921\"]]}],\"heatmapgl\":[{\"type\":\"heatmapgl\",\"colorbar\":{\"outlinewidth\":0,\"ticks\":\"\"},\"colorscale\":[[0.0,\"#0d0887\"],[0.1111111111111111,\"#46039f\"],[0.2222222222222222,\"#7201a8\"],[0.3333333333333333,\"#9c179e\"],[0.4444444444444444,\"#bd3786\"],[0.5555555555555556,\"#d8576b\"],[0.6666666666666666,\"#ed7953\"],[0.7777777777777778,\"#fb9f3a\"],[0.8888888888888888,\"#fdca26\"],[1.0,\"#f0f921\"]]}],\"contourcarpet\":[{\"type\":\"contourcarpet\",\"colorbar\":{\"outlinewidth\":0,\"ticks\":\"\"}}],\"contour\":[{\"type\":\"contour\",\"colorbar\":{\"outlinewidth\":0,\"ticks\":\"\"},\"colorscale\":[[0.0,\"#0d0887\"],[0.1111111111111111,\"#46039f\"],[0.2222222222222222,\"#7201a8\"],[0.3333333333333333,\"#9c179e\"],[0.4444444444444444,\"#bd3786\"],[0.5555555555555556,\"#d8576b\"],[0.6666666666666666,\"#ed7953\"],[0.7777777777777778,\"#fb9f3a\"],[0.8888888888888888,\"#fdca26\"],[1.0,\"#f0f921\"]]}],\"surface\":[{\"type\":\"surface\",\"colorbar\":{\"outlinewidth\":0,\"ticks\":\"\"},\"colorscale\":[[0.0,\"#0d0887\"],[0.1111111111111111,\"#46039f\"],[0.2222222222222222,\"#7201a8\"],[0.3333333333333333,\"#9c179e\"],[0.4444444444444444,\"#bd3786\"],[0.5555555555555556,\"#d8576b\"],[0.6666666666666666,\"#ed7953\"],[0.7777777777777778,\"#fb9f3a\"],[0.8888888888888888,\"#fdca26\"],[1.0,\"#f0f921\"]]}],\"mesh3d\":[{\"type\":\"mesh3d\",\"colorbar\":{\"outlinewidth\":0,\"ticks\":\"\"}}],\"scatter\":[{\"fillpattern\":{\"fillmode\":\"overlay\",\"size\":10,\"solidity\":0.2},\"type\":\"scatter\"}],\"parcoords\":[{\"type\":\"parcoords\",\"line\":{\"colorbar\":{\"outlinewidth\":0,\"ticks\":\"\"}}}],\"scatterpolargl\":[{\"type\":\"scatterpolargl\",\"marker\":{\"colorbar\":{\"outlinewidth\":0,\"ticks\":\"\"}}}],\"bar\":[{\"error_x\":{\"color\":\"#2a3f5f\"},\"error_y\":{\"color\":\"#2a3f5f\"},\"marker\":{\"line\":{\"color\":\"#E5ECF6\",\"width\":0.5},\"pattern\":{\"fillmode\":\"overlay\",\"size\":10,\"solidity\":0.2}},\"type\":\"bar\"}],\"scattergeo\":[{\"type\":\"scattergeo\",\"marker\":{\"colorbar\":{\"outlinewidth\":0,\"ticks\":\"\"}}}],\"scatterpolar\":[{\"type\":\"scatterpolar\",\"marker\":{\"colorbar\":{\"outlinewidth\":0,\"ticks\":\"\"}}}],\"histogram\":[{\"marker\":{\"pattern\":{\"fillmode\":\"overlay\",\"size\":10,\"solidity\":0.2}},\"type\":\"histogram\"}],\"scattergl\":[{\"type\":\"scattergl\",\"marker\":{\"colorbar\":{\"outlinewidth\":0,\"ticks\":\"\"}}}],\"scatter3d\":[{\"type\":\"scatter3d\",\"line\":{\"colorbar\":{\"outlinewidth\":0,\"ticks\":\"\"}},\"marker\":{\"colorbar\":{\"outlinewidth\":0,\"ticks\":\"\"}}}],\"scattermapbox\":[{\"type\":\"scattermapbox\",\"marker\":{\"colorbar\":{\"outlinewidth\":0,\"ticks\":\"\"}}}],\"scatterternary\":[{\"type\":\"scatterternary\",\"marker\":{\"colorbar\":{\"outlinewidth\":0,\"ticks\":\"\"}}}],\"scattercarpet\":[{\"type\":\"scattercarpet\",\"marker\":{\"colorbar\":{\"outlinewidth\":0,\"ticks\":\"\"}}}],\"carpet\":[{\"aaxis\":{\"endlinecolor\":\"#2a3f5f\",\"gridcolor\":\"white\",\"linecolor\":\"white\",\"minorgridcolor\":\"white\",\"startlinecolor\":\"#2a3f5f\"},\"baxis\":{\"endlinecolor\":\"#2a3f5f\",\"gridcolor\":\"white\",\"linecolor\":\"white\",\"minorgridcolor\":\"white\",\"startlinecolor\":\"#2a3f5f\"},\"type\":\"carpet\"}],\"table\":[{\"cells\":{\"fill\":{\"color\":\"#EBF0F8\"},\"line\":{\"color\":\"white\"}},\"header\":{\"fill\":{\"color\":\"#C8D4E3\"},\"line\":{\"color\":\"white\"}},\"type\":\"table\"}],\"barpolar\":[{\"marker\":{\"line\":{\"color\":\"#E5ECF6\",\"width\":0.5},\"pattern\":{\"fillmode\":\"overlay\",\"size\":10,\"solidity\":0.2}},\"type\":\"barpolar\"}],\"pie\":[{\"automargin\":true,\"type\":\"pie\"}]},\"layout\":{\"autotypenumbers\":\"strict\",\"colorway\":[\"#636efa\",\"#EF553B\",\"#00cc96\",\"#ab63fa\",\"#FFA15A\",\"#19d3f3\",\"#FF6692\",\"#B6E880\",\"#FF97FF\",\"#FECB52\"],\"font\":{\"color\":\"#2a3f5f\"},\"hovermode\":\"closest\",\"hoverlabel\":{\"align\":\"left\"},\"paper_bgcolor\":\"white\",\"plot_bgcolor\":\"#E5ECF6\",\"polar\":{\"bgcolor\":\"#E5ECF6\",\"angularaxis\":{\"gridcolor\":\"white\",\"linecolor\":\"white\",\"ticks\":\"\"},\"radialaxis\":{\"gridcolor\":\"white\",\"linecolor\":\"white\",\"ticks\":\"\"}},\"ternary\":{\"bgcolor\":\"#E5ECF6\",\"aaxis\":{\"gridcolor\":\"white\",\"linecolor\":\"white\",\"ticks\":\"\"},\"baxis\":{\"gridcolor\":\"white\",\"linecolor\":\"white\",\"ticks\":\"\"},\"caxis\":{\"gridcolor\":\"white\",\"linecolor\":\"white\",\"ticks\":\"\"}},\"coloraxis\":{\"colorbar\":{\"outlinewidth\":0,\"ticks\":\"\"}},\"colorscale\":{\"sequential\":[[0.0,\"#0d0887\"],[0.1111111111111111,\"#46039f\"],[0.2222222222222222,\"#7201a8\"],[0.3333333333333333,\"#9c179e\"],[0.4444444444444444,\"#bd3786\"],[0.5555555555555556,\"#d8576b\"],[0.6666666666666666,\"#ed7953\"],[0.7777777777777778,\"#fb9f3a\"],[0.8888888888888888,\"#fdca26\"],[1.0,\"#f0f921\"]],\"sequentialminus\":[[0.0,\"#0d0887\"],[0.1111111111111111,\"#46039f\"],[0.2222222222222222,\"#7201a8\"],[0.3333333333333333,\"#9c179e\"],[0.4444444444444444,\"#bd3786\"],[0.5555555555555556,\"#d8576b\"],[0.6666666666666666,\"#ed7953\"],[0.7777777777777778,\"#fb9f3a\"],[0.8888888888888888,\"#fdca26\"],[1.0,\"#f0f921\"]],\"diverging\":[[0,\"#8e0152\"],[0.1,\"#c51b7d\"],[0.2,\"#de77ae\"],[0.3,\"#f1b6da\"],[0.4,\"#fde0ef\"],[0.5,\"#f7f7f7\"],[0.6,\"#e6f5d0\"],[0.7,\"#b8e186\"],[0.8,\"#7fbc41\"],[0.9,\"#4d9221\"],[1,\"#276419\"]]},\"xaxis\":{\"gridcolor\":\"white\",\"linecolor\":\"white\",\"ticks\":\"\",\"title\":{\"standoff\":15},\"zerolinecolor\":\"white\",\"automargin\":true,\"zerolinewidth\":2},\"yaxis\":{\"gridcolor\":\"white\",\"linecolor\":\"white\",\"ticks\":\"\",\"title\":{\"standoff\":15},\"zerolinecolor\":\"white\",\"automargin\":true,\"zerolinewidth\":2},\"scene\":{\"xaxis\":{\"backgroundcolor\":\"#E5ECF6\",\"gridcolor\":\"white\",\"linecolor\":\"white\",\"showbackground\":true,\"ticks\":\"\",\"zerolinecolor\":\"white\",\"gridwidth\":2},\"yaxis\":{\"backgroundcolor\":\"#E5ECF6\",\"gridcolor\":\"white\",\"linecolor\":\"white\",\"showbackground\":true,\"ticks\":\"\",\"zerolinecolor\":\"white\",\"gridwidth\":2},\"zaxis\":{\"backgroundcolor\":\"#E5ECF6\",\"gridcolor\":\"white\",\"linecolor\":\"white\",\"showbackground\":true,\"ticks\":\"\",\"zerolinecolor\":\"white\",\"gridwidth\":2}},\"shapedefaults\":{\"line\":{\"color\":\"#2a3f5f\"}},\"annotationdefaults\":{\"arrowcolor\":\"#2a3f5f\",\"arrowhead\":0,\"arrowwidth\":1},\"geo\":{\"bgcolor\":\"white\",\"landcolor\":\"#E5ECF6\",\"subunitcolor\":\"white\",\"showland\":true,\"showlakes\":true,\"lakecolor\":\"white\"},\"title\":{\"x\":0.05},\"mapbox\":{\"style\":\"light\"}}},\"xaxis\":{\"anchor\":\"y\",\"domain\":[0.0,1.0]},\"yaxis\":{\"anchor\":\"x\",\"domain\":[0.0,1.0],\"autorange\":\"reversed\"},\"coloraxis\":{\"colorscale\":[[0.0,\"rgb(5,48,97)\"],[0.1,\"rgb(33,102,172)\"],[0.2,\"rgb(67,147,195)\"],[0.3,\"rgb(146,197,222)\"],[0.4,\"rgb(209,229,240)\"],[0.5,\"rgb(247,247,247)\"],[0.6,\"rgb(253,219,199)\"],[0.7,\"rgb(244,165,130)\"],[0.8,\"rgb(214,96,77)\"],[0.9,\"rgb(178,24,43)\"],[1.0,\"rgb(103,0,31)\"]]},\"margin\":{\"t\":60}},                        {\"responsive\": true}                    ).then(function(){\n",
              "                            \n",
              "var gd = document.getElementById('76818525-b00d-4e4a-9d81-103b41d1ead8');\n",
              "var x = new MutationObserver(function (mutations, observer) {{\n",
              "        var display = window.getComputedStyle(gd).display;\n",
              "        if (!display || display === 'none') {{\n",
              "            console.log([gd, 'removed!']);\n",
              "            Plotly.purge(gd);\n",
              "            observer.disconnect();\n",
              "        }}\n",
              "}});\n",
              "\n",
              "// Listen for the removal of the full notebook cells\n",
              "var notebookContainer = gd.closest('#notebook-container');\n",
              "if (notebookContainer) {{\n",
              "    x.observe(notebookContainer, {childList: true});\n",
              "}}\n",
              "\n",
              "// Listen for the clearing of the current output cell\n",
              "var outputEl = gd.closest('.output');\n",
              "if (outputEl) {{\n",
              "    x.observe(outputEl, {childList: true});\n",
              "}}\n",
              "\n",
              "                        })                };                            </script>        </div>\n",
              "</body>\n",
              "</html>"
            ]
          },
          "metadata": {}
        }
      ],
      "source": [
        "corr = df.corr()\n",
        "fig=px.imshow(corr, aspect=\"auto\" ,color_continuous_scale='RdBu_r')\n",
        "fig.show()"
      ]
    },
    {
      "cell_type": "code",
      "execution_count": null,
      "id": "3c160557",
      "metadata": {
        "colab": {
          "base_uri": "https://localhost:8080/",
          "height": 542
        },
        "id": "3c160557",
        "outputId": "7dceace9-cb62-4af2-b74c-a5a1085d872e"
      },
      "outputs": [
        {
          "output_type": "display_data",
          "data": {
            "text/html": [
              "<html>\n",
              "<head><meta charset=\"utf-8\" /></head>\n",
              "<body>\n",
              "    <div>            <script src=\"https://cdnjs.cloudflare.com/ajax/libs/mathjax/2.7.5/MathJax.js?config=TeX-AMS-MML_SVG\"></script><script type=\"text/javascript\">if (window.MathJax && window.MathJax.Hub && window.MathJax.Hub.Config) {window.MathJax.Hub.Config({SVG: {font: \"STIX-Web\"}});}</script>                <script type=\"text/javascript\">window.PlotlyConfig = {MathJaxConfig: 'local'};</script>\n",
              "        <script charset=\"utf-8\" src=\"https://cdn.plot.ly/plotly-2.35.2.min.js\"></script>                <div id=\"2b37934c-8e18-491d-bd9d-b851458bfb34\" class=\"plotly-graph-div\" style=\"height:525px; width:100%;\"></div>            <script type=\"text/javascript\">                                    window.PLOTLYENV=window.PLOTLYENV || {};                                    if (document.getElementById(\"2b37934c-8e18-491d-bd9d-b851458bfb34\")) {                    Plotly.newPlot(                        \"2b37934c-8e18-491d-bd9d-b851458bfb34\",                        [{\"coloraxis\":\"coloraxis\",\"name\":\"0\",\"x\":[\"V1\",\"V2\",\"V3\",\"V4\",\"V5\",\"V6\",\"V7\",\"V8\",\"V9\",\"V10\",\"V11\",\"V12\",\"V13\",\"V14\",\"V15\",\"V16\",\"V17\",\"V18\",\"V19\",\"V20\",\"V21\",\"V22\",\"V23\",\"V24\",\"V25\",\"V26\",\"V27\",\"V28\",\"Amount\",\"Class\"],\"y\":[\"V1\",\"V2\",\"V3\",\"V4\",\"V5\",\"V6\",\"V7\",\"V8\",\"V9\",\"V10\",\"V11\",\"V12\",\"V13\",\"V14\",\"V15\",\"V16\",\"V17\",\"V18\",\"V19\",\"V20\",\"V21\",\"V22\",\"V23\",\"V24\",\"V25\",\"V26\",\"V27\",\"V28\",\"Amount\",\"Class\"],\"z\":[[1.0,-0.803555449402858,0.8733371530614905,-0.6007405350340986,0.8604872904934942,0.35984338410728506,0.8658358223243487,-0.23487236361691452,0.6413312794451176,0.714562328600248,-0.5275824270221042,0.5878393915487067,-0.08012585545178795,0.43925484879973775,0.10260467935432382,0.635364018529226,0.67719936972473,0.6732914502802305,-0.3210322112369829,-0.3513479211469131,0.11360635692962356,-0.11145269169357805,0.003870997355503391,-0.0731901308300444,-0.10590672872548312,0.015613082687906746,0.11484008359986433,0.1442346440953022,-0.05009723816254229,-0.4214994734212264],[-0.803555449402858,1.0,-0.8634821760915949,0.6830833223550365,-0.780770497281295,-0.377332313386587,-0.8382376951034851,0.1497850856301432,-0.6927366962097393,-0.7512158947970347,0.631795644036571,-0.6774680877189339,0.09108494922087415,-0.5763560630715557,-0.15212092897396853,-0.6289716048487273,-0.6503643491769131,-0.6217464674318194,0.23573422315161002,0.3540458209043071,-0.12273543890853879,0.10381452158276654,0.04685651797017025,0.03505455454651859,0.12952969399695155,0.036126535628980175,-0.059043860069359376,0.009490343236917678,-0.22695478536218394,0.48449545381299736],[0.8733371530614905,-0.8634821760915949,1.0,-0.7662463180930142,0.8389666648411204,0.5134898738416829,0.8807107251275107,-0.28943593355959224,0.7514219295148197,0.8336606430984741,-0.7180384748252836,0.7614203670484402,-0.10299395948525762,0.6648971324878723,0.12029230648349433,0.7224906761581312,0.7362033085331818,0.6939335296693769,-0.33307064556455124,-0.37200442111526266,0.07817306533994958,-0.07525332772086432,-0.002129457413770894,0.02748994611854712,-0.10162200809524931,-0.051301415082790944,-0.002236480610133209,0.08159262848546109,0.04858458081305257,-0.5716966078249491],[-0.6007405350340986,0.6830833223550365,-0.7662463180930142,1.0,-0.5605905170347849,-0.44265606793049217,-0.7138689051140824,0.14708165646714003,-0.7880476959353092,-0.7968396936416539,0.7884333154660427,-0.8370222451305661,0.0850591004336559,-0.7974620137955536,-0.1451314695286725,-0.7193527493437932,-0.7002527252048429,-0.6318190832076196,0.3163856285219057,0.2920525902703468,-0.04566731979380558,0.12712500472617722,0.022649030746071042,-0.0673303950769627,-0.03889785503852862,0.1672979792647215,0.04690093969811276,-0.06627249916257111,-0.16951363302577235,0.7086603428603273],[0.8604872904934942,-0.780770497281295,0.8389666648411204,-0.5605905170347849,1.0,0.2864941101303087,0.8265247638403691,-0.31847991930540553,0.6343345146160805,0.7322338279511434,-0.5084111414480917,0.5962351456438026,-0.14528005774208105,0.4132077990378772,0.07423867611146177,0.676437055236527,0.7361205671641459,0.7320878699716102,-0.41305640519138653,-0.344589408202417,0.0844912279334577,-0.09532955965685636,-0.09324061807645247,-0.12847042534283507,-0.1103170651131059,0.03728741522314663,0.11226399920704193,0.12984225165280278,-0.18340151003717883,-0.34859562290686996],[0.35984338410728506,-0.377332313386587,0.5134898738416829,-0.44265606793049217,0.2864941101303087,1.0,0.35111107911981365,-0.5361363586768539,0.3628220029592064,0.4306615925473582,-0.5212746009809478,0.5100282854484498,-0.07844993830271794,0.5683637023213497,-0.0662241060724528,0.44653942478922626,0.43500226343422105,0.38285593700227466,-0.21905000064082686,-0.02020883813199806,-0.22044096835927182,0.1811333169223683,0.3112390203286464,-0.046096422609449544,-0.16277113717792674,-0.047328528497415666,-0.2399223017379303,-0.10244342888345145,0.20161206200596124,-0.42418913150798826],[0.8658358223243487,-0.8382376951034851,0.8807107251275107,-0.7138689051140824,0.8265247638403691,0.35111107911981365,1.0,-0.0527863943701113,0.7716024299225128,0.8613112075614503,-0.641426692840816,0.7271735753365318,-0.07794363704236917,0.5481951860275985,0.16785178057396527,0.7503941874691873,0.7821817763670313,0.7649438899937623,-0.3776170836426334,-0.3999976055784873,0.21301374570031895,-0.22474441083355676,0.004671269791705392,-0.05005385951863477,0.04108034508429624,-0.03647270289494453,0.1329449630631476,0.1513658175348029,0.11041925938088296,-0.47172702364110397],[-0.23487236361691452,0.1497850856301432,-0.28943593355959224,0.14708165646714003,-0.31847991930540553,-0.5361363586768539,-0.0527863943701113,1.0,-0.09459483550934737,-0.10563916577145063,0.2471646702135376,-0.20965674632631226,0.24122374711620753,-0.2658440421354894,0.14609550144475428,-0.26491499203136076,-0.2867753211268626,-0.2609585836619479,0.23681789100787723,-0.1870497795310118,0.4041614677110348,-0.35347054578032283,-0.29816115534522586,0.05028945992158518,0.27410463495208537,0.01956724862020062,0.3780032015049588,0.053715810788988946,0.14670396631111499,0.1168039391967749],[0.6413312794451176,-0.6927366962097393,0.7514219295148197,-0.7880476959353092,0.6343345146160805,0.3628220029592064,0.7716024299225128,-0.09459483550934737,1.0,0.8503681722454748,-0.7007992652065328,0.7691006811308847,-0.06089207743971422,0.685333771303152,0.10641234261759445,0.7239404681460931,0.7528355952207169,0.6998839305159281,-0.3480849361662161,-0.33759135498543924,0.16575068677715335,-0.22294995720203473,-0.0637060490255585,0.05178912374961152,-0.015433212395818916,-0.15003101551122172,0.04890228519655443,0.12783279840021208,0.11821688391006388,-0.5636789035201835],[0.714562328600248,-0.7512158947970347,0.8336606430984741,-0.7968396936416539,0.7322338279511434,0.4306615925473582,0.8613112075614503,-0.10563916577145063,0.8503681722454748,1.0,-0.7994741686416424,0.8776940413079175,-0.06690899803866361,0.7623238511680804,0.14356686508923025,0.8497694481048179,0.846853964381554,0.7898809312392163,-0.42672857961135635,-0.36446683080767844,0.11875758579729262,-0.2355281513287738,-0.04179948463553276,0.014983973399019792,0.010424788490344113,-0.07208427422270616,0.05852544622630065,0.11020517010704722,0.09093109937652466,-0.6269683460330203],[-0.5275824270221042,0.631795644036571,-0.7180384748252836,0.7884333154660427,-0.5084111414480917,-0.5212746009809478,-0.641426692840816,0.2471646702135376,-0.7007992652065328,-0.7994741686416424,1.0,-0.8976959292966377,0.06656160813088366,-0.8881742034422976,-0.06629587539370395,-0.8002107949788841,-0.7662760806481046,-0.6618161306709126,0.3826390505570281,0.21457059930645025,0.12384140709934073,0.053248642638058334,-0.06079034879008959,-0.13018015171427705,0.019421225232864638,0.17770356711943525,0.22843925919334826,0.026064229751742222,-0.16673262795760513,0.6787118948309115],[0.5878393915487067,-0.6774680877189339,0.7614203670484402,-0.8370222451305661,0.5962351456438026,0.5100282854484498,0.7271735753365318,-0.20965674632631226,0.7691006811308847,0.8776940413079175,-0.8976959292966377,1.0,-0.10162923236240236,0.8824262446569349,0.09533439798680554,0.8946890963355633,0.8694381676620621,0.7899779500769366,-0.4500598865838371,-0.2329196973226543,-0.0825608963005935,-0.125357980277504,0.020023709695226457,0.05708987575255284,0.03217763426168142,-0.13954247119288785,-0.09625021733687855,-0.010216461207448256,0.1304117371114503,-0.6857597527968392],[-0.08012585545178795,0.09108494922087415,-0.10299395948525762,0.0850591004336559,-0.14528005774208105,-0.07844993830271794,-0.07794363704236917,0.24122374711620753,-0.06089207743971422,-0.06690899803866361,0.06656160813088366,-0.10162923236240236,1.0,-0.0494164468361116,-0.013958485702162397,-0.1401760413236064,-0.15427879944151857,-0.15227666516984625,0.16022355664348154,-0.0772415973433453,0.11339097132575313,-0.02398722385520598,-0.06217420068866425,0.03159020241054692,0.017489570519899248,0.023357354653822097,0.05700094356247328,-0.08748890334372351,0.0603947190274587,-0.01961631696717612],[0.43925484879973775,-0.5763560630715557,0.6648971324878723,-0.7974620137955536,0.4132077990378772,0.5683637023213497,0.5481951860275985,-0.2658440421354894,0.685333771303152,0.7623238511680804,-0.8881742034422976,0.8824262446569349,-0.0494164468361116,1.0,0.03339390365367116,0.7700992505525196,0.7250236420667098,0.6077612494256132,-0.3623446585441512,-0.15589266528859047,-0.2218691431939578,0.02453670539562332,0.05501229387882917,0.14494392366434425,-0.08006402771608895,-0.1826009765831697,-0.2387993414931991,-0.12127974752682813,0.1917704185957873,-0.7501645309953089],[0.10260467935432382,-0.15212092897396853,0.12029230648349433,-0.1451314695286725,0.07423867611146177,-0.0662241060724528,0.16785178057396527,0.14609550144475428,0.10641234261759445,0.14356686508923025,-0.06629587539370395,0.09533439798680554,-0.013958485702162397,0.03339390365367116,1.0,0.021671009556420626,0.04439233341626153,0.025485156352336797,0.21055261768395,-0.15071708039091392,0.1772294671760088,-0.07596178539602363,-0.04899960685337391,0.02866007663247337,-0.017772705674498214,0.014971614528708429,0.12708836842879878,0.06876304217465491,0.08779339481300663,-0.05616723085459275],[0.635364018529226,-0.6289716048487273,0.7224906761581312,-0.7193527493437932,0.676437055236527,0.44653942478922626,0.7503941874691873,-0.26491499203136076,0.7239404681460931,0.8497694481048179,-0.8002107949788841,0.8946890963355633,-0.1401760413236064,0.7700992505525196,0.021671009556420626,1.0,0.9512156082213976,0.9040327808403757,-0.6231609403518937,-0.21474126471460905,-0.12958579182278102,-0.1625282219839075,0.03154337482951946,-0.039382985966443455,0.0574802695533534,-0.06717216213960724,-0.07895831839334293,0.01414328056280491,0.003915184959756898,-0.5808689541749057],[0.67719936972473,-0.6503643491769131,0.7362033085331818,-0.7002527252048429,0.7361205671641459,0.43500226343422105,0.7821817763670313,-0.2867753211268626,0.7528355952207169,0.846853964381554,-0.7662760806481046,0.8694381676620621,-0.15427879944151857,0.7250236420667098,0.04439233341626153,0.9512156082213976,1.0,0.9367619094563399,-0.5980739394721367,-0.22390429621443667,-0.10120231794386357,-0.15345067615459654,0.03474030057228168,-0.08252772307977549,0.030394557728457092,-0.061077633249984394,-0.052167439965181465,0.04231784393867904,-0.02506787308416007,-0.550619275036417],[0.6732914502802305,-0.6217464674318194,0.6939335296693769,-0.6318190832076196,0.7320878699716102,0.38285593700227466,0.7649438899937623,-0.2609585836619479,0.6998839305159281,0.7898809312392163,-0.6618161306709126,0.7899779500769366,-0.15227666516984625,0.6077612494256132,0.025485156352336797,0.9040327808403757,0.9367619094563399,1.0,-0.5560221924210692,-0.20096380023851418,-0.060598587869046615,-0.16326923085715486,0.05089361506918303,-0.11703986768744606,0.0529111610295732,-0.037256016868173765,0.0038543060103822316,0.08766100811940784,-0.03178107961640991,-0.45010689569955575],[-0.3210322112369829,0.23573422315161002,-0.33307064556455124,0.3163856285219057,-0.41305640519138653,-0.21905000064082686,-0.3776170836426334,0.23681789100787723,-0.3480849361662161,-0.42672857961135635,0.3826390505570281,-0.4500598865838371,0.16022355664348154,-0.3623446585441512,0.21055261768395,-0.6231609403518937,-0.5980739394721367,-0.5560221924210692,1.0,0.05643667684860694,0.16303994727669496,0.149919744370939,-0.007079067549425925,0.1309608407318758,-0.17460320697812604,0.05994068653122229,0.048430037552310845,-0.054695950458381694,0.15610021176639105,0.2704771648297688],[-0.3513479211469131,0.3540458209043071,-0.37200442111526266,0.2920525902703468,-0.344589408202417,-0.02020883813199806,-0.3999976055784873,-0.1870497795310118,-0.33759135498543924,-0.36446683080767844,0.21457059930645025,-0.2329196973226543,-0.0772415973433453,-0.15589266528859047,-0.15071708039091392,-0.21474126471460905,-0.22390429621443667,-0.20096380023851418,0.05643667684860694,1.0,-0.48516259190439026,0.3378268206731405,0.29730239071032655,-0.07134367469489147,0.06825415068740405,0.028337245013317854,-0.029646500077999148,0.06066320003100294,0.0043067679832688235,0.1773750653500425],[0.11360635692962356,-0.12273543890853879,0.07817306533994958,-0.04566731979380558,0.0844912279334577,-0.22044096835927182,0.21301374570031895,0.4041614677110348,0.16575068677715335,0.11875758579729262,0.12384140709934073,-0.0825608963005935,0.11339097132575313,-0.2218691431939578,0.1772294671760088,-0.12958579182278102,-0.10120231794386357,-0.060598587869046615,0.16303994727669496,-0.48516259190439026,1.0,-0.6029309535594951,-0.1270655786739024,-0.0062617029107657415,0.15569324525442238,0.044138383277098216,0.37827146597241,0.24029722747143112,0.11100445877512224,0.11135990180848666],[-0.11145269169357805,0.10381452158276654,-0.07525332772086432,0.12712500472617722,-0.09532955965685636,0.1811333169223683,-0.22474441083355676,-0.35347054578032283,-0.22294995720203473,-0.2355281513287738,0.053248642638058334,-0.125357980277504,-0.02398722385520598,0.02453670539562332,-0.07596178539602363,-0.1625282219839075,-0.15345067615459654,-0.16326923085715486,0.149919744370939,0.3378268206731405,-0.6029309535594951,1.0,0.19115805347083542,0.015989004601254554,-0.2424286904301149,0.05571119226989248,-0.33453487396956716,-0.17975899820882366,-0.061348885098953324,0.0435257838611906],[0.003870997355503391,0.04685651797017025,-0.002129457413770894,0.022649030746071042,-0.09324061807645247,0.3112390203286464,0.004671269791705392,-0.29816115534522586,-0.0637060490255585,-0.04179948463553276,-0.06079034879008959,0.020023709695226457,-0.06217420068866425,0.05501229387882917,-0.04899960685337391,0.03154337482951946,0.03474030057228168,0.05089361506918303,-0.007079067549425925,0.29730239071032655,-0.1270655786739024,0.19115805347083542,1.0,-0.04875129041172218,0.06728091359710558,0.019409691605572824,-0.21494730010503726,0.015954489155272103,-0.02781052511955637,-0.053439943063829515],[-0.0731901308300444,0.03505455454651859,0.02748994611854712,-0.0673303950769627,-0.12847042534283507,-0.046096422609449544,-0.05005385951863477,0.05028945992158518,0.05178912374961152,0.014983973399019792,-0.13018015171427705,0.05708987575255284,0.03159020241054692,0.14494392366434425,0.02866007663247337,-0.039382985966443455,-0.08252772307977549,-0.11703986768744606,0.1309608407318758,-0.07134367469489147,-0.0062617029107657415,0.015989004601254554,-0.04875129041172218,1.0,-0.06519974507399988,-0.1117843768363381,-0.1892113100005946,-0.009142363674674144,0.04886162236396053,-0.08842087600993581],[-0.10590672872548312,0.12952969399695155,-0.10162200809524931,-0.03889785503852862,-0.1103170651131059,-0.16277113717792674,0.04108034508429624,0.27410463495208537,-0.015433212395818916,0.010424788490344113,0.019421225232864638,0.03217763426168142,0.017489570519899248,-0.08006402771608895,-0.017772705674498214,0.0574802695533534,0.030394557728457092,0.0529111610295732,-0.17460320697812604,0.06825415068740405,0.15569324525442238,-0.2424286904301149,0.06728091359710558,-0.06519974507399988,1.0,0.061989645040091315,0.19519806560977865,0.14809086161814147,-0.022933778653731186,0.030024914294879107],[0.015613082687906746,0.036126535628980175,-0.051301415082790944,0.1672979792647215,0.03728741522314663,-0.047328528497415666,-0.03647270289494453,0.01956724862020062,-0.15003101551122172,-0.07208427422270616,0.17770356711943525,-0.13954247119288785,0.023357354653822097,-0.1826009765831697,0.014971614528708429,-0.06717216213960724,-0.061077633249984394,-0.037256016868173765,0.05994068653122229,0.028337245013317854,0.044138383277098216,0.05571119226989248,0.019409691605572824,-0.1117843768363381,0.061989645040091315,1.0,0.153635444793895,-0.010220072139284431,-0.11502777977637178,0.08665760397209457],[0.11484008359986433,-0.059043860069359376,-0.002236480610133209,0.04690093969811276,0.11226399920704193,-0.2399223017379303,0.1329449630631476,0.3780032015049588,0.04890228519655443,0.05852544622630065,0.22843925919334826,-0.09625021733687855,0.05700094356247328,-0.2387993414931991,0.12708836842879878,-0.07895831839334293,-0.052167439965181465,0.0038543060103822316,0.048430037552310845,-0.029646500077999148,0.37827146597241,-0.33453487396956716,-0.21494730010503726,-0.1892113100005946,0.19519806560977865,0.153635444793895,1.0,0.16177704498128448,0.0004669137029884525,0.1186432332295139],[0.1442346440953022,0.009490343236917678,0.08159262848546109,-0.06627249916257111,0.12984225165280278,-0.10244342888345145,0.1513658175348029,0.053715810788988946,0.12783279840021208,0.11020517010704722,0.026064229751742222,-0.010216461207448256,-0.08748890334372351,-0.12127974752682813,0.06876304217465491,0.01414328056280491,0.04231784393867904,0.08766100811940784,-0.054695950458381694,0.06066320003100294,0.24029722747143112,-0.17975899820882366,0.015954489155272103,-0.009142363674674144,0.14809086161814147,-0.010220072139284431,0.16177704498128448,1.0,-0.07463897352345686,0.08123766540129788],[-0.05009723816254229,-0.22695478536218394,0.04858458081305257,-0.16951363302577235,-0.18340151003717883,0.20161206200596124,0.11041925938088296,0.14670396631111499,0.11821688391006388,0.09093109937652466,-0.16673262795760513,0.1304117371114503,0.0603947190274587,0.1917704185957873,0.08779339481300663,0.003915184959756898,-0.02506787308416007,-0.03178107961640991,0.15610021176639105,0.0043067679832688235,0.11100445877512224,-0.061348885098953324,-0.02781052511955637,0.04886162236396053,-0.022933778653731186,-0.11502777977637178,0.0004669137029884525,-0.07463897352345686,1.0,-0.10720723646195539],[-0.4214994734212264,0.48449545381299736,-0.5716966078249491,0.7086603428603273,-0.34859562290686996,-0.42418913150798826,-0.47172702364110397,0.1168039391967749,-0.5636789035201835,-0.6269683460330203,0.6787118948309115,-0.6857597527968392,-0.01961631696717612,-0.7501645309953089,-0.05616723085459275,-0.5808689541749057,-0.550619275036417,-0.45010689569955575,0.2704771648297688,0.1773750653500425,0.11135990180848666,0.0435257838611906,-0.053439943063829515,-0.08842087600993581,0.030024914294879107,0.08665760397209457,0.1186432332295139,0.08123766540129788,-0.10720723646195539,1.0]],\"type\":\"heatmap\",\"xaxis\":\"x\",\"yaxis\":\"y\",\"hovertemplate\":\"x: %{x}\\u003cbr\\u003ey: %{y}\\u003cbr\\u003ecolor: %{z}\\u003cextra\\u003e\\u003c\\u002fextra\\u003e\"}],                        {\"template\":{\"data\":{\"histogram2dcontour\":[{\"type\":\"histogram2dcontour\",\"colorbar\":{\"outlinewidth\":0,\"ticks\":\"\"},\"colorscale\":[[0.0,\"#0d0887\"],[0.1111111111111111,\"#46039f\"],[0.2222222222222222,\"#7201a8\"],[0.3333333333333333,\"#9c179e\"],[0.4444444444444444,\"#bd3786\"],[0.5555555555555556,\"#d8576b\"],[0.6666666666666666,\"#ed7953\"],[0.7777777777777778,\"#fb9f3a\"],[0.8888888888888888,\"#fdca26\"],[1.0,\"#f0f921\"]]}],\"choropleth\":[{\"type\":\"choropleth\",\"colorbar\":{\"outlinewidth\":0,\"ticks\":\"\"}}],\"histogram2d\":[{\"type\":\"histogram2d\",\"colorbar\":{\"outlinewidth\":0,\"ticks\":\"\"},\"colorscale\":[[0.0,\"#0d0887\"],[0.1111111111111111,\"#46039f\"],[0.2222222222222222,\"#7201a8\"],[0.3333333333333333,\"#9c179e\"],[0.4444444444444444,\"#bd3786\"],[0.5555555555555556,\"#d8576b\"],[0.6666666666666666,\"#ed7953\"],[0.7777777777777778,\"#fb9f3a\"],[0.8888888888888888,\"#fdca26\"],[1.0,\"#f0f921\"]]}],\"heatmap\":[{\"type\":\"heatmap\",\"colorbar\":{\"outlinewidth\":0,\"ticks\":\"\"},\"colorscale\":[[0.0,\"#0d0887\"],[0.1111111111111111,\"#46039f\"],[0.2222222222222222,\"#7201a8\"],[0.3333333333333333,\"#9c179e\"],[0.4444444444444444,\"#bd3786\"],[0.5555555555555556,\"#d8576b\"],[0.6666666666666666,\"#ed7953\"],[0.7777777777777778,\"#fb9f3a\"],[0.8888888888888888,\"#fdca26\"],[1.0,\"#f0f921\"]]}],\"heatmapgl\":[{\"type\":\"heatmapgl\",\"colorbar\":{\"outlinewidth\":0,\"ticks\":\"\"},\"colorscale\":[[0.0,\"#0d0887\"],[0.1111111111111111,\"#46039f\"],[0.2222222222222222,\"#7201a8\"],[0.3333333333333333,\"#9c179e\"],[0.4444444444444444,\"#bd3786\"],[0.5555555555555556,\"#d8576b\"],[0.6666666666666666,\"#ed7953\"],[0.7777777777777778,\"#fb9f3a\"],[0.8888888888888888,\"#fdca26\"],[1.0,\"#f0f921\"]]}],\"contourcarpet\":[{\"type\":\"contourcarpet\",\"colorbar\":{\"outlinewidth\":0,\"ticks\":\"\"}}],\"contour\":[{\"type\":\"contour\",\"colorbar\":{\"outlinewidth\":0,\"ticks\":\"\"},\"colorscale\":[[0.0,\"#0d0887\"],[0.1111111111111111,\"#46039f\"],[0.2222222222222222,\"#7201a8\"],[0.3333333333333333,\"#9c179e\"],[0.4444444444444444,\"#bd3786\"],[0.5555555555555556,\"#d8576b\"],[0.6666666666666666,\"#ed7953\"],[0.7777777777777778,\"#fb9f3a\"],[0.8888888888888888,\"#fdca26\"],[1.0,\"#f0f921\"]]}],\"surface\":[{\"type\":\"surface\",\"colorbar\":{\"outlinewidth\":0,\"ticks\":\"\"},\"colorscale\":[[0.0,\"#0d0887\"],[0.1111111111111111,\"#46039f\"],[0.2222222222222222,\"#7201a8\"],[0.3333333333333333,\"#9c179e\"],[0.4444444444444444,\"#bd3786\"],[0.5555555555555556,\"#d8576b\"],[0.6666666666666666,\"#ed7953\"],[0.7777777777777778,\"#fb9f3a\"],[0.8888888888888888,\"#fdca26\"],[1.0,\"#f0f921\"]]}],\"mesh3d\":[{\"type\":\"mesh3d\",\"colorbar\":{\"outlinewidth\":0,\"ticks\":\"\"}}],\"scatter\":[{\"fillpattern\":{\"fillmode\":\"overlay\",\"size\":10,\"solidity\":0.2},\"type\":\"scatter\"}],\"parcoords\":[{\"type\":\"parcoords\",\"line\":{\"colorbar\":{\"outlinewidth\":0,\"ticks\":\"\"}}}],\"scatterpolargl\":[{\"type\":\"scatterpolargl\",\"marker\":{\"colorbar\":{\"outlinewidth\":0,\"ticks\":\"\"}}}],\"bar\":[{\"error_x\":{\"color\":\"#2a3f5f\"},\"error_y\":{\"color\":\"#2a3f5f\"},\"marker\":{\"line\":{\"color\":\"#E5ECF6\",\"width\":0.5},\"pattern\":{\"fillmode\":\"overlay\",\"size\":10,\"solidity\":0.2}},\"type\":\"bar\"}],\"scattergeo\":[{\"type\":\"scattergeo\",\"marker\":{\"colorbar\":{\"outlinewidth\":0,\"ticks\":\"\"}}}],\"scatterpolar\":[{\"type\":\"scatterpolar\",\"marker\":{\"colorbar\":{\"outlinewidth\":0,\"ticks\":\"\"}}}],\"histogram\":[{\"marker\":{\"pattern\":{\"fillmode\":\"overlay\",\"size\":10,\"solidity\":0.2}},\"type\":\"histogram\"}],\"scattergl\":[{\"type\":\"scattergl\",\"marker\":{\"colorbar\":{\"outlinewidth\":0,\"ticks\":\"\"}}}],\"scatter3d\":[{\"type\":\"scatter3d\",\"line\":{\"colorbar\":{\"outlinewidth\":0,\"ticks\":\"\"}},\"marker\":{\"colorbar\":{\"outlinewidth\":0,\"ticks\":\"\"}}}],\"scattermapbox\":[{\"type\":\"scattermapbox\",\"marker\":{\"colorbar\":{\"outlinewidth\":0,\"ticks\":\"\"}}}],\"scatterternary\":[{\"type\":\"scatterternary\",\"marker\":{\"colorbar\":{\"outlinewidth\":0,\"ticks\":\"\"}}}],\"scattercarpet\":[{\"type\":\"scattercarpet\",\"marker\":{\"colorbar\":{\"outlinewidth\":0,\"ticks\":\"\"}}}],\"carpet\":[{\"aaxis\":{\"endlinecolor\":\"#2a3f5f\",\"gridcolor\":\"white\",\"linecolor\":\"white\",\"minorgridcolor\":\"white\",\"startlinecolor\":\"#2a3f5f\"},\"baxis\":{\"endlinecolor\":\"#2a3f5f\",\"gridcolor\":\"white\",\"linecolor\":\"white\",\"minorgridcolor\":\"white\",\"startlinecolor\":\"#2a3f5f\"},\"type\":\"carpet\"}],\"table\":[{\"cells\":{\"fill\":{\"color\":\"#EBF0F8\"},\"line\":{\"color\":\"white\"}},\"header\":{\"fill\":{\"color\":\"#C8D4E3\"},\"line\":{\"color\":\"white\"}},\"type\":\"table\"}],\"barpolar\":[{\"marker\":{\"line\":{\"color\":\"#E5ECF6\",\"width\":0.5},\"pattern\":{\"fillmode\":\"overlay\",\"size\":10,\"solidity\":0.2}},\"type\":\"barpolar\"}],\"pie\":[{\"automargin\":true,\"type\":\"pie\"}]},\"layout\":{\"autotypenumbers\":\"strict\",\"colorway\":[\"#636efa\",\"#EF553B\",\"#00cc96\",\"#ab63fa\",\"#FFA15A\",\"#19d3f3\",\"#FF6692\",\"#B6E880\",\"#FF97FF\",\"#FECB52\"],\"font\":{\"color\":\"#2a3f5f\"},\"hovermode\":\"closest\",\"hoverlabel\":{\"align\":\"left\"},\"paper_bgcolor\":\"white\",\"plot_bgcolor\":\"#E5ECF6\",\"polar\":{\"bgcolor\":\"#E5ECF6\",\"angularaxis\":{\"gridcolor\":\"white\",\"linecolor\":\"white\",\"ticks\":\"\"},\"radialaxis\":{\"gridcolor\":\"white\",\"linecolor\":\"white\",\"ticks\":\"\"}},\"ternary\":{\"bgcolor\":\"#E5ECF6\",\"aaxis\":{\"gridcolor\":\"white\",\"linecolor\":\"white\",\"ticks\":\"\"},\"baxis\":{\"gridcolor\":\"white\",\"linecolor\":\"white\",\"ticks\":\"\"},\"caxis\":{\"gridcolor\":\"white\",\"linecolor\":\"white\",\"ticks\":\"\"}},\"coloraxis\":{\"colorbar\":{\"outlinewidth\":0,\"ticks\":\"\"}},\"colorscale\":{\"sequential\":[[0.0,\"#0d0887\"],[0.1111111111111111,\"#46039f\"],[0.2222222222222222,\"#7201a8\"],[0.3333333333333333,\"#9c179e\"],[0.4444444444444444,\"#bd3786\"],[0.5555555555555556,\"#d8576b\"],[0.6666666666666666,\"#ed7953\"],[0.7777777777777778,\"#fb9f3a\"],[0.8888888888888888,\"#fdca26\"],[1.0,\"#f0f921\"]],\"sequentialminus\":[[0.0,\"#0d0887\"],[0.1111111111111111,\"#46039f\"],[0.2222222222222222,\"#7201a8\"],[0.3333333333333333,\"#9c179e\"],[0.4444444444444444,\"#bd3786\"],[0.5555555555555556,\"#d8576b\"],[0.6666666666666666,\"#ed7953\"],[0.7777777777777778,\"#fb9f3a\"],[0.8888888888888888,\"#fdca26\"],[1.0,\"#f0f921\"]],\"diverging\":[[0,\"#8e0152\"],[0.1,\"#c51b7d\"],[0.2,\"#de77ae\"],[0.3,\"#f1b6da\"],[0.4,\"#fde0ef\"],[0.5,\"#f7f7f7\"],[0.6,\"#e6f5d0\"],[0.7,\"#b8e186\"],[0.8,\"#7fbc41\"],[0.9,\"#4d9221\"],[1,\"#276419\"]]},\"xaxis\":{\"gridcolor\":\"white\",\"linecolor\":\"white\",\"ticks\":\"\",\"title\":{\"standoff\":15},\"zerolinecolor\":\"white\",\"automargin\":true,\"zerolinewidth\":2},\"yaxis\":{\"gridcolor\":\"white\",\"linecolor\":\"white\",\"ticks\":\"\",\"title\":{\"standoff\":15},\"zerolinecolor\":\"white\",\"automargin\":true,\"zerolinewidth\":2},\"scene\":{\"xaxis\":{\"backgroundcolor\":\"#E5ECF6\",\"gridcolor\":\"white\",\"linecolor\":\"white\",\"showbackground\":true,\"ticks\":\"\",\"zerolinecolor\":\"white\",\"gridwidth\":2},\"yaxis\":{\"backgroundcolor\":\"#E5ECF6\",\"gridcolor\":\"white\",\"linecolor\":\"white\",\"showbackground\":true,\"ticks\":\"\",\"zerolinecolor\":\"white\",\"gridwidth\":2},\"zaxis\":{\"backgroundcolor\":\"#E5ECF6\",\"gridcolor\":\"white\",\"linecolor\":\"white\",\"showbackground\":true,\"ticks\":\"\",\"zerolinecolor\":\"white\",\"gridwidth\":2}},\"shapedefaults\":{\"line\":{\"color\":\"#2a3f5f\"}},\"annotationdefaults\":{\"arrowcolor\":\"#2a3f5f\",\"arrowhead\":0,\"arrowwidth\":1},\"geo\":{\"bgcolor\":\"white\",\"landcolor\":\"#E5ECF6\",\"subunitcolor\":\"white\",\"showland\":true,\"showlakes\":true,\"lakecolor\":\"white\"},\"title\":{\"x\":0.05},\"mapbox\":{\"style\":\"light\"}}},\"xaxis\":{\"anchor\":\"y\",\"domain\":[0.0,1.0]},\"yaxis\":{\"anchor\":\"x\",\"domain\":[0.0,1.0],\"autorange\":\"reversed\"},\"coloraxis\":{\"colorscale\":[[0.0,\"rgb(5,48,97)\"],[0.1,\"rgb(33,102,172)\"],[0.2,\"rgb(67,147,195)\"],[0.3,\"rgb(146,197,222)\"],[0.4,\"rgb(209,229,240)\"],[0.5,\"rgb(247,247,247)\"],[0.6,\"rgb(253,219,199)\"],[0.7,\"rgb(244,165,130)\"],[0.8,\"rgb(214,96,77)\"],[0.9,\"rgb(178,24,43)\"],[1.0,\"rgb(103,0,31)\"]]},\"margin\":{\"t\":60}},                        {\"responsive\": true}                    ).then(function(){\n",
              "                            \n",
              "var gd = document.getElementById('2b37934c-8e18-491d-bd9d-b851458bfb34');\n",
              "var x = new MutationObserver(function (mutations, observer) {{\n",
              "        var display = window.getComputedStyle(gd).display;\n",
              "        if (!display || display === 'none') {{\n",
              "            console.log([gd, 'removed!']);\n",
              "            Plotly.purge(gd);\n",
              "            observer.disconnect();\n",
              "        }}\n",
              "}});\n",
              "\n",
              "// Listen for the removal of the full notebook cells\n",
              "var notebookContainer = gd.closest('#notebook-container');\n",
              "if (notebookContainer) {{\n",
              "    x.observe(notebookContainer, {childList: true});\n",
              "}}\n",
              "\n",
              "// Listen for the clearing of the current output cell\n",
              "var outputEl = gd.closest('.output');\n",
              "if (outputEl) {{\n",
              "    x.observe(outputEl, {childList: true});\n",
              "}}\n",
              "\n",
              "                        })                };                            </script>        </div>\n",
              "</body>\n",
              "</html>"
            ]
          },
          "metadata": {}
        }
      ],
      "source": [
        "corr = new_df.corr()\n",
        "fig=px.imshow(corr, aspect=\"auto\" ,color_continuous_scale='RdBu_r')\n",
        "fig.show()"
      ]
    },
    {
      "cell_type": "markdown",
      "id": "a7c45385",
      "metadata": {
        "id": "a7c45385"
      },
      "source": [
        "Negative Correlations: V17, V14, V12 and V10 are negatively correlated.  \n",
        "Positive Correlations: V2, V4, V11 are positively correlated."
      ]
    },
    {
      "cell_type": "markdown",
      "source": [
        "Note-Used chatgpt to understand the correlations. As the features are anonymised it was difficult to conclude and get relationship and dependency on eachother."
      ],
      "metadata": {
        "id": "LVci2pIEznRZ"
      },
      "id": "LVci2pIEznRZ"
    },
    {
      "cell_type": "code",
      "execution_count": null,
      "id": "Mzekq9GppDUe",
      "metadata": {
        "colab": {
          "base_uri": "https://localhost:8080/"
        },
        "id": "Mzekq9GppDUe",
        "outputId": "5c1ec7fa-c87c-4f46-9c6a-602364363f49"
      },
      "outputs": [
        {
          "output_type": "stream",
          "name": "stdout",
          "text": [
            "Highly Correlated Feature Pairs (|r| > 0.9):\n",
            "V16 ↔ V17: r = 0.95\n",
            "V16 ↔ V18: r = 0.90\n",
            "V17 ↔ V18: r = 0.94\n"
          ]
        }
      ],
      "source": [
        "# Calculate absolute correlation matrix (optional: choose df or new_df)\n",
        "corr_matrix = new_df.corr().abs()\n",
        "\n",
        "# Select upper triangle of correlation matrix to avoid duplicates and self-correlation\n",
        "upper = corr_matrix.where(np.triu(np.ones(corr_matrix.shape), k=1).astype(bool))\n",
        "\n",
        "# Set threshold\n",
        "threshold = 0.9\n",
        "\n",
        "# Find feature pairs with high correlation\n",
        "high_corr_pairs = [(col1, col2, corr_matrix.loc[col1, col2])\n",
        "                   for col1 in upper.columns\n",
        "                   for col2 in upper.columns\n",
        "                   if (upper.loc[col1, col2] > threshold)]\n",
        "\n",
        "# Display results\n",
        "print(\"Highly Correlated Feature Pairs (|r| > 0.9):\")\n",
        "for f1, f2, corr_value in high_corr_pairs:\n",
        "    print(f\"{f1} ↔ {f2}: r = {corr_value:.2f}\")"
      ]
    },
    {
      "cell_type": "markdown",
      "source": [
        "Reference-https://data36.com/correlation-definition-calculation-corr-pandas/"
      ],
      "metadata": {
        "id": "qmdJmMULzrY4"
      },
      "id": "qmdJmMULzrY4"
    },
    {
      "cell_type": "markdown",
      "id": "09014a1a",
      "metadata": {
        "id": "09014a1a"
      },
      "source": [
        "### TSNE"
      ]
    },
    {
      "cell_type": "code",
      "execution_count": null,
      "id": "64e561a6",
      "metadata": {
        "id": "64e561a6"
      },
      "outputs": [],
      "source": [
        "from sklearn.manifold import TSNE\n",
        "X = new_df.drop('Class', axis=1)\n",
        "y = new_df['Class']\n",
        "\n",
        "# T-SNE Implementation\n",
        "X_reduced_tsne = TSNE(n_components=2, random_state=42).fit_transform(X.values)"
      ]
    },
    {
      "cell_type": "code",
      "execution_count": null,
      "id": "1b1e39a4",
      "metadata": {
        "colab": {
          "base_uri": "https://localhost:8080/",
          "height": 542
        },
        "id": "1b1e39a4",
        "outputId": "fe181ca0-6de9-4cd9-c225-05328c0704e6"
      },
      "outputs": [
        {
          "output_type": "display_data",
          "data": {
            "text/html": [
              "<html>\n",
              "<head><meta charset=\"utf-8\" /></head>\n",
              "<body>\n",
              "    <div>            <script src=\"https://cdnjs.cloudflare.com/ajax/libs/mathjax/2.7.5/MathJax.js?config=TeX-AMS-MML_SVG\"></script><script type=\"text/javascript\">if (window.MathJax && window.MathJax.Hub && window.MathJax.Hub.Config) {window.MathJax.Hub.Config({SVG: {font: \"STIX-Web\"}});}</script>                <script type=\"text/javascript\">window.PlotlyConfig = {MathJaxConfig: 'local'};</script>\n",
              "        <script charset=\"utf-8\" src=\"https://cdn.plot.ly/plotly-2.35.2.min.js\"></script>                <div id=\"16b71ce1-1c8b-4cd3-acdb-286d410013dd\" class=\"plotly-graph-div\" style=\"height:525px; width:100%;\"></div>            <script type=\"text/javascript\">                                    window.PLOTLYENV=window.PLOTLYENV || {};                                    if (document.getElementById(\"16b71ce1-1c8b-4cd3-acdb-286d410013dd\")) {                    Plotly.newPlot(                        \"16b71ce1-1c8b-4cd3-acdb-286d410013dd\",                        [{\"hovertemplate\":\"x=%{x}\\u003cbr\\u003ey=%{y}\\u003cbr\\u003ecolor=%{marker.color}\\u003cextra\\u003e\\u003c\\u002fextra\\u003e\",\"legendgroup\":\"\",\"marker\":{\"color\":[0,1,1,1,1,1,1,1,1,1,1,1,1,0,0,1,1,1,1,0,0,0,0,0,0,1,1,1,0,0,0,0,0,1,0,0,0,0,0,0,1,1,1,0,0,1,1,1,0,0,0,1,0,1,1,1,0,0,1,0,0,0,0,1,0,1,0,0,1,0,1,0,1,1,0,0,1,0,1,0,0,0,0,1,0,0,1,0,0,0,1,0,0,0,1,0,1,0,1,0,1,1,1,1,1,0,1,1,0,0,0,1,1,0,0,0,1,0,1,1,0,0,0,0,0,1,0,0,1,0,0,0,0,1,0,1,1,1,0,1,1,1,1,0,1,1,0,1,0,1,1,1,0,0,1,0,0,0,0,1,1,0,1,0,1,0,1,0,1,1,1,0,0,0,0,1,0,1,0,0,1,0,0,0,1,0,0,1,0,1,0,1,1,0,1,1,0,1,0,1,1,0,1,1,1,1,0,1,1,0,0,1,1,1,0,1,0,1,1,1,0,0,0,0,1,0,1,0,0,0,0,1,0,1,1,1,1,1,1,1,0,0,1,0,1,1,1,1,0,0,0,0,1,1,1,0,0,0,0,1,0,1,0,1,1,1,0,1,0,1,1,1,1,0,0,1,1,0,0,0,1,0,0,1,0,0,1,0,0,0,0,0,1,1,0,1,1,1,1,0,1,0,1,1,0,0,0,1,0,0,0,0,0,1,1,1,1,1,0,1,0,1,1,0,1,1,1,1,0,1,1,0,1,1,1,0,1,1,0,1,1,1,1,1,0,1,1,0,0,1,1,0,1,1,1,0,1,0,1,1,1,0,1,0,1,1,1,0,1,1,0,0,0,1,1,0,0,0,1,0,0,0,0,1,0,0,0,1,1,1,0,1,1,1,1,0,1,1,1,1,1,0,1,0,0,1,0,0,0,1,0,0,0,0,0,1,1,0,0,0,1,1,1,1,0,0,1,1,1,1,0,1,1,0,1,1,0,0,0,0,0,0,1,1,1,0,1,1,1,1,0,0,0,0,1,1,1,1,1,0,0,0,1,1,0,0,0,1,1,0,1,0,1,1,0,1,0,0,0,0,1,1,1,1,0,1,0,1,1,1,1,1,0,0,0,0,1,1,0,0,0,1,0,0,1,1,1,0,0,1,0,0,1,0,1,1,1,0,1,1,1,1,0,1,0,0,0,0,1,1,0,0,1,0,0,1,1,1,1,1,0,0,0,1,1,0,1,1,0,1,1,0,1,1,0,1,1,1,0,1,1,0,0,0,1,0,0,1,1,1,0,0,0,0,1,1,0,0,0,1,1,1,1,0,0,1,1,0,1,1,0,0,0,0,0,0,0,1,0,1,0,1,1,0,1,0,0,0,0,0,1,0,0,1,1,0,1,0,1,1,1,0,1,1,0,0,0,1,0,0,0,0,0,0,0,1,0,1,0,0,0,1,1,0,1,1,1,0,0,0,1,1,1,1,0,1,0,0,1,0,1,1,0,1,1,0,0,0,0,0,1,0,1,1,1,0,0,0,0,0,0,1,1,0,0,0,0,1,1,1,1,1,0,0,1,0,1,0,1,1,1,1,1,1,1,1,1,0,0,0,1,0,1,0,0,0,1,0,0,0,0,0,0,0,0,1,0,0,1,0,1,0,1,0,1,0,0,0,1,0,0,1,0,0,1,0,1,0,0,1,1,0,0,0,1,1,1,1,0,0,1,1,0,0,0,0,0,0,0,0,0,0,0,0,1,1,0,1,0,1,0,1,0,0,0,0,0,0,1,0,1,0,0,0,1,0,0,1,1,0,1,0,0,1,1,0,0,0,0,0,0,0,0,1,0,0,0,1,0,1,1,0,1,1,1,0,1,0,0,1,1,1,0,1,0,0,1,1,1,0,1,0,0,0,1,0,1,1,1,0,1,1,0,1,0,1,1,0,0,0,1,0,1,0,1,1,0,0,0,1,1,1,0,0,1,0,0,0,0,1,0,1,1,0,0,0,1,1,1,0,0,1,1,1,1,1,0,1,0,1,1,1,0,1,1,1,0,0,0,0,0,0,0,0,1,0,0,0,0,1,0,0,0,0,0,1,0,0,0,0,1,1,1,1,1,1,1,1,0,1,0,1,0,1,0,1,0,0,1,1,1,1,1,1,1,1,0,1,0,1,1,1,0,1,1],\"coloraxis\":\"coloraxis\",\"symbol\":\"circle\"},\"mode\":\"markers\",\"name\":\"\",\"orientation\":\"v\",\"showlegend\":false,\"x\":[35.69325,-42.547237,-47.917442,-45.364983,10.304301,-41.56852,-23.88049,-27.780685,-32.53643,-35.33934,-7.388259,-36.493748,7.6668468,11.698964,9.441065,-26.68809,-22.67347,31.003061,-40.63767,27.071913,34.50034,19.342913,23.106422,25.224,14.832387,-26.972134,-42.039837,-40.732414,34.47961,23.92969,15.390535,18.925222,8.448447,-17.960052,32.76605,19.252567,17.024994,19.392138,4.5702896,28.336836,-32.783207,10.978492,-40.844963,13.302177,13.187654,-40.28273,-44.518486,-31.327652,33.924694,-24.91655,28.821083,-36.489132,10.958123,-51.775635,7.23851,-31.193491,16.350006,20.62422,-29.961367,34.684376,27.173395,43.48611,26.40407,-35.95441,33.24183,-40.54699,28.553083,14.102672,-6.4193287,34.7984,-40.30355,12.676034,-0.82330984,-34.188805,15.171602,13.328804,-26.225895,8.181624,-0.39814717,25.757889,22.74468,10.9359045,33.362206,-22.152777,17.420942,19.053785,-41.00749,29.009123,24.156988,12.461249,-37.55624,27.18233,17.740196,16.896076,-35.720776,12.8171425,-18.117207,17.821321,1.5151296,12.480242,-40.809826,-40.951656,-45.175716,-35.258175,-36.406002,25.83192,25.698544,24.950783,15.248892,21.560472,0.5080141,-36.743214,-33.612434,33.897945,2.539551,19.658802,-42.43589,17.537016,-17.949125,-22.616888,23.035397,3.877586,12.266529,16.565058,14.181344,-48.074547,16.03838,22.243427,16.165663,24.063408,31.089115,16.711563,22.602295,-48.714176,18.723667,-23.854895,-26.276512,1.3146805,11.17585,-33.67298,-35.582935,-26.468597,2.4102163,35.284637,-34.894287,4.3298454,28.693556,-31.325377,10.839725,19.481543,-5.3667293,-5.1385503,34.35097,16.6364,-21.937609,33.606014,5.8794465,12.117319,18.214771,-47.251507,-27.973263,29.632565,-29.729176,14.349149,7.219704,17.965666,-24.70843,14.876312,-42.16137,-0.9308251,-49.553474,14.217891,1.0878541,11.696765,16.77526,-30.655409,12.129488,-4.0799603,22.073421,13.049779,-47.80213,29.844265,24.202656,29.555803,13.77907,35.700687,27.70014,-29.779173,15.967947,-49.78159,3.4206383,-4.7470913,-26.81585,8.109938,-25.492788,-33.85663,18.554764,-44.005745,14.375662,13.449763,25.020988,13.53863,-6.769449,7.231026,-29.886305,1.7038093,6.5242696,-27.16746,-44.36972,24.8572,19.044987,-30.81191,-2.367348,-36.002483,10.109653,-44.108185,-3.4637551,-36.97773,31.77135,-50.4117,15.620808,29.001474,21.55094,31.013523,-46.85437,14.875613,-41.266285,28.778873,29.587934,17.442068,21.912477,-28.940308,25.868908,-26.968777,-31.442904,-49.31514,-34.62895,-34.12435,6.7084193,-41.892258,10.606713,16.274538,-34.031384,28.692234,-41.104034,-32.248627,-46.596897,-36.041397,15.210019,19.24487,6.7791367,7.1091814,-22.847033,3.9481452,-38.81479,32.63166,15.940433,22.508612,20.941,-7.3514886,17.251255,12.205737,9.870672,-47.257786,11.991027,-4.9129243,12.453287,5.8140707,21.30427,-32.957016,-38.393463,-36.46078,-22.097338,17.424696,11.494827,-35.072296,-31.267006,9.360063,9.288619,36.239025,-18.134306,26.818125,17.946335,-43.30063,17.79934,4.0816975,9.788215,35.509613,14.668301,40.031376,42.869,6.207334,-43.008816,-48.654068,18.084152,-9.634219,-35.731937,-31.018204,-36.342983,35.286453,-31.092733,12.927698,-30.397299,-21.914284,10.400935,11.714138,3.3448362,-31.682865,21.378891,18.340626,15.620977,5.458984,19.725359,18.276451,-34.160355,-44.30885,-38.44407,-39.93457,13.090806,-37.0671,35.592346,-33.03854,8.592903,28.02337,-33.054146,-44.188347,-35.78422,-43.383816,16.234331,-36.126343,-50.410206,34.455112,-27.030504,-36.1859,-9.475115,25.969519,-49.719826,-47.90921,13.962126,-36.347443,-21.42604,-18.130737,-36.646168,-37.549603,16.030718,-34.907215,-42.341064,29.290445,24.915768,-28.397161,-47.879734,42.110504,-42.798965,-33.88199,-7.4941673,41.537086,-40.067226,9.821638,0.84088075,-37.51858,-7.367417,12.801407,-25.050184,9.237011,-40.479877,-41.495388,-46.84276,4.4658847,-42.634357,-37.02673,28.023094,2.258481,15.855855,-30.731974,-25.16862,12.567263,11.177186,15.306738,-46.900173,-4.699578,29.5047,1.7501878,12.464951,-29.985903,26.233414,14.839945,20.805948,11.083739,-48.993538,-37.346096,13.530123,-40.41287,1.5813328,25.254826,-40.6815,16.019995,11.066408,-47.6965,-34.65199,8.809514,18.89877,21.88462,17.129475,15.121321,19.206999,25.140642,24.513899,39.9032,17.853958,-27.773771,13.996587,19.604534,19.615923,14.505826,24.432999,-38.281902,-21.564444,28.723759,17.123022,25.053698,-22.660625,-42.962517,-23.775436,-34.8546,14.653425,21.670647,13.673146,-19.586845,-39.700367,-35.187683,9.807721,-36.6303,-4.4826446,18.709967,-41.986454,-26.017586,35.455193,19.164278,19.963715,27.68933,17.587084,-2.7450347,-37.92428,-33.526554,-34.592834,20.512625,-32.49153,-40.845158,-50.95956,-43.973206,23.982782,16.611156,22.300884,13.056648,-41.04628,0.73986167,9.161938,4.305673,-41.75593,18.254873,29.738153,6.197809,-30.53598,-34.65568,39.976498,19.722855,14.232672,-34.270733,-4.6957207,10.24293,-25.119719,26.1446,17.37016,-6.6359286,28.869038,-33.16605,13.929105,11.702843,9.005884,13.147681,-28.166822,-34.922184,-24.851368,-35.276585,22.226526,-41.104515,7.7704773,-49.416595,-47.204056,-36.503044,-45.55696,-4.054302,31.423426,32.36762,41.252773,41.3349,-23.48469,-24.862955,6.878981,9.747335,34.046852,-37.288918,34.095978,11.980106,0.9035449,-41.38811,-1.8846862,-1.4765754,25.848541,-24.872671,26.546751,4.4843907,-50.048176,19.263548,-35.569275,-30.92505,-31.924772,12.046797,-49.384228,-43.868324,-23.580948,-48.780884,25.803497,-31.745407,14.795968,33.603004,21.536713,13.318746,-35.57163,-29.211071,30.680141,5.8528166,-27.950785,8.26887,13.899933,-35.538925,-38.032887,-32.576435,-37.995472,-38.240307,15.239149,21.981398,13.336098,-29.880056,1.5171145,14.859739,-27.997547,-28.760475,35.523853,-28.89923,-37.40448,17.510796,-29.22724,-26.342548,20.450935,-39.860023,-35.356915,-40.860413,1.2071488,-39.878456,-32.911964,11.842273,19.1853,11.781479,-5.6276054,16.787008,35.557594,-42.575092,-43.332428,8.210368,13.446252,9.831441,11.978576,10.249475,-31.449236,-25.998795,7.8718414,24.095451,25.019117,6.163172,-46.930347,-24.21315,-23.824354,14.391086,27.980974,-20.533716,-31.190296,6.497771,-30.862587,-26.998747,3.7942255,15.3139715,24.951181,11.516727,7.418307,18.83864,14.910564,-33.024925,26.870144,-33.731174,17.267393,-43.963634,-36.423344,34.474907,-51.684505,20.989107,8.898061,24.488054,24.60549,8.571217,-6.5908732,18.796715,30.48252,-25.106878,-20.768442,13.030308,-0.38730747,40.163647,-5.6047854,-23.989252,-42.06543,10.033012,-30.700043,-35.1382,22.58521,37.436783,32.90785,-3.6889505,9.263569,42.52826,33.85495,3.7739491,9.115815,11.708056,17.558903,-50.458546,7.227285,-20.612402,11.6695,22.90866,26.740995,-42.82463,-42.68341,31.939703,-41.125515,22.662083,-42.60764,23.230465,36.18143,13.4166975,-41.80738,-39.733284,-26.080446,-9.626746,40.003143,-25.53503,11.1124325,26.72277,-3.0796514,21.785673,-37.896744,-37.20379,14.175251,-4.5971665,-32.237385,22.58548,28.06221,42.829178,7.420195,25.616392,-36.060867,16.370499,-23.714592,-37.37721,-39.401787,33.59251,19.50281,20.716955,15.831136,27.662575,27.169552,-40.216007,-33.93492,1.383983,13.554067,7.63384,11.784013,-33.4334,-37.010178,-35.031097,-41.234238,-1.0860543,43.17814,4.3188257,0.7689107,12.39868,-30.93291,18.3086,-46.6729,3.032593,-32.457775,-31.740818,3.8360164,-30.181976,-5.9851522,-25.383972,-30.487947,14.532278,26.99096,-1.770388,-31.135633,20.525103,-41.272263,3.0512533,13.22612,37.172245,-34.729057,10.407831,19.211664,-1.5275899,7.73161,14.041532,19.682364,29.522144,29.794168,-37.364258,23.503008,36.160614,-20.980404,34.503178,-27.169548,26.73994,-7.357816,34.96206,-47.773758,13.577231,20.69333,10.809754,-35.05966,13.869766,27.93097,-40.36057,16.333149,26.334223,-25.793507,16.275654,-23.496817,14.300612,43.468,-32.152546,-50.910854,12.678889,22.754156,15.388021,16.853844,6.679136,17.055859,-37.49708,10.121635,-0.55424786,-37.050236,-27.080967,20.386545,6.767849,12.054733,13.193684,16.274157,21.245178,20.882204,34.957317,10.265086,15.428426,14.701944,25.29313,-38.837627,-27.098742,12.439282,-31.983034,18.514154,-44.973686,18.645355,-26.003777,17.584957,21.335108,40.726326,5.5494328,20.650366,9.676546,-49.472946,16.3672,-24.788052,12.640262,18.732239,41.6942,-27.05282,6.2740636,12.8641405,-36.933105,-32.075672,22.605383,-38.60868,6.3994517,14.137841,24.643337,6.0381246,24.950653,21.227186,-3.0916164,18.75092,24.580519,16.969528,25.462477,24.429316,-43.150005,26.997444,19.029917,16.373152,-42.288227,34.474884,-22.85782,-19.771706,17.026232,-29.773933,-25.371887,-40.218357,18.54734,10.269246,7.0396957,4.1190715,-33.39377,-44.29891,-23.131535,9.322376,6.2162747,34.209198,36.91905,-24.565178,-33.432533,6.109429,34.276405,0.710288,18.020737,22.15762,24.591824,-34.06015,29.161598,-32.28615,-33.449722,8.170086,16.512293,-35.259,-36.463634,14.84172,-34.655308,31.335846,-26.000658,-24.226377,18.744997,17.02867,15.217874,-32.67603,6.255952,-21.594816,41.306587,-33.123844,-32.89215,26.975405,3.918162,20.409048,-3.9213805,-32.605503,-51.851685,16.047125,2.8942366,-30.916092,-3.1336126,20.66525,15.965558,44.29726,-36.442997,19.178085,-30.550087,-21.01615,12.763496,22.506067,-2.5574071,-26.754513,-38.023563,-42.281727,25.832823,16.618748,-35.760845,-37.86523,12.975231,-24.058798,-34.399895,9.862785,-30.2605,30.914566,-7.085321,13.134391,-25.145845,4.9535155,-7.1145973,-30.62545,5.0434275,7.912022,16.541985,12.085753,19.049196,10.974987,9.528522,25.394384,11.379066,-25.168543,30.268549,20.569975,5.525799,20.814789,-32.675575,11.659088,20.417635,6.155541,9.798219,23.514015,-29.879711,23.604223,33.659035,33.960003,-3.5602944,-20.437706,-31.424839,-37.525562,1.1718291,-36.41642,0.66839796,-30.292437,0.594494,19.49461,-31.998816,34.227383,-35.229668,9.815522,-29.215754,11.038997,-36.641117,10.695965,19.830967,-30.006042,-3.9143903,-24.92283,17.731081,-21.406157,-33.903893,-35.372578,-49.10267,14.165944,-48.92572,21.230635,-31.061745,-44.81709,-25.774664,24.616795,-30.410212,-35.527134],\"xaxis\":\"x\",\"y\":[-3.1357903,-11.539805,-4.0804887,-9.572863,3.202013,19.238585,-12.88684,-23.725866,32.444923,28.282188,-4.564978,-30.85535,18.754406,12.271505,-10.304956,-22.310059,-22.831682,-7.040161,18.928461,8.423526,-9.393797,-10.719725,16.763851,5.7241106,21.242174,-15.312142,-9.598974,20.00534,8.733482,12.101242,-18.19563,27.419329,-7.698922,-17.751423,-10.598419,21.978296,-6.2935495,24.31731,-9.673216,7.075948,29.62139,10.239692,-13.914265,22.42539,19.08959,27.185299,-11.809541,-30.716486,-1.7170411,-6.0745587,-1.005799,-24.990486,-12.925376,-12.5833435,19.07884,-7.8262115,-9.741607,12.981028,-28.46914,-3.502737,11.04022,11.58596,12.472863,-33.165623,-9.387647,-16.518791,-9.0330925,-5.0639825,-7.4281554,-4.6618457,20.14415,1.715155,-5.0206995,-13.184739,-2.1943185,20.110271,-15.563162,13.269638,-4.2183905,11.793938,-6.693156,15.363203,-1.7089816,-18.707441,11.839241,21.744816,25.96787,15.218315,12.787132,28.71102,24.234518,-1.1927655,-8.106566,17.57858,-13.00675,17.904636,-21.77751,-11.624116,0.52897376,-13.6663685,25.685123,-27.856667,-10.018658,-26.675808,24.102432,1.335585,-14.901719,14.3547945,16.305521,-14.282721,9.127475,-9.746331,-10.382796,7.1442595,5.793331,-10.525115,17.439428,-18.13371,-17.73684,-14.378139,16.677826,7.435967,-15.358746,-5.43481,14.090217,-4.456114,-8.754246,-10.453014,2.5606475,25.135258,-5.2727265,17.762392,-1.4668069,-11.291138,8.148048,-13.416535,-20.251135,-5.407663,15.093725,-10.352229,27.465813,-18.31016,4.316557,2.4164739,-31.355902,13.918496,-0.27023417,30.01779,21.247099,3.3228433,-5.74318,-2.7023973,-1.9706454,12.0187025,-15.542217,-0.4055224,25.741055,0.9276236,13.792024,-8.406506,-24.27763,-1.6878293,-32.054752,-2.8209467,-9.341428,26.132309,-18.985165,15.877499,25.639782,-5.0809727,-9.587891,26.284702,18.37966,12.318482,17.648386,-29.23068,5.0423417,-4.10063,21.324305,14.176746,-5.1786976,-7.9286466,12.674173,2.4093997,8.286017,-3.008292,-1.8891106,-33.201927,-18.0303,-9.2451,3.2530143,-3.8900623,-17.556581,16.083666,-7.0420156,-15.437747,3.1982937,-13.09158,-13.066966,9.470187,-14.074375,-2.39205,-6.707836,-9.8804,28.499365,24.268858,-11.106122,-14.453529,26.064514,15.573929,28.29476,31.868603,-3.9227493,-25.229416,15.4914,-13.082467,-2.1071227,30.20975,-7.574836,-14.661442,30.317947,15.205,-14.284729,-6.641052,-11.010642,-10.319037,17.361048,19.14714,21.311045,-8.053615,-3.874086,-24.923685,15.746126,-19.63416,-31.02896,-8.584656,29.293056,-13.183531,-5.7310643,17.282793,-12.395062,32.58271,30.24729,23.210152,19.516548,31.239355,-8.490862,29.133265,16.219957,-9.803405,-8.809586,14.644892,-10.3607855,26.521833,28.78416,-9.515768,23.999966,-9.918579,18.588938,15.05887,2.9107392,28.409538,-8.5418625,-9.463647,-5.0664663,16.712954,20.552208,14.237829,15.0999,29.504807,29.585974,27.595243,-12.443323,16.965137,23.55813,-25.959633,30.926939,-11.659034,20.569672,-0.9511631,-21.791191,3.9354796,-2.681783,25.940573,-9.40176,-5.038169,25.46772,-3.048024,13.336873,9.085408,11.006506,5.650664,-11.569126,-13.1379385,-0.7761063,14.79358,-32.985546,32.305893,30.572401,2.0870461,-16.250687,-5.4994226,-7.030866,-19.113163,4.4763613,-5.107075,3.2947955,-18.349895,-3.456605,27.266869,22.998829,23.918833,-4.198354,9.713867,-11.879991,26.062304,23.136398,-13.505423,-3.749837,23.980547,-2.3002388,30.945715,9.755769,5.9250336,-32.42947,-9.80541,-30.170671,-10.1947155,12.968255,-30.407082,-13.984079,8.813586,-22.334393,-26.434858,14.884208,23.332075,-11.470441,-12.826609,-8.981967,-20.66356,-15.214953,-21.505209,-26.067724,29.028788,30.916245,30.2398,-9.39345,17.737438,22.952127,-15.250498,-4.8594847,12.83465,-11.72576,31.682032,-6.4019628,12.173709,-11.687667,1.8952193,8.960419,-13.051542,15.946947,-12.172858,-18.82597,12.069137,-16.418144,-9.455954,-11.408338,26.07406,18.102478,-10.264212,0.36095223,5.9459405,-10.901181,30.515396,-16.610334,-13.642846,17.89309,-4.2997127,-10.672985,-1.2926517,-6.638237,6.3889656,5.5498576,28.333893,13.847529,-3.8979018,19.909737,23.043251,-14.322644,-21.634806,22.179796,19.536892,-5.97139,6.2002273,-28.273233,-10.236751,3.5697627,-4.634903,-31.932114,23.89859,15.005749,-4.5805492,3.6274323,23.377205,-9.109307,4.803687,2.169924,12.531439,-17.634958,-23.645926,-9.043094,-1.3821913,17.338848,-2.2202759,-12.656013,26.948442,-18.518,0.07943211,7.693955,9.598448,-15.97017,16.211243,-21.139036,-32.977394,-4.2590337,23.281328,9.088699,-13.832875,-16.929022,-19.226553,1.9379731,-30.62801,-3.2273386,19.653244,18.113638,-23.55431,-8.206317,16.11118,26.202866,-5.258001,-5.3544073,17.102898,29.062943,-16.738235,-9.449776,-6.1304502,-13.216864,18.223646,-10.349772,-13.95419,-8.584784,-12.682343,20.071793,-13.729292,-27.72893,-2.0190785,27.807383,0.71662825,-12.33566,-0.7600243,1.7963426,27.776045,-7.1692586,-19.860695,9.490938,-4.400277,-5.0655055,-20.040775,-3.5514848,-16.720602,-14.947423,20.475567,8.585033,-6.79876,21.854225,-14.295979,21.530678,-9.659786,19.04903,18.979364,-22.373404,31.034016,-25.291794,-31.260328,-0.8671519,25.735764,17.073875,-14.403222,-9.692727,29.929794,-9.076242,-4.0118027,-9.4037285,-6.3173275,12.000092,12.783548,-14.930737,-25.3358,14.449778,-3.17245,-9.406502,29.956842,8.249644,0.5105506,10.424803,17.98087,-4.8323746,-0.90662825,14.899715,-22.282648,-13.834152,-7.8053975,-7.9712176,23.65248,-16.189217,-31.022694,-28.807066,23.732874,-8.742577,25.915838,-17.168072,-12.954872,11.76145,-18.398642,-2.6305306,-7.0323305,-6.837937,-4.427036,27.434114,29.579447,-8.821474,15.344535,-18.992296,16.359152,-11.531871,29.672146,-19.964447,-33.537754,23.268444,24.026217,27.282957,18.533052,27.87032,-15.2682295,0.48285168,-9.761297,-22.46577,-24.788034,3.7682738,-13.776497,-19.982054,-5.221119,29.039648,-16.880068,11.166485,-16.214437,-26.99032,-27.981596,10.929799,-13.526173,-11.303886,-0.042532824,22.42556,20.819515,-5.6231675,24.684294,3.8994758,-9.369344,16.812061,12.855704,-13.024948,27.45221,-9.1519985,-14.609397,30.625471,-17.406172,-9.454988,19.886822,12.780937,-8.963566,-11.660421,-13.670189,-15.949102,19.150408,-5.685597,-13.399077,-21.79528,-11.081955,-33.301453,-19.19277,7.471294,-11.072382,4.511702,13.334425,-0.7343566,19.10413,17.515358,28.882692,22.137257,-30.930986,-6.0744224,-13.456197,-32.711887,-2.327156,-12.689588,14.41299,-10.019633,19.072872,-8.454092,-9.826827,-4.603224,-18.808615,-7.0351634,-18.064032,-15.159024,-3.2742891,-4.325955,8.73623,-3.3191879,-24.463333,18.732006,23.65543,-33.092876,-18.910229,-9.504702,-2.3735712,-9.640006,-5.8490567,-14.778085,11.627371,9.386098,-5.1511364,12.261463,-12.041621,22.891022,-13.81937,26.06903,-13.97678,15.4205675,20.804497,1.2021074,25.324741,16.800955,8.078203,-27.614536,-5.5744376,25.874601,21.74308,4.5309277,25.650627,16.631813,-13.6681385,-16.215586,14.797311,9.153385,-16.164785,15.9132185,16.368,14.456847,18.684374,23.929523,26.956144,-13.683827,-3.1973424,31.707142,-14.173495,5.787583,11.245797,-0.73503923,0.05805492,-30.02469,-18.10276,-20.942432,-20.022453,28.339527,7.4741583,-0.7893667,-6.1279902,21.815561,2.4744186,21.398869,25.97116,30.921041,11.27578,-4.4470687,10.75559,0.4877028,31.712765,-17.174883,-14.992854,26.341837,-4.2895694,9.325696,0.70253557,18.271286,18.214417,-18.222416,17.184511,-10.291755,1.1678482,-17.115269,-21.846212,-5.105448,-21.835808,-6.713538,-16.925537,-21.765411,-13.155039,8.547367,18.18758,-13.44331,-8.1321745,18.728636,2.7195017,-6.3029675,0.20508465,-14.735884,-11.988624,16.309803,18.187355,12.232197,14.637551,-10.676674,2.2312968,-1.6519676,-21.657639,17.522448,4.85019,-21.249035,-8.667027,-12.843038,0.772803,15.94549,-1.0624107,-4.2264943,19.462952,17.057323,-13.352993,24.703632,24.320831,0.82440597,27.180851,-6.6477585,-13.854565,-18.595364,32.601654,-22.723593,-9.851349,10.994944,-31.460577,-10.334994,22.578764,22.14668,27.815742,2.8459442,11.47006,7.7101502,23.584806,-15.959908,8.439471,28.244612,-16.989426,-3.2182434,-8.064397,-8.660452,-1.6421357,32.578224,20.091337,-8.066138,-8.460516,-15.692367,-5.481724,18.720587,9.129324,23.305002,-17.278347,15.103788,32.585533,20.707321,-10.488896,19.409771,-14.926783,17.761799,25.05299,13.252755,5.8945875,-4.500375,-15.470964,-10.483797,19.511461,-15.664262,-3.3353953,-2.6530302,11.771032,-10.099336,5.645574,24.142153,-17.928,-15.505954,20.570549,23.736917,24.895815,21.960764,22.71115,-5.2713723,17.016245,27.211063,17.131348,8.997532,15.411665,25.13346,-14.014531,19.579967,17.450045,21.26447,-13.41592,15.975022,16.227234,0.24561447,-10.35647,-17.593624,-18.55754,29.25465,-6.916133,-12.4069805,12.065937,2.9743257,14.472839,5.4368753,-29.190012,-11.423923,-16.284357,13.899335,27.458176,0.022105439,3.5048833,-22.3246,-11.55173,-8.948763,-1.4403841,-5.2103143,-2.3937979,16.568766,-8.434835,-18.845629,-6.4255924,-20.388094,-29.051538,18.627232,20.2765,-14.105086,26.583296,20.979164,-32.962887,-9.528857,-21.009762,-16.817987,-2.102196,-11.502954,-18.238087,-33.550396,24.666935,-20.194975,13.45204,32.048794,-32.624718,20.881329,7.7809377,6.843598,17.071367,-17.23804,-12.440131,-3.268433,5.8552184,-31.013887,14.662727,12.947416,-1.5739841,11.434357,-32.700726,-3.186038,-16.133854,-14.41178,11.968639,-4.649256,18.321306,-14.471303,-20.007143,-12.0388975,16.126118,19.410814,-11.771784,30.289557,1.9022359,-12.738713,-25.24442,18.32574,-29.51686,-4.466686,-6.397638,26.395926,-20.568712,25.11152,-7.0637317,31.341133,-10.547844,13.724827,12.112638,-3.6780474,-13.311949,10.3248825,15.969833,-14.204561,11.438459,-12.3771305,0.44582596,11.302851,-5.2276816,26.681362,-32.512115,18.304478,6.835315,24.111725,-15.285223,-6.5712266,28.724585,-4.442046,-7.398315,7.6907387,-2.3136117,-19.643816,-32.06154,25.71602,-5.3312006,-21.830393,-0.17039819,-29.138033,-2.61781,27.272448,-15.636301,-7.7627025,-22.134617,-8.483742,29.885914,24.130747,-21.634026,26.9127,-4.1098237,-33.631977,-3.512794,-12.300673,15.610365,-17.218443,-16.689016,30.223204,-10.495621,19.815605,-10.873634,-4.2082496,-31.7396,-10.7675495,-19.329956,25.013248,-7.032925,-30.357824],\"yaxis\":\"y\",\"type\":\"scatter\"}],                        {\"template\":{\"data\":{\"histogram2dcontour\":[{\"type\":\"histogram2dcontour\",\"colorbar\":{\"outlinewidth\":0,\"ticks\":\"\"},\"colorscale\":[[0.0,\"#0d0887\"],[0.1111111111111111,\"#46039f\"],[0.2222222222222222,\"#7201a8\"],[0.3333333333333333,\"#9c179e\"],[0.4444444444444444,\"#bd3786\"],[0.5555555555555556,\"#d8576b\"],[0.6666666666666666,\"#ed7953\"],[0.7777777777777778,\"#fb9f3a\"],[0.8888888888888888,\"#fdca26\"],[1.0,\"#f0f921\"]]}],\"choropleth\":[{\"type\":\"choropleth\",\"colorbar\":{\"outlinewidth\":0,\"ticks\":\"\"}}],\"histogram2d\":[{\"type\":\"histogram2d\",\"colorbar\":{\"outlinewidth\":0,\"ticks\":\"\"},\"colorscale\":[[0.0,\"#0d0887\"],[0.1111111111111111,\"#46039f\"],[0.2222222222222222,\"#7201a8\"],[0.3333333333333333,\"#9c179e\"],[0.4444444444444444,\"#bd3786\"],[0.5555555555555556,\"#d8576b\"],[0.6666666666666666,\"#ed7953\"],[0.7777777777777778,\"#fb9f3a\"],[0.8888888888888888,\"#fdca26\"],[1.0,\"#f0f921\"]]}],\"heatmap\":[{\"type\":\"heatmap\",\"colorbar\":{\"outlinewidth\":0,\"ticks\":\"\"},\"colorscale\":[[0.0,\"#0d0887\"],[0.1111111111111111,\"#46039f\"],[0.2222222222222222,\"#7201a8\"],[0.3333333333333333,\"#9c179e\"],[0.4444444444444444,\"#bd3786\"],[0.5555555555555556,\"#d8576b\"],[0.6666666666666666,\"#ed7953\"],[0.7777777777777778,\"#fb9f3a\"],[0.8888888888888888,\"#fdca26\"],[1.0,\"#f0f921\"]]}],\"heatmapgl\":[{\"type\":\"heatmapgl\",\"colorbar\":{\"outlinewidth\":0,\"ticks\":\"\"},\"colorscale\":[[0.0,\"#0d0887\"],[0.1111111111111111,\"#46039f\"],[0.2222222222222222,\"#7201a8\"],[0.3333333333333333,\"#9c179e\"],[0.4444444444444444,\"#bd3786\"],[0.5555555555555556,\"#d8576b\"],[0.6666666666666666,\"#ed7953\"],[0.7777777777777778,\"#fb9f3a\"],[0.8888888888888888,\"#fdca26\"],[1.0,\"#f0f921\"]]}],\"contourcarpet\":[{\"type\":\"contourcarpet\",\"colorbar\":{\"outlinewidth\":0,\"ticks\":\"\"}}],\"contour\":[{\"type\":\"contour\",\"colorbar\":{\"outlinewidth\":0,\"ticks\":\"\"},\"colorscale\":[[0.0,\"#0d0887\"],[0.1111111111111111,\"#46039f\"],[0.2222222222222222,\"#7201a8\"],[0.3333333333333333,\"#9c179e\"],[0.4444444444444444,\"#bd3786\"],[0.5555555555555556,\"#d8576b\"],[0.6666666666666666,\"#ed7953\"],[0.7777777777777778,\"#fb9f3a\"],[0.8888888888888888,\"#fdca26\"],[1.0,\"#f0f921\"]]}],\"surface\":[{\"type\":\"surface\",\"colorbar\":{\"outlinewidth\":0,\"ticks\":\"\"},\"colorscale\":[[0.0,\"#0d0887\"],[0.1111111111111111,\"#46039f\"],[0.2222222222222222,\"#7201a8\"],[0.3333333333333333,\"#9c179e\"],[0.4444444444444444,\"#bd3786\"],[0.5555555555555556,\"#d8576b\"],[0.6666666666666666,\"#ed7953\"],[0.7777777777777778,\"#fb9f3a\"],[0.8888888888888888,\"#fdca26\"],[1.0,\"#f0f921\"]]}],\"mesh3d\":[{\"type\":\"mesh3d\",\"colorbar\":{\"outlinewidth\":0,\"ticks\":\"\"}}],\"scatter\":[{\"fillpattern\":{\"fillmode\":\"overlay\",\"size\":10,\"solidity\":0.2},\"type\":\"scatter\"}],\"parcoords\":[{\"type\":\"parcoords\",\"line\":{\"colorbar\":{\"outlinewidth\":0,\"ticks\":\"\"}}}],\"scatterpolargl\":[{\"type\":\"scatterpolargl\",\"marker\":{\"colorbar\":{\"outlinewidth\":0,\"ticks\":\"\"}}}],\"bar\":[{\"error_x\":{\"color\":\"#2a3f5f\"},\"error_y\":{\"color\":\"#2a3f5f\"},\"marker\":{\"line\":{\"color\":\"#E5ECF6\",\"width\":0.5},\"pattern\":{\"fillmode\":\"overlay\",\"size\":10,\"solidity\":0.2}},\"type\":\"bar\"}],\"scattergeo\":[{\"type\":\"scattergeo\",\"marker\":{\"colorbar\":{\"outlinewidth\":0,\"ticks\":\"\"}}}],\"scatterpolar\":[{\"type\":\"scatterpolar\",\"marker\":{\"colorbar\":{\"outlinewidth\":0,\"ticks\":\"\"}}}],\"histogram\":[{\"marker\":{\"pattern\":{\"fillmode\":\"overlay\",\"size\":10,\"solidity\":0.2}},\"type\":\"histogram\"}],\"scattergl\":[{\"type\":\"scattergl\",\"marker\":{\"colorbar\":{\"outlinewidth\":0,\"ticks\":\"\"}}}],\"scatter3d\":[{\"type\":\"scatter3d\",\"line\":{\"colorbar\":{\"outlinewidth\":0,\"ticks\":\"\"}},\"marker\":{\"colorbar\":{\"outlinewidth\":0,\"ticks\":\"\"}}}],\"scattermapbox\":[{\"type\":\"scattermapbox\",\"marker\":{\"colorbar\":{\"outlinewidth\":0,\"ticks\":\"\"}}}],\"scatterternary\":[{\"type\":\"scatterternary\",\"marker\":{\"colorbar\":{\"outlinewidth\":0,\"ticks\":\"\"}}}],\"scattercarpet\":[{\"type\":\"scattercarpet\",\"marker\":{\"colorbar\":{\"outlinewidth\":0,\"ticks\":\"\"}}}],\"carpet\":[{\"aaxis\":{\"endlinecolor\":\"#2a3f5f\",\"gridcolor\":\"white\",\"linecolor\":\"white\",\"minorgridcolor\":\"white\",\"startlinecolor\":\"#2a3f5f\"},\"baxis\":{\"endlinecolor\":\"#2a3f5f\",\"gridcolor\":\"white\",\"linecolor\":\"white\",\"minorgridcolor\":\"white\",\"startlinecolor\":\"#2a3f5f\"},\"type\":\"carpet\"}],\"table\":[{\"cells\":{\"fill\":{\"color\":\"#EBF0F8\"},\"line\":{\"color\":\"white\"}},\"header\":{\"fill\":{\"color\":\"#C8D4E3\"},\"line\":{\"color\":\"white\"}},\"type\":\"table\"}],\"barpolar\":[{\"marker\":{\"line\":{\"color\":\"#E5ECF6\",\"width\":0.5},\"pattern\":{\"fillmode\":\"overlay\",\"size\":10,\"solidity\":0.2}},\"type\":\"barpolar\"}],\"pie\":[{\"automargin\":true,\"type\":\"pie\"}]},\"layout\":{\"autotypenumbers\":\"strict\",\"colorway\":[\"#636efa\",\"#EF553B\",\"#00cc96\",\"#ab63fa\",\"#FFA15A\",\"#19d3f3\",\"#FF6692\",\"#B6E880\",\"#FF97FF\",\"#FECB52\"],\"font\":{\"color\":\"#2a3f5f\"},\"hovermode\":\"closest\",\"hoverlabel\":{\"align\":\"left\"},\"paper_bgcolor\":\"white\",\"plot_bgcolor\":\"#E5ECF6\",\"polar\":{\"bgcolor\":\"#E5ECF6\",\"angularaxis\":{\"gridcolor\":\"white\",\"linecolor\":\"white\",\"ticks\":\"\"},\"radialaxis\":{\"gridcolor\":\"white\",\"linecolor\":\"white\",\"ticks\":\"\"}},\"ternary\":{\"bgcolor\":\"#E5ECF6\",\"aaxis\":{\"gridcolor\":\"white\",\"linecolor\":\"white\",\"ticks\":\"\"},\"baxis\":{\"gridcolor\":\"white\",\"linecolor\":\"white\",\"ticks\":\"\"},\"caxis\":{\"gridcolor\":\"white\",\"linecolor\":\"white\",\"ticks\":\"\"}},\"coloraxis\":{\"colorbar\":{\"outlinewidth\":0,\"ticks\":\"\"}},\"colorscale\":{\"sequential\":[[0.0,\"#0d0887\"],[0.1111111111111111,\"#46039f\"],[0.2222222222222222,\"#7201a8\"],[0.3333333333333333,\"#9c179e\"],[0.4444444444444444,\"#bd3786\"],[0.5555555555555556,\"#d8576b\"],[0.6666666666666666,\"#ed7953\"],[0.7777777777777778,\"#fb9f3a\"],[0.8888888888888888,\"#fdca26\"],[1.0,\"#f0f921\"]],\"sequentialminus\":[[0.0,\"#0d0887\"],[0.1111111111111111,\"#46039f\"],[0.2222222222222222,\"#7201a8\"],[0.3333333333333333,\"#9c179e\"],[0.4444444444444444,\"#bd3786\"],[0.5555555555555556,\"#d8576b\"],[0.6666666666666666,\"#ed7953\"],[0.7777777777777778,\"#fb9f3a\"],[0.8888888888888888,\"#fdca26\"],[1.0,\"#f0f921\"]],\"diverging\":[[0,\"#8e0152\"],[0.1,\"#c51b7d\"],[0.2,\"#de77ae\"],[0.3,\"#f1b6da\"],[0.4,\"#fde0ef\"],[0.5,\"#f7f7f7\"],[0.6,\"#e6f5d0\"],[0.7,\"#b8e186\"],[0.8,\"#7fbc41\"],[0.9,\"#4d9221\"],[1,\"#276419\"]]},\"xaxis\":{\"gridcolor\":\"white\",\"linecolor\":\"white\",\"ticks\":\"\",\"title\":{\"standoff\":15},\"zerolinecolor\":\"white\",\"automargin\":true,\"zerolinewidth\":2},\"yaxis\":{\"gridcolor\":\"white\",\"linecolor\":\"white\",\"ticks\":\"\",\"title\":{\"standoff\":15},\"zerolinecolor\":\"white\",\"automargin\":true,\"zerolinewidth\":2},\"scene\":{\"xaxis\":{\"backgroundcolor\":\"#E5ECF6\",\"gridcolor\":\"white\",\"linecolor\":\"white\",\"showbackground\":true,\"ticks\":\"\",\"zerolinecolor\":\"white\",\"gridwidth\":2},\"yaxis\":{\"backgroundcolor\":\"#E5ECF6\",\"gridcolor\":\"white\",\"linecolor\":\"white\",\"showbackground\":true,\"ticks\":\"\",\"zerolinecolor\":\"white\",\"gridwidth\":2},\"zaxis\":{\"backgroundcolor\":\"#E5ECF6\",\"gridcolor\":\"white\",\"linecolor\":\"white\",\"showbackground\":true,\"ticks\":\"\",\"zerolinecolor\":\"white\",\"gridwidth\":2}},\"shapedefaults\":{\"line\":{\"color\":\"#2a3f5f\"}},\"annotationdefaults\":{\"arrowcolor\":\"#2a3f5f\",\"arrowhead\":0,\"arrowwidth\":1},\"geo\":{\"bgcolor\":\"white\",\"landcolor\":\"#E5ECF6\",\"subunitcolor\":\"white\",\"showland\":true,\"showlakes\":true,\"lakecolor\":\"white\"},\"title\":{\"x\":0.05},\"mapbox\":{\"style\":\"light\"}}},\"xaxis\":{\"anchor\":\"y\",\"domain\":[0.0,1.0],\"title\":{\"text\":\"x\"}},\"yaxis\":{\"anchor\":\"x\",\"domain\":[0.0,1.0],\"title\":{\"text\":\"y\"}},\"coloraxis\":{\"colorbar\":{\"title\":{\"text\":\"color\"}},\"colorscale\":[[0.0,\"#0d0887\"],[0.1111111111111111,\"#46039f\"],[0.2222222222222222,\"#7201a8\"],[0.3333333333333333,\"#9c179e\"],[0.4444444444444444,\"#bd3786\"],[0.5555555555555556,\"#d8576b\"],[0.6666666666666666,\"#ed7953\"],[0.7777777777777778,\"#fb9f3a\"],[0.8888888888888888,\"#fdca26\"],[1.0,\"#f0f921\"]]},\"legend\":{\"tracegroupgap\":0},\"margin\":{\"t\":60}},                        {\"responsive\": true}                    ).then(function(){\n",
              "                            \n",
              "var gd = document.getElementById('16b71ce1-1c8b-4cd3-acdb-286d410013dd');\n",
              "var x = new MutationObserver(function (mutations, observer) {{\n",
              "        var display = window.getComputedStyle(gd).display;\n",
              "        if (!display || display === 'none') {{\n",
              "            console.log([gd, 'removed!']);\n",
              "            Plotly.purge(gd);\n",
              "            observer.disconnect();\n",
              "        }}\n",
              "}});\n",
              "\n",
              "// Listen for the removal of the full notebook cells\n",
              "var notebookContainer = gd.closest('#notebook-container');\n",
              "if (notebookContainer) {{\n",
              "    x.observe(notebookContainer, {childList: true});\n",
              "}}\n",
              "\n",
              "// Listen for the clearing of the current output cell\n",
              "var outputEl = gd.closest('.output');\n",
              "if (outputEl) {{\n",
              "    x.observe(outputEl, {childList: true});\n",
              "}}\n",
              "\n",
              "                        })                };                            </script>        </div>\n",
              "</body>\n",
              "</html>"
            ]
          },
          "metadata": {}
        }
      ],
      "source": [
        "fig=px.scatter(x=X_reduced_tsne[:,0], y=X_reduced_tsne[:,1], color=y)\n",
        "fig.show()"
      ]
    },
    {
      "cell_type": "markdown",
      "id": "041e973c",
      "metadata": {
        "id": "041e973c"
      },
      "source": [
        "Although the subsample is pretty small, the t-SNE algorithm is able to detect clusters pretty accurately"
      ]
    },
    {
      "cell_type": "markdown",
      "source": [
        "Reference- https://www.geeksforgeeks.org/machine-learning/difference-between-pca-vs-t-sne/\n",
        "\n",
        "Note-ChatGPT was used to help understand the results using WebSearch Feature."
      ],
      "metadata": {
        "id": "Jd3dgNb6zvos"
      },
      "id": "Jd3dgNb6zvos"
    },
    {
      "cell_type": "markdown",
      "id": "85bb3774",
      "metadata": {
        "id": "85bb3774"
      },
      "source": [
        "## Scaling"
      ]
    },
    {
      "cell_type": "code",
      "execution_count": null,
      "id": "7ab1142e",
      "metadata": {
        "colab": {
          "base_uri": "https://localhost:8080/"
        },
        "id": "7ab1142e",
        "outputId": "00ffaee1-9e7c-4d60-d407-c41ba0cb1490"
      },
      "outputs": [
        {
          "output_type": "stream",
          "name": "stdout",
          "text": [
            "(275663, 29) (275663,)\n"
          ]
        }
      ],
      "source": [
        "scaler = StandardScaler()\n",
        "X = scaler.fit_transform(df.drop('Class', axis=1))\n",
        "y = df['Class'].values\n",
        "print(X.shape, y.shape)"
      ]
    },
    {
      "cell_type": "markdown",
      "id": "22e31517",
      "metadata": {
        "id": "22e31517"
      },
      "source": [
        "## Splitting the data"
      ]
    },
    {
      "cell_type": "markdown",
      "id": "6fa74b00",
      "metadata": {
        "id": "6fa74b00"
      },
      "source": [
        "we want to test our models on the original testing set not on the testing set created from GAN. The main goal is to fit the model in the generated data, and test it on the original testing set."
      ]
    },
    {
      "cell_type": "code",
      "execution_count": null,
      "id": "f8303d35",
      "metadata": {
        "id": "f8303d35"
      },
      "outputs": [],
      "source": [
        "X_train, X_test, y_train, y_test = train_test_split(X, y, test_size=0.2, random_state=42, stratify=y)"
      ]
    },
    {
      "cell_type": "markdown",
      "id": "50b98b70",
      "metadata": {
        "id": "50b98b70"
      },
      "source": [
        "## Conditional GAN Architecture"
      ]
    },
    {
      "cell_type": "code",
      "source": [
        "import numpy as np\n",
        "from tensorflow.keras.models import Model, Sequential\n",
        "from tensorflow.keras.layers import Input, Dense, Embedding, Flatten, multiply, LeakyReLU, Dropout, BatchNormalization, GaussianNoise\n",
        "from tensorflow.keras.optimizers import Adam\n",
        "from tensorflow.keras.initializers import RandomNormal\n",
        "from tensorflow.keras.regularizers import l2\n",
        "from sklearn.utils import shuffle\n",
        "\n",
        "class cGAN():\n",
        "    def __init__(self):\n",
        "        self.latent_dim = 32\n",
        "        self.out_shape = 29\n",
        "        self.num_classes = 2\n",
        "\n",
        "        optimizer = Adam(0.0002, 0.5)\n",
        "\n",
        "        self.discriminator = self.build_discriminator()\n",
        "        self.discriminator.compile(loss='binary_crossentropy',\n",
        "                                   optimizer=optimizer,\n",
        "                                   metrics=['accuracy'])\n",
        "\n",
        "        self.generator = self.build_generator()\n",
        "\n",
        "        noise = Input(shape=(self.latent_dim,))\n",
        "        label = Input(shape=(1,))\n",
        "        gen_samples = self.generator([noise, label])\n",
        "\n",
        "        self.discriminator.trainable = False\n",
        "        valid = self.discriminator([gen_samples, label])\n",
        "\n",
        "        self.combined = Model([noise, label], valid)\n",
        "        self.combined.compile(loss='binary_crossentropy',\n",
        "                              optimizer=Adam(0.0002, 0.5),\n",
        "                              metrics=['accuracy'])\n",
        "        self.combined.summary()\n",
        "\n",
        "    def build_generator(self):\n",
        "        init = RandomNormal(mean=0.0, stddev=0.02)\n",
        "        model = Sequential()\n",
        "\n",
        "        model.add(Dense(128, input_dim=self.latent_dim))\n",
        "        model.add(LeakyReLU(alpha=0.2))\n",
        "        model.add(BatchNormalization(momentum=0.8))\n",
        "        model.add(Dropout(0.3))\n",
        "\n",
        "        model.add(Dense(256))\n",
        "        model.add(LeakyReLU(alpha=0.2))\n",
        "        model.add(BatchNormalization(momentum=0.8))\n",
        "        model.add(Dropout(0.3))\n",
        "\n",
        "        model.add(Dense(512))\n",
        "        model.add(LeakyReLU(alpha=0.2))\n",
        "        model.add(BatchNormalization(momentum=0.8))\n",
        "\n",
        "        model.add(Dense(self.out_shape, activation='tanh'))\n",
        "        model.summary()\n",
        "\n",
        "        noise = Input(shape=(self.latent_dim,))\n",
        "        label = Input(shape=(1,), dtype='int32')\n",
        "        label_embedding = Flatten()(Embedding(self.num_classes, self.latent_dim)(label))\n",
        "        model_input = multiply([noise, label_embedding])\n",
        "        gen_sample = model(model_input)\n",
        "\n",
        "        return Model([noise, label], gen_sample, name=\"Generator\")\n",
        "\n",
        "    def build_discriminator(self):\n",
        "        init = RandomNormal(mean=0.0, stddev=0.02)\n",
        "        model = Sequential()\n",
        "\n",
        "        model.add(GaussianNoise(0.1, input_shape=(self.out_shape,)))\n",
        "        model.add(Dense(256, kernel_initializer=init, kernel_regularizer=l2(0.001)))\n",
        "        model.add(LeakyReLU(alpha=0.2))\n",
        "        model.add(Dropout(0.4))\n",
        "\n",
        "        model.add(Dense(1, activation='sigmoid'))\n",
        "        model.summary()\n",
        "\n",
        "        gen_sample = Input(shape=(self.out_shape,))\n",
        "        label = Input(shape=(1,), dtype='int32')\n",
        "        label_embedding = Flatten()(Embedding(self.num_classes, self.out_shape)(label))\n",
        "        model_input = multiply([gen_sample, label_embedding])\n",
        "        validity = model(model_input)\n",
        "\n",
        "        return Model([gen_sample, label], validity, name=\"Discriminator\")\n",
        "\n",
        "    def train(self, X_train, y_train, pos_index, neg_index, epochs, batch_size=32, sample_interval=50):\n",
        "        valid = np.ones((batch_size, 1))\n",
        "        fake = np.zeros((batch_size, 1))\n",
        "\n",
        "        for epoch in range(epochs):\n",
        "            # train Discriminator\n",
        "            idx1 = np.random.choice(pos_index, 8)\n",
        "            idx0 = np.random.choice(neg_index, batch_size - 8)\n",
        "            idx = np.concatenate((idx1, idx0))\n",
        "            samples, labels = X_train[idx], y_train[idx]\n",
        "            samples, labels = shuffle(samples, labels)\n",
        "\n",
        "            noise = np.random.normal(0, 1, (batch_size, self.latent_dim))\n",
        "            gen_samples = self.generator.predict([noise, labels], verbose=0)\n",
        "\n",
        "            valid_smooth = np.random.uniform(low=0.9, high=1.0, size=(batch_size, 1))\n",
        "            fake_smooth = np.random.uniform(low=0.0, high=0.1, size=(batch_size, 1))\n",
        "\n",
        "            if np.random.rand() < 0.05:\n",
        "                valid_smooth, fake_smooth = fake_smooth, valid_smooth\n",
        "\n",
        "            self.discriminator.trainable = True\n",
        "            d_loss_real = self.discriminator.train_on_batch([samples, labels], valid_smooth)\n",
        "            d_loss_fake = self.discriminator.train_on_batch([gen_samples, labels], fake_smooth)\n",
        "            d_loss = 0.5 * np.add(d_loss_real, d_loss_fake)\n",
        "\n",
        "            # train Generator\n",
        "            self.discriminator.trainable = False\n",
        "            sampled_labels = np.random.randint(0, self.num_classes, batch_size).reshape(-1, 1)\n",
        "            noise = np.random.normal(0, 1, (batch_size, self.latent_dim))\n",
        "            g_loss = self.combined.train_on_batch([noise, sampled_labels], valid)\n",
        "\n",
        "\n",
        "            if (epoch + 1) % sample_interval == 0:\n",
        "                print(f\"{epoch + 1} [D loss: {d_loss[0]:.4f}, acc: {100*d_loss[1]:.2f}%] \"\n",
        "                      f\"[G loss: {g_loss[0]:.4f}, acc: {100*g_loss[1]:.2f}%]\")\n",
        "\n",
        "                d_real_pred = self.discriminator.predict([samples[:5], labels[:5]], verbose=0).flatten()\n",
        "                d_fake_pred = self.discriminator.predict([gen_samples[:5], labels[:5]], verbose=0).flatten()\n",
        "                print(\"Disc pred on real:\", np.round(d_real_pred, 2))\n",
        "                print(\"Disc pred on fake:\", np.round(d_fake_pred, 2))\n",
        "\n",
        "            if (epoch + 1) % 100 == 0:\n",
        "                self.save_generated_samples(epoch + 1)\n",
        "\n",
        "    def save_generated_samples(self, epoch):\n",
        "        noise = np.random.normal(0, 1, (5, self.latent_dim))\n",
        "        labels = np.array([[0], [1], [0], [1], [1]])\n",
        "        gen_samples = self.generator.predict([noise, labels])\n",
        "        print(f\"Generated samples at epoch {epoch}:\\n{gen_samples}\")"
      ],
      "metadata": {
        "id": "zL2u47WRNTOr"
      },
      "id": "zL2u47WRNTOr",
      "execution_count": null,
      "outputs": []
    },
    {
      "cell_type": "code",
      "execution_count": null,
      "id": "3d0bbcfd",
      "metadata": {
        "colab": {
          "base_uri": "https://localhost:8080/",
          "height": 1000
        },
        "id": "3d0bbcfd",
        "outputId": "5632ef9a-735d-480d-ac04-3fa7690b8e3e"
      },
      "outputs": [
        {
          "output_type": "stream",
          "name": "stderr",
          "text": [
            "/usr/local/lib/python3.11/dist-packages/keras/src/layers/regularization/gaussian_noise.py:29: UserWarning:\n",
            "\n",
            "Do not pass an `input_shape`/`input_dim` argument to a layer. When using Sequential models, prefer using an `Input(shape)` object as the first layer in the model instead.\n",
            "\n",
            "/usr/local/lib/python3.11/dist-packages/keras/src/layers/activations/leaky_relu.py:41: UserWarning:\n",
            "\n",
            "Argument `alpha` is deprecated. Use `negative_slope` instead.\n",
            "\n"
          ]
        },
        {
          "output_type": "display_data",
          "data": {
            "text/plain": [
              "\u001b[1mModel: \"sequential\"\u001b[0m\n"
            ],
            "text/html": [
              "<pre style=\"white-space:pre;overflow-x:auto;line-height:normal;font-family:Menlo,'DejaVu Sans Mono',consolas,'Courier New',monospace\"><span style=\"font-weight: bold\">Model: \"sequential\"</span>\n",
              "</pre>\n"
            ]
          },
          "metadata": {}
        },
        {
          "output_type": "display_data",
          "data": {
            "text/plain": [
              "┏━━━━━━━━━━━━━━━━━━━━━━━━━━━━━━━━━┳━━━━━━━━━━━━━━━━━━━━━━━━┳━━━━━━━━━━━━━━━┓\n",
              "┃\u001b[1m \u001b[0m\u001b[1mLayer (type)                   \u001b[0m\u001b[1m \u001b[0m┃\u001b[1m \u001b[0m\u001b[1mOutput Shape          \u001b[0m\u001b[1m \u001b[0m┃\u001b[1m \u001b[0m\u001b[1m      Param #\u001b[0m\u001b[1m \u001b[0m┃\n",
              "┡━━━━━━━━━━━━━━━━━━━━━━━━━━━━━━━━━╇━━━━━━━━━━━━━━━━━━━━━━━━╇━━━━━━━━━━━━━━━┩\n",
              "│ gaussian_noise (\u001b[38;5;33mGaussianNoise\u001b[0m)  │ (\u001b[38;5;45mNone\u001b[0m, \u001b[38;5;34m29\u001b[0m)             │             \u001b[38;5;34m0\u001b[0m │\n",
              "├─────────────────────────────────┼────────────────────────┼───────────────┤\n",
              "│ dense (\u001b[38;5;33mDense\u001b[0m)                   │ (\u001b[38;5;45mNone\u001b[0m, \u001b[38;5;34m256\u001b[0m)            │         \u001b[38;5;34m7,680\u001b[0m │\n",
              "├─────────────────────────────────┼────────────────────────┼───────────────┤\n",
              "│ leaky_re_lu (\u001b[38;5;33mLeakyReLU\u001b[0m)         │ (\u001b[38;5;45mNone\u001b[0m, \u001b[38;5;34m256\u001b[0m)            │             \u001b[38;5;34m0\u001b[0m │\n",
              "├─────────────────────────────────┼────────────────────────┼───────────────┤\n",
              "│ dropout (\u001b[38;5;33mDropout\u001b[0m)               │ (\u001b[38;5;45mNone\u001b[0m, \u001b[38;5;34m256\u001b[0m)            │             \u001b[38;5;34m0\u001b[0m │\n",
              "├─────────────────────────────────┼────────────────────────┼───────────────┤\n",
              "│ dense_1 (\u001b[38;5;33mDense\u001b[0m)                 │ (\u001b[38;5;45mNone\u001b[0m, \u001b[38;5;34m1\u001b[0m)              │           \u001b[38;5;34m257\u001b[0m │\n",
              "└─────────────────────────────────┴────────────────────────┴───────────────┘\n"
            ],
            "text/html": [
              "<pre style=\"white-space:pre;overflow-x:auto;line-height:normal;font-family:Menlo,'DejaVu Sans Mono',consolas,'Courier New',monospace\">┏━━━━━━━━━━━━━━━━━━━━━━━━━━━━━━━━━┳━━━━━━━━━━━━━━━━━━━━━━━━┳━━━━━━━━━━━━━━━┓\n",
              "┃<span style=\"font-weight: bold\"> Layer (type)                    </span>┃<span style=\"font-weight: bold\"> Output Shape           </span>┃<span style=\"font-weight: bold\">       Param # </span>┃\n",
              "┡━━━━━━━━━━━━━━━━━━━━━━━━━━━━━━━━━╇━━━━━━━━━━━━━━━━━━━━━━━━╇━━━━━━━━━━━━━━━┩\n",
              "│ gaussian_noise (<span style=\"color: #0087ff; text-decoration-color: #0087ff\">GaussianNoise</span>)  │ (<span style=\"color: #00d7ff; text-decoration-color: #00d7ff\">None</span>, <span style=\"color: #00af00; text-decoration-color: #00af00\">29</span>)             │             <span style=\"color: #00af00; text-decoration-color: #00af00\">0</span> │\n",
              "├─────────────────────────────────┼────────────────────────┼───────────────┤\n",
              "│ dense (<span style=\"color: #0087ff; text-decoration-color: #0087ff\">Dense</span>)                   │ (<span style=\"color: #00d7ff; text-decoration-color: #00d7ff\">None</span>, <span style=\"color: #00af00; text-decoration-color: #00af00\">256</span>)            │         <span style=\"color: #00af00; text-decoration-color: #00af00\">7,680</span> │\n",
              "├─────────────────────────────────┼────────────────────────┼───────────────┤\n",
              "│ leaky_re_lu (<span style=\"color: #0087ff; text-decoration-color: #0087ff\">LeakyReLU</span>)         │ (<span style=\"color: #00d7ff; text-decoration-color: #00d7ff\">None</span>, <span style=\"color: #00af00; text-decoration-color: #00af00\">256</span>)            │             <span style=\"color: #00af00; text-decoration-color: #00af00\">0</span> │\n",
              "├─────────────────────────────────┼────────────────────────┼───────────────┤\n",
              "│ dropout (<span style=\"color: #0087ff; text-decoration-color: #0087ff\">Dropout</span>)               │ (<span style=\"color: #00d7ff; text-decoration-color: #00d7ff\">None</span>, <span style=\"color: #00af00; text-decoration-color: #00af00\">256</span>)            │             <span style=\"color: #00af00; text-decoration-color: #00af00\">0</span> │\n",
              "├─────────────────────────────────┼────────────────────────┼───────────────┤\n",
              "│ dense_1 (<span style=\"color: #0087ff; text-decoration-color: #0087ff\">Dense</span>)                 │ (<span style=\"color: #00d7ff; text-decoration-color: #00d7ff\">None</span>, <span style=\"color: #00af00; text-decoration-color: #00af00\">1</span>)              │           <span style=\"color: #00af00; text-decoration-color: #00af00\">257</span> │\n",
              "└─────────────────────────────────┴────────────────────────┴───────────────┘\n",
              "</pre>\n"
            ]
          },
          "metadata": {}
        },
        {
          "output_type": "display_data",
          "data": {
            "text/plain": [
              "\u001b[1m Total params: \u001b[0m\u001b[38;5;34m7,937\u001b[0m (31.00 KB)\n"
            ],
            "text/html": [
              "<pre style=\"white-space:pre;overflow-x:auto;line-height:normal;font-family:Menlo,'DejaVu Sans Mono',consolas,'Courier New',monospace\"><span style=\"font-weight: bold\"> Total params: </span><span style=\"color: #00af00; text-decoration-color: #00af00\">7,937</span> (31.00 KB)\n",
              "</pre>\n"
            ]
          },
          "metadata": {}
        },
        {
          "output_type": "display_data",
          "data": {
            "text/plain": [
              "\u001b[1m Trainable params: \u001b[0m\u001b[38;5;34m7,937\u001b[0m (31.00 KB)\n"
            ],
            "text/html": [
              "<pre style=\"white-space:pre;overflow-x:auto;line-height:normal;font-family:Menlo,'DejaVu Sans Mono',consolas,'Courier New',monospace\"><span style=\"font-weight: bold\"> Trainable params: </span><span style=\"color: #00af00; text-decoration-color: #00af00\">7,937</span> (31.00 KB)\n",
              "</pre>\n"
            ]
          },
          "metadata": {}
        },
        {
          "output_type": "display_data",
          "data": {
            "text/plain": [
              "\u001b[1m Non-trainable params: \u001b[0m\u001b[38;5;34m0\u001b[0m (0.00 B)\n"
            ],
            "text/html": [
              "<pre style=\"white-space:pre;overflow-x:auto;line-height:normal;font-family:Menlo,'DejaVu Sans Mono',consolas,'Courier New',monospace\"><span style=\"font-weight: bold\"> Non-trainable params: </span><span style=\"color: #00af00; text-decoration-color: #00af00\">0</span> (0.00 B)\n",
              "</pre>\n"
            ]
          },
          "metadata": {}
        },
        {
          "output_type": "stream",
          "name": "stderr",
          "text": [
            "/usr/local/lib/python3.11/dist-packages/keras/src/layers/core/dense.py:93: UserWarning:\n",
            "\n",
            "Do not pass an `input_shape`/`input_dim` argument to a layer. When using Sequential models, prefer using an `Input(shape)` object as the first layer in the model instead.\n",
            "\n"
          ]
        },
        {
          "output_type": "display_data",
          "data": {
            "text/plain": [
              "\u001b[1mModel: \"sequential_1\"\u001b[0m\n"
            ],
            "text/html": [
              "<pre style=\"white-space:pre;overflow-x:auto;line-height:normal;font-family:Menlo,'DejaVu Sans Mono',consolas,'Courier New',monospace\"><span style=\"font-weight: bold\">Model: \"sequential_1\"</span>\n",
              "</pre>\n"
            ]
          },
          "metadata": {}
        },
        {
          "output_type": "display_data",
          "data": {
            "text/plain": [
              "┏━━━━━━━━━━━━━━━━━━━━━━━━━━━━━━━━━┳━━━━━━━━━━━━━━━━━━━━━━━━┳━━━━━━━━━━━━━━━┓\n",
              "┃\u001b[1m \u001b[0m\u001b[1mLayer (type)                   \u001b[0m\u001b[1m \u001b[0m┃\u001b[1m \u001b[0m\u001b[1mOutput Shape          \u001b[0m\u001b[1m \u001b[0m┃\u001b[1m \u001b[0m\u001b[1m      Param #\u001b[0m\u001b[1m \u001b[0m┃\n",
              "┡━━━━━━━━━━━━━━━━━━━━━━━━━━━━━━━━━╇━━━━━━━━━━━━━━━━━━━━━━━━╇━━━━━━━━━━━━━━━┩\n",
              "│ dense_2 (\u001b[38;5;33mDense\u001b[0m)                 │ (\u001b[38;5;45mNone\u001b[0m, \u001b[38;5;34m128\u001b[0m)            │         \u001b[38;5;34m4,224\u001b[0m │\n",
              "├─────────────────────────────────┼────────────────────────┼───────────────┤\n",
              "│ leaky_re_lu_1 (\u001b[38;5;33mLeakyReLU\u001b[0m)       │ (\u001b[38;5;45mNone\u001b[0m, \u001b[38;5;34m128\u001b[0m)            │             \u001b[38;5;34m0\u001b[0m │\n",
              "├─────────────────────────────────┼────────────────────────┼───────────────┤\n",
              "│ batch_normalization             │ (\u001b[38;5;45mNone\u001b[0m, \u001b[38;5;34m128\u001b[0m)            │           \u001b[38;5;34m512\u001b[0m │\n",
              "│ (\u001b[38;5;33mBatchNormalization\u001b[0m)            │                        │               │\n",
              "├─────────────────────────────────┼────────────────────────┼───────────────┤\n",
              "│ dropout_1 (\u001b[38;5;33mDropout\u001b[0m)             │ (\u001b[38;5;45mNone\u001b[0m, \u001b[38;5;34m128\u001b[0m)            │             \u001b[38;5;34m0\u001b[0m │\n",
              "├─────────────────────────────────┼────────────────────────┼───────────────┤\n",
              "│ dense_3 (\u001b[38;5;33mDense\u001b[0m)                 │ (\u001b[38;5;45mNone\u001b[0m, \u001b[38;5;34m256\u001b[0m)            │        \u001b[38;5;34m33,024\u001b[0m │\n",
              "├─────────────────────────────────┼────────────────────────┼───────────────┤\n",
              "│ leaky_re_lu_2 (\u001b[38;5;33mLeakyReLU\u001b[0m)       │ (\u001b[38;5;45mNone\u001b[0m, \u001b[38;5;34m256\u001b[0m)            │             \u001b[38;5;34m0\u001b[0m │\n",
              "├─────────────────────────────────┼────────────────────────┼───────────────┤\n",
              "│ batch_normalization_1           │ (\u001b[38;5;45mNone\u001b[0m, \u001b[38;5;34m256\u001b[0m)            │         \u001b[38;5;34m1,024\u001b[0m │\n",
              "│ (\u001b[38;5;33mBatchNormalization\u001b[0m)            │                        │               │\n",
              "├─────────────────────────────────┼────────────────────────┼───────────────┤\n",
              "│ dropout_2 (\u001b[38;5;33mDropout\u001b[0m)             │ (\u001b[38;5;45mNone\u001b[0m, \u001b[38;5;34m256\u001b[0m)            │             \u001b[38;5;34m0\u001b[0m │\n",
              "├─────────────────────────────────┼────────────────────────┼───────────────┤\n",
              "│ dense_4 (\u001b[38;5;33mDense\u001b[0m)                 │ (\u001b[38;5;45mNone\u001b[0m, \u001b[38;5;34m512\u001b[0m)            │       \u001b[38;5;34m131,584\u001b[0m │\n",
              "├─────────────────────────────────┼────────────────────────┼───────────────┤\n",
              "│ leaky_re_lu_3 (\u001b[38;5;33mLeakyReLU\u001b[0m)       │ (\u001b[38;5;45mNone\u001b[0m, \u001b[38;5;34m512\u001b[0m)            │             \u001b[38;5;34m0\u001b[0m │\n",
              "├─────────────────────────────────┼────────────────────────┼───────────────┤\n",
              "│ batch_normalization_2           │ (\u001b[38;5;45mNone\u001b[0m, \u001b[38;5;34m512\u001b[0m)            │         \u001b[38;5;34m2,048\u001b[0m │\n",
              "│ (\u001b[38;5;33mBatchNormalization\u001b[0m)            │                        │               │\n",
              "├─────────────────────────────────┼────────────────────────┼───────────────┤\n",
              "│ dense_5 (\u001b[38;5;33mDense\u001b[0m)                 │ (\u001b[38;5;45mNone\u001b[0m, \u001b[38;5;34m29\u001b[0m)             │        \u001b[38;5;34m14,877\u001b[0m │\n",
              "└─────────────────────────────────┴────────────────────────┴───────────────┘\n"
            ],
            "text/html": [
              "<pre style=\"white-space:pre;overflow-x:auto;line-height:normal;font-family:Menlo,'DejaVu Sans Mono',consolas,'Courier New',monospace\">┏━━━━━━━━━━━━━━━━━━━━━━━━━━━━━━━━━┳━━━━━━━━━━━━━━━━━━━━━━━━┳━━━━━━━━━━━━━━━┓\n",
              "┃<span style=\"font-weight: bold\"> Layer (type)                    </span>┃<span style=\"font-weight: bold\"> Output Shape           </span>┃<span style=\"font-weight: bold\">       Param # </span>┃\n",
              "┡━━━━━━━━━━━━━━━━━━━━━━━━━━━━━━━━━╇━━━━━━━━━━━━━━━━━━━━━━━━╇━━━━━━━━━━━━━━━┩\n",
              "│ dense_2 (<span style=\"color: #0087ff; text-decoration-color: #0087ff\">Dense</span>)                 │ (<span style=\"color: #00d7ff; text-decoration-color: #00d7ff\">None</span>, <span style=\"color: #00af00; text-decoration-color: #00af00\">128</span>)            │         <span style=\"color: #00af00; text-decoration-color: #00af00\">4,224</span> │\n",
              "├─────────────────────────────────┼────────────────────────┼───────────────┤\n",
              "│ leaky_re_lu_1 (<span style=\"color: #0087ff; text-decoration-color: #0087ff\">LeakyReLU</span>)       │ (<span style=\"color: #00d7ff; text-decoration-color: #00d7ff\">None</span>, <span style=\"color: #00af00; text-decoration-color: #00af00\">128</span>)            │             <span style=\"color: #00af00; text-decoration-color: #00af00\">0</span> │\n",
              "├─────────────────────────────────┼────────────────────────┼───────────────┤\n",
              "│ batch_normalization             │ (<span style=\"color: #00d7ff; text-decoration-color: #00d7ff\">None</span>, <span style=\"color: #00af00; text-decoration-color: #00af00\">128</span>)            │           <span style=\"color: #00af00; text-decoration-color: #00af00\">512</span> │\n",
              "│ (<span style=\"color: #0087ff; text-decoration-color: #0087ff\">BatchNormalization</span>)            │                        │               │\n",
              "├─────────────────────────────────┼────────────────────────┼───────────────┤\n",
              "│ dropout_1 (<span style=\"color: #0087ff; text-decoration-color: #0087ff\">Dropout</span>)             │ (<span style=\"color: #00d7ff; text-decoration-color: #00d7ff\">None</span>, <span style=\"color: #00af00; text-decoration-color: #00af00\">128</span>)            │             <span style=\"color: #00af00; text-decoration-color: #00af00\">0</span> │\n",
              "├─────────────────────────────────┼────────────────────────┼───────────────┤\n",
              "│ dense_3 (<span style=\"color: #0087ff; text-decoration-color: #0087ff\">Dense</span>)                 │ (<span style=\"color: #00d7ff; text-decoration-color: #00d7ff\">None</span>, <span style=\"color: #00af00; text-decoration-color: #00af00\">256</span>)            │        <span style=\"color: #00af00; text-decoration-color: #00af00\">33,024</span> │\n",
              "├─────────────────────────────────┼────────────────────────┼───────────────┤\n",
              "│ leaky_re_lu_2 (<span style=\"color: #0087ff; text-decoration-color: #0087ff\">LeakyReLU</span>)       │ (<span style=\"color: #00d7ff; text-decoration-color: #00d7ff\">None</span>, <span style=\"color: #00af00; text-decoration-color: #00af00\">256</span>)            │             <span style=\"color: #00af00; text-decoration-color: #00af00\">0</span> │\n",
              "├─────────────────────────────────┼────────────────────────┼───────────────┤\n",
              "│ batch_normalization_1           │ (<span style=\"color: #00d7ff; text-decoration-color: #00d7ff\">None</span>, <span style=\"color: #00af00; text-decoration-color: #00af00\">256</span>)            │         <span style=\"color: #00af00; text-decoration-color: #00af00\">1,024</span> │\n",
              "│ (<span style=\"color: #0087ff; text-decoration-color: #0087ff\">BatchNormalization</span>)            │                        │               │\n",
              "├─────────────────────────────────┼────────────────────────┼───────────────┤\n",
              "│ dropout_2 (<span style=\"color: #0087ff; text-decoration-color: #0087ff\">Dropout</span>)             │ (<span style=\"color: #00d7ff; text-decoration-color: #00d7ff\">None</span>, <span style=\"color: #00af00; text-decoration-color: #00af00\">256</span>)            │             <span style=\"color: #00af00; text-decoration-color: #00af00\">0</span> │\n",
              "├─────────────────────────────────┼────────────────────────┼───────────────┤\n",
              "│ dense_4 (<span style=\"color: #0087ff; text-decoration-color: #0087ff\">Dense</span>)                 │ (<span style=\"color: #00d7ff; text-decoration-color: #00d7ff\">None</span>, <span style=\"color: #00af00; text-decoration-color: #00af00\">512</span>)            │       <span style=\"color: #00af00; text-decoration-color: #00af00\">131,584</span> │\n",
              "├─────────────────────────────────┼────────────────────────┼───────────────┤\n",
              "│ leaky_re_lu_3 (<span style=\"color: #0087ff; text-decoration-color: #0087ff\">LeakyReLU</span>)       │ (<span style=\"color: #00d7ff; text-decoration-color: #00d7ff\">None</span>, <span style=\"color: #00af00; text-decoration-color: #00af00\">512</span>)            │             <span style=\"color: #00af00; text-decoration-color: #00af00\">0</span> │\n",
              "├─────────────────────────────────┼────────────────────────┼───────────────┤\n",
              "│ batch_normalization_2           │ (<span style=\"color: #00d7ff; text-decoration-color: #00d7ff\">None</span>, <span style=\"color: #00af00; text-decoration-color: #00af00\">512</span>)            │         <span style=\"color: #00af00; text-decoration-color: #00af00\">2,048</span> │\n",
              "│ (<span style=\"color: #0087ff; text-decoration-color: #0087ff\">BatchNormalization</span>)            │                        │               │\n",
              "├─────────────────────────────────┼────────────────────────┼───────────────┤\n",
              "│ dense_5 (<span style=\"color: #0087ff; text-decoration-color: #0087ff\">Dense</span>)                 │ (<span style=\"color: #00d7ff; text-decoration-color: #00d7ff\">None</span>, <span style=\"color: #00af00; text-decoration-color: #00af00\">29</span>)             │        <span style=\"color: #00af00; text-decoration-color: #00af00\">14,877</span> │\n",
              "└─────────────────────────────────┴────────────────────────┴───────────────┘\n",
              "</pre>\n"
            ]
          },
          "metadata": {}
        },
        {
          "output_type": "display_data",
          "data": {
            "text/plain": [
              "\u001b[1m Total params: \u001b[0m\u001b[38;5;34m187,293\u001b[0m (731.61 KB)\n"
            ],
            "text/html": [
              "<pre style=\"white-space:pre;overflow-x:auto;line-height:normal;font-family:Menlo,'DejaVu Sans Mono',consolas,'Courier New',monospace\"><span style=\"font-weight: bold\"> Total params: </span><span style=\"color: #00af00; text-decoration-color: #00af00\">187,293</span> (731.61 KB)\n",
              "</pre>\n"
            ]
          },
          "metadata": {}
        },
        {
          "output_type": "display_data",
          "data": {
            "text/plain": [
              "\u001b[1m Trainable params: \u001b[0m\u001b[38;5;34m185,501\u001b[0m (724.61 KB)\n"
            ],
            "text/html": [
              "<pre style=\"white-space:pre;overflow-x:auto;line-height:normal;font-family:Menlo,'DejaVu Sans Mono',consolas,'Courier New',monospace\"><span style=\"font-weight: bold\"> Trainable params: </span><span style=\"color: #00af00; text-decoration-color: #00af00\">185,501</span> (724.61 KB)\n",
              "</pre>\n"
            ]
          },
          "metadata": {}
        },
        {
          "output_type": "display_data",
          "data": {
            "text/plain": [
              "\u001b[1m Non-trainable params: \u001b[0m\u001b[38;5;34m1,792\u001b[0m (7.00 KB)\n"
            ],
            "text/html": [
              "<pre style=\"white-space:pre;overflow-x:auto;line-height:normal;font-family:Menlo,'DejaVu Sans Mono',consolas,'Courier New',monospace\"><span style=\"font-weight: bold\"> Non-trainable params: </span><span style=\"color: #00af00; text-decoration-color: #00af00\">1,792</span> (7.00 KB)\n",
              "</pre>\n"
            ]
          },
          "metadata": {}
        },
        {
          "output_type": "display_data",
          "data": {
            "text/plain": [
              "\u001b[1mModel: \"functional_17\"\u001b[0m\n"
            ],
            "text/html": [
              "<pre style=\"white-space:pre;overflow-x:auto;line-height:normal;font-family:Menlo,'DejaVu Sans Mono',consolas,'Courier New',monospace\"><span style=\"font-weight: bold\">Model: \"functional_17\"</span>\n",
              "</pre>\n"
            ]
          },
          "metadata": {}
        },
        {
          "output_type": "display_data",
          "data": {
            "text/plain": [
              "┏━━━━━━━━━━━━━━━━━━━━━┳━━━━━━━━━━━━━━━━━━━┳━━━━━━━━━━━━┳━━━━━━━━━━━━━━━━━━━┓\n",
              "┃\u001b[1m \u001b[0m\u001b[1mLayer (type)       \u001b[0m\u001b[1m \u001b[0m┃\u001b[1m \u001b[0m\u001b[1mOutput Shape     \u001b[0m\u001b[1m \u001b[0m┃\u001b[1m \u001b[0m\u001b[1m   Param #\u001b[0m\u001b[1m \u001b[0m┃\u001b[1m \u001b[0m\u001b[1mConnected to     \u001b[0m\u001b[1m \u001b[0m┃\n",
              "┡━━━━━━━━━━━━━━━━━━━━━╇━━━━━━━━━━━━━━━━━━━╇━━━━━━━━━━━━╇━━━━━━━━━━━━━━━━━━━┩\n",
              "│ input_layer_6       │ (\u001b[38;5;45mNone\u001b[0m, \u001b[38;5;34m32\u001b[0m)        │          \u001b[38;5;34m0\u001b[0m │ -                 │\n",
              "│ (\u001b[38;5;33mInputLayer\u001b[0m)        │                   │            │                   │\n",
              "├─────────────────────┼───────────────────┼────────────┼───────────────────┤\n",
              "│ input_layer_7       │ (\u001b[38;5;45mNone\u001b[0m, \u001b[38;5;34m1\u001b[0m)         │          \u001b[38;5;34m0\u001b[0m │ -                 │\n",
              "│ (\u001b[38;5;33mInputLayer\u001b[0m)        │                   │            │                   │\n",
              "├─────────────────────┼───────────────────┼────────────┼───────────────────┤\n",
              "│ Generator           │ (\u001b[38;5;45mNone\u001b[0m, \u001b[38;5;34m29\u001b[0m)        │    \u001b[38;5;34m187,357\u001b[0m │ input_layer_6[\u001b[38;5;34m0\u001b[0m]… │\n",
              "│ (\u001b[38;5;33mFunctional\u001b[0m)        │                   │            │ input_layer_7[\u001b[38;5;34m0\u001b[0m]… │\n",
              "├─────────────────────┼───────────────────┼────────────┼───────────────────┤\n",
              "│ Discriminator       │ (\u001b[38;5;45mNone\u001b[0m, \u001b[38;5;34m1\u001b[0m)         │      \u001b[38;5;34m7,995\u001b[0m │ Generator[\u001b[38;5;34m0\u001b[0m][\u001b[38;5;34m0\u001b[0m],  │\n",
              "│ (\u001b[38;5;33mFunctional\u001b[0m)        │                   │            │ input_layer_7[\u001b[38;5;34m0\u001b[0m]… │\n",
              "└─────────────────────┴───────────────────┴────────────┴───────────────────┘\n"
            ],
            "text/html": [
              "<pre style=\"white-space:pre;overflow-x:auto;line-height:normal;font-family:Menlo,'DejaVu Sans Mono',consolas,'Courier New',monospace\">┏━━━━━━━━━━━━━━━━━━━━━┳━━━━━━━━━━━━━━━━━━━┳━━━━━━━━━━━━┳━━━━━━━━━━━━━━━━━━━┓\n",
              "┃<span style=\"font-weight: bold\"> Layer (type)        </span>┃<span style=\"font-weight: bold\"> Output Shape      </span>┃<span style=\"font-weight: bold\">    Param # </span>┃<span style=\"font-weight: bold\"> Connected to      </span>┃\n",
              "┡━━━━━━━━━━━━━━━━━━━━━╇━━━━━━━━━━━━━━━━━━━╇━━━━━━━━━━━━╇━━━━━━━━━━━━━━━━━━━┩\n",
              "│ input_layer_6       │ (<span style=\"color: #00d7ff; text-decoration-color: #00d7ff\">None</span>, <span style=\"color: #00af00; text-decoration-color: #00af00\">32</span>)        │          <span style=\"color: #00af00; text-decoration-color: #00af00\">0</span> │ -                 │\n",
              "│ (<span style=\"color: #0087ff; text-decoration-color: #0087ff\">InputLayer</span>)        │                   │            │                   │\n",
              "├─────────────────────┼───────────────────┼────────────┼───────────────────┤\n",
              "│ input_layer_7       │ (<span style=\"color: #00d7ff; text-decoration-color: #00d7ff\">None</span>, <span style=\"color: #00af00; text-decoration-color: #00af00\">1</span>)         │          <span style=\"color: #00af00; text-decoration-color: #00af00\">0</span> │ -                 │\n",
              "│ (<span style=\"color: #0087ff; text-decoration-color: #0087ff\">InputLayer</span>)        │                   │            │                   │\n",
              "├─────────────────────┼───────────────────┼────────────┼───────────────────┤\n",
              "│ Generator           │ (<span style=\"color: #00d7ff; text-decoration-color: #00d7ff\">None</span>, <span style=\"color: #00af00; text-decoration-color: #00af00\">29</span>)        │    <span style=\"color: #00af00; text-decoration-color: #00af00\">187,357</span> │ input_layer_6[<span style=\"color: #00af00; text-decoration-color: #00af00\">0</span>]… │\n",
              "│ (<span style=\"color: #0087ff; text-decoration-color: #0087ff\">Functional</span>)        │                   │            │ input_layer_7[<span style=\"color: #00af00; text-decoration-color: #00af00\">0</span>]… │\n",
              "├─────────────────────┼───────────────────┼────────────┼───────────────────┤\n",
              "│ Discriminator       │ (<span style=\"color: #00d7ff; text-decoration-color: #00d7ff\">None</span>, <span style=\"color: #00af00; text-decoration-color: #00af00\">1</span>)         │      <span style=\"color: #00af00; text-decoration-color: #00af00\">7,995</span> │ Generator[<span style=\"color: #00af00; text-decoration-color: #00af00\">0</span>][<span style=\"color: #00af00; text-decoration-color: #00af00\">0</span>],  │\n",
              "│ (<span style=\"color: #0087ff; text-decoration-color: #0087ff\">Functional</span>)        │                   │            │ input_layer_7[<span style=\"color: #00af00; text-decoration-color: #00af00\">0</span>]… │\n",
              "└─────────────────────┴───────────────────┴────────────┴───────────────────┘\n",
              "</pre>\n"
            ]
          },
          "metadata": {}
        },
        {
          "output_type": "display_data",
          "data": {
            "text/plain": [
              "\u001b[1m Total params: \u001b[0m\u001b[38;5;34m195,352\u001b[0m (763.09 KB)\n"
            ],
            "text/html": [
              "<pre style=\"white-space:pre;overflow-x:auto;line-height:normal;font-family:Menlo,'DejaVu Sans Mono',consolas,'Courier New',monospace\"><span style=\"font-weight: bold\"> Total params: </span><span style=\"color: #00af00; text-decoration-color: #00af00\">195,352</span> (763.09 KB)\n",
              "</pre>\n"
            ]
          },
          "metadata": {}
        },
        {
          "output_type": "display_data",
          "data": {
            "text/plain": [
              "\u001b[1m Trainable params: \u001b[0m\u001b[38;5;34m185,565\u001b[0m (724.86 KB)\n"
            ],
            "text/html": [
              "<pre style=\"white-space:pre;overflow-x:auto;line-height:normal;font-family:Menlo,'DejaVu Sans Mono',consolas,'Courier New',monospace\"><span style=\"font-weight: bold\"> Trainable params: </span><span style=\"color: #00af00; text-decoration-color: #00af00\">185,565</span> (724.86 KB)\n",
              "</pre>\n"
            ]
          },
          "metadata": {}
        },
        {
          "output_type": "display_data",
          "data": {
            "text/plain": [
              "\u001b[1m Non-trainable params: \u001b[0m\u001b[38;5;34m9,787\u001b[0m (38.23 KB)\n"
            ],
            "text/html": [
              "<pre style=\"white-space:pre;overflow-x:auto;line-height:normal;font-family:Menlo,'DejaVu Sans Mono',consolas,'Courier New',monospace\"><span style=\"font-weight: bold\"> Non-trainable params: </span><span style=\"color: #00af00; text-decoration-color: #00af00\">9,787</span> (38.23 KB)\n",
              "</pre>\n"
            ]
          },
          "metadata": {}
        }
      ],
      "source": [
        "cgan = cGAN()"
      ]
    },
    {
      "cell_type": "markdown",
      "id": "2d2d7879",
      "metadata": {
        "id": "2d2d7879"
      },
      "source": [
        "## Training GAN"
      ]
    },
    {
      "cell_type": "code",
      "execution_count": null,
      "id": "6c286d31",
      "metadata": {
        "id": "6c286d31",
        "colab": {
          "base_uri": "https://localhost:8080/"
        },
        "outputId": "8daeea54-59f4-4430-ff11-a22a8417dcbf"
      },
      "outputs": [
        {
          "output_type": "stream",
          "name": "stderr",
          "text": [
            "/usr/local/lib/python3.11/dist-packages/tensorflow/python/data/ops/structured_function.py:258: UserWarning:\n",
            "\n",
            "Even though the `tf.config.experimental_run_functions_eagerly` option is set, this option does not apply to tf.data functions. To force eager execution of tf.data functions, please use `tf.data.experimental.enable_debug_mode()`.\n",
            "\n"
          ]
        },
        {
          "output_type": "stream",
          "name": "stdout",
          "text": [
            "50 [D loss: 0.6906, acc: 0.00%] [G loss: 0.6886, acc: 64.44%]\n",
            "Disc pred on real: [0.5  0.55 0.5  0.5  0.6 ]\n",
            "Disc pred on fake: [0.5 0.5 0.5 0.5 0.5]\n",
            "100 [D loss: 0.6828, acc: 0.00%] [G loss: 0.6865, acc: 62.41%]\n",
            "Disc pred on real: [0.5  0.5  0.5  0.5  0.49]\n",
            "Disc pred on fake: [0.48 0.54 0.48 0.48 0.48]\n",
            "\u001b[1m1/1\u001b[0m \u001b[32m━━━━━━━━━━━━━━━━━━━━\u001b[0m\u001b[37m\u001b[0m \u001b[1m0s\u001b[0m 71ms/step\n",
            "Generated samples at epoch 100:\n",
            "[[ 0.85171336 -0.33093008  0.9991558  -0.98551375  0.92227155  0.39639595\n",
            "  -0.5671277   0.37082848  0.8219787   0.53331125 -0.9872219   0.8471299\n",
            "  -0.9410953   0.8107588  -0.23542234  0.97340775  0.99469864  0.9889088\n",
            "  -0.6201993  -0.61816144  0.3602849   0.65211535 -0.04962528  0.9160393\n",
            "   0.05086384 -0.9954616  -0.98932165 -0.6900383   0.3147229 ]\n",
            " [-0.99985456  0.9997855  -0.9926968   0.9999971   0.956497    0.59213316\n",
            "  -0.99836755 -0.9572676  -0.17773624 -0.93668926  0.997746   -0.99951816\n",
            "   0.10208406 -0.99766827  0.92070353 -0.99998546 -0.9999299  -0.9836809\n",
            "   0.908065    0.9195786  -0.89223176 -0.93788123 -0.52383786 -0.9812568\n",
            "  -0.46772012  0.9874237   0.4290589  -0.16241185 -0.8552747 ]\n",
            " [ 0.9482898  -0.99533665  0.36131322 -0.9983871   0.8161631   0.3234864\n",
            "   0.78477687 -0.6985873   0.8085605   0.3087198  -0.9710844   0.9551727\n",
            "   0.8548106   0.9835796  -0.25032213  0.99651974  0.9959692   0.60924613\n",
            "  -0.24221085 -0.86088604 -0.45788422  0.2558858  -0.07038712  0.49816027\n",
            "  -0.56640804 -0.51292837 -0.368633   -0.19498743  0.7972304 ]\n",
            " [-0.9993258   0.9999971  -0.9936042   0.9999972  -0.8152869  -0.7000332\n",
            "  -0.10050721  0.9048456  -0.99972993 -0.6593505   0.9996568  -0.9996141\n",
            "  -0.44240764 -0.91169894  0.9979052  -0.99996805 -0.9999973  -0.99272\n",
            "  -0.9915333   0.97757894  0.7787972   0.37805417 -0.99432206 -0.90770674\n",
            "  -0.58262926  0.79178923  0.89329714  0.72513396 -0.97413677]\n",
            " [-0.84474677  0.99344    -0.9740424   0.9997423   0.7169047  -0.7459095\n",
            "  -0.2282046   0.8837509  -0.29337394 -0.33609346  0.98932475 -0.9942221\n",
            "  -0.9020916  -0.3336092   0.8884245  -0.9911463  -0.99955344 -0.9809352\n",
            "  -0.9114206   0.97596574  0.12626712 -0.5177211  -0.8997599   0.8085245\n",
            "   0.93268    -0.03323454  0.79398185 -0.07190556  0.5595958 ]]\n",
            "150 [D loss: 0.6773, acc: 0.00%] [G loss: 0.6826, acc: 61.56%]\n",
            "Disc pred on real: [0.93 0.49 0.71 0.71 0.49]\n",
            "Disc pred on fake: [0.54 0.46 0.53 0.55 0.54]\n",
            "200 [D loss: 0.6760, acc: 0.00%] [G loss: 0.6801, acc: 63.72%]\n",
            "Disc pred on real: [0.49 0.48 0.49 0.51 0.49]\n",
            "Disc pred on fake: [0.52 0.51 0.45 0.53 0.51]\n",
            "\u001b[1m1/1\u001b[0m \u001b[32m━━━━━━━━━━━━━━━━━━━━\u001b[0m\u001b[37m\u001b[0m \u001b[1m0s\u001b[0m 61ms/step\n",
            "Generated samples at epoch 200:\n",
            "[[-9.9981725e-01  9.9823350e-01  7.2225906e-02  9.9992913e-01\n",
            "   5.3600961e-04 -9.9531853e-01 -9.6368521e-01 -1.1210838e-01\n",
            "  -9.8855144e-01 -6.0715270e-01  9.4051325e-01 -9.9850053e-01\n",
            "   9.8615581e-01 -2.9538175e-01  9.1503435e-01 -9.8403066e-01\n",
            "  -9.7659516e-01 -9.8572576e-01 -7.8232676e-01  9.9610859e-01\n",
            "  -9.9984884e-01 -9.4360834e-01  7.7429956e-01  6.7120981e-01\n",
            "  -9.3734843e-01  8.2521665e-01  9.7350365e-01  8.8097757e-01\n",
            "   7.4618345e-01]\n",
            " [-9.5797342e-01  2.7721873e-01 -9.8067081e-01  9.9360585e-01\n",
            "  -6.7632812e-01 -6.6901606e-01 -9.8661000e-01 -8.1349415e-01\n",
            "  -9.5451677e-01 -8.8196534e-01  9.1772360e-01 -9.9791652e-01\n",
            "   9.2954528e-01 -9.5772761e-01 -1.4438762e-01 -9.2313415e-01\n",
            "  -9.9884325e-01 -9.6282017e-01 -9.7927803e-01  8.2642037e-01\n",
            "  -5.0587630e-01 -9.9590915e-01  9.1045147e-01  6.4109787e-02\n",
            "  -9.8975813e-01  8.7190735e-01  4.2253083e-01  6.9285119e-01\n",
            "   9.7222990e-01]\n",
            " [-9.9739206e-01  9.8316437e-01 -9.8616529e-01  9.4622838e-01\n",
            "  -9.4160169e-01 -6.4847195e-01 -9.5787841e-01 -7.0776127e-02\n",
            "  -8.4553945e-01 -9.8058629e-01  9.5835590e-01 -9.9031454e-01\n",
            "  -7.3451602e-01 -9.8651886e-01  6.6191107e-01 -9.9442661e-01\n",
            "  -9.9694359e-01 -9.6841687e-01 -4.4400564e-01  9.6056753e-01\n",
            "   8.4991616e-01  7.3404014e-01  1.3018530e-02  4.3335015e-01\n",
            "  -9.5190412e-01 -1.1621981e-01  8.6677229e-01  5.1837351e-02\n",
            "  -2.5975412e-01]\n",
            " [-9.7850370e-01  9.9371886e-01 -9.9650156e-01  9.9994552e-01\n",
            "   8.4443070e-02 -8.9083230e-01 -9.8589331e-01  1.1626911e-01\n",
            "  -9.9297458e-01 -9.3893528e-01  9.8008943e-01 -9.9855345e-01\n",
            "   9.5288092e-01 -9.5324761e-01 -5.9480447e-01 -9.5507073e-01\n",
            "  -9.9050522e-01 -9.2969239e-01 -9.4214642e-01  8.3355278e-01\n",
            "  -2.5097287e-01  6.9391680e-01  8.5240155e-01  3.4881806e-01\n",
            "  -8.2685465e-01 -9.2955214e-01  9.6178114e-01  1.4702886e-01\n",
            "   5.8353704e-01]\n",
            " [-9.8504227e-01  9.7466445e-01 -9.6777403e-01  9.9916536e-01\n",
            "  -5.3282851e-01 -9.0003258e-01 -9.8146045e-01 -5.5218881e-01\n",
            "  -4.3413550e-01 -9.9447352e-01  9.5777190e-01 -9.9722695e-01\n",
            "   3.7161419e-01 -9.4845670e-01  2.5857788e-01 -9.8006082e-01\n",
            "  -9.8221189e-01 -9.4258142e-01 -9.1625929e-01  9.6494609e-01\n",
            "   7.5363964e-01  2.3528194e-01 -1.4211838e-01  9.3476200e-01\n",
            "  -4.9958542e-01  4.0037605e-01 -3.5931766e-01  5.7537431e-01\n",
            "  -7.7981436e-01]]\n",
            "250 [D loss: 0.6757, acc: 0.00%] [G loss: 0.6795, acc: 65.07%]\n",
            "Disc pred on real: [0.58 0.49 0.49 0.49 0.49]\n",
            "Disc pred on fake: [0.52 0.5  0.5  0.5  0.46]\n",
            "300 [D loss: 0.6749, acc: 0.00%] [G loss: 0.6796, acc: 64.97%]\n",
            "Disc pred on real: [0.49 0.49 0.49 0.86 0.49]\n",
            "Disc pred on fake: [0.49 0.48 0.48 0.52 0.49]\n",
            "\u001b[1m1/1\u001b[0m \u001b[32m━━━━━━━━━━━━━━━━━━━━\u001b[0m\u001b[37m\u001b[0m \u001b[1m0s\u001b[0m 60ms/step\n",
            "Generated samples at epoch 300:\n",
            "[[ 0.93712026 -0.50638825 -0.9781267   0.97226006  0.9872137  -0.3982148\n",
            "  -0.91331255 -0.8789033  -0.9512726  -0.96148634  0.91896635 -0.9824122\n",
            "  -0.6363582  -0.97455835 -0.9031148  -0.9609723  -0.9910479   0.9411491\n",
            "   0.01876317 -0.93233895  0.1339213   0.04949505  0.96112514 -0.067632\n",
            "   0.8894128  -0.7769306  -0.9988882  -0.8541766   0.30664796]\n",
            " [ 0.09281514  0.1149865  -0.97090137  0.98127896  0.40834174 -0.13217847\n",
            "  -0.9724641   0.24085237 -0.91580427 -0.8633636   0.64159316 -0.97618484\n",
            "  -0.5659838  -0.9835449   0.5974949  -0.9489114  -0.9886365   0.29667598\n",
            "   0.85021514  0.07173138  0.6925905   0.00191152 -0.43434685  0.19850309\n",
            "  -0.90701365 -0.8309784   0.71590763 -0.41317365 -0.9128843 ]\n",
            " [-0.9297663   0.9980635  -0.96475005  0.99331933  0.9840337  -0.08020537\n",
            "  -0.9694806  -0.94698966 -0.95788765 -0.9892272   0.97797656 -0.9971309\n",
            "  -0.9029358  -0.9946515  -0.95288295 -0.9908697  -0.9983125   0.8831654\n",
            "  -0.03527419 -0.5801469   0.9490159   0.6428292   0.95619166 -0.33800924\n",
            "   0.79739034 -0.9314878  -0.9999252  -0.6832614  -0.7850013 ]\n",
            " [ 0.9678647  -0.96730226 -0.997035    0.99562335  0.9373877  -0.9377238\n",
            "  -0.9917337  -0.96729934 -0.9754008  -0.9949317   0.88648075 -0.99737024\n",
            "  -0.8411153  -0.99888915 -0.776088   -0.96015376 -0.9956532   0.87127286\n",
            "  -0.547465    0.20859352  0.7456338   0.42182204  0.83884925  0.79507387\n",
            "   0.19393945  0.961807   -0.9757358   0.14244553  0.81321496]\n",
            " [ 0.36018276  0.35092834 -0.99779046  0.9965649   0.21416171  0.01360815\n",
            "  -0.9922202   0.08163105 -0.8982019  -0.998243    0.9631454  -0.9985684\n",
            "  -0.65835226 -0.99727446 -0.97620374 -0.98556817 -0.9969209  -0.55461246\n",
            "   0.35991412  0.4860426   0.9795348  -0.51542646  0.68109685  0.04542747\n",
            "   0.14950684 -0.59610766 -0.9518201  -0.17920215 -0.8841994 ]]\n",
            "350 [D loss: 0.6746, acc: 0.00%] [G loss: 0.6813, acc: 63.00%]\n",
            "Disc pred on real: [0.49 0.48 0.49 0.49 0.48]\n",
            "Disc pred on fake: [0.48 0.51 0.48 0.49 0.48]\n",
            "400 [D loss: 0.6739, acc: 0.00%] [G loss: 0.6832, acc: 60.51%]\n",
            "Disc pred on real: [0.52 0.48 0.48 0.71 0.49]\n",
            "Disc pred on fake: [0.5  0.49 0.48 0.51 0.48]\n",
            "\u001b[1m1/1\u001b[0m \u001b[32m━━━━━━━━━━━━━━━━━━━━\u001b[0m\u001b[37m\u001b[0m \u001b[1m0s\u001b[0m 48ms/step\n",
            "Generated samples at epoch 400:\n",
            "[[-0.9999973   0.99822253  0.9989549  -0.99997437  0.3913564  -0.9244042\n",
            "   0.9988431  -0.18949293  0.9997401   0.9998282   0.9900059   0.9998623\n",
            "  -0.36219487  0.9943053   0.51349264  0.8014927   0.99982876 -0.99999905\n",
            "  -0.98026896  0.99704975 -0.63488793 -0.71479386  0.44906735  0.9005637\n",
            "   0.3212666  -0.5576885   0.87719655 -0.38979244 -0.97622937]\n",
            " [ 0.7700278  -0.771326   -0.9923495   0.99804586 -0.7276388   0.9845748\n",
            "  -0.9951731  -0.15853037 -0.99097484 -0.99563175  0.22809184 -0.9991976\n",
            "   0.98743486 -0.99885315  0.43507597 -0.9908913  -0.99949706  0.72440684\n",
            "   0.9015045  -0.7727979   0.9596336  -0.99837667  0.7872959  -0.8898822\n",
            "   0.37251568  0.5312474   0.03705429  0.29265583  0.6619599 ]\n",
            " [ 0.9985367  -0.98317504 -0.8186907   0.8785795  -0.9107343   0.09553035\n",
            "  -0.8854079  -0.25655448 -0.948728   -0.74402666 -0.68670076 -0.95447934\n",
            "  -0.65116227 -0.8737714  -0.888619   -0.9306959  -0.97199965  0.9984896\n",
            "   0.3808386  -0.99404466 -0.9780867   0.6806102   0.2000856  -0.7338606\n",
            "   0.15714148  0.5082725   0.6521056   0.9186255   0.9713565 ]\n",
            " [ 0.41186762 -0.34860978 -0.99286544  0.999338    0.24231778  0.8728927\n",
            "  -0.9980083   0.84819907 -0.9949447  -0.99940044  0.14998992 -0.9999176\n",
            "  -0.10940754 -0.998121    0.9656765  -0.99601674 -0.99964434  0.99826515\n",
            "   0.58736265 -0.634884    0.9780449   0.9976671  -0.9894716   0.6909069\n",
            "   0.97654366  0.9787113   0.822007   -0.41728908 -0.6405709 ]\n",
            " [ 0.89383096 -0.8673232  -0.99902385  0.99935734 -0.22762792 -0.91476524\n",
            "  -0.99871373  0.29700193 -0.99908    -0.99878776  0.74887496 -0.9986603\n",
            "  -0.38395366 -0.99929667  0.01711381 -0.9140662  -0.9986574   0.9706519\n",
            "   0.6914597  -0.30137718  0.9778668   0.6431061  -0.74659795  0.25764614\n",
            "   0.8701893  -0.21922885  0.36233774 -0.57417005 -0.66813624]]\n",
            "450 [D loss: 0.6728, acc: 0.00%] [G loss: 0.6855, acc: 57.92%]\n",
            "Disc pred on real: [0.81 0.68 0.48 0.71 0.48]\n",
            "Disc pred on fake: [0.5  0.5  0.48 0.5  0.48]\n",
            "500 [D loss: 0.6719, acc: 0.00%] [G loss: 0.6878, acc: 55.31%]\n",
            "Disc pred on real: [0.49 0.48 0.48 0.48 0.48]\n",
            "Disc pred on fake: [0.5  0.48 0.48 0.5  0.48]\n",
            "\u001b[1m1/1\u001b[0m \u001b[32m━━━━━━━━━━━━━━━━━━━━\u001b[0m\u001b[37m\u001b[0m \u001b[1m0s\u001b[0m 49ms/step\n",
            "Generated samples at epoch 500:\n",
            "[[ 0.997776   -0.45448077 -0.9092897   0.8741724  -0.934291   -0.8985094\n",
            "  -0.53835934 -0.96646434 -0.8338401  -0.58054036 -0.9795129  -0.92819345\n",
            "   0.19380707 -0.32996282  0.59191513  0.8804311  -0.94945884  0.9644447\n",
            "   0.76721716  0.9292032  -0.96438813  0.73287255 -0.87371767  0.43914294\n",
            "  -0.9368621   0.7567272   0.96226054  0.95529336  0.8816132 ]\n",
            " [ 0.97044474  0.6543148  -0.9679833   0.98170555 -0.12773716 -0.98655546\n",
            "  -0.98209214 -0.66322225 -0.977136   -0.99614894 -0.61079293 -0.99818516\n",
            "  -0.45526263 -0.99844426 -0.12418705  0.10984384 -0.99962133  0.9676839\n",
            "  -0.95549667  0.50791186  0.63256884 -0.6954366   0.7609236   0.32043946\n",
            "  -0.84441906  0.7088294   0.53797406  0.98712873  0.9928339 ]\n",
            " [ 0.9947631  -0.18785857 -0.6738952   0.7578409  -0.85931545 -0.8520713\n",
            "  -0.06282911 -0.9920442  -0.7753491  -0.15836889 -0.9924301  -0.84175193\n",
            "  -0.58011657 -0.13108745  0.4890543   0.9652579  -0.8897704   0.99123657\n",
            "   0.03294723  0.78799397 -0.9945561   0.42402866 -0.94994587 -0.34804326\n",
            "  -0.91174185 -0.01485667  0.9725821   0.95885503  0.9365462 ]\n",
            " [ 0.96084255  0.4670109  -0.99496     0.9960403   0.02725543 -0.99993134\n",
            "  -0.9965619  -0.9613704  -0.98819536 -0.9992236  -0.9248326  -0.9979167\n",
            "   0.18113962 -0.9993684  -0.9448065   0.9709868  -0.9983528   0.98640275\n",
            "   0.4913573  -0.7984525   0.6347617  -0.40611702  0.8992452  -0.03203769\n",
            "  -0.15013722 -0.9262493   0.4243101   0.06408396 -0.40345126]\n",
            " [ 0.970219    0.97506404 -0.99849844  0.9992035   0.48148564 -0.40603754\n",
            "  -0.98697543 -0.8276983  -0.93876284 -0.9993416  -0.95803756 -0.99932283\n",
            "  -0.9297546  -0.9973237  -0.68947846  0.9854846  -0.99928     0.99547535\n",
            "   0.4691255  -0.76326996  0.9480521  -0.07395242  0.73223734 -0.9581028\n",
            "   0.16840242 -0.9723473  -0.19214118  0.31894597 -0.161823  ]]\n",
            "550 [D loss: 0.6715, acc: 0.00%] [G loss: 0.6908, acc: 52.15%]\n",
            "Disc pred on real: [0.7  0.48 0.48 0.48 0.48]\n",
            "Disc pred on fake: [0.49 0.48 0.47 0.47 0.48]\n",
            "600 [D loss: 0.6703, acc: 0.00%] [G loss: 0.6936, acc: 49.34%]\n",
            "Disc pred on real: [0.48 0.48 0.48 0.82 0.48]\n",
            "Disc pred on fake: [0.47 0.47 0.48 0.49 0.48]\n",
            "\u001b[1m1/1\u001b[0m \u001b[32m━━━━━━━━━━━━━━━━━━━━\u001b[0m\u001b[37m\u001b[0m \u001b[1m0s\u001b[0m 49ms/step\n",
            "Generated samples at epoch 600:\n",
            "[[-0.9999129  -0.48788393  0.9922966   0.4887195  -0.4688972  -0.3264539\n",
            "  -0.7493403   0.7560319  -0.9988658   0.9884291   0.99661094  0.96049947\n",
            "   0.01285761  0.64768636 -0.9883331  -0.99999964  0.9778695  -0.7850737\n",
            "   0.9896232  -0.851264    0.98890823  0.54100186  0.97403723 -0.3141355\n",
            "   0.55515987 -0.83501714 -0.94466096  0.43034667  0.93570346]\n",
            " [ 0.3526052   0.74827176 -0.9821946   0.9964676   0.67399967 -0.95112365\n",
            "  -0.92692924 -0.95582026 -0.9680441  -0.99956185  0.62064487 -0.9999007\n",
            "  -0.6762409  -0.9988943   0.10718303  0.5608131  -0.9998414   0.98396075\n",
            "   0.9296656   0.11965012  0.26398042 -0.86817104 -0.17740968 -0.6221078\n",
            "   0.7978418   0.88112867  0.12777121 -0.17822139 -0.95619696]\n",
            " [ 0.62578976  0.9414564  -0.82992554 -0.91278857  0.9291274  -0.4402398\n",
            "   0.67745394 -0.14759485  0.8264172  -0.47319514 -0.76236296 -0.9391243\n",
            "  -0.50937974 -0.18908435  0.76317054  0.99612033 -0.9414668  -0.13668457\n",
            "  -0.20462066  0.85289186 -0.9827559  -0.42582494 -0.76708174  0.5881748\n",
            "  -0.8229522  -0.59992135 -0.514668   -0.6755337  -0.95664674]\n",
            " [ 0.77383465 -0.09657674 -0.9996105   0.99988383 -0.30254704 -0.7386698\n",
            "  -0.99575573  0.84455794 -0.9882662  -0.9998929   0.17109166 -0.99988526\n",
            "   0.736393   -0.9999644   0.98464113  0.8650063  -0.9996679   0.8095039\n",
            "  -0.84565544 -0.11097205  0.8131511  -0.6874089   0.64251494  0.5701594\n",
            "   0.94401443  0.91531086  0.85596514  0.2651085  -0.6219921 ]\n",
            " [ 0.8310609   0.86683345 -0.99570173  0.98065215  0.43176943  0.00233196\n",
            "  -0.8553231  -0.070799   -0.96224207 -0.99804646 -0.07178057 -0.9990752\n",
            "   0.8809712  -0.9995018  -0.6372035   0.9740903  -0.99951774  0.88180757\n",
            "   0.01692884 -0.1481542   0.3936001   0.11641432 -0.37187567  0.7018312\n",
            "  -0.21707155 -0.6866327   0.12888525 -0.9097555  -0.99581987]]\n",
            "650 [D loss: 0.6692, acc: 0.00%] [G loss: 0.6962, acc: 46.97%]\n",
            "Disc pred on real: [0.47 0.48 0.47 0.47 0.47]\n",
            "Disc pred on fake: [0.47 0.47 0.47 0.47 0.47]\n",
            "700 [D loss: 0.6692, acc: 0.00%] [G loss: 0.6991, acc: 44.34%]\n",
            "Disc pred on real: [0.48 0.52 0.47 0.47 0.47]\n",
            "Disc pred on fake: [0.47 0.48 0.47 0.47 0.47]\n",
            "\u001b[1m1/1\u001b[0m \u001b[32m━━━━━━━━━━━━━━━━━━━━\u001b[0m\u001b[37m\u001b[0m \u001b[1m0s\u001b[0m 43ms/step\n",
            "Generated samples at epoch 700:\n",
            "[[ 9.85522866e-01 -9.45730507e-01  2.71813393e-01 -1.26526475e-01\n",
            "  -9.68023181e-01 -9.53965127e-01 -9.68665898e-01 -9.15395319e-01\n",
            "   6.84264302e-01  8.77528548e-01 -6.38865292e-01  9.39498305e-01\n",
            "  -8.21700573e-01  7.95807838e-01 -5.80716133e-01 -9.99990821e-01\n",
            "   9.66519058e-01  4.84677672e-01  7.94106722e-01 -7.00185776e-01\n",
            "   9.85093713e-01 -8.79766524e-01  5.70480041e-02 -7.95570850e-01\n",
            "   9.68063712e-01 -8.33233833e-01 -5.27439415e-01  5.84136307e-01\n",
            "   9.85254109e-01]\n",
            " [ 5.28090835e-01  7.63603628e-01 -9.40228581e-01  9.84788001e-01\n",
            "  -9.60615933e-01  6.37658179e-01 -1.64696768e-01 -1.25670666e-02\n",
            "  -9.80077863e-01 -9.96269882e-01  9.34948742e-01 -9.97994184e-01\n",
            "   9.69194591e-01 -9.98748481e-01 -7.81456172e-01  9.93221164e-01\n",
            "  -9.99067187e-01  2.12734386e-01  8.60863149e-01 -9.33099329e-01\n",
            "  -7.76546419e-01  8.26726556e-01  6.03126228e-01  5.79035699e-01\n",
            "   2.08523139e-01 -4.92284209e-01 -5.71627200e-01 -7.26810813e-01\n",
            "  -9.60171819e-01]\n",
            " [ 9.99802709e-01 -1.00000000e+00  9.99843061e-01 -1.00000000e+00\n",
            "  -8.92692924e-01 -9.72839355e-01  4.93542664e-02 -9.09584820e-01\n",
            "   1.00000000e+00  1.00000000e+00 -1.00000000e+00  1.00000000e+00\n",
            "  -9.99980032e-01  1.00000000e+00  9.88442719e-01 -1.00000000e+00\n",
            "   1.00000000e+00  6.07071102e-01 -2.42337734e-01  9.94646728e-01\n",
            "   1.00000000e+00 -9.35247481e-01 -9.96658444e-01  5.73449790e-01\n",
            "   9.98939037e-01 -2.27290377e-01  9.98860657e-01  7.51497567e-01\n",
            "   1.00000000e+00]\n",
            " [ 3.43611151e-01  9.82306242e-01 -9.94605899e-01  9.99534070e-01\n",
            "  -2.32681736e-01  1.61696985e-01 -9.81038868e-01 -8.55243385e-01\n",
            "  -9.89506900e-01 -9.99803722e-01  9.95721638e-01 -9.99933004e-01\n",
            "   9.64892685e-01 -9.99930084e-01 -9.74712074e-01  9.85089958e-01\n",
            "  -9.99972165e-01 -9.01647449e-01  9.24323797e-01 -1.32889047e-01\n",
            "  -9.06646252e-01 -9.80422854e-01  9.72293139e-01 -7.51443624e-01\n",
            "  -3.46006989e-01  1.65561631e-01  3.92512888e-01  4.47689801e-01\n",
            "  -9.68791544e-01]\n",
            " [-4.55798298e-01  9.39212203e-01 -9.99151766e-01  9.97900069e-01\n",
            "  -8.53681743e-01 -7.38578498e-01 -8.42000902e-01 -8.55717459e-04\n",
            "  -9.91001844e-01 -9.99815166e-01  8.92775238e-01 -9.99441385e-01\n",
            "   5.35279363e-02 -9.99844968e-01  1.09830275e-01  9.19624507e-01\n",
            "  -9.99122620e-01 -7.34797835e-01  8.24561536e-01 -3.86232026e-02\n",
            "  -3.37320477e-01 -1.60776258e-01  3.66404474e-01  1.21452305e-02\n",
            "  -6.51798964e-01 -9.57792461e-01 -6.99644864e-01 -5.22863530e-02\n",
            "  -7.71871284e-02]]\n",
            "750 [D loss: 0.6687, acc: 0.00%] [G loss: 0.7018, acc: 41.89%]\n",
            "Disc pred on real: [0.47 0.91 0.88 0.47 0.47]\n",
            "Disc pred on fake: [0.48 0.48 0.48 0.47 0.47]\n",
            "800 [D loss: 0.6682, acc: 0.00%] [G loss: 0.7046, acc: 39.54%]\n",
            "Disc pred on real: [0.47 0.47 0.47 0.47 0.47]\n",
            "Disc pred on fake: [0.47 0.47 0.47 0.47 0.47]\n",
            "\u001b[1m1/1\u001b[0m \u001b[32m━━━━━━━━━━━━━━━━━━━━\u001b[0m\u001b[37m\u001b[0m \u001b[1m0s\u001b[0m 43ms/step\n",
            "Generated samples at epoch 800:\n",
            "[[ 1.         -1.         -0.6633116  -1.          0.9999959   0.99999946\n",
            "  -0.99996907  1.          0.9972989   1.         -1.          1.\n",
            "   0.99999964  1.          0.6394341  -1.          1.          1.\n",
            "  -0.99991125 -0.56514835 -0.9998539  -0.9999734  -0.99976575 -0.84698856\n",
            "  -0.8594192   0.99362576 -0.00929051  0.4125523   0.48147404]\n",
            " [-0.48792708  0.9141937  -0.28657585  0.98284423 -0.9490031  -0.9592507\n",
            "   0.9860119  -0.8988605  -0.6492421  -0.992049    0.91772044 -0.99669135\n",
            "  -0.8821958  -0.9915375  -0.92067206  0.99396074 -0.99523234 -0.92888665\n",
            "   0.94820184 -0.27953738  0.9479902   0.8652214   0.20578907  0.55711406\n",
            "  -0.6451278  -0.3106975  -0.62727237  0.37021905 -0.8797078 ]\n",
            " [-0.98962843  0.99535877  0.97142607  0.9806452  -0.84722835 -0.7123074\n",
            "   0.24212705 -0.95719004  0.7801527  -0.8797355   0.5691419  -0.97773105\n",
            "  -0.34217033 -0.75670385 -0.6271624   0.9962261  -0.974733    0.15682732\n",
            "   0.25322637 -0.7270595   0.8473518   0.6125616   0.866892   -0.11857343\n",
            "   0.8418985  -0.7274314  -0.9623838   0.05250836 -0.6988964 ]\n",
            " [-0.8544019   0.94922453 -0.87749314  0.99508864 -0.89174277 -0.83338267\n",
            "  -0.9078256  -0.72789156 -0.71115345 -0.99227136  0.9889074  -0.99797356\n",
            "  -0.9729108  -0.99881107 -0.605109    0.98556536 -0.9987594  -0.6765501\n",
            "   0.9508684  -0.6178268   0.94525015 -0.8368034   0.9793564  -0.80284786\n",
            "   0.4141607  -0.9173595  -0.9224985  -0.61170024 -0.97845644]\n",
            " [-0.9300841   0.8453256   0.48782676  0.99916285 -0.94879836  0.41860065\n",
            "   0.9503123  -0.9628572  -0.5479337  -0.99867266  0.9609531  -0.99895513\n",
            "   0.06884969 -0.99834657  0.00312197  0.9980733  -0.9993361  -0.61533946\n",
            "   0.86367154 -0.82424337  0.8053306  -0.10328341  0.9316201  -0.23265833\n",
            "   0.65709865 -0.8125951   0.5973058  -0.82979286 -0.69011354]]\n",
            "850 [D loss: 0.6682, acc: 0.00%] [G loss: 0.7074, acc: 37.39%]\n",
            "Disc pred on real: [0.47 0.47 0.47 0.46 0.47]\n",
            "Disc pred on fake: [0.46 0.47 0.47 0.47 0.47]\n",
            "900 [D loss: 0.6677, acc: 0.00%] [G loss: 0.7099, acc: 35.51%]\n",
            "Disc pred on real: [0.47 0.97 0.46 0.55 0.46]\n",
            "Disc pred on fake: [0.47 0.47 0.47 0.47 0.47]\n",
            "\u001b[1m1/1\u001b[0m \u001b[32m━━━━━━━━━━━━━━━━━━━━\u001b[0m\u001b[37m\u001b[0m \u001b[1m0s\u001b[0m 45ms/step\n",
            "Generated samples at epoch 900:\n",
            "[[ 8.1608570e-01 -9.9629515e-01 -9.9176198e-01 -9.9978459e-01\n",
            "   9.3744677e-01  5.2597719e-01  6.0610324e-01  6.9729859e-01\n",
            "  -7.7669311e-01  9.9999952e-01 -9.9999934e-01  1.0000000e+00\n",
            "   1.0000000e+00  1.0000000e+00  6.8987542e-01 -1.0000000e+00\n",
            "   1.0000000e+00  9.9977368e-01  9.9999946e-01  8.2918960e-01\n",
            "  -9.6996999e-01 -9.9440992e-01 -4.2418092e-01 -8.9508849e-01\n",
            "  -3.0084661e-01 -5.2344495e-01  5.8232840e-02  8.8068587e-01\n",
            "  -8.9509058e-01]\n",
            " [ 3.6266163e-01  7.8353125e-01  9.9741638e-01  8.1576490e-01\n",
            "  -8.9628476e-01 -9.6014738e-01 -2.5322551e-01  2.9943907e-01\n",
            "  -9.6328992e-01 -9.9363655e-01  9.5467257e-01 -9.9559647e-01\n",
            "  -9.8444927e-01 -9.9856108e-01  5.6626058e-01  9.6277612e-01\n",
            "  -9.9935877e-01  4.0249518e-04 -5.4122293e-01 -2.2076012e-01\n",
            "   7.0185184e-01  9.6497267e-01 -2.2724971e-01  1.7585270e-01\n",
            "   4.5936367e-01  8.7492847e-01  5.2264249e-01 -9.4896424e-01\n",
            "  -9.5041096e-01]\n",
            " [ 9.3729627e-01 -9.2563230e-01  9.9890387e-01 -9.8590499e-01\n",
            "  -4.7022000e-01  2.9267052e-01  9.8233384e-01  8.8639641e-01\n",
            "  -3.8845956e-01  4.1807845e-01  6.2781018e-01 -5.5972344e-01\n",
            "  -7.7007443e-01 -2.9538357e-01  6.9097769e-01  9.9974501e-01\n",
            "  -9.4178015e-01 -8.6070430e-01 -8.3249223e-01  2.8318161e-01\n",
            "   5.6064934e-01  7.0166045e-01  5.1927674e-01  9.7009867e-01\n",
            "   1.7107257e-01  5.6759632e-01  9.7007471e-01  2.6142687e-01\n",
            "   9.5330453e-01]\n",
            " [ 3.2438731e-01  9.4206524e-01 -9.3654001e-01  9.8603725e-01\n",
            "  -7.9221129e-01 -5.2521676e-01 -9.9766457e-01  1.9117202e-01\n",
            "  -6.7981726e-01 -9.9889201e-01  9.9443924e-01 -9.9960452e-01\n",
            "  -9.7249991e-01 -9.9956441e-01 -1.9339742e-01  8.5679102e-01\n",
            "  -9.9971694e-01 -8.1748420e-01 -4.8219672e-01  1.1839222e-01\n",
            "   9.4398928e-01  1.1089512e-01  8.7107712e-01 -5.6591243e-01\n",
            "  -9.9555001e-02  8.1415904e-01 -6.3431752e-01 -5.9109628e-01\n",
            "  -8.9139313e-01]\n",
            " [-1.4070000e-01  9.9055851e-01 -9.0504956e-01  9.9910164e-01\n",
            "  -9.3339014e-01 -3.1780130e-01 -9.9988669e-01 -9.4066888e-01\n",
            "  -7.7475095e-01 -9.9898726e-01  9.9266762e-01 -9.9972010e-01\n",
            "  -9.5844901e-01 -9.9982357e-01  9.9387154e-02  8.7079895e-01\n",
            "  -9.9990267e-01 -9.8081416e-01  1.9618961e-01 -3.3681551e-01\n",
            "   2.5446242e-01  5.5841488e-01 -5.7837687e-02 -5.2495754e-01\n",
            "   8.4514660e-01  5.8205688e-01  5.8091354e-01 -6.2331378e-01\n",
            "  -2.6810288e-01]]\n",
            "950 [D loss: 0.6671, acc: 0.00%] [G loss: 0.7123, acc: 33.86%]\n",
            "Disc pred on real: [0.47 0.99 0.46 0.47 0.91]\n",
            "Disc pred on fake: [0.46 0.47 0.46 0.47 0.47]\n",
            "1000 [D loss: 0.6665, acc: 0.00%] [G loss: 0.7145, acc: 32.35%]\n",
            "Disc pred on real: [0.46 0.81 0.74 0.46 0.85]\n",
            "Disc pred on fake: [0.46 0.47 0.47 0.46 0.47]\n",
            "\u001b[1m1/1\u001b[0m \u001b[32m━━━━━━━━━━━━━━━━━━━━\u001b[0m\u001b[37m\u001b[0m \u001b[1m0s\u001b[0m 46ms/step\n",
            "Generated samples at epoch 1000:\n",
            "[[-0.99999774  0.98460984  0.9482431  -0.9999988  -0.7353452  -0.97714466\n",
            "   0.9999477  -0.8826517  -0.9532298   0.9999976  -0.9999438   0.9999733\n",
            "   0.9965262   0.9999926   0.903532   -0.94815385  0.9999987   0.9999976\n",
            "   0.776517   -0.72387975  0.95557827 -0.29289454  0.5281217   0.85718423\n",
            "   0.79162544  0.72276384 -0.44045106  0.98833483 -0.93247837]\n",
            " [ 0.9777139  -0.36832967 -0.9984364   0.9997726  -0.9959137  -0.3038293\n",
            "  -0.99928725 -0.05141213 -0.32853627 -0.99983567  0.995807   -0.99980664\n",
            "  -0.29001972 -0.999812   -0.9935938  -0.9333128  -0.99987084 -0.9851504\n",
            "   0.33363557 -0.5402863   0.8117081  -0.9407116   0.9689877  -0.92696667\n",
            "  -0.45020688 -0.9944164  -0.36719528 -0.8966279  -0.32649314]\n",
            " [ 0.93298763 -0.7581428   0.98870724  0.9796937   0.21615851  0.22935492\n",
            "  -0.6047445   0.9801635   0.25356677 -0.8316766  -0.32340178 -0.18406273\n",
            "  -0.9941553  -0.9481231  -0.45948628  0.885589   -0.9573594  -0.6490383\n",
            "  -0.9485908   0.11396559 -0.67101556 -0.1978054  -0.8222336   0.18562905\n",
            "  -0.38768426 -0.80005574 -0.74644274 -0.96289665 -0.72932744]\n",
            " [ 0.7154564   0.9830873  -0.9999917   0.99919426 -0.78222495 -0.5086489\n",
            "  -0.99756014 -0.9591944  -0.9465474  -0.99945134  0.99958193 -0.99996096\n",
            "   0.8739799  -0.99981457 -0.12577757 -0.99642414 -0.99986047 -0.9908914\n",
            "   0.9488045   0.8202693  -0.54265094  0.9496053   0.96407163 -0.7603537\n",
            "  -0.87353164  0.5436745   0.696371    0.27824944 -0.14739487]\n",
            " [ 0.692593    0.92274094 -0.8959221   0.995618   -0.97991914  0.9720159\n",
            "  -0.99898976 -0.8525839   0.41162196 -0.9963707   0.981913   -0.9995901\n",
            "   0.6173072  -0.999645   -0.29505655 -0.9226794  -0.9993645  -0.7021874\n",
            "   0.5885284  -0.2214907   0.68335646  0.97972023  0.03103906 -0.12295485\n",
            "   0.41748992 -0.7628725  -0.7692308  -0.6439428  -0.5393219 ]]\n"
          ]
        }
      ],
      "source": [
        "y_train = y_train.reshape(-1, 1)\n",
        "pos_index = np.where(y_train == 1)[0]\n",
        "neg_index = np.where(y_train == 0)[0]\n",
        "\n",
        "# recreate the model here\n",
        "cgan.train(X_train, y_train, pos_index, neg_index, epochs=1000)"
      ]
    },
    {
      "cell_type": "markdown",
      "id": "b6616aa6",
      "metadata": {
        "id": "b6616aa6"
      },
      "source": [
        "## Generating new samples"
      ]
    },
    {
      "cell_type": "code",
      "execution_count": null,
      "id": "e91e5232",
      "metadata": {
        "id": "e91e5232",
        "colab": {
          "base_uri": "https://localhost:8080/"
        },
        "outputId": "067cc84f-ac06-4453-e6d0-ae7abec4e550"
      },
      "outputs": [
        {
          "output_type": "stream",
          "name": "stdout",
          "text": [
            "\u001b[1m7813/7813\u001b[0m \u001b[32m━━━━━━━━━━━━━━━━━━━━\u001b[0m\u001b[37m\u001b[0m \u001b[1m122s\u001b[0m 16ms/step\n",
            "(250000, 29)\n"
          ]
        }
      ],
      "source": [
        "noise = np.random.normal(0, 1, (250000, 32))\n",
        "sampled_labels = np.ones(250000).reshape(-1, 1) #ones in order to only fraud data\n",
        "\n",
        "gen_samples = cgan.generator.predict([noise, sampled_labels])\n",
        "gen_samples = scaler.inverse_transform(gen_samples)\n",
        "print(gen_samples.shape)"
      ]
    },
    {
      "cell_type": "code",
      "execution_count": null,
      "id": "cff881c0",
      "metadata": {
        "id": "cff881c0",
        "colab": {
          "base_uri": "https://localhost:8080/",
          "height": 255
        },
        "outputId": "f62be42a-d4cd-45d5-c3e1-a9ddd6ccffd7"
      },
      "outputs": [
        {
          "output_type": "execute_result",
          "data": {
            "text/plain": [
              "         V1        V2        V3        V4        V5        V6        V7  \\\n",
              "0  0.364193  1.601703 -1.462596  1.418068 -1.299201 -0.509969 -1.224945   \n",
              "1 -1.774751  1.623748 -1.428107  1.414816 -1.193487  0.578187 -1.231447   \n",
              "2  1.320250  1.148575 -1.479142  1.419528 -0.957931 -0.509432 -1.230325   \n",
              "3 -1.707533  1.531943 -1.481817  1.411181 -1.305991  0.134373 -1.231165   \n",
              "4  1.014081 -0.545858  1.486548  1.418279 -1.228095  0.401487 -1.227177   \n",
              "\n",
              "         V8        V9       V10  ...       V20       V21       V22       V23  \\\n",
              "0 -1.156666 -1.047755 -1.083766  ...  0.073147 -0.615906 -0.633224  0.559721   \n",
              "1 -1.182118 -0.674049 -1.083192  ...  0.047783 -0.702396  0.637845  0.373519   \n",
              "2 -1.105292 -0.813588 -1.083813  ...  0.136341  0.530932 -0.183367  0.567738   \n",
              "3 -1.150607 -1.082225 -1.082161  ... -0.463045 -0.715318 -0.353971  0.604353   \n",
              "4 -0.942718  0.185622 -1.076406  ... -0.568269  0.705474  0.166344  0.134896   \n",
              "\n",
              "        V24       V25       V26       V27       V28    Amount  \n",
              "0 -0.461925 -0.372758 -0.127229  0.376045 -0.041911  1.949775  \n",
              "1 -0.111724  0.504218  0.293433 -0.145424  0.029110  0.832407  \n",
              "2 -0.184854 -0.162055 -0.413516  0.274953  0.027490  1.073816  \n",
              "3  0.181173 -0.422754 -0.448889  0.224467  0.149982  2.004770  \n",
              "4 -0.233424 -0.385659 -0.004387 -0.122632 -0.301565  0.701497  \n",
              "\n",
              "[5 rows x 29 columns]"
            ],
            "text/html": [
              "\n",
              "  <div id=\"df-3392318f-0026-488c-8601-4950fb62d9c4\" class=\"colab-df-container\">\n",
              "    <div>\n",
              "<style scoped>\n",
              "    .dataframe tbody tr th:only-of-type {\n",
              "        vertical-align: middle;\n",
              "    }\n",
              "\n",
              "    .dataframe tbody tr th {\n",
              "        vertical-align: top;\n",
              "    }\n",
              "\n",
              "    .dataframe thead th {\n",
              "        text-align: right;\n",
              "    }\n",
              "</style>\n",
              "<table border=\"1\" class=\"dataframe\">\n",
              "  <thead>\n",
              "    <tr style=\"text-align: right;\">\n",
              "      <th></th>\n",
              "      <th>V1</th>\n",
              "      <th>V2</th>\n",
              "      <th>V3</th>\n",
              "      <th>V4</th>\n",
              "      <th>V5</th>\n",
              "      <th>V6</th>\n",
              "      <th>V7</th>\n",
              "      <th>V8</th>\n",
              "      <th>V9</th>\n",
              "      <th>V10</th>\n",
              "      <th>...</th>\n",
              "      <th>V20</th>\n",
              "      <th>V21</th>\n",
              "      <th>V22</th>\n",
              "      <th>V23</th>\n",
              "      <th>V24</th>\n",
              "      <th>V25</th>\n",
              "      <th>V26</th>\n",
              "      <th>V27</th>\n",
              "      <th>V28</th>\n",
              "      <th>Amount</th>\n",
              "    </tr>\n",
              "  </thead>\n",
              "  <tbody>\n",
              "    <tr>\n",
              "      <th>0</th>\n",
              "      <td>0.364193</td>\n",
              "      <td>1.601703</td>\n",
              "      <td>-1.462596</td>\n",
              "      <td>1.418068</td>\n",
              "      <td>-1.299201</td>\n",
              "      <td>-0.509969</td>\n",
              "      <td>-1.224945</td>\n",
              "      <td>-1.156666</td>\n",
              "      <td>-1.047755</td>\n",
              "      <td>-1.083766</td>\n",
              "      <td>...</td>\n",
              "      <td>0.073147</td>\n",
              "      <td>-0.615906</td>\n",
              "      <td>-0.633224</td>\n",
              "      <td>0.559721</td>\n",
              "      <td>-0.461925</td>\n",
              "      <td>-0.372758</td>\n",
              "      <td>-0.127229</td>\n",
              "      <td>0.376045</td>\n",
              "      <td>-0.041911</td>\n",
              "      <td>1.949775</td>\n",
              "    </tr>\n",
              "    <tr>\n",
              "      <th>1</th>\n",
              "      <td>-1.774751</td>\n",
              "      <td>1.623748</td>\n",
              "      <td>-1.428107</td>\n",
              "      <td>1.414816</td>\n",
              "      <td>-1.193487</td>\n",
              "      <td>0.578187</td>\n",
              "      <td>-1.231447</td>\n",
              "      <td>-1.182118</td>\n",
              "      <td>-0.674049</td>\n",
              "      <td>-1.083192</td>\n",
              "      <td>...</td>\n",
              "      <td>0.047783</td>\n",
              "      <td>-0.702396</td>\n",
              "      <td>0.637845</td>\n",
              "      <td>0.373519</td>\n",
              "      <td>-0.111724</td>\n",
              "      <td>0.504218</td>\n",
              "      <td>0.293433</td>\n",
              "      <td>-0.145424</td>\n",
              "      <td>0.029110</td>\n",
              "      <td>0.832407</td>\n",
              "    </tr>\n",
              "    <tr>\n",
              "      <th>2</th>\n",
              "      <td>1.320250</td>\n",
              "      <td>1.148575</td>\n",
              "      <td>-1.479142</td>\n",
              "      <td>1.419528</td>\n",
              "      <td>-0.957931</td>\n",
              "      <td>-0.509432</td>\n",
              "      <td>-1.230325</td>\n",
              "      <td>-1.105292</td>\n",
              "      <td>-0.813588</td>\n",
              "      <td>-1.083813</td>\n",
              "      <td>...</td>\n",
              "      <td>0.136341</td>\n",
              "      <td>0.530932</td>\n",
              "      <td>-0.183367</td>\n",
              "      <td>0.567738</td>\n",
              "      <td>-0.184854</td>\n",
              "      <td>-0.162055</td>\n",
              "      <td>-0.413516</td>\n",
              "      <td>0.274953</td>\n",
              "      <td>0.027490</td>\n",
              "      <td>1.073816</td>\n",
              "    </tr>\n",
              "    <tr>\n",
              "      <th>3</th>\n",
              "      <td>-1.707533</td>\n",
              "      <td>1.531943</td>\n",
              "      <td>-1.481817</td>\n",
              "      <td>1.411181</td>\n",
              "      <td>-1.305991</td>\n",
              "      <td>0.134373</td>\n",
              "      <td>-1.231165</td>\n",
              "      <td>-1.150607</td>\n",
              "      <td>-1.082225</td>\n",
              "      <td>-1.082161</td>\n",
              "      <td>...</td>\n",
              "      <td>-0.463045</td>\n",
              "      <td>-0.715318</td>\n",
              "      <td>-0.353971</td>\n",
              "      <td>0.604353</td>\n",
              "      <td>0.181173</td>\n",
              "      <td>-0.422754</td>\n",
              "      <td>-0.448889</td>\n",
              "      <td>0.224467</td>\n",
              "      <td>0.149982</td>\n",
              "      <td>2.004770</td>\n",
              "    </tr>\n",
              "    <tr>\n",
              "      <th>4</th>\n",
              "      <td>1.014081</td>\n",
              "      <td>-0.545858</td>\n",
              "      <td>1.486548</td>\n",
              "      <td>1.418279</td>\n",
              "      <td>-1.228095</td>\n",
              "      <td>0.401487</td>\n",
              "      <td>-1.227177</td>\n",
              "      <td>-0.942718</td>\n",
              "      <td>0.185622</td>\n",
              "      <td>-1.076406</td>\n",
              "      <td>...</td>\n",
              "      <td>-0.568269</td>\n",
              "      <td>0.705474</td>\n",
              "      <td>0.166344</td>\n",
              "      <td>0.134896</td>\n",
              "      <td>-0.233424</td>\n",
              "      <td>-0.385659</td>\n",
              "      <td>-0.004387</td>\n",
              "      <td>-0.122632</td>\n",
              "      <td>-0.301565</td>\n",
              "      <td>0.701497</td>\n",
              "    </tr>\n",
              "  </tbody>\n",
              "</table>\n",
              "<p>5 rows × 29 columns</p>\n",
              "</div>\n",
              "    <div class=\"colab-df-buttons\">\n",
              "\n",
              "  <div class=\"colab-df-container\">\n",
              "    <button class=\"colab-df-convert\" onclick=\"convertToInteractive('df-3392318f-0026-488c-8601-4950fb62d9c4')\"\n",
              "            title=\"Convert this dataframe to an interactive table.\"\n",
              "            style=\"display:none;\">\n",
              "\n",
              "  <svg xmlns=\"http://www.w3.org/2000/svg\" height=\"24px\" viewBox=\"0 -960 960 960\">\n",
              "    <path d=\"M120-120v-720h720v720H120Zm60-500h600v-160H180v160Zm220 220h160v-160H400v160Zm0 220h160v-160H400v160ZM180-400h160v-160H180v160Zm440 0h160v-160H620v160ZM180-180h160v-160H180v160Zm440 0h160v-160H620v160Z\"/>\n",
              "  </svg>\n",
              "    </button>\n",
              "\n",
              "  <style>\n",
              "    .colab-df-container {\n",
              "      display:flex;\n",
              "      gap: 12px;\n",
              "    }\n",
              "\n",
              "    .colab-df-convert {\n",
              "      background-color: #E8F0FE;\n",
              "      border: none;\n",
              "      border-radius: 50%;\n",
              "      cursor: pointer;\n",
              "      display: none;\n",
              "      fill: #1967D2;\n",
              "      height: 32px;\n",
              "      padding: 0 0 0 0;\n",
              "      width: 32px;\n",
              "    }\n",
              "\n",
              "    .colab-df-convert:hover {\n",
              "      background-color: #E2EBFA;\n",
              "      box-shadow: 0px 1px 2px rgba(60, 64, 67, 0.3), 0px 1px 3px 1px rgba(60, 64, 67, 0.15);\n",
              "      fill: #174EA6;\n",
              "    }\n",
              "\n",
              "    .colab-df-buttons div {\n",
              "      margin-bottom: 4px;\n",
              "    }\n",
              "\n",
              "    [theme=dark] .colab-df-convert {\n",
              "      background-color: #3B4455;\n",
              "      fill: #D2E3FC;\n",
              "    }\n",
              "\n",
              "    [theme=dark] .colab-df-convert:hover {\n",
              "      background-color: #434B5C;\n",
              "      box-shadow: 0px 1px 3px 1px rgba(0, 0, 0, 0.15);\n",
              "      filter: drop-shadow(0px 1px 2px rgba(0, 0, 0, 0.3));\n",
              "      fill: #FFFFFF;\n",
              "    }\n",
              "  </style>\n",
              "\n",
              "    <script>\n",
              "      const buttonEl =\n",
              "        document.querySelector('#df-3392318f-0026-488c-8601-4950fb62d9c4 button.colab-df-convert');\n",
              "      buttonEl.style.display =\n",
              "        google.colab.kernel.accessAllowed ? 'block' : 'none';\n",
              "\n",
              "      async function convertToInteractive(key) {\n",
              "        const element = document.querySelector('#df-3392318f-0026-488c-8601-4950fb62d9c4');\n",
              "        const dataTable =\n",
              "          await google.colab.kernel.invokeFunction('convertToInteractive',\n",
              "                                                    [key], {});\n",
              "        if (!dataTable) return;\n",
              "\n",
              "        const docLinkHtml = 'Like what you see? Visit the ' +\n",
              "          '<a target=\"_blank\" href=https://colab.research.google.com/notebooks/data_table.ipynb>data table notebook</a>'\n",
              "          + ' to learn more about interactive tables.';\n",
              "        element.innerHTML = '';\n",
              "        dataTable['output_type'] = 'display_data';\n",
              "        await google.colab.output.renderOutput(dataTable, element);\n",
              "        const docLink = document.createElement('div');\n",
              "        docLink.innerHTML = docLinkHtml;\n",
              "        element.appendChild(docLink);\n",
              "      }\n",
              "    </script>\n",
              "  </div>\n",
              "\n",
              "\n",
              "    <div id=\"df-20f7f30e-3e57-4a1a-8f9a-4c41434dc9ec\">\n",
              "      <button class=\"colab-df-quickchart\" onclick=\"quickchart('df-20f7f30e-3e57-4a1a-8f9a-4c41434dc9ec')\"\n",
              "                title=\"Suggest charts\"\n",
              "                style=\"display:none;\">\n",
              "\n",
              "<svg xmlns=\"http://www.w3.org/2000/svg\" height=\"24px\"viewBox=\"0 0 24 24\"\n",
              "     width=\"24px\">\n",
              "    <g>\n",
              "        <path d=\"M19 3H5c-1.1 0-2 .9-2 2v14c0 1.1.9 2 2 2h14c1.1 0 2-.9 2-2V5c0-1.1-.9-2-2-2zM9 17H7v-7h2v7zm4 0h-2V7h2v10zm4 0h-2v-4h2v4z\"/>\n",
              "    </g>\n",
              "</svg>\n",
              "      </button>\n",
              "\n",
              "<style>\n",
              "  .colab-df-quickchart {\n",
              "      --bg-color: #E8F0FE;\n",
              "      --fill-color: #1967D2;\n",
              "      --hover-bg-color: #E2EBFA;\n",
              "      --hover-fill-color: #174EA6;\n",
              "      --disabled-fill-color: #AAA;\n",
              "      --disabled-bg-color: #DDD;\n",
              "  }\n",
              "\n",
              "  [theme=dark] .colab-df-quickchart {\n",
              "      --bg-color: #3B4455;\n",
              "      --fill-color: #D2E3FC;\n",
              "      --hover-bg-color: #434B5C;\n",
              "      --hover-fill-color: #FFFFFF;\n",
              "      --disabled-bg-color: #3B4455;\n",
              "      --disabled-fill-color: #666;\n",
              "  }\n",
              "\n",
              "  .colab-df-quickchart {\n",
              "    background-color: var(--bg-color);\n",
              "    border: none;\n",
              "    border-radius: 50%;\n",
              "    cursor: pointer;\n",
              "    display: none;\n",
              "    fill: var(--fill-color);\n",
              "    height: 32px;\n",
              "    padding: 0;\n",
              "    width: 32px;\n",
              "  }\n",
              "\n",
              "  .colab-df-quickchart:hover {\n",
              "    background-color: var(--hover-bg-color);\n",
              "    box-shadow: 0 1px 2px rgba(60, 64, 67, 0.3), 0 1px 3px 1px rgba(60, 64, 67, 0.15);\n",
              "    fill: var(--button-hover-fill-color);\n",
              "  }\n",
              "\n",
              "  .colab-df-quickchart-complete:disabled,\n",
              "  .colab-df-quickchart-complete:disabled:hover {\n",
              "    background-color: var(--disabled-bg-color);\n",
              "    fill: var(--disabled-fill-color);\n",
              "    box-shadow: none;\n",
              "  }\n",
              "\n",
              "  .colab-df-spinner {\n",
              "    border: 2px solid var(--fill-color);\n",
              "    border-color: transparent;\n",
              "    border-bottom-color: var(--fill-color);\n",
              "    animation:\n",
              "      spin 1s steps(1) infinite;\n",
              "  }\n",
              "\n",
              "  @keyframes spin {\n",
              "    0% {\n",
              "      border-color: transparent;\n",
              "      border-bottom-color: var(--fill-color);\n",
              "      border-left-color: var(--fill-color);\n",
              "    }\n",
              "    20% {\n",
              "      border-color: transparent;\n",
              "      border-left-color: var(--fill-color);\n",
              "      border-top-color: var(--fill-color);\n",
              "    }\n",
              "    30% {\n",
              "      border-color: transparent;\n",
              "      border-left-color: var(--fill-color);\n",
              "      border-top-color: var(--fill-color);\n",
              "      border-right-color: var(--fill-color);\n",
              "    }\n",
              "    40% {\n",
              "      border-color: transparent;\n",
              "      border-right-color: var(--fill-color);\n",
              "      border-top-color: var(--fill-color);\n",
              "    }\n",
              "    60% {\n",
              "      border-color: transparent;\n",
              "      border-right-color: var(--fill-color);\n",
              "    }\n",
              "    80% {\n",
              "      border-color: transparent;\n",
              "      border-right-color: var(--fill-color);\n",
              "      border-bottom-color: var(--fill-color);\n",
              "    }\n",
              "    90% {\n",
              "      border-color: transparent;\n",
              "      border-bottom-color: var(--fill-color);\n",
              "    }\n",
              "  }\n",
              "</style>\n",
              "\n",
              "      <script>\n",
              "        async function quickchart(key) {\n",
              "          const quickchartButtonEl =\n",
              "            document.querySelector('#' + key + ' button');\n",
              "          quickchartButtonEl.disabled = true;  // To prevent multiple clicks.\n",
              "          quickchartButtonEl.classList.add('colab-df-spinner');\n",
              "          try {\n",
              "            const charts = await google.colab.kernel.invokeFunction(\n",
              "                'suggestCharts', [key], {});\n",
              "          } catch (error) {\n",
              "            console.error('Error during call to suggestCharts:', error);\n",
              "          }\n",
              "          quickchartButtonEl.classList.remove('colab-df-spinner');\n",
              "          quickchartButtonEl.classList.add('colab-df-quickchart-complete');\n",
              "        }\n",
              "        (() => {\n",
              "          let quickchartButtonEl =\n",
              "            document.querySelector('#df-20f7f30e-3e57-4a1a-8f9a-4c41434dc9ec button');\n",
              "          quickchartButtonEl.style.display =\n",
              "            google.colab.kernel.accessAllowed ? 'block' : 'none';\n",
              "        })();\n",
              "      </script>\n",
              "    </div>\n",
              "\n",
              "    </div>\n",
              "  </div>\n"
            ],
            "application/vnd.google.colaboratory.intrinsic+json": {
              "type": "dataframe",
              "variable_name": "gen_df"
            }
          },
          "metadata": {},
          "execution_count": 24
        }
      ],
      "source": [
        "gen_df = pd.DataFrame(data = gen_samples,\n",
        "                      columns = df.drop('Class',axis=1).columns)\n",
        "gen_df.head()"
      ]
    },
    {
      "cell_type": "code",
      "execution_count": null,
      "id": "c94643cc",
      "metadata": {
        "id": "c94643cc",
        "colab": {
          "base_uri": "https://localhost:8080/"
        },
        "outputId": "4fc2d5ae-5124-46f2-f059-41d2d8ea9b8f"
      },
      "outputs": [
        {
          "output_type": "execute_result",
          "data": {
            "text/plain": [
              "(470530, 29)"
            ]
          },
          "metadata": {},
          "execution_count": 25
        }
      ],
      "source": [
        "gen_X_train = np.concatenate((X_train, gen_samples), axis=0)\n",
        "gen_X_train.shape"
      ]
    },
    {
      "cell_type": "code",
      "execution_count": null,
      "id": "8ce3f760",
      "metadata": {
        "id": "8ce3f760",
        "colab": {
          "base_uri": "https://localhost:8080/"
        },
        "outputId": "985f5655-9c59-4070-893d-82af4edbc86a"
      },
      "outputs": [
        {
          "output_type": "execute_result",
          "data": {
            "text/plain": [
              "(470530, 1)"
            ]
          },
          "metadata": {},
          "execution_count": 26
        }
      ],
      "source": [
        "gen_y = np.ones((250000, 1))\n",
        "gen_y_train = np.concatenate((y_train, gen_y), axis=0)\n",
        "gen_y_train.shape"
      ]
    },
    {
      "cell_type": "code",
      "source": [
        "from sklearn.decomposition import PCA\n",
        "import matplotlib.pyplot as plt\n",
        "\n",
        "real_fraud = X_train[y_train.ravel() == 1]\n",
        "\n",
        "#combine real & generated for projection\n",
        "combined_data = np.vstack([real_fraud, gen_samples])\n",
        "labels = np.array([0] * len(real_fraud) + [1] * len(gen_samples))  # 0=Real, 1=Generated\n",
        "\n",
        "\n",
        "pca = PCA(n_components=2, random_state=42)\n",
        "proj = pca.fit_transform(combined_data)\n",
        "\n",
        "#scatter plot\n",
        "plt.figure(figsize=(8,6))\n",
        "plt.scatter(proj[labels==0, 0], proj[labels==0, 1],\n",
        "            alpha=0.5, label='Real Fraud', s=15)\n",
        "plt.scatter(proj[labels==1, 0], proj[labels==1, 1],\n",
        "            alpha=0.5, label='GAN-Generated Fraud', s=15)\n",
        "plt.xlabel(\"PCA Component 1\")\n",
        "plt.ylabel(\"PCA Component 2\")\n",
        "plt.title(\"Real vs GAN-Generated Fraud Samples (PCA Projection)\")\n",
        "plt.legend()\n",
        "plt.show()\n"
      ],
      "metadata": {
        "colab": {
          "base_uri": "https://localhost:8080/",
          "height": 564
        },
        "id": "i3DqEYsUcBUM",
        "outputId": "004ad584-22ec-4562-e528-103d326c4e55"
      },
      "id": "i3DqEYsUcBUM",
      "execution_count": null,
      "outputs": [
        {
          "output_type": "display_data",
          "data": {
            "text/plain": [
              "<Figure size 800x600 with 1 Axes>"
            ],
            "image/png": "[encoded data removed]"
          },
          "metadata": {}
        }
      ]
    },
    {
      "cell_type": "markdown",
      "source": [
        "Interpretation\n",
        "\n",
        "Blue points = real fraud cases, orange points = GAN-generated fraud samples.\n",
        "\n",
        "The GAN-generated samples cluster tightly in one region of feature space, while real fraud cases are more dispersed across different sub-regions.\n",
        "\n",
        "This suggests that the GAN is learning some aspects of the fraud distribution, but it may be mode-collapsing — generating synthetic anomalies that are too similar to each other.\n",
        "\n",
        "Despite this, the generated samples still overlap meaningfully with real fraud in PCA space, which explains why CGAN-augmented classifiers (RF, LGBM) improved anomaly detection performance."
      ],
      "metadata": {
        "id": "rHk1acC71Vh3"
      },
      "id": "rHk1acC71Vh3"
    },
    {
      "cell_type": "markdown",
      "source": [
        "Conclusion\n",
        "\n",
        "GAN-generated anomalies are not a perfect match to real fraud distributions — they are denser and less diverse.\n",
        "\n",
        "However, they provide valuable synthetic data that improves supervised models, particularly under extreme class imbalance."
      ],
      "metadata": {
        "id": "oQTvnFpu1ZB8"
      },
      "id": "oQTvnFpu1ZB8"
    },
    {
      "cell_type": "markdown",
      "source": [
        "Note- ChatGPT used for understanding results."
      ],
      "metadata": {
        "id": "V-o9wF011mD0"
      },
      "id": "V-o9wF011mD0"
    },
    {
      "cell_type": "markdown",
      "source": [
        "Reference-https://medium.com/the-research-nest/exploring-gans-to-generate-synthetic-data-ca48f8a4b518"
      ],
      "metadata": {
        "id": "3pL7zGjM3mVc"
      },
      "id": "3pL7zGjM3mVc"
    },
    {
      "cell_type": "markdown",
      "id": "cb8d8d3a",
      "metadata": {
        "id": "cb8d8d3a"
      },
      "source": [
        "## Testing baseline model with generated data"
      ]
    },
    {
      "cell_type": "code",
      "source": [
        "# 1) Imports\n",
        "import numpy as np\n",
        "import pandas as pd\n",
        "from sklearn.ensemble import RandomForestClassifier\n",
        "from sklearn.metrics import (\n",
        "    classification_report,\n",
        "    confusion_matrix,\n",
        "    roc_auc_score,\n",
        "    average_precision_score\n",
        ")\n",
        "import matplotlib.pyplot as plt\n",
        "import seaborn as sns\n",
        "\n",
        "gen_y_train = gen_y_train.ravel()\n",
        "\n",
        "\n",
        "rf = RandomForestClassifier(\n",
        "    n_estimators=100,\n",
        "    max_depth=None,\n",
        "    min_samples_leaf=5,\n",
        "    random_state=42,\n",
        "    n_jobs=-1\n",
        ")\n",
        "rf.fit(gen_X_train, gen_y_train)\n",
        "\n",
        "# predict & probability scores on hold-out\n",
        "y_pred = rf.predict(X_test)\n",
        "y_prob = rf.predict_proba(X_test)[:,1]\n",
        "\n",
        "\n",
        "roc  = roc_auc_score(y_test, y_prob)\n",
        "pr   = average_precision_score(y_test, y_prob)\n",
        "\n",
        "print(f\"ROC-AUC: {roc:.4f}\")\n",
        "print(f\"PR-AUC:  {pr:.4f}\\n\")\n",
        "\n",
        "print(\"Classification Report:\")\n",
        "print(classification_report(y_test, y_pred, digits=4))\n",
        "\n",
        "#plot confusion matrix\n",
        "cm = confusion_matrix(y_test, y_pred)\n",
        "plt.figure(figsize=(6,5))\n",
        "sns.heatmap(cm, annot=True, fmt=\"d\", cmap=\"Blues\",\n",
        "            xticklabels=rf.classes_, yticklabels=rf.classes_)\n",
        "plt.xlabel(\"Predicted\")\n",
        "plt.ylabel(\"True\")\n",
        "plt.title(\"Confusion Matrix: Random Forest on CGAN-Augmented Data\")\n",
        "plt.show()"
      ],
      "metadata": {
        "colab": {
          "base_uri": "https://localhost:8080/",
          "height": 724
        },
        "id": "-0wLqhq4DQmH",
        "outputId": "0426f0af-6750-4bc5-a4cd-2294308dd9b9"
      },
      "id": "-0wLqhq4DQmH",
      "execution_count": null,
      "outputs": [
        {
          "output_type": "stream",
          "name": "stdout",
          "text": [
            "ROC-AUC: 0.9649\n",
            "PR-AUC:  0.8878\n",
            "\n",
            "Classification Report:\n",
            "              precision    recall  f1-score   support\n",
            "\n",
            "           0     0.9997    0.9999    0.9998     55038\n",
            "           1     0.9500    0.8000    0.8686        95\n",
            "\n",
            "    accuracy                         0.9996     55133\n",
            "   macro avg     0.9748    0.9000    0.9342     55133\n",
            "weighted avg     0.9996    0.9996    0.9996     55133\n",
            "\n"
          ]
        },
        {
          "output_type": "display_data",
          "data": {
            "text/plain": [
              "<Figure size 600x500 with 2 Axes>"
            ],
            "image/png": "[encoded data removed]"
          },
          "metadata": {}
        }
      ]
    },
    {
      "cell_type": "markdown",
      "source": [
        "Interpretation\n",
        "\n",
        "Excellent balance:\n",
        "\n",
        "Very high precision (0.95) and solid recall (0.80) → captures most anomalies with few false alarms.\n",
        "\n",
        "F1 = 0.87, one of the best across all your experiments.\n",
        "\n",
        "PR-AUC = 0.888 → outstanding under severe class imbalance, even better than CGAN + LGBM (PR-AUC ~0.848).\n",
        "\n",
        "Random Forest benefits significantly from CGAN augmentation, which provides diverse synthetic minority samples and stabilizes detection."
      ],
      "metadata": {
        "id": "7azvq2fx1PDt"
      },
      "id": "7azvq2fx1PDt"
    },
    {
      "cell_type": "markdown",
      "source": [
        "Conclusion\n",
        "\n",
        "CGAN + Random Forest is one of the strongest setups overall, with the best PR-AUC (0.888) so far and an excellent precision–recall trade-off.\n",
        "\n",
        "Compared to CGAN + LGBM, this variant delivers slightly better PR-AUC and F1, making it more effective at minority detection.\n",
        "\n",
        "This demonstrates that CGAN-augmented data boosts classical ensemble models (RF) to state-of-the-art anomaly detection performance."
      ],
      "metadata": {
        "id": "Ctp7hjy71McM"
      },
      "id": "Ctp7hjy71McM"
    },
    {
      "cell_type": "markdown",
      "source": [
        "Referneces-[A hybrid deep learning approach with generative adversarial network for credit card fraud detection](https://doi.org/10.3390/technologies12100186), [Improving detection of credit card fraudulent transactions using generative adversarial networks](https://arxiv.org/abs/1907.03355), [Generative adversarial network for oversampling data in credit card fraud detection](https://link.springer.com/chapter/10.1007/978-3-030-36945-3_7), https://www.kaggle.com/code/gauravduttakiit/cc-fraud-detection-gan-random-forest-classifier/data"
      ],
      "metadata": {
        "id": "rOwU1tNt0H9x"
      },
      "id": "rOwU1tNt0H9x"
    },
    {
      "cell_type": "markdown",
      "source": [
        "Note- ChatGPT used for understanding results and solving errors in the discriminator of cgan."
      ],
      "metadata": {
        "id": "RvJKG4160KNo"
      },
      "id": "RvJKG4160KNo"
    },
    {
      "cell_type": "code",
      "source": [],
      "metadata": {
        "id": "usz0s8i75utE"
      },
      "id": "usz0s8i75utE",
      "execution_count": null,
      "outputs": []
    }
  ],
  "metadata": {
    "accelerator": "GPU",
    "colab": {
      "gpuType": "T4",
      "provenance": []
    },
    "kaggle": {
      "accelerator": "none",
      "dataSources": [
        {
          "datasetId": 310,
          "sourceId": 23498,
          "sourceType": "datasetVersion"
        }
      ],
      "dockerImageVersionId": 30822,
      "isGpuEnabled": false,
      "isInternetEnabled": true,
      "language": "python",
      "sourceType": "notebook"
    },
    "kernelspec": {
      "display_name": "Python 3",
      "name": "python3"
    },
    "language_info": {
      "codemirror_mode": {
        "name": "ipython",
        "version": 3
      },
      "file_extension": ".py",
      "mimetype": "text/x-python",
      "name": "python",
      "nbconvert_exporter": "python",
      "pygments_lexer": "ipython3",
      "version": "3.10.12"
    },
    "papermill": {
      "default_parameters": {},
      "duration": 1846.66889,
      "end_time": "2024-12-30T03:00:04.367340",
      "environment_variables": {},
      "exception": null,
      "input_path": "__notebook__.ipynb",
      "output_path": "__notebook__.ipynb",
      "parameters": {},
      "start_time": "2024-12-30T02:29:17.698450",
      "version": "2.6.0"
    }
  },
  "nbformat": 4,
  "nbformat_minor": 5
}