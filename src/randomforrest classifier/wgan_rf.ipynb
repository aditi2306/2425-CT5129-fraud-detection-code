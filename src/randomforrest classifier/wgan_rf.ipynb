{
  "cells": [
    {
      "cell_type": "markdown",
      "source": [
        "#WGAN with RF as classifier"
      ],
      "metadata": {
        "id": "45c29RUzBS85"
      },
      "id": "45c29RUzBS85"
    },
    {
      "cell_type": "markdown",
      "id": "95b87982",
      "metadata": {
        "id": "95b87982"
      },
      "source": [
        "## Importing Libraries"
      ]
    },
    {
      "cell_type": "code",
      "execution_count": null,
      "id": "cb2d1424",
      "metadata": {
        "id": "cb2d1424"
      },
      "outputs": [],
      "source": [
        "import os\n",
        "import keras\n",
        "import numpy as np\n",
        "import pandas as pd\n",
        "import seaborn as sns\n",
        "import plotly.express as px\n",
        "import plotly.graph_objects as go\n",
        "import matplotlib.pyplot as plt\n",
        "import lightgbm as lgb\n",
        "from sklearn.model_selection import train_test_split\n",
        "from sklearn.preprocessing import QuantileTransformer\n",
        "from sklearn.preprocessing import StandardScaler, MinMaxScaler\n",
        "from tensorflow.keras.layers import Input, Dense, Reshape, Flatten, Dropout, multiply, Concatenate\n",
        "from tensorflow.keras.layers import BatchNormalization, Activation, Embedding, ZeroPadding2D, LeakyReLU\n",
        "from tensorflow.keras.models import Sequential, Model\n",
        "from tensorflow.keras.optimizers import Adam, RMSprop\n",
        "from tensorflow.keras.initializers import RandomNormal\n",
        "import tensorflow.keras.backend as K\n",
        "from sklearn.utils import shuffle\n",
        "from sklearn.metrics import precision_score, recall_score, f1_score,\\\n",
        "                            accuracy_score, balanced_accuracy_score,classification_report,\\\n",
        "                            confusion_matrix"
      ]
    },
    {
      "cell_type": "code",
      "execution_count": null,
      "id": "QgenRhZYJcmv",
      "metadata": {
        "id": "QgenRhZYJcmv"
      },
      "outputs": [],
      "source": [
        "import tensorflow as tf\n",
        "tf.config.run_functions_eagerly(True)\n"
      ]
    },
    {
      "cell_type": "markdown",
      "id": "90a60195",
      "metadata": {
        "id": "90a60195"
      },
      "source": [
        "## EDA"
      ]
    },
    {
      "cell_type": "code",
      "execution_count": null,
      "id": "79bf21d7",
      "metadata": {
        "colab": {
          "base_uri": "https://localhost:8080/"
        },
        "id": "79bf21d7",
        "outputId": "8641e3fd-ff53-44e9-d8b7-acfe0e3fdda4"
      },
      "outputs": [
        {
          "output_type": "stream",
          "name": "stdout",
          "text": [
            "<class 'pandas.core.frame.DataFrame'>\n",
            "RangeIndex: 284807 entries, 0 to 284806\n",
            "Data columns (total 30 columns):\n",
            " #   Column  Non-Null Count   Dtype  \n",
            "---  ------  --------------   -----  \n",
            " 0   V1      284807 non-null  float64\n",
            " 1   V2      284807 non-null  float64\n",
            " 2   V3      284807 non-null  float64\n",
            " 3   V4      284807 non-null  float64\n",
            " 4   V5      284807 non-null  float64\n",
            " 5   V6      284807 non-null  float64\n",
            " 6   V7      284807 non-null  float64\n",
            " 7   V8      284807 non-null  float64\n",
            " 8   V9      284807 non-null  float64\n",
            " 9   V10     284807 non-null  float64\n",
            " 10  V11     284807 non-null  float64\n",
            " 11  V12     284807 non-null  float64\n",
            " 12  V13     284807 non-null  float64\n",
            " 13  V14     284807 non-null  float64\n",
            " 14  V15     284807 non-null  float64\n",
            " 15  V16     284807 non-null  float64\n",
            " 16  V17     284807 non-null  float64\n",
            " 17  V18     284807 non-null  float64\n",
            " 18  V19     284807 non-null  float64\n",
            " 19  V20     284807 non-null  float64\n",
            " 20  V21     284807 non-null  float64\n",
            " 21  V22     284807 non-null  float64\n",
            " 22  V23     284807 non-null  float64\n",
            " 23  V24     284807 non-null  float64\n",
            " 24  V25     284807 non-null  float64\n",
            " 25  V26     284807 non-null  float64\n",
            " 26  V27     284807 non-null  float64\n",
            " 27  V28     284807 non-null  float64\n",
            " 28  Amount  284807 non-null  float64\n",
            " 29  Class   284807 non-null  int64  \n",
            "dtypes: float64(29), int64(1)\n",
            "memory usage: 65.2 MB\n"
          ]
        }
      ],
      "source": [
        "df=pd.read_csv('./creditcard.csv')\n",
        "df=df.drop('Time',axis=1)\n",
        "df.head()\n",
        "df.info()"
      ]
    },
    {
      "cell_type": "markdown",
      "id": "a828e2f8",
      "metadata": {
        "id": "a828e2f8"
      },
      "source": [
        "PCA Transformation: The description of the data says that all the features went through a PCA transformation (Except for time and amount).  \n",
        "Scaling: Keep in mind that in order to implement a PCA transformation features need to be previously scaled."
      ]
    },
    {
      "cell_type": "code",
      "execution_count": null,
      "id": "b13394f3",
      "metadata": {
        "colab": {
          "base_uri": "https://localhost:8080/",
          "height": 349
        },
        "id": "b13394f3",
        "outputId": "5c2be3a2-411b-4a91-e34d-fef075c59b87"
      },
      "outputs": [
        {
          "output_type": "execute_result",
          "data": {
            "text/plain": [
              "                 V1            V2            V3            V4            V5  \\\n",
              "count  2.848070e+05  2.848070e+05  2.848070e+05  2.848070e+05  2.848070e+05   \n",
              "mean   1.168375e-15  3.416908e-16 -1.379537e-15  2.074095e-15  9.604066e-16   \n",
              "std    1.958696e+00  1.651309e+00  1.516255e+00  1.415869e+00  1.380247e+00   \n",
              "min   -5.640751e+01 -7.271573e+01 -4.832559e+01 -5.683171e+00 -1.137433e+02   \n",
              "25%   -9.203734e-01 -5.985499e-01 -8.903648e-01 -8.486401e-01 -6.915971e-01   \n",
              "50%    1.810880e-02  6.548556e-02  1.798463e-01 -1.984653e-02 -5.433583e-02   \n",
              "75%    1.315642e+00  8.037239e-01  1.027196e+00  7.433413e-01  6.119264e-01   \n",
              "max    2.454930e+00  2.205773e+01  9.382558e+00  1.687534e+01  3.480167e+01   \n",
              "\n",
              "                 V6            V7            V8            V9           V10  \\\n",
              "count  2.848070e+05  2.848070e+05  2.848070e+05  2.848070e+05  2.848070e+05   \n",
              "mean   1.487313e-15 -5.556467e-16  1.213481e-16 -2.406331e-15  2.239053e-15   \n",
              "std    1.332271e+00  1.237094e+00  1.194353e+00  1.098632e+00  1.088850e+00   \n",
              "min   -2.616051e+01 -4.355724e+01 -7.321672e+01 -1.343407e+01 -2.458826e+01   \n",
              "25%   -7.682956e-01 -5.540759e-01 -2.086297e-01 -6.430976e-01 -5.354257e-01   \n",
              "50%   -2.741871e-01  4.010308e-02  2.235804e-02 -5.142873e-02 -9.291738e-02   \n",
              "75%    3.985649e-01  5.704361e-01  3.273459e-01  5.971390e-01  4.539234e-01   \n",
              "max    7.330163e+01  1.205895e+02  2.000721e+01  1.559499e+01  2.374514e+01   \n",
              "\n",
              "       ...           V21           V22           V23           V24  \\\n",
              "count  ...  2.848070e+05  2.848070e+05  2.848070e+05  2.848070e+05   \n",
              "mean   ...  1.654067e-16 -3.568593e-16  2.578648e-16  4.473266e-15   \n",
              "std    ...  7.345240e-01  7.257016e-01  6.244603e-01  6.056471e-01   \n",
              "min    ... -3.483038e+01 -1.093314e+01 -4.480774e+01 -2.836627e+00   \n",
              "25%    ... -2.283949e-01 -5.423504e-01 -1.618463e-01 -3.545861e-01   \n",
              "50%    ... -2.945017e-02  6.781943e-03 -1.119293e-02  4.097606e-02   \n",
              "75%    ...  1.863772e-01  5.285536e-01  1.476421e-01  4.395266e-01   \n",
              "max    ...  2.720284e+01  1.050309e+01  2.252841e+01  4.584549e+00   \n",
              "\n",
              "                V25           V26           V27           V28         Amount  \\\n",
              "count  2.848070e+05  2.848070e+05  2.848070e+05  2.848070e+05  284807.000000   \n",
              "mean   5.340915e-16  1.683437e-15 -3.660091e-16 -1.227390e-16      88.349619   \n",
              "std    5.212781e-01  4.822270e-01  4.036325e-01  3.300833e-01     250.120109   \n",
              "min   -1.029540e+01 -2.604551e+00 -2.256568e+01 -1.543008e+01       0.000000   \n",
              "25%   -3.171451e-01 -3.269839e-01 -7.083953e-02 -5.295979e-02       5.600000   \n",
              "50%    1.659350e-02 -5.213911e-02  1.342146e-03  1.124383e-02      22.000000   \n",
              "75%    3.507156e-01  2.409522e-01  9.104512e-02  7.827995e-02      77.165000   \n",
              "max    7.519589e+00  3.517346e+00  3.161220e+01  3.384781e+01   25691.160000   \n",
              "\n",
              "               Class  \n",
              "count  284807.000000  \n",
              "mean        0.001727  \n",
              "std         0.041527  \n",
              "min         0.000000  \n",
              "25%         0.000000  \n",
              "50%         0.000000  \n",
              "75%         0.000000  \n",
              "max         1.000000  \n",
              "\n",
              "[8 rows x 30 columns]"
            ],
            "text/html": [
              "\n",
              "  <div id=\"df-52e9b3d8-b359-4f3b-be38-40e999c7f31b\" class=\"colab-df-container\">\n",
              "    <div>\n",
              "<style scoped>\n",
              "    .dataframe tbody tr th:only-of-type {\n",
              "        vertical-align: middle;\n",
              "    }\n",
              "\n",
              "    .dataframe tbody tr th {\n",
              "        vertical-align: top;\n",
              "    }\n",
              "\n",
              "    .dataframe thead th {\n",
              "        text-align: right;\n",
              "    }\n",
              "</style>\n",
              "<table border=\"1\" class=\"dataframe\">\n",
              "  <thead>\n",
              "    <tr style=\"text-align: right;\">\n",
              "      <th></th>\n",
              "      <th>V1</th>\n",
              "      <th>V2</th>\n",
              "      <th>V3</th>\n",
              "      <th>V4</th>\n",
              "      <th>V5</th>\n",
              "      <th>V6</th>\n",
              "      <th>V7</th>\n",
              "      <th>V8</th>\n",
              "      <th>V9</th>\n",
              "      <th>V10</th>\n",
              "      <th>...</th>\n",
              "      <th>V21</th>\n",
              "      <th>V22</th>\n",
              "      <th>V23</th>\n",
              "      <th>V24</th>\n",
              "      <th>V25</th>\n",
              "      <th>V26</th>\n",
              "      <th>V27</th>\n",
              "      <th>V28</th>\n",
              "      <th>Amount</th>\n",
              "      <th>Class</th>\n",
              "    </tr>\n",
              "  </thead>\n",
              "  <tbody>\n",
              "    <tr>\n",
              "      <th>count</th>\n",
              "      <td>2.848070e+05</td>\n",
              "      <td>2.848070e+05</td>\n",
              "      <td>2.848070e+05</td>\n",
              "      <td>2.848070e+05</td>\n",
              "      <td>2.848070e+05</td>\n",
              "      <td>2.848070e+05</td>\n",
              "      <td>2.848070e+05</td>\n",
              "      <td>2.848070e+05</td>\n",
              "      <td>2.848070e+05</td>\n",
              "      <td>2.848070e+05</td>\n",
              "      <td>...</td>\n",
              "      <td>2.848070e+05</td>\n",
              "      <td>2.848070e+05</td>\n",
              "      <td>2.848070e+05</td>\n",
              "      <td>2.848070e+05</td>\n",
              "      <td>2.848070e+05</td>\n",
              "      <td>2.848070e+05</td>\n",
              "      <td>2.848070e+05</td>\n",
              "      <td>2.848070e+05</td>\n",
              "      <td>284807.000000</td>\n",
              "      <td>284807.000000</td>\n",
              "    </tr>\n",
              "    <tr>\n",
              "      <th>mean</th>\n",
              "      <td>1.168375e-15</td>\n",
              "      <td>3.416908e-16</td>\n",
              "      <td>-1.379537e-15</td>\n",
              "      <td>2.074095e-15</td>\n",
              "      <td>9.604066e-16</td>\n",
              "      <td>1.487313e-15</td>\n",
              "      <td>-5.556467e-16</td>\n",
              "      <td>1.213481e-16</td>\n",
              "      <td>-2.406331e-15</td>\n",
              "      <td>2.239053e-15</td>\n",
              "      <td>...</td>\n",
              "      <td>1.654067e-16</td>\n",
              "      <td>-3.568593e-16</td>\n",
              "      <td>2.578648e-16</td>\n",
              "      <td>4.473266e-15</td>\n",
              "      <td>5.340915e-16</td>\n",
              "      <td>1.683437e-15</td>\n",
              "      <td>-3.660091e-16</td>\n",
              "      <td>-1.227390e-16</td>\n",
              "      <td>88.349619</td>\n",
              "      <td>0.001727</td>\n",
              "    </tr>\n",
              "    <tr>\n",
              "      <th>std</th>\n",
              "      <td>1.958696e+00</td>\n",
              "      <td>1.651309e+00</td>\n",
              "      <td>1.516255e+00</td>\n",
              "      <td>1.415869e+00</td>\n",
              "      <td>1.380247e+00</td>\n",
              "      <td>1.332271e+00</td>\n",
              "      <td>1.237094e+00</td>\n",
              "      <td>1.194353e+00</td>\n",
              "      <td>1.098632e+00</td>\n",
              "      <td>1.088850e+00</td>\n",
              "      <td>...</td>\n",
              "      <td>7.345240e-01</td>\n",
              "      <td>7.257016e-01</td>\n",
              "      <td>6.244603e-01</td>\n",
              "      <td>6.056471e-01</td>\n",
              "      <td>5.212781e-01</td>\n",
              "      <td>4.822270e-01</td>\n",
              "      <td>4.036325e-01</td>\n",
              "      <td>3.300833e-01</td>\n",
              "      <td>250.120109</td>\n",
              "      <td>0.041527</td>\n",
              "    </tr>\n",
              "    <tr>\n",
              "      <th>min</th>\n",
              "      <td>-5.640751e+01</td>\n",
              "      <td>-7.271573e+01</td>\n",
              "      <td>-4.832559e+01</td>\n",
              "      <td>-5.683171e+00</td>\n",
              "      <td>-1.137433e+02</td>\n",
              "      <td>-2.616051e+01</td>\n",
              "      <td>-4.355724e+01</td>\n",
              "      <td>-7.321672e+01</td>\n",
              "      <td>-1.343407e+01</td>\n",
              "      <td>-2.458826e+01</td>\n",
              "      <td>...</td>\n",
              "      <td>-3.483038e+01</td>\n",
              "      <td>-1.093314e+01</td>\n",
              "      <td>-4.480774e+01</td>\n",
              "      <td>-2.836627e+00</td>\n",
              "      <td>-1.029540e+01</td>\n",
              "      <td>-2.604551e+00</td>\n",
              "      <td>-2.256568e+01</td>\n",
              "      <td>-1.543008e+01</td>\n",
              "      <td>0.000000</td>\n",
              "      <td>0.000000</td>\n",
              "    </tr>\n",
              "    <tr>\n",
              "      <th>25%</th>\n",
              "      <td>-9.203734e-01</td>\n",
              "      <td>-5.985499e-01</td>\n",
              "      <td>-8.903648e-01</td>\n",
              "      <td>-8.486401e-01</td>\n",
              "      <td>-6.915971e-01</td>\n",
              "      <td>-7.682956e-01</td>\n",
              "      <td>-5.540759e-01</td>\n",
              "      <td>-2.086297e-01</td>\n",
              "      <td>-6.430976e-01</td>\n",
              "      <td>-5.354257e-01</td>\n",
              "      <td>...</td>\n",
              "      <td>-2.283949e-01</td>\n",
              "      <td>-5.423504e-01</td>\n",
              "      <td>-1.618463e-01</td>\n",
              "      <td>-3.545861e-01</td>\n",
              "      <td>-3.171451e-01</td>\n",
              "      <td>-3.269839e-01</td>\n",
              "      <td>-7.083953e-02</td>\n",
              "      <td>-5.295979e-02</td>\n",
              "      <td>5.600000</td>\n",
              "      <td>0.000000</td>\n",
              "    </tr>\n",
              "    <tr>\n",
              "      <th>50%</th>\n",
              "      <td>1.810880e-02</td>\n",
              "      <td>6.548556e-02</td>\n",
              "      <td>1.798463e-01</td>\n",
              "      <td>-1.984653e-02</td>\n",
              "      <td>-5.433583e-02</td>\n",
              "      <td>-2.741871e-01</td>\n",
              "      <td>4.010308e-02</td>\n",
              "      <td>2.235804e-02</td>\n",
              "      <td>-5.142873e-02</td>\n",
              "      <td>-9.291738e-02</td>\n",
              "      <td>...</td>\n",
              "      <td>-2.945017e-02</td>\n",
              "      <td>6.781943e-03</td>\n",
              "      <td>-1.119293e-02</td>\n",
              "      <td>4.097606e-02</td>\n",
              "      <td>1.659350e-02</td>\n",
              "      <td>-5.213911e-02</td>\n",
              "      <td>1.342146e-03</td>\n",
              "      <td>1.124383e-02</td>\n",
              "      <td>22.000000</td>\n",
              "      <td>0.000000</td>\n",
              "    </tr>\n",
              "    <tr>\n",
              "      <th>75%</th>\n",
              "      <td>1.315642e+00</td>\n",
              "      <td>8.037239e-01</td>\n",
              "      <td>1.027196e+00</td>\n",
              "      <td>7.433413e-01</td>\n",
              "      <td>6.119264e-01</td>\n",
              "      <td>3.985649e-01</td>\n",
              "      <td>5.704361e-01</td>\n",
              "      <td>3.273459e-01</td>\n",
              "      <td>5.971390e-01</td>\n",
              "      <td>4.539234e-01</td>\n",
              "      <td>...</td>\n",
              "      <td>1.863772e-01</td>\n",
              "      <td>5.285536e-01</td>\n",
              "      <td>1.476421e-01</td>\n",
              "      <td>4.395266e-01</td>\n",
              "      <td>3.507156e-01</td>\n",
              "      <td>2.409522e-01</td>\n",
              "      <td>9.104512e-02</td>\n",
              "      <td>7.827995e-02</td>\n",
              "      <td>77.165000</td>\n",
              "      <td>0.000000</td>\n",
              "    </tr>\n",
              "    <tr>\n",
              "      <th>max</th>\n",
              "      <td>2.454930e+00</td>\n",
              "      <td>2.205773e+01</td>\n",
              "      <td>9.382558e+00</td>\n",
              "      <td>1.687534e+01</td>\n",
              "      <td>3.480167e+01</td>\n",
              "      <td>7.330163e+01</td>\n",
              "      <td>1.205895e+02</td>\n",
              "      <td>2.000721e+01</td>\n",
              "      <td>1.559499e+01</td>\n",
              "      <td>2.374514e+01</td>\n",
              "      <td>...</td>\n",
              "      <td>2.720284e+01</td>\n",
              "      <td>1.050309e+01</td>\n",
              "      <td>2.252841e+01</td>\n",
              "      <td>4.584549e+00</td>\n",
              "      <td>7.519589e+00</td>\n",
              "      <td>3.517346e+00</td>\n",
              "      <td>3.161220e+01</td>\n",
              "      <td>3.384781e+01</td>\n",
              "      <td>25691.160000</td>\n",
              "      <td>1.000000</td>\n",
              "    </tr>\n",
              "  </tbody>\n",
              "</table>\n",
              "<p>8 rows × 30 columns</p>\n",
              "</div>\n",
              "    <div class=\"colab-df-buttons\">\n",
              "\n",
              "  <div class=\"colab-df-container\">\n",
              "    <button class=\"colab-df-convert\" onclick=\"convertToInteractive('df-52e9b3d8-b359-4f3b-be38-40e999c7f31b')\"\n",
              "            title=\"Convert this dataframe to an interactive table.\"\n",
              "            style=\"display:none;\">\n",
              "\n",
              "  <svg xmlns=\"http://www.w3.org/2000/svg\" height=\"24px\" viewBox=\"0 -960 960 960\">\n",
              "    <path d=\"M120-120v-720h720v720H120Zm60-500h600v-160H180v160Zm220 220h160v-160H400v160Zm0 220h160v-160H400v160ZM180-400h160v-160H180v160Zm440 0h160v-160H620v160ZM180-180h160v-160H180v160Zm440 0h160v-160H620v160Z\"/>\n",
              "  </svg>\n",
              "    </button>\n",
              "\n",
              "  <style>\n",
              "    .colab-df-container {\n",
              "      display:flex;\n",
              "      gap: 12px;\n",
              "    }\n",
              "\n",
              "    .colab-df-convert {\n",
              "      background-color: #E8F0FE;\n",
              "      border: none;\n",
              "      border-radius: 50%;\n",
              "      cursor: pointer;\n",
              "      display: none;\n",
              "      fill: #1967D2;\n",
              "      height: 32px;\n",
              "      padding: 0 0 0 0;\n",
              "      width: 32px;\n",
              "    }\n",
              "\n",
              "    .colab-df-convert:hover {\n",
              "      background-color: #E2EBFA;\n",
              "      box-shadow: 0px 1px 2px rgba(60, 64, 67, 0.3), 0px 1px 3px 1px rgba(60, 64, 67, 0.15);\n",
              "      fill: #174EA6;\n",
              "    }\n",
              "\n",
              "    .colab-df-buttons div {\n",
              "      margin-bottom: 4px;\n",
              "    }\n",
              "\n",
              "    [theme=dark] .colab-df-convert {\n",
              "      background-color: #3B4455;\n",
              "      fill: #D2E3FC;\n",
              "    }\n",
              "\n",
              "    [theme=dark] .colab-df-convert:hover {\n",
              "      background-color: #434B5C;\n",
              "      box-shadow: 0px 1px 3px 1px rgba(0, 0, 0, 0.15);\n",
              "      filter: drop-shadow(0px 1px 2px rgba(0, 0, 0, 0.3));\n",
              "      fill: #FFFFFF;\n",
              "    }\n",
              "  </style>\n",
              "\n",
              "    <script>\n",
              "      const buttonEl =\n",
              "        document.querySelector('#df-52e9b3d8-b359-4f3b-be38-40e999c7f31b button.colab-df-convert');\n",
              "      buttonEl.style.display =\n",
              "        google.colab.kernel.accessAllowed ? 'block' : 'none';\n",
              "\n",
              "      async function convertToInteractive(key) {\n",
              "        const element = document.querySelector('#df-52e9b3d8-b359-4f3b-be38-40e999c7f31b');\n",
              "        const dataTable =\n",
              "          await google.colab.kernel.invokeFunction('convertToInteractive',\n",
              "                                                    [key], {});\n",
              "        if (!dataTable) return;\n",
              "\n",
              "        const docLinkHtml = 'Like what you see? Visit the ' +\n",
              "          '<a target=\"_blank\" href=https://colab.research.google.com/notebooks/data_table.ipynb>data table notebook</a>'\n",
              "          + ' to learn more about interactive tables.';\n",
              "        element.innerHTML = '';\n",
              "        dataTable['output_type'] = 'display_data';\n",
              "        await google.colab.output.renderOutput(dataTable, element);\n",
              "        const docLink = document.createElement('div');\n",
              "        docLink.innerHTML = docLinkHtml;\n",
              "        element.appendChild(docLink);\n",
              "      }\n",
              "    </script>\n",
              "  </div>\n",
              "\n",
              "\n",
              "    <div id=\"df-a94af813-eb43-4d8b-b469-8c696e7b05c0\">\n",
              "      <button class=\"colab-df-quickchart\" onclick=\"quickchart('df-a94af813-eb43-4d8b-b469-8c696e7b05c0')\"\n",
              "                title=\"Suggest charts\"\n",
              "                style=\"display:none;\">\n",
              "\n",
              "<svg xmlns=\"http://www.w3.org/2000/svg\" height=\"24px\"viewBox=\"0 0 24 24\"\n",
              "     width=\"24px\">\n",
              "    <g>\n",
              "        <path d=\"M19 3H5c-1.1 0-2 .9-2 2v14c0 1.1.9 2 2 2h14c1.1 0 2-.9 2-2V5c0-1.1-.9-2-2-2zM9 17H7v-7h2v7zm4 0h-2V7h2v10zm4 0h-2v-4h2v4z\"/>\n",
              "    </g>\n",
              "</svg>\n",
              "      </button>\n",
              "\n",
              "<style>\n",
              "  .colab-df-quickchart {\n",
              "      --bg-color: #E8F0FE;\n",
              "      --fill-color: #1967D2;\n",
              "      --hover-bg-color: #E2EBFA;\n",
              "      --hover-fill-color: #174EA6;\n",
              "      --disabled-fill-color: #AAA;\n",
              "      --disabled-bg-color: #DDD;\n",
              "  }\n",
              "\n",
              "  [theme=dark] .colab-df-quickchart {\n",
              "      --bg-color: #3B4455;\n",
              "      --fill-color: #D2E3FC;\n",
              "      --hover-bg-color: #434B5C;\n",
              "      --hover-fill-color: #FFFFFF;\n",
              "      --disabled-bg-color: #3B4455;\n",
              "      --disabled-fill-color: #666;\n",
              "  }\n",
              "\n",
              "  .colab-df-quickchart {\n",
              "    background-color: var(--bg-color);\n",
              "    border: none;\n",
              "    border-radius: 50%;\n",
              "    cursor: pointer;\n",
              "    display: none;\n",
              "    fill: var(--fill-color);\n",
              "    height: 32px;\n",
              "    padding: 0;\n",
              "    width: 32px;\n",
              "  }\n",
              "\n",
              "  .colab-df-quickchart:hover {\n",
              "    background-color: var(--hover-bg-color);\n",
              "    box-shadow: 0 1px 2px rgba(60, 64, 67, 0.3), 0 1px 3px 1px rgba(60, 64, 67, 0.15);\n",
              "    fill: var(--button-hover-fill-color);\n",
              "  }\n",
              "\n",
              "  .colab-df-quickchart-complete:disabled,\n",
              "  .colab-df-quickchart-complete:disabled:hover {\n",
              "    background-color: var(--disabled-bg-color);\n",
              "    fill: var(--disabled-fill-color);\n",
              "    box-shadow: none;\n",
              "  }\n",
              "\n",
              "  .colab-df-spinner {\n",
              "    border: 2px solid var(--fill-color);\n",
              "    border-color: transparent;\n",
              "    border-bottom-color: var(--fill-color);\n",
              "    animation:\n",
              "      spin 1s steps(1) infinite;\n",
              "  }\n",
              "\n",
              "  @keyframes spin {\n",
              "    0% {\n",
              "      border-color: transparent;\n",
              "      border-bottom-color: var(--fill-color);\n",
              "      border-left-color: var(--fill-color);\n",
              "    }\n",
              "    20% {\n",
              "      border-color: transparent;\n",
              "      border-left-color: var(--fill-color);\n",
              "      border-top-color: var(--fill-color);\n",
              "    }\n",
              "    30% {\n",
              "      border-color: transparent;\n",
              "      border-left-color: var(--fill-color);\n",
              "      border-top-color: var(--fill-color);\n",
              "      border-right-color: var(--fill-color);\n",
              "    }\n",
              "    40% {\n",
              "      border-color: transparent;\n",
              "      border-right-color: var(--fill-color);\n",
              "      border-top-color: var(--fill-color);\n",
              "    }\n",
              "    60% {\n",
              "      border-color: transparent;\n",
              "      border-right-color: var(--fill-color);\n",
              "    }\n",
              "    80% {\n",
              "      border-color: transparent;\n",
              "      border-right-color: var(--fill-color);\n",
              "      border-bottom-color: var(--fill-color);\n",
              "    }\n",
              "    90% {\n",
              "      border-color: transparent;\n",
              "      border-bottom-color: var(--fill-color);\n",
              "    }\n",
              "  }\n",
              "</style>\n",
              "\n",
              "      <script>\n",
              "        async function quickchart(key) {\n",
              "          const quickchartButtonEl =\n",
              "            document.querySelector('#' + key + ' button');\n",
              "          quickchartButtonEl.disabled = true;  // To prevent multiple clicks.\n",
              "          quickchartButtonEl.classList.add('colab-df-spinner');\n",
              "          try {\n",
              "            const charts = await google.colab.kernel.invokeFunction(\n",
              "                'suggestCharts', [key], {});\n",
              "          } catch (error) {\n",
              "            console.error('Error during call to suggestCharts:', error);\n",
              "          }\n",
              "          quickchartButtonEl.classList.remove('colab-df-spinner');\n",
              "          quickchartButtonEl.classList.add('colab-df-quickchart-complete');\n",
              "        }\n",
              "        (() => {\n",
              "          let quickchartButtonEl =\n",
              "            document.querySelector('#df-a94af813-eb43-4d8b-b469-8c696e7b05c0 button');\n",
              "          quickchartButtonEl.style.display =\n",
              "            google.colab.kernel.accessAllowed ? 'block' : 'none';\n",
              "        })();\n",
              "      </script>\n",
              "    </div>\n",
              "\n",
              "    </div>\n",
              "  </div>\n"
            ],
            "application/vnd.google.colaboratory.intrinsic+json": {
              "type": "dataframe"
            }
          },
          "metadata": {},
          "execution_count": 4
        }
      ],
      "source": [
        "df.describe()"
      ]
    },
    {
      "cell_type": "code",
      "execution_count": null,
      "id": "306b3e6f",
      "metadata": {
        "colab": {
          "base_uri": "https://localhost:8080/"
        },
        "id": "306b3e6f",
        "outputId": "f4f33f33-4a73-42a9-fd30-549a1215dacf"
      },
      "outputs": [
        {
          "output_type": "stream",
          "name": "stdout",
          "text": [
            "Dataset has 9144 duplicate rows\n"
          ]
        }
      ],
      "source": [
        "# checking for duplicate values\n",
        "print(f\"Dataset has {df.duplicated().sum()} duplicate rows\")\n",
        "# dropping duplicate rows\n",
        "df.drop_duplicates(inplace=True)"
      ]
    },
    {
      "cell_type": "code",
      "execution_count": null,
      "id": "8b2f4c06",
      "metadata": {
        "colab": {
          "base_uri": "https://localhost:8080/"
        },
        "id": "8b2f4c06",
        "outputId": "d43b5214-2f5e-49f1-8ae7-73a51a7ab119"
      },
      "outputs": [
        {
          "output_type": "stream",
          "name": "stdout",
          "text": [
            "<class 'pandas.core.frame.DataFrame'>\n",
            "Index: 275663 entries, 0 to 284806\n",
            "Data columns (total 30 columns):\n",
            " #   Column  Non-Null Count   Dtype  \n",
            "---  ------  --------------   -----  \n",
            " 0   V1      275663 non-null  float64\n",
            " 1   V2      275663 non-null  float64\n",
            " 2   V3      275663 non-null  float64\n",
            " 3   V4      275663 non-null  float64\n",
            " 4   V5      275663 non-null  float64\n",
            " 5   V6      275663 non-null  float64\n",
            " 6   V7      275663 non-null  float64\n",
            " 7   V8      275663 non-null  float64\n",
            " 8   V9      275663 non-null  float64\n",
            " 9   V10     275663 non-null  float64\n",
            " 10  V11     275663 non-null  float64\n",
            " 11  V12     275663 non-null  float64\n",
            " 12  V13     275663 non-null  float64\n",
            " 13  V14     275663 non-null  float64\n",
            " 14  V15     275663 non-null  float64\n",
            " 15  V16     275663 non-null  float64\n",
            " 16  V17     275663 non-null  float64\n",
            " 17  V18     275663 non-null  float64\n",
            " 18  V19     275663 non-null  float64\n",
            " 19  V20     275663 non-null  float64\n",
            " 20  V21     275663 non-null  float64\n",
            " 21  V22     275663 non-null  float64\n",
            " 22  V23     275663 non-null  float64\n",
            " 23  V24     275663 non-null  float64\n",
            " 24  V25     275663 non-null  float64\n",
            " 25  V26     275663 non-null  float64\n",
            " 26  V27     275663 non-null  float64\n",
            " 27  V28     275663 non-null  float64\n",
            " 28  Amount  275663 non-null  float64\n",
            " 29  Class   275663 non-null  int64  \n",
            "dtypes: float64(29), int64(1)\n",
            "memory usage: 65.2 MB\n"
          ]
        }
      ],
      "source": [
        "df.info()"
      ]
    },
    {
      "cell_type": "markdown",
      "id": "c5128908",
      "metadata": {
        "id": "c5128908"
      },
      "source": [
        "There is no null values"
      ]
    },
    {
      "cell_type": "code",
      "execution_count": null,
      "id": "9d6c996a",
      "metadata": {
        "colab": {
          "base_uri": "https://localhost:8080/"
        },
        "id": "9d6c996a",
        "outputId": "484c6497-621c-4c6d-c81e-c1a49ce1611a"
      },
      "outputs": [
        {
          "output_type": "stream",
          "name": "stdout",
          "text": [
            "No Frauds 99.83 % of the dataset\n",
            "Frauds 0.17 % of the dataset\n"
          ]
        }
      ],
      "source": [
        "print('No Frauds', round(df['Class'].value_counts()[0]/len(df) * 100,2), '% of the dataset')\n",
        "print('Frauds', round(df['Class'].value_counts()[1]/len(df) * 100,2), '% of the dataset')"
      ]
    },
    {
      "cell_type": "code",
      "execution_count": null,
      "id": "d88ad047",
      "metadata": {
        "colab": {
          "base_uri": "https://localhost:8080/",
          "height": 467
        },
        "id": "d88ad047",
        "outputId": "8783639d-74f3-42fe-d6a4-cbf515804c51"
      },
      "outputs": [
        {
          "output_type": "execute_result",
          "data": {
            "text/plain": [
              "<Axes: xlabel='Class', ylabel='count'>"
            ]
          },
          "metadata": {},
          "execution_count": 8
        },
        {
          "output_type": "display_data",
          "data": {
            "text/plain": [
              "<Figure size 640x480 with 1 Axes>"
            ],
            "image/png": "[encoded data removed]"
          },
          "metadata": {}
        }
      ],
      "source": [
        "sns.countplot(data=df,x='Class')"
      ]
    },
    {
      "cell_type": "code",
      "execution_count": null,
      "id": "30728ee8",
      "metadata": {
        "colab": {
          "base_uri": "https://localhost:8080/",
          "height": 993
        },
        "id": "30728ee8",
        "outputId": "eef3f799-1a25-424e-ada9-aef802e183d4"
      },
      "outputs": [
        {
          "output_type": "execute_result",
          "data": {
            "text/plain": [
              "V1        -3.273070\n",
              "V2        -4.653486\n",
              "V3        -2.216730\n",
              "V4         0.681387\n",
              "V5        -2.458790\n",
              "V6         1.867576\n",
              "V7         2.877722\n",
              "V8        -8.292631\n",
              "V9         0.550965\n",
              "V10        1.242165\n",
              "V11        0.347772\n",
              "V12       -2.208171\n",
              "V13        0.061058\n",
              "V14       -1.953613\n",
              "V15       -0.295836\n",
              "V16       -1.048371\n",
              "V17       -3.802987\n",
              "V18       -0.255710\n",
              "V19        0.115957\n",
              "V20       -2.045060\n",
              "V21        2.784302\n",
              "V22       -0.200868\n",
              "V23       -5.805236\n",
              "V24       -0.545636\n",
              "V25       -0.408260\n",
              "V26        0.587603\n",
              "V27       -0.745732\n",
              "V28       11.400938\n",
              "Amount    16.841622\n",
              "dtype: float64"
            ],
            "text/html": [
              "<div>\n",
              "<style scoped>\n",
              "    .dataframe tbody tr th:only-of-type {\n",
              "        vertical-align: middle;\n",
              "    }\n",
              "\n",
              "    .dataframe tbody tr th {\n",
              "        vertical-align: top;\n",
              "    }\n",
              "\n",
              "    .dataframe thead th {\n",
              "        text-align: right;\n",
              "    }\n",
              "</style>\n",
              "<table border=\"1\" class=\"dataframe\">\n",
              "  <thead>\n",
              "    <tr style=\"text-align: right;\">\n",
              "      <th></th>\n",
              "      <th>0</th>\n",
              "    </tr>\n",
              "  </thead>\n",
              "  <tbody>\n",
              "    <tr>\n",
              "      <th>V1</th>\n",
              "      <td>-3.273070</td>\n",
              "    </tr>\n",
              "    <tr>\n",
              "      <th>V2</th>\n",
              "      <td>-4.653486</td>\n",
              "    </tr>\n",
              "    <tr>\n",
              "      <th>V3</th>\n",
              "      <td>-2.216730</td>\n",
              "    </tr>\n",
              "    <tr>\n",
              "      <th>V4</th>\n",
              "      <td>0.681387</td>\n",
              "    </tr>\n",
              "    <tr>\n",
              "      <th>V5</th>\n",
              "      <td>-2.458790</td>\n",
              "    </tr>\n",
              "    <tr>\n",
              "      <th>V6</th>\n",
              "      <td>1.867576</td>\n",
              "    </tr>\n",
              "    <tr>\n",
              "      <th>V7</th>\n",
              "      <td>2.877722</td>\n",
              "    </tr>\n",
              "    <tr>\n",
              "      <th>V8</th>\n",
              "      <td>-8.292631</td>\n",
              "    </tr>\n",
              "    <tr>\n",
              "      <th>V9</th>\n",
              "      <td>0.550965</td>\n",
              "    </tr>\n",
              "    <tr>\n",
              "      <th>V10</th>\n",
              "      <td>1.242165</td>\n",
              "    </tr>\n",
              "    <tr>\n",
              "      <th>V11</th>\n",
              "      <td>0.347772</td>\n",
              "    </tr>\n",
              "    <tr>\n",
              "      <th>V12</th>\n",
              "      <td>-2.208171</td>\n",
              "    </tr>\n",
              "    <tr>\n",
              "      <th>V13</th>\n",
              "      <td>0.061058</td>\n",
              "    </tr>\n",
              "    <tr>\n",
              "      <th>V14</th>\n",
              "      <td>-1.953613</td>\n",
              "    </tr>\n",
              "    <tr>\n",
              "      <th>V15</th>\n",
              "      <td>-0.295836</td>\n",
              "    </tr>\n",
              "    <tr>\n",
              "      <th>V16</th>\n",
              "      <td>-1.048371</td>\n",
              "    </tr>\n",
              "    <tr>\n",
              "      <th>V17</th>\n",
              "      <td>-3.802987</td>\n",
              "    </tr>\n",
              "    <tr>\n",
              "      <th>V18</th>\n",
              "      <td>-0.255710</td>\n",
              "    </tr>\n",
              "    <tr>\n",
              "      <th>V19</th>\n",
              "      <td>0.115957</td>\n",
              "    </tr>\n",
              "    <tr>\n",
              "      <th>V20</th>\n",
              "      <td>-2.045060</td>\n",
              "    </tr>\n",
              "    <tr>\n",
              "      <th>V21</th>\n",
              "      <td>2.784302</td>\n",
              "    </tr>\n",
              "    <tr>\n",
              "      <th>V22</th>\n",
              "      <td>-0.200868</td>\n",
              "    </tr>\n",
              "    <tr>\n",
              "      <th>V23</th>\n",
              "      <td>-5.805236</td>\n",
              "    </tr>\n",
              "    <tr>\n",
              "      <th>V24</th>\n",
              "      <td>-0.545636</td>\n",
              "    </tr>\n",
              "    <tr>\n",
              "      <th>V25</th>\n",
              "      <td>-0.408260</td>\n",
              "    </tr>\n",
              "    <tr>\n",
              "      <th>V26</th>\n",
              "      <td>0.587603</td>\n",
              "    </tr>\n",
              "    <tr>\n",
              "      <th>V27</th>\n",
              "      <td>-0.745732</td>\n",
              "    </tr>\n",
              "    <tr>\n",
              "      <th>V28</th>\n",
              "      <td>11.400938</td>\n",
              "    </tr>\n",
              "    <tr>\n",
              "      <th>Amount</th>\n",
              "      <td>16.841622</td>\n",
              "    </tr>\n",
              "  </tbody>\n",
              "</table>\n",
              "</div><br><label><b>dtype:</b> float64</label>"
            ]
          },
          "metadata": {},
          "execution_count": 9
        }
      ],
      "source": [
        "df.drop('Class',axis=1).skew()"
      ]
    },
    {
      "cell_type": "code",
      "execution_count": null,
      "id": "d74277ea",
      "metadata": {
        "colab": {
          "base_uri": "https://localhost:8080/",
          "height": 468
        },
        "id": "d74277ea",
        "outputId": "f55e20dd-baa0-4289-f471-90f099257315"
      },
      "outputs": [
        {
          "output_type": "execute_result",
          "data": {
            "text/plain": [
              "<Axes: xlabel='Amount', ylabel='Density'>"
            ]
          },
          "metadata": {},
          "execution_count": 10
        },
        {
          "output_type": "display_data",
          "data": {
            "text/plain": [
              "<Figure size 640x480 with 1 Axes>"
            ],
            "image/png": "[encoded data removed]"
          },
          "metadata": {}
        }
      ],
      "source": [
        "sns.kdeplot(df['Amount'])"
      ]
    },
    {
      "cell_type": "code",
      "execution_count": null,
      "id": "bd8cb1b8",
      "metadata": {
        "colab": {
          "base_uri": "https://localhost:8080/",
          "height": 467
        },
        "id": "bd8cb1b8",
        "outputId": "e4292305-83e6-45bb-8804-50319cab5a7e"
      },
      "outputs": [
        {
          "output_type": "execute_result",
          "data": {
            "text/plain": [
              "<Axes: xlabel='Amount', ylabel='Density'>"
            ]
          },
          "metadata": {},
          "execution_count": 11
        },
        {
          "output_type": "display_data",
          "data": {
            "text/plain": [
              "<Figure size 640x480 with 1 Axes>"
            ],
            "image/png": "[encoded data removed]"
          },
          "metadata": {}
        }
      ],
      "source": [
        "df['Amount'] = df['Amount'].apply(lambda x: np.log10(x+1))\n",
        "sns.kdeplot(df['Amount'])"
      ]
    },
    {
      "cell_type": "markdown",
      "id": "284d6f22",
      "metadata": {
        "id": "284d6f22"
      },
      "source": [
        "## Creating a sub sample"
      ]
    },
    {
      "cell_type": "markdown",
      "id": "0a068d5c",
      "metadata": {
        "id": "0a068d5c"
      },
      "source": [
        "What - create a[](http://) df with equal number of fraud and non fraud samples  \n",
        "Why - Although we don't know what the \"V\" features stand for, it will be useful to understand how each of this features influence the target. By having an imbalance dataframe we are not able to see the true correlations between the class and features"
      ]
    },
    {
      "cell_type": "code",
      "execution_count": null,
      "id": "555570b8",
      "metadata": {
        "id": "555570b8"
      },
      "outputs": [],
      "source": [
        "df = df.sample(frac=1)\n",
        "\n",
        "fraud_df = df.loc[df['Class'] == 1]\n",
        "non_fraud_df = df.loc[df['Class'] == 0][:492]\n",
        "\n",
        "subsample = pd.concat([fraud_df, non_fraud_df])\n",
        "new_df = subsample.sample(frac=1, random_state=42)"
      ]
    },
    {
      "cell_type": "markdown",
      "id": "6ece260f",
      "metadata": {
        "id": "6ece260f"
      },
      "source": [
        "### Correlation"
      ]
    },
    {
      "cell_type": "code",
      "execution_count": null,
      "id": "b4be44b5",
      "metadata": {
        "colab": {
          "base_uri": "https://localhost:8080/",
          "height": 542
        },
        "id": "b4be44b5",
        "outputId": "d09d95a9-fe12-4491-e4b9-c36ad4ac0e28"
      },
      "outputs": [
        {
          "output_type": "display_data",
          "data": {
            "text/html": [
              "<html>\n",
              "<head><meta charset=\"utf-8\" /></head>\n",
              "<body>\n",
              "    <div>            <script src=\"https://cdnjs.cloudflare.com/ajax/libs/mathjax/2.7.5/MathJax.js?config=TeX-AMS-MML_SVG\"></script><script type=\"text/javascript\">if (window.MathJax && window.MathJax.Hub && window.MathJax.Hub.Config) {window.MathJax.Hub.Config({SVG: {font: \"STIX-Web\"}});}</script>                <script type=\"text/javascript\">window.PlotlyConfig = {MathJaxConfig: 'local'};</script>\n",
              "        <script charset=\"utf-8\" src=\"https://cdn.plot.ly/plotly-2.35.2.min.js\"></script>                <div id=\"eae4d653-d63f-4f31-b1ed-c6e63def0431\" class=\"plotly-graph-div\" style=\"height:525px; width:100%;\"></div>            <script type=\"text/javascript\">                                    window.PLOTLYENV=window.PLOTLYENV || {};                                    if (document.getElementById(\"eae4d653-d63f-4f31-b1ed-c6e63def0431\")) {                    Plotly.newPlot(                        \"eae4d653-d63f-4f31-b1ed-c6e63def0431\",                        [{\"coloraxis\":\"coloraxis\",\"name\":\"0\",\"x\":[\"V1\",\"V2\",\"V3\",\"V4\",\"V5\",\"V6\",\"V7\",\"V8\",\"V9\",\"V10\",\"V11\",\"V12\",\"V13\",\"V14\",\"V15\",\"V16\",\"V17\",\"V18\",\"V19\",\"V20\",\"V21\",\"V22\",\"V23\",\"V24\",\"V25\",\"V26\",\"V27\",\"V28\",\"Amount\",\"Class\"],\"y\":[\"V1\",\"V2\",\"V3\",\"V4\",\"V5\",\"V6\",\"V7\",\"V8\",\"V9\",\"V10\",\"V11\",\"V12\",\"V13\",\"V14\",\"V15\",\"V16\",\"V17\",\"V18\",\"V19\",\"V20\",\"V21\",\"V22\",\"V23\",\"V24\",\"V25\",\"V26\",\"V27\",\"V28\",\"Amount\",\"Class\"],\"z\":[[1.0,0.009002056630572526,0.0059518703233440474,-0.000041733637722845555,-0.01859293139425865,-0.005788588932603624,-0.006842588291335877,-0.0004903017705978485,-0.007093188184084937,0.00311508043336758,-0.005238361152132303,-0.005224732658888022,0.00017607397170219048,-0.00016701663809457105,-0.008538155507659519,-0.006376158582724085,-0.001709260494715708,-0.00003711812585128206,-0.00036578698126046134,0.003108536048539627,0.006003695030846348,0.00363385957393702,-0.007503985473868864,-0.00932677322450261,-0.004446136018296201,-0.002436423100703924,-0.014628053567675586,-0.003555006941166621,-0.07669206550361604,-0.09471828027403625],[0.009002056630572526,1.0,0.004976420415917315,-0.004094783032822147,0.00465482815153972,0.0042902664746453534,0.00486601089747514,0.0037426936559330245,0.0011157645474231955,0.0027641737994162268,-0.0018084640177490085,0.0014801177085390917,0.00046076961088049715,0.004771739778601239,0.0011762916062600312,0.0026475607161064404,0.001303584059943277,0.0003630379040185871,0.0011638151899723702,-0.0003388726980984588,-0.003880671951278689,0.0029086740053362327,-0.003688629621718194,0.001973516828125373,-0.002836931404197386,-0.0002960596857443905,0.007251624234862419,0.0014575992938970783,-0.45939752929648014,0.08475425481454281],[0.0059518703233440474,0.004976420415917315,1.0,-0.0007207506128838899,0.011019512449786103,0.014780101443836853,-0.014015590290725603,0.0037332102991636164,-0.0028955310476305846,-0.0110644565820145,0.0037632683294713835,-0.003365403264207977,-0.0007532888104511492,-0.008208455227591168,0.0033238924517765746,0.0003360330653480338,-0.002813132739071377,-0.0038764479346075236,-0.0008279699688052502,-0.004587224438279638,0.0018178562780221713,-0.0042029236721424675,0.0021830017967687213,0.00978201284689936,0.004090898265090301,0.00359606080381749,-0.00878049022086322,-0.0024539941230243534,-0.05301909618409724,-0.1857717436207035],[-0.000041733637722845555,-0.004094783032822147,-0.0007207506128838899,1.0,0.006710184917377039,0.012534619986162215,0.00080616131529656,0.00499648452026269,0.0013954678785992576,0.0033663943727184962,-0.004401812026915708,0.0005605366567561026,0.00033240074820584044,0.005335596702448388,0.004045091895456159,0.0017826285626817587,0.001632867954039003,0.0015686647749632104,0.0050182829534911,0.0011654100961734169,-0.0006225862056654031,0.0015809695312210888,-0.00015475367372606277,0.00575938470532781,0.00017302609596240066,-0.001105267971374438,0.002517327210786396,0.00002844701328983904,-0.000699172413575705,0.13031328765078937],[-0.01859293139425865,0.00465482815153972,0.011019512449786103,0.006710184917377039,1.0,-0.029700785735833454,-0.009106632501579717,-0.002605287522407409,-0.0007861995616427962,-0.0028177407252066317,-0.0029651575403908366,-0.0003427722292886741,0.0012005945355469884,0.005174527525292187,-0.007121994543520995,-0.004147091486085915,-0.005421946975850509,-0.0031082166092601953,0.00035056602265913197,-0.0007880754250584361,0.0034392276588516213,0.002971456770964614,-0.0010578383026693717,-0.012633613332770268,-0.004862304415897537,-0.0015684754955835574,-0.006115679435719718,-0.0007109361143903668,-0.28520207300737715,-0.08864223740340602],[-0.005788588932603624,0.0042902664746453534,0.014780101443836853,0.012534619986162215,-0.029700785735833454,1.0,0.013087429720545564,-0.012300897072016669,-0.0022898994434729487,-0.00272288563966099,0.00044595492078969816,0.004288005962351963,-0.0001395465488948849,0.00017772529829543438,-0.009362574711092945,-0.0025379738409452976,0.0017467394403829913,0.0007341181373794494,0.0008803306295041071,-0.0018348819521769339,-0.0015842250415121822,0.002355047652428109,-0.0002208036105655419,-0.02109767327229284,-0.006673263711385921,0.000701899913872566,-0.0015773843269393727,0.000617063219478853,0.1759404069423663,-0.044776655795791175],[-0.006842588291335877,0.00486601089747514,-0.014015590290725603,0.00080616131529656,-0.009106632501579717,0.013087429720545564,1.0,-0.0009866326473793585,-0.0016570505889462414,-0.01224557536702253,0.0017312862293721082,-0.007377770947454617,0.0010190654338442379,-0.0020063821639049154,0.0021646994570771617,-0.0035533675012723942,-0.009984959755662933,-0.004092121223166184,0.000589609211748861,-0.002195827334780416,0.00863473021160339,-0.001700898497952465,0.0034580507880621423,0.005375437011176068,0.0020698078979523343,-0.00045883836790301896,-0.003977219873228967,0.0013292721181323963,0.09665909375065539,-0.1732918453621107],[-0.0004903017705978485,0.0037426936559330245,0.0037332102991636164,0.00499648452026269,-0.002605287522407409,-0.012300897072016669,-0.0009866326473793585,1.0,0.00016845994784141452,0.00023852276984071203,0.005165137776894961,-0.004133687695665144,-0.0013413330919203905,-0.00956838428953234,-0.002322346439935737,-0.0068683078582947215,-0.0060491433842739025,-0.0020921198093683275,0.0008553714180542193,0.0005621589466952017,0.018805553474641325,-0.005181868541497043,0.006461216507352003,-0.006000318559471218,-0.0028265011984084294,-0.0011224898419865033,-0.00010826667669575131,0.0002008717009616102,-0.021610377555365434,0.033364384602848726],[-0.007093188184084937,0.0011157645474231955,-0.0028955310476305846,0.0013954678785992576,-0.0007861995616427962,-0.0022898994434729487,-0.0016570505889462414,0.00016845994784141452,1.0,-0.004956960977232626,-0.0015831315122645706,0.00022093464914152035,-0.00025906269002488105,-0.005124874206624859,-0.0049122723369861235,0.002680339994664644,-0.00048754043251914264,-0.0009567733050661517,-0.0009356707772170816,0.0006125813121427176,0.00174447138393991,0.000741762274653747,-0.0017392600161237463,-0.0024540913158739956,-0.00035765868608076524,0.005307459170163141,0.008065890934747954,0.00648666877632952,-0.0737971837506038,-0.09458275894222017],[0.00311508043336758,0.0027641737994162268,-0.0110644565820145,0.0033663943727184962,-0.0028177407252066317,-0.00272288563966099,-0.01224557536702253,0.00023852276984071203,-0.004956960977232626,1.0,0.005211325913813536,-0.007394681979456947,0.000889696450936176,-0.00461592226714095,0.003366010902797481,-0.0036371650675408496,-0.0018408332602427194,0.0009112200184282381,0.00037902910886739656,-0.004506172251323218,0.0023955011018211695,-0.003012080922121361,0.001760451046667309,0.00101491879651229,0.0024991028176015936,-0.0008588947666104935,0.011495357691488059,0.009956260833450175,-0.016495040286124665,-0.20810420388534182],[-0.005238361152132303,-0.0018084640177490085,0.0037632683294713835,-0.004401812026915708,-0.0029651575403908366,0.00044595492078969816,0.0017312862293721082,0.005165137776894961,-0.0015831315122645706,0.005211325913813536,1.0,0.003856970171192325,0.0013722399585872984,0.010051637591902562,-0.002381767700422696,0.001045089917557777,0.00012728508810094645,-0.0017349245158465145,0.002067554253990934,-0.0002896766792570597,-0.002330819411200355,0.0008035998110590572,-0.0008390469723996673,0.0015836370718236036,-0.003209352198737647,-0.002064526667881261,0.002434704351628411,0.002175865834635471,-0.04305344263458203,0.15126045335714572],[-0.005224732658888022,0.0014801177085390917,-0.003365403264207977,0.0005605366567561026,-0.0003427722292886741,0.004288005962351963,-0.007377770947454617,-0.004133687695665144,0.00022093464914152035,-0.007394681979456947,0.003856970171192325,1.0,0.00253231436404743,-0.004060598916457928,0.0017273304728851184,-0.0076922791498799,-0.007394531288473162,-0.0007609712734102232,-0.0017433222825322659,0.0020413560807987846,0.004192083404063384,0.002966654468970656,-0.0011010633955009176,0.0016954532680858673,0.0007319178597714592,-0.0020108838239185594,-0.0007758604396770508,-0.00017303047803576068,-0.01103340624931934,-0.2531497949999701],[0.00017607397170219048,0.00046076961088049715,-0.0007532888104511492,0.00033240074820584044,0.0012005945355469884,-0.0001395465488948849,0.0010190654338442379,-0.0013413330919203905,-0.00025906269002488105,0.000889696450936176,0.0013722399585872984,0.00253231436404743,1.0,-0.003479566711820814,0.0025145688423962092,-0.0022096783650525586,-0.00031470368423970775,0.0008394873375494512,0.0010715570383272154,-0.0006206148356032395,0.0011005453910092958,0.0002135260322736872,0.0007110910522849629,-0.0010140681867750858,-0.00005911039298917722,0.0008868780941754629,-0.001451010249714271,-0.0003797505758877015,-0.006205009221444462,-0.003934245314299104],[-0.00016701663809457105,0.004771739778601239,-0.008208455227591168,0.005335596702448388,0.005174527525292187,0.00017772529829543438,-0.0020063821639049154,-0.00956838428953234,-0.005124874206624859,-0.00461592226714095,0.010051637591902562,-0.004060598916457928,-0.003479566711820814,1.0,0.002624483631610384,-0.003320306849979019,0.000919723002497964,0.0014131471241991115,-0.0007510941548647926,0.0036834571970596297,0.004710627375381558,-0.00479479055803891,0.0009289389054847434,0.00033180031929478727,0.0020768168575141703,0.0014042703420475376,-0.0038284420292788797,-0.003178202426597125,0.02138278263984987,-0.2975497797564374],[-0.008538155507659519,0.0011762916062600312,0.0033238924517765746,0.004045091895456159,-0.007121994543520995,-0.009362574711092945,0.0021646994570771617,-0.002322346439935737,-0.0049122723369861235,0.003366010902797481,-0.002381767700422696,0.0017273304728851184,0.0025145688423962092,0.002624483631610384,1.0,-0.004916780368499138,-0.0006027072808329045,-0.000859014719824298,0.003386534076430467,0.0003750891706897384,0.0011372992637743334,0.0025790032134958654,0.0007269407316842248,-0.008460676558177558,-0.00824511750692317,0.0019241521230987306,-0.0014722700182017926,0.0001562793783289167,-0.05445302096354356,-0.002823966145014269],[-0.006376158582724085,0.0026475607161064404,0.0003360330653480338,0.0017826285626817587,-0.004147091486085915,-0.0025379738409452976,-0.0035533675012723942,-0.0068683078582947215,0.002680339994664644,-0.0036371650675408496,0.001045089917557777,-0.0076922791498799,-0.0022096783650525586,-0.003320306849979019,-0.004916780368499138,1.0,-0.010046388062466221,-0.009275590059228293,0.0024073594302017774,0.0004240054532788149,0.00526715440049911,0.0032960882528520656,0.0015241836118116115,-0.004436914287114941,-0.0024636512169706965,-0.004494645380977297,-0.003527977806909105,-0.0018546665914330992,-0.09729387167350739,-0.18822150581931818],[-0.001709260494715708,0.001303584059943277,-0.002813132739071377,0.001632867954039003,-0.005421946975850509,0.0017467394403829913,-0.009984959755662933,-0.0060491433842739025,-0.00048754043251914264,-0.0018408332602427194,0.00012728508810094645,-0.007394531288473162,-0.00031470368423970775,0.000919723002497964,-0.0006027072808329045,-0.010046388062466221,1.0,-0.007602083690617727,0.007939819203282763,0.0012085000319452539,0.004162723774863806,0.0005457665567498735,0.0024120413459316347,0.004598973463231385,-0.0033430327529155365,-0.0010902404860176666,-0.003597076398563375,-0.0035868351644627035,0.016922759734357275,-0.31720194703318383],[-0.00003711812585128206,0.0003630379040185871,-0.0038764479346075236,0.0015686647749632104,-0.0031082166092601953,0.0007341181373794494,-0.004092121223166184,-0.0020921198093683275,-0.0009567733050661517,0.0009112200184282381,-0.0017349245158465145,-0.0007609712734102232,0.0008394873375494512,0.0014131471241991115,-0.000859014719824298,-0.009275590059228293,-0.007602083690617727,1.0,0.00038945371850091317,-0.00018506842718451564,0.000619427089182606,-0.004321380435269489,0.00348751473067277,-0.00083596905083707,-0.005230957006827704,0.0035834783040605387,-0.0051764558222708165,-0.0018988674568861893,0.04418650871470578,-0.10644692553081254],[-0.00036578698126046134,0.0011638151899723702,-0.0008279699688052502,0.0050182829534911,0.00035056602265913197,0.0008803306295041071,0.000589609211748861,0.0008553714180542193,-0.0009356707772170816,0.00037902910886739656,0.002067554253990934,-0.0017433222825322659,0.0010715570383272154,-0.0007510941548647926,0.003386534076430467,0.0024073594302017774,0.007939819203282763,0.00038945371850091317,1.0,-0.0008462799424580717,0.0008855134322266953,0.0035208642995498544,-0.00035680835693553047,-0.001410089349183254,0.0004653675644517718,0.0009070515999730496,-0.00001097378901343565,0.0008126304744584325,-0.015601526945530516,0.03378413152415512],[0.003108536048539627,-0.0003388726980984588,-0.004587224438279638,0.0011654100961734169,-0.0007880754250584361,-0.0018348819521769339,-0.002195827334780416,0.0005621589466952017,0.0006125813121427176,-0.004506172251323218,-0.0002896766792570597,0.0020413560807987846,-0.0006206148356032395,0.0036834571970596297,0.0003750891706897384,0.0004240054532788149,0.0012085000319452539,-0.00018506842718451564,-0.0008462799424580717,1.0,0.004391631543174658,-0.0023215318570966397,0.0007476054518364222,0.00013230040224708757,-1.2698991006388867e-6,-0.00030437091379312904,-0.00009623569420502329,0.001827848790843985,0.1425680545106216,0.021349134626456913],[0.006003695030846348,-0.003880671951278689,0.0018178562780221713,-0.0006225862056654031,0.0034392276588516213,-0.0015842250415121822,0.00863473021160339,0.018805553474641325,0.00174447138393991,0.0023955011018211695,-0.002330819411200355,0.004192083404063384,0.0011005453910092958,0.004710627375381558,0.0011372992637743334,0.00526715440049911,0.004162723774863806,0.000619427089182606,0.0008855134322266953,0.004391631543174658,1.0,0.001795126748550636,-0.004335795108936167,0.0029433295315661823,-0.0012993410572348222,0.0008275390972013395,-0.00552403970681516,-0.004461160639097412,0.08325734243772899,0.026239135618532004],[0.00363385957393702,0.0029086740053362327,-0.0042029236721424675,0.0015809695312210888,0.002971456770964614,0.002355047652428109,-0.001700898497952465,-0.005181868541497043,0.000741762274653747,-0.003012080922121361,0.0008035998110590572,0.002966654468970656,0.0002135260322736872,-0.00479479055803891,0.0025790032134958654,0.0032960882528520656,0.0005457665567498735,-0.004321380435269489,0.0035208642995498544,-0.0023215318570966397,0.001795126748550636,1.0,0.0061606348167179085,0.004007631493735316,-0.0023307563307246827,0.004308780678510804,0.0016856153718818295,0.0016703357452038932,0.03546786563373518,0.004612376174770491],[-0.007503985473868864,-0.003688629621718194,0.0021830017967687213,-0.00015475367372606277,-0.0010578383026693717,-0.0002208036105655419,0.0034580507880621423,0.006461216507352003,-0.0017392600161237463,0.001760451046667309,-0.0008390469723996673,-0.0011010633955009176,0.0007110910522849629,0.0009289389054847434,0.0007269407316842248,0.0015241836118116115,0.0024120413459316347,0.00348751473067277,-0.00035680835693553047,0.0007476054518364222,-0.004335795108936167,0.0061606348167179085,1.0,-0.001191134561357929,0.003624511136032605,-0.0021047329234189197,-0.001519735777762711,-0.0027191923469284045,-0.025060446233726618,-0.0062060255615807025],[-0.00932677322450261,0.001973516828125373,0.00978201284689936,0.00575938470532781,-0.012633613332770268,-0.02109767327229284,0.005375437011176068,-0.006000318559471218,-0.0024540913158739956,0.00101491879651229,0.0015836370718236036,0.0016954532680858673,-0.0010140681867750858,0.00033180031929478727,-0.008460676558177558,-0.004436914287114941,0.004598973463231385,-0.00083596905083707,-0.001410089349183254,0.00013230040224708757,0.0029433295315661823,0.004007631493735316,-0.001191134561357929,1.0,-0.007006715089922398,0.0015263545489950367,-0.001315412814964787,0.00008562142586944199,-0.00479011934280362,-0.006831067309310337],[-0.004446136018296201,-0.002836931404197386,0.004090898265090301,0.00017302609596240066,-0.004862304415897537,-0.006673263711385921,0.0020698078979523343,-0.0028265011984084294,-0.00035765868608076524,0.0024991028176015936,-0.003209352198737647,0.0007319178597714592,-0.00005911039298917722,0.0020768168575141703,-0.00824511750692317,-0.0024636512169706965,-0.0033430327529155365,-0.005230957006827704,0.0004653675644517718,-1.2698991006388867e-6,-0.0012993410572348222,-0.0023307563307246827,0.003624511136032605,-0.007006715089922398,1.0,0.0045735767649080035,-0.0019952735762458216,-0.0012281791648253498,0.006831989076374377,0.0035929867200252476],[-0.002436423100703924,-0.0002960596857443905,0.00359606080381749,-0.001105267971374438,-0.0015684754955835574,0.000701899913872566,-0.00045883836790301896,-0.0011224898419865033,0.005307459170163141,-0.0008588947666104935,-0.002064526667881261,-0.0020108838239185594,0.0008868780941754629,0.0014042703420475376,0.0019241521230987306,-0.004494645380977297,-0.0010902404860176666,0.0035834783040605387,0.0009070515999730496,-0.00030437091379312904,0.0008275390972013395,0.004308780678510804,-0.0021047329234189197,0.0015263545489950367,0.0045735767649080035,1.0,-0.000958441216136922,-0.0005696018274223864,-0.015344104977860604,0.004341289204197687],[-0.014628053567675586,0.007251624234862419,-0.00878049022086322,0.002517327210786396,-0.006115679435719718,-0.0015773843269393727,-0.003977219873228967,-0.00010826667669575131,0.008065890934747954,0.011495357691488059,0.002434704351628411,-0.0007758604396770508,-0.001451010249714271,-0.0038284420292788797,-0.0014722700182017926,-0.003527977806909105,-0.003597076398563375,-0.0051764558222708165,-0.00001097378901343565,-0.00009623569420502329,-0.00552403970681516,0.0016856153718818295,-0.001519735777762711,-0.001315412814964787,-0.0019952735762458216,-0.000958441216136922,1.0,-0.014434631792928141,-0.048296319499444074,0.021888244417405948],[-0.003555006941166621,0.0014575992938970783,-0.0024539941230243534,0.00002844701328983904,-0.0007109361143903668,0.000617063219478853,0.0013292721181323963,0.0002008717009616102,0.00648666877632952,0.009956260833450175,0.002175865834635471,-0.00017303047803576068,-0.0003797505758877015,-0.003178202426597125,0.0001562793783289167,-0.0018546665914330992,-0.0035868351644627035,-0.0018988674568861893,0.0008126304744584325,0.001827848790843985,-0.004461160639097412,0.0016703357452038932,-0.0027191923469284045,0.00008562142586944199,-0.0012281791648253498,-0.0005696018274223864,-0.014434631792928141,1.0,-0.0034362894740964122,0.009642345399190505],[-0.07669206550361604,-0.45939752929648014,-0.05301909618409724,-0.000699172413575705,-0.28520207300737715,0.1759404069423663,0.09665909375065539,-0.021610377555365434,-0.0737971837506038,-0.016495040286124665,-0.04305344263458203,-0.01103340624931934,-0.006205009221444462,0.02138278263984987,-0.05445302096354356,-0.09729387167350739,0.016922759734357275,0.04418650871470578,-0.015601526945530516,0.1425680545106216,0.08325734243772899,0.03546786563373518,-0.025060446233726618,-0.00479011934280362,0.006831989076374377,-0.015344104977860604,-0.048296319499444074,-0.0034362894740964122,1.0,-0.00915167590969633],[-0.09471828027403625,0.08475425481454281,-0.1857717436207035,0.13031328765078937,-0.08864223740340602,-0.044776655795791175,-0.1732918453621107,0.033364384602848726,-0.09458275894222017,-0.20810420388534182,0.15126045335714572,-0.2531497949999701,-0.003934245314299104,-0.2975497797564374,-0.002823966145014269,-0.18822150581931818,-0.31720194703318383,-0.10644692553081254,0.03378413152415512,0.021349134626456913,0.026239135618532004,0.004612376174770491,-0.0062060255615807025,-0.006831067309310337,0.0035929867200252476,0.004341289204197687,0.021888244417405948,0.009642345399190505,-0.00915167590969633,1.0]],\"type\":\"heatmap\",\"xaxis\":\"x\",\"yaxis\":\"y\",\"hovertemplate\":\"x: %{x}\\u003cbr\\u003ey: %{y}\\u003cbr\\u003ecolor: %{z}\\u003cextra\\u003e\\u003c\\u002fextra\\u003e\"}],                        {\"template\":{\"data\":{\"histogram2dcontour\":[{\"type\":\"histogram2dcontour\",\"colorbar\":{\"outlinewidth\":0,\"ticks\":\"\"},\"colorscale\":[[0.0,\"#0d0887\"],[0.1111111111111111,\"#46039f\"],[0.2222222222222222,\"#7201a8\"],[0.3333333333333333,\"#9c179e\"],[0.4444444444444444,\"#bd3786\"],[0.5555555555555556,\"#d8576b\"],[0.6666666666666666,\"#ed7953\"],[0.7777777777777778,\"#fb9f3a\"],[0.8888888888888888,\"#fdca26\"],[1.0,\"#f0f921\"]]}],\"choropleth\":[{\"type\":\"choropleth\",\"colorbar\":{\"outlinewidth\":0,\"ticks\":\"\"}}],\"histogram2d\":[{\"type\":\"histogram2d\",\"colorbar\":{\"outlinewidth\":0,\"ticks\":\"\"},\"colorscale\":[[0.0,\"#0d0887\"],[0.1111111111111111,\"#46039f\"],[0.2222222222222222,\"#7201a8\"],[0.3333333333333333,\"#9c179e\"],[0.4444444444444444,\"#bd3786\"],[0.5555555555555556,\"#d8576b\"],[0.6666666666666666,\"#ed7953\"],[0.7777777777777778,\"#fb9f3a\"],[0.8888888888888888,\"#fdca26\"],[1.0,\"#f0f921\"]]}],\"heatmap\":[{\"type\":\"heatmap\",\"colorbar\":{\"outlinewidth\":0,\"ticks\":\"\"},\"colorscale\":[[0.0,\"#0d0887\"],[0.1111111111111111,\"#46039f\"],[0.2222222222222222,\"#7201a8\"],[0.3333333333333333,\"#9c179e\"],[0.4444444444444444,\"#bd3786\"],[0.5555555555555556,\"#d8576b\"],[0.6666666666666666,\"#ed7953\"],[0.7777777777777778,\"#fb9f3a\"],[0.8888888888888888,\"#fdca26\"],[1.0,\"#f0f921\"]]}],\"heatmapgl\":[{\"type\":\"heatmapgl\",\"colorbar\":{\"outlinewidth\":0,\"ticks\":\"\"},\"colorscale\":[[0.0,\"#0d0887\"],[0.1111111111111111,\"#46039f\"],[0.2222222222222222,\"#7201a8\"],[0.3333333333333333,\"#9c179e\"],[0.4444444444444444,\"#bd3786\"],[0.5555555555555556,\"#d8576b\"],[0.6666666666666666,\"#ed7953\"],[0.7777777777777778,\"#fb9f3a\"],[0.8888888888888888,\"#fdca26\"],[1.0,\"#f0f921\"]]}],\"contourcarpet\":[{\"type\":\"contourcarpet\",\"colorbar\":{\"outlinewidth\":0,\"ticks\":\"\"}}],\"contour\":[{\"type\":\"contour\",\"colorbar\":{\"outlinewidth\":0,\"ticks\":\"\"},\"colorscale\":[[0.0,\"#0d0887\"],[0.1111111111111111,\"#46039f\"],[0.2222222222222222,\"#7201a8\"],[0.3333333333333333,\"#9c179e\"],[0.4444444444444444,\"#bd3786\"],[0.5555555555555556,\"#d8576b\"],[0.6666666666666666,\"#ed7953\"],[0.7777777777777778,\"#fb9f3a\"],[0.8888888888888888,\"#fdca26\"],[1.0,\"#f0f921\"]]}],\"surface\":[{\"type\":\"surface\",\"colorbar\":{\"outlinewidth\":0,\"ticks\":\"\"},\"colorscale\":[[0.0,\"#0d0887\"],[0.1111111111111111,\"#46039f\"],[0.2222222222222222,\"#7201a8\"],[0.3333333333333333,\"#9c179e\"],[0.4444444444444444,\"#bd3786\"],[0.5555555555555556,\"#d8576b\"],[0.6666666666666666,\"#ed7953\"],[0.7777777777777778,\"#fb9f3a\"],[0.8888888888888888,\"#fdca26\"],[1.0,\"#f0f921\"]]}],\"mesh3d\":[{\"type\":\"mesh3d\",\"colorbar\":{\"outlinewidth\":0,\"ticks\":\"\"}}],\"scatter\":[{\"fillpattern\":{\"fillmode\":\"overlay\",\"size\":10,\"solidity\":0.2},\"type\":\"scatter\"}],\"parcoords\":[{\"type\":\"parcoords\",\"line\":{\"colorbar\":{\"outlinewidth\":0,\"ticks\":\"\"}}}],\"scatterpolargl\":[{\"type\":\"scatterpolargl\",\"marker\":{\"colorbar\":{\"outlinewidth\":0,\"ticks\":\"\"}}}],\"bar\":[{\"error_x\":{\"color\":\"#2a3f5f\"},\"error_y\":{\"color\":\"#2a3f5f\"},\"marker\":{\"line\":{\"color\":\"#E5ECF6\",\"width\":0.5},\"pattern\":{\"fillmode\":\"overlay\",\"size\":10,\"solidity\":0.2}},\"type\":\"bar\"}],\"scattergeo\":[{\"type\":\"scattergeo\",\"marker\":{\"colorbar\":{\"outlinewidth\":0,\"ticks\":\"\"}}}],\"scatterpolar\":[{\"type\":\"scatterpolar\",\"marker\":{\"colorbar\":{\"outlinewidth\":0,\"ticks\":\"\"}}}],\"histogram\":[{\"marker\":{\"pattern\":{\"fillmode\":\"overlay\",\"size\":10,\"solidity\":0.2}},\"type\":\"histogram\"}],\"scattergl\":[{\"type\":\"scattergl\",\"marker\":{\"colorbar\":{\"outlinewidth\":0,\"ticks\":\"\"}}}],\"scatter3d\":[{\"type\":\"scatter3d\",\"line\":{\"colorbar\":{\"outlinewidth\":0,\"ticks\":\"\"}},\"marker\":{\"colorbar\":{\"outlinewidth\":0,\"ticks\":\"\"}}}],\"scattermapbox\":[{\"type\":\"scattermapbox\",\"marker\":{\"colorbar\":{\"outlinewidth\":0,\"ticks\":\"\"}}}],\"scatterternary\":[{\"type\":\"scatterternary\",\"marker\":{\"colorbar\":{\"outlinewidth\":0,\"ticks\":\"\"}}}],\"scattercarpet\":[{\"type\":\"scattercarpet\",\"marker\":{\"colorbar\":{\"outlinewidth\":0,\"ticks\":\"\"}}}],\"carpet\":[{\"aaxis\":{\"endlinecolor\":\"#2a3f5f\",\"gridcolor\":\"white\",\"linecolor\":\"white\",\"minorgridcolor\":\"white\",\"startlinecolor\":\"#2a3f5f\"},\"baxis\":{\"endlinecolor\":\"#2a3f5f\",\"gridcolor\":\"white\",\"linecolor\":\"white\",\"minorgridcolor\":\"white\",\"startlinecolor\":\"#2a3f5f\"},\"type\":\"carpet\"}],\"table\":[{\"cells\":{\"fill\":{\"color\":\"#EBF0F8\"},\"line\":{\"color\":\"white\"}},\"header\":{\"fill\":{\"color\":\"#C8D4E3\"},\"line\":{\"color\":\"white\"}},\"type\":\"table\"}],\"barpolar\":[{\"marker\":{\"line\":{\"color\":\"#E5ECF6\",\"width\":0.5},\"pattern\":{\"fillmode\":\"overlay\",\"size\":10,\"solidity\":0.2}},\"type\":\"barpolar\"}],\"pie\":[{\"automargin\":true,\"type\":\"pie\"}]},\"layout\":{\"autotypenumbers\":\"strict\",\"colorway\":[\"#636efa\",\"#EF553B\",\"#00cc96\",\"#ab63fa\",\"#FFA15A\",\"#19d3f3\",\"#FF6692\",\"#B6E880\",\"#FF97FF\",\"#FECB52\"],\"font\":{\"color\":\"#2a3f5f\"},\"hovermode\":\"closest\",\"hoverlabel\":{\"align\":\"left\"},\"paper_bgcolor\":\"white\",\"plot_bgcolor\":\"#E5ECF6\",\"polar\":{\"bgcolor\":\"#E5ECF6\",\"angularaxis\":{\"gridcolor\":\"white\",\"linecolor\":\"white\",\"ticks\":\"\"},\"radialaxis\":{\"gridcolor\":\"white\",\"linecolor\":\"white\",\"ticks\":\"\"}},\"ternary\":{\"bgcolor\":\"#E5ECF6\",\"aaxis\":{\"gridcolor\":\"white\",\"linecolor\":\"white\",\"ticks\":\"\"},\"baxis\":{\"gridcolor\":\"white\",\"linecolor\":\"white\",\"ticks\":\"\"},\"caxis\":{\"gridcolor\":\"white\",\"linecolor\":\"white\",\"ticks\":\"\"}},\"coloraxis\":{\"colorbar\":{\"outlinewidth\":0,\"ticks\":\"\"}},\"colorscale\":{\"sequential\":[[0.0,\"#0d0887\"],[0.1111111111111111,\"#46039f\"],[0.2222222222222222,\"#7201a8\"],[0.3333333333333333,\"#9c179e\"],[0.4444444444444444,\"#bd3786\"],[0.5555555555555556,\"#d8576b\"],[0.6666666666666666,\"#ed7953\"],[0.7777777777777778,\"#fb9f3a\"],[0.8888888888888888,\"#fdca26\"],[1.0,\"#f0f921\"]],\"sequentialminus\":[[0.0,\"#0d0887\"],[0.1111111111111111,\"#46039f\"],[0.2222222222222222,\"#7201a8\"],[0.3333333333333333,\"#9c179e\"],[0.4444444444444444,\"#bd3786\"],[0.5555555555555556,\"#d8576b\"],[0.6666666666666666,\"#ed7953\"],[0.7777777777777778,\"#fb9f3a\"],[0.8888888888888888,\"#fdca26\"],[1.0,\"#f0f921\"]],\"diverging\":[[0,\"#8e0152\"],[0.1,\"#c51b7d\"],[0.2,\"#de77ae\"],[0.3,\"#f1b6da\"],[0.4,\"#fde0ef\"],[0.5,\"#f7f7f7\"],[0.6,\"#e6f5d0\"],[0.7,\"#b8e186\"],[0.8,\"#7fbc41\"],[0.9,\"#4d9221\"],[1,\"#276419\"]]},\"xaxis\":{\"gridcolor\":\"white\",\"linecolor\":\"white\",\"ticks\":\"\",\"title\":{\"standoff\":15},\"zerolinecolor\":\"white\",\"automargin\":true,\"zerolinewidth\":2},\"yaxis\":{\"gridcolor\":\"white\",\"linecolor\":\"white\",\"ticks\":\"\",\"title\":{\"standoff\":15},\"zerolinecolor\":\"white\",\"automargin\":true,\"zerolinewidth\":2},\"scene\":{\"xaxis\":{\"backgroundcolor\":\"#E5ECF6\",\"gridcolor\":\"white\",\"linecolor\":\"white\",\"showbackground\":true,\"ticks\":\"\",\"zerolinecolor\":\"white\",\"gridwidth\":2},\"yaxis\":{\"backgroundcolor\":\"#E5ECF6\",\"gridcolor\":\"white\",\"linecolor\":\"white\",\"showbackground\":true,\"ticks\":\"\",\"zerolinecolor\":\"white\",\"gridwidth\":2},\"zaxis\":{\"backgroundcolor\":\"#E5ECF6\",\"gridcolor\":\"white\",\"linecolor\":\"white\",\"showbackground\":true,\"ticks\":\"\",\"zerolinecolor\":\"white\",\"gridwidth\":2}},\"shapedefaults\":{\"line\":{\"color\":\"#2a3f5f\"}},\"annotationdefaults\":{\"arrowcolor\":\"#2a3f5f\",\"arrowhead\":0,\"arrowwidth\":1},\"geo\":{\"bgcolor\":\"white\",\"landcolor\":\"#E5ECF6\",\"subunitcolor\":\"white\",\"showland\":true,\"showlakes\":true,\"lakecolor\":\"white\"},\"title\":{\"x\":0.05},\"mapbox\":{\"style\":\"light\"}}},\"xaxis\":{\"anchor\":\"y\",\"domain\":[0.0,1.0]},\"yaxis\":{\"anchor\":\"x\",\"domain\":[0.0,1.0],\"autorange\":\"reversed\"},\"coloraxis\":{\"colorscale\":[[0.0,\"rgb(5,48,97)\"],[0.1,\"rgb(33,102,172)\"],[0.2,\"rgb(67,147,195)\"],[0.3,\"rgb(146,197,222)\"],[0.4,\"rgb(209,229,240)\"],[0.5,\"rgb(247,247,247)\"],[0.6,\"rgb(253,219,199)\"],[0.7,\"rgb(244,165,130)\"],[0.8,\"rgb(214,96,77)\"],[0.9,\"rgb(178,24,43)\"],[1.0,\"rgb(103,0,31)\"]]},\"margin\":{\"t\":60}},                        {\"responsive\": true}                    ).then(function(){\n",
              "                            \n",
              "var gd = document.getElementById('eae4d653-d63f-4f31-b1ed-c6e63def0431');\n",
              "var x = new MutationObserver(function (mutations, observer) {{\n",
              "        var display = window.getComputedStyle(gd).display;\n",
              "        if (!display || display === 'none') {{\n",
              "            console.log([gd, 'removed!']);\n",
              "            Plotly.purge(gd);\n",
              "            observer.disconnect();\n",
              "        }}\n",
              "}});\n",
              "\n",
              "// Listen for the removal of the full notebook cells\n",
              "var notebookContainer = gd.closest('#notebook-container');\n",
              "if (notebookContainer) {{\n",
              "    x.observe(notebookContainer, {childList: true});\n",
              "}}\n",
              "\n",
              "// Listen for the clearing of the current output cell\n",
              "var outputEl = gd.closest('.output');\n",
              "if (outputEl) {{\n",
              "    x.observe(outputEl, {childList: true});\n",
              "}}\n",
              "\n",
              "                        })                };                            </script>        </div>\n",
              "</body>\n",
              "</html>"
            ]
          },
          "metadata": {}
        }
      ],
      "source": [
        "corr = df.corr()\n",
        "fig=px.imshow(corr, aspect=\"auto\" ,color_continuous_scale='RdBu_r')\n",
        "fig.show()"
      ]
    },
    {
      "cell_type": "code",
      "execution_count": null,
      "id": "3c160557",
      "metadata": {
        "colab": {
          "base_uri": "https://localhost:8080/",
          "height": 542
        },
        "id": "3c160557",
        "outputId": "939b3cfd-a2f4-44c7-acca-5b54c682a2e1"
      },
      "outputs": [
        {
          "output_type": "display_data",
          "data": {
            "text/html": [
              "<html>\n",
              "<head><meta charset=\"utf-8\" /></head>\n",
              "<body>\n",
              "    <div>            <script src=\"https://cdnjs.cloudflare.com/ajax/libs/mathjax/2.7.5/MathJax.js?config=TeX-AMS-MML_SVG\"></script><script type=\"text/javascript\">if (window.MathJax && window.MathJax.Hub && window.MathJax.Hub.Config) {window.MathJax.Hub.Config({SVG: {font: \"STIX-Web\"}});}</script>                <script type=\"text/javascript\">window.PlotlyConfig = {MathJaxConfig: 'local'};</script>\n",
              "        <script charset=\"utf-8\" src=\"https://cdn.plot.ly/plotly-2.35.2.min.js\"></script>                <div id=\"e50e647c-2fbd-43c2-9078-7c25236fcf50\" class=\"plotly-graph-div\" style=\"height:525px; width:100%;\"></div>            <script type=\"text/javascript\">                                    window.PLOTLYENV=window.PLOTLYENV || {};                                    if (document.getElementById(\"e50e647c-2fbd-43c2-9078-7c25236fcf50\")) {                    Plotly.newPlot(                        \"e50e647c-2fbd-43c2-9078-7c25236fcf50\",                        [{\"coloraxis\":\"coloraxis\",\"name\":\"0\",\"x\":[\"V1\",\"V2\",\"V3\",\"V4\",\"V5\",\"V6\",\"V7\",\"V8\",\"V9\",\"V10\",\"V11\",\"V12\",\"V13\",\"V14\",\"V15\",\"V16\",\"V17\",\"V18\",\"V19\",\"V20\",\"V21\",\"V22\",\"V23\",\"V24\",\"V25\",\"V26\",\"V27\",\"V28\",\"Amount\",\"Class\"],\"y\":[\"V1\",\"V2\",\"V3\",\"V4\",\"V5\",\"V6\",\"V7\",\"V8\",\"V9\",\"V10\",\"V11\",\"V12\",\"V13\",\"V14\",\"V15\",\"V16\",\"V17\",\"V18\",\"V19\",\"V20\",\"V21\",\"V22\",\"V23\",\"V24\",\"V25\",\"V26\",\"V27\",\"V28\",\"Amount\",\"Class\"],\"z\":[[1.0,-0.7768621596311023,0.8768486779516321,-0.6046595600062862,0.8628380364944178,0.3710262577847709,0.8726101235071864,-0.23691323805415426,0.6575101484109563,0.7366291608462294,-0.5287856559104248,0.5952588000368164,-0.06475417996546276,0.4444764396380551,0.08531623961049435,0.6341308281161538,0.6826408898196702,0.6717263134215897,-0.3273356215472496,-0.36874547054118795,0.11349939108003593,-0.07606545163966554,0.018311937308336364,-0.05255437686805892,-0.10604383800555782,0.03210743195799161,0.10918703162722668,0.16887596696550794,-0.058223671197635336,-0.4295356025194335],[-0.7768621596311023,1.0,-0.8439559714641834,0.6702201534993756,-0.7642603713233589,-0.3600698447578473,-0.8245249547854141,0.15415972364389244,-0.6982199675696839,-0.7570135349312547,0.6247605132509865,-0.6733346377619531,0.05364953627660958,-0.5721086837139502,-0.12584473385311135,-0.620563390959293,-0.6428853920119932,-0.6180501931214444,0.2585139647388228,0.28069574138973485,-0.12478960003542307,0.11613731954491495,0.11841530676725139,-0.016995890982254024,0.16958020448754965,0.04235612937780355,-0.06955433346002302,0.030774074742017488,-0.2401016707999667,0.487346833725254],[0.8768486779516321,-0.8439559714641834,1.0,-0.7645600231156551,0.8371188077317705,0.5005639474207787,0.8839316208251965,-0.29160875896962996,0.7497626525280682,0.8427016837893961,-0.7169154480845608,0.7545492681970531,-0.06369620510731576,0.6595732701806497,0.10663652498267533,0.7213302447696833,0.7351161662906426,0.6899343029906975,-0.3332363111084874,-0.38585905137179954,0.0739733962885075,-0.0564633183369508,-0.0074149449399398305,0.022373529705948005,-0.12065218143461753,-0.037965911275248856,-0.0034222318465803904,0.10223441636264591,0.04513027147241454,-0.5626308996227632],[-0.6046595600062862,0.6702201534993756,-0.7645600231156551,1.0,-0.5521091743526727,-0.420031014299687,-0.7132136434577664,0.1355072091124207,-0.7693133333930232,-0.7901172331518568,0.7945168734223595,-0.8267092990477954,0.038561723734178245,-0.7964055265937973,-0.09526930552235892,-0.7123001278666528,-0.7023010372739567,-0.6276473092588587,0.3215133423666409,0.3268275552401177,-0.03927618090833653,0.10052582825769683,0.013185159951828122,-0.08536326003654676,-0.00020852315806764484,0.1564300051940063,0.05120488825712471,-0.06589138824873404,-0.18375815466127163,0.7119455236103922],[0.8628380364944178,-0.7642603713233589,0.8371188077317705,-0.5521091743526727,1.0,0.28849093182061053,0.8291526764838717,-0.3141687596214977,0.6343230402249023,0.7364186636201815,-0.5074115280606647,0.5984941711355447,-0.1260533125598544,0.41735029473335594,0.05154216357367076,0.6804449578263224,0.7398365531165014,0.7308859562837035,-0.397809852026575,-0.34117168957079347,0.08298844176680707,-0.09039944635433307,-0.05638825991977024,-0.14287994485348846,-0.11520413302202084,0.04478891905701723,0.10443733086195689,0.13523980430683682,-0.1913677190001176,-0.3501514001406438],[0.3710262577847709,-0.3600698447578473,0.5005639474207787,-0.420031014299687,0.28849093182061053,1.0,0.35413721863880515,-0.5421674696354011,0.3465184224952057,0.4320831265111058,-0.5102400733353991,0.5070691002121249,-0.06443048536148371,0.5653443474088982,-0.042416735369457045,0.4524609110479393,0.4287256921765676,0.3571441907125722,-0.2172794312879538,-0.051459992147732274,-0.23851942187712336,0.21866942203168985,0.22311759767436326,-0.04724995756484999,-0.1654405824638079,-0.027560854870473155,-0.24692059689871212,-0.09117868664243356,0.19977851946747688,-0.4142443058335078],[0.8726101235071864,-0.8245249547854141,0.8839316208251965,-0.7132136434577664,0.8291526764838717,0.35413721863880515,1.0,-0.058923985994047585,0.7689914745259162,0.8693223533029454,-0.6487755213707773,0.7328595508102831,-0.04897265641832403,0.556046883594542,0.1391771194251982,0.7544015487531646,0.7857480942596836,0.7678509926680844,-0.38052163305087444,-0.41892156915740997,0.2168351875830267,-0.22036807882648188,-0.042127744052090826,-0.04536445196872167,0.020842483833110326,-0.01130135547760222,0.1547776278382918,0.15205873489710028,0.12210812473668477,-0.47816232760997557],[-0.23691323805415426,0.15415972364389244,-0.29160875896962996,0.1355072091124207,-0.3141687596214977,-0.5421674696354011,-0.058923985994047585,1.0,-0.08783755210999938,-0.10164647987329174,0.24200855478774694,-0.2075933509774164,0.23599803254088247,-0.2681202778551158,0.146714525610224,-0.2625223040716406,-0.2895277879274861,-0.2620084221667715,0.23544514637619643,-0.1870585826486641,0.4220740968706497,-0.3678039843008594,-0.28982867817824964,0.03494249160902068,0.29418994245369867,0.02217003943859088,0.40394300093246266,0.07530898622859931,0.1359245077304197,0.11337021942539476],[0.6575101484109563,-0.6982199675696839,0.7497626525280682,-0.7693133333930232,0.6343230402249023,0.3465184224952057,0.7689914745259162,-0.08783755210999938,1.0,0.8305295267431498,-0.702986580013336,0.7589464858922244,-0.02513208925076014,0.6849389711644877,0.0850928838406346,0.7258207743558596,0.7534168846969627,0.7093058568688152,-0.33905249092617773,-0.35430493945134184,0.17675730927164132,-0.22695209681754205,-0.06688581369054837,0.014431523738148523,-0.042665147795074736,-0.13386450828414503,0.05371146182764529,0.1296138419295197,0.11110818394901639,-0.5464581696419678],[0.7366291608462294,-0.7570135349312547,0.8427016837893961,-0.7901172331518568,0.7364186636201815,0.4320831265111058,0.8693223533029454,-0.10164647987329174,0.8305295267431498,1.0,-0.8132639548798698,0.8846577664528434,-0.041702898714179155,0.7725948681815206,0.11664786084576421,0.8566081477953046,0.8577338823432563,0.7990803201174386,-0.42784175420927445,-0.3924339381020791,0.12434902708494157,-0.21796077550055998,-0.04661073049074115,0.015789300505350334,-0.003883817006855222,-0.056339922032009784,0.059639111546976535,0.11305174097138906,0.0922265089856605,-0.6275286699370312],[-0.5287856559104248,0.6247605132509865,-0.7169154480845608,0.7945168734223595,-0.5074115280606647,-0.5102400733353991,-0.6487755213707773,0.24200855478774694,-0.702986580013336,-0.8132639548798698,1.0,-0.900336209345603,0.05395129643106603,-0.8885884394632182,-0.05113366151734384,-0.7998575186544541,-0.7687007988096459,-0.6702418213960983,0.39657108015568654,0.20702228837986977,0.13074335388092775,0.022686677993155806,-0.03280509408043486,-0.13957411625158744,0.051764167619362145,0.15130619368739714,0.22726498022050845,0.02292883349373217,-0.1741273733461203,0.6792496889594264],[0.5952588000368164,-0.6733346377619531,0.7545492681970531,-0.8267092990477954,0.5984941711355447,0.5070691002121249,0.7328595508102831,-0.2075933509774164,0.7589464858922244,0.8846577664528434,-0.900336209345603,1.0,-0.08283080870219439,0.8823756591312428,0.06675463927936015,0.8901259966653612,0.8717602597106409,0.7917789881193353,-0.45054838742504794,-0.2322915926911256,-0.08583831550684183,-0.11423161360824884,0.005805657780315657,0.053068864992164,0.0024490226994331827,-0.12033208998977175,-0.08901111134437178,-0.01022462815545904,0.13506705350783502,-0.6811532045681241],[-0.06475417996546276,0.05364953627660958,-0.06369620510731576,0.038561723734178245,-0.1260533125598544,-0.06443048536148371,-0.04897265641832403,0.23599803254088247,-0.02513208925076014,-0.041702898714179155,0.05395129643106603,-0.08283080870219439,1.0,-0.0010252402401160867,-0.02741205306758235,-0.11656671786552594,-0.12394061779718334,-0.14965846560046772,0.14441170031931827,-0.06487266230597484,0.10970086245321274,-0.040178506995588614,-0.07605731450621293,0.05804673674044081,-0.00300761267231504,0.05583993123660596,0.04700116616093897,-0.10889592156306457,0.0588766753757846,-0.06746215162308851],[0.4444764396380551,-0.5721086837139502,0.6595732701806497,-0.7964055265937973,0.41735029473335594,0.5653443474088982,0.556046883594542,-0.2681202778551158,0.6849389711644877,0.7725948681815206,-0.8885884394632182,0.8823756591312428,-0.0010252402401160867,1.0,-0.013927063757351761,0.7668533283737902,0.7253591624240376,0.6144378899001651,-0.3638450524172953,-0.1511340079811309,-0.2270509149590495,0.045172013293739766,0.028229873390795475,0.1483069418979969,-0.09857945695672034,-0.16656146868279076,-0.24183104370076608,-0.12300582194466056,0.18807080220574607,-0.7503672917087025],[0.08531623961049435,-0.12584473385311135,0.10663652498267533,-0.09526930552235892,0.05154216357367076,-0.042416735369457045,0.1391771194251982,0.146714525610224,0.0850928838406346,0.11664786084576421,-0.05113366151734384,0.06675463927936015,-0.02741205306758235,-0.013927063757351761,1.0,-0.009394978663543961,0.02190011713260893,0.006812363795021299,0.22096143719670294,-0.13320776256699499,0.18379457546493994,-0.09414958094855048,-0.07428824240443882,0.02854936858540172,-0.021664225729651328,-0.018098173072064638,0.12930083013829452,0.07381102133010714,0.09897810536833955,-0.010931591579430893],[0.6341308281161538,-0.620563390959293,0.7213302447696833,-0.7123001278666528,0.6804449578263224,0.4524609110479393,0.7544015487531646,-0.2625223040716406,0.7258207743558596,0.8566081477953046,-0.7998575186544541,0.8901259966653612,-0.11656671786552594,0.7668533283737902,-0.009394978663543961,1.0,0.9500668955613916,0.9015743496460371,-0.6175313397522783,-0.21007342396001158,-0.1312974021388704,-0.13518683258733236,0.01355142123731999,-0.05019783042412528,0.03941102203203116,-0.06134388183276804,-0.07257835174544729,0.01611350266647089,-0.00373215511242791,-0.5828175706136889],[0.6826408898196702,-0.6428853920119932,0.7351161662906426,-0.7023010372739567,0.7398365531165014,0.4287256921765676,0.7857480942596836,-0.2895277879274861,0.7534168846969627,0.8577338823432563,-0.7687007988096459,0.8717602597106409,-0.12394061779718334,0.7253591624240376,0.02190011713260893,0.9500668955613916,1.0,0.9375453557346282,-0.5982847982488748,-0.22478743367557222,-0.10486307029456253,-0.13817848533514515,0.018667670249300983,-0.07751227873528506,0.01456632127437082,-0.04315231769614501,-0.04976187873801271,0.044071494846402784,-0.027394037093160954,-0.5533017508079501],[0.6717263134215897,-0.6180501931214444,0.6899343029906975,-0.6276473092588587,0.7308859562837035,0.3571441907125722,0.7678509926680844,-0.2620084221667715,0.7093058568688152,0.7990803201174386,-0.6702418213960983,0.7917789881193353,-0.14965846560046772,0.6144378899001651,0.006812363795021299,0.9015743496460371,0.9375453557346282,1.0,-0.5507305542624344,-0.20376165496609164,-0.06599863516874417,-0.15632115408829717,0.024313661137393205,-0.10255606017886819,0.03952188142719849,-0.03729064445813899,-0.002502256954371936,0.09264085888398138,-0.042982727313115476,-0.4601710799382087],[-0.3273356215472496,0.2585139647388228,-0.3332363111084874,0.3215133423666409,-0.397809852026575,-0.2172794312879538,-0.38052163305087444,0.23544514637619643,-0.33905249092617773,-0.42784175420927445,0.39657108015568654,-0.45054838742504794,0.14441170031931827,-0.3638450524172953,0.22096143719670294,-0.6175313397522783,-0.5982847982488748,-0.5507305542624344,1.0,0.061599007224403694,0.16352606932486302,0.12353018316361274,0.016810243588183477,0.13011132652968802,-0.1367204087405191,0.05218601705946104,0.05508760562583898,-0.04193235922991121,0.132577052912543,0.2808825204198407],[-0.36874547054118795,0.28069574138973485,-0.38585905137179954,0.3268275552401177,-0.34117168957079347,-0.051459992147732274,-0.41892156915740997,-0.1870585826486641,-0.35430493945134184,-0.3924339381020791,0.20702228837986977,-0.2322915926911256,-0.06487266230597484,-0.1511340079811309,-0.13320776256699499,-0.21007342396001158,-0.22478743367557222,-0.20376165496609164,0.061599007224403694,1.0,-0.4599102526301901,0.2643210409878288,0.1694977680704862,-0.0644850974922981,0.006901604722362712,-0.006508293922855852,-0.09902367786027455,0.09433937871861266,0.021241982762024155,0.18476124199786573],[0.11349939108003593,-0.12478960003542307,0.0739733962885075,-0.03927618090833653,0.08298844176680707,-0.23851942187712336,0.2168351875830267,0.4220740968706497,0.17675730927164132,0.12434902708494157,0.13074335388092775,-0.08583831550684183,0.10970086245321274,-0.2270509149590495,0.18379457546493994,-0.1312974021388704,-0.10486307029456253,-0.06599863516874417,0.16352606932486302,-0.4599102526301901,1.0,-0.5920396495348095,-0.14414396056669854,0.023784312814553114,0.13788527582036417,0.02384576945470462,0.39506838797837457,0.25909218827517544,0.11556088816120547,0.11559677700716053],[-0.07606545163966554,0.11613731954491495,-0.0564633183369508,0.10052582825769683,-0.09039944635433307,0.21866942203168985,-0.22036807882648188,-0.3678039843008594,-0.22695209681754205,-0.21796077550055998,0.022686677993155806,-0.11423161360824884,-0.040178506995588614,0.045172013293739766,-0.09414958094855048,-0.13518683258733236,-0.13817848533514515,-0.15632115408829717,0.12353018316361274,0.2643210409878288,-0.5920396495348095,1.0,0.24295399516964783,0.06130181056174365,-0.22371537897003793,0.05346009773896677,-0.3322941454420628,-0.19129441844690942,-0.040300455657453535,0.01594546610067921],[0.018311937308336364,0.11841530676725139,-0.0074149449399398305,0.013185159951828122,-0.05638825991977024,0.22311759767436326,-0.042127744052090826,-0.28982867817824964,-0.06688581369054837,-0.04661073049074115,-0.03280509408043486,0.005805657780315657,-0.07605731450621293,0.028229873390795475,-0.07428824240443882,0.01355142123731999,0.018667670249300983,0.024313661137393205,0.016810243588183477,0.1694977680704862,-0.14414396056669854,0.24295399516964783,1.0,-0.011613361486400712,0.08554031150139774,0.0696219503408729,-0.2415398229436425,0.030700699432389796,-0.09816554832397122,-0.025382512084060158],[-0.05255437686805892,-0.016995890982254024,0.022373529705948005,-0.08536326003654676,-0.14287994485348846,-0.04724995756484999,-0.04536445196872167,0.03494249160902068,0.014431523738148523,0.015789300505350334,-0.13957411625158744,0.053068864992164,0.05804673674044081,0.1483069418979969,0.02854936858540172,-0.05019783042412528,-0.07751227873528506,-0.10255606017886819,0.13011132652968802,-0.0644850974922981,0.023784312814553114,0.06130181056174365,-0.011613361486400712,1.0,-0.06777070407528939,-0.08349790234761498,-0.19844598848056566,-0.03599919083973765,0.1522791772373587,-0.09061775796248786],[-0.10604383800555782,0.16958020448754965,-0.12065218143461753,-0.00020852315806764484,-0.11520413302202084,-0.1654405824638079,0.020842483833110326,0.29418994245369867,-0.042665147795074736,-0.003883817006855222,0.051764167619362145,0.0024490226994331827,-0.00300761267231504,-0.09857945695672034,-0.021664225729651328,0.03941102203203116,0.01456632127437082,0.03952188142719849,-0.1367204087405191,0.006901604722362712,0.13788527582036417,-0.22371537897003793,0.08554031150139774,-0.06777070407528939,1.0,0.08121094213308483,0.18062969258189174,0.13916507035420925,-0.03501892117452796,0.06245484290122745],[0.03210743195799161,0.04235612937780355,-0.037965911275248856,0.1564300051940063,0.04478891905701723,-0.027560854870473155,-0.01130135547760222,0.02217003943859088,-0.13386450828414503,-0.056339922032009784,0.15130619368739714,-0.12033208998977175,0.05583993123660596,-0.16656146868279076,-0.018098173072064638,-0.06134388183276804,-0.04315231769614501,-0.03729064445813899,0.05218601705946104,-0.006508293922855852,0.02384576945470462,0.05346009773896677,0.0696219503408729,-0.08349790234761498,0.08121094213308483,1.0,0.12774670830199764,-0.008994123672471738,-0.09620091033902284,0.05958665964943458],[0.10918703162722668,-0.06955433346002302,-0.0034222318465803904,0.05120488825712471,0.10443733086195689,-0.24692059689871212,0.1547776278382918,0.40394300093246266,0.05371146182764529,0.059639111546976535,0.22726498022050845,-0.08901111134437178,0.04700116616093897,-0.24183104370076608,0.12930083013829452,-0.07257835174544729,-0.04976187873801271,-0.002502256954371936,0.05508760562583898,-0.09902367786027455,0.39506838797837457,-0.3322941454420628,-0.2415398229436425,-0.19844598848056566,0.18062969258189174,0.12774670830199764,1.0,0.1930862933648129,0.015084594853463657,0.11513867255060631],[0.16887596696550794,0.030774074742017488,0.10223441636264591,-0.06589138824873404,0.13523980430683682,-0.09117868664243356,0.15205873489710028,0.07530898622859931,0.1296138419295197,0.11305174097138906,0.02292883349373217,-0.01022462815545904,-0.10889592156306457,-0.12300582194466056,0.07381102133010714,0.01611350266647089,0.044071494846402784,0.09264085888398138,-0.04193235922991121,0.09433937871861266,0.25909218827517544,-0.19129441844690942,0.030700699432389796,-0.03599919083973765,0.13916507035420925,-0.008994123672471738,0.1930862933648129,1.0,-0.11547979475780196,0.0834596882174342],[-0.058223671197635336,-0.2401016707999667,0.04513027147241454,-0.18375815466127163,-0.1913677190001176,0.19977851946747688,0.12210812473668477,0.1359245077304197,0.11110818394901639,0.0922265089856605,-0.1741273733461203,0.13506705350783502,0.0588766753757846,0.18807080220574607,0.09897810536833955,-0.00373215511242791,-0.027394037093160954,-0.042982727313115476,0.132577052912543,0.021241982762024155,0.11556088816120547,-0.040300455657453535,-0.09816554832397122,0.1522791772373587,-0.03501892117452796,-0.09620091033902284,0.015084594853463657,-0.11547979475780196,1.0,-0.10669603640081063],[-0.4295356025194335,0.487346833725254,-0.5626308996227632,0.7119455236103922,-0.3501514001406438,-0.4142443058335078,-0.47816232760997557,0.11337021942539476,-0.5464581696419678,-0.6275286699370312,0.6792496889594264,-0.6811532045681241,-0.06746215162308851,-0.7503672917087025,-0.010931591579430893,-0.5828175706136889,-0.5533017508079501,-0.4601710799382087,0.2808825204198407,0.18476124199786573,0.11559677700716053,0.01594546610067921,-0.025382512084060158,-0.09061775796248786,0.06245484290122745,0.05958665964943458,0.11513867255060631,0.0834596882174342,-0.10669603640081063,1.0]],\"type\":\"heatmap\",\"xaxis\":\"x\",\"yaxis\":\"y\",\"hovertemplate\":\"x: %{x}\\u003cbr\\u003ey: %{y}\\u003cbr\\u003ecolor: %{z}\\u003cextra\\u003e\\u003c\\u002fextra\\u003e\"}],                        {\"template\":{\"data\":{\"histogram2dcontour\":[{\"type\":\"histogram2dcontour\",\"colorbar\":{\"outlinewidth\":0,\"ticks\":\"\"},\"colorscale\":[[0.0,\"#0d0887\"],[0.1111111111111111,\"#46039f\"],[0.2222222222222222,\"#7201a8\"],[0.3333333333333333,\"#9c179e\"],[0.4444444444444444,\"#bd3786\"],[0.5555555555555556,\"#d8576b\"],[0.6666666666666666,\"#ed7953\"],[0.7777777777777778,\"#fb9f3a\"],[0.8888888888888888,\"#fdca26\"],[1.0,\"#f0f921\"]]}],\"choropleth\":[{\"type\":\"choropleth\",\"colorbar\":{\"outlinewidth\":0,\"ticks\":\"\"}}],\"histogram2d\":[{\"type\":\"histogram2d\",\"colorbar\":{\"outlinewidth\":0,\"ticks\":\"\"},\"colorscale\":[[0.0,\"#0d0887\"],[0.1111111111111111,\"#46039f\"],[0.2222222222222222,\"#7201a8\"],[0.3333333333333333,\"#9c179e\"],[0.4444444444444444,\"#bd3786\"],[0.5555555555555556,\"#d8576b\"],[0.6666666666666666,\"#ed7953\"],[0.7777777777777778,\"#fb9f3a\"],[0.8888888888888888,\"#fdca26\"],[1.0,\"#f0f921\"]]}],\"heatmap\":[{\"type\":\"heatmap\",\"colorbar\":{\"outlinewidth\":0,\"ticks\":\"\"},\"colorscale\":[[0.0,\"#0d0887\"],[0.1111111111111111,\"#46039f\"],[0.2222222222222222,\"#7201a8\"],[0.3333333333333333,\"#9c179e\"],[0.4444444444444444,\"#bd3786\"],[0.5555555555555556,\"#d8576b\"],[0.6666666666666666,\"#ed7953\"],[0.7777777777777778,\"#fb9f3a\"],[0.8888888888888888,\"#fdca26\"],[1.0,\"#f0f921\"]]}],\"heatmapgl\":[{\"type\":\"heatmapgl\",\"colorbar\":{\"outlinewidth\":0,\"ticks\":\"\"},\"colorscale\":[[0.0,\"#0d0887\"],[0.1111111111111111,\"#46039f\"],[0.2222222222222222,\"#7201a8\"],[0.3333333333333333,\"#9c179e\"],[0.4444444444444444,\"#bd3786\"],[0.5555555555555556,\"#d8576b\"],[0.6666666666666666,\"#ed7953\"],[0.7777777777777778,\"#fb9f3a\"],[0.8888888888888888,\"#fdca26\"],[1.0,\"#f0f921\"]]}],\"contourcarpet\":[{\"type\":\"contourcarpet\",\"colorbar\":{\"outlinewidth\":0,\"ticks\":\"\"}}],\"contour\":[{\"type\":\"contour\",\"colorbar\":{\"outlinewidth\":0,\"ticks\":\"\"},\"colorscale\":[[0.0,\"#0d0887\"],[0.1111111111111111,\"#46039f\"],[0.2222222222222222,\"#7201a8\"],[0.3333333333333333,\"#9c179e\"],[0.4444444444444444,\"#bd3786\"],[0.5555555555555556,\"#d8576b\"],[0.6666666666666666,\"#ed7953\"],[0.7777777777777778,\"#fb9f3a\"],[0.8888888888888888,\"#fdca26\"],[1.0,\"#f0f921\"]]}],\"surface\":[{\"type\":\"surface\",\"colorbar\":{\"outlinewidth\":0,\"ticks\":\"\"},\"colorscale\":[[0.0,\"#0d0887\"],[0.1111111111111111,\"#46039f\"],[0.2222222222222222,\"#7201a8\"],[0.3333333333333333,\"#9c179e\"],[0.4444444444444444,\"#bd3786\"],[0.5555555555555556,\"#d8576b\"],[0.6666666666666666,\"#ed7953\"],[0.7777777777777778,\"#fb9f3a\"],[0.8888888888888888,\"#fdca26\"],[1.0,\"#f0f921\"]]}],\"mesh3d\":[{\"type\":\"mesh3d\",\"colorbar\":{\"outlinewidth\":0,\"ticks\":\"\"}}],\"scatter\":[{\"fillpattern\":{\"fillmode\":\"overlay\",\"size\":10,\"solidity\":0.2},\"type\":\"scatter\"}],\"parcoords\":[{\"type\":\"parcoords\",\"line\":{\"colorbar\":{\"outlinewidth\":0,\"ticks\":\"\"}}}],\"scatterpolargl\":[{\"type\":\"scatterpolargl\",\"marker\":{\"colorbar\":{\"outlinewidth\":0,\"ticks\":\"\"}}}],\"bar\":[{\"error_x\":{\"color\":\"#2a3f5f\"},\"error_y\":{\"color\":\"#2a3f5f\"},\"marker\":{\"line\":{\"color\":\"#E5ECF6\",\"width\":0.5},\"pattern\":{\"fillmode\":\"overlay\",\"size\":10,\"solidity\":0.2}},\"type\":\"bar\"}],\"scattergeo\":[{\"type\":\"scattergeo\",\"marker\":{\"colorbar\":{\"outlinewidth\":0,\"ticks\":\"\"}}}],\"scatterpolar\":[{\"type\":\"scatterpolar\",\"marker\":{\"colorbar\":{\"outlinewidth\":0,\"ticks\":\"\"}}}],\"histogram\":[{\"marker\":{\"pattern\":{\"fillmode\":\"overlay\",\"size\":10,\"solidity\":0.2}},\"type\":\"histogram\"}],\"scattergl\":[{\"type\":\"scattergl\",\"marker\":{\"colorbar\":{\"outlinewidth\":0,\"ticks\":\"\"}}}],\"scatter3d\":[{\"type\":\"scatter3d\",\"line\":{\"colorbar\":{\"outlinewidth\":0,\"ticks\":\"\"}},\"marker\":{\"colorbar\":{\"outlinewidth\":0,\"ticks\":\"\"}}}],\"scattermapbox\":[{\"type\":\"scattermapbox\",\"marker\":{\"colorbar\":{\"outlinewidth\":0,\"ticks\":\"\"}}}],\"scatterternary\":[{\"type\":\"scatterternary\",\"marker\":{\"colorbar\":{\"outlinewidth\":0,\"ticks\":\"\"}}}],\"scattercarpet\":[{\"type\":\"scattercarpet\",\"marker\":{\"colorbar\":{\"outlinewidth\":0,\"ticks\":\"\"}}}],\"carpet\":[{\"aaxis\":{\"endlinecolor\":\"#2a3f5f\",\"gridcolor\":\"white\",\"linecolor\":\"white\",\"minorgridcolor\":\"white\",\"startlinecolor\":\"#2a3f5f\"},\"baxis\":{\"endlinecolor\":\"#2a3f5f\",\"gridcolor\":\"white\",\"linecolor\":\"white\",\"minorgridcolor\":\"white\",\"startlinecolor\":\"#2a3f5f\"},\"type\":\"carpet\"}],\"table\":[{\"cells\":{\"fill\":{\"color\":\"#EBF0F8\"},\"line\":{\"color\":\"white\"}},\"header\":{\"fill\":{\"color\":\"#C8D4E3\"},\"line\":{\"color\":\"white\"}},\"type\":\"table\"}],\"barpolar\":[{\"marker\":{\"line\":{\"color\":\"#E5ECF6\",\"width\":0.5},\"pattern\":{\"fillmode\":\"overlay\",\"size\":10,\"solidity\":0.2}},\"type\":\"barpolar\"}],\"pie\":[{\"automargin\":true,\"type\":\"pie\"}]},\"layout\":{\"autotypenumbers\":\"strict\",\"colorway\":[\"#636efa\",\"#EF553B\",\"#00cc96\",\"#ab63fa\",\"#FFA15A\",\"#19d3f3\",\"#FF6692\",\"#B6E880\",\"#FF97FF\",\"#FECB52\"],\"font\":{\"color\":\"#2a3f5f\"},\"hovermode\":\"closest\",\"hoverlabel\":{\"align\":\"left\"},\"paper_bgcolor\":\"white\",\"plot_bgcolor\":\"#E5ECF6\",\"polar\":{\"bgcolor\":\"#E5ECF6\",\"angularaxis\":{\"gridcolor\":\"white\",\"linecolor\":\"white\",\"ticks\":\"\"},\"radialaxis\":{\"gridcolor\":\"white\",\"linecolor\":\"white\",\"ticks\":\"\"}},\"ternary\":{\"bgcolor\":\"#E5ECF6\",\"aaxis\":{\"gridcolor\":\"white\",\"linecolor\":\"white\",\"ticks\":\"\"},\"baxis\":{\"gridcolor\":\"white\",\"linecolor\":\"white\",\"ticks\":\"\"},\"caxis\":{\"gridcolor\":\"white\",\"linecolor\":\"white\",\"ticks\":\"\"}},\"coloraxis\":{\"colorbar\":{\"outlinewidth\":0,\"ticks\":\"\"}},\"colorscale\":{\"sequential\":[[0.0,\"#0d0887\"],[0.1111111111111111,\"#46039f\"],[0.2222222222222222,\"#7201a8\"],[0.3333333333333333,\"#9c179e\"],[0.4444444444444444,\"#bd3786\"],[0.5555555555555556,\"#d8576b\"],[0.6666666666666666,\"#ed7953\"],[0.7777777777777778,\"#fb9f3a\"],[0.8888888888888888,\"#fdca26\"],[1.0,\"#f0f921\"]],\"sequentialminus\":[[0.0,\"#0d0887\"],[0.1111111111111111,\"#46039f\"],[0.2222222222222222,\"#7201a8\"],[0.3333333333333333,\"#9c179e\"],[0.4444444444444444,\"#bd3786\"],[0.5555555555555556,\"#d8576b\"],[0.6666666666666666,\"#ed7953\"],[0.7777777777777778,\"#fb9f3a\"],[0.8888888888888888,\"#fdca26\"],[1.0,\"#f0f921\"]],\"diverging\":[[0,\"#8e0152\"],[0.1,\"#c51b7d\"],[0.2,\"#de77ae\"],[0.3,\"#f1b6da\"],[0.4,\"#fde0ef\"],[0.5,\"#f7f7f7\"],[0.6,\"#e6f5d0\"],[0.7,\"#b8e186\"],[0.8,\"#7fbc41\"],[0.9,\"#4d9221\"],[1,\"#276419\"]]},\"xaxis\":{\"gridcolor\":\"white\",\"linecolor\":\"white\",\"ticks\":\"\",\"title\":{\"standoff\":15},\"zerolinecolor\":\"white\",\"automargin\":true,\"zerolinewidth\":2},\"yaxis\":{\"gridcolor\":\"white\",\"linecolor\":\"white\",\"ticks\":\"\",\"title\":{\"standoff\":15},\"zerolinecolor\":\"white\",\"automargin\":true,\"zerolinewidth\":2},\"scene\":{\"xaxis\":{\"backgroundcolor\":\"#E5ECF6\",\"gridcolor\":\"white\",\"linecolor\":\"white\",\"showbackground\":true,\"ticks\":\"\",\"zerolinecolor\":\"white\",\"gridwidth\":2},\"yaxis\":{\"backgroundcolor\":\"#E5ECF6\",\"gridcolor\":\"white\",\"linecolor\":\"white\",\"showbackground\":true,\"ticks\":\"\",\"zerolinecolor\":\"white\",\"gridwidth\":2},\"zaxis\":{\"backgroundcolor\":\"#E5ECF6\",\"gridcolor\":\"white\",\"linecolor\":\"white\",\"showbackground\":true,\"ticks\":\"\",\"zerolinecolor\":\"white\",\"gridwidth\":2}},\"shapedefaults\":{\"line\":{\"color\":\"#2a3f5f\"}},\"annotationdefaults\":{\"arrowcolor\":\"#2a3f5f\",\"arrowhead\":0,\"arrowwidth\":1},\"geo\":{\"bgcolor\":\"white\",\"landcolor\":\"#E5ECF6\",\"subunitcolor\":\"white\",\"showland\":true,\"showlakes\":true,\"lakecolor\":\"white\"},\"title\":{\"x\":0.05},\"mapbox\":{\"style\":\"light\"}}},\"xaxis\":{\"anchor\":\"y\",\"domain\":[0.0,1.0]},\"yaxis\":{\"anchor\":\"x\",\"domain\":[0.0,1.0],\"autorange\":\"reversed\"},\"coloraxis\":{\"colorscale\":[[0.0,\"rgb(5,48,97)\"],[0.1,\"rgb(33,102,172)\"],[0.2,\"rgb(67,147,195)\"],[0.3,\"rgb(146,197,222)\"],[0.4,\"rgb(209,229,240)\"],[0.5,\"rgb(247,247,247)\"],[0.6,\"rgb(253,219,199)\"],[0.7,\"rgb(244,165,130)\"],[0.8,\"rgb(214,96,77)\"],[0.9,\"rgb(178,24,43)\"],[1.0,\"rgb(103,0,31)\"]]},\"margin\":{\"t\":60}},                        {\"responsive\": true}                    ).then(function(){\n",
              "                            \n",
              "var gd = document.getElementById('e50e647c-2fbd-43c2-9078-7c25236fcf50');\n",
              "var x = new MutationObserver(function (mutations, observer) {{\n",
              "        var display = window.getComputedStyle(gd).display;\n",
              "        if (!display || display === 'none') {{\n",
              "            console.log([gd, 'removed!']);\n",
              "            Plotly.purge(gd);\n",
              "            observer.disconnect();\n",
              "        }}\n",
              "}});\n",
              "\n",
              "// Listen for the removal of the full notebook cells\n",
              "var notebookContainer = gd.closest('#notebook-container');\n",
              "if (notebookContainer) {{\n",
              "    x.observe(notebookContainer, {childList: true});\n",
              "}}\n",
              "\n",
              "// Listen for the clearing of the current output cell\n",
              "var outputEl = gd.closest('.output');\n",
              "if (outputEl) {{\n",
              "    x.observe(outputEl, {childList: true});\n",
              "}}\n",
              "\n",
              "                        })                };                            </script>        </div>\n",
              "</body>\n",
              "</html>"
            ]
          },
          "metadata": {}
        }
      ],
      "source": [
        "corr = new_df.corr()\n",
        "fig=px.imshow(corr, aspect=\"auto\" ,color_continuous_scale='RdBu_r')\n",
        "fig.show()"
      ]
    },
    {
      "cell_type": "markdown",
      "id": "a7c45385",
      "metadata": {
        "id": "a7c45385"
      },
      "source": [
        "Negative Correlations: V17, V14, V12 and V10 are negatively correlated.  \n",
        "Positive Correlations: V2, V4, V11 are positively correlated."
      ]
    },
    {
      "cell_type": "markdown",
      "source": [
        "Note-Used chatgpt to understand the correlations. As the features are anonymised it was difficult to conclude and get relationship and dependency on eachother."
      ],
      "metadata": {
        "id": "gdr8t_whBeBb"
      },
      "id": "gdr8t_whBeBb"
    },
    {
      "cell_type": "code",
      "execution_count": null,
      "id": "Mzekq9GppDUe",
      "metadata": {
        "colab": {
          "base_uri": "https://localhost:8080/"
        },
        "id": "Mzekq9GppDUe",
        "outputId": "d365dc0a-9992-4012-aedb-6d50c3345cdc"
      },
      "outputs": [
        {
          "output_type": "stream",
          "name": "stdout",
          "text": [
            "Highly Correlated Feature Pairs (|r| > 0.9):\n",
            "V11 ↔ V12: r = 0.90\n",
            "V16 ↔ V17: r = 0.95\n",
            "V16 ↔ V18: r = 0.90\n",
            "V17 ↔ V18: r = 0.94\n"
          ]
        }
      ],
      "source": [
        "# Calculate absolute correlation matrix (optional: choose df or new_df)\n",
        "corr_matrix = new_df.corr().abs()\n",
        "\n",
        "# Select upper triangle of correlation matrix to avoid duplicates and self-correlation\n",
        "upper = corr_matrix.where(np.triu(np.ones(corr_matrix.shape), k=1).astype(bool))\n",
        "\n",
        "# Set threshold\n",
        "threshold = 0.9\n",
        "\n",
        "# Find feature pairs with high correlation\n",
        "high_corr_pairs = [(col1, col2, corr_matrix.loc[col1, col2])\n",
        "                   for col1 in upper.columns\n",
        "                   for col2 in upper.columns\n",
        "                   if (upper.loc[col1, col2] > threshold)]\n",
        "\n",
        "# Display results\n",
        "print(\"Highly Correlated Feature Pairs (|r| > 0.9):\")\n",
        "for f1, f2, corr_value in high_corr_pairs:\n",
        "    print(f\"{f1} ↔ {f2}: r = {corr_value:.2f}\")"
      ]
    },
    {
      "cell_type": "markdown",
      "id": "09014a1a",
      "metadata": {
        "id": "09014a1a"
      },
      "source": [
        "### TSNE"
      ]
    },
    {
      "cell_type": "code",
      "execution_count": null,
      "id": "64e561a6",
      "metadata": {
        "id": "64e561a6"
      },
      "outputs": [],
      "source": [
        "from sklearn.manifold import TSNE\n",
        "X = new_df.drop('Class', axis=1)\n",
        "y = new_df['Class']\n",
        "\n",
        "# T-SNE Implementation\n",
        "X_reduced_tsne = TSNE(n_components=2, random_state=42).fit_transform(X.values)"
      ]
    },
    {
      "cell_type": "code",
      "execution_count": null,
      "id": "1b1e39a4",
      "metadata": {
        "colab": {
          "base_uri": "https://localhost:8080/",
          "height": 542
        },
        "id": "1b1e39a4",
        "outputId": "55ecbe9f-4ffc-431b-8f28-64b8c5c51ca7"
      },
      "outputs": [
        {
          "output_type": "display_data",
          "data": {
            "text/html": [
              "<html>\n",
              "<head><meta charset=\"utf-8\" /></head>\n",
              "<body>\n",
              "    <div>            <script src=\"https://cdnjs.cloudflare.com/ajax/libs/mathjax/2.7.5/MathJax.js?config=TeX-AMS-MML_SVG\"></script><script type=\"text/javascript\">if (window.MathJax && window.MathJax.Hub && window.MathJax.Hub.Config) {window.MathJax.Hub.Config({SVG: {font: \"STIX-Web\"}});}</script>                <script type=\"text/javascript\">window.PlotlyConfig = {MathJaxConfig: 'local'};</script>\n",
              "        <script charset=\"utf-8\" src=\"https://cdn.plot.ly/plotly-2.35.2.min.js\"></script>                <div id=\"382aba38-41c9-4e1c-ab26-176ad9cb024f\" class=\"plotly-graph-div\" style=\"height:525px; width:100%;\"></div>            <script type=\"text/javascript\">                                    window.PLOTLYENV=window.PLOTLYENV || {};                                    if (document.getElementById(\"382aba38-41c9-4e1c-ab26-176ad9cb024f\")) {                    Plotly.newPlot(                        \"382aba38-41c9-4e1c-ab26-176ad9cb024f\",                        [{\"hovertemplate\":\"x=%{x}\\u003cbr\\u003ey=%{y}\\u003cbr\\u003ecolor=%{marker.color}\\u003cextra\\u003e\\u003c\\u002fextra\\u003e\",\"legendgroup\":\"\",\"marker\":{\"color\":[0,1,1,1,1,1,1,1,1,1,1,1,1,0,0,1,1,1,1,0,0,0,0,0,0,1,1,1,0,0,0,0,0,1,0,0,0,0,0,0,1,1,1,0,0,1,1,1,0,0,0,1,0,1,1,1,0,0,1,0,0,0,0,1,0,1,0,0,1,0,1,0,1,1,0,0,1,0,1,0,0,0,0,1,0,0,1,0,0,0,1,0,0,0,1,0,1,0,1,0,1,1,1,1,1,0,1,1,0,0,0,1,1,0,0,0,1,0,1,1,0,0,0,0,0,1,0,0,1,0,0,0,0,1,0,1,1,1,0,1,1,1,1,0,1,1,0,1,0,1,1,1,0,0,1,0,0,0,0,1,1,0,1,0,1,0,1,0,1,1,1,0,0,0,0,1,0,1,0,0,1,0,0,0,1,0,0,1,0,1,0,1,1,0,1,1,0,1,0,1,1,0,1,1,1,1,0,1,1,0,0,1,1,1,0,1,0,1,1,1,0,0,0,0,1,0,1,0,0,0,0,1,0,1,1,1,1,1,1,1,0,0,1,0,1,1,1,1,0,0,0,0,1,1,1,0,0,0,0,1,0,1,0,1,1,1,0,1,0,1,1,1,1,0,0,1,1,0,0,0,1,0,0,1,0,0,1,0,0,0,0,0,1,1,0,1,1,1,1,0,1,0,1,1,0,0,0,1,0,0,0,0,0,1,1,1,1,1,0,1,0,1,1,0,1,1,1,1,0,1,1,0,1,1,1,0,1,1,0,1,1,1,1,1,0,1,1,0,0,1,1,0,1,1,1,0,1,0,1,1,1,0,1,0,1,1,1,0,1,1,0,0,0,1,1,0,0,0,1,0,0,0,0,1,0,0,0,1,1,1,0,1,1,1,1,0,1,1,1,1,1,0,1,0,0,1,0,0,0,1,0,0,0,0,0,1,1,0,0,0,1,1,1,1,0,0,1,1,1,1,0,1,1,0,1,1,0,0,0,0,0,0,1,1,1,0,1,1,1,1,0,0,0,0,1,1,1,1,1,0,0,0,1,1,0,0,0,1,1,0,1,0,1,1,0,1,0,0,0,0,1,1,1,1,0,1,0,1,1,1,1,1,0,0,0,0,1,1,0,0,0,1,0,0,1,1,1,0,0,1,0,0,1,0,1,1,1,0,1,1,1,1,0,1,0,0,0,0,1,1,0,0,1,0,0,1,1,1,1,1,0,0,0,1,1,0,1,1,0,1,1,0,1,1,0,1,1,1,0,1,1,0,0,0,1,0,0,1,1,1,0,0,0,0,1,1,0,0,0,1,1,1,1,0,0,1,1,0,1,1,0,0,0,0,0,0,0,1,0,1,0,1,1,0,1,0,0,0,0,0,1,0,0,1,1,0,1,0,1,1,1,0,1,1,0,0,0,1,0,0,0,0,0,0,0,1,0,1,0,0,0,1,1,0,1,1,1,0,0,0,1,1,1,1,0,1,0,0,1,0,1,1,0,1,1,0,0,0,0,0,1,0,1,1,1,0,0,0,0,0,0,1,1,0,0,0,0,1,1,1,1,1,0,0,1,0,1,0,1,1,1,1,1,1,1,1,1,0,0,0,1,0,1,0,0,0,1,0,0,0,0,0,0,0,0,1,0,0,1,0,1,0,1,0,1,0,0,0,1,0,0,1,0,0,1,0,1,0,0,1,1,0,0,0,1,1,1,1,0,0,1,1,0,0,0,0,0,0,0,0,0,0,0,0,1,1,0,1,0,1,0,1,0,0,0,0,0,0,1,0,1,0,0,0,1,0,0,1,1,0,1,0,0,1,1,0,0,0,0,0,0,0,0,1,0,0,0,1,0,1,1,0,1,1,1,0,1,0,0,1,1,1,0,1,0,0,1,1,1,0,1,0,0,0,1,0,1,1,1,0,1,1,0,1,0,1,1,0,0,0,1,0,1,0,1,1,0,0,0,1,1,1,0,0,1,0,0,0,0,1,0,1,1,0,0,0,1,1,1,0,0,1,1,1,1,1,0,1,0,1,1,1,0,1,1,1,0,0,0,0,0,0,0,0,1,0,0,0,0,1,0,0,0,0,0,1,0,0,0,0,1,1,1,1,1,1,1,1,0,1,0,1,0,1,0,1,0,0,1,1,1,1,1,1,1,1,0,1,0,1,1,1,0,1,1],\"coloraxis\":\"coloraxis\",\"symbol\":\"circle\"},\"mode\":\"markers\",\"name\":\"\",\"orientation\":\"v\",\"showlegend\":false,\"x\":[11.539202,7.540987,-21.535654,-35.187275,-18.783892,-14.418415,-16.880543,-40.329865,-41.94338,-42.69987,-40.77818,2.9323902,-39.691074,9.006877,22.08362,1.9817992,-29.53883,-31.553736,-37.73854,23.224508,10.870918,-1.6585445,12.067021,27.664244,14.516819,2.8942506,-31.448547,-33.806393,18.655443,15.831558,11.777105,9.532994,9.625969,-21.27257,24.261889,7.9339623,6.8916764,13.64729,12.024955,37.71009,4.797784,-42.087807,-44.405476,15.3834715,18.334124,-33.19373,-20.220293,-28.31378,23.556232,-3.3562593,22.786787,-21.117744,10.660661,-33.24316,-35.743027,-41.84219,36.485424,14.88156,29.653341,2.2649722,9.823441,31.79707,35.064056,24.123686,3.8959193,4.019688,33.1796,13.395689,-40.930176,-0.31717137,0.46509367,28.19861,-22.995132,-21.591738,19.276426,8.069922,15.60461,0.19583753,1.5916737,32.254436,9.486712,18.704897,4.8933315,-37.731346,0.9523387,12.395048,-35.788174,26.314768,28.87661,32.783672,23.541473,27.981794,18.628952,12.788747,-17.426626,29.242247,-30.253607,17.11796,-33.704716,8.280316,-22.029646,-42.158623,3.192823,-38.060024,-19.749521,26.265692,-15.564489,-34.2617,14.399688,22.670294,28.187098,-22.00574,-3.3165233,6.739789,27.583422,15.181682,-22.745382,-3.06335,-38.623188,-35.825733,30.451218,18.25342,22.086397,21.383934,9.001478,0.70832974,22.88445,11.0461,-33.14598,25.055223,4.024811,37.297104,3.135031,-32.145092,35.18944,5.2551036,-42.48359,-41.132618,6.7984858,-28.723497,-17.58505,2.1544998,-21.92526,37.330746,-24.682396,1.4399529,15.252421,-24.183645,31.029093,3.7379236,-18.331583,3.2606015,34.843372,1.3198221,-33.33432,10.264007,1.7398903,3.5204592,15.3033905,-41.536533,-42.45202,15.1573305,-21.27868,8.762247,-30.142494,5.2754545,-39.89148,10.959651,26.42841,-37.839813,-33.790718,12.131499,17.881622,4.9926214,24.299316,-44.36396,14.950371,-23.289661,20.136604,22.50619,-37.190258,33.81959,33.10092,29.159058,-2.6756358,19.179728,25.502235,-40.345757,14.91863,-35.764866,0.1765812,-26.900698,-41.21394,21.906942,-28.883753,-31.1294,2.4109128,-30.171358,34.478184,-30.195053,-17.798582,15.741324,-27.15327,23.33689,-31.64099,-37.344685,23.909798,-44.779617,12.481355,10.45014,21.475796,-19.702614,-37.668182,-31.094566,-1.9657793,-36.59388,10.732965,-38.40374,-38.097404,-29.275986,16.204853,4.6519322,18.901701,35.473362,-32.97929,32.35078,-46.937496,16.097631,14.686786,31.93945,22.0052,-32.781864,37.38733,-2.0196211,-36.27976,-33.813515,-19.341187,17.237448,-28.575699,-37.815884,20.008507,5.302123,-38.56682,14.462261,-35.580147,-23.185802,-30.232801,13.378036,5.257797,17.096918,8.122203,23.037663,-27.9788,-18.131405,-33.80398,22.27616,16.02101,20.682009,14.097847,3.884892,34.24003,-29.619228,27.966965,-37.72519,-28.514414,-21.112202,16.766449,-29.62112,14.365091,-17.854103,-41.513237,-32.6302,10.900372,12.571721,17.225119,13.929729,-38.212025,8.261928,19.235746,23.351965,-46.034725,34.111195,4.793932,-26.043886,15.817618,3.6615102,1.2462811,18.064213,8.029926,5.6373568,21.510147,17.06568,11.354084,-44.093563,14.755551,-27.688322,3.9673297,-30.487017,-41.458233,19.119417,-29.09984,14.374105,-27.252174,-42.51209,28.106907,6.773905,8.170923,-42.695538,5.705404,10.4545555,18.6079,12.754219,32.721447,8.046479,-44.917572,-30.123339,22.421701,13.195363,25.942091,-17.959871,11.4351225,-33.158886,-37.218796,22.451359,-35.22594,0.79568094,-34.373844,-31.065868,18.428005,12.097931,-35.580997,17.05435,12.550101,1.2642512,-40.582848,3.8603613,-38.870087,-24.279596,27.674494,-36.42999,1.7644331,5.0567517,-32.953514,-24.34874,27.665594,-28.323606,-15.602896,16.039125,9.115418,-34.890877,-44.591473,15.389974,-36.73128,3.848325,-32.761013,18.174479,1.391904,15.490565,-20.725237,-28.465103,-39.641216,4.8267045,-44.230316,19.661463,-31.009005,-32.950394,-20.442976,22.511219,-39.539135,-30.254513,35.620438,1.4859706,25.889833,-21.368444,-19.851381,14.000937,34.8883,34.146267,-28.437122,5.980087,13.087418,3.5131075,6.6614923,-41.169277,6.277263,34.5445,7.024799,-30.362123,-33.827213,-29.366323,14.852588,-22.120794,-19.671762,19.75943,-22.537544,19.809912,-32.454433,-42.65877,20.206303,-27.499659,-37.23937,11.895982,-34.222675,5.668026,14.277862,-37.772068,14.690817,10.484022,2.726542,-17.5514,16.390553,13.575301,15.302305,6.154168,19.432747,-40.460045,-30.051683,27.803192,15.850878,6.588895,-12.9976015,-37.325615,-37.743122,-33.374237,18.288443,19.975386,-33.408924,-35.757504,-40.396435,11.691423,2.469956,-17.52463,-31.074673,21.262949,-41.09529,-36.710007,-2.8703969,30.318193,9.630802,21.141554,-0.87282294,12.718774,-23.359924,24.88832,-22.15213,32.289394,-43.2914,-27.875055,-18.242132,-44.878136,19.745586,4.9409957,35.126663,36.65394,-33.14313,33.47348,-30.627304,8.8907175,-39.619625,35.584126,19.33691,27.262398,-44.935307,-22.918255,13.220348,6.15472,32.08938,-20.560106,-13.2767515,14.861536,-23.429415,32.643627,-35.853947,-38.866898,27.640285,1.171553,5.6526856,23.994398,34.7699,23.905611,-40.07967,-37.64891,-18.058218,-37.509663,11.761921,-44.35056,-1.4565072,-39.616417,-28.315504,-31.640232,-42.96724,-20.39968,30.523203,21.565897,34.916603,33.588245,-21.149185,-24.691072,10.370411,4.5310163,19.6436,-39.348534,13.172709,20.8255,-33.25234,-32.735443,-21.07185,26.93392,3.852548,-28.244753,10.222456,8.15188,-30.394081,18.141834,-26.040106,-29.954197,-29.226606,4.5428834,-34.369316,22.49187,-3.3072524,-37.506847,30.438063,-44.12433,-1.0548525,23.51135,9.188782,16.447124,-28.259855,-18.877934,-1.8970109,13.418464,4.0153866,-0.0118411565,17.196098,-29.63251,-40.189835,-44.293953,-33.818996,-41.52309,14.873506,7.808417,22.399355,-36.593685,-31.474155,11.021685,-1.8518635,-22.215237,7.335798,-16.673525,0.7697935,5.813646,-29.914675,-40.570946,13.127446,-31.246471,-16.119104,-38.392246,24.416122,-37.880505,-14.045356,9.705949,31.158682,23.61696,-32.037605,37.072365,14.305885,-35.7432,-42.903202,-36.63293,32.387917,23.356482,37.600784,32.772327,3.8543756,-28.790026,14.85009,6.505949,10.7722845,-21.837317,-41.895535,-32.200035,-14.41347,16.241602,20.858662,-35.695477,-27.112154,32.573566,-2.4184906,2.7987902,6.1890016,20.180738,14.510205,13.440264,31.032907,17.154928,6.729698,-33.759487,26.404991,-29.22247,14.840618,-28.322643,-42.38029,8.727411,-27.439953,20.644941,18.466581,22.16559,29.247925,35.512733,-38.361233,28.114067,6.476075,-33.50967,-32.704998,25.900757,-25.840712,7.199921,-40.46144,-40.4878,-37.497776,34.654453,-27.518484,-40.81354,6.1516504,14.667345,20.39088,0.54574156,20.55193,32.77073,30.436165,14.328729,18.260416,18.219591,11.910933,-4.0437517,18.445345,-44.57604,7.824195,4.468658,16.216469,-28.692223,-44.02849,15.156119,-42.225327,-35.251186,-38.975563,18.434227,34.57479,8.738768,-45.987366,-21.12036,-23.347866,-24.848267,31.44922,0.91890025,17.436565,17.75537,-20.85995,11.821238,-45.8493,-14.036316,24.31564,-22.398417,-47.06576,12.7723055,31.496748,11.582061,11.764717,10.2490635,-42.089783,32.718693,-32.453213,-38.312874,-33.302395,3.857964,22.035086,18.513308,32.565975,16.467062,28.301891,-33.093407,-37.72555,11.208411,7.4915605,12.355031,18.145607,1.5783329,23.811558,2.8433475,-24.326395,-20.701796,7.821331,28.007412,-26.032257,12.417372,-26.143381,30.636257,-41.342133,-35.60406,2.7606404,-15.563903,-36.622364,-45.828045,-30.344023,-38.491943,-22.33942,31.295092,9.183971,30.791801,-27.543892,15.940049,0.9078642,7.9979944,6.5723042,34.30275,-33.175476,18.600399,3.7655518,21.914654,12.496087,36.719406,32.590214,3.7021778,12.267553,-36.681873,2.643721,37.61539,3.3565755,16.71726,-32.17571,19.595913,4.7786155,13.732948,-22.729906,28.056662,7.83917,29.627405,1.6554207,24.088392,6.394079,1.7220182,23.724716,16.257677,-42.99256,19.70467,-31.464384,25.88514,5.182865,-0.031095421,-15.972705,19.26233,26.91973,17.467012,-19.621778,-41.744537,0.83400524,-18.908882,20.12705,6.050268,-31.04169,-27.415035,4.7586284,7.2668138,13.792027,13.858761,4.385897,35.789352,36.005554,13.262226,17.373505,24.140657,12.681784,31.80308,-23.218136,1.1335329,15.31421,-22.258406,17.535782,-32.946274,30.63721,7.7525387,31.590778,13.698445,3.4338396,21.617764,25.181059,10.533393,-25.596899,13.106216,-28.309313,6.128106,1.8894435,29.803726,-18.048615,2.9121056,6.1313605,-25.4521,-24.505508,33.341324,2.9427168,23.565292,13.489013,-15.020154,1.8077788,10.549131,4.807353,6.482398,16.071531,10.709653,20.676357,34.22234,9.2798195,-42.682217,14.642918,10.857493,37.52176,-29.18099,17.138893,-22.09521,20.78245,12.361531,-40.3473,4.56271,-42.236607,19.624897,-20.810797,22.815872,14.579493,-18.884035,-35.631115,-28.653141,34.544098,-31.543139,17.187544,13.641986,-42.13115,-42.258495,0.072156906,25.703455,-32.0806,15.491398,24.391815,9.638486,-41.122707,-0.48466128,1.289943,1.4128957,-33.12589,6.353723,5.6566596,-43.91748,12.160608,-37.958385,22.271341,-20.195375,-30.731434,18.50057,13.986797,11.864616,-44.463394,33.59954,-32.304367,8.475844,-33.38871,-30.099686,19.356512,1.8107195,25.399471,1.3502812,-31.652128,-0.54444504,32.21957,6.983273,12.269728,30.497534,18.533772,22.33558,23.00687,-21.20236,35.829323,-40.32852,8.981904,21.65983,24.182917,25.540976,-29.681814,-42.323467,-32.62108,12.299209,19.33699,-31.874084,-43.36923,-22.85339,-31.804161,-2.301849,6.491134,-22.154072,35.412655,-27.565807,-31.159363,-33.837734,17.033337,-45.794144,29.349236,5.9319935,5.05723,31.112988,9.0336,18.621723,15.872314,27.579111,36.688652,-1.6151068,-19.67551,6.308802,6.68158,12.213441,7.1358433,-42.291584,11.548274,15.533809,17.240198,22.971167,13.472669,-43.915813,12.238256,17.537441,15.986719,10.196461,21.001055,-34.336143,-17.074854,-26.575312,-31.837376,1.075333,19.072414,-16.47414,16.160528,-23.170456,18.072374,-26.675251,9.190614,-23.18059,9.348798,-37.244877,9.332761,9.838539,-23.556822,-30.713951,-47.01269,-30.047451,7.1605496,-26.85818,-32.54168,4.9241652,33.56815,-39.692863,32.393574,-42.45115,-30.58327,-36.5054,30.455553,-42.4755,-16.127405],\"xaxis\":\"x\",\"y\":[23.045786,18.724775,-21.056047,27.329237,-30.636902,-11.03474,-27.969992,16.988712,14.666841,-6.7431355,15.213201,-12.045756,-16.570253,26.152758,-3.766198,-19.182013,-34.95384,-16.78964,-30.579367,-5.7649903,20.973152,-1.3581754,12.482316,-3.413546,26.203827,-16.427338,-15.571312,-33.71831,-1.7259094,-11.954064,8.313529,30.816475,14.350608,-20.170103,3.5251164,22.591751,-4.9138794,21.97604,17.224998,-10.5666275,-12.672082,-12.994338,23.221563,23.174881,22.72259,-33.202015,-21.72308,-19.369057,-0.26329795,16.193321,-6.832169,-23.779377,14.725618,26.12604,-16.811731,-12.641906,8.840211,-2.3467846,-2.5670066,9.5095,15.742433,4.4238563,9.561983,1.9902794,10.582581,-12.932997,0.8216265,0.48756936,22.879078,-2.6298137,-15.6497755,-3.9513855,-18.816837,-16.563541,2.517838,-1.1480101,16.135757,-13.733557,-14.793408,6.204106,23.139906,-11.75851,24.424788,21.463705,8.230596,18.354525,26.784563,15.692176,-3.0634081,-12.522599,23.619663,17.85911,3.2787166,-0.42784807,-22.816607,9.466135,25.851345,29.333548,-33.93004,27.835217,-23.615002,-10.790953,12.801575,27.34089,-19.616625,16.5803,-17.707405,28.044872,-0.552853,25.961454,-1.5670536,-20.939337,9.773741,2.3346946,6.8828726,0.41961178,-21.92111,10.933032,-13.052977,-19.449389,14.7479515,-14.96546,-10.353425,-3.8891344,13.775741,7.920156,-5.395566,29.153116,-25.035059,19.845537,10.644318,-13.316112,1.7445878,-36.18478,7.1110454,13.524935,14.48875,23.08687,22.395126,-21.080618,-24.48717,25.605507,-24.838009,7.303605,-26.532999,-17.403055,24.407808,-23.481024,8.542721,18.169632,-17.512075,15.226092,-12.201601,-4.1696205,-33.533672,-8.27458,9.812573,2.884634,11.437353,15.107373,-7.620053,-7.400359,-28.637197,18.699797,26.572807,16.401375,-14.418843,29.295382,10.837875,20.725225,-23.414392,14.141725,-10.863482,2.7926981,5.551652,-10.960182,21.971663,-26.505358,-11.174077,13.977705,27.254635,2.7021668,13.674067,11.904726,10.043836,17.710787,2.8194356,17.386337,13.450574,24.646065,-13.666796,-19.992151,22.900345,-7.124156,-35.598106,-28.66986,10.141885,-36.9301,-12.667413,-35.92359,-23.395994,11.091291,-32.257015,10.048005,28.166243,24.141542,-2.2111456,-11.417805,-13.226163,-11.725027,-13.271859,-21.634056,-30.695482,27.827013,0.861666,21.329512,15.528058,24.123009,26.161745,-14.363002,-0.2120314,22.099339,7.478708,3.7534516,-33.371555,16.585535,-14.562171,-11.779708,19.14955,5.884378,-11.453702,-24.099133,7.395928,-0.35045978,26.262121,-35.752586,-27.116638,9.733999,-20.986656,-30.462847,-7.72053,3.0206568,26.65706,15.985294,25.437967,-21.458237,26.05874,-12.876229,-0.5392959,-9.147325,23.351582,-4.97107,-25.296415,-18.812685,28.838112,-11.650238,21.446745,-9.127098,1.1407224,-7.387576,7.8839426,27.183968,-5.8478274,21.02066,-35.32004,-15.928328,-5.017733,26.902996,-2.8730588,-17.81018,16.17093,28.877937,-8.2058735,20.967806,1.3156568,-13.006895,-14.612978,31.327112,-0.10677873,-8.528005,-12.353729,1.4818001,-0.61736286,-19.331747,9.226012,3.8112454,-18.944302,-10.820487,26.90571,1.8810918,-1.7177434,-4.4373307,18.563604,-13.0606,14.481824,-37.258625,-13.033199,-35.835506,14.15973,10.938886,-32.37327,15.89093,-35.794174,-7.31264,-1.1808093,10.964888,10.469971,23.023449,-4.9759893,-8.387225,9.182816,4.072515,15.123523,17.04695,-13.541176,-13.419579,25.157099,-3.6947615,17.721214,-18.69775,8.749589,-28.289753,25.380312,-10.381161,28.114117,-3.807323,-23.322258,-23.414951,-0.39053503,-7.9655924,-16.981667,1.151395,-13.080157,-19.390575,-11.701811,5.6437936,20.85112,-19.548841,6.7364664,-19.579473,15.359341,-10.509577,-25.23495,-27.854685,15.462236,-34.63879,-21.906408,14.356067,-10.014073,26.424618,-11.753183,-1.4275383,27.040886,-6.7521124,-33.57509,-1.8632088,-18.908422,19.865341,-20.893635,-36.860905,-14.101317,3.0283673,-12.672812,-6.5329485,-34.308723,29.56472,-26.691868,13.94307,25.436865,-36.93209,10.01583,-4.3081093,3.5962334,-21.854038,-20.236168,7.7334,-13.871879,7.801722,-17.195177,-4.7380013,0.8505505,20.243093,28.288507,16.520216,-4.4267254,-14.149089,10.830684,-36.002323,-35.741833,-24.909096,-7.3445086,-27.12681,-18.747118,19.539473,-21.288452,10.133494,-13.692132,-6.588864,1.4666986,-22.258776,-12.627427,8.409077,28.772268,12.303814,23.906536,-14.9849415,16.547577,13.261935,23.440916,-19.629116,18.906357,21.758507,26.803799,0.36410302,6.761549,24.267712,-17.02516,15.591387,0.73927635,4.3658266,-9.685316,-15.368942,26.127047,-29.31874,-2.6980994,-4.2136765,-36.220314,24.621588,24.279858,-11.506293,2.2648604,-27.64826,28.617819,-11.422309,14.620459,-12.57852,0.55266047,14.859764,17.628695,22.587042,-13.917428,9.094918,-13.373741,4.051478,-20.127972,12.5291195,-14.999439,-32.928143,-21.029623,-16.396088,12.520667,3.629605,9.821913,-11.491808,-20.631796,3.4632142,-32.499004,18.659346,-15.7400055,8.770908,-9.289825,16.611227,-10.167287,-22.803375,17.825304,25.99087,17.099564,-18.613317,-9.904869,-10.3958435,-13.360869,14.023856,-15.702985,20.472576,-2.4182918,11.058385,15.567623,-7.468136,-12.349631,15.742852,-13.412902,22.915283,-19.194363,-30.975971,25.709078,23.215168,-1.6539004,-16.093567,-34.631462,-19.804914,13.690362,-17.160944,-4.114263,23.218832,3.8012598,9.627882,-21.680853,-28.304605,9.745409,23.817532,-11.953146,-12.567872,-12.655648,-3.1836042,26.729958,-14.08881,-25.084799,-10.919001,2.0911446,-19.502312,-8.476292,28.884499,-22.523369,-10.630615,-11.1147375,-19.300125,-18.187445,26.662191,-23.36258,24.016344,16.178158,-12.411289,6.382448,-15.056717,13.126897,1.6835438,16.09166,-11.642149,-22.383617,-30.725538,1.113944,21.704355,-14.026771,-12.866656,0.41743925,26.36785,-13.122424,-10.816183,-24.988462,-10.958038,-10.41797,21.889856,25.118923,27.638594,29.53252,22.93278,0.61423093,-29.305809,21.085732,-21.602852,14.705819,-3.7023368,-15.770288,15.912239,-10.560236,29.119951,-12.092728,-14.436141,15.783617,-30.355688,-22.326862,24.330107,2.2063565,2.3962376,-35.180576,-11.19544,26.187191,-20.138645,22.546951,23.784994,6.209059,-6.746237,8.290765,1.8772053,-6.773127,-34.5959,2.8400502,13.710534,15.37508,-19.013475,15.652194,-30.291637,-11.033353,19.070303,1.2992175,-16.839563,-17.504492,13.425722,10.07355,3.470806,12.137395,-10.7637825,2.7634826,15.560957,13.780748,29.326199,-0.07943687,-23.445555,10.830803,-14.39703,20.153568,-22.431627,15.249001,29.831614,-36.900467,-5.0063887,24.769629,-8.90312,11.78687,-10.618777,20.46038,-4.577081,-1.2857538,29.163332,-28.552748,3.395642,-28.663664,12.476956,-12.198163,16.394388,27.04315,8.72549,-25.443512,17.015434,15.014523,-7.498414,21.555742,-19.166468,-9.5716,3.6057959,-4.415776,-2.8795948,-14.977861,-3.3464706,1.0180603,11.023863,23.633703,-12.622254,28.991049,2.3087947,-3.2995524,-34.33532,-15.238865,4.9175487,-13.948632,21.892273,25.880976,-7.3253636,8.654877,30.837769,-12.344038,-18.146955,-17.213573,-18.300974,13.4115,16.681162,-8.688054,26.598406,-23.062582,17.31279,-16.572449,-22.319109,5.528474,-25.369856,-14.321188,7.9011836,13.0526495,22.306854,17.199697,24.966076,-13.322252,-11.901573,29.749218,21.269905,-16.65467,5.6098137,-2.9749913,24.934628,-11.950314,-5.175774,-6.9763217,26.838423,-12.36407,17.368431,24.002436,4.597746,19.461985,-4.368744,-12.4827385,-11.51274,-27.783434,-26.603466,10.491067,-5.780438,-11.1189375,-8.015725,-11.262148,-3.016614,23.467978,-15.028205,-10.867961,-17.708883,24.748293,-15.759743,25.69352,21.068056,-23.21918,14.4421215,14.998259,5.9286327,-32.87091,-12.266892,-15.023687,-1.3153067,15.550956,-11.364317,-36.087353,23.33019,12.944812,1.3213111,16.650684,-12.9844055,5.0368166,1.3922637,12.065693,-17.106228,23.472603,-13.8359995,-14.741183,17.121273,-34.574722,-12.510208,-12.617326,20.916887,-19.087162,-3.6910968,25.77888,-5.66394,-17.352869,14.297575,2.5205197,22.558605,22.059027,-3.1900008,14.461491,8.96307,-22.467323,1.9254625,1.5125843,-15.204447,-12.0366335,1.502982,-10.919708,9.9083395,-25.331768,13.735052,-18.918217,-20.414196,-7.420278,14.240158,-18.75994,-20.121017,21.717335,14.576406,-3.0831277,-3.5733585,24.572287,-11.2388935,8.686894,-10.279497,-2.1539495,15.744741,28.389393,6.842435,-23.866135,-14.401961,-10.60209,-29.298422,-2.1619384,-29.69386,4.019888,19.964767,15.789414,21.693243,14.983004,-4.0431924,19.667158,19.11038,-28.600544,7.800129,-36.6784,4.6474257,9.6249485,-4.5817404,-23.04308,1.0505524,20.473125,-21.400316,-26.63307,2.261537,-11.630527,-0.25429422,-11.376366,-10.4032955,-18.430855,15.953593,24.945396,-3.9919083,29.437485,21.106888,-5.237173,7.8777223,14.513888,-7.140785,-1.0358645,24.35895,-11.070866,-15.523637,-9.013484,-23.291763,19.943531,19.906681,23.114887,-13.416801,13.373898,-12.376304,-17.625782,16.075449,-1.4434257,-30.70776,27.32226,-15.35725,-14.293715,-22.765112,11.079593,-3.9263856,-13.706299,22.837185,-17.223545,17.608082,-30.005035,0.62352574,-5.408107,10.633833,15.66427,-2.2228405,-15.474058,-15.406745,-21.376328,3.3818913,19.899908,23.116476,-0.6191454,-14.487258,-10.176355,-20.486172,-18.536963,-8.639466,14.523197,26.050957,-16.357716,1.4956886,-36.155594,16.54398,28.110956,-17.02422,11.061396,15.26764,15.450527,-14.500337,27.310848,-17.697374,14.398288,3.5287433,1.4582125,4.0210004,26.868317,-5.708391,-4.8481784,-16.885187,-13.323976,-12.647366,-10.031259,19.855244,22.862331,3.2274415,-20.61348,-11.790703,28.43783,14.473865,1.5051727,-25.62555,23.109915,-19.822096,27.877577,-0.17791484,23.759016,-22.012371,-11.954502,-33.217,-17.899118,-25.008236,17.928556,-15.924613,-2.706638,23.701963,24.438803,5.637181,-10.020129,-6.677428,-12.449403,16.408455,5.834809,2.4314027,-25.52581,-0.95427257,21.881596,24.088684,13.798263,-12.014027,23.17313,0.6564606,1.3198698,22.284372,22.938204,-13.434875,22.682888,-8.211228,15.384467,16.621746,21.461758,27.40338,-25.491032,-25.676487,-29.320927,-15.248075,19.568819,-24.214905,10.61374,-24.270094,15.072637,-12.007968,12.958794,-21.9204,30.74219,21.237352,22.083614,25.129671,-26.453524,-23.616198,-14.457929,-20.555304,18.855331,-25.562794,-34.439808,-9.894226,1.1660157,-15.719443,12.231976,-6.902928,-32.637913,-19.665733,13.753515,13.829061,-12.095687],\"yaxis\":\"y\",\"type\":\"scatter\"}],                        {\"template\":{\"data\":{\"histogram2dcontour\":[{\"type\":\"histogram2dcontour\",\"colorbar\":{\"outlinewidth\":0,\"ticks\":\"\"},\"colorscale\":[[0.0,\"#0d0887\"],[0.1111111111111111,\"#46039f\"],[0.2222222222222222,\"#7201a8\"],[0.3333333333333333,\"#9c179e\"],[0.4444444444444444,\"#bd3786\"],[0.5555555555555556,\"#d8576b\"],[0.6666666666666666,\"#ed7953\"],[0.7777777777777778,\"#fb9f3a\"],[0.8888888888888888,\"#fdca26\"],[1.0,\"#f0f921\"]]}],\"choropleth\":[{\"type\":\"choropleth\",\"colorbar\":{\"outlinewidth\":0,\"ticks\":\"\"}}],\"histogram2d\":[{\"type\":\"histogram2d\",\"colorbar\":{\"outlinewidth\":0,\"ticks\":\"\"},\"colorscale\":[[0.0,\"#0d0887\"],[0.1111111111111111,\"#46039f\"],[0.2222222222222222,\"#7201a8\"],[0.3333333333333333,\"#9c179e\"],[0.4444444444444444,\"#bd3786\"],[0.5555555555555556,\"#d8576b\"],[0.6666666666666666,\"#ed7953\"],[0.7777777777777778,\"#fb9f3a\"],[0.8888888888888888,\"#fdca26\"],[1.0,\"#f0f921\"]]}],\"heatmap\":[{\"type\":\"heatmap\",\"colorbar\":{\"outlinewidth\":0,\"ticks\":\"\"},\"colorscale\":[[0.0,\"#0d0887\"],[0.1111111111111111,\"#46039f\"],[0.2222222222222222,\"#7201a8\"],[0.3333333333333333,\"#9c179e\"],[0.4444444444444444,\"#bd3786\"],[0.5555555555555556,\"#d8576b\"],[0.6666666666666666,\"#ed7953\"],[0.7777777777777778,\"#fb9f3a\"],[0.8888888888888888,\"#fdca26\"],[1.0,\"#f0f921\"]]}],\"heatmapgl\":[{\"type\":\"heatmapgl\",\"colorbar\":{\"outlinewidth\":0,\"ticks\":\"\"},\"colorscale\":[[0.0,\"#0d0887\"],[0.1111111111111111,\"#46039f\"],[0.2222222222222222,\"#7201a8\"],[0.3333333333333333,\"#9c179e\"],[0.4444444444444444,\"#bd3786\"],[0.5555555555555556,\"#d8576b\"],[0.6666666666666666,\"#ed7953\"],[0.7777777777777778,\"#fb9f3a\"],[0.8888888888888888,\"#fdca26\"],[1.0,\"#f0f921\"]]}],\"contourcarpet\":[{\"type\":\"contourcarpet\",\"colorbar\":{\"outlinewidth\":0,\"ticks\":\"\"}}],\"contour\":[{\"type\":\"contour\",\"colorbar\":{\"outlinewidth\":0,\"ticks\":\"\"},\"colorscale\":[[0.0,\"#0d0887\"],[0.1111111111111111,\"#46039f\"],[0.2222222222222222,\"#7201a8\"],[0.3333333333333333,\"#9c179e\"],[0.4444444444444444,\"#bd3786\"],[0.5555555555555556,\"#d8576b\"],[0.6666666666666666,\"#ed7953\"],[0.7777777777777778,\"#fb9f3a\"],[0.8888888888888888,\"#fdca26\"],[1.0,\"#f0f921\"]]}],\"surface\":[{\"type\":\"surface\",\"colorbar\":{\"outlinewidth\":0,\"ticks\":\"\"},\"colorscale\":[[0.0,\"#0d0887\"],[0.1111111111111111,\"#46039f\"],[0.2222222222222222,\"#7201a8\"],[0.3333333333333333,\"#9c179e\"],[0.4444444444444444,\"#bd3786\"],[0.5555555555555556,\"#d8576b\"],[0.6666666666666666,\"#ed7953\"],[0.7777777777777778,\"#fb9f3a\"],[0.8888888888888888,\"#fdca26\"],[1.0,\"#f0f921\"]]}],\"mesh3d\":[{\"type\":\"mesh3d\",\"colorbar\":{\"outlinewidth\":0,\"ticks\":\"\"}}],\"scatter\":[{\"fillpattern\":{\"fillmode\":\"overlay\",\"size\":10,\"solidity\":0.2},\"type\":\"scatter\"}],\"parcoords\":[{\"type\":\"parcoords\",\"line\":{\"colorbar\":{\"outlinewidth\":0,\"ticks\":\"\"}}}],\"scatterpolargl\":[{\"type\":\"scatterpolargl\",\"marker\":{\"colorbar\":{\"outlinewidth\":0,\"ticks\":\"\"}}}],\"bar\":[{\"error_x\":{\"color\":\"#2a3f5f\"},\"error_y\":{\"color\":\"#2a3f5f\"},\"marker\":{\"line\":{\"color\":\"#E5ECF6\",\"width\":0.5},\"pattern\":{\"fillmode\":\"overlay\",\"size\":10,\"solidity\":0.2}},\"type\":\"bar\"}],\"scattergeo\":[{\"type\":\"scattergeo\",\"marker\":{\"colorbar\":{\"outlinewidth\":0,\"ticks\":\"\"}}}],\"scatterpolar\":[{\"type\":\"scatterpolar\",\"marker\":{\"colorbar\":{\"outlinewidth\":0,\"ticks\":\"\"}}}],\"histogram\":[{\"marker\":{\"pattern\":{\"fillmode\":\"overlay\",\"size\":10,\"solidity\":0.2}},\"type\":\"histogram\"}],\"scattergl\":[{\"type\":\"scattergl\",\"marker\":{\"colorbar\":{\"outlinewidth\":0,\"ticks\":\"\"}}}],\"scatter3d\":[{\"type\":\"scatter3d\",\"line\":{\"colorbar\":{\"outlinewidth\":0,\"ticks\":\"\"}},\"marker\":{\"colorbar\":{\"outlinewidth\":0,\"ticks\":\"\"}}}],\"scattermapbox\":[{\"type\":\"scattermapbox\",\"marker\":{\"colorbar\":{\"outlinewidth\":0,\"ticks\":\"\"}}}],\"scatterternary\":[{\"type\":\"scatterternary\",\"marker\":{\"colorbar\":{\"outlinewidth\":0,\"ticks\":\"\"}}}],\"scattercarpet\":[{\"type\":\"scattercarpet\",\"marker\":{\"colorbar\":{\"outlinewidth\":0,\"ticks\":\"\"}}}],\"carpet\":[{\"aaxis\":{\"endlinecolor\":\"#2a3f5f\",\"gridcolor\":\"white\",\"linecolor\":\"white\",\"minorgridcolor\":\"white\",\"startlinecolor\":\"#2a3f5f\"},\"baxis\":{\"endlinecolor\":\"#2a3f5f\",\"gridcolor\":\"white\",\"linecolor\":\"white\",\"minorgridcolor\":\"white\",\"startlinecolor\":\"#2a3f5f\"},\"type\":\"carpet\"}],\"table\":[{\"cells\":{\"fill\":{\"color\":\"#EBF0F8\"},\"line\":{\"color\":\"white\"}},\"header\":{\"fill\":{\"color\":\"#C8D4E3\"},\"line\":{\"color\":\"white\"}},\"type\":\"table\"}],\"barpolar\":[{\"marker\":{\"line\":{\"color\":\"#E5ECF6\",\"width\":0.5},\"pattern\":{\"fillmode\":\"overlay\",\"size\":10,\"solidity\":0.2}},\"type\":\"barpolar\"}],\"pie\":[{\"automargin\":true,\"type\":\"pie\"}]},\"layout\":{\"autotypenumbers\":\"strict\",\"colorway\":[\"#636efa\",\"#EF553B\",\"#00cc96\",\"#ab63fa\",\"#FFA15A\",\"#19d3f3\",\"#FF6692\",\"#B6E880\",\"#FF97FF\",\"#FECB52\"],\"font\":{\"color\":\"#2a3f5f\"},\"hovermode\":\"closest\",\"hoverlabel\":{\"align\":\"left\"},\"paper_bgcolor\":\"white\",\"plot_bgcolor\":\"#E5ECF6\",\"polar\":{\"bgcolor\":\"#E5ECF6\",\"angularaxis\":{\"gridcolor\":\"white\",\"linecolor\":\"white\",\"ticks\":\"\"},\"radialaxis\":{\"gridcolor\":\"white\",\"linecolor\":\"white\",\"ticks\":\"\"}},\"ternary\":{\"bgcolor\":\"#E5ECF6\",\"aaxis\":{\"gridcolor\":\"white\",\"linecolor\":\"white\",\"ticks\":\"\"},\"baxis\":{\"gridcolor\":\"white\",\"linecolor\":\"white\",\"ticks\":\"\"},\"caxis\":{\"gridcolor\":\"white\",\"linecolor\":\"white\",\"ticks\":\"\"}},\"coloraxis\":{\"colorbar\":{\"outlinewidth\":0,\"ticks\":\"\"}},\"colorscale\":{\"sequential\":[[0.0,\"#0d0887\"],[0.1111111111111111,\"#46039f\"],[0.2222222222222222,\"#7201a8\"],[0.3333333333333333,\"#9c179e\"],[0.4444444444444444,\"#bd3786\"],[0.5555555555555556,\"#d8576b\"],[0.6666666666666666,\"#ed7953\"],[0.7777777777777778,\"#fb9f3a\"],[0.8888888888888888,\"#fdca26\"],[1.0,\"#f0f921\"]],\"sequentialminus\":[[0.0,\"#0d0887\"],[0.1111111111111111,\"#46039f\"],[0.2222222222222222,\"#7201a8\"],[0.3333333333333333,\"#9c179e\"],[0.4444444444444444,\"#bd3786\"],[0.5555555555555556,\"#d8576b\"],[0.6666666666666666,\"#ed7953\"],[0.7777777777777778,\"#fb9f3a\"],[0.8888888888888888,\"#fdca26\"],[1.0,\"#f0f921\"]],\"diverging\":[[0,\"#8e0152\"],[0.1,\"#c51b7d\"],[0.2,\"#de77ae\"],[0.3,\"#f1b6da\"],[0.4,\"#fde0ef\"],[0.5,\"#f7f7f7\"],[0.6,\"#e6f5d0\"],[0.7,\"#b8e186\"],[0.8,\"#7fbc41\"],[0.9,\"#4d9221\"],[1,\"#276419\"]]},\"xaxis\":{\"gridcolor\":\"white\",\"linecolor\":\"white\",\"ticks\":\"\",\"title\":{\"standoff\":15},\"zerolinecolor\":\"white\",\"automargin\":true,\"zerolinewidth\":2},\"yaxis\":{\"gridcolor\":\"white\",\"linecolor\":\"white\",\"ticks\":\"\",\"title\":{\"standoff\":15},\"zerolinecolor\":\"white\",\"automargin\":true,\"zerolinewidth\":2},\"scene\":{\"xaxis\":{\"backgroundcolor\":\"#E5ECF6\",\"gridcolor\":\"white\",\"linecolor\":\"white\",\"showbackground\":true,\"ticks\":\"\",\"zerolinecolor\":\"white\",\"gridwidth\":2},\"yaxis\":{\"backgroundcolor\":\"#E5ECF6\",\"gridcolor\":\"white\",\"linecolor\":\"white\",\"showbackground\":true,\"ticks\":\"\",\"zerolinecolor\":\"white\",\"gridwidth\":2},\"zaxis\":{\"backgroundcolor\":\"#E5ECF6\",\"gridcolor\":\"white\",\"linecolor\":\"white\",\"showbackground\":true,\"ticks\":\"\",\"zerolinecolor\":\"white\",\"gridwidth\":2}},\"shapedefaults\":{\"line\":{\"color\":\"#2a3f5f\"}},\"annotationdefaults\":{\"arrowcolor\":\"#2a3f5f\",\"arrowhead\":0,\"arrowwidth\":1},\"geo\":{\"bgcolor\":\"white\",\"landcolor\":\"#E5ECF6\",\"subunitcolor\":\"white\",\"showland\":true,\"showlakes\":true,\"lakecolor\":\"white\"},\"title\":{\"x\":0.05},\"mapbox\":{\"style\":\"light\"}}},\"xaxis\":{\"anchor\":\"y\",\"domain\":[0.0,1.0],\"title\":{\"text\":\"x\"}},\"yaxis\":{\"anchor\":\"x\",\"domain\":[0.0,1.0],\"title\":{\"text\":\"y\"}},\"coloraxis\":{\"colorbar\":{\"title\":{\"text\":\"color\"}},\"colorscale\":[[0.0,\"#0d0887\"],[0.1111111111111111,\"#46039f\"],[0.2222222222222222,\"#7201a8\"],[0.3333333333333333,\"#9c179e\"],[0.4444444444444444,\"#bd3786\"],[0.5555555555555556,\"#d8576b\"],[0.6666666666666666,\"#ed7953\"],[0.7777777777777778,\"#fb9f3a\"],[0.8888888888888888,\"#fdca26\"],[1.0,\"#f0f921\"]]},\"legend\":{\"tracegroupgap\":0},\"margin\":{\"t\":60}},                        {\"responsive\": true}                    ).then(function(){\n",
              "                            \n",
              "var gd = document.getElementById('382aba38-41c9-4e1c-ab26-176ad9cb024f');\n",
              "var x = new MutationObserver(function (mutations, observer) {{\n",
              "        var display = window.getComputedStyle(gd).display;\n",
              "        if (!display || display === 'none') {{\n",
              "            console.log([gd, 'removed!']);\n",
              "            Plotly.purge(gd);\n",
              "            observer.disconnect();\n",
              "        }}\n",
              "}});\n",
              "\n",
              "// Listen for the removal of the full notebook cells\n",
              "var notebookContainer = gd.closest('#notebook-container');\n",
              "if (notebookContainer) {{\n",
              "    x.observe(notebookContainer, {childList: true});\n",
              "}}\n",
              "\n",
              "// Listen for the clearing of the current output cell\n",
              "var outputEl = gd.closest('.output');\n",
              "if (outputEl) {{\n",
              "    x.observe(outputEl, {childList: true});\n",
              "}}\n",
              "\n",
              "                        })                };                            </script>        </div>\n",
              "</body>\n",
              "</html>"
            ]
          },
          "metadata": {}
        }
      ],
      "source": [
        "fig=px.scatter(x=X_reduced_tsne[:,0], y=X_reduced_tsne[:,1], color=y)\n",
        "fig.show()"
      ]
    },
    {
      "cell_type": "markdown",
      "id": "041e973c",
      "metadata": {
        "id": "041e973c"
      },
      "source": [
        "Although the subsample is pretty small, the t-SNE algorithm is able to detect clusters pretty accurately"
      ]
    },
    {
      "cell_type": "markdown",
      "source": [
        "Reference- https://www.geeksforgeeks.org/machine-learning/difference-between-pca-vs-t-sne/\n",
        "\n",
        "Note-ChatGPT was used to help understand the results using WebSearch Feature."
      ],
      "metadata": {
        "id": "fmX90PGeBgfi"
      },
      "id": "fmX90PGeBgfi"
    },
    {
      "cell_type": "markdown",
      "id": "85bb3774",
      "metadata": {
        "id": "85bb3774"
      },
      "source": [
        "## Scaling"
      ]
    },
    {
      "cell_type": "code",
      "execution_count": null,
      "id": "7ab1142e",
      "metadata": {
        "colab": {
          "base_uri": "https://localhost:8080/"
        },
        "id": "7ab1142e",
        "outputId": "1b7fbf45-ef3d-4754-ade3-0316b39d255e"
      },
      "outputs": [
        {
          "output_type": "stream",
          "name": "stdout",
          "text": [
            "(275663, 29) (275663,)\n"
          ]
        }
      ],
      "source": [
        "scaler = StandardScaler()\n",
        "X = scaler.fit_transform(df.drop('Class', axis=1))\n",
        "y = df['Class'].values\n",
        "print(X.shape, y.shape)"
      ]
    },
    {
      "cell_type": "markdown",
      "id": "22e31517",
      "metadata": {
        "id": "22e31517"
      },
      "source": [
        "## Splitting the data"
      ]
    },
    {
      "cell_type": "markdown",
      "id": "6fa74b00",
      "metadata": {
        "id": "6fa74b00"
      },
      "source": [
        "we want to test our models on the original testing set not on the testing set created from GAN. The main goal is to fit the model in the generated data, and test it on the original testing set."
      ]
    },
    {
      "cell_type": "code",
      "execution_count": null,
      "id": "f8303d35",
      "metadata": {
        "id": "f8303d35"
      },
      "outputs": [],
      "source": [
        "# Check for and drop rows with NaN values\n",
        "df.dropna(inplace=True)\n",
        "\n",
        "X = scaler.fit_transform(df.drop('Class', axis=1))\n",
        "y = df['Class'].values\n",
        "\n",
        "X_train, X_test, y_train, y_test = train_test_split(X, y, test_size=0.2, random_state=42, stratify=y)"
      ]
    },
    {
      "cell_type": "markdown",
      "id": "e1beefe0",
      "metadata": {
        "id": "e1beefe0"
      },
      "source": [
        "## Testing baseline model with original data"
      ]
    },
    {
      "cell_type": "code",
      "execution_count": null,
      "id": "IR6UBtvnLx2I",
      "metadata": {
        "id": "IR6UBtvnLx2I"
      },
      "outputs": [],
      "source": [
        "\n",
        "def wasserstein_loss(y_true, y_pred):\n",
        "      return K.mean(y_true * y_pred)\n",
        "\n",
        "import tensorflow as tf\n",
        "from tensorflow.keras.models import Model\n",
        "from tensorflow.keras.layers import Input, Dense, LeakyReLU, Dropout, Flatten\n",
        "from tensorflow.keras.optimizers import RMSprop\n",
        "from tensorflow.keras.initializers import RandomNormal\n",
        "import numpy as np\n",
        "\n",
        "class WGAN:\n",
        "    def __init__(self):\n",
        "        self.latent_dim = 32\n",
        "        self.out_shape = 29\n",
        "        self.n_critic = 5  # Train discriminator more than generator\n",
        "        self.clip_value = 0.01  # weight clipping range\n",
        "        self.batch_size = 64\n",
        "\n",
        "        self.critic = self.build_critic()\n",
        "        self.critic.compile(loss=wasserstein_loss,\n",
        "                            optimizer=RMSprop(learning_rate=0.00005))\n",
        "\n",
        "        self.generator = self.build_generator()\n",
        "\n",
        "        # Combined model\n",
        "        z = Input(shape=(self.latent_dim,))\n",
        "        fake_sample = self.generator(z)\n",
        "        self.critic.trainable = False\n",
        "        valid = self.critic(fake_sample)\n",
        "\n",
        "        self.combined = Model(z, valid)\n",
        "        self.combined.compile(loss=wasserstein_loss, optimizer=RMSprop(learning_rate=0.00005))\n",
        "\n",
        "    def build_generator(self):\n",
        "        model = tf.keras.Sequential()\n",
        "        model.add(Dense(128, input_dim=self.latent_dim))\n",
        "        model.add(LeakyReLU(0.2))\n",
        "        model.add(Dense(256))\n",
        "        model.add(LeakyReLU(0.2))\n",
        "        model.add(Dense(512))\n",
        "        model.add(LeakyReLU(0.2))\n",
        "        model.add(Dense(self.out_shape, activation='tanh'))\n",
        "\n",
        "        z = Input(shape=(self.latent_dim,))\n",
        "        gen_sample = model(z)\n",
        "        return Model(z, gen_sample)\n",
        "\n",
        "\n",
        "\n",
        "    def build_critic(self):\n",
        "        model = tf.keras.Sequential()\n",
        "        model.add(Dense(512, input_dim=self.out_shape))\n",
        "        model.add(LeakyReLU(0.2))\n",
        "        model.add(Dropout(0.4))\n",
        "        model.add(Dense(256))\n",
        "        model.add(LeakyReLU(0.2))\n",
        "        model.add(Dense(1))  # No activation\n",
        "\n",
        "        sample = Input(shape=(self.out_shape,))\n",
        "        validity = model(sample)\n",
        "        return Model(sample, validity)\n",
        "\n",
        "    def train(self, X_train, epochs=10000, batch_size=64, sample_interval=500):\n",
        "        real = -np.ones((batch_size, 1))\n",
        "        fake = np.ones((batch_size, 1))\n",
        "\n",
        "        for epoch in range(epochs):\n",
        "            for _ in range(self.n_critic):\n",
        "                idx = np.random.randint(0, X_train.shape[0], batch_size)\n",
        "                real_samples = X_train[idx]\n",
        "\n",
        "                noise = np.random.normal(0, 1, (batch_size, self.latent_dim))\n",
        "                gen_samples = self.generator.predict(noise, verbose=0)\n",
        "\n",
        "                d_loss_real = self.critic.train_on_batch(real_samples, real)\n",
        "                d_loss_fake = self.critic.train_on_batch(gen_samples, fake)\n",
        "                d_loss = 0.5 * np.add(d_loss_real, d_loss_fake)\n",
        "\n",
        "                # Clip weights\n",
        "                for l in self.critic.layers:\n",
        "                    weights = l.get_weights()\n",
        "                    weights = [np.clip(w, -self.clip_value, self.clip_value) for w in weights]\n",
        "                    l.set_weights(weights)\n",
        "\n",
        "            noise = np.random.normal(0, 1, (batch_size, self.latent_dim))\n",
        "            g_loss = self.combined.train_on_batch(noise, real)\n",
        "\n",
        "            if (epoch + 1) % sample_interval == 0:\n",
        "                print(f\"{epoch+1} [D loss: {d_loss:.4f}] [G loss: {g_loss:.4f}]\")\n"
      ]
    },
    {
      "cell_type": "code",
      "execution_count": null,
      "id": "s8jECRHEJuDv",
      "metadata": {
        "id": "s8jECRHEJuDv",
        "colab": {
          "base_uri": "https://localhost:8080/"
        },
        "outputId": "b860cff8-231c-40a7-d128-28a90016f334"
      },
      "outputs": [
        {
          "output_type": "stream",
          "name": "stderr",
          "text": [
            "/usr/local/lib/python3.11/dist-packages/keras/src/layers/core/dense.py:93: UserWarning:\n",
            "\n",
            "Do not pass an `input_shape`/`input_dim` argument to a layer. When using Sequential models, prefer using an `Input(shape)` object as the first layer in the model instead.\n",
            "\n"
          ]
        }
      ],
      "source": [
        "import numpy as np\n",
        "import pandas as pd\n",
        "from lightgbm import LGBMClassifier\n",
        "from sklearn.metrics import classification_report, confusion_matrix\n",
        "import matplotlib.pyplot as plt\n",
        "import seaborn as sns\n",
        "\n",
        "\n",
        "wgan = WGAN()"
      ]
    },
    {
      "cell_type": "code",
      "execution_count": null,
      "id": "bZMno1XJU86z",
      "metadata": {
        "collapsed": true,
        "id": "bZMno1XJU86z",
        "colab": {
          "base_uri": "https://localhost:8080/"
        },
        "outputId": "2dfa895d-f30c-4b8e-848f-d766d9a6c172"
      },
      "outputs": [
        {
          "output_type": "stream",
          "name": "stdout",
          "text": [
            "100 [D loss: 0.0002] [G loss: -0.0002]\n",
            "200 [D loss: 0.0003] [G loss: -0.0003]\n",
            "300 [D loss: 0.0003] [G loss: -0.0003]\n",
            "400 [D loss: 0.0003] [G loss: -0.0004]\n",
            "500 [D loss: 0.0004] [G loss: -0.0004]\n",
            "600 [D loss: 0.0004] [G loss: -0.0005]\n",
            "700 [D loss: 0.0004] [G loss: -0.0006]\n",
            "800 [D loss: 0.0005] [G loss: -0.0006]\n",
            "900 [D loss: 0.0005] [G loss: -0.0007]\n",
            "1000 [D loss: 0.0005] [G loss: -0.0008]\n"
          ]
        }
      ],
      "source": [
        "\n",
        "wgan.train(X_train, epochs=1000, batch_size=64, sample_interval=100)\n",
        "\n",
        "\n"
      ]
    },
    {
      "cell_type": "code",
      "execution_count": null,
      "id": "NDZln6t_yusN",
      "metadata": {
        "id": "NDZln6t_yusN",
        "colab": {
          "base_uri": "https://localhost:8080/"
        },
        "outputId": "951c7d04-053b-4958-b6c1-f651bb34ab76"
      },
      "outputs": [
        {
          "output_type": "stream",
          "name": "stdout",
          "text": [
            "Synthetic shape: (250000, 29)\n",
            "         V1        V2        V3        V4        V5        V6        V7  \\\n",
            "0  0.071196 -0.762429 -1.071847 -0.188982  0.539312 -0.618071  0.028472   \n",
            "1  0.146046 -0.789078 -0.837576 -0.404383  0.660564 -0.661209  0.250026   \n",
            "2 -0.008517 -0.752129 -0.994592 -0.350977  0.660258 -0.778727 -0.074672   \n",
            "3 -0.170069 -0.672313 -1.103527 -0.434980  0.815784 -0.648658 -0.197980   \n",
            "4 -0.460349 -0.389937 -0.847682 -0.355049  0.610226 -0.525417  0.135129   \n",
            "\n",
            "         V8        V9       V10  ...       V20       V21       V22       V23  \\\n",
            "0  0.780195  0.464223  0.002938  ...  0.271266 -0.318017 -0.482257 -0.306420   \n",
            "1  0.844029  0.517348  0.091894  ...  0.239338 -0.401376 -0.636748 -0.210285   \n",
            "2  0.824036  0.639075  0.115904  ...  0.162997 -0.441568 -0.564290 -0.367985   \n",
            "3  0.770695  0.520502  0.265997  ...  0.380523 -0.307908 -0.561709 -0.426210   \n",
            "4  0.431849  0.389110  0.121235  ...  0.126677 -0.282905 -0.546076 -0.312228   \n",
            "\n",
            "        V24       V25       V26       V27       V28    Amount  \n",
            "0 -0.332875  0.176865  0.123558  0.248025  0.096845  1.291931  \n",
            "1 -0.367010  0.075704  0.120515  0.240624  0.150652  1.353150  \n",
            "2 -0.209249  0.101679 -0.015871  0.253276  0.180811  1.465711  \n",
            "3 -0.360305  0.135980  0.160233  0.210868  0.121090  1.580164  \n",
            "4 -0.268142  0.091569  0.042501  0.154595  0.085453  1.301207  \n",
            "\n",
            "[5 rows x 29 columns]\n",
            "Augmented X_train shape: (470530, 29)\n"
          ]
        }
      ],
      "source": [
        "\n",
        "n_synth = 250_000\n",
        "noise = np.random.normal(0, 1, (n_synth, wgan.latent_dim))\n",
        "gen_samples = wgan.generator.predict(noise, verbose=0)\n",
        "\n",
        "\n",
        "gen_samples = scaler.inverse_transform(gen_samples)\n",
        "print(\"Synthetic shape:\", gen_samples.shape)\n",
        "\n",
        "\n",
        "gen_df = pd.DataFrame(gen_samples, columns=df.drop('Class', axis=1).columns)\n",
        "print(gen_df.head())\n",
        "\n",
        "# Augment training features\n",
        "gen_X_train = np.vstack([X_train, gen_samples])\n",
        "print(\"Augmented X_train shape:\", gen_X_train.shape)\n"
      ]
    },
    {
      "cell_type": "code",
      "execution_count": null,
      "id": "-RrFc5CArlb6",
      "metadata": {
        "id": "-RrFc5CArlb6",
        "colab": {
          "base_uri": "https://localhost:8080/"
        },
        "outputId": "cf1a5433-711a-4537-c510-77f2170ea0fd"
      },
      "outputs": [
        {
          "output_type": "stream",
          "name": "stdout",
          "text": [
            "Augmented y_train shape: (470530, 1)\n"
          ]
        }
      ],
      "source": [
        "# 7) Augment training labels: Generated fraud data → label 1\n",
        "gen_y = np.ones((n_synth, 1), dtype='int32')\n",
        "y_train = y_train.reshape(-1, 1)  # Ensure y_train has shape (n, 1)\n",
        "gen_y_train = np.vstack([y_train, gen_y])\n",
        "print(\"Augmented y_train shape:\", gen_y_train.shape)\n"
      ]
    },
    {
      "cell_type": "markdown",
      "id": "389a59f8",
      "metadata": {
        "id": "389a59f8"
      },
      "source": [
        "## Evaluating the model"
      ]
    },
    {
      "cell_type": "code",
      "execution_count": null,
      "id": "7L8LQvUv7J-5",
      "metadata": {
        "id": "7L8LQvUv7J-5",
        "colab": {
          "base_uri": "https://localhost:8080/",
          "height": 510
        },
        "outputId": "4d4e9ced-bad7-4f60-855a-66d31d2e4527"
      },
      "outputs": [
        {
          "output_type": "display_data",
          "data": {
            "text/plain": [
              "<Figure size 800x600 with 1 Axes>"
            ],
            "image/png": "[encoded data removed]"
          },
          "metadata": {}
        }
      ],
      "source": [
        "from sklearn.decomposition import PCA\n",
        "import matplotlib.pyplot as plt\n",
        "\n",
        "\n",
        "real_fraud = X_train[y_train.ravel() == 1]\n",
        "\n",
        "\n",
        "combined_data = np.vstack([real_fraud, gen_samples])\n",
        "labels = np.array([0] * len(real_fraud) + [1] * len(gen_samples))  # 0=Real, 1=Generated\n",
        "\n",
        "\n",
        "pca = PCA(n_components=2, random_state=42)\n",
        "proj = pca.fit_transform(combined_data)\n",
        "\n",
        "\n",
        "plt.figure(figsize=(8,6))\n",
        "plt.scatter(proj[labels==0, 0], proj[labels==0, 1],\n",
        "            alpha=0.5, label='Real Fraud', s=15)\n",
        "plt.scatter(proj[labels==1, 0], proj[labels==1, 1],\n",
        "            alpha=0.5, label='GAN-Generated Fraud', s=15)\n",
        "plt.xlabel(\"PCA Component 1\")\n",
        "plt.ylabel(\"PCA Component 2\")\n",
        "plt.title(\"Real vs GAN-Generated Fraud Samples (PCA Projection)\")\n",
        "plt.legend()\n",
        "plt.show()\n"
      ]
    },
    {
      "cell_type": "markdown",
      "source": [
        "WGAN generated fraud samples cluster too narrowly, suggesting limited representation of fraud space. Although this can still help classifiers learn some fraud patterns, it risks overfitting to synthetic samples and missing diverse real frauds."
      ],
      "metadata": {
        "id": "LOINLu0iCyiH"
      },
      "id": "LOINLu0iCyiH"
    },
    {
      "cell_type": "markdown",
      "source": [
        "Note- ChatGPT used for understanding results and how discriminator can be used.\n",
        "\n",
        "Reference-https://medium.com/the-research-nest/exploring-gans-to-generate-synthetic-data-ca48f8a4b518"
      ],
      "metadata": {
        "id": "zH8pC3pgC3qK"
      },
      "id": "zH8pC3pgC3qK"
    },
    {
      "cell_type": "code",
      "execution_count": null,
      "id": "le_vv3FI685x",
      "metadata": {
        "id": "le_vv3FI685x",
        "colab": {
          "base_uri": "https://localhost:8080/",
          "height": 727
        },
        "outputId": "dfb115c5-b830-4fb4-ffea-25f52a460d83"
      },
      "outputs": [
        {
          "output_type": "stream",
          "name": "stdout",
          "text": [
            "ROC-AUC: 0.9529\n",
            "PR-AUC:  0.8454\n",
            "\n",
            "Classification Report:\n",
            "              precision    recall  f1-score   support\n",
            "\n",
            "           0     0.9995    0.9999    0.9997     55038\n",
            "           1     0.9589    0.7368    0.8333        95\n",
            "\n",
            "    accuracy                         0.9995     55133\n",
            "   macro avg     0.9792    0.8684    0.9165     55133\n",
            "weighted avg     0.9995    0.9995    0.9995     55133\n",
            "\n"
          ]
        },
        {
          "output_type": "display_data",
          "data": {
            "text/plain": [
              "<Figure size 600x500 with 2 Axes>"
            ],
            "image/png": "[encoded data removed]"
          },
          "metadata": {}
        }
      ],
      "source": [
        "\n",
        "import numpy as np\n",
        "import pandas as pd\n",
        "from sklearn.ensemble import RandomForestClassifier\n",
        "from sklearn.metrics import (\n",
        "    classification_report,\n",
        "    confusion_matrix,\n",
        "    roc_auc_score,\n",
        "    average_precision_score\n",
        ")\n",
        "import matplotlib.pyplot as plt\n",
        "import seaborn as sns\n",
        "\n",
        "\n",
        "gen_y_train = gen_y_train.ravel()\n",
        "\n",
        "\n",
        "rf = RandomForestClassifier(\n",
        "    n_estimators=100,\n",
        "    max_depth=None,\n",
        "    min_samples_leaf=5,\n",
        "    random_state=42,\n",
        "    n_jobs=-1\n",
        ")\n",
        "rf.fit(gen_X_train, gen_y_train)\n",
        "\n",
        "# predict & probability scores on hold-out\n",
        "y_pred = rf.predict(X_test)\n",
        "y_prob = rf.predict_proba(X_test)[:,1]\n",
        "\n",
        "\n",
        "roc  = roc_auc_score(y_test, y_prob)\n",
        "pr   = average_precision_score(y_test, y_prob)\n",
        "\n",
        "print(f\"ROC-AUC: {roc:.4f}\")\n",
        "print(f\"PR-AUC:  {pr:.4f}\\n\")\n",
        "\n",
        "print(\"Classification Report:\")\n",
        "print(classification_report(y_test, y_pred, digits=4))\n",
        "\n",
        "\n",
        "cm = confusion_matrix(y_test, y_pred)\n",
        "plt.figure(figsize=(6,5))\n",
        "sns.heatmap(cm, annot=True, fmt=\"d\", cmap=\"Blues\",\n",
        "            xticklabels=rf.classes_, yticklabels=rf.classes_)\n",
        "plt.xlabel(\"Predicted\")\n",
        "plt.ylabel(\"True\")\n",
        "plt.title(\"Confusion Matrix: Random Forest on CGAN-Augmented Data\")\n",
        "plt.show()"
      ]
    },
    {
      "cell_type": "markdown",
      "source": [
        "WGAN augmentation with Random Forest yields strong fraud detection performance.\n",
        "\n",
        "The very high precision means it rarely mislabels legitimate transactions as fraud (reduces costly false positives).\n",
        "\n",
        "Recall is solid but not perfect → some fraud cases remain undetected, showing that WGAN-generated samples improve coverage but may not capture all fraud distribution complexities.\n",
        "\n",
        "This setup is highly practical: robust ROC-AUC and PR-AUC confirm it balances real-world needs (minimizing false alerts while detecting most fraud)."
      ],
      "metadata": {
        "id": "2MWraX4WCsve"
      },
      "id": "2MWraX4WCsve"
    },
    {
      "cell_type": "markdown",
      "source": [
        "Referneces-[A hybrid deep learning approach with generative adversarial network for credit card fraud detection](https://doi.org/10.3390/technologies12100186), [Improving detection of credit card fraudulent transactions using generative adversarial networks](https://arxiv.org/abs/1907.03355),https://www.kaggle.com/code/shiratorizawa/wcgan, https://www.kaggle.com/code/gauravduttakiit/cc-fraud-detection-gan-random-forest-classifier/"
      ],
      "metadata": {
        "id": "DqGj_M9jC84e"
      },
      "id": "DqGj_M9jC84e"
    },
    {
      "cell_type": "markdown",
      "source": [
        "Note- ChatGPT used for understanding results ."
      ],
      "metadata": {
        "id": "20915JXfDR4m"
      },
      "id": "20915JXfDR4m"
    }
  ],
  "metadata": {
    "accelerator": "GPU",
    "colab": {
      "gpuType": "T4",
      "provenance": []
    },
    "kaggle": {
      "accelerator": "none",
      "dataSources": [
        {
          "datasetId": 310,
          "sourceId": 23498,
          "sourceType": "datasetVersion"
        }
      ],
      "dockerImageVersionId": 30822,
      "isGpuEnabled": false,
      "isInternetEnabled": true,
      "language": "python",
      "sourceType": "notebook"
    },
    "kernelspec": {
      "display_name": "Python 3",
      "name": "python3"
    },
    "language_info": {
      "codemirror_mode": {
        "name": "ipython",
        "version": 3
      },
      "file_extension": ".py",
      "mimetype": "text/x-python",
      "name": "python",
      "nbconvert_exporter": "python",
      "pygments_lexer": "ipython3",
      "version": "3.10.12"
    },
    "papermill": {
      "default_parameters": {},
      "duration": 1846.66889,
      "end_time": "2024-12-30T03:00:04.367340",
      "environment_variables": {},
      "exception": null,
      "input_path": "__notebook__.ipynb",
      "output_path": "__notebook__.ipynb",
      "parameters": {},
      "start_time": "2024-12-30T02:29:17.698450",
      "version": "2.6.0"
    }
  },
  "nbformat": 4,
  "nbformat_minor": 5
}