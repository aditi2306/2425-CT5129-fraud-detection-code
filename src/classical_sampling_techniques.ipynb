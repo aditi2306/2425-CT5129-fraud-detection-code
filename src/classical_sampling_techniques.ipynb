{
  "cells": [
    {
      "cell_type": "markdown",
      "source": [
        "#Classical Sampling Techniques"
      ],
      "metadata": {
        "id": "1IbuXYAd-0ts"
      },
      "id": "1IbuXYAd-0ts"
    },
    {
      "cell_type": "markdown",
      "id": "95b87982",
      "metadata": {
        "id": "95b87982"
      },
      "source": [
        "## Importing Libraries"
      ]
    },
    {
      "cell_type": "code",
      "execution_count": 1,
      "id": "cb2d1424",
      "metadata": {
        "id": "cb2d1424"
      },
      "outputs": [],
      "source": [
        "import os\n",
        "import keras\n",
        "import numpy as np\n",
        "import pandas as pd\n",
        "import seaborn as sns\n",
        "import plotly.express as px\n",
        "import plotly.graph_objects as go\n",
        "import matplotlib.pyplot as plt\n",
        "import lightgbm as lgb\n",
        "from sklearn.model_selection import train_test_split\n",
        "from sklearn.preprocessing import QuantileTransformer\n",
        "from sklearn.preprocessing import StandardScaler, MinMaxScaler\n",
        "from tensorflow.keras.layers import Input, Dense, Reshape, Flatten, Dropout, multiply, Concatenate\n",
        "from tensorflow.keras.layers import BatchNormalization, Activation, Embedding, ZeroPadding2D, LeakyReLU\n",
        "from tensorflow.keras.models import Sequential, Model\n",
        "from tensorflow.keras.optimizers import Adam, RMSprop\n",
        "from tensorflow.keras.initializers import RandomNormal\n",
        "import tensorflow.keras.backend as K\n",
        "from sklearn.utils import shuffle\n",
        "from sklearn.metrics import precision_score, recall_score, f1_score,\\\n",
        "                            accuracy_score, balanced_accuracy_score,classification_report,\\\n",
        "                            confusion_matrix\n",
        "from imblearn.over_sampling import SMOTE, ADASYN, BorderlineSMOTE\n",
        "from sklearn.linear_model import LogisticRegression\n",
        "from sklearn.metrics import classification_report, confusion_matrix\n",
        "from sklearn.metrics import roc_auc_score, average_precision_score"
      ]
    },
    {
      "cell_type": "code",
      "execution_count": 2,
      "id": "QgenRhZYJcmv",
      "metadata": {
        "id": "QgenRhZYJcmv"
      },
      "outputs": [],
      "source": [
        "import tensorflow as tf\n",
        "tf.config.run_functions_eagerly(True)\n"
      ]
    },
    {
      "cell_type": "markdown",
      "id": "90a60195",
      "metadata": {
        "id": "90a60195"
      },
      "source": [
        "## EDA"
      ]
    },
    {
      "cell_type": "code",
      "execution_count": 3,
      "id": "79bf21d7",
      "metadata": {
        "colab": {
          "base_uri": "https://localhost:8080/"
        },
        "id": "79bf21d7",
        "outputId": "b2fcad31-9a69-4a4e-9fe8-4b7b1de0d5f8"
      },
      "outputs": [
        {
          "output_type": "stream",
          "name": "stdout",
          "text": [
            "<class 'pandas.core.frame.DataFrame'>\n",
            "RangeIndex: 284807 entries, 0 to 284806\n",
            "Data columns (total 30 columns):\n",
            " #   Column  Non-Null Count   Dtype  \n",
            "---  ------  --------------   -----  \n",
            " 0   V1      284807 non-null  float64\n",
            " 1   V2      284807 non-null  float64\n",
            " 2   V3      284807 non-null  float64\n",
            " 3   V4      284807 non-null  float64\n",
            " 4   V5      284807 non-null  float64\n",
            " 5   V6      284807 non-null  float64\n",
            " 6   V7      284807 non-null  float64\n",
            " 7   V8      284807 non-null  float64\n",
            " 8   V9      284807 non-null  float64\n",
            " 9   V10     284807 non-null  float64\n",
            " 10  V11     284807 non-null  float64\n",
            " 11  V12     284807 non-null  float64\n",
            " 12  V13     284807 non-null  float64\n",
            " 13  V14     284807 non-null  float64\n",
            " 14  V15     284807 non-null  float64\n",
            " 15  V16     284807 non-null  float64\n",
            " 16  V17     284807 non-null  float64\n",
            " 17  V18     284807 non-null  float64\n",
            " 18  V19     284807 non-null  float64\n",
            " 19  V20     284807 non-null  float64\n",
            " 20  V21     284807 non-null  float64\n",
            " 21  V22     284807 non-null  float64\n",
            " 22  V23     284807 non-null  float64\n",
            " 23  V24     284807 non-null  float64\n",
            " 24  V25     284807 non-null  float64\n",
            " 25  V26     284807 non-null  float64\n",
            " 26  V27     284807 non-null  float64\n",
            " 27  V28     284807 non-null  float64\n",
            " 28  Amount  284807 non-null  float64\n",
            " 29  Class   284807 non-null  int64  \n",
            "dtypes: float64(29), int64(1)\n",
            "memory usage: 65.2 MB\n"
          ]
        }
      ],
      "source": [
        "df=pd.read_csv('./creditcard.csv')\n",
        "df=df.drop('Time',axis=1)\n",
        "df.head()\n",
        "df.info()"
      ]
    },
    {
      "cell_type": "markdown",
      "id": "a828e2f8",
      "metadata": {
        "id": "a828e2f8"
      },
      "source": [
        "PCA Transformation: The description of the data says that all the features went through a PCA transformation (Except for time and amount).  \n",
        "Scaling: Keep in mind that in order to implement a PCA transformation features need to be previously scaled."
      ]
    },
    {
      "cell_type": "code",
      "execution_count": 4,
      "id": "b13394f3",
      "metadata": {
        "colab": {
          "base_uri": "https://localhost:8080/",
          "height": 350
        },
        "id": "b13394f3",
        "outputId": "2b724690-19c3-495f-eeb2-5962266219bb"
      },
      "outputs": [
        {
          "output_type": "execute_result",
          "data": {
            "text/plain": [
              "                 V1            V2            V3            V4            V5  \\\n",
              "count  2.848070e+05  2.848070e+05  2.848070e+05  2.848070e+05  2.848070e+05   \n",
              "mean   1.168375e-15  3.416908e-16 -1.379537e-15  2.074095e-15  9.604066e-16   \n",
              "std    1.958696e+00  1.651309e+00  1.516255e+00  1.415869e+00  1.380247e+00   \n",
              "min   -5.640751e+01 -7.271573e+01 -4.832559e+01 -5.683171e+00 -1.137433e+02   \n",
              "25%   -9.203734e-01 -5.985499e-01 -8.903648e-01 -8.486401e-01 -6.915971e-01   \n",
              "50%    1.810880e-02  6.548556e-02  1.798463e-01 -1.984653e-02 -5.433583e-02   \n",
              "75%    1.315642e+00  8.037239e-01  1.027196e+00  7.433413e-01  6.119264e-01   \n",
              "max    2.454930e+00  2.205773e+01  9.382558e+00  1.687534e+01  3.480167e+01   \n",
              "\n",
              "                 V6            V7            V8            V9           V10  \\\n",
              "count  2.848070e+05  2.848070e+05  2.848070e+05  2.848070e+05  2.848070e+05   \n",
              "mean   1.487313e-15 -5.556467e-16  1.213481e-16 -2.406331e-15  2.239053e-15   \n",
              "std    1.332271e+00  1.237094e+00  1.194353e+00  1.098632e+00  1.088850e+00   \n",
              "min   -2.616051e+01 -4.355724e+01 -7.321672e+01 -1.343407e+01 -2.458826e+01   \n",
              "25%   -7.682956e-01 -5.540759e-01 -2.086297e-01 -6.430976e-01 -5.354257e-01   \n",
              "50%   -2.741871e-01  4.010308e-02  2.235804e-02 -5.142873e-02 -9.291738e-02   \n",
              "75%    3.985649e-01  5.704361e-01  3.273459e-01  5.971390e-01  4.539234e-01   \n",
              "max    7.330163e+01  1.205895e+02  2.000721e+01  1.559499e+01  2.374514e+01   \n",
              "\n",
              "       ...           V21           V22           V23           V24  \\\n",
              "count  ...  2.848070e+05  2.848070e+05  2.848070e+05  2.848070e+05   \n",
              "mean   ...  1.654067e-16 -3.568593e-16  2.578648e-16  4.473266e-15   \n",
              "std    ...  7.345240e-01  7.257016e-01  6.244603e-01  6.056471e-01   \n",
              "min    ... -3.483038e+01 -1.093314e+01 -4.480774e+01 -2.836627e+00   \n",
              "25%    ... -2.283949e-01 -5.423504e-01 -1.618463e-01 -3.545861e-01   \n",
              "50%    ... -2.945017e-02  6.781943e-03 -1.119293e-02  4.097606e-02   \n",
              "75%    ...  1.863772e-01  5.285536e-01  1.476421e-01  4.395266e-01   \n",
              "max    ...  2.720284e+01  1.050309e+01  2.252841e+01  4.584549e+00   \n",
              "\n",
              "                V25           V26           V27           V28         Amount  \\\n",
              "count  2.848070e+05  2.848070e+05  2.848070e+05  2.848070e+05  284807.000000   \n",
              "mean   5.340915e-16  1.683437e-15 -3.660091e-16 -1.227390e-16      88.349619   \n",
              "std    5.212781e-01  4.822270e-01  4.036325e-01  3.300833e-01     250.120109   \n",
              "min   -1.029540e+01 -2.604551e+00 -2.256568e+01 -1.543008e+01       0.000000   \n",
              "25%   -3.171451e-01 -3.269839e-01 -7.083953e-02 -5.295979e-02       5.600000   \n",
              "50%    1.659350e-02 -5.213911e-02  1.342146e-03  1.124383e-02      22.000000   \n",
              "75%    3.507156e-01  2.409522e-01  9.104512e-02  7.827995e-02      77.165000   \n",
              "max    7.519589e+00  3.517346e+00  3.161220e+01  3.384781e+01   25691.160000   \n",
              "\n",
              "               Class  \n",
              "count  284807.000000  \n",
              "mean        0.001727  \n",
              "std         0.041527  \n",
              "min         0.000000  \n",
              "25%         0.000000  \n",
              "50%         0.000000  \n",
              "75%         0.000000  \n",
              "max         1.000000  \n",
              "\n",
              "[8 rows x 30 columns]"
            ],
            "text/html": [
              "\n",
              "  <div id=\"df-5badba43-809e-477a-88c0-f7fb0fcf7bbc\" class=\"colab-df-container\">\n",
              "    <div>\n",
              "<style scoped>\n",
              "    .dataframe tbody tr th:only-of-type {\n",
              "        vertical-align: middle;\n",
              "    }\n",
              "\n",
              "    .dataframe tbody tr th {\n",
              "        vertical-align: top;\n",
              "    }\n",
              "\n",
              "    .dataframe thead th {\n",
              "        text-align: right;\n",
              "    }\n",
              "</style>\n",
              "<table border=\"1\" class=\"dataframe\">\n",
              "  <thead>\n",
              "    <tr style=\"text-align: right;\">\n",
              "      <th></th>\n",
              "      <th>V1</th>\n",
              "      <th>V2</th>\n",
              "      <th>V3</th>\n",
              "      <th>V4</th>\n",
              "      <th>V5</th>\n",
              "      <th>V6</th>\n",
              "      <th>V7</th>\n",
              "      <th>V8</th>\n",
              "      <th>V9</th>\n",
              "      <th>V10</th>\n",
              "      <th>...</th>\n",
              "      <th>V21</th>\n",
              "      <th>V22</th>\n",
              "      <th>V23</th>\n",
              "      <th>V24</th>\n",
              "      <th>V25</th>\n",
              "      <th>V26</th>\n",
              "      <th>V27</th>\n",
              "      <th>V28</th>\n",
              "      <th>Amount</th>\n",
              "      <th>Class</th>\n",
              "    </tr>\n",
              "  </thead>\n",
              "  <tbody>\n",
              "    <tr>\n",
              "      <th>count</th>\n",
              "      <td>2.848070e+05</td>\n",
              "      <td>2.848070e+05</td>\n",
              "      <td>2.848070e+05</td>\n",
              "      <td>2.848070e+05</td>\n",
              "      <td>2.848070e+05</td>\n",
              "      <td>2.848070e+05</td>\n",
              "      <td>2.848070e+05</td>\n",
              "      <td>2.848070e+05</td>\n",
              "      <td>2.848070e+05</td>\n",
              "      <td>2.848070e+05</td>\n",
              "      <td>...</td>\n",
              "      <td>2.848070e+05</td>\n",
              "      <td>2.848070e+05</td>\n",
              "      <td>2.848070e+05</td>\n",
              "      <td>2.848070e+05</td>\n",
              "      <td>2.848070e+05</td>\n",
              "      <td>2.848070e+05</td>\n",
              "      <td>2.848070e+05</td>\n",
              "      <td>2.848070e+05</td>\n",
              "      <td>284807.000000</td>\n",
              "      <td>284807.000000</td>\n",
              "    </tr>\n",
              "    <tr>\n",
              "      <th>mean</th>\n",
              "      <td>1.168375e-15</td>\n",
              "      <td>3.416908e-16</td>\n",
              "      <td>-1.379537e-15</td>\n",
              "      <td>2.074095e-15</td>\n",
              "      <td>9.604066e-16</td>\n",
              "      <td>1.487313e-15</td>\n",
              "      <td>-5.556467e-16</td>\n",
              "      <td>1.213481e-16</td>\n",
              "      <td>-2.406331e-15</td>\n",
              "      <td>2.239053e-15</td>\n",
              "      <td>...</td>\n",
              "      <td>1.654067e-16</td>\n",
              "      <td>-3.568593e-16</td>\n",
              "      <td>2.578648e-16</td>\n",
              "      <td>4.473266e-15</td>\n",
              "      <td>5.340915e-16</td>\n",
              "      <td>1.683437e-15</td>\n",
              "      <td>-3.660091e-16</td>\n",
              "      <td>-1.227390e-16</td>\n",
              "      <td>88.349619</td>\n",
              "      <td>0.001727</td>\n",
              "    </tr>\n",
              "    <tr>\n",
              "      <th>std</th>\n",
              "      <td>1.958696e+00</td>\n",
              "      <td>1.651309e+00</td>\n",
              "      <td>1.516255e+00</td>\n",
              "      <td>1.415869e+00</td>\n",
              "      <td>1.380247e+00</td>\n",
              "      <td>1.332271e+00</td>\n",
              "      <td>1.237094e+00</td>\n",
              "      <td>1.194353e+00</td>\n",
              "      <td>1.098632e+00</td>\n",
              "      <td>1.088850e+00</td>\n",
              "      <td>...</td>\n",
              "      <td>7.345240e-01</td>\n",
              "      <td>7.257016e-01</td>\n",
              "      <td>6.244603e-01</td>\n",
              "      <td>6.056471e-01</td>\n",
              "      <td>5.212781e-01</td>\n",
              "      <td>4.822270e-01</td>\n",
              "      <td>4.036325e-01</td>\n",
              "      <td>3.300833e-01</td>\n",
              "      <td>250.120109</td>\n",
              "      <td>0.041527</td>\n",
              "    </tr>\n",
              "    <tr>\n",
              "      <th>min</th>\n",
              "      <td>-5.640751e+01</td>\n",
              "      <td>-7.271573e+01</td>\n",
              "      <td>-4.832559e+01</td>\n",
              "      <td>-5.683171e+00</td>\n",
              "      <td>-1.137433e+02</td>\n",
              "      <td>-2.616051e+01</td>\n",
              "      <td>-4.355724e+01</td>\n",
              "      <td>-7.321672e+01</td>\n",
              "      <td>-1.343407e+01</td>\n",
              "      <td>-2.458826e+01</td>\n",
              "      <td>...</td>\n",
              "      <td>-3.483038e+01</td>\n",
              "      <td>-1.093314e+01</td>\n",
              "      <td>-4.480774e+01</td>\n",
              "      <td>-2.836627e+00</td>\n",
              "      <td>-1.029540e+01</td>\n",
              "      <td>-2.604551e+00</td>\n",
              "      <td>-2.256568e+01</td>\n",
              "      <td>-1.543008e+01</td>\n",
              "      <td>0.000000</td>\n",
              "      <td>0.000000</td>\n",
              "    </tr>\n",
              "    <tr>\n",
              "      <th>25%</th>\n",
              "      <td>-9.203734e-01</td>\n",
              "      <td>-5.985499e-01</td>\n",
              "      <td>-8.903648e-01</td>\n",
              "      <td>-8.486401e-01</td>\n",
              "      <td>-6.915971e-01</td>\n",
              "      <td>-7.682956e-01</td>\n",
              "      <td>-5.540759e-01</td>\n",
              "      <td>-2.086297e-01</td>\n",
              "      <td>-6.430976e-01</td>\n",
              "      <td>-5.354257e-01</td>\n",
              "      <td>...</td>\n",
              "      <td>-2.283949e-01</td>\n",
              "      <td>-5.423504e-01</td>\n",
              "      <td>-1.618463e-01</td>\n",
              "      <td>-3.545861e-01</td>\n",
              "      <td>-3.171451e-01</td>\n",
              "      <td>-3.269839e-01</td>\n",
              "      <td>-7.083953e-02</td>\n",
              "      <td>-5.295979e-02</td>\n",
              "      <td>5.600000</td>\n",
              "      <td>0.000000</td>\n",
              "    </tr>\n",
              "    <tr>\n",
              "      <th>50%</th>\n",
              "      <td>1.810880e-02</td>\n",
              "      <td>6.548556e-02</td>\n",
              "      <td>1.798463e-01</td>\n",
              "      <td>-1.984653e-02</td>\n",
              "      <td>-5.433583e-02</td>\n",
              "      <td>-2.741871e-01</td>\n",
              "      <td>4.010308e-02</td>\n",
              "      <td>2.235804e-02</td>\n",
              "      <td>-5.142873e-02</td>\n",
              "      <td>-9.291738e-02</td>\n",
              "      <td>...</td>\n",
              "      <td>-2.945017e-02</td>\n",
              "      <td>6.781943e-03</td>\n",
              "      <td>-1.119293e-02</td>\n",
              "      <td>4.097606e-02</td>\n",
              "      <td>1.659350e-02</td>\n",
              "      <td>-5.213911e-02</td>\n",
              "      <td>1.342146e-03</td>\n",
              "      <td>1.124383e-02</td>\n",
              "      <td>22.000000</td>\n",
              "      <td>0.000000</td>\n",
              "    </tr>\n",
              "    <tr>\n",
              "      <th>75%</th>\n",
              "      <td>1.315642e+00</td>\n",
              "      <td>8.037239e-01</td>\n",
              "      <td>1.027196e+00</td>\n",
              "      <td>7.433413e-01</td>\n",
              "      <td>6.119264e-01</td>\n",
              "      <td>3.985649e-01</td>\n",
              "      <td>5.704361e-01</td>\n",
              "      <td>3.273459e-01</td>\n",
              "      <td>5.971390e-01</td>\n",
              "      <td>4.539234e-01</td>\n",
              "      <td>...</td>\n",
              "      <td>1.863772e-01</td>\n",
              "      <td>5.285536e-01</td>\n",
              "      <td>1.476421e-01</td>\n",
              "      <td>4.395266e-01</td>\n",
              "      <td>3.507156e-01</td>\n",
              "      <td>2.409522e-01</td>\n",
              "      <td>9.104512e-02</td>\n",
              "      <td>7.827995e-02</td>\n",
              "      <td>77.165000</td>\n",
              "      <td>0.000000</td>\n",
              "    </tr>\n",
              "    <tr>\n",
              "      <th>max</th>\n",
              "      <td>2.454930e+00</td>\n",
              "      <td>2.205773e+01</td>\n",
              "      <td>9.382558e+00</td>\n",
              "      <td>1.687534e+01</td>\n",
              "      <td>3.480167e+01</td>\n",
              "      <td>7.330163e+01</td>\n",
              "      <td>1.205895e+02</td>\n",
              "      <td>2.000721e+01</td>\n",
              "      <td>1.559499e+01</td>\n",
              "      <td>2.374514e+01</td>\n",
              "      <td>...</td>\n",
              "      <td>2.720284e+01</td>\n",
              "      <td>1.050309e+01</td>\n",
              "      <td>2.252841e+01</td>\n",
              "      <td>4.584549e+00</td>\n",
              "      <td>7.519589e+00</td>\n",
              "      <td>3.517346e+00</td>\n",
              "      <td>3.161220e+01</td>\n",
              "      <td>3.384781e+01</td>\n",
              "      <td>25691.160000</td>\n",
              "      <td>1.000000</td>\n",
              "    </tr>\n",
              "  </tbody>\n",
              "</table>\n",
              "<p>8 rows × 30 columns</p>\n",
              "</div>\n",
              "    <div class=\"colab-df-buttons\">\n",
              "\n",
              "  <div class=\"colab-df-container\">\n",
              "    <button class=\"colab-df-convert\" onclick=\"convertToInteractive('df-5badba43-809e-477a-88c0-f7fb0fcf7bbc')\"\n",
              "            title=\"Convert this dataframe to an interactive table.\"\n",
              "            style=\"display:none;\">\n",
              "\n",
              "  <svg xmlns=\"http://www.w3.org/2000/svg\" height=\"24px\" viewBox=\"0 -960 960 960\">\n",
              "    <path d=\"M120-120v-720h720v720H120Zm60-500h600v-160H180v160Zm220 220h160v-160H400v160Zm0 220h160v-160H400v160ZM180-400h160v-160H180v160Zm440 0h160v-160H620v160ZM180-180h160v-160H180v160Zm440 0h160v-160H620v160Z\"/>\n",
              "  </svg>\n",
              "    </button>\n",
              "\n",
              "  <style>\n",
              "    .colab-df-container {\n",
              "      display:flex;\n",
              "      gap: 12px;\n",
              "    }\n",
              "\n",
              "    .colab-df-convert {\n",
              "      background-color: #E8F0FE;\n",
              "      border: none;\n",
              "      border-radius: 50%;\n",
              "      cursor: pointer;\n",
              "      display: none;\n",
              "      fill: #1967D2;\n",
              "      height: 32px;\n",
              "      padding: 0 0 0 0;\n",
              "      width: 32px;\n",
              "    }\n",
              "\n",
              "    .colab-df-convert:hover {\n",
              "      background-color: #E2EBFA;\n",
              "      box-shadow: 0px 1px 2px rgba(60, 64, 67, 0.3), 0px 1px 3px 1px rgba(60, 64, 67, 0.15);\n",
              "      fill: #174EA6;\n",
              "    }\n",
              "\n",
              "    .colab-df-buttons div {\n",
              "      margin-bottom: 4px;\n",
              "    }\n",
              "\n",
              "    [theme=dark] .colab-df-convert {\n",
              "      background-color: #3B4455;\n",
              "      fill: #D2E3FC;\n",
              "    }\n",
              "\n",
              "    [theme=dark] .colab-df-convert:hover {\n",
              "      background-color: #434B5C;\n",
              "      box-shadow: 0px 1px 3px 1px rgba(0, 0, 0, 0.15);\n",
              "      filter: drop-shadow(0px 1px 2px rgba(0, 0, 0, 0.3));\n",
              "      fill: #FFFFFF;\n",
              "    }\n",
              "  </style>\n",
              "\n",
              "    <script>\n",
              "      const buttonEl =\n",
              "        document.querySelector('#df-5badba43-809e-477a-88c0-f7fb0fcf7bbc button.colab-df-convert');\n",
              "      buttonEl.style.display =\n",
              "        google.colab.kernel.accessAllowed ? 'block' : 'none';\n",
              "\n",
              "      async function convertToInteractive(key) {\n",
              "        const element = document.querySelector('#df-5badba43-809e-477a-88c0-f7fb0fcf7bbc');\n",
              "        const dataTable =\n",
              "          await google.colab.kernel.invokeFunction('convertToInteractive',\n",
              "                                                    [key], {});\n",
              "        if (!dataTable) return;\n",
              "\n",
              "        const docLinkHtml = 'Like what you see? Visit the ' +\n",
              "          '<a target=\"_blank\" href=https://colab.research.google.com/notebooks/data_table.ipynb>data table notebook</a>'\n",
              "          + ' to learn more about interactive tables.';\n",
              "        element.innerHTML = '';\n",
              "        dataTable['output_type'] = 'display_data';\n",
              "        await google.colab.output.renderOutput(dataTable, element);\n",
              "        const docLink = document.createElement('div');\n",
              "        docLink.innerHTML = docLinkHtml;\n",
              "        element.appendChild(docLink);\n",
              "      }\n",
              "    </script>\n",
              "  </div>\n",
              "\n",
              "\n",
              "    <div id=\"df-3cc0d8bc-e5af-4db7-88bf-0506baa363db\">\n",
              "      <button class=\"colab-df-quickchart\" onclick=\"quickchart('df-3cc0d8bc-e5af-4db7-88bf-0506baa363db')\"\n",
              "                title=\"Suggest charts\"\n",
              "                style=\"display:none;\">\n",
              "\n",
              "<svg xmlns=\"http://www.w3.org/2000/svg\" height=\"24px\"viewBox=\"0 0 24 24\"\n",
              "     width=\"24px\">\n",
              "    <g>\n",
              "        <path d=\"M19 3H5c-1.1 0-2 .9-2 2v14c0 1.1.9 2 2 2h14c1.1 0 2-.9 2-2V5c0-1.1-.9-2-2-2zM9 17H7v-7h2v7zm4 0h-2V7h2v10zm4 0h-2v-4h2v4z\"/>\n",
              "    </g>\n",
              "</svg>\n",
              "      </button>\n",
              "\n",
              "<style>\n",
              "  .colab-df-quickchart {\n",
              "      --bg-color: #E8F0FE;\n",
              "      --fill-color: #1967D2;\n",
              "      --hover-bg-color: #E2EBFA;\n",
              "      --hover-fill-color: #174EA6;\n",
              "      --disabled-fill-color: #AAA;\n",
              "      --disabled-bg-color: #DDD;\n",
              "  }\n",
              "\n",
              "  [theme=dark] .colab-df-quickchart {\n",
              "      --bg-color: #3B4455;\n",
              "      --fill-color: #D2E3FC;\n",
              "      --hover-bg-color: #434B5C;\n",
              "      --hover-fill-color: #FFFFFF;\n",
              "      --disabled-bg-color: #3B4455;\n",
              "      --disabled-fill-color: #666;\n",
              "  }\n",
              "\n",
              "  .colab-df-quickchart {\n",
              "    background-color: var(--bg-color);\n",
              "    border: none;\n",
              "    border-radius: 50%;\n",
              "    cursor: pointer;\n",
              "    display: none;\n",
              "    fill: var(--fill-color);\n",
              "    height: 32px;\n",
              "    padding: 0;\n",
              "    width: 32px;\n",
              "  }\n",
              "\n",
              "  .colab-df-quickchart:hover {\n",
              "    background-color: var(--hover-bg-color);\n",
              "    box-shadow: 0 1px 2px rgba(60, 64, 67, 0.3), 0 1px 3px 1px rgba(60, 64, 67, 0.15);\n",
              "    fill: var(--button-hover-fill-color);\n",
              "  }\n",
              "\n",
              "  .colab-df-quickchart-complete:disabled,\n",
              "  .colab-df-quickchart-complete:disabled:hover {\n",
              "    background-color: var(--disabled-bg-color);\n",
              "    fill: var(--disabled-fill-color);\n",
              "    box-shadow: none;\n",
              "  }\n",
              "\n",
              "  .colab-df-spinner {\n",
              "    border: 2px solid var(--fill-color);\n",
              "    border-color: transparent;\n",
              "    border-bottom-color: var(--fill-color);\n",
              "    animation:\n",
              "      spin 1s steps(1) infinite;\n",
              "  }\n",
              "\n",
              "  @keyframes spin {\n",
              "    0% {\n",
              "      border-color: transparent;\n",
              "      border-bottom-color: var(--fill-color);\n",
              "      border-left-color: var(--fill-color);\n",
              "    }\n",
              "    20% {\n",
              "      border-color: transparent;\n",
              "      border-left-color: var(--fill-color);\n",
              "      border-top-color: var(--fill-color);\n",
              "    }\n",
              "    30% {\n",
              "      border-color: transparent;\n",
              "      border-left-color: var(--fill-color);\n",
              "      border-top-color: var(--fill-color);\n",
              "      border-right-color: var(--fill-color);\n",
              "    }\n",
              "    40% {\n",
              "      border-color: transparent;\n",
              "      border-right-color: var(--fill-color);\n",
              "      border-top-color: var(--fill-color);\n",
              "    }\n",
              "    60% {\n",
              "      border-color: transparent;\n",
              "      border-right-color: var(--fill-color);\n",
              "    }\n",
              "    80% {\n",
              "      border-color: transparent;\n",
              "      border-right-color: var(--fill-color);\n",
              "      border-bottom-color: var(--fill-color);\n",
              "    }\n",
              "    90% {\n",
              "      border-color: transparent;\n",
              "      border-bottom-color: var(--fill-color);\n",
              "    }\n",
              "  }\n",
              "</style>\n",
              "\n",
              "      <script>\n",
              "        async function quickchart(key) {\n",
              "          const quickchartButtonEl =\n",
              "            document.querySelector('#' + key + ' button');\n",
              "          quickchartButtonEl.disabled = true;  // To prevent multiple clicks.\n",
              "          quickchartButtonEl.classList.add('colab-df-spinner');\n",
              "          try {\n",
              "            const charts = await google.colab.kernel.invokeFunction(\n",
              "                'suggestCharts', [key], {});\n",
              "          } catch (error) {\n",
              "            console.error('Error during call to suggestCharts:', error);\n",
              "          }\n",
              "          quickchartButtonEl.classList.remove('colab-df-spinner');\n",
              "          quickchartButtonEl.classList.add('colab-df-quickchart-complete');\n",
              "        }\n",
              "        (() => {\n",
              "          let quickchartButtonEl =\n",
              "            document.querySelector('#df-3cc0d8bc-e5af-4db7-88bf-0506baa363db button');\n",
              "          quickchartButtonEl.style.display =\n",
              "            google.colab.kernel.accessAllowed ? 'block' : 'none';\n",
              "        })();\n",
              "      </script>\n",
              "    </div>\n",
              "\n",
              "    </div>\n",
              "  </div>\n"
            ],
            "application/vnd.google.colaboratory.intrinsic+json": {
              "type": "dataframe"
            }
          },
          "metadata": {},
          "execution_count": 4
        }
      ],
      "source": [
        "df.describe()"
      ]
    },
    {
      "cell_type": "code",
      "execution_count": 5,
      "id": "306b3e6f",
      "metadata": {
        "colab": {
          "base_uri": "https://localhost:8080/"
        },
        "id": "306b3e6f",
        "outputId": "cb037f22-09bd-4366-fd80-c67897f279a6"
      },
      "outputs": [
        {
          "output_type": "stream",
          "name": "stdout",
          "text": [
            "Dataset has 9144 duplicate rows\n"
          ]
        }
      ],
      "source": [
        "# checking for duplicate values\n",
        "print(f\"Dataset has {df.duplicated().sum()} duplicate rows\")\n",
        "# dropping duplicate rows\n",
        "df.drop_duplicates(inplace=True)"
      ]
    },
    {
      "cell_type": "code",
      "execution_count": 6,
      "id": "8b2f4c06",
      "metadata": {
        "colab": {
          "base_uri": "https://localhost:8080/"
        },
        "id": "8b2f4c06",
        "outputId": "2456b9b0-1b13-4d0c-e6cc-2ee5667ca4ba"
      },
      "outputs": [
        {
          "output_type": "stream",
          "name": "stdout",
          "text": [
            "<class 'pandas.core.frame.DataFrame'>\n",
            "Index: 275663 entries, 0 to 284806\n",
            "Data columns (total 30 columns):\n",
            " #   Column  Non-Null Count   Dtype  \n",
            "---  ------  --------------   -----  \n",
            " 0   V1      275663 non-null  float64\n",
            " 1   V2      275663 non-null  float64\n",
            " 2   V3      275663 non-null  float64\n",
            " 3   V4      275663 non-null  float64\n",
            " 4   V5      275663 non-null  float64\n",
            " 5   V6      275663 non-null  float64\n",
            " 6   V7      275663 non-null  float64\n",
            " 7   V8      275663 non-null  float64\n",
            " 8   V9      275663 non-null  float64\n",
            " 9   V10     275663 non-null  float64\n",
            " 10  V11     275663 non-null  float64\n",
            " 11  V12     275663 non-null  float64\n",
            " 12  V13     275663 non-null  float64\n",
            " 13  V14     275663 non-null  float64\n",
            " 14  V15     275663 non-null  float64\n",
            " 15  V16     275663 non-null  float64\n",
            " 16  V17     275663 non-null  float64\n",
            " 17  V18     275663 non-null  float64\n",
            " 18  V19     275663 non-null  float64\n",
            " 19  V20     275663 non-null  float64\n",
            " 20  V21     275663 non-null  float64\n",
            " 21  V22     275663 non-null  float64\n",
            " 22  V23     275663 non-null  float64\n",
            " 23  V24     275663 non-null  float64\n",
            " 24  V25     275663 non-null  float64\n",
            " 25  V26     275663 non-null  float64\n",
            " 26  V27     275663 non-null  float64\n",
            " 27  V28     275663 non-null  float64\n",
            " 28  Amount  275663 non-null  float64\n",
            " 29  Class   275663 non-null  int64  \n",
            "dtypes: float64(29), int64(1)\n",
            "memory usage: 65.2 MB\n"
          ]
        }
      ],
      "source": [
        "df.info()"
      ]
    },
    {
      "cell_type": "markdown",
      "id": "c5128908",
      "metadata": {
        "id": "c5128908"
      },
      "source": [
        "There is no null values"
      ]
    },
    {
      "cell_type": "code",
      "execution_count": 7,
      "id": "9d6c996a",
      "metadata": {
        "colab": {
          "base_uri": "https://localhost:8080/"
        },
        "id": "9d6c996a",
        "outputId": "3a5157a9-4892-4bb6-ed91-1b985d8f6327"
      },
      "outputs": [
        {
          "output_type": "stream",
          "name": "stdout",
          "text": [
            "No Frauds 99.83 % of the dataset\n",
            "Frauds 0.17 % of the dataset\n"
          ]
        }
      ],
      "source": [
        "print('No Frauds', round(df['Class'].value_counts()[0]/len(df) * 100,2), '% of the dataset')\n",
        "print('Frauds', round(df['Class'].value_counts()[1]/len(df) * 100,2), '% of the dataset')"
      ]
    },
    {
      "cell_type": "code",
      "execution_count": 8,
      "id": "d88ad047",
      "metadata": {
        "colab": {
          "base_uri": "https://localhost:8080/",
          "height": 468
        },
        "id": "d88ad047",
        "outputId": "2ef7fcfc-c80f-4c22-e031-821e9a012004"
      },
      "outputs": [
        {
          "output_type": "execute_result",
          "data": {
            "text/plain": [
              "<Axes: xlabel='Class', ylabel='count'>"
            ]
          },
          "metadata": {},
          "execution_count": 8
        },
        {
          "output_type": "display_data",
          "data": {
            "text/plain": [
              "<Figure size 640x480 with 1 Axes>"
            ],
            "image/png": "[encoded data removed]"
          },
          "metadata": {}
        }
      ],
      "source": [
        "sns.countplot(data=df,x='Class')"
      ]
    },
    {
      "cell_type": "code",
      "execution_count": 9,
      "id": "30728ee8",
      "metadata": {
        "colab": {
          "base_uri": "https://localhost:8080/",
          "height": 993
        },
        "id": "30728ee8",
        "outputId": "e6fc0aa3-9a3d-428e-bfdb-339a08265083"
      },
      "outputs": [
        {
          "output_type": "execute_result",
          "data": {
            "text/plain": [
              "V1        -3.273070\n",
              "V2        -4.653486\n",
              "V3        -2.216730\n",
              "V4         0.681387\n",
              "V5        -2.458790\n",
              "V6         1.867576\n",
              "V7         2.877722\n",
              "V8        -8.292631\n",
              "V9         0.550965\n",
              "V10        1.242165\n",
              "V11        0.347772\n",
              "V12       -2.208171\n",
              "V13        0.061058\n",
              "V14       -1.953613\n",
              "V15       -0.295836\n",
              "V16       -1.048371\n",
              "V17       -3.802987\n",
              "V18       -0.255710\n",
              "V19        0.115957\n",
              "V20       -2.045060\n",
              "V21        2.784302\n",
              "V22       -0.200868\n",
              "V23       -5.805236\n",
              "V24       -0.545636\n",
              "V25       -0.408260\n",
              "V26        0.587603\n",
              "V27       -0.745732\n",
              "V28       11.400938\n",
              "Amount    16.841622\n",
              "dtype: float64"
            ],
            "text/html": [
              "<div>\n",
              "<style scoped>\n",
              "    .dataframe tbody tr th:only-of-type {\n",
              "        vertical-align: middle;\n",
              "    }\n",
              "\n",
              "    .dataframe tbody tr th {\n",
              "        vertical-align: top;\n",
              "    }\n",
              "\n",
              "    .dataframe thead th {\n",
              "        text-align: right;\n",
              "    }\n",
              "</style>\n",
              "<table border=\"1\" class=\"dataframe\">\n",
              "  <thead>\n",
              "    <tr style=\"text-align: right;\">\n",
              "      <th></th>\n",
              "      <th>0</th>\n",
              "    </tr>\n",
              "  </thead>\n",
              "  <tbody>\n",
              "    <tr>\n",
              "      <th>V1</th>\n",
              "      <td>-3.273070</td>\n",
              "    </tr>\n",
              "    <tr>\n",
              "      <th>V2</th>\n",
              "      <td>-4.653486</td>\n",
              "    </tr>\n",
              "    <tr>\n",
              "      <th>V3</th>\n",
              "      <td>-2.216730</td>\n",
              "    </tr>\n",
              "    <tr>\n",
              "      <th>V4</th>\n",
              "      <td>0.681387</td>\n",
              "    </tr>\n",
              "    <tr>\n",
              "      <th>V5</th>\n",
              "      <td>-2.458790</td>\n",
              "    </tr>\n",
              "    <tr>\n",
              "      <th>V6</th>\n",
              "      <td>1.867576</td>\n",
              "    </tr>\n",
              "    <tr>\n",
              "      <th>V7</th>\n",
              "      <td>2.877722</td>\n",
              "    </tr>\n",
              "    <tr>\n",
              "      <th>V8</th>\n",
              "      <td>-8.292631</td>\n",
              "    </tr>\n",
              "    <tr>\n",
              "      <th>V9</th>\n",
              "      <td>0.550965</td>\n",
              "    </tr>\n",
              "    <tr>\n",
              "      <th>V10</th>\n",
              "      <td>1.242165</td>\n",
              "    </tr>\n",
              "    <tr>\n",
              "      <th>V11</th>\n",
              "      <td>0.347772</td>\n",
              "    </tr>\n",
              "    <tr>\n",
              "      <th>V12</th>\n",
              "      <td>-2.208171</td>\n",
              "    </tr>\n",
              "    <tr>\n",
              "      <th>V13</th>\n",
              "      <td>0.061058</td>\n",
              "    </tr>\n",
              "    <tr>\n",
              "      <th>V14</th>\n",
              "      <td>-1.953613</td>\n",
              "    </tr>\n",
              "    <tr>\n",
              "      <th>V15</th>\n",
              "      <td>-0.295836</td>\n",
              "    </tr>\n",
              "    <tr>\n",
              "      <th>V16</th>\n",
              "      <td>-1.048371</td>\n",
              "    </tr>\n",
              "    <tr>\n",
              "      <th>V17</th>\n",
              "      <td>-3.802987</td>\n",
              "    </tr>\n",
              "    <tr>\n",
              "      <th>V18</th>\n",
              "      <td>-0.255710</td>\n",
              "    </tr>\n",
              "    <tr>\n",
              "      <th>V19</th>\n",
              "      <td>0.115957</td>\n",
              "    </tr>\n",
              "    <tr>\n",
              "      <th>V20</th>\n",
              "      <td>-2.045060</td>\n",
              "    </tr>\n",
              "    <tr>\n",
              "      <th>V21</th>\n",
              "      <td>2.784302</td>\n",
              "    </tr>\n",
              "    <tr>\n",
              "      <th>V22</th>\n",
              "      <td>-0.200868</td>\n",
              "    </tr>\n",
              "    <tr>\n",
              "      <th>V23</th>\n",
              "      <td>-5.805236</td>\n",
              "    </tr>\n",
              "    <tr>\n",
              "      <th>V24</th>\n",
              "      <td>-0.545636</td>\n",
              "    </tr>\n",
              "    <tr>\n",
              "      <th>V25</th>\n",
              "      <td>-0.408260</td>\n",
              "    </tr>\n",
              "    <tr>\n",
              "      <th>V26</th>\n",
              "      <td>0.587603</td>\n",
              "    </tr>\n",
              "    <tr>\n",
              "      <th>V27</th>\n",
              "      <td>-0.745732</td>\n",
              "    </tr>\n",
              "    <tr>\n",
              "      <th>V28</th>\n",
              "      <td>11.400938</td>\n",
              "    </tr>\n",
              "    <tr>\n",
              "      <th>Amount</th>\n",
              "      <td>16.841622</td>\n",
              "    </tr>\n",
              "  </tbody>\n",
              "</table>\n",
              "</div><br><label><b>dtype:</b> float64</label>"
            ]
          },
          "metadata": {},
          "execution_count": 9
        }
      ],
      "source": [
        "df.drop('Class',axis=1).skew()"
      ]
    },
    {
      "cell_type": "code",
      "execution_count": 10,
      "id": "d74277ea",
      "metadata": {
        "colab": {
          "base_uri": "https://localhost:8080/",
          "height": 469
        },
        "id": "d74277ea",
        "outputId": "9e81b763-0cd8-47cd-ee6a-158f4ac7df14"
      },
      "outputs": [
        {
          "output_type": "execute_result",
          "data": {
            "text/plain": [
              "<Axes: xlabel='Amount', ylabel='Density'>"
            ]
          },
          "metadata": {},
          "execution_count": 10
        },
        {
          "output_type": "display_data",
          "data": {
            "text/plain": [
              "<Figure size 640x480 with 1 Axes>"
            ],
            "image/png": "[encoded data removed]"
          },
          "metadata": {}
        }
      ],
      "source": [
        "sns.kdeplot(df['Amount'])"
      ]
    },
    {
      "cell_type": "code",
      "execution_count": 11,
      "id": "bd8cb1b8",
      "metadata": {
        "colab": {
          "base_uri": "https://localhost:8080/",
          "height": 468
        },
        "id": "bd8cb1b8",
        "outputId": "17f3d282-effd-40af-def3-2b4ab9899bd2"
      },
      "outputs": [
        {
          "output_type": "execute_result",
          "data": {
            "text/plain": [
              "<Axes: xlabel='Amount', ylabel='Density'>"
            ]
          },
          "metadata": {},
          "execution_count": 11
        },
        {
          "output_type": "display_data",
          "data": {
            "text/plain": [
              "<Figure size 640x480 with 1 Axes>"
            ],
            "image/png": "[encoded data removed]"
          },
          "metadata": {}
        }
      ],
      "source": [
        "df['Amount'] = df['Amount'].apply(lambda x: np.log10(x+1))\n",
        "sns.kdeplot(df['Amount'])"
      ]
    },
    {
      "cell_type": "markdown",
      "id": "284d6f22",
      "metadata": {
        "id": "284d6f22"
      },
      "source": [
        "## Creating a sub sample"
      ]
    },
    {
      "cell_type": "markdown",
      "id": "0a068d5c",
      "metadata": {
        "id": "0a068d5c"
      },
      "source": [
        "What - create a[](http://) df with equal number of fraud and non fraud samples  \n",
        "Why - Although we don't know what the \"V\" features stand for, it will be useful to understand how each of this features influence the target. By having an imbalance dataframe we are not able to see the true correlations between the class and features"
      ]
    },
    {
      "cell_type": "code",
      "execution_count": 12,
      "id": "555570b8",
      "metadata": {
        "id": "555570b8"
      },
      "outputs": [],
      "source": [
        "df = df.sample(frac=1)\n",
        "\n",
        "fraud_df = df.loc[df['Class'] == 1]\n",
        "non_fraud_df = df.loc[df['Class'] == 0][:492]\n",
        "\n",
        "subsample = pd.concat([fraud_df, non_fraud_df])\n",
        "new_df = subsample.sample(frac=1, random_state=42)"
      ]
    },
    {
      "cell_type": "markdown",
      "id": "6ece260f",
      "metadata": {
        "id": "6ece260f"
      },
      "source": [
        "### Correlation"
      ]
    },
    {
      "cell_type": "code",
      "execution_count": 13,
      "id": "b4be44b5",
      "metadata": {
        "colab": {
          "base_uri": "https://localhost:8080/",
          "height": 542
        },
        "id": "b4be44b5",
        "outputId": "2c795d3b-c427-4191-b5a8-f27a8f70567c"
      },
      "outputs": [
        {
          "output_type": "display_data",
          "data": {
            "text/html": [
              "<html>\n",
              "<head><meta charset=\"utf-8\" /></head>\n",
              "<body>\n",
              "    <div>            <script src=\"https://cdnjs.cloudflare.com/ajax/libs/mathjax/2.7.5/MathJax.js?config=TeX-AMS-MML_SVG\"></script><script type=\"text/javascript\">if (window.MathJax && window.MathJax.Hub && window.MathJax.Hub.Config) {window.MathJax.Hub.Config({SVG: {font: \"STIX-Web\"}});}</script>                <script type=\"text/javascript\">window.PlotlyConfig = {MathJaxConfig: 'local'};</script>\n",
              "        <script charset=\"utf-8\" src=\"https://cdn.plot.ly/plotly-2.35.2.min.js\"></script>                <div id=\"347d228b-0258-4aea-852f-f6ea79f0a8db\" class=\"plotly-graph-div\" style=\"height:525px; width:100%;\"></div>            <script type=\"text/javascript\">                                    window.PLOTLYENV=window.PLOTLYENV || {};                                    if (document.getElementById(\"347d228b-0258-4aea-852f-f6ea79f0a8db\")) {                    Plotly.newPlot(                        \"347d228b-0258-4aea-852f-f6ea79f0a8db\",                        [{\"coloraxis\":\"coloraxis\",\"name\":\"0\",\"x\":[\"V1\",\"V2\",\"V3\",\"V4\",\"V5\",\"V6\",\"V7\",\"V8\",\"V9\",\"V10\",\"V11\",\"V12\",\"V13\",\"V14\",\"V15\",\"V16\",\"V17\",\"V18\",\"V19\",\"V20\",\"V21\",\"V22\",\"V23\",\"V24\",\"V25\",\"V26\",\"V27\",\"V28\",\"Amount\",\"Class\"],\"y\":[\"V1\",\"V2\",\"V3\",\"V4\",\"V5\",\"V6\",\"V7\",\"V8\",\"V9\",\"V10\",\"V11\",\"V12\",\"V13\",\"V14\",\"V15\",\"V16\",\"V17\",\"V18\",\"V19\",\"V20\",\"V21\",\"V22\",\"V23\",\"V24\",\"V25\",\"V26\",\"V27\",\"V28\",\"Amount\",\"Class\"],\"z\":[[1.0,0.009002056630572906,0.005951870323344563,-0.00004173363772252574,-0.018592931394258317,-0.005788588932603456,-0.006842588291335811,-0.0004903017705978064,-0.007093188184084659,0.003115080433367395,-0.005238361152132143,-0.005224732658887895,0.00017607397170221327,-0.0001670166380946743,-0.00853815550765917,-0.006376158582723931,-0.0017092604947156872,-0.00003711812585145362,-0.00036578698126048785,0.00310853604853954,0.006003695030846003,0.003633859573936959,-0.007503985473868619,-0.009326773224502368,-0.00444613601829606,-0.00243642310070388,-0.014628053567675518,-0.003555006941166568,-0.07669206550361776,-0.09471828027403881],[0.009002056630572906,1.0,0.0049764204159172855,-0.004094783032821921,0.0046548281515394335,0.004290266474645346,0.004866010897475003,0.003742693655932649,0.001115764547423174,0.0027641737994161955,-0.0018084640177490328,0.0014801177085390653,0.00046076961088046116,0.004771739778601157,0.001176291606260081,0.0026475607161066464,0.0013035840599432194,0.0003630379040185941,0.0011638151899724058,-0.0003388726980985236,-0.003880671951278954,0.002908674005336346,-0.0036886296217182183,0.0019735168281253017,-0.0028369314041974234,-0.0002960596857444492,0.007251624234861911,0.001457599293897328,-0.45939752929647387,0.08475425481454477],[0.005951870323344563,0.0049764204159172855,1.0,-0.0007207506128839244,0.011019512449786148,0.014780101443837242,-0.014015590290725981,0.003733210299163671,-0.002895531047630532,-0.011064456582014614,0.0037632683294712937,-0.003365403264207844,-0.0007532888104511752,-0.008208455227591333,0.003323892451776637,0.00033603306534793004,-0.0028131327390716145,-0.0038764479346074542,-0.000827969968805285,-0.0045872244382799705,0.0018178562780223624,-0.004202923672142413,0.0021830017967685335,0.009782012846899776,0.004090898265090254,0.003596060803817527,-0.00878049022086322,-0.002453994123024387,-0.053019096184098106,-0.18577174362071117],[-0.00004173363772252574,-0.004094783032821921,-0.0007207506128839244,1.0,0.006710184917376753,0.012534619986162442,0.0008061613152965922,0.00499648452026259,0.0013954678785992546,0.003366394372718416,-0.004401812026915697,0.0005605366567562455,0.000332400748205863,0.00533559670244841,0.004045091895456194,0.0017826285626817565,0.0016328679540392325,0.0015686647749631722,0.005018282953491141,0.0011654100961733115,-0.0006225862056653949,0.001580969531221064,-0.00015475367372596032,0.005759384705327849,0.00017302609596238567,-0.0011052679713744545,0.0025173272107862268,0.00002844701328991732,-0.0006991724135757353,0.13031328765078548],[-0.018592931394258317,0.0046548281515394335,0.011019512449786148,0.006710184917376753,1.0,-0.02970078573583344,-0.009106632501580655,-0.0026052875224072502,-0.000786199561642845,-0.0028177407252065905,-0.0029651575403909173,-0.0003427722292887862,0.0012005945355469435,0.005174527525292196,-0.007121994543521016,-0.0041470914860858524,-0.005421946975850419,-0.0031082166092600847,0.0003505660226590395,-0.0007880754250584248,0.00343922765885176,0.0029714567709645777,-0.0010578383026696805,-0.012633613332769803,-0.004862304415897353,-0.001568475495583539,-0.0061156794357199885,-0.0007109361143902058,-0.28520207300736966,-0.08864223740340652],[-0.005788588932603456,0.004290266474645346,0.014780101443837242,0.012534619986162442,-0.02970078573583344,1.0,0.013087429720545869,-0.012300897072016951,-0.002289899443472919,-0.0027228856396609674,0.0004459549207897122,0.004288005962352039,-0.00013954654889491002,0.00017772529829544262,-0.009362574711092794,-0.0025379738409454736,0.0017467394403831154,0.0007341181373794678,0.0008803306295041187,-0.0018348819521773838,-0.0015842250415121538,0.002355047652428125,-0.00022080361056579665,-0.02109767327229305,-0.0066732637113859,0.0007018999138725941,-0.001577384326939287,0.0006170632194784212,0.1759404069423729,-0.044776655795792826],[-0.006842588291335811,0.004866010897475003,-0.014015590290725981,0.0008061613152965922,-0.009106632501580655,0.013087429720545869,1.0,-0.000986632647379429,-0.001657050588946188,-0.012245575367022345,0.0017312862293722123,-0.007377770947454782,0.0010190654338441494,-0.0020063821639051504,0.002164699457077246,-0.0035533675012726362,-0.009984959755663174,-0.004092121223165966,0.0005896092117488969,-0.0021958273347810167,0.008634730211602817,-0.0017008984979523377,0.003458050788062118,0.0053754370111759086,0.0020698078979523218,-0.0004588383679030024,-0.003977219873227556,0.0013292721181320836,0.0966590937506528,-0.1732918453621221],[-0.0004903017705978064,0.003742693655932649,0.003733210299163671,0.00499648452026259,-0.0026052875224072502,-0.012300897072016951,-0.000986632647379429,1.0,0.0001684599478414658,0.00023852276984077247,0.00516513777689506,-0.004133687695665211,-0.0013413330919203376,-0.009568384289532352,-0.0023223464399357184,-0.00686830785829493,-0.006049143384273919,-0.002092119809368286,0.0008553714180542306,0.0005621589466950148,0.01880555347464175,-0.005181868541496902,0.006461216507351907,-0.006000318559471036,-0.0028265011984083058,-0.0011224898419865252,-0.00010826667669570129,0.00020087170096169026,-0.02161037755536519,0.033364384602848435],[-0.007093188184084659,0.001115764547423174,-0.002895531047630532,0.0013954678785992546,-0.000786199561642845,-0.002289899443472919,-0.001657050588946188,0.0001684599478414658,1.0,-0.004956960977232576,-0.0015831315122645025,0.00022093464914160654,-0.0002590626900248707,-0.005124874206624824,-0.004912272336986001,0.002680339994664741,-0.0004875404325191231,-0.0009567733050660166,-0.0009356707772171215,0.0006125813121427236,0.0017444713839397882,0.0007417622746537322,-0.0017392600161237255,-0.002454091315873922,-0.0003576586860807715,0.005307459170163333,0.008065890934748196,0.006486668776329405,-0.07379718375060182,-0.09458275894222096],[0.003115080433367395,0.0027641737994161955,-0.011064456582014614,0.003366394372718416,-0.0028177407252065905,-0.0027228856396609674,-0.012245575367022345,0.00023852276984077247,-0.004956960977232576,1.0,0.0052113259138135285,-0.007394681979456809,0.0008896964509361948,-0.004615922267140988,0.003366010902797399,-0.003637165067540586,-0.0018408332602425743,0.0009112200184282867,0.000379029108867361,-0.004506172251322784,0.0023955011018212684,-0.0030120809221212672,0.0017604510466673671,0.0010149187965123052,0.0024991028176015095,-0.0008588947666105623,0.011495357691487912,0.009956260833450074,-0.016495040286124793,-0.20810420388533257],[-0.005238361152132143,-0.0018084640177490328,0.0037632683294712937,-0.004401812026915697,-0.0029651575403909173,0.0004459549207897122,0.0017312862293722123,0.00516513777689506,-0.0015831315122645025,0.0052113259138135285,1.0,0.003856970171192375,0.0013722399585871672,0.01005163759190308,-0.002381767700422701,0.0010450899175577948,0.00012728508810080132,-0.0017349245158463946,0.0020675542539909534,-0.0002896766792570915,-0.002330819411200265,0.000803599811059086,-0.0008390469723996687,0.001583637071823637,-0.0032093521987375385,-0.0020645266678813263,0.002434704351628466,0.0021758658346355047,-0.04305344263458211,0.15126045335714788],[-0.005224732658887895,0.0014801177085390653,-0.003365403264207844,0.0005605366567562455,-0.0003427722292887862,0.004288005962352039,-0.007377770947454782,-0.004133687695665211,0.00022093464914160654,-0.007394681979456809,0.003856970171192375,1.0,0.002532314364047421,-0.004060598916458103,0.0017273304728851013,-0.007692279149879703,-0.007394531288473155,-0.0007609712734102505,-0.0017433222825322724,0.0020413560807987915,0.004192083404063554,0.00296665446897068,-0.001101063395500902,0.0016954532680858515,0.0007319178597714552,-0.0020108838239185868,-0.00077586043967708,-0.0001730304780357745,-0.011033406249319628,-0.25314979499997753],[0.00017607397170221327,0.00046076961088046116,-0.0007532888104511752,0.000332400748205863,0.0012005945355469435,-0.00013954654889491002,0.0010190654338441494,-0.0013413330919203376,-0.0002590626900248707,0.0008896964509361948,0.0013722399585871672,0.002532314364047421,1.0,-0.00347956671182078,0.0025145688423962656,-0.002209678365052668,-0.0003147036842397312,0.0008394873375495199,0.0010715570383271903,-0.0006206148356032603,0.0011005453910093266,0.0002135260322737031,0.0007110910522849288,-0.0010140681867750973,-0.000059110392989170565,0.0008868780941754786,-0.0014510102497141423,-0.0003797505758877523,-0.006205009221444334,-0.0039342453142991556],[-0.0001670166380946743,0.004771739778601157,-0.008208455227591333,0.00533559670244841,0.005174527525292196,0.00017772529829544262,-0.0020063821639051504,-0.009568384289532352,-0.005124874206624824,-0.004615922267140988,0.01005163759190308,-0.004060598916458103,-0.00347956671182078,1.0,0.002624483631610476,-0.0033203068499790297,0.0009197230024971464,0.0014131471241992286,-0.0007510941548648447,0.003683457197060093,0.004710627375381629,-0.004794790558039035,0.0009289389054848104,0.00033180031929477816,0.002076816857514108,0.0014042703420475248,-0.0038284420292790254,-0.003178202426596706,0.021382782639851248,-0.2975497797564428],[-0.00853815550765917,0.001176291606260081,0.003323892451776637,0.004045091895456194,-0.007121994543521016,-0.009362574711092794,0.002164699457077246,-0.0023223464399357184,-0.004912272336986001,0.003366010902797399,-0.002381767700422701,0.0017273304728851013,0.0025145688423962656,0.002624483631610476,1.0,-0.004916780368499122,-0.0006027072808329392,-0.0008590147198242534,0.0033865340764305473,0.000375089170689768,0.0011372992637743726,0.0025790032134958792,0.0007269407316841611,-0.008460676558177681,-0.008245117506923149,0.0019241521230987573,-0.0014722700182019338,0.00015627937832886254,-0.054453020963543014,-0.002823966145014359],[-0.006376158582723931,0.0026475607161066464,0.00033603306534793004,0.0017826285626817565,-0.0041470914860858524,-0.0025379738409454736,-0.0035533675012726362,-0.00686830785829493,0.002680339994664741,-0.003637165067540586,0.0010450899175577948,-0.007692279149879703,-0.002209678365052668,-0.0033203068499790297,-0.004916780368499122,1.0,-0.010046388062466025,-0.009275590059228204,0.0024073594302016655,0.0004240054532787411,0.005267154400499074,0.0032960882528521823,0.0015241836118116505,-0.004436914287115016,-0.00246365121697065,-0.004494645380977323,-0.003527977806909231,-0.0018546665914331855,-0.09729387167350899,-0.18822150581931704],[-0.0017092604947156872,0.0013035840599432194,-0.0028131327390716145,0.0016328679540392325,-0.005421946975850419,0.0017467394403831154,-0.009984959755663174,-0.006049143384273919,-0.0004875404325191231,-0.0018408332602425743,0.00012728508810080132,-0.007394531288473155,-0.0003147036842397312,0.0009197230024971464,-0.0006027072808329392,-0.010046388062466025,1.0,-0.007602083690617706,0.007939819203282952,0.001208500031945142,0.0041627237748639205,0.0005457665567498713,0.0024120413459316377,0.00459897346323138,-0.0033430327529155347,-0.0010902404860176843,-0.0035970763985634278,-0.00358683516446258,0.01692275973435805,-0.3172019470331852],[-0.00003711812585145362,0.0003630379040185941,-0.0038764479346074542,0.0015686647749631722,-0.0031082166092600847,0.0007341181373794678,-0.004092121223165966,-0.002092119809368286,-0.0009567733050660166,0.0009112200184282867,-0.0017349245158463946,-0.0007609712734102505,0.0008394873375495199,0.0014131471241992286,-0.0008590147198242534,-0.009275590059228204,-0.007602083690617706,1.0,0.000389453718500896,-0.0001850684271846056,0.0006194270891825634,-0.004321380435269503,0.003487514730672701,-0.0008359690508370895,-0.0052309570068277715,0.0035834783040605664,-0.0051764558222708095,-0.0018988674568862266,0.044186508714704566,-0.10644692553081347],[-0.00036578698126048785,0.0011638151899724058,-0.000827969968805285,0.005018282953491141,0.0003505660226590395,0.0008803306295041187,0.0005896092117488969,0.0008553714180542306,-0.0009356707772171215,0.000379029108867361,0.0020675542539909534,-0.0017433222825322724,0.0010715570383271903,-0.0007510941548648447,0.0033865340764305473,0.0024073594302016655,0.007939819203282952,0.000389453718500896,1.0,-0.0008462799424581462,0.0008855134322267075,0.0035208642995498353,-0.0003568083569355801,-0.0014100893491832958,0.0004653675644516843,0.0009070515999730527,-0.000010973789013427368,0.0008126304744584833,-0.01560152694553095,0.03378413152415503],[0.00310853604853954,-0.0003388726980985236,-0.0045872244382799705,0.0011654100961733115,-0.0007880754250584248,-0.0018348819521773838,-0.0021958273347810167,0.0005621589466950148,0.0006125813121427236,-0.004506172251322784,-0.0002896766792570915,0.0020413560807987915,-0.0006206148356032603,0.003683457197060093,0.000375089170689768,0.0004240054532787411,0.001208500031945142,-0.0001850684271846056,-0.0008462799424581462,1.0,0.004391631543174871,-0.0023215318570962303,0.0007476054518362228,0.0001323004022470899,-1.2698991005854897e-6,-0.0003043709137931431,-0.00009623569420493844,0.001827848790843447,0.1425680545106225,0.02134913462645693],[0.006003695030846003,-0.003880671951278954,0.0018178562780223624,-0.0006225862056653949,0.00343922765885176,-0.0015842250415121538,0.008634730211602817,0.01880555347464175,0.0017444713839397882,0.0023955011018212684,-0.002330819411200265,0.004192083404063554,0.0011005453910093266,0.004710627375381629,0.0011372992637743726,0.005267154400499074,0.0041627237748639205,0.0006194270891825634,0.0008855134322267075,0.004391631543174871,1.0,0.0017951267485506578,-0.004335795108936269,0.0029433295315662747,-0.001299341057234718,0.0008275390972012802,-0.005524039706815478,-0.004461160639097208,0.08325734243773054,0.02623913561853279],[0.003633859573936959,0.002908674005336346,-0.004202923672142413,0.001580969531221064,0.0029714567709645777,0.002355047652428125,-0.0017008984979523377,-0.005181868541496902,0.0007417622746537322,-0.0030120809221212672,0.000803599811059086,0.00296665446897068,0.0002135260322737031,-0.004794790558039035,0.0025790032134958792,0.0032960882528521823,0.0005457665567498713,-0.004321380435269503,0.0035208642995498353,-0.0023215318570962303,0.0017951267485506578,1.0,0.006160634816717857,0.004007631493735354,-0.0023307563307247542,0.00430878067851101,0.0016856153718818622,0.0016703357452038986,0.03546786563373586,0.004612376174770302],[-0.007503985473868619,-0.0036886296217182183,0.0021830017967685335,-0.00015475367372596032,-0.0010578383026696805,-0.00022080361056579665,0.003458050788062118,0.006461216507351907,-0.0017392600161237255,0.0017604510466673671,-0.0008390469723996687,-0.001101063395500902,0.0007110910522849288,0.0009289389054848104,0.0007269407316841611,0.0015241836118116505,0.0024120413459316377,0.003487514730672701,-0.0003568083569355801,0.0007476054518362228,-0.004335795108936269,0.006160634816717857,1.0,-0.0011911345613579035,0.0036245111360324093,-0.0021047329234189648,-0.0015197357777630204,-0.002719192346928688,-0.025060446233726066,-0.006206025561580615],[-0.009326773224502368,0.0019735168281253017,0.009782012846899776,0.005759384705327849,-0.012633613332769803,-0.02109767327229305,0.0053754370111759086,-0.006000318559471036,-0.002454091315873922,0.0010149187965123052,0.001583637071823637,0.0016954532680858515,-0.0010140681867750973,0.00033180031929477816,-0.008460676558177681,-0.004436914287115016,0.00459897346323138,-0.0008359690508370895,-0.0014100893491832958,0.0001323004022470899,0.0029433295315662747,0.004007631493735354,-0.0011911345613579035,1.0,-0.007006715089922488,0.0015263545489949501,-0.0013154128149647905,0.00008562142586953176,-0.004790119342803837,-0.006831067309310169],[-0.00444613601829606,-0.0028369314041974234,0.004090898265090254,0.00017302609596238567,-0.004862304415897353,-0.0066732637113859,0.0020698078979523218,-0.0028265011984083058,-0.0003576586860807715,0.0024991028176015095,-0.0032093521987375385,0.0007319178597714552,-0.000059110392989170565,0.002076816857514108,-0.008245117506923149,-0.00246365121697065,-0.0033430327529155347,-0.0052309570068277715,0.0004653675644516843,-1.2698991005854897e-6,-0.001299341057234718,-0.0023307563307247542,0.0036245111360324093,-0.007006715089922488,1.0,0.00457357676490782,-0.0019952735762459295,-0.0012281791648253654,0.006831989076374313,0.0035929867200253027],[-0.00243642310070388,-0.0002960596857444492,0.003596060803817527,-0.0011052679713744545,-0.001568475495583539,0.0007018999138725941,-0.0004588383679030024,-0.0011224898419865252,0.005307459170163333,-0.0008588947666105623,-0.0020645266678813263,-0.0020108838239185868,0.0008868780941754786,0.0014042703420475248,0.0019241521230987573,-0.004494645380977323,-0.0010902404860176843,0.0035834783040605664,0.0009070515999730527,-0.0003043709137931431,0.0008275390972012802,0.00430878067851101,-0.0021047329234189648,0.0015263545489949501,0.00457357676490782,1.0,-0.0009584412161369397,-0.0005696018274223281,-0.015344104977860573,0.004341289204197855],[-0.014628053567675518,0.007251624234861911,-0.00878049022086322,0.0025173272107862268,-0.0061156794357199885,-0.001577384326939287,-0.003977219873227556,-0.00010826667669570129,0.008065890934748196,0.011495357691487912,0.002434704351628466,-0.00077586043967708,-0.0014510102497141423,-0.0038284420292790254,-0.0014722700182019338,-0.003527977806909231,-0.0035970763985634278,-0.0051764558222708095,-0.000010973789013427368,-0.00009623569420493844,-0.005524039706815478,0.0016856153718818622,-0.0015197357777630204,-0.0013154128149647905,-0.0019952735762459295,-0.0009584412161369397,1.0,-0.014434631792928504,-0.04829631949944515,0.021888244417406208],[-0.003555006941166568,0.001457599293897328,-0.002453994123024387,0.00002844701328991732,-0.0007109361143902058,0.0006170632194784212,0.0013292721181320836,0.00020087170096169026,0.006486668776329405,0.009956260833450074,0.0021758658346355047,-0.0001730304780357745,-0.0003797505758877523,-0.003178202426596706,0.00015627937832886254,-0.0018546665914331855,-0.00358683516446258,-0.0018988674568862266,0.0008126304744584833,0.001827848790843447,-0.004461160639097208,0.0016703357452038986,-0.002719192346928688,0.00008562142586953176,-0.0012281791648253654,-0.0005696018274223281,-0.014434631792928504,1.0,-0.003436289474096445,0.009642345399190554],[-0.07669206550361776,-0.45939752929647387,-0.053019096184098106,-0.0006991724135757353,-0.28520207300736966,0.1759404069423729,0.0966590937506528,-0.02161037755536519,-0.07379718375060182,-0.016495040286124793,-0.04305344263458211,-0.011033406249319628,-0.006205009221444334,0.021382782639851248,-0.054453020963543014,-0.09729387167350899,0.01692275973435805,0.044186508714704566,-0.01560152694553095,0.1425680545106225,0.08325734243773054,0.03546786563373586,-0.025060446233726066,-0.004790119342803837,0.006831989076374313,-0.015344104977860573,-0.04829631949944515,-0.003436289474096445,1.0,-0.009151675909696276],[-0.09471828027403881,0.08475425481454477,-0.18577174362071117,0.13031328765078548,-0.08864223740340652,-0.044776655795792826,-0.1732918453621221,0.033364384602848435,-0.09458275894222096,-0.20810420388533257,0.15126045335714788,-0.25314979499997753,-0.0039342453142991556,-0.2975497797564428,-0.002823966145014359,-0.18822150581931704,-0.3172019470331852,-0.10644692553081347,0.03378413152415503,0.02134913462645693,0.02623913561853279,0.004612376174770302,-0.006206025561580615,-0.006831067309310169,0.0035929867200253027,0.004341289204197855,0.021888244417406208,0.009642345399190554,-0.009151675909696276,1.0]],\"type\":\"heatmap\",\"xaxis\":\"x\",\"yaxis\":\"y\",\"hovertemplate\":\"x: %{x}\\u003cbr\\u003ey: %{y}\\u003cbr\\u003ecolor: %{z}\\u003cextra\\u003e\\u003c\\u002fextra\\u003e\"}],                        {\"template\":{\"data\":{\"histogram2dcontour\":[{\"type\":\"histogram2dcontour\",\"colorbar\":{\"outlinewidth\":0,\"ticks\":\"\"},\"colorscale\":[[0.0,\"#0d0887\"],[0.1111111111111111,\"#46039f\"],[0.2222222222222222,\"#7201a8\"],[0.3333333333333333,\"#9c179e\"],[0.4444444444444444,\"#bd3786\"],[0.5555555555555556,\"#d8576b\"],[0.6666666666666666,\"#ed7953\"],[0.7777777777777778,\"#fb9f3a\"],[0.8888888888888888,\"#fdca26\"],[1.0,\"#f0f921\"]]}],\"choropleth\":[{\"type\":\"choropleth\",\"colorbar\":{\"outlinewidth\":0,\"ticks\":\"\"}}],\"histogram2d\":[{\"type\":\"histogram2d\",\"colorbar\":{\"outlinewidth\":0,\"ticks\":\"\"},\"colorscale\":[[0.0,\"#0d0887\"],[0.1111111111111111,\"#46039f\"],[0.2222222222222222,\"#7201a8\"],[0.3333333333333333,\"#9c179e\"],[0.4444444444444444,\"#bd3786\"],[0.5555555555555556,\"#d8576b\"],[0.6666666666666666,\"#ed7953\"],[0.7777777777777778,\"#fb9f3a\"],[0.8888888888888888,\"#fdca26\"],[1.0,\"#f0f921\"]]}],\"heatmap\":[{\"type\":\"heatmap\",\"colorbar\":{\"outlinewidth\":0,\"ticks\":\"\"},\"colorscale\":[[0.0,\"#0d0887\"],[0.1111111111111111,\"#46039f\"],[0.2222222222222222,\"#7201a8\"],[0.3333333333333333,\"#9c179e\"],[0.4444444444444444,\"#bd3786\"],[0.5555555555555556,\"#d8576b\"],[0.6666666666666666,\"#ed7953\"],[0.7777777777777778,\"#fb9f3a\"],[0.8888888888888888,\"#fdca26\"],[1.0,\"#f0f921\"]]}],\"heatmapgl\":[{\"type\":\"heatmapgl\",\"colorbar\":{\"outlinewidth\":0,\"ticks\":\"\"},\"colorscale\":[[0.0,\"#0d0887\"],[0.1111111111111111,\"#46039f\"],[0.2222222222222222,\"#7201a8\"],[0.3333333333333333,\"#9c179e\"],[0.4444444444444444,\"#bd3786\"],[0.5555555555555556,\"#d8576b\"],[0.6666666666666666,\"#ed7953\"],[0.7777777777777778,\"#fb9f3a\"],[0.8888888888888888,\"#fdca26\"],[1.0,\"#f0f921\"]]}],\"contourcarpet\":[{\"type\":\"contourcarpet\",\"colorbar\":{\"outlinewidth\":0,\"ticks\":\"\"}}],\"contour\":[{\"type\":\"contour\",\"colorbar\":{\"outlinewidth\":0,\"ticks\":\"\"},\"colorscale\":[[0.0,\"#0d0887\"],[0.1111111111111111,\"#46039f\"],[0.2222222222222222,\"#7201a8\"],[0.3333333333333333,\"#9c179e\"],[0.4444444444444444,\"#bd3786\"],[0.5555555555555556,\"#d8576b\"],[0.6666666666666666,\"#ed7953\"],[0.7777777777777778,\"#fb9f3a\"],[0.8888888888888888,\"#fdca26\"],[1.0,\"#f0f921\"]]}],\"surface\":[{\"type\":\"surface\",\"colorbar\":{\"outlinewidth\":0,\"ticks\":\"\"},\"colorscale\":[[0.0,\"#0d0887\"],[0.1111111111111111,\"#46039f\"],[0.2222222222222222,\"#7201a8\"],[0.3333333333333333,\"#9c179e\"],[0.4444444444444444,\"#bd3786\"],[0.5555555555555556,\"#d8576b\"],[0.6666666666666666,\"#ed7953\"],[0.7777777777777778,\"#fb9f3a\"],[0.8888888888888888,\"#fdca26\"],[1.0,\"#f0f921\"]]}],\"mesh3d\":[{\"type\":\"mesh3d\",\"colorbar\":{\"outlinewidth\":0,\"ticks\":\"\"}}],\"scatter\":[{\"fillpattern\":{\"fillmode\":\"overlay\",\"size\":10,\"solidity\":0.2},\"type\":\"scatter\"}],\"parcoords\":[{\"type\":\"parcoords\",\"line\":{\"colorbar\":{\"outlinewidth\":0,\"ticks\":\"\"}}}],\"scatterpolargl\":[{\"type\":\"scatterpolargl\",\"marker\":{\"colorbar\":{\"outlinewidth\":0,\"ticks\":\"\"}}}],\"bar\":[{\"error_x\":{\"color\":\"#2a3f5f\"},\"error_y\":{\"color\":\"#2a3f5f\"},\"marker\":{\"line\":{\"color\":\"#E5ECF6\",\"width\":0.5},\"pattern\":{\"fillmode\":\"overlay\",\"size\":10,\"solidity\":0.2}},\"type\":\"bar\"}],\"scattergeo\":[{\"type\":\"scattergeo\",\"marker\":{\"colorbar\":{\"outlinewidth\":0,\"ticks\":\"\"}}}],\"scatterpolar\":[{\"type\":\"scatterpolar\",\"marker\":{\"colorbar\":{\"outlinewidth\":0,\"ticks\":\"\"}}}],\"histogram\":[{\"marker\":{\"pattern\":{\"fillmode\":\"overlay\",\"size\":10,\"solidity\":0.2}},\"type\":\"histogram\"}],\"scattergl\":[{\"type\":\"scattergl\",\"marker\":{\"colorbar\":{\"outlinewidth\":0,\"ticks\":\"\"}}}],\"scatter3d\":[{\"type\":\"scatter3d\",\"line\":{\"colorbar\":{\"outlinewidth\":0,\"ticks\":\"\"}},\"marker\":{\"colorbar\":{\"outlinewidth\":0,\"ticks\":\"\"}}}],\"scattermapbox\":[{\"type\":\"scattermapbox\",\"marker\":{\"colorbar\":{\"outlinewidth\":0,\"ticks\":\"\"}}}],\"scatterternary\":[{\"type\":\"scatterternary\",\"marker\":{\"colorbar\":{\"outlinewidth\":0,\"ticks\":\"\"}}}],\"scattercarpet\":[{\"type\":\"scattercarpet\",\"marker\":{\"colorbar\":{\"outlinewidth\":0,\"ticks\":\"\"}}}],\"carpet\":[{\"aaxis\":{\"endlinecolor\":\"#2a3f5f\",\"gridcolor\":\"white\",\"linecolor\":\"white\",\"minorgridcolor\":\"white\",\"startlinecolor\":\"#2a3f5f\"},\"baxis\":{\"endlinecolor\":\"#2a3f5f\",\"gridcolor\":\"white\",\"linecolor\":\"white\",\"minorgridcolor\":\"white\",\"startlinecolor\":\"#2a3f5f\"},\"type\":\"carpet\"}],\"table\":[{\"cells\":{\"fill\":{\"color\":\"#EBF0F8\"},\"line\":{\"color\":\"white\"}},\"header\":{\"fill\":{\"color\":\"#C8D4E3\"},\"line\":{\"color\":\"white\"}},\"type\":\"table\"}],\"barpolar\":[{\"marker\":{\"line\":{\"color\":\"#E5ECF6\",\"width\":0.5},\"pattern\":{\"fillmode\":\"overlay\",\"size\":10,\"solidity\":0.2}},\"type\":\"barpolar\"}],\"pie\":[{\"automargin\":true,\"type\":\"pie\"}]},\"layout\":{\"autotypenumbers\":\"strict\",\"colorway\":[\"#636efa\",\"#EF553B\",\"#00cc96\",\"#ab63fa\",\"#FFA15A\",\"#19d3f3\",\"#FF6692\",\"#B6E880\",\"#FF97FF\",\"#FECB52\"],\"font\":{\"color\":\"#2a3f5f\"},\"hovermode\":\"closest\",\"hoverlabel\":{\"align\":\"left\"},\"paper_bgcolor\":\"white\",\"plot_bgcolor\":\"#E5ECF6\",\"polar\":{\"bgcolor\":\"#E5ECF6\",\"angularaxis\":{\"gridcolor\":\"white\",\"linecolor\":\"white\",\"ticks\":\"\"},\"radialaxis\":{\"gridcolor\":\"white\",\"linecolor\":\"white\",\"ticks\":\"\"}},\"ternary\":{\"bgcolor\":\"#E5ECF6\",\"aaxis\":{\"gridcolor\":\"white\",\"linecolor\":\"white\",\"ticks\":\"\"},\"baxis\":{\"gridcolor\":\"white\",\"linecolor\":\"white\",\"ticks\":\"\"},\"caxis\":{\"gridcolor\":\"white\",\"linecolor\":\"white\",\"ticks\":\"\"}},\"coloraxis\":{\"colorbar\":{\"outlinewidth\":0,\"ticks\":\"\"}},\"colorscale\":{\"sequential\":[[0.0,\"#0d0887\"],[0.1111111111111111,\"#46039f\"],[0.2222222222222222,\"#7201a8\"],[0.3333333333333333,\"#9c179e\"],[0.4444444444444444,\"#bd3786\"],[0.5555555555555556,\"#d8576b\"],[0.6666666666666666,\"#ed7953\"],[0.7777777777777778,\"#fb9f3a\"],[0.8888888888888888,\"#fdca26\"],[1.0,\"#f0f921\"]],\"sequentialminus\":[[0.0,\"#0d0887\"],[0.1111111111111111,\"#46039f\"],[0.2222222222222222,\"#7201a8\"],[0.3333333333333333,\"#9c179e\"],[0.4444444444444444,\"#bd3786\"],[0.5555555555555556,\"#d8576b\"],[0.6666666666666666,\"#ed7953\"],[0.7777777777777778,\"#fb9f3a\"],[0.8888888888888888,\"#fdca26\"],[1.0,\"#f0f921\"]],\"diverging\":[[0,\"#8e0152\"],[0.1,\"#c51b7d\"],[0.2,\"#de77ae\"],[0.3,\"#f1b6da\"],[0.4,\"#fde0ef\"],[0.5,\"#f7f7f7\"],[0.6,\"#e6f5d0\"],[0.7,\"#b8e186\"],[0.8,\"#7fbc41\"],[0.9,\"#4d9221\"],[1,\"#276419\"]]},\"xaxis\":{\"gridcolor\":\"white\",\"linecolor\":\"white\",\"ticks\":\"\",\"title\":{\"standoff\":15},\"zerolinecolor\":\"white\",\"automargin\":true,\"zerolinewidth\":2},\"yaxis\":{\"gridcolor\":\"white\",\"linecolor\":\"white\",\"ticks\":\"\",\"title\":{\"standoff\":15},\"zerolinecolor\":\"white\",\"automargin\":true,\"zerolinewidth\":2},\"scene\":{\"xaxis\":{\"backgroundcolor\":\"#E5ECF6\",\"gridcolor\":\"white\",\"linecolor\":\"white\",\"showbackground\":true,\"ticks\":\"\",\"zerolinecolor\":\"white\",\"gridwidth\":2},\"yaxis\":{\"backgroundcolor\":\"#E5ECF6\",\"gridcolor\":\"white\",\"linecolor\":\"white\",\"showbackground\":true,\"ticks\":\"\",\"zerolinecolor\":\"white\",\"gridwidth\":2},\"zaxis\":{\"backgroundcolor\":\"#E5ECF6\",\"gridcolor\":\"white\",\"linecolor\":\"white\",\"showbackground\":true,\"ticks\":\"\",\"zerolinecolor\":\"white\",\"gridwidth\":2}},\"shapedefaults\":{\"line\":{\"color\":\"#2a3f5f\"}},\"annotationdefaults\":{\"arrowcolor\":\"#2a3f5f\",\"arrowhead\":0,\"arrowwidth\":1},\"geo\":{\"bgcolor\":\"white\",\"landcolor\":\"#E5ECF6\",\"subunitcolor\":\"white\",\"showland\":true,\"showlakes\":true,\"lakecolor\":\"white\"},\"title\":{\"x\":0.05},\"mapbox\":{\"style\":\"light\"}}},\"xaxis\":{\"anchor\":\"y\",\"domain\":[0.0,1.0]},\"yaxis\":{\"anchor\":\"x\",\"domain\":[0.0,1.0],\"autorange\":\"reversed\"},\"coloraxis\":{\"colorscale\":[[0.0,\"rgb(5,48,97)\"],[0.1,\"rgb(33,102,172)\"],[0.2,\"rgb(67,147,195)\"],[0.3,\"rgb(146,197,222)\"],[0.4,\"rgb(209,229,240)\"],[0.5,\"rgb(247,247,247)\"],[0.6,\"rgb(253,219,199)\"],[0.7,\"rgb(244,165,130)\"],[0.8,\"rgb(214,96,77)\"],[0.9,\"rgb(178,24,43)\"],[1.0,\"rgb(103,0,31)\"]]},\"margin\":{\"t\":60}},                        {\"responsive\": true}                    ).then(function(){\n",
              "                            \n",
              "var gd = document.getElementById('347d228b-0258-4aea-852f-f6ea79f0a8db');\n",
              "var x = new MutationObserver(function (mutations, observer) {{\n",
              "        var display = window.getComputedStyle(gd).display;\n",
              "        if (!display || display === 'none') {{\n",
              "            console.log([gd, 'removed!']);\n",
              "            Plotly.purge(gd);\n",
              "            observer.disconnect();\n",
              "        }}\n",
              "}});\n",
              "\n",
              "// Listen for the removal of the full notebook cells\n",
              "var notebookContainer = gd.closest('#notebook-container');\n",
              "if (notebookContainer) {{\n",
              "    x.observe(notebookContainer, {childList: true});\n",
              "}}\n",
              "\n",
              "// Listen for the clearing of the current output cell\n",
              "var outputEl = gd.closest('.output');\n",
              "if (outputEl) {{\n",
              "    x.observe(outputEl, {childList: true});\n",
              "}}\n",
              "\n",
              "                        })                };                            </script>        </div>\n",
              "</body>\n",
              "</html>"
            ]
          },
          "metadata": {}
        }
      ],
      "source": [
        "corr = df.corr()\n",
        "fig=px.imshow(corr, aspect=\"auto\" ,color_continuous_scale='RdBu_r')\n",
        "fig.show()"
      ]
    },
    {
      "cell_type": "code",
      "execution_count": 14,
      "id": "3c160557",
      "metadata": {
        "colab": {
          "base_uri": "https://localhost:8080/",
          "height": 542
        },
        "id": "3c160557",
        "outputId": "046ef443-fc60-4a4c-f8df-c89f911cc3f9"
      },
      "outputs": [
        {
          "output_type": "display_data",
          "data": {
            "text/html": [
              "<html>\n",
              "<head><meta charset=\"utf-8\" /></head>\n",
              "<body>\n",
              "    <div>            <script src=\"https://cdnjs.cloudflare.com/ajax/libs/mathjax/2.7.5/MathJax.js?config=TeX-AMS-MML_SVG\"></script><script type=\"text/javascript\">if (window.MathJax && window.MathJax.Hub && window.MathJax.Hub.Config) {window.MathJax.Hub.Config({SVG: {font: \"STIX-Web\"}});}</script>                <script type=\"text/javascript\">window.PlotlyConfig = {MathJaxConfig: 'local'};</script>\n",
              "        <script charset=\"utf-8\" src=\"https://cdn.plot.ly/plotly-2.35.2.min.js\"></script>                <div id=\"617b3058-6c8d-4ed7-85cb-94604d5fb0ce\" class=\"plotly-graph-div\" style=\"height:525px; width:100%;\"></div>            <script type=\"text/javascript\">                                    window.PLOTLYENV=window.PLOTLYENV || {};                                    if (document.getElementById(\"617b3058-6c8d-4ed7-85cb-94604d5fb0ce\")) {                    Plotly.newPlot(                        \"617b3058-6c8d-4ed7-85cb-94604d5fb0ce\",                        [{\"coloraxis\":\"coloraxis\",\"name\":\"0\",\"x\":[\"V1\",\"V2\",\"V3\",\"V4\",\"V5\",\"V6\",\"V7\",\"V8\",\"V9\",\"V10\",\"V11\",\"V12\",\"V13\",\"V14\",\"V15\",\"V16\",\"V17\",\"V18\",\"V19\",\"V20\",\"V21\",\"V22\",\"V23\",\"V24\",\"V25\",\"V26\",\"V27\",\"V28\",\"Amount\",\"Class\"],\"y\":[\"V1\",\"V2\",\"V3\",\"V4\",\"V5\",\"V6\",\"V7\",\"V8\",\"V9\",\"V10\",\"V11\",\"V12\",\"V13\",\"V14\",\"V15\",\"V16\",\"V17\",\"V18\",\"V19\",\"V20\",\"V21\",\"V22\",\"V23\",\"V24\",\"V25\",\"V26\",\"V27\",\"V28\",\"Amount\",\"Class\"],\"z\":[[1.0,-0.8014309464891604,0.8754602138064365,-0.6123633083149509,0.8590925962750042,0.3664092832363546,0.8780422739665242,-0.23558883222074894,0.6622295450730269,0.7384335488777284,-0.5366091152571958,0.6025575044174883,-0.08044115217090822,0.4521962459481576,0.0988993762341335,0.6415074594923745,0.6853687842536785,0.680475927139241,-0.32561150928917554,-0.3704828663296098,0.11252007838188079,-0.09468980289769993,-0.00008950868516801248,-0.08464498787098938,-0.11394478721247281,-0.002302835619760644,0.10853702708644841,0.15952709028489231,-0.05192358278859978,-0.435543979365949],[-0.8014309464891604,1.0,-0.8628683456361721,0.6890266178603792,-0.7881161259365513,-0.3541841778231987,-0.8341727371381635,0.15318433340656712,-0.7127863515230519,-0.7728455699691013,0.6335935724752255,-0.6830908072793681,0.07635716307959432,-0.5767776883361544,-0.14832409025344698,-0.6282059843140899,-0.650574629116154,-0.6214989411450943,0.25368043515073246,0.36379750099437824,-0.11612763712692559,0.10841358898432375,0.06760560512832738,0.007703084040717694,0.13921647042928037,0.07554127950599775,-0.08135176311021572,0.01864630002571088,-0.22207567570928194,0.4889325233825486],[0.8754602138064365,-0.8628683456361721,1.0,-0.7715644801526039,0.8391513548710092,0.5017126724814558,0.8893151954763486,-0.28874248653577766,0.7644467653498029,0.8477098149391628,-0.7252328542229605,0.7633654088515075,-0.11586266787949173,0.6691594215469225,0.12184998193872427,0.7247645044394361,0.7362093737809413,0.6953427741160889,-0.3329884208076209,-0.4031514921173876,0.0701969893405891,-0.07875766632008609,0.0002954905358618961,0.018030557797084606,-0.1254708577141497,-0.06857974647905367,-0.006526300204493713,0.09282898030295264,0.03633901082098276,-0.5714036386777251],[-0.6123633083149509,0.6890266178603792,-0.7715644801526039,1.0,-0.5585319360447702,-0.4410992936257719,-0.7142624574606881,0.13563520437577492,-0.7789628279478034,-0.7940774776485099,0.7969306428430113,-0.8344990220310623,0.09471001451080426,-0.7988896123087594,-0.11962044751272244,-0.7180528599237309,-0.7036355246537551,-0.6361755188889758,0.3173821296616428,0.3301566769989893,-0.03640858362720151,0.13046029875132528,0.015641434562287077,-0.07977955430720782,0.017665741529395967,0.18738067713256898,0.05372193072467113,-0.06375014025607365,-0.17752964872828386,0.7119358107503659],[0.8590925962750042,-0.7881161259365513,0.8391513548710092,-0.5585319360447702,1.0,0.2970927176262847,0.8331257859608354,-0.3120230697237154,0.6486963825739279,0.7327949095168602,-0.5164109775817881,0.6007164546406734,-0.15833662531432807,0.4213994162802342,0.07934512147040239,0.6813234773551211,0.7391443733456774,0.7343180183258667,-0.4119075916722047,-0.35531887696378955,0.07856637837360961,-0.10595732024369194,-0.05407623737559103,-0.13799919922452974,-0.10659957914429752,0.00782037885715969,0.09914180249784675,0.14551420415345545,-0.18888835240062904,-0.3535178502385606],[0.3664092832363546,-0.3541841778231987,0.5017126724814558,-0.4410992936257719,0.2970927176262847,1.0,0.3545667864668434,-0.5220466193241565,0.3778387124034983,0.4405118570687466,-0.5219977152962246,0.51043240945811,-0.09146430359529277,0.5641934242803051,-0.046977389565828614,0.4550878370627039,0.43363148128168777,0.3747654503926728,-0.207590484012703,-0.05635583279839673,-0.23074477574356309,0.1968311572288023,0.23116337811434623,-0.023679492507031122,-0.1884406250274379,-0.06475474629735374,-0.23994815843198447,-0.1076366617130134,0.17716729861697217,-0.43415753262704887],[0.8780422739665242,-0.8341727371381635,0.8893151954763486,-0.7142624574606881,0.8331257859608354,0.3545667864668434,1.0,-0.058128106524362934,0.7857223908698157,0.8708215682494583,-0.6512432728887715,0.7349869902317872,-0.07807880523272594,0.5545241977462336,0.1607524142480637,0.7525943655202665,0.7869943682608243,0.7674136266592732,-0.3792129891363373,-0.4645113930649007,0.21387159909689643,-0.2396124101025098,-0.026115859039814057,-0.0534723009765085,0.008951977756233721,-0.0366021417721915,0.14828605776800122,0.14311005745442465,0.1057297461216351,-0.4745086690640185],[-0.23558883222074894,0.15318433340656712,-0.28874248653577766,0.13563520437577492,-0.3120230697237154,-0.5220466193241565,-0.058128106524362934,1.0,-0.09075406799825934,-0.10406510899190194,0.24359898198292082,-0.2080779934443885,0.239569123218494,-0.26708545075853557,0.1519244965475462,-0.2609179964832279,-0.2894326742810418,-0.259429278601239,0.22751800630966298,-0.18325851912680377,0.4192390861896029,-0.3705613186179525,-0.30708797502227736,0.04107463425237809,0.30882239099101433,0.030583625022894544,0.4032450996691557,0.0803774374107403,0.14420861833629145,0.11215394151413156],[0.6622295450730269,-0.7127863515230519,0.7644467653498029,-0.7789628279478034,0.6486963825739279,0.3778387124034983,0.7857223908698157,-0.09075406799825934,1.0,0.8492862455376655,-0.7210574963228777,0.7774516496480777,-0.08053969261218577,0.6932022656470345,0.11867967829470562,0.7413928257996539,0.7638606736518112,0.7101417685101122,-0.3438089657439792,-0.4011706610436855,0.17223852337522336,-0.2501014949226011,-0.06041284049228235,-0.009067382582883591,-0.04033545628663488,-0.1795140772423822,0.04636188695520995,0.12640870220287878,0.11925246841523691,-0.5546039910463941],[0.7384335488777284,-0.7728455699691013,0.8477098149391628,-0.7940774776485099,0.7327949095168602,0.4405118570687466,0.8708215682494583,-0.10406510899190194,0.8492862455376655,1.0,-0.8096675365983418,0.8872984872727765,-0.06638204218683781,0.7766306624595383,0.1402043436000162,0.8568247379690078,0.857198252401156,0.7989309251550086,-0.4197217368915685,-0.41971930470132734,0.11937767779521974,-0.24242203858753097,-0.03375163456930626,0.00888931922562069,-0.01830275854422261,-0.10721742299886561,0.04409922980764361,0.1066193092052054,0.0929637718739854,-0.6347361152929959],[-0.5366091152571958,0.6335935724752255,-0.7252328542229605,0.7969306428430113,-0.5164109775817881,-0.5219977152962246,-0.6512432728887715,0.24359898198292082,-0.7210574963228777,-0.8096675365983418,1.0,-0.9030227789100826,0.09104553181889985,-0.8944425479679302,-0.06199374472015418,-0.8041520937050827,-0.7683927605243114,-0.6655777869306071,0.4015508396119653,0.23210872624095416,0.1406476470241755,0.06121076519238306,-0.053010599005385566,-0.10381698727185769,0.0512450412937936,0.2235944280086423,0.2252846218206746,0.019844150952585873,-0.16413137759009183,0.6878256234304476],[0.6025575044174883,-0.6830908072793681,0.7633654088515075,-0.8344990220310623,0.6007164546406734,0.51043240945811,0.7349869902317872,-0.2080779934443885,0.7774516496480777,0.8872984872727765,-0.9030227789100826,1.0,-0.11096689151315833,0.8872216507002028,0.08108775794680559,0.8944870969034602,0.8731248393334164,0.7965764630512399,-0.44486852209729727,-0.25411327219384566,-0.09073820119628764,-0.12700744366887806,0.018456319475553682,0.04684195646395001,0.0026509049906803424,-0.17255304406429142,-0.09311451817753112,-0.009056730031202746,0.1283239404914557,-0.6851341778664783],[-0.08044115217090822,0.07635716307959432,-0.11586266787949173,0.09471001451080426,-0.15833662531432807,-0.09146430359529277,-0.07807880523272594,0.239569123218494,-0.08053969261218577,-0.06638204218683781,0.09104553181889985,-0.11096689151315833,1.0,-0.06119212373403486,0.007474520394658448,-0.1404134831542503,-0.1627070959081201,-0.16633288371406027,0.18042738183392462,-0.047500596348147,0.1187201357818401,-0.0531442567093716,-0.05893538924458261,0.0676955551503699,-0.002850673907466558,0.04303232155912143,0.05697963808386097,-0.10435343402340837,0.08947371479990947,-0.008114188187293866],[0.4521962459481576,-0.5767776883361544,0.6691594215469225,-0.7988896123087594,0.4213994162802342,0.5641934242803051,0.5545241977462336,-0.26708545075853557,0.6932022656470345,0.7766306624595383,-0.8944425479679302,0.8872216507002028,-0.06119212373403486,1.0,0.009187354701112057,0.7716214591632476,0.7244746505557728,0.6152211100557808,-0.36226176855792264,-0.17231600617541412,-0.23344834794003982,0.017581875899983057,0.047044703989205836,0.1371114396376282,-0.10434879119186892,-0.22482334582038796,-0.24059652333754275,-0.12444571892754483,0.17896755636786033,-0.7489381135607963],[0.0988993762341335,-0.14832409025344698,0.12184998193872427,-0.11962044751272244,0.07934512147040239,-0.046977389565828614,0.1607524142480637,0.1519244965475462,0.11867967829470562,0.1402043436000162,-0.06199374472015418,0.08108775794680559,0.007474520394658448,0.009187354701112057,1.0,-0.0010719222820132284,0.03415781313539153,0.02718726975385639,0.18634181348907672,-0.1329644828517876,0.1931661181914371,-0.08886493786774301,-0.05356873307760444,0.028419538730956626,-0.030477660470489866,0.027440495343131865,0.11656951821815359,0.06438652371003051,0.0832332215447104,-0.0379584093627989],[0.6415074594923745,-0.6282059843140899,0.7247645044394361,-0.7180528599237309,0.6813234773551211,0.4550878370627039,0.7525943655202665,-0.2609179964832279,0.7413928257996539,0.8568247379690078,-0.8041520937050827,0.8944870969034602,-0.1404134831542503,0.7716214591632476,-0.0010719222820132284,1.0,0.9485744985560138,0.8970654431531963,-0.615332796696778,-0.23968407291205734,-0.13634000207127658,-0.16019368560314146,0.028935506804174747,-0.053372077639812054,0.040260324216489896,-0.09982378836277095,-0.07591650110486207,0.012203281557326058,-0.010598399764097424,-0.585900258787125],[0.6853687842536785,-0.650574629116154,0.7362093737809413,-0.7036355246537551,0.7391443733456774,0.43363148128168777,0.7869943682608243,-0.2894326742810418,0.7638606736518112,0.857198252401156,-0.7683927605243114,0.8731248393334164,-0.1627070959081201,0.7244746505557728,0.03415781313539153,0.9485744985560138,1.0,0.93617249686954,-0.5901932172883881,-0.24181437790457697,-0.10825973073621627,-0.1568421154085131,0.029977946284284823,-0.09178235845598962,0.012380071477942175,-0.07997565167006226,-0.051299159974786436,0.04606385754921937,-0.03389438577020316,-0.5474574214511747],[0.680475927139241,-0.6214989411450943,0.6953427741160889,-0.6361755188889758,0.7343180183258667,0.3747654503926728,0.7674136266592732,-0.259429278601239,0.7101417685101122,0.7989309251550086,-0.6655777869306071,0.7965764630512399,-0.16633288371406027,0.6152211100557808,0.02718726975385639,0.8970654431531963,0.93617249686954,1.0,-0.5609004712369627,-0.23056577362526484,-0.06843458658484311,-0.15644768004140744,0.0398072990412785,-0.09397414942215782,0.04238752888286986,-0.0500308901288661,0.0008331908963523953,0.08991940982412233,-0.03894124151391151,-0.45835699493585835],[-0.32561150928917554,0.25368043515073246,-0.3329884208076209,0.3173821296616428,-0.4119075916722047,-0.207590484012703,-0.3792129891363373,0.22751800630966298,-0.3438089657439792,-0.4197217368915685,0.4015508396119653,-0.44486852209729727,0.18042738183392462,-0.36226176855792264,0.18634181348907672,-0.615332796696778,-0.5901932172883881,-0.5609004712369627,1.0,0.06308506221595378,0.16027561634732435,0.15085014272080513,0.009727537234919207,0.11291922204332822,-0.15968678867606118,0.059852963888101046,0.0531394552149056,-0.07127817534322185,0.12488514051140918,0.2776270809675989],[-0.3704828663296098,0.36379750099437824,-0.4031514921173876,0.3301566769989893,-0.35531887696378955,-0.05635583279839673,-0.4645113930649007,-0.18325851912680377,-0.4011706610436855,-0.41971930470132734,0.23210872624095416,-0.25411327219384566,-0.047500596348147,-0.17231600617541412,-0.1329644828517876,-0.23968407291205734,-0.24181437790457697,-0.23056577362526484,0.06308506221595378,1.0,-0.5008841314002264,0.33906469780582843,0.20352437732405665,-0.028484181566562714,0.025156526663226025,0.04156196543633678,-0.0858182121320566,0.10136921905433621,-0.011974173900373784,0.20910018757036364],[0.11252007838188079,-0.11612763712692559,0.0701969893405891,-0.03640858362720151,0.07856637837360961,-0.23074477574356309,0.21387159909689643,0.4192390861896029,0.17223852337522336,0.11937767779521974,0.1406476470241755,-0.09073820119628764,0.1187201357818401,-0.23344834794003982,0.1931661181914371,-0.13634000207127658,-0.10825973073621627,-0.06843458658484311,0.16027561634732435,-0.5008841314002264,1.0,-0.5868366229405345,-0.14294370486175004,0.0073165171496522375,0.14883636495272318,0.038422268413473085,0.39458465094833417,0.2582798975483081,0.1173151334874369,0.12275709341015482],[-0.09468980289769993,0.10841358898432375,-0.07875766632008609,0.13046029875132528,-0.10595732024369194,0.1968311572288023,-0.2396124101025098,-0.3705613186179525,-0.2501014949226011,-0.24242203858753097,0.06121076519238306,-0.12700744366887806,-0.0531442567093716,0.017581875899983057,-0.08886493786774301,-0.16019368560314146,-0.1568421154085131,-0.15644768004140744,0.15085014272080513,0.33906469780582843,-0.5868366229405345,1.0,0.21070335188185904,0.039456622159612424,-0.234615527818157,0.04550939711692921,-0.3338580537860754,-0.19312822072753585,-0.04545487590265107,0.04822573965234045],[-0.00008950868516801248,0.06760560512832738,0.0002954905358618961,0.015641434562287077,-0.05407623737559103,0.23116337811434623,-0.026115859039814057,-0.30708797502227736,-0.06041284049228235,-0.03375163456930626,-0.053010599005385566,0.018456319475553682,-0.05893538924458261,0.047044703989205836,-0.05356873307760444,0.028935506804174747,0.029977946284284823,0.0398072990412785,0.009727537234919207,0.20352437732405665,-0.14294370486175004,0.21070335188185904,1.0,-0.0021107470916434732,0.09353206447789258,0.04036901936271274,-0.24025968516698307,0.020950879145209517,-0.06329659021584211,-0.04734789573606227],[-0.08464498787098938,0.007703084040717694,0.018030557797084606,-0.07977955430720782,-0.13799919922452974,-0.023679492507031122,-0.0534723009765085,0.04107463425237809,-0.009067382582883591,0.00888931922562069,-0.10381698727185769,0.04684195646395001,0.0676955551503699,0.1371114396376282,0.028419538730956626,-0.053372077639812054,-0.09178235845598962,-0.09397414942215782,0.11291922204332822,-0.028484181566562714,0.0073165171496522375,0.039456622159612424,-0.0021107470916434732,1.0,-0.06878802050118155,-0.11987043028236266,-0.17617741516194713,0.006079933071722249,0.12230945096501851,-0.07169935287488845],[-0.11394478721247281,0.13921647042928037,-0.1254708577141497,0.017665741529395967,-0.10659957914429752,-0.1884406250274379,0.008951977756233721,0.30882239099101433,-0.04033545628663488,-0.01830275854422261,0.0512450412937936,0.0026509049906803424,-0.002850673907466558,-0.10434879119186892,-0.030477660470489866,0.040260324216489896,0.012380071477942175,0.04238752888286986,-0.15968678867606118,0.025156526663226025,0.14883636495272318,-0.234615527818157,0.09353206447789258,-0.06878802050118155,1.0,0.08400401733974815,0.20499765148199528,0.1357695695886318,-0.041780934479593135,0.06901856988768669],[-0.002302835619760644,0.07554127950599775,-0.06857974647905367,0.18738067713256898,0.00782037885715969,-0.06475474629735374,-0.0366021417721915,0.030583625022894544,-0.1795140772423822,-0.10721742299886561,0.2235944280086423,-0.17255304406429142,0.04303232155912143,-0.22482334582038796,0.027440495343131865,-0.09982378836277095,-0.07997565167006226,-0.0500308901288661,0.059852963888101046,0.04156196543633678,0.038422268413473085,0.04550939711692921,0.04036901936271274,-0.11987043028236266,0.08400401733974815,1.0,0.16091017218478967,0.005680470165771131,-0.14533371464114192,0.12622636098677456],[0.10853702708644841,-0.08135176311021572,-0.006526300204493713,0.05372193072467113,0.09914180249784675,-0.23994815843198447,0.14828605776800122,0.4032450996691557,0.04636188695520995,0.04409922980764361,0.2252846218206746,-0.09311451817753112,0.05697963808386097,-0.24059652333754275,0.11656951821815359,-0.07591650110486207,-0.051299159974786436,0.0008331908963523953,0.0531394552149056,-0.0858182121320566,0.39458465094833417,-0.3338580537860754,-0.24025968516698307,-0.17617741516194713,0.20499765148199528,0.16091017218478967,1.0,0.2258122428669244,0.016777283450447614,0.12000518261478997],[0.15952709028489231,0.01864630002571088,0.09282898030295264,-0.06375014025607365,0.14551420415345545,-0.1076366617130134,0.14311005745442465,0.0803774374107403,0.12640870220287878,0.1066193092052054,0.019844150952585873,-0.009056730031202746,-0.10435343402340837,-0.12444571892754483,0.06438652371003051,0.012203281557326058,0.04606385754921937,0.08991940982412233,-0.07127817534322185,0.10136921905433621,0.2582798975483081,-0.19312822072753585,0.020950879145209517,0.006079933071722249,0.1357695695886318,0.005680470165771131,0.2258122428669244,1.0,-0.0936364583711037,0.0865297949496145],[-0.05192358278859978,-0.22207567570928194,0.03633901082098276,-0.17752964872828386,-0.18888835240062904,0.17716729861697217,0.1057297461216351,0.14420861833629145,0.11925246841523691,0.0929637718739854,-0.16413137759009183,0.1283239404914557,0.08947371479990947,0.17896755636786033,0.0832332215447104,-0.010598399764097424,-0.03389438577020316,-0.03894124151391151,0.12488514051140918,-0.011974173900373784,0.1173151334874369,-0.04545487590265107,-0.06329659021584211,0.12230945096501851,-0.041780934479593135,-0.14533371464114192,0.016777283450447614,-0.0936364583711037,1.0,-0.09564158124308637],[-0.435543979365949,0.4889325233825486,-0.5714036386777251,0.7119358107503659,-0.3535178502385606,-0.43415753262704887,-0.4745086690640185,0.11215394151413156,-0.5546039910463941,-0.6347361152929959,0.6878256234304476,-0.6851341778664783,-0.008114188187293866,-0.7489381135607963,-0.0379584093627989,-0.585900258787125,-0.5474574214511747,-0.45835699493585835,0.2776270809675989,0.20910018757036364,0.12275709341015482,0.04822573965234045,-0.04734789573606227,-0.07169935287488845,0.06901856988768669,0.12622636098677456,0.12000518261478997,0.0865297949496145,-0.09564158124308637,1.0]],\"type\":\"heatmap\",\"xaxis\":\"x\",\"yaxis\":\"y\",\"hovertemplate\":\"x: %{x}\\u003cbr\\u003ey: %{y}\\u003cbr\\u003ecolor: %{z}\\u003cextra\\u003e\\u003c\\u002fextra\\u003e\"}],                        {\"template\":{\"data\":{\"histogram2dcontour\":[{\"type\":\"histogram2dcontour\",\"colorbar\":{\"outlinewidth\":0,\"ticks\":\"\"},\"colorscale\":[[0.0,\"#0d0887\"],[0.1111111111111111,\"#46039f\"],[0.2222222222222222,\"#7201a8\"],[0.3333333333333333,\"#9c179e\"],[0.4444444444444444,\"#bd3786\"],[0.5555555555555556,\"#d8576b\"],[0.6666666666666666,\"#ed7953\"],[0.7777777777777778,\"#fb9f3a\"],[0.8888888888888888,\"#fdca26\"],[1.0,\"#f0f921\"]]}],\"choropleth\":[{\"type\":\"choropleth\",\"colorbar\":{\"outlinewidth\":0,\"ticks\":\"\"}}],\"histogram2d\":[{\"type\":\"histogram2d\",\"colorbar\":{\"outlinewidth\":0,\"ticks\":\"\"},\"colorscale\":[[0.0,\"#0d0887\"],[0.1111111111111111,\"#46039f\"],[0.2222222222222222,\"#7201a8\"],[0.3333333333333333,\"#9c179e\"],[0.4444444444444444,\"#bd3786\"],[0.5555555555555556,\"#d8576b\"],[0.6666666666666666,\"#ed7953\"],[0.7777777777777778,\"#fb9f3a\"],[0.8888888888888888,\"#fdca26\"],[1.0,\"#f0f921\"]]}],\"heatmap\":[{\"type\":\"heatmap\",\"colorbar\":{\"outlinewidth\":0,\"ticks\":\"\"},\"colorscale\":[[0.0,\"#0d0887\"],[0.1111111111111111,\"#46039f\"],[0.2222222222222222,\"#7201a8\"],[0.3333333333333333,\"#9c179e\"],[0.4444444444444444,\"#bd3786\"],[0.5555555555555556,\"#d8576b\"],[0.6666666666666666,\"#ed7953\"],[0.7777777777777778,\"#fb9f3a\"],[0.8888888888888888,\"#fdca26\"],[1.0,\"#f0f921\"]]}],\"heatmapgl\":[{\"type\":\"heatmapgl\",\"colorbar\":{\"outlinewidth\":0,\"ticks\":\"\"},\"colorscale\":[[0.0,\"#0d0887\"],[0.1111111111111111,\"#46039f\"],[0.2222222222222222,\"#7201a8\"],[0.3333333333333333,\"#9c179e\"],[0.4444444444444444,\"#bd3786\"],[0.5555555555555556,\"#d8576b\"],[0.6666666666666666,\"#ed7953\"],[0.7777777777777778,\"#fb9f3a\"],[0.8888888888888888,\"#fdca26\"],[1.0,\"#f0f921\"]]}],\"contourcarpet\":[{\"type\":\"contourcarpet\",\"colorbar\":{\"outlinewidth\":0,\"ticks\":\"\"}}],\"contour\":[{\"type\":\"contour\",\"colorbar\":{\"outlinewidth\":0,\"ticks\":\"\"},\"colorscale\":[[0.0,\"#0d0887\"],[0.1111111111111111,\"#46039f\"],[0.2222222222222222,\"#7201a8\"],[0.3333333333333333,\"#9c179e\"],[0.4444444444444444,\"#bd3786\"],[0.5555555555555556,\"#d8576b\"],[0.6666666666666666,\"#ed7953\"],[0.7777777777777778,\"#fb9f3a\"],[0.8888888888888888,\"#fdca26\"],[1.0,\"#f0f921\"]]}],\"surface\":[{\"type\":\"surface\",\"colorbar\":{\"outlinewidth\":0,\"ticks\":\"\"},\"colorscale\":[[0.0,\"#0d0887\"],[0.1111111111111111,\"#46039f\"],[0.2222222222222222,\"#7201a8\"],[0.3333333333333333,\"#9c179e\"],[0.4444444444444444,\"#bd3786\"],[0.5555555555555556,\"#d8576b\"],[0.6666666666666666,\"#ed7953\"],[0.7777777777777778,\"#fb9f3a\"],[0.8888888888888888,\"#fdca26\"],[1.0,\"#f0f921\"]]}],\"mesh3d\":[{\"type\":\"mesh3d\",\"colorbar\":{\"outlinewidth\":0,\"ticks\":\"\"}}],\"scatter\":[{\"fillpattern\":{\"fillmode\":\"overlay\",\"size\":10,\"solidity\":0.2},\"type\":\"scatter\"}],\"parcoords\":[{\"type\":\"parcoords\",\"line\":{\"colorbar\":{\"outlinewidth\":0,\"ticks\":\"\"}}}],\"scatterpolargl\":[{\"type\":\"scatterpolargl\",\"marker\":{\"colorbar\":{\"outlinewidth\":0,\"ticks\":\"\"}}}],\"bar\":[{\"error_x\":{\"color\":\"#2a3f5f\"},\"error_y\":{\"color\":\"#2a3f5f\"},\"marker\":{\"line\":{\"color\":\"#E5ECF6\",\"width\":0.5},\"pattern\":{\"fillmode\":\"overlay\",\"size\":10,\"solidity\":0.2}},\"type\":\"bar\"}],\"scattergeo\":[{\"type\":\"scattergeo\",\"marker\":{\"colorbar\":{\"outlinewidth\":0,\"ticks\":\"\"}}}],\"scatterpolar\":[{\"type\":\"scatterpolar\",\"marker\":{\"colorbar\":{\"outlinewidth\":0,\"ticks\":\"\"}}}],\"histogram\":[{\"marker\":{\"pattern\":{\"fillmode\":\"overlay\",\"size\":10,\"solidity\":0.2}},\"type\":\"histogram\"}],\"scattergl\":[{\"type\":\"scattergl\",\"marker\":{\"colorbar\":{\"outlinewidth\":0,\"ticks\":\"\"}}}],\"scatter3d\":[{\"type\":\"scatter3d\",\"line\":{\"colorbar\":{\"outlinewidth\":0,\"ticks\":\"\"}},\"marker\":{\"colorbar\":{\"outlinewidth\":0,\"ticks\":\"\"}}}],\"scattermapbox\":[{\"type\":\"scattermapbox\",\"marker\":{\"colorbar\":{\"outlinewidth\":0,\"ticks\":\"\"}}}],\"scatterternary\":[{\"type\":\"scatterternary\",\"marker\":{\"colorbar\":{\"outlinewidth\":0,\"ticks\":\"\"}}}],\"scattercarpet\":[{\"type\":\"scattercarpet\",\"marker\":{\"colorbar\":{\"outlinewidth\":0,\"ticks\":\"\"}}}],\"carpet\":[{\"aaxis\":{\"endlinecolor\":\"#2a3f5f\",\"gridcolor\":\"white\",\"linecolor\":\"white\",\"minorgridcolor\":\"white\",\"startlinecolor\":\"#2a3f5f\"},\"baxis\":{\"endlinecolor\":\"#2a3f5f\",\"gridcolor\":\"white\",\"linecolor\":\"white\",\"minorgridcolor\":\"white\",\"startlinecolor\":\"#2a3f5f\"},\"type\":\"carpet\"}],\"table\":[{\"cells\":{\"fill\":{\"color\":\"#EBF0F8\"},\"line\":{\"color\":\"white\"}},\"header\":{\"fill\":{\"color\":\"#C8D4E3\"},\"line\":{\"color\":\"white\"}},\"type\":\"table\"}],\"barpolar\":[{\"marker\":{\"line\":{\"color\":\"#E5ECF6\",\"width\":0.5},\"pattern\":{\"fillmode\":\"overlay\",\"size\":10,\"solidity\":0.2}},\"type\":\"barpolar\"}],\"pie\":[{\"automargin\":true,\"type\":\"pie\"}]},\"layout\":{\"autotypenumbers\":\"strict\",\"colorway\":[\"#636efa\",\"#EF553B\",\"#00cc96\",\"#ab63fa\",\"#FFA15A\",\"#19d3f3\",\"#FF6692\",\"#B6E880\",\"#FF97FF\",\"#FECB52\"],\"font\":{\"color\":\"#2a3f5f\"},\"hovermode\":\"closest\",\"hoverlabel\":{\"align\":\"left\"},\"paper_bgcolor\":\"white\",\"plot_bgcolor\":\"#E5ECF6\",\"polar\":{\"bgcolor\":\"#E5ECF6\",\"angularaxis\":{\"gridcolor\":\"white\",\"linecolor\":\"white\",\"ticks\":\"\"},\"radialaxis\":{\"gridcolor\":\"white\",\"linecolor\":\"white\",\"ticks\":\"\"}},\"ternary\":{\"bgcolor\":\"#E5ECF6\",\"aaxis\":{\"gridcolor\":\"white\",\"linecolor\":\"white\",\"ticks\":\"\"},\"baxis\":{\"gridcolor\":\"white\",\"linecolor\":\"white\",\"ticks\":\"\"},\"caxis\":{\"gridcolor\":\"white\",\"linecolor\":\"white\",\"ticks\":\"\"}},\"coloraxis\":{\"colorbar\":{\"outlinewidth\":0,\"ticks\":\"\"}},\"colorscale\":{\"sequential\":[[0.0,\"#0d0887\"],[0.1111111111111111,\"#46039f\"],[0.2222222222222222,\"#7201a8\"],[0.3333333333333333,\"#9c179e\"],[0.4444444444444444,\"#bd3786\"],[0.5555555555555556,\"#d8576b\"],[0.6666666666666666,\"#ed7953\"],[0.7777777777777778,\"#fb9f3a\"],[0.8888888888888888,\"#fdca26\"],[1.0,\"#f0f921\"]],\"sequentialminus\":[[0.0,\"#0d0887\"],[0.1111111111111111,\"#46039f\"],[0.2222222222222222,\"#7201a8\"],[0.3333333333333333,\"#9c179e\"],[0.4444444444444444,\"#bd3786\"],[0.5555555555555556,\"#d8576b\"],[0.6666666666666666,\"#ed7953\"],[0.7777777777777778,\"#fb9f3a\"],[0.8888888888888888,\"#fdca26\"],[1.0,\"#f0f921\"]],\"diverging\":[[0,\"#8e0152\"],[0.1,\"#c51b7d\"],[0.2,\"#de77ae\"],[0.3,\"#f1b6da\"],[0.4,\"#fde0ef\"],[0.5,\"#f7f7f7\"],[0.6,\"#e6f5d0\"],[0.7,\"#b8e186\"],[0.8,\"#7fbc41\"],[0.9,\"#4d9221\"],[1,\"#276419\"]]},\"xaxis\":{\"gridcolor\":\"white\",\"linecolor\":\"white\",\"ticks\":\"\",\"title\":{\"standoff\":15},\"zerolinecolor\":\"white\",\"automargin\":true,\"zerolinewidth\":2},\"yaxis\":{\"gridcolor\":\"white\",\"linecolor\":\"white\",\"ticks\":\"\",\"title\":{\"standoff\":15},\"zerolinecolor\":\"white\",\"automargin\":true,\"zerolinewidth\":2},\"scene\":{\"xaxis\":{\"backgroundcolor\":\"#E5ECF6\",\"gridcolor\":\"white\",\"linecolor\":\"white\",\"showbackground\":true,\"ticks\":\"\",\"zerolinecolor\":\"white\",\"gridwidth\":2},\"yaxis\":{\"backgroundcolor\":\"#E5ECF6\",\"gridcolor\":\"white\",\"linecolor\":\"white\",\"showbackground\":true,\"ticks\":\"\",\"zerolinecolor\":\"white\",\"gridwidth\":2},\"zaxis\":{\"backgroundcolor\":\"#E5ECF6\",\"gridcolor\":\"white\",\"linecolor\":\"white\",\"showbackground\":true,\"ticks\":\"\",\"zerolinecolor\":\"white\",\"gridwidth\":2}},\"shapedefaults\":{\"line\":{\"color\":\"#2a3f5f\"}},\"annotationdefaults\":{\"arrowcolor\":\"#2a3f5f\",\"arrowhead\":0,\"arrowwidth\":1},\"geo\":{\"bgcolor\":\"white\",\"landcolor\":\"#E5ECF6\",\"subunitcolor\":\"white\",\"showland\":true,\"showlakes\":true,\"lakecolor\":\"white\"},\"title\":{\"x\":0.05},\"mapbox\":{\"style\":\"light\"}}},\"xaxis\":{\"anchor\":\"y\",\"domain\":[0.0,1.0]},\"yaxis\":{\"anchor\":\"x\",\"domain\":[0.0,1.0],\"autorange\":\"reversed\"},\"coloraxis\":{\"colorscale\":[[0.0,\"rgb(5,48,97)\"],[0.1,\"rgb(33,102,172)\"],[0.2,\"rgb(67,147,195)\"],[0.3,\"rgb(146,197,222)\"],[0.4,\"rgb(209,229,240)\"],[0.5,\"rgb(247,247,247)\"],[0.6,\"rgb(253,219,199)\"],[0.7,\"rgb(244,165,130)\"],[0.8,\"rgb(214,96,77)\"],[0.9,\"rgb(178,24,43)\"],[1.0,\"rgb(103,0,31)\"]]},\"margin\":{\"t\":60}},                        {\"responsive\": true}                    ).then(function(){\n",
              "                            \n",
              "var gd = document.getElementById('617b3058-6c8d-4ed7-85cb-94604d5fb0ce');\n",
              "var x = new MutationObserver(function (mutations, observer) {{\n",
              "        var display = window.getComputedStyle(gd).display;\n",
              "        if (!display || display === 'none') {{\n",
              "            console.log([gd, 'removed!']);\n",
              "            Plotly.purge(gd);\n",
              "            observer.disconnect();\n",
              "        }}\n",
              "}});\n",
              "\n",
              "// Listen for the removal of the full notebook cells\n",
              "var notebookContainer = gd.closest('#notebook-container');\n",
              "if (notebookContainer) {{\n",
              "    x.observe(notebookContainer, {childList: true});\n",
              "}}\n",
              "\n",
              "// Listen for the clearing of the current output cell\n",
              "var outputEl = gd.closest('.output');\n",
              "if (outputEl) {{\n",
              "    x.observe(outputEl, {childList: true});\n",
              "}}\n",
              "\n",
              "                        })                };                            </script>        </div>\n",
              "</body>\n",
              "</html>"
            ]
          },
          "metadata": {}
        }
      ],
      "source": [
        "corr = new_df.corr()\n",
        "fig=px.imshow(corr, aspect=\"auto\" ,color_continuous_scale='RdBu_r')\n",
        "fig.show()"
      ]
    },
    {
      "cell_type": "markdown",
      "id": "a7c45385",
      "metadata": {
        "id": "a7c45385"
      },
      "source": [
        "Negative Correlations: V17, V14, V12 and V10 are negatively correlated.  \n",
        "Positive Correlations: V2, V4, V11 are positively correlated."
      ]
    },
    {
      "cell_type": "markdown",
      "source": [
        "Note-Used chatgpt to understand the correlations. As the features are  anonymised it was difficult to conclude and get relationship and dependency on eachother."
      ],
      "metadata": {
        "id": "WiCIPI-b_Cbf"
      },
      "id": "WiCIPI-b_Cbf"
    },
    {
      "cell_type": "code",
      "execution_count": 15,
      "id": "Mzekq9GppDUe",
      "metadata": {
        "colab": {
          "base_uri": "https://localhost:8080/"
        },
        "id": "Mzekq9GppDUe",
        "outputId": "281fdc67-adea-4d2b-8e24-777c5470cd58"
      },
      "outputs": [
        {
          "output_type": "stream",
          "name": "stdout",
          "text": [
            "Highly Correlated Feature Pairs (|r| > 0.9):\n",
            "V11 ↔ V12: r = 0.90\n",
            "V16 ↔ V17: r = 0.95\n",
            "V17 ↔ V18: r = 0.94\n"
          ]
        }
      ],
      "source": [
        "# Calculate absolute correlation matrix (optional: choose df or new_df)\n",
        "corr_matrix = new_df.corr().abs()\n",
        "\n",
        "# Select upper triangle of correlation matrix to avoid duplicates and self-correlation\n",
        "upper = corr_matrix.where(np.triu(np.ones(corr_matrix.shape), k=1).astype(bool))\n",
        "\n",
        "# Set threshold\n",
        "threshold = 0.9\n",
        "\n",
        "# Find feature pairs with high correlation\n",
        "high_corr_pairs = [(col1, col2, corr_matrix.loc[col1, col2])\n",
        "                   for col1 in upper.columns\n",
        "                   for col2 in upper.columns\n",
        "                   if (upper.loc[col1, col2] > threshold)]\n",
        "\n",
        "# Display results\n",
        "print(\"Highly Correlated Feature Pairs (|r| > 0.9):\")\n",
        "for f1, f2, corr_value in high_corr_pairs:\n",
        "    print(f\"{f1} ↔ {f2}: r = {corr_value:.2f}\")"
      ]
    },
    {
      "cell_type": "markdown",
      "source": [
        "Reference-https://data36.com/correlation-definition-calculation-corr-pandas/"
      ],
      "metadata": {
        "id": "uIB9nmPF_3Dc"
      },
      "id": "uIB9nmPF_3Dc"
    },
    {
      "cell_type": "markdown",
      "id": "09014a1a",
      "metadata": {
        "id": "09014a1a"
      },
      "source": [
        "### TSNE"
      ]
    },
    {
      "cell_type": "code",
      "execution_count": 16,
      "id": "64e561a6",
      "metadata": {
        "id": "64e561a6"
      },
      "outputs": [],
      "source": [
        "from sklearn.manifold import TSNE\n",
        "X = new_df.drop('Class', axis=1)\n",
        "y = new_df['Class']\n",
        "\n",
        "# T-SNE Implementation\n",
        "X_reduced_tsne = TSNE(n_components=2, random_state=42).fit_transform(X.values)"
      ]
    },
    {
      "cell_type": "code",
      "execution_count": 17,
      "id": "1b1e39a4",
      "metadata": {
        "colab": {
          "base_uri": "https://localhost:8080/",
          "height": 542
        },
        "id": "1b1e39a4",
        "outputId": "7d78cbbb-3b2e-47b6-c8b1-2e30ebfba5ce"
      },
      "outputs": [
        {
          "output_type": "display_data",
          "data": {
            "text/html": [
              "<html>\n",
              "<head><meta charset=\"utf-8\" /></head>\n",
              "<body>\n",
              "    <div>            <script src=\"https://cdnjs.cloudflare.com/ajax/libs/mathjax/2.7.5/MathJax.js?config=TeX-AMS-MML_SVG\"></script><script type=\"text/javascript\">if (window.MathJax && window.MathJax.Hub && window.MathJax.Hub.Config) {window.MathJax.Hub.Config({SVG: {font: \"STIX-Web\"}});}</script>                <script type=\"text/javascript\">window.PlotlyConfig = {MathJaxConfig: 'local'};</script>\n",
              "        <script charset=\"utf-8\" src=\"https://cdn.plot.ly/plotly-2.35.2.min.js\"></script>                <div id=\"0ca42b8b-20c7-48cb-bd4a-d994517c4283\" class=\"plotly-graph-div\" style=\"height:525px; width:100%;\"></div>            <script type=\"text/javascript\">                                    window.PLOTLYENV=window.PLOTLYENV || {};                                    if (document.getElementById(\"0ca42b8b-20c7-48cb-bd4a-d994517c4283\")) {                    Plotly.newPlot(                        \"0ca42b8b-20c7-48cb-bd4a-d994517c4283\",                        [{\"hovertemplate\":\"x=%{x}\\u003cbr\\u003ey=%{y}\\u003cbr\\u003ecolor=%{marker.color}\\u003cextra\\u003e\\u003c\\u002fextra\\u003e\",\"legendgroup\":\"\",\"marker\":{\"color\":[0,1,1,1,1,1,1,1,1,1,1,1,1,0,0,1,1,1,1,0,0,0,0,0,0,1,1,1,0,0,0,0,0,1,0,0,0,0,0,0,1,1,1,0,0,1,1,1,0,0,0,1,0,1,1,1,0,0,1,0,0,0,0,1,0,1,0,0,1,0,1,0,1,1,0,0,1,0,1,0,0,0,0,1,0,0,1,0,0,0,1,0,0,0,1,0,1,0,1,0,1,1,1,1,1,0,1,1,0,0,0,1,1,0,0,0,1,0,1,1,0,0,0,0,0,1,0,0,1,0,0,0,0,1,0,1,1,1,0,1,1,1,1,0,1,1,0,1,0,1,1,1,0,0,1,0,0,0,0,1,1,0,1,0,1,0,1,0,1,1,1,0,0,0,0,1,0,1,0,0,1,0,0,0,1,0,0,1,0,1,0,1,1,0,1,1,0,1,0,1,1,0,1,1,1,1,0,1,1,0,0,1,1,1,0,1,0,1,1,1,0,0,0,0,1,0,1,0,0,0,0,1,0,1,1,1,1,1,1,1,0,0,1,0,1,1,1,1,0,0,0,0,1,1,1,0,0,0,0,1,0,1,0,1,1,1,0,1,0,1,1,1,1,0,0,1,1,0,0,0,1,0,0,1,0,0,1,0,0,0,0,0,1,1,0,1,1,1,1,0,1,0,1,1,0,0,0,1,0,0,0,0,0,1,1,1,1,1,0,1,0,1,1,0,1,1,1,1,0,1,1,0,1,1,1,0,1,1,0,1,1,1,1,1,0,1,1,0,0,1,1,0,1,1,1,0,1,0,1,1,1,0,1,0,1,1,1,0,1,1,0,0,0,1,1,0,0,0,1,0,0,0,0,1,0,0,0,1,1,1,0,1,1,1,1,0,1,1,1,1,1,0,1,0,0,1,0,0,0,1,0,0,0,0,0,1,1,0,0,0,1,1,1,1,0,0,1,1,1,1,0,1,1,0,1,1,0,0,0,0,0,0,1,1,1,0,1,1,1,1,0,0,0,0,1,1,1,1,1,0,0,0,1,1,0,0,0,1,1,0,1,0,1,1,0,1,0,0,0,0,1,1,1,1,0,1,0,1,1,1,1,1,0,0,0,0,1,1,0,0,0,1,0,0,1,1,1,0,0,1,0,0,1,0,1,1,1,0,1,1,1,1,0,1,0,0,0,0,1,1,0,0,1,0,0,1,1,1,1,1,0,0,0,1,1,0,1,1,0,1,1,0,1,1,0,1,1,1,0,1,1,0,0,0,1,0,0,1,1,1,0,0,0,0,1,1,0,0,0,1,1,1,1,0,0,1,1,0,1,1,0,0,0,0,0,0,0,1,0,1,0,1,1,0,1,0,0,0,0,0,1,0,0,1,1,0,1,0,1,1,1,0,1,1,0,0,0,1,0,0,0,0,0,0,0,1,0,1,0,0,0,1,1,0,1,1,1,0,0,0,1,1,1,1,0,1,0,0,1,0,1,1,0,1,1,0,0,0,0,0,1,0,1,1,1,0,0,0,0,0,0,1,1,0,0,0,0,1,1,1,1,1,0,0,1,0,1,0,1,1,1,1,1,1,1,1,1,0,0,0,1,0,1,0,0,0,1,0,0,0,0,0,0,0,0,1,0,0,1,0,1,0,1,0,1,0,0,0,1,0,0,1,0,0,1,0,1,0,0,1,1,0,0,0,1,1,1,1,0,0,1,1,0,0,0,0,0,0,0,0,0,0,0,0,1,1,0,1,0,1,0,1,0,0,0,0,0,0,1,0,1,0,0,0,1,0,0,1,1,0,1,0,0,1,1,0,0,0,0,0,0,0,0,1,0,0,0,1,0,1,1,0,1,1,1,0,1,0,0,1,1,1,0,1,0,0,1,1,1,0,1,0,0,0,1,0,1,1,1,0,1,1,0,1,0,1,1,0,0,0,1,0,1,0,1,1,0,0,0,1,1,1,0,0,1,0,0,0,0,1,0,1,1,0,0,0,1,1,1,0,0,1,1,1,1,1,0,1,0,1,1,1,0,1,1,1,0,0,0,0,0,0,0,0,1,0,0,0,0,1,0,0,0,0,0,1,0,0,0,0,1,1,1,1,1,1,1,1,0,1,0,1,0,1,0,1,0,0,1,1,1,1,1,1,1,1,0,1,0,1,1,1,0,1,1],\"coloraxis\":\"coloraxis\",\"symbol\":\"circle\"},\"mode\":\"markers\",\"name\":\"\",\"orientation\":\"v\",\"showlegend\":false,\"x\":[4.8276057,-34.7396,-37.008465,-27.59114,-28.005877,-34.486492,23.57463,-33.94323,-29.169447,-35.237774,-6.35573,-30.42889,-20.56143,7.372487,13.407431,-31.01534,-35.01979,-38.751415,-21.97129,28.907122,9.282676,27.056458,-1.1648713,3.6154542,18.489632,-43.683792,-17.070402,-24.223219,1.2760437,20.133116,11.946311,14.544371,32.268314,-31.668848,18.563318,9.766336,17.676828,1.456084,28.557138,1.6445715,-22.962574,-18.336552,-28.97454,6.236257,20.516531,-29.028349,4.3368535,-29.237694,28.368406,8.07467,29.570902,10.611008,16.340578,-7.9649606,-22.735868,-34.499928,24.21008,8.785324,-29.156097,23.710163,14.002996,34.784912,6.702757,-34.52793,13.166152,-19.760658,10.006137,16.722744,3.7933354,-0.94860667,-1.4451824,16.351076,-24.09777,-34.540897,19.970697,10.997799,-2.2973368,25.99233,-33.01667,16.177628,22.0582,34.087368,26.725037,-39.384003,31.271902,7.5280495,-30.589045,30.564001,12.264478,30.996128,15.017013,17.2023,3.554642,5.9390883,-21.327839,33.135277,-22.446144,8.088747,-30.032099,15.28209,-4.0271797,-17.894861,-37.87779,-20.265032,-30.003965,34.475796,-20.41428,-5.663339,8.770875,13.673875,1.5097198,-3.974207,-18.73518,12.071517,23.835775,11.319782,-15.636231,8.924229,-16.190016,-16.033997,32.741966,14.9575205,4.1424804,14.180093,14.471576,-30.496946,13.514375,34.021095,-15.746902,8.944189,22.54859,15.896591,12.711755,-32.29765,34.890213,-34.551632,-32.272186,-29.372923,20.060934,-34.66849,4.471549,-43.316628,6.9795294,17.570606,-19.306238,-34.888683,6.3415565,8.87272,26.105017,-37.222755,-26.144773,-30.351477,26.750816,17.406597,-22.44979,12.477193,32.612244,1.4618105,30.289263,-15.156531,17.817844,12.822375,-41.320293,11.520921,-31.033388,-1.197614,-40.746502,20.915037,1.4615176,-34.274178,-15.851104,11.462941,36.54322,-1.966277,17.025732,-19.170609,20.043427,-29.267075,9.994606,11.265783,-34.7905,7.827382,11.918685,6.365037,-23.03846,-1.542329,6.4654174,-19.7996,26.744478,-31.124014,23.568481,-24.984173,-35.022038,12.857869,-34.98784,-37.048367,9.3115635,-38.884933,6.8835955,-45.816807,-35.283276,26.243431,-3.3699815,-41.428196,-24.556673,-39.91901,20.462622,-2.1660235,-14.451668,22.30867,9.549942,-29.665972,-35.87251,-3.2684393,25.873241,-26.584469,19.723677,-41.21218,-19.052355,-27.298563,30.933584,12.874313,14.045359,18.208138,-33.727215,12.272113,-38.81519,-0.74252504,11.086241,14.692904,7.458123,-25.907925,14.681372,-34.85242,9.285664,-33.87792,14.148686,-6.320926,5.318319,-34.10281,20.716566,10.760982,-16.40236,11.316433,-26.10785,-43.1037,7.2793117,-4.4659843,10.748306,23.72436,17.008886,13.633306,-41.75202,-41.253746,-34.23779,18.966507,9.825425,23.033913,32.117718,-26.928541,18.190697,-32.20802,14.5599575,-27.122839,8.277848,-45.9502,7.788054,6.379713,33.706894,1.6483473,6.507142,-30.062876,-31.974205,24.097965,5.0719037,-42.312336,-21.116213,13.544293,12.955712,24.206844,-31.153978,6.7482486,23.014286,-25.537577,16.582808,14.097207,-44.992546,30.060574,8.695168,18.297438,16.86998,36.549732,-19.402435,-30.363653,30.723858,3.9119718,-22.582333,-26.86915,-34.96834,15.223831,-25.476955,14.964636,-18.136637,-40.79378,26.659397,22.468922,35.804096,-30.408041,12.6101,9.985706,12.861171,0.46162814,28.486622,-34.489895,-2.889789,-34.29014,-12.130238,-22.244925,25.714094,-29.709946,13.294274,-41.741474,-29.08297,27.872137,-7.306106,-25.366549,6.764722,3.981965,33.818474,-19.502768,-28.88299,3.141512,-34.919456,-29.895739,-27.549002,32.623592,-44.673454,-34.388187,14.223645,-18.052448,-41.32907,-4.5511327,-19.006456,-43.3606,33.099667,-41.215378,-29.142288,-0.5403152,10.734214,-32.24823,-19.593334,8.310112,-18.301891,19.15691,8.940654,22.330442,-34.961693,23.881912,-31.04652,-15.137127,-31.37694,10.012502,-20.073135,28.800486,2.8531165,8.431506,-44.656372,23.96111,-34.78711,3.465013,12.075956,5.377885,7.7755976,-15.517688,-0.09690697,29.84205,18.996185,12.6843195,-36.35375,12.801203,20.394386,11.885674,9.276125,-7.8920007,26.263224,31.62786,32.05924,-23.032787,9.095634,-19.142809,22.53783,-6.4238257,-38.34976,-33.283657,-32.910942,14.648494,-36.95226,-33.856236,-7.878107,-38.775063,-34.5927,32.21776,-32.63563,25.878042,7.611156,-41.462776,24.262424,10.806672,14.308104,-18.455278,2.7540827,9.246472,20.66653,6.389465,23.7679,-27.600826,-7.8291516,4.3044515,20.96281,15.079113,-17.05004,-32.55092,-34.701958,-19.5033,28.145424,22.550045,-17.766207,-24.320927,2.3692439,19.722525,6.652915,8.562029,-21.113985,28.814657,-22.71729,-43.426105,32.13711,25.036469,12.884881,24.722725,14.0030575,7.5639606,2.9456525,-43.85315,-15.755593,25.995928,-29.501846,-36.564484,-25.160025,-36.043633,23.90895,10.026877,7.755792,25.292282,-18.587822,-37.58117,-18.520884,-43.61617,-22.560776,29.14426,25.755898,9.804283,-1.919091,-34.887665,16.229326,15.726977,31.334656,-3.751108,19.444998,10.120897,-20.439617,10.715581,-13.499147,-29.966331,21.968151,-34.856747,19.222399,11.360515,19.822222,29.95381,-34.1387,-4.7696967,-26.136225,-31.34395,31.620167,18.354095,13.496133,-29.5612,-25.349003,-28.917912,-31.90971,-36.755367,26.239485,8.855698,9.031574,11.122864,-8.251928,-20.318153,28.249544,10.559134,33.46974,-25.358086,2.9442182,10.112266,-25.152391,-39.524784,-34.656017,10.808493,11.716038,-26.082117,8.135015,8.0407505,-15.188202,27.336012,-32.11154,-24.437836,-3.338624,32.978336,-28.959202,-43.754738,-17.392193,-36.531586,24.604889,-27.213179,21.762114,12.855565,10.771651,5.3955317,-29.436264,-29.570242,11.92796,34.158516,-34.180405,23.17439,26.836935,15.190566,-17.96858,-22.084032,-25.26185,-17.54905,17.660769,30.895199,35.658806,-16.870111,-39.03596,-1.6638507,-19.813282,-18.30848,18.38798,-17.888817,-21.282927,24.657019,-25.154896,-3.9677787,27.430004,-17.371902,-24.248741,-28.515072,11.914212,-38.027134,-0.6281919,20.111368,32.641605,2.187576,-31.337454,-0.9791702,19.465065,-37.825535,-19.741817,-19.971653,25.840925,13.355058,13.363244,14.405749,-42.967392,-32.027138,14.392272,5.00941,5.547654,-27.140684,-37.39648,-35.099358,-41.7561,27.594353,32.857044,12.641751,-29.634438,3.07048,-30.750208,-32.764595,26.05548,31.832115,19.206127,5.774845,17.980583,24.55043,28.216904,-35.002934,9.668685,-32.256317,7.9574695,27.288393,-31.333048,15.864779,-22.389849,27.333597,18.267342,12.042476,12.163706,30.610483,-35.499306,19.88692,13.021381,-15.139518,-43.887337,6.9560404,-23.7682,12.605745,-30.437601,-34.79965,-3.0141249,11.51918,-24.408854,2.8545039,8.901467,10.5689745,18.186264,3.7377205,31.33025,15.253572,10.332658,12.927461,28.753983,21.55467,22.701897,-39.78932,14.788372,-34.727894,15.682481,27.516193,14.311976,-12.121117,-41.750397,35.797962,-3.2989733,-32.08484,-16.027895,10.096464,18.213465,24.053593,-22.404669,-38.79967,-35.551636,-35.966385,14.516664,-29.935495,8.797139,18.466526,-22.483164,14.934519,-1.9332011,-33.662327,15.46055,-44.05463,-41.00296,10.62959,28.92269,23.468126,14.896429,11.67287,-4.173046,10.830148,-19.954222,-36.80066,-28.870014,34.411213,8.212652,37.36932,8.486983,33.334446,22.883453,-27.041058,7.7898397,12.648973,12.873889,18.041342,19.738417,19.164488,4.252006,3.7042239,-28.231663,-21.838192,12.558525,9.509672,-32.49855,36.490044,-30.813278,12.876798,-3.8387213,7.0150933,-23.107538,-37.418175,-20.611355,-28.978477,-29.293737,-30.186174,-15.179512,13.009962,11.183328,0.26398945,-17.171297,9.961654,-35.493477,21.8188,29.78701,4.359028,13.073452,10.213023,7.880779,33.8409,27.408314,23.514462,14.084803,25.171875,31.780403,-34.08347,13.494702,3.2185018,-40.370224,5.675813,-17.896229,13.204659,-18.323328,29.332052,-34.812775,5.588399,19.586338,23.629732,-36.986095,23.718678,28.19912,-29.4743,10.684499,5.170139,-41.75183,9.083169,3.3886073,14.81206,16.371164,-8.16692,-28.551409,30.588392,18.85796,8.6661415,-1.5588895,-28.741743,-15.221956,-36.162502,29.449276,16.403538,-16.804214,-43.00539,25.793844,21.193546,0.10567039,19.021532,-1.7405226,14.175999,13.58732,7.6207466,16.014095,9.27098,9.34088,-0.15402237,-37.81248,-39.313477,9.539013,-33.37128,33.644474,-21.58531,35.92776,-33.910084,26.87406,15.595277,26.681953,18.602888,23.209423,19.113594,-15.252861,25.25855,-39.271072,10.819754,10.693186,3.2865465,-38.032383,11.998668,13.489296,-32.12072,-35.579334,16.595243,-29.257675,12.312096,5.672827,8.519599,-2.1767902,6.988727,24.351046,-2.550248,21.940815,12.395483,33.505943,5.7854233,7.267542,-25.503471,32.05364,35.80187,18.470116,-33.551414,15.788312,-44.700985,-33.63692,28.987938,-45.890713,-19.793259,-37.860973,33.0467,-19.272058,11.234469,13.061086,-24.84753,-28.65031,-32.157494,19.707499,-25.299469,28.549982,10.089292,-33.797756,7.7900095,-38.83214,29.678133,12.701516,15.899354,17.078157,22.853113,-43.481926,-2.9995706,-28.709436,-34.20778,-34.89176,24.296852,-31.959105,27.891407,24.756277,-16.405869,36.517292,-32.3258,-26.912006,13.955383,8.223683,15.131193,-24.562975,31.18264,-33.71109,34.631763,-39.660572,-25.616388,16.009306,7.8045053,3.9243329,-34.535908,-29.72778,4.3805637,12.882583,9.31088,-34.631264,17.021664,14.532568,13.377058,23.163246,-40.73448,10.518969,-17.726679,-3.8634756,15.054884,16.936077,8.237555,-34.18692,-33.50053,-0.9520297,26.767643,11.846929,-27.00265,19.62701,-18.761576,-34.795467,-25.26482,12.597234,-28.390186,25.28642,-28.7652,-30.40383,-35.414104,3.816316,2.9054644,-1.920524,-6.8889723,12.600076,7.663282,19.827208,5.6955957,22.139383,11.84183,16.437368,30.999943,-4.4820204,-1.2276206,1.7597481,11.514489,30.952997,-19.761608,-2.0684097,19.574713,31.67854,29.290283,9.176694,0.45607176,20.60491,17.976389,20.726719,13.23298,-27.035463,-29.193592,-45.03616,-43.175503,-24.332663,-34.025726,-38.584236,-27.269476,29.563623,-29.765732,22.56294,-32.775803,16.076529,-18.75357,6.2768545,-30.92159,26.592457,6.3537145,-37.37167,-39.271717,-36.062103,-34.399773,-26.372128,17.171566,-30.229633,-4.148881,17.379644,-30.844471,28.31675,-35.398346,-35.950886,-41.7602,8.42966,-29.911306,-34.976067],\"xaxis\":\"x\",\"y\":[-14.11759,-32.86278,-14.214661,-17.984726,-35.23498,22.808002,7.835294,16.42483,31.969347,16.804548,-7.91084,-35.203716,-17.590715,14.783997,17.349337,-19.02862,15.8026705,-17.830765,-19.605621,14.5581,-2.516851,-2.5354664,9.859953,-9.55866,21.02437,-13.724835,-10.515754,-32.873276,17.468994,-13.471791,-0.6030191,22.616354,-5.511858,33.382732,18.307102,-9.309014,14.824497,16.28707,14.726886,-5.9672437,-29.129227,-27.675097,-15.507279,-3.0536745,-12.754038,-15.475733,-5.9220486,30.576931,-5.207621,20.344496,9.519322,26.201363,16.848015,-6.889138,-24.471024,27.220415,6.8964305,-0.14940268,-35.94975,5.454801,25.742851,25.412588,-11.249417,15.26672,-7.205168,-26.469105,-8.911896,22.263336,19.303894,4.9535666,-4.361274,12.47629,-36.339714,19.012205,22.23615,-3.186909,4.794578,22.501799,32.899014,26.886877,-9.240342,24.909763,-2.5035365,-14.986352,-5.378202,-3.6655693,-21.200998,-0.70627004,-5.144362,4.299458,-0.12714924,18.121468,-5.7468033,23.211857,-27.174633,26.584574,-27.950869,18.399702,-34.80463,3.4075594,-7.511004,-24.196995,25.436008,-28.31554,-26.928219,26.804918,-24.260681,-5.2100444,10.982283,0.46909583,-10.688543,-8.096956,-19.16409,11.255231,16.753119,2.2909725,-24.171553,-4.8287416,-20.616175,-21.176565,-6.666123,7.0299454,2.8708372,15.421231,3.6644976,-35.037586,22.938694,24.597387,-28.760902,-3.4320607,14.019904,-2.8626473,17.003103,25.273884,25.825035,29.375843,30.280237,31.240435,25.054276,-32.9474,16.306902,-14.601916,25.692505,19.28251,-24.006502,22.603575,-13.289668,21.692356,8.217698,-16.290243,-20.528063,-19.611877,22.21151,17.498894,-22.777475,-5.5697017,-6.7404866,17.615417,10.926851,-24.226551,-13.677496,24.434383,-12.755923,26.766443,32.716133,9.543574,22.647333,-12.27265,17.685106,30.123436,-21.706755,-10.634564,21.970022,-8.04172,-9.483739,-22.561468,9.372186,30.753689,-3.6272888,1.3070073,18.00817,-2.776224,-2.2996838,-3.229834,-15.64849,8.901482,-13.994941,-21.675896,22.587576,-26.689428,-3.6443908,-26.651972,17.588146,9.142337,22.87138,27.382748,20.421104,23.414677,2.7043204,-16.573385,27.5639,-5.485787,-2.8661418,-13.941754,-33.50955,23.088175,21.684689,8.449415,-23.189484,16.429256,25.127045,-24.62783,-18.796715,-3.6257603,6.178459,-20.552263,-8.379587,-14.871842,-26.03925,-25.295473,4.7441077,19.674074,10.1684,17.509447,27.481417,0.4902923,-17.487415,5.458307,15.482616,-5.7155414,-4.1236916,-26.48651,3.518272,-16.730993,25.111927,28.250448,24.601067,-6.5918317,18.854551,18.197617,15.7521305,1.6162459,-11.004609,-11.480709,-33.23948,-16.923073,7.7657743,-6.7109566,-8.146215,13.798969,20.929497,11.544185,-9.35354,-15.537546,23.118519,16.243084,0.11858008,6.342521,-5.8362913,-22.357683,0.08514743,-25.096897,20.428848,-36.187874,24.932528,-16.361961,-9.415788,8.169452,-7.5932693,-5.9410644,23.741339,-18.05445,-26.594421,6.0800486,0.6732187,-16.826641,-21.94144,8.09875,9.546069,-0.7407586,-25.57657,-11.435442,18.7365,-35.030056,19.40917,21.869648,-14.388526,11.148208,-0.3855419,0.052932367,19.257053,21.897295,-20.319946,-30.003725,26.158401,-5.78711,-26.337816,-36.999283,-21.137571,17.622505,-13.364741,-4.197147,-21.551924,22.629349,23.715418,17.284714,25.281397,-37.170593,-3.9917548,-7.3750887,12.306963,21.589006,-5.2942114,-33.180546,-0.54424614,23.879457,-24.13364,-20.696884,6.1303644,-34.68743,-2.3060648,-9.644555,31.733025,25.031906,-6.195048,-13.248445,14.304213,4.1784,-5.374073,-22.835766,-37.354713,14.168864,15.108963,-14.718945,-33.540844,25.497313,-18.459497,17.300304,-3.4419508,-20.660799,-15.765107,-6.94688,-29.422766,-18.200727,26.43948,-15.1802845,-17.090446,3.4817586,22.141258,-25.07193,-18.65311,14.848451,-22.16759,10.752855,13.966407,-11.6636305,-18.450577,7.6943073,31.362532,-17.811665,31.801138,-12.903356,-24.058472,-3.074944,-11.720323,23.887672,-17.860079,-4.4674273,28.737099,4.3794255,17.842873,0.027567288,-2.726701,-9.730993,3.1288652,5.4339323,21.695307,16.902384,27.932192,-13.939004,17.39786,-11.473097,-9.3160925,-5.769139,-3.7437463,25.933214,-6.5700617,-29.324533,2.627007,-23.381008,19.255445,-6.782461,24.361378,24.228683,31.46097,26.562191,28.194342,31.733967,-6.5062313,-17.501598,29.899342,27.307198,33.235516,4.5483255,-5.7074924,-13.731379,-11.248903,-13.630185,8.95196,-27.63967,-10.912668,-11.575144,20.543255,-2.8406258,-12.269907,-33.4103,-6.334656,2.8022768,22.01185,13.533882,-22.580389,-18.857298,18.451376,-22.965815,25.181198,4.282046,-12.218664,-37.326813,19.82266,16.849987,-11.257121,-5.163566,-27.205563,14.561213,-28.355152,-12.826662,-3.5577586,14.244301,10.204233,24.420902,10.32191,25.361412,-9.583565,-13.415708,-23.892359,23.50871,-34.859005,-14.430266,-35.28677,28.018167,4.6028724,11.510618,-3.1155741,-4.5187097,-23.111164,-16.217745,-20.792437,-14.564052,-19.043816,-6.449657,8.26439,-8.881378,1.8819075,-32.698162,17.743996,-9.65552,-5.41621,-5.2116976,12.776199,15.183899,-20.032345,24.7361,-23.664762,-37.545395,-8.815414,-18.56385,27.375938,16.156023,-8.532469,6.309616,23.520245,-8.049355,-35.795868,32.094875,25.94049,-14.864149,-9.940257,-31.323393,-19.454353,31.27887,-23.036057,28.971859,-3.643072,10.863676,-4.195565,15.826717,-6.4124184,-21.71124,-2.8218617,-13.590839,-1.8708259,-13.258421,19.794788,20.948774,-37.415264,-14.53404,16.316734,2.3893018,14.748357,-13.959528,-13.581578,-3.3919795,-20.490515,-6.6206875,29.75826,-23.21936,-3.7144659,-4.486431,-36.470413,-18.259487,-28.224348,-17.073038,10.131889,-19.89406,-11.11321,16.562706,-10.215712,-0.03963672,-30.640823,-19.417183,14.739295,25.920933,15.41609,13.543766,-2.6818113,18.624096,-22.869465,-24.378294,-26.56927,-21.151974,-13.057519,4.76572,24.114481,-26.611765,-16.226854,10.254886,-25.140663,-26.237932,16.32507,-12.292796,-21.125008,8.438004,-35.279423,-7.2911463,-4.9955115,-19.57134,-22.881903,-22.276085,19.866627,23.975851,3.598523,19.119713,-6.0547247,16.10163,33.104336,9.868247,13.193219,25.46566,-19.841234,-30.016783,3.3978572,-6.4869204,0.44998848,-1.8156749,-15.289056,-15.307687,-1.3733699,-11.579152,-5.6559696,-37.28182,-16.376654,-17.370483,-8.687027,21.233786,24.912355,22.737185,-31.613575,2.4483924,32.02721,-25.105633,21.383469,5.196213,-12.436401,-12.865164,2.1982532,-11.607121,-3.599682,-18.424913,18.331614,-15.722202,12.0403805,-6.226421,-26.53066,23.053041,-26.56574,12.02032,17.247225,-4.2217345,16.955479,12.812553,29.235289,27.442654,-3.3967774,-17.802433,-15.481656,2.6959307,-21.077873,20.418262,-37.16229,25.229765,-1.1091412,0.94783366,-23.248983,-11.509579,0.20975968,-3.8849702,25.623531,-11.126832,-7.0047517,9.966659,-13.084685,-13.00111,-5.680098,11.005703,-10.397437,-13.627724,0.17590521,16.905594,21.788857,-2.239295,20.324497,-24.126774,-8.979949,25.543255,-2.8574784,-22.381395,-20.664852,10.900512,23.748907,13.17316,-27.889908,-18.281063,-21.39392,29.22569,15.211547,-18.130205,-13.100462,-15.393748,-20.34829,11.168306,-4.41351,31.080791,27.819183,-12.220821,-14.537022,1.7940925,11.300373,14.903534,23.588514,0.6223274,-4.1832986,22.282286,-25.443676,-14.250675,-29.949467,24.755392,2.5139716,23.038168,-10.912363,23.619137,-12.023893,-23.071787,6.516894,-7.359855,10.717798,-8.980459,-9.482565,11.092701,15.880883,15.035904,-21.11956,-19.024736,-13.141316,-3.8859746,32.39517,24.642546,-29.808706,20.88237,-7.051362,17.535553,-15.626681,26.808662,-20.687574,-23.951454,-24.782862,-23.747944,-29.137587,-14.421764,-11.489497,6.591984,-18.61401,15.464389,-21.304413,-7.633347,9.722953,-11.707767,26.51812,13.820172,2.399914,-4.634312,-4.8031917,17.622137,15.254058,5.872816,11.378523,16.032663,14.398967,2.5327096,22.810429,23.514223,-12.296739,1.9620247,-24.871727,4.8566437,-32.78028,18.507893,-11.669056,6.6190243,-16.732609,-3.675758,-3.6669812,-35.792934,-0.49403504,-11.408411,-9.179698,-13.59013,4.5538116,20.670607,17.692608,-7.12072,-22.232193,5.8533196,28.05324,18.265598,-4.3610067,-16.614683,-20.024656,28.945312,4.206219,22.219057,-26.448084,-17.086985,23.14709,14.080452,9.046455,27.596416,10.7630205,-0.75472045,8.081422,-5.321793,18.215855,-9.308154,-3.754252,6.3106327,24.024202,23.356966,26.127287,32.32847,-7.4434333,-20.654688,21.9131,17.045132,-3.972885,27.197811,-1.6768785,21.84407,-12.241849,14.098613,-9.444103,-3.3600295,-15.261963,21.53918,-0.40104273,4.9284453,24.104681,-8.861972,-9.839081,-19.66737,29.78982,12.805534,30.41791,-7.420098,-12.690356,8.406852,1.2894604,11.358409,-11.129573,8.698492,11.799898,17.537207,-6.2579217,2.6369355,-9.652004,-35.272842,-3.721589,24.477873,-15.004589,31.960487,-9.584497,-17.711906,29.432415,13.728622,-16.48257,-24.2698,-14.884223,-4.553384,-21.187904,19.041622,-3.4031248,-33.606457,-16.168247,30.414892,14.235263,-37.679195,11.398601,22.29343,23.866756,6.422457,-15.92589,6.2178826,11.643914,14.61905,18.942064,-10.82986,-12.962674,5.9315596,-37.373646,26.371376,23.292284,-0.63468045,-26.5731,-6.854701,12.23011,-11.008304,24.735256,32.022133,-22.318653,25.380602,-6.0615845,16.283672,-33.810837,9.247938,27.458784,25.058823,-14.101965,-36.227345,24.427485,14.932424,1.1552508,30.76608,-19.595392,-11.402819,-4.3728004,18.619919,23.609737,14.249072,22.68229,-3.2572002,17.604744,-12.952585,20.195908,-22.607824,-3.405971,16.492699,15.191108,11.402335,18.795952,30.486748,-4.0025644,16.053213,-6.023289,-37.09561,9.757739,-22.092836,-21.764366,-35.96808,20.417837,-18.792418,22.84325,-21.139357,-31.136847,15.270874,1.3366255,21.027403,1.8832753,-8.3783455,1.5754435,-13.861253,-8.253061,22.406359,19.609074,9.787756,-1.6876519,3.3702803,-6.667034,11.2126045,-9.575678,-8.375319,10.597498,-30.087557,11.078056,-9.959928,-4.584456,5.133645,-11.677935,21.567337,15.790803,19.174803,20.410406,14.225213,-36.190983,-20.37666,-14.40191,-14.966015,-37.627983,17.740284,-14.444681,-19.716982,12.01337,-37.454414,20.086283,-25.070574,-2.6451607,-25.025234,-14.24892,-16.92511,-5.2306323,-10.632046,24.437813,22.876255,-14.356981,19.322378,-26.359375,-4.380776,-24.01347,-7.442718,15.679732,-30.832863,14.833793,16.046255,25.999458,-8.811852,8.387594,-34.55452,26.42672],\"yaxis\":\"y\",\"type\":\"scatter\"}],                        {\"template\":{\"data\":{\"histogram2dcontour\":[{\"type\":\"histogram2dcontour\",\"colorbar\":{\"outlinewidth\":0,\"ticks\":\"\"},\"colorscale\":[[0.0,\"#0d0887\"],[0.1111111111111111,\"#46039f\"],[0.2222222222222222,\"#7201a8\"],[0.3333333333333333,\"#9c179e\"],[0.4444444444444444,\"#bd3786\"],[0.5555555555555556,\"#d8576b\"],[0.6666666666666666,\"#ed7953\"],[0.7777777777777778,\"#fb9f3a\"],[0.8888888888888888,\"#fdca26\"],[1.0,\"#f0f921\"]]}],\"choropleth\":[{\"type\":\"choropleth\",\"colorbar\":{\"outlinewidth\":0,\"ticks\":\"\"}}],\"histogram2d\":[{\"type\":\"histogram2d\",\"colorbar\":{\"outlinewidth\":0,\"ticks\":\"\"},\"colorscale\":[[0.0,\"#0d0887\"],[0.1111111111111111,\"#46039f\"],[0.2222222222222222,\"#7201a8\"],[0.3333333333333333,\"#9c179e\"],[0.4444444444444444,\"#bd3786\"],[0.5555555555555556,\"#d8576b\"],[0.6666666666666666,\"#ed7953\"],[0.7777777777777778,\"#fb9f3a\"],[0.8888888888888888,\"#fdca26\"],[1.0,\"#f0f921\"]]}],\"heatmap\":[{\"type\":\"heatmap\",\"colorbar\":{\"outlinewidth\":0,\"ticks\":\"\"},\"colorscale\":[[0.0,\"#0d0887\"],[0.1111111111111111,\"#46039f\"],[0.2222222222222222,\"#7201a8\"],[0.3333333333333333,\"#9c179e\"],[0.4444444444444444,\"#bd3786\"],[0.5555555555555556,\"#d8576b\"],[0.6666666666666666,\"#ed7953\"],[0.7777777777777778,\"#fb9f3a\"],[0.8888888888888888,\"#fdca26\"],[1.0,\"#f0f921\"]]}],\"heatmapgl\":[{\"type\":\"heatmapgl\",\"colorbar\":{\"outlinewidth\":0,\"ticks\":\"\"},\"colorscale\":[[0.0,\"#0d0887\"],[0.1111111111111111,\"#46039f\"],[0.2222222222222222,\"#7201a8\"],[0.3333333333333333,\"#9c179e\"],[0.4444444444444444,\"#bd3786\"],[0.5555555555555556,\"#d8576b\"],[0.6666666666666666,\"#ed7953\"],[0.7777777777777778,\"#fb9f3a\"],[0.8888888888888888,\"#fdca26\"],[1.0,\"#f0f921\"]]}],\"contourcarpet\":[{\"type\":\"contourcarpet\",\"colorbar\":{\"outlinewidth\":0,\"ticks\":\"\"}}],\"contour\":[{\"type\":\"contour\",\"colorbar\":{\"outlinewidth\":0,\"ticks\":\"\"},\"colorscale\":[[0.0,\"#0d0887\"],[0.1111111111111111,\"#46039f\"],[0.2222222222222222,\"#7201a8\"],[0.3333333333333333,\"#9c179e\"],[0.4444444444444444,\"#bd3786\"],[0.5555555555555556,\"#d8576b\"],[0.6666666666666666,\"#ed7953\"],[0.7777777777777778,\"#fb9f3a\"],[0.8888888888888888,\"#fdca26\"],[1.0,\"#f0f921\"]]}],\"surface\":[{\"type\":\"surface\",\"colorbar\":{\"outlinewidth\":0,\"ticks\":\"\"},\"colorscale\":[[0.0,\"#0d0887\"],[0.1111111111111111,\"#46039f\"],[0.2222222222222222,\"#7201a8\"],[0.3333333333333333,\"#9c179e\"],[0.4444444444444444,\"#bd3786\"],[0.5555555555555556,\"#d8576b\"],[0.6666666666666666,\"#ed7953\"],[0.7777777777777778,\"#fb9f3a\"],[0.8888888888888888,\"#fdca26\"],[1.0,\"#f0f921\"]]}],\"mesh3d\":[{\"type\":\"mesh3d\",\"colorbar\":{\"outlinewidth\":0,\"ticks\":\"\"}}],\"scatter\":[{\"fillpattern\":{\"fillmode\":\"overlay\",\"size\":10,\"solidity\":0.2},\"type\":\"scatter\"}],\"parcoords\":[{\"type\":\"parcoords\",\"line\":{\"colorbar\":{\"outlinewidth\":0,\"ticks\":\"\"}}}],\"scatterpolargl\":[{\"type\":\"scatterpolargl\",\"marker\":{\"colorbar\":{\"outlinewidth\":0,\"ticks\":\"\"}}}],\"bar\":[{\"error_x\":{\"color\":\"#2a3f5f\"},\"error_y\":{\"color\":\"#2a3f5f\"},\"marker\":{\"line\":{\"color\":\"#E5ECF6\",\"width\":0.5},\"pattern\":{\"fillmode\":\"overlay\",\"size\":10,\"solidity\":0.2}},\"type\":\"bar\"}],\"scattergeo\":[{\"type\":\"scattergeo\",\"marker\":{\"colorbar\":{\"outlinewidth\":0,\"ticks\":\"\"}}}],\"scatterpolar\":[{\"type\":\"scatterpolar\",\"marker\":{\"colorbar\":{\"outlinewidth\":0,\"ticks\":\"\"}}}],\"histogram\":[{\"marker\":{\"pattern\":{\"fillmode\":\"overlay\",\"size\":10,\"solidity\":0.2}},\"type\":\"histogram\"}],\"scattergl\":[{\"type\":\"scattergl\",\"marker\":{\"colorbar\":{\"outlinewidth\":0,\"ticks\":\"\"}}}],\"scatter3d\":[{\"type\":\"scatter3d\",\"line\":{\"colorbar\":{\"outlinewidth\":0,\"ticks\":\"\"}},\"marker\":{\"colorbar\":{\"outlinewidth\":0,\"ticks\":\"\"}}}],\"scattermapbox\":[{\"type\":\"scattermapbox\",\"marker\":{\"colorbar\":{\"outlinewidth\":0,\"ticks\":\"\"}}}],\"scatterternary\":[{\"type\":\"scatterternary\",\"marker\":{\"colorbar\":{\"outlinewidth\":0,\"ticks\":\"\"}}}],\"scattercarpet\":[{\"type\":\"scattercarpet\",\"marker\":{\"colorbar\":{\"outlinewidth\":0,\"ticks\":\"\"}}}],\"carpet\":[{\"aaxis\":{\"endlinecolor\":\"#2a3f5f\",\"gridcolor\":\"white\",\"linecolor\":\"white\",\"minorgridcolor\":\"white\",\"startlinecolor\":\"#2a3f5f\"},\"baxis\":{\"endlinecolor\":\"#2a3f5f\",\"gridcolor\":\"white\",\"linecolor\":\"white\",\"minorgridcolor\":\"white\",\"startlinecolor\":\"#2a3f5f\"},\"type\":\"carpet\"}],\"table\":[{\"cells\":{\"fill\":{\"color\":\"#EBF0F8\"},\"line\":{\"color\":\"white\"}},\"header\":{\"fill\":{\"color\":\"#C8D4E3\"},\"line\":{\"color\":\"white\"}},\"type\":\"table\"}],\"barpolar\":[{\"marker\":{\"line\":{\"color\":\"#E5ECF6\",\"width\":0.5},\"pattern\":{\"fillmode\":\"overlay\",\"size\":10,\"solidity\":0.2}},\"type\":\"barpolar\"}],\"pie\":[{\"automargin\":true,\"type\":\"pie\"}]},\"layout\":{\"autotypenumbers\":\"strict\",\"colorway\":[\"#636efa\",\"#EF553B\",\"#00cc96\",\"#ab63fa\",\"#FFA15A\",\"#19d3f3\",\"#FF6692\",\"#B6E880\",\"#FF97FF\",\"#FECB52\"],\"font\":{\"color\":\"#2a3f5f\"},\"hovermode\":\"closest\",\"hoverlabel\":{\"align\":\"left\"},\"paper_bgcolor\":\"white\",\"plot_bgcolor\":\"#E5ECF6\",\"polar\":{\"bgcolor\":\"#E5ECF6\",\"angularaxis\":{\"gridcolor\":\"white\",\"linecolor\":\"white\",\"ticks\":\"\"},\"radialaxis\":{\"gridcolor\":\"white\",\"linecolor\":\"white\",\"ticks\":\"\"}},\"ternary\":{\"bgcolor\":\"#E5ECF6\",\"aaxis\":{\"gridcolor\":\"white\",\"linecolor\":\"white\",\"ticks\":\"\"},\"baxis\":{\"gridcolor\":\"white\",\"linecolor\":\"white\",\"ticks\":\"\"},\"caxis\":{\"gridcolor\":\"white\",\"linecolor\":\"white\",\"ticks\":\"\"}},\"coloraxis\":{\"colorbar\":{\"outlinewidth\":0,\"ticks\":\"\"}},\"colorscale\":{\"sequential\":[[0.0,\"#0d0887\"],[0.1111111111111111,\"#46039f\"],[0.2222222222222222,\"#7201a8\"],[0.3333333333333333,\"#9c179e\"],[0.4444444444444444,\"#bd3786\"],[0.5555555555555556,\"#d8576b\"],[0.6666666666666666,\"#ed7953\"],[0.7777777777777778,\"#fb9f3a\"],[0.8888888888888888,\"#fdca26\"],[1.0,\"#f0f921\"]],\"sequentialminus\":[[0.0,\"#0d0887\"],[0.1111111111111111,\"#46039f\"],[0.2222222222222222,\"#7201a8\"],[0.3333333333333333,\"#9c179e\"],[0.4444444444444444,\"#bd3786\"],[0.5555555555555556,\"#d8576b\"],[0.6666666666666666,\"#ed7953\"],[0.7777777777777778,\"#fb9f3a\"],[0.8888888888888888,\"#fdca26\"],[1.0,\"#f0f921\"]],\"diverging\":[[0,\"#8e0152\"],[0.1,\"#c51b7d\"],[0.2,\"#de77ae\"],[0.3,\"#f1b6da\"],[0.4,\"#fde0ef\"],[0.5,\"#f7f7f7\"],[0.6,\"#e6f5d0\"],[0.7,\"#b8e186\"],[0.8,\"#7fbc41\"],[0.9,\"#4d9221\"],[1,\"#276419\"]]},\"xaxis\":{\"gridcolor\":\"white\",\"linecolor\":\"white\",\"ticks\":\"\",\"title\":{\"standoff\":15},\"zerolinecolor\":\"white\",\"automargin\":true,\"zerolinewidth\":2},\"yaxis\":{\"gridcolor\":\"white\",\"linecolor\":\"white\",\"ticks\":\"\",\"title\":{\"standoff\":15},\"zerolinecolor\":\"white\",\"automargin\":true,\"zerolinewidth\":2},\"scene\":{\"xaxis\":{\"backgroundcolor\":\"#E5ECF6\",\"gridcolor\":\"white\",\"linecolor\":\"white\",\"showbackground\":true,\"ticks\":\"\",\"zerolinecolor\":\"white\",\"gridwidth\":2},\"yaxis\":{\"backgroundcolor\":\"#E5ECF6\",\"gridcolor\":\"white\",\"linecolor\":\"white\",\"showbackground\":true,\"ticks\":\"\",\"zerolinecolor\":\"white\",\"gridwidth\":2},\"zaxis\":{\"backgroundcolor\":\"#E5ECF6\",\"gridcolor\":\"white\",\"linecolor\":\"white\",\"showbackground\":true,\"ticks\":\"\",\"zerolinecolor\":\"white\",\"gridwidth\":2}},\"shapedefaults\":{\"line\":{\"color\":\"#2a3f5f\"}},\"annotationdefaults\":{\"arrowcolor\":\"#2a3f5f\",\"arrowhead\":0,\"arrowwidth\":1},\"geo\":{\"bgcolor\":\"white\",\"landcolor\":\"#E5ECF6\",\"subunitcolor\":\"white\",\"showland\":true,\"showlakes\":true,\"lakecolor\":\"white\"},\"title\":{\"x\":0.05},\"mapbox\":{\"style\":\"light\"}}},\"xaxis\":{\"anchor\":\"y\",\"domain\":[0.0,1.0],\"title\":{\"text\":\"x\"}},\"yaxis\":{\"anchor\":\"x\",\"domain\":[0.0,1.0],\"title\":{\"text\":\"y\"}},\"coloraxis\":{\"colorbar\":{\"title\":{\"text\":\"color\"}},\"colorscale\":[[0.0,\"#0d0887\"],[0.1111111111111111,\"#46039f\"],[0.2222222222222222,\"#7201a8\"],[0.3333333333333333,\"#9c179e\"],[0.4444444444444444,\"#bd3786\"],[0.5555555555555556,\"#d8576b\"],[0.6666666666666666,\"#ed7953\"],[0.7777777777777778,\"#fb9f3a\"],[0.8888888888888888,\"#fdca26\"],[1.0,\"#f0f921\"]]},\"legend\":{\"tracegroupgap\":0},\"margin\":{\"t\":60}},                        {\"responsive\": true}                    ).then(function(){\n",
              "                            \n",
              "var gd = document.getElementById('0ca42b8b-20c7-48cb-bd4a-d994517c4283');\n",
              "var x = new MutationObserver(function (mutations, observer) {{\n",
              "        var display = window.getComputedStyle(gd).display;\n",
              "        if (!display || display === 'none') {{\n",
              "            console.log([gd, 'removed!']);\n",
              "            Plotly.purge(gd);\n",
              "            observer.disconnect();\n",
              "        }}\n",
              "}});\n",
              "\n",
              "// Listen for the removal of the full notebook cells\n",
              "var notebookContainer = gd.closest('#notebook-container');\n",
              "if (notebookContainer) {{\n",
              "    x.observe(notebookContainer, {childList: true});\n",
              "}}\n",
              "\n",
              "// Listen for the clearing of the current output cell\n",
              "var outputEl = gd.closest('.output');\n",
              "if (outputEl) {{\n",
              "    x.observe(outputEl, {childList: true});\n",
              "}}\n",
              "\n",
              "                        })                };                            </script>        </div>\n",
              "</body>\n",
              "</html>"
            ]
          },
          "metadata": {}
        }
      ],
      "source": [
        "fig=px.scatter(x=X_reduced_tsne[:,0], y=X_reduced_tsne[:,1], color=y)\n",
        "fig.show()"
      ]
    },
    {
      "cell_type": "markdown",
      "id": "041e973c",
      "metadata": {
        "id": "041e973c"
      },
      "source": [
        "Although the subsample is pretty small, the t-SNE algorithm is able to detect clusters pretty accurately"
      ]
    },
    {
      "cell_type": "markdown",
      "source": [
        "Reference- https://www.geeksforgeeks.org/machine-learning/difference-between-pca-vs-t-sne/"
      ],
      "metadata": {
        "id": "m5wS9i37AEQq"
      },
      "id": "m5wS9i37AEQq"
    },
    {
      "cell_type": "markdown",
      "source": [
        "Note-ChatGPT was used to help understand the results using WebSearch Feature."
      ],
      "metadata": {
        "id": "PzZ1ni2HAJaK"
      },
      "id": "PzZ1ni2HAJaK"
    },
    {
      "cell_type": "markdown",
      "id": "85bb3774",
      "metadata": {
        "id": "85bb3774"
      },
      "source": [
        "## Scaling"
      ]
    },
    {
      "cell_type": "code",
      "execution_count": 18,
      "id": "7ab1142e",
      "metadata": {
        "colab": {
          "base_uri": "https://localhost:8080/"
        },
        "id": "7ab1142e",
        "outputId": "b5c40877-592e-4168-d051-31037a5c8171"
      },
      "outputs": [
        {
          "output_type": "stream",
          "name": "stdout",
          "text": [
            "(275663, 29) (275663,)\n"
          ]
        }
      ],
      "source": [
        "scaler = StandardScaler()\n",
        "X = scaler.fit_transform(df.drop('Class', axis=1))\n",
        "y = df['Class'].values\n",
        "print(X.shape, y.shape)"
      ]
    },
    {
      "cell_type": "markdown",
      "id": "22e31517",
      "metadata": {
        "id": "22e31517"
      },
      "source": [
        "## Splitting the data"
      ]
    },
    {
      "cell_type": "markdown",
      "id": "6fa74b00",
      "metadata": {
        "id": "6fa74b00"
      },
      "source": [
        "we want to test our models on the original testing set not on the testing set created from GAN. The main goal is to fit the model in the generated data, and test it on the original testing set."
      ]
    },
    {
      "cell_type": "code",
      "execution_count": 19,
      "id": "f8303d35",
      "metadata": {
        "id": "f8303d35"
      },
      "outputs": [],
      "source": [
        "X_train, X_test, y_train, y_test = train_test_split(X, y, test_size=0.2, random_state=42, stratify=y)"
      ]
    },
    {
      "cell_type": "markdown",
      "id": "e1beefe0",
      "metadata": {
        "id": "e1beefe0"
      },
      "source": [
        "## Testing baseline model with original data"
      ]
    },
    {
      "cell_type": "markdown",
      "source": [
        "## SMOTE, ADASYN & Borderline‑SMOTE"
      ],
      "metadata": {
        "id": "GLANoZNHI2NX"
      },
      "id": "GLANoZNHI2NX"
    },
    {
      "cell_type": "code",
      "source": [
        "# Imports (add LightGBM)\n",
        "from lightgbm import LGBMClassifier\n",
        "from sklearn.metrics import confusion_matrix, classification_report, roc_auc_score, average_precision_score\n",
        "\n",
        "# -----------------------------\n",
        "# Baseline 1: SMOTE + LightGBM\n",
        "# -----------------------------\n",
        "smote = SMOTE(random_state=42)\n",
        "X_smote, y_smote = smote.fit_resample(X_train, y_train)\n",
        "\n",
        "clf_smote = LGBMClassifier(\n",
        "    objective=\"binary\",\n",
        "    n_estimators=500,\n",
        "    learning_rate=0.05,\n",
        "    max_depth=-1,\n",
        "    subsample=0.9,\n",
        "    colsample_bytree=0.9,\n",
        "    random_state=42\n",
        ")\n",
        "clf_smote.fit(X_smote, y_smote)\n",
        "\n",
        "y_pred_smote = clf_smote.predict(X_test)\n",
        "y_scores_smote = clf_smote.predict_proba(X_test)[:, 1]\n",
        "\n",
        "print(\"SMOTE + LightGBM results\")\n",
        "print(confusion_matrix(y_test, y_pred_smote))\n",
        "print(classification_report(y_test, y_pred_smote))\n",
        "\n",
        "roc_auc_smote = roc_auc_score(y_test, y_scores_smote)\n",
        "pr_auc_smote  = average_precision_score(y_test, y_scores_smote)\n",
        "print(f\"SMOTE AUC-ROC: {roc_auc_smote:.3f}\")\n",
        "print(f\"SMOTE AUC-PR : {pr_auc_smote:.3f}\\n\")\n",
        "\n",
        "# -------------------------------------------\n",
        "# Baseline 2: Borderline-SMOTE (borderline-1)\n",
        "#            + LightGBM\n",
        "# -------------------------------------------\n",
        "border_smote = BorderlineSMOTE(random_state=42, kind='borderline-1')  # keep your original setting\n",
        "X_bl, y_bl = border_smote.fit_resample(X_train, y_train)\n",
        "\n",
        "clf_bl = LGBMClassifier(\n",
        "    objective=\"binary\",\n",
        "    n_estimators=500,\n",
        "    learning_rate=0.05,\n",
        "    max_depth=-1,\n",
        "    subsample=0.9,\n",
        "    colsample_bytree=0.9,\n",
        "    random_state=42\n",
        ")\n",
        "clf_bl.fit(X_bl, y_bl)\n",
        "\n",
        "y_pred_bl = clf_bl.predict(X_test)\n",
        "y_scores_bl = clf_bl.predict_proba(X_test)[:, 1]\n",
        "\n",
        "print(\"Borderline-SMOTE + LightGBM results\")\n",
        "print(confusion_matrix(y_test, y_pred_bl))\n",
        "print(classification_report(y_test, y_pred_bl))\n",
        "\n",
        "roc_auc_bl = roc_auc_score(y_test, y_scores_bl)\n",
        "pr_auc_bl  = average_precision_score(y_test, y_scores_bl)\n",
        "print(f\"Borderline-SMOTE AUC-ROC: {roc_auc_bl:.3f}\")\n",
        "print(f\"Borderline-SMOTE AUC-PR : {pr_auc_bl:.3f}\\n\")\n",
        "\n",
        "# -----------------------------\n",
        "# Baseline 3: ADASYN + LightGBM\n",
        "# -----------------------------\n",
        "ada = ADASYN(random_state=42)\n",
        "X_ada, y_ada = ada.fit_resample(X_train, y_train)\n",
        "\n",
        "clf_ada = LGBMClassifier(\n",
        "    objective=\"binary\",\n",
        "    n_estimators=500,\n",
        "    learning_rate=0.05,\n",
        "    max_depth=-1,\n",
        "    subsample=0.9,\n",
        "    colsample_bytree=0.9,\n",
        "    random_state=42\n",
        ")\n",
        "clf_ada.fit(X_ada, y_ada)\n",
        "\n",
        "y_pred_ada = clf_ada.predict(X_test)\n",
        "y_scores_ada = clf_ada.predict_proba(X_test)[:, 1]\n",
        "\n",
        "print(\"ADASYN + LightGBM results\")\n",
        "print(confusion_matrix(y_test, y_pred_ada))\n",
        "print(classification_report(y_test, y_pred_ada))\n",
        "\n",
        "roc_auc_ada = roc_auc_score(y_test, y_scores_ada)\n",
        "pr_auc_ada  = average_precision_score(y_test, y_scores_ada)\n",
        "print(f\"ADASYN AUC-ROC: {roc_auc_ada:.3f}\")\n",
        "print(f\"ADASYN AUC-PR : {pr_auc_ada:.3f}\")\n"
      ],
      "metadata": {
        "colab": {
          "base_uri": "https://localhost:8080/"
        },
        "id": "PoHETeVxHUym",
        "outputId": "b283db0e-d25d-4944-d9f2-7d9ca41f100e"
      },
      "id": "PoHETeVxHUym",
      "execution_count": 20,
      "outputs": [
        {
          "output_type": "stream",
          "name": "stdout",
          "text": [
            "[LightGBM] [Info] Number of positive: 220152, number of negative: 220152\n",
            "[LightGBM] [Info] Auto-choosing col-wise multi-threading, the overhead of testing was 0.122958 seconds.\n",
            "You can set `force_col_wise=true` to remove the overhead.\n",
            "[LightGBM] [Info] Total Bins 7395\n",
            "[LightGBM] [Info] Number of data points in the train set: 440304, number of used features: 29\n",
            "[LightGBM] [Info] [binary:BoostFromScore]: pavg=0.500000 -> initscore=0.000000\n"
          ]
        },
        {
          "output_type": "stream",
          "name": "stderr",
          "text": [
            "/usr/local/lib/python3.12/dist-packages/sklearn/utils/validation.py:2739: UserWarning:\n",
            "\n",
            "X does not have valid feature names, but LGBMClassifier was fitted with feature names\n",
            "\n",
            "/usr/local/lib/python3.12/dist-packages/sklearn/utils/validation.py:2739: UserWarning:\n",
            "\n",
            "X does not have valid feature names, but LGBMClassifier was fitted with feature names\n",
            "\n"
          ]
        },
        {
          "output_type": "stream",
          "name": "stdout",
          "text": [
            "SMOTE + LightGBM results\n",
            "[[55006    32]\n",
            " [   13    82]]\n",
            "              precision    recall  f1-score   support\n",
            "\n",
            "           0       1.00      1.00      1.00     55038\n",
            "           1       0.72      0.86      0.78        95\n",
            "\n",
            "    accuracy                           1.00     55133\n",
            "   macro avg       0.86      0.93      0.89     55133\n",
            "weighted avg       1.00      1.00      1.00     55133\n",
            "\n",
            "SMOTE AUC-ROC: 0.969\n",
            "SMOTE AUC-PR : 0.849\n",
            "\n",
            "[LightGBM] [Info] Number of positive: 220152, number of negative: 220152\n",
            "[LightGBM] [Info] Auto-choosing col-wise multi-threading, the overhead of testing was 0.206005 seconds.\n",
            "You can set `force_col_wise=true` to remove the overhead.\n",
            "[LightGBM] [Info] Total Bins 7395\n",
            "[LightGBM] [Info] Number of data points in the train set: 440304, number of used features: 29\n",
            "[LightGBM] [Info] [binary:BoostFromScore]: pavg=0.500000 -> initscore=0.000000\n"
          ]
        },
        {
          "output_type": "stream",
          "name": "stderr",
          "text": [
            "/usr/local/lib/python3.12/dist-packages/sklearn/utils/validation.py:2739: UserWarning:\n",
            "\n",
            "X does not have valid feature names, but LGBMClassifier was fitted with feature names\n",
            "\n",
            "/usr/local/lib/python3.12/dist-packages/sklearn/utils/validation.py:2739: UserWarning:\n",
            "\n",
            "X does not have valid feature names, but LGBMClassifier was fitted with feature names\n",
            "\n"
          ]
        },
        {
          "output_type": "stream",
          "name": "stdout",
          "text": [
            "Borderline-SMOTE + LightGBM results\n",
            "[[55024    14]\n",
            " [   16    79]]\n",
            "              precision    recall  f1-score   support\n",
            "\n",
            "           0       1.00      1.00      1.00     55038\n",
            "           1       0.85      0.83      0.84        95\n",
            "\n",
            "    accuracy                           1.00     55133\n",
            "   macro avg       0.92      0.92      0.92     55133\n",
            "weighted avg       1.00      1.00      1.00     55133\n",
            "\n",
            "Borderline-SMOTE AUC-ROC: 0.969\n",
            "Borderline-SMOTE AUC-PR : 0.853\n",
            "\n",
            "[LightGBM] [Info] Number of positive: 220184, number of negative: 220152\n",
            "[LightGBM] [Info] Auto-choosing col-wise multi-threading, the overhead of testing was 0.128155 seconds.\n",
            "You can set `force_col_wise=true` to remove the overhead.\n",
            "[LightGBM] [Info] Total Bins 7395\n",
            "[LightGBM] [Info] Number of data points in the train set: 440336, number of used features: 29\n",
            "[LightGBM] [Info] [binary:BoostFromScore]: pavg=0.500036 -> initscore=0.000145\n",
            "[LightGBM] [Info] Start training from score 0.000145\n"
          ]
        },
        {
          "output_type": "stream",
          "name": "stderr",
          "text": [
            "/usr/local/lib/python3.12/dist-packages/sklearn/utils/validation.py:2739: UserWarning:\n",
            "\n",
            "X does not have valid feature names, but LGBMClassifier was fitted with feature names\n",
            "\n",
            "/usr/local/lib/python3.12/dist-packages/sklearn/utils/validation.py:2739: UserWarning:\n",
            "\n",
            "X does not have valid feature names, but LGBMClassifier was fitted with feature names\n",
            "\n"
          ]
        },
        {
          "output_type": "stream",
          "name": "stdout",
          "text": [
            "ADASYN + LightGBM results\n",
            "[[54999    39]\n",
            " [   14    81]]\n",
            "              precision    recall  f1-score   support\n",
            "\n",
            "           0       1.00      1.00      1.00     55038\n",
            "           1       0.68      0.85      0.75        95\n",
            "\n",
            "    accuracy                           1.00     55133\n",
            "   macro avg       0.84      0.93      0.88     55133\n",
            "weighted avg       1.00      1.00      1.00     55133\n",
            "\n",
            "ADASYN AUC-ROC: 0.969\n",
            "ADASYN AUC-PR : 0.835\n"
          ]
        }
      ]
    },
    {
      "cell_type": "markdown",
      "source": [
        "Interpretation\n",
        "\n",
        "All three resampling methods + LightGBM performed very strongly overall (accuracy ≈ 100%, AUC-ROC ≈ 0.97).\n",
        "\n",
        "Borderline-SMOTE gave the best balance between precision and recall on the minority class → highest F1 (0.84) and best AUC-PR (0.853).\n",
        "\n",
        "SMOTE slightly favors recall (0.86) at the cost of precision (0.72), which could be useful if missing positives is costly.\n",
        "\n",
        "ADASYN also boosts recall (0.85) but has weaker precision (0.68), leading to the lowest F1 and AUC-PR of the three."
      ],
      "metadata": {
        "id": "Fu1uCWc0Dz2W"
      },
      "id": "Fu1uCWc0Dz2W"
    },
    {
      "cell_type": "markdown",
      "source": [
        "Borderline-SMOTE + LightGBM is the strongest baseline, offering the best trade-off between capturing minority cases and keeping false positives low.\n",
        "\n",
        "SMOTE is a good alternative when recall is more critical.\n",
        "\n",
        "ADASYN underperforms here, suggesting its synthetic samples may add noise in this dataset."
      ],
      "metadata": {
        "id": "h2xl6-GgEIRZ"
      },
      "id": "h2xl6-GgEIRZ"
    },
    {
      "cell_type": "markdown",
      "source": [
        "Note-ChatGPT was used to help understand the results for all 3 different oversampling methods."
      ],
      "metadata": {
        "id": "yhjxo5lkDns-"
      },
      "id": "yhjxo5lkDns-"
    },
    {
      "cell_type": "markdown",
      "source": [
        "Reference- [Generative Adversarial Networks-Based Novel Approach for Fraud Detection for the European Cardholders 2013 Dataset](https://doi.org/10.1109/ACCESS.2023.3320072), [A Comparison Study of Credit Card Fraud Detection: Supervised versus Unsupervised](https://arxiv.org/abs/1904.10604)"
      ],
      "metadata": {
        "id": "MuDY_Nujado4"
      },
      "id": "MuDY_Nujado4"
    },
    {
      "cell_type": "code",
      "source": [],
      "metadata": {
        "id": "iBZp68nTDuxJ"
      },
      "id": "iBZp68nTDuxJ",
      "execution_count": null,
      "outputs": []
    }
  ],
  "metadata": {
    "accelerator": "GPU",
    "colab": {
      "gpuType": "T4",
      "provenance": []
    },
    "kaggle": {
      "accelerator": "none",
      "dataSources": [
        {
          "datasetId": 310,
          "sourceId": 23498,
          "sourceType": "datasetVersion"
        }
      ],
      "dockerImageVersionId": 30822,
      "isGpuEnabled": false,
      "isInternetEnabled": true,
      "language": "python",
      "sourceType": "notebook"
    },
    "kernelspec": {
      "display_name": "Python 3",
      "name": "python3"
    },
    "language_info": {
      "codemirror_mode": {
        "name": "ipython",
        "version": 3
      },
      "file_extension": ".py",
      "mimetype": "text/x-python",
      "name": "python",
      "nbconvert_exporter": "python",
      "pygments_lexer": "ipython3",
      "version": "3.10.12"
    },
    "papermill": {
      "default_parameters": {},
      "duration": 1846.66889,
      "end_time": "2024-12-30T03:00:04.367340",
      "environment_variables": {},
      "exception": null,
      "input_path": "__notebook__.ipynb",
      "output_path": "__notebook__.ipynb",
      "parameters": {},
      "start_time": "2024-12-30T02:29:17.698450",
      "version": "2.6.0"
    }
  },
  "nbformat": 4,
  "nbformat_minor": 5
}