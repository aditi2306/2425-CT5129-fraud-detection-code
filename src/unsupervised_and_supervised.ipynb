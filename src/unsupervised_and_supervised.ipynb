{
  "cells": [
    {
      "cell_type": "markdown",
      "source": [
        "#Supervised and Unsupervised machine learning methods"
      ],
      "metadata": {
        "id": "DUBKYyq5cNrW"
      },
      "id": "DUBKYyq5cNrW"
    },
    {
      "cell_type": "markdown",
      "id": "95b87982",
      "metadata": {
        "id": "95b87982"
      },
      "source": [
        "## Importing Libraries"
      ]
    },
    {
      "cell_type": "code",
      "execution_count": null,
      "id": "cb2d1424",
      "metadata": {
        "id": "cb2d1424"
      },
      "outputs": [],
      "source": [
        "import os\n",
        "import keras\n",
        "import numpy as np\n",
        "import pandas as pd\n",
        "import seaborn as sns\n",
        "import plotly.express as px\n",
        "import plotly.graph_objects as go\n",
        "import matplotlib.pyplot as plt\n",
        "import lightgbm as lgb\n",
        "from sklearn.model_selection import train_test_split\n",
        "from sklearn.preprocessing import QuantileTransformer\n",
        "from sklearn.preprocessing import StandardScaler, MinMaxScaler\n",
        "from tensorflow.keras.layers import Input, Dense, Reshape, Flatten, Dropout, multiply, Concatenate\n",
        "from tensorflow.keras.layers import BatchNormalization, Activation, Embedding, ZeroPadding2D, LeakyReLU\n",
        "from tensorflow.keras.models import Sequential, Model\n",
        "from tensorflow.keras.optimizers import Adam, RMSprop\n",
        "from tensorflow.keras.initializers import RandomNormal\n",
        "import tensorflow.keras.backend as K\n",
        "from sklearn.utils import shuffle\n",
        "from sklearn.metrics import precision_score, recall_score, f1_score,\\\n",
        "                            accuracy_score, balanced_accuracy_score,classification_report,\\\n",
        "                            confusion_matrix"
      ]
    },
    {
      "cell_type": "markdown",
      "id": "90a60195",
      "metadata": {
        "id": "90a60195"
      },
      "source": [
        "## EDA"
      ]
    },
    {
      "cell_type": "code",
      "execution_count": null,
      "id": "79bf21d7",
      "metadata": {
        "colab": {
          "base_uri": "https://localhost:8080/"
        },
        "id": "79bf21d7",
        "outputId": "256734d2-0d82-4c2c-e4e4-379711b3cb0d"
      },
      "outputs": [
        {
          "output_type": "stream",
          "name": "stdout",
          "text": [
            "<class 'pandas.core.frame.DataFrame'>\n",
            "RangeIndex: 284807 entries, 0 to 284806\n",
            "Data columns (total 30 columns):\n",
            " #   Column  Non-Null Count   Dtype  \n",
            "---  ------  --------------   -----  \n",
            " 0   V1      284807 non-null  float64\n",
            " 1   V2      284807 non-null  float64\n",
            " 2   V3      284807 non-null  float64\n",
            " 3   V4      284807 non-null  float64\n",
            " 4   V5      284807 non-null  float64\n",
            " 5   V6      284807 non-null  float64\n",
            " 6   V7      284807 non-null  float64\n",
            " 7   V8      284807 non-null  float64\n",
            " 8   V9      284807 non-null  float64\n",
            " 9   V10     284807 non-null  float64\n",
            " 10  V11     284807 non-null  float64\n",
            " 11  V12     284807 non-null  float64\n",
            " 12  V13     284807 non-null  float64\n",
            " 13  V14     284807 non-null  float64\n",
            " 14  V15     284807 non-null  float64\n",
            " 15  V16     284807 non-null  float64\n",
            " 16  V17     284807 non-null  float64\n",
            " 17  V18     284807 non-null  float64\n",
            " 18  V19     284807 non-null  float64\n",
            " 19  V20     284807 non-null  float64\n",
            " 20  V21     284807 non-null  float64\n",
            " 21  V22     284807 non-null  float64\n",
            " 22  V23     284807 non-null  float64\n",
            " 23  V24     284807 non-null  float64\n",
            " 24  V25     284807 non-null  float64\n",
            " 25  V26     284807 non-null  float64\n",
            " 26  V27     284807 non-null  float64\n",
            " 27  V28     284807 non-null  float64\n",
            " 28  Amount  284807 non-null  float64\n",
            " 29  Class   284807 non-null  int64  \n",
            "dtypes: float64(29), int64(1)\n",
            "memory usage: 65.2 MB\n"
          ]
        }
      ],
      "source": [
        "df=pd.read_csv('./creditcard.csv')\n",
        "df=df.drop('Time',axis=1)\n",
        "df.head()\n",
        "df.info()"
      ]
    },
    {
      "cell_type": "markdown",
      "id": "a828e2f8",
      "metadata": {
        "id": "a828e2f8"
      },
      "source": [
        "PCA Transformation: The description of the data says that all the features went through a PCA transformation (Except for time and amount).  \n",
        "Scaling: Keep in mind that in order to implement a PCA transformation features need to be previously scaled."
      ]
    },
    {
      "cell_type": "code",
      "execution_count": null,
      "id": "b13394f3",
      "metadata": {
        "colab": {
          "base_uri": "https://localhost:8080/",
          "height": 349
        },
        "id": "b13394f3",
        "outputId": "14e05b16-ac91-44e9-c318-013b1b48a11e"
      },
      "outputs": [
        {
          "output_type": "execute_result",
          "data": {
            "text/plain": [
              "                 V1            V2            V3            V4            V5  \\\n",
              "count  2.848070e+05  2.848070e+05  2.848070e+05  2.848070e+05  2.848070e+05   \n",
              "mean   1.168375e-15  3.416908e-16 -1.379537e-15  2.074095e-15  9.604066e-16   \n",
              "std    1.958696e+00  1.651309e+00  1.516255e+00  1.415869e+00  1.380247e+00   \n",
              "min   -5.640751e+01 -7.271573e+01 -4.832559e+01 -5.683171e+00 -1.137433e+02   \n",
              "25%   -9.203734e-01 -5.985499e-01 -8.903648e-01 -8.486401e-01 -6.915971e-01   \n",
              "50%    1.810880e-02  6.548556e-02  1.798463e-01 -1.984653e-02 -5.433583e-02   \n",
              "75%    1.315642e+00  8.037239e-01  1.027196e+00  7.433413e-01  6.119264e-01   \n",
              "max    2.454930e+00  2.205773e+01  9.382558e+00  1.687534e+01  3.480167e+01   \n",
              "\n",
              "                 V6            V7            V8            V9           V10  \\\n",
              "count  2.848070e+05  2.848070e+05  2.848070e+05  2.848070e+05  2.848070e+05   \n",
              "mean   1.487313e-15 -5.556467e-16  1.213481e-16 -2.406331e-15  2.239053e-15   \n",
              "std    1.332271e+00  1.237094e+00  1.194353e+00  1.098632e+00  1.088850e+00   \n",
              "min   -2.616051e+01 -4.355724e+01 -7.321672e+01 -1.343407e+01 -2.458826e+01   \n",
              "25%   -7.682956e-01 -5.540759e-01 -2.086297e-01 -6.430976e-01 -5.354257e-01   \n",
              "50%   -2.741871e-01  4.010308e-02  2.235804e-02 -5.142873e-02 -9.291738e-02   \n",
              "75%    3.985649e-01  5.704361e-01  3.273459e-01  5.971390e-01  4.539234e-01   \n",
              "max    7.330163e+01  1.205895e+02  2.000721e+01  1.559499e+01  2.374514e+01   \n",
              "\n",
              "       ...           V21           V22           V23           V24  \\\n",
              "count  ...  2.848070e+05  2.848070e+05  2.848070e+05  2.848070e+05   \n",
              "mean   ...  1.654067e-16 -3.568593e-16  2.578648e-16  4.473266e-15   \n",
              "std    ...  7.345240e-01  7.257016e-01  6.244603e-01  6.056471e-01   \n",
              "min    ... -3.483038e+01 -1.093314e+01 -4.480774e+01 -2.836627e+00   \n",
              "25%    ... -2.283949e-01 -5.423504e-01 -1.618463e-01 -3.545861e-01   \n",
              "50%    ... -2.945017e-02  6.781943e-03 -1.119293e-02  4.097606e-02   \n",
              "75%    ...  1.863772e-01  5.285536e-01  1.476421e-01  4.395266e-01   \n",
              "max    ...  2.720284e+01  1.050309e+01  2.252841e+01  4.584549e+00   \n",
              "\n",
              "                V25           V26           V27           V28         Amount  \\\n",
              "count  2.848070e+05  2.848070e+05  2.848070e+05  2.848070e+05  284807.000000   \n",
              "mean   5.340915e-16  1.683437e-15 -3.660091e-16 -1.227390e-16      88.349619   \n",
              "std    5.212781e-01  4.822270e-01  4.036325e-01  3.300833e-01     250.120109   \n",
              "min   -1.029540e+01 -2.604551e+00 -2.256568e+01 -1.543008e+01       0.000000   \n",
              "25%   -3.171451e-01 -3.269839e-01 -7.083953e-02 -5.295979e-02       5.600000   \n",
              "50%    1.659350e-02 -5.213911e-02  1.342146e-03  1.124383e-02      22.000000   \n",
              "75%    3.507156e-01  2.409522e-01  9.104512e-02  7.827995e-02      77.165000   \n",
              "max    7.519589e+00  3.517346e+00  3.161220e+01  3.384781e+01   25691.160000   \n",
              "\n",
              "               Class  \n",
              "count  284807.000000  \n",
              "mean        0.001727  \n",
              "std         0.041527  \n",
              "min         0.000000  \n",
              "25%         0.000000  \n",
              "50%         0.000000  \n",
              "75%         0.000000  \n",
              "max         1.000000  \n",
              "\n",
              "[8 rows x 30 columns]"
            ],
            "text/html": [
              "\n",
              "  <div id=\"df-305b9a7f-1d23-4d7b-8472-33618d105f79\" class=\"colab-df-container\">\n",
              "    <div>\n",
              "<style scoped>\n",
              "    .dataframe tbody tr th:only-of-type {\n",
              "        vertical-align: middle;\n",
              "    }\n",
              "\n",
              "    .dataframe tbody tr th {\n",
              "        vertical-align: top;\n",
              "    }\n",
              "\n",
              "    .dataframe thead th {\n",
              "        text-align: right;\n",
              "    }\n",
              "</style>\n",
              "<table border=\"1\" class=\"dataframe\">\n",
              "  <thead>\n",
              "    <tr style=\"text-align: right;\">\n",
              "      <th></th>\n",
              "      <th>V1</th>\n",
              "      <th>V2</th>\n",
              "      <th>V3</th>\n",
              "      <th>V4</th>\n",
              "      <th>V5</th>\n",
              "      <th>V6</th>\n",
              "      <th>V7</th>\n",
              "      <th>V8</th>\n",
              "      <th>V9</th>\n",
              "      <th>V10</th>\n",
              "      <th>...</th>\n",
              "      <th>V21</th>\n",
              "      <th>V22</th>\n",
              "      <th>V23</th>\n",
              "      <th>V24</th>\n",
              "      <th>V25</th>\n",
              "      <th>V26</th>\n",
              "      <th>V27</th>\n",
              "      <th>V28</th>\n",
              "      <th>Amount</th>\n",
              "      <th>Class</th>\n",
              "    </tr>\n",
              "  </thead>\n",
              "  <tbody>\n",
              "    <tr>\n",
              "      <th>count</th>\n",
              "      <td>2.848070e+05</td>\n",
              "      <td>2.848070e+05</td>\n",
              "      <td>2.848070e+05</td>\n",
              "      <td>2.848070e+05</td>\n",
              "      <td>2.848070e+05</td>\n",
              "      <td>2.848070e+05</td>\n",
              "      <td>2.848070e+05</td>\n",
              "      <td>2.848070e+05</td>\n",
              "      <td>2.848070e+05</td>\n",
              "      <td>2.848070e+05</td>\n",
              "      <td>...</td>\n",
              "      <td>2.848070e+05</td>\n",
              "      <td>2.848070e+05</td>\n",
              "      <td>2.848070e+05</td>\n",
              "      <td>2.848070e+05</td>\n",
              "      <td>2.848070e+05</td>\n",
              "      <td>2.848070e+05</td>\n",
              "      <td>2.848070e+05</td>\n",
              "      <td>2.848070e+05</td>\n",
              "      <td>284807.000000</td>\n",
              "      <td>284807.000000</td>\n",
              "    </tr>\n",
              "    <tr>\n",
              "      <th>mean</th>\n",
              "      <td>1.168375e-15</td>\n",
              "      <td>3.416908e-16</td>\n",
              "      <td>-1.379537e-15</td>\n",
              "      <td>2.074095e-15</td>\n",
              "      <td>9.604066e-16</td>\n",
              "      <td>1.487313e-15</td>\n",
              "      <td>-5.556467e-16</td>\n",
              "      <td>1.213481e-16</td>\n",
              "      <td>-2.406331e-15</td>\n",
              "      <td>2.239053e-15</td>\n",
              "      <td>...</td>\n",
              "      <td>1.654067e-16</td>\n",
              "      <td>-3.568593e-16</td>\n",
              "      <td>2.578648e-16</td>\n",
              "      <td>4.473266e-15</td>\n",
              "      <td>5.340915e-16</td>\n",
              "      <td>1.683437e-15</td>\n",
              "      <td>-3.660091e-16</td>\n",
              "      <td>-1.227390e-16</td>\n",
              "      <td>88.349619</td>\n",
              "      <td>0.001727</td>\n",
              "    </tr>\n",
              "    <tr>\n",
              "      <th>std</th>\n",
              "      <td>1.958696e+00</td>\n",
              "      <td>1.651309e+00</td>\n",
              "      <td>1.516255e+00</td>\n",
              "      <td>1.415869e+00</td>\n",
              "      <td>1.380247e+00</td>\n",
              "      <td>1.332271e+00</td>\n",
              "      <td>1.237094e+00</td>\n",
              "      <td>1.194353e+00</td>\n",
              "      <td>1.098632e+00</td>\n",
              "      <td>1.088850e+00</td>\n",
              "      <td>...</td>\n",
              "      <td>7.345240e-01</td>\n",
              "      <td>7.257016e-01</td>\n",
              "      <td>6.244603e-01</td>\n",
              "      <td>6.056471e-01</td>\n",
              "      <td>5.212781e-01</td>\n",
              "      <td>4.822270e-01</td>\n",
              "      <td>4.036325e-01</td>\n",
              "      <td>3.300833e-01</td>\n",
              "      <td>250.120109</td>\n",
              "      <td>0.041527</td>\n",
              "    </tr>\n",
              "    <tr>\n",
              "      <th>min</th>\n",
              "      <td>-5.640751e+01</td>\n",
              "      <td>-7.271573e+01</td>\n",
              "      <td>-4.832559e+01</td>\n",
              "      <td>-5.683171e+00</td>\n",
              "      <td>-1.137433e+02</td>\n",
              "      <td>-2.616051e+01</td>\n",
              "      <td>-4.355724e+01</td>\n",
              "      <td>-7.321672e+01</td>\n",
              "      <td>-1.343407e+01</td>\n",
              "      <td>-2.458826e+01</td>\n",
              "      <td>...</td>\n",
              "      <td>-3.483038e+01</td>\n",
              "      <td>-1.093314e+01</td>\n",
              "      <td>-4.480774e+01</td>\n",
              "      <td>-2.836627e+00</td>\n",
              "      <td>-1.029540e+01</td>\n",
              "      <td>-2.604551e+00</td>\n",
              "      <td>-2.256568e+01</td>\n",
              "      <td>-1.543008e+01</td>\n",
              "      <td>0.000000</td>\n",
              "      <td>0.000000</td>\n",
              "    </tr>\n",
              "    <tr>\n",
              "      <th>25%</th>\n",
              "      <td>-9.203734e-01</td>\n",
              "      <td>-5.985499e-01</td>\n",
              "      <td>-8.903648e-01</td>\n",
              "      <td>-8.486401e-01</td>\n",
              "      <td>-6.915971e-01</td>\n",
              "      <td>-7.682956e-01</td>\n",
              "      <td>-5.540759e-01</td>\n",
              "      <td>-2.086297e-01</td>\n",
              "      <td>-6.430976e-01</td>\n",
              "      <td>-5.354257e-01</td>\n",
              "      <td>...</td>\n",
              "      <td>-2.283949e-01</td>\n",
              "      <td>-5.423504e-01</td>\n",
              "      <td>-1.618463e-01</td>\n",
              "      <td>-3.545861e-01</td>\n",
              "      <td>-3.171451e-01</td>\n",
              "      <td>-3.269839e-01</td>\n",
              "      <td>-7.083953e-02</td>\n",
              "      <td>-5.295979e-02</td>\n",
              "      <td>5.600000</td>\n",
              "      <td>0.000000</td>\n",
              "    </tr>\n",
              "    <tr>\n",
              "      <th>50%</th>\n",
              "      <td>1.810880e-02</td>\n",
              "      <td>6.548556e-02</td>\n",
              "      <td>1.798463e-01</td>\n",
              "      <td>-1.984653e-02</td>\n",
              "      <td>-5.433583e-02</td>\n",
              "      <td>-2.741871e-01</td>\n",
              "      <td>4.010308e-02</td>\n",
              "      <td>2.235804e-02</td>\n",
              "      <td>-5.142873e-02</td>\n",
              "      <td>-9.291738e-02</td>\n",
              "      <td>...</td>\n",
              "      <td>-2.945017e-02</td>\n",
              "      <td>6.781943e-03</td>\n",
              "      <td>-1.119293e-02</td>\n",
              "      <td>4.097606e-02</td>\n",
              "      <td>1.659350e-02</td>\n",
              "      <td>-5.213911e-02</td>\n",
              "      <td>1.342146e-03</td>\n",
              "      <td>1.124383e-02</td>\n",
              "      <td>22.000000</td>\n",
              "      <td>0.000000</td>\n",
              "    </tr>\n",
              "    <tr>\n",
              "      <th>75%</th>\n",
              "      <td>1.315642e+00</td>\n",
              "      <td>8.037239e-01</td>\n",
              "      <td>1.027196e+00</td>\n",
              "      <td>7.433413e-01</td>\n",
              "      <td>6.119264e-01</td>\n",
              "      <td>3.985649e-01</td>\n",
              "      <td>5.704361e-01</td>\n",
              "      <td>3.273459e-01</td>\n",
              "      <td>5.971390e-01</td>\n",
              "      <td>4.539234e-01</td>\n",
              "      <td>...</td>\n",
              "      <td>1.863772e-01</td>\n",
              "      <td>5.285536e-01</td>\n",
              "      <td>1.476421e-01</td>\n",
              "      <td>4.395266e-01</td>\n",
              "      <td>3.507156e-01</td>\n",
              "      <td>2.409522e-01</td>\n",
              "      <td>9.104512e-02</td>\n",
              "      <td>7.827995e-02</td>\n",
              "      <td>77.165000</td>\n",
              "      <td>0.000000</td>\n",
              "    </tr>\n",
              "    <tr>\n",
              "      <th>max</th>\n",
              "      <td>2.454930e+00</td>\n",
              "      <td>2.205773e+01</td>\n",
              "      <td>9.382558e+00</td>\n",
              "      <td>1.687534e+01</td>\n",
              "      <td>3.480167e+01</td>\n",
              "      <td>7.330163e+01</td>\n",
              "      <td>1.205895e+02</td>\n",
              "      <td>2.000721e+01</td>\n",
              "      <td>1.559499e+01</td>\n",
              "      <td>2.374514e+01</td>\n",
              "      <td>...</td>\n",
              "      <td>2.720284e+01</td>\n",
              "      <td>1.050309e+01</td>\n",
              "      <td>2.252841e+01</td>\n",
              "      <td>4.584549e+00</td>\n",
              "      <td>7.519589e+00</td>\n",
              "      <td>3.517346e+00</td>\n",
              "      <td>3.161220e+01</td>\n",
              "      <td>3.384781e+01</td>\n",
              "      <td>25691.160000</td>\n",
              "      <td>1.000000</td>\n",
              "    </tr>\n",
              "  </tbody>\n",
              "</table>\n",
              "<p>8 rows × 30 columns</p>\n",
              "</div>\n",
              "    <div class=\"colab-df-buttons\">\n",
              "\n",
              "  <div class=\"colab-df-container\">\n",
              "    <button class=\"colab-df-convert\" onclick=\"convertToInteractive('df-305b9a7f-1d23-4d7b-8472-33618d105f79')\"\n",
              "            title=\"Convert this dataframe to an interactive table.\"\n",
              "            style=\"display:none;\">\n",
              "\n",
              "  <svg xmlns=\"http://www.w3.org/2000/svg\" height=\"24px\" viewBox=\"0 -960 960 960\">\n",
              "    <path d=\"M120-120v-720h720v720H120Zm60-500h600v-160H180v160Zm220 220h160v-160H400v160Zm0 220h160v-160H400v160ZM180-400h160v-160H180v160Zm440 0h160v-160H620v160ZM180-180h160v-160H180v160Zm440 0h160v-160H620v160Z\"/>\n",
              "  </svg>\n",
              "    </button>\n",
              "\n",
              "  <style>\n",
              "    .colab-df-container {\n",
              "      display:flex;\n",
              "      gap: 12px;\n",
              "    }\n",
              "\n",
              "    .colab-df-convert {\n",
              "      background-color: #E8F0FE;\n",
              "      border: none;\n",
              "      border-radius: 50%;\n",
              "      cursor: pointer;\n",
              "      display: none;\n",
              "      fill: #1967D2;\n",
              "      height: 32px;\n",
              "      padding: 0 0 0 0;\n",
              "      width: 32px;\n",
              "    }\n",
              "\n",
              "    .colab-df-convert:hover {\n",
              "      background-color: #E2EBFA;\n",
              "      box-shadow: 0px 1px 2px rgba(60, 64, 67, 0.3), 0px 1px 3px 1px rgba(60, 64, 67, 0.15);\n",
              "      fill: #174EA6;\n",
              "    }\n",
              "\n",
              "    .colab-df-buttons div {\n",
              "      margin-bottom: 4px;\n",
              "    }\n",
              "\n",
              "    [theme=dark] .colab-df-convert {\n",
              "      background-color: #3B4455;\n",
              "      fill: #D2E3FC;\n",
              "    }\n",
              "\n",
              "    [theme=dark] .colab-df-convert:hover {\n",
              "      background-color: #434B5C;\n",
              "      box-shadow: 0px 1px 3px 1px rgba(0, 0, 0, 0.15);\n",
              "      filter: drop-shadow(0px 1px 2px rgba(0, 0, 0, 0.3));\n",
              "      fill: #FFFFFF;\n",
              "    }\n",
              "  </style>\n",
              "\n",
              "    <script>\n",
              "      const buttonEl =\n",
              "        document.querySelector('#df-305b9a7f-1d23-4d7b-8472-33618d105f79 button.colab-df-convert');\n",
              "      buttonEl.style.display =\n",
              "        google.colab.kernel.accessAllowed ? 'block' : 'none';\n",
              "\n",
              "      async function convertToInteractive(key) {\n",
              "        const element = document.querySelector('#df-305b9a7f-1d23-4d7b-8472-33618d105f79');\n",
              "        const dataTable =\n",
              "          await google.colab.kernel.invokeFunction('convertToInteractive',\n",
              "                                                    [key], {});\n",
              "        if (!dataTable) return;\n",
              "\n",
              "        const docLinkHtml = 'Like what you see? Visit the ' +\n",
              "          '<a target=\"_blank\" href=https://colab.research.google.com/notebooks/data_table.ipynb>data table notebook</a>'\n",
              "          + ' to learn more about interactive tables.';\n",
              "        element.innerHTML = '';\n",
              "        dataTable['output_type'] = 'display_data';\n",
              "        await google.colab.output.renderOutput(dataTable, element);\n",
              "        const docLink = document.createElement('div');\n",
              "        docLink.innerHTML = docLinkHtml;\n",
              "        element.appendChild(docLink);\n",
              "      }\n",
              "    </script>\n",
              "  </div>\n",
              "\n",
              "\n",
              "    <div id=\"df-44b45dee-9c6f-4209-a36d-a906a0619c49\">\n",
              "      <button class=\"colab-df-quickchart\" onclick=\"quickchart('df-44b45dee-9c6f-4209-a36d-a906a0619c49')\"\n",
              "                title=\"Suggest charts\"\n",
              "                style=\"display:none;\">\n",
              "\n",
              "<svg xmlns=\"http://www.w3.org/2000/svg\" height=\"24px\"viewBox=\"0 0 24 24\"\n",
              "     width=\"24px\">\n",
              "    <g>\n",
              "        <path d=\"M19 3H5c-1.1 0-2 .9-2 2v14c0 1.1.9 2 2 2h14c1.1 0 2-.9 2-2V5c0-1.1-.9-2-2-2zM9 17H7v-7h2v7zm4 0h-2V7h2v10zm4 0h-2v-4h2v4z\"/>\n",
              "    </g>\n",
              "</svg>\n",
              "      </button>\n",
              "\n",
              "<style>\n",
              "  .colab-df-quickchart {\n",
              "      --bg-color: #E8F0FE;\n",
              "      --fill-color: #1967D2;\n",
              "      --hover-bg-color: #E2EBFA;\n",
              "      --hover-fill-color: #174EA6;\n",
              "      --disabled-fill-color: #AAA;\n",
              "      --disabled-bg-color: #DDD;\n",
              "  }\n",
              "\n",
              "  [theme=dark] .colab-df-quickchart {\n",
              "      --bg-color: #3B4455;\n",
              "      --fill-color: #D2E3FC;\n",
              "      --hover-bg-color: #434B5C;\n",
              "      --hover-fill-color: #FFFFFF;\n",
              "      --disabled-bg-color: #3B4455;\n",
              "      --disabled-fill-color: #666;\n",
              "  }\n",
              "\n",
              "  .colab-df-quickchart {\n",
              "    background-color: var(--bg-color);\n",
              "    border: none;\n",
              "    border-radius: 50%;\n",
              "    cursor: pointer;\n",
              "    display: none;\n",
              "    fill: var(--fill-color);\n",
              "    height: 32px;\n",
              "    padding: 0;\n",
              "    width: 32px;\n",
              "  }\n",
              "\n",
              "  .colab-df-quickchart:hover {\n",
              "    background-color: var(--hover-bg-color);\n",
              "    box-shadow: 0 1px 2px rgba(60, 64, 67, 0.3), 0 1px 3px 1px rgba(60, 64, 67, 0.15);\n",
              "    fill: var(--button-hover-fill-color);\n",
              "  }\n",
              "\n",
              "  .colab-df-quickchart-complete:disabled,\n",
              "  .colab-df-quickchart-complete:disabled:hover {\n",
              "    background-color: var(--disabled-bg-color);\n",
              "    fill: var(--disabled-fill-color);\n",
              "    box-shadow: none;\n",
              "  }\n",
              "\n",
              "  .colab-df-spinner {\n",
              "    border: 2px solid var(--fill-color);\n",
              "    border-color: transparent;\n",
              "    border-bottom-color: var(--fill-color);\n",
              "    animation:\n",
              "      spin 1s steps(1) infinite;\n",
              "  }\n",
              "\n",
              "  @keyframes spin {\n",
              "    0% {\n",
              "      border-color: transparent;\n",
              "      border-bottom-color: var(--fill-color);\n",
              "      border-left-color: var(--fill-color);\n",
              "    }\n",
              "    20% {\n",
              "      border-color: transparent;\n",
              "      border-left-color: var(--fill-color);\n",
              "      border-top-color: var(--fill-color);\n",
              "    }\n",
              "    30% {\n",
              "      border-color: transparent;\n",
              "      border-left-color: var(--fill-color);\n",
              "      border-top-color: var(--fill-color);\n",
              "      border-right-color: var(--fill-color);\n",
              "    }\n",
              "    40% {\n",
              "      border-color: transparent;\n",
              "      border-right-color: var(--fill-color);\n",
              "      border-top-color: var(--fill-color);\n",
              "    }\n",
              "    60% {\n",
              "      border-color: transparent;\n",
              "      border-right-color: var(--fill-color);\n",
              "    }\n",
              "    80% {\n",
              "      border-color: transparent;\n",
              "      border-right-color: var(--fill-color);\n",
              "      border-bottom-color: var(--fill-color);\n",
              "    }\n",
              "    90% {\n",
              "      border-color: transparent;\n",
              "      border-bottom-color: var(--fill-color);\n",
              "    }\n",
              "  }\n",
              "</style>\n",
              "\n",
              "      <script>\n",
              "        async function quickchart(key) {\n",
              "          const quickchartButtonEl =\n",
              "            document.querySelector('#' + key + ' button');\n",
              "          quickchartButtonEl.disabled = true;  // To prevent multiple clicks.\n",
              "          quickchartButtonEl.classList.add('colab-df-spinner');\n",
              "          try {\n",
              "            const charts = await google.colab.kernel.invokeFunction(\n",
              "                'suggestCharts', [key], {});\n",
              "          } catch (error) {\n",
              "            console.error('Error during call to suggestCharts:', error);\n",
              "          }\n",
              "          quickchartButtonEl.classList.remove('colab-df-spinner');\n",
              "          quickchartButtonEl.classList.add('colab-df-quickchart-complete');\n",
              "        }\n",
              "        (() => {\n",
              "          let quickchartButtonEl =\n",
              "            document.querySelector('#df-44b45dee-9c6f-4209-a36d-a906a0619c49 button');\n",
              "          quickchartButtonEl.style.display =\n",
              "            google.colab.kernel.accessAllowed ? 'block' : 'none';\n",
              "        })();\n",
              "      </script>\n",
              "    </div>\n",
              "\n",
              "    </div>\n",
              "  </div>\n"
            ],
            "application/vnd.google.colaboratory.intrinsic+json": {
              "type": "dataframe"
            }
          },
          "metadata": {},
          "execution_count": 3
        }
      ],
      "source": [
        "df.describe()"
      ]
    },
    {
      "cell_type": "code",
      "execution_count": null,
      "id": "306b3e6f",
      "metadata": {
        "colab": {
          "base_uri": "https://localhost:8080/"
        },
        "id": "306b3e6f",
        "outputId": "140b37a8-ae4f-47fb-eaa7-378cf8dcd329"
      },
      "outputs": [
        {
          "output_type": "stream",
          "name": "stdout",
          "text": [
            "Dataset has 9144 duplicate rows\n"
          ]
        }
      ],
      "source": [
        "# checking for duplicate values\n",
        "print(f\"Dataset has {df.duplicated().sum()} duplicate rows\")\n",
        "# dropping duplicate rows\n",
        "df.drop_duplicates(inplace=True)"
      ]
    },
    {
      "cell_type": "code",
      "execution_count": null,
      "id": "8b2f4c06",
      "metadata": {
        "colab": {
          "base_uri": "https://localhost:8080/"
        },
        "id": "8b2f4c06",
        "outputId": "04e66dc9-557d-4825-da24-41e4d38b7b75"
      },
      "outputs": [
        {
          "output_type": "stream",
          "name": "stdout",
          "text": [
            "<class 'pandas.core.frame.DataFrame'>\n",
            "Index: 275663 entries, 0 to 284806\n",
            "Data columns (total 30 columns):\n",
            " #   Column  Non-Null Count   Dtype  \n",
            "---  ------  --------------   -----  \n",
            " 0   V1      275663 non-null  float64\n",
            " 1   V2      275663 non-null  float64\n",
            " 2   V3      275663 non-null  float64\n",
            " 3   V4      275663 non-null  float64\n",
            " 4   V5      275663 non-null  float64\n",
            " 5   V6      275663 non-null  float64\n",
            " 6   V7      275663 non-null  float64\n",
            " 7   V8      275663 non-null  float64\n",
            " 8   V9      275663 non-null  float64\n",
            " 9   V10     275663 non-null  float64\n",
            " 10  V11     275663 non-null  float64\n",
            " 11  V12     275663 non-null  float64\n",
            " 12  V13     275663 non-null  float64\n",
            " 13  V14     275663 non-null  float64\n",
            " 14  V15     275663 non-null  float64\n",
            " 15  V16     275663 non-null  float64\n",
            " 16  V17     275663 non-null  float64\n",
            " 17  V18     275663 non-null  float64\n",
            " 18  V19     275663 non-null  float64\n",
            " 19  V20     275663 non-null  float64\n",
            " 20  V21     275663 non-null  float64\n",
            " 21  V22     275663 non-null  float64\n",
            " 22  V23     275663 non-null  float64\n",
            " 23  V24     275663 non-null  float64\n",
            " 24  V25     275663 non-null  float64\n",
            " 25  V26     275663 non-null  float64\n",
            " 26  V27     275663 non-null  float64\n",
            " 27  V28     275663 non-null  float64\n",
            " 28  Amount  275663 non-null  float64\n",
            " 29  Class   275663 non-null  int64  \n",
            "dtypes: float64(29), int64(1)\n",
            "memory usage: 65.2 MB\n"
          ]
        }
      ],
      "source": [
        "df.info()"
      ]
    },
    {
      "cell_type": "markdown",
      "id": "c5128908",
      "metadata": {
        "id": "c5128908"
      },
      "source": [
        "There is no null values"
      ]
    },
    {
      "cell_type": "code",
      "execution_count": null,
      "id": "9d6c996a",
      "metadata": {
        "colab": {
          "base_uri": "https://localhost:8080/"
        },
        "id": "9d6c996a",
        "outputId": "3fd4cee5-4482-4fd1-8dbb-c3720f21e370"
      },
      "outputs": [
        {
          "output_type": "stream",
          "name": "stdout",
          "text": [
            "No Frauds 99.83 % of the dataset\n",
            "Frauds 0.17 % of the dataset\n"
          ]
        }
      ],
      "source": [
        "print('No Frauds', round(df['Class'].value_counts()[0]/len(df) * 100,2), '% of the dataset')\n",
        "print('Frauds', round(df['Class'].value_counts()[1]/len(df) * 100,2), '% of the dataset')"
      ]
    },
    {
      "cell_type": "code",
      "execution_count": null,
      "id": "d88ad047",
      "metadata": {
        "colab": {
          "base_uri": "https://localhost:8080/",
          "height": 467
        },
        "id": "d88ad047",
        "outputId": "d8d717d4-1c24-445d-af37-4aa7382e86f5"
      },
      "outputs": [
        {
          "output_type": "execute_result",
          "data": {
            "text/plain": [
              "<Axes: xlabel='Class', ylabel='count'>"
            ]
          },
          "metadata": {},
          "execution_count": 7
        },
        {
          "output_type": "display_data",
          "data": {
            "text/plain": [
              "<Figure size 640x480 with 1 Axes>"
            ],
            "image/png": "[encoded data removed]"
          },
          "metadata": {}
        }
      ],
      "source": [
        "sns.countplot(data=df,x='Class')"
      ]
    },
    {
      "cell_type": "code",
      "execution_count": null,
      "id": "30728ee8",
      "metadata": {
        "colab": {
          "base_uri": "https://localhost:8080/",
          "height": 993
        },
        "id": "30728ee8",
        "outputId": "eacf9e47-743f-4542-ef07-5f7d4605dd5f"
      },
      "outputs": [
        {
          "output_type": "execute_result",
          "data": {
            "text/plain": [
              "V1        -3.273070\n",
              "V2        -4.653486\n",
              "V3        -2.216730\n",
              "V4         0.681387\n",
              "V5        -2.458790\n",
              "V6         1.867576\n",
              "V7         2.877722\n",
              "V8        -8.292631\n",
              "V9         0.550965\n",
              "V10        1.242165\n",
              "V11        0.347772\n",
              "V12       -2.208171\n",
              "V13        0.061058\n",
              "V14       -1.953613\n",
              "V15       -0.295836\n",
              "V16       -1.048371\n",
              "V17       -3.802987\n",
              "V18       -0.255710\n",
              "V19        0.115957\n",
              "V20       -2.045060\n",
              "V21        2.784302\n",
              "V22       -0.200868\n",
              "V23       -5.805236\n",
              "V24       -0.545636\n",
              "V25       -0.408260\n",
              "V26        0.587603\n",
              "V27       -0.745732\n",
              "V28       11.400938\n",
              "Amount    16.841622\n",
              "dtype: float64"
            ],
            "text/html": [
              "<div>\n",
              "<style scoped>\n",
              "    .dataframe tbody tr th:only-of-type {\n",
              "        vertical-align: middle;\n",
              "    }\n",
              "\n",
              "    .dataframe tbody tr th {\n",
              "        vertical-align: top;\n",
              "    }\n",
              "\n",
              "    .dataframe thead th {\n",
              "        text-align: right;\n",
              "    }\n",
              "</style>\n",
              "<table border=\"1\" class=\"dataframe\">\n",
              "  <thead>\n",
              "    <tr style=\"text-align: right;\">\n",
              "      <th></th>\n",
              "      <th>0</th>\n",
              "    </tr>\n",
              "  </thead>\n",
              "  <tbody>\n",
              "    <tr>\n",
              "      <th>V1</th>\n",
              "      <td>-3.273070</td>\n",
              "    </tr>\n",
              "    <tr>\n",
              "      <th>V2</th>\n",
              "      <td>-4.653486</td>\n",
              "    </tr>\n",
              "    <tr>\n",
              "      <th>V3</th>\n",
              "      <td>-2.216730</td>\n",
              "    </tr>\n",
              "    <tr>\n",
              "      <th>V4</th>\n",
              "      <td>0.681387</td>\n",
              "    </tr>\n",
              "    <tr>\n",
              "      <th>V5</th>\n",
              "      <td>-2.458790</td>\n",
              "    </tr>\n",
              "    <tr>\n",
              "      <th>V6</th>\n",
              "      <td>1.867576</td>\n",
              "    </tr>\n",
              "    <tr>\n",
              "      <th>V7</th>\n",
              "      <td>2.877722</td>\n",
              "    </tr>\n",
              "    <tr>\n",
              "      <th>V8</th>\n",
              "      <td>-8.292631</td>\n",
              "    </tr>\n",
              "    <tr>\n",
              "      <th>V9</th>\n",
              "      <td>0.550965</td>\n",
              "    </tr>\n",
              "    <tr>\n",
              "      <th>V10</th>\n",
              "      <td>1.242165</td>\n",
              "    </tr>\n",
              "    <tr>\n",
              "      <th>V11</th>\n",
              "      <td>0.347772</td>\n",
              "    </tr>\n",
              "    <tr>\n",
              "      <th>V12</th>\n",
              "      <td>-2.208171</td>\n",
              "    </tr>\n",
              "    <tr>\n",
              "      <th>V13</th>\n",
              "      <td>0.061058</td>\n",
              "    </tr>\n",
              "    <tr>\n",
              "      <th>V14</th>\n",
              "      <td>-1.953613</td>\n",
              "    </tr>\n",
              "    <tr>\n",
              "      <th>V15</th>\n",
              "      <td>-0.295836</td>\n",
              "    </tr>\n",
              "    <tr>\n",
              "      <th>V16</th>\n",
              "      <td>-1.048371</td>\n",
              "    </tr>\n",
              "    <tr>\n",
              "      <th>V17</th>\n",
              "      <td>-3.802987</td>\n",
              "    </tr>\n",
              "    <tr>\n",
              "      <th>V18</th>\n",
              "      <td>-0.255710</td>\n",
              "    </tr>\n",
              "    <tr>\n",
              "      <th>V19</th>\n",
              "      <td>0.115957</td>\n",
              "    </tr>\n",
              "    <tr>\n",
              "      <th>V20</th>\n",
              "      <td>-2.045060</td>\n",
              "    </tr>\n",
              "    <tr>\n",
              "      <th>V21</th>\n",
              "      <td>2.784302</td>\n",
              "    </tr>\n",
              "    <tr>\n",
              "      <th>V22</th>\n",
              "      <td>-0.200868</td>\n",
              "    </tr>\n",
              "    <tr>\n",
              "      <th>V23</th>\n",
              "      <td>-5.805236</td>\n",
              "    </tr>\n",
              "    <tr>\n",
              "      <th>V24</th>\n",
              "      <td>-0.545636</td>\n",
              "    </tr>\n",
              "    <tr>\n",
              "      <th>V25</th>\n",
              "      <td>-0.408260</td>\n",
              "    </tr>\n",
              "    <tr>\n",
              "      <th>V26</th>\n",
              "      <td>0.587603</td>\n",
              "    </tr>\n",
              "    <tr>\n",
              "      <th>V27</th>\n",
              "      <td>-0.745732</td>\n",
              "    </tr>\n",
              "    <tr>\n",
              "      <th>V28</th>\n",
              "      <td>11.400938</td>\n",
              "    </tr>\n",
              "    <tr>\n",
              "      <th>Amount</th>\n",
              "      <td>16.841622</td>\n",
              "    </tr>\n",
              "  </tbody>\n",
              "</table>\n",
              "</div><br><label><b>dtype:</b> float64</label>"
            ]
          },
          "metadata": {},
          "execution_count": 8
        }
      ],
      "source": [
        "df.drop('Class',axis=1).skew()"
      ]
    },
    {
      "cell_type": "code",
      "execution_count": null,
      "id": "d74277ea",
      "metadata": {
        "colab": {
          "base_uri": "https://localhost:8080/",
          "height": 468
        },
        "id": "d74277ea",
        "outputId": "44ab9c12-0197-4ee0-b3db-12206d2ac740"
      },
      "outputs": [
        {
          "output_type": "execute_result",
          "data": {
            "text/plain": [
              "<Axes: xlabel='Amount', ylabel='Density'>"
            ]
          },
          "metadata": {},
          "execution_count": 9
        },
        {
          "output_type": "display_data",
          "data": {
            "text/plain": [
              "<Figure size 640x480 with 1 Axes>"
            ],
            "image/png": "[encoded data removed]"
          },
          "metadata": {}
        }
      ],
      "source": [
        "sns.kdeplot(df['Amount'])"
      ]
    },
    {
      "cell_type": "code",
      "execution_count": null,
      "id": "bd8cb1b8",
      "metadata": {
        "colab": {
          "base_uri": "https://localhost:8080/",
          "height": 467
        },
        "id": "bd8cb1b8",
        "outputId": "91ded8bc-e64b-4dc2-a065-10b9ca118dad"
      },
      "outputs": [
        {
          "output_type": "execute_result",
          "data": {
            "text/plain": [
              "<Axes: xlabel='Amount', ylabel='Density'>"
            ]
          },
          "metadata": {},
          "execution_count": 10
        },
        {
          "output_type": "display_data",
          "data": {
            "text/plain": [
              "<Figure size 640x480 with 1 Axes>"
            ],
            "image/png": "[encoded data removed]"
          },
          "metadata": {}
        }
      ],
      "source": [
        "df['Amount'] = df['Amount'].apply(lambda x: np.log10(x+1))\n",
        "sns.kdeplot(df['Amount'])"
      ]
    },
    {
      "cell_type": "markdown",
      "id": "284d6f22",
      "metadata": {
        "id": "284d6f22"
      },
      "source": [
        "## Creating a sub sample"
      ]
    },
    {
      "cell_type": "markdown",
      "id": "0a068d5c",
      "metadata": {
        "id": "0a068d5c"
      },
      "source": [
        "What - create a[](http://) df with equal number of fraud and non fraud samples  \n",
        "Why - Although we don't know what the \"V\" features stand for, it will be useful to understand how each of this features influence the target. By having an imbalance dataframe we are not able to see the true correlations between the class and features"
      ]
    },
    {
      "cell_type": "code",
      "execution_count": null,
      "id": "555570b8",
      "metadata": {
        "id": "555570b8"
      },
      "outputs": [],
      "source": [
        "df = df.sample(frac=1)\n",
        "\n",
        "fraud_df = df.loc[df['Class'] == 1]\n",
        "non_fraud_df = df.loc[df['Class'] == 0][:492]\n",
        "\n",
        "subsample = pd.concat([fraud_df, non_fraud_df])\n",
        "new_df = subsample.sample(frac=1, random_state=42)"
      ]
    },
    {
      "cell_type": "markdown",
      "id": "6ece260f",
      "metadata": {
        "id": "6ece260f"
      },
      "source": [
        "### Correlation"
      ]
    },
    {
      "cell_type": "code",
      "execution_count": null,
      "id": "b4be44b5",
      "metadata": {
        "colab": {
          "base_uri": "https://localhost:8080/",
          "height": 542
        },
        "id": "b4be44b5",
        "outputId": "8fadff3e-389f-4cea-c089-fc82fee9f708"
      },
      "outputs": [
        {
          "output_type": "display_data",
          "data": {
            "text/html": [
              "<html>\n",
              "<head><meta charset=\"utf-8\" /></head>\n",
              "<body>\n",
              "    <div>            <script src=\"https://cdnjs.cloudflare.com/ajax/libs/mathjax/2.7.5/MathJax.js?config=TeX-AMS-MML_SVG\"></script><script type=\"text/javascript\">if (window.MathJax && window.MathJax.Hub && window.MathJax.Hub.Config) {window.MathJax.Hub.Config({SVG: {font: \"STIX-Web\"}});}</script>                <script type=\"text/javascript\">window.PlotlyConfig = {MathJaxConfig: 'local'};</script>\n",
              "        <script charset=\"utf-8\" src=\"https://cdn.plot.ly/plotly-2.35.2.min.js\"></script>                <div id=\"3ece9a2e-3527-4fb8-a30d-722b0caeda2b\" class=\"plotly-graph-div\" style=\"height:525px; width:100%;\"></div>            <script type=\"text/javascript\">                                    window.PLOTLYENV=window.PLOTLYENV || {};                                    if (document.getElementById(\"3ece9a2e-3527-4fb8-a30d-722b0caeda2b\")) {                    Plotly.newPlot(                        \"3ece9a2e-3527-4fb8-a30d-722b0caeda2b\",                        [{\"coloraxis\":\"coloraxis\",\"name\":\"0\",\"x\":[\"V1\",\"V2\",\"V3\",\"V4\",\"V5\",\"V6\",\"V7\",\"V8\",\"V9\",\"V10\",\"V11\",\"V12\",\"V13\",\"V14\",\"V15\",\"V16\",\"V17\",\"V18\",\"V19\",\"V20\",\"V21\",\"V22\",\"V23\",\"V24\",\"V25\",\"V26\",\"V27\",\"V28\",\"Amount\",\"Class\"],\"y\":[\"V1\",\"V2\",\"V3\",\"V4\",\"V5\",\"V6\",\"V7\",\"V8\",\"V9\",\"V10\",\"V11\",\"V12\",\"V13\",\"V14\",\"V15\",\"V16\",\"V17\",\"V18\",\"V19\",\"V20\",\"V21\",\"V22\",\"V23\",\"V24\",\"V25\",\"V26\",\"V27\",\"V28\",\"Amount\",\"Class\"],\"z\":[[1.0,0.00900205663057307,0.005951870323344063,-0.000041733637722825694,-0.01859293139425891,-0.005788588932603796,-0.006842588291336055,-0.0004903017705978935,-0.0070931881840850895,0.003115080433367417,-0.005238361152132194,-0.005224732658888173,0.00017607397170222772,-0.0001670166380945434,-0.008538155507659446,-0.006376158582724397,-0.0017092604947155031,-0.00003711812585132174,-0.00036578698126053035,0.0031085360485398265,0.006003695030846247,0.0036338595739371857,-0.007503985473868965,-0.009326773224502526,-0.004446136018296144,-0.002436423100703877,-0.014628053567676158,-0.00355500694116641,-0.07669206550361635,-0.09471828027404058],[0.00900205663057307,1.0,0.004976420415917194,-0.004094783032822253,0.004654828151539376,0.004290266474645152,0.004866010897475007,0.0037426936559328177,0.0011157645474232473,0.002764173799416282,-0.0018084640177490226,0.0014801177085389913,0.0004607696108804748,0.004771739778601166,0.0011762916062600733,0.0026475607161064903,0.001303584059943242,0.00036303790401862225,0.0011638151899723797,-0.0003388726980985589,-0.003880671951278666,0.0029086740053362327,-0.0036886296217182985,0.001973516828125259,-0.002836931404197404,-0.0002960596857444444,0.007251624234862192,0.0014575992938972407,-0.45939752929646555,0.08475425481454381],[0.005951870323344063,0.004976420415917194,1.0,-0.0007207506128839991,0.011019512449786216,0.014780101443837575,-0.014015590290726,0.003733210299163578,-0.0028955310476306262,-0.011064456582014402,0.0037632683294711714,-0.0033654032642077745,-0.0007532888104512365,-0.008208455227591501,0.0033238924517765946,0.00033603306534805565,-0.00281313273907156,-0.003876447934607544,-0.0008279699688052683,-0.004587224438279788,0.0018178562780222722,-0.004202923672142384,0.0021830017967686024,0.009782012846899434,0.004090898265090319,0.003596060803817463,-0.008780490220863357,-0.002453994123024107,-0.053019096184096684,-0.18577174362070784],[-0.000041733637722825694,-0.004094783032822253,-0.0007207506128839991,1.0,0.006710184917377006,0.012534619986162636,0.0008061613152964299,0.0049964845202626505,0.0013954678785992182,0.0033663943727184533,-0.004401812026915837,0.0005605366567561587,0.00033240074820584114,0.0053355967024485305,0.004045091895456276,0.0017826285626817192,0.0016328679540391704,0.001568664774963277,0.005018282953491032,0.001165410096173311,-0.0006225862056653936,0.0015809695312210448,-0.0001547536737260778,0.005759384705327797,0.00017302609596239486,-0.0011052679713744718,0.0025173272107863274,0.000028447013289829107,-0.0006991724135756429,0.1303132876507865],[-0.01859293139425891,0.004654828151539376,0.011019512449786216,0.006710184917377006,1.0,-0.029700785735833776,-0.00910663250158049,-0.002605287522407333,-0.0007861995616428261,-0.002817740725206598,-0.0029651575403909164,-0.00034277222928885475,0.0012005945355469836,0.0051745275252920815,-0.0071219945435210125,-0.004147091486085754,-0.005421946975850368,-0.003108216609260158,0.00035056602265908746,-0.0007880754250583315,0.0034392276588518338,0.0029714567709644936,-0.0010578383026697191,-0.01263361333277017,-0.004862304415897676,-0.0015684754955834542,-0.006115679435720006,-0.0007109361143901507,-0.2852020730073753,-0.08864223740340475],[-0.005788588932603796,0.004290266474645152,0.014780101443837575,0.012534619986162636,-0.029700785735833776,1.0,0.013087429720545888,-0.012300897072016655,-0.0022898994434729612,-0.0027228856396609466,0.0004459549207896918,0.004288005962351953,-0.00013954654889487258,0.00017772529829543365,-0.009362574711093214,-0.0025379738409454095,0.0017467394403830297,0.0007341181373794712,0.0008803306295041224,-0.0018348819521767962,-0.001584225041512309,0.0023550476524281114,-0.00022080361056578147,-0.02109767327229249,-0.006673263711386155,0.0007018999138726504,-0.0015773843269393482,0.0006170632194788172,0.1759404069423636,-0.04477665579579344],[-0.006842588291336055,0.004866010897475007,-0.014015590290726,0.0008061613152964299,-0.00910663250158049,0.013087429720545888,1.0,-0.0009866326473789693,-0.0016570505889461973,-0.012245575367022614,0.0017312862293721325,-0.007377770947454675,0.001019065433844236,-0.002006382163905026,0.0021646994570772202,-0.0035533675012726623,-0.00998495975566305,-0.004092121223166143,0.000589609211748831,-0.0021958273347805887,0.008634730211603093,-0.0017008984979524524,0.0034580507880623643,0.005375437011175798,0.002069807897952373,-0.0004588383679029773,-0.003977219873228331,0.0013292721181320372,0.09665909375065507,-0.17329184536211747],[-0.0004903017705978935,0.0037426936559328177,0.003733210299163578,0.0049964845202626505,-0.002605287522407333,-0.012300897072016655,-0.0009866326473789693,1.0,0.00016845994784148822,0.0002385227698407589,0.005165137776894943,-0.004133687695665105,-0.0013413330919203614,-0.009568384289532229,-0.0023223464399357782,-0.0068683078582948845,-0.006049143384274027,-0.0020921198093683587,0.0008553714180542185,0.0005621589466950898,0.018805553474641346,-0.005181868541496865,0.0064612165073519075,-0.006000318559471116,-0.002826501198408236,-0.001122489841986541,-0.00010826667669576874,0.00020087170096160306,-0.021610377555365167,0.0333643846028477],[-0.0070931881840850895,0.0011157645474232473,-0.0028955310476306262,0.0013954678785992182,-0.0007861995616428261,-0.0022898994434729612,-0.0016570505889461973,0.00016845994784148822,1.0,-0.004956960977232538,-0.00158313151226448,0.0002209346491415927,-0.0002590626900248781,-0.005124874206624836,-0.0049122723369860915,0.0026803399946647407,-0.00048754043251916226,-0.0009567733050660238,-0.0009356707772170979,0.0006125813121427708,0.0017444713839398353,0.0007417622746536927,-0.0017392600161237053,-0.002454091315873924,-0.00035765868608074843,0.005307459170163397,0.008065890934748361,0.006486668776329243,-0.07379718375060489,-0.09458275894222011],[0.003115080433367417,0.002764173799416282,-0.011064456582014402,0.0033663943727184533,-0.002817740725206598,-0.0027228856396609466,-0.012245575367022614,0.0002385227698407589,-0.004956960977232538,1.0,0.0052113259138133585,-0.007394681979457065,0.000889696450936182,-0.0046159222671408925,0.0033660109027974796,-0.003637165067540746,-0.0018408332602425836,0.0009112200184282383,0.00037902910886735845,-0.0045061722513230415,0.002395501101821106,-0.0030120809221213245,0.0017604510466672834,0.001014918796512294,0.0024991028176015984,-0.0008588947666105123,0.011495357691488123,0.009956260833449826,-0.016495040286124345,-0.20810420388532966],[-0.005238361152132194,-0.0018084640177490226,0.0037632683294711714,-0.004401812026915837,-0.0029651575403909164,0.0004459549207896918,0.0017312862293721325,0.005165137776894943,-0.00158313151226448,0.0052113259138133585,1.0,0.0038569701711923233,0.0013722399585872071,0.010051637591902814,-0.0023817677004227527,0.0010450899175577675,0.00012728508810079132,-0.0017349245158464123,0.0020675542539909347,-0.0002896766792570775,-0.0023308194112002766,0.0008035998110590469,-0.0008390469723996072,0.001583637071823607,-0.0032093521987376834,-0.0020645266678812287,0.002434704351628337,0.0021758658346355715,-0.04305344263458157,0.15126045335714255],[-0.005224732658888173,0.0014801177085389913,-0.0033654032642077745,0.0005605366567561587,-0.00034277222928885475,0.004288005962351953,-0.007377770947454675,-0.004133687695665105,0.0002209346491415927,-0.007394681979457065,0.0038569701711923233,1.0,0.0025323143640474137,-0.0040605989164580756,0.0017273304728852225,-0.007692279149880115,-0.007394531288472984,-0.0007609712734103419,-0.0017433222825322982,0.0020413560807987863,0.004192083404063662,0.0029666544689706123,-0.0011010633955009267,0.001695453268085856,0.0007319178597714996,-0.0020108838239185967,-0.0007758604396770526,-0.00017303047803582231,-0.011033406249319273,-0.2531497949999816],[0.00017607397170222772,0.0004607696108804748,-0.0007532888104512365,0.00033240074820584114,0.0012005945355469836,-0.00013954654889487258,0.001019065433844236,-0.0013413330919203614,-0.0002590626900248781,0.000889696450936182,0.0013722399585872071,0.0025323143640474137,1.0,-0.0034795667118207112,0.0025145688423962743,-0.0022096783650526483,-0.00031470368423969084,0.0008394873375494828,0.0010715570383271673,-0.000620614835603237,0.001100545391009353,0.00021352603227368575,0.0007110910522848789,-0.00101406818677508,-0.0000591103929891643,0.0008868780941754556,-0.0014510102497142757,-0.0003797505758877129,-0.006205009221444257,-0.003934245314299186],[-0.0001670166380945434,0.004771739778601166,-0.008208455227591501,0.0053355967024485305,0.0051745275252920815,0.00017772529829543365,-0.002006382163905026,-0.009568384289532229,-0.005124874206624836,-0.0046159222671408925,0.010051637591902814,-0.0040605989164580756,-0.0034795667118207112,1.0,0.00262448363161038,-0.003320306849979121,0.0009197230024975155,0.0014131471241991501,-0.0007510941548647873,0.003683457197060173,0.004710627375381639,-0.0047947905580390604,0.0009289389054848176,0.00033180031929474384,0.00207681685751416,0.0014042703420475474,-0.003828442029279122,-0.0031782024265971033,0.02138278263985009,-0.2975497797564367],[-0.008538155507659446,0.0011762916062600733,0.0033238924517765946,0.004045091895456276,-0.0071219945435210125,-0.009362574711093214,0.0021646994570772202,-0.0023223464399357782,-0.0049122723369860915,0.0033660109027974796,-0.0023817677004227527,0.0017273304728852225,0.0025145688423962743,0.00262448363161038,1.0,-0.004916780368499106,-0.0006027072808329033,-0.0008590147198242453,0.0033865340764305143,0.0003750891706898091,0.0011372992637743854,0.002579003213495823,0.0007269407316841562,-0.008460676558177675,-0.008245117506923227,0.0019241521230986983,-0.0014722700182018102,0.00015627937832890455,-0.05445302096354126,-0.002823966145014308],[-0.006376158582724397,0.0026475607161064903,0.00033603306534805565,0.0017826285626817192,-0.004147091486085754,-0.0025379738409454095,-0.0035533675012726623,-0.0068683078582948845,0.0026803399946647407,-0.003637165067540746,0.0010450899175577675,-0.007692279149880115,-0.0022096783650526483,-0.003320306849979121,-0.004916780368499106,1.0,-0.010046388062466065,-0.009275590059228421,0.0024073594302016672,0.00042400545327878596,0.005267154400499111,0.0032960882528520192,0.0015241836118115976,-0.00443691428711488,-0.0024636512169707646,-0.004494645380977241,-0.003527977806909274,-0.0018546665914330573,-0.09729387167350646,-0.18822150581931588],[-0.0017092604947155031,0.001303584059943242,-0.00281313273907156,0.0016328679540391704,-0.005421946975850368,0.0017467394403830297,-0.00998495975566305,-0.006049143384274027,-0.00048754043251916226,-0.0018408332602425836,0.00012728508810079132,-0.007394531288472984,-0.00031470368423969084,0.0009197230024975155,-0.0006027072808329033,-0.010046388062466065,1.0,-0.007602083690617841,0.007939819203282853,0.0012085000319451966,0.0041627237748637835,0.0005457665567498957,0.0024120413459317596,0.004598973463231318,-0.003343032752915625,-0.0010902404860177245,-0.003597076398563487,-0.0035868351644627447,0.01692275973435759,-0.31720194703317217],[-0.00003711812585132174,0.00036303790401862225,-0.003876447934607544,0.001568664774963277,-0.003108216609260158,0.0007341181373794712,-0.004092121223166143,-0.0020921198093683587,-0.0009567733050660238,0.0009112200184282383,-0.0017349245158464123,-0.0007609712734103419,0.0008394873375494828,0.0014131471241991501,-0.0008590147198242453,-0.009275590059228421,-0.007602083690617841,1.0,0.00038945371850089176,-0.00018506842718455846,0.0006194270891825635,-0.0043213804352693974,0.0034875147306727802,-0.000835969050837043,-0.005230957006827917,0.003583478304060557,-0.005176455822270932,-0.0018988674568862572,0.04418650871470416,-0.1064469255308126],[-0.00036578698126053035,0.0011638151899723797,-0.0008279699688052683,0.005018282953491032,0.00035056602265908746,0.0008803306295041224,0.000589609211748831,0.0008553714180542185,-0.0009356707772170979,0.00037902910886735845,0.0020675542539909347,-0.0017433222825322982,0.0010715570383271673,-0.0007510941548647873,0.0033865340764305143,0.0024073594302016672,0.007939819203282853,0.00038945371850089176,1.0,-0.0008462799424581537,0.0008855134322266641,0.0035208642995499216,-0.0003568083569355947,-0.0014100893491833034,0.0004653675644518121,0.0009070515999730476,-0.000010973789013442397,0.0008126304744584449,-0.015601526945529989,0.03378413152415518],[0.0031085360485398265,-0.0003388726980985589,-0.004587224438279788,0.001165410096173311,-0.0007880754250583315,-0.0018348819521767962,-0.0021958273347805887,0.0005621589466950898,0.0006125813121427708,-0.0045061722513230415,-0.0002896766792570775,0.0020413560807987863,-0.000620614835603237,0.003683457197060173,0.0003750891706898091,0.00042400545327878596,0.0012085000319451966,-0.00018506842718455846,-0.0008462799424581537,1.0,0.004391631543174627,-0.002321531857096174,0.0007476054518365206,0.00013230040224704624,-1.2698991006435062e-6,-0.0003043709137931304,-0.00009623569420524954,0.0018278487908438498,0.14256805451061552,0.02134913462645683],[0.006003695030846247,-0.003880671951278666,0.0018178562780222722,-0.0006225862056653936,0.0034392276588518338,-0.001584225041512309,0.008634730211603093,0.018805553474641346,0.0017444713839398353,0.002395501101821106,-0.0023308194112002766,0.004192083404063662,0.001100545391009353,0.004710627375381639,0.0011372992637743854,0.005267154400499111,0.0041627237748637835,0.0006194270891825635,0.0008855134322266641,0.004391631543174627,1.0,0.0017951267485506834,-0.004335795108936187,0.002943329531566179,-0.001299341057234806,0.0008275390972012755,-0.005524039706815545,-0.004461160639097254,0.08325734243772774,0.02623913561853274],[0.0036338595739371857,0.0029086740053362327,-0.004202923672142384,0.0015809695312210448,0.0029714567709644936,0.0023550476524281114,-0.0017008984979524524,-0.005181868541496865,0.0007417622746536927,-0.0030120809221213245,0.0008035998110590469,0.0029666544689706123,0.00021352603227368575,-0.0047947905580390604,0.002579003213495823,0.0032960882528520192,0.0005457665567498957,-0.0043213804352693974,0.0035208642995499216,-0.002321531857096174,0.0017951267485506834,1.0,0.006160634816717899,0.004007631493735211,-0.0023307563307246853,0.00430878067851092,0.001685615371881866,0.001670335745203861,0.03546786563373418,0.004612376174770296],[-0.007503985473868965,-0.0036886296217182985,0.0021830017967686024,-0.0001547536737260778,-0.0010578383026697191,-0.00022080361056578147,0.0034580507880623643,0.0064612165073519075,-0.0017392600161237053,0.0017604510466672834,-0.0008390469723996072,-0.0011010633955009267,0.0007110910522848789,0.0009289389054848176,0.0007269407316841562,0.0015241836118115976,0.0024120413459317596,0.0034875147306727802,-0.0003568083569355947,0.0007476054518365206,-0.004335795108936187,0.006160634816717899,1.0,-0.0011911345613579549,0.0036245111360325454,-0.0021047329234189405,-0.0015197357777629373,-0.0027191923469286694,-0.02506044623372617,-0.006206025561580881],[-0.009326773224502526,0.001973516828125259,0.009782012846899434,0.005759384705327797,-0.01263361333277017,-0.02109767327229249,0.005375437011175798,-0.006000318559471116,-0.002454091315873924,0.001014918796512294,0.001583637071823607,0.001695453268085856,-0.00101406818677508,0.00033180031929474384,-0.008460676558177675,-0.00443691428711488,0.004598973463231318,-0.000835969050837043,-0.0014100893491833034,0.00013230040224704624,0.002943329531566179,0.004007631493735211,-0.0011911345613579549,1.0,-0.007006715089922643,0.0015263545489949415,-0.0013154128149647508,0.00008562142586956602,-0.0047901193428036195,-0.006831067309309988],[-0.004446136018296144,-0.002836931404197404,0.004090898265090319,0.00017302609596239486,-0.004862304415897676,-0.006673263711386155,0.002069807897952373,-0.002826501198408236,-0.00035765868608074843,0.0024991028176015984,-0.0032093521987376834,0.0007319178597714996,-0.0000591103929891643,0.00207681685751416,-0.008245117506923227,-0.0024636512169707646,-0.003343032752915625,-0.005230957006827917,0.0004653675644518121,-1.2698991006435062e-6,-0.001299341057234806,-0.0023307563307246853,0.0036245111360325454,-0.007006715089922643,1.0,0.0045735767649078924,-0.0019952735762459217,-0.0012281791648252553,0.006831989076374402,0.003592986720025385],[-0.002436423100703877,-0.0002960596857444444,0.003596060803817463,-0.0011052679713744718,-0.0015684754955834542,0.0007018999138726504,-0.0004588383679029773,-0.001122489841986541,0.005307459170163397,-0.0008588947666105123,-0.0020645266678812287,-0.0020108838239185967,0.0008868780941754556,0.0014042703420475474,0.0019241521230986983,-0.004494645380977241,-0.0010902404860177245,0.003583478304060557,0.0009070515999730476,-0.0003043709137931304,0.0008275390972012755,0.00430878067851092,-0.0021047329234189405,0.0015263545489949415,0.0045735767649078924,1.0,-0.000958441216136892,-0.0005696018274222897,-0.01534410497786075,0.0043412892041977845],[-0.014628053567676158,0.007251624234862192,-0.008780490220863357,0.0025173272107863274,-0.006115679435720006,-0.0015773843269393482,-0.003977219873228331,-0.00010826667669576874,0.008065890934748361,0.011495357691488123,0.002434704351628337,-0.0007758604396770526,-0.0014510102497142757,-0.003828442029279122,-0.0014722700182018102,-0.003527977806909274,-0.003597076398563487,-0.005176455822270932,-0.000010973789013442397,-0.00009623569420524954,-0.005524039706815545,0.001685615371881866,-0.0015197357777629373,-0.0013154128149647508,-0.0019952735762459217,-0.000958441216136892,1.0,-0.01443463179292665,-0.04829631949944438,0.021888244417405604],[-0.00355500694116641,0.0014575992938972407,-0.002453994123024107,0.000028447013289829107,-0.0007109361143901507,0.0006170632194788172,0.0013292721181320372,0.00020087170096160306,0.006486668776329243,0.009956260833449826,0.0021758658346355715,-0.00017303047803582231,-0.0003797505758877129,-0.0031782024265971033,0.00015627937832890455,-0.0018546665914330573,-0.0035868351644627447,-0.0018988674568862572,0.0008126304744584449,0.0018278487908438498,-0.004461160639097254,0.001670335745203861,-0.0027191923469286694,0.00008562142586956602,-0.0012281791648252553,-0.0005696018274222897,-0.01443463179292665,1.0,-0.003436289474096335,0.009642345399190245],[-0.07669206550361635,-0.45939752929646555,-0.053019096184096684,-0.0006991724135756429,-0.2852020730073753,0.1759404069423636,0.09665909375065507,-0.021610377555365167,-0.07379718375060489,-0.016495040286124345,-0.04305344263458157,-0.011033406249319273,-0.006205009221444257,0.02138278263985009,-0.05445302096354126,-0.09729387167350646,0.01692275973435759,0.04418650871470416,-0.015601526945529989,0.14256805451061552,0.08325734243772774,0.03546786563373418,-0.02506044623372617,-0.0047901193428036195,0.006831989076374402,-0.01534410497786075,-0.04829631949944438,-0.003436289474096335,1.0,-0.00915167590969622],[-0.09471828027404058,0.08475425481454381,-0.18577174362070784,0.1303132876507865,-0.08864223740340475,-0.04477665579579344,-0.17329184536211747,0.0333643846028477,-0.09458275894222011,-0.20810420388532966,0.15126045335714255,-0.2531497949999816,-0.003934245314299186,-0.2975497797564367,-0.002823966145014308,-0.18822150581931588,-0.31720194703317217,-0.1064469255308126,0.03378413152415518,0.02134913462645683,0.02623913561853274,0.004612376174770296,-0.006206025561580881,-0.006831067309309988,0.003592986720025385,0.0043412892041977845,0.021888244417405604,0.009642345399190245,-0.00915167590969622,1.0]],\"type\":\"heatmap\",\"xaxis\":\"x\",\"yaxis\":\"y\",\"hovertemplate\":\"x: %{x}\\u003cbr\\u003ey: %{y}\\u003cbr\\u003ecolor: %{z}\\u003cextra\\u003e\\u003c\\u002fextra\\u003e\"}],                        {\"template\":{\"data\":{\"histogram2dcontour\":[{\"type\":\"histogram2dcontour\",\"colorbar\":{\"outlinewidth\":0,\"ticks\":\"\"},\"colorscale\":[[0.0,\"#0d0887\"],[0.1111111111111111,\"#46039f\"],[0.2222222222222222,\"#7201a8\"],[0.3333333333333333,\"#9c179e\"],[0.4444444444444444,\"#bd3786\"],[0.5555555555555556,\"#d8576b\"],[0.6666666666666666,\"#ed7953\"],[0.7777777777777778,\"#fb9f3a\"],[0.8888888888888888,\"#fdca26\"],[1.0,\"#f0f921\"]]}],\"choropleth\":[{\"type\":\"choropleth\",\"colorbar\":{\"outlinewidth\":0,\"ticks\":\"\"}}],\"histogram2d\":[{\"type\":\"histogram2d\",\"colorbar\":{\"outlinewidth\":0,\"ticks\":\"\"},\"colorscale\":[[0.0,\"#0d0887\"],[0.1111111111111111,\"#46039f\"],[0.2222222222222222,\"#7201a8\"],[0.3333333333333333,\"#9c179e\"],[0.4444444444444444,\"#bd3786\"],[0.5555555555555556,\"#d8576b\"],[0.6666666666666666,\"#ed7953\"],[0.7777777777777778,\"#fb9f3a\"],[0.8888888888888888,\"#fdca26\"],[1.0,\"#f0f921\"]]}],\"heatmap\":[{\"type\":\"heatmap\",\"colorbar\":{\"outlinewidth\":0,\"ticks\":\"\"},\"colorscale\":[[0.0,\"#0d0887\"],[0.1111111111111111,\"#46039f\"],[0.2222222222222222,\"#7201a8\"],[0.3333333333333333,\"#9c179e\"],[0.4444444444444444,\"#bd3786\"],[0.5555555555555556,\"#d8576b\"],[0.6666666666666666,\"#ed7953\"],[0.7777777777777778,\"#fb9f3a\"],[0.8888888888888888,\"#fdca26\"],[1.0,\"#f0f921\"]]}],\"heatmapgl\":[{\"type\":\"heatmapgl\",\"colorbar\":{\"outlinewidth\":0,\"ticks\":\"\"},\"colorscale\":[[0.0,\"#0d0887\"],[0.1111111111111111,\"#46039f\"],[0.2222222222222222,\"#7201a8\"],[0.3333333333333333,\"#9c179e\"],[0.4444444444444444,\"#bd3786\"],[0.5555555555555556,\"#d8576b\"],[0.6666666666666666,\"#ed7953\"],[0.7777777777777778,\"#fb9f3a\"],[0.8888888888888888,\"#fdca26\"],[1.0,\"#f0f921\"]]}],\"contourcarpet\":[{\"type\":\"contourcarpet\",\"colorbar\":{\"outlinewidth\":0,\"ticks\":\"\"}}],\"contour\":[{\"type\":\"contour\",\"colorbar\":{\"outlinewidth\":0,\"ticks\":\"\"},\"colorscale\":[[0.0,\"#0d0887\"],[0.1111111111111111,\"#46039f\"],[0.2222222222222222,\"#7201a8\"],[0.3333333333333333,\"#9c179e\"],[0.4444444444444444,\"#bd3786\"],[0.5555555555555556,\"#d8576b\"],[0.6666666666666666,\"#ed7953\"],[0.7777777777777778,\"#fb9f3a\"],[0.8888888888888888,\"#fdca26\"],[1.0,\"#f0f921\"]]}],\"surface\":[{\"type\":\"surface\",\"colorbar\":{\"outlinewidth\":0,\"ticks\":\"\"},\"colorscale\":[[0.0,\"#0d0887\"],[0.1111111111111111,\"#46039f\"],[0.2222222222222222,\"#7201a8\"],[0.3333333333333333,\"#9c179e\"],[0.4444444444444444,\"#bd3786\"],[0.5555555555555556,\"#d8576b\"],[0.6666666666666666,\"#ed7953\"],[0.7777777777777778,\"#fb9f3a\"],[0.8888888888888888,\"#fdca26\"],[1.0,\"#f0f921\"]]}],\"mesh3d\":[{\"type\":\"mesh3d\",\"colorbar\":{\"outlinewidth\":0,\"ticks\":\"\"}}],\"scatter\":[{\"fillpattern\":{\"fillmode\":\"overlay\",\"size\":10,\"solidity\":0.2},\"type\":\"scatter\"}],\"parcoords\":[{\"type\":\"parcoords\",\"line\":{\"colorbar\":{\"outlinewidth\":0,\"ticks\":\"\"}}}],\"scatterpolargl\":[{\"type\":\"scatterpolargl\",\"marker\":{\"colorbar\":{\"outlinewidth\":0,\"ticks\":\"\"}}}],\"bar\":[{\"error_x\":{\"color\":\"#2a3f5f\"},\"error_y\":{\"color\":\"#2a3f5f\"},\"marker\":{\"line\":{\"color\":\"#E5ECF6\",\"width\":0.5},\"pattern\":{\"fillmode\":\"overlay\",\"size\":10,\"solidity\":0.2}},\"type\":\"bar\"}],\"scattergeo\":[{\"type\":\"scattergeo\",\"marker\":{\"colorbar\":{\"outlinewidth\":0,\"ticks\":\"\"}}}],\"scatterpolar\":[{\"type\":\"scatterpolar\",\"marker\":{\"colorbar\":{\"outlinewidth\":0,\"ticks\":\"\"}}}],\"histogram\":[{\"marker\":{\"pattern\":{\"fillmode\":\"overlay\",\"size\":10,\"solidity\":0.2}},\"type\":\"histogram\"}],\"scattergl\":[{\"type\":\"scattergl\",\"marker\":{\"colorbar\":{\"outlinewidth\":0,\"ticks\":\"\"}}}],\"scatter3d\":[{\"type\":\"scatter3d\",\"line\":{\"colorbar\":{\"outlinewidth\":0,\"ticks\":\"\"}},\"marker\":{\"colorbar\":{\"outlinewidth\":0,\"ticks\":\"\"}}}],\"scattermapbox\":[{\"type\":\"scattermapbox\",\"marker\":{\"colorbar\":{\"outlinewidth\":0,\"ticks\":\"\"}}}],\"scatterternary\":[{\"type\":\"scatterternary\",\"marker\":{\"colorbar\":{\"outlinewidth\":0,\"ticks\":\"\"}}}],\"scattercarpet\":[{\"type\":\"scattercarpet\",\"marker\":{\"colorbar\":{\"outlinewidth\":0,\"ticks\":\"\"}}}],\"carpet\":[{\"aaxis\":{\"endlinecolor\":\"#2a3f5f\",\"gridcolor\":\"white\",\"linecolor\":\"white\",\"minorgridcolor\":\"white\",\"startlinecolor\":\"#2a3f5f\"},\"baxis\":{\"endlinecolor\":\"#2a3f5f\",\"gridcolor\":\"white\",\"linecolor\":\"white\",\"minorgridcolor\":\"white\",\"startlinecolor\":\"#2a3f5f\"},\"type\":\"carpet\"}],\"table\":[{\"cells\":{\"fill\":{\"color\":\"#EBF0F8\"},\"line\":{\"color\":\"white\"}},\"header\":{\"fill\":{\"color\":\"#C8D4E3\"},\"line\":{\"color\":\"white\"}},\"type\":\"table\"}],\"barpolar\":[{\"marker\":{\"line\":{\"color\":\"#E5ECF6\",\"width\":0.5},\"pattern\":{\"fillmode\":\"overlay\",\"size\":10,\"solidity\":0.2}},\"type\":\"barpolar\"}],\"pie\":[{\"automargin\":true,\"type\":\"pie\"}]},\"layout\":{\"autotypenumbers\":\"strict\",\"colorway\":[\"#636efa\",\"#EF553B\",\"#00cc96\",\"#ab63fa\",\"#FFA15A\",\"#19d3f3\",\"#FF6692\",\"#B6E880\",\"#FF97FF\",\"#FECB52\"],\"font\":{\"color\":\"#2a3f5f\"},\"hovermode\":\"closest\",\"hoverlabel\":{\"align\":\"left\"},\"paper_bgcolor\":\"white\",\"plot_bgcolor\":\"#E5ECF6\",\"polar\":{\"bgcolor\":\"#E5ECF6\",\"angularaxis\":{\"gridcolor\":\"white\",\"linecolor\":\"white\",\"ticks\":\"\"},\"radialaxis\":{\"gridcolor\":\"white\",\"linecolor\":\"white\",\"ticks\":\"\"}},\"ternary\":{\"bgcolor\":\"#E5ECF6\",\"aaxis\":{\"gridcolor\":\"white\",\"linecolor\":\"white\",\"ticks\":\"\"},\"baxis\":{\"gridcolor\":\"white\",\"linecolor\":\"white\",\"ticks\":\"\"},\"caxis\":{\"gridcolor\":\"white\",\"linecolor\":\"white\",\"ticks\":\"\"}},\"coloraxis\":{\"colorbar\":{\"outlinewidth\":0,\"ticks\":\"\"}},\"colorscale\":{\"sequential\":[[0.0,\"#0d0887\"],[0.1111111111111111,\"#46039f\"],[0.2222222222222222,\"#7201a8\"],[0.3333333333333333,\"#9c179e\"],[0.4444444444444444,\"#bd3786\"],[0.5555555555555556,\"#d8576b\"],[0.6666666666666666,\"#ed7953\"],[0.7777777777777778,\"#fb9f3a\"],[0.8888888888888888,\"#fdca26\"],[1.0,\"#f0f921\"]],\"sequentialminus\":[[0.0,\"#0d0887\"],[0.1111111111111111,\"#46039f\"],[0.2222222222222222,\"#7201a8\"],[0.3333333333333333,\"#9c179e\"],[0.4444444444444444,\"#bd3786\"],[0.5555555555555556,\"#d8576b\"],[0.6666666666666666,\"#ed7953\"],[0.7777777777777778,\"#fb9f3a\"],[0.8888888888888888,\"#fdca26\"],[1.0,\"#f0f921\"]],\"diverging\":[[0,\"#8e0152\"],[0.1,\"#c51b7d\"],[0.2,\"#de77ae\"],[0.3,\"#f1b6da\"],[0.4,\"#fde0ef\"],[0.5,\"#f7f7f7\"],[0.6,\"#e6f5d0\"],[0.7,\"#b8e186\"],[0.8,\"#7fbc41\"],[0.9,\"#4d9221\"],[1,\"#276419\"]]},\"xaxis\":{\"gridcolor\":\"white\",\"linecolor\":\"white\",\"ticks\":\"\",\"title\":{\"standoff\":15},\"zerolinecolor\":\"white\",\"automargin\":true,\"zerolinewidth\":2},\"yaxis\":{\"gridcolor\":\"white\",\"linecolor\":\"white\",\"ticks\":\"\",\"title\":{\"standoff\":15},\"zerolinecolor\":\"white\",\"automargin\":true,\"zerolinewidth\":2},\"scene\":{\"xaxis\":{\"backgroundcolor\":\"#E5ECF6\",\"gridcolor\":\"white\",\"linecolor\":\"white\",\"showbackground\":true,\"ticks\":\"\",\"zerolinecolor\":\"white\",\"gridwidth\":2},\"yaxis\":{\"backgroundcolor\":\"#E5ECF6\",\"gridcolor\":\"white\",\"linecolor\":\"white\",\"showbackground\":true,\"ticks\":\"\",\"zerolinecolor\":\"white\",\"gridwidth\":2},\"zaxis\":{\"backgroundcolor\":\"#E5ECF6\",\"gridcolor\":\"white\",\"linecolor\":\"white\",\"showbackground\":true,\"ticks\":\"\",\"zerolinecolor\":\"white\",\"gridwidth\":2}},\"shapedefaults\":{\"line\":{\"color\":\"#2a3f5f\"}},\"annotationdefaults\":{\"arrowcolor\":\"#2a3f5f\",\"arrowhead\":0,\"arrowwidth\":1},\"geo\":{\"bgcolor\":\"white\",\"landcolor\":\"#E5ECF6\",\"subunitcolor\":\"white\",\"showland\":true,\"showlakes\":true,\"lakecolor\":\"white\"},\"title\":{\"x\":0.05},\"mapbox\":{\"style\":\"light\"}}},\"xaxis\":{\"anchor\":\"y\",\"domain\":[0.0,1.0]},\"yaxis\":{\"anchor\":\"x\",\"domain\":[0.0,1.0],\"autorange\":\"reversed\"},\"coloraxis\":{\"colorscale\":[[0.0,\"rgb(5,48,97)\"],[0.1,\"rgb(33,102,172)\"],[0.2,\"rgb(67,147,195)\"],[0.3,\"rgb(146,197,222)\"],[0.4,\"rgb(209,229,240)\"],[0.5,\"rgb(247,247,247)\"],[0.6,\"rgb(253,219,199)\"],[0.7,\"rgb(244,165,130)\"],[0.8,\"rgb(214,96,77)\"],[0.9,\"rgb(178,24,43)\"],[1.0,\"rgb(103,0,31)\"]]},\"margin\":{\"t\":60}},                        {\"responsive\": true}                    ).then(function(){\n",
              "                            \n",
              "var gd = document.getElementById('3ece9a2e-3527-4fb8-a30d-722b0caeda2b');\n",
              "var x = new MutationObserver(function (mutations, observer) {{\n",
              "        var display = window.getComputedStyle(gd).display;\n",
              "        if (!display || display === 'none') {{\n",
              "            console.log([gd, 'removed!']);\n",
              "            Plotly.purge(gd);\n",
              "            observer.disconnect();\n",
              "        }}\n",
              "}});\n",
              "\n",
              "// Listen for the removal of the full notebook cells\n",
              "var notebookContainer = gd.closest('#notebook-container');\n",
              "if (notebookContainer) {{\n",
              "    x.observe(notebookContainer, {childList: true});\n",
              "}}\n",
              "\n",
              "// Listen for the clearing of the current output cell\n",
              "var outputEl = gd.closest('.output');\n",
              "if (outputEl) {{\n",
              "    x.observe(outputEl, {childList: true});\n",
              "}}\n",
              "\n",
              "                        })                };                            </script>        </div>\n",
              "</body>\n",
              "</html>"
            ]
          },
          "metadata": {}
        }
      ],
      "source": [
        "corr = df.corr()\n",
        "fig=px.imshow(corr, aspect=\"auto\" ,color_continuous_scale='RdBu_r')\n",
        "fig.show()"
      ]
    },
    {
      "cell_type": "code",
      "execution_count": null,
      "id": "3c160557",
      "metadata": {
        "colab": {
          "base_uri": "https://localhost:8080/",
          "height": 542
        },
        "id": "3c160557",
        "outputId": "e962193f-2192-4dbe-a34c-062b5ff83326"
      },
      "outputs": [
        {
          "output_type": "display_data",
          "data": {
            "text/html": [
              "<html>\n",
              "<head><meta charset=\"utf-8\" /></head>\n",
              "<body>\n",
              "    <div>            <script src=\"https://cdnjs.cloudflare.com/ajax/libs/mathjax/2.7.5/MathJax.js?config=TeX-AMS-MML_SVG\"></script><script type=\"text/javascript\">if (window.MathJax && window.MathJax.Hub && window.MathJax.Hub.Config) {window.MathJax.Hub.Config({SVG: {font: \"STIX-Web\"}});}</script>                <script type=\"text/javascript\">window.PlotlyConfig = {MathJaxConfig: 'local'};</script>\n",
              "        <script charset=\"utf-8\" src=\"https://cdn.plot.ly/plotly-2.35.2.min.js\"></script>                <div id=\"0c420703-c908-43a4-a4fc-fd5e1b5ea8c9\" class=\"plotly-graph-div\" style=\"height:525px; width:100%;\"></div>            <script type=\"text/javascript\">                                    window.PLOTLYENV=window.PLOTLYENV || {};                                    if (document.getElementById(\"0c420703-c908-43a4-a4fc-fd5e1b5ea8c9\")) {                    Plotly.newPlot(                        \"0c420703-c908-43a4-a4fc-fd5e1b5ea8c9\",                        [{\"coloraxis\":\"coloraxis\",\"name\":\"0\",\"x\":[\"V1\",\"V2\",\"V3\",\"V4\",\"V5\",\"V6\",\"V7\",\"V8\",\"V9\",\"V10\",\"V11\",\"V12\",\"V13\",\"V14\",\"V15\",\"V16\",\"V17\",\"V18\",\"V19\",\"V20\",\"V21\",\"V22\",\"V23\",\"V24\",\"V25\",\"V26\",\"V27\",\"V28\",\"Amount\",\"Class\"],\"y\":[\"V1\",\"V2\",\"V3\",\"V4\",\"V5\",\"V6\",\"V7\",\"V8\",\"V9\",\"V10\",\"V11\",\"V12\",\"V13\",\"V14\",\"V15\",\"V16\",\"V17\",\"V18\",\"V19\",\"V20\",\"V21\",\"V22\",\"V23\",\"V24\",\"V25\",\"V26\",\"V27\",\"V28\",\"Amount\",\"Class\"],\"z\":[[1.0,-0.7866995177111328,0.8707330573939563,-0.6076131460228529,0.8588703713896407,0.36879117644307463,0.8745409854307991,-0.23231825613247858,0.6602665800075351,0.7309310833343848,-0.519161846865115,0.5903276277569107,-0.06610382337014027,0.4390270895902267,0.1050757182545879,0.6327614602056011,0.6780701886068189,0.6689409888401211,-0.32164799299415114,-0.34692747580496647,0.11686937118600438,-0.078657674878338,0.011922413865646669,-0.10337118605957224,-0.09487579946607248,0.05127566790687034,0.12190155559517551,0.1718180288935964,-0.0524781552486831,-0.4241309365284907],[-0.7866995177111328,1.0,-0.8545522028055877,0.6872545538501875,-0.7901083547535007,-0.3498576538714551,-0.831990736129589,0.1475775415491558,-0.7085501366563897,-0.7767632188607972,0.612629446444332,-0.6760867905267979,0.04873391376392764,-0.5714211347423118,-0.1563306259698491,-0.6274221052627825,-0.6430680345054977,-0.6132202961270581,0.24687805580696823,0.357672005122651,-0.11963094584662444,0.0748185667152139,0.10931088213516223,0.04098147780380575,0.15038568473888067,0.01630103344271203,-0.08571040365820552,0.02842027927967382,-0.23082986662400626,0.48501532196192704],[0.8707330573939563,-0.8545522028055877,1.0,-0.7665805024417829,0.8436892293936965,0.505924247635557,0.8853145674527608,-0.2899360810066472,0.7581667068243059,0.8484773149798619,-0.7152829463267988,0.7575353282785097,-0.07676248408499137,0.6613581481686766,0.13331217136925635,0.7266141825507517,0.7320699575725278,0.6952416250523609,-0.3265748239923565,-0.39183134421636673,0.0740576422775897,-0.06403063287015678,-0.005746552390571617,-0.007566805305101581,-0.10141493370867781,-0.044946837366010454,-0.002053069363201605,0.10028430437146435,0.04504045770171107,-0.5650595317475497],[-0.6076131460228529,0.6872545538501875,-0.7665805024417829,1.0,-0.5494271860489431,-0.416399845790641,-0.7146179932316823,0.14430902660529651,-0.771687582447684,-0.7956761597098836,0.7902585919063116,-0.8298826899028178,0.03616627187069022,-0.796973935737323,-0.11837869758543057,-0.7198600426091859,-0.699084016688877,-0.6367481450986422,0.3082523365206164,0.3300477449756927,-0.04029878251019376,0.12099272047148009,0.02275190562457416,-0.03481364219552005,-0.010319373598053872,0.16508255960399718,0.06780524047548064,-0.04542763884117069,-0.20275403437165732,0.7065213559365783],[0.8588703713896407,-0.7901083547535007,0.8436892293936965,-0.5494271860489431,1.0,0.29669677192008254,0.8356008671521523,-0.31786310886974234,0.6502327899020424,0.7378914232409421,-0.5083897760172071,0.6015146410805741,-0.13832588131158252,0.41823819031883586,0.059741960336133104,0.6856267131506849,0.7428448181050755,0.7365091657268984,-0.4018903817403564,-0.34901654259531933,0.08282856296700193,-0.09956329895696595,-0.07493514547486224,-0.16413538812957257,-0.10443309701093297,0.046431291818321965,0.10664640387680542,0.132831050117133,-0.1758515837879528,-0.3561543631982114],[0.36879117644307463,-0.3498576538714551,0.505924247635557,-0.416399845790641,0.29669677192008254,1.0,0.34882930750260777,-0.5495370010690183,0.35554596932493554,0.4463514858367634,-0.5245887638590694,0.5075448102248349,-0.05066324933228806,0.5768221279240774,-0.03749714648966858,0.4587789750173311,0.43098905371919966,0.3744034618093511,-0.21137359820947427,-0.023238322029807953,-0.23109950225715764,0.21251359750807178,0.2760297443613653,-0.11271948035815611,-0.16195378169885247,-0.056106731410943786,-0.24385015938509533,-0.0746396483077756,0.18769603962814307,-0.41811138748555027],[0.8745409854307991,-0.831990736129589,0.8853145674527608,-0.7146179932316823,0.8356008671521523,0.34882930750260777,1.0,-0.0550860473759384,0.7757884288386802,0.8700687803298215,-0.640906069432167,0.7274102047347474,-0.056302671831191704,0.5462785053870152,0.16418470267361424,0.7487243396280144,0.7830474364150373,0.7693656945508637,-0.37349828872747803,-0.45436867587690233,0.212498767926992,-0.22638136903225667,-0.02688003559942152,-0.07447952017683616,0.030927821962591324,-0.007389508810635788,0.14098400684147624,0.15049122913234114,0.11363396013004436,-0.4714261505736955],[-0.23231825613247858,0.1475775415491558,-0.2899360810066472,0.14430902660529651,-0.31786310886974234,-0.5495370010690183,-0.0550860473759384,1.0,-0.09269126597722259,-0.10794853055304487,0.24164812081366446,-0.2099272301910619,0.2362477437282641,-0.2684568496795426,0.1463305899940091,-0.26009869925797957,-0.2894831333733029,-0.2633661861372256,0.2316210867165093,-0.19543577096372935,0.4186674131108281,-0.3738755507588072,-0.31188498690470867,0.05992464025806183,0.29156841332431566,0.024525612981211146,0.38029704803738346,0.05711865063523014,0.15441709628409853,0.11663776317608206],[0.6602665800075351,-0.7085501366563897,0.7581667068243059,-0.771687582447684,0.6502327899020424,0.35554596932493554,0.7757884288386802,-0.09269126597722259,1.0,0.8438055554092051,-0.6924415021022661,0.7658802024825527,-0.020005448742069495,0.6757546831857548,0.12836724720906403,0.7345170357904753,0.7555274848979244,0.7144461849358457,-0.3365799328181299,-0.40046702362788994,0.18415758200309026,-0.2502972522727929,-0.07702097469565963,-0.01712103149848398,-0.008380204273717481,-0.15217377730470102,0.03076845198297379,0.11479914610699085,0.1089640826444235,-0.5337020265595157],[0.7309310833343848,-0.7767632188607972,0.8484773149798619,-0.7956761597098836,0.7378914232409421,0.4463514858367634,0.8700687803298215,-0.10794853055304487,0.8438055554092051,1.0,-0.8088367239069444,0.8859888281275385,-0.029720736656989755,0.7715484757925954,0.134893578650373,0.858370810815267,0.8565364585447909,0.8046792472671066,-0.4154459806591322,-0.42280975759569867,0.1226811761517666,-0.22287376664546477,-0.03855120886186822,-0.021806277909715763,0.004108278821450405,-0.06238668217791067,0.03226314278460775,0.10377161096595267,0.11773863193940128,-0.6347135957267482],[-0.519161846865115,0.612629446444332,-0.7152829463267988,0.7902585919063116,-0.5083897760172071,-0.5245887638590694,-0.640906069432167,0.24164812081366446,-0.6924415021022661,-0.8088367239069444,1.0,-0.8982060595253397,0.052059300105175677,-0.8864796281225358,-0.07421036472648891,-0.8000390263423189,-0.7606992083178347,-0.6691683996574174,0.3914326663474508,0.2362249319609954,0.13178564278432983,0.03538351050834822,-0.04755704758638156,-0.07329571516882608,0.02958547578669952,0.15901610613057215,0.2333259830446045,0.04582712591307549,-0.1751051525524495,0.6720194376823053],[0.5903276277569107,-0.6760867905267979,0.7575353282785097,-0.8298826899028178,0.6015146410805741,0.5075448102248349,0.7274102047347474,-0.2099272301910619,0.7658802024825527,0.8859888281275385,-0.8982060595253397,1.0,-0.06980350999528867,0.8798077761574461,0.08767300541231321,0.8979720547051816,0.8687948331179947,0.794352591200013,-0.4445605716194933,-0.25600265852628745,-0.08812281947277,-0.10712758089097092,0.013524989559622471,0.008367431106734985,0.012160006083825082,-0.13239423953491927,-0.1036087019244782,-0.028957530364004936,0.12651510564071883,-0.6811268379710526],[-0.06610382337014027,0.04873391376392764,-0.07676248408499137,0.03616627187069022,-0.13832588131158252,-0.05066324933228806,-0.056302671831191704,0.2362477437282641,-0.020005448742069495,-0.029720736656989755,0.052059300105175677,-0.06980350999528867,1.0,-0.007232343538847909,-0.02266141277728661,-0.10073904830629687,-0.12401876752932603,-0.13243020031250588,0.16220371833230224,-0.05954120554850725,0.11640369754582348,-0.0630063448203408,-0.05500346326095397,0.035030075736678136,0.003482813672627739,0.021235241660564428,0.04535114730055406,-0.11449020738895127,0.08035751483409405,-0.07186019697096205],[0.4390270895902267,-0.5714211347423118,0.6613581481686766,-0.796973935737323,0.41823819031883586,0.5768221279240774,0.5462785053870152,-0.2684568496795426,0.6757546831857548,0.7715484757925954,-0.8864796281225358,0.8798077761574461,-0.007232343538847909,1.0,0.0010884685294625784,0.7725786426016233,0.7184032976004021,0.6173281622642761,-0.35386094393965467,-0.1699773373858445,-0.22423562600692304,0.03967732830396744,0.043235048404297934,0.09134711441080344,-0.09668312452894927,-0.17248370013070274,-0.24152615860179624,-0.14448077477860705,0.20005639562555635,-0.7469820486516366],[0.1050757182545879,-0.1563306259698491,0.13331217136925635,-0.11837869758543057,0.059741960336133104,-0.03749714648966858,0.16418470267361424,0.1463305899940091,0.12836724720906403,0.134893578650373,-0.07421036472648891,0.08767300541231321,-0.02266141277728661,0.0010884685294625784,1.0,-0.003951348846859093,0.03817522571077111,0.027549704036745438,0.21844582258914638,-0.11986975175777892,0.18446184897500495,-0.09369664569759524,-0.051364961791094184,0.03267757826382068,0.0099473892979334,0.02673964183208451,0.12665019568705735,0.10064255091628356,0.12316401522695981,-0.039186274223153794],[0.6327614602056011,-0.6274221052627825,0.7266141825507517,-0.7198600426091859,0.6856267131506849,0.4587789750173311,0.7487243396280144,-0.26009869925797957,0.7345170357904753,0.858370810815267,-0.8000390263423189,0.8979720547051816,-0.10073904830629687,0.7725786426016233,-0.003951348846859093,1.0,0.952235858994954,0.8966685920996248,-0.6111120472623253,-0.23280875897318976,-0.13115838822264186,-0.14087130490596364,0.02267644180100521,-0.08585792014211645,0.054131840594643876,-0.08049775148311315,-0.08013207328946917,-0.005614705822333019,-0.01303837390436411,-0.5979629092563261],[0.6780701886068189,-0.6430680345054977,0.7320699575725278,-0.699084016688877,0.7428448181050755,0.43098905371919966,0.7830474364150373,-0.2894831333733029,0.7555274848979244,0.8565364585447909,-0.7606992083178347,0.8687948331179947,-0.12401876752932603,0.7184032976004021,0.03817522571077111,0.952235858994954,1.0,0.9368625302508843,-0.5938101124016986,-0.2411843461954448,-0.10303982958284325,-0.14632286529318786,0.024628079901882777,-0.11124816293078447,0.031066147047624372,-0.05410506165219499,-0.058364807716363466,0.036816173815552605,-0.0287419692990541,-0.5488254607868263],[0.6689409888401211,-0.6132202961270581,0.6952416250523609,-0.6367481450986422,0.7365091657268984,0.3744034618093511,0.7693656945508637,-0.2633661861372256,0.7144461849358457,0.8046792472671066,-0.6691683996574174,0.794352591200013,-0.13243020031250588,0.6173281622642761,0.027549704036745438,0.8966685920996248,0.9368625302508843,1.0,-0.556415566188864,-0.22678884269233762,-0.0709219503263876,-0.1533881432979252,0.03352490318304495,-0.13828296340640434,0.05244832506620132,-0.030616012132511198,-0.011318919838837996,0.08389307148804395,-0.03375027989460359,-0.4742226153992961],[-0.32164799299415114,0.24687805580696823,-0.3265748239923565,0.3082523365206164,-0.4018903817403564,-0.21137359820947427,-0.37349828872747803,0.2316210867165093,-0.3365799328181299,-0.4154459806591322,0.3914326663474508,-0.4445605716194933,0.16220371833230224,-0.35386094393965467,0.21844582258914638,-0.6111120472623253,-0.5938101124016986,-0.556415566188864,1.0,0.06124598572509624,0.16086776652345758,0.13854689268208617,0.0020875860038968587,0.13554375671295418,-0.1335109776915554,0.052540766344785994,0.04693349310936852,-0.03895645252101083,0.1277360009407667,0.27308275634705553],[-0.34692747580496647,0.357672005122651,-0.39183134421636673,0.3300477449756927,-0.34901654259531933,-0.023238322029807953,-0.45436867587690233,-0.19543577096372935,-0.40046702362788994,-0.42280975759569867,0.2362249319609954,-0.25600265852628745,-0.05954120554850725,-0.1699773373858445,-0.11986975175777892,-0.23280875897318976,-0.2411843461954448,-0.22678884269233762,0.06124598572509624,1.0,-0.48081540299618597,0.3420783237083519,0.18229187589984033,-0.06572873902740106,0.018184203265852347,0.03182866074647132,-0.04887520938122162,0.0851861362055536,-0.014234993994880086,0.21082991879564036],[0.11686937118600438,-0.11963094584662444,0.0740576422775897,-0.04029878251019376,0.08282856296700193,-0.23109950225715764,0.212498767926992,0.4186674131108281,0.18415758200309026,0.1226811761517666,0.13178564278432983,-0.08812281947277,0.11640369754582348,-0.22423562600692304,0.18446184897500495,-0.13115838822264186,-0.10303982958284325,-0.0709219503263876,0.16086776652345758,-0.48081540299618597,1.0,-0.5990227514035261,-0.14233169490475514,0.018008537863554934,0.14826156514429173,0.03127336127773697,0.3874656109137662,0.24786059612711583,0.11025309174078932,0.11573154648999995],[-0.078657674878338,0.0748185667152139,-0.06403063287015678,0.12099272047148009,-0.09956329895696595,0.21251359750807178,-0.22638136903225667,-0.3738755507588072,-0.2502972522727929,-0.22287376664546477,0.03538351050834822,-0.10712758089097092,-0.0630063448203408,0.03967732830396744,-0.09369664569759524,-0.14087130490596364,-0.14632286529318786,-0.1533881432979252,0.13854689268208617,0.3420783237083519,-0.5990227514035261,1.0,0.22688848837407416,0.020507079668845844,-0.2469285560427165,0.03403554098220126,-0.3194307481341007,-0.17341341550527456,-0.016235635708651556,0.02272317598383531],[0.011922413865646669,0.10931088213516223,-0.005746552390571617,0.02275190562457416,-0.07493514547486224,0.2760297443613653,-0.02688003559942152,-0.31188498690470867,-0.07702097469565963,-0.03855120886186822,-0.04755704758638156,0.013524989559622471,-0.05500346326095397,0.043235048404297934,-0.051364961791094184,0.02267644180100521,0.024628079901882777,0.03352490318304495,0.0020875860038968587,0.18229187589984033,-0.14233169490475514,0.22688848837407416,1.0,-0.0036906767650787017,0.05155440644303597,0.019385217560264918,-0.22519007961601098,0.03980860746971038,-0.0672435239394088,-0.03825539039401334],[-0.10337118605957224,0.04098147780380575,-0.007566805305101581,-0.03481364219552005,-0.16413538812957257,-0.11271948035815611,-0.07447952017683616,0.05992464025806183,-0.01712103149848398,-0.021806277909715763,-0.07329571516882608,0.008367431106734985,0.035030075736678136,0.09134711441080344,0.03267757826382068,-0.08585792014211645,-0.11124816293078447,-0.13828296340640434,0.13554375671295418,-0.06572873902740106,0.018008537863554934,0.020507079668845844,-0.0036906767650787017,1.0,-0.07107198957378101,-0.09508718928334146,-0.17143538361244232,-0.012215907196950471,0.1033344590131394,-0.01866626211512913],[-0.09487579946607248,0.15038568473888067,-0.10141493370867781,-0.010319373598053872,-0.10443309701093297,-0.16195378169885247,0.030927821962591324,0.29156841332431566,-0.008380204273717481,0.004108278821450405,0.02958547578669952,0.012160006083825082,0.003482813672627739,-0.09668312452894927,0.0099473892979334,0.054131840594643876,0.031066147047624372,0.05244832506620132,-0.1335109776915554,0.018184203265852347,0.14826156514429173,-0.2469285560427165,0.05155440644303597,-0.07107198957378101,1.0,0.08973711820427348,0.1719489732798304,0.17942193204150506,-0.05693073419169782,0.04113310613610927],[0.05127566790687034,0.01630103344271203,-0.044946837366010454,0.16508255960399718,0.046431291818321965,-0.056106731410943786,-0.007389508810635788,0.024525612981211146,-0.15217377730470102,-0.06238668217791067,0.15901610613057215,-0.13239423953491927,0.021235241660564428,-0.17248370013070274,0.02673964183208451,-0.08049775148311315,-0.05410506165219499,-0.030616012132511198,0.052540766344785994,0.03182866074647132,0.03127336127773697,0.03403554098220126,0.019385217560264918,-0.09508718928334146,0.08973711820427348,1.0,0.173109558469851,-0.006165211953785082,-0.10494279551474531,0.0691375043277053],[0.12190155559517551,-0.08571040365820552,-0.002053069363201605,0.06780524047548064,0.10664640387680542,-0.24385015938509533,0.14098400684147624,0.38029704803738346,0.03076845198297379,0.03226314278460775,0.2333259830446045,-0.1036087019244782,0.04535114730055406,-0.24152615860179624,0.12665019568705735,-0.08013207328946917,-0.058364807716363466,-0.011318919838837996,0.04693349310936852,-0.04887520938122162,0.3874656109137662,-0.3194307481341007,-0.22519007961601098,-0.17143538361244232,0.1719489732798304,0.173109558469851,1.0,0.15694482498114287,0.024797621350119224,0.1274604071805996],[0.1718180288935964,0.02842027927967382,0.10028430437146435,-0.04542763884117069,0.132831050117133,-0.0746396483077756,0.15049122913234114,0.05711865063523014,0.11479914610699085,0.10377161096595267,0.04582712591307549,-0.028957530364004936,-0.11449020738895127,-0.14448077477860705,0.10064255091628356,-0.005614705822333019,0.036816173815552605,0.08389307148804395,-0.03895645252101083,0.0851861362055536,0.24786059612711583,-0.17341341550527456,0.03980860746971038,-0.012215907196950471,0.17942193204150506,-0.006165211953785082,0.15694482498114287,1.0,-0.09883464116736697,0.09861806289850826],[-0.0524781552486831,-0.23082986662400626,0.04504045770171107,-0.20275403437165732,-0.1758515837879528,0.18769603962814307,0.11363396013004436,0.15441709628409853,0.1089640826444235,0.11773863193940128,-0.1751051525524495,0.12651510564071883,0.08035751483409405,0.20005639562555635,0.12316401522695981,-0.01303837390436411,-0.0287419692990541,-0.03375027989460359,0.1277360009407667,-0.014234993994880086,0.11025309174078932,-0.016235635708651556,-0.0672435239394088,0.1033344590131394,-0.05693073419169782,-0.10494279551474531,0.024797621350119224,-0.09883464116736697,1.0,-0.10957430114999545],[-0.4241309365284907,0.48501532196192704,-0.5650595317475497,0.7065213559365783,-0.3561543631982114,-0.41811138748555027,-0.4714261505736955,0.11663776317608206,-0.5337020265595157,-0.6347135957267482,0.6720194376823053,-0.6811268379710526,-0.07186019697096205,-0.7469820486516366,-0.039186274223153794,-0.5979629092563261,-0.5488254607868263,-0.4742226153992961,0.27308275634705553,0.21082991879564036,0.11573154648999995,0.02272317598383531,-0.03825539039401334,-0.01866626211512913,0.04113310613610927,0.0691375043277053,0.1274604071805996,0.09861806289850826,-0.10957430114999545,1.0]],\"type\":\"heatmap\",\"xaxis\":\"x\",\"yaxis\":\"y\",\"hovertemplate\":\"x: %{x}\\u003cbr\\u003ey: %{y}\\u003cbr\\u003ecolor: %{z}\\u003cextra\\u003e\\u003c\\u002fextra\\u003e\"}],                        {\"template\":{\"data\":{\"histogram2dcontour\":[{\"type\":\"histogram2dcontour\",\"colorbar\":{\"outlinewidth\":0,\"ticks\":\"\"},\"colorscale\":[[0.0,\"#0d0887\"],[0.1111111111111111,\"#46039f\"],[0.2222222222222222,\"#7201a8\"],[0.3333333333333333,\"#9c179e\"],[0.4444444444444444,\"#bd3786\"],[0.5555555555555556,\"#d8576b\"],[0.6666666666666666,\"#ed7953\"],[0.7777777777777778,\"#fb9f3a\"],[0.8888888888888888,\"#fdca26\"],[1.0,\"#f0f921\"]]}],\"choropleth\":[{\"type\":\"choropleth\",\"colorbar\":{\"outlinewidth\":0,\"ticks\":\"\"}}],\"histogram2d\":[{\"type\":\"histogram2d\",\"colorbar\":{\"outlinewidth\":0,\"ticks\":\"\"},\"colorscale\":[[0.0,\"#0d0887\"],[0.1111111111111111,\"#46039f\"],[0.2222222222222222,\"#7201a8\"],[0.3333333333333333,\"#9c179e\"],[0.4444444444444444,\"#bd3786\"],[0.5555555555555556,\"#d8576b\"],[0.6666666666666666,\"#ed7953\"],[0.7777777777777778,\"#fb9f3a\"],[0.8888888888888888,\"#fdca26\"],[1.0,\"#f0f921\"]]}],\"heatmap\":[{\"type\":\"heatmap\",\"colorbar\":{\"outlinewidth\":0,\"ticks\":\"\"},\"colorscale\":[[0.0,\"#0d0887\"],[0.1111111111111111,\"#46039f\"],[0.2222222222222222,\"#7201a8\"],[0.3333333333333333,\"#9c179e\"],[0.4444444444444444,\"#bd3786\"],[0.5555555555555556,\"#d8576b\"],[0.6666666666666666,\"#ed7953\"],[0.7777777777777778,\"#fb9f3a\"],[0.8888888888888888,\"#fdca26\"],[1.0,\"#f0f921\"]]}],\"heatmapgl\":[{\"type\":\"heatmapgl\",\"colorbar\":{\"outlinewidth\":0,\"ticks\":\"\"},\"colorscale\":[[0.0,\"#0d0887\"],[0.1111111111111111,\"#46039f\"],[0.2222222222222222,\"#7201a8\"],[0.3333333333333333,\"#9c179e\"],[0.4444444444444444,\"#bd3786\"],[0.5555555555555556,\"#d8576b\"],[0.6666666666666666,\"#ed7953\"],[0.7777777777777778,\"#fb9f3a\"],[0.8888888888888888,\"#fdca26\"],[1.0,\"#f0f921\"]]}],\"contourcarpet\":[{\"type\":\"contourcarpet\",\"colorbar\":{\"outlinewidth\":0,\"ticks\":\"\"}}],\"contour\":[{\"type\":\"contour\",\"colorbar\":{\"outlinewidth\":0,\"ticks\":\"\"},\"colorscale\":[[0.0,\"#0d0887\"],[0.1111111111111111,\"#46039f\"],[0.2222222222222222,\"#7201a8\"],[0.3333333333333333,\"#9c179e\"],[0.4444444444444444,\"#bd3786\"],[0.5555555555555556,\"#d8576b\"],[0.6666666666666666,\"#ed7953\"],[0.7777777777777778,\"#fb9f3a\"],[0.8888888888888888,\"#fdca26\"],[1.0,\"#f0f921\"]]}],\"surface\":[{\"type\":\"surface\",\"colorbar\":{\"outlinewidth\":0,\"ticks\":\"\"},\"colorscale\":[[0.0,\"#0d0887\"],[0.1111111111111111,\"#46039f\"],[0.2222222222222222,\"#7201a8\"],[0.3333333333333333,\"#9c179e\"],[0.4444444444444444,\"#bd3786\"],[0.5555555555555556,\"#d8576b\"],[0.6666666666666666,\"#ed7953\"],[0.7777777777777778,\"#fb9f3a\"],[0.8888888888888888,\"#fdca26\"],[1.0,\"#f0f921\"]]}],\"mesh3d\":[{\"type\":\"mesh3d\",\"colorbar\":{\"outlinewidth\":0,\"ticks\":\"\"}}],\"scatter\":[{\"fillpattern\":{\"fillmode\":\"overlay\",\"size\":10,\"solidity\":0.2},\"type\":\"scatter\"}],\"parcoords\":[{\"type\":\"parcoords\",\"line\":{\"colorbar\":{\"outlinewidth\":0,\"ticks\":\"\"}}}],\"scatterpolargl\":[{\"type\":\"scatterpolargl\",\"marker\":{\"colorbar\":{\"outlinewidth\":0,\"ticks\":\"\"}}}],\"bar\":[{\"error_x\":{\"color\":\"#2a3f5f\"},\"error_y\":{\"color\":\"#2a3f5f\"},\"marker\":{\"line\":{\"color\":\"#E5ECF6\",\"width\":0.5},\"pattern\":{\"fillmode\":\"overlay\",\"size\":10,\"solidity\":0.2}},\"type\":\"bar\"}],\"scattergeo\":[{\"type\":\"scattergeo\",\"marker\":{\"colorbar\":{\"outlinewidth\":0,\"ticks\":\"\"}}}],\"scatterpolar\":[{\"type\":\"scatterpolar\",\"marker\":{\"colorbar\":{\"outlinewidth\":0,\"ticks\":\"\"}}}],\"histogram\":[{\"marker\":{\"pattern\":{\"fillmode\":\"overlay\",\"size\":10,\"solidity\":0.2}},\"type\":\"histogram\"}],\"scattergl\":[{\"type\":\"scattergl\",\"marker\":{\"colorbar\":{\"outlinewidth\":0,\"ticks\":\"\"}}}],\"scatter3d\":[{\"type\":\"scatter3d\",\"line\":{\"colorbar\":{\"outlinewidth\":0,\"ticks\":\"\"}},\"marker\":{\"colorbar\":{\"outlinewidth\":0,\"ticks\":\"\"}}}],\"scattermapbox\":[{\"type\":\"scattermapbox\",\"marker\":{\"colorbar\":{\"outlinewidth\":0,\"ticks\":\"\"}}}],\"scatterternary\":[{\"type\":\"scatterternary\",\"marker\":{\"colorbar\":{\"outlinewidth\":0,\"ticks\":\"\"}}}],\"scattercarpet\":[{\"type\":\"scattercarpet\",\"marker\":{\"colorbar\":{\"outlinewidth\":0,\"ticks\":\"\"}}}],\"carpet\":[{\"aaxis\":{\"endlinecolor\":\"#2a3f5f\",\"gridcolor\":\"white\",\"linecolor\":\"white\",\"minorgridcolor\":\"white\",\"startlinecolor\":\"#2a3f5f\"},\"baxis\":{\"endlinecolor\":\"#2a3f5f\",\"gridcolor\":\"white\",\"linecolor\":\"white\",\"minorgridcolor\":\"white\",\"startlinecolor\":\"#2a3f5f\"},\"type\":\"carpet\"}],\"table\":[{\"cells\":{\"fill\":{\"color\":\"#EBF0F8\"},\"line\":{\"color\":\"white\"}},\"header\":{\"fill\":{\"color\":\"#C8D4E3\"},\"line\":{\"color\":\"white\"}},\"type\":\"table\"}],\"barpolar\":[{\"marker\":{\"line\":{\"color\":\"#E5ECF6\",\"width\":0.5},\"pattern\":{\"fillmode\":\"overlay\",\"size\":10,\"solidity\":0.2}},\"type\":\"barpolar\"}],\"pie\":[{\"automargin\":true,\"type\":\"pie\"}]},\"layout\":{\"autotypenumbers\":\"strict\",\"colorway\":[\"#636efa\",\"#EF553B\",\"#00cc96\",\"#ab63fa\",\"#FFA15A\",\"#19d3f3\",\"#FF6692\",\"#B6E880\",\"#FF97FF\",\"#FECB52\"],\"font\":{\"color\":\"#2a3f5f\"},\"hovermode\":\"closest\",\"hoverlabel\":{\"align\":\"left\"},\"paper_bgcolor\":\"white\",\"plot_bgcolor\":\"#E5ECF6\",\"polar\":{\"bgcolor\":\"#E5ECF6\",\"angularaxis\":{\"gridcolor\":\"white\",\"linecolor\":\"white\",\"ticks\":\"\"},\"radialaxis\":{\"gridcolor\":\"white\",\"linecolor\":\"white\",\"ticks\":\"\"}},\"ternary\":{\"bgcolor\":\"#E5ECF6\",\"aaxis\":{\"gridcolor\":\"white\",\"linecolor\":\"white\",\"ticks\":\"\"},\"baxis\":{\"gridcolor\":\"white\",\"linecolor\":\"white\",\"ticks\":\"\"},\"caxis\":{\"gridcolor\":\"white\",\"linecolor\":\"white\",\"ticks\":\"\"}},\"coloraxis\":{\"colorbar\":{\"outlinewidth\":0,\"ticks\":\"\"}},\"colorscale\":{\"sequential\":[[0.0,\"#0d0887\"],[0.1111111111111111,\"#46039f\"],[0.2222222222222222,\"#7201a8\"],[0.3333333333333333,\"#9c179e\"],[0.4444444444444444,\"#bd3786\"],[0.5555555555555556,\"#d8576b\"],[0.6666666666666666,\"#ed7953\"],[0.7777777777777778,\"#fb9f3a\"],[0.8888888888888888,\"#fdca26\"],[1.0,\"#f0f921\"]],\"sequentialminus\":[[0.0,\"#0d0887\"],[0.1111111111111111,\"#46039f\"],[0.2222222222222222,\"#7201a8\"],[0.3333333333333333,\"#9c179e\"],[0.4444444444444444,\"#bd3786\"],[0.5555555555555556,\"#d8576b\"],[0.6666666666666666,\"#ed7953\"],[0.7777777777777778,\"#fb9f3a\"],[0.8888888888888888,\"#fdca26\"],[1.0,\"#f0f921\"]],\"diverging\":[[0,\"#8e0152\"],[0.1,\"#c51b7d\"],[0.2,\"#de77ae\"],[0.3,\"#f1b6da\"],[0.4,\"#fde0ef\"],[0.5,\"#f7f7f7\"],[0.6,\"#e6f5d0\"],[0.7,\"#b8e186\"],[0.8,\"#7fbc41\"],[0.9,\"#4d9221\"],[1,\"#276419\"]]},\"xaxis\":{\"gridcolor\":\"white\",\"linecolor\":\"white\",\"ticks\":\"\",\"title\":{\"standoff\":15},\"zerolinecolor\":\"white\",\"automargin\":true,\"zerolinewidth\":2},\"yaxis\":{\"gridcolor\":\"white\",\"linecolor\":\"white\",\"ticks\":\"\",\"title\":{\"standoff\":15},\"zerolinecolor\":\"white\",\"automargin\":true,\"zerolinewidth\":2},\"scene\":{\"xaxis\":{\"backgroundcolor\":\"#E5ECF6\",\"gridcolor\":\"white\",\"linecolor\":\"white\",\"showbackground\":true,\"ticks\":\"\",\"zerolinecolor\":\"white\",\"gridwidth\":2},\"yaxis\":{\"backgroundcolor\":\"#E5ECF6\",\"gridcolor\":\"white\",\"linecolor\":\"white\",\"showbackground\":true,\"ticks\":\"\",\"zerolinecolor\":\"white\",\"gridwidth\":2},\"zaxis\":{\"backgroundcolor\":\"#E5ECF6\",\"gridcolor\":\"white\",\"linecolor\":\"white\",\"showbackground\":true,\"ticks\":\"\",\"zerolinecolor\":\"white\",\"gridwidth\":2}},\"shapedefaults\":{\"line\":{\"color\":\"#2a3f5f\"}},\"annotationdefaults\":{\"arrowcolor\":\"#2a3f5f\",\"arrowhead\":0,\"arrowwidth\":1},\"geo\":{\"bgcolor\":\"white\",\"landcolor\":\"#E5ECF6\",\"subunitcolor\":\"white\",\"showland\":true,\"showlakes\":true,\"lakecolor\":\"white\"},\"title\":{\"x\":0.05},\"mapbox\":{\"style\":\"light\"}}},\"xaxis\":{\"anchor\":\"y\",\"domain\":[0.0,1.0]},\"yaxis\":{\"anchor\":\"x\",\"domain\":[0.0,1.0],\"autorange\":\"reversed\"},\"coloraxis\":{\"colorscale\":[[0.0,\"rgb(5,48,97)\"],[0.1,\"rgb(33,102,172)\"],[0.2,\"rgb(67,147,195)\"],[0.3,\"rgb(146,197,222)\"],[0.4,\"rgb(209,229,240)\"],[0.5,\"rgb(247,247,247)\"],[0.6,\"rgb(253,219,199)\"],[0.7,\"rgb(244,165,130)\"],[0.8,\"rgb(214,96,77)\"],[0.9,\"rgb(178,24,43)\"],[1.0,\"rgb(103,0,31)\"]]},\"margin\":{\"t\":60}},                        {\"responsive\": true}                    ).then(function(){\n",
              "                            \n",
              "var gd = document.getElementById('0c420703-c908-43a4-a4fc-fd5e1b5ea8c9');\n",
              "var x = new MutationObserver(function (mutations, observer) {{\n",
              "        var display = window.getComputedStyle(gd).display;\n",
              "        if (!display || display === 'none') {{\n",
              "            console.log([gd, 'removed!']);\n",
              "            Plotly.purge(gd);\n",
              "            observer.disconnect();\n",
              "        }}\n",
              "}});\n",
              "\n",
              "// Listen for the removal of the full notebook cells\n",
              "var notebookContainer = gd.closest('#notebook-container');\n",
              "if (notebookContainer) {{\n",
              "    x.observe(notebookContainer, {childList: true});\n",
              "}}\n",
              "\n",
              "// Listen for the clearing of the current output cell\n",
              "var outputEl = gd.closest('.output');\n",
              "if (outputEl) {{\n",
              "    x.observe(outputEl, {childList: true});\n",
              "}}\n",
              "\n",
              "                        })                };                            </script>        </div>\n",
              "</body>\n",
              "</html>"
            ]
          },
          "metadata": {}
        }
      ],
      "source": [
        "corr = new_df.corr()\n",
        "fig=px.imshow(corr, aspect=\"auto\" ,color_continuous_scale='RdBu_r')\n",
        "fig.show()"
      ]
    },
    {
      "cell_type": "markdown",
      "id": "a7c45385",
      "metadata": {
        "id": "a7c45385"
      },
      "source": [
        "Negative Correlations: V17, V14, V12 and V10 are negatively correlated.  \n",
        "Positive Correlations: V2, V4, V11 are positively correlated."
      ]
    },
    {
      "cell_type": "code",
      "execution_count": null,
      "id": "Mzekq9GppDUe",
      "metadata": {
        "colab": {
          "base_uri": "https://localhost:8080/"
        },
        "id": "Mzekq9GppDUe",
        "outputId": "3c0aa157-2797-4118-ef9b-393c1d0731fc"
      },
      "outputs": [
        {
          "output_type": "stream",
          "name": "stdout",
          "text": [
            "Highly Correlated Feature Pairs (|r| > 0.9):\n",
            "V16 ↔ V17: r = 0.95\n",
            "V17 ↔ V18: r = 0.94\n"
          ]
        }
      ],
      "source": [
        "# Calculate absolute correlation matrix (optional: choose df or new_df)\n",
        "corr_matrix = new_df.corr().abs()\n",
        "\n",
        "# Select upper triangle of correlation matrix to avoid duplicates and self-correlation\n",
        "upper = corr_matrix.where(np.triu(np.ones(corr_matrix.shape), k=1).astype(bool))\n",
        "\n",
        "# Set threshold\n",
        "threshold = 0.9\n",
        "\n",
        "# Find feature pairs with high correlation\n",
        "high_corr_pairs = [(col1, col2, corr_matrix.loc[col1, col2])\n",
        "                   for col1 in upper.columns\n",
        "                   for col2 in upper.columns\n",
        "                   if (upper.loc[col1, col2] > threshold)]\n",
        "\n",
        "# Display results\n",
        "print(\"Highly Correlated Feature Pairs (|r| > 0.9):\")\n",
        "for f1, f2, corr_value in high_corr_pairs:\n",
        "    print(f\"{f1} ↔ {f2}: r = {corr_value:.2f}\")"
      ]
    },
    {
      "cell_type": "markdown",
      "source": [
        "Reference-https://data36.com/correlation-definition-calculation-corr-pandas/"
      ],
      "metadata": {
        "id": "v3fIzlzxXQ8a"
      },
      "id": "v3fIzlzxXQ8a"
    },
    {
      "cell_type": "markdown",
      "id": "09014a1a",
      "metadata": {
        "id": "09014a1a"
      },
      "source": [
        "### TSNE"
      ]
    },
    {
      "cell_type": "code",
      "execution_count": null,
      "id": "64e561a6",
      "metadata": {
        "id": "64e561a6"
      },
      "outputs": [],
      "source": [
        "from sklearn.manifold import TSNE\n",
        "X = new_df.drop('Class', axis=1)\n",
        "y = new_df['Class']\n",
        "\n",
        "# T-SNE Implementation\n",
        "X_reduced_tsne = TSNE(n_components=2, random_state=42).fit_transform(X.values)"
      ]
    },
    {
      "cell_type": "code",
      "execution_count": null,
      "id": "1b1e39a4",
      "metadata": {
        "colab": {
          "base_uri": "https://localhost:8080/",
          "height": 542
        },
        "id": "1b1e39a4",
        "outputId": "59e2906e-f201-4864-950c-e819c5fc89fe"
      },
      "outputs": [
        {
          "output_type": "display_data",
          "data": {
            "text/html": [
              "<html>\n",
              "<head><meta charset=\"utf-8\" /></head>\n",
              "<body>\n",
              "    <div>            <script src=\"https://cdnjs.cloudflare.com/ajax/libs/mathjax/2.7.5/MathJax.js?config=TeX-AMS-MML_SVG\"></script><script type=\"text/javascript\">if (window.MathJax && window.MathJax.Hub && window.MathJax.Hub.Config) {window.MathJax.Hub.Config({SVG: {font: \"STIX-Web\"}});}</script>                <script type=\"text/javascript\">window.PlotlyConfig = {MathJaxConfig: 'local'};</script>\n",
              "        <script charset=\"utf-8\" src=\"https://cdn.plot.ly/plotly-2.35.2.min.js\"></script>                <div id=\"af6deebb-f243-49ec-a4e2-d31d96cff188\" class=\"plotly-graph-div\" style=\"height:525px; width:100%;\"></div>            <script type=\"text/javascript\">                                    window.PLOTLYENV=window.PLOTLYENV || {};                                    if (document.getElementById(\"af6deebb-f243-49ec-a4e2-d31d96cff188\")) {                    Plotly.newPlot(                        \"af6deebb-f243-49ec-a4e2-d31d96cff188\",                        [{\"hovertemplate\":\"x=%{x}\\u003cbr\\u003ey=%{y}\\u003cbr\\u003ecolor=%{marker.color}\\u003cextra\\u003e\\u003c\\u002fextra\\u003e\",\"legendgroup\":\"\",\"marker\":{\"color\":[0,1,1,1,1,1,1,1,1,1,1,1,1,0,0,1,1,1,1,0,0,0,0,0,0,1,1,1,0,0,0,0,0,1,0,0,0,0,0,0,1,1,1,0,0,1,1,1,0,0,0,1,0,1,1,1,0,0,1,0,0,0,0,1,0,1,0,0,1,0,1,0,1,1,0,0,1,0,1,0,0,0,0,1,0,0,1,0,0,0,1,0,0,0,1,0,1,0,1,0,1,1,1,1,1,0,1,1,0,0,0,1,1,0,0,0,1,0,1,1,0,0,0,0,0,1,0,0,1,0,0,0,0,1,0,1,1,1,0,1,1,1,1,0,1,1,0,1,0,1,1,1,0,0,1,0,0,0,0,1,1,0,1,0,1,0,1,0,1,1,1,0,0,0,0,1,0,1,0,0,1,0,0,0,1,0,0,1,0,1,0,1,1,0,1,1,0,1,0,1,1,0,1,1,1,1,0,1,1,0,0,1,1,1,0,1,0,1,1,1,0,0,0,0,1,0,1,0,0,0,0,1,0,1,1,1,1,1,1,1,0,0,1,0,1,1,1,1,0,0,0,0,1,1,1,0,0,0,0,1,0,1,0,1,1,1,0,1,0,1,1,1,1,0,0,1,1,0,0,0,1,0,0,1,0,0,1,0,0,0,0,0,1,1,0,1,1,1,1,0,1,0,1,1,0,0,0,1,0,0,0,0,0,1,1,1,1,1,0,1,0,1,1,0,1,1,1,1,0,1,1,0,1,1,1,0,1,1,0,1,1,1,1,1,0,1,1,0,0,1,1,0,1,1,1,0,1,0,1,1,1,0,1,0,1,1,1,0,1,1,0,0,0,1,1,0,0,0,1,0,0,0,0,1,0,0,0,1,1,1,0,1,1,1,1,0,1,1,1,1,1,0,1,0,0,1,0,0,0,1,0,0,0,0,0,1,1,0,0,0,1,1,1,1,0,0,1,1,1,1,0,1,1,0,1,1,0,0,0,0,0,0,1,1,1,0,1,1,1,1,0,0,0,0,1,1,1,1,1,0,0,0,1,1,0,0,0,1,1,0,1,0,1,1,0,1,0,0,0,0,1,1,1,1,0,1,0,1,1,1,1,1,0,0,0,0,1,1,0,0,0,1,0,0,1,1,1,0,0,1,0,0,1,0,1,1,1,0,1,1,1,1,0,1,0,0,0,0,1,1,0,0,1,0,0,1,1,1,1,1,0,0,0,1,1,0,1,1,0,1,1,0,1,1,0,1,1,1,0,1,1,0,0,0,1,0,0,1,1,1,0,0,0,0,1,1,0,0,0,1,1,1,1,0,0,1,1,0,1,1,0,0,0,0,0,0,0,1,0,1,0,1,1,0,1,0,0,0,0,0,1,0,0,1,1,0,1,0,1,1,1,0,1,1,0,0,0,1,0,0,0,0,0,0,0,1,0,1,0,0,0,1,1,0,1,1,1,0,0,0,1,1,1,1,0,1,0,0,1,0,1,1,0,1,1,0,0,0,0,0,1,0,1,1,1,0,0,0,0,0,0,1,1,0,0,0,0,1,1,1,1,1,0,0,1,0,1,0,1,1,1,1,1,1,1,1,1,0,0,0,1,0,1,0,0,0,1,0,0,0,0,0,0,0,0,1,0,0,1,0,1,0,1,0,1,0,0,0,1,0,0,1,0,0,1,0,1,0,0,1,1,0,0,0,1,1,1,1,0,0,1,1,0,0,0,0,0,0,0,0,0,0,0,0,1,1,0,1,0,1,0,1,0,0,0,0,0,0,1,0,1,0,0,0,1,0,0,1,1,0,1,0,0,1,1,0,0,0,0,0,0,0,0,1,0,0,0,1,0,1,1,0,1,1,1,0,1,0,0,1,1,1,0,1,0,0,1,1,1,0,1,0,0,0,1,0,1,1,1,0,1,1,0,1,0,1,1,0,0,0,1,0,1,0,1,1,0,0,0,1,1,1,0,0,1,0,0,0,0,1,0,1,1,0,0,0,1,1,1,0,0,1,1,1,1,1,0,1,0,1,1,1,0,1,1,1,0,0,0,0,0,0,0,0,1,0,0,0,0,1,0,0,0,0,0,1,0,0,0,0,1,1,1,1,1,1,1,1,0,1,0,1,0,1,0,1,0,0,1,1,1,1,1,1,1,1,0,1,0,1,1,1,0,1,1],\"coloraxis\":\"coloraxis\",\"symbol\":\"circle\"},\"mode\":\"markers\",\"name\":\"\",\"orientation\":\"v\",\"showlegend\":false,\"x\":[21.510603,-22.310919,-42.147217,-29.000532,11.738677,-24.67859,-29.203062,-41.671825,-35.157513,-31.775116,-45.215405,-44.61853,-31.69233,39.13555,6.2573886,-32.115868,-16.06606,-18.427532,-33.247173,26.723831,14.104017,30.252457,38.025578,8.939228,19.910309,-35.615368,1.0861943,0.9309147,15.092686,7.7441735,16.491856,15.571559,9.987823,-33.561623,16.960314,28.89573,5.2824025,29.433462,21.026268,23.933746,-49.584084,-35.910984,-24.469645,36.296722,10.846926,-29.476297,-37.899506,-25.979496,14.970175,17.309162,10.203735,-24.188274,14.263666,-30.950281,-36.499626,-47.10798,12.304267,35.92815,-27.445139,32.83936,14.692617,35.194515,20.648348,-12.273048,21.617397,-25.282833,31.893795,16.256817,2.625964,16.49291,2.5220737,15.258108,-43.239883,-50.169453,23.815332,27.60868,-26.557747,-0.7633313,-30.785122,33.6525,11.480909,-0.7190516,17.03448,-24.852917,27.605421,23.760605,-32.569317,26.932991,12.522507,32.762665,-30.939638,28.278536,20.002174,6.2473755,-23.747854,33.75893,-36.86795,1.7103677,-23.907192,18.41987,-33.46909,4.258289,-41.63827,-39.929714,2.6850286,6.3514256,14.527534,-42.04157,28.307308,29.305052,5.901442,18.893623,-33.662178,4.8253927,11.581703,27.837072,11.290207,11.135715,-26.242384,-42.343918,10.496315,15.025563,12.107087,19.372438,19.626257,-32.84936,7.969748,2.2444139,-36.121845,18.668455,28.77151,8.906603,12.182157,6.474161,12.724226,-39.557896,-25.889717,-36.819675,11.021329,0.2773049,-34.90766,-39.28614,11.961159,16.882479,8.288631,-22.897545,25.852566,-46.239418,14.177586,-35.22292,-31.906157,-28.89926,8.767527,28.023335,-36.465496,2.2126248,9.437171,22.782122,16.631008,-50.9769,-21.525585,18.78547,2.9542854,8.64015,4.6055994,7.685361,-40.385563,12.575009,4.86466,-31.400995,-41.828007,36.982933,26.419287,17.888027,33.687454,-34.48526,19.586292,-29.616064,14.235011,39.30169,-35.345264,13.110213,36.116333,14.543895,-26.284994,3.9058104,12.693227,-42.193104,21.1604,1.8201442,16.742659,-30.14638,27.668161,14.322832,-30.02621,2.3212154,16.781815,-33.433056,8.574171,-30.247194,-31.693127,23.14518,-39.964092,-39.483803,-44.189568,-34.15319,27.602776,-35.420464,18.443703,8.106393,20.393354,-2.3421035,-20.452707,-29.215813,7.145306,-34.53587,23.777847,-34.782047,-28.726736,-32.808628,19.1739,-4.065242,10.95136,23.701574,-35.176174,5.5301576,35.993805,1.0940403,6.959299,8.947979,27.432438,-35.50792,19.282743,-42.462116,-20.492855,-36.458214,-48.55648,-24.09334,-32.020447,-32.22746,9.465782,19.471869,-41.793297,17.377125,-24.929886,1.8776388,-28.555864,-41.65186,2.8236196,16.473663,14.833115,6.185165,0.9320027,-38.426083,-30.723785,19.00906,13.520397,10.60787,21.648458,-33.510983,32.59627,-45.78635,28.806816,1.8669008,-39.723545,-43.83635,-0.6814598,-30.809444,16.751455,-43.757397,-34.77855,-42.800835,-44.721233,9.765887,34.76505,-46.16798,3.0708601,8.945793,1.2298893,28.5156,-41.204517,33.952274,-12.558535,-46.507343,18.890406,12.4893,-16.83656,10.350242,2.3744004,36.25071,36.784184,-4.1026125,-32.875446,-39.4761,17.071142,-38.37378,-29.71794,-27.764465,4.425439,19.011974,5.089967,6.772141,-35.84592,-32.49678,16.685703,6.7616653,13.8641815,17.373695,21.212603,14.353296,26.165495,36.775635,9.885173,-44.049816,-38.948315,-29.906818,-25.73658,-46.928745,3.6014814,-14.276878,0.6741243,-23.419256,1.4213507,10.610853,-49.50649,10.375642,-43.859962,-36.59133,23.313803,-20.426655,-23.151375,4.121074,-21.630432,4.7879386,-44.136547,27.782816,-15.93854,-38.282063,41.087418,-30.468157,-47.012,32.016968,-39.69352,-39.68564,32.67452,-25.5695,-31.441402,7.64951,12.556307,-39.462208,-24.960794,29.001398,-48.011765,-39.87748,-42.712868,32.19672,21.269758,12.396335,-25.911362,-34.254925,-14.278744,18.205393,-33.69116,12.075506,-34.696247,-46.186413,-16.848097,18.277578,-27.907036,-36.9244,12.584031,15.055846,12.579292,-33.851814,-31.874043,-1.6895481,-0.2796688,19.156061,21.807444,20.2348,32.87207,6.5171614,0.4366345,3.7187927,29.083952,26.441242,34.995358,-50.12255,-47.97284,-24.800083,10.523357,1.5018582,7.071952,5.2303925,-33.773643,1.4912223,-30.068108,-29.54956,-41.996006,-37.490692,-48.801655,23.931059,2.3951051,14.963336,1.2426803,-39.423866,11.580715,7.73455,1.3890837,-37.826107,26.73994,21.506727,7.372641,13.483752,21.564419,-36.59752,-21.48124,36.47162,14.609517,9.944485,-44.77785,-44.728657,-30.837759,-22.132462,38.85305,12.53566,-36.212425,-35.195087,36.75111,-47.18,3.251146,-42.736378,7.206664,8.714245,-44.273,15.335941,35.203957,26.498034,34.94849,15.364605,27.0584,35.406082,-32.536804,-36.324913,-38.091045,19.207113,-19.516304,-3.352382,-35.998123,-30.368446,8.877506,14.055886,36.317616,15.611312,12.587299,-30.297106,-49.021896,11.407802,-19.081951,33.023796,2.9433901,7.0298705,-39.995567,-36.17051,19.589672,0.39311823,6.4726725,-29.392378,-20.34928,14.694165,-43.11515,7.5578256,-23.972868,-46.99614,15.494424,-47.240364,6.488009,14.437484,-1.3240635,29.848557,-41.37108,-36.803837,-21.503262,3.8421469,20.496126,-31.392078,12.643255,-48.355976,-30.026226,-48.935753,-2.201032,-14.798023,28.203276,7.5208855,16.542784,15.501473,5.180315,-42.524967,8.507669,16.305286,30.326977,-30.378412,6.4119368,9.276801,-32.282772,-28.558146,-43.256603,28.418266,18.248535,-38.54359,15.459719,16.17084,4.2914743,19.607403,1.709734,-35.557495,-25.284227,13.169097,-43.597813,-29.03319,-44.449677,21.821909,8.248542,1.9780957,10.148252,15.503835,6.6640873,34.10266,9.268084,-23.851248,16.036585,33.202293,-33.619236,15.36925,28.569622,3.8129377,-34.32314,-37.140903,-41.876736,-43.410873,11.871494,1.4823685,9.446994,-27.234594,-43.444256,18.527992,-24.12172,-39.023483,20.068415,-39.546432,11.327087,9.190724,-7.0816245,-44.455498,15.721297,-44.4147,-24.408857,-34.295208,28.797197,-1.0097091,-45.961575,26.235312,9.599349,18.66576,-34.070415,21.210016,37.08041,-25.36783,2.4828923,-27.040037,16.748354,11.964038,18.608044,19.10633,-23.375643,-27.968853,13.490266,1.5463804,28.806553,-33.02737,-37.579926,2.4434388,4.41039,19.047306,3.987497,-40.126522,3.4146059,16.733387,-33.107838,-34.882896,34.498577,12.669104,0.23635514,28.648754,28.86839,23.325214,19.861074,-21.334589,2.729508,1.7473414,15.395852,-37.723206,-21.528719,12.517472,-31.62453,36.748802,12.558272,14.198658,20.745491,15.098312,-26.213581,4.650614,23.607143,-33.518433,-28.357832,23.18129,-29.800756,10.904182,-41.88532,1.700653,-39.163223,14.839961,-30.945322,-32.171757,13.422375,9.995085,15.730867,-43.287235,35.587257,20.278053,9.186968,17.84533,19.180649,2.1551862,30.994053,-37.307766,5.7402415,-20.967987,15.878241,14.276421,8.432938,-31.240726,10.242876,35.790325,-33.98291,-48.149837,-50.80833,2.7315648,31.402458,11.233042,-49.52958,-34.18087,21.975294,-42.044502,30.44412,-23.681232,8.723455,17.792189,-33.636684,6.7880177,-23.118341,-33.896336,19.361687,-48.706707,2.9893527,8.568773,23.904749,9.966163,1.6080354,15.502953,-47.04428,31.443813,-36.899406,-33.51839,-19.076199,6.165251,34.130566,0.20765765,15.566073,39.523907,11.177759,-24.732973,-26.876745,4.3576407,12.58466,28.661005,40.17166,-31.310461,18.645798,-26.874908,-40.052032,-30.220198,15.047383,6.557366,-22.46081,8.054346,-34.788376,20.68705,18.31526,2.1316366,-27.728817,-38.808113,27.46654,32.45929,-39.01489,-26.225294,-27.038776,29.638905,10.026598,7.2657185,-28.94389,12.536961,-45.16018,16.78126,13.105765,14.3109,-42.050972,28.46226,29.358055,3.6382616,-5.1222405,34.670094,4.4766054,15.93276,15.302827,-19.327072,9.897933,14.671316,-33.138355,8.667507,-41.125458,8.65691,-5.366527,9.832032,-43.519432,-0.85517514,6.4673114,11.558478,1.5414137,8.218191,28.720722,-32.15907,25.03801,12.055634,-46.16086,29.71962,-2.3807871,34.996094,22.83695,-49.282887,27.579008,33.96094,5.9606833,1.4550803,-37.232452,-34.404022,-31.56751,1.6639738,21.820364,37.96696,-34.689644,4.5430865,1.7056642,28.725618,16.392849,20.18578,31.008886,1.7368233,20.39391,16.301573,1.112457,12.93747,27.864174,23.633104,7.418165,-40.835403,31.546545,-39.3343,10.07374,-32.227398,16.882664,-48.63789,22.782396,26.693129,10.217492,13.322437,11.339979,0.37590596,-25.41016,32.201363,12.314604,30.005417,32.000668,27.935972,-31.68234,14.319889,20.235434,-0.706487,-41.205627,13.199689,-34.40808,9.565239,12.699822,-29.806484,-34.398552,21.365343,14.023045,16.479343,38.83238,14.095405,-0.65322965,20.586374,30.732374,-16.072771,20.96084,18.603527,26.716516,-46.46103,2.298243,-26.804798,3.5703099,18.549015,-42.150097,-20.71523,-39.1844,31.799051,-41.199566,33.314716,12.755661,-35.695744,-36.349167,-24.734331,20.415773,-30.980602,33.60515,18.902819,-30.71823,1.8455079,-25.240103,28.686306,3.4895813,7.473754,7.7031984,12.275528,-43.40864,5.423919,-37.49986,-26.27138,-33.81511,14.187931,-25.216879,-32.054802,15.613845,2.8131976,16.200686,4.9902477,-22.850458,6.0811105,5.1290307,2.9385862,-33.19185,33.795197,-26.014935,32.98275,-35.13232,-1.750299,1.9024976,8.971859,18.911297,-30.637346,-43.480812,15.006703,2.2127652,10.936188,-47.89373,19.037321,13.677434,6.9290347,5.1538086,-43.521297,9.880987,-25.062582,-50.89812,10.0143,32.435337,13.406305,3.457432,-34.535896,-39.508366,19.421982,32.065582,3.5850148,-33.80115,-48.577713,-37.422615,-48.18095,26.19474,-23.159412,7.279762,-23.469137,-43.90375,-38.60264,3.051709,1.9656599,-43.70214,-31.513659,17.346674,35.202824,13.992592,25.257498,30.913532,38.165276,18.673431,7.545235,7.043017,19.597876,36.089954,10.644327,21.349176,-22.506338,35.72914,22.560097,21.390583,25.931679,27.669968,-34.694374,27.911768,38.16675,8.215265,26.13591,19.366295,-33.88327,-46.427017,-30.789604,-23.777473,-23.708923,-34.81107,-36.764896,28.711271,-12.655985,25.39756,-35.23024,14.233396,-24.89411,0.028945262,-24.736477,15.700485,15.427622,-42.849396,-39.783882,-33.702858,-43.434216,-30.272203,19.74906,-40.050167,-31.258213,10.259052,-35.35922,7.94373,5.087326,-28.044798,-19.753433,-0.31763673,-35.364365,-23.308079],\"xaxis\":\"x\",\"y\":[-1.4244153,-24.077291,25.246784,-21.132248,-6.7333884,-17.221252,-31.107079,-13.807986,-34.308598,-17.097021,25.136942,-11.281155,-34.183212,-1.9996433,22.349276,28.372244,-11.317552,-19.228775,-12.206916,17.923275,20.182348,-3.1044834,-4.663212,21.430132,7.707539,-26.825748,-17.850527,-15.807668,-4.1196747,29.897423,21.337603,5.3788323,10.664175,-27.02498,-9.835071,20.603018,14.4721775,3.747896,-6.879914,-5.126759,-15.386984,-23.632097,-14.61583,-2.6550624,3.9373066,-34.596054,28.22863,-21.181143,26.168365,27.733658,22.591513,-18.752645,16.65743,-9.586954,-19.745543,-5.788496,-4.8848066,-5.710162,-23.836092,1.6738921,15.046788,-4.87848,9.984942,-8.621096,-14.462309,-18.075354,12.384125,18.941982,-0.32602918,-8.008784,-16.148132,-13.656326,16.852293,-11.945984,-6.8253374,4.847709,-16.142359,-12.285766,-30.487726,5.3166475,21.679544,24.481178,-9.959325,-13.886061,11.27829,-2.7576303,-13.161318,0.39731655,23.384556,14.72547,25.965103,1.2131152,-14.553342,16.587553,-26.634398,-0.68008447,-21.888924,10.134186,-20.850554,-10.9442215,-33.531593,-11.848632,18.857162,-18.284405,-12.917775,20.335865,10.35549,18.72546,4.0954633,15.915924,0.6507216,22.867638,28.833897,-1.1898592,24.53218,-1.1023993,13.069456,18.202076,-16.399853,-13.319859,-4.4969325,-6.736315,20.805431,6.7000284,-14.484432,29.038717,2.4487708,-7.5198255,-23.449379,8.209833,-2.7501469,19.856798,12.515869,-5.458221,6.7592206,-13.660701,-21.584572,-23.485525,18.750195,-16.191896,-15.916648,-15.631029,-6.456462,-4.2101493,-1.8850579,-18.621498,18.215193,-13.157847,-11.931276,-32.444412,28.633654,-30.089615,-3.2832153,18.557981,25.643475,14.5523615,-12.71585,4.900638,-11.7962885,-14.065513,-17.459394,-12.621215,22.025454,-1.4773031,-6.610251,21.830877,-15.857711,11.900057,-0.08786747,-35.07724,24.658686,-3.8330407,-12.244615,-1.1206571,12.585922,-34.577244,-10.728379,-34.811935,12.775756,-2.0328543,-32.236374,17.161003,5.446596,-5.0531073,-17.131899,7.4583306,-3.8918772,17.257374,-12.368737,-17.751686,-1.1077906,26.558104,22.673994,-1.4593986,-23.725435,-16.182041,-6.845958,-34.54195,16.355331,-33.62075,-17.226845,6.811062,-29.606653,-30.17184,25.028976,-11.31376,11.630329,-14.88619,12.547202,-2.939447,26.037458,23.23779,-16.952168,-30.75431,-3.947935,-31.815844,-6.5976505,-20.608013,-35.034756,29.482609,-8.05904,14.175773,24.344751,-7.7287297,-34.297825,22.564297,-1.1102583,12.35798,13.238992,-13.063114,2.6114726,29.060886,19.541971,16.610733,-16.369114,25.616581,-15.886355,-17.711576,-18.673763,-30.775553,5.3017893,-10.718308,18.294672,-6.1497846,-12.908106,-13.333594,-34.64867,-11.206007,16.71146,-11.840125,13.173555,15.806308,-14.009113,28.602919,-15.176469,13.733135,16.218573,27.243162,7.3854804,27.510498,12.512462,-10.137395,4.6748457,4.794912,-14.3709955,-13.451118,21.351479,-17.793648,-7.079859,24.427216,-31.668749,16.046051,15.82788,11.91065,5.831848,-12.908444,-13.451637,26.5487,-10.245508,-1.4750671,-14.164295,-1.6331145,-8.723126,-11.023445,-10.759136,23.494276,-19.685274,18.092705,8.942826,-0.15125479,5.3620825,13.735053,-16.018871,-15.475926,19.443851,22.295708,-23.781948,-26.284294,-9.74091,13.808858,-10.172601,30.49452,-22.484283,30.316784,16.967411,4.8675494,21.0103,24.668995,1.3693156,-1.3038293,13.101876,-1.9870076,11.594118,15.888864,22.452469,-33.28777,-20.065323,-6.3161936,26.595211,-10.194312,25.348377,-18.328037,-17.670456,21.603737,-16.194895,-14.265272,17.12249,-19.008865,-9.991567,-21.715406,-15.486032,16.116451,-14.445446,-10.863638,-12.468236,11.09582,-11.25237,27.367628,-1.2255533,-8.792803,-5.9249983,0.5457869,-29.919222,22.45236,14.822109,-17.334606,28.188314,20.584538,-2.310973,22.575445,-24.919668,17.967655,-14.426311,-29.704756,-11.948905,5.9305954,25.151316,-4.9130464,-23.872343,-21.478926,-10.191675,-0.3569553,27.423765,10.157373,-34.730946,-12.193451,-19.693367,-2.0107532,-26.465601,28.722666,-3.1035192,30.340546,28.867855,-14.9433975,-34.03184,24.31363,19.46528,-8.025496,24.25064,-6.306025,19.059172,13.196234,-12.452496,-15.439744,-1.6910269,-12.209734,4.50895,-11.92496,-12.771039,-20.761864,29.264063,-14.068313,3.542813,-9.33417,-20.409159,23.823792,27.085018,-30.858648,24.90371,-21.867378,-11.133608,13.028452,-13.76971,30.30967,-10.883941,-15.49911,15.732142,4.823454,25.43326,26.560478,-11.64586,8.474799,19.87401,-5.147766,-1.3916968,-12.081319,-18.154219,-5.095351,22.212152,-8.503654,-10.785116,25.040136,26.1145,-15.693884,-3.7852705,26.963686,27.799932,-17.957245,-1.5055337,-14.303323,1.645821,17.903206,10.79005,23.439293,-12.191442,-4.410143,-4.82113,13.93087,-4.712126,13.531678,18.065325,6.371082,-32.52654,22.858332,25.324902,-6.4522104,-18.898352,12.75385,28.312248,-8.643531,28.768803,-4.636673,-0.104021855,6.83499,-12.142083,-17.620943,-10.813618,-12.751571,-14.64674,5.4846206,-4.7762494,29.931656,-18.378613,26.423565,-3.2203705,13.132353,5.3898463,-17.150827,-20.003399,-9.70184,24.693165,4.465592,-14.019549,-6.8379626,15.840362,-6.1446123,22.912968,-2.4900103,20.951283,-9.488081,-11.399878,-23.464811,-24.12553,-3.5582163,-5.625468,29.530556,21.188799,-12.012336,27.366804,-12.978549,12.191893,-9.516704,1.1861564,15.563657,-11.809236,5.258906,-9.263477,18.331976,2.0338848,19.933674,14.301781,-8.640131,19.35474,26.773537,-30.635986,-33.56375,17.702337,-11.022571,-2.0729673,24.15414,16.110825,17.949015,-5.9626,-11.376808,4.7900257,28.295874,-19.169216,26.531168,-13.1013365,-21.097708,-11.724177,23.281097,3.8283887,-13.16005,23.5103,25.277243,28.899698,-3.6813965,-8.465942,-22.17112,3.7677553,7.7217326,-34.54481,0.54353464,13.072581,-3.6117473,-28.435703,28.14376,-11.177247,15.254485,-2.9229553,10.763519,-13.778498,-23.947748,-14.739504,19.615969,-15.581913,21.987743,-1.7897992,21.780107,-12.473841,-13.614533,2.991779,15.245653,0.14785582,16.457655,-18.92726,-31.993053,10.645689,-7.139442,-11.837212,-12.403795,19.664948,-10.811627,-32.875732,-11.884639,-3.691844,-16.158575,-18.119879,-14.596467,-9.402203,-3.4963937,-13.300783,-6.6925764,-23.766047,-11.137579,10.738312,12.508188,-0.6385618,30.220585,28.429686,-17.308464,-9.825732,-3.5577838,14.480004,26.976099,-8.797126,3.547404,-13.379305,-32.00993,4.8880625,29.045952,6.395618,11.623194,18.564291,-9.942284,-5.742401,-17.112965,8.506848,-18.198261,-13.328471,22.430504,-16.985872,20.342056,-20.072195,-4.677036,10.69202,12.975054,-1.764768,4.6347713,-23.88951,20.429756,-8.672211,-18.39428,-15.930061,6.7448525,-32.580017,14.558863,-13.298751,14.827341,25.43407,-11.3847065,-19.757088,-14.961708,15.050641,15.169552,-4.9268003,15.920471,-1.2652016,7.935739,15.876218,0.09268677,-10.097954,3.1873577,19.108072,25.85839,15.568347,-20.166775,19.49319,-2.4634247,4.8649154,-23.692986,13.759943,-3.4021971,29.609184,-15.793179,-14.288447,-14.297672,11.618056,15.932809,-15.543822,-27.7262,-3.6260946,17.731653,3.5386221,-23.769257,12.456406,-4.4461794,29.884314,24.552885,-11.82607,-14.944937,7.311259,-12.010652,-13.26115,18.25046,-2.5068262,15.974299,-12.164807,-2.9149165,-6.5294857,11.661691,-21.858244,-17.16135,-14.637562,21.935791,4.989719,25.259409,0.3231611,-2.2672684,18.262802,-15.173705,-25.119667,21.716898,18.551493,-3.2021909,-1.9436857,-35.057766,22.166153,-25.194036,21.804382,-32.328537,-1.8936311,0.9272641,-22.256254,5.850601,-23.909473,-13.100255,24.198984,-13.567028,-17.226692,22.705915,4.5319514,1.2563905,28.008537,-18.989573,-25.733942,20.31893,-0.57080376,18.29241,-20.775919,-3.7347097,25.127453,-7.444419,18.175486,-13.061196,24.648798,5.094175,4.5986814,17.336508,13.45208,-3.639823,17.79532,14.629004,3.5291939,-21.424551,4.0506835,15.01544,-18.438944,1.9580562,26.01602,18.322521,13.371727,23.687883,24.923346,21.635487,13.674691,-12.968876,20.668802,23.51854,1.4801283,-18.783182,10.397374,17.49337,-12.522501,-9.628517,12.311031,6.4134254,24.478987,-9.5763645,9.532489,6.120704,16.245264,3.3859663,-14.44467,-28.74473,29.97585,5.338654,-3.454837,-0.2654124,-16.773142,-0.52851325,23.573475,-2.8447256,-0.48063698,-1.7662953,18.735233,6.964083,8.306634,-0.038373858,-12.402209,-10.382896,1.2341199,-8.718841,10.299094,-11.283325,18.824183,-18.091236,15.808956,-22.516289,-1.0448828,-10.319806,4.901087,15.617443,-3.1964633,21.334822,20.480215,6.6462283,-18.703335,13.452046,-11.773639,19.879156,18.946264,6.639825,-20.13695,11.0427,-9.456266,22.890575,24.820503,-2.184651,29.581238,4.233201,18.601254,-32.58782,-16.511936,1.3322878,-3.793489,20.67871,-3.7191656,11.629199,8.04674,19.173874,13.835968,-11.32031,18.971794,-12.878922,0.19177039,-11.244525,-11.937921,-20.930344,-4.255674,-14.215655,-13.4796295,-20.547592,-18.77714,1.163813,26.019749,15.20903,13.786133,-27.88675,-11.575291,-22.006388,25.912273,-33.05309,11.274343,9.024078,-23.709627,17.391514,-13.599814,-0.69668454,-8.526259,21.196016,25.033882,28.247057,-15.089933,19.101324,-21.827019,-18.752104,-13.68144,16.649118,-20.43781,27.767294,17.29128,19.535364,-6.6292768,19.71268,-25.819464,22.249601,13.191092,13.699025,-12.237939,-0.5127216,-19.329063,12.026348,-27.034887,21.152126,12.614555,-8.312714,-8.071265,26.824823,-11.548267,12.540966,3.095782,18.577621,-14.605036,-6.095199,14.712738,18.856298,17.18109,-14.720446,18.042295,-22.672699,-14.19294,-14.107361,14.221657,-12.796045,-8.391379,28.855469,27.297384,9.2403345,11.870124,8.087249,26.830618,-10.168941,24.882187,-12.3758545,11.314425,-16.44332,17.87036,-17.33792,15.228573,27.430944,9.292162,-17.73816,16.456486,-34.069767,15.029982,3.6207027,19.814182,1.6020988,1.1212018,-2.512195,-10.3083,15.0916395,9.803386,-5.1640162,5.629673,16.479053,-7.655057,-22.453897,-3.1634998,24.390537,0.8473249,15.502444,7.6397085,28.218035,22.253794,-0.31978554,-3.217646,12.906094,19.492928,-21.61812,-10.003209,26.322971,-20.062742,-26.619164,-20.920858,27.329031,18.304049,-8.826045,-6.9881115,-28.222164,12.82904,-20.438587,-9.795264,-18.165253,-13.2385435,25.411201,17.137325,-29.812105,-32.981224,-15.574435,-32.615685,16.256277,22.16489,28.986998,28.834797,27.335955,19.691427,12.402614,-11.126186,-22.945484,18.994125,-13.6276,-16.857779],\"yaxis\":\"y\",\"type\":\"scatter\"}],                        {\"template\":{\"data\":{\"histogram2dcontour\":[{\"type\":\"histogram2dcontour\",\"colorbar\":{\"outlinewidth\":0,\"ticks\":\"\"},\"colorscale\":[[0.0,\"#0d0887\"],[0.1111111111111111,\"#46039f\"],[0.2222222222222222,\"#7201a8\"],[0.3333333333333333,\"#9c179e\"],[0.4444444444444444,\"#bd3786\"],[0.5555555555555556,\"#d8576b\"],[0.6666666666666666,\"#ed7953\"],[0.7777777777777778,\"#fb9f3a\"],[0.8888888888888888,\"#fdca26\"],[1.0,\"#f0f921\"]]}],\"choropleth\":[{\"type\":\"choropleth\",\"colorbar\":{\"outlinewidth\":0,\"ticks\":\"\"}}],\"histogram2d\":[{\"type\":\"histogram2d\",\"colorbar\":{\"outlinewidth\":0,\"ticks\":\"\"},\"colorscale\":[[0.0,\"#0d0887\"],[0.1111111111111111,\"#46039f\"],[0.2222222222222222,\"#7201a8\"],[0.3333333333333333,\"#9c179e\"],[0.4444444444444444,\"#bd3786\"],[0.5555555555555556,\"#d8576b\"],[0.6666666666666666,\"#ed7953\"],[0.7777777777777778,\"#fb9f3a\"],[0.8888888888888888,\"#fdca26\"],[1.0,\"#f0f921\"]]}],\"heatmap\":[{\"type\":\"heatmap\",\"colorbar\":{\"outlinewidth\":0,\"ticks\":\"\"},\"colorscale\":[[0.0,\"#0d0887\"],[0.1111111111111111,\"#46039f\"],[0.2222222222222222,\"#7201a8\"],[0.3333333333333333,\"#9c179e\"],[0.4444444444444444,\"#bd3786\"],[0.5555555555555556,\"#d8576b\"],[0.6666666666666666,\"#ed7953\"],[0.7777777777777778,\"#fb9f3a\"],[0.8888888888888888,\"#fdca26\"],[1.0,\"#f0f921\"]]}],\"heatmapgl\":[{\"type\":\"heatmapgl\",\"colorbar\":{\"outlinewidth\":0,\"ticks\":\"\"},\"colorscale\":[[0.0,\"#0d0887\"],[0.1111111111111111,\"#46039f\"],[0.2222222222222222,\"#7201a8\"],[0.3333333333333333,\"#9c179e\"],[0.4444444444444444,\"#bd3786\"],[0.5555555555555556,\"#d8576b\"],[0.6666666666666666,\"#ed7953\"],[0.7777777777777778,\"#fb9f3a\"],[0.8888888888888888,\"#fdca26\"],[1.0,\"#f0f921\"]]}],\"contourcarpet\":[{\"type\":\"contourcarpet\",\"colorbar\":{\"outlinewidth\":0,\"ticks\":\"\"}}],\"contour\":[{\"type\":\"contour\",\"colorbar\":{\"outlinewidth\":0,\"ticks\":\"\"},\"colorscale\":[[0.0,\"#0d0887\"],[0.1111111111111111,\"#46039f\"],[0.2222222222222222,\"#7201a8\"],[0.3333333333333333,\"#9c179e\"],[0.4444444444444444,\"#bd3786\"],[0.5555555555555556,\"#d8576b\"],[0.6666666666666666,\"#ed7953\"],[0.7777777777777778,\"#fb9f3a\"],[0.8888888888888888,\"#fdca26\"],[1.0,\"#f0f921\"]]}],\"surface\":[{\"type\":\"surface\",\"colorbar\":{\"outlinewidth\":0,\"ticks\":\"\"},\"colorscale\":[[0.0,\"#0d0887\"],[0.1111111111111111,\"#46039f\"],[0.2222222222222222,\"#7201a8\"],[0.3333333333333333,\"#9c179e\"],[0.4444444444444444,\"#bd3786\"],[0.5555555555555556,\"#d8576b\"],[0.6666666666666666,\"#ed7953\"],[0.7777777777777778,\"#fb9f3a\"],[0.8888888888888888,\"#fdca26\"],[1.0,\"#f0f921\"]]}],\"mesh3d\":[{\"type\":\"mesh3d\",\"colorbar\":{\"outlinewidth\":0,\"ticks\":\"\"}}],\"scatter\":[{\"fillpattern\":{\"fillmode\":\"overlay\",\"size\":10,\"solidity\":0.2},\"type\":\"scatter\"}],\"parcoords\":[{\"type\":\"parcoords\",\"line\":{\"colorbar\":{\"outlinewidth\":0,\"ticks\":\"\"}}}],\"scatterpolargl\":[{\"type\":\"scatterpolargl\",\"marker\":{\"colorbar\":{\"outlinewidth\":0,\"ticks\":\"\"}}}],\"bar\":[{\"error_x\":{\"color\":\"#2a3f5f\"},\"error_y\":{\"color\":\"#2a3f5f\"},\"marker\":{\"line\":{\"color\":\"#E5ECF6\",\"width\":0.5},\"pattern\":{\"fillmode\":\"overlay\",\"size\":10,\"solidity\":0.2}},\"type\":\"bar\"}],\"scattergeo\":[{\"type\":\"scattergeo\",\"marker\":{\"colorbar\":{\"outlinewidth\":0,\"ticks\":\"\"}}}],\"scatterpolar\":[{\"type\":\"scatterpolar\",\"marker\":{\"colorbar\":{\"outlinewidth\":0,\"ticks\":\"\"}}}],\"histogram\":[{\"marker\":{\"pattern\":{\"fillmode\":\"overlay\",\"size\":10,\"solidity\":0.2}},\"type\":\"histogram\"}],\"scattergl\":[{\"type\":\"scattergl\",\"marker\":{\"colorbar\":{\"outlinewidth\":0,\"ticks\":\"\"}}}],\"scatter3d\":[{\"type\":\"scatter3d\",\"line\":{\"colorbar\":{\"outlinewidth\":0,\"ticks\":\"\"}},\"marker\":{\"colorbar\":{\"outlinewidth\":0,\"ticks\":\"\"}}}],\"scattermapbox\":[{\"type\":\"scattermapbox\",\"marker\":{\"colorbar\":{\"outlinewidth\":0,\"ticks\":\"\"}}}],\"scatterternary\":[{\"type\":\"scatterternary\",\"marker\":{\"colorbar\":{\"outlinewidth\":0,\"ticks\":\"\"}}}],\"scattercarpet\":[{\"type\":\"scattercarpet\",\"marker\":{\"colorbar\":{\"outlinewidth\":0,\"ticks\":\"\"}}}],\"carpet\":[{\"aaxis\":{\"endlinecolor\":\"#2a3f5f\",\"gridcolor\":\"white\",\"linecolor\":\"white\",\"minorgridcolor\":\"white\",\"startlinecolor\":\"#2a3f5f\"},\"baxis\":{\"endlinecolor\":\"#2a3f5f\",\"gridcolor\":\"white\",\"linecolor\":\"white\",\"minorgridcolor\":\"white\",\"startlinecolor\":\"#2a3f5f\"},\"type\":\"carpet\"}],\"table\":[{\"cells\":{\"fill\":{\"color\":\"#EBF0F8\"},\"line\":{\"color\":\"white\"}},\"header\":{\"fill\":{\"color\":\"#C8D4E3\"},\"line\":{\"color\":\"white\"}},\"type\":\"table\"}],\"barpolar\":[{\"marker\":{\"line\":{\"color\":\"#E5ECF6\",\"width\":0.5},\"pattern\":{\"fillmode\":\"overlay\",\"size\":10,\"solidity\":0.2}},\"type\":\"barpolar\"}],\"pie\":[{\"automargin\":true,\"type\":\"pie\"}]},\"layout\":{\"autotypenumbers\":\"strict\",\"colorway\":[\"#636efa\",\"#EF553B\",\"#00cc96\",\"#ab63fa\",\"#FFA15A\",\"#19d3f3\",\"#FF6692\",\"#B6E880\",\"#FF97FF\",\"#FECB52\"],\"font\":{\"color\":\"#2a3f5f\"},\"hovermode\":\"closest\",\"hoverlabel\":{\"align\":\"left\"},\"paper_bgcolor\":\"white\",\"plot_bgcolor\":\"#E5ECF6\",\"polar\":{\"bgcolor\":\"#E5ECF6\",\"angularaxis\":{\"gridcolor\":\"white\",\"linecolor\":\"white\",\"ticks\":\"\"},\"radialaxis\":{\"gridcolor\":\"white\",\"linecolor\":\"white\",\"ticks\":\"\"}},\"ternary\":{\"bgcolor\":\"#E5ECF6\",\"aaxis\":{\"gridcolor\":\"white\",\"linecolor\":\"white\",\"ticks\":\"\"},\"baxis\":{\"gridcolor\":\"white\",\"linecolor\":\"white\",\"ticks\":\"\"},\"caxis\":{\"gridcolor\":\"white\",\"linecolor\":\"white\",\"ticks\":\"\"}},\"coloraxis\":{\"colorbar\":{\"outlinewidth\":0,\"ticks\":\"\"}},\"colorscale\":{\"sequential\":[[0.0,\"#0d0887\"],[0.1111111111111111,\"#46039f\"],[0.2222222222222222,\"#7201a8\"],[0.3333333333333333,\"#9c179e\"],[0.4444444444444444,\"#bd3786\"],[0.5555555555555556,\"#d8576b\"],[0.6666666666666666,\"#ed7953\"],[0.7777777777777778,\"#fb9f3a\"],[0.8888888888888888,\"#fdca26\"],[1.0,\"#f0f921\"]],\"sequentialminus\":[[0.0,\"#0d0887\"],[0.1111111111111111,\"#46039f\"],[0.2222222222222222,\"#7201a8\"],[0.3333333333333333,\"#9c179e\"],[0.4444444444444444,\"#bd3786\"],[0.5555555555555556,\"#d8576b\"],[0.6666666666666666,\"#ed7953\"],[0.7777777777777778,\"#fb9f3a\"],[0.8888888888888888,\"#fdca26\"],[1.0,\"#f0f921\"]],\"diverging\":[[0,\"#8e0152\"],[0.1,\"#c51b7d\"],[0.2,\"#de77ae\"],[0.3,\"#f1b6da\"],[0.4,\"#fde0ef\"],[0.5,\"#f7f7f7\"],[0.6,\"#e6f5d0\"],[0.7,\"#b8e186\"],[0.8,\"#7fbc41\"],[0.9,\"#4d9221\"],[1,\"#276419\"]]},\"xaxis\":{\"gridcolor\":\"white\",\"linecolor\":\"white\",\"ticks\":\"\",\"title\":{\"standoff\":15},\"zerolinecolor\":\"white\",\"automargin\":true,\"zerolinewidth\":2},\"yaxis\":{\"gridcolor\":\"white\",\"linecolor\":\"white\",\"ticks\":\"\",\"title\":{\"standoff\":15},\"zerolinecolor\":\"white\",\"automargin\":true,\"zerolinewidth\":2},\"scene\":{\"xaxis\":{\"backgroundcolor\":\"#E5ECF6\",\"gridcolor\":\"white\",\"linecolor\":\"white\",\"showbackground\":true,\"ticks\":\"\",\"zerolinecolor\":\"white\",\"gridwidth\":2},\"yaxis\":{\"backgroundcolor\":\"#E5ECF6\",\"gridcolor\":\"white\",\"linecolor\":\"white\",\"showbackground\":true,\"ticks\":\"\",\"zerolinecolor\":\"white\",\"gridwidth\":2},\"zaxis\":{\"backgroundcolor\":\"#E5ECF6\",\"gridcolor\":\"white\",\"linecolor\":\"white\",\"showbackground\":true,\"ticks\":\"\",\"zerolinecolor\":\"white\",\"gridwidth\":2}},\"shapedefaults\":{\"line\":{\"color\":\"#2a3f5f\"}},\"annotationdefaults\":{\"arrowcolor\":\"#2a3f5f\",\"arrowhead\":0,\"arrowwidth\":1},\"geo\":{\"bgcolor\":\"white\",\"landcolor\":\"#E5ECF6\",\"subunitcolor\":\"white\",\"showland\":true,\"showlakes\":true,\"lakecolor\":\"white\"},\"title\":{\"x\":0.05},\"mapbox\":{\"style\":\"light\"}}},\"xaxis\":{\"anchor\":\"y\",\"domain\":[0.0,1.0],\"title\":{\"text\":\"x\"}},\"yaxis\":{\"anchor\":\"x\",\"domain\":[0.0,1.0],\"title\":{\"text\":\"y\"}},\"coloraxis\":{\"colorbar\":{\"title\":{\"text\":\"color\"}},\"colorscale\":[[0.0,\"#0d0887\"],[0.1111111111111111,\"#46039f\"],[0.2222222222222222,\"#7201a8\"],[0.3333333333333333,\"#9c179e\"],[0.4444444444444444,\"#bd3786\"],[0.5555555555555556,\"#d8576b\"],[0.6666666666666666,\"#ed7953\"],[0.7777777777777778,\"#fb9f3a\"],[0.8888888888888888,\"#fdca26\"],[1.0,\"#f0f921\"]]},\"legend\":{\"tracegroupgap\":0},\"margin\":{\"t\":60}},                        {\"responsive\": true}                    ).then(function(){\n",
              "                            \n",
              "var gd = document.getElementById('af6deebb-f243-49ec-a4e2-d31d96cff188');\n",
              "var x = new MutationObserver(function (mutations, observer) {{\n",
              "        var display = window.getComputedStyle(gd).display;\n",
              "        if (!display || display === 'none') {{\n",
              "            console.log([gd, 'removed!']);\n",
              "            Plotly.purge(gd);\n",
              "            observer.disconnect();\n",
              "        }}\n",
              "}});\n",
              "\n",
              "// Listen for the removal of the full notebook cells\n",
              "var notebookContainer = gd.closest('#notebook-container');\n",
              "if (notebookContainer) {{\n",
              "    x.observe(notebookContainer, {childList: true});\n",
              "}}\n",
              "\n",
              "// Listen for the clearing of the current output cell\n",
              "var outputEl = gd.closest('.output');\n",
              "if (outputEl) {{\n",
              "    x.observe(outputEl, {childList: true});\n",
              "}}\n",
              "\n",
              "                        })                };                            </script>        </div>\n",
              "</body>\n",
              "</html>"
            ]
          },
          "metadata": {}
        }
      ],
      "source": [
        "fig=px.scatter(x=X_reduced_tsne[:,0], y=X_reduced_tsne[:,1], color=y)\n",
        "fig.show()"
      ]
    },
    {
      "cell_type": "markdown",
      "id": "041e973c",
      "metadata": {
        "id": "041e973c"
      },
      "source": [
        "Although the subsample is pretty small, the t-SNE algorithm is able to detect clusters pretty accurately"
      ]
    },
    {
      "cell_type": "markdown",
      "source": [
        "Reference- https://www.geeksforgeeks.org/machine-learning/difference-between-pca-vs-t-sne/"
      ],
      "metadata": {
        "id": "XKADSOKjXhEa"
      },
      "id": "XKADSOKjXhEa"
    },
    {
      "cell_type": "markdown",
      "source": [
        "Note-ChatGPT was used to help understand the results using WebSearch Feature."
      ],
      "metadata": {
        "id": "qW0fpo4tXizj"
      },
      "id": "qW0fpo4tXizj"
    },
    {
      "cell_type": "markdown",
      "id": "85bb3774",
      "metadata": {
        "id": "85bb3774"
      },
      "source": [
        "## Scaling"
      ]
    },
    {
      "cell_type": "code",
      "execution_count": null,
      "id": "7ab1142e",
      "metadata": {
        "colab": {
          "base_uri": "https://localhost:8080/"
        },
        "id": "7ab1142e",
        "outputId": "debf7bde-6767-4299-cf62-8d14a7137cbe"
      },
      "outputs": [
        {
          "output_type": "stream",
          "name": "stdout",
          "text": [
            "(275663, 29) (275663,)\n"
          ]
        }
      ],
      "source": [
        "scaler = StandardScaler()\n",
        "X = scaler.fit_transform(df.drop('Class', axis=1))\n",
        "y = df['Class'].values\n",
        "print(X.shape, y.shape)"
      ]
    },
    {
      "cell_type": "markdown",
      "id": "22e31517",
      "metadata": {
        "id": "22e31517"
      },
      "source": [
        "## Splitting the data"
      ]
    },
    {
      "cell_type": "markdown",
      "id": "6fa74b00",
      "metadata": {
        "id": "6fa74b00"
      },
      "source": [
        "we want to test our models on the original testing set not on the testing set created from GAN. The main goal is to fit the model in the generated data, and test it on the original testing set."
      ]
    },
    {
      "cell_type": "code",
      "execution_count": null,
      "id": "f8303d35",
      "metadata": {
        "id": "f8303d35"
      },
      "outputs": [],
      "source": [
        "X_train, X_test, y_train, y_test = train_test_split(X, y, test_size=0.2, random_state=42, stratify=y)"
      ]
    },
    {
      "cell_type": "markdown",
      "id": "e1beefe0",
      "metadata": {
        "id": "e1beefe0"
      },
      "source": [
        "## Testing baseline model with original data"
      ]
    },
    {
      "cell_type": "markdown",
      "source": [
        "#Supervised Learning Methods"
      ],
      "metadata": {
        "id": "1SH93V37Z14-"
      },
      "id": "1SH93V37Z14-"
    },
    {
      "cell_type": "code",
      "execution_count": null,
      "id": "a777cf47",
      "metadata": {
        "colab": {
          "base_uri": "https://localhost:8080/"
        },
        "id": "a777cf47",
        "outputId": "ca4a7e7f-983e-4257-d7f9-3e55e92b74c1"
      },
      "outputs": [
        {
          "output_type": "stream",
          "name": "stdout",
          "text": [
            "Logistic Regression: ROC-AUC=0.9969 | PR-AUC=0.6906\n",
            "SVM (RBF): ROC-AUC=0.9771 | PR-AUC=0.4346\n",
            "XGBoost: ROC-AUC=0.9971 | PR-AUC=0.8588\n",
            "RandomForest: ROC-AUC=0.9754 | PR-AUC=0.8148\n",
            "[LightGBM] [Info] Number of positive: 378, number of negative: 220152\n",
            "[LightGBM] [Info] Auto-choosing col-wise multi-threading, the overhead of testing was 0.068828 seconds.\n",
            "You can set `force_col_wise=true` to remove the overhead.\n",
            "[LightGBM] [Info] Total Bins 7395\n",
            "[LightGBM] [Info] Number of data points in the train set: 220530, number of used features: 29\n",
            "[LightGBM] [Info] [binary:BoostFromScore]: pavg=0.500000 -> initscore=0.000000\n",
            "[LightGBM] [Info] Start training from score 0.000000\n"
          ]
        },
        {
          "output_type": "stream",
          "name": "stderr",
          "text": [
            "/usr/local/lib/python3.12/dist-packages/sklearn/utils/validation.py:2739: UserWarning:\n",
            "\n",
            "X does not have valid feature names, but LGBMClassifier was fitted with feature names\n",
            "\n"
          ]
        },
        {
          "output_type": "stream",
          "name": "stdout",
          "text": [
            "LightGBM: ROC-AUC=0.9780 | PR-AUC=0.8295\n"
          ]
        }
      ],
      "source": [
        "# === Imports ===\n",
        "import numpy as np\n",
        "from sklearn.pipeline import Pipeline\n",
        "from sklearn.preprocessing import StandardScaler\n",
        "from sklearn.metrics import roc_auc_score, average_precision_score\n",
        "from sklearn.svm import SVC\n",
        "from sklearn.ensemble import RandomForestClassifier\n",
        "from sklearn.linear_model import LogisticRegression\n",
        "from xgboost import XGBClassifier\n",
        "import lightgbm as lgb\n",
        "\n",
        "# reproducibility\n",
        "np.random.seed(42)\n",
        "\n",
        "# class imbalance helper for XGB\n",
        "pos = (y_train == 1).sum()\n",
        "neg = (y_train == 0).sum()\n",
        "scale_pos_weight = neg / max(pos, 1)\n",
        "\n",
        "def get_score_estimate(model, X):\n",
        "    \"\"\"Return score for class=1: predict_proba if available, else decision_function.\"\"\"\n",
        "    if hasattr(model, \"predict_proba\"):\n",
        "        return model.predict_proba(X)[:, 1]\n",
        "    elif hasattr(model, \"decision_function\"):\n",
        "        return model.decision_function(X)\n",
        "    else:\n",
        "        raise ValueError(\"Model has neither predict_proba nor decision_function.\")\n",
        "\n",
        "#  models\n",
        "models = {\n",
        "    \"Logistic Regression\": Pipeline([\n",
        "        (\"scaler\", StandardScaler()),\n",
        "        (\"logreg\", LogisticRegression(\n",
        "            solver=\"liblinear\", class_weight=\"balanced\",\n",
        "            random_state=42, max_iter=1000\n",
        "        ))\n",
        "    ]),\n",
        "    \"SVM (RBF)\": Pipeline([\n",
        "        (\"scaler\", StandardScaler()),\n",
        "        (\"svc\", SVC(\n",
        "            kernel=\"rbf\", probability=True,\n",
        "            class_weight=\"balanced\", random_state=42\n",
        "        ))\n",
        "    ]),\n",
        "    \"XGBoost\": XGBClassifier(\n",
        "        n_estimators=500, max_depth=4, learning_rate=0.05,\n",
        "        subsample=0.8, colsample_bytree=0.9,\n",
        "        scale_pos_weight=scale_pos_weight,\n",
        "        eval_metric=\"logloss\",\n",
        "        tree_method=\"hist\", random_state=42, n_jobs=-1\n",
        "    ),\n",
        "    \"RandomForest\": RandomForestClassifier(\n",
        "        n_estimators=500, max_depth=None, min_samples_split=2,\n",
        "        class_weight=\"balanced_subsample\",\n",
        "        random_state=42, n_jobs=-1\n",
        "    ),\n",
        "    \"LightGBM\": lgb.LGBMClassifier(\n",
        "        n_estimators=500, max_depth=-1, learning_rate=0.05,\n",
        "        subsample=0.8, colsample_bytree=0.9,\n",
        "        class_weight=\"balanced\", random_state=42, n_jobs=-1\n",
        "    )\n",
        "}\n",
        "\n",
        "# Train, score, and report AUCs\n",
        "results = {}\n",
        "for name, clf in models.items():\n",
        "    clf.fit(X_train, y_train)\n",
        "    y_score = get_score_estimate(clf, X_test)\n",
        "    roc = roc_auc_score(y_test, y_score)\n",
        "    pr  = average_precision_score(y_test, y_score)\n",
        "    results[name] = {\"ROC-AUC\": roc, \"PR-AUC\": pr}\n",
        "    print(f\"{name}: ROC-AUC={roc:.4f} | PR-AUC={pr:.4f}\")\n",
        "\n"
      ]
    },
    {
      "cell_type": "markdown",
      "source": [
        "Logistic Regression: ROC-AUC=0.9969 | PR-AUC=0.6906\n",
        "SVM (RBF): ROC-AUC=0.9771 | PR-AUC=0.4346\n",
        "XGBoost: ROC-AUC=0.9971 | PR-AUC=0.8588\n",
        "RandomForest: ROC-AUC=0.9754 | PR-AUC=0.8148\n",
        "[LightGBM] [Info] Number of positive: 378, number of negative: 220152\n",
        "[LightGBM] [Info] Auto-choosing col-wise multi-threading, the overhead of testing was 0.068828 seconds.\n",
        "You can set `force_col_wise=true` to remove the overhead.\n",
        "[LightGBM] [Info] Total Bins 7395\n",
        "[LightGBM] [Info] Number of data points in the train set: 220530, number of used features: 29\n",
        "[LightGBM] [Info] [binary:BoostFromScore]: pavg=0.500000 -> initscore=0.000000\n",
        "[LightGBM] [Info] Start training from score 0.000000\n",
        "/usr/local/lib/python3.12/dist-packages/sklearn/utils/validation.py:2739: UserWarning:\n",
        "\n",
        "X does not have valid feature names, but LGBMClassifier was fitted with feature names\n",
        "\n",
        "LightGBM: ROC-AUC=0.9780 | PR-AUC=0.8295"
      ],
      "metadata": {
        "id": "p085pJVaXuPh"
      },
      "id": "p085pJVaXuPh"
    },
    {
      "cell_type": "markdown",
      "source": [
        "Conclusion\n",
        "\n",
        "XGBoost is the top-performing model, offering both excellent ROC-AUC and the highest PR-AUC, making it the most reliable for imbalanced classification.\n",
        "\n",
        "LightGBM and Random Forest are competitive alternatives, with LightGBM slightly ahead on PR-AUC.\n",
        "\n",
        "Logistic Regression, while strong on ROC-AUC, does not maintain high precision under imbalance.\n",
        "\n",
        "SVM is not recommended for this dataset."
      ],
      "metadata": {
        "id": "rxWwCDeWXxcB"
      },
      "id": "rxWwCDeWXxcB"
    },
    {
      "cell_type": "markdown",
      "source": [
        "Overall: XGBoost > LightGBM ≈ Random Forest > Logistic Regression > SVM."
      ],
      "metadata": {
        "id": "C_8BC-ZfbnkI"
      },
      "id": "C_8BC-ZfbnkI"
    },
    {
      "cell_type": "markdown",
      "source": [
        "Note-ChatGPT was used to help understand the results for all supervised methods."
      ],
      "metadata": {
        "id": "Li8Zf91ab4xV"
      },
      "id": "Li8Zf91ab4xV"
    },
    {
      "cell_type": "markdown",
      "source": [
        "Reference-[A Comparison Study of Credit Card Fraud Detection: Supervised versus Unsupervised](https://arxiv.org/abs/1904.10604)"
      ],
      "metadata": {
        "id": "rx0DVnlRbXFm"
      },
      "id": "rx0DVnlRbXFm"
    },
    {
      "cell_type": "markdown",
      "source": [
        "#Unsupervised Learning Methods"
      ],
      "metadata": {
        "id": "ZYtf8Hc0Zog2"
      },
      "id": "ZYtf8Hc0Zog2"
    },
    {
      "cell_type": "markdown",
      "id": "388b49a9",
      "metadata": {
        "id": "388b49a9"
      },
      "source": [
        "# Isolation Forest"
      ]
    },
    {
      "cell_type": "code",
      "source": [
        "\n",
        "import numpy as np\n",
        "import pandas as pd\n",
        "from sklearn.model_selection import train_test_split\n",
        "from sklearn.preprocessing import StandardScaler\n",
        "from sklearn.ensemble import IsolationForest\n",
        "from sklearn.svm import OneClassSVM\n",
        "from sklearn.neighbors import LocalOutlierFactor\n",
        "from sklearn.metrics import (\n",
        "    classification_report, confusion_matrix,\n",
        "    roc_auc_score, average_precision_score\n",
        ")\n",
        "import matplotlib.pyplot as plt\n",
        "import seaborn as sns\n",
        "\n",
        "\n",
        "df = pd.read_csv('./creditcard.csv').drop('Time', axis=1)\n",
        "X = df.drop('Class', axis=1).values\n",
        "y = df['Class'].values\n",
        "\n",
        "# Train/test split\n",
        "X_train, X_test, y_train, y_test = train_test_split(\n",
        "    X, y, stratify=y, test_size=0.2, random_state=42\n",
        ")\n",
        "\n",
        "# Scale features\n",
        "scaler = StandardScaler().fit(X_train)\n",
        "X_train_scaled = scaler.transform(X_train)\n",
        "X_test_scaled  = scaler.transform(X_test)\n",
        "\n",
        "# Contamination estimate (positive rate in train). F\n",
        "contamination = y_train.mean()\n",
        "print(f\"Estimated contamination from train labels: {contamination:.6f}\")\n",
        "\n",
        "\n",
        "def evaluate_unsupervised(y_true, anomaly_scores, title, contamination):\n",
        "    roc = roc_auc_score(y_true, anomaly_scores)\n",
        "    pr  = average_precision_score(y_true, anomaly_scores)\n",
        "    print(f\"\\n[{title}] ROC-AUC: {roc:.4f}\")\n",
        "    print(f\"[{title}] PR-AUC:  {pr:.4f}\")\n",
        "\n",
        "    # Threshold by contamination quantile on test scores\n",
        "    thr = np.quantile(anomaly_scores, 1 - contamination if contamination > 0 else 0.995)\n",
        "    y_pred = (anomaly_scores >= thr).astype(int)\n",
        "\n",
        "    print(\"\\nClassification report @contamination threshold:\")\n",
        "    print(classification_report(y_true, y_pred, digits=4))\n",
        "    cm = confusion_matrix(y_true, y_pred)\n",
        "    plt.figure(figsize=(5,4))\n",
        "    sns.heatmap(cm, annot=True, fmt='d', cmap='Blues', xticklabels=[0,1], yticklabels=[0,1])\n",
        "    plt.title(f\"{title} — Confusion Matrix\")\n",
        "    plt.xlabel(\"Predicted\"); plt.ylabel(\"True\")\n",
        "    plt.show()\n",
        "\n",
        "    return {\"roc_auc\": roc, \"pr_auc\": pr, \"threshold\": thr}\n",
        "\n",
        "# Isolation Forest (unsupervised)\n",
        "iso = IsolationForest(\n",
        "    n_estimators=200,\n",
        "    contamination=contamination if contamination > 0 else 'auto',\n",
        "    max_samples='auto',\n",
        "    random_state=42,\n",
        "    n_jobs=-1\n",
        ")\n",
        "# Train only on (assumed) normal data for purer unsupervised behavior:\n",
        "iso.fit(X_train_scaled[y_train == 0])\n",
        "\n",
        "\n",
        "# Convert to anomaly score where larger means \"more anomalous\"\n",
        "scores_iso = -iso.decision_function(X_test_scaled)\n",
        "res_iso = evaluate_unsupervised(y_test, scores_iso, \"Isolation Forest\", contamination)\n",
        "\n",
        "# === 3) One-Class SVM (unsupervised) ===\n",
        "ocsvm = OneClassSVM(\n",
        "    kernel='rbf',\n",
        "    nu=max(contamination, 1e-4),  # ensure > 0\n",
        "    gamma='scale'\n",
        ")\n",
        "# Train on normal data only\n",
        "ocsvm.fit(X_train_scaled[y_train == 0])\n",
        "\n",
        "# decision_function: larger is more normal -> flip sign\n",
        "scores_ocsvm = -ocsvm.decision_function(X_test_scaled)\n",
        "res_ocsvm = evaluate_unsupervised(y_test, scores_ocsvm, \"One-Class SVM\", contamination)\n",
        "\n",
        "\n",
        "print(\"\\n=== Summary (higher is better) ===\")\n",
        "print(f\"Isolation Forest: ROC-AUC={res_iso['roc_auc']:.4f}, PR-AUC={res_iso['pr_auc']:.4f}\")\n",
        "print(f\"One-Class SVM:   ROC-AUC={res_ocsvm['roc_auc']:.4f}, PR-AUC={res_ocsvm['pr_auc']:.4f}\")\n",
        "\n"
      ],
      "metadata": {
        "colab": {
          "base_uri": "https://localhost:8080/",
          "height": 1000
        },
        "id": "lCRLe_mW4nTB",
        "outputId": "2294b022-d1aa-4bc3-9487-ff63be6b1117"
      },
      "id": "lCRLe_mW4nTB",
      "execution_count": null,
      "outputs": [
        {
          "output_type": "stream",
          "name": "stdout",
          "text": [
            "Estimated contamination from train labels: 0.001729\n",
            "\n",
            "[Isolation Forest] ROC-AUC: 0.9537\n",
            "[Isolation Forest] PR-AUC:  0.1373\n",
            "\n",
            "Classification report @contamination threshold:\n",
            "              precision    recall  f1-score   support\n",
            "\n",
            "           0     0.9987    0.9987    0.9987     56864\n",
            "           1     0.2525    0.2551    0.2538        98\n",
            "\n",
            "    accuracy                         0.9974     56962\n",
            "   macro avg     0.6256    0.6269    0.6263     56962\n",
            "weighted avg     0.9974    0.9974    0.9974     56962\n",
            "\n"
          ]
        },
        {
          "output_type": "display_data",
          "data": {
            "text/plain": [
              "<Figure size 500x400 with 2 Axes>"
            ],
            "image/png": "[encoded data removed]"
          },
          "metadata": {}
        },
        {
          "output_type": "stream",
          "name": "stdout",
          "text": [
            "\n",
            "[One-Class SVM] ROC-AUC: 0.9524\n",
            "[One-Class SVM] PR-AUC:  0.3537\n",
            "\n",
            "Classification report @contamination threshold:\n",
            "              precision    recall  f1-score   support\n",
            "\n",
            "           0     0.9991    0.9991    0.9991     56864\n",
            "           1     0.4646    0.4694    0.4670        98\n",
            "\n",
            "    accuracy                         0.9982     56962\n",
            "   macro avg     0.7319    0.7342    0.7330     56962\n",
            "weighted avg     0.9982    0.9982    0.9982     56962\n",
            "\n"
          ]
        },
        {
          "output_type": "display_data",
          "data": {
            "text/plain": [
              "<Figure size 500x400 with 2 Axes>"
            ],
            "image/png": "[encoded data removed]"
          },
          "metadata": {}
        },
        {
          "output_type": "stream",
          "name": "stdout",
          "text": [
            "\n",
            "=== Summary (higher is better) ===\n",
            "Isolation Forest: ROC-AUC=0.9537, PR-AUC=0.1373\n",
            "One-Class SVM:   ROC-AUC=0.9524, PR-AUC=0.3537\n"
          ]
        }
      ]
    },
    {
      "cell_type": "markdown",
      "source": [
        "Interpretation\n",
        "\n",
        "ROC-AUC: Both models perform similarly (~0.95), indicating good ranking ability in distinguishing anomalies from normals.\n",
        "\n",
        "PR-AUC: The difference is large — One-Class SVM (0.354) >> Isolation Forest (0.137), meaning SVM is far more effective in the highly imbalanced setting (rare positives).\n",
        "\n",
        "Classification performance:\n",
        "\n",
        "Isolation Forest has very low recall (0.26), detecting only a quarter of true anomalies.\n",
        "\n",
        "One-Class SVM doubles the recall (0.47) and precision (0.46), leading to a much stronger F1 score."
      ],
      "metadata": {
        "id": "xuq4tGYPYY2N"
      },
      "id": "xuq4tGYPYY2N"
    },
    {
      "cell_type": "markdown",
      "source": [
        "Conclusion\n",
        "\n",
        "One-Class SVM outperforms Isolation Forest on this dataset in terms of minority-class detection.\n",
        "\n",
        "Both achieve high overall accuracy due to class imbalance, but PR-AUC and recall highlight the SVM’s clear advantage.\n",
        "\n",
        "Isolation Forest may still be useful as a fast, lightweight baseline, but it struggles to capture anomalies compared to SVM."
      ],
      "metadata": {
        "id": "M6mB8ZBDYdOo"
      },
      "id": "M6mB8ZBDYdOo"
    },
    {
      "cell_type": "markdown",
      "source": [
        "Note-ChatGPT was used to help understand the results for the above 2 methods in unsupervised"
      ],
      "metadata": {
        "id": "ZSK1iEonY-cd"
      },
      "id": "ZSK1iEonY-cd"
    },
    {
      "cell_type": "markdown",
      "source": [
        "Reference-[A Comparison Study of Credit Card Fraud Detection: Supervised versus Unsupervised](https://arxiv.org/abs/1904.10604), https://medium.com/@pinakdatta/fraud-detection-isolation-forests-lof-explained-228828bd496b"
      ],
      "metadata": {
        "id": "hUzXP3V3bwCN"
      },
      "id": "hUzXP3V3bwCN"
    },
    {
      "cell_type": "markdown",
      "id": "4c64e426",
      "metadata": {
        "id": "4c64e426"
      },
      "source": [
        "# Autoencoder"
      ]
    },
    {
      "cell_type": "code",
      "execution_count": null,
      "id": "6e0e07a4",
      "metadata": {
        "id": "6e0e07a4"
      },
      "outputs": [],
      "source": [
        "df = pd.read_csv('./creditcard.csv').drop('Time', axis=1)"
      ]
    },
    {
      "cell_type": "code",
      "execution_count": null,
      "id": "e207f535",
      "metadata": {
        "id": "e207f535"
      },
      "outputs": [],
      "source": [
        "train_df, test_df = train_test_split(df, test_size=0.2, random_state=1, stratify=df['Class'])\n",
        "train_df, val_df = train_test_split(train_df, test_size=0.2, random_state=2, stratify=train_df['Class'])\n",
        "#distribution of a specified column is preserved in both the training and testing datasets\n",
        "y_train = train_df.pop('Class').values\n",
        "y_val = val_df.pop('Class').values\n",
        "y_test = test_df.pop('Class').values"
      ]
    },
    {
      "cell_type": "code",
      "execution_count": null,
      "id": "8cdb69ac",
      "metadata": {
        "id": "8cdb69ac"
      },
      "outputs": [],
      "source": [
        "qt_transform = QuantileTransformer(output_distribution='normal')\n",
        "X_train = qt_transform.fit_transform(train_df)\n",
        "X_val = qt_transform.transform(val_df)\n",
        "X_test = qt_transform.transform(test_df)"
      ]
    },
    {
      "cell_type": "markdown",
      "id": "ff96e193",
      "metadata": {
        "id": "ff96e193"
      },
      "source": [
        "## Autoencoder Architecture"
      ]
    },
    {
      "cell_type": "code",
      "execution_count": null,
      "id": "8e3c6e14",
      "metadata": {
        "id": "8e3c6e14"
      },
      "outputs": [],
      "source": [
        "def encoder(inputs):\n",
        "    x = inputs\n",
        "    for i in range(3):\n",
        "        x = keras.layers.Dense(128//2**i, activation=None, name=f'encoder_dense_{i}')(x)\n",
        "        x = keras.layers.BatchNormalization()(x)\n",
        "        x = keras.layers.LeakyReLU(0.2)(x)\n",
        "        x = keras.layers.Dropout(0.05)(x)\n",
        "\n",
        "    # final bottleneck layer\n",
        "    x = keras.layers.Dense(16, activation=None, name='bottleneck')(x)\n",
        "    return x\n",
        "\n",
        "def decoder(inputs, input_dim):\n",
        "    x = inputs\n",
        "\n",
        "    for i in range(3):\n",
        "        x = keras.layers.Dense(128//2**(2-i), activation=None, name=f'decoder_dense_{i}')(x)\n",
        "        x = keras.layers.BatchNormalization()(x)\n",
        "        x = keras.layers.ReLU()(x)\n",
        "        x = keras.layers.Dropout(0.05)(x)\n",
        "    # output\n",
        "    x = keras.layers.Dense(input_dim, activation=None)(x)\n",
        "    return x\n",
        "\n",
        "def dense_autoencoder(input_dim):\n",
        "    inputs = keras.Input(shape=(input_dim,))\n",
        "    encoder_output = encoder(inputs)\n",
        "    decoder_output = decoder(encoder_output, input_dim) #\n",
        "\n",
        "    model = keras.Model(inputs=inputs, outputs=decoder_output)\n",
        "\n",
        "\n",
        "    model.compile(\n",
        "        optimizer=keras.optimizers.Adam(\n",
        "            learning_rate=0.01,\n",
        "        ),\n",
        "        loss='mean_squared_error'\n",
        "    )\n",
        "\n",
        "    return model"
      ]
    },
    {
      "cell_type": "code",
      "execution_count": null,
      "id": "1b54e64f",
      "metadata": {
        "colab": {
          "base_uri": "https://localhost:8080/",
          "height": 1000
        },
        "id": "1b54e64f",
        "outputId": "5783e262-c04f-40eb-eaf0-92b6e8c331df"
      },
      "outputs": [
        {
          "output_type": "display_data",
          "data": {
            "text/plain": [
              "\u001b[1mModel: \"functional\"\u001b[0m\n"
            ],
            "text/html": [
              "<pre style=\"white-space:pre;overflow-x:auto;line-height:normal;font-family:Menlo,'DejaVu Sans Mono',consolas,'Courier New',monospace\"><span style=\"font-weight: bold\">Model: \"functional\"</span>\n",
              "</pre>\n"
            ]
          },
          "metadata": {}
        },
        {
          "output_type": "display_data",
          "data": {
            "text/plain": [
              "┏━━━━━━━━━━━━━━━━━━━━━━━━━━━━━━━━━┳━━━━━━━━━━━━━━━━━━━━━━━━┳━━━━━━━━━━━━━━━┓\n",
              "┃\u001b[1m \u001b[0m\u001b[1mLayer (type)                   \u001b[0m\u001b[1m \u001b[0m┃\u001b[1m \u001b[0m\u001b[1mOutput Shape          \u001b[0m\u001b[1m \u001b[0m┃\u001b[1m \u001b[0m\u001b[1m      Param #\u001b[0m\u001b[1m \u001b[0m┃\n",
              "┡━━━━━━━━━━━━━━━━━━━━━━━━━━━━━━━━━╇━━━━━━━━━━━━━━━━━━━━━━━━╇━━━━━━━━━━━━━━━┩\n",
              "│ input_layer (\u001b[38;5;33mInputLayer\u001b[0m)        │ (\u001b[38;5;45mNone\u001b[0m, \u001b[38;5;34m29\u001b[0m)             │             \u001b[38;5;34m0\u001b[0m │\n",
              "├─────────────────────────────────┼────────────────────────┼───────────────┤\n",
              "│ encoder_dense_0 (\u001b[38;5;33mDense\u001b[0m)         │ (\u001b[38;5;45mNone\u001b[0m, \u001b[38;5;34m128\u001b[0m)            │         \u001b[38;5;34m3,840\u001b[0m │\n",
              "├─────────────────────────────────┼────────────────────────┼───────────────┤\n",
              "│ batch_normalization             │ (\u001b[38;5;45mNone\u001b[0m, \u001b[38;5;34m128\u001b[0m)            │           \u001b[38;5;34m512\u001b[0m │\n",
              "│ (\u001b[38;5;33mBatchNormalization\u001b[0m)            │                        │               │\n",
              "├─────────────────────────────────┼────────────────────────┼───────────────┤\n",
              "│ leaky_re_lu (\u001b[38;5;33mLeakyReLU\u001b[0m)         │ (\u001b[38;5;45mNone\u001b[0m, \u001b[38;5;34m128\u001b[0m)            │             \u001b[38;5;34m0\u001b[0m │\n",
              "├─────────────────────────────────┼────────────────────────┼───────────────┤\n",
              "│ dropout (\u001b[38;5;33mDropout\u001b[0m)               │ (\u001b[38;5;45mNone\u001b[0m, \u001b[38;5;34m128\u001b[0m)            │             \u001b[38;5;34m0\u001b[0m │\n",
              "├─────────────────────────────────┼────────────────────────┼───────────────┤\n",
              "│ encoder_dense_1 (\u001b[38;5;33mDense\u001b[0m)         │ (\u001b[38;5;45mNone\u001b[0m, \u001b[38;5;34m64\u001b[0m)             │         \u001b[38;5;34m8,256\u001b[0m │\n",
              "├─────────────────────────────────┼────────────────────────┼───────────────┤\n",
              "│ batch_normalization_1           │ (\u001b[38;5;45mNone\u001b[0m, \u001b[38;5;34m64\u001b[0m)             │           \u001b[38;5;34m256\u001b[0m │\n",
              "│ (\u001b[38;5;33mBatchNormalization\u001b[0m)            │                        │               │\n",
              "├─────────────────────────────────┼────────────────────────┼───────────────┤\n",
              "│ leaky_re_lu_1 (\u001b[38;5;33mLeakyReLU\u001b[0m)       │ (\u001b[38;5;45mNone\u001b[0m, \u001b[38;5;34m64\u001b[0m)             │             \u001b[38;5;34m0\u001b[0m │\n",
              "├─────────────────────────────────┼────────────────────────┼───────────────┤\n",
              "│ dropout_1 (\u001b[38;5;33mDropout\u001b[0m)             │ (\u001b[38;5;45mNone\u001b[0m, \u001b[38;5;34m64\u001b[0m)             │             \u001b[38;5;34m0\u001b[0m │\n",
              "├─────────────────────────────────┼────────────────────────┼───────────────┤\n",
              "│ encoder_dense_2 (\u001b[38;5;33mDense\u001b[0m)         │ (\u001b[38;5;45mNone\u001b[0m, \u001b[38;5;34m32\u001b[0m)             │         \u001b[38;5;34m2,080\u001b[0m │\n",
              "├─────────────────────────────────┼────────────────────────┼───────────────┤\n",
              "│ batch_normalization_2           │ (\u001b[38;5;45mNone\u001b[0m, \u001b[38;5;34m32\u001b[0m)             │           \u001b[38;5;34m128\u001b[0m │\n",
              "│ (\u001b[38;5;33mBatchNormalization\u001b[0m)            │                        │               │\n",
              "├─────────────────────────────────┼────────────────────────┼───────────────┤\n",
              "│ leaky_re_lu_2 (\u001b[38;5;33mLeakyReLU\u001b[0m)       │ (\u001b[38;5;45mNone\u001b[0m, \u001b[38;5;34m32\u001b[0m)             │             \u001b[38;5;34m0\u001b[0m │\n",
              "├─────────────────────────────────┼────────────────────────┼───────────────┤\n",
              "│ dropout_2 (\u001b[38;5;33mDropout\u001b[0m)             │ (\u001b[38;5;45mNone\u001b[0m, \u001b[38;5;34m32\u001b[0m)             │             \u001b[38;5;34m0\u001b[0m │\n",
              "├─────────────────────────────────┼────────────────────────┼───────────────┤\n",
              "│ bottleneck (\u001b[38;5;33mDense\u001b[0m)              │ (\u001b[38;5;45mNone\u001b[0m, \u001b[38;5;34m16\u001b[0m)             │           \u001b[38;5;34m528\u001b[0m │\n",
              "├─────────────────────────────────┼────────────────────────┼───────────────┤\n",
              "│ decoder_dense_0 (\u001b[38;5;33mDense\u001b[0m)         │ (\u001b[38;5;45mNone\u001b[0m, \u001b[38;5;34m32\u001b[0m)             │           \u001b[38;5;34m544\u001b[0m │\n",
              "├─────────────────────────────────┼────────────────────────┼───────────────┤\n",
              "│ batch_normalization_3           │ (\u001b[38;5;45mNone\u001b[0m, \u001b[38;5;34m32\u001b[0m)             │           \u001b[38;5;34m128\u001b[0m │\n",
              "│ (\u001b[38;5;33mBatchNormalization\u001b[0m)            │                        │               │\n",
              "├─────────────────────────────────┼────────────────────────┼───────────────┤\n",
              "│ re_lu (\u001b[38;5;33mReLU\u001b[0m)                    │ (\u001b[38;5;45mNone\u001b[0m, \u001b[38;5;34m32\u001b[0m)             │             \u001b[38;5;34m0\u001b[0m │\n",
              "├─────────────────────────────────┼────────────────────────┼───────────────┤\n",
              "│ dropout_3 (\u001b[38;5;33mDropout\u001b[0m)             │ (\u001b[38;5;45mNone\u001b[0m, \u001b[38;5;34m32\u001b[0m)             │             \u001b[38;5;34m0\u001b[0m │\n",
              "├─────────────────────────────────┼────────────────────────┼───────────────┤\n",
              "│ decoder_dense_1 (\u001b[38;5;33mDense\u001b[0m)         │ (\u001b[38;5;45mNone\u001b[0m, \u001b[38;5;34m64\u001b[0m)             │         \u001b[38;5;34m2,112\u001b[0m │\n",
              "├─────────────────────────────────┼────────────────────────┼───────────────┤\n",
              "│ batch_normalization_4           │ (\u001b[38;5;45mNone\u001b[0m, \u001b[38;5;34m64\u001b[0m)             │           \u001b[38;5;34m256\u001b[0m │\n",
              "│ (\u001b[38;5;33mBatchNormalization\u001b[0m)            │                        │               │\n",
              "├─────────────────────────────────┼────────────────────────┼───────────────┤\n",
              "│ re_lu_1 (\u001b[38;5;33mReLU\u001b[0m)                  │ (\u001b[38;5;45mNone\u001b[0m, \u001b[38;5;34m64\u001b[0m)             │             \u001b[38;5;34m0\u001b[0m │\n",
              "├─────────────────────────────────┼────────────────────────┼───────────────┤\n",
              "│ dropout_4 (\u001b[38;5;33mDropout\u001b[0m)             │ (\u001b[38;5;45mNone\u001b[0m, \u001b[38;5;34m64\u001b[0m)             │             \u001b[38;5;34m0\u001b[0m │\n",
              "├─────────────────────────────────┼────────────────────────┼───────────────┤\n",
              "│ decoder_dense_2 (\u001b[38;5;33mDense\u001b[0m)         │ (\u001b[38;5;45mNone\u001b[0m, \u001b[38;5;34m128\u001b[0m)            │         \u001b[38;5;34m8,320\u001b[0m │\n",
              "├─────────────────────────────────┼────────────────────────┼───────────────┤\n",
              "│ batch_normalization_5           │ (\u001b[38;5;45mNone\u001b[0m, \u001b[38;5;34m128\u001b[0m)            │           \u001b[38;5;34m512\u001b[0m │\n",
              "│ (\u001b[38;5;33mBatchNormalization\u001b[0m)            │                        │               │\n",
              "├─────────────────────────────────┼────────────────────────┼───────────────┤\n",
              "│ re_lu_2 (\u001b[38;5;33mReLU\u001b[0m)                  │ (\u001b[38;5;45mNone\u001b[0m, \u001b[38;5;34m128\u001b[0m)            │             \u001b[38;5;34m0\u001b[0m │\n",
              "├─────────────────────────────────┼────────────────────────┼───────────────┤\n",
              "│ dropout_5 (\u001b[38;5;33mDropout\u001b[0m)             │ (\u001b[38;5;45mNone\u001b[0m, \u001b[38;5;34m128\u001b[0m)            │             \u001b[38;5;34m0\u001b[0m │\n",
              "├─────────────────────────────────┼────────────────────────┼───────────────┤\n",
              "│ dense (\u001b[38;5;33mDense\u001b[0m)                   │ (\u001b[38;5;45mNone\u001b[0m, \u001b[38;5;34m29\u001b[0m)             │         \u001b[38;5;34m3,741\u001b[0m │\n",
              "└─────────────────────────────────┴────────────────────────┴───────────────┘\n"
            ],
            "text/html": [
              "<pre style=\"white-space:pre;overflow-x:auto;line-height:normal;font-family:Menlo,'DejaVu Sans Mono',consolas,'Courier New',monospace\">┏━━━━━━━━━━━━━━━━━━━━━━━━━━━━━━━━━┳━━━━━━━━━━━━━━━━━━━━━━━━┳━━━━━━━━━━━━━━━┓\n",
              "┃<span style=\"font-weight: bold\"> Layer (type)                    </span>┃<span style=\"font-weight: bold\"> Output Shape           </span>┃<span style=\"font-weight: bold\">       Param # </span>┃\n",
              "┡━━━━━━━━━━━━━━━━━━━━━━━━━━━━━━━━━╇━━━━━━━━━━━━━━━━━━━━━━━━╇━━━━━━━━━━━━━━━┩\n",
              "│ input_layer (<span style=\"color: #0087ff; text-decoration-color: #0087ff\">InputLayer</span>)        │ (<span style=\"color: #00d7ff; text-decoration-color: #00d7ff\">None</span>, <span style=\"color: #00af00; text-decoration-color: #00af00\">29</span>)             │             <span style=\"color: #00af00; text-decoration-color: #00af00\">0</span> │\n",
              "├─────────────────────────────────┼────────────────────────┼───────────────┤\n",
              "│ encoder_dense_0 (<span style=\"color: #0087ff; text-decoration-color: #0087ff\">Dense</span>)         │ (<span style=\"color: #00d7ff; text-decoration-color: #00d7ff\">None</span>, <span style=\"color: #00af00; text-decoration-color: #00af00\">128</span>)            │         <span style=\"color: #00af00; text-decoration-color: #00af00\">3,840</span> │\n",
              "├─────────────────────────────────┼────────────────────────┼───────────────┤\n",
              "│ batch_normalization             │ (<span style=\"color: #00d7ff; text-decoration-color: #00d7ff\">None</span>, <span style=\"color: #00af00; text-decoration-color: #00af00\">128</span>)            │           <span style=\"color: #00af00; text-decoration-color: #00af00\">512</span> │\n",
              "│ (<span style=\"color: #0087ff; text-decoration-color: #0087ff\">BatchNormalization</span>)            │                        │               │\n",
              "├─────────────────────────────────┼────────────────────────┼───────────────┤\n",
              "│ leaky_re_lu (<span style=\"color: #0087ff; text-decoration-color: #0087ff\">LeakyReLU</span>)         │ (<span style=\"color: #00d7ff; text-decoration-color: #00d7ff\">None</span>, <span style=\"color: #00af00; text-decoration-color: #00af00\">128</span>)            │             <span style=\"color: #00af00; text-decoration-color: #00af00\">0</span> │\n",
              "├─────────────────────────────────┼────────────────────────┼───────────────┤\n",
              "│ dropout (<span style=\"color: #0087ff; text-decoration-color: #0087ff\">Dropout</span>)               │ (<span style=\"color: #00d7ff; text-decoration-color: #00d7ff\">None</span>, <span style=\"color: #00af00; text-decoration-color: #00af00\">128</span>)            │             <span style=\"color: #00af00; text-decoration-color: #00af00\">0</span> │\n",
              "├─────────────────────────────────┼────────────────────────┼───────────────┤\n",
              "│ encoder_dense_1 (<span style=\"color: #0087ff; text-decoration-color: #0087ff\">Dense</span>)         │ (<span style=\"color: #00d7ff; text-decoration-color: #00d7ff\">None</span>, <span style=\"color: #00af00; text-decoration-color: #00af00\">64</span>)             │         <span style=\"color: #00af00; text-decoration-color: #00af00\">8,256</span> │\n",
              "├─────────────────────────────────┼────────────────────────┼───────────────┤\n",
              "│ batch_normalization_1           │ (<span style=\"color: #00d7ff; text-decoration-color: #00d7ff\">None</span>, <span style=\"color: #00af00; text-decoration-color: #00af00\">64</span>)             │           <span style=\"color: #00af00; text-decoration-color: #00af00\">256</span> │\n",
              "│ (<span style=\"color: #0087ff; text-decoration-color: #0087ff\">BatchNormalization</span>)            │                        │               │\n",
              "├─────────────────────────────────┼────────────────────────┼───────────────┤\n",
              "│ leaky_re_lu_1 (<span style=\"color: #0087ff; text-decoration-color: #0087ff\">LeakyReLU</span>)       │ (<span style=\"color: #00d7ff; text-decoration-color: #00d7ff\">None</span>, <span style=\"color: #00af00; text-decoration-color: #00af00\">64</span>)             │             <span style=\"color: #00af00; text-decoration-color: #00af00\">0</span> │\n",
              "├─────────────────────────────────┼────────────────────────┼───────────────┤\n",
              "│ dropout_1 (<span style=\"color: #0087ff; text-decoration-color: #0087ff\">Dropout</span>)             │ (<span style=\"color: #00d7ff; text-decoration-color: #00d7ff\">None</span>, <span style=\"color: #00af00; text-decoration-color: #00af00\">64</span>)             │             <span style=\"color: #00af00; text-decoration-color: #00af00\">0</span> │\n",
              "├─────────────────────────────────┼────────────────────────┼───────────────┤\n",
              "│ encoder_dense_2 (<span style=\"color: #0087ff; text-decoration-color: #0087ff\">Dense</span>)         │ (<span style=\"color: #00d7ff; text-decoration-color: #00d7ff\">None</span>, <span style=\"color: #00af00; text-decoration-color: #00af00\">32</span>)             │         <span style=\"color: #00af00; text-decoration-color: #00af00\">2,080</span> │\n",
              "├─────────────────────────────────┼────────────────────────┼───────────────┤\n",
              "│ batch_normalization_2           │ (<span style=\"color: #00d7ff; text-decoration-color: #00d7ff\">None</span>, <span style=\"color: #00af00; text-decoration-color: #00af00\">32</span>)             │           <span style=\"color: #00af00; text-decoration-color: #00af00\">128</span> │\n",
              "│ (<span style=\"color: #0087ff; text-decoration-color: #0087ff\">BatchNormalization</span>)            │                        │               │\n",
              "├─────────────────────────────────┼────────────────────────┼───────────────┤\n",
              "│ leaky_re_lu_2 (<span style=\"color: #0087ff; text-decoration-color: #0087ff\">LeakyReLU</span>)       │ (<span style=\"color: #00d7ff; text-decoration-color: #00d7ff\">None</span>, <span style=\"color: #00af00; text-decoration-color: #00af00\">32</span>)             │             <span style=\"color: #00af00; text-decoration-color: #00af00\">0</span> │\n",
              "├─────────────────────────────────┼────────────────────────┼───────────────┤\n",
              "│ dropout_2 (<span style=\"color: #0087ff; text-decoration-color: #0087ff\">Dropout</span>)             │ (<span style=\"color: #00d7ff; text-decoration-color: #00d7ff\">None</span>, <span style=\"color: #00af00; text-decoration-color: #00af00\">32</span>)             │             <span style=\"color: #00af00; text-decoration-color: #00af00\">0</span> │\n",
              "├─────────────────────────────────┼────────────────────────┼───────────────┤\n",
              "│ bottleneck (<span style=\"color: #0087ff; text-decoration-color: #0087ff\">Dense</span>)              │ (<span style=\"color: #00d7ff; text-decoration-color: #00d7ff\">None</span>, <span style=\"color: #00af00; text-decoration-color: #00af00\">16</span>)             │           <span style=\"color: #00af00; text-decoration-color: #00af00\">528</span> │\n",
              "├─────────────────────────────────┼────────────────────────┼───────────────┤\n",
              "│ decoder_dense_0 (<span style=\"color: #0087ff; text-decoration-color: #0087ff\">Dense</span>)         │ (<span style=\"color: #00d7ff; text-decoration-color: #00d7ff\">None</span>, <span style=\"color: #00af00; text-decoration-color: #00af00\">32</span>)             │           <span style=\"color: #00af00; text-decoration-color: #00af00\">544</span> │\n",
              "├─────────────────────────────────┼────────────────────────┼───────────────┤\n",
              "│ batch_normalization_3           │ (<span style=\"color: #00d7ff; text-decoration-color: #00d7ff\">None</span>, <span style=\"color: #00af00; text-decoration-color: #00af00\">32</span>)             │           <span style=\"color: #00af00; text-decoration-color: #00af00\">128</span> │\n",
              "│ (<span style=\"color: #0087ff; text-decoration-color: #0087ff\">BatchNormalization</span>)            │                        │               │\n",
              "├─────────────────────────────────┼────────────────────────┼───────────────┤\n",
              "│ re_lu (<span style=\"color: #0087ff; text-decoration-color: #0087ff\">ReLU</span>)                    │ (<span style=\"color: #00d7ff; text-decoration-color: #00d7ff\">None</span>, <span style=\"color: #00af00; text-decoration-color: #00af00\">32</span>)             │             <span style=\"color: #00af00; text-decoration-color: #00af00\">0</span> │\n",
              "├─────────────────────────────────┼────────────────────────┼───────────────┤\n",
              "│ dropout_3 (<span style=\"color: #0087ff; text-decoration-color: #0087ff\">Dropout</span>)             │ (<span style=\"color: #00d7ff; text-decoration-color: #00d7ff\">None</span>, <span style=\"color: #00af00; text-decoration-color: #00af00\">32</span>)             │             <span style=\"color: #00af00; text-decoration-color: #00af00\">0</span> │\n",
              "├─────────────────────────────────┼────────────────────────┼───────────────┤\n",
              "│ decoder_dense_1 (<span style=\"color: #0087ff; text-decoration-color: #0087ff\">Dense</span>)         │ (<span style=\"color: #00d7ff; text-decoration-color: #00d7ff\">None</span>, <span style=\"color: #00af00; text-decoration-color: #00af00\">64</span>)             │         <span style=\"color: #00af00; text-decoration-color: #00af00\">2,112</span> │\n",
              "├─────────────────────────────────┼────────────────────────┼───────────────┤\n",
              "│ batch_normalization_4           │ (<span style=\"color: #00d7ff; text-decoration-color: #00d7ff\">None</span>, <span style=\"color: #00af00; text-decoration-color: #00af00\">64</span>)             │           <span style=\"color: #00af00; text-decoration-color: #00af00\">256</span> │\n",
              "│ (<span style=\"color: #0087ff; text-decoration-color: #0087ff\">BatchNormalization</span>)            │                        │               │\n",
              "├─────────────────────────────────┼────────────────────────┼───────────────┤\n",
              "│ re_lu_1 (<span style=\"color: #0087ff; text-decoration-color: #0087ff\">ReLU</span>)                  │ (<span style=\"color: #00d7ff; text-decoration-color: #00d7ff\">None</span>, <span style=\"color: #00af00; text-decoration-color: #00af00\">64</span>)             │             <span style=\"color: #00af00; text-decoration-color: #00af00\">0</span> │\n",
              "├─────────────────────────────────┼────────────────────────┼───────────────┤\n",
              "│ dropout_4 (<span style=\"color: #0087ff; text-decoration-color: #0087ff\">Dropout</span>)             │ (<span style=\"color: #00d7ff; text-decoration-color: #00d7ff\">None</span>, <span style=\"color: #00af00; text-decoration-color: #00af00\">64</span>)             │             <span style=\"color: #00af00; text-decoration-color: #00af00\">0</span> │\n",
              "├─────────────────────────────────┼────────────────────────┼───────────────┤\n",
              "│ decoder_dense_2 (<span style=\"color: #0087ff; text-decoration-color: #0087ff\">Dense</span>)         │ (<span style=\"color: #00d7ff; text-decoration-color: #00d7ff\">None</span>, <span style=\"color: #00af00; text-decoration-color: #00af00\">128</span>)            │         <span style=\"color: #00af00; text-decoration-color: #00af00\">8,320</span> │\n",
              "├─────────────────────────────────┼────────────────────────┼───────────────┤\n",
              "│ batch_normalization_5           │ (<span style=\"color: #00d7ff; text-decoration-color: #00d7ff\">None</span>, <span style=\"color: #00af00; text-decoration-color: #00af00\">128</span>)            │           <span style=\"color: #00af00; text-decoration-color: #00af00\">512</span> │\n",
              "│ (<span style=\"color: #0087ff; text-decoration-color: #0087ff\">BatchNormalization</span>)            │                        │               │\n",
              "├─────────────────────────────────┼────────────────────────┼───────────────┤\n",
              "│ re_lu_2 (<span style=\"color: #0087ff; text-decoration-color: #0087ff\">ReLU</span>)                  │ (<span style=\"color: #00d7ff; text-decoration-color: #00d7ff\">None</span>, <span style=\"color: #00af00; text-decoration-color: #00af00\">128</span>)            │             <span style=\"color: #00af00; text-decoration-color: #00af00\">0</span> │\n",
              "├─────────────────────────────────┼────────────────────────┼───────────────┤\n",
              "│ dropout_5 (<span style=\"color: #0087ff; text-decoration-color: #0087ff\">Dropout</span>)             │ (<span style=\"color: #00d7ff; text-decoration-color: #00d7ff\">None</span>, <span style=\"color: #00af00; text-decoration-color: #00af00\">128</span>)            │             <span style=\"color: #00af00; text-decoration-color: #00af00\">0</span> │\n",
              "├─────────────────────────────────┼────────────────────────┼───────────────┤\n",
              "│ dense (<span style=\"color: #0087ff; text-decoration-color: #0087ff\">Dense</span>)                   │ (<span style=\"color: #00d7ff; text-decoration-color: #00d7ff\">None</span>, <span style=\"color: #00af00; text-decoration-color: #00af00\">29</span>)             │         <span style=\"color: #00af00; text-decoration-color: #00af00\">3,741</span> │\n",
              "└─────────────────────────────────┴────────────────────────┴───────────────┘\n",
              "</pre>\n"
            ]
          },
          "metadata": {}
        },
        {
          "output_type": "display_data",
          "data": {
            "text/plain": [
              "\u001b[1m Total params: \u001b[0m\u001b[38;5;34m31,213\u001b[0m (121.93 KB)\n"
            ],
            "text/html": [
              "<pre style=\"white-space:pre;overflow-x:auto;line-height:normal;font-family:Menlo,'DejaVu Sans Mono',consolas,'Courier New',monospace\"><span style=\"font-weight: bold\"> Total params: </span><span style=\"color: #00af00; text-decoration-color: #00af00\">31,213</span> (121.93 KB)\n",
              "</pre>\n"
            ]
          },
          "metadata": {}
        },
        {
          "output_type": "display_data",
          "data": {
            "text/plain": [
              "\u001b[1m Trainable params: \u001b[0m\u001b[38;5;34m30,317\u001b[0m (118.43 KB)\n"
            ],
            "text/html": [
              "<pre style=\"white-space:pre;overflow-x:auto;line-height:normal;font-family:Menlo,'DejaVu Sans Mono',consolas,'Courier New',monospace\"><span style=\"font-weight: bold\"> Trainable params: </span><span style=\"color: #00af00; text-decoration-color: #00af00\">30,317</span> (118.43 KB)\n",
              "</pre>\n"
            ]
          },
          "metadata": {}
        },
        {
          "output_type": "display_data",
          "data": {
            "text/plain": [
              "\u001b[1m Non-trainable params: \u001b[0m\u001b[38;5;34m896\u001b[0m (3.50 KB)\n"
            ],
            "text/html": [
              "<pre style=\"white-space:pre;overflow-x:auto;line-height:normal;font-family:Menlo,'DejaVu Sans Mono',consolas,'Courier New',monospace\"><span style=\"font-weight: bold\"> Non-trainable params: </span><span style=\"color: #00af00; text-decoration-color: #00af00\">896</span> (3.50 KB)\n",
              "</pre>\n"
            ]
          },
          "metadata": {}
        }
      ],
      "source": [
        "keras.backend.clear_session()\n",
        "ae_model = dense_autoencoder(X_train.shape[1]) #29 cols\n",
        "ae_model.summary()"
      ]
    },
    {
      "cell_type": "markdown",
      "id": "9a3e282a",
      "metadata": {
        "id": "9a3e282a"
      },
      "source": [
        "## Training Autoencoder"
      ]
    },
    {
      "cell_type": "code",
      "execution_count": null,
      "id": "074d280f",
      "metadata": {
        "colab": {
          "base_uri": "https://localhost:8080/"
        },
        "id": "074d280f",
        "outputId": "9cd1a3e4-14db-4373-e939-3c1dd6107e54"
      },
      "outputs": [
        {
          "output_type": "stream",
          "name": "stdout",
          "text": [
            "Epoch 1/100\n",
            "\u001b[1m711/711\u001b[0m \u001b[32m━━━━━━━━━━━━━━━━━━━━\u001b[0m\u001b[37m\u001b[0m \u001b[1m14s\u001b[0m 12ms/step - loss: 0.4787 - val_loss: 0.1791 - learning_rate: 0.0100\n",
            "Epoch 2/100\n",
            "\u001b[1m711/711\u001b[0m \u001b[32m━━━━━━━━━━━━━━━━━━━━\u001b[0m\u001b[37m\u001b[0m \u001b[1m7s\u001b[0m 10ms/step - loss: 0.2454 - val_loss: 0.1276 - learning_rate: 0.0100\n",
            "Epoch 3/100\n",
            "\u001b[1m711/711\u001b[0m \u001b[32m━━━━━━━━━━━━━━━━━━━━\u001b[0m\u001b[37m\u001b[0m \u001b[1m10s\u001b[0m 10ms/step - loss: 0.2235 - val_loss: 0.1130 - learning_rate: 0.0100\n",
            "Epoch 4/100\n",
            "\u001b[1m711/711\u001b[0m \u001b[32m━━━━━━━━━━━━━━━━━━━━\u001b[0m\u001b[37m\u001b[0m \u001b[1m11s\u001b[0m 10ms/step - loss: 0.2116 - val_loss: 0.1038 - learning_rate: 0.0100\n",
            "Epoch 5/100\n",
            "\u001b[1m711/711\u001b[0m \u001b[32m━━━━━━━━━━━━━━━━━━━━\u001b[0m\u001b[37m\u001b[0m \u001b[1m14s\u001b[0m 16ms/step - loss: 0.2047 - val_loss: 0.0942 - learning_rate: 0.0100\n",
            "Epoch 6/100\n",
            "\u001b[1m711/711\u001b[0m \u001b[32m━━━━━━━━━━━━━━━━━━━━\u001b[0m\u001b[37m\u001b[0m \u001b[1m8s\u001b[0m 12ms/step - loss: 0.1967 - val_loss: 0.0910 - learning_rate: 0.0100\n",
            "Epoch 7/100\n",
            "\u001b[1m711/711\u001b[0m \u001b[32m━━━━━━━━━━━━━━━━━━━━\u001b[0m\u001b[37m\u001b[0m \u001b[1m10s\u001b[0m 12ms/step - loss: 0.1893 - val_loss: 0.0845 - learning_rate: 0.0100\n",
            "Epoch 8/100\n",
            "\u001b[1m711/711\u001b[0m \u001b[32m━━━━━━━━━━━━━━━━━━━━\u001b[0m\u001b[37m\u001b[0m \u001b[1m7s\u001b[0m 10ms/step - loss: 0.1854 - val_loss: 0.0812 - learning_rate: 0.0100\n",
            "Epoch 9/100\n",
            "\u001b[1m711/711\u001b[0m \u001b[32m━━━━━━━━━━━━━━━━━━━━\u001b[0m\u001b[37m\u001b[0m \u001b[1m11s\u001b[0m 11ms/step - loss: 0.1823 - val_loss: 0.0780 - learning_rate: 0.0100\n",
            "Epoch 10/100\n",
            "\u001b[1m711/711\u001b[0m \u001b[32m━━━━━━━━━━━━━━━━━━━━\u001b[0m\u001b[37m\u001b[0m \u001b[1m8s\u001b[0m 12ms/step - loss: 0.1802 - val_loss: 0.0781 - learning_rate: 0.0100\n",
            "Epoch 11/100\n",
            "\u001b[1m711/711\u001b[0m \u001b[32m━━━━━━━━━━━━━━━━━━━━\u001b[0m\u001b[37m\u001b[0m \u001b[1m10s\u001b[0m 12ms/step - loss: 0.1784 - val_loss: 0.0761 - learning_rate: 0.0100\n",
            "Epoch 12/100\n",
            "\u001b[1m711/711\u001b[0m \u001b[32m━━━━━━━━━━━━━━━━━━━━\u001b[0m\u001b[37m\u001b[0m \u001b[1m7s\u001b[0m 10ms/step - loss: 0.1759 - val_loss: 0.0762 - learning_rate: 0.0100\n",
            "Epoch 13/100\n",
            "\u001b[1m711/711\u001b[0m \u001b[32m━━━━━━━━━━━━━━━━━━━━\u001b[0m\u001b[37m\u001b[0m \u001b[1m8s\u001b[0m 12ms/step - loss: 0.1741 - val_loss: 0.0746 - learning_rate: 0.0100\n",
            "Epoch 14/100\n",
            "\u001b[1m711/711\u001b[0m \u001b[32m━━━━━━━━━━━━━━━━━━━━\u001b[0m\u001b[37m\u001b[0m \u001b[1m10s\u001b[0m 12ms/step - loss: 0.1713 - val_loss: 0.0706 - learning_rate: 0.0100\n",
            "Epoch 15/100\n",
            "\u001b[1m711/711\u001b[0m \u001b[32m━━━━━━━━━━━━━━━━━━━━\u001b[0m\u001b[37m\u001b[0m \u001b[1m7s\u001b[0m 10ms/step - loss: 0.1693 - val_loss: 0.0708 - learning_rate: 0.0100\n",
            "Epoch 16/100\n",
            "\u001b[1m711/711\u001b[0m \u001b[32m━━━━━━━━━━━━━━━━━━━━\u001b[0m\u001b[37m\u001b[0m \u001b[1m11s\u001b[0m 11ms/step - loss: 0.1680 - val_loss: 0.0722 - learning_rate: 0.0100\n",
            "Epoch 17/100\n",
            "\u001b[1m711/711\u001b[0m \u001b[32m━━━━━━━━━━━━━━━━━━━━\u001b[0m\u001b[37m\u001b[0m \u001b[1m8s\u001b[0m 12ms/step - loss: 0.1690 - val_loss: 0.0712 - learning_rate: 0.0100\n",
            "Epoch 18/100\n",
            "\u001b[1m711/711\u001b[0m \u001b[32m━━━━━━━━━━━━━━━━━━━━\u001b[0m\u001b[37m\u001b[0m \u001b[1m10s\u001b[0m 12ms/step - loss: 0.1683 - val_loss: 0.0675 - learning_rate: 0.0100\n",
            "Epoch 19/100\n",
            "\u001b[1m711/711\u001b[0m \u001b[32m━━━━━━━━━━━━━━━━━━━━\u001b[0m\u001b[37m\u001b[0m \u001b[1m7s\u001b[0m 10ms/step - loss: 0.1656 - val_loss: 0.0742 - learning_rate: 0.0100\n",
            "Epoch 20/100\n",
            "\u001b[1m711/711\u001b[0m \u001b[32m━━━━━━━━━━━━━━━━━━━━\u001b[0m\u001b[37m\u001b[0m \u001b[1m11s\u001b[0m 12ms/step - loss: 0.1648 - val_loss: 0.0706 - learning_rate: 0.0100\n",
            "Epoch 21/100\n",
            "\u001b[1m711/711\u001b[0m \u001b[32m━━━━━━━━━━━━━━━━━━━━\u001b[0m\u001b[37m\u001b[0m \u001b[1m8s\u001b[0m 12ms/step - loss: 0.1661 - val_loss: 0.0688 - learning_rate: 0.0100\n",
            "Epoch 22/100\n",
            "\u001b[1m711/711\u001b[0m \u001b[32m━━━━━━━━━━━━━━━━━━━━\u001b[0m\u001b[37m\u001b[0m \u001b[1m10s\u001b[0m 12ms/step - loss: 0.1639 - val_loss: 0.0688 - learning_rate: 0.0100\n",
            "Epoch 23/100\n",
            "\u001b[1m711/711\u001b[0m \u001b[32m━━━━━━━━━━━━━━━━━━━━\u001b[0m\u001b[37m\u001b[0m \u001b[1m7s\u001b[0m 10ms/step - loss: 0.1636 - val_loss: 0.0671 - learning_rate: 0.0100\n",
            "Epoch 24/100\n",
            "\u001b[1m711/711\u001b[0m \u001b[32m━━━━━━━━━━━━━━━━━━━━\u001b[0m\u001b[37m\u001b[0m \u001b[1m8s\u001b[0m 12ms/step - loss: 0.1622 - val_loss: 0.0701 - learning_rate: 0.0100\n",
            "Epoch 25/100\n",
            "\u001b[1m711/711\u001b[0m \u001b[32m━━━━━━━━━━━━━━━━━━━━\u001b[0m\u001b[37m\u001b[0m \u001b[1m11s\u001b[0m 12ms/step - loss: 0.1621 - val_loss: 0.0677 - learning_rate: 0.0100\n",
            "Epoch 26/100\n",
            "\u001b[1m711/711\u001b[0m \u001b[32m━━━━━━━━━━━━━━━━━━━━\u001b[0m\u001b[37m\u001b[0m \u001b[1m9s\u001b[0m 10ms/step - loss: 0.1629 - val_loss: 0.0685 - learning_rate: 0.0100\n",
            "Epoch 27/100\n",
            "\u001b[1m711/711\u001b[0m \u001b[32m━━━━━━━━━━━━━━━━━━━━\u001b[0m\u001b[37m\u001b[0m \u001b[1m10s\u001b[0m 10ms/step - loss: 0.1604 - val_loss: 0.0652 - learning_rate: 0.0100\n",
            "Epoch 28/100\n",
            "\u001b[1m711/711\u001b[0m \u001b[32m━━━━━━━━━━━━━━━━━━━━\u001b[0m\u001b[37m\u001b[0m \u001b[1m8s\u001b[0m 12ms/step - loss: 0.1602 - val_loss: 0.0690 - learning_rate: 0.0100\n",
            "Epoch 29/100\n",
            "\u001b[1m711/711\u001b[0m \u001b[32m━━━━━━━━━━━━━━━━━━━━\u001b[0m\u001b[37m\u001b[0m \u001b[1m10s\u001b[0m 12ms/step - loss: 0.1602 - val_loss: 0.0679 - learning_rate: 0.0100\n",
            "Epoch 30/100\n",
            "\u001b[1m711/711\u001b[0m \u001b[32m━━━━━━━━━━━━━━━━━━━━\u001b[0m\u001b[37m\u001b[0m \u001b[1m10s\u001b[0m 11ms/step - loss: 0.1599 - val_loss: 0.0671 - learning_rate: 0.0100\n",
            "Epoch 31/100\n",
            "\u001b[1m711/711\u001b[0m \u001b[32m━━━━━━━━━━━━━━━━━━━━\u001b[0m\u001b[37m\u001b[0m \u001b[1m10s\u001b[0m 10ms/step - loss: 0.1596 - val_loss: 0.0637 - learning_rate: 0.0100\n",
            "Epoch 32/100\n",
            "\u001b[1m711/711\u001b[0m \u001b[32m━━━━━━━━━━━━━━━━━━━━\u001b[0m\u001b[37m\u001b[0m \u001b[1m8s\u001b[0m 12ms/step - loss: 0.1595 - val_loss: 0.0687 - learning_rate: 0.0100\n",
            "Epoch 33/100\n",
            "\u001b[1m711/711\u001b[0m \u001b[32m━━━━━━━━━━━━━━━━━━━━\u001b[0m\u001b[37m\u001b[0m \u001b[1m10s\u001b[0m 12ms/step - loss: 0.1589 - val_loss: 0.0695 - learning_rate: 0.0100\n",
            "Epoch 34/100\n",
            "\u001b[1m711/711\u001b[0m \u001b[32m━━━━━━━━━━━━━━━━━━━━\u001b[0m\u001b[37m\u001b[0m \u001b[1m10s\u001b[0m 12ms/step - loss: 0.1583 - val_loss: 0.0648 - learning_rate: 0.0100\n",
            "Epoch 35/100\n",
            "\u001b[1m711/711\u001b[0m \u001b[32m━━━━━━━━━━━━━━━━━━━━\u001b[0m\u001b[37m\u001b[0m \u001b[1m7s\u001b[0m 10ms/step - loss: 0.1575 - val_loss: 0.0631 - learning_rate: 0.0100\n",
            "Epoch 36/100\n",
            "\u001b[1m711/711\u001b[0m \u001b[32m━━━━━━━━━━━━━━━━━━━━\u001b[0m\u001b[37m\u001b[0m \u001b[1m8s\u001b[0m 12ms/step - loss: 0.1569 - val_loss: 0.0693 - learning_rate: 0.0100\n",
            "Epoch 37/100\n",
            "\u001b[1m711/711\u001b[0m \u001b[32m━━━━━━━━━━━━━━━━━━━━\u001b[0m\u001b[37m\u001b[0m \u001b[1m7s\u001b[0m 10ms/step - loss: 0.1580 - val_loss: 0.0636 - learning_rate: 0.0100\n",
            "Epoch 38/100\n",
            "\u001b[1m711/711\u001b[0m \u001b[32m━━━━━━━━━━━━━━━━━━━━\u001b[0m\u001b[37m\u001b[0m \u001b[1m8s\u001b[0m 12ms/step - loss: 0.1566 - val_loss: 0.0687 - learning_rate: 0.0100\n",
            "Epoch 39/100\n",
            "\u001b[1m711/711\u001b[0m \u001b[32m━━━━━━━━━━━━━━━━━━━━\u001b[0m\u001b[37m\u001b[0m \u001b[1m8s\u001b[0m 12ms/step - loss: 0.1559 - val_loss: 0.0638 - learning_rate: 0.0100\n",
            "Epoch 40/100\n",
            "\u001b[1m707/711\u001b[0m \u001b[32m━━━━━━━━━━━━━━━━━━━\u001b[0m\u001b[37m━\u001b[0m \u001b[1m0s\u001b[0m 10ms/step - loss: 0.1567\n",
            "Epoch 40: ReduceLROnPlateau reducing learning rate to 0.0009999999776482583.\n",
            "\u001b[1m711/711\u001b[0m \u001b[32m━━━━━━━━━━━━━━━━━━━━\u001b[0m\u001b[37m\u001b[0m \u001b[1m8s\u001b[0m 11ms/step - loss: 0.1567 - val_loss: 0.0658 - learning_rate: 0.0100\n",
            "Epoch 41/100\n",
            "\u001b[1m711/711\u001b[0m \u001b[32m━━━━━━━━━━━━━━━━━━━━\u001b[0m\u001b[37m\u001b[0m \u001b[1m9s\u001b[0m 12ms/step - loss: 0.1483 - val_loss: 0.0581 - learning_rate: 1.0000e-03\n",
            "Epoch 42/100\n",
            "\u001b[1m711/711\u001b[0m \u001b[32m━━━━━━━━━━━━━━━━━━━━\u001b[0m\u001b[37m\u001b[0m \u001b[1m8s\u001b[0m 12ms/step - loss: 0.1467 - val_loss: 0.0590 - learning_rate: 1.0000e-03\n",
            "Epoch 43/100\n",
            "\u001b[1m711/711\u001b[0m \u001b[32m━━━━━━━━━━━━━━━━━━━━\u001b[0m\u001b[37m\u001b[0m \u001b[1m9s\u001b[0m 10ms/step - loss: 0.1461 - val_loss: 0.0584 - learning_rate: 1.0000e-03\n",
            "Epoch 44/100\n",
            "\u001b[1m711/711\u001b[0m \u001b[32m━━━━━━━━━━━━━━━━━━━━\u001b[0m\u001b[37m\u001b[0m \u001b[1m10s\u001b[0m 10ms/step - loss: 0.1453 - val_loss: 0.0575 - learning_rate: 1.0000e-03\n",
            "Epoch 45/100\n",
            "\u001b[1m711/711\u001b[0m \u001b[32m━━━━━━━━━━━━━━━━━━━━\u001b[0m\u001b[37m\u001b[0m \u001b[1m9s\u001b[0m 12ms/step - loss: 0.1453 - val_loss: 0.0593 - learning_rate: 1.0000e-03\n",
            "Epoch 46/100\n",
            "\u001b[1m711/711\u001b[0m \u001b[32m━━━━━━━━━━━━━━━━━━━━\u001b[0m\u001b[37m\u001b[0m \u001b[1m10s\u001b[0m 12ms/step - loss: 0.1453 - val_loss: 0.0577 - learning_rate: 1.0000e-03\n",
            "Epoch 47/100\n",
            "\u001b[1m711/711\u001b[0m \u001b[32m━━━━━━━━━━━━━━━━━━━━\u001b[0m\u001b[37m\u001b[0m \u001b[1m7s\u001b[0m 10ms/step - loss: 0.1460 - val_loss: 0.0576 - learning_rate: 1.0000e-03\n",
            "Epoch 48/100\n",
            "\u001b[1m711/711\u001b[0m \u001b[32m━━━━━━━━━━━━━━━━━━━━\u001b[0m\u001b[37m\u001b[0m \u001b[1m8s\u001b[0m 12ms/step - loss: 0.1450 - val_loss: 0.0576 - learning_rate: 1.0000e-03\n",
            "Epoch 49/100\n",
            "\u001b[1m710/711\u001b[0m \u001b[32m━━━━━━━━━━━━━━━━━━━\u001b[0m\u001b[37m━\u001b[0m \u001b[1m0s\u001b[0m 10ms/step - loss: 0.1463\n",
            "Epoch 49: ReduceLROnPlateau reducing learning rate to 9.999999310821295e-05.\n",
            "\u001b[1m711/711\u001b[0m \u001b[32m━━━━━━━━━━━━━━━━━━━━\u001b[0m\u001b[37m\u001b[0m \u001b[1m9s\u001b[0m 12ms/step - loss: 0.1463 - val_loss: 0.0575 - learning_rate: 1.0000e-03\n",
            "Epoch 50/100\n",
            "\u001b[1m711/711\u001b[0m \u001b[32m━━━━━━━━━━━━━━━━━━━━\u001b[0m\u001b[37m\u001b[0m \u001b[1m9s\u001b[0m 10ms/step - loss: 0.1448 - val_loss: 0.0569 - learning_rate: 1.0000e-04\n",
            "Epoch 51/100\n",
            "\u001b[1m711/711\u001b[0m \u001b[32m━━━━━━━━━━━━━━━━━━━━\u001b[0m\u001b[37m\u001b[0m \u001b[1m8s\u001b[0m 12ms/step - loss: 0.1448 - val_loss: 0.0569 - learning_rate: 1.0000e-04\n",
            "Epoch 52/100\n",
            "\u001b[1m711/711\u001b[0m \u001b[32m━━━━━━━━━━━━━━━━━━━━\u001b[0m\u001b[37m\u001b[0m \u001b[1m10s\u001b[0m 12ms/step - loss: 0.1450 - val_loss: 0.0568 - learning_rate: 1.0000e-04\n",
            "Epoch 53/100\n",
            "\u001b[1m711/711\u001b[0m \u001b[32m━━━━━━━━━━━━━━━━━━━━\u001b[0m\u001b[37m\u001b[0m \u001b[1m10s\u001b[0m 12ms/step - loss: 0.1443 - val_loss: 0.0571 - learning_rate: 1.0000e-04\n",
            "Epoch 54/100\n",
            "\u001b[1m711/711\u001b[0m \u001b[32m━━━━━━━━━━━━━━━━━━━━\u001b[0m\u001b[37m\u001b[0m \u001b[1m7s\u001b[0m 10ms/step - loss: 0.1445 - val_loss: 0.0569 - learning_rate: 1.0000e-04\n",
            "Epoch 55/100\n",
            "\u001b[1m711/711\u001b[0m \u001b[32m━━━━━━━━━━━━━━━━━━━━\u001b[0m\u001b[37m\u001b[0m \u001b[1m9s\u001b[0m 12ms/step - loss: 0.1452 - val_loss: 0.0569 - learning_rate: 1.0000e-04\n",
            "Epoch 56/100\n",
            "\u001b[1m711/711\u001b[0m \u001b[32m━━━━━━━━━━━━━━━━━━━━\u001b[0m\u001b[37m\u001b[0m \u001b[1m7s\u001b[0m 10ms/step - loss: 0.1450 - val_loss: 0.0568 - learning_rate: 1.0000e-04\n",
            "Epoch 57/100\n",
            "\u001b[1m711/711\u001b[0m \u001b[32m━━━━━━━━━━━━━━━━━━━━\u001b[0m\u001b[37m\u001b[0m \u001b[1m10s\u001b[0m 10ms/step - loss: 0.1445 - val_loss: 0.0565 - learning_rate: 1.0000e-04\n",
            "Epoch 58/100\n",
            "\u001b[1m711/711\u001b[0m \u001b[32m━━━━━━━━━━━━━━━━━━━━\u001b[0m\u001b[37m\u001b[0m \u001b[1m8s\u001b[0m 12ms/step - loss: 0.1442 - val_loss: 0.0567 - learning_rate: 1.0000e-04\n",
            "Epoch 59/100\n",
            "\u001b[1m711/711\u001b[0m \u001b[32m━━━━━━━━━━━━━━━━━━━━\u001b[0m\u001b[37m\u001b[0m \u001b[1m10s\u001b[0m 12ms/step - loss: 0.1444 - val_loss: 0.0566 - learning_rate: 1.0000e-04\n",
            "Epoch 60/100\n",
            "\u001b[1m711/711\u001b[0m \u001b[32m━━━━━━━━━━━━━━━━━━━━\u001b[0m\u001b[37m\u001b[0m \u001b[1m10s\u001b[0m 12ms/step - loss: 0.1446 - val_loss: 0.0566 - learning_rate: 1.0000e-04\n",
            "Epoch 61/100\n",
            "\u001b[1m711/711\u001b[0m \u001b[32m━━━━━━━━━━━━━━━━━━━━\u001b[0m\u001b[37m\u001b[0m \u001b[1m9s\u001b[0m 10ms/step - loss: 0.1446 - val_loss: 0.0567 - learning_rate: 1.0000e-04\n",
            "Epoch 62/100\n",
            "\u001b[1m711/711\u001b[0m \u001b[32m━━━━━━━━━━━━━━━━━━━━\u001b[0m\u001b[37m\u001b[0m \u001b[1m0s\u001b[0m 11ms/step - loss: 0.1445\n",
            "Epoch 62: ReduceLROnPlateau reducing learning rate to 1e-05.\n",
            "\u001b[1m711/711\u001b[0m \u001b[32m━━━━━━━━━━━━━━━━━━━━\u001b[0m\u001b[37m\u001b[0m \u001b[1m8s\u001b[0m 12ms/step - loss: 0.1445 - val_loss: 0.0568 - learning_rate: 1.0000e-04\n",
            "Epoch 63/100\n",
            "\u001b[1m711/711\u001b[0m \u001b[32m━━━━━━━━━━━━━━━━━━━━\u001b[0m\u001b[37m\u001b[0m \u001b[1m8s\u001b[0m 12ms/step - loss: 0.1437 - val_loss: 0.0567 - learning_rate: 1.0000e-05\n",
            "Epoch 64/100\n",
            "\u001b[1m711/711\u001b[0m \u001b[32m━━━━━━━━━━━━━━━━━━━━\u001b[0m\u001b[37m\u001b[0m \u001b[1m7s\u001b[0m 10ms/step - loss: 0.1443 - val_loss: 0.0569 - learning_rate: 1.0000e-05\n",
            "Epoch 65/100\n",
            "\u001b[1m711/711\u001b[0m \u001b[32m━━━━━━━━━━━━━━━━━━━━\u001b[0m\u001b[37m\u001b[0m \u001b[1m8s\u001b[0m 12ms/step - loss: 0.1444 - val_loss: 0.0565 - learning_rate: 1.0000e-05\n",
            "Epoch 66/100\n",
            "\u001b[1m711/711\u001b[0m \u001b[32m━━━━━━━━━━━━━━━━━━━━\u001b[0m\u001b[37m\u001b[0m \u001b[1m8s\u001b[0m 11ms/step - loss: 0.1446 - val_loss: 0.0567 - learning_rate: 1.0000e-05\n",
            "Epoch 67/100\n",
            "\u001b[1m711/711\u001b[0m \u001b[32m━━━━━━━━━━━━━━━━━━━━\u001b[0m\u001b[37m\u001b[0m \u001b[1m8s\u001b[0m 11ms/step - loss: 0.1451 - val_loss: 0.0567 - learning_rate: 1.0000e-05\n",
            "Epoch 68/100\n",
            "\u001b[1m711/711\u001b[0m \u001b[32m━━━━━━━━━━━━━━━━━━━━\u001b[0m\u001b[37m\u001b[0m \u001b[1m8s\u001b[0m 12ms/step - loss: 0.1458 - val_loss: 0.0564 - learning_rate: 1.0000e-05\n",
            "Epoch 69/100\n",
            "\u001b[1m711/711\u001b[0m \u001b[32m━━━━━━━━━━━━━━━━━━━━\u001b[0m\u001b[37m\u001b[0m \u001b[1m7s\u001b[0m 10ms/step - loss: 0.1444 - val_loss: 0.0565 - learning_rate: 1.0000e-05\n",
            "Epoch 70/100\n",
            "\u001b[1m711/711\u001b[0m \u001b[32m━━━━━━━━━━━━━━━━━━━━\u001b[0m\u001b[37m\u001b[0m \u001b[1m10s\u001b[0m 10ms/step - loss: 0.1451 - val_loss: 0.0565 - learning_rate: 1.0000e-05\n",
            "Epoch 71/100\n",
            "\u001b[1m711/711\u001b[0m \u001b[32m━━━━━━━━━━━━━━━━━━━━\u001b[0m\u001b[37m\u001b[0m \u001b[1m8s\u001b[0m 12ms/step - loss: 0.1441 - val_loss: 0.0563 - learning_rate: 1.0000e-05\n",
            "Epoch 72/100\n",
            "\u001b[1m711/711\u001b[0m \u001b[32m━━━━━━━━━━━━━━━━━━━━\u001b[0m\u001b[37m\u001b[0m \u001b[1m10s\u001b[0m 12ms/step - loss: 0.1446 - val_loss: 0.0565 - learning_rate: 1.0000e-05\n",
            "Epoch 73/100\n",
            "\u001b[1m711/711\u001b[0m \u001b[32m━━━━━━━━━━━━━━━━━━━━\u001b[0m\u001b[37m\u001b[0m \u001b[1m7s\u001b[0m 10ms/step - loss: 0.1447 - val_loss: 0.0564 - learning_rate: 1.0000e-05\n",
            "Epoch 74/100\n",
            "\u001b[1m711/711\u001b[0m \u001b[32m━━━━━━━━━━━━━━━━━━━━\u001b[0m\u001b[37m\u001b[0m \u001b[1m8s\u001b[0m 12ms/step - loss: 0.1441 - val_loss: 0.0567 - learning_rate: 1.0000e-05\n",
            "Epoch 75/100\n",
            "\u001b[1m711/711\u001b[0m \u001b[32m━━━━━━━━━━━━━━━━━━━━\u001b[0m\u001b[37m\u001b[0m \u001b[1m10s\u001b[0m 12ms/step - loss: 0.1442 - val_loss: 0.0566 - learning_rate: 1.0000e-05\n",
            "Epoch 76/100\n",
            "\u001b[1m711/711\u001b[0m \u001b[32m━━━━━━━━━━━━━━━━━━━━\u001b[0m\u001b[37m\u001b[0m \u001b[1m10s\u001b[0m 11ms/step - loss: 0.1449 - val_loss: 0.0567 - learning_rate: 1.0000e-05\n",
            "Epoch 77/100\n",
            "\u001b[1m711/711\u001b[0m \u001b[32m━━━━━━━━━━━━━━━━━━━━\u001b[0m\u001b[37m\u001b[0m \u001b[1m8s\u001b[0m 11ms/step - loss: 0.1442 - val_loss: 0.0566 - learning_rate: 1.0000e-05\n",
            "Epoch 78/100\n",
            "\u001b[1m711/711\u001b[0m \u001b[32m━━━━━━━━━━━━━━━━━━━━\u001b[0m\u001b[37m\u001b[0m \u001b[1m8s\u001b[0m 12ms/step - loss: 0.1445 - val_loss: 0.0568 - learning_rate: 1.0000e-05\n",
            "Epoch 79/100\n",
            "\u001b[1m711/711\u001b[0m \u001b[32m━━━━━━━━━━━━━━━━━━━━\u001b[0m\u001b[37m\u001b[0m \u001b[1m7s\u001b[0m 10ms/step - loss: 0.1443 - val_loss: 0.0562 - learning_rate: 1.0000e-05\n",
            "Epoch 80/100\n",
            "\u001b[1m711/711\u001b[0m \u001b[32m━━━━━━━━━━━━━━━━━━━━\u001b[0m\u001b[37m\u001b[0m \u001b[1m8s\u001b[0m 12ms/step - loss: 0.1445 - val_loss: 0.0568 - learning_rate: 1.0000e-05\n",
            "Epoch 81/100\n",
            "\u001b[1m711/711\u001b[0m \u001b[32m━━━━━━━━━━━━━━━━━━━━\u001b[0m\u001b[37m\u001b[0m \u001b[1m8s\u001b[0m 12ms/step - loss: 0.1443 - val_loss: 0.0565 - learning_rate: 1.0000e-05\n",
            "Epoch 82/100\n",
            "\u001b[1m711/711\u001b[0m \u001b[32m━━━━━━━━━━━━━━━━━━━━\u001b[0m\u001b[37m\u001b[0m \u001b[1m7s\u001b[0m 10ms/step - loss: 0.1444 - val_loss: 0.0568 - learning_rate: 1.0000e-05\n",
            "Epoch 83/100\n",
            "\u001b[1m711/711\u001b[0m \u001b[32m━━━━━━━━━━━━━━━━━━━━\u001b[0m\u001b[37m\u001b[0m \u001b[1m8s\u001b[0m 12ms/step - loss: 0.1443 - val_loss: 0.0569 - learning_rate: 1.0000e-05\n",
            "Epoch 84/100\n",
            "\u001b[1m711/711\u001b[0m \u001b[32m━━━━━━━━━━━━━━━━━━━━\u001b[0m\u001b[37m\u001b[0m \u001b[1m10s\u001b[0m 12ms/step - loss: 0.1443 - val_loss: 0.0569 - learning_rate: 1.0000e-05\n",
            "Epoch 85/100\n",
            "\u001b[1m711/711\u001b[0m \u001b[32m━━━━━━━━━━━━━━━━━━━━\u001b[0m\u001b[37m\u001b[0m \u001b[1m10s\u001b[0m 11ms/step - loss: 0.1446 - val_loss: 0.0565 - learning_rate: 1.0000e-05\n",
            "Epoch 86/100\n",
            "\u001b[1m711/711\u001b[0m \u001b[32m━━━━━━━━━━━━━━━━━━━━\u001b[0m\u001b[37m\u001b[0m \u001b[1m8s\u001b[0m 11ms/step - loss: 0.1443 - val_loss: 0.0565 - learning_rate: 1.0000e-05\n",
            "Epoch 87/100\n",
            "\u001b[1m711/711\u001b[0m \u001b[32m━━━━━━━━━━━━━━━━━━━━\u001b[0m\u001b[37m\u001b[0m \u001b[1m11s\u001b[0m 12ms/step - loss: 0.1456 - val_loss: 0.0564 - learning_rate: 1.0000e-05\n",
            "Epoch 88/100\n",
            "\u001b[1m711/711\u001b[0m \u001b[32m━━━━━━━━━━━━━━━━━━━━\u001b[0m\u001b[37m\u001b[0m \u001b[1m9s\u001b[0m 12ms/step - loss: 0.1441 - val_loss: 0.0566 - learning_rate: 1.0000e-05\n",
            "Epoch 89/100\n",
            "\u001b[1m711/711\u001b[0m \u001b[32m━━━━━━━━━━━━━━━━━━━━\u001b[0m\u001b[37m\u001b[0m \u001b[1m9s\u001b[0m 10ms/step - loss: 0.1442 - val_loss: 0.0564 - learning_rate: 1.0000e-05\n",
            "Epoch 90/100\n",
            "\u001b[1m711/711\u001b[0m \u001b[32m━━━━━━━━━━━━━━━━━━━━\u001b[0m\u001b[37m\u001b[0m \u001b[1m9s\u001b[0m 12ms/step - loss: 0.1441 - val_loss: 0.0571 - learning_rate: 1.0000e-05\n",
            "Epoch 91/100\n",
            "\u001b[1m711/711\u001b[0m \u001b[32m━━━━━━━━━━━━━━━━━━━━\u001b[0m\u001b[37m\u001b[0m \u001b[1m9s\u001b[0m 12ms/step - loss: 0.1462 - val_loss: 0.0567 - learning_rate: 1.0000e-05\n",
            "Epoch 92/100\n",
            "\u001b[1m711/711\u001b[0m \u001b[32m━━━━━━━━━━━━━━━━━━━━\u001b[0m\u001b[37m\u001b[0m \u001b[1m7s\u001b[0m 10ms/step - loss: 0.1445 - val_loss: 0.0564 - learning_rate: 1.0000e-05\n",
            "Epoch 93/100\n",
            "\u001b[1m711/711\u001b[0m \u001b[32m━━━━━━━━━━━━━━━━━━━━\u001b[0m\u001b[37m\u001b[0m \u001b[1m10s\u001b[0m 10ms/step - loss: 0.1442 - val_loss: 0.0569 - learning_rate: 1.0000e-05\n",
            "Epoch 94/100\n",
            "\u001b[1m711/711\u001b[0m \u001b[32m━━━━━━━━━━━━━━━━━━━━\u001b[0m\u001b[37m\u001b[0m \u001b[1m8s\u001b[0m 12ms/step - loss: 0.1437 - val_loss: 0.0566 - learning_rate: 1.0000e-05\n",
            "Epoch 94: early stopping\n",
            "Restoring model weights from the end of the best epoch: 79.\n"
          ]
        }
      ],
      "source": [
        "EPOCHS = 100\n",
        "BATCH_SIZE = 256\n",
        "\n",
        "\n",
        "early_stopping = keras.callbacks.EarlyStopping(\n",
        "    monitor='val_loss',\n",
        "    mode='min',\n",
        "    verbose=True,\n",
        "    patience=15,\n",
        "    restore_best_weights=True\n",
        ")\n",
        "reduce_lr = keras.callbacks.ReduceLROnPlateau(\n",
        "    monitor='val_loss',\n",
        "    mode='min',\n",
        "    verbose=True,\n",
        "    patience=5,\n",
        "    factor= 0.1, #if the current learning rate is 0.01 and the factor is 0.1, the new learning rate will be 0.001\n",
        "    min_lr = 1e-5\n",
        ")\n",
        "\n",
        "history = ae_model.fit(\n",
        "    X_train[y_train==0,:], # filtering out non-fraudulant data and used for training\n",
        "    X_train[y_train==0,:],\n",
        "    batch_size=BATCH_SIZE,\n",
        "    epochs=EPOCHS,\n",
        "    verbose=1,\n",
        "    callbacks = [early_stopping, reduce_lr],\n",
        "    validation_data=(X_val[y_val==0], X_val[y_val==0])\n",
        ")"
      ]
    },
    {
      "cell_type": "code",
      "execution_count": null,
      "id": "8de61dcd",
      "metadata": {
        "id": "8de61dcd",
        "colab": {
          "base_uri": "https://localhost:8080/",
          "height": 307
        },
        "outputId": "e887e3a5-aa74-467e-afd4-d3e51b188287"
      },
      "outputs": [
        {
          "output_type": "display_data",
          "data": {
            "text/plain": [
              "<Figure size 400x300 with 1 Axes>"
            ],
            "image/png": "[encoded data removed]"
          },
          "metadata": {}
        }
      ],
      "source": [
        "fig, axs = plt.subplots(1, 1, figsize=(4,3))\n",
        "\n",
        "graph = axs.plot(history.epoch, history.history['loss'], label='Training')\n",
        "graph = axs.plot(history.epoch, history.history['val_loss'], label='Validation')\n",
        "graph = axs.legend()\n",
        "graph = axs.set_xlabel('Epoch')\n",
        "graph = axs.set_ylabel('Reconstruction loss')\n",
        "fig.tight_layout()"
      ]
    },
    {
      "cell_type": "markdown",
      "id": "e0b4311c",
      "metadata": {
        "id": "e0b4311c"
      },
      "source": [
        "## Defining Reconstruction loss"
      ]
    },
    {
      "cell_type": "code",
      "execution_count": null,
      "id": "948e5f20",
      "metadata": {
        "id": "948e5f20"
      },
      "outputs": [],
      "source": [
        "def get_reconst_loss(X):\n",
        "    X_reconst = ae_model.predict(X, batch_size=256)\n",
        "    return (\n",
        "        ((X-X_reconst)**2).sum(axis=1)\n",
        "    )"
      ]
    },
    {
      "cell_type": "markdown",
      "id": "82b7489e",
      "metadata": {
        "id": "82b7489e"
      },
      "source": [
        "### Plotting Reconstruction loss for fraud and non-fraud transactions"
      ]
    },
    {
      "cell_type": "code",
      "execution_count": null,
      "id": "c10800b5",
      "metadata": {
        "id": "c10800b5",
        "colab": {
          "base_uri": "https://localhost:8080/",
          "height": 406
        },
        "outputId": "007ee873-6c68-47b0-db32-47b3375f5ae7"
      },
      "outputs": [
        {
          "output_type": "stream",
          "name": "stdout",
          "text": [
            "\u001b[1m713/713\u001b[0m \u001b[32m━━━━━━━━━━━━━━━━━━━━\u001b[0m\u001b[37m\u001b[0m \u001b[1m2s\u001b[0m 3ms/step\n"
          ]
        },
        {
          "output_type": "display_data",
          "data": {
            "text/plain": [
              "<Figure size 600x400 with 1 Axes>"
            ],
            "image/png": "[encoded data removed]"
          },
          "metadata": {}
        }
      ],
      "source": [
        "reconst_train = get_reconst_loss(X_train)\n",
        "\n",
        "fig, ax = plt.subplots(1,1, figsize=(6,4))\n",
        "graph = sns.histplot(\n",
        "    x=np.log1p(reconst_train), #applies log(1+x) transformation,for stabilizing skewed distributions\n",
        "    hue=y_train,\n",
        "    bins=20,\n",
        "    stat='density', #Normalizes the histogram to show a density curve instead of raw counts\n",
        "    kde=True,\n",
        "    common_norm=False,\n",
        "    alpha = 0.5, #Sets transparency for the histogram bars\n",
        "    ax=ax\n",
        ")\n",
        "graph = ax.set_xlabel('log(1+ Reconstruction Loss)')"
      ]
    },
    {
      "cell_type": "markdown",
      "id": "118be461",
      "metadata": {
        "id": "118be461"
      },
      "source": [
        "We are training the autoencoder only on the non-fraud samples so it minimizes the reconstruction loss during training by extracting the main features and reconstructing it. But when we pass a fraud transaction whose main features are different from non-fraud, the reconstruction loss will be high. So we can define a thereshold to classify fraud and non-fraud transactions"
      ]
    },
    {
      "cell_type": "code",
      "execution_count": null,
      "id": "20fcb6dc",
      "metadata": {
        "id": "20fcb6dc",
        "colab": {
          "base_uri": "https://localhost:8080/"
        },
        "outputId": "ff21d8e5-1c20-4b6e-92a6-82bc680d77d6"
      },
      "outputs": [
        {
          "output_type": "stream",
          "name": "stdout",
          "text": [
            "\u001b[1m179/179\u001b[0m \u001b[32m━━━━━━━━━━━━━━━━━━━━\u001b[0m\u001b[37m\u001b[0m \u001b[1m0s\u001b[0m 2ms/step\n",
            "\u001b[1m223/223\u001b[0m \u001b[32m━━━━━━━━━━━━━━━━━━━━\u001b[0m\u001b[37m\u001b[0m \u001b[1m1s\u001b[0m 3ms/step\n"
          ]
        }
      ],
      "source": [
        "reconst_val = get_reconst_loss(X_val)\n",
        "reconst_test = get_reconst_loss(X_test)"
      ]
    },
    {
      "cell_type": "markdown",
      "id": "3875ab1d",
      "metadata": {
        "id": "3875ab1d"
      },
      "source": [
        "Thershold for reconstruction error - As we decrease the thereshold the chance of predicting fraud transaction increases but number of false alarm also increases so we need to decide the sweet spot for the thereshold  \n",
        "Usually, not identifying a fradulent transacation is considered more costly than raising a false alarm"
      ]
    },
    {
      "cell_type": "code",
      "source": [
        "from sklearn.metrics import (\n",
        "    roc_auc_score, average_precision_score,\n",
        "    precision_recall_curve, roc_curve\n",
        ")\n",
        "\n",
        "# Use log1p(loss) as the anomaly score (stabilizes scale; higher = more anomalous)\n",
        "scores_test = np.log1p(reconst_test).astype(float)\n",
        "\n",
        "\n",
        "roc = roc_auc_score(y_test, scores_test)\n",
        "ap  = average_precision_score(y_test, scores_test)\n",
        "print(f\"Autoencoder — ROC-AUC: {roc:.4f}\")\n",
        "print(f\"Autoencoder — PR-AUC (Average Precision): {ap:.4f}\")\n"
      ],
      "metadata": {
        "colab": {
          "base_uri": "https://localhost:8080/"
        },
        "id": "WZ_pUYTWt5nr",
        "outputId": "468da63a-5639-4b31-ccdf-b9b4c1f7f4aa"
      },
      "id": "WZ_pUYTWt5nr",
      "execution_count": null,
      "outputs": [
        {
          "output_type": "stream",
          "name": "stdout",
          "text": [
            "Autoencoder — ROC-AUC: 0.9769\n",
            "Autoencoder — PR-AUC (Average Precision): 0.7912\n"
          ]
        }
      ]
    },
    {
      "cell_type": "code",
      "source": [
        "\n",
        "prec, rec, pr_th = precision_recall_curve(y_test, scores_test)\n",
        "fpr, tpr, roc_th = roc_curve(y_test, scores_test)\n",
        "\n",
        "plt.figure(figsize=(5,4))\n",
        "plt.plot(rec, prec)\n",
        "plt.xlabel(\"Recall\"); plt.ylabel(\"Precision\"); plt.title(\"Autoencoder — Precision–Recall Curve\")\n",
        "plt.grid(True, alpha=0.3)\n",
        "plt.show()\n",
        "\n",
        "plt.figure(figsize=(5,4))\n",
        "plt.plot(fpr, tpr)\n",
        "plt.xlabel(\"False Positive Rate\"); plt.ylabel(\"True Positive Rate\"); plt.title(\"Autoencoder — ROC Curve\")\n",
        "plt.grid(True, alpha=0.3)\n",
        "plt.show()\n"
      ],
      "metadata": {
        "colab": {
          "base_uri": "https://localhost:8080/",
          "height": 803
        },
        "id": "HEFNoL3tt9o2",
        "outputId": "fbff79d1-55a4-43d9-bb1f-396a7cf7605d"
      },
      "id": "HEFNoL3tt9o2",
      "execution_count": null,
      "outputs": [
        {
          "output_type": "display_data",
          "data": {
            "text/plain": [
              "<Figure size 500x400 with 1 Axes>"
            ],
            "image/png": "[encoded data removed]"
          },
          "metadata": {}
        },
        {
          "output_type": "display_data",
          "data": {
            "text/plain": [
              "<Figure size 500x400 with 1 Axes>"
            ],
            "image/png": "[encoded data removed]"
          },
          "metadata": {}
        }
      ]
    },
    {
      "cell_type": "code",
      "execution_count": null,
      "id": "243a0d3a",
      "metadata": {
        "id": "243a0d3a",
        "colab": {
          "base_uri": "https://localhost:8080/",
          "height": 393
        },
        "outputId": "e2489a12-f3ff-491c-c04a-4d5254e95671"
      },
      "outputs": [
        {
          "output_type": "display_data",
          "data": {
            "text/plain": [
              "<Figure size 1350x400 with 6 Axes>"
            ],
            "image/png": "[encoded data removed]"
          },
          "metadata": {}
        }
      ],
      "source": [
        "thresholds = [3, 3.5, 4]\n",
        "\n",
        "fig, axs = plt.subplots(1, len(thresholds), figsize=(4.5*len(thresholds), 4))\n",
        "for i, threshold in enumerate(thresholds):\n",
        "    _ = sns.heatmap(confusion_matrix(y_test, np.log1p(reconst_test) > threshold), annot=True, ax=axs[i], fmt='g')\n",
        "    _ = axs[i].set_ylabel('Actual')\n",
        "    _ = axs[i].set_xlabel('Predicted')\n",
        "    _ = axs[i].set_title(f'Confusion matrix @ {threshold}')\n",
        "\n",
        "fig.tight_layout()"
      ]
    },
    {
      "cell_type": "markdown",
      "source": [
        "Performance Summary\n",
        "\n",
        "ROC-AUC: 0.9769 → very strong separation between normal and anomalous samples.\n",
        "\n",
        "PR-AUC (AP): 0.7912 → much better than Isolation Forest (0.137) and One-Class SVM (0.354), showing strong performance under severe class imbalance.\n",
        "\n",
        "Confusion Matrices (threshold tuning):\n",
        "\n",
        "At threshold 3.0, recall is highest (85/98 anomalies caught) but with more false positives.\n",
        "\n",
        "At threshold 3.5, recall remains the same (85) with far fewer false positives → best trade-off.\n",
        "\n",
        "At threshold 4.0, fewer false positives (15) but recall drops (79/98 anomalies)."
      ],
      "metadata": {
        "id": "nCADnztPZLfE"
      },
      "id": "nCADnztPZLfE"
    },
    {
      "cell_type": "markdown",
      "source": [
        "Interpretation\n",
        "\n",
        "The training/validation reconstruction loss curves show convergence with no overfitting — validation stabilizes lower than training (a good sign).\n",
        "\n",
        "The reconstruction loss distribution is clearly separated between normal (low loss) and anomalies (high loss).\n",
        "\n",
        "The ROC and PR curves confirm the autoencoder is effective at ranking anomalies.\n",
        "\n",
        "Threshold selection matters: around 3.5 gives the best precision–recall balance."
      ],
      "metadata": {
        "id": "kiOT82bOZLNt"
      },
      "id": "kiOT82bOZLNt"
    },
    {
      "cell_type": "markdown",
      "source": [
        "Note-ChatGPT was used to help understand the results for autoencoders"
      ],
      "metadata": {
        "id": "OxINHLcdZXeA"
      },
      "id": "OxINHLcdZXeA"
    },
    {
      "cell_type": "markdown",
      "source": [
        "Reference-[A Comparison Study of Credit Card Fraud Detection: Supervised versus Unsupervised](https://arxiv.org/abs/1904.10604), A[nomaly detection using autoencoders with nonlinear dimensionality reduction](https://doi.org/10.1145/2689746.2689747), https://www.kaggle.com/code/deepaksurana/fraud-detection-using-autoencoders-in-keras"
      ],
      "metadata": {
        "id": "2cbqpAkgbtSM"
      },
      "id": "2cbqpAkgbtSM"
    },
    {
      "cell_type": "code",
      "source": [],
      "metadata": {
        "id": "TeZfCmTxZROM"
      },
      "id": "TeZfCmTxZROM",
      "execution_count": null,
      "outputs": []
    }
  ],
  "metadata": {
    "colab": {
      "provenance": []
    },
    "kaggle": {
      "accelerator": "none",
      "dataSources": [
        {
          "datasetId": 310,
          "sourceId": 23498,
          "sourceType": "datasetVersion"
        }
      ],
      "dockerImageVersionId": 30822,
      "isGpuEnabled": false,
      "isInternetEnabled": true,
      "language": "python",
      "sourceType": "notebook"
    },
    "kernelspec": {
      "display_name": "Python 3",
      "language": "python",
      "name": "python3"
    },
    "language_info": {
      "codemirror_mode": {
        "name": "ipython",
        "version": 3
      },
      "file_extension": ".py",
      "mimetype": "text/x-python",
      "name": "python",
      "nbconvert_exporter": "python",
      "pygments_lexer": "ipython3",
      "version": "3.10.12"
    },
    "papermill": {
      "default_parameters": {},
      "duration": 1846.66889,
      "end_time": "2024-12-30T03:00:04.367340",
      "environment_variables": {},
      "exception": null,
      "input_path": "__notebook__.ipynb",
      "output_path": "__notebook__.ipynb",
      "parameters": {},
      "start_time": "2024-12-30T02:29:17.698450",
      "version": "2.6.0"
    }
  },
  "nbformat": 4,
  "nbformat_minor": 5
}