{
  "cells": [
    {
      "cell_type": "markdown",
      "source": [
        "#GAN + RNN, LSTM, GRU as discriminator"
      ],
      "metadata": {
        "id": "6K8pDbLrfUYG"
      },
      "id": "6K8pDbLrfUYG"
    },
    {
      "cell_type": "markdown",
      "id": "95b87982",
      "metadata": {
        "id": "95b87982"
      },
      "source": [
        "## Importing Libraries"
      ]
    },
    {
      "cell_type": "code",
      "execution_count": null,
      "id": "cb2d1424",
      "metadata": {
        "id": "cb2d1424"
      },
      "outputs": [],
      "source": [
        "import os\n",
        "import keras\n",
        "import numpy as np\n",
        "import pandas as pd\n",
        "import seaborn as sns\n",
        "import plotly.express as px\n",
        "import plotly.graph_objects as go\n",
        "import matplotlib.pyplot as plt\n",
        "import lightgbm as lgb\n",
        "from sklearn.model_selection import train_test_split\n",
        "from sklearn.preprocessing import QuantileTransformer\n",
        "from sklearn.preprocessing import StandardScaler, MinMaxScaler\n",
        "from tensorflow.keras.layers import Input, Dense, Reshape, Flatten, Dropout, multiply, Concatenate\n",
        "from tensorflow.keras.layers import BatchNormalization, Activation, Embedding, ZeroPadding2D, LeakyReLU\n",
        "from tensorflow.keras.models import Sequential, Model\n",
        "from tensorflow.keras.optimizers import Adam, RMSprop\n",
        "from tensorflow.keras.initializers import RandomNormal\n",
        "import tensorflow.keras.backend as K\n",
        "from sklearn.utils import shuffle\n",
        "from sklearn.metrics import precision_score, recall_score, f1_score,\\\n",
        "                            accuracy_score, balanced_accuracy_score,classification_report,\\\n",
        "                            confusion_matrix\n",
        "import numpy as np\n",
        "import tensorflow as tf\n",
        "from tensorflow.keras import layers, models, optimizers\n",
        "from sklearn.model_selection import train_test_split\n",
        "from sklearn.preprocessing import StandardScaler\n",
        "from sklearn.metrics import classification_report, confusion_matrix"
      ]
    },
    {
      "cell_type": "code",
      "execution_count": null,
      "id": "QgenRhZYJcmv",
      "metadata": {
        "id": "QgenRhZYJcmv"
      },
      "outputs": [],
      "source": [
        "import tensorflow as tf\n",
        "tf.config.run_functions_eagerly(True)\n"
      ]
    },
    {
      "cell_type": "markdown",
      "id": "90a60195",
      "metadata": {
        "id": "90a60195"
      },
      "source": [
        "## EDA"
      ]
    },
    {
      "cell_type": "code",
      "execution_count": null,
      "id": "79bf21d7",
      "metadata": {
        "colab": {
          "base_uri": "https://localhost:8080/"
        },
        "id": "79bf21d7",
        "outputId": "7d7a68e8-c5b7-4809-f66f-221cf62b2817"
      },
      "outputs": [
        {
          "output_type": "stream",
          "name": "stdout",
          "text": [
            "<class 'pandas.core.frame.DataFrame'>\n",
            "RangeIndex: 284807 entries, 0 to 284806\n",
            "Data columns (total 30 columns):\n",
            " #   Column  Non-Null Count   Dtype  \n",
            "---  ------  --------------   -----  \n",
            " 0   V1      284807 non-null  float64\n",
            " 1   V2      284807 non-null  float64\n",
            " 2   V3      284807 non-null  float64\n",
            " 3   V4      284807 non-null  float64\n",
            " 4   V5      284807 non-null  float64\n",
            " 5   V6      284807 non-null  float64\n",
            " 6   V7      284807 non-null  float64\n",
            " 7   V8      284807 non-null  float64\n",
            " 8   V9      284807 non-null  float64\n",
            " 9   V10     284807 non-null  float64\n",
            " 10  V11     284807 non-null  float64\n",
            " 11  V12     284807 non-null  float64\n",
            " 12  V13     284807 non-null  float64\n",
            " 13  V14     284807 non-null  float64\n",
            " 14  V15     284807 non-null  float64\n",
            " 15  V16     284807 non-null  float64\n",
            " 16  V17     284807 non-null  float64\n",
            " 17  V18     284807 non-null  float64\n",
            " 18  V19     284807 non-null  float64\n",
            " 19  V20     284807 non-null  float64\n",
            " 20  V21     284807 non-null  float64\n",
            " 21  V22     284807 non-null  float64\n",
            " 22  V23     284807 non-null  float64\n",
            " 23  V24     284807 non-null  float64\n",
            " 24  V25     284807 non-null  float64\n",
            " 25  V26     284807 non-null  float64\n",
            " 26  V27     284807 non-null  float64\n",
            " 27  V28     284807 non-null  float64\n",
            " 28  Amount  284807 non-null  float64\n",
            " 29  Class   284807 non-null  int64  \n",
            "dtypes: float64(29), int64(1)\n",
            "memory usage: 65.2 MB\n"
          ]
        }
      ],
      "source": [
        "df=pd.read_csv('./creditcard.csv')\n",
        "df=df.drop('Time',axis=1)\n",
        "df.head()\n",
        "df.info()"
      ]
    },
    {
      "cell_type": "markdown",
      "id": "a828e2f8",
      "metadata": {
        "id": "a828e2f8"
      },
      "source": [
        "PCA Transformation: The description of the data says that all the features went through a PCA transformation (Except for time and amount).  \n",
        "Scaling: Keep in mind that in order to implement a PCA transformation features need to be previously scaled."
      ]
    },
    {
      "cell_type": "code",
      "execution_count": null,
      "id": "b13394f3",
      "metadata": {
        "colab": {
          "base_uri": "https://localhost:8080/",
          "height": 349
        },
        "id": "b13394f3",
        "outputId": "ecaccc3d-e87a-450d-af3d-b5ab7497380e"
      },
      "outputs": [
        {
          "output_type": "execute_result",
          "data": {
            "text/plain": [
              "                 V1            V2            V3            V4            V5  \\\n",
              "count  2.848070e+05  2.848070e+05  2.848070e+05  2.848070e+05  2.848070e+05   \n",
              "mean   1.168375e-15  3.416908e-16 -1.379537e-15  2.074095e-15  9.604066e-16   \n",
              "std    1.958696e+00  1.651309e+00  1.516255e+00  1.415869e+00  1.380247e+00   \n",
              "min   -5.640751e+01 -7.271573e+01 -4.832559e+01 -5.683171e+00 -1.137433e+02   \n",
              "25%   -9.203734e-01 -5.985499e-01 -8.903648e-01 -8.486401e-01 -6.915971e-01   \n",
              "50%    1.810880e-02  6.548556e-02  1.798463e-01 -1.984653e-02 -5.433583e-02   \n",
              "75%    1.315642e+00  8.037239e-01  1.027196e+00  7.433413e-01  6.119264e-01   \n",
              "max    2.454930e+00  2.205773e+01  9.382558e+00  1.687534e+01  3.480167e+01   \n",
              "\n",
              "                 V6            V7            V8            V9           V10  \\\n",
              "count  2.848070e+05  2.848070e+05  2.848070e+05  2.848070e+05  2.848070e+05   \n",
              "mean   1.487313e-15 -5.556467e-16  1.213481e-16 -2.406331e-15  2.239053e-15   \n",
              "std    1.332271e+00  1.237094e+00  1.194353e+00  1.098632e+00  1.088850e+00   \n",
              "min   -2.616051e+01 -4.355724e+01 -7.321672e+01 -1.343407e+01 -2.458826e+01   \n",
              "25%   -7.682956e-01 -5.540759e-01 -2.086297e-01 -6.430976e-01 -5.354257e-01   \n",
              "50%   -2.741871e-01  4.010308e-02  2.235804e-02 -5.142873e-02 -9.291738e-02   \n",
              "75%    3.985649e-01  5.704361e-01  3.273459e-01  5.971390e-01  4.539234e-01   \n",
              "max    7.330163e+01  1.205895e+02  2.000721e+01  1.559499e+01  2.374514e+01   \n",
              "\n",
              "       ...           V21           V22           V23           V24  \\\n",
              "count  ...  2.848070e+05  2.848070e+05  2.848070e+05  2.848070e+05   \n",
              "mean   ...  1.654067e-16 -3.568593e-16  2.578648e-16  4.473266e-15   \n",
              "std    ...  7.345240e-01  7.257016e-01  6.244603e-01  6.056471e-01   \n",
              "min    ... -3.483038e+01 -1.093314e+01 -4.480774e+01 -2.836627e+00   \n",
              "25%    ... -2.283949e-01 -5.423504e-01 -1.618463e-01 -3.545861e-01   \n",
              "50%    ... -2.945017e-02  6.781943e-03 -1.119293e-02  4.097606e-02   \n",
              "75%    ...  1.863772e-01  5.285536e-01  1.476421e-01  4.395266e-01   \n",
              "max    ...  2.720284e+01  1.050309e+01  2.252841e+01  4.584549e+00   \n",
              "\n",
              "                V25           V26           V27           V28         Amount  \\\n",
              "count  2.848070e+05  2.848070e+05  2.848070e+05  2.848070e+05  284807.000000   \n",
              "mean   5.340915e-16  1.683437e-15 -3.660091e-16 -1.227390e-16      88.349619   \n",
              "std    5.212781e-01  4.822270e-01  4.036325e-01  3.300833e-01     250.120109   \n",
              "min   -1.029540e+01 -2.604551e+00 -2.256568e+01 -1.543008e+01       0.000000   \n",
              "25%   -3.171451e-01 -3.269839e-01 -7.083953e-02 -5.295979e-02       5.600000   \n",
              "50%    1.659350e-02 -5.213911e-02  1.342146e-03  1.124383e-02      22.000000   \n",
              "75%    3.507156e-01  2.409522e-01  9.104512e-02  7.827995e-02      77.165000   \n",
              "max    7.519589e+00  3.517346e+00  3.161220e+01  3.384781e+01   25691.160000   \n",
              "\n",
              "               Class  \n",
              "count  284807.000000  \n",
              "mean        0.001727  \n",
              "std         0.041527  \n",
              "min         0.000000  \n",
              "25%         0.000000  \n",
              "50%         0.000000  \n",
              "75%         0.000000  \n",
              "max         1.000000  \n",
              "\n",
              "[8 rows x 30 columns]"
            ],
            "text/html": [
              "\n",
              "  <div id=\"df-7bcef93e-4e04-42f3-a889-94c764b75eca\" class=\"colab-df-container\">\n",
              "    <div>\n",
              "<style scoped>\n",
              "    .dataframe tbody tr th:only-of-type {\n",
              "        vertical-align: middle;\n",
              "    }\n",
              "\n",
              "    .dataframe tbody tr th {\n",
              "        vertical-align: top;\n",
              "    }\n",
              "\n",
              "    .dataframe thead th {\n",
              "        text-align: right;\n",
              "    }\n",
              "</style>\n",
              "<table border=\"1\" class=\"dataframe\">\n",
              "  <thead>\n",
              "    <tr style=\"text-align: right;\">\n",
              "      <th></th>\n",
              "      <th>V1</th>\n",
              "      <th>V2</th>\n",
              "      <th>V3</th>\n",
              "      <th>V4</th>\n",
              "      <th>V5</th>\n",
              "      <th>V6</th>\n",
              "      <th>V7</th>\n",
              "      <th>V8</th>\n",
              "      <th>V9</th>\n",
              "      <th>V10</th>\n",
              "      <th>...</th>\n",
              "      <th>V21</th>\n",
              "      <th>V22</th>\n",
              "      <th>V23</th>\n",
              "      <th>V24</th>\n",
              "      <th>V25</th>\n",
              "      <th>V26</th>\n",
              "      <th>V27</th>\n",
              "      <th>V28</th>\n",
              "      <th>Amount</th>\n",
              "      <th>Class</th>\n",
              "    </tr>\n",
              "  </thead>\n",
              "  <tbody>\n",
              "    <tr>\n",
              "      <th>count</th>\n",
              "      <td>2.848070e+05</td>\n",
              "      <td>2.848070e+05</td>\n",
              "      <td>2.848070e+05</td>\n",
              "      <td>2.848070e+05</td>\n",
              "      <td>2.848070e+05</td>\n",
              "      <td>2.848070e+05</td>\n",
              "      <td>2.848070e+05</td>\n",
              "      <td>2.848070e+05</td>\n",
              "      <td>2.848070e+05</td>\n",
              "      <td>2.848070e+05</td>\n",
              "      <td>...</td>\n",
              "      <td>2.848070e+05</td>\n",
              "      <td>2.848070e+05</td>\n",
              "      <td>2.848070e+05</td>\n",
              "      <td>2.848070e+05</td>\n",
              "      <td>2.848070e+05</td>\n",
              "      <td>2.848070e+05</td>\n",
              "      <td>2.848070e+05</td>\n",
              "      <td>2.848070e+05</td>\n",
              "      <td>284807.000000</td>\n",
              "      <td>284807.000000</td>\n",
              "    </tr>\n",
              "    <tr>\n",
              "      <th>mean</th>\n",
              "      <td>1.168375e-15</td>\n",
              "      <td>3.416908e-16</td>\n",
              "      <td>-1.379537e-15</td>\n",
              "      <td>2.074095e-15</td>\n",
              "      <td>9.604066e-16</td>\n",
              "      <td>1.487313e-15</td>\n",
              "      <td>-5.556467e-16</td>\n",
              "      <td>1.213481e-16</td>\n",
              "      <td>-2.406331e-15</td>\n",
              "      <td>2.239053e-15</td>\n",
              "      <td>...</td>\n",
              "      <td>1.654067e-16</td>\n",
              "      <td>-3.568593e-16</td>\n",
              "      <td>2.578648e-16</td>\n",
              "      <td>4.473266e-15</td>\n",
              "      <td>5.340915e-16</td>\n",
              "      <td>1.683437e-15</td>\n",
              "      <td>-3.660091e-16</td>\n",
              "      <td>-1.227390e-16</td>\n",
              "      <td>88.349619</td>\n",
              "      <td>0.001727</td>\n",
              "    </tr>\n",
              "    <tr>\n",
              "      <th>std</th>\n",
              "      <td>1.958696e+00</td>\n",
              "      <td>1.651309e+00</td>\n",
              "      <td>1.516255e+00</td>\n",
              "      <td>1.415869e+00</td>\n",
              "      <td>1.380247e+00</td>\n",
              "      <td>1.332271e+00</td>\n",
              "      <td>1.237094e+00</td>\n",
              "      <td>1.194353e+00</td>\n",
              "      <td>1.098632e+00</td>\n",
              "      <td>1.088850e+00</td>\n",
              "      <td>...</td>\n",
              "      <td>7.345240e-01</td>\n",
              "      <td>7.257016e-01</td>\n",
              "      <td>6.244603e-01</td>\n",
              "      <td>6.056471e-01</td>\n",
              "      <td>5.212781e-01</td>\n",
              "      <td>4.822270e-01</td>\n",
              "      <td>4.036325e-01</td>\n",
              "      <td>3.300833e-01</td>\n",
              "      <td>250.120109</td>\n",
              "      <td>0.041527</td>\n",
              "    </tr>\n",
              "    <tr>\n",
              "      <th>min</th>\n",
              "      <td>-5.640751e+01</td>\n",
              "      <td>-7.271573e+01</td>\n",
              "      <td>-4.832559e+01</td>\n",
              "      <td>-5.683171e+00</td>\n",
              "      <td>-1.137433e+02</td>\n",
              "      <td>-2.616051e+01</td>\n",
              "      <td>-4.355724e+01</td>\n",
              "      <td>-7.321672e+01</td>\n",
              "      <td>-1.343407e+01</td>\n",
              "      <td>-2.458826e+01</td>\n",
              "      <td>...</td>\n",
              "      <td>-3.483038e+01</td>\n",
              "      <td>-1.093314e+01</td>\n",
              "      <td>-4.480774e+01</td>\n",
              "      <td>-2.836627e+00</td>\n",
              "      <td>-1.029540e+01</td>\n",
              "      <td>-2.604551e+00</td>\n",
              "      <td>-2.256568e+01</td>\n",
              "      <td>-1.543008e+01</td>\n",
              "      <td>0.000000</td>\n",
              "      <td>0.000000</td>\n",
              "    </tr>\n",
              "    <tr>\n",
              "      <th>25%</th>\n",
              "      <td>-9.203734e-01</td>\n",
              "      <td>-5.985499e-01</td>\n",
              "      <td>-8.903648e-01</td>\n",
              "      <td>-8.486401e-01</td>\n",
              "      <td>-6.915971e-01</td>\n",
              "      <td>-7.682956e-01</td>\n",
              "      <td>-5.540759e-01</td>\n",
              "      <td>-2.086297e-01</td>\n",
              "      <td>-6.430976e-01</td>\n",
              "      <td>-5.354257e-01</td>\n",
              "      <td>...</td>\n",
              "      <td>-2.283949e-01</td>\n",
              "      <td>-5.423504e-01</td>\n",
              "      <td>-1.618463e-01</td>\n",
              "      <td>-3.545861e-01</td>\n",
              "      <td>-3.171451e-01</td>\n",
              "      <td>-3.269839e-01</td>\n",
              "      <td>-7.083953e-02</td>\n",
              "      <td>-5.295979e-02</td>\n",
              "      <td>5.600000</td>\n",
              "      <td>0.000000</td>\n",
              "    </tr>\n",
              "    <tr>\n",
              "      <th>50%</th>\n",
              "      <td>1.810880e-02</td>\n",
              "      <td>6.548556e-02</td>\n",
              "      <td>1.798463e-01</td>\n",
              "      <td>-1.984653e-02</td>\n",
              "      <td>-5.433583e-02</td>\n",
              "      <td>-2.741871e-01</td>\n",
              "      <td>4.010308e-02</td>\n",
              "      <td>2.235804e-02</td>\n",
              "      <td>-5.142873e-02</td>\n",
              "      <td>-9.291738e-02</td>\n",
              "      <td>...</td>\n",
              "      <td>-2.945017e-02</td>\n",
              "      <td>6.781943e-03</td>\n",
              "      <td>-1.119293e-02</td>\n",
              "      <td>4.097606e-02</td>\n",
              "      <td>1.659350e-02</td>\n",
              "      <td>-5.213911e-02</td>\n",
              "      <td>1.342146e-03</td>\n",
              "      <td>1.124383e-02</td>\n",
              "      <td>22.000000</td>\n",
              "      <td>0.000000</td>\n",
              "    </tr>\n",
              "    <tr>\n",
              "      <th>75%</th>\n",
              "      <td>1.315642e+00</td>\n",
              "      <td>8.037239e-01</td>\n",
              "      <td>1.027196e+00</td>\n",
              "      <td>7.433413e-01</td>\n",
              "      <td>6.119264e-01</td>\n",
              "      <td>3.985649e-01</td>\n",
              "      <td>5.704361e-01</td>\n",
              "      <td>3.273459e-01</td>\n",
              "      <td>5.971390e-01</td>\n",
              "      <td>4.539234e-01</td>\n",
              "      <td>...</td>\n",
              "      <td>1.863772e-01</td>\n",
              "      <td>5.285536e-01</td>\n",
              "      <td>1.476421e-01</td>\n",
              "      <td>4.395266e-01</td>\n",
              "      <td>3.507156e-01</td>\n",
              "      <td>2.409522e-01</td>\n",
              "      <td>9.104512e-02</td>\n",
              "      <td>7.827995e-02</td>\n",
              "      <td>77.165000</td>\n",
              "      <td>0.000000</td>\n",
              "    </tr>\n",
              "    <tr>\n",
              "      <th>max</th>\n",
              "      <td>2.454930e+00</td>\n",
              "      <td>2.205773e+01</td>\n",
              "      <td>9.382558e+00</td>\n",
              "      <td>1.687534e+01</td>\n",
              "      <td>3.480167e+01</td>\n",
              "      <td>7.330163e+01</td>\n",
              "      <td>1.205895e+02</td>\n",
              "      <td>2.000721e+01</td>\n",
              "      <td>1.559499e+01</td>\n",
              "      <td>2.374514e+01</td>\n",
              "      <td>...</td>\n",
              "      <td>2.720284e+01</td>\n",
              "      <td>1.050309e+01</td>\n",
              "      <td>2.252841e+01</td>\n",
              "      <td>4.584549e+00</td>\n",
              "      <td>7.519589e+00</td>\n",
              "      <td>3.517346e+00</td>\n",
              "      <td>3.161220e+01</td>\n",
              "      <td>3.384781e+01</td>\n",
              "      <td>25691.160000</td>\n",
              "      <td>1.000000</td>\n",
              "    </tr>\n",
              "  </tbody>\n",
              "</table>\n",
              "<p>8 rows × 30 columns</p>\n",
              "</div>\n",
              "    <div class=\"colab-df-buttons\">\n",
              "\n",
              "  <div class=\"colab-df-container\">\n",
              "    <button class=\"colab-df-convert\" onclick=\"convertToInteractive('df-7bcef93e-4e04-42f3-a889-94c764b75eca')\"\n",
              "            title=\"Convert this dataframe to an interactive table.\"\n",
              "            style=\"display:none;\">\n",
              "\n",
              "  <svg xmlns=\"http://www.w3.org/2000/svg\" height=\"24px\" viewBox=\"0 -960 960 960\">\n",
              "    <path d=\"M120-120v-720h720v720H120Zm60-500h600v-160H180v160Zm220 220h160v-160H400v160Zm0 220h160v-160H400v160ZM180-400h160v-160H180v160Zm440 0h160v-160H620v160ZM180-180h160v-160H180v160Zm440 0h160v-160H620v160Z\"/>\n",
              "  </svg>\n",
              "    </button>\n",
              "\n",
              "  <style>\n",
              "    .colab-df-container {\n",
              "      display:flex;\n",
              "      gap: 12px;\n",
              "    }\n",
              "\n",
              "    .colab-df-convert {\n",
              "      background-color: #E8F0FE;\n",
              "      border: none;\n",
              "      border-radius: 50%;\n",
              "      cursor: pointer;\n",
              "      display: none;\n",
              "      fill: #1967D2;\n",
              "      height: 32px;\n",
              "      padding: 0 0 0 0;\n",
              "      width: 32px;\n",
              "    }\n",
              "\n",
              "    .colab-df-convert:hover {\n",
              "      background-color: #E2EBFA;\n",
              "      box-shadow: 0px 1px 2px rgba(60, 64, 67, 0.3), 0px 1px 3px 1px rgba(60, 64, 67, 0.15);\n",
              "      fill: #174EA6;\n",
              "    }\n",
              "\n",
              "    .colab-df-buttons div {\n",
              "      margin-bottom: 4px;\n",
              "    }\n",
              "\n",
              "    [theme=dark] .colab-df-convert {\n",
              "      background-color: #3B4455;\n",
              "      fill: #D2E3FC;\n",
              "    }\n",
              "\n",
              "    [theme=dark] .colab-df-convert:hover {\n",
              "      background-color: #434B5C;\n",
              "      box-shadow: 0px 1px 3px 1px rgba(0, 0, 0, 0.15);\n",
              "      filter: drop-shadow(0px 1px 2px rgba(0, 0, 0, 0.3));\n",
              "      fill: #FFFFFF;\n",
              "    }\n",
              "  </style>\n",
              "\n",
              "    <script>\n",
              "      const buttonEl =\n",
              "        document.querySelector('#df-7bcef93e-4e04-42f3-a889-94c764b75eca button.colab-df-convert');\n",
              "      buttonEl.style.display =\n",
              "        google.colab.kernel.accessAllowed ? 'block' : 'none';\n",
              "\n",
              "      async function convertToInteractive(key) {\n",
              "        const element = document.querySelector('#df-7bcef93e-4e04-42f3-a889-94c764b75eca');\n",
              "        const dataTable =\n",
              "          await google.colab.kernel.invokeFunction('convertToInteractive',\n",
              "                                                    [key], {});\n",
              "        if (!dataTable) return;\n",
              "\n",
              "        const docLinkHtml = 'Like what you see? Visit the ' +\n",
              "          '<a target=\"_blank\" href=https://colab.research.google.com/notebooks/data_table.ipynb>data table notebook</a>'\n",
              "          + ' to learn more about interactive tables.';\n",
              "        element.innerHTML = '';\n",
              "        dataTable['output_type'] = 'display_data';\n",
              "        await google.colab.output.renderOutput(dataTable, element);\n",
              "        const docLink = document.createElement('div');\n",
              "        docLink.innerHTML = docLinkHtml;\n",
              "        element.appendChild(docLink);\n",
              "      }\n",
              "    </script>\n",
              "  </div>\n",
              "\n",
              "\n",
              "    <div id=\"df-f5d3a2d1-6151-4e2f-a178-ade5595facec\">\n",
              "      <button class=\"colab-df-quickchart\" onclick=\"quickchart('df-f5d3a2d1-6151-4e2f-a178-ade5595facec')\"\n",
              "                title=\"Suggest charts\"\n",
              "                style=\"display:none;\">\n",
              "\n",
              "<svg xmlns=\"http://www.w3.org/2000/svg\" height=\"24px\"viewBox=\"0 0 24 24\"\n",
              "     width=\"24px\">\n",
              "    <g>\n",
              "        <path d=\"M19 3H5c-1.1 0-2 .9-2 2v14c0 1.1.9 2 2 2h14c1.1 0 2-.9 2-2V5c0-1.1-.9-2-2-2zM9 17H7v-7h2v7zm4 0h-2V7h2v10zm4 0h-2v-4h2v4z\"/>\n",
              "    </g>\n",
              "</svg>\n",
              "      </button>\n",
              "\n",
              "<style>\n",
              "  .colab-df-quickchart {\n",
              "      --bg-color: #E8F0FE;\n",
              "      --fill-color: #1967D2;\n",
              "      --hover-bg-color: #E2EBFA;\n",
              "      --hover-fill-color: #174EA6;\n",
              "      --disabled-fill-color: #AAA;\n",
              "      --disabled-bg-color: #DDD;\n",
              "  }\n",
              "\n",
              "  [theme=dark] .colab-df-quickchart {\n",
              "      --bg-color: #3B4455;\n",
              "      --fill-color: #D2E3FC;\n",
              "      --hover-bg-color: #434B5C;\n",
              "      --hover-fill-color: #FFFFFF;\n",
              "      --disabled-bg-color: #3B4455;\n",
              "      --disabled-fill-color: #666;\n",
              "  }\n",
              "\n",
              "  .colab-df-quickchart {\n",
              "    background-color: var(--bg-color);\n",
              "    border: none;\n",
              "    border-radius: 50%;\n",
              "    cursor: pointer;\n",
              "    display: none;\n",
              "    fill: var(--fill-color);\n",
              "    height: 32px;\n",
              "    padding: 0;\n",
              "    width: 32px;\n",
              "  }\n",
              "\n",
              "  .colab-df-quickchart:hover {\n",
              "    background-color: var(--hover-bg-color);\n",
              "    box-shadow: 0 1px 2px rgba(60, 64, 67, 0.3), 0 1px 3px 1px rgba(60, 64, 67, 0.15);\n",
              "    fill: var(--button-hover-fill-color);\n",
              "  }\n",
              "\n",
              "  .colab-df-quickchart-complete:disabled,\n",
              "  .colab-df-quickchart-complete:disabled:hover {\n",
              "    background-color: var(--disabled-bg-color);\n",
              "    fill: var(--disabled-fill-color);\n",
              "    box-shadow: none;\n",
              "  }\n",
              "\n",
              "  .colab-df-spinner {\n",
              "    border: 2px solid var(--fill-color);\n",
              "    border-color: transparent;\n",
              "    border-bottom-color: var(--fill-color);\n",
              "    animation:\n",
              "      spin 1s steps(1) infinite;\n",
              "  }\n",
              "\n",
              "  @keyframes spin {\n",
              "    0% {\n",
              "      border-color: transparent;\n",
              "      border-bottom-color: var(--fill-color);\n",
              "      border-left-color: var(--fill-color);\n",
              "    }\n",
              "    20% {\n",
              "      border-color: transparent;\n",
              "      border-left-color: var(--fill-color);\n",
              "      border-top-color: var(--fill-color);\n",
              "    }\n",
              "    30% {\n",
              "      border-color: transparent;\n",
              "      border-left-color: var(--fill-color);\n",
              "      border-top-color: var(--fill-color);\n",
              "      border-right-color: var(--fill-color);\n",
              "    }\n",
              "    40% {\n",
              "      border-color: transparent;\n",
              "      border-right-color: var(--fill-color);\n",
              "      border-top-color: var(--fill-color);\n",
              "    }\n",
              "    60% {\n",
              "      border-color: transparent;\n",
              "      border-right-color: var(--fill-color);\n",
              "    }\n",
              "    80% {\n",
              "      border-color: transparent;\n",
              "      border-right-color: var(--fill-color);\n",
              "      border-bottom-color: var(--fill-color);\n",
              "    }\n",
              "    90% {\n",
              "      border-color: transparent;\n",
              "      border-bottom-color: var(--fill-color);\n",
              "    }\n",
              "  }\n",
              "</style>\n",
              "\n",
              "      <script>\n",
              "        async function quickchart(key) {\n",
              "          const quickchartButtonEl =\n",
              "            document.querySelector('#' + key + ' button');\n",
              "          quickchartButtonEl.disabled = true;  // To prevent multiple clicks.\n",
              "          quickchartButtonEl.classList.add('colab-df-spinner');\n",
              "          try {\n",
              "            const charts = await google.colab.kernel.invokeFunction(\n",
              "                'suggestCharts', [key], {});\n",
              "          } catch (error) {\n",
              "            console.error('Error during call to suggestCharts:', error);\n",
              "          }\n",
              "          quickchartButtonEl.classList.remove('colab-df-spinner');\n",
              "          quickchartButtonEl.classList.add('colab-df-quickchart-complete');\n",
              "        }\n",
              "        (() => {\n",
              "          let quickchartButtonEl =\n",
              "            document.querySelector('#df-f5d3a2d1-6151-4e2f-a178-ade5595facec button');\n",
              "          quickchartButtonEl.style.display =\n",
              "            google.colab.kernel.accessAllowed ? 'block' : 'none';\n",
              "        })();\n",
              "      </script>\n",
              "    </div>\n",
              "\n",
              "    </div>\n",
              "  </div>\n"
            ],
            "application/vnd.google.colaboratory.intrinsic+json": {
              "type": "dataframe"
            }
          },
          "metadata": {},
          "execution_count": 5
        }
      ],
      "source": [
        "df.describe()"
      ]
    },
    {
      "cell_type": "code",
      "execution_count": null,
      "id": "306b3e6f",
      "metadata": {
        "colab": {
          "base_uri": "https://localhost:8080/"
        },
        "id": "306b3e6f",
        "outputId": "285d7cab-db1f-4fc5-9010-58a006300a1f"
      },
      "outputs": [
        {
          "output_type": "stream",
          "name": "stdout",
          "text": [
            "Dataset has 9144 duplicate rows\n"
          ]
        }
      ],
      "source": [
        "# checking for duplicate values\n",
        "print(f\"Dataset has {df.duplicated().sum()} duplicate rows\")\n",
        "# dropping duplicate rows\n",
        "df.drop_duplicates(inplace=True)"
      ]
    },
    {
      "cell_type": "code",
      "execution_count": null,
      "id": "8b2f4c06",
      "metadata": {
        "colab": {
          "base_uri": "https://localhost:8080/"
        },
        "id": "8b2f4c06",
        "outputId": "49d3ab69-776c-4738-e3ed-ef40da34a10b"
      },
      "outputs": [
        {
          "output_type": "stream",
          "name": "stdout",
          "text": [
            "<class 'pandas.core.frame.DataFrame'>\n",
            "Index: 275663 entries, 0 to 284806\n",
            "Data columns (total 30 columns):\n",
            " #   Column  Non-Null Count   Dtype  \n",
            "---  ------  --------------   -----  \n",
            " 0   V1      275663 non-null  float64\n",
            " 1   V2      275663 non-null  float64\n",
            " 2   V3      275663 non-null  float64\n",
            " 3   V4      275663 non-null  float64\n",
            " 4   V5      275663 non-null  float64\n",
            " 5   V6      275663 non-null  float64\n",
            " 6   V7      275663 non-null  float64\n",
            " 7   V8      275663 non-null  float64\n",
            " 8   V9      275663 non-null  float64\n",
            " 9   V10     275663 non-null  float64\n",
            " 10  V11     275663 non-null  float64\n",
            " 11  V12     275663 non-null  float64\n",
            " 12  V13     275663 non-null  float64\n",
            " 13  V14     275663 non-null  float64\n",
            " 14  V15     275663 non-null  float64\n",
            " 15  V16     275663 non-null  float64\n",
            " 16  V17     275663 non-null  float64\n",
            " 17  V18     275663 non-null  float64\n",
            " 18  V19     275663 non-null  float64\n",
            " 19  V20     275663 non-null  float64\n",
            " 20  V21     275663 non-null  float64\n",
            " 21  V22     275663 non-null  float64\n",
            " 22  V23     275663 non-null  float64\n",
            " 23  V24     275663 non-null  float64\n",
            " 24  V25     275663 non-null  float64\n",
            " 25  V26     275663 non-null  float64\n",
            " 26  V27     275663 non-null  float64\n",
            " 27  V28     275663 non-null  float64\n",
            " 28  Amount  275663 non-null  float64\n",
            " 29  Class   275663 non-null  int64  \n",
            "dtypes: float64(29), int64(1)\n",
            "memory usage: 65.2 MB\n"
          ]
        }
      ],
      "source": [
        "df.info()"
      ]
    },
    {
      "cell_type": "markdown",
      "id": "c5128908",
      "metadata": {
        "id": "c5128908"
      },
      "source": [
        "There is no null values"
      ]
    },
    {
      "cell_type": "code",
      "execution_count": null,
      "id": "9d6c996a",
      "metadata": {
        "colab": {
          "base_uri": "https://localhost:8080/"
        },
        "id": "9d6c996a",
        "outputId": "f97db604-53bf-4506-bdc1-3f5f91e6612e"
      },
      "outputs": [
        {
          "output_type": "stream",
          "name": "stdout",
          "text": [
            "No Frauds 99.83 % of the dataset\n",
            "Frauds 0.17 % of the dataset\n"
          ]
        }
      ],
      "source": [
        "print('No Frauds', round(df['Class'].value_counts()[0]/len(df) * 100,2), '% of the dataset')\n",
        "print('Frauds', round(df['Class'].value_counts()[1]/len(df) * 100,2), '% of the dataset')"
      ]
    },
    {
      "cell_type": "code",
      "execution_count": null,
      "id": "d88ad047",
      "metadata": {
        "colab": {
          "base_uri": "https://localhost:8080/",
          "height": 466
        },
        "id": "d88ad047",
        "outputId": "4b6b9a69-edf3-4df5-b122-4c01add3362c"
      },
      "outputs": [
        {
          "output_type": "execute_result",
          "data": {
            "text/plain": [
              "<Axes: xlabel='Class', ylabel='count'>"
            ]
          },
          "metadata": {},
          "execution_count": 9
        },
        {
          "output_type": "display_data",
          "data": {
            "text/plain": [
              "<Figure size 640x480 with 1 Axes>"
            ],
            "image/png": "[encoded data removed]"
          },
          "metadata": {}
        }
      ],
      "source": [
        "sns.countplot(data=df,x='Class')"
      ]
    },
    {
      "cell_type": "code",
      "execution_count": null,
      "id": "30728ee8",
      "metadata": {
        "colab": {
          "base_uri": "https://localhost:8080/",
          "height": 993
        },
        "id": "30728ee8",
        "outputId": "e706918f-b4b7-4a69-ee2e-6ba17127895f"
      },
      "outputs": [
        {
          "output_type": "execute_result",
          "data": {
            "text/plain": [
              "V1        -3.273070\n",
              "V2        -4.653486\n",
              "V3        -2.216730\n",
              "V4         0.681387\n",
              "V5        -2.458790\n",
              "V6         1.867576\n",
              "V7         2.877722\n",
              "V8        -8.292631\n",
              "V9         0.550965\n",
              "V10        1.242165\n",
              "V11        0.347772\n",
              "V12       -2.208171\n",
              "V13        0.061058\n",
              "V14       -1.953613\n",
              "V15       -0.295836\n",
              "V16       -1.048371\n",
              "V17       -3.802987\n",
              "V18       -0.255710\n",
              "V19        0.115957\n",
              "V20       -2.045060\n",
              "V21        2.784302\n",
              "V22       -0.200868\n",
              "V23       -5.805236\n",
              "V24       -0.545636\n",
              "V25       -0.408260\n",
              "V26        0.587603\n",
              "V27       -0.745732\n",
              "V28       11.400938\n",
              "Amount    16.841622\n",
              "dtype: float64"
            ],
            "text/html": [
              "<div>\n",
              "<style scoped>\n",
              "    .dataframe tbody tr th:only-of-type {\n",
              "        vertical-align: middle;\n",
              "    }\n",
              "\n",
              "    .dataframe tbody tr th {\n",
              "        vertical-align: top;\n",
              "    }\n",
              "\n",
              "    .dataframe thead th {\n",
              "        text-align: right;\n",
              "    }\n",
              "</style>\n",
              "<table border=\"1\" class=\"dataframe\">\n",
              "  <thead>\n",
              "    <tr style=\"text-align: right;\">\n",
              "      <th></th>\n",
              "      <th>0</th>\n",
              "    </tr>\n",
              "  </thead>\n",
              "  <tbody>\n",
              "    <tr>\n",
              "      <th>V1</th>\n",
              "      <td>-3.273070</td>\n",
              "    </tr>\n",
              "    <tr>\n",
              "      <th>V2</th>\n",
              "      <td>-4.653486</td>\n",
              "    </tr>\n",
              "    <tr>\n",
              "      <th>V3</th>\n",
              "      <td>-2.216730</td>\n",
              "    </tr>\n",
              "    <tr>\n",
              "      <th>V4</th>\n",
              "      <td>0.681387</td>\n",
              "    </tr>\n",
              "    <tr>\n",
              "      <th>V5</th>\n",
              "      <td>-2.458790</td>\n",
              "    </tr>\n",
              "    <tr>\n",
              "      <th>V6</th>\n",
              "      <td>1.867576</td>\n",
              "    </tr>\n",
              "    <tr>\n",
              "      <th>V7</th>\n",
              "      <td>2.877722</td>\n",
              "    </tr>\n",
              "    <tr>\n",
              "      <th>V8</th>\n",
              "      <td>-8.292631</td>\n",
              "    </tr>\n",
              "    <tr>\n",
              "      <th>V9</th>\n",
              "      <td>0.550965</td>\n",
              "    </tr>\n",
              "    <tr>\n",
              "      <th>V10</th>\n",
              "      <td>1.242165</td>\n",
              "    </tr>\n",
              "    <tr>\n",
              "      <th>V11</th>\n",
              "      <td>0.347772</td>\n",
              "    </tr>\n",
              "    <tr>\n",
              "      <th>V12</th>\n",
              "      <td>-2.208171</td>\n",
              "    </tr>\n",
              "    <tr>\n",
              "      <th>V13</th>\n",
              "      <td>0.061058</td>\n",
              "    </tr>\n",
              "    <tr>\n",
              "      <th>V14</th>\n",
              "      <td>-1.953613</td>\n",
              "    </tr>\n",
              "    <tr>\n",
              "      <th>V15</th>\n",
              "      <td>-0.295836</td>\n",
              "    </tr>\n",
              "    <tr>\n",
              "      <th>V16</th>\n",
              "      <td>-1.048371</td>\n",
              "    </tr>\n",
              "    <tr>\n",
              "      <th>V17</th>\n",
              "      <td>-3.802987</td>\n",
              "    </tr>\n",
              "    <tr>\n",
              "      <th>V18</th>\n",
              "      <td>-0.255710</td>\n",
              "    </tr>\n",
              "    <tr>\n",
              "      <th>V19</th>\n",
              "      <td>0.115957</td>\n",
              "    </tr>\n",
              "    <tr>\n",
              "      <th>V20</th>\n",
              "      <td>-2.045060</td>\n",
              "    </tr>\n",
              "    <tr>\n",
              "      <th>V21</th>\n",
              "      <td>2.784302</td>\n",
              "    </tr>\n",
              "    <tr>\n",
              "      <th>V22</th>\n",
              "      <td>-0.200868</td>\n",
              "    </tr>\n",
              "    <tr>\n",
              "      <th>V23</th>\n",
              "      <td>-5.805236</td>\n",
              "    </tr>\n",
              "    <tr>\n",
              "      <th>V24</th>\n",
              "      <td>-0.545636</td>\n",
              "    </tr>\n",
              "    <tr>\n",
              "      <th>V25</th>\n",
              "      <td>-0.408260</td>\n",
              "    </tr>\n",
              "    <tr>\n",
              "      <th>V26</th>\n",
              "      <td>0.587603</td>\n",
              "    </tr>\n",
              "    <tr>\n",
              "      <th>V27</th>\n",
              "      <td>-0.745732</td>\n",
              "    </tr>\n",
              "    <tr>\n",
              "      <th>V28</th>\n",
              "      <td>11.400938</td>\n",
              "    </tr>\n",
              "    <tr>\n",
              "      <th>Amount</th>\n",
              "      <td>16.841622</td>\n",
              "    </tr>\n",
              "  </tbody>\n",
              "</table>\n",
              "</div><br><label><b>dtype:</b> float64</label>"
            ]
          },
          "metadata": {},
          "execution_count": 10
        }
      ],
      "source": [
        "df.drop('Class',axis=1).skew()"
      ]
    },
    {
      "cell_type": "code",
      "execution_count": null,
      "id": "d74277ea",
      "metadata": {
        "colab": {
          "base_uri": "https://localhost:8080/",
          "height": 467
        },
        "id": "d74277ea",
        "outputId": "2eeea1ee-938c-4c42-c634-92898ae7276d"
      },
      "outputs": [
        {
          "output_type": "execute_result",
          "data": {
            "text/plain": [
              "<Axes: xlabel='Amount', ylabel='Density'>"
            ]
          },
          "metadata": {},
          "execution_count": 11
        },
        {
          "output_type": "display_data",
          "data": {
            "text/plain": [
              "<Figure size 640x480 with 1 Axes>"
            ],
            "image/png": "[encoded data removed]"
          },
          "metadata": {}
        }
      ],
      "source": [
        "sns.kdeplot(df['Amount'])"
      ]
    },
    {
      "cell_type": "code",
      "execution_count": null,
      "id": "bd8cb1b8",
      "metadata": {
        "colab": {
          "base_uri": "https://localhost:8080/",
          "height": 466
        },
        "id": "bd8cb1b8",
        "outputId": "a61b24cd-de39-40ff-ca93-49a7da09a0f4"
      },
      "outputs": [
        {
          "output_type": "execute_result",
          "data": {
            "text/plain": [
              "<Axes: xlabel='Amount', ylabel='Density'>"
            ]
          },
          "metadata": {},
          "execution_count": 12
        },
        {
          "output_type": "display_data",
          "data": {
            "text/plain": [
              "<Figure size 640x480 with 1 Axes>"
            ],
            "image/png": "[encoded data removed]"
          },
          "metadata": {}
        }
      ],
      "source": [
        "df['Amount'] = df['Amount'].apply(lambda x: np.log10(x+1))\n",
        "sns.kdeplot(df['Amount'])"
      ]
    },
    {
      "cell_type": "markdown",
      "id": "284d6f22",
      "metadata": {
        "id": "284d6f22"
      },
      "source": [
        "## Creating a sub sample"
      ]
    },
    {
      "cell_type": "markdown",
      "id": "0a068d5c",
      "metadata": {
        "id": "0a068d5c"
      },
      "source": [
        "What - create a[](http://) df with equal number of fraud and non fraud samples  \n",
        "Why - Although we don't know what the \"V\" features stand for, it will be useful to understand how each of this features influence the target. By having an imbalance dataframe we are not able to see the true correlations between the class and features"
      ]
    },
    {
      "cell_type": "code",
      "execution_count": null,
      "id": "555570b8",
      "metadata": {
        "id": "555570b8"
      },
      "outputs": [],
      "source": [
        "df = df.sample(frac=1)\n",
        "\n",
        "fraud_df = df.loc[df['Class'] == 1]\n",
        "non_fraud_df = df.loc[df['Class'] == 0][:492]\n",
        "\n",
        "subsample = pd.concat([fraud_df, non_fraud_df])\n",
        "new_df = subsample.sample(frac=1, random_state=42)"
      ]
    },
    {
      "cell_type": "markdown",
      "id": "6ece260f",
      "metadata": {
        "id": "6ece260f"
      },
      "source": [
        "### Correlation"
      ]
    },
    {
      "cell_type": "code",
      "execution_count": null,
      "id": "b4be44b5",
      "metadata": {
        "colab": {
          "base_uri": "https://localhost:8080/",
          "height": 542
        },
        "id": "b4be44b5",
        "outputId": "4410a15b-d49b-4e2b-a046-0493fa0c1306"
      },
      "outputs": [
        {
          "output_type": "display_data",
          "data": {
            "text/html": [
              "<html>\n",
              "<head><meta charset=\"utf-8\" /></head>\n",
              "<body>\n",
              "    <div>            <script src=\"https://cdnjs.cloudflare.com/ajax/libs/mathjax/2.7.5/MathJax.js?config=TeX-AMS-MML_SVG\"></script><script type=\"text/javascript\">if (window.MathJax && window.MathJax.Hub && window.MathJax.Hub.Config) {window.MathJax.Hub.Config({SVG: {font: \"STIX-Web\"}});}</script>                <script type=\"text/javascript\">window.PlotlyConfig = {MathJaxConfig: 'local'};</script>\n",
              "        <script charset=\"utf-8\" src=\"https://cdn.plot.ly/plotly-2.35.2.min.js\"></script>                <div id=\"c7519536-c19c-4f1b-b5ca-39a39a214f5f\" class=\"plotly-graph-div\" style=\"height:525px; width:100%;\"></div>            <script type=\"text/javascript\">                                    window.PLOTLYENV=window.PLOTLYENV || {};                                    if (document.getElementById(\"c7519536-c19c-4f1b-b5ca-39a39a214f5f\")) {                    Plotly.newPlot(                        \"c7519536-c19c-4f1b-b5ca-39a39a214f5f\",                        [{\"coloraxis\":\"coloraxis\",\"name\":\"0\",\"x\":[\"V1\",\"V2\",\"V3\",\"V4\",\"V5\",\"V6\",\"V7\",\"V8\",\"V9\",\"V10\",\"V11\",\"V12\",\"V13\",\"V14\",\"V15\",\"V16\",\"V17\",\"V18\",\"V19\",\"V20\",\"V21\",\"V22\",\"V23\",\"V24\",\"V25\",\"V26\",\"V27\",\"V28\",\"Amount\",\"Class\"],\"y\":[\"V1\",\"V2\",\"V3\",\"V4\",\"V5\",\"V6\",\"V7\",\"V8\",\"V9\",\"V10\",\"V11\",\"V12\",\"V13\",\"V14\",\"V15\",\"V16\",\"V17\",\"V18\",\"V19\",\"V20\",\"V21\",\"V22\",\"V23\",\"V24\",\"V25\",\"V26\",\"V27\",\"V28\",\"Amount\",\"Class\"],\"z\":[[1.0,0.009002056630572746,0.005951870323344337,-0.0000417336377227977,-0.01859293139425861,-0.005788588932603502,-0.006842588291336107,-0.0004903017705978048,-0.007093188184084895,0.003115080433367663,-0.005238361152132158,-0.005224732658887895,0.0001760739717021966,-0.00016701663809462887,-0.008538155507659238,-0.006376158582724052,-0.001709260494715847,-0.0000371181258513913,-0.00036578698126048893,0.0031085360485397975,0.006003695030846173,0.0036338595739369667,-0.007503985473869307,-0.009326773224502647,-0.004446136018296145,-0.002436423100703862,-0.014628053567675716,-0.0035550069411658686,-0.07669206550361414,-0.09471828027403725],[0.009002056630572746,1.0,0.004976420415917227,-0.00409478303282203,0.004654828151539833,0.004290266474645351,0.004866010897475141,0.0037426936559328424,0.0011157645474232222,0.0027641737994162524,-0.001808464017748923,0.0014801177085390338,0.0004607696108804642,0.004771739778601155,0.0011762916062601017,0.002647560716106725,0.0013035840599431832,0.0003630379040186032,0.0011638151899723875,-0.0003388726980983281,-0.003880671951278676,0.0029086740053363477,-0.0036886296217178856,0.0019735168281252474,-0.002836931404197424,-0.00029605968574441936,0.007251624234862238,0.0014575992938971312,-0.4593975292964783,0.08475425481454545],[0.005951870323344337,0.004976420415917227,1.0,-0.0007207506128839502,0.011019512449786209,0.014780101443837214,-0.01401559029072617,0.003733210299163523,-0.0028955310476305555,-0.011064456582014555,0.003763268329471269,-0.003365403264207823,-0.0007532888104511439,-0.008208455227591394,0.0033238924517765994,0.0003360330653480027,-0.0028131327390716406,-0.003876447934607426,-0.0008279699688052619,-0.004587224438279604,0.001817856278022361,-0.004202923672142416,0.0021830017967685842,0.009782012846899559,0.004090898265090184,0.0035960608038175554,-0.008780490220863161,-0.0024539941230242506,-0.05301909618409768,-0.18577174362070203],[-0.0000417336377227977,-0.00409478303282203,-0.0007207506128839502,1.0,0.006710184917377013,0.01253461998616256,0.0008061613152965012,0.004996484520262731,0.0013954678785992733,0.0033663943727186654,-0.0044018120269156994,0.0005605366567562692,0.00033240074820582564,0.005335596702448595,0.0040450918954561205,0.001782628562681785,0.0016328679540392273,0.0015686647749632977,0.005018282953491134,0.001165410096173223,-0.000622586205665439,0.0015809695312210001,-0.0001547536737260349,0.005759384705327735,0.00017302609596239795,-0.001105267971374497,0.0025173272107862628,0.00002844701328977231,-0.0006991724135757552,0.13031328765078984],[-0.01859293139425861,0.004654828151539833,0.011019512449786209,0.006710184917377013,1.0,-0.029700785735833346,-0.0091066325015801,-0.002605287522407433,-0.0007861995616427766,-0.0028177407252068017,-0.0029651575403908336,-0.0003427722292888451,0.0012005945355469823,0.0051745275252922515,-0.00712199454352106,-0.004147091486085945,-0.005421946975850496,-0.003108216609260067,0.00035056602265905504,-0.0007880754250587789,0.0034392276588518533,0.0029714567709645144,-0.0010578383026695684,-0.012633613332769671,-0.0048623044158974445,-0.0015684754955836236,-0.006115679435720764,-0.0007109361143902744,-0.28520207300738326,-0.08864223740340568],[-0.005788588932603502,0.004290266474645351,0.014780101443837214,0.01253461998616256,-0.029700785735833346,1.0,0.013087429720545841,-0.01230089707201658,-0.0022898994434729287,-0.002722885639660942,0.0004459549207897106,0.004288005962351909,-0.0001395465488948935,0.0001777252982954124,-0.009362574711092916,-0.0025379738409453574,0.0017467394403829395,0.000734118137379428,0.0008803306295040826,-0.0018348819521768524,-0.0015842250415122267,0.0023550476524280693,-0.0002208036105658741,-0.021097673272292547,-0.006673263711385849,0.0007018999138725948,-0.0015773843269399363,0.0006170632194786751,0.17594040694236845,-0.044776655795791584],[-0.006842588291336107,0.004866010897475141,-0.01401559029072617,0.0008061613152965012,-0.0091066325015801,0.013087429720545841,1.0,-0.0009866326473795092,-0.0016570505889462828,-0.01224557536702291,0.001731286229372137,-0.007377770947454675,0.001019065433844162,-0.0020063821639051513,0.002164699457077313,-0.003553367501272567,-0.009984959755663285,-0.004092121223166103,0.0005896092117489425,-0.0021958273347810796,0.008634730211603483,-0.0017008984979523852,0.0034580507880621527,0.005375437011175928,0.0020698078979523777,-0.00045883836790301007,-0.003977219873228659,0.0013292721181322807,0.09665909375065668,-0.1732918453621183],[-0.0004903017705978048,0.0037426936559328424,0.003733210299163523,0.004996484520262731,-0.002605287522407433,-0.01230089707201658,-0.0009866326473795092,1.0,0.00016845994784139915,0.00023852276984058285,0.0051651377768949696,-0.004133687695665088,-0.001341333091920354,-0.009568384289532151,-0.00232234643993568,-0.00686830785829501,-0.006049143384273965,-0.0020921198093683843,0.0008553714180542729,0.0005621589466950696,0.01880555347464138,-0.005181868541496887,0.006461216507352067,-0.006000318559470957,-0.002826501198408585,-0.001122489841986529,-0.0001082666766957343,0.00020087170096176499,-0.021610377555365358,0.03336438460284882],[-0.007093188184084895,0.0011157645474232222,-0.0028955310476305555,0.0013954678785992733,-0.0007861995616427766,-0.0022898994434729287,-0.0016570505889462828,0.00016845994784139915,1.0,-0.004956960977232574,-0.0015831315122645155,0.00022093464914159987,-0.00025906269002490566,-0.005124874206624914,-0.0049122723369861045,0.0026803399946648382,-0.00048754043251913966,-0.0009567733050660148,-0.0009356707772171015,0.0006125813121427962,0.0017444713839398552,0.000741762274653762,-0.0017392600161237207,-0.00245409131587395,-0.00035765868608074767,0.0053074591701635036,0.00806589093474832,0.006486668776329327,-0.07379718375060627,-0.09458275894221954],[0.003115080433367663,0.0027641737994162524,-0.011064456582014555,0.0033663943727186654,-0.0028177407252068017,-0.002722885639660942,-0.01224557536702291,0.00023852276984058285,-0.004956960977232574,1.0,0.00521132591381347,-0.007394681979456934,0.0008896964509361895,-0.0046159222671411,0.003366010902797578,-0.003637165067540779,-0.0018408332602425823,0.0009112200184282284,0.0003790291088673551,-0.004506172251322995,0.0023955011018212875,-0.003012080922121341,0.0017604510466674682,0.0010149187965122484,0.0024991028176016123,-0.0008588947666105184,0.011495357691488168,0.009956260833450487,-0.01649504028612469,-0.20810420388533998],[-0.005238361152132158,-0.001808464017748923,0.003763268329471269,-0.0044018120269156994,-0.0029651575403908336,0.0004459549207897106,0.001731286229372137,0.0051651377768949696,-0.0015831315122645155,0.00521132591381347,1.0,0.0038569701711923016,0.001372239958587207,0.01005163759190274,-0.002381767700422716,0.0010450899175577203,0.00012728508810081504,-0.0017349245158463757,0.002067554253991036,-0.00028967667925707447,-0.0023308194112002805,0.0008035998110590779,-0.0008390469723996339,0.0015836370718235746,-0.0032093521987376383,-0.0020645266678812843,0.002434704351628527,0.0021758658346354934,-0.04305344263458092,0.15126045335714652],[-0.005224732658887895,0.0014801177085390338,-0.003365403264207823,0.0005605366567562692,-0.0003427722292888451,0.004288005962351909,-0.007377770947454675,-0.004133687695665088,0.00022093464914159987,-0.007394681979456934,0.0038569701711923016,1.0,0.00253231436404739,-0.0040605989164581215,0.0017273304728851763,-0.007692279149880048,-0.007394531288473133,-0.0007609712734103349,-0.0017433222825322496,0.002041356080798902,0.004192083404063645,0.00296665446897064,-0.0011010633955008857,0.0016954532680858783,0.0007319178597714848,-0.002010883823918581,-0.0007758604396771113,-0.00017303047803580583,-0.011033406249319415,-0.25314979499997337],[0.0001760739717021966,0.0004607696108804642,-0.0007532888104511439,0.00033240074820582564,0.0012005945355469823,-0.0001395465488948935,0.001019065433844162,-0.001341333091920354,-0.00025906269002490566,0.0008896964509361895,0.001372239958587207,0.00253231436404739,1.0,-0.003479566711820828,0.002514568842396214,-0.0022096783650526622,-0.0003147036842397199,0.0008394873375494892,0.0010715570383271846,-0.0006206148356032075,0.001100545391009352,0.00021352603227365414,0.0007110910522849462,-0.00101406818677506,-0.00005911039298916354,0.0008868780941754709,-0.0014510102497142926,-0.0003797505758876411,-0.006205009221444138,-0.003934245314299131],[-0.00016701663809462887,0.004771739778601155,-0.008208455227591394,0.005335596702448595,0.0051745275252922515,0.0001777252982954124,-0.0020063821639051513,-0.009568384289532151,-0.005124874206624914,-0.0046159222671411,0.01005163759190274,-0.0040605989164581215,-0.003479566711820828,1.0,0.0026244836316104293,-0.0033203068499791486,0.0009197230024976983,0.0014131471241991915,-0.0007510941548648769,0.0036834571970599667,0.004710627375381714,-0.004794790558038996,0.0009289389054848225,0.00033180031929475447,0.002076816857514122,0.0014042703420475721,-0.0038284420292789504,-0.003178202426597171,0.021382782639850807,-0.2975497797564462],[-0.008538155507659238,0.0011762916062601017,0.0033238924517765994,0.0040450918954561205,-0.00712199454352106,-0.009362574711092916,0.002164699457077313,-0.00232234643993568,-0.0049122723369861045,0.003366010902797578,-0.002381767700422716,0.0017273304728851763,0.002514568842396214,0.0026244836316104293,1.0,-0.0049167803684991886,-0.000602707280832895,-0.0008590147198242552,0.003386534076430498,0.00037508917068978707,0.0011372992637743707,0.0025790032134958376,0.0007269407316841857,-0.008460676558177659,-0.008245117506923215,0.001924152123098672,-0.001472270018201756,0.00015627937832904049,-0.05445302096354143,-0.002823966145014413],[-0.006376158582724052,0.002647560716106725,0.0003360330653480027,0.001782628562681785,-0.004147091486085945,-0.0025379738409453574,-0.003553367501272567,-0.00686830785829501,0.0026803399946648382,-0.003637165067540779,0.0010450899175577203,-0.007692279149880048,-0.0022096783650526622,-0.0033203068499791486,-0.0049167803684991886,1.0,-0.010046388062465949,-0.009275590059228305,0.0024073594302017635,0.0004240054532787984,0.005267154400499327,0.0032960882528521277,0.0015241836118117076,-0.004436914287115015,-0.002463651216970785,-0.004494645380977321,-0.0035279778069092784,-0.0018546665914332126,-0.09729387167350756,-0.18822150581932243],[-0.001709260494715847,0.0013035840599431832,-0.0028131327390716406,0.0016328679540392273,-0.005421946975850496,0.0017467394403829395,-0.009984959755663285,-0.006049143384273965,-0.00048754043251913966,-0.0018408332602425823,0.00012728508810081504,-0.007394531288473133,-0.0003147036842397199,0.0009197230024976983,-0.000602707280832895,-0.010046388062465949,1.0,-0.00760208369061786,0.00793981920328258,0.0012085000319451127,0.004162723774863864,0.000545766556749812,0.0024120413459317704,0.004598973463231383,-0.0033430327529156006,-0.001090240486017713,-0.0035970763985634095,-0.003586835164462761,0.016922759734357456,-0.3172019470331806],[-0.0000371181258513913,0.0003630379040186032,-0.003876447934607426,0.0015686647749632977,-0.003108216609260067,0.000734118137379428,-0.004092121223166103,-0.0020921198093683843,-0.0009567733050660148,0.0009112200184282284,-0.0017349245158463757,-0.0007609712734103349,0.0008394873375494892,0.0014131471241991915,-0.0008590147198242552,-0.009275590059228305,-0.00760208369061786,1.0,0.00038945371850087875,-0.00018506842718454637,0.0006194270891825999,-0.004321380435269423,0.0034875147306727976,-0.0008359690508370405,-0.005230957006827723,0.0035834783040605183,-0.0051764558222708295,-0.001898867456886166,0.04418650871470486,-0.10644692553081277],[-0.00036578698126048893,0.0011638151899723875,-0.0008279699688052619,0.005018282953491134,0.00035056602265905504,0.0008803306295040826,0.0005896092117489425,0.0008553714180542729,-0.0009356707772171015,0.0003790291088673551,0.002067554253991036,-0.0017433222825322496,0.0010715570383271846,-0.0007510941548648769,0.003386534076430498,0.0024073594302017635,0.00793981920328258,0.00038945371850087875,1.0,-0.0008462799424581315,0.0008855134322266675,0.003520864299549838,-0.0003568083569355704,-0.0014100893491832492,0.00046536756445181575,0.0009070515999730651,-0.00001097378901341759,0.0008126304744585424,-0.015601526945530348,0.03378413152415536],[0.0031085360485397975,-0.0003388726980983281,-0.004587224438279604,0.001165410096173223,-0.0007880754250587789,-0.0018348819521768524,-0.0021958273347810796,0.0005621589466950696,0.0006125813121427962,-0.004506172251322995,-0.00028967667925707447,0.002041356080798902,-0.0006206148356032075,0.0036834571970599667,0.00037508917068978707,0.0004240054532787984,0.0012085000319451127,-0.00018506842718454637,-0.0008462799424581315,1.0,0.004391631543174519,-0.0023215318570963222,0.0007476054518362185,0.00013230040224712956,-1.269899100702047e-6,-0.0003043709137930506,-0.0000962356942054215,0.0018278487908433628,0.14256805451061944,0.021349134626457003],[0.006003695030846173,-0.003880671951278676,0.001817856278022361,-0.000622586205665439,0.0034392276588518533,-0.0015842250415122267,0.008634730211603483,0.01880555347464138,0.0017444713839398552,0.0023955011018212875,-0.0023308194112002805,0.004192083404063645,0.001100545391009352,0.004710627375381714,0.0011372992637743707,0.005267154400499327,0.004162723774863864,0.0006194270891825999,0.0008855134322266675,0.004391631543174519,1.0,0.0017951267485506429,-0.004335795108936363,0.0029433295315661914,-0.0012993410572348198,0.0008275390972013181,-0.005524039706815219,-0.0044611606390975184,0.08325734243772871,0.02623913561853223],[0.0036338595739369667,0.0029086740053363477,-0.004202923672142416,0.0015809695312210001,0.0029714567709645144,0.0023550476524280693,-0.0017008984979523852,-0.005181868541496887,0.000741762274653762,-0.003012080922121341,0.0008035998110590779,0.00296665446897064,0.00021352603227365414,-0.004794790558038996,0.0025790032134958376,0.0032960882528521277,0.000545766556749812,-0.004321380435269423,0.003520864299549838,-0.0023215318570963222,0.0017951267485506429,1.0,0.006160634816717824,0.004007631493735215,-0.0023307563307247204,0.004308780678510878,0.0016856153718820131,0.0016703357452037874,0.035467865633735544,0.004612376174770399],[-0.007503985473869307,-0.0036886296217178856,0.0021830017967685842,-0.0001547536737260349,-0.0010578383026695684,-0.0002208036105658741,0.0034580507880621527,0.006461216507352067,-0.0017392600161237207,0.0017604510466674682,-0.0008390469723996339,-0.0011010633955008857,0.0007110910522849462,0.0009289389054848225,0.0007269407316841857,0.0015241836118117076,0.0024120413459317704,0.0034875147306727976,-0.0003568083569355704,0.0007476054518362185,-0.004335795108936363,0.006160634816717824,1.0,-0.0011911345613579256,0.0036245111360325684,-0.002104732923419028,-0.0015197357777629204,-0.0027191923469286373,-0.025060446233726576,-0.006206025561580723],[-0.009326773224502647,0.0019735168281252474,0.009782012846899559,0.005759384705327735,-0.012633613332769671,-0.021097673272292547,0.005375437011175928,-0.006000318559470957,-0.00245409131587395,0.0010149187965122484,0.0015836370718235746,0.0016954532680858783,-0.00101406818677506,0.00033180031929475447,-0.008460676558177659,-0.004436914287115015,0.004598973463231383,-0.0008359690508370405,-0.0014100893491832492,0.00013230040224712956,0.0029433295315661914,0.004007631493735215,-0.0011911345613579256,1.0,-0.007006715089922471,0.001526354548994869,-0.0013154128149647235,0.0000856214258695102,-0.004790119342803492,-0.00683106730931007],[-0.004446136018296145,-0.002836931404197424,0.004090898265090184,0.00017302609596239795,-0.0048623044158974445,-0.006673263711385849,0.0020698078979523777,-0.002826501198408585,-0.00035765868608074767,0.0024991028176016123,-0.0032093521987376383,0.0007319178597714848,-0.00005911039298916354,0.002076816857514122,-0.008245117506923215,-0.002463651216970785,-0.0033430327529156006,-0.005230957006827723,0.00046536756445181575,-1.269899100702047e-6,-0.0012993410572348198,-0.0023307563307247204,0.0036245111360325684,-0.007006715089922471,1.0,0.004573576764907906,-0.0019952735762458883,-0.0012281791648252887,0.0068319890763742725,0.0035929867200254367],[-0.002436423100703862,-0.00029605968574441936,0.0035960608038175554,-0.001105267971374497,-0.0015684754955836236,0.0007018999138725948,-0.00045883836790301007,-0.001122489841986529,0.0053074591701635036,-0.0008588947666105184,-0.0020645266678812843,-0.002010883823918581,0.0008868780941754709,0.0014042703420475721,0.001924152123098672,-0.004494645380977321,-0.001090240486017713,0.0035834783040605183,0.0009070515999730651,-0.0003043709137930506,0.0008275390972013181,0.004308780678510878,-0.002104732923419028,0.001526354548994869,0.004573576764907906,1.0,-0.0009584412161369567,-0.0005696018274222904,-0.015344104977860878,0.004341289204197822],[-0.014628053567675716,0.007251624234862238,-0.008780490220863161,0.0025173272107862628,-0.006115679435720764,-0.0015773843269399363,-0.003977219873228659,-0.0001082666766957343,0.00806589093474832,0.011495357691488168,0.002434704351628527,-0.0007758604396771113,-0.0014510102497142926,-0.0038284420292789504,-0.001472270018201756,-0.0035279778069092784,-0.0035970763985634095,-0.0051764558222708295,-0.00001097378901341759,-0.0000962356942054215,-0.005524039706815219,0.0016856153718820131,-0.0015197357777629204,-0.0013154128149647235,-0.0019952735762458883,-0.0009584412161369567,1.0,-0.014434631792929337,-0.048296319499444275,0.021888244417405604],[-0.0035550069411658686,0.0014575992938971312,-0.0024539941230242506,0.00002844701328977231,-0.0007109361143902744,0.0006170632194786751,0.0013292721181322807,0.00020087170096176499,0.006486668776329327,0.009956260833450487,0.0021758658346354934,-0.00017303047803580583,-0.0003797505758876411,-0.003178202426597171,0.00015627937832904049,-0.0018546665914332126,-0.003586835164462761,-0.001898867456886166,0.0008126304744585424,0.0018278487908433628,-0.0044611606390975184,0.0016703357452037874,-0.0027191923469286373,0.0000856214258695102,-0.0012281791648252887,-0.0005696018274222904,-0.014434631792929337,1.0,-0.0034362894740964088,0.00964234539919028],[-0.07669206550361414,-0.4593975292964783,-0.05301909618409768,-0.0006991724135757552,-0.28520207300738326,0.17594040694236845,0.09665909375065668,-0.021610377555365358,-0.07379718375060627,-0.01649504028612469,-0.04305344263458092,-0.011033406249319415,-0.006205009221444138,0.021382782639850807,-0.05445302096354143,-0.09729387167350756,0.016922759734357456,0.04418650871470486,-0.015601526945530348,0.14256805451061944,0.08325734243772871,0.035467865633735544,-0.025060446233726576,-0.004790119342803492,0.0068319890763742725,-0.015344104977860878,-0.048296319499444275,-0.0034362894740964088,1.0,-0.009151675909696523],[-0.09471828027403725,0.08475425481454545,-0.18577174362070203,0.13031328765078984,-0.08864223740340568,-0.044776655795791584,-0.1732918453621183,0.03336438460284882,-0.09458275894221954,-0.20810420388533998,0.15126045335714652,-0.25314979499997337,-0.003934245314299131,-0.2975497797564462,-0.002823966145014413,-0.18822150581932243,-0.3172019470331806,-0.10644692553081277,0.03378413152415536,0.021349134626457003,0.02623913561853223,0.004612376174770399,-0.006206025561580723,-0.00683106730931007,0.0035929867200254367,0.004341289204197822,0.021888244417405604,0.00964234539919028,-0.009151675909696523,1.0]],\"type\":\"heatmap\",\"xaxis\":\"x\",\"yaxis\":\"y\",\"hovertemplate\":\"x: %{x}\\u003cbr\\u003ey: %{y}\\u003cbr\\u003ecolor: %{z}\\u003cextra\\u003e\\u003c\\u002fextra\\u003e\"}],                        {\"template\":{\"data\":{\"histogram2dcontour\":[{\"type\":\"histogram2dcontour\",\"colorbar\":{\"outlinewidth\":0,\"ticks\":\"\"},\"colorscale\":[[0.0,\"#0d0887\"],[0.1111111111111111,\"#46039f\"],[0.2222222222222222,\"#7201a8\"],[0.3333333333333333,\"#9c179e\"],[0.4444444444444444,\"#bd3786\"],[0.5555555555555556,\"#d8576b\"],[0.6666666666666666,\"#ed7953\"],[0.7777777777777778,\"#fb9f3a\"],[0.8888888888888888,\"#fdca26\"],[1.0,\"#f0f921\"]]}],\"choropleth\":[{\"type\":\"choropleth\",\"colorbar\":{\"outlinewidth\":0,\"ticks\":\"\"}}],\"histogram2d\":[{\"type\":\"histogram2d\",\"colorbar\":{\"outlinewidth\":0,\"ticks\":\"\"},\"colorscale\":[[0.0,\"#0d0887\"],[0.1111111111111111,\"#46039f\"],[0.2222222222222222,\"#7201a8\"],[0.3333333333333333,\"#9c179e\"],[0.4444444444444444,\"#bd3786\"],[0.5555555555555556,\"#d8576b\"],[0.6666666666666666,\"#ed7953\"],[0.7777777777777778,\"#fb9f3a\"],[0.8888888888888888,\"#fdca26\"],[1.0,\"#f0f921\"]]}],\"heatmap\":[{\"type\":\"heatmap\",\"colorbar\":{\"outlinewidth\":0,\"ticks\":\"\"},\"colorscale\":[[0.0,\"#0d0887\"],[0.1111111111111111,\"#46039f\"],[0.2222222222222222,\"#7201a8\"],[0.3333333333333333,\"#9c179e\"],[0.4444444444444444,\"#bd3786\"],[0.5555555555555556,\"#d8576b\"],[0.6666666666666666,\"#ed7953\"],[0.7777777777777778,\"#fb9f3a\"],[0.8888888888888888,\"#fdca26\"],[1.0,\"#f0f921\"]]}],\"heatmapgl\":[{\"type\":\"heatmapgl\",\"colorbar\":{\"outlinewidth\":0,\"ticks\":\"\"},\"colorscale\":[[0.0,\"#0d0887\"],[0.1111111111111111,\"#46039f\"],[0.2222222222222222,\"#7201a8\"],[0.3333333333333333,\"#9c179e\"],[0.4444444444444444,\"#bd3786\"],[0.5555555555555556,\"#d8576b\"],[0.6666666666666666,\"#ed7953\"],[0.7777777777777778,\"#fb9f3a\"],[0.8888888888888888,\"#fdca26\"],[1.0,\"#f0f921\"]]}],\"contourcarpet\":[{\"type\":\"contourcarpet\",\"colorbar\":{\"outlinewidth\":0,\"ticks\":\"\"}}],\"contour\":[{\"type\":\"contour\",\"colorbar\":{\"outlinewidth\":0,\"ticks\":\"\"},\"colorscale\":[[0.0,\"#0d0887\"],[0.1111111111111111,\"#46039f\"],[0.2222222222222222,\"#7201a8\"],[0.3333333333333333,\"#9c179e\"],[0.4444444444444444,\"#bd3786\"],[0.5555555555555556,\"#d8576b\"],[0.6666666666666666,\"#ed7953\"],[0.7777777777777778,\"#fb9f3a\"],[0.8888888888888888,\"#fdca26\"],[1.0,\"#f0f921\"]]}],\"surface\":[{\"type\":\"surface\",\"colorbar\":{\"outlinewidth\":0,\"ticks\":\"\"},\"colorscale\":[[0.0,\"#0d0887\"],[0.1111111111111111,\"#46039f\"],[0.2222222222222222,\"#7201a8\"],[0.3333333333333333,\"#9c179e\"],[0.4444444444444444,\"#bd3786\"],[0.5555555555555556,\"#d8576b\"],[0.6666666666666666,\"#ed7953\"],[0.7777777777777778,\"#fb9f3a\"],[0.8888888888888888,\"#fdca26\"],[1.0,\"#f0f921\"]]}],\"mesh3d\":[{\"type\":\"mesh3d\",\"colorbar\":{\"outlinewidth\":0,\"ticks\":\"\"}}],\"scatter\":[{\"fillpattern\":{\"fillmode\":\"overlay\",\"size\":10,\"solidity\":0.2},\"type\":\"scatter\"}],\"parcoords\":[{\"type\":\"parcoords\",\"line\":{\"colorbar\":{\"outlinewidth\":0,\"ticks\":\"\"}}}],\"scatterpolargl\":[{\"type\":\"scatterpolargl\",\"marker\":{\"colorbar\":{\"outlinewidth\":0,\"ticks\":\"\"}}}],\"bar\":[{\"error_x\":{\"color\":\"#2a3f5f\"},\"error_y\":{\"color\":\"#2a3f5f\"},\"marker\":{\"line\":{\"color\":\"#E5ECF6\",\"width\":0.5},\"pattern\":{\"fillmode\":\"overlay\",\"size\":10,\"solidity\":0.2}},\"type\":\"bar\"}],\"scattergeo\":[{\"type\":\"scattergeo\",\"marker\":{\"colorbar\":{\"outlinewidth\":0,\"ticks\":\"\"}}}],\"scatterpolar\":[{\"type\":\"scatterpolar\",\"marker\":{\"colorbar\":{\"outlinewidth\":0,\"ticks\":\"\"}}}],\"histogram\":[{\"marker\":{\"pattern\":{\"fillmode\":\"overlay\",\"size\":10,\"solidity\":0.2}},\"type\":\"histogram\"}],\"scattergl\":[{\"type\":\"scattergl\",\"marker\":{\"colorbar\":{\"outlinewidth\":0,\"ticks\":\"\"}}}],\"scatter3d\":[{\"type\":\"scatter3d\",\"line\":{\"colorbar\":{\"outlinewidth\":0,\"ticks\":\"\"}},\"marker\":{\"colorbar\":{\"outlinewidth\":0,\"ticks\":\"\"}}}],\"scattermapbox\":[{\"type\":\"scattermapbox\",\"marker\":{\"colorbar\":{\"outlinewidth\":0,\"ticks\":\"\"}}}],\"scatterternary\":[{\"type\":\"scatterternary\",\"marker\":{\"colorbar\":{\"outlinewidth\":0,\"ticks\":\"\"}}}],\"scattercarpet\":[{\"type\":\"scattercarpet\",\"marker\":{\"colorbar\":{\"outlinewidth\":0,\"ticks\":\"\"}}}],\"carpet\":[{\"aaxis\":{\"endlinecolor\":\"#2a3f5f\",\"gridcolor\":\"white\",\"linecolor\":\"white\",\"minorgridcolor\":\"white\",\"startlinecolor\":\"#2a3f5f\"},\"baxis\":{\"endlinecolor\":\"#2a3f5f\",\"gridcolor\":\"white\",\"linecolor\":\"white\",\"minorgridcolor\":\"white\",\"startlinecolor\":\"#2a3f5f\"},\"type\":\"carpet\"}],\"table\":[{\"cells\":{\"fill\":{\"color\":\"#EBF0F8\"},\"line\":{\"color\":\"white\"}},\"header\":{\"fill\":{\"color\":\"#C8D4E3\"},\"line\":{\"color\":\"white\"}},\"type\":\"table\"}],\"barpolar\":[{\"marker\":{\"line\":{\"color\":\"#E5ECF6\",\"width\":0.5},\"pattern\":{\"fillmode\":\"overlay\",\"size\":10,\"solidity\":0.2}},\"type\":\"barpolar\"}],\"pie\":[{\"automargin\":true,\"type\":\"pie\"}]},\"layout\":{\"autotypenumbers\":\"strict\",\"colorway\":[\"#636efa\",\"#EF553B\",\"#00cc96\",\"#ab63fa\",\"#FFA15A\",\"#19d3f3\",\"#FF6692\",\"#B6E880\",\"#FF97FF\",\"#FECB52\"],\"font\":{\"color\":\"#2a3f5f\"},\"hovermode\":\"closest\",\"hoverlabel\":{\"align\":\"left\"},\"paper_bgcolor\":\"white\",\"plot_bgcolor\":\"#E5ECF6\",\"polar\":{\"bgcolor\":\"#E5ECF6\",\"angularaxis\":{\"gridcolor\":\"white\",\"linecolor\":\"white\",\"ticks\":\"\"},\"radialaxis\":{\"gridcolor\":\"white\",\"linecolor\":\"white\",\"ticks\":\"\"}},\"ternary\":{\"bgcolor\":\"#E5ECF6\",\"aaxis\":{\"gridcolor\":\"white\",\"linecolor\":\"white\",\"ticks\":\"\"},\"baxis\":{\"gridcolor\":\"white\",\"linecolor\":\"white\",\"ticks\":\"\"},\"caxis\":{\"gridcolor\":\"white\",\"linecolor\":\"white\",\"ticks\":\"\"}},\"coloraxis\":{\"colorbar\":{\"outlinewidth\":0,\"ticks\":\"\"}},\"colorscale\":{\"sequential\":[[0.0,\"#0d0887\"],[0.1111111111111111,\"#46039f\"],[0.2222222222222222,\"#7201a8\"],[0.3333333333333333,\"#9c179e\"],[0.4444444444444444,\"#bd3786\"],[0.5555555555555556,\"#d8576b\"],[0.6666666666666666,\"#ed7953\"],[0.7777777777777778,\"#fb9f3a\"],[0.8888888888888888,\"#fdca26\"],[1.0,\"#f0f921\"]],\"sequentialminus\":[[0.0,\"#0d0887\"],[0.1111111111111111,\"#46039f\"],[0.2222222222222222,\"#7201a8\"],[0.3333333333333333,\"#9c179e\"],[0.4444444444444444,\"#bd3786\"],[0.5555555555555556,\"#d8576b\"],[0.6666666666666666,\"#ed7953\"],[0.7777777777777778,\"#fb9f3a\"],[0.8888888888888888,\"#fdca26\"],[1.0,\"#f0f921\"]],\"diverging\":[[0,\"#8e0152\"],[0.1,\"#c51b7d\"],[0.2,\"#de77ae\"],[0.3,\"#f1b6da\"],[0.4,\"#fde0ef\"],[0.5,\"#f7f7f7\"],[0.6,\"#e6f5d0\"],[0.7,\"#b8e186\"],[0.8,\"#7fbc41\"],[0.9,\"#4d9221\"],[1,\"#276419\"]]},\"xaxis\":{\"gridcolor\":\"white\",\"linecolor\":\"white\",\"ticks\":\"\",\"title\":{\"standoff\":15},\"zerolinecolor\":\"white\",\"automargin\":true,\"zerolinewidth\":2},\"yaxis\":{\"gridcolor\":\"white\",\"linecolor\":\"white\",\"ticks\":\"\",\"title\":{\"standoff\":15},\"zerolinecolor\":\"white\",\"automargin\":true,\"zerolinewidth\":2},\"scene\":{\"xaxis\":{\"backgroundcolor\":\"#E5ECF6\",\"gridcolor\":\"white\",\"linecolor\":\"white\",\"showbackground\":true,\"ticks\":\"\",\"zerolinecolor\":\"white\",\"gridwidth\":2},\"yaxis\":{\"backgroundcolor\":\"#E5ECF6\",\"gridcolor\":\"white\",\"linecolor\":\"white\",\"showbackground\":true,\"ticks\":\"\",\"zerolinecolor\":\"white\",\"gridwidth\":2},\"zaxis\":{\"backgroundcolor\":\"#E5ECF6\",\"gridcolor\":\"white\",\"linecolor\":\"white\",\"showbackground\":true,\"ticks\":\"\",\"zerolinecolor\":\"white\",\"gridwidth\":2}},\"shapedefaults\":{\"line\":{\"color\":\"#2a3f5f\"}},\"annotationdefaults\":{\"arrowcolor\":\"#2a3f5f\",\"arrowhead\":0,\"arrowwidth\":1},\"geo\":{\"bgcolor\":\"white\",\"landcolor\":\"#E5ECF6\",\"subunitcolor\":\"white\",\"showland\":true,\"showlakes\":true,\"lakecolor\":\"white\"},\"title\":{\"x\":0.05},\"mapbox\":{\"style\":\"light\"}}},\"xaxis\":{\"anchor\":\"y\",\"domain\":[0.0,1.0]},\"yaxis\":{\"anchor\":\"x\",\"domain\":[0.0,1.0],\"autorange\":\"reversed\"},\"coloraxis\":{\"colorscale\":[[0.0,\"rgb(5,48,97)\"],[0.1,\"rgb(33,102,172)\"],[0.2,\"rgb(67,147,195)\"],[0.3,\"rgb(146,197,222)\"],[0.4,\"rgb(209,229,240)\"],[0.5,\"rgb(247,247,247)\"],[0.6,\"rgb(253,219,199)\"],[0.7,\"rgb(244,165,130)\"],[0.8,\"rgb(214,96,77)\"],[0.9,\"rgb(178,24,43)\"],[1.0,\"rgb(103,0,31)\"]]},\"margin\":{\"t\":60}},                        {\"responsive\": true}                    ).then(function(){\n",
              "                            \n",
              "var gd = document.getElementById('c7519536-c19c-4f1b-b5ca-39a39a214f5f');\n",
              "var x = new MutationObserver(function (mutations, observer) {{\n",
              "        var display = window.getComputedStyle(gd).display;\n",
              "        if (!display || display === 'none') {{\n",
              "            console.log([gd, 'removed!']);\n",
              "            Plotly.purge(gd);\n",
              "            observer.disconnect();\n",
              "        }}\n",
              "}});\n",
              "\n",
              "// Listen for the removal of the full notebook cells\n",
              "var notebookContainer = gd.closest('#notebook-container');\n",
              "if (notebookContainer) {{\n",
              "    x.observe(notebookContainer, {childList: true});\n",
              "}}\n",
              "\n",
              "// Listen for the clearing of the current output cell\n",
              "var outputEl = gd.closest('.output');\n",
              "if (outputEl) {{\n",
              "    x.observe(outputEl, {childList: true});\n",
              "}}\n",
              "\n",
              "                        })                };                            </script>        </div>\n",
              "</body>\n",
              "</html>"
            ]
          },
          "metadata": {}
        }
      ],
      "source": [
        "corr = df.corr()\n",
        "fig=px.imshow(corr, aspect=\"auto\" ,color_continuous_scale='RdBu_r')\n",
        "fig.show()"
      ]
    },
    {
      "cell_type": "code",
      "execution_count": null,
      "id": "3c160557",
      "metadata": {
        "colab": {
          "base_uri": "https://localhost:8080/",
          "height": 542
        },
        "id": "3c160557",
        "outputId": "4c350cf5-3cd7-463f-cc36-8beecb14a3f8"
      },
      "outputs": [
        {
          "output_type": "display_data",
          "data": {
            "text/html": [
              "<html>\n",
              "<head><meta charset=\"utf-8\" /></head>\n",
              "<body>\n",
              "    <div>            <script src=\"https://cdnjs.cloudflare.com/ajax/libs/mathjax/2.7.5/MathJax.js?config=TeX-AMS-MML_SVG\"></script><script type=\"text/javascript\">if (window.MathJax && window.MathJax.Hub && window.MathJax.Hub.Config) {window.MathJax.Hub.Config({SVG: {font: \"STIX-Web\"}});}</script>                <script type=\"text/javascript\">window.PlotlyConfig = {MathJaxConfig: 'local'};</script>\n",
              "        <script charset=\"utf-8\" src=\"https://cdn.plot.ly/plotly-2.35.2.min.js\"></script>                <div id=\"277f485b-1fac-46a0-87a2-6886b1ccc797\" class=\"plotly-graph-div\" style=\"height:525px; width:100%;\"></div>            <script type=\"text/javascript\">                                    window.PLOTLYENV=window.PLOTLYENV || {};                                    if (document.getElementById(\"277f485b-1fac-46a0-87a2-6886b1ccc797\")) {                    Plotly.newPlot(                        \"277f485b-1fac-46a0-87a2-6886b1ccc797\",                        [{\"coloraxis\":\"coloraxis\",\"name\":\"0\",\"x\":[\"V1\",\"V2\",\"V3\",\"V4\",\"V5\",\"V6\",\"V7\",\"V8\",\"V9\",\"V10\",\"V11\",\"V12\",\"V13\",\"V14\",\"V15\",\"V16\",\"V17\",\"V18\",\"V19\",\"V20\",\"V21\",\"V22\",\"V23\",\"V24\",\"V25\",\"V26\",\"V27\",\"V28\",\"Amount\",\"Class\"],\"y\":[\"V1\",\"V2\",\"V3\",\"V4\",\"V5\",\"V6\",\"V7\",\"V8\",\"V9\",\"V10\",\"V11\",\"V12\",\"V13\",\"V14\",\"V15\",\"V16\",\"V17\",\"V18\",\"V19\",\"V20\",\"V21\",\"V22\",\"V23\",\"V24\",\"V25\",\"V26\",\"V27\",\"V28\",\"Amount\",\"Class\"],\"z\":[[1.0,-0.7797963230201492,0.8692669052010644,-0.5894310312526435,0.8557875504167892,0.37265162693968257,0.8685725037237594,-0.23653642319965812,0.6389228747981776,0.70301539522731,-0.5063183215376691,0.5783105353680561,-0.09989819054289513,0.42701215544496773,0.10204744034444643,0.6204944314622316,0.6680466882159429,0.6667130621850961,-0.3060640648127895,-0.33512044762374793,0.11052348257893699,-0.09746921865444264,0.015313589553328094,-0.07615726848479233,-0.1150713567430732,0.04173015831973506,0.11630154825451797,0.14193784672672757,-0.06559644966616582,-0.41309940095429504],[-0.7797963230201492,1.0,-0.8572427991914023,0.6791861257213795,-0.7924093246943748,-0.33985961817135757,-0.8247157509658386,0.1491976544779082,-0.707012211534343,-0.7586731390090433,0.615549069619718,-0.6721911554524309,0.07207350749378297,-0.5642862787965973,-0.1405789980018789,-0.6274570564239262,-0.6439013307834505,-0.6129271283965675,0.2261377408581813,0.38165379966340035,-0.10883125980310579,0.09154955679933433,0.06965263346979632,0.00041813265624884784,0.12360420726832043,0.023544601310511518,-0.08005810225463378,0.0407347327903094,-0.20997912266127516,0.4792094094943192],[0.8692669052010644,-0.8572427991914023,1.0,-0.7568814777729951,0.8405268138006138,0.5027891862524835,0.8849596202182337,-0.29469070534191016,0.7530131412766804,0.8343695880303609,-0.71003836021958,0.7562084592950662,-0.08431452936254334,0.6550757748936518,0.1221481465248566,0.72065838129586,0.7301357042951497,0.6901098030937088,-0.3111372130318736,-0.3789288979749969,0.06866383084387247,-0.08702292837457189,0.006070669098909276,0.018557854892780588,-0.1206209740674915,-0.014813617908478223,-0.0031497233755262877,0.09064882686420156,0.030146524780154255,-0.5615173901789073],[-0.5894310312526435,0.6791861257213795,-0.7568814777729951,1.0,-0.5568090997846673,-0.4469793904100092,-0.712549826422715,0.1401434646375912,-0.788322568970656,-0.7848538073718946,0.7927745711553645,-0.8366291676522272,0.06965208324853124,-0.7942712832772238,-0.1340003722220817,-0.721902806352605,-0.6998830321868238,-0.632393959970142,0.310444800609607,0.32066907001356415,-0.041618759795021366,0.1627996949912633,0.009394653485716456,-0.06214015025071233,0.00476814288993442,0.1363887822885738,0.04991913021412733,-0.06907445623767651,-0.15421241892324503,0.7053512689819524],[0.8557875504167892,-0.7924093246943748,0.8405268138006138,-0.5568090997846673,1.0,0.3100247205962551,0.838406715723768,-0.32858379958426875,0.6387728041889168,0.727156268709465,-0.5083948321372632,0.5984692612280218,-0.16234118261048025,0.4150902211816956,0.06882824019063245,0.6780561822193765,0.7348481666607877,0.7285837775188997,-0.3960962911144986,-0.3264363115379555,0.07412080160688471,-0.11502749553669339,-0.05581963543092355,-0.13627130917842867,-0.10755429845429255,0.04260664911625921,0.10884085724190003,0.12967802548615182,-0.19009305209978505,-0.35875945198403875],[0.37265162693968257,-0.33985961817135757,0.5027891862524835,-0.4469793904100092,0.3100247205962551,1.0,0.339773689978373,-0.5374311535587942,0.36727826549206066,0.44220359643118035,-0.5209938695862251,0.5195803452567116,-0.061208388783014475,0.5681485525269535,-0.052700823548452666,0.46486923816257975,0.4366331645415355,0.36307534496371624,-0.19654585571259187,-0.062237210091088,-0.232974793055814,0.17418647431333448,0.27851922800418316,-0.01290739318211812,-0.1804382989976688,-0.029550361864020026,-0.24411942419467453,-0.06379833716259906,0.1647172064773974,-0.4377885423616656],[0.8685725037237594,-0.8247157509658386,0.8849596202182337,-0.712549826422715,0.838406715723768,0.339773689978373,1.0,-0.056005810282764204,0.77423422326057,0.8671977858394024,-0.6394870443906508,0.7276468946695456,-0.06184117665722508,0.5437365361457602,0.16831007634966777,0.7527601797312738,0.7808896893060848,0.7659745623437512,-0.3595056083101848,-0.4487453147565656,0.20237227095791552,-0.23627639585298327,-0.02267701411452614,-0.05041637862971285,0.037642476004082014,0.00582981959668023,0.15125108288964523,0.14690771362458233,0.0899652893283263,-0.4690913911288908],[-0.23653642319965812,0.1491976544779082,-0.29469070534191016,0.1401434646375912,-0.32858379958426875,-0.5374311535587942,-0.056005810282764204,1.0,-0.09608406121827408,-0.1055981152488511,0.23369898637175862,-0.20601274873112552,0.24940628764081213,-0.261887240220337,0.141353803909578,-0.25912059961755785,-0.28577685045052303,-0.2601920061496137,0.22523402685238078,-0.18781676247129464,0.40644986176344516,-0.36745208985761246,-0.32397277755324316,0.046326712816371296,0.2911018240798063,0.012768342481563109,0.39514860886206804,0.04282234504836984,0.15480907656836537,0.11578827120853558],[0.6389228747981776,-0.707012211534343,0.7530131412766804,-0.788322568970656,0.6387728041889168,0.36727826549206066,0.77423422326057,-0.09608406121827408,1.0,0.8512521283028954,-0.6977920616521058,0.7741498900615467,-0.054716873186765186,0.6841396642201755,0.11216841536392667,0.7289153556213875,0.7544692095016574,0.699365793336487,-0.3318582115494567,-0.3813837675011323,0.16040542636934907,-0.24143700975912097,-0.059207152909711534,0.024777323842706495,-0.026703997645050544,-0.1260602652944863,0.036784741931728426,0.17265552830349595,0.1092750617499101,-0.5657605091993979],[0.70301539522731,-0.7586731390090433,0.8343695880303609,-0.7848538073718946,0.727156268709465,0.44220359643118035,0.8671977858394024,-0.1055981152488511,0.8512521283028954,1.0,-0.7998640263251987,0.8813596342020761,-0.05101065134015566,0.7628038201851901,0.14761540325154984,0.8556845698851477,0.8491363399989328,0.7947487418980221,-0.40387335236391764,-0.3941169457598715,0.11061902805281464,-0.2451614168960717,-0.04365884102913983,0.011229638052616595,0.006939173379289976,-0.047899375243956356,0.04942139033863612,0.13438899532901533,0.0909840603126952,-0.6284029672732648],[-0.5063183215376691,0.615549069619718,-0.71003836021958,0.7927745711553645,-0.5083948321372632,-0.5209938695862251,-0.6394870443906508,0.23369898637175862,-0.6977920616521058,-0.7998640263251987,1.0,-0.9029298737678533,0.06574578109920919,-0.8892361613048898,-0.0709543771598042,-0.8034661299697755,-0.7672532226603385,-0.6646169793464108,0.37874629612926514,0.22232650539397703,0.1354713854193821,0.06409091738040372,-0.049186820613158856,-0.10519566821098403,0.026755198134663892,0.12885282641923745,0.22088252554440035,0.043504399599292254,-0.14503928329569604,0.683601341435055],[0.5783105353680561,-0.6721911554524309,0.7562084592950662,-0.8366291676522272,0.5984692612280218,0.5195803452567116,0.7276468946695456,-0.20601274873112552,0.7741498900615467,0.8813596342020761,-0.9029298737678533,1.0,-0.08542693771699487,0.8849630027771239,0.08433792899284147,0.9009740247959558,0.8724737029525534,0.7935661051545259,-0.43327196203726037,-0.24489964389685714,-0.0910149708891889,-0.1378960603066761,0.01715554863166831,0.04554834093453028,0.022450968227003196,-0.10694624908194794,-0.09542987088553115,-0.00793486778822428,0.10827708225328576,-0.6886360780163633],[-0.09989819054289513,0.07207350749378297,-0.08431452936254334,0.06965208324853124,-0.16234118261048025,-0.061208388783014475,-0.06184117665722508,0.24940628764081213,-0.054716873186765186,-0.05101065134015566,0.06574578109920919,-0.08542693771699487,1.0,-0.021287290328327612,-0.036778130193795645,-0.11140114683611604,-0.13683707476021217,-0.13897254303186168,0.15611862133680576,-0.06714156889046693,0.10901829190373748,-0.04747830667767587,-0.06266366465234129,0.02451180629830995,0.01700194559737406,0.024458784164391095,0.04961293610584622,-0.1048874781021693,0.10862023001339757,-0.045389572874994594],[0.42701215544496773,-0.5642862787965973,0.6550757748936518,-0.7942712832772238,0.4150902211816956,0.5681485525269535,0.5437365361457602,-0.261887240220337,0.6841396642201755,0.7628038201851901,-0.8892361613048898,0.8849630027771239,-0.021287290328327612,1.0,0.011792455111074253,0.7741823859387661,0.7235959273644483,0.6104223096266731,-0.34199281504841406,-0.15940297836405615,-0.2273769657086415,0.007499617498323012,0.04417863009093313,0.13369926834571738,-0.07868284347203844,-0.14740206252450552,-0.23436004701131363,-0.1279401507896172,0.168511939083794,-0.7475866999230514],[0.10204744034444643,-0.1405789980018789,0.1221481465248566,-0.1340003722220817,0.06882824019063245,-0.052700823548452666,0.16831007634966777,0.141353803909578,0.11216841536392667,0.14761540325154984,-0.0709543771598042,0.08433792899284147,-0.036778130193795645,0.011792455111074253,1.0,0.007436774076489134,0.0417407319993647,0.018248519476873365,0.18409543248453228,-0.14157626160328624,0.18877898670897816,-0.10031611198344866,-0.06800906843326616,0.012909233913175345,-0.019450324264372786,0.04678110272702359,0.11882718084705754,0.07035893091883148,0.06793862358791165,-0.04549900091925979],[0.6204944314622316,-0.6274570564239262,0.72065838129586,-0.721902806352605,0.6780561822193765,0.46486923816257975,0.7527601797312738,-0.25912059961755785,0.7289153556213875,0.8556845698851477,-0.8034661299697755,0.9009740247959558,-0.11140114683611604,0.7741823859387661,0.007436774076489134,1.0,0.955131754465537,0.9115280158739345,-0.6107563103905354,-0.22877210912993287,-0.14038097175051611,-0.17600797110323496,0.02475581001804583,-0.05175163286791747,0.058417373499535664,-0.04318448614485155,-0.07882440076614936,0.005968376885962734,-0.01188541120714256,-0.5917550157431544],[0.6680466882159429,-0.6439013307834505,0.7301357042951497,-0.6998830321868238,0.7348481666607877,0.4366331645415355,0.7808896893060848,-0.28577685045052303,0.7544692095016574,0.8491363399989328,-0.7672532226603385,0.8724737029525534,-0.13683707476021217,0.7235959273644483,0.0417407319993647,0.955131754465537,1.0,0.9395336617891872,-0.5795227495512192,-0.2337707397900765,-0.10516575971531415,-0.16629142387600154,0.027166478386837025,-0.08454208800116307,0.0359765680932743,-0.0295376782965516,-0.050161893137506776,0.03600998071776702,-0.04269127033550137,-0.5490081820075967],[0.6667130621850961,-0.6129271283965675,0.6901098030937088,-0.632393959970142,0.7285837775188997,0.36307534496371624,0.7659745623437512,-0.2601920061496137,0.699365793336487,0.7947487418980221,-0.6646169793464108,0.7935661051545259,-0.13897254303186168,0.6104223096266731,0.018248519476873365,0.9115280158739345,0.9395336617891872,1.0,-0.5301564084287439,-0.20739143423081408,-0.06462939411784949,-0.17140047485626858,0.03917844643591209,-0.09757569888244427,0.057538244064904084,-0.02387784013695884,0.004111048763919135,0.07685636762986592,-0.04962929720288238,-0.453614524205756],[-0.3060640648127895,0.2261377408581813,-0.3111372130318736,0.310444800609607,-0.3960962911144986,-0.19654585571259187,-0.3595056083101848,0.22523402685238078,-0.3318582115494567,-0.40387335236391764,0.37874629612926514,-0.43327196203726037,0.15611862133680576,-0.34199281504841406,0.18409543248453228,-0.6107563103905354,-0.5795227495512192,-0.5301564084287439,1.0,0.08121519610170844,0.13836127831018794,0.14939364001338534,0.010314843107309225,0.11508882387019506,-0.15874023197226592,0.05137608305182039,0.0567941620947141,-0.03736463764734412,0.1549076293909865,0.2523188575401534],[-0.33512044762374793,0.38165379966340035,-0.3789288979749969,0.32066907001356415,-0.3264363115379555,-0.062237210091088,-0.4487453147565656,-0.18781676247129464,-0.3813837675011323,-0.3941169457598715,0.22232650539397703,-0.24489964389685714,-0.06714156889046693,-0.15940297836405615,-0.14157626160328624,-0.22877210912993287,-0.2337707397900765,-0.20739143423081408,0.08121519610170844,1.0,-0.5042910659309324,0.36141583406754796,0.19745073000653254,-0.036649024500781946,0.04086422480879625,0.008021259756930355,-0.04143605606154624,0.03314983103579301,-0.02739306783567991,0.1927409937418713],[0.11052348257893699,-0.10883125980310579,0.06866383084387247,-0.041618759795021366,0.07412080160688471,-0.232974793055814,0.20237227095791552,0.40644986176344516,0.16040542636934907,0.11061902805281464,0.1354713854193821,-0.0910149708891889,0.10901829190373748,-0.2273769657086415,0.18877898670897816,-0.14038097175051611,-0.10516575971531415,-0.06462939411784949,0.13836127831018794,-0.5042910659309324,1.0,-0.6001792064233071,-0.1332368995167898,0.004234850138769231,0.1261718792312096,0.02809822773332327,0.3829993783915614,0.19720268253127682,0.10625151705247018,0.12325988128525248],[-0.09746921865444264,0.09154955679933433,-0.08702292837457189,0.1627996949912633,-0.11502749553669339,0.17418647431333448,-0.23627639585298327,-0.36745208985761246,-0.24143700975912097,-0.2451614168960717,0.06409091738040372,-0.1378960603066761,-0.04747830667767587,0.007499617498323012,-0.10031611198344866,-0.17600797110323496,-0.16629142387600154,-0.17140047485626858,0.14939364001338534,0.36141583406754796,-0.6001792064233071,1.0,0.2156192375861303,0.02234888040697736,-0.2558923633262923,0.08235037092733126,-0.3336370755963643,-0.16089177765003349,-0.016218345565141415,0.06225743043342197],[0.015313589553328094,0.06965263346979632,0.006070669098909276,0.009394653485716456,-0.05581963543092355,0.27851922800418316,-0.02267701411452614,-0.32397277755324316,-0.059207152909711534,-0.04365884102913983,-0.049186820613158856,0.01715554863166831,-0.06266366465234129,0.04417863009093313,-0.06800906843326616,0.02475581001804583,0.027166478386837025,0.03917844643591209,0.010314843107309225,0.19745073000653254,-0.1332368995167898,0.2156192375861303,1.0,0.0032401810208028932,0.052635009057383296,0.04201608969460927,-0.24468261948868722,0.010922647223644768,-0.06103633942481166,-0.04657444231305826],[-0.07615726848479233,0.00041813265624884784,0.018557854892780588,-0.06214015025071233,-0.13627130917842867,-0.01290739318211812,-0.05041637862971285,0.046326712816371296,0.024777323842706495,0.011229638052616595,-0.10519566821098403,0.04554834093453028,0.02451180629830995,0.13369926834571738,0.012909233913175345,-0.05175163286791747,-0.08454208800116307,-0.09757569888244427,0.11508882387019506,-0.036649024500781946,0.004234850138769231,0.02234888040697736,0.0032401810208028932,1.0,-0.05150549794469742,-0.10843389719961087,-0.19135682991431974,-0.016918611593511653,0.10798036448542833,-0.07620217082480368],[-0.1150713567430732,0.12360420726832043,-0.1206209740674915,0.00476814288993442,-0.10755429845429255,-0.1804382989976688,0.037642476004082014,0.2911018240798063,-0.026703997645050544,0.006939173379289976,0.026755198134663892,0.022450968227003196,0.01700194559737406,-0.07868284347203844,-0.019450324264372786,0.058417373499535664,0.0359765680932743,0.057538244064904084,-0.15874023197226592,0.04086422480879625,0.1261718792312096,-0.2558923633262923,0.052635009057383296,-0.05150549794469742,1.0,0.06372382672135722,0.19098460807535245,0.1446547023849535,-0.01749983867581153,0.0353811222138557],[0.04173015831973506,0.023544601310511518,-0.014813617908478223,0.1363887822885738,0.04260664911625921,-0.029550361864020026,0.00582981959668023,0.012768342481563109,-0.1260602652944863,-0.047899375243956356,0.12885282641923745,-0.10694624908194794,0.024458784164391095,-0.14740206252450552,0.04678110272702359,-0.04318448614485155,-0.0295376782965516,-0.02387784013695884,0.05137608305182039,0.008021259756930355,0.02809822773332327,0.08235037092733126,0.04201608969460927,-0.10843389719961087,0.06372382672135722,1.0,0.12392005974355023,-0.008147672897494794,-0.10519123387563022,0.03405635975128648],[0.11630154825451797,-0.08005810225463378,-0.0031497233755262877,0.04991913021412733,0.10884085724190003,-0.24411942419467453,0.15125108288964523,0.39514860886206804,0.036784741931728426,0.04942139033863612,0.22088252554440035,-0.09542987088553115,0.04961293610584622,-0.23436004701131363,0.11882718084705754,-0.07882440076614936,-0.050161893137506776,0.004111048763919135,0.0567941620947141,-0.04143605606154624,0.3829993783915614,-0.3336370755963643,-0.24468261948868722,-0.19135682991431974,0.19098460807535245,0.12392005974355023,1.0,0.1428844986648622,0.018111520334480904,0.11641550802743751],[0.14193784672672757,0.0407347327903094,0.09064882686420156,-0.06907445623767651,0.12967802548615182,-0.06379833716259906,0.14690771362458233,0.04282234504836984,0.17265552830349595,0.13438899532901533,0.043504399599292254,-0.00793486778822428,-0.1048874781021693,-0.1279401507896172,0.07035893091883148,0.005968376885962734,0.03600998071776702,0.07685636762986592,-0.03736463764734412,0.03314983103579301,0.19720268253127682,-0.16089177765003349,0.010922647223644768,-0.016918611593511653,0.1446547023849535,-0.008147672897494794,0.1428844986648622,1.0,-0.083788248963246,0.0734115033029961],[-0.06559644966616582,-0.20997912266127516,0.030146524780154255,-0.15421241892324503,-0.19009305209978505,0.1647172064773974,0.0899652893283263,0.15480907656836537,0.1092750617499101,0.0909840603126952,-0.14503928329569604,0.10827708225328576,0.10862023001339757,0.168511939083794,0.06793862358791165,-0.01188541120714256,-0.04269127033550137,-0.04962929720288238,0.1549076293909865,-0.02739306783567991,0.10625151705247018,-0.016218345565141415,-0.06103633942481166,0.10798036448542833,-0.01749983867581153,-0.10519123387563022,0.018111520334480904,-0.083788248963246,1.0,-0.07789868230008093],[-0.41309940095429504,0.4792094094943192,-0.5615173901789073,0.7053512689819524,-0.35875945198403875,-0.4377885423616656,-0.4690913911288908,0.11578827120853558,-0.5657605091993979,-0.6284029672732648,0.683601341435055,-0.6886360780163633,-0.045389572874994594,-0.7475866999230514,-0.04549900091925979,-0.5917550157431544,-0.5490081820075967,-0.453614524205756,0.2523188575401534,0.1927409937418713,0.12325988128525248,0.06225743043342197,-0.04657444231305826,-0.07620217082480368,0.0353811222138557,0.03405635975128648,0.11641550802743751,0.0734115033029961,-0.07789868230008093,1.0]],\"type\":\"heatmap\",\"xaxis\":\"x\",\"yaxis\":\"y\",\"hovertemplate\":\"x: %{x}\\u003cbr\\u003ey: %{y}\\u003cbr\\u003ecolor: %{z}\\u003cextra\\u003e\\u003c\\u002fextra\\u003e\"}],                        {\"template\":{\"data\":{\"histogram2dcontour\":[{\"type\":\"histogram2dcontour\",\"colorbar\":{\"outlinewidth\":0,\"ticks\":\"\"},\"colorscale\":[[0.0,\"#0d0887\"],[0.1111111111111111,\"#46039f\"],[0.2222222222222222,\"#7201a8\"],[0.3333333333333333,\"#9c179e\"],[0.4444444444444444,\"#bd3786\"],[0.5555555555555556,\"#d8576b\"],[0.6666666666666666,\"#ed7953\"],[0.7777777777777778,\"#fb9f3a\"],[0.8888888888888888,\"#fdca26\"],[1.0,\"#f0f921\"]]}],\"choropleth\":[{\"type\":\"choropleth\",\"colorbar\":{\"outlinewidth\":0,\"ticks\":\"\"}}],\"histogram2d\":[{\"type\":\"histogram2d\",\"colorbar\":{\"outlinewidth\":0,\"ticks\":\"\"},\"colorscale\":[[0.0,\"#0d0887\"],[0.1111111111111111,\"#46039f\"],[0.2222222222222222,\"#7201a8\"],[0.3333333333333333,\"#9c179e\"],[0.4444444444444444,\"#bd3786\"],[0.5555555555555556,\"#d8576b\"],[0.6666666666666666,\"#ed7953\"],[0.7777777777777778,\"#fb9f3a\"],[0.8888888888888888,\"#fdca26\"],[1.0,\"#f0f921\"]]}],\"heatmap\":[{\"type\":\"heatmap\",\"colorbar\":{\"outlinewidth\":0,\"ticks\":\"\"},\"colorscale\":[[0.0,\"#0d0887\"],[0.1111111111111111,\"#46039f\"],[0.2222222222222222,\"#7201a8\"],[0.3333333333333333,\"#9c179e\"],[0.4444444444444444,\"#bd3786\"],[0.5555555555555556,\"#d8576b\"],[0.6666666666666666,\"#ed7953\"],[0.7777777777777778,\"#fb9f3a\"],[0.8888888888888888,\"#fdca26\"],[1.0,\"#f0f921\"]]}],\"heatmapgl\":[{\"type\":\"heatmapgl\",\"colorbar\":{\"outlinewidth\":0,\"ticks\":\"\"},\"colorscale\":[[0.0,\"#0d0887\"],[0.1111111111111111,\"#46039f\"],[0.2222222222222222,\"#7201a8\"],[0.3333333333333333,\"#9c179e\"],[0.4444444444444444,\"#bd3786\"],[0.5555555555555556,\"#d8576b\"],[0.6666666666666666,\"#ed7953\"],[0.7777777777777778,\"#fb9f3a\"],[0.8888888888888888,\"#fdca26\"],[1.0,\"#f0f921\"]]}],\"contourcarpet\":[{\"type\":\"contourcarpet\",\"colorbar\":{\"outlinewidth\":0,\"ticks\":\"\"}}],\"contour\":[{\"type\":\"contour\",\"colorbar\":{\"outlinewidth\":0,\"ticks\":\"\"},\"colorscale\":[[0.0,\"#0d0887\"],[0.1111111111111111,\"#46039f\"],[0.2222222222222222,\"#7201a8\"],[0.3333333333333333,\"#9c179e\"],[0.4444444444444444,\"#bd3786\"],[0.5555555555555556,\"#d8576b\"],[0.6666666666666666,\"#ed7953\"],[0.7777777777777778,\"#fb9f3a\"],[0.8888888888888888,\"#fdca26\"],[1.0,\"#f0f921\"]]}],\"surface\":[{\"type\":\"surface\",\"colorbar\":{\"outlinewidth\":0,\"ticks\":\"\"},\"colorscale\":[[0.0,\"#0d0887\"],[0.1111111111111111,\"#46039f\"],[0.2222222222222222,\"#7201a8\"],[0.3333333333333333,\"#9c179e\"],[0.4444444444444444,\"#bd3786\"],[0.5555555555555556,\"#d8576b\"],[0.6666666666666666,\"#ed7953\"],[0.7777777777777778,\"#fb9f3a\"],[0.8888888888888888,\"#fdca26\"],[1.0,\"#f0f921\"]]}],\"mesh3d\":[{\"type\":\"mesh3d\",\"colorbar\":{\"outlinewidth\":0,\"ticks\":\"\"}}],\"scatter\":[{\"fillpattern\":{\"fillmode\":\"overlay\",\"size\":10,\"solidity\":0.2},\"type\":\"scatter\"}],\"parcoords\":[{\"type\":\"parcoords\",\"line\":{\"colorbar\":{\"outlinewidth\":0,\"ticks\":\"\"}}}],\"scatterpolargl\":[{\"type\":\"scatterpolargl\",\"marker\":{\"colorbar\":{\"outlinewidth\":0,\"ticks\":\"\"}}}],\"bar\":[{\"error_x\":{\"color\":\"#2a3f5f\"},\"error_y\":{\"color\":\"#2a3f5f\"},\"marker\":{\"line\":{\"color\":\"#E5ECF6\",\"width\":0.5},\"pattern\":{\"fillmode\":\"overlay\",\"size\":10,\"solidity\":0.2}},\"type\":\"bar\"}],\"scattergeo\":[{\"type\":\"scattergeo\",\"marker\":{\"colorbar\":{\"outlinewidth\":0,\"ticks\":\"\"}}}],\"scatterpolar\":[{\"type\":\"scatterpolar\",\"marker\":{\"colorbar\":{\"outlinewidth\":0,\"ticks\":\"\"}}}],\"histogram\":[{\"marker\":{\"pattern\":{\"fillmode\":\"overlay\",\"size\":10,\"solidity\":0.2}},\"type\":\"histogram\"}],\"scattergl\":[{\"type\":\"scattergl\",\"marker\":{\"colorbar\":{\"outlinewidth\":0,\"ticks\":\"\"}}}],\"scatter3d\":[{\"type\":\"scatter3d\",\"line\":{\"colorbar\":{\"outlinewidth\":0,\"ticks\":\"\"}},\"marker\":{\"colorbar\":{\"outlinewidth\":0,\"ticks\":\"\"}}}],\"scattermapbox\":[{\"type\":\"scattermapbox\",\"marker\":{\"colorbar\":{\"outlinewidth\":0,\"ticks\":\"\"}}}],\"scatterternary\":[{\"type\":\"scatterternary\",\"marker\":{\"colorbar\":{\"outlinewidth\":0,\"ticks\":\"\"}}}],\"scattercarpet\":[{\"type\":\"scattercarpet\",\"marker\":{\"colorbar\":{\"outlinewidth\":0,\"ticks\":\"\"}}}],\"carpet\":[{\"aaxis\":{\"endlinecolor\":\"#2a3f5f\",\"gridcolor\":\"white\",\"linecolor\":\"white\",\"minorgridcolor\":\"white\",\"startlinecolor\":\"#2a3f5f\"},\"baxis\":{\"endlinecolor\":\"#2a3f5f\",\"gridcolor\":\"white\",\"linecolor\":\"white\",\"minorgridcolor\":\"white\",\"startlinecolor\":\"#2a3f5f\"},\"type\":\"carpet\"}],\"table\":[{\"cells\":{\"fill\":{\"color\":\"#EBF0F8\"},\"line\":{\"color\":\"white\"}},\"header\":{\"fill\":{\"color\":\"#C8D4E3\"},\"line\":{\"color\":\"white\"}},\"type\":\"table\"}],\"barpolar\":[{\"marker\":{\"line\":{\"color\":\"#E5ECF6\",\"width\":0.5},\"pattern\":{\"fillmode\":\"overlay\",\"size\":10,\"solidity\":0.2}},\"type\":\"barpolar\"}],\"pie\":[{\"automargin\":true,\"type\":\"pie\"}]},\"layout\":{\"autotypenumbers\":\"strict\",\"colorway\":[\"#636efa\",\"#EF553B\",\"#00cc96\",\"#ab63fa\",\"#FFA15A\",\"#19d3f3\",\"#FF6692\",\"#B6E880\",\"#FF97FF\",\"#FECB52\"],\"font\":{\"color\":\"#2a3f5f\"},\"hovermode\":\"closest\",\"hoverlabel\":{\"align\":\"left\"},\"paper_bgcolor\":\"white\",\"plot_bgcolor\":\"#E5ECF6\",\"polar\":{\"bgcolor\":\"#E5ECF6\",\"angularaxis\":{\"gridcolor\":\"white\",\"linecolor\":\"white\",\"ticks\":\"\"},\"radialaxis\":{\"gridcolor\":\"white\",\"linecolor\":\"white\",\"ticks\":\"\"}},\"ternary\":{\"bgcolor\":\"#E5ECF6\",\"aaxis\":{\"gridcolor\":\"white\",\"linecolor\":\"white\",\"ticks\":\"\"},\"baxis\":{\"gridcolor\":\"white\",\"linecolor\":\"white\",\"ticks\":\"\"},\"caxis\":{\"gridcolor\":\"white\",\"linecolor\":\"white\",\"ticks\":\"\"}},\"coloraxis\":{\"colorbar\":{\"outlinewidth\":0,\"ticks\":\"\"}},\"colorscale\":{\"sequential\":[[0.0,\"#0d0887\"],[0.1111111111111111,\"#46039f\"],[0.2222222222222222,\"#7201a8\"],[0.3333333333333333,\"#9c179e\"],[0.4444444444444444,\"#bd3786\"],[0.5555555555555556,\"#d8576b\"],[0.6666666666666666,\"#ed7953\"],[0.7777777777777778,\"#fb9f3a\"],[0.8888888888888888,\"#fdca26\"],[1.0,\"#f0f921\"]],\"sequentialminus\":[[0.0,\"#0d0887\"],[0.1111111111111111,\"#46039f\"],[0.2222222222222222,\"#7201a8\"],[0.3333333333333333,\"#9c179e\"],[0.4444444444444444,\"#bd3786\"],[0.5555555555555556,\"#d8576b\"],[0.6666666666666666,\"#ed7953\"],[0.7777777777777778,\"#fb9f3a\"],[0.8888888888888888,\"#fdca26\"],[1.0,\"#f0f921\"]],\"diverging\":[[0,\"#8e0152\"],[0.1,\"#c51b7d\"],[0.2,\"#de77ae\"],[0.3,\"#f1b6da\"],[0.4,\"#fde0ef\"],[0.5,\"#f7f7f7\"],[0.6,\"#e6f5d0\"],[0.7,\"#b8e186\"],[0.8,\"#7fbc41\"],[0.9,\"#4d9221\"],[1,\"#276419\"]]},\"xaxis\":{\"gridcolor\":\"white\",\"linecolor\":\"white\",\"ticks\":\"\",\"title\":{\"standoff\":15},\"zerolinecolor\":\"white\",\"automargin\":true,\"zerolinewidth\":2},\"yaxis\":{\"gridcolor\":\"white\",\"linecolor\":\"white\",\"ticks\":\"\",\"title\":{\"standoff\":15},\"zerolinecolor\":\"white\",\"automargin\":true,\"zerolinewidth\":2},\"scene\":{\"xaxis\":{\"backgroundcolor\":\"#E5ECF6\",\"gridcolor\":\"white\",\"linecolor\":\"white\",\"showbackground\":true,\"ticks\":\"\",\"zerolinecolor\":\"white\",\"gridwidth\":2},\"yaxis\":{\"backgroundcolor\":\"#E5ECF6\",\"gridcolor\":\"white\",\"linecolor\":\"white\",\"showbackground\":true,\"ticks\":\"\",\"zerolinecolor\":\"white\",\"gridwidth\":2},\"zaxis\":{\"backgroundcolor\":\"#E5ECF6\",\"gridcolor\":\"white\",\"linecolor\":\"white\",\"showbackground\":true,\"ticks\":\"\",\"zerolinecolor\":\"white\",\"gridwidth\":2}},\"shapedefaults\":{\"line\":{\"color\":\"#2a3f5f\"}},\"annotationdefaults\":{\"arrowcolor\":\"#2a3f5f\",\"arrowhead\":0,\"arrowwidth\":1},\"geo\":{\"bgcolor\":\"white\",\"landcolor\":\"#E5ECF6\",\"subunitcolor\":\"white\",\"showland\":true,\"showlakes\":true,\"lakecolor\":\"white\"},\"title\":{\"x\":0.05},\"mapbox\":{\"style\":\"light\"}}},\"xaxis\":{\"anchor\":\"y\",\"domain\":[0.0,1.0]},\"yaxis\":{\"anchor\":\"x\",\"domain\":[0.0,1.0],\"autorange\":\"reversed\"},\"coloraxis\":{\"colorscale\":[[0.0,\"rgb(5,48,97)\"],[0.1,\"rgb(33,102,172)\"],[0.2,\"rgb(67,147,195)\"],[0.3,\"rgb(146,197,222)\"],[0.4,\"rgb(209,229,240)\"],[0.5,\"rgb(247,247,247)\"],[0.6,\"rgb(253,219,199)\"],[0.7,\"rgb(244,165,130)\"],[0.8,\"rgb(214,96,77)\"],[0.9,\"rgb(178,24,43)\"],[1.0,\"rgb(103,0,31)\"]]},\"margin\":{\"t\":60}},                        {\"responsive\": true}                    ).then(function(){\n",
              "                            \n",
              "var gd = document.getElementById('277f485b-1fac-46a0-87a2-6886b1ccc797');\n",
              "var x = new MutationObserver(function (mutations, observer) {{\n",
              "        var display = window.getComputedStyle(gd).display;\n",
              "        if (!display || display === 'none') {{\n",
              "            console.log([gd, 'removed!']);\n",
              "            Plotly.purge(gd);\n",
              "            observer.disconnect();\n",
              "        }}\n",
              "}});\n",
              "\n",
              "// Listen for the removal of the full notebook cells\n",
              "var notebookContainer = gd.closest('#notebook-container');\n",
              "if (notebookContainer) {{\n",
              "    x.observe(notebookContainer, {childList: true});\n",
              "}}\n",
              "\n",
              "// Listen for the clearing of the current output cell\n",
              "var outputEl = gd.closest('.output');\n",
              "if (outputEl) {{\n",
              "    x.observe(outputEl, {childList: true});\n",
              "}}\n",
              "\n",
              "                        })                };                            </script>        </div>\n",
              "</body>\n",
              "</html>"
            ]
          },
          "metadata": {}
        }
      ],
      "source": [
        "corr = new_df.corr()\n",
        "fig=px.imshow(corr, aspect=\"auto\" ,color_continuous_scale='RdBu_r')\n",
        "fig.show()"
      ]
    },
    {
      "cell_type": "markdown",
      "id": "a7c45385",
      "metadata": {
        "id": "a7c45385"
      },
      "source": [
        "Negative Correlations: V17, V14, V12 and V10 are negatively correlated.  \n",
        "Positive Correlations: V2, V4, V11 are positively correlated."
      ]
    },
    {
      "cell_type": "markdown",
      "source": [
        "Note-Used chatgpt to understand the correlations. As the features are anonymised it was difficult to conclude and get relationship and dependency on eachother."
      ],
      "metadata": {
        "id": "UTHyEos_fjut"
      },
      "id": "UTHyEos_fjut"
    },
    {
      "cell_type": "code",
      "execution_count": null,
      "id": "Mzekq9GppDUe",
      "metadata": {
        "colab": {
          "base_uri": "https://localhost:8080/"
        },
        "id": "Mzekq9GppDUe",
        "outputId": "dd94f470-a319-41bc-aa63-0ef53201b34f"
      },
      "outputs": [
        {
          "output_type": "stream",
          "name": "stdout",
          "text": [
            "Highly Correlated Feature Pairs (|r| > 0.9):\n",
            "V11 ↔ V12: r = 0.90\n",
            "V12 ↔ V16: r = 0.90\n",
            "V16 ↔ V17: r = 0.96\n",
            "V16 ↔ V18: r = 0.91\n",
            "V17 ↔ V18: r = 0.94\n"
          ]
        }
      ],
      "source": [
        "# Calculate absolute correlation matrix (optional: choose df or new_df)\n",
        "corr_matrix = new_df.corr().abs()\n",
        "\n",
        "# Select upper triangle of correlation matrix to avoid duplicates and self-correlation\n",
        "upper = corr_matrix.where(np.triu(np.ones(corr_matrix.shape), k=1).astype(bool))\n",
        "\n",
        "# Set threshold\n",
        "threshold = 0.9\n",
        "\n",
        "# Find feature pairs with high correlation\n",
        "high_corr_pairs = [(col1, col2, corr_matrix.loc[col1, col2])\n",
        "                   for col1 in upper.columns\n",
        "                   for col2 in upper.columns\n",
        "                   if (upper.loc[col1, col2] > threshold)]\n",
        "\n",
        "# Display results\n",
        "print(\"Highly Correlated Feature Pairs (|r| > 0.9):\")\n",
        "for f1, f2, corr_value in high_corr_pairs:\n",
        "    print(f\"{f1} ↔ {f2}: r = {corr_value:.2f}\")"
      ]
    },
    {
      "cell_type": "markdown",
      "source": [
        "Reference-https://data36.com/correlation-definition-calculation-corr-pandas/"
      ],
      "metadata": {
        "id": "aYOheNtufnUJ"
      },
      "id": "aYOheNtufnUJ"
    },
    {
      "cell_type": "markdown",
      "id": "09014a1a",
      "metadata": {
        "id": "09014a1a"
      },
      "source": [
        "### TSNE"
      ]
    },
    {
      "cell_type": "code",
      "execution_count": null,
      "id": "64e561a6",
      "metadata": {
        "id": "64e561a6"
      },
      "outputs": [],
      "source": [
        "from sklearn.manifold import TSNE\n",
        "X = new_df.drop('Class', axis=1)\n",
        "y = new_df['Class']\n",
        "\n",
        "# T-SNE Implementation\n",
        "X_reduced_tsne = TSNE(n_components=2, random_state=42).fit_transform(X.values)"
      ]
    },
    {
      "cell_type": "code",
      "execution_count": null,
      "id": "1b1e39a4",
      "metadata": {
        "colab": {
          "base_uri": "https://localhost:8080/",
          "height": 542
        },
        "id": "1b1e39a4",
        "outputId": "276f57c9-8f50-4dff-a834-c1cbff20fa4c"
      },
      "outputs": [
        {
          "output_type": "display_data",
          "data": {
            "text/html": [
              "<html>\n",
              "<head><meta charset=\"utf-8\" /></head>\n",
              "<body>\n",
              "    <div>            <script src=\"https://cdnjs.cloudflare.com/ajax/libs/mathjax/2.7.5/MathJax.js?config=TeX-AMS-MML_SVG\"></script><script type=\"text/javascript\">if (window.MathJax && window.MathJax.Hub && window.MathJax.Hub.Config) {window.MathJax.Hub.Config({SVG: {font: \"STIX-Web\"}});}</script>                <script type=\"text/javascript\">window.PlotlyConfig = {MathJaxConfig: 'local'};</script>\n",
              "        <script charset=\"utf-8\" src=\"https://cdn.plot.ly/plotly-2.35.2.min.js\"></script>                <div id=\"6dea9007-8acd-495e-85ac-489bc51fc8d4\" class=\"plotly-graph-div\" style=\"height:525px; width:100%;\"></div>            <script type=\"text/javascript\">                                    window.PLOTLYENV=window.PLOTLYENV || {};                                    if (document.getElementById(\"6dea9007-8acd-495e-85ac-489bc51fc8d4\")) {                    Plotly.newPlot(                        \"6dea9007-8acd-495e-85ac-489bc51fc8d4\",                        [{\"hovertemplate\":\"x=%{x}\\u003cbr\\u003ey=%{y}\\u003cbr\\u003ecolor=%{marker.color}\\u003cextra\\u003e\\u003c\\u002fextra\\u003e\",\"legendgroup\":\"\",\"marker\":{\"color\":[0,1,1,1,1,1,1,1,1,1,1,1,1,0,0,1,1,1,1,0,0,0,0,0,0,1,1,1,0,0,0,0,0,1,0,0,0,0,0,0,1,1,1,0,0,1,1,1,0,0,0,1,0,1,1,1,0,0,1,0,0,0,0,1,0,1,0,0,1,0,1,0,1,1,0,0,1,0,1,0,0,0,0,1,0,0,1,0,0,0,1,0,0,0,1,0,1,0,1,0,1,1,1,1,1,0,1,1,0,0,0,1,1,0,0,0,1,0,1,1,0,0,0,0,0,1,0,0,1,0,0,0,0,1,0,1,1,1,0,1,1,1,1,0,1,1,0,1,0,1,1,1,0,0,1,0,0,0,0,1,1,0,1,0,1,0,1,0,1,1,1,0,0,0,0,1,0,1,0,0,1,0,0,0,1,0,0,1,0,1,0,1,1,0,1,1,0,1,0,1,1,0,1,1,1,1,0,1,1,0,0,1,1,1,0,1,0,1,1,1,0,0,0,0,1,0,1,0,0,0,0,1,0,1,1,1,1,1,1,1,0,0,1,0,1,1,1,1,0,0,0,0,1,1,1,0,0,0,0,1,0,1,0,1,1,1,0,1,0,1,1,1,1,0,0,1,1,0,0,0,1,0,0,1,0,0,1,0,0,0,0,0,1,1,0,1,1,1,1,0,1,0,1,1,0,0,0,1,0,0,0,0,0,1,1,1,1,1,0,1,0,1,1,0,1,1,1,1,0,1,1,0,1,1,1,0,1,1,0,1,1,1,1,1,0,1,1,0,0,1,1,0,1,1,1,0,1,0,1,1,1,0,1,0,1,1,1,0,1,1,0,0,0,1,1,0,0,0,1,0,0,0,0,1,0,0,0,1,1,1,0,1,1,1,1,0,1,1,1,1,1,0,1,0,0,1,0,0,0,1,0,0,0,0,0,1,1,0,0,0,1,1,1,1,0,0,1,1,1,1,0,1,1,0,1,1,0,0,0,0,0,0,1,1,1,0,1,1,1,1,0,0,0,0,1,1,1,1,1,0,0,0,1,1,0,0,0,1,1,0,1,0,1,1,0,1,0,0,0,0,1,1,1,1,0,1,0,1,1,1,1,1,0,0,0,0,1,1,0,0,0,1,0,0,1,1,1,0,0,1,0,0,1,0,1,1,1,0,1,1,1,1,0,1,0,0,0,0,1,1,0,0,1,0,0,1,1,1,1,1,0,0,0,1,1,0,1,1,0,1,1,0,1,1,0,1,1,1,0,1,1,0,0,0,1,0,0,1,1,1,0,0,0,0,1,1,0,0,0,1,1,1,1,0,0,1,1,0,1,1,0,0,0,0,0,0,0,1,0,1,0,1,1,0,1,0,0,0,0,0,1,0,0,1,1,0,1,0,1,1,1,0,1,1,0,0,0,1,0,0,0,0,0,0,0,1,0,1,0,0,0,1,1,0,1,1,1,0,0,0,1,1,1,1,0,1,0,0,1,0,1,1,0,1,1,0,0,0,0,0,1,0,1,1,1,0,0,0,0,0,0,1,1,0,0,0,0,1,1,1,1,1,0,0,1,0,1,0,1,1,1,1,1,1,1,1,1,0,0,0,1,0,1,0,0,0,1,0,0,0,0,0,0,0,0,1,0,0,1,0,1,0,1,0,1,0,0,0,1,0,0,1,0,0,1,0,1,0,0,1,1,0,0,0,1,1,1,1,0,0,1,1,0,0,0,0,0,0,0,0,0,0,0,0,1,1,0,1,0,1,0,1,0,0,0,0,0,0,1,0,1,0,0,0,1,0,0,1,1,0,1,0,0,1,1,0,0,0,0,0,0,0,0,1,0,0,0,1,0,1,1,0,1,1,1,0,1,0,0,1,1,1,0,1,0,0,1,1,1,0,1,0,0,0,1,0,1,1,1,0,1,1,0,1,0,1,1,0,0,0,1,0,1,0,1,1,0,0,0,1,1,1,0,0,1,0,0,0,0,1,0,1,1,0,0,0,1,1,1,0,0,1,1,1,1,1,0,1,0,1,1,1,0,1,1,1,0,0,0,0,0,0,0,0,1,0,0,0,0,1,0,0,0,0,0,1,0,0,0,0,1,1,1,1,1,1,1,1,0,1,0,1,0,1,0,1,0,0,1,1,1,1,1,1,1,1,0,1,0,1,1,1,0,1,1],\"coloraxis\":\"coloraxis\",\"symbol\":\"circle\"},\"mode\":\"markers\",\"name\":\"\",\"orientation\":\"v\",\"showlegend\":false,\"x\":[18.239311,-22.06651,-32.55637,-27.161242,-33.54439,-31.78195,-14.747773,-29.452965,-31.897137,-38.569553,-15.487997,0.90963787,-31.813187,32.690083,25.680452,-38.734787,8.638735,-30.386734,-18.074091,18.972315,41.070374,31.347982,33.991512,29.198479,8.086224,-23.195087,4.5662284,-34.869843,13.774949,6.0340405,13.568206,24.180138,13.367621,-26.11452,16.080992,18.429813,5.7580957,10.77282,32.93925,20.310923,-24.307247,-29.15432,-25.082832,11.584868,1.4486195,-38.18587,-19.584045,-34.16972,39.368355,29.894157,12.493676,-22.465334,9.03259,-23.272575,4.365788,-38.425983,25.211199,18.67694,-0.30599824,30.085896,3.9722488,3.7879562,15.435572,-35.605644,34.522293,-37.275246,15.008448,4.8193264,-25.888556,5.8320923,-34.626503,17.206982,2.6184976,-35.25475,13.440362,3.3036804,-43.30694,28.369179,0.001231394,29.233517,40.813896,7.813723,37.046047,12.327069,17.697569,25.746248,-33.091934,16.342953,19.14409,9.684541,-34.982754,17.550375,24.907656,31.82823,-34.427624,16.51812,-42.45035,23.133362,-31.73167,37.564495,-21.360428,-47.102257,-35.796288,-27.429836,-34.900707,23.93144,-39.056927,-29.63042,19.273796,14.063823,19.361095,-39.47067,-43.963684,-1.9715909,17.862732,22.270988,-30.80631,18.947681,-28.243267,-19.637674,24.476137,13.293404,20.241966,17.134354,3.9835815,-26.665325,30.656956,19.052685,-35.023952,15.42533,-12.697632,6.295869,7.4901943,-34.48717,14.935442,-43.281456,2.8163338,-30.460533,20.332087,-32.790848,-39.82229,-33.781208,1.8054993,13.373036,-38.26677,-39.26383,8.839031,8.435173,30.046364,-21.994799,2.1150835,-18.492756,21.633738,9.425097,-22.215359,38.554058,12.690912,15.955122,14.378283,-34.341705,-42.237095,31.311327,-21.52126,15.724883,-38.83687,26.59528,-25.412018,19.81328,-44.8914,-37.270527,1.9107188,26.408463,5.8709364,19.675093,14.153346,5.512572,7.051063,8.773896,12.317223,10.3171215,17.018171,21.313261,25.678967,16.014732,-38.751038,20.164976,15.007809,-28.825079,31.239975,-35.49952,15.382422,5.3247714,-43.927803,9.881396,10.901944,-13.563751,8.359804,-44.39484,17.609428,-2.5210457,-44.798332,13.341382,-22.210037,-31.898272,-39.214138,-34.200905,13.645598,-40.07482,-47.07448,13.31223,4.7280226,-24.99961,28.258186,-33.48021,15.097684,-38.07795,37.948307,-37.181145,-38.875626,-46.293316,16.042826,15.02104,10.229442,9.032462,-45.22467,12.937609,-38.26131,6.5724206,8.2065,26.069456,10.307278,2.117346,12.061406,-45.52662,-20.467419,-45.65913,-45.531116,-42.4382,-24.66852,-22.365997,1.2587525,26.434614,-45.577972,19.470654,2.0358407,-38.901764,-34.162758,-36.898487,10.50528,4.5842347,39.272804,7.084515,-36.320927,-29.066452,-45.166256,20.993835,38.958286,19.405642,23.655846,-40.399,13.49451,-31.007835,26.240036,-40.095226,-42.267155,-42.326168,1.9169201,-35.087376,4.4172845,-39.729713,-29.82207,-28.846031,-23.936085,38.275887,9.51339,-36.26216,-16.482887,12.667085,23.664322,16.180399,-33.649715,18.872503,18.319897,-23.393421,12.949721,12.722668,-42.938187,10.25638,40.052395,17.309237,20.259375,12.728067,-36.115395,-28.431322,-3.0857446,-26.924517,6.8263645,22.859287,-46.68222,9.174115,-45.06535,19.998028,1.9891424,2.5725584,10.1002865,10.815531,20.439846,-31.836586,31.140364,12.192238,11.327726,21.494743,39.92005,-22.420143,-39.006775,-19.54687,2.4294477,-36.939034,11.062396,-22.736513,6.3693085,-46.61317,1.9036639,19.427963,-19.805153,-45.543243,-29.96108,1.8085468,19.785587,7.7950506,-41.487206,31.1777,3.6707056,-14.73761,-21.413197,8.367657,-16.653385,-26.416594,5.6360765,-39.139374,-35.1776,-34.359516,4.2631993,2.7218847,22.724436,9.721977,0.78795534,30.676125,33.52481,9.7873335,-31.48524,32.566612,-33.05121,-39.033485,-24.583467,14.671399,-24.214754,5.8842716,-29.957624,-32.83297,-45.841614,11.565517,3.4718382,13.0629,1.8349026,-29.32127,-36.371803,10.808791,-43.70294,-36.112076,15.850551,23.192968,33.24471,-26.961569,-39.56867,21.386238,15.986934,10.248363,-34.04369,18.176624,19.951189,13.982014,20.227009,16.05289,22.947329,17.028908,23.251688,10.667786,-30.512486,-30.364689,15.059421,8.094504,-46.10518,-47.09298,-32.534966,37.76564,-40.82189,31.12235,-18.73347,-40.54687,-35.67594,11.732816,-38.510883,32.640644,27.242666,-34.4456,12.9614315,26.75358,18.229689,-28.534,8.465642,10.779289,11.045119,17.617378,13.301172,-46.30974,-30.017105,27.89584,4.1861057,3.0052054,-35.01886,0.26277605,-38.10846,-31.809513,21.184467,23.386526,-19.447832,-34.731354,-33.342743,-34.6034,17.170906,-32.136208,-16.98609,17.03951,-45.412083,-22.23205,14.294848,9.494058,30.699306,16.564121,14.971125,8.234673,-41.44378,6.093858,-27.420145,13.670197,-25.994286,-20.989635,-29.078938,-41.89542,18.157743,10.270793,12.481882,19.127426,-43.5614,11.690462,-38.786633,-20.52509,-38.878193,19.970566,11.310974,11.839169,-33.84597,-47.67297,0.51614684,16.04919,27.904934,-36.19684,-43.36503,8.955056,-28.2367,16.01686,-26.05349,-43.417496,30.70819,-42.39653,16.145,12.21344,13.8852625,39.73194,-41.419632,4.4579883,-35.150238,-38.35952,17.847775,-37.86576,12.958907,-45.741127,-39.06693,-37.74029,-26.944643,-42.596443,13.20279,19.456326,2.163532,12.502455,-34.262295,-35.092293,39.858833,8.600828,31.8674,-38.869995,5.623183,2.4159567,-13.279788,-24.906204,-20.189266,15.210064,32.463245,-45.562614,22.496855,6.8454666,-39.287,13.3728,0.05758135,5.4292393,-16.36177,29.018328,-34.414223,-38.66012,-33.067616,-34.660572,11.1790905,-44.467506,2.4941726,16.998253,10.217606,30.724543,-31.98516,-33.89518,22.08144,10.075607,-33.59913,21.064116,33.92278,-22.234362,-48.400944,-35.9567,1.3642172,-35.370026,7.2461348,14.493077,18.878725,-22.207397,-31.84013,33.61506,-21.425537,-32.309235,15.51023,-23.427284,3.4020553,18.786741,-20.476131,0.21985108,16.94671,-35.62792,-23.156803,-34.80636,16.139633,-34.17784,4.772979,15.172428,13.770496,7.420626,-37.500797,28.03837,18.343615,-24.068287,-31.415197,-38.87019,11.685006,14.730902,14.421901,10.408561,-32.58652,-29.640833,24.596798,22.773138,7.5992947,8.038914,-36.2964,-23.903296,-47.025078,39.50532,0.5477985,-26.297049,-19.482204,16.338346,-32.535225,-25.346247,14.703311,22.653791,17.45157,0.83623606,2.4144094,10.383827,14.985487,-42.30891,32.140087,-34.50267,31.060942,19.234821,-45.771088,21.73372,-33.58638,13.358423,15.823581,0.37514338,5.784039,13.410571,-23.058737,36.302692,6.9395413,-34.99417,0.70847327,9.995826,-48.49293,22.955685,11.505595,-39.3945,-35.516647,14.855625,12.048202,-32.08775,34.588955,15.489944,13.946716,-42.655396,13.403684,26.570137,5.131827,3.769034,6.693639,34.125717,20.678244,-33.685722,8.112201,11.44424,6.822784,5.8807425,12.495792,30.25903,-30.087315,16.376545,-22.66762,0.73914206,-31.501709,9.720019,17.93446,24.653837,-36.401245,-46.131104,10.746148,3.9677944,12.384004,-31.773033,19.612604,9.624596,-34.749187,40.055206,-35.806076,-36.801765,22.599106,3.0125785,-34.084652,6.7107835,14.811034,4.2190223,26.523876,20.078733,-47.516754,5.1562557,5.4105706,4.452235,-42.92553,23.84688,31.44086,13.848524,15.78815,17.684044,16.521944,25.042288,-37.275856,2.3494022,1.3926815,-0.06675442,2.4182534,-16.476603,1.7655306,-21.172352,-31.944689,-24.385347,32.437435,18.013441,-22.902674,31.39936,-38.008804,22.18897,-28.914173,-21.982275,-18.620897,-38.50813,-21.479029,-21.028524,-31.879004,-33.41035,-15.199119,9.396866,4.8427057,6.523007,-28.68734,28.645258,-39.337666,18.125818,11.274797,30.552505,-35.09928,28.441187,20.113066,10.011232,28.23338,4.465151,19.128414,26.239485,21.491642,1.4500868,6.651739,7.319388,-41.558342,18.307293,-30.374937,24.558308,-40.0924,19.016907,0.4018587,5.8608475,10.518873,38.33148,-31.456,11.687643,32.696526,-38.656155,12.615655,8.295112,-46.267162,13.699296,-33.593826,26.127153,40.08122,-28.502996,-33.32264,23.192518,7.8680534,18.451063,3.7672606,-0.35455355,-34.658096,1.9884053,0.2415201,12.641228,0.35906792,-19.23782,11.511679,18.173985,13.317693,19.235071,30.505735,19.145338,19.861818,23.065237,27.031683,32.02995,9.60722,5.18943,-34.824215,-26.021954,29.36386,13.819124,21.124945,2.5012596,15.824325,-33.04645,18.732567,33.099556,25.643005,21.261395,23.712755,11.3784275,-34.743988,12.037487,23.905867,17.026825,10.141372,21.215023,2.1212394,16.114983,25.683092,9.6850395,-31.568281,3.3074954,6.7448688,8.04436,11.828264,-48.456818,14.564107,9.149353,9.83874,32.566547,23.284752,15.90561,17.35701,14.179247,11.236404,-22.245586,26.253952,17.753263,4.7277184,9.366774,25.924883,4.1745677,-30.168833,9.575267,-24.32864,-18.803244,-34.262836,13.459802,14.175034,17.704166,13.752983,-36.033783,-42.168358,-35.21484,17.636404,-33.243637,13.687063,18.803009,-20.109436,-38.723545,-22.467215,23.145597,-31.743973,6.7922964,25.813635,38.342934,-41.8946,28.394539,-29.425795,-34.997902,-33.476536,21.274313,2.5498514,-37.882465,10.565198,-39.385777,7.47739,-29.564703,3.6035054,23.049107,22.185501,15.392197,-15.209501,16.602179,-29.509115,15.491352,-34.148026,-17.468752,15.176645,4.8480263,12.043269,-21.880424,-38.742874,30.186527,19.766233,15.856211,-47.536552,9.194256,19.101408,7.60304,20.626287,-38.99077,38.652668,-34.526066,-2.314031,19.535522,8.840019,-13.253689,-29.727316,-31.301123,-24.050678,37.00173,11.284937,-21.141048,-27.55716,-38.681225,-35.074284,1.0555203,14.237192,-28.21061,6.0919166,7.5380635,-41.489876,-17.943626,20.39534,-34.27306,-47.24825,-42.730083,13.432718,13.483095,13.951341,20.24515,9.83598,11.600953,20.627756,7.2010727,-23.864868,13.080189,15.065535,12.082721,23.774223,-20.36895,13.487304,12.97378,1.4377571,34.694427,19.062454,17.146442,11.450824,28.425966,11.578551,18.358944,-31.6268,-45.21634,-31.878044,-20.780226,-22.84334,8.107411,-36.16936,-30.888432,-1.8597885,3.2653036,22.967567,10.69838,23.055212,-45.44235,26.235226,-32.10271,23.827736,32.390152,-39.11549,-46.65173,21.612183,-43.341763,-24.29528,-24.423216,-45.005245,2.545326,16.211336,-16.98098,7.537911,7.6749907,-36.696968,-43.385292,2.3048115,-42.26091,-37.16735],\"xaxis\":\"x\",\"y\":[12.922458,-18.651043,-25.95069,-25.675264,28.413052,-32.90958,-5.5830164,-14.093644,27.333834,24.88479,-5.179203,-18.925547,28.356106,8.688377,12.227151,-15.542235,24.352085,-17.797503,-21.423569,-11.683521,-6.2969947,0.68265826,7.902551,6.5100665,5.721162,-17.062984,-12.515672,-18.736841,29.987408,21.968298,-3.2322662,14.014837,25.613457,-20.719612,31.223272,21.458546,-1.8288637,4.128819,9.352457,1.062436,-17.00809,-30.049055,-16.409555,24.12796,9.965547,-13.829057,-18.94002,28.444927,-6.604722,11.995432,-12.27543,-16.823563,-13.701997,-21.476301,-16.396479,-17.757753,18.230297,7.337557,-18.294193,2.0361245,-0.2836625,0.33232257,-11.683737,29.45458,7.8945036,24.60058,16.037962,-3.7378507,-23.069036,22.525814,25.945217,-13.4150915,19.228964,-20.87332,20.947004,0.16112593,22.211433,12.810561,16.819618,1.2224442,-7.414185,28.881052,-6.908239,7.430409,-11.61385,1.608372,-19.947323,11.305891,-8.914791,27.3766,-31.06593,-5.0122147,18.649784,8.034407,-11.043099,16.809822,-3.6745598,-10.525739,-11.616527,-8.70897,-19.400253,20.463692,-20.856716,-8.730219,26.45549,-10.369425,20.055433,-31.757774,-9.849425,24.295488,16.673119,22.716316,21.434858,15.528213,2.424346,-5.016679,-32.081406,-4.353338,-22.788038,-15.214753,-0.86277306,21.83467,-6.314869,29.030926,-0.32564515,-17.657717,13.162506,2.86748,-18.0075,18.017796,-2.7596347,4.9273076,13.268494,-30.349955,-3.7834244,-9.405973,5.9488177,-16.106987,-0.9152181,-14.182985,-12.714189,27.702723,-12.844438,0.88337594,18.587915,-10.957567,28.016487,8.111143,0.44663557,-23.160208,-18.757755,-18.1937,14.415572,24.587063,-13.9473715,-5.9989305,23.17085,23.998024,26.185043,-26.931595,-3.519683,11.956673,-18.638075,-10.197267,15.975703,11.218642,-19.406162,18.220785,22.157253,26.692076,-6.8249493,19.89589,8.789603,1.0194575,17.816298,17.16999,28.158123,10.640595,-3.7107842,28.819077,16.752573,8.687235,1.6376925,-9.410933,24.596096,11.486639,13.003138,-29.986845,-1.0016601,19.393608,-9.3199625,29.592587,22.165768,15.131019,-13.474857,-4.042476,26.574663,22.1258,-13.382367,12.397284,21.004938,-12.749453,-19.337036,-12.72852,-27.708252,20.656578,29.658016,-12.179769,-8.108956,-14.013615,7.972962,-15.777278,-7.242784,-31.699352,25.452091,18.771948,-7.44717,25.275408,-15.382768,-9.465139,22.82917,16.008476,26.116405,22.353962,21.629707,-3.554343,25.569021,-3.0041404,25.111187,10.675533,28.635702,-18.574034,9.823859,-6.229507,-23.765877,-7.473369,21.176603,-4.3859243,-23.769001,-24.538332,20.506428,1.3162315,22.124807,4.273112,-12.14822,-28.189907,-21.344538,26.037697,30.724499,-2.6637795,-9.553233,23.878775,23.51091,-16.336565,-7.1224737,-8.963463,-9.632984,17.753792,-0.09657551,-12.507191,-6.893146,-14.105454,-8.334268,-15.586952,-3.3722959,-8.029196,-1.7358608,-30.856298,-15.115907,-13.376492,-32.437164,-30.327997,-14.951884,-8.849145,-14.655998,28.44629,-7.2165136,-5.2628016,-13.8796215,-1.6822159,-15.30297,7.2887583,25.105783,-21.902111,-3.2976954,12.23844,22.099825,17.258255,-7.4463706,-14.413763,-0.3303307,15.050526,22.452023,-29.374846,15.9140415,-18.012516,18.294363,-1.3512737,-12.350541,28.433878,-6.996429,-2.4063673,-7.45158,-12.79395,19.83158,4.0959535,25.864826,27.140415,6.5848207,-12.728012,17.376385,-5.718941,-9.742331,-18.065401,-11.198865,-16.267576,-14.424678,-11.442766,17.001253,-22.628279,8.099764,21.766106,-6.8453484,17.370136,-19.714178,20.64175,-31.464293,-13.624865,-2.7917504,10.18388,-9.840694,-1.2157394,-17.407495,-5.564617,-25.242996,-10.076313,-20.487999,-13.986422,-2.6898024,-27.815153,19.857128,-22.335943,-16.32366,-1.9715103,0.11327263,-13.23136,14.26015,2.3295763,10.878941,-13.420614,-17.559547,12.019849,-19.646994,23.510073,-14.612765,-13.536184,-26.807325,12.133441,-19.172697,-14.165631,-11.040937,24.030884,24.610825,33.503162,-10.195273,-19.12506,28.028074,15.691213,-10.25294,24.225037,18.608952,1.0379741,7.7121344,-25.544281,23.6822,-7.8347063,0.56546223,-15.178705,-30.705784,-10.074205,-5.895811,-2.639321,-13.1069,-4.0849032,21.979563,14.029398,0.80341446,-8.045622,-17.900293,-16.237566,-2.9831889,12.32412,21.837587,21.516188,-10.675276,-9.595713,-11.119213,-1.1445484,-21.212017,-12.307301,27.592304,30.572414,17.581602,7.0896997,-7.283375,-33.21596,-4.4429603,14.655759,9.132376,-32.860344,10.55985,10.5192585,13.758841,-12.567702,-2.9802747,20.369238,-19.211754,8.0443,1.2329857,-0.91583,-22.401415,-17.55981,24.978546,26.97629,1.0769936,20.438103,-18.655592,-11.546927,-32.289124,-30.68937,28.507347,-20.660423,-14.976818,-0.5708464,-9.256513,-24.582117,20.330164,18.289864,13.909275,-0.5343598,-0.16367935,16.639338,-10.6122055,17.539434,-8.735385,-7.0059595,-24.44174,-17.464468,-22.368755,-12.246042,1.0008373,21.103884,21.865898,25.061874,-10.033434,18.942314,18.769087,-25.5398,15.488605,-4.5959096,23.841629,18.98296,-31.572144,-12.409432,15.560393,31.568756,8.335921,25.427837,-8.478478,22.507866,-9.425963,30.999939,-22.810528,21.76751,13.916946,-4.0822344,-9.580142,29.277925,-6.314169,-6.1777005,-8.868605,-12.591274,28.23252,18.737108,-1.4869711,-17.50192,-14.046303,-8.680787,-27.922163,-18.208559,-17.986334,-13.547528,26.723772,-0.7066212,11.4790945,33.63411,-13.140051,-32.881767,-7.006207,17.91896,10.663971,-15.416774,24.180054,20.89702,-3.7520354,-23.717531,-18.287928,33.928074,6.607516,-7.8440185,-6.031979,14.885933,-27.608177,-11.361367,-18.464779,11.58207,-7.1260247,6.360083,-14.456659,-14.363695,-15.789913,-33.336853,13.684427,21.426418,19.762657,-5.470305,18.408278,-6.528938,-19.540047,29.11106,-3.1143196,-8.78769,-17.279919,17.988426,7.7833796,-17.471756,-10.241584,29.063961,-15.663,28.601574,21.657257,-8.11318,-10.66462,-21.79117,-29.73272,8.327364,-16.31328,-31.413322,11.018912,-17.426037,-15.88692,31.228245,-19.451979,-18.750315,14.084273,19.002073,-23.187576,26.620823,-12.609776,28.123049,-11.938164,30.275078,16.402206,13.581037,21.489511,10.598444,4.845849,-26.928907,-33.978943,15.543056,-2.7180312,21.97471,22.41675,28.04309,-12.999246,-31.764967,-5.7664165,-5.8567486,28.687468,4.756439,23.498339,-24.917387,-8.108141,-7.148564,14.988802,-24.978489,-16.089214,21.799053,-20.503906,-20.630915,24.708729,18.393509,-1.3456461,-4.4028735,6.085209,24.095215,4.8355365,-13.8199415,2.0934002,20.089659,12.830661,16.644815,-11.228379,20.456825,-33.268234,9.226368,22.994917,16.068972,13.479453,23.725847,-26.527683,-8.086706,-3.3606434,20.011242,-4.1718016,19.224205,-9.98543,18.345282,-14.844197,21.905485,18.675293,14.293686,6.776855,27.813147,6.7974815,28.627268,14.433999,-13.335666,17.099724,7.5702586,25.860893,6.993272,7.664857,9.405243,-0.2595226,21.940235,31.459587,-7.651815,-1.0668685,13.7215395,-12.763903,0.23506393,-31.7224,-8.025001,-19.943853,-4.799018,-33.98499,16.127798,-12.682027,-3.4132059,27.116325,21.135174,-12.827975,-16.477608,-5.617824,-11.577272,7.8808184,19.117043,-26.554668,-6.694216,-20.817842,22.225399,-6.707548,6.2713933,-25.80128,12.197986,22.192053,23.87447,-4.742776,-13.744646,-11.797003,-15.851584,23.29961,-17.14671,-9.1750965,-5.815082,0.88232243,-4.622277,23.6426,-4.1868753,24.678753,5.856308,25.798132,4.17845,-3.9643598,-3.2181401,0.7621193,-7.2121086,-9.591223,-21.639824,28.596088,-11.126219,8.582065,2.4400687,-19.634785,8.331645,19.401495,-5.6384315,-34.281437,-21.063997,-21.462137,-17.864916,-21.347704,-20.725214,-29.59357,-33.279175,-21.322205,21.807047,-4.1289206,25.930643,-33.952606,-5.179015,-11.047852,22.817669,22.412989,3.2330263,18.867105,7.527171,7.2119756,20.768497,-7.9117413,7.3721857,8.060784,-7.496526,-1.349734,-17.004295,5.439254,22.94427,-10.349179,-12.474577,-29.51556,-6.110829,-10.150511,-0.45692307,-18.072018,19.034168,-8.118757,-8.109666,-33.003048,10.7532625,1.1447363,-11.414013,12.557318,21.057508,-12.377117,10.363358,-27.530579,-4.4494047,-8.478741,-22.647049,-16.067749,-10.516347,19.576954,1.9428759,-15.755399,-2.74351,29.723175,-17.41713,20.501314,14.968846,-18.356846,-16.548016,25.220554,7.2675586,9.351738,1.7553391,-6.7843657,3.8778498,-6.22559,20.571646,8.4999275,5.478362,17.006376,-1.9096296,19.20606,-24.504314,-1.0541172,11.666213,-7.2681046,9.486729,-11.441707,-22.8351,0.85831,7.768402,6.317728,-0.9927106,-0.8158406,-1.1252325,19.446384,30.486036,10.468301,27.968971,16.997484,-7.6862497,-12.102609,-0.45085922,6.360044,8.621992,27.906164,-0.9447931,17.416033,8.209669,-1.2719014,-10.126898,17.567327,18.804983,-15.101414,12.228955,-14.206991,21.474384,7.3581963,-4.3858457,23.187754,-15.687883,7.2193956,21.100779,22.449028,11.838896,19.483831,-12.902642,-32.743458,29.848408,-11.147185,-16.734682,-30.51361,13.761276,19.693216,-0.77053523,12.229894,21.175976,-14.268805,-20.888025,-4.2896447,-26.57807,22.920425,31.221363,-15.075578,23.679144,-20.716751,20.675144,-15.233356,-1.088639,-4.5539107,-8.1622925,-11.232905,-6.8510847,-21.960377,-22.377666,-27.245956,-1.014442,5.8042145,23.303495,-8.097378,24.599466,13.511806,-33.77718,-16.563313,3.8648071,-3.8502715,-4.4487705,-21.324728,-10.003618,-16.618416,11.165215,-22.520401,-17.542223,28.565737,-2.2823951,33.51664,-19.84145,16.507376,-7.0790524,-14.238601,-5.4022055,-11.63317,22.328487,-11.507943,-9.974599,-3.634996,20.114763,-8.4222765,-25.533583,15.09504,-6.836435,19.849287,-3.6233032,-33.95713,-12.553852,-18.211826,-7.9257326,17.997362,-19.069733,-8.84181,17.192093,-32.894695,10.287009,-18.22886,-15.614628,24.556349,-9.976397,-9.400371,-19.885788,11.40845,29.466864,21.063961,-7.4461102,0.7643979,31.732334,12.851119,-7.145725,13.426909,-15.114931,-13.081867,14.59918,-21.17823,33.688705,-3.6464493,16.667822,-13.723291,-23.622915,34.14514,18.359749,6.508308,6.8671794,-4.155504,1.3615086,-11.669025,5.7566805,20.455183,21.364042,-33.074398,-9.538173,-17.570908,-18.083202,-19.418373,4.6783795,26.518982,-22.287222,15.736904,-15.999354,10.35134,7.7832317,3.4236913,-8.825283,-7.440343,-16.409454,-10.364863,7.2190857,17.090988,20.813704,14.386775,-8.247226,-15.44121,-16.664814,-11.108141,-12.900179,-12.358361,-14.980602,22.835045,31.73542,27.767319,-9.708708,4.127677,-3.9099705,23.135292],\"yaxis\":\"y\",\"type\":\"scatter\"}],                        {\"template\":{\"data\":{\"histogram2dcontour\":[{\"type\":\"histogram2dcontour\",\"colorbar\":{\"outlinewidth\":0,\"ticks\":\"\"},\"colorscale\":[[0.0,\"#0d0887\"],[0.1111111111111111,\"#46039f\"],[0.2222222222222222,\"#7201a8\"],[0.3333333333333333,\"#9c179e\"],[0.4444444444444444,\"#bd3786\"],[0.5555555555555556,\"#d8576b\"],[0.6666666666666666,\"#ed7953\"],[0.7777777777777778,\"#fb9f3a\"],[0.8888888888888888,\"#fdca26\"],[1.0,\"#f0f921\"]]}],\"choropleth\":[{\"type\":\"choropleth\",\"colorbar\":{\"outlinewidth\":0,\"ticks\":\"\"}}],\"histogram2d\":[{\"type\":\"histogram2d\",\"colorbar\":{\"outlinewidth\":0,\"ticks\":\"\"},\"colorscale\":[[0.0,\"#0d0887\"],[0.1111111111111111,\"#46039f\"],[0.2222222222222222,\"#7201a8\"],[0.3333333333333333,\"#9c179e\"],[0.4444444444444444,\"#bd3786\"],[0.5555555555555556,\"#d8576b\"],[0.6666666666666666,\"#ed7953\"],[0.7777777777777778,\"#fb9f3a\"],[0.8888888888888888,\"#fdca26\"],[1.0,\"#f0f921\"]]}],\"heatmap\":[{\"type\":\"heatmap\",\"colorbar\":{\"outlinewidth\":0,\"ticks\":\"\"},\"colorscale\":[[0.0,\"#0d0887\"],[0.1111111111111111,\"#46039f\"],[0.2222222222222222,\"#7201a8\"],[0.3333333333333333,\"#9c179e\"],[0.4444444444444444,\"#bd3786\"],[0.5555555555555556,\"#d8576b\"],[0.6666666666666666,\"#ed7953\"],[0.7777777777777778,\"#fb9f3a\"],[0.8888888888888888,\"#fdca26\"],[1.0,\"#f0f921\"]]}],\"heatmapgl\":[{\"type\":\"heatmapgl\",\"colorbar\":{\"outlinewidth\":0,\"ticks\":\"\"},\"colorscale\":[[0.0,\"#0d0887\"],[0.1111111111111111,\"#46039f\"],[0.2222222222222222,\"#7201a8\"],[0.3333333333333333,\"#9c179e\"],[0.4444444444444444,\"#bd3786\"],[0.5555555555555556,\"#d8576b\"],[0.6666666666666666,\"#ed7953\"],[0.7777777777777778,\"#fb9f3a\"],[0.8888888888888888,\"#fdca26\"],[1.0,\"#f0f921\"]]}],\"contourcarpet\":[{\"type\":\"contourcarpet\",\"colorbar\":{\"outlinewidth\":0,\"ticks\":\"\"}}],\"contour\":[{\"type\":\"contour\",\"colorbar\":{\"outlinewidth\":0,\"ticks\":\"\"},\"colorscale\":[[0.0,\"#0d0887\"],[0.1111111111111111,\"#46039f\"],[0.2222222222222222,\"#7201a8\"],[0.3333333333333333,\"#9c179e\"],[0.4444444444444444,\"#bd3786\"],[0.5555555555555556,\"#d8576b\"],[0.6666666666666666,\"#ed7953\"],[0.7777777777777778,\"#fb9f3a\"],[0.8888888888888888,\"#fdca26\"],[1.0,\"#f0f921\"]]}],\"surface\":[{\"type\":\"surface\",\"colorbar\":{\"outlinewidth\":0,\"ticks\":\"\"},\"colorscale\":[[0.0,\"#0d0887\"],[0.1111111111111111,\"#46039f\"],[0.2222222222222222,\"#7201a8\"],[0.3333333333333333,\"#9c179e\"],[0.4444444444444444,\"#bd3786\"],[0.5555555555555556,\"#d8576b\"],[0.6666666666666666,\"#ed7953\"],[0.7777777777777778,\"#fb9f3a\"],[0.8888888888888888,\"#fdca26\"],[1.0,\"#f0f921\"]]}],\"mesh3d\":[{\"type\":\"mesh3d\",\"colorbar\":{\"outlinewidth\":0,\"ticks\":\"\"}}],\"scatter\":[{\"fillpattern\":{\"fillmode\":\"overlay\",\"size\":10,\"solidity\":0.2},\"type\":\"scatter\"}],\"parcoords\":[{\"type\":\"parcoords\",\"line\":{\"colorbar\":{\"outlinewidth\":0,\"ticks\":\"\"}}}],\"scatterpolargl\":[{\"type\":\"scatterpolargl\",\"marker\":{\"colorbar\":{\"outlinewidth\":0,\"ticks\":\"\"}}}],\"bar\":[{\"error_x\":{\"color\":\"#2a3f5f\"},\"error_y\":{\"color\":\"#2a3f5f\"},\"marker\":{\"line\":{\"color\":\"#E5ECF6\",\"width\":0.5},\"pattern\":{\"fillmode\":\"overlay\",\"size\":10,\"solidity\":0.2}},\"type\":\"bar\"}],\"scattergeo\":[{\"type\":\"scattergeo\",\"marker\":{\"colorbar\":{\"outlinewidth\":0,\"ticks\":\"\"}}}],\"scatterpolar\":[{\"type\":\"scatterpolar\",\"marker\":{\"colorbar\":{\"outlinewidth\":0,\"ticks\":\"\"}}}],\"histogram\":[{\"marker\":{\"pattern\":{\"fillmode\":\"overlay\",\"size\":10,\"solidity\":0.2}},\"type\":\"histogram\"}],\"scattergl\":[{\"type\":\"scattergl\",\"marker\":{\"colorbar\":{\"outlinewidth\":0,\"ticks\":\"\"}}}],\"scatter3d\":[{\"type\":\"scatter3d\",\"line\":{\"colorbar\":{\"outlinewidth\":0,\"ticks\":\"\"}},\"marker\":{\"colorbar\":{\"outlinewidth\":0,\"ticks\":\"\"}}}],\"scattermapbox\":[{\"type\":\"scattermapbox\",\"marker\":{\"colorbar\":{\"outlinewidth\":0,\"ticks\":\"\"}}}],\"scatterternary\":[{\"type\":\"scatterternary\",\"marker\":{\"colorbar\":{\"outlinewidth\":0,\"ticks\":\"\"}}}],\"scattercarpet\":[{\"type\":\"scattercarpet\",\"marker\":{\"colorbar\":{\"outlinewidth\":0,\"ticks\":\"\"}}}],\"carpet\":[{\"aaxis\":{\"endlinecolor\":\"#2a3f5f\",\"gridcolor\":\"white\",\"linecolor\":\"white\",\"minorgridcolor\":\"white\",\"startlinecolor\":\"#2a3f5f\"},\"baxis\":{\"endlinecolor\":\"#2a3f5f\",\"gridcolor\":\"white\",\"linecolor\":\"white\",\"minorgridcolor\":\"white\",\"startlinecolor\":\"#2a3f5f\"},\"type\":\"carpet\"}],\"table\":[{\"cells\":{\"fill\":{\"color\":\"#EBF0F8\"},\"line\":{\"color\":\"white\"}},\"header\":{\"fill\":{\"color\":\"#C8D4E3\"},\"line\":{\"color\":\"white\"}},\"type\":\"table\"}],\"barpolar\":[{\"marker\":{\"line\":{\"color\":\"#E5ECF6\",\"width\":0.5},\"pattern\":{\"fillmode\":\"overlay\",\"size\":10,\"solidity\":0.2}},\"type\":\"barpolar\"}],\"pie\":[{\"automargin\":true,\"type\":\"pie\"}]},\"layout\":{\"autotypenumbers\":\"strict\",\"colorway\":[\"#636efa\",\"#EF553B\",\"#00cc96\",\"#ab63fa\",\"#FFA15A\",\"#19d3f3\",\"#FF6692\",\"#B6E880\",\"#FF97FF\",\"#FECB52\"],\"font\":{\"color\":\"#2a3f5f\"},\"hovermode\":\"closest\",\"hoverlabel\":{\"align\":\"left\"},\"paper_bgcolor\":\"white\",\"plot_bgcolor\":\"#E5ECF6\",\"polar\":{\"bgcolor\":\"#E5ECF6\",\"angularaxis\":{\"gridcolor\":\"white\",\"linecolor\":\"white\",\"ticks\":\"\"},\"radialaxis\":{\"gridcolor\":\"white\",\"linecolor\":\"white\",\"ticks\":\"\"}},\"ternary\":{\"bgcolor\":\"#E5ECF6\",\"aaxis\":{\"gridcolor\":\"white\",\"linecolor\":\"white\",\"ticks\":\"\"},\"baxis\":{\"gridcolor\":\"white\",\"linecolor\":\"white\",\"ticks\":\"\"},\"caxis\":{\"gridcolor\":\"white\",\"linecolor\":\"white\",\"ticks\":\"\"}},\"coloraxis\":{\"colorbar\":{\"outlinewidth\":0,\"ticks\":\"\"}},\"colorscale\":{\"sequential\":[[0.0,\"#0d0887\"],[0.1111111111111111,\"#46039f\"],[0.2222222222222222,\"#7201a8\"],[0.3333333333333333,\"#9c179e\"],[0.4444444444444444,\"#bd3786\"],[0.5555555555555556,\"#d8576b\"],[0.6666666666666666,\"#ed7953\"],[0.7777777777777778,\"#fb9f3a\"],[0.8888888888888888,\"#fdca26\"],[1.0,\"#f0f921\"]],\"sequentialminus\":[[0.0,\"#0d0887\"],[0.1111111111111111,\"#46039f\"],[0.2222222222222222,\"#7201a8\"],[0.3333333333333333,\"#9c179e\"],[0.4444444444444444,\"#bd3786\"],[0.5555555555555556,\"#d8576b\"],[0.6666666666666666,\"#ed7953\"],[0.7777777777777778,\"#fb9f3a\"],[0.8888888888888888,\"#fdca26\"],[1.0,\"#f0f921\"]],\"diverging\":[[0,\"#8e0152\"],[0.1,\"#c51b7d\"],[0.2,\"#de77ae\"],[0.3,\"#f1b6da\"],[0.4,\"#fde0ef\"],[0.5,\"#f7f7f7\"],[0.6,\"#e6f5d0\"],[0.7,\"#b8e186\"],[0.8,\"#7fbc41\"],[0.9,\"#4d9221\"],[1,\"#276419\"]]},\"xaxis\":{\"gridcolor\":\"white\",\"linecolor\":\"white\",\"ticks\":\"\",\"title\":{\"standoff\":15},\"zerolinecolor\":\"white\",\"automargin\":true,\"zerolinewidth\":2},\"yaxis\":{\"gridcolor\":\"white\",\"linecolor\":\"white\",\"ticks\":\"\",\"title\":{\"standoff\":15},\"zerolinecolor\":\"white\",\"automargin\":true,\"zerolinewidth\":2},\"scene\":{\"xaxis\":{\"backgroundcolor\":\"#E5ECF6\",\"gridcolor\":\"white\",\"linecolor\":\"white\",\"showbackground\":true,\"ticks\":\"\",\"zerolinecolor\":\"white\",\"gridwidth\":2},\"yaxis\":{\"backgroundcolor\":\"#E5ECF6\",\"gridcolor\":\"white\",\"linecolor\":\"white\",\"showbackground\":true,\"ticks\":\"\",\"zerolinecolor\":\"white\",\"gridwidth\":2},\"zaxis\":{\"backgroundcolor\":\"#E5ECF6\",\"gridcolor\":\"white\",\"linecolor\":\"white\",\"showbackground\":true,\"ticks\":\"\",\"zerolinecolor\":\"white\",\"gridwidth\":2}},\"shapedefaults\":{\"line\":{\"color\":\"#2a3f5f\"}},\"annotationdefaults\":{\"arrowcolor\":\"#2a3f5f\",\"arrowhead\":0,\"arrowwidth\":1},\"geo\":{\"bgcolor\":\"white\",\"landcolor\":\"#E5ECF6\",\"subunitcolor\":\"white\",\"showland\":true,\"showlakes\":true,\"lakecolor\":\"white\"},\"title\":{\"x\":0.05},\"mapbox\":{\"style\":\"light\"}}},\"xaxis\":{\"anchor\":\"y\",\"domain\":[0.0,1.0],\"title\":{\"text\":\"x\"}},\"yaxis\":{\"anchor\":\"x\",\"domain\":[0.0,1.0],\"title\":{\"text\":\"y\"}},\"coloraxis\":{\"colorbar\":{\"title\":{\"text\":\"color\"}},\"colorscale\":[[0.0,\"#0d0887\"],[0.1111111111111111,\"#46039f\"],[0.2222222222222222,\"#7201a8\"],[0.3333333333333333,\"#9c179e\"],[0.4444444444444444,\"#bd3786\"],[0.5555555555555556,\"#d8576b\"],[0.6666666666666666,\"#ed7953\"],[0.7777777777777778,\"#fb9f3a\"],[0.8888888888888888,\"#fdca26\"],[1.0,\"#f0f921\"]]},\"legend\":{\"tracegroupgap\":0},\"margin\":{\"t\":60}},                        {\"responsive\": true}                    ).then(function(){\n",
              "                            \n",
              "var gd = document.getElementById('6dea9007-8acd-495e-85ac-489bc51fc8d4');\n",
              "var x = new MutationObserver(function (mutations, observer) {{\n",
              "        var display = window.getComputedStyle(gd).display;\n",
              "        if (!display || display === 'none') {{\n",
              "            console.log([gd, 'removed!']);\n",
              "            Plotly.purge(gd);\n",
              "            observer.disconnect();\n",
              "        }}\n",
              "}});\n",
              "\n",
              "// Listen for the removal of the full notebook cells\n",
              "var notebookContainer = gd.closest('#notebook-container');\n",
              "if (notebookContainer) {{\n",
              "    x.observe(notebookContainer, {childList: true});\n",
              "}}\n",
              "\n",
              "// Listen for the clearing of the current output cell\n",
              "var outputEl = gd.closest('.output');\n",
              "if (outputEl) {{\n",
              "    x.observe(outputEl, {childList: true});\n",
              "}}\n",
              "\n",
              "                        })                };                            </script>        </div>\n",
              "</body>\n",
              "</html>"
            ]
          },
          "metadata": {}
        }
      ],
      "source": [
        "fig=px.scatter(x=X_reduced_tsne[:,0], y=X_reduced_tsne[:,1], color=y)\n",
        "fig.show()"
      ]
    },
    {
      "cell_type": "markdown",
      "id": "041e973c",
      "metadata": {
        "id": "041e973c"
      },
      "source": [
        "Although the subsample is pretty small, the t-SNE algorithm is able to detect clusters pretty accurately"
      ]
    },
    {
      "cell_type": "markdown",
      "source": [
        "Reference- https://www.geeksforgeeks.org/machine-learning/difference-between-pca-vs-t-sne/"
      ],
      "metadata": {
        "id": "C3tVN2jJfqFF"
      },
      "id": "C3tVN2jJfqFF"
    },
    {
      "cell_type": "markdown",
      "source": [
        "Note-ChatGPT was used to help understand the results using WebSearch Feature."
      ],
      "metadata": {
        "id": "zyztATqbfsRN"
      },
      "id": "zyztATqbfsRN"
    },
    {
      "cell_type": "markdown",
      "id": "85bb3774",
      "metadata": {
        "id": "85bb3774"
      },
      "source": [
        "## Scaling"
      ]
    },
    {
      "cell_type": "code",
      "execution_count": null,
      "id": "7ab1142e",
      "metadata": {
        "colab": {
          "base_uri": "https://localhost:8080/"
        },
        "id": "7ab1142e",
        "outputId": "9b00a826-71d8-4fed-be32-617c0ca54777"
      },
      "outputs": [
        {
          "output_type": "stream",
          "name": "stdout",
          "text": [
            "(275663, 29) (275663,)\n"
          ]
        }
      ],
      "source": [
        "scaler = StandardScaler()\n",
        "X = scaler.fit_transform(df.drop('Class', axis=1))\n",
        "y = df['Class'].values\n",
        "print(X.shape, y.shape)"
      ]
    },
    {
      "cell_type": "markdown",
      "id": "22e31517",
      "metadata": {
        "id": "22e31517"
      },
      "source": [
        "## Splitting the data"
      ]
    },
    {
      "cell_type": "markdown",
      "id": "6fa74b00",
      "metadata": {
        "id": "6fa74b00"
      },
      "source": [
        "we want to test our models on the original testing set not on the testing set created from GAN. The main goal is to fit the model in the generated data, and test it on the original testing set."
      ]
    },
    {
      "cell_type": "code",
      "execution_count": null,
      "id": "f8303d35",
      "metadata": {
        "id": "f8303d35"
      },
      "outputs": [],
      "source": [
        "X_train, X_test, y_train, y_test = train_test_split(X, y, test_size=0.2, random_state=42, stratify=y)"
      ]
    },
    {
      "cell_type": "markdown",
      "id": "50b98b70",
      "metadata": {
        "id": "50b98b70"
      },
      "source": [
        "## GAN Architecture"
      ]
    },
    {
      "cell_type": "code",
      "source": [
        "# For RNN‑based discriminators we treat each feature vector as a sequence of length = n_features\n",
        "seq_len = X_train.shape[1]\n",
        "def to_sequence(X):\n",
        "    return X.reshape(-1, seq_len, 1)\n",
        "\n",
        "# ------------------------------------------------------------\n",
        "# 2. Define the generator (fully connected):contentReference[oaicite:5]{index=5}\n",
        "# ------------------------------------------------------------\n",
        "def build_generator(latent_dim, output_dim):\n",
        "    model = models.Sequential(name='generator')\n",
        "    model.add(layers.Dense(128, activation='relu', input_dim=latent_dim))\n",
        "    model.add(layers.BatchNormalization())\n",
        "    model.add(layers.Dense(256, activation='relu'))\n",
        "    model.add(layers.BatchNormalization())\n",
        "    model.add(layers.Dense(output_dim, activation='tanh'))\n",
        "    return model\n",
        "\n"
      ],
      "metadata": {
        "id": "zL2u47WRNTOr"
      },
      "id": "zL2u47WRNTOr",
      "execution_count": null,
      "outputs": []
    },
    {
      "cell_type": "code",
      "source": [
        "# ------------------------------------------------------------\n",
        "# 3. Define discriminators using RNN, LSTM and GRU:contentReference[oaicite:6]{index=6}\n",
        "# ------------------------------------------------------------\n",
        "def build_rnn_discriminator(seq_len):\n",
        "    model = models.Sequential(name='rnn_discriminator')\n",
        "    model.add(layers.SimpleRNN(64, input_shape=(seq_len,1)))\n",
        "    model.add(layers.Dense(32, activation='relu'))\n",
        "    model.add(layers.Dense(1, activation='sigmoid'))\n",
        "    return model\n",
        "\n",
        "def build_lstm_discriminator(seq_len):\n",
        "    model = models.Sequential(name='lstm_discriminator')\n",
        "    model.add(layers.LSTM(64, input_shape=(seq_len,1)))\n",
        "    model.add(layers.Dense(32, activation='relu'))\n",
        "    model.add(layers.Dense(1, activation='sigmoid'))\n",
        "    return model\n",
        "\n",
        "def build_gru_discriminator(seq_len):\n",
        "    model = models.Sequential(name='gru_discriminator')\n",
        "    model.add(layers.GRU(64, input_shape=(seq_len,1)))\n",
        "    model.add(layers.Dense(32, activation='relu'))\n",
        "    model.add(layers.Dense(1, activation='sigmoid'))\n",
        "    return model\n",
        "\n"
      ],
      "metadata": {
        "id": "PGlVbsXtLMzl"
      },
      "id": "PGlVbsXtLMzl",
      "execution_count": null,
      "outputs": []
    },
    {
      "cell_type": "code",
      "source": [
        "# ------------------------------------------------------------\n",
        "# 4. Training function for GAN with a chosen discriminator\n",
        "# ------------------------------------------------------------\n",
        "class GAN_RNN:\n",
        "    def __init__(self, discriminator_builder, latent_dim=32, lr=1e-4):\n",
        "        self.latent_dim = latent_dim\n",
        "        self.output_dim = seq_len     # number of features\n",
        "\n",
        "        self.generator = build_generator(latent_dim, self.output_dim)\n",
        "        self.discriminator = discriminator_builder(seq_len)\n",
        "        self.d_optimizer = optimizers.Adam(lr)\n",
        "        self.g_optimizer = optimizers.Adam(lr)\n",
        "        self.bce = tf.keras.losses.BinaryCrossentropy()\n",
        "\n",
        "    @tf.function\n",
        "    def train_step(self, real_samples):\n",
        "        batch_size = tf.shape(real_samples)[0]\n",
        "        noise = tf.random.normal([batch_size, self.latent_dim])\n",
        "        with tf.GradientTape() as disc_tape, tf.GradientTape() as gen_tape:\n",
        "            # generate fake samples\n",
        "            generated = self.generator(noise, training=True)\n",
        "            generated_seq = tf.reshape(generated, (-1, seq_len, 1))\n",
        "            real_seq = tf.reshape(real_samples, (-1, seq_len, 1))\n",
        "            # discriminator output\n",
        "            real_output = self.discriminator(real_seq, training=True)\n",
        "            fake_output = self.discriminator(generated_seq, training=True)\n",
        "\n",
        "            d_loss = self.bce(tf.ones_like(real_output), real_output) + \\\n",
        "                     self.bce(tf.zeros_like(fake_output), fake_output)\n",
        "            g_loss = self.bce(tf.ones_like(fake_output), fake_output)\n",
        "        # update discriminator\n",
        "        d_grads = disc_tape.gradient(d_loss, self.discriminator.trainable_variables)\n",
        "        self.d_optimizer.apply_gradients(zip(d_grads, self.discriminator.trainable_variables))\n",
        "        # update generator\n",
        "        g_grads = gen_tape.gradient(g_loss, self.generator.trainable_variables)\n",
        "        self.g_optimizer.apply_gradients(zip(g_grads, self.generator.trainable_variables))\n",
        "        return d_loss, g_loss\n",
        "\n",
        "    def train(self, X, epochs=100, batch_size=256):\n",
        "        dataset = tf.data.Dataset.from_tensor_slices(X).shuffle(buffer_size=1024).batch(batch_size)\n",
        "        for epoch in range(epochs):\n",
        "            for real_batch in dataset:\n",
        "                self.train_step(real_batch)\n",
        "\n",
        "    def generate(self, n_samples):\n",
        "        noise = tf.random.normal([n_samples, self.latent_dim])\n",
        "        gen_samples = self.generator.predict(noise)\n",
        "        return gen_samples\n",
        "\n"
      ],
      "metadata": {
        "id": "zD1fidZ8LQa1"
      },
      "id": "zD1fidZ8LQa1",
      "execution_count": null,
      "outputs": []
    },
    {
      "cell_type": "code",
      "source": [
        "# ------------------------------------------------------------\n",
        "# 5. Train and fine‑tune each GAN variant\n",
        "# ------------------------------------------------------------\n",
        "# Prepare only-fraud samples for training the generator/discriminator\n",
        "fraud_samples = X_train[y_train == 1]\n",
        "# RNN discriminator\n",
        "gan_rnn = GAN_RNN(build_rnn_discriminator)\n",
        "gan_rnn.train(fraud_samples, epochs=200, batch_size=128)\n",
        "\n",
        "\n",
        "\n"
      ],
      "metadata": {
        "colab": {
          "base_uri": "https://localhost:8080/"
        },
        "id": "jYfJArmILTtJ",
        "outputId": "4231ec2c-6d67-49f1-e2da-a71d7212cd9d"
      },
      "id": "jYfJArmILTtJ",
      "execution_count": null,
      "outputs": [
        {
          "output_type": "stream",
          "name": "stderr",
          "text": [
            "/usr/local/lib/python3.11/dist-packages/keras/src/layers/core/dense.py:93: UserWarning:\n",
            "\n",
            "Do not pass an `input_shape`/`input_dim` argument to a layer. When using Sequential models, prefer using an `Input(shape)` object as the first layer in the model instead.\n",
            "\n",
            "/usr/local/lib/python3.11/dist-packages/keras/src/layers/rnn/rnn.py:199: UserWarning:\n",
            "\n",
            "Do not pass an `input_shape`/`input_dim` argument to a layer. When using Sequential models, prefer using an `Input(shape)` object as the first layer in the model instead.\n",
            "\n"
          ]
        }
      ]
    },
    {
      "cell_type": "code",
      "source": [
        "# LSTM discriminator\n",
        "gan_lstm = GAN_RNN(build_lstm_discriminator)\n",
        "gan_lstm.train(fraud_samples, epochs=200, batch_size=128)\n"
      ],
      "metadata": {
        "id": "jKqtpS7hMuMK"
      },
      "id": "jKqtpS7hMuMK",
      "execution_count": null,
      "outputs": []
    },
    {
      "cell_type": "code",
      "source": [
        "# GRU discriminator\n",
        "gan_gru = GAN_RNN(build_gru_discriminator)\n",
        "gan_gru.train(fraud_samples, epochs=200, batch_size=128)"
      ],
      "metadata": {
        "id": "YcG_iuW8Muva"
      },
      "id": "YcG_iuW8Muva",
      "execution_count": null,
      "outputs": []
    },
    {
      "cell_type": "code",
      "source": [
        "# after adversarial training, fine‑tune the discriminator to classify fraud vs legit\n",
        "def fine_tune_discriminator(discriminator, X_train, y_train):\n",
        "    discriminator.compile(\n",
        "        loss='binary_crossentropy',\n",
        "        optimizer=optimizers.Adam(1e-4),\n",
        "        metrics=['accuracy']\n",
        "    )\n",
        "    X_seq = to_sequence(X_train)\n",
        "    discriminator.fit(X_seq, y_train, epochs=10, batch_size=256, validation_split=0.1)\n",
        "\n",
        "fine_tune_discriminator(gan_rnn.discriminator, X_train, y_train)\n",
        "fine_tune_discriminator(gan_lstm.discriminator, X_train, y_train)\n",
        "fine_tune_discriminator(gan_gru.discriminator, X_train, y_train)\n",
        "\n",
        "\n",
        "from sklearn.metrics import roc_auc_score, average_precision_score, classification_report, confusion_matrix\n",
        "\n",
        "def evaluate_discriminator(discriminator, X_test, y_test):\n",
        "    preds = discriminator.predict(to_sequence(X_test))\n",
        "    y_prob = preds.flatten() # flatten predictions for roc_auc_score and average_precision_score\n",
        "    y_pred = (y_prob >= 0.5).astype(int)\n",
        "\n",
        "    roc = roc_auc_score(y_test, y_prob)\n",
        "    pr  = average_precision_score(y_test, y_prob)\n",
        "\n",
        "    print(f\"\\nROC-AUC: {roc:.4f}\")\n",
        "    print(f\"PR-AUC:  {pr:.4f}\\n\")\n",
        "\n",
        "    print(classification_report(y_test, y_pred))\n",
        "    print(confusion_matrix(y_test, y_pred))"
      ],
      "metadata": {
        "colab": {
          "base_uri": "https://localhost:8080/"
        },
        "id": "LuZw1EdvMrst",
        "outputId": "8d7b7a71-039a-4635-b6b5-dd480eec7dfe"
      },
      "id": "LuZw1EdvMrst",
      "execution_count": null,
      "outputs": [
        {
          "output_type": "stream",
          "name": "stdout",
          "text": [
            "Epoch 1/10\n"
          ]
        },
        {
          "output_type": "stream",
          "name": "stderr",
          "text": [
            "/usr/local/lib/python3.11/dist-packages/tensorflow/python/data/ops/structured_function.py:258: UserWarning:\n",
            "\n",
            "Even though the `tf.config.experimental_run_functions_eagerly` option is set, this option does not apply to tf.data functions. To force eager execution of tf.data functions, please use `tf.data.experimental.enable_debug_mode()`.\n",
            "\n"
          ]
        },
        {
          "output_type": "stream",
          "name": "stdout",
          "text": [
            "\u001b[1m776/776\u001b[0m \u001b[32m━━━━━━━━━━━━━━━━━━━━\u001b[0m\u001b[37m\u001b[0m \u001b[1m126s\u001b[0m 162ms/step - accuracy: 0.9911 - loss: 0.0385 - val_accuracy: 0.9987 - val_loss: 0.0047\n",
            "Epoch 2/10\n",
            "\u001b[1m776/776\u001b[0m \u001b[32m━━━━━━━━━━━━━━━━━━━━\u001b[0m\u001b[37m\u001b[0m \u001b[1m142s\u001b[0m 162ms/step - accuracy: 0.9988 - loss: 0.0055 - val_accuracy: 0.9994 - val_loss: 0.0036\n",
            "Epoch 3/10\n",
            "\u001b[1m776/776\u001b[0m \u001b[32m━━━━━━━━━━━━━━━━━━━━\u001b[0m\u001b[37m\u001b[0m \u001b[1m142s\u001b[0m 163ms/step - accuracy: 0.9991 - loss: 0.0053 - val_accuracy: 0.9994 - val_loss: 0.0034\n",
            "Epoch 4/10\n",
            "\u001b[1m776/776\u001b[0m \u001b[32m━━━━━━━━━━━━━━━━━━━━\u001b[0m\u001b[37m\u001b[0m \u001b[1m146s\u001b[0m 169ms/step - accuracy: 0.9992 - loss: 0.0048 - val_accuracy: 0.9997 - val_loss: 0.0027\n",
            "Epoch 5/10\n",
            "\u001b[1m776/776\u001b[0m \u001b[32m━━━━━━━━━━━━━━━━━━━━\u001b[0m\u001b[37m\u001b[0m \u001b[1m138s\u001b[0m 163ms/step - accuracy: 0.9993 - loss: 0.0040 - val_accuracy: 0.9996 - val_loss: 0.0026\n",
            "Epoch 6/10\n",
            "\u001b[1m776/776\u001b[0m \u001b[32m━━━━━━━━━━━━━━━━━━━━\u001b[0m\u001b[37m\u001b[0m \u001b[1m140s\u001b[0m 161ms/step - accuracy: 0.9994 - loss: 0.0038 - val_accuracy: 0.9996 - val_loss: 0.0025\n",
            "Epoch 7/10\n",
            "\u001b[1m776/776\u001b[0m \u001b[32m━━━━━━━━━━━━━━━━━━━━\u001b[0m\u001b[37m\u001b[0m \u001b[1m146s\u001b[0m 167ms/step - accuracy: 0.9995 - loss: 0.0030 - val_accuracy: 0.9996 - val_loss: 0.0025\n",
            "Epoch 8/10\n",
            "\u001b[1m776/776\u001b[0m \u001b[32m━━━━━━━━━━━━━━━━━━━━\u001b[0m\u001b[37m\u001b[0m \u001b[1m139s\u001b[0m 164ms/step - accuracy: 0.9994 - loss: 0.0034 - val_accuracy: 0.9996 - val_loss: 0.0025\n",
            "Epoch 9/10\n",
            "\u001b[1m776/776\u001b[0m \u001b[32m━━━━━━━━━━━━━━━━━━━━\u001b[0m\u001b[37m\u001b[0m \u001b[1m129s\u001b[0m 167ms/step - accuracy: 0.9994 - loss: 0.0033 - val_accuracy: 0.9996 - val_loss: 0.0025\n",
            "Epoch 10/10\n",
            "\u001b[1m776/776\u001b[0m \u001b[32m━━━━━━━━━━━━━━━━━━━━\u001b[0m\u001b[37m\u001b[0m \u001b[1m139s\u001b[0m 162ms/step - accuracy: 0.9994 - loss: 0.0037 - val_accuracy: 0.9996 - val_loss: 0.0024\n",
            "Epoch 1/10\n",
            "\u001b[1m776/776\u001b[0m \u001b[32m━━━━━━━━━━━━━━━━━━━━\u001b[0m\u001b[37m\u001b[0m \u001b[1m248s\u001b[0m 320ms/step - accuracy: 0.9725 - loss: 0.1402 - val_accuracy: 0.9970 - val_loss: 0.0109\n",
            "Epoch 2/10\n",
            "\u001b[1m776/776\u001b[0m \u001b[32m━━━━━━━━━━━━━━━━━━━━\u001b[0m\u001b[37m\u001b[0m \u001b[1m250s\u001b[0m 305ms/step - accuracy: 0.9972 - loss: 0.0107 - val_accuracy: 0.9981 - val_loss: 0.0058\n",
            "Epoch 3/10\n",
            "\u001b[1m776/776\u001b[0m \u001b[32m━━━━━━━━━━━━━━━━━━━━\u001b[0m\u001b[37m\u001b[0m \u001b[1m264s\u001b[0m 307ms/step - accuracy: 0.9981 - loss: 0.0068 - val_accuracy: 0.9990 - val_loss: 0.0036\n",
            "Epoch 4/10\n",
            "\u001b[1m776/776\u001b[0m \u001b[32m━━━━━━━━━━━━━━━━━━━━\u001b[0m\u001b[37m\u001b[0m \u001b[1m237s\u001b[0m 306ms/step - accuracy: 0.9989 - loss: 0.0046 - val_accuracy: 0.9994 - val_loss: 0.0032\n",
            "Epoch 5/10\n",
            "\u001b[1m776/776\u001b[0m \u001b[32m━━━━━━━━━━━━━━━━━━━━\u001b[0m\u001b[37m\u001b[0m \u001b[1m263s\u001b[0m 306ms/step - accuracy: 0.9990 - loss: 0.0049 - val_accuracy: 0.9995 - val_loss: 0.0028\n",
            "Epoch 6/10\n",
            "\u001b[1m776/776\u001b[0m \u001b[32m━━━━━━━━━━━━━━━━━━━━\u001b[0m\u001b[37m\u001b[0m \u001b[1m269s\u001b[0m 315ms/step - accuracy: 0.9991 - loss: 0.0048 - val_accuracy: 0.9995 - val_loss: 0.0027\n",
            "Epoch 7/10\n",
            "\u001b[1m776/776\u001b[0m \u001b[32m━━━━━━━━━━━━━━━━━━━━\u001b[0m\u001b[37m\u001b[0m \u001b[1m237s\u001b[0m 305ms/step - accuracy: 0.9993 - loss: 0.0036 - val_accuracy: 0.9995 - val_loss: 0.0025\n",
            "Epoch 8/10\n",
            "\u001b[1m776/776\u001b[0m \u001b[32m━━━━━━━━━━━━━━━━━━━━\u001b[0m\u001b[37m\u001b[0m \u001b[1m244s\u001b[0m 315ms/step - accuracy: 0.9993 - loss: 0.0038 - val_accuracy: 0.9996 - val_loss: 0.0025\n",
            "Epoch 9/10\n",
            "\u001b[1m776/776\u001b[0m \u001b[32m━━━━━━━━━━━━━━━━━━━━\u001b[0m\u001b[37m\u001b[0m \u001b[1m255s\u001b[0m 306ms/step - accuracy: 0.9994 - loss: 0.0036 - val_accuracy: 0.9995 - val_loss: 0.0027\n",
            "Epoch 10/10\n",
            "\u001b[1m776/776\u001b[0m \u001b[32m━━━━━━━━━━━━━━━━━━━━\u001b[0m\u001b[37m\u001b[0m \u001b[1m263s\u001b[0m 307ms/step - accuracy: 0.9993 - loss: 0.0034 - val_accuracy: 0.9996 - val_loss: 0.0025\n",
            "Epoch 1/10\n",
            "\u001b[1m776/776\u001b[0m \u001b[32m━━━━━━━━━━━━━━━━━━━━\u001b[0m\u001b[37m\u001b[0m \u001b[1m355s\u001b[0m 457ms/step - accuracy: 0.9672 - loss: 0.1661 - val_accuracy: 0.9929 - val_loss: 0.0128\n",
            "Epoch 2/10\n",
            "\u001b[1m776/776\u001b[0m \u001b[32m━━━━━━━━━━━━━━━━━━━━\u001b[0m\u001b[37m\u001b[0m \u001b[1m358s\u001b[0m 461ms/step - accuracy: 0.9948 - loss: 0.0120 - val_accuracy: 0.9979 - val_loss: 0.0082\n",
            "Epoch 3/10\n",
            "\u001b[1m776/776\u001b[0m \u001b[32m━━━━━━━━━━━━━━━━━━━━\u001b[0m\u001b[37m\u001b[0m \u001b[1m358s\u001b[0m 461ms/step - accuracy: 0.9980 - loss: 0.0090 - val_accuracy: 0.9985 - val_loss: 0.0059\n",
            "Epoch 4/10\n",
            "\u001b[1m776/776\u001b[0m \u001b[32m━━━━━━━━━━━━━━━━━━━━\u001b[0m\u001b[37m\u001b[0m \u001b[1m360s\u001b[0m 464ms/step - accuracy: 0.9982 - loss: 0.0076 - val_accuracy: 0.9984 - val_loss: 0.0048\n",
            "Epoch 5/10\n",
            "\u001b[1m776/776\u001b[0m \u001b[32m━━━━━━━━━━━━━━━━━━━━\u001b[0m\u001b[37m\u001b[0m \u001b[1m360s\u001b[0m 464ms/step - accuracy: 0.9984 - loss: 0.0059 - val_accuracy: 0.9984 - val_loss: 0.0045\n",
            "Epoch 6/10\n",
            "\u001b[1m776/776\u001b[0m \u001b[32m━━━━━━━━━━━━━━━━━━━━\u001b[0m\u001b[37m\u001b[0m \u001b[1m361s\u001b[0m 465ms/step - accuracy: 0.9984 - loss: 0.0061 - val_accuracy: 0.9987 - val_loss: 0.0042\n",
            "Epoch 7/10\n",
            "\u001b[1m776/776\u001b[0m \u001b[32m━━━━━━━━━━━━━━━━━━━━\u001b[0m\u001b[37m\u001b[0m \u001b[1m379s\u001b[0m 461ms/step - accuracy: 0.9985 - loss: 0.0061 - val_accuracy: 0.9990 - val_loss: 0.0039\n",
            "Epoch 8/10\n",
            "\u001b[1m776/776\u001b[0m \u001b[32m━━━━━━━━━━━━━━━━━━━━\u001b[0m\u001b[37m\u001b[0m \u001b[1m356s\u001b[0m 459ms/step - accuracy: 0.9987 - loss: 0.0058 - val_accuracy: 0.9993 - val_loss: 0.0037\n",
            "Epoch 9/10\n",
            "\u001b[1m776/776\u001b[0m \u001b[32m━━━━━━━━━━━━━━━━━━━━\u001b[0m\u001b[37m\u001b[0m \u001b[1m358s\u001b[0m 462ms/step - accuracy: 0.9990 - loss: 0.0053 - val_accuracy: 0.9994 - val_loss: 0.0031\n",
            "Epoch 10/10\n",
            "\u001b[1m776/776\u001b[0m \u001b[32m━━━━━━━━━━━━━━━━━━━━\u001b[0m\u001b[37m\u001b[0m \u001b[1m382s\u001b[0m 461ms/step - accuracy: 0.9992 - loss: 0.0049 - val_accuracy: 0.9995 - val_loss: 0.0030\n"
          ]
        }
      ]
    },
    {
      "cell_type": "code",
      "source": [
        "print(\"GAN‑RNN performance:\")\n",
        "evaluate_discriminator(gan_rnn.discriminator, X_test, y_test)\n"
      ],
      "metadata": {
        "colab": {
          "base_uri": "https://localhost:8080/"
        },
        "id": "V6jLuw1qML2J",
        "outputId": "7ea983c8-dd88-43f5-b42f-16a57884a639"
      },
      "id": "V6jLuw1qML2J",
      "execution_count": null,
      "outputs": [
        {
          "output_type": "stream",
          "name": "stdout",
          "text": [
            "GAN‑RNN performance:\n",
            "\u001b[1m1723/1723\u001b[0m \u001b[32m━━━━━━━━━━━━━━━━━━━━\u001b[0m\u001b[37m\u001b[0m \u001b[1m114s\u001b[0m 66ms/step\n",
            "\n",
            "ROC-AUC: 0.9514\n",
            "PR-AUC:  0.8142\n",
            "\n",
            "              precision    recall  f1-score   support\n",
            "\n",
            "           0       1.00      1.00      1.00     55038\n",
            "           1       0.88      0.79      0.83        95\n",
            "\n",
            "    accuracy                           1.00     55133\n",
            "   macro avg       0.94      0.89      0.92     55133\n",
            "weighted avg       1.00      1.00      1.00     55133\n",
            "\n",
            "[[55028    10]\n",
            " [   20    75]]\n"
          ]
        }
      ]
    },
    {
      "cell_type": "code",
      "source": [
        "print(\"GAN‑LSTM performance:\")\n",
        "evaluate_discriminator(gan_lstm.discriminator, X_test, y_test)\n"
      ],
      "metadata": {
        "colab": {
          "base_uri": "https://localhost:8080/"
        },
        "id": "Sq-1g7ILMNx9",
        "outputId": "bbb32f7a-3820-4e55-b943-7b5d9554415d"
      },
      "id": "Sq-1g7ILMNx9",
      "execution_count": null,
      "outputs": [
        {
          "output_type": "stream",
          "name": "stdout",
          "text": [
            "GAN‑LSTM performance:\n",
            "\r\u001b[1m   1/1723\u001b[0m \u001b[37m━━━━━━━━━━━━━━━━━━━━\u001b[0m \u001b[1m3:18\u001b[0m 115ms/step"
          ]
        },
        {
          "output_type": "stream",
          "name": "stderr",
          "text": [
            "/usr/local/lib/python3.11/dist-packages/tensorflow/python/data/ops/structured_function.py:258: UserWarning:\n",
            "\n",
            "Even though the `tf.config.experimental_run_functions_eagerly` option is set, this option does not apply to tf.data functions. To force eager execution of tf.data functions, please use `tf.data.experimental.enable_debug_mode()`.\n",
            "\n"
          ]
        },
        {
          "output_type": "stream",
          "name": "stdout",
          "text": [
            "\u001b[1m1723/1723\u001b[0m \u001b[32m━━━━━━━━━━━━━━━━━━━━\u001b[0m\u001b[37m\u001b[0m \u001b[1m169s\u001b[0m 98ms/step\n",
            "\n",
            "ROC-AUC: 0.9456\n",
            "PR-AUC:  0.7898\n",
            "\n",
            "              precision    recall  f1-score   support\n",
            "\n",
            "           0       1.00      1.00      1.00     55038\n",
            "           1       0.87      0.81      0.84        95\n",
            "\n",
            "    accuracy                           1.00     55133\n",
            "   macro avg       0.93      0.91      0.92     55133\n",
            "weighted avg       1.00      1.00      1.00     55133\n",
            "\n",
            "[[55026    12]\n",
            " [   18    77]]\n"
          ]
        }
      ]
    },
    {
      "cell_type": "code",
      "source": [
        "print(\"GAN‑GRU performance:\")\n",
        "evaluate_discriminator(gan_gru.discriminator, X_test, y_test)"
      ],
      "metadata": {
        "colab": {
          "base_uri": "https://localhost:8080/"
        },
        "id": "QH1IQQPmMPNt",
        "outputId": "07fcd910-e975-46db-b103-a8e91176b5f9"
      },
      "id": "QH1IQQPmMPNt",
      "execution_count": null,
      "outputs": [
        {
          "output_type": "stream",
          "name": "stdout",
          "text": [
            "GAN‑GRU performance:\n"
          ]
        },
        {
          "output_type": "stream",
          "name": "stderr",
          "text": [
            "/usr/local/lib/python3.11/dist-packages/tensorflow/python/data/ops/structured_function.py:258: UserWarning:\n",
            "\n",
            "Even though the `tf.config.experimental_run_functions_eagerly` option is set, this option does not apply to tf.data functions. To force eager execution of tf.data functions, please use `tf.data.experimental.enable_debug_mode()`.\n",
            "\n"
          ]
        },
        {
          "output_type": "stream",
          "name": "stdout",
          "text": [
            "\u001b[1m1723/1723\u001b[0m \u001b[32m━━━━━━━━━━━━━━━━━━━━\u001b[0m\u001b[37m\u001b[0m \u001b[1m259s\u001b[0m 151ms/step\n",
            "\n",
            "ROC-AUC: 0.9188\n",
            "PR-AUC:  0.7339\n",
            "\n",
            "              precision    recall  f1-score   support\n",
            "\n",
            "           0       1.00      1.00      1.00     55038\n",
            "           1       0.86      0.74      0.80        95\n",
            "\n",
            "    accuracy                           1.00     55133\n",
            "   macro avg       0.93      0.87      0.90     55133\n",
            "weighted avg       1.00      1.00      1.00     55133\n",
            "\n",
            "[[55027    11]\n",
            " [   25    70]]\n"
          ]
        }
      ]
    },
    {
      "cell_type": "markdown",
      "source": [
        "Interpretation\n",
        "\n",
        "Overall accuracy is perfect (~100%) because of the extreme imbalance, so ROC-AUC and PR-AUC are more meaningful.\n",
        "\n",
        "GAN-RNN achieved the highest PR-AUC (0.8142), meaning it balances false positives and recall best for anomaly detection.\n",
        "\n",
        "GAN-LSTM had slightly lower PR-AUC (0.7898) but achieved the highest recall (81%) and the best F1 (0.84) among the three.\n",
        "\n",
        "GAN-GRU lagged behind, with weaker recall (74%) and the lowest PR-AUC (0.7339)."
      ],
      "metadata": {
        "id": "5_ejyDxMgQOQ"
      },
      "id": "5_ejyDxMgQOQ"
    },
    {
      "cell_type": "markdown",
      "source": [
        "Conclusion\n",
        "GAN-RNN and GAN-LSTM are both strong contenders:\n",
        "\n",
        "Choose GAN-RNN if you prioritize overall anomaly ranking ability (higher PR-AUC).\n",
        "\n",
        "Choose GAN-LSTM if you prioritize recall (catching more anomalies, fewer misses).\n",
        "\n",
        "GAN-GRU underperforms here and is less suitable compared to RNN/LSTM variants."
      ],
      "metadata": {
        "id": "kQZdK2iFgU6Q"
      },
      "id": "kQZdK2iFgU6Q"
    },
    {
      "cell_type": "markdown",
      "source": [
        "Note-ChatGPT was used to help understand the results of all 3 discriminator and also for code solving code errors while combining the real and synthetic"
      ],
      "metadata": {
        "id": "fEddpN9cgb4w"
      },
      "id": "fEddpN9cgb4w"
    },
    {
      "cell_type": "markdown",
      "source": [
        "References- [A hybrid deep learning approach with generative adversarial network for credit card fraud detection](https://doi.org/10.3390/technologies12100186)"
      ],
      "metadata": {
        "id": "ylfzBWhWg4f9"
      },
      "id": "ylfzBWhWg4f9"
    },
    {
      "cell_type": "code",
      "source": [],
      "metadata": {
        "id": "qm1Li1uygjwd"
      },
      "id": "qm1Li1uygjwd",
      "execution_count": null,
      "outputs": []
    }
  ],
  "metadata": {
    "accelerator": "GPU",
    "colab": {
      "gpuType": "T4",
      "provenance": []
    },
    "kaggle": {
      "accelerator": "none",
      "dataSources": [
        {
          "datasetId": 310,
          "sourceId": 23498,
          "sourceType": "datasetVersion"
        }
      ],
      "dockerImageVersionId": 30822,
      "isGpuEnabled": false,
      "isInternetEnabled": true,
      "language": "python",
      "sourceType": "notebook"
    },
    "kernelspec": {
      "display_name": "Python 3",
      "name": "python3"
    },
    "language_info": {
      "codemirror_mode": {
        "name": "ipython",
        "version": 3
      },
      "file_extension": ".py",
      "mimetype": "text/x-python",
      "name": "python",
      "nbconvert_exporter": "python",
      "pygments_lexer": "ipython3",
      "version": "3.10.12"
    },
    "papermill": {
      "default_parameters": {},
      "duration": 1846.66889,
      "end_time": "2024-12-30T03:00:04.367340",
      "environment_variables": {},
      "exception": null,
      "input_path": "__notebook__.ipynb",
      "output_path": "__notebook__.ipynb",
      "parameters": {},
      "start_time": "2024-12-30T02:29:17.698450",
      "version": "2.6.0"
    }
  },
  "nbformat": 4,
  "nbformat_minor": 5
}